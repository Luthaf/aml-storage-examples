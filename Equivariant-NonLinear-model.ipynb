{
 "cells": [
  {
   "cell_type": "markdown",
   "id": "46b5c7c0",
   "metadata": {
    "hide_input": true,
    "toc": true
   },
   "source": [
    "<h1>Table of Contents<span class=\"tocSkip\"></span></h1>\n",
    "<div class=\"toc\"><ul class=\"toc-item\"><li><span><a href=\"#Manipulate-Hamiltonian-into-blocks\" data-toc-modified-id=\"Manipulate-Hamiltonian-into-blocks-1\"><span class=\"toc-item-num\">1&nbsp;&nbsp;</span>Manipulate Hamiltonian into blocks</a></span></li><li><span><a href=\"#Feature-computation\" data-toc-modified-id=\"Feature-computation-2\"><span class=\"toc-item-num\">2&nbsp;&nbsp;</span>Feature computation</a></span></li><li><span><a href=\"#Feature-Preprocessing\" data-toc-modified-id=\"Feature-Preprocessing-3\"><span class=\"toc-item-num\">3&nbsp;&nbsp;</span>Feature Preprocessing</a></span></li><li><span><a href=\"#Dataset\" data-toc-modified-id=\"Dataset-4\"><span class=\"toc-item-num\">4&nbsp;&nbsp;</span>Dataset</a></span></li><li><span><a href=\"#DataLoader\" data-toc-modified-id=\"DataLoader-5\"><span class=\"toc-item-num\">5&nbsp;&nbsp;</span>DataLoader</a></span></li><li><span><a href=\"#Model\" data-toc-modified-id=\"Model-6\"><span class=\"toc-item-num\">6&nbsp;&nbsp;</span>Model</a></span></li><li><span><a href=\"#Training\" data-toc-modified-id=\"Training-7\"><span class=\"toc-item-num\">7&nbsp;&nbsp;</span>Training</a></span></li><li><span><a href=\"#Evaluation\" data-toc-modified-id=\"Evaluation-8\"><span class=\"toc-item-num\">8&nbsp;&nbsp;</span>Evaluation</a></span></li><li><span><a href=\"#Tests\" data-toc-modified-id=\"Tests-9\"><span class=\"toc-item-num\">9&nbsp;&nbsp;</span>Tests</a></span><ul class=\"toc-item\"><li><span><a href=\"#set-up-wigner-d-rotations-matrices\" data-toc-modified-id=\"set-up-wigner-d-rotations-matrices-9.1\"><span class=\"toc-item-num\">9.1&nbsp;&nbsp;</span>set up wigner-d rotations matrices</a></span></li><li><span><a href=\"#block-wise-rotations\" data-toc-modified-id=\"block-wise-rotations-9.2\"><span class=\"toc-item-num\">9.2&nbsp;&nbsp;</span>block wise rotations</a></span></li><li><span><a href=\"#Rotate-matrix\" data-toc-modified-id=\"Rotate-matrix-9.3\"><span class=\"toc-item-num\">9.3&nbsp;&nbsp;</span>Rotate matrix</a></span></li><li><span><a href=\"#Eigenvalue-tests\" data-toc-modified-id=\"Eigenvalue-tests-9.4\"><span class=\"toc-item-num\">9.4&nbsp;&nbsp;</span>Eigenvalue tests</a></span></li><li><span><a href=\"#check-decoupling-of-blocks\" data-toc-modified-id=\"check-decoupling-of-blocks-9.5\"><span class=\"toc-item-num\">9.5&nbsp;&nbsp;</span>check decoupling of blocks</a></span></li><li><span><a href=\"#check-feature-rotations\" data-toc-modified-id=\"check-feature-rotations-9.6\"><span class=\"toc-item-num\">9.6&nbsp;&nbsp;</span>check feature rotations</a></span></li></ul></li><li><span><a href=\"#need-to-modify-samples-for-features-to-start-from-1\" data-toc-modified-id=\"need-to-modify-samples-for-features-to-start-from-1-10\"><span class=\"toc-item-num\">10&nbsp;&nbsp;</span>need to modify samples for features to start from 1</a></span></li></ul></div>"
   ]
  },
  {
   "cell_type": "code",
   "execution_count": 1,
   "id": "3096d21b",
   "metadata": {
    "ExecuteTime": {
     "end_time": "2023-02-06T17:32:48.888548Z",
     "start_time": "2023-02-06T17:32:48.885877Z"
    }
   },
   "outputs": [],
   "source": [
    "# %load_ext autoreload\n",
    "# %autoreload 2"
   ]
  },
  {
   "cell_type": "code",
   "execution_count": 1,
   "id": "0b2bb576",
   "metadata": {
    "ExecuteTime": {
     "end_time": "2023-02-06T19:36:04.292787Z",
     "start_time": "2023-02-06T19:35:54.812257Z"
    }
   },
   "outputs": [],
   "source": [
    "import numpy as np\n",
    "import torch\n",
    "import json\n",
    "import ase.io\n",
    "from itertools import product\n",
    "import matplotlib.pyplot as plt\n",
    "# from rascal.representations import SphericalExpansion\n",
    "import copy\n",
    "from tqdm import tqdm\n",
    "from ase.units import Hartree\n",
    "\n",
    "from torch_hamiltonian_utils.torch_cg import ClebschGordanReal\n",
    "from torch_hamiltonian_utils.torch_ham import fix_pyscf_l1, dense_to_blocks, blocks_to_dense, couple_blocks, decouple_blocks, hamiltonian_features\n",
    "from torch_hamiltonian_utils.torch_builder import TensorBuilder\n",
    "\n",
    "import equistore\n",
    "from equistore import Labels, TensorBlock, TensorMap\n",
    "from equistore_utils.librascal import  RascalSphericalExpansion, RascalPairExpansion\n",
    "from equistore_utils.acdc_mini import acdc_standardize_keys, cg_increment, cg_combine\n",
    "from equistore_utils.model_hamiltonian import get_feat_keys, get_feat_keys_from_uncoupled \n",
    "\n",
    "import importlib\n",
    "torch.set_default_dtype(torch.float64)"
   ]
  },
  {
   "cell_type": "code",
   "execution_count": 2,
   "id": "d68aeb81",
   "metadata": {
    "ExecuteTime": {
     "end_time": "2023-02-06T19:36:04.301657Z",
     "start_time": "2023-02-06T19:36:04.294480Z"
    }
   },
   "outputs": [],
   "source": [
    "def get_feat_keys_from_uncoupled(block_keys, sigma=None, order_nu=None):\n",
    "    \"\"\"Map UNCOUPLED block keys to corresponding feature key. take as extra input the sigma, nu value if required.\n",
    "    sigma=0 returns all possible sigma values at given 'nu'\"\"\"\n",
    "    blocktype, species1, n1, l1, species2, n2, l2 = block_keys\n",
    "    feat_blocktype = blocktype\n",
    "    keys_L=[]\n",
    "    for L in range(abs(l1-l2), l1+l2+1):\n",
    "        if sigma is None:\n",
    "            z = (l1+l2+L)%2\n",
    "            inv_sigma = 1 - 2*z\n",
    "        elif abs(sigma)==1:\n",
    "            inv_sigma = sigma\n",
    "        else: \n",
    "            raise(\"Please check sigma value, it should be +1 or -1\")\n",
    "        \n",
    "        #if blocktype == 1 and n1 == n2 and l1 == l2:\n",
    "        #    feat_blocktype = inv_sigma\n",
    "                 \n",
    "        if inv_sigma == -1 and blocktype == 0 and n1 == n2 and l1 == l2:\n",
    "            continue     \n",
    "        \n",
    "        keys_L.append([(order_nu, inv_sigma, L, species1, species2, feat_blocktype)])\n",
    "    #     feat= (blocktype, L,sigma,species1, species2)\n",
    "    feat = Labels([\"order_nu\", \"inversion_sigma\", \"spherical_harmonics_l\", \"species_center\", \"species_neighbor\", \"block_type\"], np.asarray(keys_L, dtype=np.int32).reshape(-1,6))\n",
    "    return feat"
   ]
  },
  {
   "cell_type": "code",
   "execution_count": 3,
   "id": "10faaf55",
   "metadata": {
    "ExecuteTime": {
     "end_time": "2023-02-06T19:36:04.360121Z",
     "start_time": "2023-02-06T19:36:04.334928Z"
    }
   },
   "outputs": [],
   "source": [
    "def lowdin_orthogonalize(fock, s):\n",
    "    \"\"\"\n",
    "    lowdin orthogonalization of a fock matrix computing the square root of the overlap matrix\n",
    "    \"\"\"\n",
    "    eva, eve = np.linalg.eigh(s)\n",
    "    sm12 = eve @ np.diag(1.0/np.sqrt(eva)) @ eve.T\n",
    "    return sm12 @ fock @ sm12"
   ]
  },
  {
   "cell_type": "code",
   "execution_count": 4,
   "id": "4b86aa3a",
   "metadata": {
    "ExecuteTime": {
     "end_time": "2023-02-06T19:36:04.644913Z",
     "start_time": "2023-02-06T19:36:04.361638Z"
    }
   },
   "outputs": [],
   "source": [
    "frames = ase.io.read(\"data/ethene/coords_ethene_1000.xyz\",\":200\")\n",
    "for f in frames:\n",
    "    f.cell = [100,100,100]\n",
    "    f.positions += 50 \n",
    "\n",
    "jorbs = json.load(open('data/ethene/orbs-sto3g.json', \"r\"))\n",
    "orbs = {}\n",
    "zdic = {\"O\" : 8, \"H\":1, \"C\":6}\n",
    "for k in jorbs:\n",
    "    orbs[zdic[k]] = jorbs[k]\n",
    "\n",
    "focks = np.load(\"data/ethene/ethene-sto3g-fock-ortho.npy\", allow_pickle=True)[:len(frames)]\n",
    "#overlaps = np.load(\"data/ethene/ethene-sto3g-overlap.npy\", allow_pickle=True)[:len(frames)]"
   ]
  },
  {
   "cell_type": "markdown",
   "id": "7dfe543a",
   "metadata": {},
   "source": [
    "## Hyperparameters for feature calculation"
   ]
  },
  {
   "cell_type": "code",
   "execution_count": 5,
   "id": "db22e8cf",
   "metadata": {},
   "outputs": [],
   "source": [
    "rascal_hypers = {\n",
    "    \"interaction_cutoff\": 4.0,\n",
    "    \"cutoff_smooth_width\": 0.5,\n",
    "    \"max_radial\": 6,\n",
    "    \"max_angular\": 4,\n",
    "    \"gaussian_sigma_constant\" : 0.3,\n",
    "    \"gaussian_sigma_type\": \"Constant\",\n",
    "    \"compute_gradients\":  False,\n",
    "}\n",
    "lmax = rascal_hypers[\"max_angular\"]\n",
    "cg = ClebschGordanReal(lmax)"
   ]
  },
  {
   "cell_type": "markdown",
   "id": "73c8cfe3",
   "metadata": {},
   "source": [
    "## Feature calculation"
   ]
  },
  {
   "cell_type": "code",
   "execution_count": 6,
   "id": "13064b3f",
   "metadata": {
    "ExecuteTime": {
     "end_time": "2023-02-06T19:36:05.561138Z",
     "start_time": "2023-02-06T19:36:05.487376Z"
    }
   },
   "outputs": [],
   "source": [
    "spex = RascalSphericalExpansion(rascal_hypers)\n",
    "rhoi = spex.compute(frames)"
   ]
  },
  {
   "cell_type": "code",
   "execution_count": 7,
   "id": "cc39e55f",
   "metadata": {
    "ExecuteTime": {
     "end_time": "2023-02-06T19:36:05.672601Z",
     "start_time": "2023-02-06T19:36:05.562322Z"
    }
   },
   "outputs": [],
   "source": [
    "pairs = RascalPairExpansion(rascal_hypers)\n",
    "gij = pairs.compute(frames)"
   ]
  },
  {
   "cell_type": "code",
   "execution_count": 8,
   "id": "abf74c18",
   "metadata": {
    "ExecuteTime": {
     "end_time": "2023-02-06T19:36:05.714916Z",
     "start_time": "2023-02-06T19:36:05.674433Z"
    }
   },
   "outputs": [],
   "source": [
    "rho1i = acdc_standardize_keys(rhoi)\n",
    "rho1i = rho1i.keys_to_properties(['species_neighbor'])\n",
    "gij =  acdc_standardize_keys(gij)"
   ]
  },
  {
   "cell_type": "code",
   "execution_count": 9,
   "id": "6a666711",
   "metadata": {
    "ExecuteTime": {
     "end_time": "2023-02-06T19:36:06.296929Z",
     "start_time": "2023-02-06T19:36:05.716462Z"
    }
   },
   "outputs": [],
   "source": [
    "rho2i = cg_increment(rho1i, rho1i, lcut=lmax, other_keys_match=[\"species_center\"], clebsch_gordan=cg)"
   ]
  },
  {
   "cell_type": "code",
   "execution_count": 10,
   "id": "4565f04d",
   "metadata": {
    "ExecuteTime": {
     "end_time": "2023-02-06T19:36:06.946140Z",
     "start_time": "2023-02-06T19:36:06.942526Z"
    }
   },
   "outputs": [],
   "source": [
    "#rho3i = cg_increment(rho2i, rho1i, lcut=2, other_keys_match=[\"species_center\"], clebsch_gordan=cg)"
   ]
  },
  {
   "cell_type": "code",
   "execution_count": 11,
   "id": "bdcb6035",
   "metadata": {
    "ExecuteTime": {
     "end_time": "2023-02-06T19:36:08.120033Z",
     "start_time": "2023-02-06T19:36:07.441462Z"
    }
   },
   "outputs": [],
   "source": [
    "rho1ij = cg_increment(rho1i, gij, lcut=lmax, other_keys_match=[\"species_center\"], clebsch_gordan=cg)"
   ]
  },
  {
   "cell_type": "code",
   "execution_count": 12,
   "id": "0c5d9d42",
   "metadata": {
    "ExecuteTime": {
     "end_time": "2023-02-06T19:36:08.124429Z",
     "start_time": "2023-02-06T19:36:08.121919Z"
    }
   },
   "outputs": [],
   "source": [
    "#rho2ij = cg_increment(rho2i, gij, lcut=2, other_keys_match=[\"species_center\"], clebsch_gordan=cg)"
   ]
  },
  {
   "cell_type": "code",
   "execution_count": 13,
   "id": "b29eb700",
   "metadata": {
    "ExecuteTime": {
     "end_time": "2023-02-06T19:36:08.286694Z",
     "start_time": "2023-02-06T19:36:08.126318Z"
    }
   },
   "outputs": [],
   "source": [
    "features = hamiltonian_features(rho2i, rho1ij)"
   ]
  },
  {
   "cell_type": "code",
   "execution_count": 14,
   "id": "7eeb7fa0",
   "metadata": {
    "ExecuteTime": {
     "end_time": "2023-02-06T19:36:08.293007Z",
     "start_time": "2023-02-06T19:36:08.289110Z"
    }
   },
   "outputs": [
    {
     "data": {
      "text/plain": [
       "TensorMap with 63 blocks\n",
       "keys: ['order_nu' 'inversion_sigma' 'spherical_harmonics_l' 'species_center' 'species_neighbor' 'block_type']\n",
       "           2             1                    0                   1                1              0\n",
       "           2             1                    1                   1                1              0\n",
       "           2             1                    2                   1                1              0\n",
       "        ...\n",
       "           2            -1                    3                   6                6             -1\n",
       "           2            -1                    4                   6                6              1\n",
       "           2            -1                    4                   6                6             -1"
      ]
     },
     "execution_count": 14,
     "metadata": {},
     "output_type": "execute_result"
    }
   ],
   "source": [
    "features"
   ]
  },
  {
   "cell_type": "code",
   "execution_count": 15,
   "id": "d7bf0c77",
   "metadata": {
    "ExecuteTime": {
     "end_time": "2023-02-06T19:36:09.566117Z",
     "start_time": "2023-02-06T19:36:08.482335Z"
    }
   },
   "outputs": [],
   "source": [
    "from equistore.io import save\n",
    "save(\"features-ethene-sto3g.npz\", features)"
   ]
  },
  {
   "cell_type": "markdown",
   "id": "597c7da8",
   "metadata": {},
   "source": [
    "## Feature Preprocessing"
   ]
  },
  {
   "cell_type": "code",
   "execution_count": 16,
   "id": "08174c9b",
   "metadata": {
    "ExecuteTime": {
     "end_time": "2023-02-06T19:36:09.576264Z",
     "start_time": "2023-02-06T19:36:09.568334Z"
    }
   },
   "outputs": [],
   "source": [
    "def normalize_feats(feat, all_blocks=True): \n",
    "    all_norm = 0\n",
    "    normalized_blocks=[]\n",
    "    for block_idx, block in feat: \n",
    "        block_norm = np.linalg.norm(block.values)\n",
    "#         print(block_idx, block_norm)\n",
    "        all_norm = block_norm**2 * len(block.samples) \n",
    "    \n",
    "        newblock = TensorBlock(\n",
    "                        values=block.values/np.sqrt(all_norm ),\n",
    "                        samples=block.samples,\n",
    "                        components=block.components,\n",
    "                        properties= block.properties)                    \n",
    "        normalized_blocks.append(newblock) \n",
    "        \n",
    "    norm_feat = TensorMap(feat.keys, normalized_blocks)\n",
    "    raise Exception (\"Dont do it!\")\n",
    "    return norm_feat"
   ]
  },
  {
   "cell_type": "code",
   "execution_count": 22,
   "id": "279a28b3",
   "metadata": {
    "ExecuteTime": {
     "end_time": "2023-02-06T19:36:09.625063Z",
     "start_time": "2023-02-06T19:36:09.577966Z"
    }
   },
   "outputs": [],
   "source": [
    "#norm_feat = normalize_feats(features)"
   ]
  },
  {
   "cell_type": "code",
   "execution_count": 23,
   "id": "e55b753b",
   "metadata": {
    "ExecuteTime": {
     "end_time": "2023-02-06T19:36:09.674273Z",
     "start_time": "2023-02-06T19:36:09.627414Z"
    }
   },
   "outputs": [],
   "source": [
    "# from equistore.io import save\n",
    "# save(\"./norm_feat.npz\", norm_feat)"
   ]
  },
  {
   "cell_type": "markdown",
   "id": "720ad712",
   "metadata": {},
   "source": [
    "## Manipulate Hamiltonian into blocks"
   ]
  },
  {
   "cell_type": "code",
   "execution_count": 16,
   "id": "461e38a9",
   "metadata": {
    "ExecuteTime": {
     "end_time": "2023-02-06T19:36:05.464335Z",
     "start_time": "2023-02-06T19:36:05.362511Z"
    }
   },
   "outputs": [],
   "source": [
    "blocks = dense_to_blocks(focks, frames, orbs)\n",
    "fock_bc = couple_blocks(blocks, cg)"
   ]
  },
  {
   "cell_type": "markdown",
   "id": "27106a59",
   "metadata": {},
   "source": [
    "## Dataset"
   ]
  },
  {
   "cell_type": "code",
   "execution_count": 17,
   "id": "4e4ffec4",
   "metadata": {
    "ExecuteTime": {
     "end_time": "2023-02-07T10:47:24.977413Z",
     "start_time": "2023-02-07T10:47:24.965586Z"
    }
   },
   "outputs": [],
   "source": [
    "from equistore.io import _labels_from_npz\n",
    "import equistore.operations as operations\n",
    "\n",
    "class HamiltonianDataset(torch.utils.data.Dataset):\n",
    "    #Dataset class\n",
    "    def __init__(self, feature_path, target, fock, frames, feature_nu = 2):\n",
    "        #\n",
    "        self.features = np.load(feature_path, mmap_mode = 'r')\n",
    "        #self.target = np.load(target_path, mmap_mode = 'r') \n",
    "        self.target = target #Uncoupled hamiltonian \n",
    "        #self.target = np.load(fock_path, mmap_mode = 'r')\n",
    "        self.fock = torch.tensor(fock) #fock matrix\n",
    "        self.keys_features = equistore.io._labels_from_npz(self.features[\"keys\"])\n",
    "        self.currentkey = self.target.keys[0]\n",
    "        self.feature_nu = feature_nu\n",
    "        self.frames = frames\n",
    "        \n",
    "        self.allfeatkey = []\n",
    "        for t_key in self.target.keys:\n",
    "            feature_key = self.get_feature_keys(t_key)\n",
    "            self.allfeatkey.append(feature_key)\n",
    "        #Remove Duplicates\n",
    "        nodupes = set()\n",
    "        for x in self.allfeatkey:\n",
    "            if len(x) > 1:\n",
    "                for z in x:\n",
    "                    nodupes.add(tuple(z))\n",
    "            else:\n",
    "                nodupes.add(tuple(x[0]))\n",
    "        \n",
    "        nodupes = np.array(list(nodupes), np.int32)\n",
    "        \n",
    "        self.allfeatkey = Labels(names = self.allfeatkey[0].dtype.names, values = nodupes)\n",
    "        \n",
    "\n",
    "    def __len__(self):\n",
    "        return len(self.frames)\n",
    "    \n",
    "    def __getitem__(self, structure_idx):\n",
    "        feature_block, feature_key = self.generate_feature_block(self.features, structure_idx)        \n",
    "        #samples_filter, target_block_samples = self.get_index_from_idx(self.target.block(self.currentkey).samples, structure_idx)\n",
    "\n",
    "        if self.currentkey is None:\n",
    "            target_block = self.fock[sorted(structure_idx)]\n",
    "        else:\n",
    "            target_block = operations.slice_block(self.target.block(self.currentkey), \n",
    "                                                  samples = Labels(names = ['structure'], \n",
    "                                                    values = (np.array(structure_idx)+1).reshape(-1,1)) )\n",
    "        structure = [self.frames[i] for i in sorted(structure_idx)]\n",
    "        #Modify feature_block to tensormap\n",
    "        feature_map = TensorMap(feature_key, feature_block)\n",
    "        return feature_map, target_block, structure\n",
    "\n",
    "\n",
    "    def get_feature_keys(self,uncoupled_key):\n",
    "        return get_feat_keys_from_uncoupled(uncoupled_key, order_nu = self.feature_nu)\n",
    "    \n",
    "    def generate_feature_block(self, memmap, structure_idx):\n",
    "        #Generate the block from npz file\n",
    "        output = []\n",
    "        if self.currentkey is None:\n",
    "            feature_key = self.allfeatkey\n",
    "                \n",
    "        else:\n",
    "            feature_key = self.get_feature_keys(self.currentkey)\n",
    "            \n",
    "        for key in feature_key:\n",
    "            block_index = list(self.keys_features).index(key)\n",
    "            prefix = f\"blocks/{block_index}/values\"        \n",
    "            block_samples = equistore.io._labels_from_npz(memmap[f\"{prefix}/samples\"])\n",
    "            block_components = []\n",
    "            for i in range(1):\n",
    "                block_components.append(equistore.io._labels_from_npz(memmap[f\"{prefix}/components/{i}\"]))\n",
    "            block_properties = equistore.io._labels_from_npz(memmap[f\"{prefix}/properties\"])\n",
    "             \n",
    "\n",
    "            samples_filter, block_samples = self.get_index_from_idx(block_samples, structure_idx)\n",
    "            \n",
    "\n",
    "            block_data = memmap[f\"{prefix}/data\"][samples_filter]\n",
    "            block = TensorBlock(block_data, block_samples, block_components, block_properties)\n",
    "            output.append(block)\n",
    "        return output, feature_key\n",
    "    \n",
    "    def get_n_properties(self, memmap, key):\n",
    "        block_index = list(self.keys_features).index(key)\n",
    "        prefix = f\"blocks/{block_index}/values\"  \n",
    "        block_properties = equistore.io._labels_from_npz(memmap[f\"{prefix}/properties\"])\n",
    "        \n",
    "        return len(block_properties)\n",
    "    \n",
    "    def get_index_from_idx(self, block_samples, structure_idx):\n",
    "        #Get samples label from IDX\n",
    "        samples = Labels(names = ['structure'], values = np.array(structure_idx).reshape(-1,1))\n",
    "        \n",
    "        all_samples = block_samples[['structure']].tolist()\n",
    "        set_samples_to_slice = set(samples.tolist())\n",
    "        samples_filter = np.array(\n",
    "            [sample in set_samples_to_slice for sample in all_samples]\n",
    "        )\n",
    "        new_samples = block_samples[samples_filter]\n",
    "\n",
    "        return samples_filter, new_samples\n",
    "    \n",
    "    def collate_output_values(blocks):\n",
    "        feature_out = []\n",
    "        target_out = []\n",
    "        for sample_output in blocks:\n",
    "            feature_block, target_block, structure = sample_output\n",
    "            for z in feature_block:\n",
    "                feature_out.append(torch.tensor(z.values))\n",
    "            target_out.append(torch.tensor(target_block.values))\n",
    "\n",
    "        return feature_out, target_out"
   ]
  },
  {
   "cell_type": "code",
   "execution_count": 18,
   "id": "b8ac1d81",
   "metadata": {
    "ExecuteTime": {
     "end_time": "2023-02-07T10:47:25.034221Z",
     "start_time": "2023-02-07T10:47:24.979379Z"
    }
   },
   "outputs": [],
   "source": [
    "#test_target_path = \"./test_fock.npz\"\n",
    "test_feature_path = \"./features-ethene-sto3g.npz\"\n",
    "test = HamiltonianDataset(test_feature_path, blocks, focks, frames)"
   ]
  },
  {
   "cell_type": "markdown",
   "id": "90ffe2cd",
   "metadata": {},
   "source": [
    "## DataLoader"
   ]
  },
  {
   "cell_type": "code",
   "execution_count": 76,
   "id": "8c336070",
   "metadata": {
    "ExecuteTime": {
     "end_time": "2023-02-07T11:01:55.381711Z",
     "start_time": "2023-02-07T11:01:55.378061Z"
    }
   },
   "outputs": [],
   "source": [
    "def collate_blocks(block_tuple):\n",
    "    feature_tensor_map, target_block, structure_array = block_tuple[0]\n",
    "    \n",
    "    return feature_tensor_map, target_block, structure_array"
   ]
  },
  {
   "cell_type": "code",
   "execution_count": 35,
   "id": "3c4dd925",
   "metadata": {
    "ExecuteTime": {
     "end_time": "2023-02-07T12:31:03.632080Z",
     "start_time": "2023-02-07T12:31:03.621532Z"
    }
   },
   "outputs": [],
   "source": [
    "from torch.utils.data import DataLoader, BatchSampler, SubsetRandomSampler\n",
    "\n",
    "Sampler = torch.utils.data.sampler.RandomSampler(test)\n",
    "BSampler = torch.utils.data.sampler.BatchSampler(Sampler, batch_size =int(len(frames)/10), drop_last = False)\n",
    "\n",
    "dataloader = DataLoader(test, sampler = BSampler, collate_fn=lambda x: tuple(x[0]))"
   ]
  },
  {
   "cell_type": "markdown",
   "id": "b704bdf2",
   "metadata": {},
   "source": [
    "## Model "
   ]
  },
  {
   "cell_type": "code",
   "execution_count": 20,
   "id": "79125947",
   "metadata": {
    "ExecuteTime": {
     "end_time": "2023-02-07T11:14:38.877275Z",
     "start_time": "2023-02-07T11:14:38.874272Z"
    }
   },
   "outputs": [],
   "source": [
    "from scipy.stats import rankdata\n",
    "\n",
    "def get_block_samples(t_key, feature_map):\n",
    "    f_key = get_feat_keys_from_uncoupled(t_key, None , 2)\n",
    "    ss = feature_map.block(f_key[0]).samples.copy()\n",
    "    ss[\"structure\"] = rankdata(np.abs(ss[\"structure\"]), method='dense') -1 \n",
    "    return ss"
   ]
  },
  {
   "cell_type": "code",
   "execution_count": 21,
   "id": "ee997771",
   "metadata": {
    "ExecuteTime": {
     "end_time": "2023-02-07T10:58:14.016060Z",
     "start_time": "2023-02-07T10:58:13.979757Z"
    }
   },
   "outputs": [],
   "source": [
    "class HamModel(torch.nn.Module):\n",
    "    #Handles prediction of entire hamiltonian and derived results\n",
    "    def __init__(self, Hamiltonian_Dataset, device, regularization=None, seed=None, layer_size=None):\n",
    "        super().__init__()\n",
    "        self.models = torch.nn.ModuleDict()\n",
    "        self.loss_history={}\n",
    "        self.device = device\n",
    "        self.target_keys = Hamiltonian_Dataset.target.keys\n",
    "        self.block_samples = {}\n",
    "        self.block_components = {}\n",
    "        for key in Hamiltonian_Dataset.target.keys:\n",
    "            self.block_components[str(key)] = Hamiltonian_Dataset.target.block(key).components\n",
    "        \n",
    "            n_inputs = []\n",
    "            model_keys = []\n",
    "            feature_keys = Hamiltonian_Dataset.get_feature_keys(key)\n",
    "            invar_key = feature_keys[0].copy()\n",
    "            invar_key['spherical_harmonics_l'] = 0\n",
    "            invar_size = Hamiltonian_Dataset.get_n_properties(Hamiltonian_Dataset.features, invar_key)\n",
    "            for f_key in feature_keys: \n",
    "                n_features = Hamiltonian_Dataset.get_n_properties(Hamiltonian_Dataset.features, f_key)\n",
    "                n_inputs.append(n_features)\n",
    "                model_keys.append(f_key)\n",
    "                \n",
    "                \n",
    "            n_outputs = np.ones_like(n_inputs)\n",
    "            self.models[str(key)] = BlockModel(cg.decouple,invar_size, n_inputs, \n",
    "                                               n_outputs, device, model_keys, key, \n",
    "                                               seed = seed, hiddenSize = layer_size)\n",
    "        self.to(device)\n",
    "            \n",
    "    def forward(self, x):\n",
    "        pred_blocks = []\n",
    "        for t_key in self.target_keys:\n",
    "            pred = self.models[str(t_key)].forward(x) #feature_tensormap must correspond to the correct features, model returns block\n",
    "\n",
    "            pred_block = TensorBlock(\n",
    "                    values=pred.reshape((-1, (2 * t_key['l_i'])+1, (2 * t_key['l_j']) + 1, 1)), #?\n",
    "                    samples = get_block_samples(t_key, x),\n",
    "                    components = self.block_components[str(t_key)] ,\n",
    "                    properties= Labels([\"dummy\"], np.asarray([[0]], dtype=np.int32))\n",
    "                )\n",
    "            \n",
    "            pred_blocks.append(pred_block)\n",
    "        \n",
    "        pred_hamiltonian = TensorMap(self.target_keys, pred_blocks)\n",
    "        return(pred_hamiltonian)"
   ]
  },
  {
   "cell_type": "code",
   "execution_count": 22,
   "id": "3f59845d",
   "metadata": {
    "ExecuteTime": {
     "end_time": "2023-02-07T11:30:42.198252Z",
     "start_time": "2023-02-07T11:30:42.184392Z"
    }
   },
   "outputs": [],
   "source": [
    "class BlockModel(torch.nn.Module): #Currently only 1 model per block\n",
    "    def __init__(self, reconstruction_function, InvarInputSize, inputSize, outputSize, device, keys, target_key, seed = None, hiddenSize = None):\n",
    "        super().__init__()\n",
    "        self.reconstruction_function = reconstruction_function\n",
    "        self.InvarInputSize = InvarInputSize\n",
    "        self.inputSize = inputSize\n",
    "        self.outputSize = outputSize\n",
    "        self.device = device\n",
    "        self.keys = keys\n",
    "        self.target_key = target_key\n",
    "        self.hiddenSize = hiddenSize\n",
    "        self.initialize_model(seed)\n",
    "        \n",
    "        self.to(device)\n",
    "    \n",
    "    def initialize_model(self, seed):\n",
    "        \n",
    "        if seed is not None:\n",
    "            torch.manual_seed(seed)\n",
    "        \n",
    "        self.models = torch.nn.ModuleDict()\n",
    "        for index, key in enumerate(self.keys):\n",
    "            self.models[str(key)] = EquivariantNNModel(self.InvarInputSize, self.inputSize[index], \n",
    "                                                       self.hiddenSize, self.outputSize[index])\n",
    "        \n",
    "    def forward(self, feature_tensormap):\n",
    "        #Block model uses feature keys\n",
    "        pred_values = {}\n",
    "        for key in self.keys:\n",
    "            feature_values = feature_tensormap.block(key).values\n",
    "            d1, d2, d3 = feature_values.shape\n",
    "            L = int((d2 -1)/2)\n",
    "            if key['spherical_harmonics_l'] == 0:\n",
    "                invariant = torch.tensor(feature_values.reshape(-1,d3))\n",
    "                pred = self.models[str(key)](torch.tensor(feature_values.reshape(d1 * d2, d3)), invariant, d2)\n",
    "            \n",
    "            elif key['spherical_harmonics_l'] == 1 and key['inversion_sigma'] == -1:\n",
    "                invariant_key = key.copy()\n",
    "                invariant_key['spherical_harmonics_l'] = 0\n",
    "                invariant_key['inversion_sigma'] = 1\n",
    "                invariant = torch.tensor(feature_tensormap.block(invariant_key).values)\n",
    "                invariant = invariant.reshape(-1, invariant.shape[2])\n",
    "                pred = self.models[str(key)](torch.tensor(feature_values.reshape(d1 * d2, d3)), invariant, d2)\n",
    "                \n",
    "            else:\n",
    "                invariant_key = key.copy()\n",
    "                invariant_key['spherical_harmonics_l'] = 0\n",
    "                invariant = torch.tensor(feature_tensormap.block(invariant_key).values)\n",
    "                invariant = invariant.reshape(-1, invariant.shape[2])\n",
    "                pred = self.models[str(key)](torch.tensor(feature_values.reshape(d1 * d2, d3)), invariant, d2)\n",
    "            \n",
    "            pred = pred.reshape(d1,d2)\n",
    "            pred_values[L] = pred\n",
    "        \n",
    "        pred_block_values = self.reconstruction_function({(self.target_key['l_i'],self.target_key['l_j']) : pred_values})\n",
    "        \n",
    "        return pred_block_values "
   ]
  },
  {
   "cell_type": "code",
   "execution_count": 24,
   "id": "ef681fdd",
   "metadata": {},
   "outputs": [],
   "source": [
    "class EquivariantNNModel(torch.nn.Module):\n",
    "    def __init__(\n",
    "        self,\n",
    "        invar_input_size: int,\n",
    "        input_size: int,\n",
    "        hidden_size: int,\n",
    "        output_size: int,\n",
    "    ):\n",
    "        \"\"\" \"\"\"\n",
    "        super().__init__()\n",
    "        \n",
    "        self.input_layer = torch.nn.Linear(input_size, hidden_size, bias=False) \n",
    "        self.invariant_nn = torch.nn.Sequential(\n",
    "            torch.nn.Linear(invar_input_size, hidden_size), \n",
    "            torch.nn.LayerNorm(hidden_size),\n",
    "            torch.nn.SiLU(),\n",
    "            #torch.nn.Linear(hidden_size, hidden_size),\n",
    "            #torch.nn.SiLU(),\n",
    "            #torch.nn.Linear(hidden_size, hidden_size)\n",
    "            )\n",
    "        self.output_layer = torch.nn.Linear(hidden_size, output_size, bias=False)\n",
    "        \n",
    "    def forward(self, input: torch.Tensor, invariant: torch.Tensor, M):\n",
    "        \n",
    "        invar = self.invariant_nn(invariant)\n",
    "        nonlinear_multiplier = torch.vstack([invar]*M)  \n",
    "        \n",
    "        linear_input = self.input_layer(input)        \n",
    "        nonlinear_input = torch.mul(linear_input, \n",
    "                                    nonlinear_multiplier)\n",
    "        \n",
    "        return self.output_layer(nonlinear_input)"
   ]
  },
  {
   "cell_type": "markdown",
   "id": "93a88f0b",
   "metadata": {},
   "source": [
    "## Training"
   ]
  },
  {
   "cell_type": "code",
   "execution_count": 25,
   "id": "3049caf2",
   "metadata": {
    "ExecuteTime": {
     "end_time": "2023-02-07T12:31:58.604640Z",
     "start_time": "2023-02-07T12:31:58.590585Z"
    }
   },
   "outputs": [],
   "source": [
    "def mse_block_values(pred, true):\n",
    "    true = true.reshape(true.shape[:-1]) \n",
    "    MSE = torch.sum(torch.pow(true - pred,2)) / torch.numel(true)\n",
    "    return torch.mean(MSE)*(Hartree)**2\n",
    "\n",
    "def mse_full(pred_blocks, fock,frame, orbs):\n",
    "    predicted = blocks_to_dense(pred_blocks, frame, orbs)\n",
    "    #fock = torch.tensor(focks)\n",
    "    #print (mse_full_blockwise(pred_blocks, blocks, frame, orbs))\n",
    "    mse_loss = torch.empty(len(frame))\n",
    "    for i in range(len(frame)):\n",
    "        mse_loss[i] = ((torch.linalg.norm(fock[i]-predicted[i]))**2)/torch.numel(fock[i])\n",
    "        #print(\"from mse\", i, fock[i], mse_loss[i])\n",
    "    return torch.mean(mse_loss)*(Hartree)**2#, mse_loss\n",
    "\n",
    "def mse_full_blockwise(pred_blocks, block_tensormap, frame, orbs):\n",
    "    indiv_mse = torch.zeros(1)\n",
    "    \n",
    "    for key,block in pred_blocks:\n",
    "        #MSE = ((torch.linalg.norm(block_tensormap.block(key).values-block.values))**2)\n",
    "        print (key)\n",
    "        print (((torch.linalg.norm(block_tensormap.block(key).values- block.values))**2)/ torch.numel(block_tensormap.block(key).values))\n",
    "        print (torch.sum(torch.pow(block_tensormap.block(key).values - block.values, 2)) / torch.numel(block_tensormap.block(key).values))\n",
    "        MSE = torch.sum(torch.pow(block_tensormap.block(key).values - block.values, 2)) / torch.numel(block_tensormap.block(key).values)\n",
    "        indiv_mse += MSE\n",
    "    \n",
    "    return (indiv_mse/len(frame))*(Hartree)**2, indiv_mse\n",
    "    \n",
    "def mse_eigvals(pred_blocks, fock, frame, orbs):\n",
    "    predicted = blocks_to_dense(pred_blocks, frame, orbs)\n",
    "    evanorm = torch.empty(len(frame))\n",
    "    for i in range(len(frame)):\n",
    "        evanorm[i] = torch.mean((torch.linalg.eigvalsh(fock[i]) - torch.linalg.eigvalsh(predicted[i]))**2)/len(fock[i])\n",
    "    return torch.mean(evanorm)*(Hartree)**2\n"
   ]
  },
  {
   "cell_type": "code",
   "execution_count": 54,
   "id": "36b78810",
   "metadata": {},
   "outputs": [],
   "source": [
    "model = HamModel(test, \"cpu\", None, 1234, 16)"
   ]
  },
  {
   "cell_type": "code",
   "execution_count": 72,
   "id": "980fa4d5",
   "metadata": {},
   "outputs": [],
   "source": [
    "# optimizer = torch.optim.LBFGS(\n",
    "#         model.parameters(),\n",
    "#         lr=4,  line_search_fn=\"strong_wolfe\",\n",
    "#         history_size=256, tolerance_grad=1e-20, tolerance_change=1e-20\n",
    "#     )"
   ]
  },
  {
   "cell_type": "code",
   "execution_count": null,
   "id": "62b6b513",
   "metadata": {
    "scrolled": true
   },
   "outputs": [],
   "source": [
    "# all_losses = []\n",
    "# for epoch in range(50):\n",
    "#     dataloader.dataset.currentkey = None\n",
    "#     for x_data, y_data, structure in dataloader:    \n",
    "#         def single_step():\n",
    "#             optimizer.zero_grad()\n",
    "#             pred = model(x_data)\n",
    "#             loss = mse_full(pred, y_data, structure, orbs)\n",
    "#             loss.backward()\n",
    "#             return loss\n",
    "\n",
    "#         loss = optimizer.step(single_step)\n",
    "\n",
    "#         all_losses.append(loss.item())\n",
    "\n",
    "#         if epoch % 1 == 0:\n",
    "#             print(epoch, loss.item()) "
   ]
  },
  {
   "cell_type": "code",
   "execution_count": 55,
   "id": "8efd7805",
   "metadata": {},
   "outputs": [],
   "source": [
    "optimizer = torch.optim.AdamW(\n",
    "        model.parameters(),\n",
    "        lr=0.01)\n",
    "scheduler = torch.optim.lr_scheduler.MultiStepLR(optimizer, milestones=[5000,8000], gamma=0.1)"
   ]
  },
  {
   "cell_type": "code",
   "execution_count": null,
   "id": "a061e3c9",
   "metadata": {
    "scrolled": true
   },
   "outputs": [],
   "source": [
    "all_losses = []\n",
    "for epoch in range(10000):\n",
    "    dataloader.dataset.currentkey = None\n",
    "    for x_data, y_data, structure in dataloader:    \n",
    "        optimizer.zero_grad()\n",
    "        pred = model(x_data)\n",
    "        loss = mse_eigvals(pred, y_data, structure, orbs)\n",
    "        loss.backward()\n",
    "\n",
    "        optimizer.step()\n",
    "        scheduler.step()\n",
    "        all_losses.append(loss.item())\n",
    "        lr = optimizer.param_groups[0][\"lr\"]\n",
    "        \n",
    "        if epoch % 100 == 0:\n",
    "            print(\"Epoch %d: Train_loss= %.6f AdamW lr= %.4f\" % (epoch, loss.item(), lr))"
   ]
  },
  {
   "cell_type": "code",
   "execution_count": 29,
   "id": "e2657c85",
   "metadata": {},
   "outputs": [
    {
     "data": {
      "text/plain": [
       "[<matplotlib.lines.Line2D at 0x7fcc480fb700>]"
      ]
     },
     "execution_count": 29,
     "metadata": {},
     "output_type": "execute_result"
    },
    {
     "data": {
      "image/png": "[encoded data removed]",
      "text/plain": [
       "<Figure size 432x288 with 1 Axes>"
      ]
     },
     "metadata": {
      "needs_background": "light"
     },
     "output_type": "display_data"
    }
   ],
   "source": [
    "plt.loglog(all_losses)"
   ]
  },
  {
   "cell_type": "markdown",
   "id": "c5122692",
   "metadata": {},
   "source": [
    "## Evaluation"
   ]
  },
  {
   "cell_type": "code",
   "execution_count": 45,
   "id": "71152afb",
   "metadata": {},
   "outputs": [],
   "source": [
    "test_frames = ase.io.read(\"data/ethene/coords_ethene_1000.xyz\",\"800:1000\")\n",
    "for f in test_frames:\n",
    "    f.cell = [100,100,100]\n",
    "    f.positions += 50\n",
    "test_focks = np.load(\"data/ethene/ethene-sto3g-fock-ortho.npy\", allow_pickle=True)[800:1000]\n",
    "  \n",
    "test_blocks = dense_to_blocks(test_focks, test_frames, orbs)\n",
    "test_fock_bc = couple_blocks(test_blocks, cg)"
   ]
  },
  {
   "cell_type": "code",
   "execution_count": 46,
   "id": "08b2103d",
   "metadata": {},
   "outputs": [],
   "source": [
    "test_rhoi = spex.compute(test_frames)\n",
    "test_gij = pairs.compute(test_frames)\n",
    "test_rho1i = acdc_standardize_keys(test_rhoi)\n",
    "test_rho1i = test_rho1i.keys_to_properties(['species_neighbor'])\n",
    "test_gij =  acdc_standardize_keys(test_gij)\n",
    "test_rho2i = cg_increment(test_rho1i, test_rho1i, lcut=lmax, other_keys_match=[\"species_center\"], clebsch_gordan=cg)\n",
    "test_rho1ij = cg_increment(test_rho1i, test_gij, lcut=lmax, other_keys_match=[\"species_center\"], clebsch_gordan=cg)\n",
    "\n",
    "test_features = hamiltonian_features(test_rho2i, test_rho1ij)\n",
    "\n",
    "save(\"test_feature-ethene-sto3g.npz\", test_features)"
   ]
  },
  {
   "cell_type": "code",
   "execution_count": 47,
   "id": "227a3353",
   "metadata": {},
   "outputs": [],
   "source": [
    "test_feature_path = \"./test_feature-ethene-sto3g.npz\"\n",
    "test_data = HamiltonianDataset(test_feature_path, test_blocks, test_focks, test_frames)"
   ]
  },
  {
   "cell_type": "code",
   "execution_count": 48,
   "id": "f7cb7ac2",
   "metadata": {},
   "outputs": [],
   "source": [
    "test_Sampler = torch.utils.data.sampler.RandomSampler(test_data)\n",
    "test_BSampler = torch.utils.data.sampler.BatchSampler(test_Sampler, batch_size = len(test_frames), drop_last = False)\n",
    "test_dataloader = DataLoader(test_data, sampler = test_BSampler, collate_fn = collate_blocks)"
   ]
  },
  {
   "cell_type": "code",
   "execution_count": 89,
   "id": "10acacd8",
   "metadata": {},
   "outputs": [
    {
     "name": "stdout",
     "output_type": "stream",
     "text": [
      "RMSE_full with LBFGS training in eV is: tensor(0.0178, grad_fn=<SqrtBackward0>)\n",
      "tensor(0.0153, grad_fn=<SqrtBackward0>)\n"
     ]
    }
   ],
   "source": [
    "test_dataloader.dataset.currentkey = None\n",
    "for x_data, y_data, structures in test_dataloader:\n",
    "    t_pred = model(x_data)\n",
    "    rmse_full = torch.sqrt(mse_full(t_pred, y_data, structures, orbs))\n",
    "    rmse_eigvals = torch.sqrt(mse_eigvals(t_pred, y_data, structures, orbs))\n",
    "    print(\"RMSE_full with LBFGS training in eV is:\", rmse_full) \n",
    "    print(rmse_eigvals)"
   ]
  },
  {
   "cell_type": "markdown",
   "id": "bc669ae9",
   "metadata": {},
   "source": [
    "### Test for equivariance of the Model"
   ]
  },
  {
   "cell_type": "code",
   "execution_count": 68,
   "id": "bd34ecde",
   "metadata": {},
   "outputs": [],
   "source": [
    "rot_frames = frames.copy()\n",
    "for i, f in enumerate(rot_frames):\n",
    "    f.positions = 50+(50-frames[i].positions[:,[2,0,1]])\n",
    "    f.positions[:,]"
   ]
  },
  {
   "cell_type": "code",
   "execution_count": 69,
   "id": "d4072bd7",
   "metadata": {},
   "outputs": [],
   "source": [
    "rot_rhoi = spex.compute(rot_frames)\n",
    "rot_gij = pairs.compute(rot_frames)\n",
    "rot_rho1i = acdc_standardize_keys(rot_rhoi)\n",
    "rot_rho1i = rot_rho1i.keys_to_properties(['species_neighbor'])\n",
    "rot_gij =  acdc_standardize_keys(rot_gij)\n",
    "rot_rho2i = cg_increment(rot_rho1i, rot_rho1i, lcut=lmax, other_keys_match=[\"species_center\"], clebsch_gordan=cg)\n",
    "rot_rho1ij = cg_increment(rot_rho1i, rot_gij, lcut=lmax, other_keys_match=[\"species_center\"], clebsch_gordan=cg)"
   ]
  },
  {
   "cell_type": "code",
   "execution_count": 70,
   "id": "7b91e732",
   "metadata": {},
   "outputs": [],
   "source": [
    "rot_features = hamiltonian_features(rot_rho2i, rot_rho1ij)\n",
    "\n",
    "#from equistore.io import save\n",
    "save(\"rot_feature.npz\", rot_features)"
   ]
  },
  {
   "cell_type": "code",
   "execution_count": 71,
   "id": "51bc0689",
   "metadata": {},
   "outputs": [],
   "source": [
    "feature_path = \"./rot_feature.npz\"\n",
    "rot_dataset = HamiltonianDataset(feature_path, blocks, focks, frames)"
   ]
  },
  {
   "cell_type": "code",
   "execution_count": 80,
   "id": "34d22f4c",
   "metadata": {},
   "outputs": [
    {
     "data": {
      "text/plain": [
       "tensor([-0.7622, -0.5788, -0.4673, -0.4172, -0.3533, -0.2686,  0.0197,  0.1209,\n",
       "         0.1427,  0.1599,  0.2443,  0.3364], grad_fn=<LinalgEighBackward0>)"
      ]
     },
     "execution_count": 80,
     "metadata": {},
     "output_type": "execute_result"
    }
   ],
   "source": [
    "rot_pred = model(rot_features)\n",
    "rot_pred_fock = blocks_to_dense(rot_pred, rot_frames, orbs)\n",
    "torch.linalg.eigvalsh(rot_pred_fock[2])"
   ]
  },
  {
   "cell_type": "code",
   "execution_count": 81,
   "id": "49acc490",
   "metadata": {},
   "outputs": [
    {
     "data": {
      "text/plain": [
       "tensor([-0.7622, -0.5788, -0.4673, -0.4172, -0.3533, -0.2686,  0.0197,  0.1209,\n",
       "         0.1427,  0.1599,  0.2443,  0.3364], grad_fn=<LinalgEighBackward0>)"
      ]
     },
     "execution_count": 81,
     "metadata": {},
     "output_type": "execute_result"
    }
   ],
   "source": [
    "pred = model(features)\n",
    "pred_fock = blocks_to_dense(pred, frames, orbs)\n",
    "torch.linalg.eigvalsh(pred_fock[2])"
   ]
  },
  {
   "cell_type": "code",
   "execution_count": 74,
   "id": "b2fa800f",
   "metadata": {},
   "outputs": [
    {
     "data": {
      "text/plain": [
       "array([-0.75831876, -0.57684645, -0.46718615, -0.41763745, -0.35112173,\n",
       "       -0.26901738,  0.02139503,  0.12038302,  0.14226228,  0.15995097,\n",
       "        0.2452729 ,  0.33607859])"
      ]
     },
     "execution_count": 74,
     "metadata": {},
     "output_type": "execute_result"
    }
   ],
   "source": [
    "np.linalg.eigvalsh(focks[2])"
   ]
  },
  {
   "cell_type": "code",
   "execution_count": 59,
   "id": "c72c6f68",
   "metadata": {},
   "outputs": [
    {
     "data": {
      "image/png": "[encoded data removed]",
      "text/plain": [
       "<Figure size 432x288 with 2 Axes>"
      ]
     },
     "metadata": {
      "needs_background": "light"
     },
     "output_type": "display_data"
    }
   ],
   "source": [
    "figure = plt.figure()\n",
    "axes = figure.add_subplot(111)\n",
    " \n",
    "caxes = axes.matshow(rot_pred_fock[0].cpu().detach().numpy()- pred_fock[0].cpu().detach().numpy(), interpolation ='nearest')\n",
    "figure.colorbar(caxes)\n",
    " \n",
    "plt.show()"
   ]
  },
  {
   "cell_type": "code",
   "execution_count": null,
   "id": "6ea43859",
   "metadata": {},
   "outputs": [],
   "source": []
  }
 ],
 "metadata": {
  "celltoolbar": "Raw Cell Format",
  "kernelspec": {
   "display_name": "Python 3 (ipykernel)",
   "language": "python",
   "name": "python3"
  },
  "language_info": {
   "codemirror_mode": {
    "name": "ipython",
    "version": 3
   },
   "file_extension": ".py",
   "mimetype": "text/x-python",
   "name": "python",
   "nbconvert_exporter": "python",
   "pygments_lexer": "ipython3",
   "version": "3.8.10"
  },
  "toc": {
   "base_numbering": 1,
   "nav_menu": {},
   "number_sections": true,
   "sideBar": true,
   "skip_h1_title": false,
   "title_cell": "Table of Contents",
   "title_sidebar": "Contents",
   "toc_cell": true,
   "toc_position": {
    "height": "786px",
    "left": "27px",
    "top": "111.133px",
    "width": "213px"
   },
   "toc_section_display": true,
   "toc_window_display": true
  }
 },
 "nbformat": 4,
 "nbformat_minor": 5
}
