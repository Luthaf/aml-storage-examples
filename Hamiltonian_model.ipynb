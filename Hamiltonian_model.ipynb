{
 "cells": [
  {
   "cell_type": "code",
   "execution_count": 1,
   "id": "d32d2824",
   "metadata": {},
   "outputs": [],
   "source": [
    "%load_ext autoreload\n",
    "%autoreload 2\n",
    "%load_ext line_profiler"
   ]
  },
  {
   "cell_type": "code",
   "execution_count": 2,
   "id": "43edc0bf",
   "metadata": {},
   "outputs": [],
   "source": [
    "import numpy as np\n",
    "import json\n",
    "from equistore import Labels, TensorBlock, TensorMap, TensorSlice\n",
    "from utils.builder import TensorBuilder\n",
    "import ase.io\n",
    "from itertools import product\n",
    "from utils.acdc_mini import acdc_standardize_keys, cg_increment, cg_combine, _remove_suffix\n",
    "from utils.clebsh_gordan import ClebschGordanReal\n",
    "from utils.hamiltonians import fix_pyscf_l1, dense_to_blocks, blocks_to_dense, couple_blocks, decouple_blocks, hamiltonian_features\n",
    "import matplotlib.pyplot as plt\n",
    "from utils.librascal import  RascalSphericalExpansion, RascalPairExpansion\n",
    "from rascal.representations import SphericalExpansion\n",
    "import copy\n",
    "from utils.model_hamiltonian import *"
   ]
  },
  {
   "cell_type": "markdown",
   "id": "918830e0",
   "metadata": {},
   "source": [
    "## Manipulate Hamiltonian into blocks"
   ]
  },
  {
   "cell_type": "code",
   "execution_count": 5,
   "id": "77b04c26",
   "metadata": {},
   "outputs": [],
   "source": [
    "frames = ase.io.read(\"data/hamiltonian/water-hamiltonian/water_coords_1000.xyz\",\":20\")\n",
    "for f in frames:\n",
    "    f.cell = [100,100,100]\n",
    "    f.positions += 50"
   ]
  },
  {
   "cell_type": "code",
   "execution_count": 6,
   "id": "041c41dc",
   "metadata": {},
   "outputs": [],
   "source": [
    "#jorbs = json.load(open('data/water-hamiltonian/water_orbs.json', \"r\"))\n",
    "jorbs = json.loads(json.load(open('data/hamiltonian/water-hamiltonian/water_orbs.json', \"r\")))\n",
    "orbs = {}\n",
    "zdic = {\"O\" : 8, \"H\":1}\n",
    "for k in jorbs:\n",
    "    orbs[zdic[k]] = jorbs[k]"
   ]
  },
  {
   "cell_type": "code",
   "execution_count": 7,
   "id": "31a5ecc9",
   "metadata": {},
   "outputs": [],
   "source": [
    "hams = np.load(\"data/hamiltonian/water-hamiltonian/water_saph_orthogonal.npy\", allow_pickle=True)[:len(frames)]\n",
    "# NO NEED TO CORRECT L1 ORDER FOR SAPH ORTHOGONALIZED MATRICES...\n",
    "#for i, f in enumerate(frames):\n",
    "#    hams[i] = fix_pyscf_l1(hams[i], f, orbs)\n",
    "\n",
    "blocks = dense_to_blocks(hams, frames, orbs)"
   ]
  },
  {
   "cell_type": "code",
   "execution_count": 8,
   "id": "1bdea7cb",
   "metadata": {},
   "outputs": [],
   "source": [
    "cg = ClebschGordanReal(5)"
   ]
  },
  {
   "cell_type": "code",
   "execution_count": 9,
   "id": "8c77e922",
   "metadata": {},
   "outputs": [],
   "source": [
    "coupled = couple_blocks(blocks, cg)\n",
    "\n",
    "fock_bc = coupled"
   ]
  },
  {
   "cell_type": "markdown",
   "id": "f3369119",
   "metadata": {},
   "source": [
    "## Feature computation"
   ]
  },
  {
   "cell_type": "code",
   "execution_count": 10,
   "id": "82adea0c",
   "metadata": {},
   "outputs": [],
   "source": [
    "rascal_hypers = {\n",
    "    \"interaction_cutoff\": 2.5,\n",
    "    \"cutoff_smooth_width\": 0.5,\n",
    "    \"max_radial\": 4,\n",
    "    \"max_angular\": 3,\n",
    "    \"gaussian_sigma_type\": \"Constant\",\n",
    "    \"compute_gradients\":  False,\n",
    "}\n",
    "\n",
    "spex = RascalSphericalExpansion(rascal_hypers)\n",
    "rhoi = spex.compute(frames)"
   ]
  },
  {
   "cell_type": "code",
   "execution_count": 11,
   "id": "24bb5576",
   "metadata": {},
   "outputs": [],
   "source": [
    "pairs = RascalPairExpansion(rascal_hypers)\n",
    "gij = pairs.compute(frames)"
   ]
  },
  {
   "cell_type": "code",
   "execution_count": 12,
   "id": "2f1965cb",
   "metadata": {},
   "outputs": [],
   "source": [
    "mc_rho1i = acdc_standardize_keys(rhoi)\n",
    "mc_rho1i.keys_to_properties(['species_neighbor'])\n",
    "mc_gij =  acdc_standardize_keys(gij)"
   ]
  },
  {
   "cell_type": "code",
   "execution_count": 13,
   "id": "ac6479a2",
   "metadata": {},
   "outputs": [],
   "source": [
    "?cg_increment"
   ]
  },
  {
   "cell_type": "code",
   "execution_count": 14,
   "id": "44d7c55e",
   "metadata": {},
   "outputs": [
    {
     "name": "stdout",
     "output_type": "stream",
     "text": [
      "CPU times: user 43.5 ms, sys: 3.15 ms, total: 46.6 ms\n",
      "Wall time: 50.1 ms\n"
     ]
    }
   ],
   "source": [
    "%%time\n",
    "mc_rho2i = cg_increment(mc_rho1i, mc_rho1i, lcut=4, other_keys_match=[\"species_center\"], clebsch_gordan=cg)"
   ]
  },
  {
   "cell_type": "code",
   "execution_count": 15,
   "id": "8d0cbec6",
   "metadata": {},
   "outputs": [
    {
     "name": "stdout",
     "output_type": "stream",
     "text": [
      "CPU times: user 1.88 s, sys: 248 ms, total: 2.13 s\n",
      "Wall time: 3.34 s\n"
     ]
    }
   ],
   "source": [
    "%%time\n",
    "mc_rho3i = cg_increment(mc_rho2i, mc_rho1i, lcut=4, other_keys_match=[\"species_center\"], clebsch_gordan=cg)"
   ]
  },
  {
   "cell_type": "code",
   "execution_count": 16,
   "id": "a2956e55",
   "metadata": {},
   "outputs": [
    {
     "name": "stdout",
     "output_type": "stream",
     "text": [
      "CPU times: user 56.5 ms, sys: 4.77 ms, total: 61.2 ms\n",
      "Wall time: 72.3 ms\n"
     ]
    }
   ],
   "source": [
    "%%time\n",
    "mc_rho1ij = cg_increment(mc_rho1i, mc_gij, lcut=4, other_keys_match=[\"species_center\"], clebsch_gordan=cg)"
   ]
  },
  {
   "cell_type": "code",
   "execution_count": 17,
   "id": "26b5b058",
   "metadata": {},
   "outputs": [
    {
     "name": "stdout",
     "output_type": "stream",
     "text": [
      "CPU times: user 2.59 s, sys: 392 ms, total: 2.99 s\n",
      "Wall time: 4.71 s\n"
     ]
    }
   ],
   "source": [
    "%%time\n",
    "mc_rho2ij = cg_increment(mc_rho2i, mc_gij, lcut=4, other_keys_match=[\"species_center\"], clebsch_gordan=cg)"
   ]
  },
  {
   "cell_type": "code",
   "execution_count": 18,
   "id": "d3a29a90",
   "metadata": {},
   "outputs": [],
   "source": [
    "%lprun -f cg_combine cg_increment(mc_rho2i, mc_gij, lcut=4, other_keys_match=[\"species_center\"], clebsch_gordan=cg)"
   ]
  },
  {
   "cell_type": "code",
   "execution_count": 19,
   "id": "f2bf98a4",
   "metadata": {},
   "outputs": [
    {
     "data": {
      "text/plain": [
       "0.0020953616386120977"
      ]
     },
     "execution_count": 19,
     "metadata": {},
     "output_type": "execute_result"
    }
   ],
   "source": [
    "np.linalg.norm(mc_rho2i.block(0).values)\n",
    "# 0.001486930385468841"
   ]
  },
  {
   "cell_type": "code",
   "execution_count": 20,
   "id": "804faf72",
   "metadata": {},
   "outputs": [],
   "source": [
    "ham_feats = hamiltonian_features(mc_rho3i, mc_rho2ij)"
   ]
  },
  {
   "cell_type": "markdown",
   "id": "4acce87c",
   "metadata": {},
   "source": [
    "## Testing model on one structure"
   ]
  },
  {
   "cell_type": "code",
   "execution_count": 22,
   "id": "1028e7d7",
   "metadata": {},
   "outputs": [
    {
     "data": {
      "text/plain": [
       "('structure', 'center', 'neighbor')"
      ]
     },
     "execution_count": 22,
     "metadata": {},
     "output_type": "execute_result"
    }
   ],
   "source": [
    "mc_rho2ij.block(0).samples.names"
   ]
  },
  {
   "cell_type": "code",
   "execution_count": 23,
   "id": "f69cee92",
   "metadata": {},
   "outputs": [
    {
     "name": "stdout",
     "output_type": "stream",
     "text": [
      "CPU times: user 636 ms, sys: 149 ms, total: 785 ms\n",
      "Wall time: 1.67 s\n"
     ]
    }
   ],
   "source": [
    "%%time\n",
    "ts = TensorSlice(ham_feats,                  \n",
    "                 Labels(names=[\"structure\"], values=np.asarray([1,3,5,7,9], dtype=np.int32).reshape(-1,1)),\n",
    "                 Labels(names=[\"species_neighbor_1\", \"species_neighbor_2\"], values=np.asarray([[1,1],[1,8]], dtype=np.int32).reshape(-1,2)),\n",
    "                )"
   ]
  },
  {
   "cell_type": "code",
   "execution_count": 24,
   "id": "16f1124b",
   "metadata": {},
   "outputs": [
    {
     "data": {
      "text/plain": [
       "Labels([(1, 1, 1), (1, 2, 2), (3, 1, 1), (3, 2, 2), (5, 1, 1), (5, 2, 2),\n",
       "        (7, 1, 1), (7, 2, 2), (9, 1, 1), (9, 2, 2)],\n",
       "       dtype=[('structure', '<i4'), ('center', '<i4'), ('neighbor', '<i4')])"
      ]
     },
     "execution_count": 24,
     "metadata": {},
     "output_type": "execute_result"
    }
   ],
   "source": [
    "ts.block(0).samples"
   ]
  },
  {
   "cell_type": "code",
   "execution_count": 25,
   "id": "49c98164",
   "metadata": {},
   "outputs": [],
   "source": [
    "%lprun -f TensorSlice TensorSlice(ham_feats, Labels(names=[\"structure\"], values=np.asarray([1,3,5,7,9], dtype=np.int32).reshape(-1,1)), Labels(names=[\"species_neighbor_1\", \"species_neighbor_2\"], values=np.asarray([[1,1],[1,8]], dtype=np.int32).reshape(-1,2)),)"
   ]
  },
  {
   "cell_type": "code",
   "execution_count": 27,
   "id": "b90984b0",
   "metadata": {},
   "outputs": [],
   "source": [
    "FR = Fock_regression(jorbs, alpha=1e-18)"
   ]
  },
  {
   "cell_type": "code",
   "execution_count": 29,
   "id": "fb6ca409",
   "metadata": {},
   "outputs": [],
   "source": [
    "FR.fit(TensorSlice(ham_feats, Labels(names=[\"structure\"], values=np.asarray(range(10), dtype=np.int32).reshape(-1,1)) ),\n",
    "       TensorSlice(fock_bc,  Labels(names=[\"structure\"], values=np.asarray(range(10), dtype=np.int32).reshape(-1,1)) ))"
   ]
  },
  {
   "cell_type": "code",
   "execution_count": 30,
   "id": "6a614b5a",
   "metadata": {},
   "outputs": [],
   "source": [
    "pred = FR.predict(ham_feats)"
   ]
  },
  {
   "cell_type": "code",
   "execution_count": 30,
   "id": "38dd743e",
   "metadata": {},
   "outputs": [
    {
     "name": "stdout",
     "output_type": "stream",
     "text": [
      "(0, 8, 2, 0, 8, 2, 0, 0)\n",
      "[ 4.71319868e-08 -6.37841173e-08  2.68430359e-07 -3.17283964e-08\n",
      "  1.06961786e-06 -1.93050949e-07  1.78976749e-07 -7.14982457e-07\n",
      "  1.64223885e-07 -7.01954202e-07 -1.95926202e-04 -4.81467938e-04\n",
      " -1.07633182e-04 -1.49969167e-04 -4.04661431e-04 -1.22724030e-03\n",
      "  4.90702239e-03  2.70475029e-07  2.70875967e-07  6.23443808e-04]\n",
      "(0, 8, 2, 0, 8, 2, 1, 1)\n",
      "[ 2.35019452e-07 -2.92061474e-16 -9.74970849e-08 -6.15191300e-07\n",
      " -4.23050211e-17  7.27522822e-07  1.69716310e-17  2.63949887e-08\n",
      " -4.63288863e-08 -3.43416079e-08 -1.16991984e-16  7.99708642e-09\n",
      "  2.74092977e-07  2.74911317e-17  3.71469749e-07 -1.94922684e-06\n",
      "  1.13671163e-16  1.53651732e-06 -3.76750217e-07 -5.05634873e-17\n",
      "  5.35347552e-07 -1.73527409e-10 -1.27109293e-11  1.07363371e-07\n",
      " -1.23516283e-07  1.81985154e-17  1.16961621e-07 -1.02731128e-07\n",
      "  8.69280670e-17 -2.37172357e-07  3.72224200e-05  8.17004847e-17\n",
      "  2.20480693e-05  2.55927171e-04 -2.32875151e-16  1.77971806e-05\n",
      "  1.61138547e-05 -3.78098932e-07  1.31468329e-05 -5.59191751e-06\n",
      " -3.48783554e-16  6.38932879e-05  6.81060003e-05  1.25566077e-16\n",
      "  3.15697768e-05  2.13152948e-04  4.65411656e-16  9.14223787e-05\n",
      " -9.39803109e-04  2.10993153e-16 -2.61939966e-03 -3.95269106e-17\n",
      "  2.64088164e-08 -4.59384426e-08 -1.13451149e-10 -1.08628238e-08\n",
      " -5.18473710e-08 -3.35608018e-05 -6.08733450e-17 -2.27895209e-05]\n",
      "(0, 8, 2, 1, 8, 2, 1, 0)\n",
      "[-5.24194638e-08 -9.99180139e-09  1.78342846e-06  4.15414192e-09\n",
      " -1.11233775e-06  7.05971168e-07 -3.44591283e-08 -1.16279757e-06\n",
      " -6.22857699e-09 -1.28851496e-07 -9.57457365e-06  2.83035967e-04\n",
      "  5.14922958e-06 -1.06075342e-05 -4.37629880e-04 -2.45155092e-04\n",
      " -4.49385717e-03  1.78277789e-06  1.78252146e-06 -4.69688450e-04]\n",
      "(0, 8, 2, 1, 8, 2, 1, 2)\n",
      "[ 6.88131964e-07  1.28241623e-15  5.48650388e-07 -1.15190702e-15\n",
      "  7.63252378e-08  5.16932086e-07 -2.51419701e-16 -1.51945743e-08\n",
      "  2.23855848e-16  3.69296725e-06 -1.54988055e-16  3.05111283e-16\n",
      " -1.62234469e-06 -4.70494430e-06  2.63038287e-06 -6.37029277e-07\n",
      " -1.95033043e-16  1.18352574e-06  5.60657758e-16  6.62519562e-07\n",
      "  6.12952387e-06  2.06316443e-16 -1.94535861e-06 -2.00775665e-16\n",
      " -3.47504418e-06 -5.01765348e-06  3.58886596e-15 -6.16144373e-07\n",
      " -4.16517799e-15 -1.16446879e-05  1.47595300e-06 -4.72683123e-17\n",
      "  4.73215137e-08  2.39039960e-16  3.81552882e-06  5.84189251e-10\n",
      "  6.73339212e-11  2.86139109e-06  1.52320312e-09 -7.91262501e-06\n",
      "  9.69139110e-07  5.02767219e-16 -2.51436028e-08 -1.60188170e-16\n",
      "  2.78334840e-07 -2.28063349e-06  3.61330218e-16  2.23436051e-08\n",
      "  8.51668733e-18  5.09701109e-07  1.11826583e-04  1.20223877e-16\n",
      "  1.10413906e-04  4.97301133e-17 -3.33389495e-05  1.66303657e-03\n",
      "  6.50099159e-16  5.31729963e-04 -1.34600593e-15 -6.52039684e-04\n",
      " -1.56719004e-05  1.23900031e-05 -8.20689010e-06 -8.36516105e-07\n",
      "  5.44490964e-06 -2.00136463e-04  1.68439658e-15 -5.43090738e-06\n",
      " -1.64549187e-15 -5.81252110e-06 -3.58485502e-04  2.79790113e-16\n",
      "  4.58490296e-04 -3.09684121e-17  2.21446079e-04  2.64755774e-04\n",
      " -1.50105357e-15  6.46874976e-04  3.86440489e-15 -2.58024101e-04\n",
      " -6.85980249e-03 -3.01544913e-16  6.66578723e-04  1.16697565e-15\n",
      " -1.85635821e-03  2.34022136e-16  6.58887638e-16 -1.62149632e-06\n",
      " -4.70585931e-06  2.62944294e-06 -2.73530300e-07  1.28457351e-06\n",
      " -2.87053189e-06  2.04401455e-06  4.18893524e-06 -9.55911605e-04\n",
      " -3.67929090e-16 -7.20338697e-05  5.52699062e-16  6.81513493e-04]\n",
      "(2, 1, 1, 0, 8, 2, 0, 0)\n",
      "[-1.88612611e-07 -1.30155547e-06  7.68257048e-06 -7.87287231e-06\n",
      " -3.01235094e-06 -3.01438549e-06  6.79711604e-07 -1.95533001e-07\n",
      "  5.92239880e-06 -4.68127876e-06 -3.37437672e-06  6.70721456e-06\n",
      "  1.41576331e-06 -7.55573585e-07  5.02320021e-08  4.94282890e-08\n",
      "  7.26949102e-07  6.58171864e-07  2.48153003e-06 -1.82471739e-06\n",
      " -1.89807892e-04 -1.19084041e-04  5.42322202e-04 -5.40414489e-05\n",
      " -2.87121691e-05 -8.98749879e-05  7.65368407e-05  1.45253460e-04\n",
      " -1.05010616e-03 -9.09895147e-04 -1.39480588e-03 -1.08933318e-03\n",
      "  1.37793044e-03 -2.88362079e-03 -3.01402206e-06 -3.01339083e-06\n",
      " -3.01491473e-06 -3.01344067e-06 -7.65350985e-04 -7.56833895e-04]\n",
      "(2, 1, 1, 0, 8, 2, 1, 1)\n",
      "[ 9.39372972e-07  1.26695996e-15  3.30713804e-07 -5.64915372e-07\n",
      " -8.13259247e-16  3.15579049e-07 -8.67051244e-06  9.71283323e-17\n",
      " -1.10043026e-06  3.10485052e-06  8.60786575e-17  9.77836759e-06\n",
      " -2.09564305e-16 -5.49541445e-06  3.58479227e-05  1.65208696e-17\n",
      " -2.82858877e-05  2.26988741e-05  2.15157371e-05 -3.65280403e-16\n",
      "  3.03124099e-06 -9.58777384e-06  6.49239578e-16 -5.80136901e-06\n",
      " -4.85110550e-05  2.61078796e-16 -5.12246799e-06  7.98868022e-06\n",
      " -1.87290261e-16  1.07209551e-05 -2.13994077e-05  2.10103282e-15\n",
      " -1.34747437e-05  7.41191946e-06 -2.20239083e-15  3.59785137e-06\n",
      "  1.99831192e-06  5.04530442e-16  2.77984640e-06 -3.37003016e-06\n",
      " -4.26901097e-16 -1.69766295e-06 -2.78179083e-05 -7.07315828e-09\n",
      "  5.43996865e-05  2.78131265e-05 -5.80507753e-09  5.44014668e-05\n",
      " -8.53958826e-06  3.61236671e-16 -1.37456637e-06  6.39911789e-07\n",
      " -5.05392245e-16 -4.80112006e-07 -3.67193784e-06 -9.48186683e-17\n",
      "  2.44477428e-07  1.76744833e-06 -9.80034011e-17  5.30841890e-06\n",
      " -4.58245163e-04 -2.54723070e-16 -8.68386006e-05 -1.87906701e-04\n",
      "  9.23919002e-17 -1.99522008e-04  6.37127291e-04  7.13971698e-16\n",
      "  4.80969665e-04  6.92131866e-05 -1.57189697e-16 -4.26198600e-04\n",
      " -1.48917721e-04  2.29054368e-06 -1.21902333e-04 -1.75641529e-04\n",
      "  1.43472947e-04 -9.64573268e-05 -2.25107900e-04  1.59684160e-15\n",
      " -5.50764509e-05  1.13264661e-04 -1.00255939e-15  8.04566467e-05\n",
      " -1.86193181e-03 -1.52139412e-16 -4.13383837e-04 -9.75953931e-04\n",
      "  4.99084062e-17 -8.10192571e-04 -2.28634439e-03 -2.14919592e-15\n",
      " -7.84142034e-04 -1.06718674e-03  1.08632309e-15 -5.44029634e-04\n",
      "  7.21516924e-04 -5.77534944e-16 -9.69678659e-04 -3.12419735e-04\n",
      "  2.21494536e-16 -6.04443703e-03  8.56681965e-17 -2.82890048e-05\n",
      "  2.26953117e-05  9.58503145e-17 -5.49917883e-06  3.58480998e-05\n",
      " -7.08102504e-06  1.78885225e-05  3.07469876e-05  7.08073619e-06\n",
      " -3.80437551e-06  3.53675822e-05 -1.35041301e-03  1.59771792e-16\n",
      " -8.61603733e-05 -8.29445870e-04  1.19164977e-16 -9.86570243e-04]\n",
      "(0, 1, 1, 0, 1, 1, 0, 0)\n",
      "[-4.12185280e-07  3.42925196e-07  3.96445952e-06 -4.55545908e-06\n",
      "  4.38128371e-06  4.38167951e-06 -1.83743162e-06  1.25576045e-06\n",
      "  6.75875105e-06 -4.32003716e-06  1.19753165e-05 -8.56694626e-06\n",
      " -1.09607584e-07  1.90029094e-07 -6.92155255e-06 -6.92109054e-06\n",
      "  1.38799355e-06 -5.85020112e-07  1.29265124e-07 -5.24816685e-07\n",
      "  1.71115562e-04  1.43831421e-04 -5.56210765e-04  1.51119192e-05\n",
      "  5.90677545e-05  6.38062623e-05  2.16912932e-04 -1.69987642e-05\n",
      "  1.39666044e-03  1.18078725e-03  1.64123536e-03  1.21055525e-03\n",
      "  9.66604210e-04  2.61497800e-03  4.38238176e-06  4.38225896e-06\n",
      "  4.38323461e-06  4.38294786e-06  1.17606171e-03  1.16499028e-03]\n",
      "(1, 1, 1, 0, 1, 1, 0, 0)\n",
      "[-2.85126575e-07  4.62322303e-07  8.48835032e-06 -5.52640455e-07\n",
      "  7.37485912e-06 -1.63994702e-06  2.54817782e-07 -1.39559067e-05\n",
      "  2.45417521e-06 -2.53203552e-06  2.92703458e-05  5.05809429e-04\n",
      "  1.33227040e-05 -1.53429444e-04 -3.41601246e-04 -6.64307902e-04\n",
      " -2.79695363e-03  8.48880433e-06  8.48933649e-06 -1.00695524e-06]\n"
     ]
    }
   ],
   "source": [
    "for i in range(len(fock_bc.keys)):\n",
    "    print(pred.keys[i])\n",
    "    print(pred.block(i).values.flatten() - fock_bc.block(i).values.flatten())"
   ]
  },
  {
   "cell_type": "code",
   "execution_count": 36,
   "id": "e941caa5",
   "metadata": {},
   "outputs": [],
   "source": [
    "pred_decoupled = decouple_blocks(pred)\n",
    "pred_dense = blocks_to_dense(pred_decoupled, frames, orbs)"
   ]
  },
  {
   "cell_type": "code",
   "execution_count": 43,
   "id": "e2634fb1",
   "metadata": {},
   "outputs": [],
   "source": [
    "full_loss = []\n",
    "for i in range(len(frames)):\n",
    "    full_loss.append(hams - pred_dense)"
   ]
  },
  {
   "cell_type": "code",
   "execution_count": 44,
   "id": "a181dee3",
   "metadata": {},
   "outputs": [
    {
     "data": {
      "text/plain": [
       "6.687610044992845e-05"
      ]
     },
     "execution_count": 44,
     "metadata": {},
     "output_type": "execute_result"
    }
   ],
   "source": [
    "np.mean(full_loss)"
   ]
  },
  {
   "cell_type": "code",
   "execution_count": 45,
   "id": "6c248db5",
   "metadata": {},
   "outputs": [
    {
     "data": {
      "text/plain": [
       "[<matplotlib.lines.Line2D at 0x107367d60>]"
      ]
     },
     "execution_count": 45,
     "metadata": {},
     "output_type": "execute_result"
    },
    {
     "data": {
      "image/png": "[encoded data removed]",
      "text/plain": [
       "<Figure size 432x288 with 1 Axes>"
      ]
     },
     "metadata": {
      "needs_background": "light"
     },
     "output_type": "display_data"
    }
   ],
   "source": [
    "plt.plot(np.linalg.eigvalsh(hams[8]), np.linalg.eigvalsh(pred_dense[8]), 'r.')\n",
    "plt.plot(np.linalg.eigvalsh(hams[18]), np.linalg.eigvalsh(pred_dense[18]), 'b.')"
   ]
  },
  {
   "cell_type": "code",
   "execution_count": 46,
   "id": "ec330b7d",
   "metadata": {},
   "outputs": [
    {
     "data": {
      "text/plain": [
       "array([-1.31139601, -0.69621279, -0.56518852, -0.49694029,  0.17404388,\n",
       "        0.25307653])"
      ]
     },
     "execution_count": 46,
     "metadata": {},
     "output_type": "execute_result"
    }
   ],
   "source": [
    "np.linalg.eigvalsh(pred_dense[18])"
   ]
  },
  {
   "cell_type": "markdown",
   "id": "554dcd4f",
   "metadata": {},
   "source": [
    "rotated features for a rotated molecule"
   ]
  },
  {
   "cell_type": "code",
   "execution_count": 47,
   "id": "ed683114",
   "metadata": {},
   "outputs": [
    {
     "data": {
      "text/plain": [
       "array([[50.      , 50.      , 50.      ],\n",
       "       [50.      , 49.165109, 50.      ],\n",
       "       [50.      , 49.905969, 49.038666]])"
      ]
     },
     "execution_count": 47,
     "metadata": {},
     "output_type": "execute_result"
    }
   ],
   "source": [
    "rot_frame = frames[0].copy()\n",
    "rot_frame.positions = 50+(50-frames[0].positions[:,[2,0,1]])\n",
    "rot_frame.positions[:,]"
   ]
  },
  {
   "cell_type": "code",
   "execution_count": 48,
   "id": "606cdad5",
   "metadata": {},
   "outputs": [],
   "source": [
    "rhoi = spex.compute([rot_frame])"
   ]
  },
  {
   "cell_type": "code",
   "execution_count": 49,
   "id": "47e2dd00",
   "metadata": {},
   "outputs": [],
   "source": [
    "gij = pairs.compute([rot_frame])"
   ]
  },
  {
   "cell_type": "code",
   "execution_count": 50,
   "id": "068ff60f",
   "metadata": {},
   "outputs": [],
   "source": [
    "rot_rho1i = acdc_standardize_keys(rhoi)\n",
    "rot_rho1i.keys_to_properties(['species_neighbor'])\n",
    "rot_gij =  acdc_standardize_keys(gij)"
   ]
  },
  {
   "cell_type": "code",
   "execution_count": 51,
   "id": "060010d0",
   "metadata": {},
   "outputs": [],
   "source": [
    "rot_rho2i = cg_increment(rot_rho1i, rot_rho1i, lcut=4, other_keys_match=[\"species_center\"])"
   ]
  },
  {
   "cell_type": "code",
   "execution_count": 52,
   "id": "e845fe69",
   "metadata": {},
   "outputs": [],
   "source": [
    "rot_rho3i = cg_increment(rot_rho2i, rot_rho1i, lcut=4, other_keys_match=[\"species_center\"])"
   ]
  },
  {
   "cell_type": "code",
   "execution_count": 53,
   "id": "22c36a8a",
   "metadata": {},
   "outputs": [],
   "source": [
    "rot_rho1ij = cg_increment(rot_rho1i, rot_gij, lcut=4, other_keys_match=[\"species_center\"])"
   ]
  },
  {
   "cell_type": "code",
   "execution_count": 54,
   "id": "43c00491",
   "metadata": {},
   "outputs": [],
   "source": [
    "rot_rho2ij = cg_increment(rot_rho2i, rot_gij, lcut=4, other_keys_match=[\"species_center\"])"
   ]
  },
  {
   "cell_type": "code",
   "execution_count": 58,
   "id": "00f24950",
   "metadata": {},
   "outputs": [],
   "source": [
    "rot_feats = hamiltonian_features(rot_rho3i, rot_rho2ij)"
   ]
  },
  {
   "cell_type": "code",
   "execution_count": 59,
   "id": "3bf677cf",
   "metadata": {},
   "outputs": [],
   "source": [
    "rot_pred = FR.predict(rot_feats)"
   ]
  },
  {
   "cell_type": "code",
   "execution_count": 60,
   "id": "fafc53d9",
   "metadata": {},
   "outputs": [],
   "source": [
    "rot_decoupled = decouple_blocks(rot_pred)\n",
    "rot_dense = blocks_to_dense(rot_decoupled, [rot_frame], orbs)"
   ]
  },
  {
   "cell_type": "code",
   "execution_count": 61,
   "id": "928f9316",
   "metadata": {},
   "outputs": [
    {
     "data": {
      "text/plain": [
       "array([-1.37730514, -0.69025058, -0.61827348, -0.51012869,  0.17444408,\n",
       "        0.26734308])"
      ]
     },
     "execution_count": 61,
     "metadata": {},
     "output_type": "execute_result"
    }
   ],
   "source": [
    "np.linalg.eigvalsh(pred_dense[0])"
   ]
  },
  {
   "cell_type": "code",
   "execution_count": 62,
   "id": "6550be1b",
   "metadata": {},
   "outputs": [
    {
     "data": {
      "text/plain": [
       "array([-1.37730514, -0.69025058, -0.61827348, -0.51012869,  0.17444408,\n",
       "        0.26734308])"
      ]
     },
     "execution_count": 62,
     "metadata": {},
     "output_type": "execute_result"
    }
   ],
   "source": [
    "np.linalg.eigvalsh(rot_dense[0])"
   ]
  },
  {
   "cell_type": "code",
   "execution_count": 63,
   "id": "d1b0c2bc",
   "metadata": {},
   "outputs": [
    {
     "data": {
      "text/plain": [
       "<matplotlib.image.AxesImage at 0x1776ecdc0>"
      ]
     },
     "execution_count": 63,
     "metadata": {},
     "output_type": "execute_result"
    },
    {
     "data": {
      "image/png": "[encoded data removed]",
      "text/plain": [
       "<Figure size 288x288 with 1 Axes>"
      ]
     },
     "metadata": {
      "needs_background": "light"
     },
     "output_type": "display_data"
    }
   ],
   "source": [
    "plt.matshow(pred_dense[0]- rot_dense[0])"
   ]
  },
  {
   "cell_type": "code",
   "execution_count": 64,
   "id": "c67ff573",
   "metadata": {},
   "outputs": [
    {
     "data": {
      "text/plain": [
       "array([[ 1.11022302e-16,  2.21542495e-01,  9.41527299e-02,\n",
       "         1.27389765e-01,  0.00000000e+00,  5.55111512e-17],\n",
       "       [ 2.21542495e-01,  7.44436242e-02,  7.99476308e-02,\n",
       "        -7.99476308e-02, -3.37209554e-01, -3.58933059e-01],\n",
       "       [ 9.41527299e-02,  7.99476308e-02, -2.42515488e-01,\n",
       "         0.00000000e+00,  8.02680216e-02, -4.06783942e-01],\n",
       "       [ 1.27389765e-01, -7.99476308e-02,  0.00000000e+00,\n",
       "         1.68071864e-01, -4.17477575e-01,  4.78508828e-02],\n",
       "       [ 0.00000000e+00, -3.37209554e-01,  8.02680216e-02,\n",
       "        -4.17477575e-01,  0.00000000e+00, -5.27355937e-16],\n",
       "       [ 5.55111512e-17, -3.58933059e-01, -4.06783942e-01,\n",
       "         4.78508828e-02, -5.27355937e-16,  0.00000000e+00]])"
      ]
     },
     "execution_count": 64,
     "metadata": {},
     "output_type": "execute_result"
    }
   ],
   "source": [
    "pred_dense[0]- rot_dense[0]"
   ]
  },
  {
   "cell_type": "code",
   "execution_count": null,
   "id": "60cec037",
   "metadata": {},
   "outputs": [],
   "source": []
  }
 ],
 "metadata": {
  "kernelspec": {
   "display_name": "Python 3 (ipykernel)",
   "language": "python",
   "name": "python3"
  },
  "language_info": {
   "codemirror_mode": {
    "name": "ipython",
    "version": 3
   },
   "file_extension": ".py",
   "mimetype": "text/x-python",
   "name": "python",
   "nbconvert_exporter": "python",
   "pygments_lexer": "ipython3",
   "version": "3.9.11"
  },
  "toc": {
   "base_numbering": 1,
   "nav_menu": {},
   "number_sections": true,
   "sideBar": true,
   "skip_h1_title": false,
   "title_cell": "Table of Contents",
   "title_sidebar": "Contents",
   "toc_cell": false,
   "toc_position": {},
   "toc_section_display": true,
   "toc_window_display": false
  },
  "vscode": {
   "interpreter": {
    "hash": "9b1dab49005db54eeaf19407b770a132388229704ecb91b436b854691f0d31ef"
   }
  }
 },
 "nbformat": 4,
 "nbformat_minor": 5
}
