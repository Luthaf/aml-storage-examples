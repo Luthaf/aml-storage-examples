{
 "cells": [
  {
   "cell_type": "code",
   "execution_count": 1,
   "id": "dd2d4b68",
   "metadata": {},
   "outputs": [],
   "source": [
    "%load_ext autoreload\n",
    "%autoreload 2\n",
    "%load_ext line_profiler"
   ]
  },
  {
   "cell_type": "code",
   "execution_count": 98,
   "id": "79e60d72",
   "metadata": {},
   "outputs": [],
   "source": [
    "import numpy as np\n",
    "import json\n",
    "from equistore import Labels, TensorBlock, TensorMap\n",
    "from utils.builder import TensorBuilder\n",
    "import ase.io\n",
    "from itertools import product\n",
    "from utils.acdc_mini import acdc_standardize_keys, cg_increment, cg_combine, _remove_suffix\n",
    "from utils.clebsh_gordan import ClebschGordanReal\n",
    "from utils.hamiltonians import fix_pyscf_l1, dense_to_blocks, blocks_to_dense, couple_blocks, decouple_blocks, hamiltonian_features\n",
    "import matplotlib.pyplot as plt\n",
    "from utils.librascal import  RascalSphericalExpansion, RascalPairExpansion\n",
    "from rascal.representations import SphericalExpansion\n",
    "import copy\n",
    "from utils.model_hamiltonian import *\n",
    "from ase.units import Hartree"
   ]
  },
  {
   "cell_type": "markdown",
   "id": "6205e986",
   "metadata": {},
   "source": [
    "## Manipulate Hamiltonian into blocks"
   ]
  },
  {
   "cell_type": "code",
   "execution_count": 3,
   "id": "0bf77c5a",
   "metadata": {},
   "outputs": [],
   "source": [
    "frames = ase.io.read(\"data/hamiltonian/water-hamiltonian/water_coords_1000.xyz\",\":1000\")\n",
    "for f in frames:\n",
    "    f.cell = [100,100,100]\n",
    "    f.positions += 50"
   ]
  },
  {
   "cell_type": "code",
   "execution_count": 4,
   "id": "b48814a4",
   "metadata": {},
   "outputs": [],
   "source": [
    "#jorbs = json.load(open('data/water-hamiltonian/water_orbs.json', \"r\"))\n",
    "jorbs = json.loads(json.load(open('data/hamiltonian/water-hamiltonian/water_orbs.json', \"r\")))\n",
    "orbs = {}\n",
    "zdic = {\"O\" : 8, \"H\":1}\n",
    "for k in jorbs:\n",
    "    orbs[zdic[k]] = jorbs[k]"
   ]
  },
  {
   "cell_type": "code",
   "execution_count": 5,
   "id": "7f33957b",
   "metadata": {},
   "outputs": [],
   "source": [
    "hams = np.load(\"data/hamiltonian/water-hamiltonian/water_saph_orthogonal.npy\", allow_pickle=True)[:len(frames)]\n",
    "eigvals = np.linalg.eigvalsh(hams)\n",
    "# NO NEED TO CORRECT L1 ORDER FOR SAPH ORTHOGONALIZED MATRICES...\n",
    "#for i, f in enumerate(frames):\n",
    "#    hams[i] = fix_pyscf_l1(hams[i], f, orbs)\n",
    "\n",
    "blocks = dense_to_blocks(hams, frames, orbs)"
   ]
  },
  {
   "cell_type": "code",
   "execution_count": 6,
   "id": "d79e2540",
   "metadata": {},
   "outputs": [],
   "source": [
    "cg = ClebschGordanReal(5)"
   ]
  },
  {
   "cell_type": "code",
   "execution_count": 7,
   "id": "d6026d33",
   "metadata": {},
   "outputs": [],
   "source": [
    "coupled = couple_blocks(blocks, cg)\n",
    "\n",
    "fock_bc = coupled"
   ]
  },
  {
   "cell_type": "markdown",
   "id": "7e753eae",
   "metadata": {},
   "source": [
    "## Feature computation"
   ]
  },
  {
   "cell_type": "code",
   "execution_count": 8,
   "id": "91859a97",
   "metadata": {},
   "outputs": [],
   "source": [
    "rascal_hypers = {\n",
    "    \"interaction_cutoff\": 2.5,\n",
    "    \"cutoff_smooth_width\": 0.5,\n",
    "    \"max_radial\": 4,\n",
    "    \"max_angular\": 3,\n",
    "    \"gaussian_sigma_type\": \"Constant\",\n",
    "    \"compute_gradients\":  False,\n",
    "}\n",
    "\n",
    "spex = RascalSphericalExpansion(rascal_hypers)\n",
    "rhoi = spex.compute(frames)"
   ]
  },
  {
   "cell_type": "code",
   "execution_count": 9,
   "id": "7c8889d0",
   "metadata": {},
   "outputs": [],
   "source": [
    "pairs = RascalPairExpansion(rascal_hypers)\n",
    "gij = pairs.compute(frames)"
   ]
  },
  {
   "cell_type": "code",
   "execution_count": 10,
   "id": "ef8a94c7",
   "metadata": {},
   "outputs": [],
   "source": [
    "mc_rho1i = acdc_standardize_keys(rhoi)\n",
    "mc_rho1i.keys_to_properties(['species_neighbor'])\n",
    "mc_gij =  acdc_standardize_keys(gij)"
   ]
  },
  {
   "cell_type": "code",
   "execution_count": 11,
   "id": "98c4a184",
   "metadata": {},
   "outputs": [],
   "source": [
    "?cg_increment"
   ]
  },
  {
   "cell_type": "code",
   "execution_count": 12,
   "id": "2d6f74f9",
   "metadata": {},
   "outputs": [
    {
     "name": "stdout",
     "output_type": "stream",
     "text": [
      "CPU times: user 1.34 s, sys: 126 ms, total: 1.47 s\n",
      "Wall time: 1.48 s\n"
     ]
    }
   ],
   "source": [
    "%%time\n",
    "mc_rho2i = cg_increment(mc_rho1i, mc_rho1i, lcut=4, other_keys_match=[\"species_center\"], clebsch_gordan=cg)"
   ]
  },
  {
   "cell_type": "code",
   "execution_count": null,
   "id": "171cb29e",
   "metadata": {},
   "outputs": [],
   "source": [
    "%%time\n",
    "mc_rho3i = cg_increment(mc_rho2i, mc_rho1i, lcut=4, other_keys_match=[\"species_center\"], clebsch_gordan=cg)"
   ]
  },
  {
   "cell_type": "code",
   "execution_count": 13,
   "id": "90911753",
   "metadata": {},
   "outputs": [
    {
     "name": "stdout",
     "output_type": "stream",
     "text": [
      "CPU times: user 2.38 s, sys: 117 ms, total: 2.5 s\n",
      "Wall time: 2.5 s\n"
     ]
    }
   ],
   "source": [
    "%%time\n",
    "mc_rho1ij = cg_increment(mc_rho1i, mc_gij, lcut=4, other_keys_match=[\"species_center\"], clebsch_gordan=cg)"
   ]
  },
  {
   "cell_type": "code",
   "execution_count": null,
   "id": "7909c35e",
   "metadata": {},
   "outputs": [],
   "source": [
    "%%time\n",
    "mc_rho2ij = cg_increment(mc_rho2i, mc_gij, lcut=4, other_keys_match=[\"species_center\"], clebsch_gordan=cg)"
   ]
  },
  {
   "cell_type": "code",
   "execution_count": null,
   "id": "762fd287",
   "metadata": {},
   "outputs": [],
   "source": [
    "%lprun -f cg_combine cg_increment(mc_rho2i, mc_gij, lcut=4, other_keys_match=[\"species_center\"], clebsch_gordan=cg)"
   ]
  },
  {
   "cell_type": "code",
   "execution_count": null,
   "id": "dffa3e81",
   "metadata": {},
   "outputs": [],
   "source": [
    "np.linalg.norm(mc_rho2i.block(0).values)\n",
    "# 0.001486930385468841"
   ]
  },
  {
   "cell_type": "code",
   "execution_count": 14,
   "id": "9b45aeb2",
   "metadata": {},
   "outputs": [],
   "source": [
    "ham_feats = hamiltonian_features(mc_rho2i, mc_rho1ij)"
   ]
  },
  {
   "cell_type": "markdown",
   "id": "1e65f84e",
   "metadata": {},
   "source": [
    "## Testing model on one structure"
   ]
  },
  {
   "cell_type": "code",
   "execution_count": 19,
   "id": "9605e565",
   "metadata": {},
   "outputs": [
    {
     "data": {
      "text/plain": [
       "('structure', 'center', 'neighbor')"
      ]
     },
     "execution_count": 19,
     "metadata": {},
     "output_type": "execute_result"
    }
   ],
   "source": [
    "mc_rho2ij.block(0).samples.names"
   ]
  },
  {
   "cell_type": "code",
   "execution_count": 20,
   "id": "72c09952",
   "metadata": {},
   "outputs": [
    {
     "name": "stdout",
     "output_type": "stream",
     "text": [
      "CPU times: user 685 ms, sys: 175 ms, total: 861 ms\n",
      "Wall time: 1.61 s\n"
     ]
    }
   ],
   "source": [
    "%%time\n",
    "ts = ham_feats.slice(\n",
    "                 Labels(names=[\"structure\"], values=np.asarray([1,3,5,7,9], dtype=np.int32).reshape(-1,1)),\n",
    "                 Labels(names=[\"species_neighbor_1\", \"species_neighbor_2\"], values=np.asarray([[1,1],[1,8]], dtype=np.int32).reshape(-1,2)),\n",
    "                )"
   ]
  },
  {
   "cell_type": "code",
   "execution_count": 21,
   "id": "d7944b82",
   "metadata": {},
   "outputs": [
    {
     "data": {
      "text/plain": [
       "Labels([(1, 1, 1), (1, 2, 2), (3, 1, 1), (3, 2, 2), (5, 1, 1), (5, 2, 2),\n",
       "        (7, 1, 1), (7, 2, 2), (9, 1, 1), (9, 2, 2)],\n",
       "       dtype=[('structure', '<i4'), ('center', '<i4'), ('neighbor', '<i4')])"
      ]
     },
     "execution_count": 21,
     "metadata": {},
     "output_type": "execute_result"
    }
   ],
   "source": [
    "ts.block(0).samples"
   ]
  },
  {
   "cell_type": "code",
   "execution_count": 22,
   "id": "d899a7c6",
   "metadata": {},
   "outputs": [],
   "source": [
    "%lprun -f TensorMap.slice ham_feats.slice(Labels(names=[\"structure\"], values=np.asarray([1,3,5,7,9], dtype=np.int32).reshape(-1,1)), Labels(names=[\"species_neighbor_1\", \"species_neighbor_2\"], values=np.asarray([[1,1],[1,8]], dtype=np.int32).reshape(-1,2)),)"
   ]
  },
  {
   "cell_type": "code",
   "execution_count": 102,
   "id": "86039972",
   "metadata": {},
   "outputs": [],
   "source": [
    "FR = Fock_regression(alpha=1e-8)"
   ]
  },
  {
   "cell_type": "code",
   "execution_count": 107,
   "id": "87a4ad9f",
   "metadata": {},
   "outputs": [],
   "source": [
    "aa = FR.fit(ham_feats.slice(Labels(names=[\"structure\"], values=np.asarray(range(80), dtype=np.int32).reshape(-1,1)) ),\n",
    "       fock_bc.slice(Labels(names=[\"structure\"], values=np.asarray(range(80), dtype=np.int32).reshape(-1,1)) ))"
   ]
  },
  {
   "cell_type": "code",
   "execution_count": 108,
   "id": "a990d693",
   "metadata": {},
   "outputs": [],
   "source": [
    "pred_dense, pred_eigvals = FR.predict(ham_feats, frames, orbs)"
   ]
  },
  {
   "cell_type": "code",
   "execution_count": 110,
   "id": "f4ec4d3f",
   "metadata": {},
   "outputs": [
    {
     "data": {
      "text/plain": [
       "0.010936439434580955"
      ]
     },
     "execution_count": 110,
     "metadata": {},
     "output_type": "execute_result"
    }
   ],
   "source": [
    "np.abs(np.mean(hams - pred_dense))*Hartree"
   ]
  },
  {
   "cell_type": "code",
   "execution_count": 106,
   "id": "cd9b8684",
   "metadata": {},
   "outputs": [
    {
     "data": {
      "text/plain": [
       "3.608952066203261e-05"
      ]
     },
     "execution_count": 106,
     "metadata": {},
     "output_type": "execute_result"
    }
   ],
   "source": [
    "eigval_loss = []\n",
    "for i in range(len(frames)):\n",
    "    eigval_loss.append(eigvals[i] - pred_eigvals[i])\n",
    "\n",
    "np.abs(np.mean(eigval_loss))"
   ]
  },
  {
   "cell_type": "code",
   "execution_count": 20,
   "id": "04915923",
   "metadata": {},
   "outputs": [
    {
     "data": {
      "text/plain": [
       "[<matplotlib.lines.Line2D at 0x7f4c69042490>]"
      ]
     },
     "execution_count": 20,
     "metadata": {},
     "output_type": "execute_result"
    },
    {
     "data": {
      "image/png": "[encoded data removed]",
      "text/plain": [
       "<Figure size 432x288 with 1 Axes>"
      ]
     },
     "metadata": {
      "needs_background": "light"
     },
     "output_type": "display_data"
    }
   ],
   "source": [
    "plt.plot(eigvals[8], pred_eigvals[8], 'r.')\n",
    "plt.plot(eigvals[980], pred_eigvals[980], 'b.')"
   ]
  },
  {
   "cell_type": "markdown",
   "id": "03c6382b",
   "metadata": {},
   "source": [
    "## Learning curve"
   ]
  },
  {
   "cell_type": "code",
   "execution_count": null,
   "id": "d4ab0726",
   "metadata": {},
   "outputs": [],
   "source": [
    "FR = Fock_regression(alpha=1e-8)"
   ]
  },
  {
   "cell_type": "code",
   "execution_count": 99,
   "id": "7fd8aa61",
   "metadata": {},
   "outputs": [],
   "source": [
    "tf = [80, 160, 240, 320, 400, 480, 560, 640, 720, 800]\n",
    "mae_full = []\n",
    "mae_eva = []\n",
    "for i in tf:\n",
    "    aa = FR.fit(ham_feats.slice(Labels(names=[\"structure\"], values=np.asarray(range(i), dtype=np.int32).reshape(-1,1)) ),\n",
    "       fock_bc.slice(Labels(names=[\"structure\"], values=np.asarray(range(i), dtype=np.int32).reshape(-1,1)) ))\n",
    "    pred_dense, pred_eigvals = FR.predict(ham_feats, frames, orbs)\n",
    "    \n",
    "    mae_full.append(np.abs(np.mean(hams - pred_dense))*Hartree)\n",
    "    eigval_loss = []\n",
    "    for a in range(len(frames)):\n",
    "        eigval_loss.append(eigvals[a] - pred_eigvals[a])\n",
    "\n",
    "    mae_eva.append(np.abs(np.mean(eigval_loss))*Hartree)"
   ]
  },
  {
   "cell_type": "code",
   "execution_count": 100,
   "id": "c91e40ba",
   "metadata": {},
   "outputs": [
    {
     "data": {
      "text/plain": [
       "Text(0, 0.5, 'MAE/eV')"
      ]
     },
     "execution_count": 100,
     "metadata": {},
     "output_type": "execute_result"
    },
    {
     "data": {
      "image/png": "[encoded data removed]",
      "text/plain": [
       "<Figure size 432x288 with 1 Axes>"
      ]
     },
     "metadata": {
      "needs_background": "light"
     },
     "output_type": "display_data"
    }
   ],
   "source": [
    "plt.loglog(tf, mae_full, 'b', label='full')\n",
    "plt.loglog(tf, mae_eva, 'r-.', label='$\\epsilon_{k}$')\n",
    "plt.legend(loc =\"upper right\");\n",
    "plt.xlabel('$n_{train}$')\n",
    "plt.ylabel('MAE/eV')"
   ]
  },
  {
   "cell_type": "code",
   "execution_count": 29,
   "id": "1ca118fd",
   "metadata": {},
   "outputs": [],
   "source": [
    "#for i in range(len(fock_bc.keys)):\n",
    "#    print(pred.keys[i])\n",
    "#    print(pred.block(i).values.flatten() - fock_bc.block(i).values.flatten())"
   ]
  },
  {
   "cell_type": "markdown",
   "id": "a554fbd6",
   "metadata": {},
   "source": [
    "## Rotated features for a rotated molecule"
   ]
  },
  {
   "cell_type": "code",
   "execution_count": 30,
   "id": "8e7098cc",
   "metadata": {},
   "outputs": [
    {
     "data": {
      "text/plain": [
       "array([[50.      , 50.      , 50.      ],\n",
       "       [50.      , 49.165109, 50.      ],\n",
       "       [50.      , 49.905969, 49.038666]])"
      ]
     },
     "execution_count": 30,
     "metadata": {},
     "output_type": "execute_result"
    }
   ],
   "source": [
    "rot_frame = frames[0].copy()\n",
    "rot_frame.positions = 50+(50-frames[0].positions[:,[2,0,1]])\n",
    "rot_frame.positions[:,]"
   ]
  },
  {
   "cell_type": "code",
   "execution_count": 31,
   "id": "9631e875",
   "metadata": {},
   "outputs": [],
   "source": [
    "rhoi = spex.compute([rot_frame])"
   ]
  },
  {
   "cell_type": "code",
   "execution_count": 32,
   "id": "08e76415",
   "metadata": {},
   "outputs": [],
   "source": [
    "gij = pairs.compute([rot_frame])"
   ]
  },
  {
   "cell_type": "code",
   "execution_count": 33,
   "id": "eb67e699",
   "metadata": {},
   "outputs": [],
   "source": [
    "rot_rho1i = acdc_standardize_keys(rhoi)\n",
    "rot_rho1i.keys_to_properties(['species_neighbor'])\n",
    "rot_gij =  acdc_standardize_keys(gij)"
   ]
  },
  {
   "cell_type": "code",
   "execution_count": 34,
   "id": "0ced2e5f",
   "metadata": {},
   "outputs": [],
   "source": [
    "rot_rho2i = cg_increment(rot_rho1i, rot_rho1i, lcut=4, other_keys_match=[\"species_center\"])"
   ]
  },
  {
   "cell_type": "code",
   "execution_count": 35,
   "id": "f14a7c3a",
   "metadata": {},
   "outputs": [],
   "source": [
    "rot_rho3i = cg_increment(rot_rho2i, rot_rho1i, lcut=4, other_keys_match=[\"species_center\"])"
   ]
  },
  {
   "cell_type": "code",
   "execution_count": 36,
   "id": "1495d740",
   "metadata": {},
   "outputs": [],
   "source": [
    "rot_rho1ij = cg_increment(rot_rho1i, rot_gij, lcut=4, other_keys_match=[\"species_center\"])"
   ]
  },
  {
   "cell_type": "code",
   "execution_count": 37,
   "id": "fde79935",
   "metadata": {},
   "outputs": [],
   "source": [
    "rot_rho2ij = cg_increment(rot_rho2i, rot_gij, lcut=4, other_keys_match=[\"species_center\"])"
   ]
  },
  {
   "cell_type": "code",
   "execution_count": 38,
   "id": "0a331fb9",
   "metadata": {},
   "outputs": [],
   "source": [
    "rot_feats = hamiltonian_features(rot_rho3i, rot_rho2ij)"
   ]
  },
  {
   "cell_type": "code",
   "execution_count": 39,
   "id": "75b03b01",
   "metadata": {},
   "outputs": [],
   "source": [
    "rot_dense, rot_eigvals = FR.predict(rot_feats, [rot_frame], orbs)"
   ]
  },
  {
   "cell_type": "code",
   "execution_count": 40,
   "id": "5018fc04",
   "metadata": {},
   "outputs": [
    {
     "data": {
      "text/plain": [
       "array([-1.37727437, -0.69013755, -0.61864914, -0.50999836,  0.17422147,\n",
       "        0.26759468])"
      ]
     },
     "execution_count": 40,
     "metadata": {},
     "output_type": "execute_result"
    }
   ],
   "source": [
    "pred_eigvals[0]"
   ]
  },
  {
   "cell_type": "code",
   "execution_count": 41,
   "id": "8b85e471",
   "metadata": {},
   "outputs": [
    {
     "data": {
      "text/plain": [
       "array([-1.37727437, -0.69013755, -0.61864914, -0.50999836,  0.17422147,\n",
       "        0.26759468])"
      ]
     },
     "execution_count": 41,
     "metadata": {},
     "output_type": "execute_result"
    }
   ],
   "source": [
    "rot_eigvals[0]"
   ]
  },
  {
   "cell_type": "code",
   "execution_count": 42,
   "id": "520d8b67",
   "metadata": {},
   "outputs": [
    {
     "data": {
      "text/plain": [
       "<matplotlib.image.AxesImage at 0x169895280>"
      ]
     },
     "execution_count": 42,
     "metadata": {},
     "output_type": "execute_result"
    },
    {
     "data": {
      "image/png": "[encoded data removed]",
      "text/plain": [
       "<Figure size 288x288 with 1 Axes>"
      ]
     },
     "metadata": {
      "needs_background": "light"
     },
     "output_type": "display_data"
    }
   ],
   "source": [
    "plt.matshow(pred_dense[0]- rot_dense[0])"
   ]
  },
  {
   "cell_type": "code",
   "execution_count": 43,
   "id": "e5335537",
   "metadata": {},
   "outputs": [
    {
     "data": {
      "text/plain": [
       "array([[ 5.55111512e-16,  2.21568619e-01,  9.41577282e-02,\n",
       "         1.27410891e-01,  1.11022302e-16,  0.00000000e+00],\n",
       "       [ 2.21568619e-01,  7.45705559e-02,  8.04474875e-02,\n",
       "        -8.04474875e-02, -3.37191943e-01, -3.58881322e-01],\n",
       "       [ 9.41577282e-02,  8.04474875e-02, -2.42362213e-01,\n",
       "         0.00000000e+00,  8.03017999e-02, -4.06791999e-01],\n",
       "       [ 1.27410891e-01, -8.04474875e-02,  0.00000000e+00,\n",
       "         1.67791657e-01, -4.17493743e-01,  4.79106778e-02],\n",
       "       [ 1.11022302e-16, -3.37191943e-01,  8.03017999e-02,\n",
       "        -4.17493743e-01, -1.11022302e-16,  2.77555756e-17],\n",
       "       [ 0.00000000e+00, -3.58881322e-01, -4.06791999e-01,\n",
       "         4.79106778e-02,  2.77555756e-17, -5.55111512e-17]])"
      ]
     },
     "execution_count": 43,
     "metadata": {},
     "output_type": "execute_result"
    }
   ],
   "source": [
    "pred_dense[0]- rot_dense[0]"
   ]
  },
  {
   "cell_type": "code",
   "execution_count": null,
   "id": "af2b2b98",
   "metadata": {},
   "outputs": [],
   "source": []
  }
 ],
 "metadata": {
  "kernelspec": {
   "display_name": "Python 3 (ipykernel)",
   "language": "python",
   "name": "python3"
  },
  "language_info": {
   "codemirror_mode": {
    "name": "ipython",
    "version": 3
   },
   "file_extension": ".py",
   "mimetype": "text/x-python",
   "name": "python",
   "nbconvert_exporter": "python",
   "pygments_lexer": "ipython3",
   "version": "3.8.10"
  },
  "toc": {
   "base_numbering": 1,
   "nav_menu": {},
   "number_sections": true,
   "sideBar": true,
   "skip_h1_title": false,
   "title_cell": "Table of Contents",
   "title_sidebar": "Contents",
   "toc_cell": false,
   "toc_position": {},
   "toc_section_display": true,
   "toc_window_display": false
  },
  "vscode": {
   "interpreter": {
    "hash": "9b1dab49005db54eeaf19407b770a132388229704ecb91b436b854691f0d31ef"
   }
  }
 },
 "nbformat": 4,
 "nbformat_minor": 5
}
