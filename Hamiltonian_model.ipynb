{
 "cells": [
  {
   "cell_type": "code",
   "execution_count": 1,
   "metadata": {},
   "outputs": [],
   "source": [
    "%load_ext autoreload\n",
    "%autoreload 2\n",
    "%load_ext line_profiler"
   ]
  },
  {
   "cell_type": "code",
   "execution_count": 2,
   "metadata": {},
   "outputs": [],
   "source": [
    "import numpy as np\n",
    "import json\n",
    "from equistore import Labels, TensorBlock, TensorMap\n",
    "from utils.builder import TensorBuilder\n",
    "import ase.io\n",
    "from itertools import product\n",
    "from utils.acdc_mini import acdc_standardize_keys, cg_increment, cg_combine\n",
    "from utils.clebsh_gordan import ClebschGordanReal\n",
    "from utils.hamiltonians import fix_pyscf_l1, dense_to_blocks, blocks_to_dense, couple_blocks, decouple_blocks, hamiltonian_features\n",
    "import matplotlib.pyplot as plt\n",
    "from utils.librascal import  RascalSphericalExpansion, RascalPairExpansion\n",
    "from rascal.representations import SphericalExpansion\n",
    "import copy\n",
    "from utils.pair_features import *"
   ]
  },
  {
   "cell_type": "markdown",
   "metadata": {},
   "source": [
    "## Manipulate Hamiltonian into blocks"
   ]
  },
  {
   "cell_type": "code",
   "execution_count": 3,
   "metadata": {},
   "outputs": [],
   "source": [
    "frames = ase.io.read(\"data/hamiltonian/water-hamiltonian/water_coords_1000.xyz\",\":10\")\n",
    "for f in frames:\n",
    "    f.cell = [100,100,100]\n",
    "    f.positions += 50"
   ]
  },
  {
   "cell_type": "code",
   "execution_count": 4,
   "metadata": {},
   "outputs": [],
   "source": [
    "#jorbs = json.load(open('data/water-hamiltonian/water_orbs.json', \"r\"))\n",
    "jorbs = json.loads(json.load(open('data/hamiltonian/water-hamiltonian/water_orbs.json', \"r\")))\n",
    "orbs = {}\n",
    "zdic = {\"O\" : 8, \"H\":1}\n",
    "for k in jorbs:\n",
    "    orbs[zdic[k]] = jorbs[k]"
   ]
  },
  {
   "cell_type": "code",
   "execution_count": 5,
   "metadata": {},
   "outputs": [],
   "source": [
    "hams = np.load(\"data/hamiltonian/water-hamiltonian/water_saph_orthogonal.npy\", allow_pickle=True)[:len(frames)]\n",
    "# NO NEED TO CORRECT L1 ORDER FOR SAPH ORTHOGONALIZED MATRICES...\n",
    "#for i, f in enumerate(frames):\n",
    "#    hams[i] = fix_pyscf_l1(hams[i], f, orbs)\n",
    "\n",
    "blocks = dense_to_blocks(hams, frames, orbs)"
   ]
  },
  {
   "cell_type": "code",
   "execution_count": 6,
   "metadata": {},
   "outputs": [],
   "source": [
    "cg = ClebschGordanReal(5)"
   ]
  },
  {
   "cell_type": "code",
   "execution_count": 7,
   "metadata": {},
   "outputs": [],
   "source": [
    "coupled = couple_blocks(blocks, cg)\n",
    "\n",
    "fock_bc = coupled"
   ]
  },
  {
   "cell_type": "markdown",
   "metadata": {},
   "source": [
    "## Feature computation"
   ]
  },
  {
   "cell_type": "code",
   "execution_count": 8,
   "metadata": {},
   "outputs": [],
   "source": [
    "rascal_hypers = {\n",
    "    \"interaction_cutoff\": 2.5,\n",
    "    \"cutoff_smooth_width\": 0.5,\n",
    "    \"max_radial\": 4,\n",
    "    \"max_angular\": 3,\n",
    "    \"gaussian_sigma_type\": \"Constant\",\n",
    "    \"compute_gradients\":  False,\n",
    "}\n",
    "\n",
    "spex = RascalSphericalExpansion(rascal_hypers)\n",
    "rhoi = spex.compute(frames)"
   ]
  },
  {
   "cell_type": "code",
   "execution_count": 9,
   "metadata": {},
   "outputs": [],
   "source": [
    "pairs = RascalPairExpansion(rascal_hypers)\n",
    "gij = pairs.compute(frames)"
   ]
  },
  {
   "cell_type": "code",
   "execution_count": 10,
   "metadata": {},
   "outputs": [],
   "source": [
    "mc_rho1i = acdc_standardize_keys(rhoi)\n",
    "mc_rho1i.keys_to_properties(['species_neighbor'])\n",
    "mc_gij =  acdc_standardize_keys(gij)"
   ]
  },
  {
   "cell_type": "code",
   "execution_count": 11,
   "metadata": {},
   "outputs": [],
   "source": [
    "?cg_increment"
   ]
  },
  {
   "cell_type": "code",
   "execution_count": 12,
   "metadata": {},
   "outputs": [
    {
     "name": "stdout",
     "output_type": "stream",
     "text": [
      "CPU times: user 86 ms, sys: 1.26 ms, total: 87.3 ms\n",
      "Wall time: 85.9 ms\n"
     ]
    }
   ],
   "source": [
    "%%time\n",
    "mc_rho2i = cg_increment(mc_rho1i, mc_rho1i, lcut=4, other_keys_match=[\"species_center\"], clebsch_gordan=cg)"
   ]
  },
  {
   "cell_type": "code",
   "execution_count": 13,
   "metadata": {},
   "outputs": [
    {
     "name": "stdout",
     "output_type": "stream",
     "text": [
      "CPU times: user 2.41 s, sys: 1.02 s, total: 3.43 s\n",
      "Wall time: 3.54 s\n"
     ]
    }
   ],
   "source": [
    "%%time\n",
    "mc_rho3i = cg_increment(mc_rho2i, mc_rho1i, lcut=4, other_keys_match=[\"species_center\"], clebsch_gordan=cg)"
   ]
  },
  {
   "cell_type": "code",
   "execution_count": 14,
   "metadata": {},
   "outputs": [
    {
     "name": "stdout",
     "output_type": "stream",
     "text": [
      "CPU times: user 125 ms, sys: 2.5 ms, total: 127 ms\n",
      "Wall time: 126 ms\n"
     ]
    }
   ],
   "source": [
    "%%time\n",
    "mc_rho1ij = cg_increment(mc_rho1i, mc_gij, lcut=4, other_keys_match=[\"species_center\"], clebsch_gordan=cg)"
   ]
  },
  {
   "cell_type": "code",
   "execution_count": 15,
   "metadata": {},
   "outputs": [
    {
     "name": "stdout",
     "output_type": "stream",
     "text": [
      "CPU times: user 3.2 s, sys: 617 ms, total: 3.82 s\n",
      "Wall time: 3.82 s\n"
     ]
    }
   ],
   "source": [
    "%%time\n",
    "mc_rho2ij = cg_increment(mc_rho2i, mc_gij, lcut=4, other_keys_match=[\"species_center\"], clebsch_gordan=cg)"
   ]
  },
  {
   "cell_type": "code",
   "execution_count": 16,
   "metadata": {},
   "outputs": [],
   "source": [
    "%lprun -f cg_combine cg_increment(mc_rho2i, mc_gij, lcut=4, other_keys_match=[\"species_center\"], clebsch_gordan=cg)"
   ]
  },
  {
   "cell_type": "code",
   "execution_count": 17,
   "metadata": {},
   "outputs": [
    {
     "data": {
      "text/plain": [
       "0.001486930385468841"
      ]
     },
     "execution_count": 17,
     "metadata": {},
     "output_type": "execute_result"
    }
   ],
   "source": [
    "np.linalg.norm(mc_rho2i.block(0).values)\n",
    "# 0.001486930385468841"
   ]
  },
  {
   "cell_type": "code",
   "execution_count": 18,
   "metadata": {},
   "outputs": [],
   "source": [
    "ham_feats = hamiltonian_features(mc_rho3i, mc_rho2ij)"
   ]
  },
  {
   "cell_type": "markdown",
   "metadata": {},
   "source": [
    "## Testing model on one structure"
   ]
  },
  {
   "cell_type": "code",
   "execution_count": 19,
   "metadata": {},
   "outputs": [
    {
     "data": {
      "text/plain": [
       "('structure', 'center', 'neighbor')"
      ]
     },
     "execution_count": 19,
     "metadata": {},
     "output_type": "execute_result"
    }
   ],
   "source": [
    "mc_rho2ij.block(0).samples.names"
   ]
  },
  {
   "cell_type": "code",
   "execution_count": 20,
   "metadata": {},
   "outputs": [
    {
     "name": "stdout",
     "output_type": "stream",
     "text": [
      "CPU times: user 1.5 s, sys: 17.8 ms, total: 1.52 s\n",
      "Wall time: 1.51 s\n"
     ]
    }
   ],
   "source": [
    "%%time\n",
    "ts = ham_feats.slice(\n",
    "                 Labels(names=[\"structure\"], values=np.asarray([1,3,5,7,9], dtype=np.int32).reshape(-1,1)),\n",
    "                 Labels(names=[\"species_neighbor_1\", \"species_neighbor_2\"], values=np.asarray([[1,1],[1,8]], dtype=np.int32).reshape(-1,2)),\n",
    "                )"
   ]
  },
  {
   "cell_type": "code",
   "execution_count": 21,
   "metadata": {},
   "outputs": [
    {
     "data": {
      "text/plain": [
       "Labels([(1, 1, 1), (1, 2, 2), (3, 1, 1), (3, 2, 2), (5, 1, 1), (5, 2, 2),\n",
       "        (7, 1, 1), (7, 2, 2), (9, 1, 1), (9, 2, 2)],\n",
       "       dtype=[('structure', '<i4'), ('center', '<i4'), ('neighbor', '<i4')])"
      ]
     },
     "execution_count": 21,
     "metadata": {},
     "output_type": "execute_result"
    }
   ],
   "source": [
    "ts.block(0).samples"
   ]
  },
  {
   "cell_type": "code",
   "execution_count": 22,
   "metadata": {},
   "outputs": [],
   "source": [
    "%lprun -f TensorMap.slice ham_feats.slice(Labels(names=[\"structure\"], values=np.asarray([1,3,5,7,9], dtype=np.int32).reshape(-1,1)), Labels(names=[\"species_neighbor_1\", \"species_neighbor_2\"], values=np.asarray([[1,1],[1,8]], dtype=np.int32).reshape(-1,2)),)"
   ]
  },
  {
   "cell_type": "code",
   "execution_count": 23,
   "metadata": {},
   "outputs": [],
   "source": [
    "from utils.Hamiltonian_model_utils import *"
   ]
  },
  {
   "cell_type": "code",
   "execution_count": 24,
   "metadata": {},
   "outputs": [],
   "source": [
    "FR = Fock_regression(jorbs, alpha=1e-18)"
   ]
  },
  {
   "cell_type": "code",
   "execution_count": 25,
   "metadata": {},
   "outputs": [],
   "source": [
    "FR.fit(ham_feats.slice(Labels(names=[\"structure\"], values=np.asarray(range(10), dtype=np.int32).reshape(-1,1)) ),\n",
    "       fock_bc.slice(Labels(names=[\"structure\"], values=np.asarray(range(10), dtype=np.int32).reshape(-1,1)) ))"
   ]
  },
  {
   "cell_type": "code",
   "execution_count": 26,
   "metadata": {},
   "outputs": [],
   "source": [
    "pred = FR.predict(ham_feats)"
   ]
  },
  {
   "cell_type": "code",
   "execution_count": 27,
   "metadata": {},
   "outputs": [
    {
     "name": "stdout",
     "output_type": "stream",
     "text": [
      "(0, 8, 2, 0, 8, 2, 0, 0)\n",
      "[ 4.71320044e-08 -6.37842528e-08  2.68430235e-07 -3.17285604e-08\n",
      "  1.06961794e-06 -1.93051006e-07  1.78976802e-07 -7.14982497e-07\n",
      "  1.64223808e-07 -7.01954268e-07]\n",
      "(0, 8, 2, 0, 8, 2, 1, 1)\n",
      "[ 2.35019478e-07 -2.92061474e-16 -9.74970251e-08 -6.15191266e-07\n",
      " -4.23050211e-17  7.27522836e-07  1.69716310e-17  2.63949760e-08\n",
      " -4.63288638e-08 -3.43416004e-08 -1.16991984e-16  7.99709043e-09\n",
      "  2.74093035e-07  2.74911317e-17  3.71469688e-07 -1.94922688e-06\n",
      "  1.13671163e-16  1.53651732e-06 -3.76750246e-07 -5.05634873e-17\n",
      "  5.35347534e-07 -1.73527385e-10 -1.27109185e-11  1.07363279e-07\n",
      " -1.23516180e-07  1.81985154e-17  1.16961512e-07 -1.02731082e-07\n",
      "  8.69280670e-17 -2.37172398e-07]\n",
      "(0, 8, 2, 1, 8, 2, 1, 0)\n",
      "[-5.24195093e-08 -9.99176775e-09  1.78342859e-06  4.15421431e-09\n",
      " -1.11233785e-06  7.05971257e-07 -3.44591466e-08 -1.16279764e-06\n",
      " -6.22865681e-09 -1.28851123e-07]\n",
      "(0, 8, 2, 1, 8, 2, 1, 2)\n",
      "[ 6.88131984e-07  1.28241623e-15  5.48650005e-07 -1.15190702e-15\n",
      "  7.63252297e-08  5.16932208e-07 -2.51419701e-16 -1.51943936e-08\n",
      "  2.23855848e-16  3.69296723e-06 -1.54988055e-16  3.05111283e-16\n",
      " -1.62234461e-06 -4.70494431e-06  2.63038302e-06 -6.37029176e-07\n",
      " -1.95033043e-16  1.18352586e-06  5.60657758e-16  6.62519635e-07\n",
      "  6.12952342e-06  2.06316443e-16 -1.94535854e-06 -2.00775665e-16\n",
      " -3.47504418e-06 -5.01765366e-06  3.58886596e-15 -6.16144284e-07\n",
      " -4.16517799e-15 -1.16446879e-05  1.47595309e-06 -4.72683123e-17\n",
      "  4.73215429e-08  2.39039960e-16  3.81552880e-06  5.84189210e-10\n",
      "  6.73339296e-11  2.86139083e-06  1.52320306e-09 -7.91262493e-06\n",
      "  9.69139067e-07  5.02767219e-16 -2.51435743e-08 -1.60188170e-16\n",
      "  2.78334857e-07 -2.28063334e-06  3.61330218e-16  2.23435341e-08\n",
      "  8.51668733e-18  5.09701140e-07]\n",
      "(2, 1, 1, 0, 8, 2, 0, 0)\n",
      "[-1.88612646e-07 -1.30155546e-06  7.68257052e-06 -7.87287232e-06\n",
      " -3.01235092e-06 -3.01438547e-06  6.79711742e-07 -1.95532910e-07\n",
      "  5.92239886e-06 -4.68127869e-06 -3.37437672e-06  6.70721457e-06\n",
      "  1.41576335e-06 -7.55573538e-07  5.02319232e-08  4.94282100e-08\n",
      "  7.26949054e-07  6.58171777e-07  2.48153018e-06 -1.82471734e-06]\n",
      "(2, 1, 1, 0, 8, 2, 1, 1)\n",
      "[ 9.39373002e-07  1.26695996e-15  3.30712919e-07 -5.64916519e-07\n",
      " -8.13259247e-16  3.15579217e-07 -8.67051244e-06  9.71283323e-17\n",
      " -1.10043044e-06  3.10485048e-06  8.60786575e-17  9.77836749e-06\n",
      " -2.09564305e-16 -5.49541489e-06  3.58479226e-05  1.65208696e-17\n",
      " -2.82858874e-05  2.26988744e-05  2.15157372e-05 -3.65280403e-16\n",
      "  3.03124039e-06 -9.58777364e-06  6.49239578e-16 -5.80136853e-06\n",
      " -4.85110549e-05  2.61078796e-16 -5.12246817e-06  7.98867958e-06\n",
      " -1.87290261e-16  1.07209552e-05 -2.13994079e-05  2.10103282e-15\n",
      " -1.34747440e-05  7.41191919e-06 -2.20239083e-15  3.59785128e-06\n",
      "  1.99831189e-06  5.04530442e-16  2.77984570e-06 -3.37003081e-06\n",
      " -4.26901097e-16 -1.69766275e-06 -2.78179083e-05 -7.07315822e-09\n",
      "  5.43996860e-05  2.78131264e-05 -5.80507747e-09  5.44014663e-05\n",
      " -8.53958826e-06  3.61236671e-16 -1.37456626e-06  6.39912034e-07\n",
      " -5.05392245e-16 -4.80111998e-07 -3.67193782e-06 -9.48186683e-17\n",
      "  2.44478446e-07  1.76744861e-06 -9.80034011e-17  5.30841905e-06]\n",
      "(0, 1, 1, 0, 1, 1, 0, 0)\n",
      "[-4.12185287e-07  3.42924129e-07  3.96446138e-06 -4.55545909e-06\n",
      "  4.38128329e-06  4.38167909e-06 -1.83743129e-06  1.25576101e-06\n",
      "  6.75875312e-06 -4.32003620e-06  1.19753169e-05 -8.56694547e-06\n",
      " -1.09607788e-07  1.90028890e-07 -6.92155206e-06 -6.92109004e-06\n",
      "  1.38799345e-06 -5.85020431e-07  1.29265948e-07 -5.24815306e-07]\n",
      "(1, 1, 1, 0, 1, 1, 0, 0)\n",
      "[-2.85126623e-07  4.62322255e-07  8.48835038e-06 -5.52640476e-07\n",
      "  7.37485915e-06 -1.63994706e-06  2.54817763e-07 -1.39559068e-05\n",
      "  2.45417524e-06 -2.53203550e-06]\n"
     ]
    }
   ],
   "source": [
    "for i in range(len(fock_bc.keys)):\n",
    "    print(pred.keys[i])\n",
    "    print(pred.block(i).values.flatten() - fock_bc.block(i).values.flatten())"
   ]
  },
  {
   "cell_type": "code",
   "execution_count": 28,
   "metadata": {},
   "outputs": [],
   "source": [
    "pred_decoupled = decouple_blocks(pred)\n",
    "pred_dense = blocks_to_dense(pred_decoupled, frames, orbs)"
   ]
  },
  {
   "cell_type": "code",
   "execution_count": 31,
   "metadata": {},
   "outputs": [
    {
     "data": {
      "text/plain": [
       "[<matplotlib.lines.Line2D at 0x7fb1c8313a60>]"
      ]
     },
     "execution_count": 31,
     "metadata": {},
     "output_type": "execute_result"
    },
    {
     "data": {
      "image/png": "[encoded data removed]",
      "text/plain": [
       "<Figure size 432x288 with 1 Axes>"
      ]
     },
     "metadata": {
      "needs_background": "light"
     },
     "output_type": "display_data"
    }
   ],
   "source": [
    "plt.plot(np.linalg.eigvalsh(hams[8]), np.linalg.eigvalsh(pred_dense[8]), 'r.')\n",
    "plt.plot(np.linalg.eigvalsh(hams[4]), np.linalg.eigvalsh(pred_dense[4]), 'b.')"
   ]
  },
  {
   "cell_type": "code",
   "execution_count": 32,
   "metadata": {},
   "outputs": [
    {
     "ename": "IndexError",
     "evalue": "list index out of range",
     "output_type": "error",
     "traceback": [
      "\u001b[0;31m---------------------------------------------------------------------------\u001b[0m",
      "\u001b[0;31mIndexError\u001b[0m                                Traceback (most recent call last)",
      "\u001b[0;32m<ipython-input-32-1d78a9a10c13>\u001b[0m in \u001b[0;36m<module>\u001b[0;34m\u001b[0m\n\u001b[0;32m----> 1\u001b[0;31m \u001b[0mnp\u001b[0m\u001b[0;34m.\u001b[0m\u001b[0mlinalg\u001b[0m\u001b[0;34m.\u001b[0m\u001b[0meigvalsh\u001b[0m\u001b[0;34m(\u001b[0m\u001b[0mpred_dense\u001b[0m\u001b[0;34m[\u001b[0m\u001b[0;36m18\u001b[0m\u001b[0;34m]\u001b[0m\u001b[0;34m)\u001b[0m\u001b[0;34m\u001b[0m\u001b[0;34m\u001b[0m\u001b[0m\n\u001b[0m",
      "\u001b[0;31mIndexError\u001b[0m: list index out of range"
     ]
    }
   ],
   "source": [
    "np.linalg.eigvalsh(pred_dense[18])"
   ]
  },
  {
   "cell_type": "markdown",
   "metadata": {},
   "source": [
    "rotated features for a rotated molecule"
   ]
  },
  {
   "cell_type": "code",
   "execution_count": 33,
   "metadata": {},
   "outputs": [
    {
     "data": {
      "text/plain": [
       "array([[50.      , 50.      , 50.      ],\n",
       "       [50.      , 49.165109, 50.      ],\n",
       "       [50.      , 49.905969, 49.038666]])"
      ]
     },
     "execution_count": 33,
     "metadata": {},
     "output_type": "execute_result"
    }
   ],
   "source": [
    "rot_frame = frames[0].copy()\n",
    "rot_frame.positions = 50+(50-frames[0].positions[:,[2,0,1]])\n",
    "rot_frame.positions[:,]"
   ]
  },
  {
   "cell_type": "code",
   "execution_count": 34,
   "metadata": {},
   "outputs": [],
   "source": [
    "rhoi = spex.compute([rot_frame])"
   ]
  },
  {
   "cell_type": "code",
   "execution_count": 35,
   "metadata": {},
   "outputs": [],
   "source": [
    "gij = pairs.compute([rot_frame])"
   ]
  },
  {
   "cell_type": "code",
   "execution_count": 36,
   "metadata": {},
   "outputs": [],
   "source": [
    "rot_rho1i = acdc_standardize_keys(rhoi)\n",
    "rot_rho1i.keys_to_properties(['species_neighbor'])\n",
    "rot_gij =  acdc_standardize_keys(gij)"
   ]
  },
  {
   "cell_type": "code",
   "execution_count": 37,
   "metadata": {},
   "outputs": [],
   "source": [
    "rot_rho2i = cg_increment(rot_rho1i, rot_rho1i, lcut=4, other_keys_match=[\"species_center\"])"
   ]
  },
  {
   "cell_type": "code",
   "execution_count": 38,
   "metadata": {},
   "outputs": [],
   "source": [
    "rot_rho3i = cg_increment(rot_rho2i, rot_rho1i, lcut=4, other_keys_match=[\"species_center\"])"
   ]
  },
  {
   "cell_type": "code",
   "execution_count": 39,
   "metadata": {},
   "outputs": [],
   "source": [
    "rot_rho1ij = cg_increment(rot_rho1i, rot_gij, lcut=4, other_keys_match=[\"species_center\"])"
   ]
  },
  {
   "cell_type": "code",
   "execution_count": 40,
   "metadata": {},
   "outputs": [],
   "source": [
    "rot_rho2ij = cg_increment(rot_rho2i, rot_gij, lcut=4, other_keys_match=[\"species_center\"])"
   ]
  },
  {
   "cell_type": "code",
   "execution_count": 42,
   "metadata": {},
   "outputs": [],
   "source": [
    "rot_feats = hamiltonian_features(rot_rho3i, rot_rho2ij)"
   ]
  },
  {
   "cell_type": "code",
   "execution_count": 43,
   "metadata": {},
   "outputs": [],
   "source": [
    "rot_pred = FR.predict(rot_feats)"
   ]
  },
  {
   "cell_type": "code",
   "execution_count": 44,
   "metadata": {},
   "outputs": [],
   "source": [
    "rot_decoupled = decouple_blocks(rot_pred)\n",
    "rot_dense = blocks_to_dense(rot_decoupled, [rot_frame], orbs)"
   ]
  },
  {
   "cell_type": "code",
   "execution_count": 45,
   "metadata": {},
   "outputs": [
    {
     "data": {
      "text/plain": [
       "array([-1.37730514, -0.69025058, -0.61827348, -0.51012869,  0.17444408,\n",
       "        0.26734308])"
      ]
     },
     "execution_count": 45,
     "metadata": {},
     "output_type": "execute_result"
    }
   ],
   "source": [
    "np.linalg.eigvalsh(pred_dense[0])"
   ]
  },
  {
   "cell_type": "code",
   "execution_count": 46,
   "metadata": {},
   "outputs": [
    {
     "data": {
      "text/plain": [
       "array([-1.37730514, -0.69025058, -0.61827348, -0.51012869,  0.17444408,\n",
       "        0.26734308])"
      ]
     },
     "execution_count": 46,
     "metadata": {},
     "output_type": "execute_result"
    }
   ],
   "source": [
    "np.linalg.eigvalsh(rot_dense[0])"
   ]
  },
  {
   "cell_type": "code",
   "execution_count": 47,
   "metadata": {},
   "outputs": [
    {
     "data": {
      "text/plain": [
       "<matplotlib.image.AxesImage at 0x7fb1c8035a90>"
      ]
     },
     "execution_count": 47,
     "metadata": {},
     "output_type": "execute_result"
    },
    {
     "data": {
      "image/png": "[encoded data removed]",
      "text/plain": [
       "<Figure size 288x288 with 1 Axes>"
      ]
     },
     "metadata": {
      "needs_background": "light"
     },
     "output_type": "display_data"
    }
   ],
   "source": [
    "plt.matshow(pred_dense[0]- rot_dense[0])"
   ]
  },
  {
   "cell_type": "code",
   "execution_count": 48,
   "metadata": {},
   "outputs": [
    {
     "data": {
      "text/plain": [
       "array([[ 0.00000000e+00,  2.21542495e-01,  9.41527299e-02,\n",
       "         1.27389765e-01,  0.00000000e+00, -4.99600361e-16],\n",
       "       [ 2.21542495e-01,  7.44436242e-02,  7.99476308e-02,\n",
       "        -7.99476308e-02, -3.37209554e-01, -3.58933059e-01],\n",
       "       [ 9.41527299e-02,  7.99476308e-02, -2.42515488e-01,\n",
       "         0.00000000e+00,  8.02680216e-02, -4.06783942e-01],\n",
       "       [ 1.27389765e-01, -7.99476308e-02,  0.00000000e+00,\n",
       "         1.68071864e-01, -4.17477575e-01,  4.78508828e-02],\n",
       "       [ 0.00000000e+00, -3.37209554e-01,  8.02680216e-02,\n",
       "        -4.17477575e-01,  4.44089210e-16,  0.00000000e+00],\n",
       "       [-4.99600361e-16, -3.58933059e-01, -4.06783942e-01,\n",
       "         4.78508828e-02,  0.00000000e+00, -2.22044605e-16]])"
      ]
     },
     "execution_count": 48,
     "metadata": {},
     "output_type": "execute_result"
    }
   ],
   "source": [
    "pred_dense[0]- rot_dense[0]"
   ]
  },
  {
   "cell_type": "code",
   "execution_count": null,
   "metadata": {},
   "outputs": [],
   "source": []
  },
  {
   "cell_type": "code",
   "execution_count": null,
   "metadata": {},
   "outputs": [],
   "source": []
  }
 ],
 "metadata": {
  "kernelspec": {
   "display_name": "Python 3",
   "language": "python",
   "name": "python3"
  },
  "language_info": {
   "codemirror_mode": {
    "name": "ipython",
    "version": 3
   },
   "file_extension": ".py",
   "mimetype": "text/x-python",
   "name": "python",
   "nbconvert_exporter": "python",
   "pygments_lexer": "ipython3",
   "version": "3.8.10"
  },
  "toc": {
   "base_numbering": 1,
   "nav_menu": {},
   "number_sections": true,
   "sideBar": true,
   "skip_h1_title": false,
   "title_cell": "Table of Contents",
   "title_sidebar": "Contents",
   "toc_cell": false,
   "toc_position": {},
   "toc_section_display": true,
   "toc_window_display": false
  },
  "vscode": {
   "interpreter": {
    "hash": "9b1dab49005db54eeaf19407b770a132388229704ecb91b436b854691f0d31ef"
   }
  }
 },
 "nbformat": 4,
 "nbformat_minor": 5
}
