{
 "cells": [
  {
   "cell_type": "code",
   "execution_count": 1,
   "metadata": {},
   "outputs": [],
   "source": [
    "%load_ext autoreload\n",
    "%autoreload 2"
   ]
  },
  {
   "cell_type": "code",
   "execution_count": 2,
   "metadata": {},
   "outputs": [],
   "source": [
    "import numpy as np\n",
    "import json\n",
    "from equistore import Labels, TensorBlock, TensorMap\n",
    "from utils.builder import TensorBuilder\n",
    "import ase.io\n",
    "from itertools import product\n",
    "from utils.acdc_mini import acdc_standardize_keys, cg_increment, cg_combine\n",
    "from utils.clebsh_gordan import ClebschGordanReal\n",
    "from utils.hamiltonians import fix_pyscf_l1, dense_to_blocks, blocks_to_dense, couple_blocks, decouple_blocks\n",
    "import matplotlib.pyplot as plt\n",
    "from utils.librascal import  RascalSphericalExpansion, RascalPairExpansion\n",
    "from rascal.representations import SphericalExpansion\n",
    "import copy\n",
    "from utils.pair_features import *"
   ]
  },
  {
   "cell_type": "markdown",
   "metadata": {},
   "source": [
    "## Manipulate Hamiltonian into blocks"
   ]
  },
  {
   "cell_type": "code",
   "execution_count": 68,
   "metadata": {},
   "outputs": [],
   "source": [
    "frames = ase.io.read(\"data/hamiltonian/water-hamiltonian/water_coords_1000.xyz\",\":10\")\n",
    "for f in frames:\n",
    "    f.cell = [100,100,100]\n",
    "    f.positions += 50"
   ]
  },
  {
   "cell_type": "code",
   "execution_count": 69,
   "metadata": {},
   "outputs": [],
   "source": [
    "#jorbs = json.load(open('data/water-hamiltonian/water_orbs.json', \"r\"))\n",
    "jorbs = json.loads(json.load(open('data/hamiltonian/water-hamiltonian/water_orbs.json', \"r\")))\n",
    "orbs = {}\n",
    "zdic = {\"O\" : 8, \"H\":1}\n",
    "for k in jorbs:\n",
    "    orbs[zdic[k]] = jorbs[k]"
   ]
  },
  {
   "cell_type": "code",
   "execution_count": 70,
   "metadata": {},
   "outputs": [],
   "source": [
    "hams = np.load(\"data/hamiltonian/water-hamiltonian/water_saph_orthogonal.npy\", allow_pickle=True)[:len(frames)]\n",
    "# NO NEED TO CORRECT L1 ORDER FOR SAPH ORTHOGONALIZED MATRICES...\n",
    "#for i, f in enumerate(frames):\n",
    "#    hams[i] = fix_pyscf_l1(hams[i], f, orbs)\n",
    "\n",
    "blocks = dense_to_blocks(hams, frames, orbs)"
   ]
  },
  {
   "cell_type": "code",
   "execution_count": 71,
   "metadata": {},
   "outputs": [],
   "source": [
    "cg = ClebschGordanReal(5)"
   ]
  },
  {
   "cell_type": "code",
   "execution_count": 72,
   "metadata": {},
   "outputs": [],
   "source": [
    "coupled = couple_blocks(blocks, cg)\n",
    "\n",
    "fock_bc = coupled"
   ]
  },
  {
   "cell_type": "markdown",
   "metadata": {},
   "source": [
    "## Feature computation"
   ]
  },
  {
   "cell_type": "code",
   "execution_count": 73,
   "metadata": {},
   "outputs": [],
   "source": [
    "rascal_hypers = {\n",
    "    \"interaction_cutoff\": 2.5,\n",
    "    \"cutoff_smooth_width\": 0.5,\n",
    "    \"max_radial\": 4,\n",
    "    \"max_angular\": 3,\n",
    "    \"gaussian_sigma_type\": \"Constant\",\n",
    "    \"compute_gradients\":  False,\n",
    "}\n",
    "\n",
    "spex = RascalSphericalExpansion(rascal_hypers)\n",
    "rhoi = spex.compute(frames)"
   ]
  },
  {
   "cell_type": "code",
   "execution_count": 74,
   "metadata": {},
   "outputs": [],
   "source": [
    "pairs = RascalPairExpansion(rascal_hypers)\n",
    "gij = pairs.compute(frames)"
   ]
  },
  {
   "cell_type": "code",
   "execution_count": 75,
   "metadata": {},
   "outputs": [],
   "source": [
    "mc_rho1i = acdc_standardize_keys(rhoi)\n",
    "mc_rho1i.keys_to_properties(['species_neighbor'])\n",
    "mc_gij =  acdc_standardize_keys(gij)"
   ]
  },
  {
   "cell_type": "code",
   "execution_count": 76,
   "metadata": {},
   "outputs": [],
   "source": [
    "mc_rho2i = cg_increment(mc_rho1i, mc_rho1i, lcut=4, other_keys_match=[\"species_center\"])"
   ]
  },
  {
   "cell_type": "code",
   "execution_count": 77,
   "metadata": {},
   "outputs": [],
   "source": [
    "mc_rho3i = cg_increment(mc_rho2i, mc_rho1i, lcut=4, other_keys_match=[\"species_center\"])"
   ]
  },
  {
   "cell_type": "code",
   "execution_count": 78,
   "metadata": {},
   "outputs": [],
   "source": [
    "mc_rho1ij = cg_increment(mc_rho1i, mc_gij, lcut=4, other_keys_match=[\"species_center\"])"
   ]
  },
  {
   "cell_type": "code",
   "execution_count": 79,
   "metadata": {},
   "outputs": [],
   "source": [
    "mc_rho2ij = cg_increment(mc_rho2i, mc_gij, lcut=4, other_keys_match=[\"species_center\"])"
   ]
  },
  {
   "cell_type": "code",
   "execution_count": 80,
   "metadata": {},
   "outputs": [],
   "source": [
    "def mk_hamiltonian_feats(centers, pairs):\n",
    "    \"\"\" Builds Hermitian, HAM-learning adapted features starting from generic center and pair atoms feats \"\"\"\n",
    "    keys = []\n",
    "    blocks = []\n",
    "    # central blocks\n",
    "    for k, b in centers:\n",
    "        keys.append(tuple(k)+(k[\"species_center\"], 0,))\n",
    "        samples_array = np.vstack(b.samples.tolist())\n",
    "        blocks.append(TensorBlock(\n",
    "            samples = Labels(names = b.samples.names + (\"neighbor\",),                             \n",
    "                             values = np.asarray(np.hstack([ samples_array, samples_array[:,-1:]]), dtype=np.int32) ),\n",
    "            components = b.components,\n",
    "            properties = b.properties,\n",
    "            values = b.values\n",
    "        ))\n",
    "            \n",
    "    for k, b in pairs:                        \n",
    "        if k[\"species_center\"] == k[\"species_neighbor\"]:\n",
    "            # off-site, same species\n",
    "            idx_up = np.where(b.samples[\"center\"]<b.samples[\"neighbor\"])[0]\n",
    "            if len(idx_up) ==0:\n",
    "                continue\n",
    "            idx_lo = np.where(b.samples[\"center\"]>b.samples[\"neighbor\"])[0]\n",
    "            # we need to find the \"ji\" position that matches each \"ij\" sample. \n",
    "            # we exploit the fact that the samples are sorted by structure to do a \"local\" rearrangement\n",
    "            smp_up, smp_lo = 0, 0\n",
    "            for smp_up in range(len(idx_up)):\n",
    "                ij = b.samples[idx_up[smp_up]][[\"center\", \"neighbor\"]]\n",
    "                for smp_lo in range(smp_up, len(idx_lo)):\n",
    "                    ij_lo = b.samples[idx_up[smp_up]][[\"neighbor\", \"center\"]]\n",
    "                    if b.samples[idx_up[smp_up]][\"structure\"] != b.samples[idx_lo[smp_lo]][\"structure\"]:\n",
    "                        raise ValueError(f\"Could not find matching ji term for sample {b.samples[idx_up[smp_up]]}\") \n",
    "                    if ij == ij_lo:\n",
    "                        idx_lo[smp_up], idx_lo[smp_lo] = idx_lo[smp_lo], idx_lo[smp_up]                        \n",
    "                        break            \n",
    "            \n",
    "            keys.append(tuple(k)+(1,))\n",
    "            keys.append(tuple(k)+(-1,))            \n",
    "            blocks.append(TensorBlock(\n",
    "                samples = Labels(names = b.samples.names,\n",
    "                                 values = np.asarray(b.samples[idx_up].tolist(), dtype=np.int32) ),\n",
    "                components = b.components,\n",
    "                properties = b.properties,\n",
    "                values = (b.values[idx_up] + b.values[idx_lo])/np.sqrt(2)\n",
    "            ))\n",
    "            blocks.append(TensorBlock(\n",
    "                samples = Labels(names = b.samples.names,\n",
    "                                 values = np.asarray(b.samples[idx_up].tolist(), dtype=np.int32) ),\n",
    "                components = b.components,\n",
    "                properties = b.properties,\n",
    "                values = (b.values[idx_up] - b.values[idx_lo])/np.sqrt(2)\n",
    "            ))\n",
    "        elif k[\"species_center\"] < k[\"species_neighbor\"]:\n",
    "            # off-site, different species\n",
    "            keys.append(tuple(k)+(2,))\n",
    "            blocks.append(TensorBlock(\n",
    "                samples = b.samples, \n",
    "                components = b.components,\n",
    "                properties = b.properties,\n",
    "                values = b.values.copy()\n",
    "            ))\n",
    "                                \n",
    "    return TensorMap(\n",
    "        keys = Labels(names=pairs.keys.names + (\"block_type\",), values =np.asarray(keys, dtype=np.int32)),\n",
    "        blocks = blocks\n",
    "    )    "
   ]
  },
  {
   "cell_type": "code",
   "execution_count": 81,
   "metadata": {},
   "outputs": [],
   "source": [
    "ham_feats = mk_hamiltonian_feats(mc_rho3i, mc_rho2ij)"
   ]
  },
  {
   "cell_type": "markdown",
   "metadata": {},
   "source": [
    "## Testing model on one structure"
   ]
  },
  {
   "cell_type": "code",
   "execution_count": 82,
   "metadata": {},
   "outputs": [],
   "source": [
    "from utils.Hamiltonian_model_utils import *"
   ]
  },
  {
   "cell_type": "code",
   "execution_count": 83,
   "metadata": {},
   "outputs": [
    {
     "data": {
      "text/plain": [
       "1.4160044338588412e-06"
      ]
     },
     "execution_count": 83,
     "metadata": {},
     "output_type": "execute_result"
    }
   ],
   "source": [
    "np.linalg.norm(ham_feats.block(0).values)/len(ham_feats.block(0).values)"
   ]
  },
  {
   "cell_type": "code",
   "execution_count": 106,
   "metadata": {},
   "outputs": [],
   "source": [
    "FR = Fock_regression(jorbs, alpha=1e-24)"
   ]
  },
  {
   "cell_type": "code",
   "execution_count": 107,
   "metadata": {},
   "outputs": [],
   "source": [
    "FR.fit(ham_feats, fock_bc)"
   ]
  },
  {
   "cell_type": "code",
   "execution_count": 108,
   "metadata": {},
   "outputs": [],
   "source": [
    "pred = FR.predict(ham_feats)"
   ]
  },
  {
   "cell_type": "code",
   "execution_count": 109,
   "metadata": {},
   "outputs": [
    {
     "data": {
      "text/plain": [
       "Labels([(0, 8, 2, 0, 8, 2, 0, 0), (0, 8, 2, 0, 8, 2, 1, 1),\n",
       "        (0, 8, 2, 1, 8, 2, 1, 0), (0, 8, 2, 1, 8, 2, 1, 2),\n",
       "        (2, 1, 1, 0, 8, 2, 0, 0), (2, 1, 1, 0, 8, 2, 1, 1),\n",
       "        (0, 1, 1, 0, 1, 1, 0, 0), (1, 1, 1, 0, 1, 1, 0, 0)],\n",
       "       dtype=[('block_type', '<i4'), ('a_i', '<i4'), ('n_i', '<i4'), ('l_i', '<i4'), ('a_j', '<i4'), ('n_j', '<i4'), ('l_j', '<i4'), ('L', '<i4')])"
      ]
     },
     "execution_count": 109,
     "metadata": {},
     "output_type": "execute_result"
    }
   ],
   "source": [
    "fock_bc.keys"
   ]
  },
  {
   "cell_type": "code",
   "execution_count": 110,
   "metadata": {},
   "outputs": [
    {
     "name": "stdout",
     "output_type": "stream",
     "text": [
      "(0, 8, 2, 0, 8, 2, 0, 0)\n",
      "[ 2.26485497e-14 -1.63979941e-13  2.61679567e-13 -7.88258347e-14\n",
      "  1.03983488e-12 -1.84741111e-13  2.62345701e-13 -7.73381359e-13\n",
      "  8.20454815e-14 -7.20423721e-13]\n",
      "(0, 8, 2, 0, 8, 2, 1, 1)\n",
      "[ 2.94309022e-12 -2.92061474e-16 -1.52156066e-12  1.30799538e-12\n",
      " -4.23050211e-17  2.58419675e-12  1.69716310e-17 -1.38515643e-10\n",
      " -8.15546797e-11 -2.20126695e-12 -1.16991984e-16 -3.04652137e-13\n",
      "  1.25871535e-13  2.74911317e-17 -5.55680502e-13 -7.58478003e-12\n",
      "  1.13671163e-16  9.60621860e-12 -1.91894417e-11 -5.05634873e-17\n",
      "  2.79035406e-11 -6.28736338e-11 -5.16147997e-16  4.38676873e-13\n",
      " -7.33932359e-12  1.81985154e-17  1.62306280e-12 -3.30496741e-12\n",
      "  8.69280670e-17  2.41594245e-12]\n",
      "(0, 8, 2, 1, 8, 2, 1, 0)\n",
      "[-1.02140518e-13  1.48547841e-13  2.01172412e-12  2.23154828e-13\n",
      " -1.07536202e-12  7.99804667e-13  1.12576615e-13 -1.41375800e-12\n",
      " -6.16173779e-14  1.02917674e-13]\n",
      "(0, 8, 2, 1, 8, 2, 1, 2)\n",
      "[ 3.17633420e-12  1.28241623e-15  2.32180941e-12 -1.15190702e-15\n",
      "  1.49269486e-13  2.18150498e-12 -2.51419701e-16  4.42329506e-12\n",
      "  2.23855848e-16  7.07215016e-12 -1.54988055e-16  3.05111283e-16\n",
      "  2.03020628e-10 -1.41886267e-10 -1.16174181e-10 -4.13671875e-12\n",
      " -1.95033043e-16 -5.74978953e-12  5.60657758e-16  1.26076927e-12\n",
      "  1.02989284e-11  2.06316443e-16  4.90846253e-12 -2.00775665e-16\n",
      " -5.98848054e-12 -8.24826318e-12  3.58886596e-15  1.04258269e-12\n",
      " -4.16517799e-15 -2.77230322e-11  2.37575237e-11 -4.72683123e-17\n",
      "  1.47426515e-12  2.39039960e-16  6.55777099e-11 -4.67525597e-11\n",
      "  4.40562842e-15  3.14112625e-12  1.53482031e-15 -9.01789754e-12\n",
      "  7.95016830e-13  5.02767219e-16  3.63561958e-12 -1.60188170e-16\n",
      "  5.41372502e-13 -2.70750089e-12  3.61330218e-16  3.31920602e-12\n",
      "  8.51668733e-18 -4.21256779e-13]\n",
      "(2, 1, 1, 0, 8, 2, 0, 0)\n",
      "[ 7.25619564e-12  3.95017352e-12  2.45049536e-11 -1.30191413e-11\n",
      "  1.21206029e-09 -1.21602123e-09 -2.46913601e-12  9.85200810e-12\n",
      " -2.84539059e-12  1.20214949e-12 -2.34820496e-11  3.94808630e-11\n",
      "  1.34319444e-10 -1.44026790e-10  4.10026568e-10 -4.21163493e-10\n",
      " -8.80712170e-12  6.59616806e-12  5.23991961e-12  4.14140944e-12]\n",
      "(2, 1, 1, 0, 8, 2, 1, 1)\n",
      "[ 3.19995419e-12  1.26695996e-15 -8.83909612e-12 -3.23762128e-11\n",
      " -8.13259247e-16  3.41497663e-13  2.00950645e-11  9.71283323e-17\n",
      "  1.43680068e-11 -1.12476140e-11  8.60786575e-17 -1.90658184e-11\n",
      " -2.09564305e-16  4.49771886e-10 -1.69296073e-09  1.65208696e-17\n",
      " -1.32442593e-09  1.32389938e-09  3.48630972e-11 -3.65280403e-16\n",
      "  7.04741820e-12 -1.82515114e-12  6.49239578e-16 -1.59113278e-11\n",
      " -1.23802898e-10  2.61078796e-16 -4.22207269e-11  4.15489310e-11\n",
      " -1.87290261e-16  5.60739788e-11 -2.53111802e-10  2.10103282e-15\n",
      " -7.14322490e-11  9.14932019e-11 -2.20239083e-15  2.21222859e-10\n",
      "  9.18385507e-12  5.04530442e-16  2.62857514e-11 -3.90655841e-11\n",
      " -4.26901097e-16 -4.88545315e-12 -2.43576936e-10 -9.56415699e-14\n",
      "  7.51798873e-10 -1.64518177e-10  6.38237361e-14 -5.87208504e-10\n",
      " -8.26453489e-12  3.61236671e-16 -1.13075105e-11 -9.18520815e-12\n",
      " -5.05392245e-16 -3.33906514e-12 -8.23079105e-12 -9.48186683e-17\n",
      "  6.76619871e-12  7.34096117e-12 -9.80034011e-17  2.22764307e-11]\n",
      "(0, 1, 1, 0, 1, 1, 0, 0)\n",
      "[-2.96990210e-11  2.17499352e-11  2.40714115e-11 -3.86379817e-12\n",
      " -3.33813921e-10  3.16054849e-10  7.46008810e-12 -3.07136538e-11\n",
      " -1.84630089e-12  2.42204590e-11  7.54016294e-11 -2.62457278e-11\n",
      "  9.77592451e-11 -1.26793076e-10 -2.30928776e-10  1.68908332e-10\n",
      "  1.88816740e-11  4.53621585e-11 -1.09818821e-11 -6.85818069e-12]\n",
      "(1, 1, 1, 0, 1, 1, 0, 0)\n",
      "[-3.48665541e-13  3.96460642e-13  9.65835745e-12 -6.07819350e-13\n",
      "  7.62198638e-12 -1.51109680e-12  2.11691775e-13 -1.54364854e-11\n",
      "  2.67111333e-12 -2.73722711e-12]\n"
     ]
    }
   ],
   "source": [
    "for i in range(len(fock_bc.keys)):\n",
    "    print(pred.keys[i])\n",
    "    print(pred.block(i).values.flatten() - fock_bc.block(i).values.flatten())"
   ]
  },
  {
   "cell_type": "code",
   "execution_count": 111,
   "metadata": {},
   "outputs": [
    {
     "data": {
      "text/plain": [
       "Labels([(0, 8, 2, 0, 8, 2, 0, 0), (0, 8, 2, 0, 8, 2, 1, 1),\n",
       "        (0, 8, 2, 1, 8, 2, 1, 0), (0, 8, 2, 1, 8, 2, 1, 2),\n",
       "        (2, 1, 1, 0, 8, 2, 0, 0), (2, 1, 1, 0, 8, 2, 1, 1),\n",
       "        (0, 1, 1, 0, 1, 1, 0, 0), (1, 1, 1, 0, 1, 1, 0, 0)],\n",
       "       dtype=[('block_type', '<i4'), ('a_i', '<i4'), ('n_i', '<i4'), ('l_i', '<i4'), ('a_j', '<i4'), ('n_j', '<i4'), ('l_j', '<i4'), ('L', '<i4')])"
      ]
     },
     "execution_count": 111,
     "metadata": {},
     "output_type": "execute_result"
    }
   ],
   "source": [
    "pred.keys"
   ]
  },
  {
   "cell_type": "code",
   "execution_count": 112,
   "metadata": {},
   "outputs": [],
   "source": [
    "pred_decoupled = decouple_blocks(pred)\n",
    "pred_dense = blocks_to_dense(pred_decoupled, frames, orbs)"
   ]
  },
  {
   "cell_type": "code",
   "execution_count": 113,
   "metadata": {},
   "outputs": [
    {
     "data": {
      "text/plain": [
       "array([-1.37730419, -0.69024968, -0.61827408, -0.51012916,  0.17444351,\n",
       "        0.26734281])"
      ]
     },
     "execution_count": 113,
     "metadata": {},
     "output_type": "execute_result"
    }
   ],
   "source": [
    "np.linalg.eigvalsh(hams[0])"
   ]
  },
  {
   "cell_type": "code",
   "execution_count": 114,
   "metadata": {},
   "outputs": [
    {
     "data": {
      "text/plain": [
       "array([-1.37730419, -0.69024968, -0.61827408, -0.51012916,  0.17444351,\n",
       "        0.26734281])"
      ]
     },
     "execution_count": 114,
     "metadata": {},
     "output_type": "execute_result"
    }
   ],
   "source": [
    "np.linalg.eigvalsh(pred_dense[0])"
   ]
  },
  {
   "cell_type": "markdown",
   "metadata": {},
   "source": [
    "rotated features for a rotated molecule"
   ]
  },
  {
   "cell_type": "code",
   "execution_count": 115,
   "metadata": {},
   "outputs": [
    {
     "data": {
      "text/plain": [
       "array([[50.      , 50.      , 50.      ],\n",
       "       [50.      , 49.165109, 50.      ],\n",
       "       [50.      , 49.905969, 49.038666]])"
      ]
     },
     "execution_count": 115,
     "metadata": {},
     "output_type": "execute_result"
    }
   ],
   "source": [
    "rot_frame = frames[0].copy()\n",
    "rot_frame.positions = 50+(50-frames[0].positions[:,[2,0,1]])\n",
    "rot_frame.positions[:,]"
   ]
  },
  {
   "cell_type": "code",
   "execution_count": 116,
   "metadata": {},
   "outputs": [],
   "source": [
    "rhoi = spex.compute([rot_frame])"
   ]
  },
  {
   "cell_type": "code",
   "execution_count": 117,
   "metadata": {},
   "outputs": [],
   "source": [
    "gij = pairs.compute([rot_frame])"
   ]
  },
  {
   "cell_type": "code",
   "execution_count": 118,
   "metadata": {},
   "outputs": [],
   "source": [
    "rot_rho1i = acdc_standardize_keys(rhoi)\n",
    "rot_rho1i.keys_to_properties(['species_neighbor'])\n",
    "rot_gij =  acdc_standardize_keys(gij)"
   ]
  },
  {
   "cell_type": "code",
   "execution_count": 119,
   "metadata": {},
   "outputs": [],
   "source": [
    "rot_rho2i = cg_increment(rot_rho1i, rot_rho1i, lcut=4, other_keys_match=[\"species_center\"])"
   ]
  },
  {
   "cell_type": "code",
   "execution_count": null,
   "metadata": {},
   "outputs": [],
   "source": [
    "rot_rho3i = cg_increment(rot_rho2i, rot_rho1i, lcut=4, other_keys_match=[\"species_center\"])"
   ]
  },
  {
   "cell_type": "code",
   "execution_count": null,
   "metadata": {},
   "outputs": [],
   "source": [
    "rot_rho1ij = cg_increment(rot_rho1i, rot_gij, lcut=4, other_keys_match=[\"species_center\"])"
   ]
  },
  {
   "cell_type": "code",
   "execution_count": null,
   "metadata": {},
   "outputs": [],
   "source": [
    "rot_rho2ij = cg_increment(rot_rho2i, rot_gij, lcut=4, other_keys_match=[\"species_center\"])"
   ]
  },
  {
   "cell_type": "code",
   "execution_count": null,
   "metadata": {},
   "outputs": [],
   "source": [
    "rot_feats = mk_hamiltonian_feats(rot_rho3i, rot_rho2ij)"
   ]
  },
  {
   "cell_type": "code",
   "execution_count": null,
   "metadata": {},
   "outputs": [],
   "source": [
    "rot_pred = FR.predict(rot_feats)"
   ]
  },
  {
   "cell_type": "code",
   "execution_count": null,
   "metadata": {},
   "outputs": [],
   "source": [
    "rot_decoupled = decouple_blocks(rot_pred)\n",
    "rot_dense = blocks_to_dense(rot_decoupled, [rot_frame], orbs)"
   ]
  },
  {
   "cell_type": "code",
   "execution_count": null,
   "metadata": {},
   "outputs": [],
   "source": [
    "np.linalg.eigvalsh(pred_dense[0])"
   ]
  },
  {
   "cell_type": "code",
   "execution_count": null,
   "metadata": {},
   "outputs": [],
   "source": [
    "np.linalg.eigvalsh(rot_dense[0])"
   ]
  },
  {
   "cell_type": "code",
   "execution_count": null,
   "metadata": {},
   "outputs": [],
   "source": [
    "plt.matshow(pred_dense[0]- rot_dense[0])"
   ]
  },
  {
   "cell_type": "code",
   "execution_count": null,
   "metadata": {},
   "outputs": [],
   "source": [
    "pred_dense[0]- rot_dense[0]"
   ]
  },
  {
   "cell_type": "code",
   "execution_count": null,
   "metadata": {},
   "outputs": [],
   "source": []
  }
 ],
 "metadata": {
  "kernelspec": {
   "display_name": "Python 3",
   "language": "python",
   "name": "python3"
  },
  "language_info": {
   "codemirror_mode": {
    "name": "ipython",
    "version": 3
   },
   "file_extension": ".py",
   "mimetype": "text/x-python",
   "name": "python",
   "nbconvert_exporter": "python",
   "pygments_lexer": "ipython3",
   "version": "3.8.10"
  },
  "toc": {
   "base_numbering": 1,
   "nav_menu": {},
   "number_sections": true,
   "sideBar": true,
   "skip_h1_title": false,
   "title_cell": "Table of Contents",
   "title_sidebar": "Contents",
   "toc_cell": false,
   "toc_position": {},
   "toc_section_display": true,
   "toc_window_display": false
  },
  "vscode": {
   "interpreter": {
    "hash": "9b1dab49005db54eeaf19407b770a132388229704ecb91b436b854691f0d31ef"
   }
  }
 },
 "nbformat": 4,
 "nbformat_minor": 5
}
