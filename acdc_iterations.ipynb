{
 "cells": [
  {
   "cell_type": "code",
   "execution_count": 24,
   "metadata": {},
   "outputs": [
    {
     "name": "stdout",
     "output_type": "stream",
     "text": [
      "The autoreload extension is already loaded. To reload it, use:\n",
      "  %reload_ext autoreload\n"
     ]
    }
   ],
   "source": [
    "%load_ext autoreload\n",
    "%autoreload 2\n",
    "\n",
    "import numpy as np\n",
    "import scipy as sp\n",
    "import matplotlib.pyplot as plt\n",
    "\n",
    "import ase.io\n",
    "from time import time\n",
    "from copy import deepcopy\n",
    "\n",
    "from aml_storage import Labels, Block, Descriptor\n",
    "\n",
    "from utils.librascal import RascalSphericalExpansion\n",
    "from utils.clebsh_gordan import ClebschGordanReal"
   ]
  },
  {
   "cell_type": "markdown",
   "metadata": {},
   "source": [
    "This example demonstrates the iterative construction of atom-centered density correlations.\n",
    "The calculations incorporate ideas from the N-body iterative contraction of equivariants [paper](https://doi.org/10.1063/5.0021116) and the optimal radial basis [paper](https://doi.org/10.1063/5.0057229)."
   ]
  },
  {
   "cell_type": "markdown",
   "metadata": {},
   "source": [
    "# Covariance-optimal basis"
   ]
  },
  {
   "cell_type": "markdown",
   "metadata": {},
   "source": [
    "We start by computing the spherical expansion representation for a set of methane structures. "
   ]
  },
  {
   "cell_type": "code",
   "execution_count": 2,
   "metadata": {},
   "outputs": [],
   "source": [
    "rascal_hypers = {\n",
    "    \"interaction_cutoff\": 3.5,\n",
    "    \"cutoff_smooth_width\": 0.5,\n",
    "    \"max_radial\": 3,\n",
    "    \"max_angular\": 2,\n",
    "    \"gaussian_sigma_type\": \"Constant\",\n",
    "    \"compute_gradients\":  True,\n",
    "}\n",
    "\n",
    "nmax, lmax = rascal_hypers[\"max_radial\"], rascal_hypers[\"max_angular\"]\n",
    "calculator = RascalSphericalExpansion(rascal_hypers)"
   ]
  },
  {
   "cell_type": "code",
   "execution_count": 3,
   "metadata": {},
   "outputs": [],
   "source": [
    "frames = ase.io.read(\"./data/random-methane-10k.extxyz\", \"::1000\")\n",
    "for f in frames:\n",
    "    f.cell = [100,100,100]\n",
    "    f.positions += 50"
   ]
  },
  {
   "cell_type": "code",
   "execution_count": 4,
   "metadata": {},
   "outputs": [],
   "source": [
    "density_expansion = calculator.compute(frames)"
   ]
  },
  {
   "cell_type": "markdown",
   "metadata": {},
   "source": [
    "Then, select the C,H block, which is the most significant for this dataset, and project to the optimal covariance basis."
   ]
  },
  {
   "cell_type": "code",
   "execution_count": 5,
   "metadata": {},
   "outputs": [],
   "source": [
    "# for each (C,H) block, construct the optimal covariance basis\n",
    "opt_eve = {}\n",
    "opt_eva = {}\n",
    "full_norms = np.zeros(len(frames))\n",
    "for index, block in density_expansion:\n",
    "    if index[\"center_species\"] == 6 and index[\"neighbor_species\"] == 1:\n",
    "        feats = block.values.reshape(-1, len(block.features))\n",
    "        full_norms += (block.values**2).sum(axis=-1).sum(axis=-1)\n",
    "        cov = feats.T @ feats / feats.shape[0]\n",
    "        eva, eve = sp.linalg.eigh(cov)\n",
    "        eva = eva[::-1]; eve = eve[:,::-1]\n",
    "        opt_eva[index[\"spherical_harmonics_l\"]] = eva\n",
    "        opt_eve[index[\"spherical_harmonics_l\"]] = eve"
   ]
  },
  {
   "cell_type": "code",
   "execution_count": 6,
   "metadata": {},
   "outputs": [
    {
     "data": {
      "image/png": "[encoded data removed]",
      "text/plain": [
       "<Figure size 432x288 with 1 Axes>"
      ]
     },
     "metadata": {
      "needs_background": "light"
     },
     "output_type": "display_data"
    }
   ],
   "source": [
    "for l in range(lmax+1):\n",
    "    plt.loglog(opt_eva[l])"
   ]
  },
  {
   "cell_type": "markdown",
   "metadata": {},
   "source": [
    "Create compressed features, using labels naming consistent with Nigam 2020"
   ]
  },
  {
   "cell_type": "code",
   "execution_count": 9,
   "metadata": {},
   "outputs": [],
   "source": [
    "sel_thresh = 6e-6\n",
    "blocks = []\n",
    "for l in range(lmax+1):\n",
    "    n_selected = len(np.where(opt_eva[l] > sel_thresh)[0])    \n",
    "    de_block = density_expansion.block(center_species = 6, neighbor_species=1, spherical_harmonics_l = l)\n",
    "    block = Block(\n",
    "        data = de_block.values@opt_eve[l][:,:n_selected],\n",
    "        samples = de_block.samples,\n",
    "        components = Labels([\"m\"],np.asarray(range(-l,l+1), dtype=np.int32).reshape(-1,1)),\n",
    "        features = Labels([\"n\", \"multiplicity\"], np.asarray([[n, 1] for n in range(n_selected)], dtype=np.int32))\n",
    "    )\n",
    "    if rascal_hypers[\"compute_gradients\"]:\n",
    "        de_grad = de_block.gradient(\"positions\")\n",
    "        block.add_gradient(\n",
    "            name=\"positions\",\n",
    "            samples=de_grad[0],\n",
    "            gradient=de_grad[1]@opt_eve[l][:,:n_selected],\n",
    "        )\n",
    "    blocks.append( block )                 \n",
    "    "
   ]
  },
  {
   "cell_type": "code",
   "execution_count": 10,
   "metadata": {},
   "outputs": [],
   "source": [
    "acdc_nu1 = Descriptor(sparse = Labels(names=[\"sigma\", \"lambda\", \"nu\"], \n",
    "                                      values=np.asarray([[ 1, l, 1] for l in range(rascal_hypers[\"max_angular\"]+1)], dtype=np.int32)), \n",
    "                      blocks = blocks\n",
    "                     )"
   ]
  },
  {
   "cell_type": "code",
   "execution_count": 11,
   "metadata": {},
   "outputs": [
    {
     "data": {
      "text/plain": [
       "[<matplotlib.lines.Line2D at 0x7fa952cf1b20>]"
      ]
     },
     "execution_count": 11,
     "metadata": {},
     "output_type": "execute_result"
    },
    {
     "data": {
      "image/png": "[encoded data removed]",
      "text/plain": [
       "<Figure size 432x288 with 1 Axes>"
      ]
     },
     "metadata": {
      "needs_background": "light"
     },
     "output_type": "display_data"
    }
   ],
   "source": [
    "ln_nu1 = np.asarray([[s[\"lambda\"], b.values.shape[-1]] for s,b in acdc_nu1 ])\n",
    "plt.plot(ln_nu1[:,0], ln_nu1[:,1], 'b*-')"
   ]
  },
  {
   "cell_type": "markdown",
   "metadata": {},
   "source": [
    "# ACDC utilities"
   ]
  },
  {
   "cell_type": "code",
   "execution_count": 12,
   "metadata": {},
   "outputs": [],
   "source": [
    "def acdc_full_product_indices(x_a, x_b):\n",
    "    \"\"\"\n",
    "    Enumerates the indices of features that result from a product of ACDC equivariants.\n",
    "    Sparse indices should be labeled as (\"sigma\", \"lambda\", \"nu\"). \n",
    "    Dense feature names are not used, except for picking up the \"multiplicity\" of a feature set. \n",
    "    \"\"\"\n",
    "    \n",
    "    # determines the cutoff in the new features\n",
    "    lmax_a = max(x_a.sparse[\"lambda\"])\n",
    "    lmax_b = max(x_b.sparse[\"lambda\"])\n",
    "    lcut = lmax_a+lmax_b+1\n",
    "    \n",
    "    # assumes uniform nu\n",
    "    nu_a = x_a.sparse[\"nu\"][0]\n",
    "    nu_b = x_b.sparse[\"nu\"][0]\n",
    "    \n",
    "    # block indexes for the incremented features\n",
    "    NU=nu_a+nu_b    \n",
    "    X_list = {(S, L, NU):{} for L in range(lcut+1) for S in [-1,1]}\n",
    "    for index_a, block_a in x_a:\n",
    "        lambda_a = index_a[\"lambda\"]        \n",
    "        sigma_a = index_a[\"sigma\"]\n",
    "        for index_b, block_b in x_b:\n",
    "            lambda_b = index_b[\"lambda\"]\n",
    "            sigma_b = index_b[\"sigma\"]\n",
    "            for f_a in block_a.features:\n",
    "                w_a = f_a[\"multiplicity\"]\n",
    "                f_a = tuple(f_a)                \n",
    "                for f_b in block_b.features:\n",
    "                    w_b = f_b[\"multiplicity\"]\n",
    "                    f_b = tuple(f_b)\n",
    "                    W = w_a*w_b\n",
    "                    IDX = f_a[:-1]+(lambda_a,)+f_b[:-1]+(lambda_b,)\n",
    "                    for L in range(np.abs(lambda_a-lambda_b), 1+min(lambda_a+lambda_b, lcut) ):\n",
    "                        S = sigma_a*sigma_b*(-1)**(lambda_a+lambda_b+L)\n",
    "                        X_list[(S,L,NU)][IDX] = W\n",
    "    return X_list"
   ]
  },
  {
   "cell_type": "code",
   "execution_count": 18,
   "metadata": {},
   "outputs": [],
   "source": [
    "def acdc_combine(x_a, x_b, selected_features=None, feature_names=None, clebsch_gordan=None):\n",
    "    \"\"\"\n",
    "    Performs a CG product of two sets of equivariants. Only requirement is that \n",
    "    sparse indices are labeled as (\"sigma\", \"lambda\", \"nu\"). The automatically-determined\n",
    "    naming of output features can be overridden by giving a list of \"feature_names\".\n",
    "    A dictionary of select_features (organized in the same blocks as the sparse indices,\n",
    "    each containing a dictionary of the feature indices and an associated multiplicity)\n",
    "    can also be specified to filter the features that should be selected. \n",
    "    \"\"\"\n",
    "    \n",
    "    # determines the cutoff in the new features\n",
    "    lmax_a = max(x_a.sparse[\"lambda\"])\n",
    "    lmax_b = max(x_b.sparse[\"lambda\"])\n",
    "    lcut = lmax_a+lmax_b\n",
    "    start = time()\n",
    "    # creates a CG object, if needed\n",
    "    if clebsch_gordan is None:\n",
    "        clebsch_gordan = ClebschGordanReal(lcut)\n",
    "    \n",
    "    # assumes uniform nu in the descriptors\n",
    "    nu_a = x_a.sparse[\"nu\"][0]\n",
    "    nu_b = x_b.sparse[\"nu\"][0]\n",
    "    \n",
    "    # block indexes for the incremented features\n",
    "    NU=nu_a+nu_b    \n",
    "    X_blocks = {(S, L, NU): [] for L in range(lcut+1) for S in [-1,1]}\n",
    "    X_idx = {(S, L, NU): [] for L in range(lcut+1) for S in [-1,1]}\n",
    "    \n",
    "    #NB : assumes the samples are matching. we could add some kind of validation, at least on size if not on content\n",
    "    samples = x_a.block(0).samples\n",
    "    nsamples = len(samples)\n",
    "    try:\n",
    "        grad_samples, _ = x_a.block(0).gradient(\"positions\")\n",
    "        X_grads = {(S, L, NU): [] for L in range(lcut+1) for S in [-1,1]}\n",
    "    except:\n",
    "        grad_samples = None\n",
    "    \n",
    "    # automatic generation of the output features names - \"x1 x2 x3 ; x1 x2 -> x1_a x2_a x3_a k_nu x1_b x2_b l_nu\"\n",
    "    if feature_names is None:\n",
    "        feature_names = tuple( n+\"_a\" for n in x_a.block(0).features.names[:-1]) + (\"k_\"+str(NU),) +tuple( n+\"_b\" for n in x_b.block(0).features.names[:-1] ) + (\"l_\"+str(NU),) +(\"multiplicity\",)\n",
    "    print(\"prep\", time()-start)\n",
    "    start = time()\n",
    "    # loops over sparse blocks of x_a\n",
    "    for index_a, block_a in x_a:\n",
    "        lambda_a = index_a[\"lambda\"]\n",
    "        sigma_a = index_a[\"sigma\"]\n",
    "        # and x_b\n",
    "        for index_b, block_b in x_b:\n",
    "            lambda_b = index_b[\"lambda\"]\n",
    "            sigma_b = index_b[\"sigma\"]\n",
    "            #loops over all permissible output blocks. note that blocks will be filled from different la, lb\n",
    "            for L in range(np.abs(lambda_a-lambda_b), 1+min(lambda_a+lambda_b, lcut) ):\n",
    "                # determines parity of the block\n",
    "                S = sigma_a*sigma_b*(-1)**(lambda_a+lambda_b+L)\n",
    "                sel_feats = []\n",
    "                sel_weights = []\n",
    "                #determines the features that are in the select list\n",
    "                for n_a in range(len(block_a.features)):\n",
    "                    f_a = block_a.features[n_a]\n",
    "                    w_a = f_a[\"multiplicity\"]                    \n",
    "                    f_a = tuple(f_a)[:-1] # discards multiplicity info\n",
    "                    for n_b in range(len(block_b.features)):                    \n",
    "                        f_b = block_b.features[n_b]\n",
    "                        w_b = f_b[\"multiplicity\"]\n",
    "                        f_b = tuple(f_b)[:-1]\n",
    "                        \n",
    "                        # the index is assembled consistently with the scheme above\n",
    "                        IDX = f_a + (lambda_a,) + f_b + (lambda_b,)\n",
    "                        if selected_features is None: \n",
    "                            w_X = w_a*w_b\n",
    "                        else:\n",
    "                            if IDX in selected_features[(S,L,NU)]:\n",
    "                                w_X = selected_features[(S,L,NU)][IDX]\n",
    "                            else:\n",
    "                                continue\n",
    "                        sel_feats.append([n_a,n_b])\n",
    "                        sel_weights.append(np.sqrt(w_X/(w_a*w_b)))\n",
    "                        X_idx[(S,L,NU)].append(IDX+(w_X,))\n",
    "                    \n",
    "                sel_feats = np.asarray(sel_feats, dtype=int)\n",
    "                \n",
    "                if len(sel_feats) == 0:\n",
    "                    continue\n",
    "\n",
    "                # builds all products in one go\n",
    "                one_shot_blocks = clebsch_gordan.combine_einsum(block_a.values[:,:,sel_feats[:,0]],\n",
    "                                                         block_b.values[:,:,sel_feats[:,1]],\n",
    "                                                         L, combination_string=\"iq,iq->iq\" )\n",
    "                # do gradients, if they are present...\n",
    "                if grad_samples is not None:\n",
    "                    smp_a, grad_a = block_a.gradient(\"positions\")\n",
    "                    smp_b, grad_b = block_b.gradient(\"positions\")\n",
    "                    one_shot_grads = ( clebsch_gordan.combine_einsum(\n",
    "                                        block_a.values[smp_a['sample']][:,:,sel_feats[:,0]],\n",
    "                                        grad_b[:,:,sel_feats[:,1]],\n",
    "                                        L=L,combination_string=\"iq,iq->iq\") +\n",
    "                                    clebsch_gordan.combine_einsum(\n",
    "                                        block_b.values[smp_b['sample']][:,:,sel_feats[:,1]],\n",
    "                                        grad_a[:,:,sel_feats[:,0]],\n",
    "                                        L=L,combination_string=\"iq,iq->iq\")\n",
    "                        )\n",
    "                \n",
    "                # now loop over the selected features to build the blocks\n",
    "                for Q in range(len(sel_feats)):\n",
    "                    #(n_a, n_b) = sel_feats[Q]\n",
    "                    newblock = one_shot_blocks[:,:,Q]*sel_weights[Q]                    \n",
    "                    X_blocks[(S,L,NU)].append(newblock)\n",
    "                    if grad_samples is not None:\n",
    "                        newgrad = one_shot_grads[:,:,Q]*sel_weights[Q]\n",
    "                        X_grads[(S,L,NU)].append(newgrad)                        \n",
    "\n",
    "    print(\"calc\", time()-start)\n",
    "    start = time()\n",
    "    # turns data into sparse storage format (and dumps any empty block in the process)\n",
    "    nz_idx = []\n",
    "    nz_blk = []\n",
    "    for SLN in X_blocks:\n",
    "        S, L, NU = SLN\n",
    "        # create blocks\n",
    "        if (len(X_blocks[SLN])==0): continue  # skips empty blocks\n",
    "        nz_idx.append(SLN)\n",
    "        newblock= Block(\n",
    "                        # feature index must be last\n",
    "                        data=np.moveaxis(np.asarray(X_blocks[SLN]), 0, -1),\n",
    "                        samples = samples,\n",
    "                        components = Labels([\"mu\"],np.asarray(range(-L,L+1), dtype=np.int32).reshape(-1,1)),\n",
    "                        features = Labels( feature_names,\n",
    "                                           np.asarray(X_idx[SLN],dtype=np.int32)\n",
    "                                          )\n",
    "                          ) \n",
    "        if grad_samples is not None:\n",
    "            newblock.add_gradient(\"positions\", grad_samples, np.moveaxis(np.asarray(X_grads[SLN]), 0, -1))\n",
    "        nz_blk.append(newblock)\n",
    "    X = Descriptor(Labels([\"sigma\", \"lambda\", \"nu\"], np.asarray(nz_idx, dtype=np.int32)), \n",
    "                            nz_blk)\n",
    "    print(\"clean\", time()-start)\n",
    "    return X"
   ]
  },
  {
   "cell_type": "code",
   "execution_count": 19,
   "metadata": {},
   "outputs": [],
   "source": [
    "def acdc_increment(x_nu, x_1, selected_features=None, clebsch_gordan=None):\n",
    "    \"\"\" Specialized version of the CG product to perform iterations with nu=1 features\"\"\"\n",
    "    nu = x_nu.sparse[\"nu\"][0]\n",
    "    if nu==1:\n",
    "        feature_names = (\"n_1\", \"l_1\", \"n_2\", \"l_2\", \"multiplicity\")\n",
    "    else:\n",
    "        feature_names = tuple(x_nu.block(0).features.names[:-1]) + (\"k_\"+str(nu+1), \"n_\"+str(nu+1),\"l_\"+str(nu+1), \"multiplicity\")\n",
    "    return acdc_combine(x_nu, x_1, feature_names = feature_names, selected_features = selected_features, clebsch_gordan=clebsch_gordan)"
   ]
  },
  {
   "cell_type": "code",
   "execution_count": 20,
   "metadata": {},
   "outputs": [],
   "source": [
    "cg = ClebschGordanReal(lmax*3)"
   ]
  },
  {
   "cell_type": "code",
   "execution_count": 21,
   "metadata": {},
   "outputs": [
    {
     "name": "stdout",
     "output_type": "stream",
     "text": [
      "prep 0.0006015300750732422\n",
      "calc 0.02734661102294922\n",
      "clean 0.003488779067993164\n",
      "CPU times: user 30.5 ms, sys: 3.36 ms, total: 33.9 ms\n",
      "Wall time: 32.3 ms\n"
     ]
    }
   ],
   "source": [
    "%%time\n",
    "acdc_nu2 = acdc_increment(acdc_nu1, acdc_nu1, clebsch_gordan=cg)"
   ]
  },
  {
   "cell_type": "code",
   "execution_count": 22,
   "metadata": {},
   "outputs": [
    {
     "name": "stdout",
     "output_type": "stream",
     "text": [
      "prep 0.0005156993865966797\n",
      "calc 0.17124629020690918\n",
      "clean 0.007141590118408203\n",
      "CPU times: user 175 ms, sys: 6.64 ms, total: 182 ms\n",
      "Wall time: 180 ms\n"
     ]
    }
   ],
   "source": [
    "%%time\n",
    "acdc_nu3 = acdc_increment(acdc_nu2, acdc_nu1, clebsch_gordan = cg)"
   ]
  },
  {
   "cell_type": "markdown",
   "metadata": {},
   "source": [
    "## analyze jacobian"
   ]
  },
  {
   "cell_type": "markdown",
   "metadata": {},
   "source": [
    "Requires `compute_gradients=True`"
   ]
  },
  {
   "cell_type": "markdown",
   "metadata": {},
   "source": [
    "manually densify features"
   ]
  },
  {
   "cell_type": "code",
   "execution_count": 30,
   "metadata": {},
   "outputs": [],
   "source": [
    "j_nu1 = []\n",
    "for idx, block in acdc_nu1:\n",
    "    smp, grad = block.gradient(\"positions\")\n",
    "    j_nu1.append(grad.reshape((grad.shape[0],-1)))\n",
    "j_nu1 = np.concatenate(j_nu1, axis=-1).reshape(10,12,-1)    "
   ]
  },
  {
   "cell_type": "code",
   "execution_count": 31,
   "metadata": {},
   "outputs": [],
   "source": [
    "j_nu2 = []\n",
    "for idx, block in acdc_nu2:\n",
    "    smp, grad = block.gradient(\"positions\")\n",
    "    j_nu2.append(grad.reshape((grad.shape[0],-1)))\n",
    "j_nu2 = np.concatenate(j_nu2, axis=-1).reshape(10,12,-1)"
   ]
  },
  {
   "cell_type": "code",
   "execution_count": 32,
   "metadata": {},
   "outputs": [],
   "source": [
    "j_nu3 = []\n",
    "for idx, block in acdc_nu3:\n",
    "    smp, grad = block.gradient(\"positions\")\n",
    "    j_nu3.append(grad.reshape((grad.shape[0],-1)))\n",
    "j_nu3 = np.concatenate(j_nu3, axis=-1).reshape(10,12,-1)\n",
    "\n",
    "sv_nu3 = np.asarray([ sp.linalg.svdvals(j_nu3[i])  for i in range(10)])"
   ]
  },
  {
   "cell_type": "code",
   "execution_count": 33,
   "metadata": {},
   "outputs": [],
   "source": [
    "import scipy as sp"
   ]
  },
  {
   "cell_type": "code",
   "execution_count": 34,
   "metadata": {},
   "outputs": [],
   "source": [
    "sv_nu1 = np.asarray([ sp.linalg.svdvals(j_nu1[i])  for i in range(10)])\n",
    "sv_nu2 = np.asarray([ sp.linalg.svdvals(j_nu2[i])  for i in range(10)])"
   ]
  },
  {
   "cell_type": "code",
   "execution_count": 35,
   "metadata": {},
   "outputs": [
    {
     "data": {
      "text/plain": [
       "Text(0, 0.5, 'CN ($\\\\nu=2)$')"
      ]
     },
     "execution_count": 35,
     "metadata": {},
     "output_type": "execute_result"
    },
    {
     "data": {
      "image/png": "[encoded data removed]",
      "text/plain": [
       "<Figure size 432x288 with 1 Axes>"
      ]
     },
     "metadata": {
      "needs_background": "light"
     },
     "output_type": "display_data"
    }
   ],
   "source": [
    "plt.plot(\n",
    "    sv_nu1[:,0]/sv_nu1[:,-1],\n",
    "    sv_nu2[:,0]/sv_nu2[:,-1],\n",
    "    'r.'\n",
    ")\n",
    "plt.plot([1,8],[1,8],'k--')\n",
    "plt.xlabel(r\"CN ($\\nu=1)$\")\n",
    "plt.ylabel(r\"CN ($\\nu=2)$\")"
   ]
  },
  {
   "cell_type": "code",
   "execution_count": 36,
   "metadata": {},
   "outputs": [
    {
     "data": {
      "text/plain": [
       "Text(0, 0.5, 'CN ($\\\\nu=3)$')"
      ]
     },
     "execution_count": 36,
     "metadata": {},
     "output_type": "execute_result"
    },
    {
     "data": {
      "image/png": "[encoded data removed]",
      "text/plain": [
       "<Figure size 432x288 with 1 Axes>"
      ]
     },
     "metadata": {
      "needs_background": "light"
     },
     "output_type": "display_data"
    }
   ],
   "source": [
    "plt.plot(\n",
    "    sv_nu1[:,0]/sv_nu1[:,-1],\n",
    "    sv_nu3[:,0]/sv_nu3[:,-1],\n",
    "    'r.'\n",
    ")\n",
    "plt.plot([1,8],[1,8],'k--')\n",
    "plt.xlabel(r\"CN ($\\nu=1)$\")\n",
    "plt.ylabel(r\"CN ($\\nu=3)$\")"
   ]
  },
  {
   "cell_type": "markdown",
   "metadata": {},
   "source": [
    "# Independent feature tracking"
   ]
  },
  {
   "cell_type": "markdown",
   "metadata": {},
   "source": [
    "This manipulates features "
   ]
  },
  {
   "cell_type": "code",
   "execution_count": 236,
   "metadata": {},
   "outputs": [],
   "source": [
    "def _get_idx_nl(nu, idx, names):  \n",
    "    # extracts the n,l feature indices. assumes indices are labelled n_nu, l_nu\n",
    "    nl_values = np.zeros((nu,2), dtype = np.int32)    \n",
    "    for i, n in enumerate(names):\n",
    "        w, k = n.split(\"_\")\n",
    "        k = int(k)\n",
    "        if w == \"n\":\n",
    "            nl_values[k-1][0] = idx[i]\n",
    "        elif w == \"l\":\n",
    "            nl_values[k-1][1] = idx[i]\n",
    "    return nl_values\n",
    "\n",
    "def _sort_idx_nl(nl_values):\n",
    "    # sorts the n,l indices lexicographically (l first, then n)\n",
    "    isort = np.lexsort(nl_values.T)\n",
    "    return nl_values[isort]"
   ]
  },
  {
   "cell_type": "code",
   "execution_count": 237,
   "metadata": {},
   "outputs": [],
   "source": [
    "def acdc_canonical_indices(x_nu, x_1, selected_features = None):\n",
    "    \"\"\" Determines canonical (n,l, lexicographically sorted) indices, to \n",
    "    implement the selection rule with lambda_1<l2<l3 ... lambda_nu [cf. Nigam et al. JCP 2020]\n",
    "    This eliminates a large fraction of the linearly dependent equivariants. \n",
    "    NB: this only works if we keep stacking the same density coefficients, which we assume are \n",
    "    passed as the second argument.\n",
    "    Also tracks multiplicity so norm should be conserved. \"\"\"\n",
    "    \n",
    "    nu = x_nu.sparse[\"nu\"][0]\n",
    "    if nu==1:\n",
    "        names = (\"n_1\", \"l_1\", \"n_2\", \"l_2\")\n",
    "    else:\n",
    "        names = tuple(x_nu.block(0).features.names[:-1]) + (\"k_\"+str(nu+1), \"n_\"+str(nu+1),\"l_\"+str(nu+1))\n",
    "    if selected_features is None:\n",
    "        selected_features = acdc_full_product_indices(x_nu, x_1)\n",
    "    \n",
    "    X_list = {}\n",
    "    for block in selected_features:\n",
    "        canonical_idx = {}\n",
    "        canonical_counts = {}\n",
    "        if len(selected_features[block]) == 0:\n",
    "            continue\n",
    "        X_list[block] = {}        \n",
    "        for idx in selected_features[block]:             \n",
    "            # gets only the n,l part of the nu features \n",
    "            cidx = _get_idx_nl(nu+1, idx, names)\n",
    "            # gets the sorted version\n",
    "            sidx = _sort_idx_nl(cidx)\n",
    "            # converts to tuple\n",
    "            cidx = tuple(cidx.flatten())\n",
    "            sidx = tuple(sidx.flatten())            \n",
    "            # gets multiplicity (weight)\n",
    "            W = selected_features[block][idx]\n",
    "                \n",
    "            if not sidx in canonical_counts:\n",
    "                canonical_idx[sidx] = []\n",
    "                canonical_counts[sidx] = 0\n",
    "            \n",
    "            canonical_counts[sidx] += W\n",
    "            if cidx == sidx:\n",
    "                canonical_idx[sidx].append(idx)\n",
    "            \n",
    "        X_list[block] = {}\n",
    "        for nl in canonical_counts:            \n",
    "            if (canonical_counts[nl]%len(canonical_idx[nl]) !=0):\n",
    "                    print(\"non integer count!\", canonical_counts[nl], len(canonical_idx[nl]))                \n",
    "            for idx in canonical_idx[nl]:\n",
    "                X_list[block][idx] = canonical_counts[nl]//len(canonical_idx[nl])        \n",
    "    return X_list"
   ]
  },
  {
   "cell_type": "code",
   "execution_count": 255,
   "metadata": {},
   "outputs": [],
   "source": [
    "cg = ClebschGordanReal(lmax*5)"
   ]
  },
  {
   "cell_type": "code",
   "execution_count": 239,
   "metadata": {},
   "outputs": [],
   "source": [
    "norm_full1 = 0.0\n",
    "for i, b in acdc_nu1:\n",
    "    norm_full1 += (b.values**2).sum(axis=-1).sum(axis=-1)"
   ]
  },
  {
   "cell_type": "code",
   "execution_count": 240,
   "metadata": {},
   "outputs": [],
   "source": [
    "sel_idx = acdc_canonical_indices(acdc_nu1, acdc_nu1)"
   ]
  },
  {
   "cell_type": "code",
   "execution_count": 241,
   "metadata": {},
   "outputs": [
    {
     "name": "stdout",
     "output_type": "stream",
     "text": [
      "prep 0.0003204345703125\n",
      "calc 0.011988401412963867\n",
      "clean 0.0021848678588867188\n",
      "CPU times: user 16.8 ms, sys: 230 µs, total: 17.1 ms\n",
      "Wall time: 15.5 ms\n"
     ]
    }
   ],
   "source": [
    "%%time\n",
    "canonical_acdc_nu2 = acdc_increment(acdc_nu1, acdc_nu1, clebsch_gordan=cg, selected_features=sel_idx)"
   ]
  },
  {
   "cell_type": "code",
   "execution_count": 242,
   "metadata": {},
   "outputs": [],
   "source": [
    "sel_idx = acdc_canonical_indices(canonical_acdc_nu2, acdc_nu1)"
   ]
  },
  {
   "cell_type": "code",
   "execution_count": 243,
   "metadata": {},
   "outputs": [
    {
     "name": "stdout",
     "output_type": "stream",
     "text": [
      "prep 0.00041031837463378906\n",
      "calc 0.06989526748657227\n",
      "clean 0.0027511119842529297\n",
      "CPU times: user 78.7 ms, sys: 0 ns, total: 78.7 ms\n",
      "Wall time: 74.8 ms\n"
     ]
    }
   ],
   "source": [
    "%%time\n",
    "canonical_acdc_nu3 = acdc_increment(canonical_acdc_nu2, acdc_nu1, clebsch_gordan=cg, \n",
    "                                    selected_features=sel_idx)"
   ]
  },
  {
   "cell_type": "code",
   "execution_count": 244,
   "metadata": {},
   "outputs": [],
   "source": [
    "sel_idx = acdc_canonical_indices(canonical_acdc_nu3, acdc_nu1)"
   ]
  },
  {
   "cell_type": "code",
   "execution_count": 245,
   "metadata": {},
   "outputs": [
    {
     "name": "stdout",
     "output_type": "stream",
     "text": [
      "prep 0.00039124488830566406\n",
      "calc 0.34354615211486816\n",
      "clean 0.0063283443450927734\n"
     ]
    }
   ],
   "source": [
    "canonical_acdc_nu4 = acdc_increment(canonical_acdc_nu3, acdc_nu1, clebsch_gordan=cg, \n",
    "                                    selected_features=sel_idx)"
   ]
  },
  {
   "cell_type": "code",
   "execution_count": 256,
   "metadata": {},
   "outputs": [],
   "source": [
    "sel_idx = acdc_canonical_indices(canonical_acdc_nu4, acdc_nu1)"
   ]
  },
  {
   "cell_type": "code",
   "execution_count": 257,
   "metadata": {},
   "outputs": [
    {
     "name": "stdout",
     "output_type": "stream",
     "text": [
      "prep 0.0005328655242919922\n",
      "calc 2.5415709018707275\n",
      "clean 0.02277350425720215\n"
     ]
    }
   ],
   "source": [
    "canonical_acdc_nu5 = acdc_increment(canonical_acdc_nu4, acdc_nu1, clebsch_gordan=cg, \n",
    "                                    selected_features=sel_idx)"
   ]
  },
  {
   "cell_type": "code",
   "execution_count": 246,
   "metadata": {},
   "outputs": [],
   "source": [
    "nnu2_full = np.sum([ len(b.features) for i, b in acdc_nu2 ])\n",
    "nnu2_can = np.sum([ len(b.features) for i, b in canonical_acdc_nu2 ])"
   ]
  },
  {
   "cell_type": "code",
   "execution_count": 247,
   "metadata": {},
   "outputs": [],
   "source": [
    "norm_full2 = 0.0\n",
    "for i, b in acdc_nu2:\n",
    "    norm_full2 += (b.values**2).sum(axis=-1).sum(axis=-1)\n",
    "norm_can2 = 0.0\n",
    "for i, b in canonical_acdc_nu2:\n",
    "    norm_can2 += (b.values**2).sum(axis=-1).sum(axis=-1)"
   ]
  },
  {
   "cell_type": "code",
   "execution_count": 248,
   "metadata": {},
   "outputs": [
    {
     "name": "stdout",
     "output_type": "stream",
     "text": [
      "(51, 3.430075393251613e-07) (33, 3.4300753932516136e-07) 3.4300753932516146e-07\n"
     ]
    }
   ],
   "source": [
    "print((nnu2_full, norm_full2.sum()), (nnu2_can, norm_can2.sum()), (norm_full1**2).sum())"
   ]
  },
  {
   "cell_type": "code",
   "execution_count": 249,
   "metadata": {},
   "outputs": [],
   "source": [
    "nnu3_full = np.sum([ len(b.features) for i, b in acdc_nu3 ])\n",
    "nnu3_can = np.sum([ len(b.features) for i, b in canonical_acdc_nu3 ])"
   ]
  },
  {
   "cell_type": "code",
   "execution_count": 250,
   "metadata": {},
   "outputs": [],
   "source": [
    "norm_full3 = 0.0\n",
    "for i, b in acdc_nu3:\n",
    "    norm_full3 += (b.values**2).sum(axis=-1).sum(axis=-1)\n",
    "norm_can3 = 0.0\n",
    "for i, b in canonical_acdc_nu3:\n",
    "    norm_can3 += (b.values**2).sum(axis=-1).sum(axis=-1)"
   ]
  },
  {
   "cell_type": "code",
   "execution_count": 251,
   "metadata": {},
   "outputs": [
    {
     "name": "stdout",
     "output_type": "stream",
     "text": [
      "(623, 8.078395573824947e-11) (201, 8.078395573824947e-11) 8.078395573824955e-11\n"
     ]
    }
   ],
   "source": [
    "print((nnu3_full, norm_full3.sum()), (nnu3_can, norm_can3.sum()),(norm_full1**3).sum())"
   ]
  },
  {
   "cell_type": "code",
   "execution_count": 252,
   "metadata": {},
   "outputs": [],
   "source": [
    "nnu4_can = np.sum([ len(b.features) for i, b in canonical_acdc_nu4 ])"
   ]
  },
  {
   "cell_type": "code",
   "execution_count": 253,
   "metadata": {},
   "outputs": [],
   "source": [
    "norm_can4 = 0.0\n",
    "for i, b in canonical_acdc_nu4:\n",
    "    norm_can4 += (b.values**2).sum(axis=-1).sum(axis=-1)"
   ]
  },
  {
   "cell_type": "code",
   "execution_count": 254,
   "metadata": {},
   "outputs": [
    {
     "name": "stdout",
     "output_type": "stream",
     "text": [
      "(1194, 2.1889120096280037e-14) 2.1889120096280056e-14\n"
     ]
    }
   ],
   "source": [
    "print((nnu4_can, norm_can4.sum()),(norm_full1**4).sum())"
   ]
  },
  {
   "cell_type": "code",
   "execution_count": 258,
   "metadata": {},
   "outputs": [],
   "source": [
    "nnu5_can = np.sum([ len(b.features) for i, b in canonical_acdc_nu5 ])"
   ]
  },
  {
   "cell_type": "code",
   "execution_count": 259,
   "metadata": {},
   "outputs": [],
   "source": [
    "norm_can5 = 0.0\n",
    "for i, b in canonical_acdc_nu5:\n",
    "    norm_can5 += (b.values**2).sum(axis=-1).sum(axis=-1)"
   ]
  },
  {
   "cell_type": "code",
   "execution_count": 261,
   "metadata": {},
   "outputs": [
    {
     "name": "stdout",
     "output_type": "stream",
     "text": [
      "(6842, 6.5672589249504394e-18) 6.5672589249504494e-18\n"
     ]
    }
   ],
   "source": [
    "print((nnu5_can, norm_can5.sum()),(norm_full1**5).sum())"
   ]
  },
  {
   "cell_type": "markdown",
   "metadata": {},
   "source": [
    "# Compute iterative schemes"
   ]
  }
 ],
 "metadata": {
  "kernelspec": {
   "display_name": "Python 3",
   "language": "python",
   "name": "python3"
  },
  "language_info": {
   "codemirror_mode": {
    "name": "ipython",
    "version": 3
   },
   "file_extension": ".py",
   "mimetype": "text/x-python",
   "name": "python",
   "nbconvert_exporter": "python",
   "pygments_lexer": "ipython3",
   "version": "3.8.10"
  },
  "toc": {
   "base_numbering": 1,
   "nav_menu": {},
   "number_sections": true,
   "sideBar": true,
   "skip_h1_title": false,
   "title_cell": "Table of Contents",
   "title_sidebar": "Contents",
   "toc_cell": false,
   "toc_position": {},
   "toc_section_display": true,
   "toc_window_display": true
  }
 },
 "nbformat": 4,
 "nbformat_minor": 4
}
