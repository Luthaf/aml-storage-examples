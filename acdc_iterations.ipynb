{
 "cells": [
  {
   "cell_type": "code",
   "execution_count": 77,
   "metadata": {},
   "outputs": [
    {
     "name": "stdout",
     "output_type": "stream",
     "text": [
      "The autoreload extension is already loaded. To reload it, use:\n",
      "  %reload_ext autoreload\n"
     ]
    }
   ],
   "source": [
    "%load_ext autoreload\n",
    "%autoreload 2\n",
    "\n",
    "import numpy as np\n",
    "import scipy as sp\n",
    "import matplotlib.pyplot as plt\n",
    "\n",
    "import ase.io\n",
    "from time import time\n",
    "from copy import deepcopy\n",
    "\n",
    "from aml_storage import Labels, Block, Descriptor\n",
    "\n",
    "from utils.librascal import RascalSphericalExpansion\n",
    "from utils.clebsh_gordan import ClebschGordanReal\n",
    "\n",
    "from utils.acdc import *"
   ]
  },
  {
   "cell_type": "markdown",
   "metadata": {},
   "source": [
    "This example demonstrates the iterative construction of atom-centered density correlations.\n",
    "The calculations incorporate ideas from the N-body iterative contraction of equivariants [paper](https://doi.org/10.1063/5.0021116) and the optimal radial basis [paper](https://doi.org/10.1063/5.0057229)."
   ]
  },
  {
   "cell_type": "markdown",
   "metadata": {},
   "source": [
    "# Covariance-optimal basis"
   ]
  },
  {
   "cell_type": "markdown",
   "metadata": {},
   "source": [
    "We start by computing the spherical expansion representation for a set of methane structures. "
   ]
  },
  {
   "cell_type": "code",
   "execution_count": 31,
   "metadata": {},
   "outputs": [],
   "source": [
    "rascal_hypers = {\n",
    "    \"interaction_cutoff\": 3.5,\n",
    "    \"cutoff_smooth_width\": 0.5,\n",
    "    \"max_radial\": 3,\n",
    "    \"max_angular\": 2,\n",
    "    \"gaussian_sigma_type\": \"Constant\",\n",
    "    \"compute_gradients\":  False,\n",
    "}\n",
    "\n",
    "nmax, lmax = rascal_hypers[\"max_radial\"], rascal_hypers[\"max_angular\"]\n",
    "calculator = RascalSphericalExpansion(rascal_hypers)"
   ]
  },
  {
   "cell_type": "code",
   "execution_count": 32,
   "metadata": {},
   "outputs": [],
   "source": [
    "frames = ase.io.read(\"./data/random-methane-10k.extxyz\", \"::100\")\n",
    "for f in frames:\n",
    "    f.cell = [100,100,100]\n",
    "    f.positions += 50"
   ]
  },
  {
   "cell_type": "code",
   "execution_count": 33,
   "metadata": {},
   "outputs": [],
   "source": [
    "density_expansion = calculator.compute(frames)"
   ]
  },
  {
   "cell_type": "markdown",
   "metadata": {},
   "source": [
    "Then, select the C,H block, which is the most significant for this dataset, and project to the optimal covariance basis."
   ]
  },
  {
   "cell_type": "code",
   "execution_count": 34,
   "metadata": {},
   "outputs": [],
   "source": [
    "# for each (C,H) block, construct the optimal covariance basis\n",
    "opt_eve = {}\n",
    "opt_eva = {}\n",
    "full_norms = np.zeros(len(frames))\n",
    "for index, block in density_expansion:\n",
    "    if index[\"center_species\"] == 6 and index[\"neighbor_species\"] == 1:\n",
    "        feats = block.values.reshape(-1, len(block.features))\n",
    "        full_norms += (block.values**2).sum(axis=-1).sum(axis=-1)\n",
    "        cov = feats.T @ feats / feats.shape[0]\n",
    "        eva, eve = sp.linalg.eigh(cov)\n",
    "        eva = eva[::-1]; eve = eve[:,::-1]\n",
    "        opt_eva[index[\"spherical_harmonics_l\"]] = eva\n",
    "        opt_eve[index[\"spherical_harmonics_l\"]] = eve"
   ]
  },
  {
   "cell_type": "code",
   "execution_count": 35,
   "metadata": {},
   "outputs": [
    {
     "data": {
      "image/png": "[encoded data removed]",
      "text/plain": [
       "<Figure size 432x288 with 1 Axes>"
      ]
     },
     "metadata": {
      "needs_background": "light"
     },
     "output_type": "display_data"
    }
   ],
   "source": [
    "for l in range(lmax+1):\n",
    "    plt.loglog(opt_eva[l])"
   ]
  },
  {
   "cell_type": "markdown",
   "metadata": {},
   "source": [
    "Create compressed features, using labels naming consistent with Nigam 2020"
   ]
  },
  {
   "cell_type": "code",
   "execution_count": 36,
   "metadata": {},
   "outputs": [],
   "source": [
    "sel_thresh = 1.5e-6\n",
    "blocks = []\n",
    "for l in range(lmax+1):\n",
    "    n_selected = len(np.where(opt_eva[l] > sel_thresh)[0])    \n",
    "    de_block = density_expansion.block(center_species = 6, neighbor_species=1, spherical_harmonics_l = l)\n",
    "    block = Block(\n",
    "        data = de_block.values@opt_eve[l][:,:n_selected],\n",
    "        samples = de_block.samples,\n",
    "        components = Labels([\"m\"],np.asarray(range(-l,l+1), dtype=np.int32).reshape(-1,1)),\n",
    "        features = Labels([\"n\"], np.asarray([[n] for n in range(n_selected)], dtype=np.int32))\n",
    "    )\n",
    "    if rascal_hypers[\"compute_gradients\"]:\n",
    "        de_grad = de_block.gradient(\"positions\")\n",
    "        block.add_gradient(\n",
    "            name=\"positions\",\n",
    "            samples=de_grad[0],\n",
    "            gradient=de_grad[1]@opt_eve[l][:,:n_selected],\n",
    "        )\n",
    "    blocks.append( block )"
   ]
  },
  {
   "cell_type": "code",
   "execution_count": 37,
   "metadata": {},
   "outputs": [],
   "source": [
    "acdc_nu1 = Descriptor(sparse = Labels(names=[\"sigma\", \"lam\", \"nu\"], \n",
    "                                      values=np.asarray([[ 1, l, 1] for l in range(rascal_hypers[\"max_angular\"]+1)], dtype=np.int32)), \n",
    "                      blocks = blocks\n",
    "                     )"
   ]
  },
  {
   "cell_type": "code",
   "execution_count": 38,
   "metadata": {},
   "outputs": [],
   "source": [
    "# multiplicity of the features, stored as a descriptor array\n",
    "acdc_full_nu1 = Descriptor(\n",
    "    sparse = acdc_nu1.sparse,\n",
    "    blocks = [\n",
    "        Block(\n",
    "            data = np.ones(shape=(1,1,len(acdc_nu1.block(s).features))),\n",
    "            samples = Labels([\"dummy\"], np.zeros(shape=(1,1), dtype=np.int32)),\n",
    "            components = Labels([\"dummy\"], np.zeros(shape=(1,1), dtype=np.int32)),\n",
    "            features = acdc_nu1.block(s).features\n",
    "        ) for s in acdc_nu1.sparse\n",
    "    ]\n",
    ")"
   ]
  },
  {
   "cell_type": "code",
   "execution_count": 39,
   "metadata": {},
   "outputs": [
    {
     "data": {
      "text/plain": [
       "[<matplotlib.lines.Line2D at 0x7feaef47ebe0>]"
      ]
     },
     "execution_count": 39,
     "metadata": {},
     "output_type": "execute_result"
    },
    {
     "data": {
      "image/png": "[encoded data removed]",
      "text/plain": [
       "<Figure size 432x288 with 1 Axes>"
      ]
     },
     "metadata": {
      "needs_background": "light"
     },
     "output_type": "display_data"
    }
   ],
   "source": [
    "ln_nu1 = np.asarray([[s[\"lam\"], b.values.shape[-1]] for s,b in acdc_nu1 ])\n",
    "plt.plot(ln_nu1[:,0], ln_nu1[:,1], 'b*-')"
   ]
  },
  {
   "cell_type": "markdown",
   "metadata": {},
   "source": [
    "# ACDC utilities"
   ]
  },
  {
   "cell_type": "code",
   "execution_count": 27,
   "metadata": {},
   "outputs": [],
   "source": [
    "cg = ClebschGordanReal(lmax*3)"
   ]
  },
  {
   "cell_type": "markdown",
   "metadata": {},
   "source": [
    "default (all to all)"
   ]
  },
  {
   "cell_type": "code",
   "execution_count": 40,
   "metadata": {},
   "outputs": [],
   "source": [
    "acdc_nu2 = cg_increment(acdc_nu1, acdc_nu1, clebsch_gordan=cg)"
   ]
  },
  {
   "cell_type": "markdown",
   "metadata": {},
   "source": [
    "specifying features"
   ]
  },
  {
   "cell_type": "code",
   "execution_count": 41,
   "metadata": {},
   "outputs": [
    {
     "name": "stdout",
     "output_type": "stream",
     "text": [
      "CPU times: user 29.7 ms, sys: 143 µs, total: 29.8 ms\n",
      "Wall time: 28.6 ms\n"
     ]
    }
   ],
   "source": [
    "%%time\n",
    "acdc_nu2 = cg_increment(acdc_nu1, acdc_nu1, acdc_full_nu1, acdc_full_nu1, clebsch_gordan=cg)\n",
    "acdc_full_nu2 = full_product_indices(acdc_full_nu1, acdc_full_nu1)"
   ]
  },
  {
   "cell_type": "code",
   "execution_count": 42,
   "metadata": {},
   "outputs": [
    {
     "name": "stdout",
     "output_type": "stream",
     "text": [
      "CPU times: user 229 ms, sys: 4.32 ms, total: 233 ms\n",
      "Wall time: 229 ms\n"
     ]
    }
   ],
   "source": [
    "%%time\n",
    "acdc_nu3 = cg_increment(acdc_nu2, acdc_nu1, acdc_full_nu2, acdc_full_nu1, clebsch_gordan = cg)"
   ]
  },
  {
   "cell_type": "markdown",
   "metadata": {
    "heading_collapsed": true
   },
   "source": [
    "## analyze jacobian"
   ]
  },
  {
   "cell_type": "markdown",
   "metadata": {
    "hidden": true
   },
   "source": [
    "Requires `compute_gradients=True`"
   ]
  },
  {
   "cell_type": "markdown",
   "metadata": {
    "hidden": true
   },
   "source": [
    "manually densify features"
   ]
  },
  {
   "cell_type": "code",
   "execution_count": 19,
   "metadata": {
    "hidden": true
   },
   "outputs": [],
   "source": [
    "j_nu1 = []\n",
    "for idx, block in acdc_nu1:\n",
    "    smp, grad = block.gradient(\"positions\")\n",
    "    j_nu1.append(grad.reshape((grad.shape[0],-1)))\n",
    "j_nu1 = np.concatenate(j_nu1, axis=-1).reshape(10,12,-1)    "
   ]
  },
  {
   "cell_type": "code",
   "execution_count": 20,
   "metadata": {
    "hidden": true
   },
   "outputs": [],
   "source": [
    "j_nu2 = []\n",
    "for idx, block in acdc_nu2:\n",
    "    smp, grad = block.gradient(\"positions\")\n",
    "    j_nu2.append(grad.reshape((grad.shape[0],-1)))\n",
    "j_nu2 = np.concatenate(j_nu2, axis=-1).reshape(10,12,-1)"
   ]
  },
  {
   "cell_type": "code",
   "execution_count": 21,
   "metadata": {
    "hidden": true
   },
   "outputs": [],
   "source": [
    "j_nu3 = []\n",
    "for idx, block in acdc_nu3:\n",
    "    smp, grad = block.gradient(\"positions\")\n",
    "    j_nu3.append(grad.reshape((grad.shape[0],-1)))\n",
    "j_nu3 = np.concatenate(j_nu3, axis=-1).reshape(10,12,-1)\n",
    "\n",
    "sv_nu3 = np.asarray([ sp.linalg.svdvals(j_nu3[i])  for i in range(10)])"
   ]
  },
  {
   "cell_type": "code",
   "execution_count": 22,
   "metadata": {
    "hidden": true
   },
   "outputs": [],
   "source": [
    "import scipy as sp"
   ]
  },
  {
   "cell_type": "code",
   "execution_count": 23,
   "metadata": {
    "hidden": true
   },
   "outputs": [],
   "source": [
    "sv_nu1 = np.asarray([ sp.linalg.svdvals(j_nu1[i])  for i in range(10)])\n",
    "sv_nu2 = np.asarray([ sp.linalg.svdvals(j_nu2[i])  for i in range(10)])"
   ]
  },
  {
   "cell_type": "code",
   "execution_count": 24,
   "metadata": {
    "hidden": true
   },
   "outputs": [
    {
     "data": {
      "text/plain": [
       "Text(0, 0.5, 'CN ($\\\\nu=2)$')"
      ]
     },
     "execution_count": 24,
     "metadata": {},
     "output_type": "execute_result"
    },
    {
     "data": {
      "image/png": "[encoded data removed]",
      "text/plain": [
       "<Figure size 432x288 with 1 Axes>"
      ]
     },
     "metadata": {
      "needs_background": "light"
     },
     "output_type": "display_data"
    }
   ],
   "source": [
    "plt.plot(\n",
    "    sv_nu1[:,0]/sv_nu1[:,-1],\n",
    "    sv_nu2[:,0]/sv_nu2[:,-1],\n",
    "    'r.'\n",
    ")\n",
    "plt.plot([1,8],[1,8],'k--')\n",
    "plt.xlabel(r\"CN ($\\nu=1)$\")\n",
    "plt.ylabel(r\"CN ($\\nu=2)$\")"
   ]
  },
  {
   "cell_type": "code",
   "execution_count": 25,
   "metadata": {
    "hidden": true
   },
   "outputs": [
    {
     "data": {
      "text/plain": [
       "Text(0, 0.5, 'CN ($\\\\nu=3)$')"
      ]
     },
     "execution_count": 25,
     "metadata": {},
     "output_type": "execute_result"
    },
    {
     "data": {
      "image/png": "[encoded data removed]",
      "text/plain": [
       "<Figure size 432x288 with 1 Axes>"
      ]
     },
     "metadata": {
      "needs_background": "light"
     },
     "output_type": "display_data"
    }
   ],
   "source": [
    "plt.plot(\n",
    "    sv_nu1[:,0]/sv_nu1[:,-1],\n",
    "    sv_nu3[:,0]/sv_nu3[:,-1],\n",
    "    'r.'\n",
    ")\n",
    "plt.plot([1,8],[1,8],'k--')\n",
    "plt.xlabel(r\"CN ($\\nu=1)$\")\n",
    "plt.ylabel(r\"CN ($\\nu=3)$\")"
   ]
  },
  {
   "cell_type": "markdown",
   "metadata": {},
   "source": [
    "# Independent feature tracking"
   ]
  },
  {
   "cell_type": "markdown",
   "metadata": {},
   "source": [
    "This performs the cg iteration while avoiding to compute duplicate / linearly dependent features, and tracks the multiplicity so that no density (correlation) is lost"
   ]
  },
  {
   "cell_type": "code",
   "execution_count": 43,
   "metadata": {},
   "outputs": [],
   "source": [
    "cg = ClebschGordanReal(lmax*5)"
   ]
  },
  {
   "cell_type": "code",
   "execution_count": 44,
   "metadata": {},
   "outputs": [],
   "source": [
    "norm_full1 = features_norm(acdc_nu1)"
   ]
  },
  {
   "cell_type": "code",
   "execution_count": 45,
   "metadata": {},
   "outputs": [],
   "source": [
    "acdc_sel_nu2 = canonical_indices(acdc_full_nu1, acdc_full_nu1)"
   ]
  },
  {
   "cell_type": "code",
   "execution_count": 46,
   "metadata": {},
   "outputs": [
    {
     "name": "stdout",
     "output_type": "stream",
     "text": [
      "CPU times: user 21.3 ms, sys: 677 µs, total: 22 ms\n",
      "Wall time: 20.9 ms\n"
     ]
    }
   ],
   "source": [
    "%%time\n",
    "canonical_acdc_nu2 = cg_increment(acdc_nu1, acdc_nu1, acdc_full_nu1, acdc_full_nu1, clebsch_gordan=cg, M=acdc_sel_nu2)"
   ]
  },
  {
   "cell_type": "code",
   "execution_count": 47,
   "metadata": {},
   "outputs": [],
   "source": [
    "acdc_sel_nu3 = canonical_indices(acdc_sel_nu2, acdc_full_nu1)"
   ]
  },
  {
   "cell_type": "code",
   "execution_count": 48,
   "metadata": {},
   "outputs": [
    {
     "name": "stdout",
     "output_type": "stream",
     "text": [
      "CPU times: user 146 ms, sys: 997 µs, total: 147 ms\n",
      "Wall time: 144 ms\n"
     ]
    }
   ],
   "source": [
    "%%time\n",
    "canonical_acdc_nu3 = cg_increment(canonical_acdc_nu2, acdc_nu1, acdc_sel_nu2, acdc_full_nu1, clebsch_gordan=cg, \n",
    "                                    M=acdc_sel_nu3)"
   ]
  },
  {
   "cell_type": "code",
   "execution_count": 49,
   "metadata": {},
   "outputs": [],
   "source": [
    "acdc_sel_nu4 = canonical_indices(acdc_sel_nu3, acdc_full_nu1)"
   ]
  },
  {
   "cell_type": "code",
   "execution_count": 50,
   "metadata": {},
   "outputs": [],
   "source": [
    "%%time\n",
    "canonical_acdc_nu4 = cg_increment(canonical_acdc_nu3, acdc_nu1, acdc_sel_nu3, acdc_full_nu1, clebsch_gordan=cg, \n",
    "                                    M=acdc_sel_nu4)"
   ]
  },
  {
   "cell_type": "code",
   "execution_count": 52,
   "metadata": {},
   "outputs": [],
   "source": [
    "acdc_sel_nu5 = canonical_indices(acdc_sel_nu4, acdc_full_nu1)"
   ]
  },
  {
   "cell_type": "code",
   "execution_count": 53,
   "metadata": {},
   "outputs": [],
   "source": [
    "%%time\n",
    "canonical_acdc_nu5 = cg_increment(canonical_acdc_nu4, acdc_nu1, acdc_sel_nu4, acdc_full_nu1, clebsch_gordan=cg, \n",
    "                                    M=acdc_sel_nu5)"
   ]
  },
  {
   "cell_type": "markdown",
   "metadata": {},
   "source": [
    "compute norms and show that they match the norm of nu=1 features to the power nu"
   ]
  },
  {
   "cell_type": "code",
   "execution_count": 59,
   "metadata": {},
   "outputs": [],
   "source": [
    "nnu2_full = features_count(acdc_nu2)\n",
    "nnu2_can = features_count(canonical_acdc_nu2)\n",
    "norm_full2 = features_norm(acdc_nu2)\n",
    "norm_can2 = features_norm(canonical_acdc_nu2)"
   ]
  },
  {
   "cell_type": "code",
   "execution_count": 58,
   "metadata": {},
   "outputs": [
    {
     "name": "stdout",
     "output_type": "stream",
     "text": [
      "(122, 3.873834622434604e-06) (72, 3.873834622434604e-06) 3.873834622434606e-06\n"
     ]
    }
   ],
   "source": [
    "print((nnu2_full, norm_full2.sum()), (nnu2_can, norm_can2.sum()), (norm_full1**2).sum())"
   ]
  },
  {
   "cell_type": "code",
   "execution_count": 60,
   "metadata": {},
   "outputs": [],
   "source": [
    "nnu3_full = features_count(acdc_nu3)\n",
    "nnu3_can = features_count(canonical_acdc_nu3)\n",
    "norm_full3 = features_norm(acdc_nu3)\n",
    "norm_can3 = features_norm(canonical_acdc_nu3)"
   ]
  },
  {
   "cell_type": "code",
   "execution_count": 61,
   "metadata": {},
   "outputs": [
    {
     "name": "stdout",
     "output_type": "stream",
     "text": [
      "(2204, 9.607837605262185e-10) (564, 9.60783760526219e-10) 9.607837605262195e-10\n"
     ]
    }
   ],
   "source": [
    "print((nnu3_full, norm_full3.sum()), (nnu3_can, norm_can3.sum()),(norm_full1**3).sum())"
   ]
  },
  {
   "cell_type": "code",
   "execution_count": 63,
   "metadata": {},
   "outputs": [],
   "source": [
    "nnu4_can = features_count(canonical_acdc_nu4)\n",
    "norm_can4 = features_norm(canonical_acdc_nu4)"
   ]
  },
  {
   "cell_type": "code",
   "execution_count": 64,
   "metadata": {},
   "outputs": [
    {
     "name": "stdout",
     "output_type": "stream",
     "text": [
      "(4020, 2.6749188416148777e-13) 2.6749188416148813e-13\n"
     ]
    }
   ],
   "source": [
    "print((nnu4_can, norm_can4.sum()),(norm_full1**4).sum())"
   ]
  },
  {
   "cell_type": "code",
   "execution_count": 65,
   "metadata": {},
   "outputs": [],
   "source": [
    "nnu5_can = features_count(canonical_acdc_nu5)\n",
    "norm_can5 = features_norm(canonical_acdc_nu5)"
   ]
  },
  {
   "cell_type": "code",
   "execution_count": 66,
   "metadata": {},
   "outputs": [
    {
     "name": "stdout",
     "output_type": "stream",
     "text": [
      "(26568, 8.126066561228681e-17) 8.126066561228692e-17\n"
     ]
    }
   ],
   "source": [
    "print((nnu5_can, norm_can5.sum()),(norm_full1**5).sum())"
   ]
  },
  {
   "cell_type": "markdown",
   "metadata": {},
   "source": [
    "# Iterative scheme"
   ]
  },
  {
   "cell_type": "code",
   "execution_count": 69,
   "metadata": {},
   "outputs": [],
   "source": [
    "acdc_thresh_nu2, thrnorm_nu2 = threshold_indices(acdc_nu1, acdc_nu1, acdc_full_nu1, acdc_full_nu1, \n",
    "                                                      sel_threshold=1e-9, l_threshold=6)"
   ]
  },
  {
   "cell_type": "code",
   "execution_count": 71,
   "metadata": {},
   "outputs": [],
   "source": [
    "acdc_thresh_nu2, thrnorm_nu2 = threshold_indices(acdc_nu1, acdc_nu1, sel_threshold=1e-9, l_threshold=6)"
   ]
  },
  {
   "cell_type": "code",
   "execution_count": 72,
   "metadata": {},
   "outputs": [],
   "source": [
    "acdc_thr_nu2 = cg_increment(acdc_nu1, acdc_nu1, acdc_full_nu1, acdc_full_nu1, M=acdc_thresh_nu2, clebsch_gordan=cg)"
   ]
  },
  {
   "cell_type": "code",
   "execution_count": 78,
   "metadata": {},
   "outputs": [],
   "source": [
    "norm_thr2 = features_norm(acdc_thr_nu2)\n",
    "nnu2_thr = features_count(acdc_thr_nu2)"
   ]
  },
  {
   "cell_type": "code",
   "execution_count": 79,
   "metadata": {},
   "outputs": [
    {
     "name": "stdout",
     "output_type": "stream",
     "text": [
      "2.1906593319806843e-08 3.8738346224346043e-08 3.873834622434604e-08\n"
     ]
    }
   ],
   "source": [
    "print( norm_thr2.mean(), norm_thr2.mean()+thrnorm_nu2, norm_full2.mean())"
   ]
  },
  {
   "cell_type": "code",
   "execution_count": 80,
   "metadata": {},
   "outputs": [
    {
     "name": "stdout",
     "output_type": "stream",
     "text": [
      "122 72 26\n"
     ]
    }
   ],
   "source": [
    "print(nnu2_full, nnu2_can, nnu2_thr)"
   ]
  },
  {
   "cell_type": "code",
   "execution_count": 90,
   "metadata": {},
   "outputs": [
    {
     "name": "stdout",
     "output_type": "stream",
     "text": [
      "(1, 0, 2) [[ 1.00000000e+00 -5.32221760e-16  7.04812949e-17 -5.04783335e-17]\n",
      " [-5.32221760e-16  1.00000000e+00 -4.69162583e-17  2.29021361e-16]\n",
      " [ 7.04812949e-17 -4.69162583e-17  1.00000000e+00  2.74493586e-17]\n",
      " [-5.04783335e-17  2.29021361e-16  2.74493586e-17  1.00000000e+00]]\n",
      " empty selection (-1, 1, 2)\n",
      "(1, 1, 2) [[2.0000000e+00 1.4484941e-16]\n",
      " [1.4484941e-16 2.0000000e+00]]\n",
      "(-1, 2, 2) [[2.]]\n",
      "(1, 2, 2) [[ 2.00000000e+00 -4.96564595e-16 -7.87564458e-16  6.59194921e-17\n",
      "   3.67761377e-16]\n",
      " [-4.96564595e-16  1.00000000e+00  6.62664368e-16 -5.55111512e-17\n",
      "   2.14238349e-16]\n",
      " [-7.87564458e-16  6.62664368e-16  2.00000000e+00  1.18568350e-15\n",
      "   6.07993473e-16]\n",
      " [ 6.59194921e-17 -5.55111512e-17  1.18568350e-15  1.00000000e+00\n",
      "  -3.29597460e-17]\n",
      " [ 3.67761377e-16  2.14238349e-16  6.07993473e-16 -3.29597460e-17\n",
      "   1.00000000e+00]]\n",
      " empty selection (-1, 3, 2)\n",
      "(1, 3, 2) [[2.]]\n",
      "(1, 4, 2) [[ 1.00000000e+00 -4.25007252e-17]\n",
      " [-4.25007252e-17  1.00000000e+00]]\n"
     ]
    }
   ],
   "source": [
    "acdc_zip_nu2, acdc_w_nu2 = compress_features(acdc_thr_nu2, 1e-9)"
   ]
  },
  {
   "cell_type": "code",
   "execution_count": 92,
   "metadata": {},
   "outputs": [],
   "source": [
    "norm_zip2 = features_norm(acdc_zip_nu2)\n",
    "nnu2_zip = features_count(acdc_zip_nu2)"
   ]
  },
  {
   "cell_type": "code",
   "execution_count": 93,
   "metadata": {},
   "outputs": [
    {
     "name": "stdout",
     "output_type": "stream",
     "text": [
      "2.1906593319806833e-08 2.1906593319806843e-08 3.873834622434604e-08\n",
      "122 72 26 15\n"
     ]
    }
   ],
   "source": [
    "print(norm_zip2.mean(), norm_thr2.mean(), norm_full2.mean())\n",
    "print(nnu2_full, nnu2_can, nnu2_thr, nnu2_zip)"
   ]
  },
  {
   "cell_type": "markdown",
   "metadata": {},
   "source": [
    "## zipo New heading"
   ]
  },
  {
   "cell_type": "markdown",
   "metadata": {},
   "source": [
    "recompute the compressed features!"
   ]
  },
  {
   "cell_type": "code",
   "execution_count": 97,
   "metadata": {},
   "outputs": [],
   "source": [
    "acdc_zip_post_nu2 = cg_increment(acdc_nu1, acdc_nu1,  M=acdc_w_nu2, clebsch_gordan=cg)"
   ]
  },
  {
   "cell_type": "code",
   "execution_count": 99,
   "metadata": {},
   "outputs": [
    {
     "data": {
      "text/plain": [
       "2.1906593319806833e-08"
      ]
     },
     "execution_count": 99,
     "metadata": {},
     "output_type": "execute_result"
    }
   ],
   "source": [
    "features_norm(acdc_zip_post_nu2).mean()"
   ]
  },
  {
   "cell_type": "code",
   "execution_count": 101,
   "metadata": {},
   "outputs": [
    {
     "data": {
      "text/plain": [
       "2.1906593319806833e-08"
      ]
     },
     "execution_count": 101,
     "metadata": {},
     "output_type": "execute_result"
    }
   ],
   "source": [
    "features_norm(acdc_zip_nu2).mean()"
   ]
  },
  {
   "cell_type": "code",
   "execution_count": 409,
   "metadata": {},
   "outputs": [],
   "source": [
    "acdc_thresh_nu3, thrnorm_nu3 = acdc_threshold_indices(acdc_zip_nu2, acdc_nu1, sel_threshold=1e-15, l_threshold=6)"
   ]
  },
  {
   "cell_type": "code",
   "execution_count": 433,
   "metadata": {},
   "outputs": [
    {
     "data": {
      "text/plain": [
       "(100, 3, 4)"
      ]
     },
     "execution_count": 433,
     "metadata": {},
     "output_type": "execute_result"
    }
   ],
   "source": [
    "acdc_nu1.block(1).values.shape"
   ]
  },
  {
   "cell_type": "code",
   "execution_count": 432,
   "metadata": {},
   "outputs": [
    {
     "data": {
      "text/plain": [
       "(100, 3, 4)"
      ]
     },
     "execution_count": 432,
     "metadata": {},
     "output_type": "execute_result"
    }
   ],
   "source": [
    "acdc_zip_nu2.block(1).values.shape"
   ]
  },
  {
   "cell_type": "code",
   "execution_count": 416,
   "metadata": {},
   "outputs": [
    {
     "data": {
      "text/plain": [
       "(1, 1, 4)"
      ]
     },
     "execution_count": 416,
     "metadata": {},
     "output_type": "execute_result"
    }
   ],
   "source": [
    "acdc_full_nu1.block(0).values.shape"
   ]
  },
  {
   "cell_type": "code",
   "execution_count": 434,
   "metadata": {},
   "outputs": [
    {
     "name": "stdout",
     "output_type": "stream",
     "text": [
      "prep 2.2820067405700684\n",
      "calc 0.6412680149078369\n",
      "clean 0.03527641296386719\n"
     ]
    }
   ],
   "source": [
    "acdc_thr_nu3 = acdc_increment(acdc_zip_nu2, acdc_nu1, M=acdc_thresh_nu3)"
   ]
  },
  {
   "cell_type": "code",
   "execution_count": 334,
   "metadata": {},
   "outputs": [
    {
     "data": {
      "text/plain": [
       "8.039059317539691e-08"
      ]
     },
     "execution_count": 334,
     "metadata": {},
     "output_type": "execute_result"
    }
   ],
   "source": [
    "acdc_features_norm(acdc_zipx_nu2).mean()"
   ]
  },
  {
   "cell_type": "code",
   "execution_count": 47,
   "metadata": {},
   "outputs": [],
   "source": [
    "X = acdc_nu2.block(0).values"
   ]
  },
  {
   "cell_type": "code",
   "execution_count": 108,
   "metadata": {},
   "outputs": [],
   "source": [
    "rX = X.reshape(-1,X.shape[-1]) * 1\n",
    "lsel = []\n",
    "bm_idx = np.arange(rX.shape[1])"
   ]
  },
  {
   "cell_type": "code",
   "execution_count": 160,
   "metadata": {},
   "outputs": [
    {
     "name": "stdout",
     "output_type": "stream",
     "text": [
      "27 2.3892448658543675e-09 3.122281850927408e-08\n"
     ]
    }
   ],
   "source": [
    "nrm = (rX**2).sum(axis=0)\n",
    "sel_idx = nrm.argmax()\n",
    "sel_x = rX[:,sel_idx]/np.sqrt(nrm[sel_idx])\n",
    "lsel.append(bm_idx[sel_idx])\n",
    "bm_idx = np.concatenate([bm_idx[:sel_idx], bm_idx[sel_idx+1:]])\n",
    "print(sel_idx, nrm[sel_idx], nrm.sum())"
   ]
  },
  {
   "cell_type": "code",
   "execution_count": 161,
   "metadata": {},
   "outputs": [
    {
     "data": {
      "text/plain": [
       "array([1.11062808e-39, 6.93504988e-10, 3.13232110e-39, 2.48041981e-42,\n",
       "       5.31008445e-10, 2.12874581e-40, 6.93504988e-10, 5.31008445e-10,\n",
       "       3.96449913e-10, 3.77473965e-40, 1.76060989e-09, 5.39873981e-10,\n",
       "       2.23349821e-09, 4.63488518e-10, 1.76060989e-09, 2.23349821e-09,\n",
       "       1.86380508e-09, 4.60106804e-10, 5.39873981e-10, 4.63488518e-10,\n",
       "       4.60106804e-10, 5.39874065e-10, 5.10551414e-40, 1.52601900e-09,\n",
       "       1.83467279e-40, 1.52601900e-09, 1.43768252e-09, 2.38924487e-09,\n",
       "       1.16466699e-09, 2.38924487e-09, 1.22722377e-09, 1.16466699e-09,\n",
       "       1.22722377e-09, 1.00651602e-09])"
      ]
     },
     "execution_count": 161,
     "metadata": {},
     "output_type": "execute_result"
    }
   ],
   "source": [
    "nrm"
   ]
  },
  {
   "cell_type": "code",
   "execution_count": 162,
   "metadata": {},
   "outputs": [],
   "source": [
    "prj = sel_x.reshape(-1,1) @( sel_x@rX).reshape(1,-1)\n",
    "rX -= prj\n",
    "rX = np.hstack([rX[:,:sel_idx], rX[:,sel_idx+1:]])"
   ]
  },
  {
   "cell_type": "code",
   "execution_count": 163,
   "metadata": {},
   "outputs": [
    {
     "data": {
      "text/plain": [
       "[0, 1, 2, 16, 41, 32, 21, 5, 3, 36, 10, 35, 45, 20, 6, 34, 42]"
      ]
     },
     "execution_count": 163,
     "metadata": {},
     "output_type": "execute_result"
    }
   ],
   "source": [
    "lsel"
   ]
  },
  {
   "cell_type": "code",
   "execution_count": 164,
   "metadata": {},
   "outputs": [],
   "source": [
    "xsel = X.reshape(-1,X.shape[-1])[:,lsel]"
   ]
  },
  {
   "cell_type": "code",
   "execution_count": 166,
   "metadata": {},
   "outputs": [
    {
     "data": {
      "text/plain": [
       "2.2712629660270754e-07"
      ]
     },
     "execution_count": 166,
     "metadata": {},
     "output_type": "execute_result"
    }
   ],
   "source": [
    "(X.squeeze()@X.squeeze().T - xsel@xsel.T ).diagonal().sum()"
   ]
  },
  {
   "cell_type": "code",
   "execution_count": 65,
   "metadata": {},
   "outputs": [
    {
     "data": {
      "text/plain": [
       "array([2.42940970e-07, 2.46073523e-08, 1.03791992e-08, 4.45236273e-08,\n",
       "       2.29396324e-08, 7.32309093e-09, 3.56362288e-09, 2.46073523e-08,\n",
       "       7.32309093e-09, 9.12791720e-09, 1.38798002e-09, 1.03791992e-08,\n",
       "       3.56362288e-09, 1.38798002e-09, 1.52720383e-09, 6.08419466e-08,\n",
       "       1.12379404e-08, 5.15856091e-09, 1.39895330e-09, 1.12379404e-08,\n",
       "       3.10903465e-08, 6.50486933e-09, 1.88331929e-09, 5.15856091e-09,\n",
       "       6.50486933e-09, 1.33623268e-08, 3.27955986e-09, 1.39895330e-09,\n",
       "       1.88331929e-09, 3.27955986e-09, 3.30279380e-09, 5.33147404e-08,\n",
       "       8.50633090e-09, 4.30948222e-09, 8.50633090e-09, 3.52817376e-08,\n",
       "       7.90600428e-09, 4.30948222e-09, 7.90600428e-09, 9.88785826e-09,\n",
       "       7.96731127e-08, 8.35800052e-09, 3.48786496e-09, 8.35800052e-09,\n",
       "       2.28591699e-08, 2.75720216e-09, 3.48786496e-09, 2.75720216e-09,\n",
       "       5.14521614e-09])"
      ]
     },
     "execution_count": 65,
     "metadata": {},
     "output_type": "execute_result"
    }
   ],
   "source": [
    "nrm"
   ]
  },
  {
   "cell_type": "code",
   "execution_count": 169,
   "metadata": {},
   "outputs": [],
   "source": [
    "aa = np.linalg.pinv(xsel)@X.squeeze()"
   ]
  },
  {
   "cell_type": "code",
   "execution_count": 170,
   "metadata": {},
   "outputs": [
    {
     "data": {
      "text/plain": [
       "(17, 50)"
      ]
     },
     "execution_count": 170,
     "metadata": {},
     "output_type": "execute_result"
    }
   ],
   "source": [
    "aa.shape"
   ]
  },
  {
   "cell_type": "code",
   "execution_count": 175,
   "metadata": {},
   "outputs": [
    {
     "data": {
      "text/plain": [
       "<matplotlib.image.AxesImage at 0x7fe957300bb0>"
      ]
     },
     "execution_count": 175,
     "metadata": {},
     "output_type": "execute_result"
    },
    {
     "data": {
      "image/png": "[encoded data removed]",
      "text/plain": [
       "<Figure size 288x288 with 1 Axes>"
      ]
     },
     "metadata": {
      "needs_background": "light"
     },
     "output_type": "display_data"
    }
   ],
   "source": [
    "plt.matshow(aa@aa.T)"
   ]
  },
  {
   "cell_type": "code",
   "execution_count": 182,
   "metadata": {},
   "outputs": [],
   "source": [
    "sa2 = sp.linalg.sqrtm(aa@aa.T)"
   ]
  },
  {
   "cell_type": "code",
   "execution_count": 183,
   "metadata": {},
   "outputs": [],
   "source": [
    "a = sa2.diagonal()"
   ]
  },
  {
   "cell_type": "code",
   "execution_count": 184,
   "metadata": {},
   "outputs": [
    {
     "data": {
      "text/plain": [
       "array([1.11536385, 1.64163874, 1.78709715, 1.02243073, 1.01791862,\n",
       "       1.0182443 , 1.02395343, 1.19304515, 2.1495854 , 1.07445593,\n",
       "       1.07917565, 1.48931755, 1.14297522, 1.44629773, 1.64643365,\n",
       "       1.60891811, 1.45764279])"
      ]
     },
     "execution_count": 184,
     "metadata": {},
     "output_type": "execute_result"
    }
   ],
   "source": [
    "a"
   ]
  },
  {
   "cell_type": "code",
   "execution_count": 185,
   "metadata": {},
   "outputs": [
    {
     "data": {
      "text/plain": [
       "2.6099012899812683e-08"
      ]
     },
     "execution_count": 185,
     "metadata": {},
     "output_type": "execute_result"
    }
   ],
   "source": [
    "(X.squeeze()@X.squeeze().T - xsel@(aa@aa.T)@xsel.T ).diagonal().sum()"
   ]
  },
  {
   "cell_type": "code",
   "execution_count": 186,
   "metadata": {},
   "outputs": [
    {
     "data": {
      "text/plain": [
       "-8.337245205201047e-08"
      ]
     },
     "execution_count": 186,
     "metadata": {},
     "output_type": "execute_result"
    }
   ],
   "source": [
    "(X.squeeze()@X.squeeze().T - xsel@np.diag(a**2)@xsel.T ).diagonal().sum()"
   ]
  },
  {
   "cell_type": "code",
   "execution_count": null,
   "metadata": {},
   "outputs": [],
   "source": []
  }
 ],
 "metadata": {
  "kernelspec": {
   "display_name": "Python 3",
   "language": "python",
   "name": "python3"
  },
  "language_info": {
   "codemirror_mode": {
    "name": "ipython",
    "version": 3
   },
   "file_extension": ".py",
   "mimetype": "text/x-python",
   "name": "python",
   "nbconvert_exporter": "python",
   "pygments_lexer": "ipython3",
   "version": "3.8.10"
  },
  "toc": {
   "base_numbering": 1,
   "nav_menu": {},
   "number_sections": true,
   "sideBar": true,
   "skip_h1_title": false,
   "title_cell": "Table of Contents",
   "title_sidebar": "Contents",
   "toc_cell": false,
   "toc_position": {
    "height": "calc(100% - 180px)",
    "left": "10px",
    "top": "150px",
    "width": "397px"
   },
   "toc_section_display": true,
   "toc_window_display": true
  }
 },
 "nbformat": 4,
 "nbformat_minor": 4
}
