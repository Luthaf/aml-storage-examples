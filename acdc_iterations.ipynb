{
 "cells": [
  {
   "cell_type": "code",
   "execution_count": 1,
   "metadata": {},
   "outputs": [],
   "source": [
    "%load_ext autoreload\n",
    "%autoreload 2\n",
    "\n",
    "import numpy as np\n",
    "import scipy as sp\n",
    "import matplotlib.pyplot as plt\n",
    "\n",
    "import ase.io\n",
    "from time import time\n",
    "from copy import deepcopy\n",
    "\n",
    "from aml_storage import Labels, Block, Descriptor\n",
    "\n",
    "from utils.librascal import RascalSphericalExpansion\n",
    "from utils.clebsh_gordan import ClebschGordanReal"
   ]
  },
  {
   "cell_type": "markdown",
   "metadata": {},
   "source": [
    "This example demonstrates the iterative construction of atom-centered density correlations.\n",
    "The calculations incorporate ideas from the N-body iterative contraction of equivariants [paper](https://doi.org/10.1063/5.0021116) and the optimal radial basis [paper](https://doi.org/10.1063/5.0057229)."
   ]
  },
  {
   "cell_type": "markdown",
   "metadata": {},
   "source": [
    "# Covariance-optimal basis"
   ]
  },
  {
   "cell_type": "markdown",
   "metadata": {},
   "source": [
    "We start by computing the spherical expansion representation for a set of methane structures. "
   ]
  },
  {
   "cell_type": "code",
   "execution_count": 11,
   "metadata": {},
   "outputs": [],
   "source": [
    "rascal_hypers = {\n",
    "    \"interaction_cutoff\": 3.5,\n",
    "    \"cutoff_smooth_width\": 0.5,\n",
    "    \"max_radial\": 5,\n",
    "    \"max_angular\": 3,\n",
    "    \"gaussian_sigma_type\": \"Constant\",\n",
    "    \"compute_gradients\":  True,\n",
    "}\n",
    "\n",
    "nmax, lmax = rascal_hypers[\"max_radial\"], rascal_hypers[\"max_angular\"]\n",
    "calculator = RascalSphericalExpansion(rascal_hypers)"
   ]
  },
  {
   "cell_type": "code",
   "execution_count": 35,
   "metadata": {},
   "outputs": [],
   "source": [
    "frames = ase.io.read(\"./data/random-methane-10k.extxyz\", \"::100\")\n",
    "for f in frames:\n",
    "    f.cell = [100,100,100]\n",
    "    f.positions += 50"
   ]
  },
  {
   "cell_type": "code",
   "execution_count": 36,
   "metadata": {},
   "outputs": [],
   "source": [
    "density_expansion = calculator.compute(frames)"
   ]
  },
  {
   "cell_type": "markdown",
   "metadata": {},
   "source": [
    "Then, select the C,H block, which is the most significant for this dataset, and project to the optimal covariance basis."
   ]
  },
  {
   "cell_type": "code",
   "execution_count": 37,
   "metadata": {},
   "outputs": [],
   "source": [
    "# for each (C,H) block, construct the optimal covariance basis\n",
    "opt_eve = {}\n",
    "opt_eva = {}\n",
    "full_norms = np.zeros(len(frames))\n",
    "for index, block in density_expansion:\n",
    "    if index[\"center_species\"] == 6 and index[\"neighbor_species\"] == 1:\n",
    "        feats = block.values.reshape(-1, len(block.features))\n",
    "        full_norms += (block.values**2).sum(axis=-1).sum(axis=-1)\n",
    "        cov = feats.T @ feats / feats.shape[0]\n",
    "        eva, eve = sp.linalg.eigh(cov)\n",
    "        eva = eva[::-1]; eve = eve[:,::-1]\n",
    "        opt_eva[index[\"spherical_harmonics_l\"]] = eva\n",
    "        opt_eve[index[\"spherical_harmonics_l\"]] = eve"
   ]
  },
  {
   "cell_type": "code",
   "execution_count": 38,
   "metadata": {},
   "outputs": [
    {
     "data": {
      "image/png": "[encoded data removed]",
      "text/plain": [
       "<Figure size 432x288 with 1 Axes>"
      ]
     },
     "metadata": {
      "needs_background": "light"
     },
     "output_type": "display_data"
    }
   ],
   "source": [
    "for l in range(lmax+1):\n",
    "    plt.loglog(opt_eva[l])"
   ]
  },
  {
   "cell_type": "markdown",
   "metadata": {},
   "source": [
    "Create compressed features, using labels naming consistent with Nigam 2020"
   ]
  },
  {
   "cell_type": "code",
   "execution_count": 39,
   "metadata": {},
   "outputs": [],
   "source": [
    "sel_thresh = 1e-6\n",
    "blocks = []\n",
    "for l in range(lmax+1):\n",
    "    n_selected = len(np.where(opt_eva[l] > sel_thresh)[0])    \n",
    "    de_block = density_expansion.block(center_species = 6, neighbor_species=1, spherical_harmonics_l = l)\n",
    "    block = Block(\n",
    "        data = de_block.values@opt_eve[l][:,:n_selected],\n",
    "        samples = de_block.samples,\n",
    "        components = Labels([\"m\"],np.asarray(range(-l,l+1), dtype=np.int32).reshape(-1,1)),\n",
    "        features = Labels([\"n\"], np.asarray([[n] for n in range(n_selected)], dtype=np.int32))\n",
    "    )\n",
    "    if rascal_hypers[\"compute_gradients\"]:\n",
    "        de_grad = de_block.gradient(\"positions\")\n",
    "        block.add_gradient(\n",
    "            name=\"positions\",\n",
    "            samples=de_grad[0],\n",
    "            gradient=de_grad[1]@opt_eve[l][:,:n_selected],\n",
    "        )\n",
    "    blocks.append( block )"
   ]
  },
  {
   "cell_type": "code",
   "execution_count": 40,
   "metadata": {},
   "outputs": [],
   "source": [
    "acdc_nu1 = Descriptor(sparse = Labels(names=[\"sigma\", \"lam\", \"nu\"], \n",
    "                                      values=np.asarray([[ 1, l, 1] for l in range(rascal_hypers[\"max_angular\"]+1)], dtype=np.int32)), \n",
    "                      blocks = blocks\n",
    "                     )"
   ]
  },
  {
   "cell_type": "code",
   "execution_count": 41,
   "metadata": {},
   "outputs": [],
   "source": [
    "# multiplicity of the features, stored as a descriptor array\n",
    "acdc_full_nu1 = Descriptor(\n",
    "    sparse = acdc_nu1.sparse,\n",
    "    blocks = [\n",
    "        Block(\n",
    "            data = np.ones(shape=(1,1,len(acdc_nu1.block(s).features))),\n",
    "            samples = Labels([\"dummy\"], np.zeros(shape=(1,1), dtype=np.int32)),\n",
    "            components = Labels([\"dummy\"], np.zeros(shape=(1,1), dtype=np.int32)),\n",
    "            features = acdc_nu1.block(s).features\n",
    "        ) for s in acdc_nu1.sparse\n",
    "    ]\n",
    ")"
   ]
  },
  {
   "cell_type": "code",
   "execution_count": 42,
   "metadata": {},
   "outputs": [
    {
     "data": {
      "text/plain": [
       "[<matplotlib.lines.Line2D at 0x7fb18aba7970>]"
      ]
     },
     "execution_count": 42,
     "metadata": {},
     "output_type": "execute_result"
    },
    {
     "data": {
      "image/png": "[encoded data removed]",
      "text/plain": [
       "<Figure size 432x288 with 1 Axes>"
      ]
     },
     "metadata": {
      "needs_background": "light"
     },
     "output_type": "display_data"
    }
   ],
   "source": [
    "ln_nu1 = np.asarray([[s[\"lam\"], b.values.shape[-1]] for s,b in acdc_nu1 ])\n",
    "plt.plot(ln_nu1[:,0], ln_nu1[:,1], 'b*-')"
   ]
  },
  {
   "cell_type": "markdown",
   "metadata": {},
   "source": [
    "# ACDC utilities"
   ]
  },
  {
   "cell_type": "code",
   "execution_count": 43,
   "metadata": {},
   "outputs": [],
   "source": [
    "def _mdesc_2_mdict(mdesc):\n",
    "    \"\"\" Converts a descriptors of weights to a dictionary \"\"\"\n",
    "    mdict = {}\n",
    "    for index, block in mdesc:                \n",
    "        mdict[tuple(index)] = { tuple(f):w for f,w in zip(block.features, block.values[0,0]) }   \n",
    "    return mdict\n",
    "def _mdict_2_mdesc(mdict, sparse_names, feature_names):\n",
    "    \"\"\" Converts a dictionary of weights to a descriptor \"\"\"\n",
    "    return Descriptor(\n",
    "        sparse=Labels(names=sparse_names, values=np.asarray(list(mdict.keys()), dtype=np.int32) ),\n",
    "        blocks = [\n",
    "            Block(\n",
    "                data = np.asarray(list(b.values())).reshape(1,1,-1),\n",
    "                components = Labels([\"dummy\"], np.zeros(shape=(1,1), dtype=np.int32) ),\n",
    "                samples = Labels([\"dummy\"],  np.zeros(shape=(1,1), dtype=np.int32)),\n",
    "                features = Labels(feature_names, np.asarray(list(b.keys()), dtype=np.int32) )   \n",
    "            ) for b in mdict.values()\n",
    "        ]\n",
    "    )"
   ]
  },
  {
   "cell_type": "code",
   "execution_count": 44,
   "metadata": {},
   "outputs": [],
   "source": [
    "def acdc_full_product_indices(m_a, m_b, feature_names=None):\n",
    "    \"\"\"\n",
    "    Enumerates the indices of features that result from a product of ACDC equivariants.\n",
    "    Sparse indices should be labeled as (\"sigma\", \"lam\", \"nu\"). \n",
    "    The arguments should correspond to the list of feature weights (multiplicities), to\n",
    "    account for selection and duplicate removal. \n",
    "    \"\"\"\n",
    "    \n",
    "    # determines the cutoff in the new features\n",
    "    lmaw_a = max(m_a.sparse[\"lam\"])\n",
    "    lmaw_b = max(m_b.sparse[\"lam\"])\n",
    "    lcut = lmaw_a+lmaw_b+1\n",
    "    \n",
    "    # assumes uniform nu\n",
    "    nu_a = m_a.sparse[\"nu\"][0]\n",
    "    nu_b = m_b.sparse[\"nu\"][0]\n",
    "    \n",
    "    # block indexes for the incremented features\n",
    "    NU=nu_a+nu_b    \n",
    "    M_dict = {(S, L, NU):{} for L in range(lcut+1) for S in [-1,1]}\n",
    "\n",
    "    # automatic generation of the output features names - \"x1 x2 x3 ; x1 x2 -> x1_a x2_a x3_a k_nu x1_b x2_b l_nu\"\n",
    "    if feature_names is None:\n",
    "        feature_names = tuple( n+\"_a\" for n in m_a.block(0).features.names) + (\"k_\"+str(NU),) + tuple( n+\"_b\" for n in m_b.block(0).features.names ) + (\"l_\"+str(NU),) \n",
    "    \n",
    "    # computes the indices that must be present, as well as their weights\n",
    "    for index_a, block_a in m_a:\n",
    "        lam_a = index_a[\"lam\"]        \n",
    "        sigma_a = index_a[\"sigma\"]\n",
    "        for index_b, block_b in m_b:\n",
    "            lam_b = index_b[\"lam\"]\n",
    "            sigma_b = index_b[\"sigma\"]\n",
    "            for f_a, w_a in zip(block_a.features, block_a.values[0,0]):\n",
    "                f_a = tuple(f_a)                \n",
    "                for f_b, w_b in zip(block_b.features, block_b.values[0,0]):\n",
    "                    f_b = tuple(f_b)\n",
    "                    W = w_a*w_b\n",
    "                    IDX = f_a+(lam_a,)+f_b+(lam_b,)\n",
    "                    for L in range(np.abs(lam_a-lam_b), 1+min(lam_a+lam_b, lcut) ):\n",
    "                        S = sigma_a*sigma_b*(-1)**(lam_a+lam_b+L)\n",
    "                        M_dict[(S,L,NU)][IDX] = W\n",
    "\n",
    "    # removes empty blocks\n",
    "    for k in list(M_dict):\n",
    "        if len(M_dict[k]) ==0:\n",
    "            M_dict.pop(k)\n",
    "\n",
    "    # casts the weights into a Descriptor format\n",
    "    return _mdict_2_mdesc(M_dict, m_a.sparse.names, feature_names)"
   ]
  },
  {
   "cell_type": "code",
   "execution_count": 45,
   "metadata": {},
   "outputs": [],
   "source": [
    "aa=0\n",
    "def acdc_combine(x_a, m_a, x_b, m_b, M=None, feature_names=None, clebsch_gordan=None):\n",
    "    \"\"\"\n",
    "    Performs a CG product of two sets of equivariants. Only requirement is that \n",
    "    sparse indices are labeled as (\"sigma\", \"lam\", \"nu\"). The automatically-determined\n",
    "    naming of output features can be overridden by giving a list of \"feature_names\".\n",
    "    A dictionary of select_features (organized in the same blocks as the sparse indices,\n",
    "    each containing a dictionary of the feature indices and an associated multiplicity)\n",
    "    can also be specified to filter the features that should be selected. \n",
    "    \"\"\"\n",
    "    global aa\n",
    "    # determines the cutoff in the new features\n",
    "    lmax_a = max(x_a.sparse[\"lam\"])\n",
    "    lmax_b = max(x_b.sparse[\"lam\"])\n",
    "    lcut = lmax_a+lmax_b\n",
    "    start = time()\n",
    "    # creates a CG object, if needed\n",
    "    if clebsch_gordan is None:\n",
    "        clebsch_gordan = ClebschGordanReal(lcut)\n",
    "    \n",
    "    # assumes uniform nu in the descriptors\n",
    "    nu_a = x_a.sparse[\"nu\"][0]\n",
    "    nu_b = x_b.sparse[\"nu\"][0]\n",
    "    \n",
    "    # block indexes for the incremented features\n",
    "    NU=nu_a+nu_b    \n",
    "    X_blocks = {(S, L, NU): [] for L in range(lcut+1) for S in [-1,1]}\n",
    "    X_idx = {(S, L, NU): [] for L in range(lcut+1) for S in [-1,1]}\n",
    "    \n",
    "    #NB : assumes the samples are matching. we could add some kind of validation, at least on size if not on content\n",
    "    samples = x_a.block(0).samples\n",
    "    nsamples = len(samples)\n",
    "    try:\n",
    "        grad_samples, _ = x_a.block(0).gradient(\"positions\")\n",
    "        X_grads = {(S, L, NU): [] for L in range(lcut+1) for S in [-1,1]}\n",
    "    except:\n",
    "        grad_samples = None\n",
    "    \n",
    "    # automatic generation of the output features names - \"x1 x2 x3 ; x1 x2 -> x1_a x2_a x3_a k_nu x1_b x2_b l_nu\"\n",
    "    if feature_names is None:\n",
    "        feature_names = tuple( n+\"_a\" for n in x_a.block(0).features.names) + (\"k_\"+str(NU),) +tuple( n+\"_b\" for n in x_b.block(0).features.names ) + (\"l_\"+str(NU),) \n",
    "\n",
    "    if M is None:\n",
    "        M = acdc_full_product_indices(m_a, m_b)\n",
    "        \n",
    "    # it's much easier (and faster) to manipulate this as a dictionary of dictionaries\n",
    "    M_dict = _mdesc_2_mdict(M)\n",
    "    m_a_dict = _mdesc_2_mdict(m_a)\n",
    "    m_b_dict = _mdesc_2_mdict(m_b)\n",
    "\n",
    "    print(\"prep\", time()-start)\n",
    "    start = time()\n",
    "    # loops over sparse blocks of x_a\n",
    "    for index_a, block_a in x_a:\n",
    "        lam_a = index_a[\"lam\"]\n",
    "        sigma_a = index_a[\"sigma\"]\n",
    "        w_block_a = m_a_dict[tuple(index_a)]\n",
    "        # and x_b\n",
    "        for index_b, block_b in x_b:\n",
    "            lam_b = index_b[\"lam\"]\n",
    "            sigma_b = index_b[\"sigma\"]\n",
    "            w_block_b = m_b_dict[tuple(index_b)]\n",
    "            #loops over all permissible output blocks. note that blocks will be filled from different la, lb\n",
    "            for L in range(np.abs(lam_a-lam_b), 1+min(lam_a+lam_b, lcut) ):\n",
    "                # determines parity of the block\n",
    "                S = sigma_a*sigma_b*(-1)**(lam_a+lam_b+L)\n",
    "                W_block = M_dict[(S,L,NU)]\n",
    "                sel_feats = []\n",
    "                sel_weights = []                \n",
    "                #determines the features that are in the select list\n",
    "                for n_a in range(len(block_a.features)):\n",
    "                    f_a = tuple(block_a.features[n_a])\n",
    "                    w_a = w_block_a[f_a]\n",
    "                    for n_b in range(len(block_b.features)):                    \n",
    "                        f_b = tuple(block_b.features[n_b])\n",
    "                        w_b = w_block_b[f_b]\n",
    "                        \n",
    "                        # the index is assembled consistently with the scheme above\n",
    "                        IDX = f_a + (lam_a,) + f_b + (lam_b,)                        \n",
    "                        if IDX in W_block:\n",
    "                            w_X = W_block[IDX]\n",
    "                        else:                            \n",
    "                            continue\n",
    "                        sel_feats.append([n_a,n_b])\n",
    "                        sel_weights.append(np.sqrt(w_X/(w_a*w_b)))\n",
    "                        X_idx[(S,L,NU)].append(IDX)\n",
    "                    \n",
    "                sel_feats = np.asarray(sel_feats, dtype=int)\n",
    "                \n",
    "                if len(sel_feats) == 0:\n",
    "                    continue\n",
    "\n",
    "                # builds all products in one go\n",
    "                one_shot_blocks = clebsch_gordan.combine_einsum(block_a.values[:,:,sel_feats[:,0]],\n",
    "                                                         block_b.values[:,:,sel_feats[:,1]],\n",
    "                                                         L, combination_string=\"iq,iq->iq\" )\n",
    "                # do gradients, if they are present...\n",
    "                if grad_samples is not None:\n",
    "                    smp_a, grad_a = block_a.gradient(\"positions\")\n",
    "                    smp_b, grad_b = block_b.gradient(\"positions\")\n",
    "                    one_shot_grads = ( clebsch_gordan.combine_einsum(\n",
    "                                        block_a.values[smp_a['sample']][:,:,sel_feats[:,0]],\n",
    "                                        grad_b[:,:,sel_feats[:,1]],\n",
    "                                        L=L,combination_string=\"iq,iq->iq\") +\n",
    "                                    clebsch_gordan.combine_einsum(\n",
    "                                        block_b.values[smp_b['sample']][:,:,sel_feats[:,1]],\n",
    "                                        grad_a[:,:,sel_feats[:,0]],\n",
    "                                        L=L,combination_string=\"iq,iq->iq\")\n",
    "                        )\n",
    "                \n",
    "                # now loop over the selected features to build the blocks\n",
    "                for Q in range(len(sel_feats)):\n",
    "                    #(n_a, n_b) = sel_feats[Q]\n",
    "                    newblock = one_shot_blocks[:,:,Q]*sel_weights[Q]                    \n",
    "                    X_blocks[(S,L,NU)].append(newblock)\n",
    "                    if grad_samples is not None:\n",
    "                        newgrad = one_shot_grads[:,:,Q]*sel_weights[Q]\n",
    "                        X_grads[(S,L,NU)].append(newgrad)                        \n",
    "\n",
    "    print(\"calc\", time()-start)\n",
    "    start = time()\n",
    "    # turns data into sparse storage format (and dumps any empty block in the process)\n",
    "    nz_idx = []\n",
    "    nz_blk = []\n",
    "    for SLN in X_blocks:\n",
    "        S, L, NU = SLN\n",
    "        # create blocks\n",
    "        if (len(X_blocks[SLN])==0): continue  # skips empty blocks\n",
    "        nz_idx.append(SLN)\n",
    "        newblock= Block(\n",
    "                        # feature index must be last\n",
    "                        data=np.moveaxis(np.asarray(X_blocks[SLN]), 0, -1),\n",
    "                        samples = samples,\n",
    "                        components = Labels([\"mu\"],np.asarray(range(-L,L+1), dtype=np.int32).reshape(-1,1)),\n",
    "                        features = Labels( feature_names,\n",
    "                                           np.asarray(X_idx[SLN],dtype=np.int32)\n",
    "                                          )\n",
    "                          ) \n",
    "        if grad_samples is not None:\n",
    "            newblock.add_gradient(\"positions\", grad_samples, np.moveaxis(np.asarray(X_grads[SLN]), 0, -1))\n",
    "        nz_blk.append(newblock)\n",
    "    X = Descriptor(Labels([\"sigma\", \"lam\", \"nu\"], np.asarray(nz_idx, dtype=np.int32)), nz_blk)\n",
    "    print(\"clean\", time()-start)\n",
    "    return X, M"
   ]
  },
  {
   "cell_type": "code",
   "execution_count": 46,
   "metadata": {},
   "outputs": [
    {
     "name": "stdout",
     "output_type": "stream",
     "text": [
      "prep 0.28843259811401367\n",
      "calc 0.7087311744689941\n",
      "clean 0.023537397384643555\n"
     ]
    }
   ],
   "source": [
    "x2 = acdc_combine(acdc_nu1, acdc_full_nu1, acdc_nu1, acdc_full_nu1)"
   ]
  },
  {
   "cell_type": "code",
   "execution_count": 47,
   "metadata": {},
   "outputs": [],
   "source": [
    "def acdc_increment(x_nu, m_nu, x_1, m_1, M=None, clebsch_gordan=None):\n",
    "    \"\"\" Specialized version of the CG product to perform iterations with nu=1 features\"\"\"\n",
    "    nu = x_nu.sparse[\"nu\"][0]\n",
    "    if nu==1:\n",
    "        feature_names = (\"n_1\", \"l_1\", \"n_2\", \"l_2\")\n",
    "    else:\n",
    "        feature_names = tuple(x_nu.block(0).features.names) + (\"k_\"+str(nu+1), \"n_\"+str(nu+1),\"l_\"+str(nu+1))\n",
    "    return acdc_combine(x_nu, m_nu, x_1, m_1, feature_names = feature_names, M = M, clebsch_gordan=clebsch_gordan)"
   ]
  },
  {
   "cell_type": "code",
   "execution_count": 48,
   "metadata": {},
   "outputs": [],
   "source": [
    "cg = ClebschGordanReal(lmax*3)"
   ]
  },
  {
   "cell_type": "code",
   "execution_count": 49,
   "metadata": {},
   "outputs": [
    {
     "name": "stdout",
     "output_type": "stream",
     "text": [
      "prep 0.04297208786010742\n",
      "calc 0.3694770336151123\n",
      "clean 0.02672290802001953\n",
      "CPU times: user 598 ms, sys: 247 ms, total: 845 ms\n",
      "Wall time: 442 ms\n"
     ]
    }
   ],
   "source": [
    "%%time\n",
    "acdc_nu2, acdc_full_nu2 = acdc_increment(acdc_nu1, acdc_full_nu1, acdc_nu1, acdc_full_nu1, clebsch_gordan=cg)"
   ]
  },
  {
   "cell_type": "code",
   "execution_count": 27,
   "metadata": {},
   "outputs": [
    {
     "name": "stdout",
     "output_type": "stream",
     "text": [
      "prep 0.44214558601379395\n",
      "calc 3.454162836074829\n",
      "clean 0.464646577835083\n",
      "CPU times: user 3.89 s, sys: 499 ms, total: 4.38 s\n",
      "Wall time: 4.38 s\n"
     ]
    }
   ],
   "source": [
    "%%time\n",
    "acdc_nu3, acdc_full_nu3 = acdc_increment(acdc_nu2, acdc_full_nu2, acdc_nu1, acdc_full_nu1, clebsch_gordan = cg)"
   ]
  },
  {
   "cell_type": "markdown",
   "metadata": {
    "heading_collapsed": true
   },
   "source": [
    "## analyze jacobian"
   ]
  },
  {
   "cell_type": "markdown",
   "metadata": {
    "hidden": true
   },
   "source": [
    "Requires `compute_gradients=True`"
   ]
  },
  {
   "cell_type": "markdown",
   "metadata": {
    "hidden": true
   },
   "source": [
    "manually densify features"
   ]
  },
  {
   "cell_type": "code",
   "execution_count": 19,
   "metadata": {
    "hidden": true
   },
   "outputs": [],
   "source": [
    "j_nu1 = []\n",
    "for idx, block in acdc_nu1:\n",
    "    smp, grad = block.gradient(\"positions\")\n",
    "    j_nu1.append(grad.reshape((grad.shape[0],-1)))\n",
    "j_nu1 = np.concatenate(j_nu1, axis=-1).reshape(10,12,-1)    "
   ]
  },
  {
   "cell_type": "code",
   "execution_count": 20,
   "metadata": {
    "hidden": true
   },
   "outputs": [],
   "source": [
    "j_nu2 = []\n",
    "for idx, block in acdc_nu2:\n",
    "    smp, grad = block.gradient(\"positions\")\n",
    "    j_nu2.append(grad.reshape((grad.shape[0],-1)))\n",
    "j_nu2 = np.concatenate(j_nu2, axis=-1).reshape(10,12,-1)"
   ]
  },
  {
   "cell_type": "code",
   "execution_count": 21,
   "metadata": {
    "hidden": true
   },
   "outputs": [],
   "source": [
    "j_nu3 = []\n",
    "for idx, block in acdc_nu3:\n",
    "    smp, grad = block.gradient(\"positions\")\n",
    "    j_nu3.append(grad.reshape((grad.shape[0],-1)))\n",
    "j_nu3 = np.concatenate(j_nu3, axis=-1).reshape(10,12,-1)\n",
    "\n",
    "sv_nu3 = np.asarray([ sp.linalg.svdvals(j_nu3[i])  for i in range(10)])"
   ]
  },
  {
   "cell_type": "code",
   "execution_count": 22,
   "metadata": {
    "hidden": true
   },
   "outputs": [],
   "source": [
    "import scipy as sp"
   ]
  },
  {
   "cell_type": "code",
   "execution_count": 23,
   "metadata": {
    "hidden": true
   },
   "outputs": [],
   "source": [
    "sv_nu1 = np.asarray([ sp.linalg.svdvals(j_nu1[i])  for i in range(10)])\n",
    "sv_nu2 = np.asarray([ sp.linalg.svdvals(j_nu2[i])  for i in range(10)])"
   ]
  },
  {
   "cell_type": "code",
   "execution_count": 24,
   "metadata": {
    "hidden": true
   },
   "outputs": [
    {
     "data": {
      "text/plain": [
       "Text(0, 0.5, 'CN ($\\\\nu=2)$')"
      ]
     },
     "execution_count": 24,
     "metadata": {},
     "output_type": "execute_result"
    },
    {
     "data": {
      "image/png": "[encoded data removed]",
      "text/plain": [
       "<Figure size 432x288 with 1 Axes>"
      ]
     },
     "metadata": {
      "needs_background": "light"
     },
     "output_type": "display_data"
    }
   ],
   "source": [
    "plt.plot(\n",
    "    sv_nu1[:,0]/sv_nu1[:,-1],\n",
    "    sv_nu2[:,0]/sv_nu2[:,-1],\n",
    "    'r.'\n",
    ")\n",
    "plt.plot([1,8],[1,8],'k--')\n",
    "plt.xlabel(r\"CN ($\\nu=1)$\")\n",
    "plt.ylabel(r\"CN ($\\nu=2)$\")"
   ]
  },
  {
   "cell_type": "code",
   "execution_count": 25,
   "metadata": {
    "hidden": true
   },
   "outputs": [
    {
     "data": {
      "text/plain": [
       "Text(0, 0.5, 'CN ($\\\\nu=3)$')"
      ]
     },
     "execution_count": 25,
     "metadata": {},
     "output_type": "execute_result"
    },
    {
     "data": {
      "image/png": "[encoded data removed]",
      "text/plain": [
       "<Figure size 432x288 with 1 Axes>"
      ]
     },
     "metadata": {
      "needs_background": "light"
     },
     "output_type": "display_data"
    }
   ],
   "source": [
    "plt.plot(\n",
    "    sv_nu1[:,0]/sv_nu1[:,-1],\n",
    "    sv_nu3[:,0]/sv_nu3[:,-1],\n",
    "    'r.'\n",
    ")\n",
    "plt.plot([1,8],[1,8],'k--')\n",
    "plt.xlabel(r\"CN ($\\nu=1)$\")\n",
    "plt.ylabel(r\"CN ($\\nu=3)$\")"
   ]
  },
  {
   "cell_type": "markdown",
   "metadata": {},
   "source": [
    "# Independent feature tracking"
   ]
  },
  {
   "cell_type": "markdown",
   "metadata": {},
   "source": [
    "This performs the cg iteration while avoiding to compute duplicate / linearly dependent features, and tracks the multiplicity so that no density (correlation) is lost"
   ]
  },
  {
   "cell_type": "code",
   "execution_count": 28,
   "metadata": {},
   "outputs": [],
   "source": [
    "def _get_idx_nl(nu, idx, names):  \n",
    "    # extracts the n,l feature indices. assumes indices are labelled n_nu, l_nu\n",
    "    nl_values = np.zeros((nu,2), dtype = np.int32)    \n",
    "    for i, n in enumerate(names):\n",
    "        w, k = n.split(\"_\")\n",
    "        k = int(k)\n",
    "        if w == \"n\":\n",
    "            nl_values[k-1][0] = idx[i]\n",
    "        elif w == \"l\":\n",
    "            nl_values[k-1][1] = idx[i]\n",
    "    return nl_values\n",
    "\n",
    "def _sort_idx_nl(nl_values):\n",
    "    # sorts the n,l indices lexicographically (l first, then n)\n",
    "    isort = np.lexsort(nl_values.T)\n",
    "    return nl_values[isort]"
   ]
  },
  {
   "cell_type": "code",
   "execution_count": 29,
   "metadata": {},
   "outputs": [],
   "source": [
    "def acdc_canonical_indices(m_nu, m_1, M = None):\n",
    "    \"\"\" Determines canonical (n,l, lexicographically sorted) indices, to \n",
    "    implement the selection rule with lam_1<l2<l3 ... lam_nu [cf. Nigam et al. JCP 2020]\n",
    "    This eliminates a large fraction of the linearly dependent equivariants. \n",
    "    NB: this only works if we keep stacking the same density coefficients, which we assume are \n",
    "    passed as the second argument.\n",
    "    Also tracks multiplicity so norm should be conserved. \"\"\"\n",
    "    \n",
    "    nu = m_nu.sparse[\"nu\"][0]\n",
    "    if nu==1:\n",
    "        names = (\"n_1\", \"l_1\", \"n_2\", \"l_2\")\n",
    "    else:\n",
    "        names = tuple(m_nu.block(0).features.names) + (\"k_\"+str(nu+1), \"n_\"+str(nu+1),\"l_\"+str(nu+1))\n",
    "    if M is None:\n",
    "        M = acdc_full_product_indices(m_nu, m_1)\n",
    "    \n",
    "    M_dict = {}\n",
    "    for m_index, m_block in M:\n",
    "        canonical_idx = {}\n",
    "        canonical_counts = {}\n",
    "        if len(m_block.features) == 0:\n",
    "            continue    \n",
    "        for idx, W in zip(m_block.features, m_block.values[0,0]):\n",
    "            idx = tuple(idx)\n",
    "            # gets only the n,l part of the nu features \n",
    "            cidx = _get_idx_nl(nu+1, idx, names)\n",
    "            # gets the sorted version\n",
    "            sidx = _sort_idx_nl(cidx)\n",
    "            # converts to tuple\n",
    "            cidx = tuple(cidx.flatten())\n",
    "            sidx = tuple(sidx.flatten())\n",
    "            # gets multiplicity (weight)            \n",
    "                \n",
    "            if not sidx in canonical_counts:\n",
    "                canonical_idx[sidx] = []\n",
    "                canonical_counts[sidx] = 0\n",
    "            \n",
    "            canonical_counts[sidx] += W\n",
    "            if cidx == sidx:\n",
    "                canonical_idx[sidx].append(idx)\n",
    "            \n",
    "        MD = {}\n",
    "        for nl in canonical_counts:            \n",
    "            if (canonical_counts[nl]%len(canonical_idx[nl]) !=0):\n",
    "                    print(\"non integer count!\", canonical_counts[nl], len(canonical_idx[nl]))                \n",
    "            for idx in canonical_idx[nl]:\n",
    "                MD[idx] = canonical_counts[nl]/len(canonical_idx[nl])        \n",
    "        M_dict[tuple(m_index)] = MD\n",
    "    \n",
    "    # casts the weights into a Descriptor format\n",
    "    return _mdict_2_mdesc(M_dict, M.sparse.names, names)"
   ]
  },
  {
   "cell_type": "code",
   "execution_count": 28,
   "metadata": {},
   "outputs": [],
   "source": [
    "cg = ClebschGordanReal(lmax*5)"
   ]
  },
  {
   "cell_type": "code",
   "execution_count": 29,
   "metadata": {},
   "outputs": [],
   "source": [
    "norm_full1 = 0.0\n",
    "for i, b in acdc_nu1:\n",
    "    norm_full1 += (b.values**2).sum(axis=-1).sum(axis=-1)"
   ]
  },
  {
   "cell_type": "code",
   "execution_count": 30,
   "metadata": {},
   "outputs": [],
   "source": [
    "acdc_sel_nu2 = acdc_canonical_indices(acdc_full_nu1, acdc_full_nu1)"
   ]
  },
  {
   "cell_type": "code",
   "execution_count": 31,
   "metadata": {},
   "outputs": [
    {
     "name": "stdout",
     "output_type": "stream",
     "text": [
      "prep 0.004172325134277344\n",
      "calc 0.10399413108825684\n",
      "clean 0.006589651107788086\n",
      "CPU times: user 115 ms, sys: 3.16 ms, total: 118 ms\n",
      "Wall time: 116 ms\n"
     ]
    }
   ],
   "source": [
    "%%time\n",
    "canonical_acdc_nu2, _ = acdc_increment(acdc_nu1, acdc_full_nu1, acdc_nu1, acdc_full_nu1, clebsch_gordan=cg, M=acdc_sel_nu2)"
   ]
  },
  {
   "cell_type": "code",
   "execution_count": 32,
   "metadata": {},
   "outputs": [],
   "source": [
    "acdc_sel_nu3 = acdc_canonical_indices(acdc_sel_nu2, acdc_full_nu1)"
   ]
  },
  {
   "cell_type": "code",
   "execution_count": 33,
   "metadata": {},
   "outputs": [
    {
     "name": "stdout",
     "output_type": "stream",
     "text": [
      "prep 0.021066904067993164\n",
      "calc 1.0295162200927734\n",
      "clean 0.018707990646362305\n",
      "CPU times: user 1.08 s, sys: 4.59 ms, total: 1.08 s\n",
      "Wall time: 1.07 s\n"
     ]
    }
   ],
   "source": [
    "%%time\n",
    "canonical_acdc_nu3, _ = acdc_increment(canonical_acdc_nu2, acdc_sel_nu2, acdc_nu1, acdc_full_nu1, clebsch_gordan=cg, \n",
    "                                    M=acdc_sel_nu3)"
   ]
  },
  {
   "cell_type": "code",
   "execution_count": 34,
   "metadata": {},
   "outputs": [],
   "source": [
    "acdc_sel_nu4 = acdc_canonical_indices(acdc_sel_nu3, acdc_full_nu1)"
   ]
  },
  {
   "cell_type": "code",
   "execution_count": 35,
   "metadata": {},
   "outputs": [
    {
     "name": "stdout",
     "output_type": "stream",
     "text": [
      "prep 0.27839207649230957\n",
      "calc 16.354865074157715\n",
      "clean 0.3044583797454834\n"
     ]
    }
   ],
   "source": [
    "canonical_acdc_nu4, _ = acdc_increment(canonical_acdc_nu3, acdc_sel_nu3, acdc_nu1, acdc_full_nu1, clebsch_gordan=cg, \n",
    "                                    M=acdc_sel_nu4)"
   ]
  },
  {
   "cell_type": "code",
   "execution_count": 36,
   "metadata": {},
   "outputs": [],
   "source": [
    "acdc_sel_nu5 = acdc_canonical_indices(acdc_sel_nu4, acdc_full_nu1)"
   ]
  },
  {
   "cell_type": "code",
   "execution_count": 37,
   "metadata": {},
   "outputs": [
    {
     "name": "stdout",
     "output_type": "stream",
     "text": [
      "prep 3.353417158126831\n",
      "calc 1146.0874655246735\n",
      "clean 49.27133846282959\n"
     ]
    }
   ],
   "source": [
    "canonical_acdc_nu5, _ = acdc_increment(canonical_acdc_nu4, acdc_sel_nu4, acdc_nu1, acdc_full_nu1, clebsch_gordan=cg, \n",
    "                                    M=acdc_sel_nu5)"
   ]
  },
  {
   "cell_type": "markdown",
   "metadata": {},
   "source": [
    "compute norms and show that they match the norm of nu=1 features to the power nu"
   ]
  },
  {
   "cell_type": "code",
   "execution_count": 38,
   "metadata": {},
   "outputs": [],
   "source": [
    "nnu2_full = np.sum([ len(b.features) for i, b in acdc_nu2 ])\n",
    "nnu2_can = np.sum([ len(b.features) for i, b in canonical_acdc_nu2 ])"
   ]
  },
  {
   "cell_type": "code",
   "execution_count": 39,
   "metadata": {},
   "outputs": [],
   "source": [
    "norm_full2 = 0.0\n",
    "for i, b in acdc_nu2:\n",
    "    norm_full2 += (b.values**2).sum(axis=-1).sum(axis=-1)\n",
    "norm_can2 = 0.0\n",
    "for i, b in canonical_acdc_nu2:\n",
    "    norm_can2 += (b.values**2).sum(axis=-1).sum(axis=-1)"
   ]
  },
  {
   "cell_type": "code",
   "execution_count": 40,
   "metadata": {},
   "outputs": [
    {
     "name": "stdout",
     "output_type": "stream",
     "text": [
      "(307, 8.757907717288745e-07) (174, 8.757907717288746e-07) 8.75790771728875e-07\n"
     ]
    }
   ],
   "source": [
    "print((nnu2_full, norm_full2.sum()), (nnu2_can, norm_can2.sum()), (norm_full1**2).sum())"
   ]
  },
  {
   "cell_type": "code",
   "execution_count": 41,
   "metadata": {},
   "outputs": [],
   "source": [
    "nnu3_full = np.sum([ len(b.features) for i, b in acdc_nu3 ])\n",
    "nnu3_can = np.sum([ len(b.features) for i, b in canonical_acdc_nu3 ])"
   ]
  },
  {
   "cell_type": "code",
   "execution_count": 42,
   "metadata": {},
   "outputs": [],
   "source": [
    "norm_full3 = 0.0\n",
    "for i, b in acdc_nu3:\n",
    "    norm_full3 += (b.values**2).sum(axis=-1).sum(axis=-1)\n",
    "norm_can3 = 0.0\n",
    "for i, b in canonical_acdc_nu3:\n",
    "    norm_can3 += (b.values**2).sum(axis=-1).sum(axis=-1)"
   ]
  },
  {
   "cell_type": "code",
   "execution_count": 43,
   "metadata": {},
   "outputs": [
    {
     "name": "stdout",
     "output_type": "stream",
     "text": [
      "(10349, 3.15323670990659e-10) (2380, 3.1532367099065907e-10) 3.1532367099065933e-10\n"
     ]
    }
   ],
   "source": [
    "print((nnu3_full, norm_full3.sum()), (nnu3_can, norm_can3.sum()),(norm_full1**3).sum())"
   ]
  },
  {
   "cell_type": "code",
   "execution_count": 44,
   "metadata": {},
   "outputs": [],
   "source": [
    "nnu4_can = np.sum([ len(b.features) for i, b in canonical_acdc_nu4 ])"
   ]
  },
  {
   "cell_type": "code",
   "execution_count": 45,
   "metadata": {},
   "outputs": [],
   "source": [
    "norm_can4 = 0.0\n",
    "for i, b in canonical_acdc_nu4:\n",
    "    norm_can4 += (b.values**2).sum(axis=-1).sum(axis=-1)"
   ]
  },
  {
   "cell_type": "code",
   "execution_count": 46,
   "metadata": {},
   "outputs": [
    {
     "name": "stdout",
     "output_type": "stream",
     "text": [
      "(28799, 1.2927915921857593e-13) 1.292791592185761e-13\n"
     ]
    }
   ],
   "source": [
    "print((nnu4_can, norm_can4.sum()),(norm_full1**4).sum())"
   ]
  },
  {
   "cell_type": "code",
   "execution_count": 47,
   "metadata": {},
   "outputs": [],
   "source": [
    "nnu5_can = np.sum([ len(b.features) for i, b in canonical_acdc_nu5 ])"
   ]
  },
  {
   "cell_type": "code",
   "execution_count": 48,
   "metadata": {},
   "outputs": [],
   "source": [
    "norm_can5 = 0.0\n",
    "for i, b in canonical_acdc_nu5:\n",
    "    norm_can5 += (b.values**2).sum(axis=-1).sum(axis=-1)"
   ]
  },
  {
   "cell_type": "code",
   "execution_count": 49,
   "metadata": {},
   "outputs": [
    {
     "name": "stdout",
     "output_type": "stream",
     "text": [
      "(315159, 5.88423254342501e-17) 5.884232543425024e-17\n"
     ]
    }
   ],
   "source": [
    "print((nnu5_can, norm_can5.sum()),(norm_full1**5).sum())"
   ]
  },
  {
   "cell_type": "markdown",
   "metadata": {},
   "source": [
    "# Iterative scheme"
   ]
  },
  {
   "cell_type": "code",
   "execution_count": 50,
   "metadata": {},
   "outputs": [
    {
     "name": "stdout",
     "output_type": "stream",
     "text": [
      "prep 0.017388105392456055\n",
      "calc 0.30941176414489746\n",
      "clean 0.019566059112548828\n"
     ]
    }
   ],
   "source": [
    "acdc_nu2, acdc_full_nu2 = acdc_increment(acdc_nu1, acdc_full_nu1, acdc_nu1, acdc_full_nu1, clebsch_gordan=cg)"
   ]
  },
  {
   "cell_type": "code",
   "execution_count": 51,
   "metadata": {},
   "outputs": [
    {
     "data": {
      "text/plain": [
       "Labels([(0, 0, 0, 0), (0, 0, 1, 0), (0, 0, 2, 0), (0, 0, 3, 0),\n",
       "        (1, 0, 0, 0), (1, 0, 1, 0), (1, 0, 2, 0), (1, 0, 3, 0),\n",
       "        (2, 0, 0, 0), (2, 0, 1, 0), (2, 0, 2, 0), (2, 0, 3, 0),\n",
       "        (3, 0, 0, 0), (3, 0, 1, 0), (3, 0, 2, 0), (3, 0, 3, 0),\n",
       "        (0, 1, 0, 1), (0, 1, 1, 1), (0, 1, 2, 1), (0, 1, 3, 1),\n",
       "        (1, 1, 0, 1), (1, 1, 1, 1), (1, 1, 2, 1), (1, 1, 3, 1),\n",
       "        (2, 1, 0, 1), (2, 1, 1, 1), (2, 1, 2, 1), (2, 1, 3, 1),\n",
       "        (3, 1, 0, 1), (3, 1, 1, 1), (3, 1, 2, 1), (3, 1, 3, 1),\n",
       "        (0, 2, 0, 2), (0, 2, 1, 2), (0, 2, 2, 2), (1, 2, 0, 2),\n",
       "        (1, 2, 1, 2), (1, 2, 2, 2), (2, 2, 0, 2), (2, 2, 1, 2),\n",
       "        (2, 2, 2, 2), (0, 3, 0, 3), (0, 3, 1, 3), (0, 3, 2, 3),\n",
       "        (1, 3, 0, 3), (1, 3, 1, 3), (1, 3, 2, 3), (2, 3, 0, 3),\n",
       "        (2, 3, 1, 3), (2, 3, 2, 3)],\n",
       "       dtype=[('n_1', '<i4'), ('l_1', '<i4'), ('n_2', '<i4'), ('l_2', '<i4')])"
      ]
     },
     "execution_count": 51,
     "metadata": {},
     "output_type": "execute_result"
    }
   ],
   "source": [
    "acdc_nu2.block(0).features"
   ]
  },
  {
   "cell_type": "code",
   "execution_count": 52,
   "metadata": {},
   "outputs": [],
   "source": [
    "X = acdc_nu2.block(0).values"
   ]
  },
  {
   "cell_type": "code",
   "execution_count": 53,
   "metadata": {},
   "outputs": [],
   "source": [
    "rX = X.reshape(-1,X.shape[-1]) * 1"
   ]
  },
  {
   "cell_type": "code",
   "execution_count": 54,
   "metadata": {},
   "outputs": [],
   "source": [
    "nrm = (rX**2).sum(axis=0)"
   ]
  },
  {
   "cell_type": "code",
   "execution_count": 55,
   "metadata": {},
   "outputs": [
    {
     "data": {
      "text/plain": [
       "array([2.42940970e-07, 4.45236273e-08, 2.46073523e-08, 1.03791992e-08,\n",
       "       4.45236273e-08, 2.29396324e-08, 7.32309093e-09, 3.56362288e-09,\n",
       "       2.46073523e-08, 7.32309093e-09, 9.12791720e-09, 1.38798002e-09,\n",
       "       1.03791992e-08, 3.56362288e-09, 1.38798002e-09, 1.52720383e-09,\n",
       "       6.08419466e-08, 1.12379404e-08, 5.15856091e-09, 1.39895330e-09,\n",
       "       1.12379404e-08, 3.10903465e-08, 6.50486933e-09, 1.88331929e-09,\n",
       "       5.15856091e-09, 6.50486933e-09, 1.33623268e-08, 3.27955986e-09,\n",
       "       1.39895330e-09, 1.88331929e-09, 3.27955986e-09, 3.30279380e-09,\n",
       "       5.33147404e-08, 8.50633090e-09, 4.30948222e-09, 8.50633090e-09,\n",
       "       3.52817376e-08, 7.90600428e-09, 4.30948222e-09, 7.90600428e-09,\n",
       "       9.88785826e-09, 7.96731127e-08, 8.35800052e-09, 3.48786496e-09,\n",
       "       8.35800052e-09, 2.28591699e-08, 2.75720216e-09, 3.48786496e-09,\n",
       "       2.75720216e-09, 5.14521614e-09])"
      ]
     },
     "execution_count": 55,
     "metadata": {},
     "output_type": "execute_result"
    }
   ],
   "source": [
    "nrm"
   ]
  },
  {
   "cell_type": "code",
   "execution_count": 56,
   "metadata": {},
   "outputs": [],
   "source": [
    "sca = nrm*0+1"
   ]
  },
  {
   "cell_type": "code",
   "execution_count": 57,
   "metadata": {},
   "outputs": [
    {
     "name": "stdout",
     "output_type": "stream",
     "text": [
      "1 4.452362726594057e-08\n"
     ]
    }
   ],
   "source": [
    "aidx = nrm.argmin()\n",
    "aidx = 1\n",
    "miv = rX[:,aidx]\n",
    "print(aidx, nrm[aidx])"
   ]
  },
  {
   "cell_type": "code",
   "execution_count": 58,
   "metadata": {},
   "outputs": [],
   "source": [
    "rX = np.hstack([rX[:,:aidx], rX[:,aidx+1:]])\n",
    "sca = np.concatenate([sca[:aidx], sca[aidx+1:]])\n",
    "nrm = np.concatenate([nrm[:aidx], nrm[aidx+1:]])"
   ]
  },
  {
   "cell_type": "code",
   "execution_count": 61,
   "metadata": {},
   "outputs": [
    {
     "data": {
      "text/plain": [
       "array([-0.08901728, -0.13926044, -0.07885441,  1.        , -0.53846526,\n",
       "        1.33084476,  0.9576714 , -0.13926044,  1.33084476, -0.66889759,\n",
       "       -2.1800674 , -0.07885441,  0.9576714 , -2.1800674 , -2.87818224,\n",
       "        0.19993843, -1.28327545, -0.9197659 ,  0.31047506, -1.28327545,\n",
       "        0.16097781,  1.46285602, -0.03968666, -0.9197659 ,  1.46285602,\n",
       "        0.77276911,  1.69168539,  0.31047506, -0.03968666,  1.69168539,\n",
       "        1.96298614, -0.03850159, -1.11937661, -0.25807999, -1.11937661,\n",
       "       -0.4205467 ,  1.8172761 , -0.25807999,  1.8172761 , -0.94371073,\n",
       "        0.08471566, -1.51418101, -0.41761758, -1.51418101,  0.21588799,\n",
       "        2.43859512, -0.41761758,  2.43859512,  1.18851966])"
      ]
     },
     "execution_count": 61,
     "metadata": {},
     "output_type": "execute_result"
    }
   ],
   "source": [
    "prj/nrm"
   ]
  },
  {
   "cell_type": "code",
   "execution_count": 60,
   "metadata": {},
   "outputs": [],
   "source": [
    "prj =miv@rX\n",
    "sca += (prj/nrm)**2"
   ]
  },
  {
   "cell_type": "code",
   "execution_count": 62,
   "metadata": {},
   "outputs": [
    {
     "data": {
      "text/plain": [
       "array([1.00792408, 1.01939347, 1.00621802, 2.        , 1.28994483,\n",
       "       2.77114777, 1.91713451, 1.01939347, 2.77114777, 1.44742398,\n",
       "       5.75269388, 1.00621802, 1.91713451, 5.75269388, 9.28393301,\n",
       "       1.03997537, 2.64679589, 1.84596931, 1.09639476, 2.64679589,\n",
       "       1.02591386, 3.13994773, 1.00157503, 1.84596931, 3.13994773,\n",
       "       1.59717209, 3.86179945, 1.09639476, 1.00157503, 3.86179945,\n",
       "       4.8533146 , 1.00148237, 2.25300398, 1.06660528, 2.25300398,\n",
       "       1.17685953, 4.30249243, 1.06660528, 4.30249243, 1.89058994,\n",
       "       1.00717674, 3.29274413, 1.17440445, 3.29274413, 1.04660762,\n",
       "       6.94674618, 1.17440445, 6.94674618, 2.41257898])"
      ]
     },
     "execution_count": 62,
     "metadata": {},
     "output_type": "execute_result"
    }
   ],
   "source": [
    "sca"
   ]
  },
  {
   "cell_type": "code",
   "execution_count": 63,
   "metadata": {},
   "outputs": [
    {
     "data": {
      "text/plain": [
       "-3.5911273329198e-07"
      ]
     },
     "execution_count": 63,
     "metadata": {},
     "output_type": "execute_result"
    }
   ],
   "source": [
    "(X.squeeze()@X.squeeze().T - rX@np.diag(sca)@rX.T ).diagonal().sum()"
   ]
  },
  {
   "cell_type": "code",
   "execution_count": 64,
   "metadata": {},
   "outputs": [
    {
     "data": {
      "text/plain": [
       "4.452362726594059e-08"
      ]
     },
     "execution_count": 64,
     "metadata": {},
     "output_type": "execute_result"
    }
   ],
   "source": [
    "(X.squeeze()@X.squeeze().T - rX@rX.T ).diagonal().sum()"
   ]
  },
  {
   "cell_type": "code",
   "execution_count": 65,
   "metadata": {},
   "outputs": [
    {
     "data": {
      "text/plain": [
       "array([2.42940970e-07, 2.46073523e-08, 1.03791992e-08, 4.45236273e-08,\n",
       "       2.29396324e-08, 7.32309093e-09, 3.56362288e-09, 2.46073523e-08,\n",
       "       7.32309093e-09, 9.12791720e-09, 1.38798002e-09, 1.03791992e-08,\n",
       "       3.56362288e-09, 1.38798002e-09, 1.52720383e-09, 6.08419466e-08,\n",
       "       1.12379404e-08, 5.15856091e-09, 1.39895330e-09, 1.12379404e-08,\n",
       "       3.10903465e-08, 6.50486933e-09, 1.88331929e-09, 5.15856091e-09,\n",
       "       6.50486933e-09, 1.33623268e-08, 3.27955986e-09, 1.39895330e-09,\n",
       "       1.88331929e-09, 3.27955986e-09, 3.30279380e-09, 5.33147404e-08,\n",
       "       8.50633090e-09, 4.30948222e-09, 8.50633090e-09, 3.52817376e-08,\n",
       "       7.90600428e-09, 4.30948222e-09, 7.90600428e-09, 9.88785826e-09,\n",
       "       7.96731127e-08, 8.35800052e-09, 3.48786496e-09, 8.35800052e-09,\n",
       "       2.28591699e-08, 2.75720216e-09, 3.48786496e-09, 2.75720216e-09,\n",
       "       5.14521614e-09])"
      ]
     },
     "execution_count": 65,
     "metadata": {},
     "output_type": "execute_result"
    }
   ],
   "source": [
    "nrm"
   ]
  },
  {
   "cell_type": "code",
   "execution_count": null,
   "metadata": {},
   "outputs": [],
   "source": []
  }
 ],
 "metadata": {
  "kernelspec": {
   "display_name": "Python 3",
   "language": "python",
   "name": "python3"
  },
  "language_info": {
   "codemirror_mode": {
    "name": "ipython",
    "version": 3
   },
   "file_extension": ".py",
   "mimetype": "text/x-python",
   "name": "python",
   "nbconvert_exporter": "python",
   "pygments_lexer": "ipython3",
   "version": "3.8.10"
  },
  "toc": {
   "base_numbering": 1,
   "nav_menu": {},
   "number_sections": true,
   "sideBar": true,
   "skip_h1_title": false,
   "title_cell": "Table of Contents",
   "title_sidebar": "Contents",
   "toc_cell": false,
   "toc_position": {},
   "toc_section_display": true,
   "toc_window_display": true
  }
 },
 "nbformat": 4,
 "nbformat_minor": 4
}
