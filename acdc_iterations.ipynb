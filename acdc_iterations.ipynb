{
 "cells": [
  {
   "cell_type": "code",
   "execution_count": 1,
   "metadata": {},
   "outputs": [],
   "source": [
    "%load_ext autoreload\n",
    "%autoreload 2\n",
    "\n",
    "import numpy as np\n",
    "import scipy as sp\n",
    "import matplotlib.pyplot as plt\n",
    "\n",
    "import ase.io\n",
    "from time import time\n",
    "from copy import deepcopy\n",
    "\n",
    "from aml_storage import Labels, Block, Descriptor\n",
    "\n",
    "from utils.librascal import RascalSphericalExpansion\n",
    "from utils.clebsh_gordan import ClebschGordanReal\n",
    "\n",
    "from utils.acdc import *"
   ]
  },
  {
   "cell_type": "markdown",
   "metadata": {},
   "source": [
    "This example demonstrates the iterative construction of atom-centered density correlations.\n",
    "The calculations incorporate ideas from the N-body iterative contraction of equivariants [paper](https://doi.org/10.1063/5.0021116) and the optimal radial basis [paper](https://doi.org/10.1063/5.0057229)."
   ]
  },
  {
   "cell_type": "markdown",
   "metadata": {},
   "source": [
    "# Covariance-optimal basis"
   ]
  },
  {
   "cell_type": "markdown",
   "metadata": {},
   "source": [
    "We start by computing the spherical expansion representation for a set of methane structures. "
   ]
  },
  {
   "cell_type": "code",
   "execution_count": 2,
   "metadata": {},
   "outputs": [],
   "source": [
    "rascal_hypers = {\n",
    "    \"interaction_cutoff\": 3.5,\n",
    "    \"cutoff_smooth_width\": 0.5,\n",
    "    \"max_radial\": 3,\n",
    "    \"max_angular\": 2,\n",
    "    \"gaussian_sigma_type\": \"Constant\",\n",
    "    \"compute_gradients\":  False,\n",
    "}\n",
    "\n",
    "nmax, lmax = rascal_hypers[\"max_radial\"], rascal_hypers[\"max_angular\"]\n",
    "calculator = RascalSphericalExpansion(rascal_hypers)"
   ]
  },
  {
   "cell_type": "code",
   "execution_count": 3,
   "metadata": {},
   "outputs": [],
   "source": [
    "frames = ase.io.read(\"./data/random-methane-10k.extxyz\", \"::100\")\n",
    "for f in frames:\n",
    "    f.cell = [100,100,100]\n",
    "    f.positions += 50"
   ]
  },
  {
   "cell_type": "code",
   "execution_count": 4,
   "metadata": {},
   "outputs": [],
   "source": [
    "density_expansion = calculator.compute(frames)"
   ]
  },
  {
   "cell_type": "markdown",
   "metadata": {},
   "source": [
    "Then, select the C,H block, which is the most significant for this dataset, and project to the optimal covariance basis."
   ]
  },
  {
   "cell_type": "code",
   "execution_count": 5,
   "metadata": {},
   "outputs": [],
   "source": [
    "# for each (C,H) block, construct the optimal covariance basis\n",
    "opt_eve = {}\n",
    "opt_eva = {}\n",
    "full_norms = np.zeros(len(frames))\n",
    "for index, block in density_expansion:\n",
    "    if index[\"center_species\"] == 6 and index[\"neighbor_species\"] == 1:\n",
    "        feats = block.values.reshape(-1, len(block.features))\n",
    "        full_norms += (block.values**2).sum(axis=-1).sum(axis=-1)\n",
    "        cov = feats.T @ feats / feats.shape[0]\n",
    "        eva, eve = sp.linalg.eigh(cov)\n",
    "        eva = eva[::-1]; eve = eve[:,::-1]\n",
    "        opt_eva[index[\"spherical_harmonics_l\"]] = eva\n",
    "        opt_eve[index[\"spherical_harmonics_l\"]] = eve"
   ]
  },
  {
   "cell_type": "code",
   "execution_count": 6,
   "metadata": {},
   "outputs": [
    {
     "data": {
      "image/png": "[encoded data removed]",
      "text/plain": [
       "<Figure size 432x288 with 1 Axes>"
      ]
     },
     "metadata": {
      "needs_background": "light"
     },
     "output_type": "display_data"
    }
   ],
   "source": [
    "for l in range(lmax+1):\n",
    "    plt.loglog(opt_eva[l])"
   ]
  },
  {
   "cell_type": "markdown",
   "metadata": {},
   "source": [
    "Create compressed features, using labels naming consistent with Nigam 2020"
   ]
  },
  {
   "cell_type": "code",
   "execution_count": 7,
   "metadata": {},
   "outputs": [],
   "source": [
    "sel_thresh = 1.5e-6\n",
    "blocks = []\n",
    "for l in range(lmax+1):\n",
    "    n_selected = len(np.where(opt_eva[l] > sel_thresh)[0])    \n",
    "    de_block = density_expansion.block(center_species = 6, neighbor_species=1, spherical_harmonics_l = l)\n",
    "    block = Block(\n",
    "        values = de_block.values@opt_eve[l][:,:n_selected],\n",
    "        samples = de_block.samples,\n",
    "        components = Labels([\"m\"],np.asarray(range(-l,l+1), dtype=np.int32).reshape(-1,1)),\n",
    "        features = Labels([\"n\"], np.asarray([[n] for n in range(n_selected)], dtype=np.int32))\n",
    "    )\n",
    "    if rascal_hypers[\"compute_gradients\"]:\n",
    "        de_grad = de_block.gradient(\"positions\")\n",
    "        block.add_gradient(\n",
    "            name=\"positions\",\n",
    "            samples=de_grad[0],\n",
    "            gradient=de_grad[1]@opt_eve[l][:,:n_selected],\n",
    "        )\n",
    "    blocks.append( block )"
   ]
  },
  {
   "cell_type": "code",
   "execution_count": 8,
   "metadata": {},
   "outputs": [],
   "source": [
    "acdc_nu1 = Descriptor(sparse = Labels(names=[\"sigma\", \"lam\", \"nu\"], \n",
    "                                      values=np.asarray([[ 1, l, 1] for l in range(rascal_hypers[\"max_angular\"]+1)], dtype=np.int32)), \n",
    "                      blocks = blocks\n",
    "                     )"
   ]
  },
  {
   "cell_type": "code",
   "execution_count": 9,
   "metadata": {},
   "outputs": [],
   "source": [
    "# multiplicity of the features, stored as a descriptor array\n",
    "acdc_full_nu1 = Descriptor(\n",
    "    sparse = acdc_nu1.sparse,\n",
    "    blocks = [\n",
    "        Block(\n",
    "            values = np.ones(shape=(1,1,len(acdc_nu1.block(s).features))),\n",
    "            samples = Labels([\"dummy\"], np.zeros(shape=(1,1), dtype=np.int32)),\n",
    "            components = Labels([\"dummy\"], np.zeros(shape=(1,1), dtype=np.int32)),\n",
    "            features = acdc_nu1.block(s).features\n",
    "        ) for s in acdc_nu1.sparse\n",
    "    ]\n",
    ")"
   ]
  },
  {
   "cell_type": "code",
   "execution_count": 10,
   "metadata": {},
   "outputs": [
    {
     "data": {
      "text/plain": [
       "[<matplotlib.lines.Line2D at 0x14b597a90>]"
      ]
     },
     "execution_count": 10,
     "metadata": {},
     "output_type": "execute_result"
    },
    {
     "data": {
      "image/png": "[encoded data removed]",
      "text/plain": [
       "<Figure size 432x288 with 1 Axes>"
      ]
     },
     "metadata": {
      "needs_background": "light"
     },
     "output_type": "display_data"
    }
   ],
   "source": [
    "ln_nu1 = np.asarray([[s[\"lam\"], b.values.shape[-1]] for s,b in acdc_nu1 ])\n",
    "plt.plot(ln_nu1[:,0], ln_nu1[:,1], 'b*-')"
   ]
  },
  {
   "cell_type": "markdown",
   "metadata": {},
   "source": [
    "# ACDC utilities"
   ]
  },
  {
   "cell_type": "code",
   "execution_count": 11,
   "metadata": {},
   "outputs": [],
   "source": [
    "cg = ClebschGordanReal(lmax*3)"
   ]
  },
  {
   "cell_type": "markdown",
   "metadata": {},
   "source": [
    "default (all to all)"
   ]
  },
  {
   "cell_type": "code",
   "execution_count": 12,
   "metadata": {},
   "outputs": [],
   "source": [
    "acdc_nu2 = cg_increment(acdc_nu1, acdc_nu1, clebsch_gordan=cg)"
   ]
  },
  {
   "cell_type": "markdown",
   "metadata": {},
   "source": [
    "specifying features"
   ]
  },
  {
   "cell_type": "code",
   "execution_count": 13,
   "metadata": {},
   "outputs": [
    {
     "name": "stdout",
     "output_type": "stream",
     "text": [
      "CPU times: user 31.9 ms, sys: 2.86 ms, total: 34.7 ms\n",
      "Wall time: 33.8 ms\n"
     ]
    }
   ],
   "source": [
    "%%time\n",
    "acdc_nu2 = cg_increment(acdc_nu1, acdc_nu1, acdc_full_nu1, acdc_full_nu1, clebsch_gordan=cg)\n",
    "acdc_full_nu2 = full_product_indices(acdc_full_nu1, acdc_full_nu1)"
   ]
  },
  {
   "cell_type": "code",
   "execution_count": 14,
   "metadata": {},
   "outputs": [
    {
     "name": "stdout",
     "output_type": "stream",
     "text": [
      "CPU times: user 190 ms, sys: 10.3 ms, total: 200 ms\n",
      "Wall time: 199 ms\n"
     ]
    }
   ],
   "source": [
    "%%time\n",
    "acdc_nu3 = cg_increment(acdc_nu2, acdc_nu1, acdc_full_nu2, acdc_full_nu1, clebsch_gordan = cg)"
   ]
  },
  {
   "cell_type": "markdown",
   "metadata": {},
   "source": [
    "## analyze jacobian"
   ]
  },
  {
   "cell_type": "markdown",
   "metadata": {},
   "source": [
    "Requires `compute_gradients=True`"
   ]
  },
  {
   "cell_type": "markdown",
   "metadata": {},
   "source": [
    "manually densify features"
   ]
  },
  {
   "cell_type": "code",
   "execution_count": null,
   "metadata": {},
   "outputs": [],
   "source": [
    "j_nu1 = []\n",
    "for idx, block in acdc_nu1:\n",
    "    smp, grad = block.gradient(\"positions\")\n",
    "    j_nu1.append(grad.reshape((grad.shape[0],-1)))\n",
    "j_nu1 = np.concatenate(j_nu1, axis=-1).reshape(10,12,-1)    "
   ]
  },
  {
   "cell_type": "code",
   "execution_count": null,
   "metadata": {},
   "outputs": [],
   "source": [
    "j_nu2 = []\n",
    "for idx, block in acdc_nu2:\n",
    "    smp, grad = block.gradient(\"positions\")\n",
    "    j_nu2.append(grad.reshape((grad.shape[0],-1)))\n",
    "j_nu2 = np.concatenate(j_nu2, axis=-1).reshape(10,12,-1)"
   ]
  },
  {
   "cell_type": "code",
   "execution_count": null,
   "metadata": {},
   "outputs": [],
   "source": [
    "j_nu3 = []\n",
    "for idx, block in acdc_nu3:\n",
    "    smp, grad = block.gradient(\"positions\")\n",
    "    j_nu3.append(grad.reshape((grad.shape[0],-1)))\n",
    "j_nu3 = np.concatenate(j_nu3, axis=-1).reshape(10,12,-1)\n",
    "\n",
    "sv_nu3 = np.asarray([ sp.linalg.svdvals(j_nu3[i])  for i in range(10)])"
   ]
  },
  {
   "cell_type": "code",
   "execution_count": null,
   "metadata": {},
   "outputs": [],
   "source": [
    "import scipy as sp"
   ]
  },
  {
   "cell_type": "code",
   "execution_count": null,
   "metadata": {},
   "outputs": [],
   "source": [
    "sv_nu1 = np.asarray([ sp.linalg.svdvals(j_nu1[i])  for i in range(10)])\n",
    "sv_nu2 = np.asarray([ sp.linalg.svdvals(j_nu2[i])  for i in range(10)])"
   ]
  },
  {
   "cell_type": "code",
   "execution_count": null,
   "metadata": {},
   "outputs": [],
   "source": [
    "plt.plot(\n",
    "    sv_nu1[:,0]/sv_nu1[:,-1],\n",
    "    sv_nu2[:,0]/sv_nu2[:,-1],\n",
    "    'r.'\n",
    ")\n",
    "plt.plot([1,8],[1,8],'k--')\n",
    "plt.xlabel(r\"CN ($\\nu=1)$\")\n",
    "plt.ylabel(r\"CN ($\\nu=2)$\")"
   ]
  },
  {
   "cell_type": "code",
   "execution_count": null,
   "metadata": {},
   "outputs": [],
   "source": [
    "plt.plot(\n",
    "    sv_nu1[:,0]/sv_nu1[:,-1],\n",
    "    sv_nu3[:,0]/sv_nu3[:,-1],\n",
    "    'r.'\n",
    ")\n",
    "plt.plot([1,8],[1,8],'k--')\n",
    "plt.xlabel(r\"CN ($\\nu=1)$\")\n",
    "plt.ylabel(r\"CN ($\\nu=3)$\")"
   ]
  },
  {
   "cell_type": "markdown",
   "metadata": {},
   "source": [
    "# Independent feature tracking"
   ]
  },
  {
   "cell_type": "markdown",
   "metadata": {},
   "source": [
    "This performs the cg iteration while avoiding to compute duplicate / linearly dependent features, and tracks the multiplicity so that no density (correlation) is lost"
   ]
  },
  {
   "cell_type": "code",
   "execution_count": 15,
   "metadata": {},
   "outputs": [],
   "source": [
    "cg = ClebschGordanReal(lmax*5)"
   ]
  },
  {
   "cell_type": "code",
   "execution_count": 16,
   "metadata": {},
   "outputs": [],
   "source": [
    "norm_full1 = features_norm(acdc_nu1)"
   ]
  },
  {
   "cell_type": "code",
   "execution_count": 17,
   "metadata": {},
   "outputs": [],
   "source": [
    "acdc_sel_nu2 = canonical_indices(acdc_full_nu1, acdc_full_nu1)"
   ]
  },
  {
   "cell_type": "code",
   "execution_count": 18,
   "metadata": {},
   "outputs": [
    {
     "name": "stdout",
     "output_type": "stream",
     "text": [
      "CPU times: user 38.4 ms, sys: 1.6 ms, total: 40 ms\n",
      "Wall time: 48.3 ms\n"
     ]
    }
   ],
   "source": [
    "%%time\n",
    "canonical_acdc_nu2 = cg_increment(acdc_nu1, acdc_nu1, acdc_full_nu1, acdc_full_nu1, clebsch_gordan=cg, M=acdc_sel_nu2)"
   ]
  },
  {
   "cell_type": "code",
   "execution_count": 19,
   "metadata": {},
   "outputs": [],
   "source": [
    "acdc_sel_nu3 = canonical_indices(acdc_sel_nu2, acdc_full_nu1)"
   ]
  },
  {
   "cell_type": "code",
   "execution_count": 20,
   "metadata": {},
   "outputs": [
    {
     "name": "stdout",
     "output_type": "stream",
     "text": [
      "CPU times: user 167 ms, sys: 4.73 ms, total: 172 ms\n",
      "Wall time: 171 ms\n"
     ]
    }
   ],
   "source": [
    "%%time\n",
    "canonical_acdc_nu3 = cg_increment(canonical_acdc_nu2, acdc_nu1, acdc_sel_nu2, acdc_full_nu1, clebsch_gordan=cg, \n",
    "                                    M=acdc_sel_nu3)"
   ]
  },
  {
   "cell_type": "code",
   "execution_count": 21,
   "metadata": {},
   "outputs": [],
   "source": [
    "acdc_sel_nu4 = canonical_indices(acdc_sel_nu3, acdc_full_nu1)"
   ]
  },
  {
   "cell_type": "code",
   "execution_count": 22,
   "metadata": {},
   "outputs": [
    {
     "name": "stdout",
     "output_type": "stream",
     "text": [
      "CPU times: user 1.07 s, sys: 22.8 ms, total: 1.09 s\n",
      "Wall time: 1.09 s\n"
     ]
    }
   ],
   "source": [
    "%%time\n",
    "canonical_acdc_nu4 = cg_increment(canonical_acdc_nu3, acdc_nu1, acdc_sel_nu3, acdc_full_nu1, clebsch_gordan=cg, \n",
    "                                    M=acdc_sel_nu4)"
   ]
  },
  {
   "cell_type": "code",
   "execution_count": 23,
   "metadata": {},
   "outputs": [],
   "source": [
    "acdc_sel_nu5 = canonical_indices(acdc_sel_nu4, acdc_full_nu1)"
   ]
  },
  {
   "cell_type": "code",
   "execution_count": 24,
   "metadata": {},
   "outputs": [
    {
     "name": "stdout",
     "output_type": "stream",
     "text": [
      "CPU times: user 8.16 s, sys: 189 ms, total: 8.35 s\n",
      "Wall time: 8.45 s\n"
     ]
    }
   ],
   "source": [
    "%%time\n",
    "canonical_acdc_nu5 = cg_increment(canonical_acdc_nu4, acdc_nu1, acdc_sel_nu4, acdc_full_nu1, clebsch_gordan=cg, \n",
    "                                    M=acdc_sel_nu5)"
   ]
  },
  {
   "cell_type": "markdown",
   "metadata": {},
   "source": [
    "compute norms and show that they match the norm of nu=1 features to the power nu"
   ]
  },
  {
   "cell_type": "code",
   "execution_count": 27,
   "metadata": {},
   "outputs": [],
   "source": [
    "nnu2_full = features_count(acdc_nu2)\n",
    "nnu2_can = features_count(canonical_acdc_nu2)\n",
    "norm_full2 = features_norm(acdc_nu2)\n",
    "norm_can2 = features_norm(canonical_acdc_nu2)"
   ]
  },
  {
   "cell_type": "code",
   "execution_count": 28,
   "metadata": {},
   "outputs": [
    {
     "name": "stdout",
     "output_type": "stream",
     "text": [
      "(122, 3.873834622434605e-06) (72, 3.873834622434605e-06) 3.8738346224346055e-06\n"
     ]
    }
   ],
   "source": [
    "print((nnu2_full, norm_full2.sum()), (nnu2_can, norm_can2.sum()), (norm_full1**2).sum())"
   ]
  },
  {
   "cell_type": "code",
   "execution_count": 29,
   "metadata": {},
   "outputs": [],
   "source": [
    "nnu3_full = features_count(acdc_nu3)\n",
    "nnu3_can = features_count(canonical_acdc_nu3)\n",
    "norm_full3 = features_norm(acdc_nu3)\n",
    "norm_can3 = features_norm(canonical_acdc_nu3)"
   ]
  },
  {
   "cell_type": "code",
   "execution_count": 30,
   "metadata": {},
   "outputs": [
    {
     "name": "stdout",
     "output_type": "stream",
     "text": [
      "(2204, 9.607837605262187e-10) (564, 9.60783760526219e-10) 9.607837605262195e-10\n"
     ]
    }
   ],
   "source": [
    "print((nnu3_full, norm_full3.sum()), (nnu3_can, norm_can3.sum()),(norm_full1**3).sum())"
   ]
  },
  {
   "cell_type": "code",
   "execution_count": 31,
   "metadata": {},
   "outputs": [],
   "source": [
    "nnu4_can = features_count(canonical_acdc_nu4)\n",
    "norm_can4 = features_norm(canonical_acdc_nu4)"
   ]
  },
  {
   "cell_type": "code",
   "execution_count": 32,
   "metadata": {},
   "outputs": [
    {
     "name": "stdout",
     "output_type": "stream",
     "text": [
      "(4020, 2.674918841614878e-13) 2.6749188416148813e-13\n"
     ]
    }
   ],
   "source": [
    "print((nnu4_can, norm_can4.sum()),(norm_full1**4).sum())"
   ]
  },
  {
   "cell_type": "code",
   "execution_count": 33,
   "metadata": {},
   "outputs": [],
   "source": [
    "nnu5_can = features_count(canonical_acdc_nu5)\n",
    "norm_can5 = features_norm(canonical_acdc_nu5)"
   ]
  },
  {
   "cell_type": "code",
   "execution_count": 34,
   "metadata": {},
   "outputs": [
    {
     "name": "stdout",
     "output_type": "stream",
     "text": [
      "(26568, 8.126066561228682e-17) 8.126066561228693e-17\n"
     ]
    }
   ],
   "source": [
    "print((nnu5_can, norm_can5.sum()),(norm_full1**5).sum())"
   ]
  },
  {
   "cell_type": "markdown",
   "metadata": {},
   "source": [
    "# Iterative scheme"
   ]
  },
  {
   "cell_type": "code",
   "execution_count": null,
   "metadata": {},
   "outputs": [],
   "source": [
    "acdc_thresh_nu2, thrnorm_nu2 = threshold_indices(acdc_nu1, acdc_nu1, acdc_full_nu1, acdc_full_nu1, \n",
    "                                                      sel_threshold=1e-9, l_threshold=6)"
   ]
  },
  {
   "cell_type": "code",
   "execution_count": null,
   "metadata": {},
   "outputs": [],
   "source": [
    "acdc_thresh_nu2, thrnorm_nu2 = threshold_indices(acdc_nu1, acdc_nu1, sel_threshold=1e-9, l_threshold=6)"
   ]
  },
  {
   "cell_type": "code",
   "execution_count": null,
   "metadata": {},
   "outputs": [],
   "source": [
    "acdc_thr_nu2 = cg_increment(acdc_nu1, acdc_nu1, acdc_full_nu1, acdc_full_nu1, M=acdc_thresh_nu2, clebsch_gordan=cg)"
   ]
  },
  {
   "cell_type": "code",
   "execution_count": null,
   "metadata": {},
   "outputs": [],
   "source": [
    "norm_thr2 = features_norm(acdc_thr_nu2)\n",
    "nnu2_thr = features_count(acdc_thr_nu2)"
   ]
  },
  {
   "cell_type": "code",
   "execution_count": null,
   "metadata": {},
   "outputs": [],
   "source": [
    "print( norm_thr2.mean(), norm_thr2.mean()+thrnorm_nu2, norm_full2.mean())"
   ]
  },
  {
   "cell_type": "code",
   "execution_count": null,
   "metadata": {},
   "outputs": [],
   "source": [
    "print(nnu2_full, nnu2_can, nnu2_thr)"
   ]
  },
  {
   "cell_type": "code",
   "execution_count": null,
   "metadata": {},
   "outputs": [],
   "source": [
    "acdc_zip_nu2, acdc_w_nu2 = compress_features(acdc_thr_nu2, 1e-9)"
   ]
  },
  {
   "cell_type": "code",
   "execution_count": null,
   "metadata": {},
   "outputs": [],
   "source": [
    "norm_zip2 = features_norm(acdc_zip_nu2)\n",
    "nnu2_zip = features_count(acdc_zip_nu2)"
   ]
  },
  {
   "cell_type": "code",
   "execution_count": null,
   "metadata": {},
   "outputs": [],
   "source": [
    "print(norm_zip2.mean(), norm_thr2.mean(), norm_full2.mean())\n",
    "print(nnu2_full, nnu2_can, nnu2_thr, nnu2_zip)"
   ]
  },
  {
   "cell_type": "markdown",
   "metadata": {},
   "source": [
    "## zipo New heading"
   ]
  },
  {
   "cell_type": "markdown",
   "metadata": {},
   "source": [
    "recompute the compressed features!"
   ]
  },
  {
   "cell_type": "code",
   "execution_count": null,
   "metadata": {},
   "outputs": [],
   "source": [
    "acdc_zip_post_nu2 = cg_increment(acdc_nu1, acdc_nu1,  M=acdc_w_nu2, clebsch_gordan=cg)"
   ]
  },
  {
   "cell_type": "code",
   "execution_count": null,
   "metadata": {},
   "outputs": [],
   "source": [
    "features_norm(acdc_zip_post_nu2).mean()"
   ]
  },
  {
   "cell_type": "code",
   "execution_count": null,
   "metadata": {},
   "outputs": [],
   "source": [
    "features_norm(acdc_zip_nu2).mean()"
   ]
  },
  {
   "cell_type": "code",
   "execution_count": null,
   "metadata": {},
   "outputs": [],
   "source": [
    "acdc_thresh_nu3, thrnorm_nu3 = threshold_indices(acdc_zip_nu2, acdc_nu1, sel_threshold=1e-15, l_threshold=6)"
   ]
  },
  {
   "cell_type": "code",
   "execution_count": null,
   "metadata": {},
   "outputs": [],
   "source": [
    "acdc_nu1.block(1).values.shape"
   ]
  },
  {
   "cell_type": "code",
   "execution_count": null,
   "metadata": {},
   "outputs": [],
   "source": [
    "acdc_zip_nu2.block(1).values.shape"
   ]
  },
  {
   "cell_type": "code",
   "execution_count": null,
   "metadata": {},
   "outputs": [],
   "source": [
    "acdc_full_nu1.block(0).values.shape"
   ]
  },
  {
   "cell_type": "code",
   "execution_count": null,
   "metadata": {},
   "outputs": [],
   "source": [
    "features = acdc_full_nu2.block(0).features"
   ]
  },
  {
   "cell_type": "code",
   "execution_count": null,
   "metadata": {},
   "outputs": [],
   "source": [
    "(0,0,0,0) in acdc_full_nu2.block(0).features"
   ]
  },
  {
   "cell_type": "code",
   "execution_count": null,
   "metadata": {},
   "outputs": [],
   "source": [
    "acdc_full_nu2.sparse"
   ]
  },
  {
   "cell_type": "code",
   "execution_count": null,
   "metadata": {},
   "outputs": [],
   "source": [
    "np.int32((0,0,0,0))in  features"
   ]
  },
  {
   "cell_type": "code",
   "execution_count": null,
   "metadata": {},
   "outputs": [],
   "source": [
    "acdc_thr_nu3 = cg_increment(acdc_zip_nu2, acdc_nu1, M=acdc_thresh_nu3)"
   ]
  }
 ],
 "metadata": {
  "kernelspec": {
   "display_name": "Python 3",
   "language": "python",
   "name": "python3"
  },
  "language_info": {
   "codemirror_mode": {
    "name": "ipython",
    "version": 3
   },
   "file_extension": ".py",
   "mimetype": "text/x-python",
   "name": "python",
   "nbconvert_exporter": "python",
   "pygments_lexer": "ipython3",
   "version": "3.10.2"
  },
  "toc": {
   "base_numbering": 1,
   "nav_menu": {},
   "number_sections": true,
   "sideBar": true,
   "skip_h1_title": false,
   "title_cell": "Table of Contents",
   "title_sidebar": "Contents",
   "toc_cell": false,
   "toc_position": {
    "height": "calc(100% - 180px)",
    "left": "10px",
    "top": "150px",
    "width": "397px"
   },
   "toc_section_display": true,
   "toc_window_display": true
  }
 },
 "nbformat": 4,
 "nbformat_minor": 4
}
