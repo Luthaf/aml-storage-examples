{
 "cells": [
  {
   "cell_type": "code",
   "execution_count": 1,
   "metadata": {},
   "outputs": [],
   "source": [
    "%load_ext autoreload\n",
    "%autoreload 2"
   ]
  },
  {
   "cell_type": "markdown",
   "metadata": {},
   "source": [
    "Running this example requires [pyLODE](https://github.com/ceriottm/lode)."
   ]
  },
  {
   "cell_type": "code",
   "execution_count": 2,
   "metadata": {},
   "outputs": [],
   "source": [
    "import ase.io\n",
    "\n",
    "from utils.pylode import PyLODESphericalExpansion\n",
    "import utils.io"
   ]
  },
  {
   "cell_type": "code",
   "execution_count": 3,
   "metadata": {},
   "outputs": [],
   "source": [
    "n_frames = 10\n",
    "frames = ase.io.read('data/BaTiO3_Training_set.xyz', f':{n_frames}')"
   ]
  },
  {
   "cell_type": "code",
   "execution_count": 4,
   "metadata": {},
   "outputs": [],
   "source": [
    "# LODE calculations can take quite a while...\n",
    "# Therefore, it is usefule to store results and only recalculate them if \n",
    "# needed!\n",
    "\n",
    "recalc = True"
   ]
  },
  {
   "cell_type": "code",
   "execution_count": 5,
   "metadata": {},
   "outputs": [],
   "source": [
    "# Define hyperparameters\n",
    "lode_hypers = dict(\n",
    "    smearing=3,\n",
    "    max_radial=2,\n",
    "    max_angular=0,\n",
    "    cutoff_radius=4.5,\n",
    "    potential_exponent=1,\n",
    "    radial_basis='GTO',\n",
    "    compute_gradients=True,\n",
    ")\n",
    "\n",
    "calculator = PyLODESphericalExpansion(lode_hypers)\n",
    "\n",
    "fname = \"precomputed.h5\"\n",
    "if recalc:\n",
    "    descriptor = calculator.compute(frames)\n",
    "    utils.io.write(fname, descriptor)\n",
    "else:\n",
    "    descriptor = utils.io.read(fname)"
   ]
  },
  {
   "cell_type": "markdown",
   "metadata": {},
   "source": [
    "The Lode descripor can also be precomputed using the `precompute_lode.py` from \n",
    "the script directory. \n",
    "\n",
    "You can either precompute the descriptor from the python \n",
    "interface"
   ]
  },
  {
   "cell_type": "code",
   "execution_count": 6,
   "metadata": {},
   "outputs": [],
   "source": [
    "from scripts.precompute_lode import precompute_lode"
   ]
  },
  {
   "cell_type": "code",
   "execution_count": 7,
   "metadata": {},
   "outputs": [],
   "source": [
    "descriptor = precompute_lode(frames, lode_hypers)"
   ]
  },
  {
   "cell_type": "markdown",
   "metadata": {},
   "source": [
    "Or from the command line with\n",
    "\n",
    "```bash\n",
    "scripts/precompute_lode.py -input_file \"data/BaTiO3_Training_set.xyz\" \\\n",
    "                           -index \":10\" \\\n",
    "                           -max_radial 2 \\\n",
    "                           -max_angular 0 \\\n",
    "                           -cutoff_radius 4.5 \\\n",
    "                           -smearing 3 \\\n",
    "                           -radial_basis \"GTO\" \\\n",
    "                           -subtract_center_contribution \\\n",
    "                           -compute_gradients \\\n",
    "                           -outfile \"precomputed_lode\"\n",
    "```\n",
    "\n",
    "The exact syntax is given on the help page\n",
    "\n",
    "```bash\n",
    "scripts/precompute_lode.py -h\n",
    "```"
   ]
  }
 ],
 "metadata": {
  "interpreter": {
   "hash": "aee8b7b246df8f9039afb4144a1f6fd8d2ca17a180786b69acc140d282b71a49"
  },
  "kernelspec": {
   "display_name": "Python 3 (ipykernel)",
   "language": "python",
   "name": "python3"
  },
  "language_info": {
   "codemirror_mode": {
    "name": "ipython",
    "version": 3
   },
   "file_extension": ".py",
   "mimetype": "text/x-python",
   "name": "python",
   "nbconvert_exporter": "python",
   "pygments_lexer": "ipython3",
   "version": "3.10.0"
  }
 },
 "nbformat": 4,
 "nbformat_minor": 4
}
