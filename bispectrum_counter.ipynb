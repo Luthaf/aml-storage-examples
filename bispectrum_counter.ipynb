{
 "cells": [
  {
   "cell_type": "markdown",
   "id": "2260f5a1",
   "metadata": {
    "toc": true
   },
   "source": [
    "<h1>Table of Contents<span class=\"tocSkip\"></span></h1>\n",
    "<div class=\"toc\"><ul class=\"toc-item\"><li><span><a href=\"#Bispectrum-counter-example\" data-toc-modified-id=\"Bispectrum-counter-example-1\"><span class=\"toc-item-num\">1&nbsp;&nbsp;</span>Bispectrum counter example</a></span><ul class=\"toc-item\"><li><ul class=\"toc-item\"><li><span><a href=\"#optimize-structures\" data-toc-modified-id=\"optimize-structures-1.0.1\"><span class=\"toc-item-num\">1.0.1&nbsp;&nbsp;</span>optimize structures</a></span></li></ul></li><li><span><a href=\"#Feature-computation\" data-toc-modified-id=\"Feature-computation-1.1\"><span class=\"toc-item-num\">1.1&nbsp;&nbsp;</span>Feature computation</a></span><ul class=\"toc-item\"><li><span><a href=\"#$\\rho_{i}^{\\otimes-3}$\" data-toc-modified-id=\"$\\rho_{i}^{\\otimes-3}$-1.1.1\"><span class=\"toc-item-num\">1.1.1&nbsp;&nbsp;</span>$\\rho_{i}^{\\otimes 3}$</a></span></li><li><span><a href=\"#check-map-between-three-center-and-single-center\" data-toc-modified-id=\"check-map-between-three-center-and-single-center-1.1.2\"><span class=\"toc-item-num\">1.1.2&nbsp;&nbsp;</span>check map between three center and single center</a></span></li><li><span><a href=\"#check-degeneracy-of-$\\rho_{i}^{\\otimes-3}$\" data-toc-modified-id=\"check-degeneracy-of-$\\rho_{i}^{\\otimes-3}$-1.1.3\"><span class=\"toc-item-num\">1.1.3&nbsp;&nbsp;</span>check degeneracy of $\\rho_{i}^{\\otimes 3}$</a></span></li><li><span><a href=\"#artificial-structure\" data-toc-modified-id=\"artificial-structure-1.1.4\"><span class=\"toc-item-num\">1.1.4&nbsp;&nbsp;</span>artificial structure</a></span></li></ul></li><li><span><a href=\"#encoder-decoder\" data-toc-modified-id=\"encoder-decoder-1.2\"><span class=\"toc-item-num\">1.2&nbsp;&nbsp;</span>encoder-decoder</a></span><ul class=\"toc-item\"><li><span><a href=\"#train-different-blocks-separately\" data-toc-modified-id=\"train-different-blocks-separately-1.2.1\"><span class=\"toc-item-num\">1.2.1&nbsp;&nbsp;</span>train different blocks separately</a></span></li><li><span><a href=\"#tensormap-of-reconstructed-features\" data-toc-modified-id=\"tensormap-of-reconstructed-features-1.2.2\"><span class=\"toc-item-num\">1.2.2&nbsp;&nbsp;</span>tensormap of reconstructed features</a></span></li></ul></li><li><span><a href=\"#set-up-NICE-style-feature-computation\" data-toc-modified-id=\"set-up-NICE-style-feature-computation-1.3\"><span class=\"toc-item-num\">1.3&nbsp;&nbsp;</span>set up NICE style feature computation</a></span></li><li><span><a href=\"#encoder-decoder-like-architecture---nope\" data-toc-modified-id=\"encoder-decoder-like-architecture---nope-1.4\"><span class=\"toc-item-num\">1.4&nbsp;&nbsp;</span>encoder-decoder like architecture - nope</a></span><ul class=\"toc-item\"><li><span><a href=\"#$\\rho_{i}^{\\otimes-3}$\" data-toc-modified-id=\"$\\rho_{i}^{\\otimes-3}$-1.4.1\"><span class=\"toc-item-num\">1.4.1&nbsp;&nbsp;</span>$\\rho_{i}^{\\otimes 3}$</a></span></li><li><span><a href=\"#$\\rho_{i-i_1-i_2}^{\\otimes-1}$\" data-toc-modified-id=\"$\\rho_{i-i_1-i_2}^{\\otimes-1}$-1.4.2\"><span class=\"toc-item-num\">1.4.2&nbsp;&nbsp;</span>$\\rho_{i i_1 i_2}^{\\otimes 1}$</a></span></li><li><span><a href=\"#check-degeneracy-of-$\\rho_{i}^{\\otimes-3}$\" data-toc-modified-id=\"check-degeneracy-of-$\\rho_{i}^{\\otimes-3}$-1.4.3\"><span class=\"toc-item-num\">1.4.3&nbsp;&nbsp;</span>check degeneracy of $\\rho_{i}^{\\otimes 3}$</a></span></li></ul></li></ul></li></ul></div>"
   ]
  },
  {
   "cell_type": "markdown",
   "id": "d8cfdeda",
   "metadata": {},
   "source": [
    "# Bispectrum counter example"
   ]
  },
  {
   "cell_type": "code",
   "execution_count": 1,
   "id": "1d043e1a",
   "metadata": {
    "ExecuteTime": {
     "end_time": "2023-01-21T11:31:21.441687Z",
     "start_time": "2023-01-21T11:31:21.425274Z"
    }
   },
   "outputs": [],
   "source": [
    "%load_ext autoreload\n",
    "%autoreload 2 "
   ]
  },
  {
   "cell_type": "code",
   "execution_count": 7,
   "id": "5b660c69",
   "metadata": {
    "ExecuteTime": {
     "end_time": "2023-01-21T11:32:41.559082Z",
     "start_time": "2023-01-21T11:32:41.531035Z"
    }
   },
   "outputs": [],
   "source": [
    "from ase.io import read,write\n",
    "from ase.visualize import view\n",
    "import numpy as np \n",
    "\n",
    "from equistore import Labels, TensorBlock, TensorMap\n",
    "from itertools import product\n",
    "from utils.clebsh_gordan import ClebschGordanReal\n",
    "\n",
    "import matplotlib.pyplot as plt\n",
    "\n",
    "from utils.librascal import  RascalSphericalExpansion, RascalPairExpansion\n",
    "from rascal.representations import SphericalExpansion\n",
    "import copy\n",
    "import ase \n",
    "import tqdm "
   ]
  },
  {
   "cell_type": "code",
   "execution_count": 8,
   "id": "a8aec266",
   "metadata": {
    "ExecuteTime": {
     "end_time": "2023-01-21T11:32:41.818604Z",
     "start_time": "2023-01-21T11:32:41.799762Z"
    }
   },
   "outputs": [],
   "source": [
    "from utils.mp_utils import *"
   ]
  },
  {
   "cell_type": "code",
   "execution_count": 9,
   "id": "347f313a",
   "metadata": {
    "ExecuteTime": {
     "end_time": "2023-01-21T11:32:42.037677Z",
     "start_time": "2023-01-21T11:32:42.018517Z"
    }
   },
   "outputs": [],
   "source": [
    "from generate_bispectrum_structures import generate_nu3_degen_structs, analytical_partial_derivative"
   ]
  },
  {
   "cell_type": "code",
   "execution_count": 4,
   "id": "bd9eb2a8",
   "metadata": {
    "ExecuteTime": {
     "end_time": "2023-01-24T16:45:53.674650Z",
     "start_time": "2023-01-24T16:45:53.650924Z"
    }
   },
   "outputs": [
    {
     "name": "stderr",
     "output_type": "stream",
     "text": [
      "pyscf plugins found in \n",
      "/Users/jigyasa/scratch/pyscf\n",
      "/Users/jigyasa/scratch/./pyscf\n",
      "/Users/jigyasa/miniconda3/lib/python3.8/site-packages/pyscf\n",
      "When PYTHONPATH is set, it is recommended to load these plugins through the environment variable PYSCF_EXT_PATH\n"
     ]
    }
   ],
   "source": [
    "import pyscf\n",
    "from pyscf import gto\n",
    "from pyscf import scf,dft\n",
    "\n",
    "#gto.M default unit being Angstrom\n",
    "def pyscf_rks_calc(frame):\n",
    "    pts = frame.get_positions()\n",
    "    els = frame.get_chemical_symbols()\n",
    "    natoms = len(pts)\n",
    "    atoms = []\n",
    "    for i in range(natoms):\n",
    "        coord = pts[i]\n",
    "        atoms.append([els[i],(coord[0],coord[1],coord[2])])\n",
    "    mol = gto.M(atom=atoms,symmetry = True)\n",
    "    mol.basis = \"ccpvdz\" #\"def2-SVP\" \n",
    "#     mol.basis = {'O': 'ccpvdz', 'H': 'ccpvdz', 'C': 'ccpvdz', 'N':'ccpvdz', 'Ag': 'def2-svp'} \n",
    "    mol.charge=0\n",
    "    mol.spin = 0\n",
    "    mol.build()\n",
    "    m = scf.RKS(mol)\n",
    "#     m = scf.RHF(mol)\n",
    "    m.xc=\"pbe\"\n",
    "    m.max_cycle=600\n",
    "    m.conv_tol=1e-9\n",
    "    m.conv_tol_grad=1e-8\n",
    "    m.diis_space=10\n",
    "#     print(mol.ao_labels())\n",
    "\n",
    "    return m.kernel() \n",
    "\n",
    "def pyscf_rhf_calc(frame):\n",
    "    pts = frame.get_positions()\n",
    "    els = frame.get_chemical_symbols()\n",
    "    natoms = len(pts)\n",
    "    atoms = []\n",
    "    for i in range(natoms):\n",
    "        coord = pts[i]\n",
    "        atoms.append([els[i],(coord[0],coord[1],coord[2])])\n",
    "    mol = gto.M(atom=atoms,symmetry = True)\n",
    "    mol.basis = \"ccpvdz\" #\"def2-SVP\" \n",
    "#     mol.basis = {'O': 'ccpvdz', 'H': 'ccpvdz', 'C': 'ccpvdz', 'N':'ccpvdz', 'Ag': 'def2-svp'} \n",
    "    mol.charge=0\n",
    "    mol.spin = 0\n",
    "    mol.build()\n",
    "#     m = scf.RKS(mol)\n",
    "    m = scf.RHF(mol)\n",
    "#     m.xc=\"pbe\"\n",
    "    m.max_cycle=500\n",
    "    m.conv_tol=1e-9\n",
    "#     m.conv_tol_grad=1e-8\n",
    "    m.diis_space=10\n",
    "#     print(mol.ao_labels())\n",
    "\n",
    "    return m.kernel() \n",
    "\n",
    "from pyscf.pbc.tools.pyscf_ase import atoms_from_ase\n",
    "def dftblock(frames, start, end, basis='ccpvdz', xc='pbe'):\n",
    "#     frames = read(prefix+\".xyz\", \"%d:%d\" % (start,end))\n",
    "    idx_nconv=[]\n",
    "    for i, f in enumerate(tqdm.tqdm(frames[start:end])):\n",
    "        if \"label\" in f.info:\n",
    "            label = f.info[\"label\"]\n",
    "        else:\n",
    "            label = str(start+i)    \n",
    "        f.info = {}\n",
    "        mol = pyscf.gto.M(atom = atoms_from_ase(f), basis = basis)\n",
    "        rks = pyscf.dft.RKS(mol)\n",
    "        rks = pyscf.scf.addons.smearing_(rks, sigma=.01, method='fermi')\n",
    "        rks.xc = xc  \n",
    "        rks.grids.level = 5 \n",
    "        rks.verbose = 3 \n",
    "        rks.init_guess = 'minao'\n",
    "        rks.scf(print=True) \n",
    "        try:\n",
    "            assert rks.converged==True\n",
    "            print(\"converged\")\n",
    "        except: \n",
    "            print(i)\n",
    "            idx_nconv.append(start+i)\n",
    "        dft = rks.e_free # energy_tot()\n",
    "        ddft = rks.nuc_grad_method().grad()\n",
    "        f.info[\"energy_ha\"] = dft \n",
    "        f.arrays[\"gradient_habohr\"] = ddft\n",
    "        f.info[\"label\"] = label\n",
    "        f.info[\"basis\"] = basis\n",
    "        f.info[\"xc\"] = xc\n",
    "    return frames, idx_nconv"
   ]
  },
  {
   "cell_type": "code",
   "execution_count": 11,
   "id": "524f9360",
   "metadata": {
    "ExecuteTime": {
     "end_time": "2023-01-21T11:33:58.003337Z",
     "start_time": "2023-01-21T11:33:57.913930Z"
    }
   },
   "outputs": [
    {
     "name": "stderr",
     "output_type": "stream",
     "text": [
      "/scratch/nigam/anaconda3/envs/py3.7/lib/python3.8/site-packages/pyscf/lib/misc.py:46: H5pyDeprecationWarning: Using default_file_mode other than 'r' is deprecated. Pass the mode to h5py.File() instead.\n",
      "  h5py.get_config().default_file_mode = 'a'\n"
     ]
    }
   ],
   "source": [
    "import pyscf\n",
    "from pyscf import gto\n",
    "from pyscf import scf,dft\n",
    "\n",
    "def pyscf_rks_calc(frame):\n",
    "    pts = frame.get_positions()\n",
    "    els = frame.get_chemical_symbols()\n",
    "    natoms = len(pts)\n",
    "    atoms = []\n",
    "    for i in range(natoms):\n",
    "        coord = pts[i]\n",
    "        atoms.append([els[i],(coord[0],coord[1],coord[2])])\n",
    "    mol = gto.M(atom=atoms,symmetry = True)\n",
    "    mol.basis = \"ccpvdz\" #\"def2-SVP\" \n",
    "#     mol.basis = {'O': 'ccpvdz', 'H': 'ccpvdz', 'C': 'ccpvdz', 'N':'ccpvdz', 'Ag': 'def2-svp'} \n",
    "    mol.charge=0\n",
    "    mol.spin = 0\n",
    "    mol.build()\n",
    "    m = scf.RKS(mol)\n",
    "#     m = scf.RHF(mol)\n",
    "    m.xc=\"pbe\"\n",
    "    m.max_cycle=600\n",
    "    m.conv_tol=1e-9\n",
    "    m.conv_tol_grad=1e-8\n",
    "    m.diis_space=10\n",
    "#     print(mol.ao_labels())\n",
    "\n",
    "    return m.kernel() \n",
    "\n",
    "def pyscf_rhf_calc(frame):\n",
    "    pts = frame.get_positions()\n",
    "    els = frame.get_chemical_symbols()\n",
    "    natoms = len(pts)\n",
    "    atoms = []\n",
    "    for i in range(natoms):\n",
    "        coord = pts[i]\n",
    "        atoms.append([els[i],(coord[0],coord[1],coord[2])])\n",
    "    mol = gto.M(atom=atoms,symmetry = True)\n",
    "    mol.basis = \"ccpvdz\" #\"def2-SVP\" \n",
    "#     mol.basis = {'O': 'ccpvdz', 'H': 'ccpvdz', 'C': 'ccpvdz', 'N':'ccpvdz', 'Ag': 'def2-svp'} \n",
    "    mol.charge=0\n",
    "    mol.spin = 0\n",
    "    mol.build()\n",
    "#     m = scf.RKS(mol)\n",
    "    m = scf.RHF(mol)\n",
    "#     m.xc=\"pbe\"\n",
    "    m.max_cycle=500\n",
    "    m.conv_tol=1e-9\n",
    "#     m.conv_tol_grad=1e-8\n",
    "    m.diis_space=10\n",
    "#     print(mol.ao_labels())\n",
    "\n",
    "    return m.kernel() "
   ]
  },
  {
   "cell_type": "code",
   "execution_count": 14,
   "id": "d02a5ac8",
   "metadata": {
    "ExecuteTime": {
     "end_time": "2023-01-21T11:34:40.921605Z",
     "start_time": "2023-01-21T11:34:40.905728Z"
    }
   },
   "outputs": [],
   "source": [
    "# Advice on choosing the basis sets for different calculations \n",
    "\n",
    "#https://sites.google.com/site/orcainputlibrary/basis-sets?pli=1"
   ]
  },
  {
   "cell_type": "code",
   "execution_count": 7,
   "id": "0fcb293e",
   "metadata": {
    "ExecuteTime": {
     "end_time": "2023-01-24T16:36:47.809683Z",
     "start_time": "2023-01-24T16:36:40.230479Z"
    }
   },
   "outputs": [
    {
     "name": "stderr",
     "output_type": "stream",
     "text": [
      "100%|███████████████████████████████████████████████████████████████████████████████████████████████████████████████████████████████████| 1000/1000 [00:05<00:00, 191.28it/s]\n"
     ]
    }
   ],
   "source": [
    "np.random.seed(12345)\n",
    "ngen = 1000\n",
    "frames = []\n",
    "for f in tqdm.tqdm(range(ngen)):\n",
    "#     print(i)\n",
    "    for i in range(4000):\n",
    "        r = np.random.uniform(0.5,2)\n",
    "        z1 = np.random.uniform(0.5,2)\n",
    "        z2 = np.random.uniform(1.5,1.8)\n",
    "        psi = np.random.uniform(0,np.pi)\n",
    "        phi1 = np.random.uniform(np.pi/6, np.pi)\n",
    "        phi2 = np.random.uniform(np.pi/6, np.pi)\n",
    "        fr = generate_nu3_degen_structs(r, [0, phi1, phi1+phi2], \n",
    "                                   psi, z1, z2, \"B\", \"B\", \"B\")\n",
    "        dist = fr[0].get_all_distances()\n",
    "        if dist[0,1:].min()>1.5 and dist[0,1:].max()<1.8 and dist[np.triu_indices(len(dist),1)].flatten().min()>1.2:\n",
    "            fr[0].info[\"pars\"] = str((f, \"+\")+(r, z1, z2, psi, phi1, phi2))\n",
    "            fr[1].info[\"pars\"] = str((f, \"-\")+(r, z1, z2, psi, phi1, phi2))\n",
    "#             print(i)\n",
    "            break\n",
    "    if (i>3990):\n",
    "        print(\"oops!\")\n",
    "    frames += fr"
   ]
  },
  {
   "cell_type": "code",
   "execution_count": null,
   "id": "0dc21c67",
   "metadata": {
    "ExecuteTime": {
     "start_time": "2023-01-24T16:45:56.878Z"
    },
    "scrolled": true
   },
   "outputs": [
    {
     "name": "stderr",
     "output_type": "stream",
     "text": [
      "\r",
      "  0%|                                                                                          | 0/4000 [00:00<?, ?it/s]"
     ]
    },
    {
     "name": "stdout",
     "output_type": "stream",
     "text": [
      "converged SCF energy = -197.783716100935\n",
      "converged\n",
      "--------------- RKS gradients ---------------\n",
      "         x                y                z\n",
      "0 B     0.0497713870    -0.0461787860     0.0479342187\n",
      "1 B    -0.0798080939     0.1003805258    -0.2079702769\n",
      "2 B     0.1169919658     0.0900814024    -0.3259787067\n",
      "3 B     0.1280291256     0.0589133385    -0.2539272829\n",
      "4 B    -0.0749616261    -0.1447615299     0.2942151973\n",
      "5 B    -0.1430563662     0.0505071919     0.2155812910\n",
      "6 B     0.0013580838    -0.1182632336     0.1902667050\n",
      "7 B     0.0016745295     0.0093209641     0.0398785948\n",
      "----------------------------------------------\n"
     ]
    },
    {
     "name": "stderr",
     "output_type": "stream",
     "text": [
      "\r",
      "  0%|                                                                               | 1/4000 [00:28<32:06:23, 28.90s/it]"
     ]
    },
    {
     "name": "stdout",
     "output_type": "stream",
     "text": [
      "converged SCF energy = -197.783482709666\n",
      "converged\n",
      "--------------- RKS gradients ---------------\n",
      "         x                y                z\n",
      "0 B     0.0625976524    -0.0294848959    -0.0469110138\n",
      "1 B    -0.0830730338     0.1129955667    -0.1725864386\n",
      "2 B     0.1239634930     0.1036300094    -0.2934280323\n",
      "3 B     0.1221478201     0.0284010864    -0.2343122852\n",
      "4 B    -0.0615192577    -0.1345194398     0.3239845306\n",
      "5 B    -0.1286409846     0.0508534005     0.2532857458\n",
      "6 B    -0.0260913780    -0.1280346519     0.2096322546\n",
      "7 B    -0.0093853988    -0.0038412702    -0.0396649214\n",
      "----------------------------------------------\n"
     ]
    },
    {
     "name": "stderr",
     "output_type": "stream",
     "text": [
      "\r",
      "  0%|                                                                               | 2/4000 [00:56<31:14:12, 28.13s/it]"
     ]
    },
    {
     "name": "stdout",
     "output_type": "stream",
     "text": [
      "converged SCF energy = -197.757148605718\n",
      "converged\n",
      "--------------- RKS gradients ---------------\n",
      "         x                y                z\n",
      "0 B     0.0201288366     0.0041511126     0.0453385907\n",
      "1 B    -0.1731462271    -0.4568425709    -0.0313108042\n",
      "2 B    -0.0285567748     0.0379965521    -0.0031389038\n",
      "3 B     0.1903790453     0.4085725973    -0.0164188670\n",
      "4 B     0.0407425129    -0.4159126539    -0.0083924099\n",
      "5 B    -0.0042235507    -0.0195374300    -0.0304189729\n",
      "6 B    -0.0504505972     0.4384531364     0.0247661758\n",
      "7 B     0.0051269498     0.0031187871     0.0195751546\n",
      "----------------------------------------------\n"
     ]
    },
    {
     "name": "stderr",
     "output_type": "stream",
     "text": [
      "\r",
      "  0%|                                                                               | 3/4000 [01:23<30:42:50, 27.66s/it]"
     ]
    },
    {
     "name": "stdout",
     "output_type": "stream",
     "text": [
      "converged SCF energy = -197.749945517103\n",
      "converged\n",
      "--------------- RKS gradients ---------------\n",
      "         x                y                z\n",
      "0 B     0.0185992547     0.0062690959    -0.0457535635\n",
      "1 B    -0.1694314682    -0.4133759941    -0.0268982906\n",
      "2 B     0.0107582621     0.0148868780     0.0291824669\n",
      "3 B     0.1493915842     0.3912378389     0.0082120883\n",
      "4 B     0.0611956404    -0.4528419429     0.0060118723\n",
      "5 B    -0.0476937867    -0.0140240564     0.0053328117\n",
      "6 B    -0.0332207031     0.4809892656     0.0407776942\n",
      "7 B     0.0104015063    -0.0131417311    -0.0168642260\n",
      "----------------------------------------------\n"
     ]
    },
    {
     "name": "stderr",
     "output_type": "stream",
     "text": [
      "\r",
      "  0%|                                                                               | 4/4000 [01:52<31:20:05, 28.23s/it]"
     ]
    },
    {
     "name": "stdout",
     "output_type": "stream",
     "text": [
      "converged SCF energy = -197.945789148851\n",
      "converged\n",
      "--------------- RKS gradients ---------------\n",
      "         x                y                z\n",
      "0 B     0.0419363107     0.0131904103     0.1047948715\n",
      "1 B    -0.0868477484     0.0475211344    -0.1356871935\n",
      "2 B     0.0117872205    -0.0257818840    -0.0396591448\n",
      "3 B     0.0269615671     0.0634698639    -0.0071926611\n",
      "4 B     0.0092614979    -0.0395480716     0.0279919332\n",
      "5 B     0.0062938651     0.0444936275    -0.0085771341\n",
      "6 B    -0.0307280867    -0.0932766291     0.1266767749\n",
      "7 B     0.0213352940    -0.0100685343    -0.0683478949\n",
      "----------------------------------------------\n"
     ]
    },
    {
     "name": "stderr",
     "output_type": "stream",
     "text": [
      "\r",
      "  0%|                                                                               | 5/4000 [02:19<30:34:38, 27.55s/it]"
     ]
    },
    {
     "name": "stdout",
     "output_type": "stream",
     "text": [
      "converged SCF energy = -197.935173833674\n",
      "converged\n",
      "--------------- RKS gradients ---------------\n",
      "         x                y                z\n",
      "0 B     0.0371676128     0.0440178394    -0.1135379651\n",
      "1 B    -0.0631598467     0.0634159948    -0.1282920439\n",
      "2 B     0.0384334012    -0.0368950890    -0.0115569023\n",
      "3 B     0.0204981063     0.0334388240    -0.0003155691\n",
      "4 B     0.0312291473    -0.0833613202     0.0178359697\n",
      "5 B    -0.0227440943     0.0242580567     0.0144885624\n",
      "6 B    -0.0566081029    -0.0614123606     0.1478652609\n",
      "7 B     0.0151834392     0.0165381372     0.0735126469\n",
      "----------------------------------------------\n"
     ]
    },
    {
     "name": "stderr",
     "output_type": "stream",
     "text": [
      "\r",
      "  0%|                                                                               | 6/4000 [02:46<30:40:29, 27.65s/it]"
     ]
    },
    {
     "name": "stdout",
     "output_type": "stream",
     "text": [
      "converged SCF energy = -197.820327280444\n",
      "converged\n",
      "--------------- RKS gradients ---------------\n",
      "         x                y                z\n",
      "0 B    -0.1073741475     0.1085131331     0.0386049885\n",
      "1 B    -0.0174267154    -0.0051776187    -0.0546014873\n",
      "2 B    -0.1571550639    -0.2325387289    -0.1315686750\n",
      "3 B     0.2321246532     0.1357873648    -0.0440657276\n",
      "4 B     0.0018844818    -0.0563312357     0.1197814225\n",
      "5 B     0.1981300938    -0.1322597319     0.0355763109\n",
      "6 B    -0.1347219381     0.1834877309     0.0217458909\n",
      "7 B    -0.0154614353    -0.0014809833     0.0145285570\n",
      "----------------------------------------------\n"
     ]
    },
    {
     "name": "stderr",
     "output_type": "stream",
     "text": [
      "\r",
      "  0%|▏                                                                              | 7/4000 [03:14<30:29:42, 27.49s/it]"
     ]
    },
    {
     "name": "stdout",
     "output_type": "stream",
     "text": [
      "converged SCF energy = -197.841408144486\n",
      "converged\n",
      "--------------- RKS gradients ---------------\n",
      "         x                y                z\n",
      "0 B    -0.1157783017     0.0993986139    -0.0228764876\n",
      "1 B    -0.0365986029    -0.0026903185    -0.0214547432\n",
      "2 B    -0.1288899282    -0.1947020891    -0.1325870570\n",
      "3 B     0.2220302596     0.0943445095    -0.0164087495\n",
      "4 B    -0.0172382070    -0.0432487546     0.1561238081\n",
      "5 B     0.2332727765    -0.1167575329     0.0066404613\n",
      "6 B    -0.1575075648     0.1826499301     0.0629868860\n",
      "7 B     0.0007098621    -0.0189947410    -0.0324230569\n",
      "----------------------------------------------\n"
     ]
    },
    {
     "name": "stderr",
     "output_type": "stream",
     "text": [
      "\r",
      "  0%|▏                                                                              | 8/4000 [03:38<29:28:04, 26.57s/it]"
     ]
    },
    {
     "name": "stdout",
     "output_type": "stream",
     "text": [
      "converged SCF energy = -198.025606427322\n",
      "converged\n",
      "--------------- RKS gradients ---------------\n",
      "         x                y                z\n",
      "0 B    -0.0243417431     0.0771375936     0.0391985769\n",
      "1 B     0.0493342277    -0.0085648813    -0.0122039670\n",
      "2 B    -0.0040449153    -0.0185981515     0.0430002141\n",
      "3 B    -0.0211136384     0.0060764551    -0.0022797094\n",
      "4 B     0.0200286654    -0.0076077300    -0.0476598155\n",
      "5 B    -0.0200740656     0.0209245515    -0.0082920727\n",
      "6 B    -0.0003866039    -0.0531122788    -0.0062367502\n",
      "7 B     0.0005980309    -0.0162551384    -0.0055265768\n",
      "----------------------------------------------\n"
     ]
    },
    {
     "name": "stderr",
     "output_type": "stream",
     "text": [
      "\r",
      "  0%|▏                                                                              | 9/4000 [04:02<28:27:25, 25.67s/it]"
     ]
    },
    {
     "name": "stdout",
     "output_type": "stream",
     "text": [
      "converged SCF energy = -198.026925669112\n",
      "converged\n",
      "--------------- RKS gradients ---------------\n",
      "         x                y                z\n",
      "0 B    -0.0401905594     0.0713312249    -0.0412507759\n",
      "1 B     0.0351485291    -0.0301804446     0.0052610220\n",
      "2 B     0.0092262490     0.0255862852     0.0133705887\n",
      "3 B    -0.0154490697    -0.0214904998     0.0450312841\n",
      "4 B     0.0020357569     0.0127975479    -0.0030561879\n",
      "5 B     0.0206844215     0.0003052025    -0.0368901477\n",
      "6 B    -0.0264963007    -0.0505425964     0.0102647107\n",
      "7 B     0.0150410501    -0.0078066059     0.0072693082\n",
      "----------------------------------------------\n"
     ]
    },
    {
     "name": "stderr",
     "output_type": "stream",
     "text": [
      "\r",
      "  0%|▏                                                                             | 10/4000 [04:31<29:29:41, 26.61s/it]"
     ]
    },
    {
     "name": "stdout",
     "output_type": "stream",
     "text": [
      "converged SCF energy = -197.731822872793\n",
      "converged\n",
      "--------------- RKS gradients ---------------\n",
      "         x                y                z\n",
      "0 B    -0.0514984029     0.0526625217     0.0986532827\n",
      "1 B    -0.1959077802    -0.0074935773     0.0501024508\n",
      "2 B    -0.0929802289    -0.2920154529     0.1137804610\n",
      "3 B     0.2559172185    -0.0744848295     0.0705760754\n",
      "4 B     0.0267050191    -0.0186777880    -0.0208368453\n",
      "5 B     0.0595390964    -0.0626434559     0.0111308929\n",
      "6 B    -0.0512055821     0.0496401380    -0.0003478754\n",
      "7 B     0.0494305002     0.3530121954    -0.3230575908\n",
      "----------------------------------------------\n"
     ]
    },
    {
     "name": "stderr",
     "output_type": "stream",
     "text": [
      "\r",
      "  0%|▏                                                                             | 11/4000 [04:59<30:00:35, 27.08s/it]"
     ]
    },
    {
     "name": "stdout",
     "output_type": "stream",
     "text": [
      "converged SCF energy = -197.734592631766\n",
      "converged\n",
      "--------------- RKS gradients ---------------\n",
      "         x                y                z\n",
      "0 B    -0.0483716905     0.0482009160    -0.0986092869\n",
      "1 B    -0.0003056367    -0.0129979708    -0.0028724651\n",
      "2 B    -0.0677339198    -0.0352758149    -0.0105050363\n",
      "3 B     0.0896803668     0.0089427171     0.0263824986\n",
      "4 B     0.0888670911    -0.2109345802    -0.0820468197\n",
      "5 B     0.3028305225     0.0304330842    -0.1018265067\n",
      "6 B    -0.0231923155     0.2368621016    -0.0444064750\n",
      "7 B    -0.3417737448    -0.0652312424     0.3138831180\n",
      "----------------------------------------------\n"
     ]
    },
    {
     "name": "stderr",
     "output_type": "stream",
     "text": [
      "\r",
      "  0%|▏                                                                             | 12/4000 [05:27<30:33:27, 27.58s/it]"
     ]
    },
    {
     "name": "stdout",
     "output_type": "stream",
     "text": [
      "converged SCF energy = -197.972750802791\n",
      "converged\n",
      "--------------- RKS gradients ---------------\n",
      "         x                y                z\n",
      "0 B     0.0142078862    -0.0006283636     0.1156421264\n",
      "1 B    -0.0290912849    -0.0033515630     0.0038886185\n",
      "2 B     0.0087237402    -0.0242584955     0.0095929294\n",
      "3 B     0.0143979359     0.0218991249     0.0125856988\n",
      "4 B    -0.0132024902     0.0115838574    -0.0021426679\n",
      "5 B    -0.0047071427     0.0038625967    -0.0042789219\n",
      "6 B     0.0091053816    -0.0120287827     0.0047387360\n",
      "7 B     0.0005661440     0.0029216737    -0.1400268931\n",
      "----------------------------------------------\n"
     ]
    },
    {
     "name": "stderr",
     "output_type": "stream",
     "text": [
      "\r",
      "  0%|▎                                                                             | 13/4000 [05:53<29:42:35, 26.83s/it]"
     ]
    },
    {
     "name": "stdout",
     "output_type": "stream",
     "text": [
      "converged SCF energy = -197.972751214481\n",
      "converged\n",
      "--------------- RKS gradients ---------------\n",
      "         x                y                z\n",
      "0 B     0.0140829797     0.0019720651    -0.1156417459\n",
      "1 B     0.0079073949     0.0128499580    -0.0047368592\n",
      "2 B    -0.0043139401    -0.0042921209     0.0042885475\n",
      "3 B    -0.0120367823    -0.0127953877     0.0021314603\n",
      "4 B     0.0164297037    -0.0204153455    -0.0125943326\n",
      "5 B     0.0063688465     0.0249822212    -0.0095822724\n",
      "6 B    -0.0292793628     0.0005518918    -0.0038911905\n",
      "7 B     0.0008413037    -0.0028533738     0.1400266973\n",
      "----------------------------------------------\n"
     ]
    },
    {
     "name": "stderr",
     "output_type": "stream",
     "text": [
      "\r",
      "  0%|▎                                                                             | 14/4000 [06:18<29:18:36, 26.47s/it]"
     ]
    },
    {
     "name": "stdout",
     "output_type": "stream",
     "text": [
      "converged SCF energy = -197.849134960709\n",
      "converged\n",
      "--------------- RKS gradients ---------------\n",
      "         x                y                z\n",
      "0 B     0.0285238878    -0.0074628437     0.0451719179\n",
      "1 B    -0.0764550789    -0.0101771021     0.0514757679\n",
      "2 B     0.0585850130    -0.0169313903     0.0732860744\n",
      "3 B     0.0206949673     0.0776997587     0.0674891385\n",
      "4 B    -0.0192677918     0.0033089024    -0.0354192948\n",
      "5 B    -0.0095262552    -0.0366350364    -0.0308851923\n",
      "6 B     0.0351273186     0.0514175344    -0.0202740968\n",
      "7 B    -0.0376827033    -0.0612193562    -0.1508444062\n",
      "----------------------------------------------\n"
     ]
    },
    {
     "name": "stderr",
     "output_type": "stream",
     "text": [
      "\r",
      "  0%|▎                                                                             | 15/4000 [06:48<30:17:20, 27.36s/it]"
     ]
    },
    {
     "name": "stdout",
     "output_type": "stream",
     "text": [
      "converged SCF energy = -197.851144529296\n",
      "converged\n",
      "--------------- RKS gradients ---------------\n",
      "         x                y                z\n",
      "0 B     0.0157959099    -0.0213443493    -0.0448014262\n",
      "1 B     0.0178953254     0.0118984379     0.0395575558\n",
      "2 B    -0.0268142480     0.0297400571     0.0432681070\n",
      "3 B    -0.0180940878    -0.0517759308     0.0081717860\n",
      "4 B     0.0578938816    -0.0381271962    -0.0669000228\n",
      "5 B    -0.0310799141     0.0661536480    -0.0432611646\n",
      "6 B    -0.0801222324    -0.0166142831    -0.0887556414\n",
      "7 B     0.0645245697     0.0200696005     0.1527203507\n",
      "----------------------------------------------\n"
     ]
    },
    {
     "name": "stderr",
     "output_type": "stream",
     "text": [
      "\r",
      "  0%|▎                                                                             | 16/4000 [07:18<31:12:14, 28.20s/it]"
     ]
    },
    {
     "name": "stdout",
     "output_type": "stream",
     "text": [
      "converged SCF energy = -197.871230555705\n",
      "converged\n",
      "--------------- RKS gradients ---------------\n",
      "         x                y                z\n",
      "0 B    -0.0338384760     0.0062506420     0.1353545917\n",
      "1 B     0.0333704842    -0.0158288618     0.0222768237\n",
      "2 B     0.0079979612     0.0235555374     0.0244280225\n",
      "3 B    -0.0203642516    -0.0092121376     0.0294017295\n",
      "4 B     0.0129033782     0.0281624447    -0.0371143720\n",
      "5 B    -0.0304077685     0.0007699083    -0.0441839758\n",
      "6 B     0.0282794929    -0.0293387008    -0.0285308660\n",
      "7 B     0.0020585797    -0.0043588791    -0.1016305930\n",
      "----------------------------------------------\n"
     ]
    },
    {
     "name": "stderr",
     "output_type": "stream",
     "text": [
      "\r",
      "  0%|▎                                                                             | 17/4000 [07:49<32:05:10, 29.00s/it]"
     ]
    },
    {
     "name": "stdout",
     "output_type": "stream",
     "text": [
      "converged SCF energy = -197.871507701584\n",
      "converged\n",
      "--------------- RKS gradients ---------------\n",
      "         x                y                z\n",
      "0 B    -0.0326876611     0.0077804935    -0.1365048368\n",
      "1 B     0.0282509411    -0.0181773208     0.0311457757\n",
      "2 B     0.0081010587     0.0365306043     0.0345973497\n",
      "3 B    -0.0239795048    -0.0231026673     0.0449080410\n",
      "4 B     0.0111408904     0.0300278907    -0.0245199773\n",
      "5 B    -0.0153172402    -0.0087005411    -0.0305633374\n",
      "6 B     0.0193306047    -0.0267535518    -0.0204694247\n",
      "7 B     0.0051610129     0.0023954790     0.1014066377\n",
      "----------------------------------------------\n"
     ]
    },
    {
     "name": "stderr",
     "output_type": "stream",
     "text": [
      "\r",
      "  0%|▎                                                                             | 18/4000 [08:17<31:44:32, 28.70s/it]"
     ]
    },
    {
     "name": "stdout",
     "output_type": "stream",
     "text": [
      "converged SCF energy = -197.825089223645\n",
      "converged\n"
     ]
    }
   ],
   "source": [
    "# dft_frames = dftblock(frames, 0, 4000, basis='ccpvdz', xc='pbe')"
   ]
  },
  {
   "cell_type": "markdown",
   "id": "86dab0c6",
   "metadata": {
    "ExecuteTime": {
     "end_time": "2023-01-21T18:01:17.115283Z",
     "start_time": "2023-01-21T18:01:17.080517Z"
    }
   },
   "source": [
    "### optimize structures "
   ]
  },
  {
   "cell_type": "code",
   "execution_count": 55,
   "id": "ed6baf06",
   "metadata": {
    "ExecuteTime": {
     "end_time": "2023-01-21T18:01:48.955770Z",
     "start_time": "2023-01-21T18:01:48.927175Z"
    }
   },
   "outputs": [],
   "source": [
    "def get_params(frame):\n",
    "    parameters = []\n",
    "    for x in frame.info[\"pars\"].split()[2:]:\n",
    "        parameters.append(float(x[:-1]))\n",
    "    return parameters"
   ]
  },
  {
   "cell_type": "code",
   "execution_count": 2,
   "id": "16ccd716",
   "metadata": {
    "ExecuteTime": {
     "end_time": "2023-01-25T20:00:01.627566Z",
     "start_time": "2023-01-25T20:00:01.614641Z"
    }
   },
   "outputs": [],
   "source": [
    "delta_r = np.linspace(-0.5, 0.5, 10)\n",
    "\n",
    "f = frames[0].copy()\n",
    "for dr in delta_r: \n",
    "    r, z1, z2, psi, phi1, phi2 = get_params(f)\n",
    "    par = [r+dr, [0,phi1, phi2], psi, z1, z2, 'B','B','B' ]\n",
    "    fr = generate_nu3_degen_structs(r+dr, [0, phi1, phi1+phi2], \n",
    "                                   psi, z1, z2, \"B\", \"B\", \"B\")\n",
    "    en_plus = pyscf_rhf_calc(fr[0])\n",
    "    en_minus = pyscf_rhf_calc(fr[1])\n",
    "    delta_e = abs(en_plus - en_minus)\n",
    "    print(delta_e)\n",
    "    der = analytical_partial_derivative(par, diff_param= 'r' )[0]\n",
    "    \n",
    "#     print(der)"
   ]
  },
  {
   "cell_type": "markdown",
   "id": "e3564e52",
   "metadata": {},
   "source": [
    "## Feature computation"
   ]
  },
  {
   "cell_type": "code",
   "execution_count": 8,
   "id": "684c3140",
   "metadata": {},
   "outputs": [],
   "source": [
    "from rascaline import SphericalExpansion\n",
    "from rascaline import SphericalExpansionByPair as PairExpansion\n",
    "from equistore import operations"
   ]
  },
  {
   "cell_type": "code",
   "execution_count": 9,
   "id": "aca550ee",
   "metadata": {},
   "outputs": [],
   "source": [
    "def simplify_gij(gij):\n",
    "    keys = list(gij.keys.dtype.names)\n",
    "    if \"species_atom_1\" in keys: \n",
    "        keys[keys.index('species_atom_1')] = \"species_center\"\n",
    "    if \"species_atom_2\" in keys: \n",
    "        keys[keys.index('species_atom_2')] = \"species_neighbor\"\n",
    "    newkeys = Labels(keys, gij.keys.asarray())\n",
    "    block_list = []\n",
    "    for k,b in gij: \n",
    "        block = TensorBlock(\n",
    "        values = b.values, \n",
    "        components = b.components, \n",
    "        properties = b.properties,\n",
    "        samples = Labels([\"structure\", \"center\", \"neighbor\"] , np.asarray(b.samples.tolist())[:,[0,2,3]])\n",
    "        )\n",
    "        block_list.append(block)\n",
    "    \n",
    "    return TensorMap(newkeys, block_list)"
   ]
  },
  {
   "cell_type": "code",
   "execution_count": 10,
   "id": "bf48ad8e",
   "metadata": {},
   "outputs": [],
   "source": [
    "hypers = {\n",
    "    \"cutoff\": 3.5,\n",
    "    \"max_radial\": 4,\n",
    "    \"max_angular\": 3,\n",
    "    \"atomic_gaussian_width\": 0.2,\n",
    "    \"radial_basis\": {\"Gto\": {}},\n",
    "    \"cutoff_function\": {\"ShiftedCosine\": {\"width\": 0.1}},\n",
    "    \"center_atom_weight\": 0.0,    \n",
    "}\n",
    "cg = ClebschGordanReal(5)\n",
    "\n",
    "calculator = SphericalExpansion(**hypers)\n",
    "rhoi = calculator.compute(frames)\n",
    "rhoi = rhoi.keys_to_properties(['species_neighbor'])\n",
    "rho1i = acdc_standardize_keys(rhoi)\n",
    "    \n",
    "\n",
    "\n",
    "# selects only one environment\n",
    "rho1i = operations.slice(rho1i, samples=Labels(['center'],np.array([[0]], np.int32)) )\n",
    "# norm_rho1 = np.sqrt(np.sum([(b.values**2).sum(axis=(1,2)) for b in rho1i.blocks()],axis=0).mean())\n",
    "# for b in rho1i.blocks():\n",
    "#     b.values[:]/=norm_rho1\n",
    "    \n",
    "\n",
    "calculator = PairExpansion(**hypers)\n",
    "gij = calculator.compute(frames)\n",
    "gij = operations.slice(gij, samples=Labels(['first_atom'],np.array([[0]], np.int32)) )\n",
    "gij =  acdc_standardize_keys(gij)\n",
    "# for b in gij.blocks():\n",
    "#     b.values[:]/=norm_rho1\n",
    "gij = simplify_gij(gij)"
   ]
  },
  {
   "cell_type": "code",
   "execution_count": 11,
   "id": "230c868c",
   "metadata": {},
   "outputs": [
    {
     "data": {
      "text/plain": [
       "0.0"
      ]
     },
     "execution_count": 11,
     "metadata": {},
     "output_type": "execute_result"
    }
   ],
   "source": [
    "test = operations.sum_over_samples(gij, samples_names=[\"neighbor\"]) \n",
    "\n",
    "np.linalg.norm(rho1i.block(0).values/test.block(0).values -1)"
   ]
  },
  {
   "cell_type": "markdown",
   "id": "800e2c69",
   "metadata": {
    "heading_collapsed": true
   },
   "source": [
    "### $\\rho_{i}^{\\otimes 3}$"
   ]
  },
  {
   "cell_type": "code",
   "execution_count": 14,
   "id": "22dfcdc2",
   "metadata": {
    "hidden": true
   },
   "outputs": [],
   "source": [
    "rho2i = cg_increment(rho1i, rho1i, clebsch_gordan=cg, lcut=3, other_keys_match=[\"species_center\"])\n",
    "rho3i = cg_increment(rho2i, rho1i, clebsch_gordan=cg, lcut=0, other_keys_match=[\"species_center\"])\n",
    "# rho4i = cg_increment(rho3i, rho1i, clebsch_gordan=cg, lcut=3, other_keys_match=[\"species_center\"])\n",
    "# rho5i = cg_increment(rho4i, rho1i, clebsch_gordan=cg, lcut=0, other_keys_match=[\"species_center\"])"
   ]
  },
  {
   "cell_type": "code",
   "execution_count": 395,
   "id": "bed02e29",
   "metadata": {
    "hidden": true
   },
   "outputs": [
    {
     "name": "stdout",
     "output_type": "stream",
     "text": [
      "(2, 1, 0, 5) 0.0\n",
      "(2, 1, 1, 5) 0.0\n",
      "(2, 1, 2, 5) 0.0\n",
      "(2, 1, 3, 5) 0.0\n",
      "(2, -1, 1, 5) 0.0\n",
      "(2, -1, 2, 5) 0.0\n",
      "(2, -1, 3, 5) 0.0\n"
     ]
    }
   ],
   "source": [
    "xx =  cg_increment(rho1i, rho1i, clebsch_gordan=cg, lcut=3, other_keys_match=[\"species_center\"])\n",
    "for k, b in rho2i: \n",
    "    nu, s, l, spa = k\n",
    "    idx = xx.blocks_matching(inversion_sigma=s, spherical_harmonics_l=l)[0]\n",
    "    xblock = xx.block(idx)\n",
    "    print(k, np.linalg.norm(b.values-xblock.values))"
   ]
  },
  {
   "cell_type": "code",
   "execution_count": 12,
   "id": "e3954f86",
   "metadata": {
    "hidden": true
   },
   "outputs": [],
   "source": [
    "rhoii1i2_nu0 = cg_combine(gij, gij, clebsch_gordan=cg, other_keys_match=['species_center'], lcut=3)\n",
    "rhoii1i2_nu1 =  cg_combine(rho1i, rhoii1i2_nu0, clebsch_gordan=cg, other_keys_match = ['species_center'], lcut=0)"
   ]
  },
  {
   "cell_type": "markdown",
   "id": "b4479a67",
   "metadata": {
    "heading_collapsed": true
   },
   "source": [
    "### check map between three center and single center "
   ]
  },
  {
   "cell_type": "code",
   "execution_count": 397,
   "id": "0a904980",
   "metadata": {
    "hidden": true
   },
   "outputs": [],
   "source": [
    "rho2i_full = cg_combine(rho1i, rho1i, clebsch_gordan=cg, lcut=3, sorted_l=False)\n",
    "test = operations.sum_over_samples(rhoii1i2_nu0, samples_names=[\"neighbor_1\", \"neighbor_2\"]) "
   ]
  },
  {
   "cell_type": "code",
   "execution_count": 398,
   "id": "89013922",
   "metadata": {
    "hidden": true
   },
   "outputs": [
    {
     "data": {
      "text/plain": [
       "2.3955878289546457e-12"
      ]
     },
     "execution_count": 398,
     "metadata": {},
     "output_type": "execute_result"
    }
   ],
   "source": [
    "np.linalg.norm(rho2i_full.block(2).values/test.block(2).values-1)"
   ]
  },
  {
   "cell_type": "markdown",
   "id": "3876f297",
   "metadata": {
    "heading_collapsed": true
   },
   "source": [
    "### check degeneracy of $\\rho_{i}^{\\otimes 3}$"
   ]
  },
  {
   "cell_type": "code",
   "execution_count": 15,
   "id": "fb65d147",
   "metadata": {
    "hidden": true
   },
   "outputs": [
    {
     "data": {
      "text/plain": [
       "1.7279430568860854e-17"
      ]
     },
     "execution_count": 15,
     "metadata": {},
     "output_type": "execute_result"
    }
   ],
   "source": [
    "np.linalg.norm(rho3i.block(spherical_harmonics_l=0,inversion_sigma=1 ).values[0] - rho3i.block(spherical_harmonics_l=0,inversion_sigma=1 ).values[1])\n"
   ]
  },
  {
   "cell_type": "code",
   "execution_count": 14,
   "id": "80fe6da5",
   "metadata": {
    "hidden": true
   },
   "outputs": [],
   "source": [
    "# rhoii1i2_nu1.keys_to_properties('species_neighbor_1')\n",
    "# rhoii1i2_nu1.keys_to_properties('species_neighbor_2')"
   ]
  },
  {
   "cell_type": "code",
   "execution_count": 16,
   "id": "018156ca",
   "metadata": {
    "hidden": true
   },
   "outputs": [
    {
     "data": {
      "text/plain": [
       "Labels([(0, 0, 0, 0), (0, 0, 0, 1), (0, 0, 0, 2), (0, 0, 0, 3),\n",
       "        (0, 0, 0, 4), (0, 0, 0, 5), (0, 0, 0, 6), (0, 0, 0, 7),\n",
       "        (0, 0, 1, 0), (0, 0, 1, 1), (0, 0, 1, 2), (0, 0, 1, 3),\n",
       "        (0, 0, 1, 4), (0, 0, 1, 5), (0, 0, 1, 6), (0, 0, 1, 7),\n",
       "        (0, 0, 2, 0), (0, 0, 2, 1), (0, 0, 2, 2), (0, 0, 2, 3),\n",
       "        (0, 0, 2, 4), (0, 0, 2, 5), (0, 0, 2, 6), (0, 0, 2, 7),\n",
       "        (0, 0, 3, 0), (0, 0, 3, 1), (0, 0, 3, 2), (0, 0, 3, 3),\n",
       "        (0, 0, 3, 4), (0, 0, 3, 5), (0, 0, 3, 6), (0, 0, 3, 7),\n",
       "        (0, 0, 4, 0), (0, 0, 4, 1), (0, 0, 4, 2), (0, 0, 4, 3),\n",
       "        (0, 0, 4, 4), (0, 0, 4, 5), (0, 0, 4, 6), (0, 0, 4, 7),\n",
       "        (0, 0, 5, 0), (0, 0, 5, 1), (0, 0, 5, 2), (0, 0, 5, 3),\n",
       "        (0, 0, 5, 4), (0, 0, 5, 5), (0, 0, 5, 6), (0, 0, 5, 7),\n",
       "        (0, 0, 6, 0), (0, 0, 6, 1), (0, 0, 6, 2), (0, 0, 6, 3),\n",
       "        (0, 0, 6, 4), (0, 0, 6, 5), (0, 0, 6, 6), (0, 0, 6, 7),\n",
       "        (0, 0, 7, 0), (0, 0, 7, 1), (0, 0, 7, 2), (0, 0, 7, 3),\n",
       "        (0, 0, 7, 4), (0, 0, 7, 5), (0, 0, 7, 6), (0, 0, 7, 7)],\n",
       "       dtype=[('structure', '<i4'), ('center', '<i4'), ('neighbor_1', '<i4'), ('neighbor_2', '<i4')])"
      ]
     },
     "execution_count": 16,
     "metadata": {},
     "output_type": "execute_result"
    }
   ],
   "source": [
    "rhoii1i2_nu1.block(inversion_sigma=1).samples[:64]#values.shape\n"
   ]
  },
  {
   "cell_type": "code",
   "execution_count": 17,
   "id": "3698f387",
   "metadata": {
    "hidden": true
   },
   "outputs": [
    {
     "data": {
      "text/plain": [
       "0.1273083301388986"
      ]
     },
     "execution_count": 17,
     "metadata": {},
     "output_type": "execute_result"
    }
   ],
   "source": [
    "np.linalg.norm(rhoii1i2_nu1.block(inversion_sigma=1 ).values[:64])"
   ]
  },
  {
   "cell_type": "code",
   "execution_count": 18,
   "id": "276dbbbe",
   "metadata": {
    "hidden": true
   },
   "outputs": [
    {
     "data": {
      "text/plain": [
       "0.06589105111408992"
      ]
     },
     "execution_count": 18,
     "metadata": {},
     "output_type": "execute_result"
    }
   ],
   "source": [
    "# diff = np.sum(rhoii1i2_nu1.block(species_center = 6).values[:64], axis=0) - np.sum(rhoii1i2_nu1.block(species_center = 6).values[64:], axis=0)\n",
    "diff = rhoii1i2_nu1.block(inversion_sigma=1).values[:64] - rhoii1i2_nu1.block(inversion_sigma=1).values[64:128]\n",
    "\n",
    "np.linalg.norm(diff)"
   ]
  },
  {
   "cell_type": "code",
   "execution_count": 19,
   "id": "3865bc26",
   "metadata": {
    "hidden": true
   },
   "outputs": [
    {
     "name": "stderr",
     "output_type": "stream",
     "text": [
      "/Users/jigyasa/miniconda3/lib/python3.8/site-packages/equistore/operations/slice.py:113: UserWarning: Some TensorBlocks in the sliced TensorMap are now empty, based on your choice of samples and/or properties to slice by. The keys of the empty TensorBlocks are:\n",
      " [(3, 1, 0,  1,  1, 12) (3, 1, 0,  1,  3, 12) (3, 1, 0,  1, 12,  1)\n",
      " (3, 1, 0,  1, 12,  3) (3, 1, 0,  1, 12, 12) (3, 1, 0,  3,  1, 12)\n",
      " (3, 1, 0,  3,  3, 12) (3, 1, 0,  3, 12,  1) (3, 1, 0,  3, 12,  3)\n",
      " (3, 1, 0,  3, 12, 12) (3, 1, 0, 12,  1,  1) (3, 1, 0, 12,  1,  3)\n",
      " (3, 1, 0, 12,  1, 12) (3, 1, 0, 12,  3,  1) (3, 1, 0, 12,  3,  3)\n",
      " (3, 1, 0, 12,  3, 12) (3, 1, 0, 12, 12,  1) (3, 1, 0, 12, 12,  3)]\n",
      "  warnings.warn(\n"
     ]
    }
   ],
   "source": [
    "# from equistore import operations\n",
    "# ntrain = 400\n",
    "# train_tmap = operations.slice(rhoii1i2_nu1, \n",
    "#                 samples = Labels(\n",
    "#             names=[\"structure\"],\n",
    "#             values=np.array(\n",
    "#                 list(range(ntrain))\n",
    "#             ).reshape(-1,1), )\n",
    "#                 )\n",
    "\n",
    "# test_tmap = operations.slice(rhoii1i2_nu1, \n",
    "#                 samples = Labels(\n",
    "#             names=[\"structure\"],\n",
    "#             values=np.array(\n",
    "#                 list(range(ntrain, 500))\n",
    "#             ).reshape(-1,1), )\n",
    "#                 )\n",
    "\n",
    "# from equistore.io import save, load\n",
    "# # save('./rho3i_400.npz', rh)\n",
    "# save('./rhoii1i2n1_400.npz', train_tmap)\n",
    "# save('./rhoii1i2n1_400-500.npz', test_tmap)"
   ]
  },
  {
   "cell_type": "markdown",
   "id": "11b687c6",
   "metadata": {},
   "source": [
    "### artificial structure"
   ]
  },
  {
   "cell_type": "code",
   "execution_count": 372,
   "id": "a09a918f",
   "metadata": {},
   "outputs": [],
   "source": [
    "from generate_bispectrum_structures import * \n",
    "from ase import Atoms"
   ]
  },
  {
   "cell_type": "code",
   "execution_count": 373,
   "id": "e4a17476",
   "metadata": {},
   "outputs": [],
   "source": [
    "center_species = ring_species= z2species ='B'\n",
    "n=2\n",
    "\n",
    "phi1 = np.pi/4 #np.random.uniform(np.pi/6, np.pi)\n",
    "phi2 = -np.pi/3 #np.random.uniform(np.pi/6, np.pi)\n",
    "r=2\n",
    "z1=0\n",
    "z2 = 4\n",
    "layer1 = points_on_circle(r,[phi1,phi2])\n",
    "\n",
    "positions = np.zeros((4,3))\n",
    "positions[1:3,:2] = layer1\n",
    "positions[1:3, 2] = z1\n",
    "# positions[1,:2] = [0,0]\n",
    "positions[3,:2] = [np.random.uniform(0.2,1.2),np.random.uniform(0.2,1.2)]\n",
    "positions[3, 2] =z2\n",
    "\n",
    "\n",
    "atom_string = center_species + ring_species*(n) + z2species\n",
    "atoms = Atoms(atom_string, positions=positions[:], pbc=False)\n",
    "\n",
    "positions2 = positions.copy()\n",
    "positions2[2:4, 0] = -positions[2:4,0]\n",
    "positions2[2:4, 1] = positions[2:4, 1]\n",
    "atoms2 = Atoms(atom_string, positions=positions2[:], pbc=False)\n",
    "\n",
    "positions3 = positions.copy()\n",
    "positions3[3,2]=-4\n",
    "atoms3 = Atoms(atom_string, positions=positions3[:], pbc=False)"
   ]
  },
  {
   "cell_type": "code",
   "execution_count": 374,
   "id": "82192ab3",
   "metadata": {},
   "outputs": [
    {
     "name": "stdout",
     "output_type": "stream",
     "text": [
      "[[0.         2.         2.         4.13338024]\n",
      " [2.         0.         3.17341336 4.11323662]\n",
      " [2.         3.17341336 0.         4.71064777]\n",
      " [4.13338024 4.11323662 4.71064777 0.        ]]\n",
      "[[0.         2.         2.         4.13338024]\n",
      " [2.         0.         3.17341336 4.11323662]\n",
      " [2.         3.17341336 0.         4.71064777]\n",
      " [4.13338024 4.11323662 4.71064777 0.        ]]\n"
     ]
    }
   ],
   "source": [
    "print(atoms.get_all_distances() )\n",
    "\n",
    "# print(atoms2.get_all_distances() ) # is equal to atoms when the first two atoms are non complanar with the origin\n",
    "\n",
    "print(atoms3.get_all_distances()) # inverter structure basically "
   ]
  },
  {
   "cell_type": "code",
   "execution_count": 375,
   "id": "74695a4e",
   "metadata": {},
   "outputs": [
    {
     "data": {
      "text/plain": [
       "<subprocess.Popen at 0x7fcd2f01da00>"
      ]
     },
     "execution_count": 375,
     "metadata": {},
     "output_type": "execute_result"
    }
   ],
   "source": [
    "view([atoms, atoms3])"
   ]
  },
  {
   "cell_type": "code",
   "execution_count": 376,
   "id": "fff22f61",
   "metadata": {},
   "outputs": [],
   "source": [
    "artificial = [atoms, atoms3] #atoms2\n",
    "calculator = SphericalExpansion(**hypers)\n",
    "ar_rhoi = calculator.compute(artificial)\n",
    "ar_rhoi = ar_rhoi.keys_to_properties(['species_neighbor'])\n",
    "ar_rho1i = acdc_standardize_keys(ar_rhoi)\n",
    "# selects only one environment\n",
    "ar_rho1i = operations.slice(ar_rho1i, samples=Labels(['center'],np.array([[0]], np.int32)) )\n",
    "# norm_rho1 = np.sqrt(np.sum([(b.values**2).sum(axis=(1,2)) for b in rho1i.blocks()],axis=0).mean())\n",
    "# for b in rho1i.blocks():\n",
    "#     b.values[:]/=norm_rho1\n",
    "ar_rho2i = cg_increment(ar_rho1i, ar_rho1i, clebsch_gordan=cg, lcut=3, other_keys_match=[\"species_center\"])\n",
    "ar_rho3i = cg_increment(ar_rho2i, ar_rho1i, clebsch_gordan=cg, lcut=0, other_keys_match=[\"species_center\"])  \n",
    "\n",
    "calculator = PairExpansion(**hypers)\n",
    "ar_gij = calculator.compute(artificial)\n",
    "ar_gij = operations.slice(ar_gij, samples=Labels(['first_atom'],np.array([[0]], np.int32)) )\n",
    "ar_gij =  acdc_standardize_keys(ar_gij)\n",
    "# for b in gij.blocks():\n",
    "#     b.values[:]/=norm_rho1\n",
    "ar_gij = simplify_gij(ar_gij)\n",
    "ar_rhoii1i2_nu0 = cg_combine(ar_gij, ar_gij, clebsch_gordan=cg, other_keys_match=['species_center'], lcut=3)\n",
    "ar_rhoii1i2_nu1 =  cg_combine(ar_rho1i, ar_rhoii1i2_nu0, clebsch_gordan=cg, other_keys_match = ['species_center'], lcut=0)\n"
   ]
  },
  {
   "cell_type": "code",
   "execution_count": 377,
   "id": "81a9771f",
   "metadata": {},
   "outputs": [
    {
     "data": {
      "text/plain": [
       "array([[ 0.00000000e+00,  0.00000000e+00,  0.00000000e+00, ...,\n",
       "         0.00000000e+00,  0.00000000e+00,  0.00000000e+00],\n",
       "       [ 0.00000000e+00,  0.00000000e+00,  0.00000000e+00, ...,\n",
       "         0.00000000e+00,  0.00000000e+00,  0.00000000e+00],\n",
       "       [ 0.00000000e+00,  0.00000000e+00,  0.00000000e+00, ...,\n",
       "         0.00000000e+00,  0.00000000e+00,  0.00000000e+00],\n",
       "       ...,\n",
       "       [-3.70477971e-06, -2.94558474e-04, -4.58446563e-07, ...,\n",
       "         3.16165055e-05,  4.93809604e-08,  3.93677329e-06],\n",
       "       [ 3.70477971e-06,  2.94558474e-04,  4.58446563e-07, ...,\n",
       "        -3.16165055e-05, -4.93809604e-08, -3.93677329e-06],\n",
       "       [-8.78154690e-25,  5.62335965e-23, -6.35203908e-23, ...,\n",
       "        -1.60461975e-23,  3.18368910e-23, -8.55700383e-22]])"
      ]
     },
     "execution_count": 377,
     "metadata": {},
     "output_type": "execute_result"
    }
   ],
   "source": [
    "ar_rhoii1i2_nu1.block(inversion_sigma=-1).values.squeeze()[:16] -ar_rhoii1i2_nu1.block(inversion_sigma=-1).values.squeeze()[16:32]\n"
   ]
  },
  {
   "cell_type": "code",
   "execution_count": 380,
   "id": "be006ba6",
   "metadata": {},
   "outputs": [
    {
     "data": {
      "text/plain": [
       "(array([0, 0, 0, 0, 0, 0, 0, 0, 0, 0, 0, 0]),\n",
       " array([10, 11, 20, 21, 25, 29, 33, 35, 42, 46, 52, 53]))"
      ]
     },
     "execution_count": 380,
     "metadata": {},
     "output_type": "execute_result"
    }
   ],
   "source": [
    "np.where((ar_rho3i.block(inversion_sigma = -1).values[0] - ar_rho3i.block(inversion_sigma = -1).values[1])>1e-7)"
   ]
  },
  {
   "cell_type": "markdown",
   "id": "2635753d",
   "metadata": {},
   "source": [
    "## encoder-decoder"
   ]
  },
  {
   "cell_type": "markdown",
   "id": "52b25d07",
   "metadata": {},
   "source": [
    "encode three center features, sum over i1,i2 and then decode "
   ]
  },
  {
   "cell_type": "code",
   "execution_count": 19,
   "id": "4b27d298",
   "metadata": {},
   "outputs": [],
   "source": [
    "import torch\n",
    "def StructureMap(samples_structure, device=\"cpu\"):\n",
    "    unique_structures, unique_structures_idx = np.unique(\n",
    "        samples_structure, return_index=True\n",
    "    )\n",
    "    new_samples = samples_structure[np.sort(unique_structures_idx)]\n",
    "    # we need a list keeping track of where each atomic contribution goes\n",
    "    # (e.g. if structure ids are [3,3,3,1,1,1,6,6,6] that will be stored as\n",
    "    # the unique structures [3, 1, 6], structure_map will be\n",
    "    # [0,0,0,1,1,1,2,2,2]\n",
    "    replace_rule = dict(zip(unique_structures, range(len(unique_structures))))\n",
    "    structure_map = torch.tensor(\n",
    "        [replace_rule[i] for i in samples_structure],\n",
    "        dtype=torch.long,\n",
    "        device=device,\n",
    "    )\n",
    "    return structure_map, new_samples, replace_rule"
   ]
  },
  {
   "cell_type": "code",
   "execution_count": 20,
   "id": "adf8be0c",
   "metadata": {},
   "outputs": [],
   "source": [
    "def get_triple_samples(bsamples, train_idx):\n",
    "    samples = []\n",
    "    for i in trainidx:\n",
    "        loc = np.where(bsamples[\"structure\"] == i)\n",
    "        samples.append(bsamples[loc].asarray())\n",
    "    return Labels(rhoii1i2_nu1.sample_names, np.asarray(np.concatenate(samples), dtype=np.int32))"
   ]
  },
  {
   "cell_type": "code",
   "execution_count": 21,
   "id": "9266a0f9",
   "metadata": {},
   "outputs": [],
   "source": [
    "device='cpu'\n",
    "torch.set_default_dtype(torch.float64)"
   ]
  },
  {
   "cell_type": "code",
   "execution_count": 22,
   "id": "b592a70a",
   "metadata": {},
   "outputs": [],
   "source": [
    "class BlockEncoderDecoder(torch.nn.Module):\n",
    "    def __init__(self, **kwargs):\n",
    "        super().__init__()\n",
    "        self.encode_type = kwargs['encode_type']\n",
    "        \n",
    "        if self.encode_type == 'linear':\n",
    "            self.encoder_output_layer = torch.nn.Linear(\n",
    "            in_features=kwargs[\"input_size\"], out_features=kwargs[\"intermediate_size\"]\n",
    "        )\n",
    "        \n",
    "        else: \n",
    "            self.encoder_hidden_layer = torch.nn.Linear(\n",
    "                in_features=kwargs[\"input_size\"], out_features=kwargs[\"hidden_size\"]\n",
    "            )\n",
    "            \n",
    "            self.encoder_output_layer = torch.nn.Linear(\n",
    "                in_features=kwargs[\"hidden_size\"], out_features=kwargs[\"intermediate_size\"]\n",
    "            )\n",
    "        \n",
    "        \n",
    "        self.decoder_hidden_layer = torch.nn.Linear(\n",
    "            in_features=kwargs[\"intermediate_size\"], out_features=kwargs[\"hidden_size\"]\n",
    "        )\n",
    "        if 'output_size' in kwargs: \n",
    "            self.decoder_output_layer = torch.nn.Linear(\n",
    "            in_features=kwargs[\"hidden_size\"], out_features=kwargs[\"output_size\"]\n",
    "        )\n",
    "        else: \n",
    "            self.decoder_output_layer = torch.nn.Linear(\n",
    "            in_features=kwargs[\"hidden_size\"], out_features=kwargs[\"input_size\"]\n",
    "            )\n",
    "        \n",
    "        self.sum_triples=None\n",
    "        self.samples = kwargs[\"triple_samples\"]\n",
    "        self.to(device)\n",
    "        \n",
    "        \n",
    "    \n",
    "    def structure_wise_feats(self, x): \n",
    "        if self.encode_type == 'linear': \n",
    "            x = torch.from_numpy(x)\n",
    "            encoded = self.encoder_output_layer(x)\n",
    "#             print(\"encoded_shape\", encoded.shape)\n",
    "        \n",
    "        else: \n",
    "            x = torch.from_numpy(x.values)\n",
    "            encoded = self.encoder_hidden_layer(x)\n",
    "            activation = torch.tanh(encoded)\n",
    "            encoded = self.encoder_output_layer(activation)\n",
    "            encoded = torch.tanh(encoded)\n",
    "#             print(\"encoded_shape\", encoded.shape)\n",
    "        \n",
    "        structure_map, new_samples, _ = StructureMap(\n",
    "            self.samples[\"structure\"], \"cpu\"\n",
    "        )\n",
    "        self.sum_triples =  torch.zeros((len(new_samples), encoded.shape[-1]), device=x.device)\n",
    "        self.sum_triples.index_add_(0, structure_map, encoded)\n",
    "        \n",
    "        return self.sum_triples\n",
    "    \n",
    "    def forward(self, x):\n",
    "#         print(\"from block forward\", x.keys)\n",
    "        activation = self.decoder_hidden_layer(x)\n",
    "        activation = torch.tanh(activation)\n",
    "        activation = self.decoder_output_layer(activation)\n",
    "        decoded = torch.tanh(activation)\n",
    "#         print(\"decoded_shape\", decoded.shape)\n",
    "        return decoded\n",
    "    \n",
    "\n",
    "class ThreeCenterModel(torch.nn.ModuleDict):\n",
    "    \n",
    "    def __init__(self, feature, train_idx, hidden_size=128, intermediate_size=128, encode_type='linear'):\n",
    "        super().__init__()\n",
    "        self.feature = feature\n",
    "        self.encode_type=encode_type\n",
    "        self.models = torch.nn.ModuleDict()\n",
    "        self.trainidx = train_idx #idx of train structures\n",
    "        for k, b in self.feature:\n",
    "            input_size = b.values.shape[-1]\n",
    "            print(k,input_size, hidden_size, intermediate_size)\n",
    "#             samples = get_triple_samples(b.samples, self.trainidx)\n",
    "            self.models[str(k)] = BlockEncoderDecoder(input_size=input_size, hidden_size=hidden_size, intermediate_size=intermediate_size, \n",
    "                                                      encode_type=self.encode_type, triple_samples = b.samples\n",
    "                                                     )            \n",
    "        \n",
    "        self.to(device)\n",
    "    \n",
    "    def forward(self, feature):\n",
    "        pred_blocks =[]\n",
    "        for k, block in feature:\n",
    "\n",
    "            struct_feat = self.models[str(k)].structure_wise_feats(block.values.squeeze())\n",
    "            structure_map, new_samples, _ = StructureMap(block.samples[\"structure\"], device)\n",
    "        \n",
    "            recons = self.models[str(k)].forward(struct_feat) \n",
    "#             print(k, recons.shape,recons.reshape((recons.shape[0], recons.shape[1], 1)).swapaxes(1,-1).shape)\n",
    "#         return recons\n",
    "            newblock = TensorBlock(\n",
    "                        values=recons,#.reshape((recons.shape[0], recons.shape[1], 1)).swapaxes(1,-1),\n",
    "                        samples=Labels([\"structure\"], new_samples.asarray()),\n",
    "                        components=[],#block.components,\n",
    "                        properties= Labels([\"prop\"], np.asarray([i for i in range(recons.shape[1])], dtype=np.int32).reshape(-1,1))\n",
    "                    )\n",
    "            pred_blocks.append(newblock) \n",
    "        \n",
    "        keys = feature.keys\n",
    "        pred_target = TensorMap(keys, pred_blocks)\n",
    "        return(pred_target)\n",
    "    \n",
    "    \n"
   ]
  },
  {
   "cell_type": "markdown",
   "id": "7e51320b",
   "metadata": {},
   "source": [
    "### train different blocks separately "
   ]
  },
  {
   "cell_type": "code",
   "execution_count": 23,
   "id": "fe69dfc9",
   "metadata": {},
   "outputs": [],
   "source": [
    "allidx = range(1000*2)\n",
    "\n",
    "trainidx = range(900*2)\n",
    "testidx = list(set(allidx).difference(trainidx))"
   ]
  },
  {
   "cell_type": "code",
   "execution_count": 24,
   "id": "3e7e2d02",
   "metadata": {},
   "outputs": [],
   "source": [
    "block = rhoii1i2_nu1.block(0)"
   ]
  },
  {
   "cell_type": "code",
   "execution_count": 25,
   "id": "bbad2834",
   "metadata": {},
   "outputs": [],
   "source": [
    "target = torch.from_numpy(rho3i.block(spherical_harmonics_l = 0, inversion_sigma = 1).values.squeeze())"
   ]
  },
  {
   "cell_type": "code",
   "execution_count": 35,
   "id": "4d82778b",
   "metadata": {},
   "outputs": [],
   "source": [
    "input_size = block.values.shape[-1]\n",
    "hidden_size = 256\n",
    "intermediate_size = 256\n",
    "encode_type = 'linear'\n",
    "output_size = target.shape[-1]\n",
    "model_block = BlockEncoderDecoder(input_size=input_size, hidden_size=hidden_size, \n",
    "                                  intermediate_size=intermediate_size, encode_type=encode_type, \n",
    "                                  triple_samples = block.samples, output_size = output_size\n",
    "                                \n",
    "                                                     )            \n",
    "struct_feat = model_block.structure_wise_feats(block.values.squeeze())        \n",
    "recons = model_block.forward(struct_feat) \n",
    "            "
   ]
  },
  {
   "cell_type": "code",
   "execution_count": 43,
   "id": "920281a2",
   "metadata": {},
   "outputs": [],
   "source": [
    "def mse_loss(pred, target):\n",
    "    return torch.sum((pred - target)**2)"
   ]
  },
  {
   "cell_type": "code",
   "execution_count": 44,
   "id": "f2283eaf",
   "metadata": {},
   "outputs": [],
   "source": [
    "optimizer = torch.optim.LBFGS(\n",
    "        model_block.parameters(),\n",
    "        lr=0.1,\n",
    "        line_search_fn=\"strong_wolfe\",\n",
    "        history_size=256,\n",
    "    )"
   ]
  },
  {
   "cell_type": "code",
   "execution_count": 45,
   "id": "84244b44",
   "metadata": {},
   "outputs": [
    {
     "name": "stdout",
     "output_type": "stream",
     "text": [
      "Epoch: 0 RMSE: train  1.2078184157107028 test 0.9727308204177948\n",
      "Epoch: 1 RMSE: train  0.9731485804210459 test 0.7692942280219645\n",
      "Epoch: 2 RMSE: train  0.770147507949278 test 0.2847334423761676\n",
      "Epoch: 3 RMSE: train  0.2865970419606375 test 0.14087041917183318\n",
      "Epoch: 4 RMSE: train  0.14446736011405278 test 0.11320443720198393\n",
      "Epoch: 5 RMSE: train  0.11756347045338822 test 0.11064958746615841\n",
      "Epoch: 6 RMSE: train  0.11509898410377417 test 0.11039847276633045\n",
      "Epoch: 7 RMSE: train  0.11484233699679829 test 0.11037124632240176\n",
      "Epoch: 8 RMSE: train  0.11481654067636674 test 0.11024008951556771\n",
      "Epoch: 9 RMSE: train  0.11472384406153432 test 0.10987559853512133\n",
      "Epoch: 10 RMSE: train  0.11444277692705115 test 0.1095878419328224\n",
      "Epoch: 11 RMSE: train  0.11418669370825606 test 0.10428237507747087\n",
      "Epoch: 12 RMSE: train  0.10872352098736617 test 0.10337243379980307\n",
      "Epoch: 13 RMSE: train  0.10778196491575308 test 0.10336101489443934\n",
      "Epoch: 14 RMSE: train  0.10773998067535014 test 0.1033271206582616\n",
      "Epoch: 15 RMSE: train  0.10762627501916577 test 0.10327302779768346\n",
      "Epoch: 16 RMSE: train  0.10757169415194176 test 0.10025502491214139\n",
      "Epoch: 17 RMSE: train  0.10443796398176626 test 0.08778224914187796\n"
     ]
    },
    {
     "ename": "KeyboardInterrupt",
     "evalue": "",
     "output_type": "error",
     "traceback": [
      "\u001b[0;31m---------------------------------------------------------------------------\u001b[0m",
      "\u001b[0;31mKeyboardInterrupt\u001b[0m                         Traceback (most recent call last)",
      "Cell \u001b[0;32mIn [45], line 15\u001b[0m\n\u001b[1;32m     12\u001b[0m         loss\u001b[38;5;241m.\u001b[39mbackward(retain_graph\u001b[38;5;241m=\u001b[39m\u001b[38;5;28;01mFalse\u001b[39;00m)\n\u001b[1;32m     13\u001b[0m         \u001b[38;5;28;01mreturn\u001b[39;00m loss\n\u001b[0;32m---> 15\u001b[0m     loss \u001b[38;5;241m=\u001b[39m \u001b[43moptimizer\u001b[49m\u001b[38;5;241;43m.\u001b[39;49m\u001b[43mstep\u001b[49m\u001b[43m(\u001b[49m\u001b[43msingle_step\u001b[49m\u001b[43m)\u001b[49m\n\u001b[1;32m     16\u001b[0m \u001b[38;5;66;03m#     print(loss)\u001b[39;00m\n\u001b[1;32m     17\u001b[0m     struct_feat \u001b[38;5;241m=\u001b[39m model_block\u001b[38;5;241m.\u001b[39mstructure_wise_feats(block\u001b[38;5;241m.\u001b[39mvalues\u001b[38;5;241m.\u001b[39msqueeze())\n",
      "File \u001b[0;32m~/miniconda3/lib/python3.8/site-packages/torch/optim/optimizer.py:140\u001b[0m, in \u001b[0;36mOptimizer._hook_for_profile.<locals>.profile_hook_step.<locals>.wrapper\u001b[0;34m(*args, **kwargs)\u001b[0m\n\u001b[1;32m    138\u001b[0m profile_name \u001b[38;5;241m=\u001b[39m \u001b[38;5;124m\"\u001b[39m\u001b[38;5;124mOptimizer.step#\u001b[39m\u001b[38;5;132;01m{}\u001b[39;00m\u001b[38;5;124m.step\u001b[39m\u001b[38;5;124m\"\u001b[39m\u001b[38;5;241m.\u001b[39mformat(obj\u001b[38;5;241m.\u001b[39m\u001b[38;5;18m__class__\u001b[39m\u001b[38;5;241m.\u001b[39m\u001b[38;5;18m__name__\u001b[39m)\n\u001b[1;32m    139\u001b[0m \u001b[38;5;28;01mwith\u001b[39;00m torch\u001b[38;5;241m.\u001b[39mautograd\u001b[38;5;241m.\u001b[39mprofiler\u001b[38;5;241m.\u001b[39mrecord_function(profile_name):\n\u001b[0;32m--> 140\u001b[0m     out \u001b[38;5;241m=\u001b[39m \u001b[43mfunc\u001b[49m\u001b[43m(\u001b[49m\u001b[38;5;241;43m*\u001b[39;49m\u001b[43margs\u001b[49m\u001b[43m,\u001b[49m\u001b[43m \u001b[49m\u001b[38;5;241;43m*\u001b[39;49m\u001b[38;5;241;43m*\u001b[39;49m\u001b[43mkwargs\u001b[49m\u001b[43m)\u001b[49m\n\u001b[1;32m    141\u001b[0m     obj\u001b[38;5;241m.\u001b[39m_optimizer_step_code()\n\u001b[1;32m    142\u001b[0m     \u001b[38;5;28;01mreturn\u001b[39;00m out\n",
      "File \u001b[0;32m~/miniconda3/lib/python3.8/site-packages/torch/autograd/grad_mode.py:27\u001b[0m, in \u001b[0;36m_DecoratorContextManager.__call__.<locals>.decorate_context\u001b[0;34m(*args, **kwargs)\u001b[0m\n\u001b[1;32m     24\u001b[0m \u001b[38;5;129m@functools\u001b[39m\u001b[38;5;241m.\u001b[39mwraps(func)\n\u001b[1;32m     25\u001b[0m \u001b[38;5;28;01mdef\u001b[39;00m \u001b[38;5;21mdecorate_context\u001b[39m(\u001b[38;5;241m*\u001b[39margs, \u001b[38;5;241m*\u001b[39m\u001b[38;5;241m*\u001b[39mkwargs):\n\u001b[1;32m     26\u001b[0m     \u001b[38;5;28;01mwith\u001b[39;00m \u001b[38;5;28mself\u001b[39m\u001b[38;5;241m.\u001b[39mclone():\n\u001b[0;32m---> 27\u001b[0m         \u001b[38;5;28;01mreturn\u001b[39;00m \u001b[43mfunc\u001b[49m\u001b[43m(\u001b[49m\u001b[38;5;241;43m*\u001b[39;49m\u001b[43margs\u001b[49m\u001b[43m,\u001b[49m\u001b[43m \u001b[49m\u001b[38;5;241;43m*\u001b[39;49m\u001b[38;5;241;43m*\u001b[39;49m\u001b[43mkwargs\u001b[49m\u001b[43m)\u001b[49m\n",
      "File \u001b[0;32m~/miniconda3/lib/python3.8/site-packages/torch/optim/lbfgs.py:382\u001b[0m, in \u001b[0;36mLBFGS.step\u001b[0;34m(self, closure)\u001b[0m\n\u001b[1;32m    380\u001b[0m q \u001b[38;5;241m=\u001b[39m flat_grad\u001b[38;5;241m.\u001b[39mneg()\n\u001b[1;32m    381\u001b[0m \u001b[38;5;28;01mfor\u001b[39;00m i \u001b[38;5;129;01min\u001b[39;00m \u001b[38;5;28mrange\u001b[39m(num_old \u001b[38;5;241m-\u001b[39m \u001b[38;5;241m1\u001b[39m, \u001b[38;5;241m-\u001b[39m\u001b[38;5;241m1\u001b[39m, \u001b[38;5;241m-\u001b[39m\u001b[38;5;241m1\u001b[39m):\n\u001b[0;32m--> 382\u001b[0m     al[i] \u001b[38;5;241m=\u001b[39m \u001b[43mold_stps\u001b[49m\u001b[43m[\u001b[49m\u001b[43mi\u001b[49m\u001b[43m]\u001b[49m\u001b[38;5;241;43m.\u001b[39;49m\u001b[43mdot\u001b[49m\u001b[43m(\u001b[49m\u001b[43mq\u001b[49m\u001b[43m)\u001b[49m \u001b[38;5;241m*\u001b[39m ro[i]\n\u001b[1;32m    383\u001b[0m     q\u001b[38;5;241m.\u001b[39madd_(old_dirs[i], alpha\u001b[38;5;241m=\u001b[39m\u001b[38;5;241m-\u001b[39mal[i])\n\u001b[1;32m    385\u001b[0m \u001b[38;5;66;03m# multiply by initial Hessian\u001b[39;00m\n\u001b[1;32m    386\u001b[0m \u001b[38;5;66;03m# r/d is the final direction\u001b[39;00m\n",
      "\u001b[0;31mKeyboardInterrupt\u001b[0m: "
     ]
    }
   ],
   "source": [
    "nepochs = 200\n",
    "\n",
    "for epoch in range(nepochs):\n",
    "    \n",
    "    def single_step():\n",
    "        optimizer.zero_grad()\n",
    "        loss = torch.zeros(size=(1,), device=device)\n",
    "        struct_feat = model_block.structure_wise_feats(block.values.squeeze())\n",
    "        predicted = model_block(struct_feat)\n",
    "        loss += mse_loss(predicted[trainidx], target[trainidx])\n",
    "        \n",
    "        loss.backward(retain_graph=False)\n",
    "        return loss\n",
    "\n",
    "    loss = optimizer.step(single_step)\n",
    "#     print(loss)\n",
    "    struct_feat = model_block.structure_wise_feats(block.values.squeeze())\n",
    "    predicted = model_block(struct_feat) #, triplet_samples[\"structure\"][ntrain*ntriples:])\n",
    "    \n",
    "#     if epoch % 5 ==0:\n",
    "    print(\"Epoch:\", epoch, \"RMSE: train \", np.sqrt(loss.detach().numpy().flatten()[0]/len(trainidx)),\n",
    "     \"test\", np.sqrt(mse_loss(predicted[testidx], target[testidx]).detach().numpy().flatten()[0]/ len(testidx))\n",
    "         )"
   ]
  },
  {
   "cell_type": "code",
   "execution_count": null,
   "id": "b7b47de0",
   "metadata": {},
   "outputs": [],
   "source": []
  },
  {
   "cell_type": "markdown",
   "id": "68f6866f",
   "metadata": {
    "heading_collapsed": true
   },
   "source": [
    "### tensormap of reconstructed features"
   ]
  },
  {
   "cell_type": "code",
   "execution_count": 618,
   "id": "84fb882a",
   "metadata": {
    "hidden": true
   },
   "outputs": [
    {
     "name": "stdout",
     "output_type": "stream",
     "text": [
      "(3, 1, 0, 5, 5, 5) 184 128 128\n",
      "(3, -1, 0, 5, 5, 5) 88 128 128\n"
     ]
    }
   ],
   "source": [
    "model = ThreeCenterModel(rhoii1i2_nu1, train_idx = [0,1,3,5], encode_type='linear')"
   ]
  },
  {
   "cell_type": "code",
   "execution_count": 619,
   "id": "c2048fe7",
   "metadata": {
    "hidden": true
   },
   "outputs": [
    {
     "name": "stdout",
     "output_type": "stream",
     "text": [
      "encoded_shape torch.Size([640, 128])\n",
      "decoded_shape torch.Size([10, 184])\n",
      "[(0,) (1,) (2,) (3,) (4,) (5,) (6,) (7,) (8,) (9,)]\n",
      "encoded_shape torch.Size([640, 128])\n",
      "decoded_shape torch.Size([10, 88])\n",
      "[(0,) (1,) (2,) (3,) (4,) (5,) (6,) (7,) (8,) (9,)]\n"
     ]
    },
    {
     "data": {
      "text/plain": [
       "TensorMap with 2 blocks\n",
       "keys: ['order_nu' 'inversion_sigma' 'spherical_harmonics_l' 'species_center' 'species_neighbor_a' 'species_neighbor_b']\n",
       "           3             1                    0                   5                 5                   5\n",
       "           3            -1                    0                   5                 5                   5"
      ]
     },
     "execution_count": 619,
     "metadata": {},
     "output_type": "execute_result"
    }
   ],
   "source": [
    "model(rhoii1i2_nu1)"
   ]
  },
  {
   "cell_type": "code",
   "execution_count": 682,
   "id": "a2e3b753",
   "metadata": {
    "hidden": true
   },
   "outputs": [],
   "source": [
    "block = rhoii1i2_nu1.block(0)\n",
    "trainidx = [0,3,5]\n",
    "bsamples = block.samples"
   ]
  },
  {
   "cell_type": "code",
   "execution_count": 547,
   "id": "32411938",
   "metadata": {
    "hidden": true
   },
   "outputs": [],
   "source": [
    "new_samples = StructureMap(rhoii1i2_nu1.block(0).samples[:128][\"structure\"])[1]"
   ]
  },
  {
   "cell_type": "code",
   "execution_count": null,
   "id": "2969ced1",
   "metadata": {
    "hidden": true
   },
   "outputs": [],
   "source": []
  },
  {
   "cell_type": "markdown",
   "id": "e567b3e3",
   "metadata": {},
   "source": [
    "## set up NICE style feature computation"
   ]
  },
  {
   "cell_type": "code",
   "execution_count": 94,
   "id": "4206f19e",
   "metadata": {
    "ExecuteTime": {
     "end_time": "2023-01-26T15:42:46.367344Z",
     "start_time": "2023-01-26T15:42:46.337593Z"
    }
   },
   "outputs": [],
   "source": [
    "import scipy\n",
    "def compute_rhoi_pca(rhoi, npca):\n",
    "    \"\"\" computes PCA contraction with combined elemental and radial channels.\n",
    "    returns the contraction matrices\n",
    "    \"\"\"\n",
    "    if isinstance(npca, list): \n",
    "        assert len(npca) == len(rhoi)\n",
    "    else: \n",
    "        npca = [npca]*len(rhoi)\n",
    "    pca_vh_all = []\n",
    "    s_sph_all = []\n",
    "    pca_blocks = []\n",
    "    for idx, (key, block) in enumerate(rhoi):\n",
    "        nu, sigma, l, spi = key\n",
    "        xl = block.values.reshape((len(block.samples)*len(block.components[0]),-1))\n",
    "#         print(xl.shape)\n",
    "        u, s, vt = scipy.sparse.linalg.svds(xl, k=(min(min(xl.shape)-1,npca[idx]*2)), return_singular_vectors='vh')\n",
    "#          k=(min(xl.shape)-1)\n",
    "#         k=(min(min(xl.shape)-1,npca*2))\n",
    "        s_sph_all.append(s[::-1])\n",
    "        pca_vh_all.append(vt[-npca[idx]:][::-1].T)\n",
    "        print(s.shape, vt.shape)\n",
    "        print(\"singular values\", s[::-1][:npca[idx]]/s[::-1][0])\n",
    "        xl_pca = (xl@vt[-npca[idx]:][::-1].T).reshape((len(block.samples),len(block.components[0]),-1))\n",
    "        print(xl_pca.shape)\n",
    "        pblock = TensorBlock( values = xl_pca,\n",
    "                                 components = block.components,\n",
    "                                 samples = block.samples,\n",
    "                                 properties = Labels([\"pca\"], np.asarray([i for i in range(xl_pca.shape[-1])], dtype=np.int32).reshape(-1,1))\n",
    "                                )\n",
    "        pca_blocks.append(pblock)\n",
    "    pca_tmap = TensorMap(rhoi.keys, pca_blocks)\n",
    "    return pca_tmap, pca_vh_all, s_sph_all\n"
   ]
  },
  {
   "cell_type": "code",
   "execution_count": 100,
   "id": "143397df",
   "metadata": {
    "ExecuteTime": {
     "end_time": "2023-01-26T15:44:16.535308Z",
     "start_time": "2023-01-26T15:44:15.745180Z"
    },
    "scrolled": true
   },
   "outputs": [
    {
     "name": "stdout",
     "output_type": "stream",
     "text": [
      "(50,) (50, 64)\n",
      "singular values [1.00000000e+00 1.87958260e-01 1.27148864e-01 7.89351350e-02\n",
      " 5.35782452e-02 2.59491002e-02 1.99727605e-02 1.68349918e-02\n",
      " 1.42354549e-02 4.48356615e-03 3.38744661e-03 2.17741932e-03\n",
      " 1.65966383e-03 1.24052653e-03 9.51877512e-04 2.57695360e-04\n",
      " 2.16040002e-04 1.20429549e-04 7.74132654e-05 6.37005366e-05\n",
      " 3.57688101e-05 1.55995504e-05 0.00000000e+00 0.00000000e+00\n",
      " 0.00000000e+00]\n",
      "(2000, 1, 25)\n",
      "(47,) (47, 48)\n",
      "singular values [1.00000000e+00 2.95014802e-01 2.43917038e-01 1.81304379e-01\n",
      " 1.02019305e-01 5.10170691e-02 4.22293305e-02 3.82844760e-02\n",
      " 2.58956130e-02 2.22744507e-02 1.04781139e-02 7.23800090e-03\n",
      " 6.18424668e-03 4.62889963e-03 2.54077683e-03 2.16487578e-03\n",
      " 1.73868640e-03 1.30614607e-03 1.20553656e-03 8.23034985e-04\n",
      " 5.76958834e-04 3.93530282e-04 3.07491587e-04 2.38484379e-04\n",
      " 2.12354636e-04]\n",
      "(2000, 3, 25)\n",
      "(79,) (79, 80)\n",
      "singular values [1.00000000e+00 3.76087942e-01 3.60319951e-01 2.15915061e-01\n",
      " 1.98372349e-01 1.67631665e-01 8.85945918e-02 7.59440555e-02\n",
      " 5.80078696e-02 4.01663062e-02 3.18193350e-02 2.33180784e-02\n",
      " 1.84820270e-02 1.26432269e-02 1.00147982e-02 7.17094310e-03\n",
      " 5.94940653e-03 4.83869603e-03 3.55456500e-03 3.11095654e-03\n",
      " 2.59072235e-03 1.87048547e-03 1.47970655e-03 9.08413013e-04\n",
      " 7.43736806e-04 7.22004726e-04 6.28369427e-04 5.91652115e-04\n",
      " 3.66134283e-04 2.95730817e-04 1.95139002e-04 1.52519202e-04\n",
      " 1.23037844e-04 1.12779729e-04 1.04103257e-04 7.51118273e-05\n",
      " 7.10162758e-05 3.60202133e-05 3.53090150e-05 3.02932616e-05]\n",
      "(2000, 5, 40)\n",
      "(47,) (47, 48)\n",
      "singular values [1.00000000e+00 2.50937106e-01 1.91544764e-01 1.87136230e-01\n",
      " 7.43968890e-02 4.56177652e-02 3.69645290e-02 2.94271858e-02\n",
      " 2.31589127e-02 2.21744920e-02 8.29208158e-03 6.53678232e-03\n",
      " 5.74279580e-03 3.46871103e-03 2.22512586e-03 1.85228844e-03\n",
      " 1.41425567e-03 1.37024060e-03 1.18472038e-03 6.09120943e-04\n",
      " 4.59979261e-04 3.66459020e-04 2.41781682e-04 2.06533116e-04\n",
      " 2.01818832e-04]\n",
      "(2000, 7, 25)\n",
      "(30,) (30, 48)\n",
      "singular values [1.00000000e+00 8.76373873e-01 3.91381271e-01 4.69735216e-02\n",
      " 4.59309123e-02 1.87567353e-02 8.00567420e-03 6.98931233e-03\n",
      " 2.91548113e-03 1.99077909e-03 1.72339015e-03 6.97336441e-04\n",
      " 3.18161951e-04 2.95272202e-04 1.21225639e-04]\n",
      "(2000, 3, 15)\n",
      "(31,) (31, 32)\n",
      "singular values [1.00000000e+00 7.48547419e-01 2.00341673e-01 1.52253892e-01\n",
      " 1.05951478e-01 9.24121264e-02 2.96363192e-02 2.40562894e-02\n",
      " 9.02491929e-03 7.24674686e-03 5.12095949e-03 4.74232651e-03\n",
      " 1.80253972e-03 1.39556180e-03 8.89055416e-04 7.86477567e-04\n",
      " 3.10232477e-04 2.64192266e-04 2.07763338e-04 1.84264197e-04]\n",
      "(2000, 5, 20)\n",
      "(44,) (44, 48)\n",
      "singular values [1.00000000e+00 1.99632885e-01 1.98366857e-01 1.70792817e-01\n",
      " 1.44386886e-01 2.67821328e-02 1.00301329e-02 9.76427570e-03\n",
      " 9.13464405e-03 7.23866038e-03 1.66055016e-03 1.65170661e-03\n",
      " 1.52945793e-03 1.19600511e-03 3.93842005e-04 3.84869562e-04\n",
      " 3.47032063e-04 2.82328317e-04 7.55788978e-05 6.44971496e-05\n",
      " 6.26897310e-05 5.34772649e-05]\n",
      "(2000, 7, 22)\n"
     ]
    }
   ],
   "source": [
    "rho2i_pca, rho2i_vh_blocks, rho2i_eva_blocks = compute_rhoi_pca(rho2i, npca=[25,25,40,25, 15,20,22])"
   ]
  },
  {
   "cell_type": "code",
   "execution_count": 110,
   "id": "1871a5c9",
   "metadata": {
    "ExecuteTime": {
     "end_time": "2023-01-26T16:04:56.574245Z",
     "start_time": "2023-01-26T16:04:55.857357Z"
    }
   },
   "outputs": [
    {
     "data": {
      "text/plain": [
       "<matplotlib.legend.Legend at 0x7f1a0539e0d0>"
      ]
     },
     "execution_count": 110,
     "metadata": {},
     "output_type": "execute_result"
    },
    {
     "data": {
      "image/png": "[encoded data removed]",
      "text/plain": [
       "<Figure size 432x288 with 1 Axes>"
      ]
     },
     "metadata": {
      "needs_background": "light"
     },
     "output_type": "display_data"
    }
   ],
   "source": [
    "for i in range(len(rho2i_eva_blocks)):\n",
    "    plt.loglog(rho2i_eva_blocks[i]*1e3, label = (rho2i.keys[i][\"spherical_harmonics_l\"],rho2i.keys[i][\"inversion_sigma\"] ))\n",
    "#     plt.loglog(rho2i_eva_blocks[1]*1e3,'r--')\n",
    "#     plt.loglog(rho2i_eva_blocks[2]*1e3,'r:')\n",
    "plt.legend()"
   ]
  },
  {
   "cell_type": "code",
   "execution_count": 79,
   "id": "38e143b3",
   "metadata": {
    "ExecuteTime": {
     "end_time": "2023-01-26T15:28:37.887294Z",
     "start_time": "2023-01-26T15:28:36.717758Z"
    }
   },
   "outputs": [],
   "source": [
    "rho3i = cg_increment(rho2i_pca, rho1i, clebsch_gordan=cg, lcut=3, other_keys_match=[\"species_center\"])\n",
    "# rho4i = cg_increment(rho3i, rho1i, clebsch_gordan=cg, lcut=3, other_keys_match=[\"species_center\"])\n",
    "# rho5i = cg_increment(rho4i, rho1i, clebsch_gordan=cg, lcut=0, other_keys_match=[\"species_center\"])"
   ]
  },
  {
   "cell_type": "code",
   "execution_count": 116,
   "id": "c26b83a0",
   "metadata": {
    "ExecuteTime": {
     "end_time": "2023-01-26T16:08:47.671696Z",
     "start_time": "2023-01-26T16:08:06.013280Z"
    }
   },
   "outputs": [
    {
     "name": "stdout",
     "output_type": "stream",
     "text": [
      "(160,) (160, 320)\n",
      "singular values [1.00000000e+00 2.25403189e-01 1.74569832e-01 1.07639872e-01\n",
      " 7.33378036e-02 4.25293251e-02 3.42989867e-02 3.14657784e-02\n",
      " 2.55943569e-02 2.14286169e-02 2.09976510e-02 1.98998002e-02\n",
      " 1.10873219e-02 9.87635037e-03 9.12981015e-03 7.01771080e-03\n",
      " 6.32121103e-03 5.91260654e-03 5.42537972e-03 4.12673741e-03\n",
      " 4.04370097e-03 3.20357968e-03 3.08678847e-03 2.76830711e-03\n",
      " 2.63105559e-03 2.10586491e-03 1.87158840e-03 1.69293071e-03\n",
      " 1.25274295e-03 1.21689497e-03 8.55628097e-04 7.86336494e-04\n",
      " 7.09155383e-04 6.71545394e-04 5.84337154e-04 5.37196190e-04\n",
      " 4.62567630e-04 4.49505435e-04 3.70747325e-04 3.52197952e-04\n",
      " 2.90525604e-04 2.80809527e-04 2.64845764e-04 2.49762258e-04\n",
      " 2.29385068e-04 2.09304502e-04 2.07576463e-04 1.74716092e-04\n",
      " 1.55268199e-04 1.38807482e-04 1.12537182e-04 1.08482438e-04\n",
      " 8.65702332e-05 7.07835828e-05 6.94052637e-05 6.09487757e-05\n",
      " 5.91535753e-05 4.78042027e-05 4.18566275e-05 4.00163005e-05\n",
      " 3.55579329e-05 3.37153880e-05 3.28527558e-05 3.09518967e-05\n",
      " 2.70061755e-05 2.24335142e-05 1.91529106e-05 1.85839923e-05\n",
      " 1.80743819e-05 0.00000000e+00 0.00000000e+00 0.00000000e+00\n",
      " 0.00000000e+00 0.00000000e+00 0.00000000e+00 0.00000000e+00\n",
      " 0.00000000e+00 0.00000000e+00 0.00000000e+00 0.00000000e+00]\n",
      "(2000, 1, 80)\n",
      "(360,) (360, 480)\n",
      "singular values [1.00000000e+00 3.00825129e-01 2.39181435e-01 2.11730034e-01\n",
      " 1.75968061e-01 1.28469014e-01 1.19448248e-01 1.15411575e-01\n",
      " 1.05350578e-01 8.51750237e-02 7.87948962e-02 6.79624564e-02\n",
      " 6.64700791e-02 5.91435871e-02 5.05420939e-02 4.33915976e-02\n",
      " 4.22737430e-02 3.76231418e-02 3.19159222e-02 3.04151385e-02\n",
      " 2.74062976e-02 2.60138855e-02 2.46143190e-02 2.31188632e-02\n",
      " 1.92843574e-02 1.86709476e-02 1.72982703e-02 1.65519904e-02\n",
      " 1.57505263e-02 1.55230029e-02 1.38613414e-02 1.34131439e-02\n",
      " 1.14682199e-02 1.08677513e-02 1.04644563e-02 1.00314634e-02\n",
      " 8.99103167e-03 8.80204232e-03 8.34182530e-03 7.39105136e-03\n",
      " 6.99380527e-03 5.93667856e-03 5.69972730e-03 5.50941542e-03\n",
      " 4.95876613e-03 4.80756890e-03 4.61559075e-03 4.39888758e-03\n",
      " 4.36368774e-03 4.13438498e-03 3.69291124e-03 3.36472171e-03\n",
      " 3.32183557e-03 3.03163494e-03 2.97373175e-03 2.94960742e-03\n",
      " 2.76625496e-03 2.51652090e-03 2.44090532e-03 2.38913867e-03\n",
      " 2.16942564e-03 2.04626729e-03 1.92527797e-03 1.87432288e-03\n",
      " 1.74996063e-03 1.68880451e-03 1.56800565e-03 1.45279620e-03\n",
      " 1.36715104e-03 1.21851295e-03 1.13230799e-03 1.08713057e-03\n",
      " 1.05778648e-03 1.02396815e-03 9.64327605e-04 9.39990895e-04\n",
      " 8.88707026e-04 8.63693554e-04 8.17835150e-04 7.91325457e-04\n",
      " 7.53195852e-04 7.01570031e-04 6.83904987e-04 6.43469330e-04\n",
      " 6.26846279e-04 5.90229888e-04 5.42233805e-04 5.33797524e-04\n",
      " 5.00441324e-04 4.87542632e-04 4.76809677e-04 4.30999553e-04\n",
      " 4.14600565e-04 3.78962734e-04 3.71172667e-04 3.47313724e-04\n",
      " 3.35796822e-04 3.24103719e-04 3.14369425e-04 2.89161642e-04\n",
      " 2.79210615e-04 2.69045113e-04 2.49320230e-04 2.34223479e-04\n",
      " 2.28290747e-04 2.23758555e-04 2.09263481e-04 2.02232751e-04\n",
      " 1.96407972e-04 1.90666257e-04 1.88433151e-04 1.76225507e-04\n",
      " 1.63651439e-04 1.59696245e-04 1.54026665e-04 1.48612089e-04\n",
      " 1.39597583e-04 1.34538647e-04 1.29203350e-04 1.28432075e-04\n",
      " 1.24434572e-04 1.14172742e-04 1.08085650e-04 1.02551664e-04\n",
      " 9.97908070e-05 9.86671872e-05 9.40350674e-05 8.96398317e-05\n",
      " 8.40720150e-05 8.05332003e-05 7.65108756e-05 6.87975225e-05\n",
      " 6.37219261e-05 6.04518802e-05 5.98691346e-05 5.35015135e-05\n",
      " 5.19576847e-05 5.11457574e-05 5.04209143e-05 4.59696462e-05\n",
      " 4.51531239e-05 4.19173817e-05 4.16873908e-05 4.10043556e-05\n",
      " 3.72746049e-05 3.64595363e-05 3.44395030e-05 3.26947542e-05\n",
      " 3.07987564e-05 3.05129059e-05 2.98659421e-05 2.84963209e-05\n",
      " 2.82922766e-05 2.77977896e-05 2.70336052e-05 2.48021591e-05\n",
      " 2.35785267e-05 2.28402413e-05 2.22924520e-05 2.16701557e-05\n",
      " 2.11570562e-05 1.93549133e-05 1.90466640e-05 1.79404356e-05\n",
      " 1.71826771e-05 1.57318458e-05 1.55181846e-05 0.00000000e+00\n",
      " 0.00000000e+00 0.00000000e+00 0.00000000e+00 0.00000000e+00\n",
      " 0.00000000e+00 0.00000000e+00 0.00000000e+00 0.00000000e+00\n",
      " 0.00000000e+00 0.00000000e+00 0.00000000e+00 0.00000000e+00]\n",
      "(2000, 3, 180)\n",
      "(400,) (400, 560)\n",
      "singular values [1.00000000e+00 3.56866753e-01 3.42467854e-01 2.29705317e-01\n",
      " 2.05052781e-01 1.61401958e-01 1.34653441e-01 1.00866385e-01\n",
      " 9.40090471e-02 8.16540751e-02 7.55880973e-02 6.91119990e-02\n",
      " 6.41521929e-02 5.59761724e-02 5.48691991e-02 4.88721882e-02\n",
      " 4.43247077e-02 4.15643751e-02 3.74391340e-02 3.69631219e-02\n",
      " 3.54618889e-02 3.32066383e-02 2.65429464e-02 2.35943402e-02\n",
      " 1.98279791e-02 1.87389184e-02 1.69735807e-02 1.58555474e-02\n",
      " 1.54023138e-02 1.48588952e-02 1.41201825e-02 1.33812540e-02\n",
      " 1.28292758e-02 1.26612232e-02 1.21138579e-02 1.11865619e-02\n",
      " 1.07001041e-02 1.00456887e-02 9.36294555e-03 8.68008269e-03\n",
      " 8.20728055e-03 7.56586171e-03 7.31653659e-03 6.49829403e-03\n",
      " 6.32888673e-03 6.22792233e-03 6.06262620e-03 5.53371350e-03\n",
      " 5.18007611e-03 5.07389283e-03 4.72737387e-03 4.67342827e-03\n",
      " 4.27048898e-03 4.19126906e-03 3.95283192e-03 3.74258073e-03\n",
      " 3.61190738e-03 3.39824013e-03 3.14543904e-03 3.05344497e-03\n",
      " 2.98221047e-03 2.82285666e-03 2.72613379e-03 2.69977946e-03\n",
      " 2.61112714e-03 2.39570025e-03 2.26634631e-03 2.21313349e-03\n",
      " 2.09127110e-03 1.98137994e-03 1.93924160e-03 1.75080278e-03\n",
      " 1.62592018e-03 1.58010404e-03 1.49478177e-03 1.49323827e-03\n",
      " 1.36074088e-03 1.32405441e-03 1.29774827e-03 1.26699442e-03\n",
      " 1.23590347e-03 1.16729951e-03 1.13919461e-03 1.07076620e-03\n",
      " 1.00651898e-03 9.84614607e-04 9.35710652e-04 8.81430158e-04\n",
      " 8.20411116e-04 8.14422939e-04 7.33745311e-04 7.13968538e-04\n",
      " 6.95431637e-04 6.62900191e-04 6.47421640e-04 6.21422560e-04\n",
      " 5.98840564e-04 5.87875271e-04 5.76113343e-04 5.44646650e-04\n",
      " 5.28687007e-04 5.01130307e-04 4.65944952e-04 4.52980196e-04\n",
      " 4.47832622e-04 4.36106237e-04 4.11442251e-04 3.88858882e-04\n",
      " 3.83518153e-04 3.62334943e-04 3.59871534e-04 3.40714443e-04\n",
      " 3.38659996e-04 3.25858453e-04 3.10954893e-04 3.07809559e-04\n",
      " 2.98402365e-04 2.83395206e-04 2.80032272e-04 2.63836762e-04\n",
      " 2.50223368e-04 2.37237612e-04 2.33191603e-04 2.27650347e-04\n",
      " 2.20332167e-04 2.09437165e-04 2.08938435e-04 1.97149453e-04\n",
      " 1.95920302e-04 1.83157887e-04 1.78388851e-04 1.73241504e-04\n",
      " 1.60616973e-04 1.51490118e-04 1.51267885e-04 1.45035580e-04\n",
      " 1.40476807e-04 1.38411950e-04 1.33148297e-04 1.31984542e-04\n",
      " 1.25600879e-04 1.21357252e-04 1.12928565e-04 1.04288074e-04\n",
      " 1.00067208e-04 9.91306333e-05 9.63877871e-05 9.48363556e-05\n",
      " 9.31962723e-05 8.92342298e-05 8.69091308e-05 8.27169061e-05\n",
      " 7.72792777e-05 7.63222987e-05 7.43259100e-05 6.95089306e-05\n",
      " 6.71155931e-05 6.60644439e-05 6.40792833e-05 6.22455826e-05\n",
      " 5.86445417e-05 5.80250207e-05 5.68126131e-05 5.59015573e-05\n",
      " 5.48367529e-05 5.36795735e-05 4.93456312e-05 4.83048623e-05\n",
      " 4.65509479e-05 4.46795564e-05 4.37810137e-05 4.16436014e-05\n",
      " 4.11331981e-05 3.94769574e-05 3.94377025e-05 3.70502722e-05\n",
      " 3.66850077e-05 3.42258758e-05 3.36716263e-05 3.24226630e-05\n",
      " 3.14857853e-05 3.10630712e-05 2.94679115e-05 2.67243052e-05\n",
      " 2.59372330e-05 2.55363118e-05 2.48415066e-05 2.41181794e-05\n",
      " 2.37062677e-05 2.23140386e-05 2.17181363e-05 2.09496713e-05\n",
      " 2.06798611e-05 1.98875084e-05 1.92255110e-05 1.81829212e-05\n",
      " 1.78733589e-05 1.74158608e-05 1.65990933e-05 1.62009047e-05]\n",
      "(2000, 5, 200)\n",
      "(200,) (200, 480)\n",
      "singular values [1.00000000e+00 2.48741174e-01 2.21002565e-01 1.81280755e-01\n",
      " 1.43813049e-01 9.92574622e-02 8.51499116e-02 8.39074384e-02\n",
      " 8.09574056e-02 6.88817745e-02 6.00770043e-02 5.24045171e-02\n",
      " 5.06388327e-02 4.99974850e-02 4.21549849e-02 4.11596229e-02\n",
      " 3.52888845e-02 3.45154116e-02 3.28443842e-02 3.10484011e-02\n",
      " 2.89759495e-02 2.44657774e-02 2.23542704e-02 1.94678572e-02\n",
      " 1.83708365e-02 1.59754808e-02 1.47344953e-02 1.40024631e-02\n",
      " 1.31712611e-02 1.28722311e-02 1.21115964e-02 1.15714476e-02\n",
      " 1.09529992e-02 1.06029436e-02 9.44865091e-03 9.28002558e-03\n",
      " 9.18771472e-03 8.89320192e-03 8.33087558e-03 8.17164587e-03\n",
      " 7.90693687e-03 7.69940036e-03 7.08665603e-03 6.46395637e-03\n",
      " 6.29646308e-03 6.11428989e-03 5.85857161e-03 5.48053630e-03\n",
      " 5.17284135e-03 4.97902304e-03 4.46715574e-03 4.10982533e-03\n",
      " 4.03186485e-03 3.92381176e-03 3.68898341e-03 3.59344985e-03\n",
      " 3.58340181e-03 3.36626321e-03 3.16485878e-03 3.09507735e-03\n",
      " 2.89483165e-03 2.58919621e-03 2.52218865e-03 2.46442323e-03\n",
      " 2.33967997e-03 2.27362493e-03 2.17704131e-03 1.97234641e-03\n",
      " 1.90205473e-03 1.88551162e-03 1.80360193e-03 1.72374086e-03\n",
      " 1.64891969e-03 1.62405390e-03 1.54749653e-03 1.49768581e-03\n",
      " 1.38933647e-03 1.30179721e-03 1.21411074e-03 1.18798283e-03\n",
      " 1.12141090e-03 1.09004067e-03 1.07282523e-03 9.54923776e-04\n",
      " 9.43652497e-04 8.99831970e-04 8.92805957e-04 8.77782129e-04\n",
      " 8.39132620e-04 7.36545829e-04 7.27813636e-04 7.09731984e-04\n",
      " 6.86197614e-04 6.59921450e-04 6.42244303e-04 6.06857156e-04\n",
      " 5.63135675e-04 5.39099621e-04 5.12237859e-04 4.93324260e-04]\n"
     ]
    },
    {
     "name": "stdout",
     "output_type": "stream",
     "text": [
      "(2000, 7, 100)\n",
      "(240,) (240, 400)\n",
      "singular values [1.00000000e+00 6.89882328e-01 5.72698022e-01 4.73715969e-01\n",
      " 3.34850473e-01 2.97390653e-01 2.25274080e-01 1.68145374e-01\n",
      " 1.40263578e-01 1.20259194e-01 1.12333048e-01 9.69017763e-02\n",
      " 9.35096932e-02 8.64182047e-02 7.89921005e-02 5.78962726e-02\n",
      " 5.44038949e-02 5.19110795e-02 4.76442904e-02 3.93670761e-02\n",
      " 3.63311013e-02 3.47510153e-02 2.38380327e-02 2.33636635e-02\n",
      " 2.20298912e-02 2.06861136e-02 1.99521410e-02 1.83684544e-02\n",
      " 1.70111368e-02 1.63843275e-02 1.57879319e-02 1.54570895e-02\n",
      " 1.40296794e-02 9.84539017e-03 8.92311938e-03 7.88105489e-03\n",
      " 7.18741871e-03 6.33604613e-03 5.36668459e-03 5.21701829e-03\n",
      " 4.89471931e-03 4.41722053e-03 4.08494050e-03 3.75558090e-03\n",
      " 3.65096158e-03 3.28852445e-03 3.19192150e-03 2.82087041e-03\n",
      " 2.45830134e-03 2.35934766e-03 2.25173455e-03 2.07914478e-03\n",
      " 1.93958001e-03 1.82422460e-03 1.71965348e-03 1.51429136e-03\n",
      " 1.31961557e-03 1.21162552e-03 1.18070233e-03 1.10589996e-03\n",
      " 1.03632515e-03 9.73869694e-04 9.13491012e-04 8.73794306e-04\n",
      " 8.18721792e-04 7.96669268e-04 7.71875456e-04 7.62252950e-04\n",
      " 7.01340333e-04 6.49677458e-04 6.00462151e-04 5.59158156e-04\n",
      " 5.30459230e-04 4.34685075e-04 3.80045811e-04 3.36616727e-04\n",
      " 3.24093687e-04 2.99389209e-04 2.62525221e-04 2.58705315e-04\n",
      " 2.39413064e-04 2.24640220e-04 2.05028420e-04 1.67582212e-04\n",
      " 1.60499409e-04 1.49929765e-04 1.42322277e-04 1.38370159e-04\n",
      " 1.33175140e-04 1.29668315e-04 1.23495989e-04 1.18669938e-04\n",
      " 1.15105637e-04 1.07233566e-04 1.02449618e-04 9.46779531e-05\n",
      " 9.28332280e-05 8.76039744e-05 8.49635448e-05 8.10990689e-05\n",
      " 7.44882136e-05 6.74279479e-05 6.59327003e-05 6.12565439e-05\n",
      " 5.76524815e-05 5.51852591e-05 5.17621587e-05 4.89780128e-05\n",
      " 4.47117024e-05 4.08963702e-05 3.99544403e-05 3.84807998e-05\n",
      " 3.50785801e-05 3.24699734e-05 3.17381126e-05 3.04197170e-05\n",
      " 2.90560295e-05 2.83572247e-05 2.74192157e-05 2.58332470e-05]\n",
      "(2000, 3, 120)\n",
      "(240,) (240, 480)\n",
      "singular values [1.00000000e+00 7.41729207e-01 4.32699659e-01 2.63597535e-01\n",
      " 2.25812733e-01 1.92130096e-01 1.91235215e-01 1.74732532e-01\n",
      " 1.67776455e-01 1.10055231e-01 1.00941413e-01 9.58394364e-02\n",
      " 6.87756585e-02 6.01538606e-02 5.35900396e-02 4.78758049e-02\n",
      " 4.32665761e-02 4.05008653e-02 3.96018828e-02 3.75070998e-02\n",
      " 3.55135545e-02 3.28367875e-02 3.11862929e-02 2.91209879e-02\n",
      " 2.86803859e-02 2.70253044e-02 2.57179935e-02 2.42933536e-02\n",
      " 2.14085800e-02 2.02864592e-02 1.95510442e-02 1.67360820e-02\n",
      " 1.54232208e-02 1.49315903e-02 1.27795783e-02 1.10851777e-02\n",
      " 1.02784612e-02 9.80741787e-03 9.59186497e-03 9.35365982e-03\n",
      " 8.46179241e-03 7.82765382e-03 7.04679248e-03 6.53075653e-03\n",
      " 6.36851985e-03 6.05752672e-03 5.94396127e-03 5.60666617e-03\n",
      " 5.25251085e-03 5.02358331e-03 4.81777110e-03 4.77955520e-03\n",
      " 4.56314857e-03 4.47818121e-03 4.30941626e-03 4.04786606e-03\n",
      " 3.70178317e-03 3.31993314e-03 3.05034346e-03 2.86880400e-03\n",
      " 2.79725149e-03 2.67162475e-03 2.63505069e-03 2.36581547e-03\n",
      " 2.09326758e-03 1.97698725e-03 1.95538466e-03 1.76142203e-03\n",
      " 1.62256341e-03 1.61680119e-03 1.53898698e-03 1.42391786e-03\n",
      " 1.40660432e-03 1.29272376e-03 1.20203261e-03 1.15211289e-03\n",
      " 1.14401899e-03 1.11256629e-03 1.08246626e-03 9.64812304e-04\n",
      " 9.30741709e-04 9.09520285e-04 8.62879377e-04 8.46275779e-04\n",
      " 8.06597872e-04 7.54826714e-04 7.39266048e-04 6.60432018e-04\n",
      " 6.29663741e-04 5.62199271e-04 5.22491337e-04 4.85118269e-04\n",
      " 4.66258610e-04 4.47382395e-04 4.32645101e-04 4.17666018e-04\n",
      " 4.09084551e-04 3.95629381e-04 3.69952279e-04 3.41602761e-04\n",
      " 3.38234469e-04 3.25921876e-04 3.11457086e-04 3.02990184e-04\n",
      " 2.93450075e-04 2.85036821e-04 2.69521209e-04 2.68614567e-04\n",
      " 2.54140734e-04 2.39177606e-04 2.38044951e-04 2.36727621e-04\n",
      " 2.31623864e-04 2.20327111e-04 1.98338336e-04 1.91692247e-04\n",
      " 1.82127142e-04 1.78228959e-04 1.70433669e-04 1.63357952e-04]\n",
      "(2000, 5, 120)\n",
      "(360,) (360, 400)\n",
      "singular values [1.00000000e+00 7.86423178e-01 5.79760302e-01 3.39757489e-01\n",
      " 3.11718316e-01 2.89583677e-01 2.62816179e-01 2.20366584e-01\n",
      " 2.08169803e-01 2.02297509e-01 1.96700868e-01 1.88479966e-01\n",
      " 1.53466925e-01 1.22193764e-01 7.90702289e-02 7.24708424e-02\n",
      " 7.01377332e-02 6.46816922e-02 6.11758307e-02 5.78057271e-02\n",
      " 5.67654992e-02 4.58869107e-02 4.38135018e-02 4.12155935e-02\n",
      " 3.54454377e-02 3.53133495e-02 3.40753288e-02 3.31113484e-02\n",
      " 3.03791071e-02 2.99472483e-02 2.94540146e-02 2.63163382e-02\n",
      " 2.58911317e-02 2.20832812e-02 2.04452603e-02 1.93307289e-02\n",
      " 1.91520672e-02 1.74857932e-02 1.42852638e-02 1.41808592e-02\n",
      " 1.33438873e-02 1.26358385e-02 1.22115704e-02 1.19041472e-02\n",
      " 1.15703341e-02 1.11782881e-02 1.05331488e-02 1.00210982e-02\n",
      " 9.82388045e-03 8.86961837e-03 7.84369976e-03 7.57245201e-03\n",
      " 7.20616950e-03 6.61557762e-03 6.20285807e-03 5.96405367e-03\n",
      " 5.94828409e-03 4.80024256e-03 4.71249197e-03 4.66088443e-03\n",
      " 4.29433635e-03 3.86925325e-03 3.61748039e-03 3.48535390e-03\n",
      " 3.29724840e-03 2.95372843e-03 2.87881590e-03 2.70193674e-03\n",
      " 2.63586649e-03 2.46037789e-03 2.37493033e-03 2.25928293e-03\n",
      " 2.13930655e-03 2.05210651e-03 2.04115627e-03 1.92662686e-03\n",
      " 1.83118825e-03 1.72145520e-03 1.69781909e-03 1.67724949e-03\n",
      " 1.56762011e-03 1.55155078e-03 1.53155124e-03 1.49299588e-03\n",
      " 1.37214709e-03 1.34025910e-03 1.30585603e-03 1.28374596e-03\n",
      " 1.22622550e-03 1.15874114e-03 1.13010634e-03 9.51724342e-04\n",
      " 9.49383462e-04 8.86000439e-04 8.71488554e-04 8.58159110e-04\n",
      " 8.20357189e-04 7.78848644e-04 6.88074511e-04 6.66917165e-04\n",
      " 6.40998186e-04 6.21430454e-04 5.90872419e-04 5.68868499e-04\n",
      " 5.48540433e-04 5.14515818e-04 4.92940182e-04 4.71452090e-04\n",
      " 4.61045942e-04 4.34160085e-04 4.01395083e-04 3.91067958e-04\n",
      " 3.80982071e-04 3.64746554e-04 3.47511092e-04 3.29359970e-04\n",
      " 3.10102335e-04 2.96664099e-04 2.87983202e-04 2.68637471e-04\n",
      " 2.56091462e-04 2.52130226e-04 2.44603109e-04 2.28854181e-04\n",
      " 2.19801482e-04 2.07197088e-04 2.01352793e-04 1.89572431e-04\n",
      " 1.84292779e-04 1.82215282e-04 1.76851503e-04 1.67432054e-04\n",
      " 1.55031768e-04 1.49714912e-04 1.45086113e-04 1.38550455e-04\n",
      " 1.34008710e-04 1.27184891e-04 1.25632463e-04 1.10141158e-04\n",
      " 1.05873280e-04 9.76394338e-05 9.41029356e-05 9.09387024e-05\n",
      " 8.39370890e-05 8.36129851e-05 7.64583554e-05 7.30934311e-05\n",
      " 7.14646914e-05 6.97822714e-05 6.77629239e-05 6.72443589e-05\n",
      " 6.55389347e-05 6.39086485e-05 6.11830168e-05 6.04623911e-05\n",
      " 5.79986159e-05 5.68220496e-05 5.64484284e-05 5.41679273e-05\n",
      " 5.20628945e-05 5.18488312e-05 4.94602252e-05 4.82390000e-05\n",
      " 4.67762166e-05 4.47118446e-05 4.22660643e-05 3.87908448e-05\n",
      " 3.74711921e-05 3.42672825e-05 3.29163809e-05 3.27858615e-05\n",
      " 3.13461967e-05 3.05737590e-05 2.98149066e-05 2.84360747e-05\n",
      " 2.77084554e-05 2.66526544e-05 2.54266083e-05 2.42808491e-05]\n",
      "(2000, 7, 180)\n",
      "(60,) (60, 240)\n",
      "singular values [1.00000000e+00 7.03006177e-01 1.89621334e-01 1.29731553e-01\n",
      " 4.84508292e-02 3.34297527e-02 1.10451160e-02 9.95840515e-03\n",
      " 7.11667304e-03 6.34630215e-03 1.85561117e-03 1.37826568e-03\n",
      " 1.27900815e-03 8.19337462e-04 4.62588113e-04 3.55371798e-04\n",
      " 2.77220196e-04 2.52065540e-04 6.44628937e-05 3.96493032e-05\n",
      " 3.77999088e-05 2.38295483e-05 2.34699867e-05 1.65581632e-05\n",
      " 0.00000000e+00 0.00000000e+00 0.00000000e+00 0.00000000e+00\n",
      " 0.00000000e+00 0.00000000e+00]\n",
      "(2000, 1, 30)\n"
     ]
    }
   ],
   "source": [
    "rho3i_pca, rho3i_vh_blocks, rho3i_eva_blocks = compute_rhoi_pca(rho3i, npca=[80, 180, 200, 100, 120, 120, 180,  30])"
   ]
  },
  {
   "cell_type": "code",
   "execution_count": 117,
   "id": "bde52a56",
   "metadata": {
    "ExecuteTime": {
     "end_time": "2023-01-26T16:08:48.468269Z",
     "start_time": "2023-01-26T16:08:47.673264Z"
    }
   },
   "outputs": [
    {
     "data": {
      "text/plain": [
       "<matplotlib.legend.Legend at 0x7f19a6281c40>"
      ]
     },
     "execution_count": 117,
     "metadata": {},
     "output_type": "execute_result"
    },
    {
     "data": {
      "image/png": "[encoded data removed]",
      "text/plain": [
       "<Figure size 432x288 with 1 Axes>"
      ]
     },
     "metadata": {
      "needs_background": "light"
     },
     "output_type": "display_data"
    }
   ],
   "source": [
    "for i in range(len(rho3i_eva_blocks)):\n",
    "    plt.loglog(rho3i_eva_blocks[i]*1e3, label = (rho3i.keys[i][\"spherical_harmonics_l\"],rho3i.keys[i][\"inversion_sigma\"] ))\n",
    "#     plt.loglog(rho2i_eva_blocks[1]*1e3,'r--')\n",
    "#     plt.loglog(rho2i_eva_blocks[2]*1e3,'r:')\n",
    "plt.legend()"
   ]
  },
  {
   "cell_type": "code",
   "execution_count": 118,
   "id": "9be4e3eb",
   "metadata": {
    "ExecuteTime": {
     "end_time": "2023-01-26T16:09:05.366488Z",
     "start_time": "2023-01-26T16:08:48.469649Z"
    }
   },
   "outputs": [],
   "source": [
    "rho4i = cg_increment(rho3i_pca, rho1i, clebsch_gordan=cg, lcut=3, other_keys_match=[\"species_center\"])"
   ]
  },
  {
   "cell_type": "code",
   "execution_count": null,
   "id": "835aeb8f",
   "metadata": {
    "ExecuteTime": {
     "start_time": "2023-01-26T18:06:09.670Z"
    },
    "scrolled": true
   },
   "outputs": [
    {
     "name": "stdout",
     "output_type": "stream",
     "text": [
      "(300,) (300, 2240)\n",
      "singular values [1.00000000e+00 2.52432650e-01 2.13904048e-01 1.31502025e-01\n",
      " 8.97756311e-02 5.82127251e-02 4.62641421e-02 4.20839442e-02\n",
      " 3.42072324e-02 2.97060036e-02 2.83147987e-02 2.63908872e-02\n",
      " 2.00373921e-02 1.61474359e-02 1.51388526e-02 1.34168715e-02\n",
      " 1.16254152e-02 1.05109409e-02 9.77432999e-03 9.17260188e-03\n",
      " 8.97553938e-03 8.05073727e-03 7.66850688e-03 7.60297884e-03\n",
      " 7.22385921e-03 6.48840143e-03 6.29325181e-03 5.99470501e-03\n",
      " 5.68559914e-03 5.48318354e-03 5.17111818e-03 5.00025348e-03\n",
      " 4.86638725e-03 4.78674637e-03 4.55777944e-03 4.26497260e-03\n",
      " 3.76621437e-03 3.64012900e-03 3.38899756e-03 3.34314674e-03\n",
      " 3.13972552e-03 3.01221955e-03 2.83199759e-03 2.60276229e-03\n",
      " 2.48262699e-03 2.28245676e-03 2.24947189e-03 2.05564107e-03\n",
      " 1.99929699e-03 1.87164209e-03 1.82619862e-03 1.73195319e-03\n",
      " 1.60744427e-03 1.53702778e-03 1.47398461e-03 1.45976381e-03\n",
      " 1.41466226e-03 1.30354395e-03 1.27796911e-03 1.24353549e-03\n",
      " 1.14549519e-03 1.10842753e-03 1.04320812e-03 1.00862099e-03\n",
      " 9.77698751e-04 9.31681622e-04 8.93940612e-04 8.64359515e-04\n",
      " 7.99816189e-04 7.70617921e-04 7.55580672e-04 7.30566310e-04\n",
      " 6.95053062e-04 6.52915742e-04 6.14641553e-04 5.97471974e-04\n",
      " 5.84624332e-04 5.58554014e-04 5.42399048e-04 5.25610549e-04\n",
      " 4.82457815e-04 4.68068515e-04 4.46857059e-04 4.42591962e-04\n",
      " 4.31518054e-04 4.18722756e-04 3.97262689e-04 3.86489783e-04\n",
      " 3.78977129e-04 3.68898891e-04 3.51519601e-04 3.34684056e-04\n",
      " 3.24649624e-04 3.09549112e-04 3.06248523e-04 2.98304687e-04\n",
      " 2.92447029e-04 2.79513673e-04 2.61553956e-04 2.51923617e-04\n",
      " 2.40590029e-04 2.35096099e-04 2.22954820e-04 2.18843389e-04\n",
      " 2.08256651e-04 2.00967743e-04 1.92346079e-04 1.78289677e-04\n",
      " 1.72889714e-04 1.67919343e-04 1.61080981e-04 1.56477078e-04\n",
      " 1.50255450e-04 1.44136914e-04 1.39331655e-04 1.33899186e-04\n",
      " 1.30016115e-04 1.27277102e-04 1.26196022e-04 1.15806774e-04\n",
      " 1.13313462e-04 1.09929706e-04 1.06494285e-04 1.02438033e-04\n",
      " 1.01434964e-04 9.73409197e-05 9.49733184e-05 9.15193638e-05\n",
      " 8.77765384e-05 8.49476752e-05 8.04665640e-05 7.73736216e-05\n",
      " 7.69152246e-05 7.29273160e-05 7.08625431e-05 7.03921574e-05\n",
      " 6.68096836e-05 6.54271321e-05 6.25006203e-05 6.18889347e-05\n",
      " 6.04645749e-05 5.86630766e-05 5.69413618e-05 5.52628304e-05\n",
      " 5.31710760e-05 5.19770702e-05 4.99013856e-05 4.98376463e-05\n",
      " 4.64746013e-05 4.58685055e-05]\n",
      "(2000, 1, 150)\n",
      "(600,) (600, 3520)\n",
      "singular values [1.00000000e+00 3.18035145e-01 2.50713081e-01 2.37133943e-01\n",
      " 1.95827670e-01 1.60781851e-01 1.25163345e-01 1.18999151e-01\n",
      " 1.09308113e-01 9.26380125e-02 8.66824787e-02 7.51891102e-02\n",
      " 7.33229016e-02 6.98198652e-02 6.01362946e-02 5.27749027e-02\n",
      " 4.91630439e-02 4.83815311e-02 4.75453633e-02 4.50962020e-02\n",
      " 4.24175413e-02 4.12879273e-02 3.97571235e-02 3.82106270e-02\n",
      " 3.53203106e-02 3.24941864e-02 3.15270410e-02 2.94527638e-02\n",
      " 2.83890862e-02 2.74086204e-02 2.58598065e-02 2.51535727e-02\n",
      " 2.42584302e-02 2.35856228e-02 2.34149322e-02 2.31309075e-02\n",
      " 2.24964369e-02 2.15343318e-02 2.12456244e-02 2.02815001e-02\n",
      " 1.93271343e-02 1.89422990e-02 1.84229150e-02 1.76245035e-02\n",
      " 1.66075292e-02 1.63007626e-02 1.57776894e-02 1.52282070e-02\n",
      " 1.47500860e-02 1.40121607e-02 1.38436929e-02 1.33687327e-02\n",
      " 1.28239763e-02 1.24587154e-02 1.21195832e-02 1.14523192e-02\n",
      " 1.10816269e-02 1.07122348e-02 1.06619703e-02 1.05702514e-02\n",
      " 9.90312577e-03 9.73205646e-03 9.59783612e-03 9.16895248e-03\n",
      " 8.62235292e-03 8.49081724e-03 8.34664324e-03 8.14477343e-03\n",
      " 7.83595715e-03 7.50687065e-03 6.93267226e-03 6.89459649e-03\n",
      " 6.80586517e-03 6.58195048e-03 6.53640494e-03 6.40944843e-03\n",
      " 6.33035268e-03 6.24306932e-03 6.06886726e-03 5.93186575e-03\n",
      " 5.79115674e-03 5.71921831e-03 5.56571842e-03 5.39090545e-03\n",
      " 5.28588607e-03 5.27027276e-03 5.18838364e-03 5.11863696e-03\n",
      " 5.05497964e-03 4.83157598e-03 4.82011131e-03 4.61270705e-03\n",
      " 4.59567989e-03 4.51516427e-03 4.41249690e-03 4.31287381e-03\n",
      " 4.15625594e-03 4.04601227e-03 4.00394251e-03 3.94475628e-03\n",
      " 3.86060436e-03 3.82537766e-03 3.73767169e-03 3.65586361e-03\n",
      " 3.52741279e-03 3.38647581e-03 3.34387657e-03 3.27276609e-03\n",
      " 3.19994933e-03 3.12277125e-03 3.10424786e-03 3.05427528e-03\n",
      " 2.90340027e-03 2.86128207e-03 2.78755542e-03 2.74438506e-03\n",
      " 2.70169475e-03 2.62637339e-03 2.58643827e-03 2.55846321e-03\n",
      " 2.48683779e-03 2.45457458e-03 2.40817882e-03 2.38249996e-03\n",
      " 2.30708713e-03 2.26327148e-03 2.21695699e-03 2.17887734e-03\n",
      " 2.13991743e-03 2.10547623e-03 2.03731822e-03 1.96712006e-03\n",
      " 1.94700633e-03 1.90695197e-03 1.85429692e-03 1.83099815e-03\n",
      " 1.81135686e-03 1.77577880e-03 1.73891704e-03 1.68783400e-03\n",
      " 1.65738275e-03 1.65255357e-03 1.60255722e-03 1.56211051e-03\n",
      " 1.54369928e-03 1.52981175e-03 1.48556454e-03 1.46632062e-03\n",
      " 1.45509005e-03 1.42970306e-03 1.40705903e-03 1.37727004e-03\n",
      " 1.37565618e-03 1.34507613e-03 1.33812558e-03 1.31070263e-03\n",
      " 1.29795357e-03 1.26258897e-03 1.25685615e-03 1.23170292e-03\n",
      " 1.20467864e-03 1.18595535e-03 1.16086370e-03 1.14556889e-03\n",
      " 1.11954138e-03 1.10854572e-03 1.08470638e-03 1.06264584e-03\n",
      " 1.05548150e-03 1.04430837e-03 1.02201542e-03 1.00100953e-03\n",
      " 9.97662501e-04 9.80795056e-04 9.70270355e-04 9.55789207e-04\n",
      " 9.43350167e-04 9.17068758e-04 9.00511505e-04 8.91651630e-04\n",
      " 8.75815564e-04 8.54176208e-04 8.49348815e-04 8.35465850e-04\n",
      " 8.16651746e-04 8.04243730e-04 7.88677947e-04 7.62630478e-04\n",
      " 7.47620262e-04 7.42630530e-04 7.31621474e-04 7.28730333e-04\n",
      " 7.27664890e-04 7.16203900e-04 6.92144211e-04 6.88308232e-04\n",
      " 6.82950374e-04 6.76300777e-04 6.59121275e-04 6.49716211e-04\n",
      " 6.40067408e-04 6.34705972e-04 6.29384179e-04 6.23242309e-04\n",
      " 6.15990250e-04 5.97767340e-04 5.91106404e-04 5.88494272e-04\n",
      " 5.86464897e-04 5.75556356e-04 5.47790877e-04 5.38844268e-04\n",
      " 5.35719766e-04 5.32423498e-04 5.18323192e-04 5.03070740e-04\n",
      " 4.99414560e-04 4.90836340e-04 4.85554910e-04 4.76382757e-04\n",
      " 4.69312582e-04 4.58205268e-04 4.46594673e-04 4.36492444e-04\n",
      " 4.34581022e-04 4.30393915e-04 4.23049881e-04 4.08517427e-04\n",
      " 4.02723448e-04 3.99554620e-04 3.94690505e-04 3.82740086e-04\n",
      " 3.77323564e-04 3.75211635e-04 3.70818081e-04 3.62797529e-04\n",
      " 3.62163313e-04 3.54152643e-04 3.48489260e-04 3.45379788e-04\n",
      " 3.39660133e-04 3.34649645e-04 3.28086630e-04 3.20579259e-04\n",
      " 3.16586323e-04 3.09234208e-04 3.06948366e-04 3.03911763e-04\n",
      " 3.01124290e-04 2.95102724e-04 2.88538755e-04 2.85021755e-04\n",
      " 2.83613586e-04 2.78209285e-04 2.76630456e-04 2.72938548e-04\n",
      " 2.70046493e-04 2.61883032e-04 2.58346969e-04 2.55385990e-04\n",
      " 2.53100528e-04 2.50812275e-04 2.48125465e-04 2.43324253e-04\n",
      " 2.36292187e-04 2.34983325e-04 2.33576851e-04 2.28174984e-04\n",
      " 2.26426371e-04 2.23616494e-04 2.20596758e-04 2.16913708e-04\n",
      " 2.12798330e-04 2.11398944e-04 2.07734260e-04 2.04426234e-04\n",
      " 2.00783575e-04 1.98627252e-04 1.97689875e-04 1.91268119e-04\n",
      " 1.89856625e-04 1.89078974e-04 1.85564587e-04 1.85424194e-04\n",
      " 1.81826485e-04 1.78554428e-04 1.77342503e-04 1.74492392e-04\n",
      " 1.72715109e-04 1.69987063e-04 1.68881290e-04 1.66292839e-04\n",
      " 1.63741521e-04 1.60983069e-04 1.59707700e-04 1.55873740e-04\n",
      " 1.55401424e-04 1.53726776e-04 1.51675101e-04 1.50055827e-04]\n",
      "(2000, 3, 300)\n",
      "(1000,) (1000, 3920)\n",
      "singular values [1.00000000e+00 3.72619850e-01 3.58016451e-01 2.54734924e-01\n",
      " 2.09992341e-01 1.74746882e-01 1.58833925e-01 1.07357199e-01\n",
      " 9.62183405e-02 9.45629533e-02 9.02025769e-02 7.90814293e-02\n",
      " 6.72013502e-02 6.29123089e-02 5.84592077e-02 5.51166294e-02\n",
      " 5.25789235e-02 5.13395398e-02 4.91188348e-02 4.64597456e-02\n",
      " 4.50289582e-02 4.37230067e-02 4.27566759e-02 4.07835159e-02\n",
      " 3.61757155e-02 3.45029733e-02 3.33100898e-02 3.22547092e-02\n",
      " 3.09880205e-02 2.96358399e-02 2.86097025e-02 2.75204459e-02\n",
      " 2.58735544e-02 2.54032828e-02 2.44709581e-02 2.39269766e-02\n",
      " 2.24909702e-02 2.18400298e-02 2.12121163e-02 1.97669549e-02\n",
      " 1.94509728e-02 1.89416870e-02 1.82506887e-02 1.77274359e-02\n",
      " 1.76680092e-02 1.73838312e-02 1.71000739e-02 1.68298754e-02\n",
      " 1.64617555e-02 1.61766654e-02 1.53264095e-02 1.52156547e-02\n",
      " 1.47453200e-02 1.43530559e-02 1.40845526e-02 1.37825603e-02\n",
      " 1.37140295e-02 1.34580844e-02 1.32924687e-02 1.26062409e-02\n",
      " 1.22920311e-02 1.20666631e-02 1.19794401e-02 1.17665020e-02\n",
      " 1.15884127e-02 1.12716242e-02 1.10330746e-02 1.06716485e-02\n",
      " 1.05403462e-02 1.04014142e-02 9.95426461e-03 9.52303851e-03\n",
      " 9.42197284e-03 9.31285884e-03 9.08898180e-03 9.03307894e-03\n",
      " 8.76856629e-03 8.59505271e-03 8.53008014e-03 8.23931701e-03\n",
      " 8.18624044e-03 8.03793001e-03 7.83598263e-03 7.65838572e-03\n",
      " 7.45792367e-03 7.19116318e-03 7.13236753e-03 6.97960291e-03\n",
      " 6.85001479e-03 6.55596910e-03 6.49540501e-03 6.38104126e-03\n",
      " 6.20700439e-03 6.16699921e-03 6.02183735e-03 5.77425825e-03\n",
      " 5.62719086e-03 5.49351962e-03 5.31232633e-03 5.24424705e-03\n",
      " 5.18145089e-03 4.96191135e-03 4.80862041e-03 4.73829621e-03\n",
      " 4.63173314e-03 4.61910508e-03 4.57379881e-03 4.48862928e-03\n",
      " 4.41831659e-03 4.33129025e-03 4.28068094e-03 4.23159214e-03\n",
      " 4.17091725e-03 4.15421522e-03 4.13266600e-03 3.99066591e-03\n",
      " 3.94989263e-03 3.88517360e-03 3.77189635e-03 3.67823802e-03\n",
      " 3.59270053e-03 3.57151595e-03 3.53072026e-03 3.47276939e-03\n",
      " 3.42117932e-03 3.36463292e-03 3.30608447e-03 3.16231854e-03\n",
      " 3.14553842e-03 3.12541592e-03 3.05511438e-03 2.97954428e-03\n",
      " 2.94560477e-03 2.89552100e-03 2.83286591e-03 2.81402038e-03\n",
      " 2.79063138e-03 2.72606055e-03 2.72047929e-03 2.67878489e-03\n",
      " 2.61926815e-03 2.58529111e-03 2.54395828e-03 2.51998328e-03\n",
      " 2.47798756e-03 2.44902393e-03 2.40285116e-03 2.37367324e-03\n",
      " 2.34048122e-03 2.32021182e-03 2.29552012e-03 2.28869702e-03\n",
      " 2.26075682e-03 2.23623570e-03 2.18518489e-03 2.17101148e-03\n",
      " 2.13479960e-03 2.09816872e-03 2.05827248e-03 2.04904375e-03\n",
      " 2.01046512e-03 1.98826682e-03 1.96445505e-03 1.91535660e-03\n",
      " 1.88417672e-03 1.86827978e-03 1.84768402e-03 1.81657456e-03\n",
      " 1.75220586e-03 1.71825953e-03 1.71528994e-03 1.67529154e-03\n",
      " 1.65430107e-03 1.64166057e-03 1.62580916e-03 1.60257455e-03\n",
      " 1.58862430e-03 1.57608397e-03 1.52681443e-03 1.51854828e-03\n",
      " 1.49965918e-03 1.48764319e-03 1.48516314e-03 1.44418266e-03\n",
      " 1.44230769e-03 1.40084345e-03 1.38658029e-03 1.37204784e-03\n",
      " 1.36244526e-03 1.34152760e-03 1.32407182e-03 1.28030507e-03\n",
      " 1.27150600e-03 1.26409520e-03 1.23758714e-03 1.21753874e-03\n",
      " 1.20457587e-03 1.19148391e-03 1.18124662e-03 1.16175778e-03\n",
      " 1.14984900e-03 1.13961360e-03 1.11120089e-03 1.10358288e-03\n",
      " 1.09522759e-03 1.07970244e-03 1.07457662e-03 1.06521010e-03\n",
      " 1.05158861e-03 1.03920776e-03 1.01912897e-03 1.00305942e-03\n",
      " 9.93895211e-04 9.87653960e-04 9.68357304e-04 9.62753862e-04\n",
      " 9.58178885e-04 9.39649707e-04 9.26818189e-04 9.14427581e-04\n",
      " 9.04871836e-04 8.94131443e-04 8.78898576e-04 8.71617207e-04\n",
      " 8.64918873e-04 8.50336408e-04 8.33965145e-04 8.27336663e-04\n",
      " 8.19413844e-04 8.11799804e-04 8.00119944e-04 7.93548895e-04\n",
      " 7.84068426e-04 7.81373014e-04 7.59321588e-04 7.49232166e-04\n",
      " 7.46672715e-04 7.41303536e-04 7.30808369e-04 7.28736583e-04\n",
      " 7.15929349e-04 7.07651694e-04 7.03622717e-04 6.95069211e-04\n",
      " 6.91455788e-04 6.81096187e-04 6.73211304e-04 6.69971661e-04\n",
      " 6.64674510e-04 6.60201863e-04 6.52893385e-04 6.40350986e-04\n",
      " 6.35391596e-04 6.27143684e-04 6.19256466e-04 6.17690185e-04\n",
      " 6.10679946e-04 5.98613148e-04 5.93791812e-04 5.91712847e-04\n",
      " 5.79191916e-04 5.73929588e-04 5.59883875e-04 5.52395083e-04\n",
      " 5.43549162e-04 5.37493708e-04 5.29428050e-04 5.23418700e-04\n",
      " 5.22391915e-04 5.09250163e-04 5.03897671e-04 5.02895318e-04\n",
      " 4.91864487e-04 4.90343610e-04 4.84868106e-04 4.81891425e-04\n",
      " 4.75463796e-04 4.68289982e-04 4.65711416e-04 4.54255075e-04\n",
      " 4.52125302e-04 4.49411858e-04 4.45227758e-04 4.39139485e-04\n",
      " 4.37131629e-04 4.34777605e-04 4.30847946e-04 4.27637483e-04\n",
      " 4.20432726e-04 4.18169090e-04 4.12377349e-04 4.09827142e-04\n",
      " 4.03321914e-04 4.01872147e-04 3.95519575e-04 3.94423222e-04\n",
      " 3.90938141e-04 3.86595590e-04 3.77928573e-04 3.73658223e-04\n",
      " 3.70698645e-04 3.65289687e-04 3.61820955e-04 3.59079651e-04\n",
      " 3.56076481e-04 3.50186857e-04 3.48141496e-04 3.44412099e-04\n",
      " 3.34541061e-04 3.30320262e-04 3.28655371e-04 3.25597531e-04\n",
      " 3.23851938e-04 3.18805613e-04 3.13734963e-04 3.10179902e-04\n",
      " 3.07860866e-04 3.04987132e-04 3.04271028e-04 3.00272336e-04\n",
      " 2.97040663e-04 2.85769207e-04 2.83374607e-04 2.82362010e-04\n",
      " 2.80528767e-04 2.76070335e-04 2.74654264e-04 2.71017971e-04\n",
      " 2.68736492e-04 2.62691909e-04 2.61925024e-04 2.58730847e-04\n",
      " 2.54692476e-04 2.50946656e-04 2.50302143e-04 2.49658998e-04\n",
      " 2.44909130e-04 2.42886908e-04 2.41190301e-04 2.37796689e-04\n",
      " 2.33540337e-04 2.32225616e-04 2.29932072e-04 2.26607963e-04\n",
      " 2.25930403e-04 2.21583083e-04 2.19354585e-04 2.17755428e-04\n",
      " 2.15596294e-04 2.12347924e-04 2.08046568e-04 2.06866925e-04\n",
      " 2.04357985e-04 2.03259863e-04 2.02252553e-04 1.98821472e-04\n",
      " 1.96230220e-04 1.94270776e-04 1.93896705e-04 1.91495101e-04\n",
      " 1.88674219e-04 1.85602418e-04 1.84164339e-04 1.82011082e-04\n",
      " 1.80909486e-04 1.80156030e-04 1.76210429e-04 1.73823759e-04\n",
      " 1.72908195e-04 1.72771334e-04 1.71359457e-04 1.70139129e-04\n",
      " 1.68008183e-04 1.66972827e-04 1.64791243e-04 1.62918572e-04\n",
      " 1.62365521e-04 1.61565878e-04 1.59353623e-04 1.57482085e-04\n",
      " 1.55951777e-04 1.52952737e-04 1.50580787e-04 1.49540205e-04\n",
      " 1.47234735e-04 1.45556893e-04 1.43751816e-04 1.42287538e-04\n",
      " 1.41471218e-04 1.40502424e-04 1.38200789e-04 1.37108932e-04\n",
      " 1.34392862e-04 1.33479080e-04 1.32879385e-04 1.31167165e-04\n",
      " 1.30662285e-04 1.29763872e-04 1.28161465e-04 1.26791872e-04\n",
      " 1.25670031e-04 1.24782214e-04 1.23470025e-04 1.22620547e-04\n",
      " 1.20536371e-04 1.19762057e-04 1.19071463e-04 1.18636494e-04\n",
      " 1.18452301e-04 1.16648444e-04 1.15211213e-04 1.13407111e-04\n",
      " 1.12660827e-04 1.12180989e-04 1.11083225e-04 1.09775845e-04\n",
      " 1.09374889e-04 1.08118060e-04 1.07525043e-04 1.05314036e-04\n",
      " 1.03917489e-04 1.03342172e-04 1.02669602e-04 1.01483993e-04\n",
      " 1.00812521e-04 1.00222091e-04 9.95749302e-05 9.85698969e-05\n",
      " 9.79654095e-05 9.67789732e-05 9.55822162e-05 9.49137642e-05\n",
      " 9.36646052e-05 9.24884699e-05 9.23106256e-05 9.13929291e-05\n",
      " 9.09127833e-05 9.00266637e-05 8.96227558e-05 8.87864723e-05\n",
      " 8.72177656e-05 8.62685559e-05 8.57232063e-05 8.43090757e-05\n",
      " 8.39540476e-05 8.35449047e-05 8.32279474e-05 8.22626355e-05\n",
      " 8.18768159e-05 8.11798021e-05 8.02895274e-05 7.98657128e-05\n",
      " 7.84346242e-05 7.76330629e-05 7.67111167e-05 7.63241246e-05\n",
      " 7.58747297e-05 7.42649141e-05 7.37539031e-05 7.34754994e-05\n",
      " 7.28027020e-05 7.23076525e-05 7.19144914e-05 7.17570119e-05\n",
      " 7.11673836e-05 6.98938892e-05 6.94685013e-05 6.88359968e-05\n",
      " 6.80727583e-05 6.72778413e-05 6.67139117e-05 6.63163323e-05\n",
      " 6.61199680e-05 6.55368611e-05 6.50138221e-05 6.42357110e-05\n",
      " 6.35424545e-05 6.35214169e-05 6.23347188e-05 6.19563657e-05\n",
      " 6.14329301e-05 6.07830246e-05 6.02237702e-05 5.96054079e-05\n",
      " 5.91901441e-05 5.85548514e-05 5.84073413e-05 5.75186944e-05\n",
      " 5.70032873e-05 5.67213860e-05 5.59208035e-05 5.56502843e-05\n",
      " 5.51599361e-05 5.44488245e-05 5.42115579e-05 5.39746162e-05\n",
      " 5.30647128e-05 5.25925685e-05 5.16930059e-05 5.14840530e-05]\n"
     ]
    },
    {
     "name": "stdout",
     "output_type": "stream",
     "text": [
      "(2000, 5, 500)\n",
      "(1000,) (1000, 3520)\n",
      "singular values [1.00000000e+00 2.62800386e-01 2.40381548e-01 1.90612985e-01\n",
      " 1.68044374e-01 1.07761241e-01 9.26144765e-02 8.89426056e-02\n",
      " 8.15693741e-02 7.62781953e-02 6.37411734e-02 6.09505330e-02\n",
      " 5.58639663e-02 5.02698037e-02 4.93685017e-02 4.86048741e-02\n",
      " 4.38927599e-02 4.35274816e-02 4.17110475e-02 3.92472560e-02\n",
      " 3.54629446e-02 3.40973628e-02 3.21338861e-02 3.04639880e-02\n",
      " 3.01360796e-02 2.84970968e-02 2.72048759e-02 2.65051618e-02\n",
      " 2.61510886e-02 2.46018530e-02 2.43535274e-02 2.28809619e-02\n",
      " 2.11779839e-02 2.07068007e-02 2.04260634e-02 1.96212369e-02\n",
      " 1.89085210e-02 1.84933129e-02 1.83245426e-02 1.79832325e-02\n",
      " 1.76972222e-02 1.71152216e-02 1.68608210e-02 1.65849509e-02\n",
      " 1.61943042e-02 1.57392924e-02 1.50546871e-02 1.47456707e-02\n",
      " 1.42023042e-02 1.38343172e-02 1.32681538e-02 1.30666871e-02\n",
      " 1.21131356e-02 1.18526589e-02 1.17760702e-02 1.15471960e-02\n",
      " 1.13596076e-02 1.13057641e-02 1.10501526e-02 1.08068743e-02\n",
      " 1.03429710e-02 1.00680687e-02 9.89740400e-03 9.76436515e-03\n",
      " 9.65277156e-03 9.53479319e-03 9.34980614e-03 8.96828569e-03\n",
      " 8.79239952e-03 8.66725509e-03 8.30445695e-03 8.14701511e-03\n",
      " 7.93689104e-03 7.87386387e-03 7.82158910e-03 7.66246724e-03\n",
      " 7.47059059e-03 7.22547873e-03 7.09684906e-03 6.93797782e-03\n",
      " 6.90089501e-03 6.70152129e-03 6.35446456e-03 6.21520624e-03\n",
      " 6.01898340e-03 5.93604305e-03 5.86212379e-03 5.83046532e-03\n",
      " 5.66246780e-03 5.53744640e-03 5.34029210e-03 5.27292480e-03\n",
      " 5.18389166e-03 5.09539574e-03 5.05218348e-03 4.92445460e-03\n",
      " 4.83533080e-03 4.74912820e-03 4.72719773e-03 4.64288395e-03\n",
      " 4.51396981e-03 4.44000442e-03 4.40798808e-03 4.29848964e-03\n",
      " 4.22233963e-03 4.15161015e-03 4.07635962e-03 4.02978930e-03\n",
      " 4.00315722e-03 3.89741847e-03 3.82377194e-03 3.77582214e-03\n",
      " 3.70183404e-03 3.63895547e-03 3.52201527e-03 3.47448984e-03\n",
      " 3.39460392e-03 3.35884247e-03 3.31438940e-03 3.27220338e-03\n",
      " 3.22761295e-03 3.18964634e-03 3.18164606e-03 3.10528797e-03\n",
      " 3.06702939e-03 3.02229563e-03 2.96924085e-03 2.90613634e-03\n",
      " 2.85006943e-03 2.79778824e-03 2.78714678e-03 2.74935555e-03\n",
      " 2.71396314e-03 2.63723304e-03 2.58838793e-03 2.55800368e-03\n",
      " 2.51043302e-03 2.48609580e-03 2.41231974e-03 2.39496099e-03\n",
      " 2.38589091e-03 2.33644754e-03 2.31432898e-03 2.28389584e-03\n",
      " 2.25107516e-03 2.21971864e-03 2.21587469e-03 2.17738014e-03\n",
      " 2.17332280e-03 2.11436274e-03 2.08132699e-03 2.04989298e-03\n",
      " 2.03820197e-03 2.01496420e-03 1.98561861e-03 1.98065594e-03\n",
      " 1.94624738e-03 1.92743307e-03 1.92676216e-03 1.87763878e-03\n",
      " 1.87130951e-03 1.82221943e-03 1.79446577e-03 1.76538968e-03\n",
      " 1.74573169e-03 1.73511291e-03 1.71141043e-03 1.69716224e-03\n",
      " 1.66341536e-03 1.65772677e-03 1.61891515e-03 1.60738391e-03\n",
      " 1.56912664e-03 1.56470681e-03 1.53845198e-03 1.52202390e-03\n",
      " 1.50895155e-03 1.46667533e-03 1.45949251e-03 1.44757156e-03\n",
      " 1.42215328e-03 1.40115311e-03 1.39526795e-03 1.38270529e-03\n",
      " 1.36083310e-03 1.35443197e-03 1.33841536e-03 1.31408193e-03\n",
      " 1.30693357e-03 1.30035732e-03 1.28492487e-03 1.27479784e-03\n",
      " 1.26283069e-03 1.23304176e-03 1.22153944e-03 1.20946193e-03\n",
      " 1.18984192e-03 1.16759926e-03 1.15276876e-03 1.14523504e-03\n",
      " 1.14489326e-03 1.12528095e-03 1.11874803e-03 1.10845763e-03\n",
      " 1.07393984e-03 1.06868785e-03 1.05581268e-03 1.04320783e-03\n",
      " 1.03185205e-03 1.02159881e-03 1.01477419e-03 1.00473447e-03\n",
      " 9.99648932e-04 9.78462179e-04 9.73995078e-04 9.64984448e-04\n",
      " 9.46720502e-04 9.34055881e-04 9.30616425e-04 9.24881478e-04\n",
      " 9.06510070e-04 8.97328090e-04 8.78410496e-04 8.75347729e-04\n",
      " 8.71221993e-04 8.53894102e-04 8.44569241e-04 8.41069347e-04\n",
      " 8.34957437e-04 8.21787868e-04 8.14753389e-04 8.08662684e-04\n",
      " 7.94332382e-04 7.83303379e-04 7.77046542e-04 7.64796520e-04\n",
      " 7.61570474e-04 7.54518069e-04 7.50040803e-04 7.37074373e-04\n",
      " 7.27932351e-04 7.22070910e-04 7.16697154e-04 7.05999026e-04\n",
      " 6.96000913e-04 6.85413932e-04 6.77340145e-04 6.70731956e-04\n",
      " 6.67523509e-04 6.57044514e-04 6.53986878e-04 6.48777417e-04\n",
      " 6.45366328e-04 6.39731446e-04 6.27925806e-04 6.27056823e-04\n",
      " 6.23247702e-04 6.16978754e-04 6.09925351e-04 5.95104423e-04\n",
      " 5.92858257e-04 5.90855636e-04 5.85470227e-04 5.80813013e-04\n",
      " 5.78364148e-04 5.69918279e-04 5.64330232e-04 5.60049424e-04\n",
      " 5.49935250e-04 5.47838237e-04 5.41527795e-04 5.37061891e-04\n",
      " 5.32435839e-04 5.27670703e-04 5.23740685e-04 5.18111508e-04\n",
      " 5.10264296e-04 5.04890427e-04 5.02098410e-04 4.94217214e-04\n",
      " 4.93298356e-04 4.89216616e-04 4.78223099e-04 4.77607630e-04\n",
      " 4.72214187e-04 4.68970538e-04 4.66284560e-04 4.61047829e-04\n",
      " 4.60428220e-04 4.51056163e-04 4.42665696e-04 4.37772944e-04\n",
      " 4.36578320e-04 4.31898710e-04 4.28121263e-04 4.25657775e-04\n",
      " 4.20820655e-04 4.16663972e-04 4.12846657e-04 4.08671732e-04\n",
      " 4.05241770e-04 4.04198676e-04 4.00757769e-04 3.98485648e-04\n",
      " 3.93239623e-04 3.88436593e-04 3.83574368e-04 3.82381665e-04\n",
      " 3.79476476e-04 3.70443689e-04 3.65527802e-04 3.63051029e-04\n",
      " 3.59999604e-04 3.56683772e-04 3.50914275e-04 3.45565590e-04\n",
      " 3.44840870e-04 3.39572223e-04 3.35075080e-04 3.33089396e-04\n",
      " 3.28801512e-04 3.26758169e-04 3.21348871e-04 3.18064863e-04\n",
      " 3.15208859e-04 3.14090999e-04 3.05848587e-04 3.04029829e-04\n",
      " 3.03469564e-04 2.99730804e-04 2.96889210e-04 2.95300239e-04\n",
      " 2.91304930e-04 2.88662634e-04 2.84109674e-04 2.82667811e-04\n",
      " 2.80736941e-04 2.74960312e-04 2.73966472e-04 2.73174745e-04\n",
      " 2.67644484e-04 2.65159331e-04 2.62006104e-04 2.59659057e-04\n",
      " 2.58028398e-04 2.56705893e-04 2.54445965e-04 2.50843190e-04\n",
      " 2.46670973e-04 2.45369925e-04 2.42047173e-04 2.39049238e-04\n",
      " 2.37266576e-04 2.36172915e-04 2.33717765e-04 2.30217813e-04\n",
      " 2.27284456e-04 2.24527976e-04 2.23051341e-04 2.20612176e-04\n",
      " 2.19730220e-04 2.17829428e-04 2.15411273e-04 2.11568162e-04\n",
      " 2.10655300e-04 2.08487578e-04 2.06308268e-04 2.05596239e-04\n",
      " 2.01455377e-04 2.01342277e-04 1.98869923e-04 1.97087684e-04\n",
      " 1.95962863e-04 1.93151019e-04 1.92744969e-04 1.89562357e-04\n",
      " 1.88287818e-04 1.85915530e-04 1.84806135e-04 1.82494457e-04\n",
      " 1.81130794e-04 1.78787533e-04 1.75950898e-04 1.74951036e-04\n",
      " 1.72769710e-04 1.71405963e-04 1.70651507e-04 1.69496746e-04\n",
      " 1.68953100e-04 1.66489862e-04 1.65875519e-04 1.63216779e-04\n",
      " 1.62664176e-04 1.60310872e-04 1.58573602e-04 1.56746105e-04\n",
      " 1.56394756e-04 1.55125100e-04 1.52687654e-04 1.51263842e-04\n",
      " 1.50550477e-04 1.48805699e-04 1.48397695e-04 1.47916123e-04\n",
      " 1.45555892e-04 1.45278782e-04 1.43768124e-04 1.42763171e-04\n",
      " 1.42350738e-04 1.39279937e-04 1.38656394e-04 1.37835642e-04\n",
      " 1.36955913e-04 1.36011196e-04 1.35205792e-04 1.34134764e-04\n",
      " 1.32245348e-04 1.31799726e-04 1.30766620e-04 1.27984911e-04\n",
      " 1.27227283e-04 1.26230661e-04 1.25849318e-04 1.24423678e-04\n",
      " 1.22964863e-04 1.22126285e-04 1.20832608e-04 1.20743837e-04\n",
      " 1.18389187e-04 1.17591567e-04 1.16359304e-04 1.15862459e-04\n",
      " 1.15477015e-04 1.15001794e-04 1.13886336e-04 1.12775378e-04\n",
      " 1.12165534e-04 1.10530414e-04 1.10056626e-04 1.09792884e-04\n",
      " 1.08770766e-04 1.08179114e-04 1.07236639e-04 1.05807230e-04\n",
      " 1.04168115e-04 1.03411476e-04 1.02915061e-04 1.02488547e-04\n",
      " 1.01993056e-04 1.00539741e-04 9.99198847e-05 9.91735373e-05\n",
      " 9.86959269e-05 9.84550889e-05 9.81110657e-05 9.63473220e-05\n",
      " 9.62174429e-05 9.55379424e-05 9.45932861e-05 9.36681608e-05\n",
      " 9.32973023e-05 9.17578088e-05 9.16233835e-05 9.09870835e-05\n",
      " 9.05184672e-05 8.99590656e-05 8.97080996e-05 8.88227212e-05\n",
      " 8.86800817e-05 8.78796686e-05 8.73239751e-05 8.65043736e-05\n",
      " 8.57528459e-05 8.48241425e-05 8.43903635e-05 8.42960172e-05\n",
      " 8.28927398e-05 8.18805650e-05 8.18260989e-05 8.04277957e-05\n",
      " 8.01387843e-05 7.97005270e-05 7.92755070e-05 7.78429218e-05\n",
      " 7.75595174e-05 7.72184124e-05 7.68855156e-05 7.59398128e-05\n",
      " 7.49575440e-05 7.42717431e-05 7.37582750e-05 7.33363771e-05\n",
      " 7.28044102e-05 7.24932791e-05 7.15335159e-05 7.09786999e-05\n",
      " 7.06806415e-05 7.03460425e-05 6.98367670e-05 6.96991061e-05]\n",
      "(2000, 7, 500)\n",
      "(1000,) (1000, 3000)\n",
      "singular values [1.00000000e+00 7.17241865e-01 5.75453206e-01 4.82018980e-01\n",
      " 3.63345342e-01 3.42278637e-01 3.16093259e-01 2.81100760e-01\n",
      " 2.56112171e-01 2.54367838e-01 2.28490492e-01 2.14356450e-01\n",
      " 1.88768268e-01 1.81688741e-01 1.63227041e-01 1.57127202e-01\n",
      " 1.41379768e-01 1.35621483e-01 1.31416970e-01 1.20943210e-01\n",
      " 1.09705649e-01 1.03864281e-01 9.82648868e-02 9.60643119e-02\n",
      " 9.13113798e-02 8.58825831e-02 8.15269802e-02 7.07501439e-02\n",
      " 6.80928897e-02 6.51469725e-02 6.37162072e-02 6.14797913e-02\n",
      " 5.94329106e-02 5.81896425e-02 5.55658635e-02 5.35290965e-02\n",
      " 5.10265602e-02 4.97765660e-02 4.83527477e-02 4.56980914e-02\n",
      " 4.40910084e-02 4.26363907e-02 4.11669151e-02 3.93847904e-02\n",
      " 3.75671389e-02 3.58001783e-02 3.38669588e-02 3.27052797e-02\n",
      " 3.25479005e-02 3.17805141e-02 3.12795712e-02 2.94835573e-02\n",
      " 2.83492529e-02 2.64901119e-02 2.62342729e-02 2.56882646e-02\n",
      " 2.56254876e-02 2.47070561e-02 2.45658643e-02 2.39642852e-02\n",
      " 2.36590404e-02 2.20851095e-02 2.17806720e-02 2.17294385e-02\n",
      " 2.12190688e-02 2.02391208e-02 1.99042738e-02 1.94565924e-02\n",
      " 1.91013712e-02 1.85889359e-02 1.83283943e-02 1.80086143e-02\n",
      " 1.77977427e-02 1.64606402e-02 1.64207359e-02 1.57115925e-02\n",
      " 1.54612355e-02 1.45192051e-02 1.43456481e-02 1.38831261e-02\n",
      " 1.34779477e-02 1.29552102e-02 1.27731185e-02 1.23831519e-02\n",
      " 1.21359270e-02 1.20284913e-02 1.19404026e-02 1.15264157e-02\n",
      " 1.10226579e-02 1.07000389e-02 1.05042014e-02 1.02749447e-02\n",
      " 1.00592346e-02 9.88829502e-03 9.48875108e-03 9.11988716e-03\n",
      " 9.08961866e-03 9.01883115e-03 8.77421989e-03 8.71869377e-03\n",
      " 8.45882471e-03 8.37208492e-03 8.31220534e-03 8.02581702e-03\n",
      " 7.94822967e-03 7.70576460e-03 7.47696366e-03 7.39827501e-03\n",
      " 7.15164407e-03 7.07468357e-03 6.93499060e-03 6.71382102e-03\n",
      " 6.63745971e-03 6.53761607e-03 6.30487063e-03 6.28256955e-03\n",
      " 6.15097768e-03 6.00674995e-03 5.80031265e-03 5.75442896e-03\n",
      " 5.67006098e-03 5.62303094e-03 5.59144023e-03 5.38673395e-03\n",
      " 5.15189517e-03 5.10565090e-03 5.04563318e-03 4.91143945e-03\n",
      " 4.76747021e-03 4.73370063e-03 4.54807396e-03 4.46849973e-03\n",
      " 4.40662513e-03 4.39339616e-03 4.34338099e-03 4.24841365e-03\n",
      " 4.11859268e-03 4.00878050e-03 3.93801218e-03 3.74843277e-03\n",
      " 3.60284472e-03 3.55888956e-03 3.41763650e-03 3.35810452e-03\n",
      " 3.27078508e-03 3.19712688e-03 3.17328250e-03 3.06859034e-03\n",
      " 3.03711536e-03 2.97717657e-03 2.88093794e-03 2.82594749e-03\n",
      " 2.78784923e-03 2.73550991e-03 2.65254829e-03 2.61795357e-03\n",
      " 2.61220980e-03 2.57638242e-03 2.48554079e-03 2.44197822e-03\n",
      " 2.41112138e-03 2.34991966e-03 2.23989832e-03 2.20115743e-03\n",
      " 2.13753425e-03 2.11790343e-03 2.06658076e-03 2.02369769e-03\n",
      " 1.95665527e-03 1.94923003e-03 1.90749350e-03 1.89608411e-03\n",
      " 1.85826240e-03 1.82431124e-03 1.76981380e-03 1.73685268e-03\n",
      " 1.70896857e-03 1.67924006e-03 1.64448131e-03 1.61727573e-03\n",
      " 1.59835053e-03 1.57228779e-03 1.56538121e-03 1.49521845e-03\n",
      " 1.47921257e-03 1.43092759e-03 1.41606027e-03 1.39985532e-03\n",
      " 1.39301974e-03 1.36366120e-03 1.34791432e-03 1.33838258e-03\n",
      " 1.29870056e-03 1.28209737e-03 1.26342089e-03 1.24796431e-03\n",
      " 1.23093711e-03 1.20128845e-03 1.18913247e-03 1.14067735e-03\n",
      " 1.13347710e-03 1.11617197e-03 1.09277986e-03 1.07391082e-03\n",
      " 1.04808654e-03 1.03764155e-03 1.01992303e-03 1.00422628e-03\n",
      " 9.89564374e-04 9.77403571e-04 9.54608848e-04 9.46498680e-04\n",
      " 9.32616442e-04 9.23820839e-04 8.98405317e-04 8.89510295e-04\n",
      " 8.85491127e-04 8.65958196e-04 8.51762838e-04 8.37466297e-04\n",
      " 8.19289874e-04 8.15573163e-04 7.94939080e-04 7.84395124e-04\n",
      " 7.70942387e-04 7.52887703e-04 7.49847202e-04 7.25170363e-04\n",
      " 7.09116773e-04 6.92884153e-04 6.84640243e-04 6.65555779e-04\n",
      " 6.59463534e-04 6.49526105e-04 6.46172147e-04 6.37711354e-04\n",
      " 6.30584213e-04 6.09804059e-04 6.01606247e-04 5.90445917e-04\n",
      " 5.76792426e-04 5.71483940e-04 5.66619870e-04 5.60960851e-04\n",
      " 5.51210711e-04 5.47443982e-04 5.35172157e-04 5.21394373e-04\n",
      " 5.07774459e-04 4.98303290e-04 4.94160217e-04 4.90585806e-04\n",
      " 4.71715536e-04 4.65164158e-04 4.54865653e-04 4.52820287e-04\n",
      " 4.49136050e-04 4.42245663e-04 4.31810226e-04 4.22828716e-04\n",
      " 4.21503235e-04 4.12195825e-04 4.10209368e-04 4.02241788e-04\n",
      " 3.97672640e-04 3.93998656e-04 3.92754564e-04 3.87194928e-04\n",
      " 3.78992539e-04 3.75305984e-04 3.73250013e-04 3.66625843e-04\n",
      " 3.58715561e-04 3.55787738e-04 3.52395303e-04 3.44587245e-04\n",
      " 3.43689335e-04 3.39661462e-04 3.33341017e-04 3.29756535e-04\n",
      " 3.27254348e-04 3.23046580e-04 3.15010610e-04 3.13817832e-04\n",
      " 3.09619808e-04 3.02620461e-04 2.97623246e-04 2.91144153e-04\n",
      " 2.86744747e-04 2.84945322e-04 2.80275881e-04 2.74925004e-04\n",
      " 2.67799611e-04 2.63201875e-04 2.61873611e-04 2.59043941e-04\n",
      " 2.56481738e-04 2.50794767e-04 2.47931320e-04 2.41274355e-04\n",
      " 2.40289279e-04 2.37137163e-04 2.34086965e-04 2.29914514e-04\n",
      " 2.25624561e-04 2.23358230e-04 2.22060342e-04 2.14232488e-04\n",
      " 2.12097066e-04 2.09543795e-04 2.07574974e-04 2.07147432e-04\n",
      " 2.04540292e-04 2.00791534e-04 1.98360382e-04 1.94642125e-04\n",
      " 1.94106340e-04 1.89299045e-04 1.85445775e-04 1.81261630e-04\n",
      " 1.78621388e-04 1.77744677e-04 1.74575222e-04 1.71046401e-04\n",
      " 1.69506209e-04 1.64595805e-04 1.63286911e-04 1.59613545e-04\n",
      " 1.57846085e-04 1.55555227e-04 1.53205615e-04 1.51710257e-04\n",
      " 1.50976613e-04 1.47049449e-04 1.44502625e-04 1.42564250e-04\n",
      " 1.40276968e-04 1.38192277e-04 1.35001130e-04 1.32172903e-04\n",
      " 1.30818085e-04 1.29109705e-04 1.27128041e-04 1.22366175e-04\n",
      " 1.21568016e-04 1.19147902e-04 1.18773348e-04 1.17325888e-04\n",
      " 1.14190819e-04 1.14031879e-04 1.11512618e-04 1.09153232e-04\n",
      " 1.07655160e-04 1.07195580e-04 1.04424627e-04 1.02512461e-04\n",
      " 1.00664157e-04 9.92380213e-05 9.89370421e-05 9.80599015e-05\n",
      " 9.56283806e-05 9.33885969e-05 9.27053861e-05 9.16719046e-05\n",
      " 8.88824038e-05 8.80094210e-05 8.59557929e-05 8.58851600e-05\n",
      " 8.50655720e-05 8.43698103e-05 8.27661942e-05 8.25236782e-05\n",
      " 8.10052401e-05 8.07921092e-05 7.96449273e-05 7.70952065e-05\n",
      " 7.54626843e-05 7.48499473e-05 7.32045990e-05 7.25632316e-05\n",
      " 7.11456864e-05 7.06380113e-05 6.96757578e-05 6.84247606e-05\n",
      " 6.75417560e-05 6.54364406e-05 6.43083627e-05 6.36528853e-05\n",
      " 6.29881602e-05 6.19985932e-05 6.13598121e-05 6.04875018e-05\n",
      " 5.94853578e-05 5.85132234e-05 5.79055454e-05 5.74212037e-05\n",
      " 5.64555759e-05 5.56161299e-05 5.43725405e-05 5.36797586e-05\n",
      " 5.29916974e-05 5.24149516e-05 5.07564194e-05 5.04459518e-05\n",
      " 5.01350799e-05 4.89759792e-05 4.87971724e-05 4.81614656e-05\n",
      " 4.71990562e-05 4.70994271e-05 4.65820067e-05 4.63298269e-05\n",
      " 4.51651132e-05 4.42517862e-05 4.42293111e-05 4.34726257e-05\n",
      " 4.30404676e-05 4.23020382e-05 4.17639841e-05 4.15729376e-05\n",
      " 4.09683129e-05 4.04387165e-05 4.01276932e-05 3.96504501e-05\n",
      " 3.92654733e-05 3.91097996e-05 3.87408902e-05 3.81809246e-05\n",
      " 3.75511085e-05 3.67671312e-05 3.63814240e-05 3.56167331e-05\n",
      " 3.54672254e-05 3.44936322e-05 3.40206900e-05 3.37638301e-05\n",
      " 3.29800468e-05 3.27415713e-05 3.20757277e-05 3.15634102e-05\n",
      " 3.14028168e-05 3.09659530e-05 3.08177079e-05 2.99955079e-05\n",
      " 2.98772254e-05 2.94871892e-05 2.92372252e-05 2.90120535e-05\n",
      " 2.85595983e-05 2.79872192e-05 2.76190401e-05 2.74152276e-05\n",
      " 2.71090921e-05 2.65048091e-05 2.60824462e-05 2.55934775e-05\n",
      " 2.54711072e-05 2.51704637e-05 2.47824099e-05 2.46831548e-05\n",
      " 2.42959525e-05 2.38906552e-05 2.33201606e-05 2.30238774e-05\n",
      " 2.27605823e-05 2.25195589e-05 2.21496769e-05 2.19576240e-05\n",
      " 2.14448723e-05 2.12261600e-05 2.09718024e-05 2.05520932e-05\n",
      " 2.01102455e-05 1.97765841e-05 1.96265413e-05 1.94459766e-05\n",
      " 1.91787769e-05 1.90209728e-05 1.88214851e-05 1.86617417e-05\n",
      " 1.84175824e-05 1.81747573e-05 1.79841394e-05 1.75484475e-05\n",
      " 1.71963390e-05 1.68338809e-05 1.67563221e-05 1.64548619e-05\n",
      " 1.63086177e-05 1.61516536e-05 1.56983106e-05 1.56188744e-05\n",
      " 1.54433551e-05 1.53927876e-05 1.52063594e-05 1.51435759e-05\n",
      " 0.00000000e+00 0.00000000e+00 0.00000000e+00 0.00000000e+00]\n"
     ]
    },
    {
     "name": "stdout",
     "output_type": "stream",
     "text": [
      "(2000, 3, 500)\n",
      "(600,) (600, 3800)\n",
      "singular values [1.00000000e+00 7.33221503e-01 4.02722596e-01 2.67916249e-01\n",
      " 2.39974837e-01 1.95485980e-01 1.88336614e-01 1.83332897e-01\n",
      " 1.73526812e-01 1.50141612e-01 1.43463437e-01 1.23377348e-01\n",
      " 1.11589461e-01 1.09134474e-01 1.03420745e-01 1.00493729e-01\n",
      " 9.57142080e-02 9.45879809e-02 8.96824155e-02 8.47715106e-02\n",
      " 8.05767056e-02 7.95423039e-02 7.40649179e-02 7.04532329e-02\n",
      " 6.60351369e-02 6.26658404e-02 6.12800650e-02 6.02314730e-02\n",
      " 5.97727651e-02 5.54531407e-02 5.27862929e-02 4.96015694e-02\n",
      " 4.81145522e-02 4.74024017e-02 4.63034761e-02 4.42321916e-02\n",
      " 4.32564162e-02 4.30060836e-02 4.21255412e-02 4.13308483e-02\n",
      " 3.93453616e-02 3.84296650e-02 3.62914991e-02 3.41580158e-02\n",
      " 3.35179199e-02 3.29472864e-02 3.16018000e-02 3.08665284e-02\n",
      " 3.03878995e-02 2.96120110e-02 2.91558669e-02 2.87019219e-02\n",
      " 2.76395469e-02 2.73263044e-02 2.57122097e-02 2.52156795e-02\n",
      " 2.38403285e-02 2.37538685e-02 2.26222006e-02 2.20688225e-02\n",
      " 2.16874509e-02 2.12712597e-02 2.07523366e-02 2.00748299e-02\n",
      " 1.98037864e-02 1.93775041e-02 1.88992208e-02 1.86199851e-02\n",
      " 1.75762785e-02 1.72847206e-02 1.71931001e-02 1.66142691e-02\n",
      " 1.58871363e-02 1.56569404e-02 1.53254381e-02 1.49797511e-02\n",
      " 1.42095933e-02 1.40240871e-02 1.39166883e-02 1.35894685e-02\n",
      " 1.32647145e-02 1.27784743e-02 1.25661673e-02 1.23880464e-02\n",
      " 1.21035985e-02 1.19099971e-02 1.15275818e-02 1.13184462e-02\n",
      " 1.10467673e-02 1.08899818e-02 1.08447298e-02 1.07012789e-02\n",
      " 1.04820119e-02 1.03279491e-02 1.00175736e-02 9.77188324e-03\n",
      " 9.57291240e-03 9.28600585e-03 9.11189721e-03 9.01016656e-03\n",
      " 8.91537162e-03 8.72927603e-03 8.39353274e-03 8.34975008e-03\n",
      " 8.12769188e-03 8.07690301e-03 8.02626033e-03 7.96462340e-03\n",
      " 7.78522255e-03 7.56349613e-03 7.53037859e-03 7.32143549e-03\n",
      " 7.24704639e-03 7.10640125e-03 6.98914875e-03 6.91070931e-03\n",
      " 6.84285858e-03 6.60492696e-03 6.58128561e-03 6.53794402e-03\n",
      " 6.41290284e-03 6.31949448e-03 6.30849990e-03 6.13343316e-03\n",
      " 6.08365911e-03 6.03182208e-03 5.91013754e-03 5.87419656e-03\n",
      " 5.76206119e-03 5.66949537e-03 5.51116621e-03 5.37763176e-03\n",
      " 5.34056215e-03 5.29832011e-03 5.19907565e-03 5.13924975e-03\n",
      " 5.01126155e-03 4.97888085e-03 4.82374956e-03 4.78111355e-03\n",
      " 4.71370111e-03 4.62097045e-03 4.57525079e-03 4.37486018e-03\n",
      " 4.30994046e-03 4.24257582e-03 4.16377466e-03 4.14140956e-03\n",
      " 4.09330075e-03 4.04943049e-03 4.04007179e-03 3.97563386e-03\n",
      " 3.94212774e-03 3.84754055e-03 3.81125872e-03 3.75557480e-03\n",
      " 3.70524739e-03 3.63226972e-03 3.58665502e-03 3.45710172e-03\n",
      " 3.45345342e-03 3.42406723e-03 3.39780231e-03 3.34673983e-03\n",
      " 3.31165016e-03 3.24305159e-03 3.17105193e-03 3.11439213e-03\n",
      " 3.06527655e-03 3.04043919e-03 2.96987210e-03 2.88716390e-03\n",
      " 2.88217804e-03 2.84074686e-03 2.78558115e-03 2.76402112e-03\n",
      " 2.71256967e-03 2.67931127e-03 2.66189614e-03 2.62465162e-03\n",
      " 2.57841473e-03 2.54211426e-03 2.51501725e-03 2.49323020e-03\n",
      " 2.46688702e-03 2.38644189e-03 2.34716223e-03 2.30436926e-03\n",
      " 2.27788653e-03 2.25660805e-03 2.18173608e-03 2.15604504e-03\n",
      " 2.13969217e-03 2.10317237e-03 2.08960568e-03 2.04465658e-03\n",
      " 2.02940630e-03 2.01150192e-03 1.96211546e-03 1.95657940e-03\n",
      " 1.94303033e-03 1.93950564e-03 1.92042303e-03 1.88119787e-03\n",
      " 1.83416415e-03 1.82276013e-03 1.78625466e-03 1.77360182e-03\n",
      " 1.73502048e-03 1.72137428e-03 1.71112926e-03 1.69148855e-03\n",
      " 1.65959809e-03 1.64468302e-03 1.61773121e-03 1.59027226e-03\n",
      " 1.57710066e-03 1.55460984e-03 1.52985566e-03 1.52067627e-03\n",
      " 1.49612285e-03 1.48968010e-03 1.45622378e-03 1.42234966e-03\n",
      " 1.40231474e-03 1.38431581e-03 1.36750429e-03 1.36340122e-03\n",
      " 1.32745849e-03 1.29665000e-03 1.28998728e-03 1.27439156e-03\n",
      " 1.25550357e-03 1.24645809e-03 1.23643820e-03 1.19792920e-03\n",
      " 1.18004933e-03 1.16649114e-03 1.14695615e-03 1.12673947e-03\n",
      " 1.09542235e-03 1.07332352e-03 1.05497893e-03 1.04836986e-03\n",
      " 1.03633447e-03 1.01708767e-03 1.00891761e-03 1.00305516e-03\n",
      " 9.91270151e-04 9.84687203e-04 9.74114115e-04 9.57546016e-04\n",
      " 9.47759352e-04 9.31049852e-04 9.25307609e-04 9.13680533e-04\n",
      " 9.04569211e-04 8.90073464e-04 8.73085242e-04 8.70824504e-04\n",
      " 8.49292532e-04 8.45724652e-04 8.32460475e-04 8.23223105e-04\n",
      " 8.12235525e-04 8.08541720e-04 7.92995232e-04 7.68748677e-04\n",
      " 7.65448567e-04 7.54510803e-04 7.31931259e-04 7.26421669e-04\n",
      " 7.20860137e-04 7.14493747e-04 7.10718402e-04 6.96921728e-04\n",
      " 6.89286765e-04 6.82337558e-04 6.71838651e-04 6.68625435e-04\n",
      " 6.55177853e-04 6.52293133e-04 6.45053372e-04 6.39325196e-04\n",
      " 6.22242805e-04 6.15244341e-04 6.07749867e-04 6.07361676e-04\n",
      " 5.86710686e-04 5.83301962e-04 5.78631746e-04 5.65222542e-04\n",
      " 5.61237014e-04 5.52087281e-04 5.50298892e-04 5.45730748e-04\n",
      " 5.43706642e-04 5.39980247e-04 5.30932113e-04 5.26701299e-04]\n",
      "(2000, 5, 300)\n",
      "(600,) (600, 3000)\n",
      "singular values [1.00000000e+00 7.23336203e-01 5.44868328e-01 3.25822686e-01\n",
      " 2.95603848e-01 2.84482440e-01 2.49493328e-01 2.35494069e-01\n",
      " 2.26559446e-01 2.09670152e-01 1.99456477e-01 1.97104420e-01\n",
      " 1.89311571e-01 1.70265956e-01 1.54668260e-01 1.51722333e-01\n",
      " 1.35984832e-01 1.29553140e-01 1.24236582e-01 1.10798031e-01\n",
      " 1.09717849e-01 1.00423973e-01 9.25677932e-02 8.64608773e-02\n",
      " 8.31072336e-02 8.10262970e-02 7.87211003e-02 7.56590869e-02\n",
      " 7.19474567e-02 6.95125213e-02 6.82782974e-02 6.64056728e-02\n",
      " 6.33671979e-02 6.30190971e-02 6.09560562e-02 5.97233813e-02\n",
      " 5.90089019e-02 5.63132781e-02 5.46620388e-02 5.41498588e-02\n",
      " 5.28778865e-02 5.03733003e-02 4.91847906e-02 4.68233724e-02\n",
      " 4.44200678e-02 4.33074097e-02 4.15730156e-02 4.13460618e-02\n",
      " 4.01893086e-02 3.90842552e-02 3.72903485e-02 3.61118171e-02\n",
      " 3.55887090e-02 3.50060677e-02 3.40163901e-02 3.38414205e-02\n",
      " 3.17200110e-02 3.07891632e-02 3.03494805e-02 2.96910251e-02\n",
      " 2.93310830e-02 2.85510239e-02 2.76469460e-02 2.56704360e-02\n",
      " 2.54385067e-02 2.51058105e-02 2.44038060e-02 2.41572922e-02\n",
      " 2.30840229e-02 2.22694301e-02 2.21149919e-02 2.15976039e-02\n",
      " 2.10700040e-02 2.08630134e-02 2.05979910e-02 2.00368357e-02\n",
      " 1.95771922e-02 1.89750991e-02 1.82361298e-02 1.80620020e-02\n",
      " 1.76432231e-02 1.72263676e-02 1.69516606e-02 1.67032793e-02\n",
      " 1.64194275e-02 1.60069115e-02 1.57584061e-02 1.55143988e-02\n",
      " 1.52995734e-02 1.49082885e-02 1.47514440e-02 1.45562569e-02\n",
      " 1.43583831e-02 1.42888116e-02 1.41246420e-02 1.37682550e-02\n",
      " 1.35911275e-02 1.33669475e-02 1.31432781e-02 1.31209990e-02\n",
      " 1.28039923e-02 1.26253903e-02 1.25127779e-02 1.23947096e-02\n",
      " 1.19935541e-02 1.19288214e-02 1.16045602e-02 1.14350990e-02\n",
      " 1.13969113e-02 1.12580046e-02 1.10954952e-02 1.10314737e-02\n",
      " 1.07774941e-02 1.06421482e-02 1.04392830e-02 1.02885754e-02\n",
      " 1.01084039e-02 9.94444914e-03 9.73889390e-03 9.56902109e-03\n",
      " 9.47188135e-03 9.39837028e-03 9.24665813e-03 9.12269024e-03\n",
      " 8.89476506e-03 8.77164294e-03 8.52941655e-03 8.46007601e-03\n",
      " 8.27090898e-03 8.16667150e-03 8.04572870e-03 7.90548754e-03\n",
      " 7.89602847e-03 7.67043716e-03 7.52399582e-03 7.29610280e-03\n",
      " 7.27787406e-03 7.15534524e-03 7.02711755e-03 6.94861580e-03\n",
      " 6.90035069e-03 6.75510520e-03 6.71736760e-03 6.66789039e-03\n",
      " 6.52264942e-03 6.45616415e-03 6.28894121e-03 6.16141436e-03\n",
      " 6.00140636e-03 5.93833462e-03 5.75196645e-03 5.72706470e-03\n",
      " 5.66584251e-03 5.64929804e-03 5.53462352e-03 5.48822263e-03\n",
      " 5.43206322e-03 5.39519372e-03 5.34043584e-03 5.30074600e-03\n",
      " 5.24932897e-03 5.16956259e-03 5.07811521e-03 5.06795232e-03\n",
      " 5.00551387e-03 4.97892384e-03 4.86999257e-03 4.80064876e-03\n",
      " 4.68856978e-03 4.63340872e-03 4.56136055e-03 4.52065806e-03\n",
      " 4.48814872e-03 4.39377621e-03 4.35989871e-03 4.31937567e-03\n",
      " 4.27138016e-03 4.22426552e-03 4.15504342e-03 4.12116357e-03\n",
      " 4.03838528e-03 3.98251046e-03 3.91926863e-03 3.87474027e-03\n",
      " 3.83700439e-03 3.82599711e-03 3.77380569e-03 3.71854471e-03\n",
      " 3.71271888e-03 3.64644802e-03 3.57623448e-03 3.55194127e-03\n",
      " 3.51184079e-03 3.47894607e-03 3.44541681e-03 3.43215565e-03\n",
      " 3.35226401e-03 3.32825197e-03 3.30592840e-03 3.28275061e-03\n",
      " 3.23014751e-03 3.20494748e-03 3.18849031e-03 3.14646792e-03\n",
      " 3.13787389e-03 3.07966299e-03 3.06646928e-03 3.01950647e-03\n",
      " 2.97349092e-03 2.94247418e-03 2.90083691e-03 2.87471055e-03\n",
      " 2.85368059e-03 2.81846864e-03 2.79309130e-03 2.73835308e-03\n",
      " 2.70702863e-03 2.69235509e-03 2.67664880e-03 2.65418622e-03\n",
      " 2.58772699e-03 2.56713593e-03 2.55565370e-03 2.49394535e-03\n",
      " 2.47600828e-03 2.46954277e-03 2.45324420e-03 2.39814275e-03\n",
      " 2.37275256e-03 2.32521415e-03 2.31121107e-03 2.29463956e-03\n",
      " 2.28797338e-03 2.23508167e-03 2.22241447e-03 2.19149414e-03\n",
      " 2.15810391e-03 2.12935449e-03 2.09702552e-03 2.08065370e-03\n",
      " 2.06898634e-03 2.00187963e-03 1.97523612e-03 1.96380874e-03\n",
      " 1.94360788e-03 1.93258587e-03 1.92223636e-03 1.88514115e-03\n",
      " 1.85803788e-03 1.83815768e-03 1.82847929e-03 1.81053020e-03\n",
      " 1.79587487e-03 1.74662721e-03 1.72988198e-03 1.72067385e-03\n",
      " 1.70713646e-03 1.69465840e-03 1.65482103e-03 1.64128862e-03\n",
      " 1.60726373e-03 1.59742459e-03 1.58138282e-03 1.57145498e-03\n",
      " 1.54736803e-03 1.52850124e-03 1.50777789e-03 1.49915264e-03\n",
      " 1.46692741e-03 1.45735317e-03 1.43267791e-03 1.42224573e-03\n",
      " 1.39871470e-03 1.39156609e-03 1.35127964e-03 1.34190764e-03\n",
      " 1.31509892e-03 1.29524176e-03 1.28824080e-03 1.26430991e-03\n",
      " 1.24560268e-03 1.23685692e-03 1.21689930e-03 1.20490923e-03\n",
      " 1.18737781e-03 1.16772319e-03 1.15683205e-03 1.14621466e-03\n",
      " 1.13637947e-03 1.13140808e-03 1.11301397e-03 1.10098385e-03\n",
      " 1.09804574e-03 1.08353933e-03 1.06639261e-03 1.05915620e-03\n",
      " 1.03377924e-03 1.02118792e-03 1.01001102e-03 9.92966031e-04]\n"
     ]
    }
   ],
   "source": [
    "rho4i_pca, rho4i_vh_blocks, rho4i_eva_blocks = compute_rhoi_pca(rho4i, npca=[150, 300, 500, 500, 500, 300, 300,120])"
   ]
  },
  {
   "cell_type": "code",
   "execution_count": null,
   "id": "a68dcac2",
   "metadata": {
    "ExecuteTime": {
     "start_time": "2023-01-26T18:06:11.036Z"
    }
   },
   "outputs": [],
   "source": [
    "for i in range(len(rho4i_eva_blocks)):\n",
    "    plt.loglog(rho4i_eva_blocks[i]*1e3, label = (rho4i.keys[i][\"spherical_harmonics_l\"],rho4i.keys[i][\"inversion_sigma\"] ))\n",
    "#     plt.loglog(rho2i_eva_blocks[1]*1e3,'r--')\n",
    "#     plt.loglog(rho2i_eva_blocks[2]*1e3,'r:')\n",
    "plt.legend()"
   ]
  },
  {
   "cell_type": "code",
   "execution_count": 51,
   "id": "4355bc46",
   "metadata": {
    "ExecuteTime": {
     "end_time": "2023-01-26T14:14:47.695393Z",
     "start_time": "2023-01-26T14:14:47.661286Z"
    }
   },
   "outputs": [
    {
     "data": {
      "text/plain": [
       "TensorBlock\n",
       "    samples (2000): ['structure', 'center']\n",
       "    components (1): ['spherical_harmonics_m']\n",
       "    properties (1): ['pca']\n",
       "    gradients: no"
      ]
     },
     "execution_count": 51,
     "metadata": {},
     "output_type": "execute_result"
    }
   ],
   "source": [
    "rho5i = cg_increment(rho4i_pca, rho1i, clebsch_gordan=cg, lcut=3, other_keys_match=[\"species_center\"])"
   ]
  },
  {
   "cell_type": "code",
   "execution_count": null,
   "id": "623709be",
   "metadata": {},
   "outputs": [],
   "source": [
    "rho5i_pca, rho5i_vh_blocks, rho5i_eva_blocks = compute_rhoi_pca(rho5i, npca=[150, 300, 300, 300, 200, 300, 300,120])"
   ]
  },
  {
   "cell_type": "code",
   "execution_count": null,
   "id": "be970906",
   "metadata": {},
   "outputs": [],
   "source": [
    "for i in range(len(rho5i_eva_blocks)):\n",
    "    plt.loglog(rho5i_eva_blocks[i]*1e3, label = (rho5i.keys[i][\"spherical_harmonics_l\"],rho5i.keys[i][\"inversion_sigma\"] ))\n",
    "\n",
    "plt.legend()"
   ]
  },
  {
   "cell_type": "code",
   "execution_count": null,
   "id": "b02ae026",
   "metadata": {},
   "outputs": [],
   "source": [
    "rho6i = cg_increment(rho5i_pca, rho1i, clebsch_gordan=cg, lcut=3, other_keys_match=[\"species_center\"])"
   ]
  },
  {
   "cell_type": "code",
   "execution_count": null,
   "id": "9f81e9b1",
   "metadata": {},
   "outputs": [],
   "source": [
    "rho6i_pca, rho6i_vh_blocks, rho6i_eva_blocks = compute_rhoi_pca(rho6i, npca=[150, 300, 300, 300, 200, 300, 300,120])"
   ]
  },
  {
   "cell_type": "code",
   "execution_count": null,
   "id": "45cec484",
   "metadata": {},
   "outputs": [],
   "source": [
    "for i in range(len(rho6i_eva_blocks)):\n",
    "    plt.loglog(rho6i_eva_blocks[i]*1e3, label = (rho6i.keys[i][\"spherical_harmonics_l\"],rho6i.keys[i][\"inversion_sigma\"] ))\n",
    "\n",
    "plt.legend()"
   ]
  },
  {
   "cell_type": "code",
   "execution_count": null,
   "id": "27750049",
   "metadata": {},
   "outputs": [],
   "source": [
    "rho7i = cg_increment(rho6i_pca, rho1i, clebsch_gordan=cg, lcut=0, other_keys_match=[\"species_center\"])"
   ]
  },
  {
   "cell_type": "code",
   "execution_count": null,
   "id": "6b6c95b2",
   "metadata": {},
   "outputs": [],
   "source": []
  },
  {
   "cell_type": "code",
   "execution_count": null,
   "id": "4a39f54e",
   "metadata": {},
   "outputs": [],
   "source": []
  },
  {
   "cell_type": "code",
   "execution_count": null,
   "id": "030e2483",
   "metadata": {},
   "outputs": [],
   "source": []
  },
  {
   "cell_type": "code",
   "execution_count": null,
   "id": "fa37e0a5",
   "metadata": {},
   "outputs": [],
   "source": []
  },
  {
   "cell_type": "code",
   "execution_count": null,
   "id": "4647c604",
   "metadata": {},
   "outputs": [],
   "source": []
  },
  {
   "cell_type": "markdown",
   "id": "b26c620a",
   "metadata": {
    "heading_collapsed": true
   },
   "source": [
    "## encoder-decoder like architecture - nope"
   ]
  },
  {
   "cell_type": "code",
   "execution_count": 20,
   "id": "578c6c7c",
   "metadata": {
    "hidden": true
   },
   "outputs": [],
   "source": [
    "import equistore\n",
    "import torch\n",
    "import equistore.operations as operations\n",
    "from tqdm import tqdm\n",
    "torch.set_default_dtype(torch.float64)\n",
    "device = torch.device(\"cuda\" if torch.cuda.is_available() else \"cpu\")  \n",
    "\n",
    "\n",
    "class featDataset(torch.utils.data.Dataset):\n",
    "    #Dataset class\n",
    "    def __init__(self, feature_path, frames):\n",
    "        #\n",
    "        self.features = np.load(feature_path, mmap_mode = 'r')\n",
    "        self.keys_features = equistore.io._labels_from_npz(self.features[\"keys\"])\n",
    "        self.currentkey = 0\n",
    "        self.frames = frames\n",
    "\n",
    "    def __len__(self):\n",
    "        return len(self.frames)\n",
    "    \n",
    "    def __getitem__(self, structure_idx):\n",
    "        feature_block, feature_key = self.generate_feature_block(self.features, structure_idx)        \n",
    "        #samples_filter, target_block_samples = self.get_index_from_idx(self.target.block(self.currentkey).samples, structure_idx)\n",
    "        structure = [frames[i] for i in structure_idx]\n",
    "        #Modify feature_block to tensormap\n",
    "        feature_map = TensorMap(feature_key, feature_block)\n",
    "        return feature_map, structure\n",
    "\n",
    "    \n",
    "    def generate_feature_block(self, memmap, structure_idx):\n",
    "        #Generate the block from npz file\n",
    "        output = []\n",
    "        if self.currentkey is None:\n",
    "            feature_key = self.keys_features     \n",
    "        else:\n",
    "            feature_key = Labels([\"order_nu\", \"inversion_sigma\", \"spherical_harmonics_l\", \"species_center\", \"species_neighbor_a\", \"species_neighbor_b\"], \n",
    "                                 np.asarray(self.keys_features[self.currentkey].astype(list), dtype=np.int32).reshape(-1,6))\n",
    "\n",
    "#             feature_key = [self.keys_features[self.currentkey]]\n",
    "        for key in feature_key:\n",
    "            block_index = list(self.keys_features).index(key)\n",
    "            prefix = f\"blocks/{block_index}/values\"        \n",
    "            block_samples = equistore.io._labels_from_npz(memmap[f\"{prefix}/samples\"])\n",
    "            block_components = []\n",
    "            for i in range(1):\n",
    "                block_components.append(equistore.io._labels_from_npz(memmap[f\"{prefix}/components/{i}\"]))\n",
    "            block_properties = equistore.io._labels_from_npz(memmap[f\"{prefix}/properties\"])\n",
    "             \n",
    "\n",
    "            samples_filter, block_samples = self.get_index_from_idx(block_samples, structure_idx)\n",
    "\n",
    "            block_data = memmap[f\"{prefix}/data\"][samples_filter]\n",
    "            block = TensorBlock(block_data, block_samples, block_components, block_properties)\n",
    "            output.append(block)\n",
    "        return output, feature_key\n",
    "    \n",
    "    def get_n_properties(self, memmap, key):\n",
    "        block_index = list(self.keys_features).index(key)\n",
    "        prefix = f\"blocks/{block_index}/values\"  \n",
    "        block_properties = equistore.io._labels_from_npz(memmap[f\"{prefix}/properties\"])\n",
    "        \n",
    "        return len(block_properties)\n",
    "    \n",
    "    def get_index_from_idx(self, block_samples, structure_idx):\n",
    "        #Get samples label from IDX\n",
    "        samples = Labels(names = ['structure'], values = np.array(structure_idx).reshape(-1,1))\n",
    "        all_samples = block_samples[['structure']].tolist()\n",
    "        set_samples_to_slice = set(samples.tolist())\n",
    "        samples_filter = np.array(\n",
    "            [sample in set_samples_to_slice for sample in all_samples]\n",
    "        )\n",
    "        new_samples = block_samples[samples_filter]\n",
    "        \n",
    "        return samples_filter, new_samples\n",
    "    \n",
    "    def collate_output_values(blocks):\n",
    "        feature_out = []\n",
    "        for sample_output in blocks:\n",
    "            feature_block, structure = sample_output\n",
    "            for z in feature_block:\n",
    "                feature_out.append(torch.tensor(z.values))\n",
    "\n",
    "        return feature_out\n"
   ]
  },
  {
   "cell_type": "code",
   "execution_count": 21,
   "id": "ec5785c6",
   "metadata": {
    "hidden": true
   },
   "outputs": [],
   "source": [
    "def mse_loss(pred, target):\n",
    "    return torch.mean((pred - target)**2)\n",
    "\n",
    "\n",
    "class BlockEncoderDecoder(torch.nn.Module):\n",
    "    def __init__(self, seed=123, **kwargs):\n",
    "        super().__init__()\n",
    "        self.encoder_hidden_layer = torch.nn.Linear(\n",
    "            in_features=kwargs[\"input_size\"], out_features=kwargs[\"hidden_size\"]\n",
    "        )\n",
    "        self.encoder_output_layer = torch.nn.Linear(\n",
    "            in_features=kwargs[\"hidden_size\"], out_features=kwargs[\"intermediate_size\"]\n",
    "        )\n",
    "        self.decoder_hidden_layer = torch.nn.Linear(\n",
    "            in_features=kwargs[\"intermediate_size\"], out_features=kwargs[\"hidden_size\"]\n",
    "        )\n",
    "        self.decoder_output_layer = torch.nn.Linear(\n",
    "            in_features=kwargs[\"hidden_size\"], out_features=kwargs[\"input_size\"]\n",
    "        )\n",
    "        self.to(device)\n",
    "        \n",
    "    def forward(self, x):\n",
    "        print(\"from block forward\", x.keys)\n",
    "        x = torch.from_numpy(x.block().values)\n",
    "        activation = self.encoder_hidden_layer(x)\n",
    "        activation = torch.relu(activation)\n",
    "        code = self.encoder_output_layer(activation)\n",
    "        code = torch.relu(code)\n",
    "        activation = self.decoder_hidden_layer(code)\n",
    "        activation = torch.relu(activation)\n",
    "        activation = self.decoder_output_layer(activation)\n",
    "        reconstructed = torch.relu(activation)\n",
    "        return reconstructed\n",
    "\n",
    "    \n",
    "    def fit(self,traindata_loader, loss_function, optimizer_type, lr, reg, n_epochs):\n",
    "        if optimizer_type == \"Adam\":\n",
    "            optimizer = torch.optim.Adam(self.parameters(), lr = lr, weight_decay = reg.item())\n",
    "            threshold = 200\n",
    "            scheduler_threshold = 50\n",
    "            tol = 0\n",
    "            history_step = 1000\n",
    "        \n",
    "        elif optimizer_type == \"LBFGS\":\n",
    "            optimizer = torch.optim.LBFGS(self.parameters(), lr = lr)\n",
    "            threshold = 30\n",
    "            scheduler_threshold = 10\n",
    "            tol = 0\n",
    "            history_step = 10\n",
    "            \n",
    "        scheduler = torch.optim.lr_scheduler.StepLR(optimizer, scheduler_threshold, gamma = 0.5)\n",
    "        best_state = copy.deepcopy(self.state_dict())\n",
    "        lowest_loss = torch.tensor(9999)\n",
    "        pred_loss = torch.tensor(0)\n",
    "        trigger = 0\n",
    "        loss_history = []\n",
    "        pbar = tqdm(range(n_epochs))\n",
    "        \n",
    "        for epoch in pbar:\n",
    "            pbar.set_description(f\"Epoch: {epoch}\")\n",
    "            pbar.set_postfix(pred_loss = pred_loss.item(), lowest_loss = lowest_loss.item(), trigger = trigger)\n",
    "            \n",
    "            for x_data, structure in traindata_loader: \n",
    "                optimizer.zero_grad()\n",
    "                #x_data, y_data = x_data.to(self.device), y_data.to(self.device)\n",
    "                if optimizer_type == \"LBFGS\":\n",
    "                    def closure():\n",
    "                        optimizer.zero_grad()\n",
    "                        _pred = self.forward(x_data)                                        \n",
    "                        _pred_loss = loss_function(_pred, x_data.block().values)\n",
    "                        _pred_loss = torch.nan_to_num(_pred_loss, nan=lowest_loss.item(), posinf = lowest_loss.item(), neginf = lowest_loss.item())                 \n",
    "                        _reg_loss = self.get_regression_values(reg.item()) #Only works for 1 layer\n",
    "                        _new_loss = _pred_loss + _reg_loss\n",
    "                        _new_loss.backward()\n",
    "                        return _new_loss\n",
    "                    optimizer.step(closure)\n",
    "\n",
    "                elif optimizer_type == \"Adam\":\n",
    "                    pred = self.forward(x_data)\n",
    "#                     print(pred, x_data.block().values )\n",
    "                    pred_loss = loss_function(pred, torch.from_numpy(x_data.block().values))\n",
    "                    \n",
    "                    #reg_loss = self.get_regression_values(reg.item())#Only works for 1 layer\n",
    "                    new_loss = pred_loss #+ reg_loss\n",
    "                    new_loss.backward()\n",
    "\n",
    "                    optimizer.step()\n",
    "                \n",
    "            with torch.no_grad():\n",
    "                current_loss = 0 \n",
    "                for x_data, structure in traindata_loader:\n",
    "                    pred = self.forward(x_data)\n",
    "                    current_loss  += loss_function(pred, torch.from_numpy(x_data.block().values)) #Loss should be normalized already\n",
    "                pred_loss = current_loss\n",
    "                reg_loss = self.get_regression_values(reg.item()) \n",
    "                new_loss = pred_loss + reg_loss\n",
    "                if pred_loss >100000 or (pred_loss.isnan().any()) :\n",
    "                    print (\"Optimizer shows weird behaviour, reinitializing at previous best_State\")\n",
    "                    self.load_state_dict(best_state)\n",
    "                    if optimizer_type == \"Adam\":\n",
    "                        optimizer = torch.optim.Adam(self.parameters(), lr = lr, weight_decay = reg.item())\n",
    "                    elif optimizer_type == \"LBFGS\":\n",
    "                        optimizer = torch.optim.LBFGS(self.parameters(), lr = lr)\n",
    "\n",
    "                if epoch % history_step == 1:\n",
    "                    loss_history.append(lowest_loss.item())\n",
    "                \n",
    "                if lowest_loss - new_loss > tol: #threshold to stop training\n",
    "                    best_state = copy.deepcopy(self.state_dict())\n",
    "                    lowest_loss = new_loss \n",
    "                    trigger = 0    \n",
    "                    \n",
    "                else:\n",
    "                    trigger += 1\n",
    "                    scheduler.step()\n",
    "                    if trigger > threshold:\n",
    "                        self.load_state_dict(best_state)\n",
    "                        print (\"Implemented early stopping with lowest_loss: {}\".format(lowest_loss))\n",
    "                        return loss_history\n",
    "        return loss_history\n",
    "    \n",
    "    def get_regression_values(self, reg_weights):\n",
    "        output = []\n",
    "        for param in self.parameters():\n",
    "            output.append(torch.sum(torch.pow(param,2)))\n",
    "        try:\n",
    "            output = torch.sum(torch.tensor(output) * reg_weights)\n",
    "        except:\n",
    "            output = 0\n",
    "        return output\n",
    "\n",
    "\n",
    "    \n",
    "\n",
    "class ThreeCenterModel(torch.nn.ModuleDict):\n",
    "    \n",
    "    def __init__(self, feature, hidden_size=128, intermediate_size=18):\n",
    "        super().__init__()\n",
    "        self.feature = feature\n",
    "        self.loss_history={}\n",
    "        self.models = torch.nn.ModuleDict()\n",
    "        for k, b in self.feature:\n",
    "            input_size = b.values.shape[-1]\n",
    "#             print(k,input_size, hidden_size, intermediate_size)\n",
    "            self.models[str(k)] = BlockEncoderDecoder(input_size=input_size, hidden_size=hidden_size, intermediate_size=intermediate_size)            \n",
    "        self.to(device)\n",
    "    \n",
    "    def forward(self, feature):\n",
    "        pred_blocks =[]\n",
    "        for k, block in feature:\n",
    "#             print(self[str(k)])\n",
    "            \n",
    "            recons = self.models[str(k)].forward(block) # expects a tensorMap\n",
    "            \n",
    "            newblock = TensorBlock(\n",
    "                        values=recons.reshape(block.values.shape),\n",
    "                        samples=block.samples,\n",
    "                        components=block.components,\n",
    "                        properties= block.properties\n",
    "                    )\n",
    "            pred_blocks.append(newblock) \n",
    "        \n",
    "        keys = feature.keys\n",
    "        pred_target = TensorMap(keys, pred_blocks)\n",
    "        return(pred_target)\n",
    "    \n",
    "    def fit(self, train_dataloader, regularization_dict, optimizer_type, n_epochs, loss_function, lr):\n",
    "        #Iterates through the keys of self.model, then for each key we will fit self.model[key] with data[key]\n",
    "        total = len(self.models)\n",
    "        for index, key in enumerate(self.feature.keys):\n",
    "            print (\"Now training on Block {} of {}\".format(index, total))\n",
    "            train_dataloader.dataset.currentkey = index\n",
    "            \n",
    "            loss_history_key = self.models[str(key)].fit(train_dataloader, loss_function, optimizer_type, lr, regularization_dict[str(key)], n_epochs)\n",
    "\n",
    "            self.loss_history[str(key)] = loss_history_key\n",
    "\n",
    "    \n",
    "    \n"
   ]
  },
  {
   "cell_type": "code",
   "execution_count": 22,
   "id": "6fcd9119",
   "metadata": {
    "hidden": true
   },
   "outputs": [],
   "source": [
    "regularization_dict={}\n",
    "for key in rhoii1i2_nu1.keys:\n",
    "    regularization_dict[str(key)] = torch.tensor(0)"
   ]
  },
  {
   "cell_type": "code",
   "execution_count": 23,
   "id": "aa7594f3",
   "metadata": {
    "hidden": true
   },
   "outputs": [],
   "source": [
    "def collate_blocks(block_tuple):\n",
    "    feature_tensor_map, structure_array = block_tuple[0]\n",
    "    return feature_tensor_map, structure_array\n",
    "\n",
    "train_feature_path =\"./rhoii1i2n1_400.npz\"\n",
    "train = featDataset(train_feature_path, frames[:400])\n",
    "train_Sampler = torch.utils.data.sampler.SequentialSampler(train)\n",
    "train_BSampler = torch.utils.data.sampler.BatchSampler(train_Sampler, batch_size = 500, drop_last = False)\n",
    "\n",
    "test_feature_path =\"./rhoii1i2n1_400-500.npz\"\n",
    "test = featDataset(train_feature_path, frames[400:500])\n",
    "test_Sampler = torch.utils.data.sampler.SequentialSampler(test)\n",
    "test_BSampler = torch.utils.data.sampler.BatchSampler(test_Sampler, batch_size = 500, drop_last = False)\n",
    "\n",
    "train_loader = torch.utils.data.DataLoader(train, sampler = train_BSampler, collate_fn = collate_blocks)\n",
    "test_loader = torch.utils.data.DataLoader(test, sampler = test_BSampler, collate_fn = collate_blocks)"
   ]
  },
  {
   "cell_type": "code",
   "execution_count": 24,
   "id": "b55c47f3",
   "metadata": {
    "hidden": true
   },
   "outputs": [
    {
     "data": {
      "text/plain": [
       "[9, 10, 11, 12, 13, 14, 15, 16, 17]"
      ]
     },
     "execution_count": 24,
     "metadata": {},
     "output_type": "execute_result"
    }
   ],
   "source": [
    "# rhoii1i2_nu1.keys[\n",
    "rhoii1i2_nu1.blocks_matching(species_center=3)\n",
    "# ]"
   ]
  },
  {
   "cell_type": "code",
   "execution_count": 25,
   "id": "04d343a3",
   "metadata": {
    "hidden": true
   },
   "outputs": [],
   "source": [
    "model = ThreeCenterModel(rhoii1i2_nu1)"
   ]
  },
  {
   "cell_type": "code",
   "execution_count": 26,
   "id": "2128cb18",
   "metadata": {
    "hidden": true,
    "scrolled": true
   },
   "outputs": [
    {
     "name": "stdout",
     "output_type": "stream",
     "text": [
      "Now training on Block 0 of 27\n"
     ]
    },
    {
     "name": "stderr",
     "output_type": "stream",
     "text": [
      "Epoch: 0:   0%|                                                                                              | 0/2 [00:00<?, ?it/s, lowest_loss=9999, pred_loss=0, trigger=0]"
     ]
    },
    {
     "name": "stdout",
     "output_type": "stream",
     "text": [
      "from block forward [(3, 1, 0, 1, 1, 1)]\n",
      "from block forward [(3, 1, 0, 1, 1, 1)]\n"
     ]
    },
    {
     "name": "stderr",
     "output_type": "stream",
     "text": [
      "Epoch: 1: 100%|███████████████████████████████████████████████████████████████████████████| 2/2 [00:00<00:00,  4.94it/s, lowest_loss=0.000316, pred_loss=0.000316, trigger=0]\n"
     ]
    },
    {
     "name": "stdout",
     "output_type": "stream",
     "text": [
      "from block forward [(3, 1, 0, 1, 1, 1)]\n",
      "from block forward [(3, 1, 0, 1, 1, 1)]\n",
      "Now training on Block 1 of 27\n"
     ]
    },
    {
     "name": "stderr",
     "output_type": "stream",
     "text": [
      "Epoch: 0:   0%|                                                                                              | 0/2 [00:00<?, ?it/s, lowest_loss=9999, pred_loss=0, trigger=0]"
     ]
    },
    {
     "name": "stdout",
     "output_type": "stream",
     "text": [
      "from block forward [(3, 1, 0, 1, 1, 3)]\n"
     ]
    },
    {
     "name": "stderr",
     "output_type": "stream",
     "text": [
      "Epoch: 1:   0%|                                                                                   | 0/2 [00:00<?, ?it/s, lowest_loss=0.000289, pred_loss=0.000289, trigger=0]"
     ]
    },
    {
     "name": "stdout",
     "output_type": "stream",
     "text": [
      "from block forward [(3, 1, 0, 1, 1, 3)]\n"
     ]
    },
    {
     "name": "stderr",
     "output_type": "stream",
     "text": [
      "Epoch: 1: 100%|███████████████████████████████████████████████████████████████████████████| 2/2 [00:00<00:00, 11.65it/s, lowest_loss=0.000289, pred_loss=0.000289, trigger=0]\n"
     ]
    },
    {
     "name": "stdout",
     "output_type": "stream",
     "text": [
      "from block forward [(3, 1, 0, 1, 1, 3)]\n",
      "from block forward [(3, 1, 0, 1, 1, 3)]\n",
      "Now training on Block 2 of 27\n"
     ]
    },
    {
     "name": "stderr",
     "output_type": "stream",
     "text": [
      "Epoch: 0:   0%|                                                                                              | 0/2 [00:00<?, ?it/s, lowest_loss=9999, pred_loss=0, trigger=0]"
     ]
    },
    {
     "name": "stdout",
     "output_type": "stream",
     "text": [
      "from block forward [(3, 1, 0, 1, 1, 12)]\n"
     ]
    },
    {
     "name": "stderr",
     "output_type": "stream",
     "text": [
      "Epoch: 1:  50%|█████████████████████████████████████▌                                     | 1/2 [00:00<00:00,  2.98it/s, lowest_loss=0.000274, pred_loss=0.000274, trigger=0]"
     ]
    },
    {
     "name": "stdout",
     "output_type": "stream",
     "text": [
      "from block forward [(3, 1, 0, 1, 1, 12)]\n",
      "from block forward [(3, 1, 0, 1, 1, 12)]\n"
     ]
    },
    {
     "name": "stderr",
     "output_type": "stream",
     "text": [
      "Epoch: 1: 100%|███████████████████████████████████████████████████████████████████████████| 2/2 [00:00<00:00,  2.59it/s, lowest_loss=0.000274, pred_loss=0.000274, trigger=0]\n"
     ]
    },
    {
     "name": "stdout",
     "output_type": "stream",
     "text": [
      "from block forward [(3, 1, 0, 1, 1, 12)]\n",
      "Now training on Block 3 of 27\n"
     ]
    },
    {
     "name": "stderr",
     "output_type": "stream",
     "text": [
      "Epoch: 1:   0%|                                                                                     | 0/2 [00:00<?, ?it/s, lowest_loss=0.00033, pred_loss=0.00033, trigger=0]"
     ]
    },
    {
     "name": "stdout",
     "output_type": "stream",
     "text": [
      "from block forward [(3, 1, 0, 1, 3, 1)]\n",
      "from block forward [(3, 1, 0, 1, 3, 1)]\n",
      "from block forward [(3, 1, 0, 1, 3, 1)]\n"
     ]
    },
    {
     "name": "stderr",
     "output_type": "stream",
     "text": [
      "Epoch: 1: 100%|█████████████████████████████████████████████████████████████████████████████| 2/2 [00:00<00:00, 11.25it/s, lowest_loss=0.00033, pred_loss=0.00033, trigger=0]\n"
     ]
    },
    {
     "name": "stdout",
     "output_type": "stream",
     "text": [
      "from block forward [(3, 1, 0, 1, 3, 1)]\n",
      "Now training on Block 4 of 27\n"
     ]
    },
    {
     "name": "stderr",
     "output_type": "stream",
     "text": [
      "Epoch: 0:   0%|                                                                                              | 0/2 [00:00<?, ?it/s, lowest_loss=9999, pred_loss=0, trigger=0]"
     ]
    },
    {
     "name": "stdout",
     "output_type": "stream",
     "text": [
      "from block forward [(3, 1, 0, 1, 3, 3)]\n"
     ]
    },
    {
     "name": "stderr",
     "output_type": "stream",
     "text": [
      "Epoch: 1: 100%|███████████████████████████████████████████████████████████████████████████| 2/2 [00:00<00:00, 12.19it/s, lowest_loss=0.000274, pred_loss=0.000274, trigger=0]\n"
     ]
    },
    {
     "name": "stdout",
     "output_type": "stream",
     "text": [
      "from block forward [(3, 1, 0, 1, 3, 3)]\n",
      "from block forward [(3, 1, 0, 1, 3, 3)]\n",
      "from block forward [(3, 1, 0, 1, 3, 3)]\n",
      "Now training on Block 5 of 27\n"
     ]
    },
    {
     "name": "stderr",
     "output_type": "stream",
     "text": [
      "Epoch: 0:   0%|                                                                                              | 0/2 [00:00<?, ?it/s, lowest_loss=9999, pred_loss=0, trigger=0]"
     ]
    },
    {
     "name": "stdout",
     "output_type": "stream",
     "text": [
      "from block forward [(3, 1, 0, 1, 3, 12)]\n"
     ]
    },
    {
     "name": "stderr",
     "output_type": "stream",
     "text": [
      "Epoch: 1:  50%|█████████████████████████████████████▌                                     | 1/2 [00:00<00:00,  4.48it/s, lowest_loss=0.000313, pred_loss=0.000313, trigger=0]"
     ]
    },
    {
     "name": "stdout",
     "output_type": "stream",
     "text": [
      "from block forward [(3, 1, 0, 1, 3, 12)]\n",
      "from block forward [(3, 1, 0, 1, 3, 12)]\n",
      "from block forward [(3, 1, 0, 1, 3, 12)]\n"
     ]
    },
    {
     "name": "stderr",
     "output_type": "stream",
     "text": [
      "Epoch: 1: 100%|███████████████████████████████████████████████████████████████████████████| 2/2 [00:00<00:00,  4.75it/s, lowest_loss=0.000313, pred_loss=0.000313, trigger=0]\n"
     ]
    },
    {
     "name": "stdout",
     "output_type": "stream",
     "text": [
      "Now training on Block 6 of 27\n"
     ]
    },
    {
     "name": "stderr",
     "output_type": "stream",
     "text": [
      "Epoch: 0:   0%|                                                                                              | 0/2 [00:00<?, ?it/s, lowest_loss=9999, pred_loss=0, trigger=0]"
     ]
    },
    {
     "name": "stdout",
     "output_type": "stream",
     "text": [
      "from block forward [(3, 1, 0, 1, 12, 1)]\n"
     ]
    },
    {
     "name": "stderr",
     "output_type": "stream",
     "text": [
      "Epoch: 1:  50%|█████████████████████████████████████▌                                     | 1/2 [00:00<00:00,  3.03it/s, lowest_loss=0.000278, pred_loss=0.000278, trigger=0]"
     ]
    },
    {
     "name": "stdout",
     "output_type": "stream",
     "text": [
      "from block forward [(3, 1, 0, 1, 12, 1)]\n",
      "from block forward [(3, 1, 0, 1, 12, 1)]\n"
     ]
    },
    {
     "name": "stderr",
     "output_type": "stream",
     "text": [
      "Epoch: 1: 100%|███████████████████████████████████████████████████████████████████████████| 2/2 [00:00<00:00,  3.13it/s, lowest_loss=0.000278, pred_loss=0.000278, trigger=0]\n"
     ]
    },
    {
     "name": "stdout",
     "output_type": "stream",
     "text": [
      "from block forward [(3, 1, 0, 1, 12, 1)]\n",
      "Now training on Block 7 of 27\n"
     ]
    },
    {
     "name": "stderr",
     "output_type": "stream",
     "text": [
      "Epoch: 0:   0%|                                                                                              | 0/2 [00:00<?, ?it/s, lowest_loss=9999, pred_loss=0, trigger=0]"
     ]
    },
    {
     "name": "stdout",
     "output_type": "stream",
     "text": [
      "from block forward [(3, 1, 0, 1, 12, 3)]\n"
     ]
    },
    {
     "name": "stderr",
     "output_type": "stream",
     "text": [
      "Epoch: 1:  50%|█████████████████████████████████████▌                                     | 1/2 [00:00<00:00,  4.61it/s, lowest_loss=0.000262, pred_loss=0.000262, trigger=0]"
     ]
    },
    {
     "name": "stdout",
     "output_type": "stream",
     "text": [
      "from block forward [(3, 1, 0, 1, 12, 3)]\n",
      "from block forward [(3, 1, 0, 1, 12, 3)]\n",
      "from block forward [(3, 1, 0, 1, 12, 3)]\n"
     ]
    },
    {
     "name": "stderr",
     "output_type": "stream",
     "text": [
      "Epoch: 1: 100%|███████████████████████████████████████████████████████████████████████████| 2/2 [00:00<00:00,  4.97it/s, lowest_loss=0.000262, pred_loss=0.000262, trigger=0]\n"
     ]
    },
    {
     "name": "stdout",
     "output_type": "stream",
     "text": [
      "Now training on Block 8 of 27\n"
     ]
    },
    {
     "name": "stderr",
     "output_type": "stream",
     "text": [
      "Epoch: 0:   0%|                                                                                              | 0/2 [00:00<?, ?it/s, lowest_loss=9999, pred_loss=0, trigger=0]"
     ]
    },
    {
     "name": "stdout",
     "output_type": "stream",
     "text": [
      "from block forward [(3, 1, 0, 1, 12, 12)]\n",
      "from block forward [(3, 1, 0, 1, 12, 12)]\n"
     ]
    },
    {
     "name": "stderr",
     "output_type": "stream",
     "text": [
      "Epoch: 1:  50%|█████████████████████████████████████▌                                     | 1/2 [00:01<00:01,  1.61s/it, lowest_loss=0.000236, pred_loss=0.000236, trigger=0]"
     ]
    },
    {
     "name": "stdout",
     "output_type": "stream",
     "text": [
      "from block forward [(3, 1, 0, 1, 12, 12)]\n",
      "from block forward [(3, 1, 0, 1, 12, 12)]\n"
     ]
    },
    {
     "name": "stderr",
     "output_type": "stream",
     "text": [
      "Epoch: 1: 100%|███████████████████████████████████████████████████████████████████████████| 2/2 [00:02<00:00,  1.37s/it, lowest_loss=0.000236, pred_loss=0.000236, trigger=0]\n"
     ]
    },
    {
     "name": "stdout",
     "output_type": "stream",
     "text": [
      "Now training on Block 9 of 27\n"
     ]
    },
    {
     "name": "stderr",
     "output_type": "stream",
     "text": [
      "Epoch: 1:  50%|█████████████████████████████████████▌                                     | 1/2 [00:00<00:00,  9.27it/s, lowest_loss=0.000246, pred_loss=0.000246, trigger=0]"
     ]
    },
    {
     "name": "stdout",
     "output_type": "stream",
     "text": [
      "from block forward [(3, 1, 0, 3, 1, 1)]\n",
      "from block forward [(3, 1, 0, 3, 1, 1)]\n",
      "from block forward [(3, 1, 0, 3, 1, 1)]\n",
      "from block forward [(3, 1, 0, 3, 1, 1)]\n"
     ]
    },
    {
     "name": "stderr",
     "output_type": "stream",
     "text": [
      "Epoch: 1: 100%|███████████████████████████████████████████████████████████████████████████| 2/2 [00:00<00:00,  9.99it/s, lowest_loss=0.000246, pred_loss=0.000246, trigger=0]\n"
     ]
    },
    {
     "name": "stdout",
     "output_type": "stream",
     "text": [
      "Now training on Block 10 of 27\n"
     ]
    },
    {
     "name": "stderr",
     "output_type": "stream",
     "text": [
      "Epoch: 1: 100%|███████████████████████████████████████████████████████████████████████████| 2/2 [00:00<00:00, 10.86it/s, lowest_loss=0.000291, pred_loss=0.000291, trigger=0]\n"
     ]
    },
    {
     "name": "stdout",
     "output_type": "stream",
     "text": [
      "from block forward [(3, 1, 0, 3, 1, 3)]\n",
      "from block forward [(3, 1, 0, 3, 1, 3)]\n",
      "from block forward [(3, 1, 0, 3, 1, 3)]\n",
      "from block forward [(3, 1, 0, 3, 1, 3)]\n",
      "Now training on Block 11 of 27\n"
     ]
    },
    {
     "name": "stderr",
     "output_type": "stream",
     "text": [
      "Epoch: 0:   0%|                                                                                              | 0/2 [00:00<?, ?it/s, lowest_loss=9999, pred_loss=0, trigger=0]"
     ]
    },
    {
     "name": "stdout",
     "output_type": "stream",
     "text": [
      "from block forward [(3, 1, 0, 3, 1, 12)]\n"
     ]
    },
    {
     "name": "stderr",
     "output_type": "stream",
     "text": [
      "Epoch: 1:  50%|█████████████████████████████████████▌                                     | 1/2 [00:00<00:00,  2.64it/s, lowest_loss=0.000322, pred_loss=0.000322, trigger=0]"
     ]
    },
    {
     "name": "stdout",
     "output_type": "stream",
     "text": [
      "from block forward [(3, 1, 0, 3, 1, 12)]\n",
      "from block forward [(3, 1, 0, 3, 1, 12)]\n"
     ]
    },
    {
     "name": "stderr",
     "output_type": "stream",
     "text": [
      "Epoch: 1: 100%|███████████████████████████████████████████████████████████████████████████| 2/2 [00:00<00:00,  2.84it/s, lowest_loss=0.000322, pred_loss=0.000322, trigger=0]\n"
     ]
    },
    {
     "name": "stdout",
     "output_type": "stream",
     "text": [
      "from block forward [(3, 1, 0, 3, 1, 12)]\n",
      "Now training on Block 12 of 27\n"
     ]
    },
    {
     "name": "stderr",
     "output_type": "stream",
     "text": [
      "Epoch: 1:  50%|█████████████████████████████████████▌                                     | 1/2 [00:00<00:00,  9.94it/s, lowest_loss=0.000278, pred_loss=0.000278, trigger=0]"
     ]
    },
    {
     "name": "stdout",
     "output_type": "stream",
     "text": [
      "from block forward [(3, 1, 0, 3, 3, 1)]\n",
      "from block forward [(3, 1, 0, 3, 3, 1)]\n"
     ]
    },
    {
     "name": "stderr",
     "output_type": "stream",
     "text": [
      "Epoch: 1: 100%|███████████████████████████████████████████████████████████████████████████| 2/2 [00:00<00:00, 10.21it/s, lowest_loss=0.000278, pred_loss=0.000278, trigger=0]\n"
     ]
    },
    {
     "name": "stdout",
     "output_type": "stream",
     "text": [
      "from block forward [(3, 1, 0, 3, 3, 1)]\n",
      "from block forward [(3, 1, 0, 3, 3, 1)]\n",
      "Now training on Block 13 of 27\n"
     ]
    },
    {
     "name": "stderr",
     "output_type": "stream",
     "text": [
      "Epoch: 1:  50%|█████████████████████████████████████▌                                     | 1/2 [00:00<00:00,  7.94it/s, lowest_loss=0.000309, pred_loss=0.000309, trigger=0]"
     ]
    },
    {
     "name": "stdout",
     "output_type": "stream",
     "text": [
      "from block forward [(3, 1, 0, 3, 3, 3)]\n",
      "from block forward [(3, 1, 0, 3, 3, 3)]\n"
     ]
    },
    {
     "name": "stderr",
     "output_type": "stream",
     "text": [
      "Epoch: 1: 100%|███████████████████████████████████████████████████████████████████████████| 2/2 [00:00<00:00,  8.78it/s, lowest_loss=0.000309, pred_loss=0.000309, trigger=0]"
     ]
    },
    {
     "name": "stdout",
     "output_type": "stream",
     "text": [
      "from block forward [(3, 1, 0, 3, 3, 3)]\n",
      "from block forward [(3, 1, 0, 3, 3, 3)]\n",
      "Now training on Block 14 of 27\n"
     ]
    },
    {
     "name": "stderr",
     "output_type": "stream",
     "text": [
      "\n",
      "Epoch: 0:   0%|                                                                                              | 0/2 [00:00<?, ?it/s, lowest_loss=9999, pred_loss=0, trigger=0]"
     ]
    },
    {
     "name": "stdout",
     "output_type": "stream",
     "text": [
      "from block forward [(3, 1, 0, 3, 3, 12)]\n"
     ]
    },
    {
     "name": "stderr",
     "output_type": "stream",
     "text": [
      "Epoch: 1:  50%|█████████████████████████████████████▌                                     | 1/2 [00:00<00:00,  1.80it/s, lowest_loss=0.000303, pred_loss=0.000303, trigger=0]"
     ]
    },
    {
     "name": "stdout",
     "output_type": "stream",
     "text": [
      "from block forward [(3, 1, 0, 3, 3, 12)]\n",
      "from block forward [(3, 1, 0, 3, 3, 12)]\n"
     ]
    },
    {
     "name": "stderr",
     "output_type": "stream",
     "text": [
      "Epoch: 1: 100%|███████████████████████████████████████████████████████████████████████████| 2/2 [00:01<00:00,  1.92it/s, lowest_loss=0.000303, pred_loss=0.000303, trigger=0]\n"
     ]
    },
    {
     "name": "stdout",
     "output_type": "stream",
     "text": [
      "from block forward [(3, 1, 0, 3, 3, 12)]\n",
      "Now training on Block 15 of 27\n"
     ]
    },
    {
     "name": "stderr",
     "output_type": "stream",
     "text": [
      "Epoch: 0:   0%|                                                                                              | 0/2 [00:00<?, ?it/s, lowest_loss=9999, pred_loss=0, trigger=0]"
     ]
    },
    {
     "name": "stdout",
     "output_type": "stream",
     "text": [
      "from block forward [(3, 1, 0, 3, 12, 1)]\n"
     ]
    },
    {
     "name": "stderr",
     "output_type": "stream",
     "text": [
      "Epoch: 1:  50%|█████████████████████████████████████▌                                     | 1/2 [00:00<00:00,  2.97it/s, lowest_loss=0.000336, pred_loss=0.000336, trigger=0]"
     ]
    },
    {
     "name": "stdout",
     "output_type": "stream",
     "text": [
      "from block forward [(3, 1, 0, 3, 12, 1)]\n",
      "from block forward [(3, 1, 0, 3, 12, 1)]\n"
     ]
    },
    {
     "name": "stderr",
     "output_type": "stream",
     "text": [
      "Epoch: 1: 100%|███████████████████████████████████████████████████████████████████████████| 2/2 [00:00<00:00,  3.02it/s, lowest_loss=0.000336, pred_loss=0.000336, trigger=0]\n"
     ]
    },
    {
     "name": "stdout",
     "output_type": "stream",
     "text": [
      "from block forward [(3, 1, 0, 3, 12, 1)]\n",
      "Now training on Block 16 of 27\n"
     ]
    },
    {
     "name": "stderr",
     "output_type": "stream",
     "text": [
      "Epoch: 0:   0%|                                                                                              | 0/2 [00:00<?, ?it/s, lowest_loss=9999, pred_loss=0, trigger=0]"
     ]
    },
    {
     "name": "stdout",
     "output_type": "stream",
     "text": [
      "from block forward [(3, 1, 0, 3, 12, 3)]\n"
     ]
    },
    {
     "name": "stderr",
     "output_type": "stream",
     "text": [
      "Epoch: 1:  50%|█████████████████████████████████████▌                                     | 1/2 [00:00<00:00,  1.65it/s, lowest_loss=0.000288, pred_loss=0.000288, trigger=0]"
     ]
    },
    {
     "name": "stdout",
     "output_type": "stream",
     "text": [
      "from block forward [(3, 1, 0, 3, 12, 3)]\n",
      "from block forward [(3, 1, 0, 3, 12, 3)]\n"
     ]
    },
    {
     "name": "stderr",
     "output_type": "stream",
     "text": [
      "Epoch: 1: 100%|███████████████████████████████████████████████████████████████████████████| 2/2 [00:01<00:00,  1.78it/s, lowest_loss=0.000288, pred_loss=0.000288, trigger=0]\n"
     ]
    },
    {
     "name": "stdout",
     "output_type": "stream",
     "text": [
      "from block forward [(3, 1, 0, 3, 12, 3)]\n",
      "Now training on Block 17 of 27\n"
     ]
    },
    {
     "name": "stderr",
     "output_type": "stream",
     "text": [
      "Epoch: 0:   0%|                                                                                              | 0/2 [00:00<?, ?it/s, lowest_loss=9999, pred_loss=0, trigger=0]"
     ]
    },
    {
     "name": "stdout",
     "output_type": "stream",
     "text": [
      "from block forward [(3, 1, 0, 3, 12, 12)]\n",
      "from block forward [(3, 1, 0, 3, 12, 12)]\n"
     ]
    },
    {
     "name": "stderr",
     "output_type": "stream",
     "text": [
      "Epoch: 1:  50%|██████████████████████████████████████▌                                      | 1/2 [00:10<00:10, 10.12s/it, lowest_loss=0.00034, pred_loss=0.00034, trigger=0]"
     ]
    },
    {
     "name": "stdout",
     "output_type": "stream",
     "text": [
      "from block forward [(3, 1, 0, 3, 12, 12)]\n",
      "from block forward [(3, 1, 0, 3, 12, 12)]\n"
     ]
    },
    {
     "name": "stderr",
     "output_type": "stream",
     "text": [
      "Epoch: 1: 100%|█████████████████████████████████████████████████████████████████████████████| 2/2 [00:17<00:00,  8.57s/it, lowest_loss=0.00034, pred_loss=0.00034, trigger=0]\n"
     ]
    },
    {
     "name": "stdout",
     "output_type": "stream",
     "text": [
      "Now training on Block 18 of 27\n"
     ]
    },
    {
     "name": "stderr",
     "output_type": "stream",
     "text": [
      "Epoch: 0:   0%|                                                                                              | 0/2 [00:00<?, ?it/s, lowest_loss=9999, pred_loss=0, trigger=0]"
     ]
    },
    {
     "name": "stdout",
     "output_type": "stream",
     "text": [
      "from block forward [(3, 1, 0, 12, 1, 1)]\n",
      "from block forward [(3, 1, 0, 12, 1, 1)]\n"
     ]
    },
    {
     "name": "stderr",
     "output_type": "stream",
     "text": [
      "Epoch: 1:  50%|█████████████████████████████████████▌                                     | 1/2 [00:00<00:00,  3.13it/s, lowest_loss=0.000322, pred_loss=0.000322, trigger=0]"
     ]
    },
    {
     "name": "stdout",
     "output_type": "stream",
     "text": [
      "from block forward [(3, 1, 0, 12, 1, 1)]\n",
      "from block forward [(3, 1, 0, 12, 1, 1)]\n"
     ]
    },
    {
     "name": "stderr",
     "output_type": "stream",
     "text": [
      "Epoch: 1: 100%|███████████████████████████████████████████████████████████████████████████| 2/2 [00:00<00:00,  3.39it/s, lowest_loss=0.000322, pred_loss=0.000322, trigger=0]\n"
     ]
    },
    {
     "name": "stdout",
     "output_type": "stream",
     "text": [
      "Now training on Block 19 of 27\n"
     ]
    },
    {
     "name": "stderr",
     "output_type": "stream",
     "text": [
      "Epoch: 0:   0%|                                                                                              | 0/2 [00:00<?, ?it/s, lowest_loss=9999, pred_loss=0, trigger=0]"
     ]
    },
    {
     "name": "stdout",
     "output_type": "stream",
     "text": [
      "from block forward [(3, 1, 0, 12, 1, 3)]\n",
      "from block forward [(3, 1, 0, 12, 1, 3)]\n"
     ]
    },
    {
     "name": "stderr",
     "output_type": "stream",
     "text": [
      "Epoch: 1:  50%|█████████████████████████████████████▌                                     | 1/2 [00:00<00:00,  4.04it/s, lowest_loss=0.000277, pred_loss=0.000277, trigger=0]"
     ]
    },
    {
     "name": "stdout",
     "output_type": "stream",
     "text": [
      "from block forward [(3, 1, 0, 12, 1, 3)]\n"
     ]
    },
    {
     "name": "stderr",
     "output_type": "stream",
     "text": [
      "Epoch: 1: 100%|███████████████████████████████████████████████████████████████████████████| 2/2 [00:00<00:00,  4.00it/s, lowest_loss=0.000277, pred_loss=0.000277, trigger=0]"
     ]
    },
    {
     "name": "stdout",
     "output_type": "stream",
     "text": [
      "from block forward [(3, 1, 0, 12, 1, 3)]\n",
      "Now training on Block 20 of 27\n"
     ]
    },
    {
     "name": "stderr",
     "output_type": "stream",
     "text": [
      "\n",
      "Epoch: 0:   0%|                                                                                              | 0/2 [00:00<?, ?it/s, lowest_loss=9999, pred_loss=0, trigger=0]"
     ]
    },
    {
     "name": "stdout",
     "output_type": "stream",
     "text": [
      "from block forward [(3, 1, 0, 12, 1, 12)]\n"
     ]
    },
    {
     "name": "stderr",
     "output_type": "stream",
     "text": [
      "Epoch: 1:  50%|█████████████████████████████████████▌                                     | 1/2 [00:00<00:00,  1.03it/s, lowest_loss=0.000318, pred_loss=0.000318, trigger=0]"
     ]
    },
    {
     "name": "stdout",
     "output_type": "stream",
     "text": [
      "from block forward [(3, 1, 0, 12, 1, 12)]\n",
      "from block forward [(3, 1, 0, 12, 1, 12)]\n"
     ]
    },
    {
     "name": "stderr",
     "output_type": "stream",
     "text": [
      "Epoch: 1: 100%|███████████████████████████████████████████████████████████████████████████| 2/2 [00:01<00:00,  1.09it/s, lowest_loss=0.000318, pred_loss=0.000318, trigger=0]"
     ]
    },
    {
     "name": "stdout",
     "output_type": "stream",
     "text": [
      "from block forward [(3, 1, 0, 12, 1, 12)]\n",
      "Now training on Block 21 of 27\n"
     ]
    },
    {
     "name": "stderr",
     "output_type": "stream",
     "text": [
      "\n",
      "Epoch: 0:   0%|                                                                                              | 0/2 [00:00<?, ?it/s, lowest_loss=9999, pred_loss=0, trigger=0]"
     ]
    },
    {
     "name": "stdout",
     "output_type": "stream",
     "text": [
      "from block forward [(3, 1, 0, 12, 3, 1)]\n",
      "from block forward [(3, 1, 0, 12, 3, 1)]\n"
     ]
    },
    {
     "name": "stderr",
     "output_type": "stream",
     "text": [
      "Epoch: 1:  50%|██████████████████████████████████████▌                                      | 1/2 [00:00<00:00,  2.41it/s, lowest_loss=0.00029, pred_loss=0.00029, trigger=0]"
     ]
    },
    {
     "name": "stdout",
     "output_type": "stream",
     "text": [
      "from block forward [(3, 1, 0, 12, 3, 1)]\n"
     ]
    },
    {
     "name": "stderr",
     "output_type": "stream",
     "text": [
      "Epoch: 1: 100%|█████████████████████████████████████████████████████████████████████████████| 2/2 [00:00<00:00,  2.66it/s, lowest_loss=0.00029, pred_loss=0.00029, trigger=0]\n"
     ]
    },
    {
     "name": "stdout",
     "output_type": "stream",
     "text": [
      "from block forward [(3, 1, 0, 12, 3, 1)]\n",
      "Now training on Block 22 of 27\n"
     ]
    },
    {
     "name": "stderr",
     "output_type": "stream",
     "text": [
      "Epoch: 0:   0%|                                                                                              | 0/2 [00:00<?, ?it/s, lowest_loss=9999, pred_loss=0, trigger=0]"
     ]
    },
    {
     "name": "stdout",
     "output_type": "stream",
     "text": [
      "from block forward [(3, 1, 0, 12, 3, 3)]\n",
      "from block forward [(3, 1, 0, 12, 3, 3)]\n"
     ]
    },
    {
     "name": "stderr",
     "output_type": "stream",
     "text": [
      "Epoch: 1:  50%|██████████████████████████████████████▌                                      | 1/2 [00:00<00:00,  1.24it/s, lowest_loss=0.00037, pred_loss=0.00037, trigger=0]"
     ]
    },
    {
     "name": "stdout",
     "output_type": "stream",
     "text": [
      "from block forward [(3, 1, 0, 12, 3, 3)]\n"
     ]
    },
    {
     "name": "stderr",
     "output_type": "stream",
     "text": [
      "Epoch: 1: 100%|█████████████████████████████████████████████████████████████████████████████| 2/2 [00:01<00:00,  1.19it/s, lowest_loss=0.00037, pred_loss=0.00037, trigger=0]\n"
     ]
    },
    {
     "name": "stdout",
     "output_type": "stream",
     "text": [
      "from block forward [(3, 1, 0, 12, 3, 3)]\n",
      "Now training on Block 23 of 27\n"
     ]
    },
    {
     "name": "stderr",
     "output_type": "stream",
     "text": [
      "Epoch: 0:   0%|                                                                                              | 0/2 [00:00<?, ?it/s, lowest_loss=9999, pred_loss=0, trigger=0]"
     ]
    },
    {
     "name": "stdout",
     "output_type": "stream",
     "text": [
      "from block forward [(3, 1, 0, 12, 3, 12)]\n",
      "from block forward [(3, 1, 0, 12, 3, 12)]\n"
     ]
    },
    {
     "name": "stderr",
     "output_type": "stream",
     "text": [
      "Epoch: 1:  50%|█████████████████████████████████████▌                                     | 1/2 [00:03<00:03,  3.08s/it, lowest_loss=0.000274, pred_loss=0.000274, trigger=0]"
     ]
    },
    {
     "name": "stdout",
     "output_type": "stream",
     "text": [
      "from block forward [(3, 1, 0, 12, 3, 12)]\n",
      "from block forward [(3, 1, 0, 12, 3, 12)]\n"
     ]
    },
    {
     "name": "stderr",
     "output_type": "stream",
     "text": [
      "Epoch: 1: 100%|███████████████████████████████████████████████████████████████████████████| 2/2 [00:06<00:00,  3.30s/it, lowest_loss=0.000274, pred_loss=0.000274, trigger=0]\n"
     ]
    },
    {
     "name": "stdout",
     "output_type": "stream",
     "text": [
      "Now training on Block 24 of 27\n"
     ]
    },
    {
     "name": "stderr",
     "output_type": "stream",
     "text": [
      "Epoch: 0:   0%|                                                                                              | 0/2 [00:00<?, ?it/s, lowest_loss=9999, pred_loss=0, trigger=0]"
     ]
    },
    {
     "name": "stdout",
     "output_type": "stream",
     "text": [
      "from block forward [(3, 1, 0, 12, 12, 1)]\n",
      "from block forward [(3, 1, 0, 12, 12, 1)]\n"
     ]
    },
    {
     "name": "stderr",
     "output_type": "stream",
     "text": [
      "Epoch: 1:  50%|█████████████████████████████████████▌                                     | 1/2 [00:01<00:01,  1.08s/it, lowest_loss=0.000341, pred_loss=0.000341, trigger=0]"
     ]
    },
    {
     "name": "stdout",
     "output_type": "stream",
     "text": [
      "from block forward [(3, 1, 0, 12, 12, 1)]\n",
      "from block forward [(3, 1, 0, 12, 12, 1)]\n"
     ]
    },
    {
     "name": "stderr",
     "output_type": "stream",
     "text": [
      "Epoch: 1: 100%|███████████████████████████████████████████████████████████████████████████| 2/2 [00:02<00:00,  1.17s/it, lowest_loss=0.000341, pred_loss=0.000341, trigger=0]\n"
     ]
    },
    {
     "name": "stdout",
     "output_type": "stream",
     "text": [
      "Now training on Block 25 of 27\n"
     ]
    },
    {
     "name": "stderr",
     "output_type": "stream",
     "text": [
      "Epoch: 0:   0%|                                                                                              | 0/2 [00:00<?, ?it/s, lowest_loss=9999, pred_loss=0, trigger=0]"
     ]
    },
    {
     "name": "stdout",
     "output_type": "stream",
     "text": [
      "from block forward [(3, 1, 0, 12, 12, 3)]\n",
      "from block forward [(3, 1, 0, 12, 12, 3)]\n"
     ]
    },
    {
     "name": "stderr",
     "output_type": "stream",
     "text": [
      "Epoch: 1:  50%|█████████████████████████████████████▌                                     | 1/2 [00:04<00:04,  4.51s/it, lowest_loss=0.000298, pred_loss=0.000298, trigger=0]"
     ]
    },
    {
     "name": "stdout",
     "output_type": "stream",
     "text": [
      "from block forward [(3, 1, 0, 12, 12, 3)]\n",
      "from block forward [(3, 1, 0, 12, 12, 3)]\n"
     ]
    },
    {
     "name": "stderr",
     "output_type": "stream",
     "text": [
      "Epoch: 1: 100%|███████████████████████████████████████████████████████████████████████████| 2/2 [00:07<00:00,  3.85s/it, lowest_loss=0.000298, pred_loss=0.000298, trigger=0]\n"
     ]
    },
    {
     "name": "stdout",
     "output_type": "stream",
     "text": [
      "Now training on Block 26 of 27\n"
     ]
    },
    {
     "name": "stderr",
     "output_type": "stream",
     "text": [
      "Epoch: 0:   0%|                                                                                              | 0/2 [00:00<?, ?it/s, lowest_loss=9999, pred_loss=0, trigger=0]"
     ]
    },
    {
     "name": "stdout",
     "output_type": "stream",
     "text": [
      "from block forward [(3, 1, 0, 12, 12, 12)]\n",
      "from block forward [(3, 1, 0, 12, 12, 12)]\n"
     ]
    },
    {
     "name": "stderr",
     "output_type": "stream",
     "text": [
      "Epoch: 1:  50%|█████████████████████████████████████▌                                     | 1/2 [00:19<00:19, 19.76s/it, lowest_loss=0.000311, pred_loss=0.000311, trigger=0]"
     ]
    },
    {
     "name": "stdout",
     "output_type": "stream",
     "text": [
      "from block forward [(3, 1, 0, 12, 12, 12)]\n",
      "from block forward [(3, 1, 0, 12, 12, 12)]\n"
     ]
    },
    {
     "name": "stderr",
     "output_type": "stream",
     "text": [
      "Epoch: 1: 100%|███████████████████████████████████████████████████████████████████████████| 2/2 [00:39<00:00, 19.59s/it, lowest_loss=0.000311, pred_loss=0.000311, trigger=0]\n"
     ]
    }
   ],
   "source": [
    "model.fit(train_loader, regularization_dict, optimizer_type=\"Adam\", n_epochs=2, loss_function=mse_loss, lr=0.01)"
   ]
  },
  {
   "cell_type": "code",
   "execution_count": 28,
   "id": "ef1ca8ec",
   "metadata": {
    "hidden": true
   },
   "outputs": [
    {
     "ename": "AttributeError",
     "evalue": "'TensorBlock' object has no attribute 'keys'",
     "output_type": "error",
     "traceback": [
      "\u001b[0;31m---------------------------------------------------------------------------\u001b[0m",
      "\u001b[0;31mAttributeError\u001b[0m                            Traceback (most recent call last)",
      "Cell \u001b[0;32mIn [28], line 3\u001b[0m\n\u001b[1;32m      1\u001b[0m \u001b[38;5;28;01mfor\u001b[39;00m x_data, structures \u001b[38;5;129;01min\u001b[39;00m test_loader:\n\u001b[1;32m      2\u001b[0m \u001b[38;5;66;03m#     print(x_data)\u001b[39;00m\n\u001b[0;32m----> 3\u001b[0m     pred \u001b[38;5;241m=\u001b[39m \u001b[43mmodel\u001b[49m\u001b[43m(\u001b[49m\u001b[43mx_data\u001b[49m\u001b[43m)\u001b[49m\n\u001b[1;32m      4\u001b[0m \u001b[38;5;66;03m#     print (\"Test error for mse_full is {}\".format(mse_full(pred, )))\u001b[39;00m\n",
      "File \u001b[0;32m~/miniconda3/lib/python3.8/site-packages/torch/nn/modules/module.py:1190\u001b[0m, in \u001b[0;36mModule._call_impl\u001b[0;34m(self, *input, **kwargs)\u001b[0m\n\u001b[1;32m   1186\u001b[0m \u001b[38;5;66;03m# If we don't have any hooks, we want to skip the rest of the logic in\u001b[39;00m\n\u001b[1;32m   1187\u001b[0m \u001b[38;5;66;03m# this function, and just call forward.\u001b[39;00m\n\u001b[1;32m   1188\u001b[0m \u001b[38;5;28;01mif\u001b[39;00m \u001b[38;5;129;01mnot\u001b[39;00m (\u001b[38;5;28mself\u001b[39m\u001b[38;5;241m.\u001b[39m_backward_hooks \u001b[38;5;129;01mor\u001b[39;00m \u001b[38;5;28mself\u001b[39m\u001b[38;5;241m.\u001b[39m_forward_hooks \u001b[38;5;129;01mor\u001b[39;00m \u001b[38;5;28mself\u001b[39m\u001b[38;5;241m.\u001b[39m_forward_pre_hooks \u001b[38;5;129;01mor\u001b[39;00m _global_backward_hooks\n\u001b[1;32m   1189\u001b[0m         \u001b[38;5;129;01mor\u001b[39;00m _global_forward_hooks \u001b[38;5;129;01mor\u001b[39;00m _global_forward_pre_hooks):\n\u001b[0;32m-> 1190\u001b[0m     \u001b[38;5;28;01mreturn\u001b[39;00m \u001b[43mforward_call\u001b[49m\u001b[43m(\u001b[49m\u001b[38;5;241;43m*\u001b[39;49m\u001b[38;5;28;43minput\u001b[39;49m\u001b[43m,\u001b[49m\u001b[43m \u001b[49m\u001b[38;5;241;43m*\u001b[39;49m\u001b[38;5;241;43m*\u001b[39;49m\u001b[43mkwargs\u001b[49m\u001b[43m)\u001b[49m\n\u001b[1;32m   1191\u001b[0m \u001b[38;5;66;03m# Do not call functions when jit is used\u001b[39;00m\n\u001b[1;32m   1192\u001b[0m full_backward_hooks, non_full_backward_hooks \u001b[38;5;241m=\u001b[39m [], []\n",
      "Cell \u001b[0;32mIn [21], line 153\u001b[0m, in \u001b[0;36mThreeCenterModel.forward\u001b[0;34m(self, feature)\u001b[0m\n\u001b[1;32m    149\u001b[0m         pred_blocks \u001b[38;5;241m=\u001b[39m[]\n\u001b[1;32m    150\u001b[0m         \u001b[38;5;28;01mfor\u001b[39;00m k, block \u001b[38;5;129;01min\u001b[39;00m feature:\n\u001b[1;32m    151\u001b[0m \u001b[38;5;66;03m#             print(self[str(k)])\u001b[39;00m\n\u001b[0;32m--> 153\u001b[0m             recons \u001b[38;5;241m=\u001b[39m \u001b[38;5;28;43mself\u001b[39;49m\u001b[38;5;241;43m.\u001b[39;49m\u001b[43mmodels\u001b[49m\u001b[43m[\u001b[49m\u001b[38;5;28;43mstr\u001b[39;49m\u001b[43m(\u001b[49m\u001b[43mk\u001b[49m\u001b[43m)\u001b[49m\u001b[43m]\u001b[49m\u001b[38;5;241;43m.\u001b[39;49m\u001b[43mforward\u001b[49m\u001b[43m(\u001b[49m\u001b[43mblock\u001b[49m\u001b[43m)\u001b[49m \u001b[38;5;66;03m# expects a tensorMap\u001b[39;00m\n\u001b[1;32m    155\u001b[0m             newblock \u001b[38;5;241m=\u001b[39m TensorBlock(\n\u001b[1;32m    156\u001b[0m                         values\u001b[38;5;241m=\u001b[39mrecons\u001b[38;5;241m.\u001b[39mreshape(block\u001b[38;5;241m.\u001b[39mvalues\u001b[38;5;241m.\u001b[39mshape),\n\u001b[1;32m    157\u001b[0m                         samples\u001b[38;5;241m=\u001b[39mblock\u001b[38;5;241m.\u001b[39msamples,\n\u001b[1;32m    158\u001b[0m                         components\u001b[38;5;241m=\u001b[39mblock\u001b[38;5;241m.\u001b[39mcomponents,\n\u001b[1;32m    159\u001b[0m                         properties\u001b[38;5;241m=\u001b[39m block\u001b[38;5;241m.\u001b[39mproperties\n\u001b[1;32m    160\u001b[0m                     )\n\u001b[1;32m    161\u001b[0m             pred_blocks\u001b[38;5;241m.\u001b[39mappend(newblock) \n",
      "Cell \u001b[0;32mIn [21], line 23\u001b[0m, in \u001b[0;36mBlockEncoderDecoder.forward\u001b[0;34m(self, x)\u001b[0m\n\u001b[1;32m     22\u001b[0m \u001b[38;5;28;01mdef\u001b[39;00m \u001b[38;5;21mforward\u001b[39m(\u001b[38;5;28mself\u001b[39m, x):\n\u001b[0;32m---> 23\u001b[0m     \u001b[38;5;28mprint\u001b[39m(\u001b[38;5;124m\"\u001b[39m\u001b[38;5;124mfrom block forward\u001b[39m\u001b[38;5;124m\"\u001b[39m, \u001b[43mx\u001b[49m\u001b[38;5;241;43m.\u001b[39;49m\u001b[43mkeys\u001b[49m)\n\u001b[1;32m     24\u001b[0m     x \u001b[38;5;241m=\u001b[39m torch\u001b[38;5;241m.\u001b[39mfrom_numpy(x\u001b[38;5;241m.\u001b[39mblock()\u001b[38;5;241m.\u001b[39mvalues)\n\u001b[1;32m     25\u001b[0m     activation \u001b[38;5;241m=\u001b[39m \u001b[38;5;28mself\u001b[39m\u001b[38;5;241m.\u001b[39mencoder_hidden_layer(x)\n",
      "\u001b[0;31mAttributeError\u001b[0m: 'TensorBlock' object has no attribute 'keys'"
     ]
    }
   ],
   "source": [
    "for x_data, structures in test_loader:\n",
    "#     print(x_data)\n",
    "    pred = model(x_data)\n",
    "#     print (\"Test error for mse_full is {}\".format(mse_full(pred, )))"
   ]
  },
  {
   "cell_type": "code",
   "execution_count": null,
   "id": "e67306ed",
   "metadata": {
    "hidden": true
   },
   "outputs": [],
   "source": [
    "# aa=[]\n",
    "# bb=[]\n",
    "# for x, y in train_loader:\n",
    "#     aa.append(x)\n",
    "#     bb.append(y)\n",
    "# from itertools import chain\n",
    "# list(chain.from_iterable(bb))==frames[:400]"
   ]
  },
  {
   "cell_type": "code",
   "execution_count": null,
   "id": "22d64830",
   "metadata": {
    "hidden": true
   },
   "outputs": [],
   "source": []
  },
  {
   "cell_type": "code",
   "execution_count": null,
   "id": "4397a414",
   "metadata": {
    "hidden": true
   },
   "outputs": [],
   "source": []
  },
  {
   "cell_type": "code",
   "execution_count": 10,
   "id": "20deb550",
   "metadata": {
    "hidden": true
   },
   "outputs": [],
   "source": [
    "rascal_hypers = {\n",
    "    \"interaction_cutoff\": 4.5,\n",
    "    \"cutoff_smooth_width\": 0.3,\n",
    "    \"max_radial\": 4,\n",
    "    \"max_angular\": 2,\n",
    "    \"gaussian_sigma_type\": \"Constant\",\n",
    "    \"compute_gradients\":  False,\n",
    "#     \"expansion_by_species_method\": \"user defined\",\n",
    "#     \"global_species\": [1,6,8,7]\n",
    "    \n",
    "}\n",
    "\n",
    "cg = ClebschGordanReal(5)\n",
    "\n",
    "spex = RascalSphericalExpansion(rascal_hypers)\n",
    "rhoi = spex.compute(frames)\n",
    "pairs = RascalPairExpansion(rascal_hypers)\n",
    "gij = pairs.compute(frames)"
   ]
  },
  {
   "cell_type": "markdown",
   "id": "af985066",
   "metadata": {
    "hidden": true
   },
   "source": [
    "### $\\rho_{i}^{\\otimes 3}$"
   ]
  },
  {
   "cell_type": "code",
   "execution_count": 23,
   "id": "d8e04faa",
   "metadata": {
    "hidden": true
   },
   "outputs": [],
   "source": [
    "rho1i = acdc_standardize_keys(rhoi)\n",
    "rho1i = rho1i.keys_to_properties(['species_neighbor'])\n",
    "\n",
    "rho2i = cg_increment(rho1i, rho1i, lcut=4, other_keys_match=[\"species_center\"], clebsch_gordan=cg)\n",
    "rho3i =  cg_increment(rho2i, rho1i, lcut=0, other_keys_match=[\"species_center\"], clebsch_gordan=cg)"
   ]
  },
  {
   "cell_type": "markdown",
   "id": "28449f58",
   "metadata": {
    "hidden": true
   },
   "source": [
    "### $\\rho_{i i_1 i_2}^{\\otimes 1}$"
   ]
  },
  {
   "cell_type": "code",
   "execution_count": 26,
   "id": "24d3feb1",
   "metadata": {
    "hidden": true
   },
   "outputs": [],
   "source": [
    "gij =  acdc_standardize_keys(gij)\n",
    "rhoii1i2_nu0 = cg_combine(gij, gij, clebsch_gordan=cg,lcut=4, other_keys_match=['species_center'])\n",
    "rhoii1i2_nu1 =  cg_combine(rho1i, rhoii1i2_nu0, clebsch_gordan=cg, lcut=0, other_keys_match = ['species_center'])\n"
   ]
  },
  {
   "cell_type": "markdown",
   "id": "3fde0c55",
   "metadata": {
    "hidden": true
   },
   "source": [
    "### check degeneracy of $\\rho_{i}^{\\otimes 3}$"
   ]
  },
  {
   "cell_type": "code",
   "execution_count": 30,
   "id": "1952f080",
   "metadata": {
    "hidden": true
   },
   "outputs": [
    {
     "data": {
      "text/plain": [
       "1.680772513045776e-22"
      ]
     },
     "execution_count": 30,
     "metadata": {},
     "output_type": "execute_result"
    }
   ],
   "source": [
    "np.linalg.norm(rho3i.block(species_center = 3, inversion_sigma = 1).values[0] - rho3i.block(species_center = 3, inversion_sigma = 1).values[1])"
   ]
  },
  {
   "cell_type": "code",
   "execution_count": 29,
   "id": "e77496a7",
   "metadata": {
    "hidden": true
   },
   "outputs": [],
   "source": [
    "# rhoii1i2_nu1.keys_to_properties('species_neighbor_1')\n",
    "# rhoii1i2_nu1.keys_to_properties('species_neighbor_2')"
   ]
  },
  {
   "cell_type": "code",
   "execution_count": 49,
   "id": "e9df374b",
   "metadata": {
    "hidden": true
   },
   "outputs": [
    {
     "data": {
      "text/plain": [
       "Labels([(1, 0, 1, 1), (1, 0, 1, 2), (1, 0, 1, 3), (1, 0, 1, 4),\n",
       "        (1, 0, 1, 5), (1, 0, 1, 6), (1, 0, 2, 1), (1, 0, 2, 2),\n",
       "        (1, 0, 2, 3), (1, 0, 2, 4), (1, 0, 2, 5), (1, 0, 2, 6),\n",
       "        (1, 0, 3, 1), (1, 0, 3, 2), (1, 0, 3, 3), (1, 0, 3, 4),\n",
       "        (1, 0, 3, 5), (1, 0, 3, 6), (1, 0, 4, 1), (1, 0, 4, 2),\n",
       "        (1, 0, 4, 3), (1, 0, 4, 4), (1, 0, 4, 5), (1, 0, 4, 6),\n",
       "        (1, 0, 5, 1), (1, 0, 5, 2), (1, 0, 5, 3), (1, 0, 5, 4),\n",
       "        (1, 0, 5, 5), (1, 0, 5, 6), (1, 0, 6, 1), (1, 0, 6, 2),\n",
       "        (1, 0, 6, 3), (1, 0, 6, 4), (1, 0, 6, 5), (1, 0, 6, 6)],\n",
       "       dtype=[('structure', '<i4'), ('center', '<i4'), ('neighbor_1', '<i4'), ('neighbor_2', '<i4')])"
      ]
     },
     "execution_count": 49,
     "metadata": {},
     "output_type": "execute_result"
    }
   ],
   "source": [
    "rhoii1i2_nu1.block(species_center = 3,species_neighbor_a=12, species_neighbor_b=12, inversion_sigma=1).samples[36:72]#values.shape\n"
   ]
  },
  {
   "cell_type": "code",
   "execution_count": 46,
   "id": "840362bc",
   "metadata": {
    "hidden": true
   },
   "outputs": [
    {
     "data": {
      "text/plain": [
       "2.5486800904721503e-07"
      ]
     },
     "execution_count": 46,
     "metadata": {},
     "output_type": "execute_result"
    }
   ],
   "source": [
    "np.linalg.norm(rhoii1i2_nu1.block(species_center = 3,species_neighbor_a=1, species_neighbor_b=12, inversion_sigma=1 ).values[:36])"
   ]
  }
 ],
 "metadata": {
  "kernelspec": {
   "display_name": "Python 3 (ipykernel)",
   "language": "python",
   "name": "python3"
  },
  "language_info": {
   "codemirror_mode": {
    "name": "ipython",
    "version": 3
   },
   "file_extension": ".py",
   "mimetype": "text/x-python",
   "name": "python",
   "nbconvert_exporter": "python",
   "pygments_lexer": "ipython3",
   "version": "3.8.11"
  },
  "toc": {
   "base_numbering": 1,
   "nav_menu": {},
   "number_sections": true,
   "sideBar": true,
   "skip_h1_title": false,
   "title_cell": "Table of Contents",
   "title_sidebar": "Contents",
   "toc_cell": true,
   "toc_position": {
    "height": "529px",
    "left": "10px",
    "top": "150px",
    "width": "165px"
   },
   "toc_section_display": true,
   "toc_window_display": true
  }
 },
 "nbformat": 4,
 "nbformat_minor": 5
}
