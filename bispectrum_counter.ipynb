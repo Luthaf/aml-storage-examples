{
 "cells": [
  {
   "cell_type": "markdown",
   "id": "8331c863",
   "metadata": {
    "toc": true
   },
   "source": [
    "<h1>Table of Contents<span class=\"tocSkip\"></span></h1>\n",
    "<div class=\"toc\"><ul class=\"toc-item\"><li><span><a href=\"#Bispectrum-counter-example\" data-toc-modified-id=\"Bispectrum-counter-example-1\"><span class=\"toc-item-num\">1&nbsp;&nbsp;</span>Bispectrum counter example</a></span><ul class=\"toc-item\"><li><span><a href=\"#feature-computation\" data-toc-modified-id=\"feature-computation-1.1\"><span class=\"toc-item-num\">1.1&nbsp;&nbsp;</span>feature computation</a></span><ul class=\"toc-item\"><li><span><a href=\"#$\\rho_{i}^{\\otimes-3}$\" data-toc-modified-id=\"$\\rho_{i}^{\\otimes-3}$-1.1.1\"><span class=\"toc-item-num\">1.1.1&nbsp;&nbsp;</span>$\\rho_{i}^{\\otimes 3}$</a></span></li><li><span><a href=\"#$\\rho_{i-i_1-i_2}^{\\otimes-1}$\" data-toc-modified-id=\"$\\rho_{i-i_1-i_2}^{\\otimes-1}$-1.1.2\"><span class=\"toc-item-num\">1.1.2&nbsp;&nbsp;</span>$\\rho_{i i_1 i_2}^{\\otimes 1}$</a></span></li><li><span><a href=\"#check-degeneracy-of-$\\rho_{i}^{\\otimes-3}$\" data-toc-modified-id=\"check-degeneracy-of-$\\rho_{i}^{\\otimes-3}$-1.1.3\"><span class=\"toc-item-num\">1.1.3&nbsp;&nbsp;</span>check degeneracy of $\\rho_{i}^{\\otimes 3}$</a></span></li></ul></li><li><span><a href=\"#set-up-an-encoder-decoder-like-architecture\" data-toc-modified-id=\"set-up-an-encoder-decoder-like-architecture-1.2\"><span class=\"toc-item-num\">1.2&nbsp;&nbsp;</span>set up an encoder-decoder like architecture</a></span></li></ul></li></ul></div>"
   ]
  },
  {
   "cell_type": "markdown",
   "id": "d8cfdeda",
   "metadata": {},
   "source": [
    "# Bispectrum counter example"
   ]
  },
  {
   "cell_type": "code",
   "execution_count": 4,
   "id": "1d043e1a",
   "metadata": {},
   "outputs": [],
   "source": [
    "%load_ext autoreload\n",
    "%autoreload 2 "
   ]
  },
  {
   "cell_type": "code",
   "execution_count": 8,
   "id": "5b660c69",
   "metadata": {},
   "outputs": [],
   "source": [
    "from ase.io import read,write\n",
    "from ase.visualize import view\n",
    "import numpy as np \n",
    "\n",
    "from equistore import Labels, TensorBlock, TensorMap\n",
    "from itertools import product\n",
    "from utils.clebsh_gordan import ClebschGordanReal\n",
    "\n",
    "import matplotlib.pyplot as plt\n",
    "\n",
    "from utils.librascal import  RascalSphericalExpansion, RascalPairExpansion\n",
    "from rascal.representations import SphericalExpansion\n",
    "import copy\n",
    "import ase "
   ]
  },
  {
   "cell_type": "code",
   "execution_count": 10,
   "id": "a8aec266",
   "metadata": {},
   "outputs": [],
   "source": [
    "from utils.mp_utils import *"
   ]
  },
  {
   "cell_type": "code",
   "execution_count": 11,
   "id": "347f313a",
   "metadata": {},
   "outputs": [],
   "source": [
    "from generate_bispectrum_structures import generate_nu3_degen_structs, single_partial_derivative"
   ]
  },
  {
   "cell_type": "code",
   "execution_count": 13,
   "id": "c0eac7aa",
   "metadata": {},
   "outputs": [
    {
     "data": {
      "text/plain": [
       "(array([[ 0.        ,  0.        ,  0.        ],\n",
       "        [ 1.        ,  0.        ,  0.        ],\n",
       "        [ 0.7510827 ,  0.66020813,  0.        ],\n",
       "        [-0.32385637,  0.94610626,  0.        ],\n",
       "        [ 0.95596832,  0.29346988,  0.        ],\n",
       "        [ 0.52426007,  0.85155821,  0.        ],\n",
       "        [-0.58725012,  0.80940552,  0.        ],\n",
       "        [ 0.        ,  0.        ,  0.        ]]),\n",
       " array([[ 0.        ,  0.        ,  0.        ],\n",
       "        [ 1.        ,  0.        ,  0.        ],\n",
       "        [ 0.7510827 ,  0.66020813,  0.        ],\n",
       "        [-0.32385637,  0.94610626,  0.        ],\n",
       "        [ 0.95596832,  0.29346988,  0.        ],\n",
       "        [ 0.52426007,  0.85155821,  0.        ],\n",
       "        [-0.58725012,  0.80940552,  0.        ],\n",
       "        [ 0.        ,  0.        ,  0.        ]]))"
      ]
     },
     "execution_count": 13,
     "metadata": {},
     "output_type": "execute_result"
    }
   ],
   "source": [
    "r = np.random.uniform(0.5,2)\n",
    "z1 = np.random.uniform(0.5,2)\n",
    "z2 = np.random.uniform(1.5,1.8)\n",
    "psi = np.random.uniform(0,np.pi)\n",
    "phi1 = np.random.uniform(np.pi/6, np.pi)\n",
    "phi2 = np.random.uniform(np.pi/6, np.pi)\n",
    "\n",
    "parameters = [r, [0, phi1, phi1+phi2], psi, z1, z2, \"Li\", \"Mg\", \"H\"]\n",
    "single_partial_derivative(parameters, diff_param_names=['r', 'phi', 'psi', 'z1', 'z2'], diff_param='r', delta=1e-6)\n"
   ]
  },
  {
   "cell_type": "code",
   "execution_count": null,
   "id": "e27ab557",
   "metadata": {},
   "outputs": [],
   "source": []
  },
  {
   "cell_type": "code",
   "execution_count": 4,
   "id": "bd9eb2a8",
   "metadata": {},
   "outputs": [
    {
     "name": "stderr",
     "output_type": "stream",
     "text": [
      "pyscf plugins found in \n",
      "/Users/jigyasa/scratch/pyscf\n",
      "/Users/jigyasa/scratch/./pyscf\n",
      "/Users/jigyasa/miniconda3/lib/python3.8/site-packages/pyscf\n",
      "When PYTHONPATH is set, it is recommended to load these plugins through the environment variable PYSCF_EXT_PATH\n"
     ]
    }
   ],
   "source": [
    "import pyscf\n",
    "from pyscf import gto\n",
    "from pyscf import scf,dft\n",
    "\n",
    "def pyscf_rks_calc(frame):\n",
    "    pts = frame.get_positions()\n",
    "    els = frame.get_chemical_symbols()\n",
    "    natoms = len(pts)\n",
    "    atoms = []\n",
    "    for i in range(natoms):\n",
    "        coord = pts[i]\n",
    "        atoms.append([els[i],(coord[0],coord[1],coord[2])])\n",
    "    mol = gto.M(atom=atoms,symmetry = True)\n",
    "    mol.basis = \"ccpvdz\" #\"def2-SVP\" \n",
    "#     mol.basis = {'O': 'ccpvdz', 'H': 'ccpvdz', 'C': 'ccpvdz', 'N':'ccpvdz', 'Ag': 'def2-svp'} \n",
    "    mol.charge=0\n",
    "    mol.spin = 0\n",
    "    mol.build()\n",
    "    m = scf.RKS(mol)\n",
    "#     m = scf.RHF(mol)\n",
    "    m.xc=\"pbe\"\n",
    "    m.max_cycle=600\n",
    "    m.conv_tol=1e-9\n",
    "    m.conv_tol_grad=1e-8\n",
    "    m.diis_space=10\n",
    "#     print(mol.ao_labels())\n",
    "\n",
    "    return m.kernel() \n",
    "\n",
    "def pyscf_rhf_calc(frame):\n",
    "    pts = frame.get_positions()\n",
    "    els = frame.get_chemical_symbols()\n",
    "    natoms = len(pts)\n",
    "    atoms = []\n",
    "    for i in range(natoms):\n",
    "        coord = pts[i]\n",
    "        atoms.append([els[i],(coord[0],coord[1],coord[2])])\n",
    "    mol = gto.M(atom=atoms,symmetry = True)\n",
    "    mol.basis = \"ccpvdz\" #\"def2-SVP\" \n",
    "#     mol.basis = {'O': 'ccpvdz', 'H': 'ccpvdz', 'C': 'ccpvdz', 'N':'ccpvdz', 'Ag': 'def2-svp'} \n",
    "    mol.charge=0\n",
    "    mol.spin = 0\n",
    "    mol.build()\n",
    "#     m = scf.RKS(mol)\n",
    "    m = scf.RHF(mol)\n",
    "#     m.xc=\"pbe\"\n",
    "    m.max_cycle=500\n",
    "    m.conv_tol=1e-9\n",
    "#     m.conv_tol_grad=1e-8\n",
    "    m.diis_space=10\n",
    "#     print(mol.ao_labels())\n",
    "\n",
    "    return m.kernel() "
   ]
  },
  {
   "cell_type": "code",
   "execution_count": 5,
   "id": "d02a5ac8",
   "metadata": {},
   "outputs": [],
   "source": [
    "# Advice on choosing the basis sets for different calculations \n",
    "\n",
    "#https://sites.google.com/site/orcainputlibrary/basis-sets?pli=1"
   ]
  },
  {
   "cell_type": "code",
   "execution_count": 325,
   "id": "d48a8de6",
   "metadata": {},
   "outputs": [],
   "source": [
    "frames=[]\n",
    "for r in range(2,6):\n",
    "    for n in range(3,6):\n",
    "        angles = np.linspace(0.01, 2*np.pi/n-0.1, 5)\n",
    "        for psi in angles:\n",
    "            for z1 in range(2,5):\n",
    "                for z2 in range(z1+1, 6):\n",
    "                    splus, sminus = generate_nu3_degen_structs(r=r,n=n,psi=psi,z1=z1,z2=z2,center_species='Li', ring_species='Mg', z2species='H')\n",
    "                    frames.append(splus)\n",
    "                    frames.append(sminus)\n",
    "\n",
    "for f in frames: \n",
    "    f.center()\n",
    "# view(frames)"
   ]
  },
  {
   "cell_type": "code",
   "execution_count": 326,
   "id": "6ca9d68a",
   "metadata": {},
   "outputs": [],
   "source": [
    "idx = [653, 652, 641, 636, 631, 621, 619, 618, 466, 454, 453, 451, 450, 444, 443, 437, 432, 428, 427, 423, 301, \n",
    "      300, 293, 279, 274, 264, 260, 255, 120, 118, 117, 116, 114, 111, 100, 98, 89, 86, 84, 77, 72, 67, 65\n",
    "      ]\n",
    "idx_not_conv = [629, 541, 540, 539, 538, 535, 534, 529, 528, 527, 526, 522, 517, 516, 515, 514, 511, 510, 505, \n",
    "                504, 503, 502, 493, 492, 491, 490, 487, 481, 480, 479, 478, 469, 468, 467, 457, 456, 455, 445,\n",
    "                442, 433, 431, 430, 420, 409, 408, 407, 402, 397, 391, 385, 384, 373, 372, 361, 360, 349, 348,\n",
    "                337, 336, 325, 324, 313, 312, 235, 234, 187, 186, 181, 180, 179, 178, 169, 168, 167, 166, 157, \n",
    "                156, 155, 154, 145, 144, 143, 142, 133, 132, 131, 130, 121, 109, 108, 105, 104, 103, 102, 97, 96,\n",
    "                93, 92, 91, 90, 88, 85, 81, 80, 79, 78, 73\n",
    "               ]\n",
    "purge = idx + idx_not_conv\n",
    "purge.sort()\n",
    "purge_all = []\n",
    "for i in purge: \n",
    "    if i%2==0 and i+1 not in purge: \n",
    "        purge_all.append(i)\n",
    "        purge_all.append(i+1)\n",
    "#         print(i, i+1, \"even i, added\")\n",
    "    elif i%2==1 and i-1 not in purge: \n",
    "        purge_all.append(i-1)\n",
    "        purge_all.append(i)\n",
    "#         print(i-1, i, \"odd i, added\")\n",
    "    else: \n",
    "        purge_all.append(i)\n",
    "purge_all.reverse()\n",
    "for i in purge_all: \n",
    "    frames.pop(i)"
   ]
  },
  {
   "cell_type": "code",
   "execution_count": null,
   "id": "74caf258",
   "metadata": {
    "scrolled": true
   },
   "outputs": [
    {
     "name": "stdout",
     "output_type": "stream",
     "text": [
      "converged SCF energy = -1207.79767639347\n",
      "2 done \n",
      "\n",
      "converged SCF energy = -1207.7976765657\n",
      "3 done \n",
      "\n",
      "converged SCF energy = -1207.77579124706\n",
      "4 done \n",
      "\n",
      "converged SCF energy = -1207.77579136121\n",
      "5 done \n",
      "\n",
      "converged SCF energy = -1207.73767133132\n",
      "6 done \n",
      "\n",
      "converged SCF energy = -1207.73767132616\n",
      "7 done \n",
      "\n",
      "converged SCF energy = -1207.77629071708\n",
      "8 done \n",
      "\n",
      "converged SCF energy = -1207.77629081414\n",
      "9 done \n",
      "\n",
      "converged SCF energy = -1207.75062998051\n",
      "10 done \n",
      "\n",
      "converged SCF energy = -1207.75063003808\n",
      "11 done \n",
      "\n",
      "converged SCF energy = -1207.73983085615\n",
      "12 done \n",
      "\n",
      "converged SCF energy = -1207.73983091043\n",
      "13 done \n",
      "\n",
      "converged SCF energy = -1207.79714773664\n",
      "14 done \n",
      "\n",
      "converged SCF energy = -1207.79714826784\n",
      "15 done \n",
      "\n",
      "converged SCF energy = -1207.77589524674\n",
      "16 done \n",
      "\n",
      "converged SCF energy = -1207.77589560106\n",
      "17 done \n",
      "\n",
      "converged SCF energy = -1207.73802120508\n",
      "18 done \n",
      "\n",
      "converged SCF energy = -1207.73802119467\n",
      "19 done \n",
      "\n"
     ]
    },
    {
     "name": "stderr",
     "output_type": "stream",
     "text": [
      "/scratch/nigam/anaconda3/envs/py3.7/lib/python3.8/site-packages/pyscf/symm/Dmatrix.py:156: RuntimeWarning: invalid value encountered in arccos\n",
      "  gamma = numpy.arccos(yp.dot(c2[1]))\n"
     ]
    },
    {
     "name": "stdout",
     "output_type": "stream",
     "text": [
      "converged SCF energy = -1207.77616328326\n",
      "20 done \n",
      "\n",
      "converged SCF energy = -1207.77616358012\n",
      "21 done \n",
      "\n",
      "converged SCF energy = -1207.75051591491\n",
      "22 done \n",
      "\n",
      "converged SCF energy = -1207.7505160908\n",
      "23 done \n",
      "\n",
      "converged SCF energy = -1207.7398212964\n",
      "24 done \n",
      "\n",
      "converged SCF energy = -1207.73982146228\n",
      "25 done \n",
      "\n",
      "converged SCF energy = -1207.79651885845\n",
      "26 done \n",
      "\n",
      "converged SCF energy = -1207.79652203974\n",
      "27 done \n",
      "\n",
      "converged SCF energy = -1207.77594181761\n",
      "28 done \n",
      "\n"
     ]
    },
    {
     "name": "stderr",
     "output_type": "stream",
     "text": [
      "/scratch/nigam/anaconda3/envs/py3.7/lib/python3.8/site-packages/pyscf/symm/Dmatrix.py:144: RuntimeWarning: invalid value encountered in arccos\n",
      "  beta = numpy.arccos(zz)\n"
     ]
    },
    {
     "name": "stdout",
     "output_type": "stream",
     "text": [
      "converged SCF energy = -1207.77594391362\n",
      "29 done \n",
      "\n",
      "converged SCF energy = -1207.73834094654\n",
      "30 done \n",
      "\n",
      "converged SCF energy = -1207.73834082428\n",
      "31 done \n",
      "\n",
      "converged SCF energy = -1207.77603265233\n",
      "32 done \n",
      "\n",
      "converged SCF energy = -1207.77603447172\n",
      "33 done \n",
      "\n",
      "converged SCF energy = -1207.75040072954\n",
      "34 done \n",
      "\n",
      "converged SCF energy = -1207.75040179844\n",
      "35 done \n",
      "\n",
      "converged SCF energy = -1207.73981109131\n",
      "36 done \n",
      "\n",
      "converged SCF energy = -1207.73981213332\n",
      "37 done \n",
      "\n",
      "converged SCF energy = -1207.79698997587\n",
      "38 done \n",
      "\n",
      "converged SCF energy = -1207.79699703835\n",
      "39 done \n",
      "\n",
      "converged SCF energy = -1207.7759133852\n",
      "40 done \n",
      "\n",
      "converged SCF energy = -1207.77591799401\n",
      "41 done \n",
      "\n",
      "converged SCF energy = -1207.73810942721\n",
      "42 done \n",
      "\n",
      "converged SCF energy = -1207.73810901576\n",
      "43 done \n",
      "\n",
      "converged SCF energy = -1207.77612818056\n",
      "44 done \n",
      "\n",
      "converged SCF energy = -1207.77613223503\n",
      "45 done \n",
      "\n",
      "converged SCF energy = -1207.75048472496\n",
      "46 done \n",
      "\n",
      "converged SCF energy = -1207.75048712296\n",
      "47 done \n",
      "\n",
      "converged SCF energy = -1207.73981885851\n",
      "48 done \n",
      "\n",
      "converged SCF energy = -1207.7398211934\n",
      "49 done \n",
      "\n",
      "converged SCF energy = -1207.79765266043\n",
      "50 done \n",
      "\n",
      "converged SCF energy = -1207.79766353189\n",
      "51 done \n",
      "\n",
      "converged SCF energy = -1207.77579741301\n",
      "52 done \n",
      "\n",
      "converged SCF energy = -1207.77580453285\n",
      "53 done \n",
      "\n",
      "converged SCF energy = -1207.73768891351\n",
      "54 done \n",
      "\n",
      "converged SCF energy = -1207.73768808294\n",
      "55 done \n",
      "\n",
      "converged SCF energy = -1207.77628335687\n",
      "56 done \n",
      "\n",
      "converged SCF energy = -1207.77628945253\n",
      "57 done \n",
      "\n",
      "converged SCF energy = -1207.75062322786\n",
      "58 done \n",
      "\n",
      "converged SCF energy = -1207.75062693988\n",
      "59 done \n",
      "\n",
      "converged SCF energy = -1207.73983082393\n",
      "60 done \n",
      "\n",
      "converged SCF energy = -1207.73983431262\n",
      "61 done \n",
      "\n",
      "converged SCF energy = -1607.69182849078\n",
      "62 done \n",
      "\n",
      "converged SCF energy = -1607.69182881373\n",
      "63 done \n",
      "\n",
      "converged SCF energy = -1607.65766538531\n",
      "64 done \n",
      "\n",
      "converged SCF energy = -1607.65766541342\n",
      "65 done \n",
      "\n",
      "converged SCF energy = -1607.63320827828\n",
      "66 done \n",
      "\n",
      "converged SCF energy = -1607.63320885153\n",
      "67 done \n",
      "\n",
      "converged SCF energy = -1607.68820526127\n",
      "68 done \n",
      "\n",
      "converged SCF energy = -1607.68820466276\n",
      "69 done \n",
      "\n",
      "converged SCF energy = -1607.63209019748\n",
      "70 done \n",
      "\n",
      "converged SCF energy = -1607.63212483397\n",
      "71 done \n",
      "\n",
      "converged SCF energy = -1607.62927338485\n",
      "72 done \n",
      "\n",
      "converged SCF energy = -1607.62931371424\n",
      "73 done \n",
      "\n",
      "converged SCF energy = -1607.6315208263\n",
      "74 done \n",
      "\n"
     ]
    }
   ],
   "source": [
    "en = []\n",
    "for idx, f in enumerate(frames[2:]): \n",
    "    try:\n",
    "        jj = pyscf_rks_calc(f)\n",
    "        en.append(jj)\n",
    "        print(idx+2, \"done \\n\")\n",
    "    except Exception as e: \n",
    "        print(e, idx+2, \"\\n\")\n",
    "        continue"
   ]
  },
  {
   "cell_type": "code",
   "execution_count": 327,
   "id": "dec9781f",
   "metadata": {},
   "outputs": [
    {
     "data": {
      "text/plain": [
       "538"
      ]
     },
     "execution_count": 327,
     "metadata": {},
     "output_type": "execute_result"
    }
   ],
   "source": [
    "len(frames)"
   ]
  },
  {
   "cell_type": "code",
   "execution_count": 545,
   "id": "5d45346d",
   "metadata": {},
   "outputs": [
    {
     "data": {
      "text/plain": [
       "array([[49.79903811, 49.79903811, 49.        ],\n",
       "       [52.79903811, 49.79903811, 51.        ],\n",
       "       [48.29903811, 52.39711432, 51.        ],\n",
       "       [48.29903811, 47.20096189, 51.        ],\n",
       "       [49.79903811, 52.79903811, 47.        ],\n",
       "       [47.20096189, 48.29903811, 47.        ],\n",
       "       [52.39711432, 48.29903811, 47.        ],\n",
       "       [49.79903811, 49.79903811, 53.        ]])"
      ]
     },
     "execution_count": 545,
     "metadata": {},
     "output_type": "execute_result"
    }
   ],
   "source": [
    "frames[40].positions"
   ]
  },
  {
   "cell_type": "code",
   "execution_count": 63,
   "id": "e2a412bb",
   "metadata": {},
   "outputs": [],
   "source": [
    "from ase.io import write\n",
    "write(\"bispectrum_counter_structures.xyz\", frames)\n",
    "np.save(\"bispectrum_energy.npy\", en)"
   ]
  },
  {
   "cell_type": "markdown",
   "id": "dc6133b2",
   "metadata": {},
   "source": [
    "## feature computation"
   ]
  },
  {
   "cell_type": "code",
   "execution_count": 10,
   "id": "bf48ad8e",
   "metadata": {},
   "outputs": [],
   "source": [
    "rascal_hypers = {\n",
    "    \"interaction_cutoff\": 4.5,\n",
    "    \"cutoff_smooth_width\": 0.3,\n",
    "    \"max_radial\": 4,\n",
    "    \"max_angular\": 2,\n",
    "    \"gaussian_sigma_type\": \"Constant\",\n",
    "    \"compute_gradients\":  False,\n",
    "#     \"expansion_by_species_method\": \"user defined\",\n",
    "#     \"global_species\": [1,6,8,7]\n",
    "    \n",
    "}\n",
    "\n",
    "cg = ClebschGordanReal(5)\n",
    "\n",
    "spex = RascalSphericalExpansion(rascal_hypers)\n",
    "rhoi = spex.compute(frames)\n",
    "pairs = RascalPairExpansion(rascal_hypers)\n",
    "gij = pairs.compute(frames)"
   ]
  },
  {
   "cell_type": "markdown",
   "id": "800e2c69",
   "metadata": {},
   "source": [
    "### $\\rho_{i}^{\\otimes 3}$"
   ]
  },
  {
   "cell_type": "code",
   "execution_count": 23,
   "id": "22dfcdc2",
   "metadata": {},
   "outputs": [],
   "source": [
    "rho1i = acdc_standardize_keys(rhoi)\n",
    "rho1i = rho1i.keys_to_properties(['species_neighbor'])\n",
    "\n",
    "rho2i = cg_increment(rho1i, rho1i, lcut=4, other_keys_match=[\"species_center\"], clebsch_gordan=cg)\n",
    "rho3i =  cg_increment(rho2i, rho1i, lcut=0, other_keys_match=[\"species_center\"], clebsch_gordan=cg)"
   ]
  },
  {
   "cell_type": "markdown",
   "id": "28449f58",
   "metadata": {},
   "source": [
    "### $\\rho_{i i_1 i_2}^{\\otimes 1}$"
   ]
  },
  {
   "cell_type": "code",
   "execution_count": 26,
   "id": "e3954f86",
   "metadata": {},
   "outputs": [],
   "source": [
    "gij =  acdc_standardize_keys(gij)\n",
    "rhoii1i2_nu0 = cg_combine(gij, gij, clebsch_gordan=cg,lcut=4, other_keys_match=['species_center'])\n",
    "rhoii1i2_nu1 =  cg_combine(rho1i, rhoii1i2_nu0, clebsch_gordan=cg, lcut=0, other_keys_match = ['species_center'])\n"
   ]
  },
  {
   "cell_type": "markdown",
   "id": "3876f297",
   "metadata": {},
   "source": [
    "### check degeneracy of $\\rho_{i}^{\\otimes 3}$"
   ]
  },
  {
   "cell_type": "code",
   "execution_count": 30,
   "id": "fb65d147",
   "metadata": {},
   "outputs": [
    {
     "data": {
      "text/plain": [
       "1.680772513045776e-22"
      ]
     },
     "execution_count": 30,
     "metadata": {},
     "output_type": "execute_result"
    }
   ],
   "source": [
    "np.linalg.norm(rho3i.block(species_center = 3, inversion_sigma = 1).values[0] - rho3i.block(species_center = 3, inversion_sigma = 1).values[1])"
   ]
  },
  {
   "cell_type": "code",
   "execution_count": 29,
   "id": "80fe6da5",
   "metadata": {},
   "outputs": [],
   "source": [
    "# rhoii1i2_nu1.keys_to_properties('species_neighbor_1')\n",
    "# rhoii1i2_nu1.keys_to_properties('species_neighbor_2')"
   ]
  },
  {
   "cell_type": "code",
   "execution_count": 49,
   "id": "e9df374b",
   "metadata": {},
   "outputs": [
    {
     "data": {
      "text/plain": [
       "Labels([(1, 0, 1, 1), (1, 0, 1, 2), (1, 0, 1, 3), (1, 0, 1, 4),\n",
       "        (1, 0, 1, 5), (1, 0, 1, 6), (1, 0, 2, 1), (1, 0, 2, 2),\n",
       "        (1, 0, 2, 3), (1, 0, 2, 4), (1, 0, 2, 5), (1, 0, 2, 6),\n",
       "        (1, 0, 3, 1), (1, 0, 3, 2), (1, 0, 3, 3), (1, 0, 3, 4),\n",
       "        (1, 0, 3, 5), (1, 0, 3, 6), (1, 0, 4, 1), (1, 0, 4, 2),\n",
       "        (1, 0, 4, 3), (1, 0, 4, 4), (1, 0, 4, 5), (1, 0, 4, 6),\n",
       "        (1, 0, 5, 1), (1, 0, 5, 2), (1, 0, 5, 3), (1, 0, 5, 4),\n",
       "        (1, 0, 5, 5), (1, 0, 5, 6), (1, 0, 6, 1), (1, 0, 6, 2),\n",
       "        (1, 0, 6, 3), (1, 0, 6, 4), (1, 0, 6, 5), (1, 0, 6, 6)],\n",
       "       dtype=[('structure', '<i4'), ('center', '<i4'), ('neighbor_1', '<i4'), ('neighbor_2', '<i4')])"
      ]
     },
     "execution_count": 49,
     "metadata": {},
     "output_type": "execute_result"
    }
   ],
   "source": [
    "rhoii1i2_nu1.block(species_center = 3,species_neighbor_a=12, species_neighbor_b=12, inversion_sigma=1).samples[36:72]#values.shape\n"
   ]
  },
  {
   "cell_type": "code",
   "execution_count": 46,
   "id": "3698f387",
   "metadata": {},
   "outputs": [
    {
     "data": {
      "text/plain": [
       "2.5486800904721503e-07"
      ]
     },
     "execution_count": 46,
     "metadata": {},
     "output_type": "execute_result"
    }
   ],
   "source": [
    "np.linalg.norm(rhoii1i2_nu1.block(species_center = 3,species_neighbor_a=1, species_neighbor_b=12, inversion_sigma=1 ).values[:36])"
   ]
  },
  {
   "cell_type": "code",
   "execution_count": 48,
   "id": "276dbbbe",
   "metadata": {},
   "outputs": [
    {
     "data": {
      "text/plain": [
       "8.407296057023224e-08"
      ]
     },
     "execution_count": 48,
     "metadata": {},
     "output_type": "execute_result"
    }
   ],
   "source": [
    "# diff = np.sum(rhoii1i2_nu1.block(species_center = 6).values[:64], axis=0) - np.sum(rhoii1i2_nu1.block(species_center = 6).values[64:], axis=0)\n",
    "diff = rhoii1i2_nu1.block(species_center = 3,species_neighbor_a=12, species_neighbor_b=12, inversion_sigma=1).values[:36] - rhoii1i2_nu1.block(species_center = 3,species_neighbor_a=12, species_neighbor_b=12, inversion_sigma=1).values[36:72]\n",
    "\n",
    "np.linalg.norm(diff)"
   ]
  },
  {
   "cell_type": "markdown",
   "id": "b26c620a",
   "metadata": {},
   "source": [
    "## set up an encoder-decoder like architecture"
   ]
  },
  {
   "cell_type": "code",
   "execution_count": 319,
   "id": "b2fc22f4",
   "metadata": {},
   "outputs": [],
   "source": [
    "import equistore\n",
    "import torch\n",
    "import equistore.operations as operations\n",
    "from tqdm import tqdm\n",
    "torch.set_default_dtype(torch.float64)\n",
    "device = torch.device(\"cuda\" if torch.cuda.is_available() else \"cpu\")  \n",
    "\n",
    "\n",
    "class featDataset(torch.utils.data.Dataset):\n",
    "    #Dataset class\n",
    "    def __init__(self, feature_path, frames):\n",
    "        #\n",
    "        self.features = np.load(feature_path, mmap_mode = 'r')\n",
    "        self.keys_features = equistore.io._labels_from_npz(self.features[\"keys\"])\n",
    "        self.currentkey = 0\n",
    "        self.frames = frames\n",
    "\n",
    "    def __len__(self):\n",
    "        return len(self.frames)\n",
    "    \n",
    "    def __getitem__(self, structure_idx):\n",
    "        feature_block, feature_key = self.generate_feature_block(self.features, structure_idx)        \n",
    "        #samples_filter, target_block_samples = self.get_index_from_idx(self.target.block(self.currentkey).samples, structure_idx)\n",
    "        structure = [frames[i] for i in structure_idx]\n",
    "        #Modify feature_block to tensormap\n",
    "        feature_map = TensorMap(feature_key, feature_block)\n",
    "        return feature_map, structure\n",
    "\n",
    "    \n",
    "    def generate_feature_block(self, memmap, structure_idx):\n",
    "        #Generate the block from npz file\n",
    "        output = []\n",
    "        if self.currentkey is None:\n",
    "            feature_key = self.keys_features     \n",
    "        else:\n",
    "            feature_key = Labels([\"order_nu\", \"inversion_sigma\", \"spherical_harmonics_l\", \"species_center\", \"species_neighbor_a\", \"species_neighbor_b\"], \n",
    "                                 np.asarray(self.keys_features[self.currentkey].astype(list), dtype=np.int32).reshape(-1,6))\n",
    "\n",
    "#             feature_key = [self.keys_features[self.currentkey]]\n",
    "        for key in feature_key:\n",
    "            block_index = list(self.keys_features).index(key)\n",
    "            prefix = f\"blocks/{block_index}/values\"        \n",
    "            block_samples = equistore.io._labels_from_npz(memmap[f\"{prefix}/samples\"])\n",
    "            block_components = []\n",
    "            for i in range(1):\n",
    "                block_components.append(equistore.io._labels_from_npz(memmap[f\"{prefix}/components/{i}\"]))\n",
    "            block_properties = equistore.io._labels_from_npz(memmap[f\"{prefix}/properties\"])\n",
    "             \n",
    "\n",
    "            samples_filter, block_samples = self.get_index_from_idx(block_samples, structure_idx)\n",
    "\n",
    "            block_data = memmap[f\"{prefix}/data\"][samples_filter]\n",
    "            block = TensorBlock(block_data, block_samples, block_components, block_properties)\n",
    "            output.append(block)\n",
    "        return output, feature_key\n",
    "    \n",
    "    def get_n_properties(self, memmap, key):\n",
    "        block_index = list(self.keys_features).index(key)\n",
    "        prefix = f\"blocks/{block_index}/values\"  \n",
    "        block_properties = equistore.io._labels_from_npz(memmap[f\"{prefix}/properties\"])\n",
    "        \n",
    "        return len(block_properties)\n",
    "    \n",
    "    def get_index_from_idx(self, block_samples, structure_idx):\n",
    "        #Get samples label from IDX\n",
    "        samples = Labels(names = ['structure'], values = np.array(structure_idx).reshape(-1,1))\n",
    "        all_samples = block_samples[['structure']].tolist()\n",
    "        set_samples_to_slice = set(samples.tolist())\n",
    "        samples_filter = np.array(\n",
    "            [sample in set_samples_to_slice for sample in all_samples]\n",
    "        )\n",
    "        new_samples = block_samples[samples_filter]\n",
    "        \n",
    "        return samples_filter, new_samples\n",
    "    \n",
    "    def collate_output_values(blocks):\n",
    "        feature_out = []\n",
    "        for sample_output in blocks:\n",
    "            feature_block, structure = sample_output\n",
    "            for z in feature_block:\n",
    "                feature_out.append(torch.tensor(z.values))\n",
    "\n",
    "        return feature_out\n"
   ]
  },
  {
   "cell_type": "code",
   "execution_count": 315,
   "id": "ec5785c6",
   "metadata": {},
   "outputs": [],
   "source": [
    "def mse_loss(pred, target):\n",
    "    return torch.mean((pred - target)**2)\n",
    "\n",
    "\n",
    "class BlockEncoderDecoder(torch.nn.Module):\n",
    "    def __init__(self, seed=123, **kwargs):\n",
    "        super().__init__()\n",
    "        self.encoder_hidden_layer = torch.nn.Linear(\n",
    "            in_features=kwargs[\"input_size\"], out_features=kwargs[\"hidden_size\"]\n",
    "        )\n",
    "        self.encoder_output_layer = torch.nn.Linear(\n",
    "            in_features=kwargs[\"hidden_size\"], out_features=kwargs[\"intermediate_size\"]\n",
    "        )\n",
    "        self.decoder_hidden_layer = torch.nn.Linear(\n",
    "            in_features=kwargs[\"intermediate_size\"], out_features=kwargs[\"hidden_size\"]\n",
    "        )\n",
    "        self.decoder_output_layer = torch.nn.Linear(\n",
    "            in_features=kwargs[\"hidden_size\"], out_features=kwargs[\"input_size\"]\n",
    "        )\n",
    "        self.to(device)\n",
    "        \n",
    "    def forward(self, x):\n",
    "        print(\"from block forward\", x.keys)\n",
    "        x = torch.from_numpy(x.block().values)\n",
    "        activation = self.encoder_hidden_layer(x)\n",
    "        activation = torch.relu(activation)\n",
    "        code = self.encoder_output_layer(activation)\n",
    "        code = torch.relu(code)\n",
    "        activation = self.decoder_hidden_layer(code)\n",
    "        activation = torch.relu(activation)\n",
    "        activation = self.decoder_output_layer(activation)\n",
    "        reconstructed = torch.relu(activation)\n",
    "        return reconstructed\n",
    "\n",
    "    \n",
    "    def fit(self,traindata_loader, loss_function, optimizer_type, lr, reg, n_epochs):\n",
    "        if optimizer_type == \"Adam\":\n",
    "            optimizer = torch.optim.Adam(self.parameters(), lr = lr, weight_decay = reg.item())\n",
    "            threshold = 200\n",
    "            scheduler_threshold = 50\n",
    "            tol = 0\n",
    "            history_step = 1000\n",
    "        \n",
    "        elif optimizer_type == \"LBFGS\":\n",
    "            optimizer = torch.optim.LBFGS(self.parameters(), lr = lr)\n",
    "            threshold = 30\n",
    "            scheduler_threshold = 10\n",
    "            tol = 0\n",
    "            history_step = 10\n",
    "            \n",
    "        scheduler = torch.optim.lr_scheduler.StepLR(optimizer, scheduler_threshold, gamma = 0.5)\n",
    "        best_state = copy.deepcopy(self.state_dict())\n",
    "        lowest_loss = torch.tensor(9999)\n",
    "        pred_loss = torch.tensor(0)\n",
    "        trigger = 0\n",
    "        loss_history = []\n",
    "        pbar = tqdm(range(n_epochs))\n",
    "        \n",
    "        for epoch in pbar:\n",
    "            pbar.set_description(f\"Epoch: {epoch}\")\n",
    "            pbar.set_postfix(pred_loss = pred_loss.item(), lowest_loss = lowest_loss.item(), trigger = trigger)\n",
    "            \n",
    "            for x_data, structure in traindata_loader: \n",
    "                optimizer.zero_grad()\n",
    "                #x_data, y_data = x_data.to(self.device), y_data.to(self.device)\n",
    "                if optimizer_type == \"LBFGS\":\n",
    "                    def closure():\n",
    "                        optimizer.zero_grad()\n",
    "                        _pred = self.forward(x_data)                                        \n",
    "                        _pred_loss = loss_function(_pred, x_data.block().values)\n",
    "                        _pred_loss = torch.nan_to_num(_pred_loss, nan=lowest_loss.item(), posinf = lowest_loss.item(), neginf = lowest_loss.item())                 \n",
    "                        _reg_loss = self.get_regression_values(reg.item()) #Only works for 1 layer\n",
    "                        _new_loss = _pred_loss + _reg_loss\n",
    "                        _new_loss.backward()\n",
    "                        return _new_loss\n",
    "                    optimizer.step(closure)\n",
    "\n",
    "                elif optimizer_type == \"Adam\":\n",
    "                    pred = self.forward(x_data)\n",
    "#                     print(pred, x_data.block().values )\n",
    "                    pred_loss = loss_function(pred, torch.from_numpy(x_data.block().values))\n",
    "                    \n",
    "                    #reg_loss = self.get_regression_values(reg.item())#Only works for 1 layer\n",
    "                    new_loss = pred_loss #+ reg_loss\n",
    "                    new_loss.backward()\n",
    "\n",
    "                    optimizer.step()\n",
    "                \n",
    "            with torch.no_grad():\n",
    "                current_loss = 0 \n",
    "                for x_data, structure in traindata_loader:\n",
    "                    pred = self.forward(x_data)\n",
    "                    current_loss  += loss_function(pred, torch.from_numpy(x_data.block().values)) #Loss should be normalized already\n",
    "                pred_loss = current_loss\n",
    "                reg_loss = self.get_regression_values(reg.item()) \n",
    "                new_loss = pred_loss + reg_loss\n",
    "                if pred_loss >100000 or (pred_loss.isnan().any()) :\n",
    "                    print (\"Optimizer shows weird behaviour, reinitializing at previous best_State\")\n",
    "                    self.load_state_dict(best_state)\n",
    "                    if optimizer_type == \"Adam\":\n",
    "                        optimizer = torch.optim.Adam(self.parameters(), lr = lr, weight_decay = reg.item())\n",
    "                    elif optimizer_type == \"LBFGS\":\n",
    "                        optimizer = torch.optim.LBFGS(self.parameters(), lr = lr)\n",
    "\n",
    "                if epoch % history_step == 1:\n",
    "                    loss_history.append(lowest_loss.item())\n",
    "                \n",
    "                if lowest_loss - new_loss > tol: #threshold to stop training\n",
    "                    best_state = copy.deepcopy(self.state_dict())\n",
    "                    lowest_loss = new_loss \n",
    "                    trigger = 0    \n",
    "                    \n",
    "                else:\n",
    "                    trigger += 1\n",
    "                    scheduler.step()\n",
    "                    if trigger > threshold:\n",
    "                        self.load_state_dict(best_state)\n",
    "                        print (\"Implemented early stopping with lowest_loss: {}\".format(lowest_loss))\n",
    "                        return loss_history\n",
    "        return loss_history\n",
    "    \n",
    "    def get_regression_values(self, reg_weights):\n",
    "        output = []\n",
    "        for param in self.parameters():\n",
    "            output.append(torch.sum(torch.pow(param,2)))\n",
    "        try:\n",
    "            output = torch.sum(torch.tensor(output) * reg_weights)\n",
    "        except:\n",
    "            output = 0\n",
    "        return output\n",
    "\n",
    "\n",
    "    \n",
    "\n",
    "class ThreeCenterModel(torch.nn.ModuleDict):\n",
    "    \n",
    "    def __init__(self, feature, hidden_size=128, intermediate_size=18):\n",
    "        super().__init__()\n",
    "        self.feature = feature\n",
    "        self.loss_history={}\n",
    "        self.models = torch.nn.ModuleDict()\n",
    "        for k, b in self.feature:\n",
    "            input_size = b.values.shape[-1]\n",
    "#             print(k,input_size, hidden_size, intermediate_size)\n",
    "            self.models[str(k)] = BlockEncoderDecoder(input_size=input_size, hidden_size=hidden_size, intermediate_size=intermediate_size)            \n",
    "        self.to(device)\n",
    "    \n",
    "    def forward(self, feature):\n",
    "        pred_blocks =[]\n",
    "        for k, block in feature:\n",
    "#             print(self[str(k)])\n",
    "            \n",
    "            recons = self[str(k)].forward(block) # expects a tensorMap\n",
    "            \n",
    "            newblock = TensorBlock(\n",
    "                        values=recons.reshape(block.values.shape),\n",
    "                        samples=block.samples,\n",
    "                        components=block.components,\n",
    "                        properties= block.properties\n",
    "                    )\n",
    "            pred_blocks.append(newblock) \n",
    "        \n",
    "        keys = feature.keys\n",
    "        pred_target = TensorMap(keys, pred_blocks)\n",
    "        return(pred_target)\n",
    "    \n",
    "    def fit(self, train_dataloader, regularization_dict, optimizer_type, n_epochs, loss_function, lr):\n",
    "        #Iterates through the keys of self.model, then for each key we will fit self.model[key] with data[key]\n",
    "        total = len(self.models)\n",
    "        for index, key in enumerate(self.feature.keys):\n",
    "            print (\"Now training on Block {} of {}\".format(index, total))\n",
    "            train_dataloader.dataset.currentkey = index\n",
    "            \n",
    "            loss_history_key = self.models[str(key)].fit(train_dataloader, loss_function, optimizer_type, lr, regularization_dict[str(key)], n_epochs)\n",
    "\n",
    "            self.loss_history[str(key)] = loss_history_key\n",
    "\n",
    "    \n",
    "    \n"
   ]
  },
  {
   "cell_type": "code",
   "execution_count": 316,
   "id": "aa52571a",
   "metadata": {},
   "outputs": [],
   "source": [
    "regularization_dict={}\n",
    "for key in rhoii1i2_nu1.keys:\n",
    "    regularization_dict[str(key)] = torch.tensor(0)"
   ]
  },
  {
   "cell_type": "code",
   "execution_count": 320,
   "id": "1c878f15",
   "metadata": {},
   "outputs": [],
   "source": [
    "def collate_blocks(block_tuple):\n",
    "    feature_tensor_map, structure_array = block_tuple[0]\n",
    "    return feature_tensor_map, structure_array\n",
    "\n",
    "train_feature_path =\"./rhoii1i2n1_400.npz\"\n",
    "train = featDataset(train_feature_path, frames[:400])\n",
    "train_Sampler = torch.utils.data.sampler.SequentialSampler(train)\n",
    "train_BSampler = torch.utils.data.sampler.BatchSampler(train_Sampler, batch_size = 500, drop_last = False)\n",
    "\n",
    "test_feature_path =\"./rhoii1i2n1_400-500.npz\"\n",
    "test = featDataset(train_feature_path, frames[400:500])\n",
    "test_Sampler = torch.utils.data.sampler.SequentialSampler(test)\n",
    "test_BSampler = torch.utils.data.sampler.BatchSampler(test_Sampler, batch_size = 500, drop_last = False)\n",
    "\n",
    "train_loader = torch.utils.data.DataLoader(train, sampler = train_BSampler, collate_fn = collate_blocks)\n",
    "test_loader = torch.utils.data.DataLoader(test, sampler = test_BSampler, collate_fn = collate_blocks)"
   ]
  },
  {
   "cell_type": "code",
   "execution_count": 317,
   "id": "d76ba480",
   "metadata": {},
   "outputs": [
    {
     "data": {
      "text/plain": [
       "[9, 10, 11, 12, 13, 14, 15, 16, 17, 36, 37, 38, 39, 40, 41, 42, 43, 44]"
      ]
     },
     "execution_count": 317,
     "metadata": {},
     "output_type": "execute_result"
    }
   ],
   "source": [
    "# rhoii1i2_nu1.keys[\n",
    "rhoii1i2_nu1.blocks_matching(species_center=3)\n",
    "# ]"
   ]
  },
  {
   "cell_type": "code",
   "execution_count": 334,
   "id": "31629bf7",
   "metadata": {},
   "outputs": [
    {
     "name": "stderr",
     "output_type": "stream",
     "text": [
      "/Users/jigyasa/miniconda3/lib/python3.8/site-packages/equistore/operations/slice.py:113: UserWarning: Some TensorBlocks in the sliced TensorMap are now empty, based on your choice of samples and/or properties to slice by. The keys of the empty TensorBlocks are:\n",
      " [(3,  1, 0,  1,  1, 12) (3,  1, 0,  1,  3, 12) (3,  1, 0,  1, 12,  1)\n",
      " (3,  1, 0,  1, 12,  3) (3,  1, 0,  1, 12, 12) (3,  1, 0,  3,  1, 12)\n",
      " (3,  1, 0,  3,  3, 12) (3,  1, 0,  3, 12,  1) (3,  1, 0,  3, 12,  3)\n",
      " (3,  1, 0,  3, 12, 12) (3,  1, 0, 12,  1,  1) (3,  1, 0, 12,  1,  3)\n",
      " (3,  1, 0, 12,  1, 12) (3,  1, 0, 12,  3,  1) (3,  1, 0, 12,  3,  3)\n",
      " (3,  1, 0, 12,  3, 12) (3,  1, 0, 12, 12,  1) (3,  1, 0, 12, 12,  3)\n",
      " (3, -1, 0,  1,  1, 12) (3, -1, 0,  1,  3, 12) (3, -1, 0,  1, 12,  1)\n",
      " (3, -1, 0,  1, 12,  3) (3, -1, 0,  1, 12, 12) (3, -1, 0,  3,  1, 12)\n",
      " (3, -1, 0,  3,  3, 12) (3, -1, 0,  3, 12,  1) (3, -1, 0,  3, 12,  3)\n",
      " (3, -1, 0,  3, 12, 12) (3, -1, 0, 12,  1,  1) (3, -1, 0, 12,  1,  3)\n",
      " (3, -1, 0, 12,  1, 12) (3, -1, 0, 12,  3,  1) (3, -1, 0, 12,  3,  3)\n",
      " (3, -1, 0, 12,  3, 12) (3, -1, 0, 12, 12,  1) (3, -1, 0, 12, 12,  3)]\n",
      "  warnings.warn(\n"
     ]
    }
   ],
   "source": [
    "# ntrain = 400\n",
    "# train_tmap = operations.slice(rhoii1i2_nu1, \n",
    "#                 samples = Labels(\n",
    "#             names=[\"structure\"],\n",
    "#             values=np.array(\n",
    "#                 list(range(ntrain))\n",
    "#             ).reshape(-1,1), )\n",
    "#                 )\n",
    "\n",
    "# test_tmap = operations.slice(rhoii1i2_nu1, \n",
    "#                 samples = Labels(\n",
    "#             names=[\"structure\"],\n",
    "#             values=np.array(\n",
    "#                 list(range(ntrain, 500))\n",
    "#             ).reshape(-1,1), )\n",
    "#                 )\n",
    "\n",
    "# from equistore.io import save, load\n",
    "# # save('./rho3i_400.npz', rh)\n",
    "# save('./rhoii1i2n1_400.npz', train_tmap)\n",
    "# save('./rhoii1i2n1_400-500.npz', test_tmap)"
   ]
  },
  {
   "cell_type": "code",
   "execution_count": 322,
   "id": "ac7657d9",
   "metadata": {},
   "outputs": [],
   "source": [
    "model = ThreeCenterModel(rhoii1i2_nu1)"
   ]
  },
  {
   "cell_type": "code",
   "execution_count": 323,
   "id": "e458d68d",
   "metadata": {},
   "outputs": [
    {
     "name": "stdout",
     "output_type": "stream",
     "text": [
      "Now training on Block 0 of 54\n"
     ]
    },
    {
     "name": "stderr",
     "output_type": "stream",
     "text": [
      "Epoch: 1:   5%|███▋                                                                      | 1/20 [00:00<00:02,  6.64it/s, lowest_loss=0.000333, pred_loss=0.000333, trigger=0]"
     ]
    },
    {
     "name": "stdout",
     "output_type": "stream",
     "text": [
      "from block forward [(3, 1, 0, 1, 1, 1)]\n",
      "from block forward [(3, 1, 0, 1, 1, 1)]\n",
      "from block forward [(3, 1, 0, 1, 1, 1)]\n"
     ]
    },
    {
     "name": "stderr",
     "output_type": "stream",
     "text": [
      "Epoch: 2:  10%|███████▊                                                                      | 2/20 [00:00<00:02,  7.59it/s, lowest_loss=1.8e-5, pred_loss=1.8e-5, trigger=0]"
     ]
    },
    {
     "name": "stdout",
     "output_type": "stream",
     "text": [
      "from block forward [(3, 1, 0, 1, 1, 1)]\n",
      "from block forward [(3, 1, 0, 1, 1, 1)]\n",
      "from block forward [(3, 1, 0, 1, 1, 1)]\n"
     ]
    },
    {
     "name": "stderr",
     "output_type": "stream",
     "text": [
      "Epoch: 5:  20%|███████████████▏                                                            | 4/20 [00:00<00:02,  7.13it/s, lowest_loss=4.01e-8, pred_loss=4.01e-8, trigger=0]"
     ]
    },
    {
     "name": "stdout",
     "output_type": "stream",
     "text": [
      "from block forward [(3, 1, 0, 1, 1, 1)]\n",
      "from block forward [(3, 1, 0, 1, 1, 1)]\n",
      "from block forward [(3, 1, 0, 1, 1, 1)]\n",
      "from block forward [(3, 1, 0, 1, 1, 1)]\n"
     ]
    },
    {
     "name": "stderr",
     "output_type": "stream",
     "text": [
      "Epoch: 6:  30%|████████████████████████▌                                                         | 6/20 [00:00<00:01,  8.29it/s, lowest_loss=2e-9, pred_loss=2e-9, trigger=0]"
     ]
    },
    {
     "name": "stdout",
     "output_type": "stream",
     "text": [
      "from block forward [(3, 1, 0, 1, 1, 1)]\n",
      "from block forward [(3, 1, 0, 1, 1, 1)]\n",
      "from block forward [(3, 1, 0, 1, 1, 1)]\n",
      "from block forward [(3, 1, 0, 1, 1, 1)]\n"
     ]
    },
    {
     "name": "stderr",
     "output_type": "stream",
     "text": [
      "Epoch: 7:  35%|███████████████████████████▋                                                   | 7/20 [00:00<00:01,  8.41it/s, lowest_loss=2e-9, pred_loss=1.07e-8, trigger=1]"
     ]
    },
    {
     "name": "stdout",
     "output_type": "stream",
     "text": [
      "from block forward [(3, 1, 0, 1, 1, 1)]\n",
      "from block forward [(3, 1, 0, 1, 1, 1)]\n"
     ]
    },
    {
     "name": "stderr",
     "output_type": "stream",
     "text": [
      "Epoch: 10:  50%|██████████████████████████████████████▌                                      | 10/20 [00:01<00:01,  6.79it/s, lowest_loss=2e-9, pred_loss=2.61e-9, trigger=4]"
     ]
    },
    {
     "name": "stdout",
     "output_type": "stream",
     "text": [
      "from block forward [(3, 1, 0, 1, 1, 1)]\n",
      "from block forward [(3, 1, 0, 1, 1, 1)]\n",
      "from block forward [(3, 1, 0, 1, 1, 1)]\n",
      "from block forward [(3, 1, 0, 1, 1, 1)]\n"
     ]
    },
    {
     "name": "stderr",
     "output_type": "stream",
     "text": [
      "Epoch: 11:  55%|██████████████████████████████████████████▎                                  | 11/20 [00:01<00:01,  7.25it/s, lowest_loss=2e-9, pred_loss=2.72e-9, trigger=5]"
     ]
    },
    {
     "name": "stdout",
     "output_type": "stream",
     "text": [
      "from block forward [(3, 1, 0, 1, 1, 1)]\n",
      "from block forward [(3, 1, 0, 1, 1, 1)]\n",
      "from block forward [(3, 1, 0, 1, 1, 1)]\n",
      "from block forward [(3, 1, 0, 1, 1, 1)]\n"
     ]
    },
    {
     "name": "stderr",
     "output_type": "stream",
     "text": [
      "Epoch: 13:  65%|███████████████████████████████████████████████▍                         | 13/20 [00:01<00:00,  7.86it/s, lowest_loss=5.91e-10, pred_loss=2.13e-9, trigger=1]"
     ]
    },
    {
     "name": "stdout",
     "output_type": "stream",
     "text": [
      "from block forward [(3, 1, 0, 1, 1, 1)]\n",
      "from block forward [(3, 1, 0, 1, 1, 1)]\n",
      "from block forward [(3, 1, 0, 1, 1, 1)]\n",
      "from block forward [(3, 1, 0, 1, 1, 1)]\n"
     ]
    },
    {
     "name": "stderr",
     "output_type": "stream",
     "text": [
      "Epoch: 16:  80%|█████████████████████████████████████████████████████████▌              | 16/20 [00:02<00:00,  8.61it/s, lowest_loss=1.97e-15, pred_loss=1.97e-15, trigger=0]"
     ]
    },
    {
     "name": "stdout",
     "output_type": "stream",
     "text": [
      "from block forward [(3, 1, 0, 1, 1, 1)]\n",
      "from block forward [(3, 1, 0, 1, 1, 1)]\n",
      "from block forward [(3, 1, 0, 1, 1, 1)]\n",
      "from block forward [(3, 1, 0, 1, 1, 1)]\n"
     ]
    },
    {
     "name": "stderr",
     "output_type": "stream",
     "text": [
      "Epoch: 18:  90%|█████████████████████████████████████████████████████████████████▋       | 18/20 [00:02<00:00,  8.83it/s, lowest_loss=1.97e-15, pred_loss=3.11e-9, trigger=2]"
     ]
    },
    {
     "name": "stdout",
     "output_type": "stream",
     "text": [
      "from block forward [(3, 1, 0, 1, 1, 1)]\n",
      "from block forward [(3, 1, 0, 1, 1, 1)]\n",
      "from block forward [(3, 1, 0, 1, 1, 1)]\n",
      "from block forward [(3, 1, 0, 1, 1, 1)]\n"
     ]
    },
    {
     "name": "stderr",
     "output_type": "stream",
     "text": [
      "Epoch: 19:  95%|████████████████████████████████████████████████████████████████████▍   | 19/20 [00:02<00:00,  8.73it/s, lowest_loss=1.97e-15, pred_loss=2.84e-10, trigger=3]"
     ]
    },
    {
     "name": "stdout",
     "output_type": "stream",
     "text": [
      "from block forward [(3, 1, 0, 1, 1, 1)]\n",
      "from block forward [(3, 1, 0, 1, 1, 1)]\n",
      "from block forward [(3, 1, 0, 1, 1, 1)]\n"
     ]
    },
    {
     "name": "stderr",
     "output_type": "stream",
     "text": [
      "Epoch: 19: 100%|████████████████████████████████████████████████████████████████████████| 20/20 [00:02<00:00,  7.50it/s, lowest_loss=1.97e-15, pred_loss=2.84e-10, trigger=3]\n"
     ]
    },
    {
     "name": "stdout",
     "output_type": "stream",
     "text": [
      "from block forward [(3, 1, 0, 1, 1, 1)]\n",
      "Now training on Block 1 of 54\n"
     ]
    },
    {
     "name": "stderr",
     "output_type": "stream",
     "text": [
      "Epoch: 1:   0%|                                                                                  | 0/20 [00:00<?, ?it/s, lowest_loss=0.000211, pred_loss=0.000211, trigger=0]"
     ]
    },
    {
     "name": "stdout",
     "output_type": "stream",
     "text": [
      "from block forward [(3, 1, 0, 1, 1, 3)]\n",
      "from block forward [(3, 1, 0, 1, 1, 3)]\n",
      "from block forward [(3, 1, 0, 1, 1, 3)]\n",
      "from block forward [(3, 1, 0, 1, 1, 3)]\n"
     ]
    },
    {
     "name": "stderr",
     "output_type": "stream",
     "text": [
      "Epoch: 2:  10%|███████▌                                                                    | 2/20 [00:00<00:01, 12.15it/s, lowest_loss=4.84e-6, pred_loss=4.84e-6, trigger=0]"
     ]
    },
    {
     "name": "stdout",
     "output_type": "stream",
     "text": [
      "from block forward [(3, 1, 0, 1, 1, 3)]\n",
      "from block forward [(3, 1, 0, 1, 1, 3)]\n"
     ]
    },
    {
     "name": "stderr",
     "output_type": "stream",
     "text": [
      "Epoch: 5:  20%|███████████████▌                                                              | 4/20 [00:00<00:02,  7.37it/s, lowest_loss=5.9e-8, pred_loss=5.9e-8, trigger=0]"
     ]
    },
    {
     "name": "stdout",
     "output_type": "stream",
     "text": [
      "from block forward [(3, 1, 0, 1, 1, 3)]\n",
      "from block forward [(3, 1, 0, 1, 1, 3)]\n",
      "from block forward [(3, 1, 0, 1, 1, 3)]\n",
      "from block forward [(3, 1, 0, 1, 1, 3)]\n",
      "from block forward [(3, 1, 0, 1, 1, 3)]\n"
     ]
    },
    {
     "name": "stderr",
     "output_type": "stream",
     "text": [
      "Epoch: 8:  40%|███████████████████████████████▏                                              | 8/20 [00:00<00:01, 10.87it/s, lowest_loss=1.8e-8, pred_loss=1.8e-8, trigger=0]"
     ]
    },
    {
     "name": "stdout",
     "output_type": "stream",
     "text": [
      "from block forward [(3, 1, 0, 1, 1, 3)]\n",
      "from block forward [(3, 1, 0, 1, 1, 3)]\n",
      "from block forward [(3, 1, 0, 1, 1, 3)]\n",
      "from block forward [(3, 1, 0, 1, 1, 3)]\n",
      "from block forward [(3, 1, 0, 1, 1, 3)]\n",
      "from block forward [(3, 1, 0, 1, 1, 3)]\n"
     ]
    },
    {
     "name": "stderr",
     "output_type": "stream",
     "text": [
      "Epoch: 11:  50%|█████████████████████████████████████                                     | 10/20 [00:00<00:00, 12.04it/s, lowest_loss=7.06e-9, pred_loss=7.06e-9, trigger=0]"
     ]
    },
    {
     "name": "stdout",
     "output_type": "stream",
     "text": [
      "from block forward [(3, 1, 0, 1, 1, 3)]\n",
      "from block forward [(3, 1, 0, 1, 1, 3)]\n",
      "from block forward [(3, 1, 0, 1, 1, 3)]\n",
      "from block forward [(3, 1, 0, 1, 1, 3)]\n",
      "from block forward [(3, 1, 0, 1, 1, 3)]\n",
      "from block forward [(3, 1, 0, 1, 1, 3)]\n",
      "from block forward [(3, 1, 0, 1, 1, 3)]\n"
     ]
    },
    {
     "name": "stderr",
     "output_type": "stream",
     "text": [
      "Epoch: 15:  70%|██████████████████████████████████████████████████▍                     | 14/20 [00:01<00:00, 13.84it/s, lowest_loss=8.68e-11, pred_loss=8.68e-11, trigger=0]"
     ]
    },
    {
     "name": "stdout",
     "output_type": "stream",
     "text": [
      "from block forward [(3, 1, 0, 1, 1, 3)]\n",
      "from block forward [(3, 1, 0, 1, 1, 3)]\n",
      "from block forward [(3, 1, 0, 1, 1, 3)]\n",
      "from block forward [(3, 1, 0, 1, 1, 3)]\n",
      "from block forward [(3, 1, 0, 1, 1, 3)]\n",
      "from block forward [(3, 1, 0, 1, 1, 3)]\n",
      "from block forward [(3, 1, 0, 1, 1, 3)]\n"
     ]
    },
    {
     "name": "stderr",
     "output_type": "stream",
     "text": [
      "Epoch: 19:  90%|█████████████████████████████████████████████████████████████████▋       | 18/20 [00:01<00:00, 14.88it/s, lowest_loss=7.44e-12, pred_loss=1.91e-9, trigger=2]"
     ]
    },
    {
     "name": "stdout",
     "output_type": "stream",
     "text": [
      "from block forward [(3, 1, 0, 1, 1, 3)]\n",
      "from block forward [(3, 1, 0, 1, 1, 3)]\n",
      "from block forward [(3, 1, 0, 1, 1, 3)]\n",
      "from block forward [(3, 1, 0, 1, 1, 3)]\n",
      "from block forward [(3, 1, 0, 1, 1, 3)]\n",
      "from block forward [(3, 1, 0, 1, 1, 3)]\n",
      "from block forward [(3, 1, 0, 1, 1, 3)]\n"
     ]
    },
    {
     "name": "stderr",
     "output_type": "stream",
     "text": [
      "Epoch: 19: 100%|█████████████████████████████████████████████████████████████████████████| 20/20 [00:01<00:00, 12.70it/s, lowest_loss=7.44e-12, pred_loss=1.91e-9, trigger=2]\n"
     ]
    },
    {
     "name": "stdout",
     "output_type": "stream",
     "text": [
      "from block forward [(3, 1, 0, 1, 1, 3)]\n",
      "from block forward [(3, 1, 0, 1, 1, 3)]\n",
      "Now training on Block 2 of 54\n"
     ]
    },
    {
     "name": "stderr",
     "output_type": "stream",
     "text": [
      "Epoch: 0:   0%|                                                                                             | 0/20 [00:00<?, ?it/s, lowest_loss=9999, pred_loss=0, trigger=0]"
     ]
    },
    {
     "name": "stdout",
     "output_type": "stream",
     "text": [
      "from block forward [(3, 1, 0, 1, 1, 12)]\n"
     ]
    },
    {
     "name": "stderr",
     "output_type": "stream",
     "text": [
      "Epoch: 1:   5%|███▉                                                                          | 1/20 [00:00<00:06,  2.72it/s, lowest_loss=0.0003, pred_loss=0.0003, trigger=0]"
     ]
    },
    {
     "name": "stdout",
     "output_type": "stream",
     "text": [
      "from block forward [(3, 1, 0, 1, 1, 12)]\n",
      "from block forward [(3, 1, 0, 1, 1, 12)]\n"
     ]
    },
    {
     "name": "stderr",
     "output_type": "stream",
     "text": [
      "Epoch: 2:  10%|███████▌                                                                    | 2/20 [00:00<00:05,  3.05it/s, lowest_loss=1.42e-5, pred_loss=1.42e-5, trigger=0]"
     ]
    },
    {
     "name": "stdout",
     "output_type": "stream",
     "text": [
      "from block forward [(3, 1, 0, 1, 1, 12)]\n",
      "from block forward [(3, 1, 0, 1, 1, 12)]\n"
     ]
    },
    {
     "name": "stderr",
     "output_type": "stream",
     "text": [
      "Epoch: 3:  15%|███████████▍                                                                | 3/20 [00:00<00:05,  3.12it/s, lowest_loss=5.92e-8, pred_loss=5.92e-8, trigger=0]"
     ]
    },
    {
     "name": "stdout",
     "output_type": "stream",
     "text": [
      "from block forward [(3, 1, 0, 1, 1, 12)]\n",
      "from block forward [(3, 1, 0, 1, 1, 12)]\n"
     ]
    },
    {
     "name": "stderr",
     "output_type": "stream",
     "text": [
      "Epoch: 4:  20%|███████████████▏                                                            | 4/20 [00:01<00:05,  3.17it/s, lowest_loss=1.35e-8, pred_loss=1.35e-8, trigger=0]"
     ]
    },
    {
     "name": "stdout",
     "output_type": "stream",
     "text": [
      "from block forward [(3, 1, 0, 1, 1, 12)]\n",
      "from block forward [(3, 1, 0, 1, 1, 12)]\n"
     ]
    },
    {
     "name": "stderr",
     "output_type": "stream",
     "text": [
      "Epoch: 5:  25%|███████████████████                                                         | 5/20 [00:01<00:04,  3.20it/s, lowest_loss=1.35e-8, pred_loss=2.15e-8, trigger=1]"
     ]
    },
    {
     "name": "stdout",
     "output_type": "stream",
     "text": [
      "from block forward [(3, 1, 0, 1, 1, 12)]\n",
      "from block forward [(3, 1, 0, 1, 1, 12)]\n"
     ]
    },
    {
     "name": "stderr",
     "output_type": "stream",
     "text": [
      "Epoch: 6:  30%|██████████████████████▊                                                     | 6/20 [00:01<00:04,  3.29it/s, lowest_loss=1.98e-9, pred_loss=1.98e-9, trigger=0]"
     ]
    },
    {
     "name": "stdout",
     "output_type": "stream",
     "text": [
      "from block forward [(3, 1, 0, 1, 1, 12)]\n",
      "from block forward [(3, 1, 0, 1, 1, 12)]\n"
     ]
    },
    {
     "name": "stderr",
     "output_type": "stream",
     "text": [
      "Epoch: 7:  35%|██████████████████████████▌                                                 | 7/20 [00:02<00:03,  3.33it/s, lowest_loss=1.98e-9, pred_loss=3.38e-9, trigger=1]"
     ]
    },
    {
     "name": "stdout",
     "output_type": "stream",
     "text": [
      "from block forward [(3, 1, 0, 1, 1, 12)]\n",
      "from block forward [(3, 1, 0, 1, 1, 12)]\n"
     ]
    },
    {
     "name": "stderr",
     "output_type": "stream",
     "text": [
      "Epoch: 8:  40%|██████████████████████████████▍                                             | 8/20 [00:02<00:03,  3.35it/s, lowest_loss=1.53e-9, pred_loss=1.53e-9, trigger=0]"
     ]
    },
    {
     "name": "stdout",
     "output_type": "stream",
     "text": [
      "from block forward [(3, 1, 0, 1, 1, 12)]\n",
      "from block forward [(3, 1, 0, 1, 1, 12)]\n"
     ]
    },
    {
     "name": "stderr",
     "output_type": "stream",
     "text": [
      "Epoch: 9:  45%|██████████████████████████████████▏                                         | 9/20 [00:02<00:03,  3.42it/s, lowest_loss=1.53e-9, pred_loss=1.89e-9, trigger=1]"
     ]
    },
    {
     "name": "stdout",
     "output_type": "stream",
     "text": [
      "from block forward [(3, 1, 0, 1, 1, 12)]\n",
      "from block forward [(3, 1, 0, 1, 1, 12)]\n"
     ]
    },
    {
     "name": "stderr",
     "output_type": "stream",
     "text": [
      "Epoch: 10:  50%|█████████████████████████████████████                                     | 10/20 [00:03<00:02,  3.46it/s, lowest_loss=1.53e-9, pred_loss=2.27e-9, trigger=2]"
     ]
    },
    {
     "name": "stdout",
     "output_type": "stream",
     "text": [
      "from block forward [(3, 1, 0, 1, 1, 12)]\n",
      "from block forward [(3, 1, 0, 1, 1, 12)]\n"
     ]
    },
    {
     "name": "stderr",
     "output_type": "stream",
     "text": [
      "Epoch: 11:  55%|███████████████████████████████████████▌                                | 11/20 [00:03<00:02,  3.52it/s, lowest_loss=9.51e-10, pred_loss=9.51e-10, trigger=0]"
     ]
    },
    {
     "name": "stdout",
     "output_type": "stream",
     "text": [
      "from block forward [(3, 1, 0, 1, 1, 12)]\n",
      "from block forward [(3, 1, 0, 1, 1, 12)]\n"
     ]
    },
    {
     "name": "stderr",
     "output_type": "stream",
     "text": [
      "Epoch: 12:  60%|███████████████████████████████████████████▊                             | 12/20 [00:03<00:02,  3.52it/s, lowest_loss=9.51e-10, pred_loss=1.18e-9, trigger=1]"
     ]
    },
    {
     "name": "stdout",
     "output_type": "stream",
     "text": [
      "from block forward [(3, 1, 0, 1, 1, 12)]\n",
      "from block forward [(3, 1, 0, 1, 1, 12)]\n"
     ]
    },
    {
     "name": "stderr",
     "output_type": "stream",
     "text": [
      "Epoch: 13:  65%|██████████████████████████████████████████████▊                         | 13/20 [00:03<00:01,  3.54it/s, lowest_loss=9.51e-10, pred_loss=9.54e-10, trigger=2]"
     ]
    },
    {
     "name": "stdout",
     "output_type": "stream",
     "text": [
      "from block forward [(3, 1, 0, 1, 1, 12)]\n",
      "from block forward [(3, 1, 0, 1, 1, 12)]\n"
     ]
    },
    {
     "name": "stderr",
     "output_type": "stream",
     "text": [
      "Epoch: 14:  70%|██████████████████████████████████████████████████▍                     | 14/20 [00:04<00:01,  3.55it/s, lowest_loss=4.72e-10, pred_loss=4.72e-10, trigger=0]"
     ]
    },
    {
     "name": "stdout",
     "output_type": "stream",
     "text": [
      "from block forward [(3, 1, 0, 1, 1, 12)]\n",
      "from block forward [(3, 1, 0, 1, 1, 12)]\n"
     ]
    },
    {
     "name": "stderr",
     "output_type": "stream",
     "text": [
      "Epoch: 15:  75%|██████████████████████████████████████████████████████                  | 15/20 [00:04<00:01,  3.59it/s, lowest_loss=4.72e-10, pred_loss=5.86e-10, trigger=1]"
     ]
    },
    {
     "name": "stdout",
     "output_type": "stream",
     "text": [
      "from block forward [(3, 1, 0, 1, 1, 12)]\n",
      "from block forward [(3, 1, 0, 1, 1, 12)]\n"
     ]
    },
    {
     "name": "stderr",
     "output_type": "stream",
     "text": [
      "Epoch: 16:  80%|██████████████████████████████████████████████████████████▍              | 16/20 [00:04<00:01,  3.49it/s, lowest_loss=4.72e-10, pred_loss=1.16e-9, trigger=2]"
     ]
    },
    {
     "name": "stdout",
     "output_type": "stream",
     "text": [
      "from block forward [(3, 1, 0, 1, 1, 12)]\n",
      "from block forward [(3, 1, 0, 1, 1, 12)]\n"
     ]
    },
    {
     "name": "stderr",
     "output_type": "stream",
     "text": [
      "Epoch: 17:  85%|█████████████████████████████████████████████████████████████▏          | 17/20 [00:05<00:00,  3.50it/s, lowest_loss=1.46e-11, pred_loss=1.46e-11, trigger=0]"
     ]
    },
    {
     "name": "stdout",
     "output_type": "stream",
     "text": [
      "from block forward [(3, 1, 0, 1, 1, 12)]\n",
      "from block forward [(3, 1, 0, 1, 1, 12)]\n"
     ]
    },
    {
     "name": "stderr",
     "output_type": "stream",
     "text": [
      "Epoch: 18:  90%|████████████████████████████████████████████████████████████████▊       | 18/20 [00:05<00:00,  3.49it/s, lowest_loss=1.46e-11, pred_loss=2.44e-10, trigger=1]"
     ]
    },
    {
     "name": "stdout",
     "output_type": "stream",
     "text": [
      "from block forward [(3, 1, 0, 1, 1, 12)]\n",
      "from block forward [(3, 1, 0, 1, 1, 12)]\n"
     ]
    },
    {
     "name": "stderr",
     "output_type": "stream",
     "text": [
      "Epoch: 19:  95%|████████████████████████████████████████████████████████████████████▍   | 19/20 [00:05<00:00,  3.54it/s, lowest_loss=1.46e-11, pred_loss=1.36e-10, trigger=2]"
     ]
    },
    {
     "name": "stdout",
     "output_type": "stream",
     "text": [
      "from block forward [(3, 1, 0, 1, 1, 12)]\n",
      "from block forward [(3, 1, 0, 1, 1, 12)]\n"
     ]
    },
    {
     "name": "stderr",
     "output_type": "stream",
     "text": [
      "Epoch: 19: 100%|████████████████████████████████████████████████████████████████████████| 20/20 [00:05<00:00,  3.41it/s, lowest_loss=1.46e-11, pred_loss=1.36e-10, trigger=2]\n"
     ]
    },
    {
     "name": "stdout",
     "output_type": "stream",
     "text": [
      "from block forward [(3, 1, 0, 1, 1, 12)]\n",
      "Now training on Block 3 of 54\n"
     ]
    },
    {
     "name": "stderr",
     "output_type": "stream",
     "text": [
      "Epoch: 1:   0%|                                                                                  | 0/20 [00:00<?, ?it/s, lowest_loss=0.000326, pred_loss=0.000326, trigger=0]"
     ]
    },
    {
     "name": "stdout",
     "output_type": "stream",
     "text": [
      "from block forward [(3, 1, 0, 1, 3, 1)]\n",
      "from block forward [(3, 1, 0, 1, 3, 1)]\n",
      "from block forward [(3, 1, 0, 1, 3, 1)]\n"
     ]
    },
    {
     "name": "stderr",
     "output_type": "stream",
     "text": [
      "Epoch: 3:  10%|███████▌                                                                    | 2/20 [00:00<00:01, 13.36it/s, lowest_loss=1.76e-7, pred_loss=1.76e-7, trigger=0]"
     ]
    },
    {
     "name": "stdout",
     "output_type": "stream",
     "text": [
      "from block forward [(3, 1, 0, 1, 3, 1)]\n",
      "from block forward [(3, 1, 0, 1, 3, 1)]\n",
      "from block forward [(3, 1, 0, 1, 3, 1)]\n"
     ]
    },
    {
     "name": "stderr",
     "output_type": "stream",
     "text": [
      "Epoch: 4:  20%|███████████████▏                                                            | 4/20 [00:00<00:01, 14.43it/s, lowest_loss=1.09e-7, pred_loss=1.09e-7, trigger=0]"
     ]
    },
    {
     "name": "stdout",
     "output_type": "stream",
     "text": [
      "from block forward [(3, 1, 0, 1, 3, 1)]\n",
      "from block forward [(3, 1, 0, 1, 3, 1)]\n",
      "from block forward [(3, 1, 0, 1, 3, 1)]\n",
      "from block forward [(3, 1, 0, 1, 3, 1)]\n"
     ]
    },
    {
     "name": "stderr",
     "output_type": "stream",
     "text": [
      "Epoch: 6:  30%|██████████████████████▊                                                     | 6/20 [00:00<00:00, 15.28it/s, lowest_loss=3.64e-8, pred_loss=3.64e-8, trigger=0]"
     ]
    },
    {
     "name": "stdout",
     "output_type": "stream",
     "text": [
      "from block forward [(3, 1, 0, 1, 3, 1)]\n",
      "from block forward [(3, 1, 0, 1, 3, 1)]\n",
      "from block forward [(3, 1, 0, 1, 3, 1)]\n"
     ]
    },
    {
     "name": "stderr",
     "output_type": "stream",
     "text": [
      "Epoch: 8:  40%|██████████████████████████████▊                                              | 8/20 [00:00<00:00, 15.12it/s, lowest_loss=2.06e-8, pred_loss=2.9e-8, trigger=1]"
     ]
    },
    {
     "name": "stdout",
     "output_type": "stream",
     "text": [
      "from block forward [(3, 1, 0, 1, 3, 1)]\n",
      "from block forward [(3, 1, 0, 1, 3, 1)]\n",
      "from block forward [(3, 1, 0, 1, 3, 1)]\n",
      "from block forward [(3, 1, 0, 1, 3, 1)]\n"
     ]
    },
    {
     "name": "stderr",
     "output_type": "stream",
     "text": [
      "Epoch: 9:  40%|██████████████████████████████▍                                             | 8/20 [00:00<00:00, 15.12it/s, lowest_loss=1.81e-8, pred_loss=1.81e-8, trigger=0]"
     ]
    },
    {
     "name": "stdout",
     "output_type": "stream",
     "text": [
      "from block forward [(3, 1, 0, 1, 3, 1)]\n",
      "from block forward [(3, 1, 0, 1, 3, 1)]\n"
     ]
    },
    {
     "name": "stderr",
     "output_type": "stream",
     "text": [
      "Epoch: 11:  50%|█████████████████████████████████████                                     | 10/20 [00:00<00:00, 13.99it/s, lowest_loss=2.53e-9, pred_loss=3.31e-9, trigger=1]"
     ]
    },
    {
     "name": "stdout",
     "output_type": "stream",
     "text": [
      "from block forward [(3, 1, 0, 1, 3, 1)]\n",
      "from block forward [(3, 1, 0, 1, 3, 1)]\n",
      "from block forward [(3, 1, 0, 1, 3, 1)]\n",
      "from block forward [(3, 1, 0, 1, 3, 1)]\n"
     ]
    },
    {
     "name": "stderr",
     "output_type": "stream",
     "text": [
      "Epoch: 12:  60%|████████████████████████████████████████████▍                             | 12/20 [00:00<00:00, 14.24it/s, lowest_loss=2.53e-9, pred_loss=7.56e-9, trigger=2]"
     ]
    },
    {
     "name": "stdout",
     "output_type": "stream",
     "text": [
      "from block forward [(3, 1, 0, 1, 3, 1)]\n",
      "from block forward [(3, 1, 0, 1, 3, 1)]\n",
      "from block forward [(3, 1, 0, 1, 3, 1)]\n"
     ]
    },
    {
     "name": "stderr",
     "output_type": "stream",
     "text": [
      "Epoch: 15:  70%|███████████████████████████████████████████████████                      | 14/20 [00:01<00:00, 15.00it/s, lowest_loss=1.86e-10, pred_loss=1.59e-9, trigger=1]"
     ]
    },
    {
     "name": "stdout",
     "output_type": "stream",
     "text": [
      "from block forward [(3, 1, 0, 1, 3, 1)]\n",
      "from block forward [(3, 1, 0, 1, 3, 1)]\n",
      "from block forward [(3, 1, 0, 1, 3, 1)]\n",
      "from block forward [(3, 1, 0, 1, 3, 1)]\n"
     ]
    },
    {
     "name": "stderr",
     "output_type": "stream",
     "text": [
      "Epoch: 16:  80%|██████████████████████████████████████████████████████████▍              | 16/20 [00:01<00:00, 15.17it/s, lowest_loss=1.86e-10, pred_loss=1.59e-9, trigger=1]"
     ]
    },
    {
     "name": "stdout",
     "output_type": "stream",
     "text": [
      "from block forward [(3, 1, 0, 1, 3, 1)]\n",
      "from block forward [(3, 1, 0, 1, 3, 1)]\n"
     ]
    },
    {
     "name": "stderr",
     "output_type": "stream",
     "text": [
      "Epoch: 18:  90%|█████████████████████████████████████████████████████████████████▋       | 18/20 [00:01<00:00,  9.98it/s, lowest_loss=1.86e-10, pred_loss=7.7e-10, trigger=4]"
     ]
    },
    {
     "name": "stdout",
     "output_type": "stream",
     "text": [
      "from block forward [(3, 1, 0, 1, 3, 1)]\n",
      "from block forward [(3, 1, 0, 1, 3, 1)]\n",
      "from block forward [(3, 1, 0, 1, 3, 1)]\n",
      "from block forward [(3, 1, 0, 1, 3, 1)]\n"
     ]
    },
    {
     "name": "stderr",
     "output_type": "stream",
     "text": [
      "Epoch: 19: 100%|█████████████████████████████████████████████████████████████████████████| 20/20 [00:01<00:00, 12.67it/s, lowest_loss=1.86e-10, pred_loss=1.28e-9, trigger=5]\n"
     ]
    },
    {
     "name": "stdout",
     "output_type": "stream",
     "text": [
      "from block forward [(3, 1, 0, 1, 3, 1)]\n",
      "from block forward [(3, 1, 0, 1, 3, 1)]\n",
      "from block forward [(3, 1, 0, 1, 3, 1)]\n",
      "from block forward [(3, 1, 0, 1, 3, 1)]\n",
      "Now training on Block 4 of 54\n"
     ]
    },
    {
     "name": "stderr",
     "output_type": "stream",
     "text": [
      "Epoch: 1:   0%|                                                                                  | 0/20 [00:00<?, ?it/s, lowest_loss=0.000258, pred_loss=0.000258, trigger=0]"
     ]
    },
    {
     "name": "stdout",
     "output_type": "stream",
     "text": [
      "from block forward [(3, 1, 0, 1, 3, 3)]\n",
      "from block forward [(3, 1, 0, 1, 3, 3)]\n",
      "from block forward [(3, 1, 0, 1, 3, 3)]\n"
     ]
    },
    {
     "name": "stderr",
     "output_type": "stream",
     "text": [
      "Epoch: 3:  10%|███████▌                                                                    | 2/20 [00:00<00:01, 15.29it/s, lowest_loss=7.63e-8, pred_loss=7.63e-8, trigger=0]"
     ]
    },
    {
     "name": "stdout",
     "output_type": "stream",
     "text": [
      "from block forward [(3, 1, 0, 1, 3, 3)]\n",
      "from block forward [(3, 1, 0, 1, 3, 3)]\n",
      "from block forward [(3, 1, 0, 1, 3, 3)]\n"
     ]
    },
    {
     "name": "stderr",
     "output_type": "stream",
     "text": [
      "Epoch: 4:  20%|███████████████▏                                                            | 4/20 [00:00<00:01, 14.32it/s, lowest_loss=4.35e-8, pred_loss=4.35e-8, trigger=0]"
     ]
    },
    {
     "name": "stdout",
     "output_type": "stream",
     "text": [
      "from block forward [(3, 1, 0, 1, 3, 3)]\n",
      "from block forward [(3, 1, 0, 1, 3, 3)]\n",
      "from block forward [(3, 1, 0, 1, 3, 3)]\n"
     ]
    },
    {
     "name": "stderr",
     "output_type": "stream",
     "text": [
      "Epoch: 5:  20%|███████████████▏                                                            | 4/20 [00:00<00:01, 14.32it/s, lowest_loss=1.01e-8, pred_loss=1.01e-8, trigger=0]"
     ]
    },
    {
     "name": "stdout",
     "output_type": "stream",
     "text": [
      "from block forward [(3, 1, 0, 1, 3, 3)]\n",
      "from block forward [(3, 1, 0, 1, 3, 3)]\n",
      "from block forward [(3, 1, 0, 1, 3, 3)]\n"
     ]
    },
    {
     "name": "stderr",
     "output_type": "stream",
     "text": [
      "Epoch: 6:  30%|██████████████████████▊                                                     | 6/20 [00:00<00:01, 10.86it/s, lowest_loss=1.01e-8, pred_loss=1.76e-8, trigger=1]"
     ]
    },
    {
     "name": "stdout",
     "output_type": "stream",
     "text": [
      "from block forward [(3, 1, 0, 1, 3, 3)]\n"
     ]
    },
    {
     "name": "stderr",
     "output_type": "stream",
     "text": [
      "Epoch: 7:  30%|██████████████████████▊                                                     | 6/20 [00:00<00:01, 10.86it/s, lowest_loss=4.75e-9, pred_loss=4.75e-9, trigger=0]"
     ]
    },
    {
     "name": "stdout",
     "output_type": "stream",
     "text": [
      "from block forward [(3, 1, 0, 1, 3, 3)]\n",
      "from block forward [(3, 1, 0, 1, 3, 3)]\n"
     ]
    },
    {
     "name": "stderr",
     "output_type": "stream",
     "text": [
      "Epoch: 9:  40%|██████████████████████████████▍                                             | 8/20 [00:00<00:01,  9.16it/s, lowest_loss=3.85e-9, pred_loss=3.85e-9, trigger=0]"
     ]
    },
    {
     "name": "stdout",
     "output_type": "stream",
     "text": [
      "from block forward [(3, 1, 0, 1, 3, 3)]\n",
      "from block forward [(3, 1, 0, 1, 3, 3)]\n",
      "from block forward [(3, 1, 0, 1, 3, 3)]\n",
      "from block forward [(3, 1, 0, 1, 3, 3)]\n"
     ]
    },
    {
     "name": "stderr",
     "output_type": "stream",
     "text": [
      "Epoch: 10:  50%|████████████████████████████████████                                    | 10/20 [00:00<00:00, 10.68it/s, lowest_loss=1.61e-10, pred_loss=1.61e-10, trigger=0]"
     ]
    },
    {
     "name": "stdout",
     "output_type": "stream",
     "text": [
      "from block forward [(3, 1, 0, 1, 3, 3)]\n",
      "from block forward [(3, 1, 0, 1, 3, 3)]\n"
     ]
    },
    {
     "name": "stderr",
     "output_type": "stream",
     "text": [
      "Epoch: 13:  60%|███████████████████████████████████████████▊                             | 12/20 [00:01<00:00, 11.96it/s, lowest_loss=1.61e-10, pred_loss=2.5e-10, trigger=3]"
     ]
    },
    {
     "name": "stdout",
     "output_type": "stream",
     "text": [
      "from block forward [(3, 1, 0, 1, 3, 3)]\n",
      "from block forward [(3, 1, 0, 1, 3, 3)]\n",
      "from block forward [(3, 1, 0, 1, 3, 3)]\n",
      "from block forward [(3, 1, 0, 1, 3, 3)]\n",
      "from block forward [(3, 1, 0, 1, 3, 3)]\n"
     ]
    },
    {
     "name": "stderr",
     "output_type": "stream",
     "text": [
      "Epoch: 14:  70%|███████████████████████████████████████████████████                      | 14/20 [00:01<00:00, 13.31it/s, lowest_loss=1.61e-10, pred_loss=1.06e-9, trigger=4]"
     ]
    },
    {
     "name": "stdout",
     "output_type": "stream",
     "text": [
      "from block forward [(3, 1, 0, 1, 3, 3)]\n",
      "from block forward [(3, 1, 0, 1, 3, 3)]\n"
     ]
    },
    {
     "name": "stderr",
     "output_type": "stream",
     "text": [
      "Epoch: 16:  80%|███████████████████████████████████████████████████████████▏              | 16/20 [00:01<00:00, 13.90it/s, lowest_loss=1.8e-11, pred_loss=1.8e-11, trigger=0]"
     ]
    },
    {
     "name": "stdout",
     "output_type": "stream",
     "text": [
      "from block forward [(3, 1, 0, 1, 3, 3)]\n",
      "from block forward [(3, 1, 0, 1, 3, 3)]\n",
      "from block forward [(3, 1, 0, 1, 3, 3)]\n",
      "from block forward [(3, 1, 0, 1, 3, 3)]\n",
      "from block forward [(3, 1, 0, 1, 3, 3)]\n"
     ]
    },
    {
     "name": "stderr",
     "output_type": "stream",
     "text": [
      "Epoch: 17:  80%|█████████████████████████████████████████████████████████▌              | 16/20 [00:01<00:00, 13.90it/s, lowest_loss=4.79e-12, pred_loss=4.79e-12, trigger=0]"
     ]
    },
    {
     "name": "stdout",
     "output_type": "stream",
     "text": [
      "from block forward [(3, 1, 0, 1, 3, 3)]\n",
      "from block forward [(3, 1, 0, 1, 3, 3)]\n"
     ]
    },
    {
     "name": "stderr",
     "output_type": "stream",
     "text": [
      "Epoch: 19: 100%|████████████████████████████████████████████████████████████████████████| 20/20 [00:01<00:00, 12.98it/s, lowest_loss=4.79e-12, pred_loss=7.26e-11, trigger=2]"
     ]
    },
    {
     "name": "stdout",
     "output_type": "stream",
     "text": [
      "from block forward [(3, 1, 0, 1, 3, 3)]\n",
      "from block forward [(3, 1, 0, 1, 3, 3)]\n",
      "from block forward [(3, 1, 0, 1, 3, 3)]\n",
      "from block forward [(3, 1, 0, 1, 3, 3)]\n",
      "from block forward [(3, 1, 0, 1, 3, 3)]\n"
     ]
    },
    {
     "name": "stderr",
     "output_type": "stream",
     "text": [
      "\n"
     ]
    },
    {
     "name": "stdout",
     "output_type": "stream",
     "text": [
      "Now training on Block 5 of 54\n"
     ]
    },
    {
     "name": "stderr",
     "output_type": "stream",
     "text": [
      "Epoch: 0:   0%|                                                                                             | 0/20 [00:00<?, ?it/s, lowest_loss=9999, pred_loss=0, trigger=0]"
     ]
    },
    {
     "name": "stdout",
     "output_type": "stream",
     "text": [
      "from block forward [(3, 1, 0, 1, 3, 12)]\n"
     ]
    },
    {
     "name": "stderr",
     "output_type": "stream",
     "text": [
      "Epoch: 1:   5%|████▎                                                                                | 1/20 [00:00<00:04,  4.23it/s, lowest_loss=9999, pred_loss=0, trigger=0]"
     ]
    },
    {
     "name": "stdout",
     "output_type": "stream",
     "text": [
      "from block forward [(3, 1, 0, 1, 3, 12)]\n"
     ]
    },
    {
     "name": "stderr",
     "output_type": "stream",
     "text": [
      "Epoch: 2:  10%|███████▌                                                                    | 2/20 [00:00<00:03,  5.12it/s, lowest_loss=8.03e-6, pred_loss=8.03e-6, trigger=0]"
     ]
    },
    {
     "name": "stdout",
     "output_type": "stream",
     "text": [
      "from block forward [(3, 1, 0, 1, 3, 12)]\n",
      "from block forward [(3, 1, 0, 1, 3, 12)]\n",
      "from block forward [(3, 1, 0, 1, 3, 12)]\n"
     ]
    },
    {
     "name": "stderr",
     "output_type": "stream",
     "text": [
      "Epoch: 3:  15%|███████████▍                                                                | 3/20 [00:00<00:03,  5.40it/s, lowest_loss=1.29e-8, pred_loss=1.29e-8, trigger=0]"
     ]
    },
    {
     "name": "stdout",
     "output_type": "stream",
     "text": [
      "from block forward [(3, 1, 0, 1, 3, 12)]\n",
      "from block forward [(3, 1, 0, 1, 3, 12)]\n",
      "from block forward [(3, 1, 0, 1, 3, 12)]\n"
     ]
    },
    {
     "name": "stderr",
     "output_type": "stream",
     "text": [
      "Epoch: 5:  25%|███████████████████                                                         | 5/20 [00:00<00:02,  5.83it/s, lowest_loss=1.29e-8, pred_loss=1.55e-8, trigger=2]"
     ]
    },
    {
     "name": "stdout",
     "output_type": "stream",
     "text": [
      "from block forward [(3, 1, 0, 1, 3, 12)]\n",
      "from block forward [(3, 1, 0, 1, 3, 12)]\n",
      "from block forward [(3, 1, 0, 1, 3, 12)]\n"
     ]
    },
    {
     "name": "stderr",
     "output_type": "stream",
     "text": [
      "Epoch: 6:  30%|██████████████████████▊                                                     | 6/20 [00:01<00:02,  5.81it/s, lowest_loss=2.23e-9, pred_loss=2.23e-9, trigger=0]"
     ]
    },
    {
     "name": "stdout",
     "output_type": "stream",
     "text": [
      "from block forward [(3, 1, 0, 1, 3, 12)]\n",
      "from block forward [(3, 1, 0, 1, 3, 12)]\n",
      "from block forward [(3, 1, 0, 1, 3, 12)]\n"
     ]
    },
    {
     "name": "stderr",
     "output_type": "stream",
     "text": [
      "Epoch: 8:  40%|█████████████████████████████▌                                            | 8/20 [00:01<00:02,  5.93it/s, lowest_loss=8.41e-10, pred_loss=8.41e-10, trigger=0]"
     ]
    },
    {
     "name": "stdout",
     "output_type": "stream",
     "text": [
      "from block forward [(3, 1, 0, 1, 3, 12)]\n",
      "from block forward [(3, 1, 0, 1, 3, 12)]\n",
      "from block forward [(3, 1, 0, 1, 3, 12)]\n"
     ]
    },
    {
     "name": "stderr",
     "output_type": "stream",
     "text": [
      "Epoch: 9:  45%|█████████████████████████████████▊                                         | 9/20 [00:01<00:01,  5.98it/s, lowest_loss=8.41e-10, pred_loss=1.97e-9, trigger=1]"
     ]
    },
    {
     "name": "stdout",
     "output_type": "stream",
     "text": [
      "from block forward [(3, 1, 0, 1, 3, 12)]\n",
      "from block forward [(3, 1, 0, 1, 3, 12)]\n"
     ]
    },
    {
     "name": "stderr",
     "output_type": "stream",
     "text": [
      "Epoch: 10:  50%|████████████████████████████████████▌                                    | 10/20 [00:01<00:01,  6.18it/s, lowest_loss=8.41e-10, pred_loss=1.02e-9, trigger=2]"
     ]
    },
    {
     "name": "stdout",
     "output_type": "stream",
     "text": [
      "from block forward [(3, 1, 0, 1, 3, 12)]\n"
     ]
    },
    {
     "name": "stderr",
     "output_type": "stream",
     "text": [
      "Epoch: 11:  55%|████████████████████████████████████████▏                                | 11/20 [00:01<00:01,  6.13it/s, lowest_loss=8.41e-10, pred_loss=1.32e-9, trigger=3]"
     ]
    },
    {
     "name": "stdout",
     "output_type": "stream",
     "text": [
      "from block forward [(3, 1, 0, 1, 3, 12)]\n",
      "from block forward [(3, 1, 0, 1, 3, 12)]\n",
      "from block forward [(3, 1, 0, 1, 3, 12)]\n"
     ]
    },
    {
     "name": "stderr",
     "output_type": "stream",
     "text": [
      "Epoch: 12:  60%|████████████████████████████████████████████▍                             | 12/20 [00:02<00:01,  6.06it/s, lowest_loss=3.8e-19, pred_loss=3.8e-19, trigger=0]"
     ]
    },
    {
     "name": "stdout",
     "output_type": "stream",
     "text": [
      "from block forward [(3, 1, 0, 1, 3, 12)]\n",
      "from block forward [(3, 1, 0, 1, 3, 12)]\n"
     ]
    },
    {
     "name": "stderr",
     "output_type": "stream",
     "text": [
      "Epoch: 13:  65%|███████████████████████████████████████████████▍                         | 13/20 [00:02<00:01,  6.10it/s, lowest_loss=3.8e-19, pred_loss=8.97e-10, trigger=1]"
     ]
    },
    {
     "name": "stdout",
     "output_type": "stream",
     "text": [
      "from block forward [(3, 1, 0, 1, 3, 12)]\n"
     ]
    },
    {
     "name": "stderr",
     "output_type": "stream",
     "text": [
      "Epoch: 14:  70%|███████████████████████████████████████████████████                      | 14/20 [00:02<00:00,  6.15it/s, lowest_loss=3.8e-19, pred_loss=8.94e-10, trigger=2]"
     ]
    },
    {
     "name": "stdout",
     "output_type": "stream",
     "text": [
      "from block forward [(3, 1, 0, 1, 3, 12)]\n",
      "from block forward [(3, 1, 0, 1, 3, 12)]\n",
      "from block forward [(3, 1, 0, 1, 3, 12)]\n"
     ]
    },
    {
     "name": "stderr",
     "output_type": "stream",
     "text": [
      "Epoch: 15:  75%|██████████████████████████████████████████████████████▊                  | 15/20 [00:02<00:00,  6.13it/s, lowest_loss=3.8e-19, pred_loss=4.34e-10, trigger=3]"
     ]
    },
    {
     "name": "stdout",
     "output_type": "stream",
     "text": [
      "from block forward [(3, 1, 0, 1, 3, 12)]\n",
      "from block forward [(3, 1, 0, 1, 3, 12)]\n"
     ]
    },
    {
     "name": "stderr",
     "output_type": "stream",
     "text": [
      "Epoch: 16:  80%|██████████████████████████████████████████████████████████▍              | 16/20 [00:02<00:00,  6.18it/s, lowest_loss=3.8e-19, pred_loss=9.54e-11, trigger=4]"
     ]
    },
    {
     "name": "stdout",
     "output_type": "stream",
     "text": [
      "from block forward [(3, 1, 0, 1, 3, 12)]\n",
      "from block forward [(3, 1, 0, 1, 3, 12)]\n",
      "from block forward [(3, 1, 0, 1, 3, 12)]\n"
     ]
    },
    {
     "name": "stderr",
     "output_type": "stream",
     "text": [
      "Epoch: 17:  85%|██████████████████████████████████████████████████████████████           | 17/20 [00:02<00:00,  5.98it/s, lowest_loss=3.8e-19, pred_loss=2.35e-11, trigger=5]"
     ]
    },
    {
     "name": "stdout",
     "output_type": "stream",
     "text": [
      "from block forward [(3, 1, 0, 1, 3, 12)]\n"
     ]
    },
    {
     "name": "stderr",
     "output_type": "stream",
     "text": [
      "Epoch: 18:  90%|██████████████████████████████████████████████████████████████████▌       | 18/20 [00:03<00:00,  6.17it/s, lowest_loss=3.8e-19, pred_loss=3.8e-19, trigger=6]"
     ]
    },
    {
     "name": "stdout",
     "output_type": "stream",
     "text": [
      "from block forward [(3, 1, 0, 1, 3, 12)]\n",
      "from block forward [(3, 1, 0, 1, 3, 12)]\n"
     ]
    },
    {
     "name": "stderr",
     "output_type": "stream",
     "text": [
      "Epoch: 19:  95%|█████████████████████████████████████████████████████████████████████▎   | 19/20 [00:03<00:00,  6.19it/s, lowest_loss=3.8e-19, pred_loss=3.66e-11, trigger=7]"
     ]
    },
    {
     "name": "stdout",
     "output_type": "stream",
     "text": [
      "from block forward [(3, 1, 0, 1, 3, 12)]\n"
     ]
    },
    {
     "name": "stderr",
     "output_type": "stream",
     "text": [
      "Epoch: 19: 100%|█████████████████████████████████████████████████████████████████████████| 20/20 [00:03<00:00,  5.95it/s, lowest_loss=3.8e-19, pred_loss=3.66e-11, trigger=7]"
     ]
    },
    {
     "name": "stdout",
     "output_type": "stream",
     "text": [
      "from block forward [(3, 1, 0, 1, 3, 12)]\n",
      "from block forward [(3, 1, 0, 1, 3, 12)]\n"
     ]
    },
    {
     "name": "stderr",
     "output_type": "stream",
     "text": [
      "\n"
     ]
    },
    {
     "name": "stdout",
     "output_type": "stream",
     "text": [
      "Now training on Block 6 of 54\n"
     ]
    },
    {
     "name": "stderr",
     "output_type": "stream",
     "text": [
      "Epoch: 0:   0%|                                                                                             | 0/20 [00:00<?, ?it/s, lowest_loss=9999, pred_loss=0, trigger=0]"
     ]
    },
    {
     "name": "stdout",
     "output_type": "stream",
     "text": [
      "from block forward [(3, 1, 0, 1, 12, 1)]\n"
     ]
    },
    {
     "name": "stderr",
     "output_type": "stream",
     "text": [
      "Epoch: 1:   5%|███▋                                                                      | 1/20 [00:00<00:07,  2.55it/s, lowest_loss=0.000257, pred_loss=0.000257, trigger=0]"
     ]
    },
    {
     "name": "stdout",
     "output_type": "stream",
     "text": [
      "from block forward [(3, 1, 0, 1, 12, 1)]\n",
      "from block forward [(3, 1, 0, 1, 12, 1)]\n"
     ]
    },
    {
     "name": "stderr",
     "output_type": "stream",
     "text": [
      "Epoch: 2:  10%|███████▌                                                                    | 2/20 [00:00<00:06,  2.99it/s, lowest_loss=8.54e-6, pred_loss=8.54e-6, trigger=0]"
     ]
    },
    {
     "name": "stdout",
     "output_type": "stream",
     "text": [
      "from block forward [(3, 1, 0, 1, 12, 1)]\n",
      "from block forward [(3, 1, 0, 1, 12, 1)]\n"
     ]
    },
    {
     "name": "stderr",
     "output_type": "stream",
     "text": [
      "Epoch: 3:  15%|███████████▍                                                                | 3/20 [00:00<00:05,  3.27it/s, lowest_loss=1.49e-7, pred_loss=1.49e-7, trigger=0]"
     ]
    },
    {
     "name": "stdout",
     "output_type": "stream",
     "text": [
      "from block forward [(3, 1, 0, 1, 12, 1)]\n",
      "from block forward [(3, 1, 0, 1, 12, 1)]\n"
     ]
    },
    {
     "name": "stderr",
     "output_type": "stream",
     "text": [
      "Epoch: 4:  20%|███████████████▏                                                            | 4/20 [00:01<00:04,  3.42it/s, lowest_loss=2.57e-8, pred_loss=2.57e-8, trigger=0]"
     ]
    },
    {
     "name": "stdout",
     "output_type": "stream",
     "text": [
      "from block forward [(3, 1, 0, 1, 12, 1)]\n",
      "from block forward [(3, 1, 0, 1, 12, 1)]\n"
     ]
    },
    {
     "name": "stderr",
     "output_type": "stream",
     "text": [
      "Epoch: 5:  25%|███████████████████                                                         | 5/20 [00:01<00:04,  3.45it/s, lowest_loss=2.46e-8, pred_loss=2.46e-8, trigger=0]"
     ]
    },
    {
     "name": "stdout",
     "output_type": "stream",
     "text": [
      "from block forward [(3, 1, 0, 1, 12, 1)]\n",
      "from block forward [(3, 1, 0, 1, 12, 1)]\n"
     ]
    },
    {
     "name": "stderr",
     "output_type": "stream",
     "text": [
      "Epoch: 6:  30%|██████████████████████▊                                                     | 6/20 [00:01<00:04,  3.43it/s, lowest_loss=2.01e-8, pred_loss=2.01e-8, trigger=0]"
     ]
    },
    {
     "name": "stdout",
     "output_type": "stream",
     "text": [
      "from block forward [(3, 1, 0, 1, 12, 1)]\n",
      "from block forward [(3, 1, 0, 1, 12, 1)]\n"
     ]
    },
    {
     "name": "stderr",
     "output_type": "stream",
     "text": [
      "Epoch: 7:  35%|██████████████████████████▌                                                 | 7/20 [00:02<00:03,  3.49it/s, lowest_loss=1.22e-8, pred_loss=1.22e-8, trigger=0]"
     ]
    },
    {
     "name": "stdout",
     "output_type": "stream",
     "text": [
      "from block forward [(3, 1, 0, 1, 12, 1)]\n",
      "from block forward [(3, 1, 0, 1, 12, 1)]\n"
     ]
    },
    {
     "name": "stderr",
     "output_type": "stream",
     "text": [
      "Epoch: 8:  40%|█████████████████████████████▌                                            | 8/20 [00:02<00:03,  3.53it/s, lowest_loss=5.91e-10, pred_loss=5.91e-10, trigger=0]"
     ]
    },
    {
     "name": "stdout",
     "output_type": "stream",
     "text": [
      "from block forward [(3, 1, 0, 1, 12, 1)]\n",
      "from block forward [(3, 1, 0, 1, 12, 1)]\n"
     ]
    },
    {
     "name": "stderr",
     "output_type": "stream",
     "text": [
      "Epoch: 9:  45%|█████████████████████████████████▊                                         | 9/20 [00:02<00:03,  3.53it/s, lowest_loss=5.91e-10, pred_loss=1.03e-8, trigger=1]"
     ]
    },
    {
     "name": "stdout",
     "output_type": "stream",
     "text": [
      "from block forward [(3, 1, 0, 1, 12, 1)]\n",
      "from block forward [(3, 1, 0, 1, 12, 1)]\n"
     ]
    },
    {
     "name": "stderr",
     "output_type": "stream",
     "text": [
      "Epoch: 10:  50%|████████████████████████████████████▌                                    | 10/20 [00:02<00:02,  3.60it/s, lowest_loss=5.91e-10, pred_loss=8.03e-9, trigger=2]"
     ]
    },
    {
     "name": "stdout",
     "output_type": "stream",
     "text": [
      "from block forward [(3, 1, 0, 1, 12, 1)]\n",
      "from block forward [(3, 1, 0, 1, 12, 1)]\n"
     ]
    },
    {
     "name": "stderr",
     "output_type": "stream",
     "text": [
      "Epoch: 11:  55%|████████████████████████████████████████▏                                | 11/20 [00:03<00:02,  3.64it/s, lowest_loss=5.91e-10, pred_loss=3.24e-9, trigger=3]"
     ]
    },
    {
     "name": "stdout",
     "output_type": "stream",
     "text": [
      "from block forward [(3, 1, 0, 1, 12, 1)]\n",
      "from block forward [(3, 1, 0, 1, 12, 1)]\n"
     ]
    },
    {
     "name": "stderr",
     "output_type": "stream",
     "text": [
      "Epoch: 12:  60%|███████████████████████████████████████████▏                            | 12/20 [00:03<00:02,  3.57it/s, lowest_loss=9.68e-11, pred_loss=9.68e-11, trigger=0]"
     ]
    },
    {
     "name": "stdout",
     "output_type": "stream",
     "text": [
      "from block forward [(3, 1, 0, 1, 12, 1)]\n",
      "from block forward [(3, 1, 0, 1, 12, 1)]\n"
     ]
    },
    {
     "name": "stderr",
     "output_type": "stream",
     "text": [
      "Epoch: 13:  65%|████████████████████████████████████████████████                          | 13/20 [00:03<00:01,  3.51it/s, lowest_loss=9.68e-11, pred_loss=1.9e-9, trigger=1]"
     ]
    },
    {
     "name": "stdout",
     "output_type": "stream",
     "text": [
      "from block forward [(3, 1, 0, 1, 12, 1)]\n",
      "from block forward [(3, 1, 0, 1, 12, 1)]\n"
     ]
    },
    {
     "name": "stderr",
     "output_type": "stream",
     "text": [
      "Epoch: 14:  70%|██████████████████████████████████████████████████▍                     | 14/20 [00:04<00:01,  3.51it/s, lowest_loss=9.68e-11, pred_loss=1.94e-10, trigger=2]"
     ]
    },
    {
     "name": "stdout",
     "output_type": "stream",
     "text": [
      "from block forward [(3, 1, 0, 1, 12, 1)]\n",
      "from block forward [(3, 1, 0, 1, 12, 1)]\n"
     ]
    },
    {
     "name": "stderr",
     "output_type": "stream",
     "text": [
      "Epoch: 15:  75%|██████████████████████████████████████████████████████▊                  | 15/20 [00:04<00:01,  3.45it/s, lowest_loss=9.68e-11, pred_loss=1.25e-9, trigger=3]"
     ]
    },
    {
     "name": "stdout",
     "output_type": "stream",
     "text": [
      "from block forward [(3, 1, 0, 1, 12, 1)]\n",
      "from block forward [(3, 1, 0, 1, 12, 1)]\n"
     ]
    },
    {
     "name": "stderr",
     "output_type": "stream",
     "text": [
      "Epoch: 16:  80%|██████████████████████████████████████████████████████████▍              | 16/20 [00:04<00:01,  3.43it/s, lowest_loss=9.68e-11, pred_loss=4.7e-10, trigger=4]"
     ]
    },
    {
     "name": "stdout",
     "output_type": "stream",
     "text": [
      "from block forward [(3, 1, 0, 1, 12, 1)]\n",
      "from block forward [(3, 1, 0, 1, 12, 1)]\n"
     ]
    },
    {
     "name": "stderr",
     "output_type": "stream",
     "text": [
      "Epoch: 17:  85%|█████████████████████████████████████████████████████████████▏          | 17/20 [00:04<00:00,  3.40it/s, lowest_loss=9.68e-11, pred_loss=2.26e-10, trigger=5]"
     ]
    },
    {
     "name": "stdout",
     "output_type": "stream",
     "text": [
      "from block forward [(3, 1, 0, 1, 12, 1)]\n",
      "from block forward [(3, 1, 0, 1, 12, 1)]\n"
     ]
    },
    {
     "name": "stderr",
     "output_type": "stream",
     "text": [
      "Epoch: 18:  90%|████████████████████████████████████████████████████████████████▊       | 18/20 [00:05<00:00,  3.47it/s, lowest_loss=9.68e-11, pred_loss=4.88e-10, trigger=6]"
     ]
    },
    {
     "name": "stdout",
     "output_type": "stream",
     "text": [
      "from block forward [(3, 1, 0, 1, 12, 1)]\n",
      "from block forward [(3, 1, 0, 1, 12, 1)]\n"
     ]
    },
    {
     "name": "stderr",
     "output_type": "stream",
     "text": [
      "Epoch: 19:  95%|████████████████████████████████████████████████████████████████████▍   | 19/20 [00:05<00:00,  3.50it/s, lowest_loss=9.68e-11, pred_loss=6.12e-10, trigger=7]"
     ]
    },
    {
     "name": "stdout",
     "output_type": "stream",
     "text": [
      "from block forward [(3, 1, 0, 1, 12, 1)]\n",
      "from block forward [(3, 1, 0, 1, 12, 1)]\n"
     ]
    },
    {
     "name": "stderr",
     "output_type": "stream",
     "text": [
      "Epoch: 19: 100%|████████████████████████████████████████████████████████████████████████| 20/20 [00:05<00:00,  3.45it/s, lowest_loss=9.68e-11, pred_loss=6.12e-10, trigger=7]\n"
     ]
    },
    {
     "name": "stdout",
     "output_type": "stream",
     "text": [
      "from block forward [(3, 1, 0, 1, 12, 1)]\n",
      "Now training on Block 7 of 54\n"
     ]
    },
    {
     "name": "stderr",
     "output_type": "stream",
     "text": [
      "Epoch: 0:   0%|                                                                                             | 0/20 [00:00<?, ?it/s, lowest_loss=9999, pred_loss=0, trigger=0]"
     ]
    },
    {
     "name": "stdout",
     "output_type": "stream",
     "text": [
      "from block forward [(3, 1, 0, 1, 12, 3)]\n"
     ]
    },
    {
     "name": "stderr",
     "output_type": "stream",
     "text": [
      "Epoch: 1:   5%|███▋                                                                      | 1/20 [00:00<00:03,  5.35it/s, lowest_loss=0.000276, pred_loss=0.000276, trigger=0]"
     ]
    },
    {
     "name": "stdout",
     "output_type": "stream",
     "text": [
      "from block forward [(3, 1, 0, 1, 12, 3)]\n",
      "from block forward [(3, 1, 0, 1, 12, 3)]\n"
     ]
    },
    {
     "name": "stderr",
     "output_type": "stream",
     "text": [
      "Epoch: 2:  10%|███████▊                                                                      | 2/20 [00:00<00:03,  5.85it/s, lowest_loss=1.4e-5, pred_loss=1.4e-5, trigger=0]"
     ]
    },
    {
     "name": "stdout",
     "output_type": "stream",
     "text": [
      "from block forward [(3, 1, 0, 1, 12, 3)]\n"
     ]
    },
    {
     "name": "stderr",
     "output_type": "stream",
     "text": [
      "Epoch: 3:  15%|███████████▍                                                                | 3/20 [00:00<00:02,  5.86it/s, lowest_loss=2.25e-7, pred_loss=2.25e-7, trigger=0]"
     ]
    },
    {
     "name": "stdout",
     "output_type": "stream",
     "text": [
      "from block forward [(3, 1, 0, 1, 12, 3)]\n",
      "from block forward [(3, 1, 0, 1, 12, 3)]\n",
      "from block forward [(3, 1, 0, 1, 12, 3)]\n"
     ]
    },
    {
     "name": "stderr",
     "output_type": "stream",
     "text": [
      "Epoch: 4:  20%|███████████████▏                                                            | 4/20 [00:00<00:02,  5.78it/s, lowest_loss=7.04e-9, pred_loss=7.04e-9, trigger=0]"
     ]
    },
    {
     "name": "stdout",
     "output_type": "stream",
     "text": [
      "from block forward [(3, 1, 0, 1, 12, 3)]\n",
      "from block forward [(3, 1, 0, 1, 12, 3)]\n"
     ]
    },
    {
     "name": "stderr",
     "output_type": "stream",
     "text": [
      "Epoch: 5:  25%|███████████████████                                                         | 5/20 [00:00<00:02,  6.04it/s, lowest_loss=7.04e-9, pred_loss=4.12e-8, trigger=1]"
     ]
    },
    {
     "name": "stdout",
     "output_type": "stream",
     "text": [
      "from block forward [(3, 1, 0, 1, 12, 3)]\n",
      "from block forward [(3, 1, 0, 1, 12, 3)]\n",
      "from block forward [(3, 1, 0, 1, 12, 3)]\n"
     ]
    },
    {
     "name": "stderr",
     "output_type": "stream",
     "text": [
      "Epoch: 6:  30%|██████████████████████▊                                                     | 6/20 [00:01<00:02,  5.82it/s, lowest_loss=7.04e-9, pred_loss=1.72e-8, trigger=2]"
     ]
    },
    {
     "name": "stdout",
     "output_type": "stream",
     "text": [
      "from block forward [(3, 1, 0, 1, 12, 3)]\n"
     ]
    },
    {
     "name": "stderr",
     "output_type": "stream",
     "text": [
      "Epoch: 7:  35%|███████████████████████████▋                                                   | 7/20 [00:01<00:02,  5.80it/s, lowest_loss=7.04e-9, pred_loss=2e-8, trigger=3]"
     ]
    },
    {
     "name": "stdout",
     "output_type": "stream",
     "text": [
      "from block forward [(3, 1, 0, 1, 12, 3)]\n",
      "from block forward [(3, 1, 0, 1, 12, 3)]\n"
     ]
    },
    {
     "name": "stderr",
     "output_type": "stream",
     "text": [
      "Epoch: 8:  40%|██████████████████████████████▍                                             | 8/20 [00:01<00:01,  6.12it/s, lowest_loss=7.04e-9, pred_loss=9.71e-9, trigger=4]"
     ]
    },
    {
     "name": "stdout",
     "output_type": "stream",
     "text": [
      "from block forward [(3, 1, 0, 1, 12, 3)]\n",
      "from block forward [(3, 1, 0, 1, 12, 3)]\n",
      "from block forward [(3, 1, 0, 1, 12, 3)]\n"
     ]
    },
    {
     "name": "stderr",
     "output_type": "stream",
     "text": [
      "Epoch: 9:  45%|██████████████████████████████████▏                                         | 9/20 [00:01<00:01,  5.85it/s, lowest_loss=2.04e-9, pred_loss=2.04e-9, trigger=0]"
     ]
    },
    {
     "name": "stdout",
     "output_type": "stream",
     "text": [
      "from block forward [(3, 1, 0, 1, 12, 3)]\n",
      "from block forward [(3, 1, 0, 1, 12, 3)]\n"
     ]
    },
    {
     "name": "stderr",
     "output_type": "stream",
     "text": [
      "Epoch: 10:  50%|█████████████████████████████████████                                     | 10/20 [00:01<00:01,  5.82it/s, lowest_loss=2.04e-9, pred_loss=6.45e-9, trigger=1]"
     ]
    },
    {
     "name": "stdout",
     "output_type": "stream",
     "text": [
      "from block forward [(3, 1, 0, 1, 12, 3)]\n"
     ]
    },
    {
     "name": "stderr",
     "output_type": "stream",
     "text": [
      "Epoch: 11:  55%|████████████████████████████████████████▋                                 | 11/20 [00:01<00:01,  5.87it/s, lowest_loss=2.04e-9, pred_loss=2.26e-9, trigger=2]"
     ]
    },
    {
     "name": "stdout",
     "output_type": "stream",
     "text": [
      "from block forward [(3, 1, 0, 1, 12, 3)]\n",
      "from block forward [(3, 1, 0, 1, 12, 3)]\n"
     ]
    },
    {
     "name": "stderr",
     "output_type": "stream",
     "text": [
      "Epoch: 12:  60%|████████████████████████████████████████████▍                             | 12/20 [00:02<00:01,  5.88it/s, lowest_loss=1.18e-9, pred_loss=1.18e-9, trigger=0]"
     ]
    },
    {
     "name": "stdout",
     "output_type": "stream",
     "text": [
      "from block forward [(3, 1, 0, 1, 12, 3)]\n"
     ]
    },
    {
     "name": "stderr",
     "output_type": "stream",
     "text": [
      "Epoch: 13:  65%|████████████████████████████████████████████████                          | 13/20 [00:02<00:01,  6.05it/s, lowest_loss=1.18e-9, pred_loss=2.38e-9, trigger=1]"
     ]
    },
    {
     "name": "stdout",
     "output_type": "stream",
     "text": [
      "from block forward [(3, 1, 0, 1, 12, 3)]\n",
      "from block forward [(3, 1, 0, 1, 12, 3)]\n",
      "from block forward [(3, 1, 0, 1, 12, 3)]\n"
     ]
    },
    {
     "name": "stderr",
     "output_type": "stream",
     "text": [
      "Epoch: 14:  70%|██████████████████████████████████████████████████▍                     | 14/20 [00:02<00:01,  5.88it/s, lowest_loss=3.28e-10, pred_loss=3.28e-10, trigger=0]"
     ]
    },
    {
     "name": "stdout",
     "output_type": "stream",
     "text": [
      "from block forward [(3, 1, 0, 1, 12, 3)]\n",
      "from block forward [(3, 1, 0, 1, 12, 3)]\n",
      "from block forward [(3, 1, 0, 1, 12, 3)]\n"
     ]
    },
    {
     "name": "stderr",
     "output_type": "stream",
     "text": [
      "Epoch: 16:  80%|██████████████████████████████████████████████████████████▍              | 16/20 [00:02<00:00,  6.13it/s, lowest_loss=3.28e-10, pred_loss=6.6e-10, trigger=2]"
     ]
    },
    {
     "name": "stdout",
     "output_type": "stream",
     "text": [
      "from block forward [(3, 1, 0, 1, 12, 3)]\n",
      "from block forward [(3, 1, 0, 1, 12, 3)]\n",
      "from block forward [(3, 1, 0, 1, 12, 3)]\n"
     ]
    },
    {
     "name": "stderr",
     "output_type": "stream",
     "text": [
      "Epoch: 18:  90%|████████████████████████████████████████████████████████████████▊       | 18/20 [00:03<00:00,  6.04it/s, lowest_loss=3.28e-10, pred_loss=4.68e-10, trigger=4]"
     ]
    },
    {
     "name": "stdout",
     "output_type": "stream",
     "text": [
      "from block forward [(3, 1, 0, 1, 12, 3)]\n",
      "from block forward [(3, 1, 0, 1, 12, 3)]\n",
      "from block forward [(3, 1, 0, 1, 12, 3)]\n"
     ]
    },
    {
     "name": "stderr",
     "output_type": "stream",
     "text": [
      "Epoch: 19:  95%|████████████████████████████████████████████████████████████████████▍   | 19/20 [00:03<00:00,  5.87it/s, lowest_loss=1.84e-10, pred_loss=1.84e-10, trigger=0]"
     ]
    },
    {
     "name": "stdout",
     "output_type": "stream",
     "text": [
      "from block forward [(3, 1, 0, 1, 12, 3)]\n",
      "from block forward [(3, 1, 0, 1, 12, 3)]\n",
      "from block forward [(3, 1, 0, 1, 12, 3)]\n"
     ]
    },
    {
     "name": "stderr",
     "output_type": "stream",
     "text": [
      "Epoch: 19: 100%|████████████████████████████████████████████████████████████████████████| 20/20 [00:03<00:00,  5.83it/s, lowest_loss=1.84e-10, pred_loss=1.84e-10, trigger=0]\n"
     ]
    },
    {
     "name": "stdout",
     "output_type": "stream",
     "text": [
      "from block forward [(3, 1, 0, 1, 12, 3)]\n",
      "Now training on Block 8 of 54\n"
     ]
    },
    {
     "name": "stderr",
     "output_type": "stream",
     "text": [
      "Epoch: 0:   0%|                                                                                             | 0/20 [00:00<?, ?it/s, lowest_loss=9999, pred_loss=0, trigger=0]"
     ]
    },
    {
     "name": "stdout",
     "output_type": "stream",
     "text": [
      "from block forward [(3, 1, 0, 1, 12, 12)]\n",
      "from block forward [(3, 1, 0, 1, 12, 12)]\n"
     ]
    },
    {
     "name": "stderr",
     "output_type": "stream",
     "text": [
      "Epoch: 1:   5%|███▋                                                                      | 1/20 [00:01<00:26,  1.39s/it, lowest_loss=0.000374, pred_loss=0.000374, trigger=0]"
     ]
    },
    {
     "name": "stdout",
     "output_type": "stream",
     "text": [
      "from block forward [(3, 1, 0, 1, 12, 12)]\n",
      "from block forward [(3, 1, 0, 1, 12, 12)]\n"
     ]
    },
    {
     "name": "stderr",
     "output_type": "stream",
     "text": [
      "Epoch: 2:  10%|███████▌                                                                    | 2/20 [00:02<00:26,  1.47s/it, lowest_loss=2.24e-5, pred_loss=2.24e-5, trigger=0]"
     ]
    },
    {
     "name": "stdout",
     "output_type": "stream",
     "text": [
      "from block forward [(3, 1, 0, 1, 12, 12)]\n",
      "from block forward [(3, 1, 0, 1, 12, 12)]\n"
     ]
    },
    {
     "name": "stderr",
     "output_type": "stream",
     "text": [
      "Epoch: 3:  15%|███████████▍                                                                | 3/20 [00:04<00:23,  1.38s/it, lowest_loss=6.52e-7, pred_loss=6.52e-7, trigger=0]"
     ]
    },
    {
     "name": "stdout",
     "output_type": "stream",
     "text": [
      "from block forward [(3, 1, 0, 1, 12, 12)]\n",
      "from block forward [(3, 1, 0, 1, 12, 12)]\n"
     ]
    },
    {
     "name": "stderr",
     "output_type": "stream",
     "text": [
      "Epoch: 4:  20%|███████████████▏                                                            | 4/20 [00:05<00:21,  1.35s/it, lowest_loss=1.07e-7, pred_loss=1.07e-7, trigger=0]"
     ]
    },
    {
     "name": "stdout",
     "output_type": "stream",
     "text": [
      "from block forward [(3, 1, 0, 1, 12, 12)]\n",
      "from block forward [(3, 1, 0, 1, 12, 12)]\n"
     ]
    },
    {
     "name": "stderr",
     "output_type": "stream",
     "text": [
      "Epoch: 5:  25%|███████████████████▌                                                          | 5/20 [00:06<00:19,  1.31s/it, lowest_loss=7.1e-8, pred_loss=7.1e-8, trigger=0]"
     ]
    },
    {
     "name": "stdout",
     "output_type": "stream",
     "text": [
      "from block forward [(3, 1, 0, 1, 12, 12)]\n",
      "from block forward [(3, 1, 0, 1, 12, 12)]\n"
     ]
    },
    {
     "name": "stderr",
     "output_type": "stream",
     "text": [
      "Epoch: 6:  30%|██████████████████████▊                                                     | 6/20 [00:08<00:18,  1.33s/it, lowest_loss=5.84e-8, pred_loss=5.84e-8, trigger=0]"
     ]
    },
    {
     "name": "stdout",
     "output_type": "stream",
     "text": [
      "from block forward [(3, 1, 0, 1, 12, 12)]\n",
      "from block forward [(3, 1, 0, 1, 12, 12)]\n"
     ]
    },
    {
     "name": "stderr",
     "output_type": "stream",
     "text": [
      "Epoch: 7:  35%|██████████████████████████▌                                                 | 7/20 [00:09<00:17,  1.32s/it, lowest_loss=2.93e-8, pred_loss=2.93e-8, trigger=0]"
     ]
    },
    {
     "name": "stdout",
     "output_type": "stream",
     "text": [
      "from block forward [(3, 1, 0, 1, 12, 12)]\n",
      "from block forward [(3, 1, 0, 1, 12, 12)]\n"
     ]
    },
    {
     "name": "stderr",
     "output_type": "stream",
     "text": [
      "Epoch: 8:  40%|██████████████████████████████▍                                             | 8/20 [00:10<00:15,  1.33s/it, lowest_loss=1.56e-8, pred_loss=1.56e-8, trigger=0]"
     ]
    },
    {
     "name": "stdout",
     "output_type": "stream",
     "text": [
      "from block forward [(3, 1, 0, 1, 12, 12)]\n",
      "from block forward [(3, 1, 0, 1, 12, 12)]\n"
     ]
    },
    {
     "name": "stderr",
     "output_type": "stream",
     "text": [
      "Epoch: 9:  45%|██████████████████████████████████▏                                         | 9/20 [00:12<00:14,  1.32s/it, lowest_loss=1.56e-8, pred_loss=3.45e-8, trigger=1]"
     ]
    },
    {
     "name": "stdout",
     "output_type": "stream",
     "text": [
      "from block forward [(3, 1, 0, 1, 12, 12)]\n",
      "from block forward [(3, 1, 0, 1, 12, 12)]\n"
     ]
    },
    {
     "name": "stderr",
     "output_type": "stream",
     "text": [
      "Epoch: 10:  50%|██████████████████████████████████████▌                                      | 10/20 [00:13<00:13,  1.31s/it, lowest_loss=1.56e-8, pred_loss=5e-8, trigger=2]"
     ]
    },
    {
     "name": "stdout",
     "output_type": "stream",
     "text": [
      "from block forward [(3, 1, 0, 1, 12, 12)]\n",
      "from block forward [(3, 1, 0, 1, 12, 12)]\n"
     ]
    },
    {
     "name": "stderr",
     "output_type": "stream",
     "text": [
      "Epoch: 11:  55%|████████████████████████████████████████▋                                 | 11/20 [00:14<00:11,  1.29s/it, lowest_loss=1.45e-8, pred_loss=1.45e-8, trigger=0]"
     ]
    },
    {
     "name": "stdout",
     "output_type": "stream",
     "text": [
      "from block forward [(3, 1, 0, 1, 12, 12)]\n",
      "from block forward [(3, 1, 0, 1, 12, 12)]\n"
     ]
    },
    {
     "name": "stderr",
     "output_type": "stream",
     "text": [
      "Epoch: 12:  60%|████████████████████████████████████████████▍                             | 12/20 [00:15<00:10,  1.29s/it, lowest_loss=9.98e-9, pred_loss=9.98e-9, trigger=0]"
     ]
    },
    {
     "name": "stdout",
     "output_type": "stream",
     "text": [
      "from block forward [(3, 1, 0, 1, 12, 12)]\n",
      "from block forward [(3, 1, 0, 1, 12, 12)]\n"
     ]
    },
    {
     "name": "stderr",
     "output_type": "stream",
     "text": [
      "Epoch: 13:  65%|████████████████████████████████████████████████                          | 13/20 [00:17<00:09,  1.30s/it, lowest_loss=5.29e-9, pred_loss=5.29e-9, trigger=0]"
     ]
    },
    {
     "name": "stdout",
     "output_type": "stream",
     "text": [
      "from block forward [(3, 1, 0, 1, 12, 12)]\n",
      "from block forward [(3, 1, 0, 1, 12, 12)]\n"
     ]
    },
    {
     "name": "stderr",
     "output_type": "stream",
     "text": [
      "Epoch: 14:  70%|███████████████████████████████████████████████████▊                      | 14/20 [00:18<00:07,  1.30s/it, lowest_loss=5.29e-9, pred_loss=1.33e-8, trigger=1]"
     ]
    },
    {
     "name": "stdout",
     "output_type": "stream",
     "text": [
      "from block forward [(3, 1, 0, 1, 12, 12)]\n",
      "from block forward [(3, 1, 0, 1, 12, 12)]\n"
     ]
    },
    {
     "name": "stderr",
     "output_type": "stream",
     "text": [
      "Epoch: 15:  75%|██████████████████████████████████████████████████████                  | 15/20 [00:19<00:06,  1.33s/it, lowest_loss=7.91e-10, pred_loss=7.91e-10, trigger=0]"
     ]
    },
    {
     "name": "stdout",
     "output_type": "stream",
     "text": [
      "from block forward [(3, 1, 0, 1, 12, 12)]\n",
      "from block forward [(3, 1, 0, 1, 12, 12)]\n"
     ]
    },
    {
     "name": "stderr",
     "output_type": "stream",
     "text": [
      "Epoch: 16:  80%|███████████████████████████████████████████████████████████▏              | 16/20 [00:21<00:05,  1.38s/it, lowest_loss=7.91e-10, pred_loss=2.4e-9, trigger=1]"
     ]
    },
    {
     "name": "stdout",
     "output_type": "stream",
     "text": [
      "from block forward [(3, 1, 0, 1, 12, 12)]\n",
      "from block forward [(3, 1, 0, 1, 12, 12)]\n"
     ]
    },
    {
     "name": "stderr",
     "output_type": "stream",
     "text": [
      "Epoch: 17:  85%|█████████████████████████████████████████████████████████████▏          | 17/20 [00:22<00:04,  1.40s/it, lowest_loss=7.66e-10, pred_loss=7.66e-10, trigger=0]"
     ]
    },
    {
     "name": "stdout",
     "output_type": "stream",
     "text": [
      "from block forward [(3, 1, 0, 1, 12, 12)]\n",
      "from block forward [(3, 1, 0, 1, 12, 12)]\n"
     ]
    },
    {
     "name": "stderr",
     "output_type": "stream",
     "text": [
      "Epoch: 18:  90%|█████████████████████████████████████████████████████████████████▋       | 18/20 [00:24<00:02,  1.35s/it, lowest_loss=7.66e-10, pred_loss=1.43e-9, trigger=1]"
     ]
    },
    {
     "name": "stdout",
     "output_type": "stream",
     "text": [
      "from block forward [(3, 1, 0, 1, 12, 12)]\n",
      "from block forward [(3, 1, 0, 1, 12, 12)]\n"
     ]
    },
    {
     "name": "stderr",
     "output_type": "stream",
     "text": [
      "Epoch: 19:  95%|████████████████████████████████████████████████████████████████████▍   | 19/20 [00:25<00:01,  1.35s/it, lowest_loss=1.25e-10, pred_loss=1.25e-10, trigger=0]"
     ]
    },
    {
     "name": "stdout",
     "output_type": "stream",
     "text": [
      "from block forward [(3, 1, 0, 1, 12, 12)]\n",
      "from block forward [(3, 1, 0, 1, 12, 12)]\n"
     ]
    },
    {
     "name": "stderr",
     "output_type": "stream",
     "text": [
      "Epoch: 19: 100%|████████████████████████████████████████████████████████████████████████| 20/20 [00:26<00:00,  1.34s/it, lowest_loss=1.25e-10, pred_loss=1.25e-10, trigger=0]\n"
     ]
    },
    {
     "name": "stdout",
     "output_type": "stream",
     "text": [
      "Now training on Block 9 of 54\n"
     ]
    },
    {
     "name": "stderr",
     "output_type": "stream",
     "text": [
      "Epoch: 1:   0%|                                                                                  | 0/20 [00:00<?, ?it/s, lowest_loss=0.000303, pred_loss=0.000303, trigger=0]"
     ]
    },
    {
     "name": "stdout",
     "output_type": "stream",
     "text": [
      "from block forward [(3, 1, 0, 3, 1, 1)]\n",
      "from block forward [(3, 1, 0, 3, 1, 1)]\n",
      "from block forward [(3, 1, 0, 3, 1, 1)]\n",
      "from block forward [(3, 1, 0, 3, 1, 1)]\n"
     ]
    },
    {
     "name": "stderr",
     "output_type": "stream",
     "text": [
      "Epoch: 2:  10%|███████▌                                                                    | 2/20 [00:00<00:01, 10.65it/s, lowest_loss=1.77e-5, pred_loss=1.77e-5, trigger=0]"
     ]
    },
    {
     "name": "stdout",
     "output_type": "stream",
     "text": [
      "from block forward [(3, 1, 0, 3, 1, 1)]\n"
     ]
    },
    {
     "name": "stderr",
     "output_type": "stream",
     "text": [
      "Epoch: 5:  20%|███████████████▏                                                            | 4/20 [00:00<00:01, 12.36it/s, lowest_loss=2.51e-8, pred_loss=2.51e-8, trigger=0]"
     ]
    },
    {
     "name": "stdout",
     "output_type": "stream",
     "text": [
      "from block forward [(3, 1, 0, 3, 1, 1)]\n",
      "from block forward [(3, 1, 0, 3, 1, 1)]\n",
      "from block forward [(3, 1, 0, 3, 1, 1)]\n",
      "from block forward [(3, 1, 0, 3, 1, 1)]\n",
      "from block forward [(3, 1, 0, 3, 1, 1)]\n",
      "from block forward [(3, 1, 0, 3, 1, 1)]\n",
      "from block forward [(3, 1, 0, 3, 1, 1)]\n"
     ]
    },
    {
     "name": "stderr",
     "output_type": "stream",
     "text": [
      "Epoch: 8:  40%|█████████████████████████████▌                                            | 8/20 [00:00<00:00, 13.84it/s, lowest_loss=5.62e-10, pred_loss=5.62e-10, trigger=0]"
     ]
    },
    {
     "name": "stdout",
     "output_type": "stream",
     "text": [
      "from block forward [(3, 1, 0, 3, 1, 1)]\n",
      "from block forward [(3, 1, 0, 3, 1, 1)]\n",
      "from block forward [(3, 1, 0, 3, 1, 1)]\n",
      "from block forward [(3, 1, 0, 3, 1, 1)]\n",
      "from block forward [(3, 1, 0, 3, 1, 1)]\n"
     ]
    },
    {
     "name": "stderr",
     "output_type": "stream",
     "text": [
      "Epoch: 9:  40%|██████████████████████████████                                             | 8/20 [00:00<00:00, 13.84it/s, lowest_loss=5.62e-10, pred_loss=9.51e-9, trigger=1]"
     ]
    },
    {
     "name": "stdout",
     "output_type": "stream",
     "text": [
      "from block forward [(3, 1, 0, 3, 1, 1)]\n"
     ]
    },
    {
     "name": "stderr",
     "output_type": "stream",
     "text": [
      "Epoch: 11:  60%|███████████████████████████████████████████▊                             | 12/20 [00:00<00:00, 14.90it/s, lowest_loss=5.62e-10, pred_loss=3.02e-9, trigger=3]"
     ]
    },
    {
     "name": "stdout",
     "output_type": "stream",
     "text": [
      "from block forward [(3, 1, 0, 3, 1, 1)]\n",
      "from block forward [(3, 1, 0, 3, 1, 1)]\n",
      "from block forward [(3, 1, 0, 3, 1, 1)]\n",
      "from block forward [(3, 1, 0, 3, 1, 1)]\n",
      "from block forward [(3, 1, 0, 3, 1, 1)]\n",
      "from block forward [(3, 1, 0, 3, 1, 1)]\n"
     ]
    },
    {
     "name": "stderr",
     "output_type": "stream",
     "text": [
      "Epoch: 12:  60%|███████████████████████████████████████████▊                             | 12/20 [00:00<00:00, 14.90it/s, lowest_loss=5.62e-10, pred_loss=5.89e-9, trigger=4]"
     ]
    },
    {
     "name": "stdout",
     "output_type": "stream",
     "text": [
      "from block forward [(3, 1, 0, 3, 1, 1)]\n"
     ]
    },
    {
     "name": "stderr",
     "output_type": "stream",
     "text": [
      "Epoch: 15:  70%|███████████████████████████████████████████████████                      | 14/20 [00:01<00:00, 15.04it/s, lowest_loss=2.03e-10, pred_loss=2.48e-9, trigger=1]"
     ]
    },
    {
     "name": "stdout",
     "output_type": "stream",
     "text": [
      "from block forward [(3, 1, 0, 3, 1, 1)]\n",
      "from block forward [(3, 1, 0, 3, 1, 1)]\n",
      "from block forward [(3, 1, 0, 3, 1, 1)]\n",
      "from block forward [(3, 1, 0, 3, 1, 1)]\n",
      "from block forward [(3, 1, 0, 3, 1, 1)]\n",
      "from block forward [(3, 1, 0, 3, 1, 1)]\n"
     ]
    },
    {
     "name": "stderr",
     "output_type": "stream",
     "text": [
      "Epoch: 16:  80%|█████████████████████████████████████████████████████████▌              | 16/20 [00:01<00:00, 15.42it/s, lowest_loss=2.03e-10, pred_loss=6.82e-10, trigger=2]"
     ]
    },
    {
     "name": "stdout",
     "output_type": "stream",
     "text": [
      "from block forward [(3, 1, 0, 3, 1, 1)]\n"
     ]
    },
    {
     "name": "stderr",
     "output_type": "stream",
     "text": [
      "Epoch: 19:  90%|████████████████████████████████████████████████████████████████▊       | 18/20 [00:01<00:00, 15.71it/s, lowest_loss=5.06e-11, pred_loss=5.06e-11, trigger=0]"
     ]
    },
    {
     "name": "stdout",
     "output_type": "stream",
     "text": [
      "from block forward [(3, 1, 0, 3, 1, 1)]\n",
      "from block forward [(3, 1, 0, 3, 1, 1)]\n",
      "from block forward [(3, 1, 0, 3, 1, 1)]\n",
      "from block forward [(3, 1, 0, 3, 1, 1)]\n",
      "from block forward [(3, 1, 0, 3, 1, 1)]\n",
      "from block forward [(3, 1, 0, 3, 1, 1)]\n",
      "from block forward [(3, 1, 0, 3, 1, 1)]\n"
     ]
    },
    {
     "name": "stderr",
     "output_type": "stream",
     "text": [
      "Epoch: 19: 100%|████████████████████████████████████████████████████████████████████████| 20/20 [00:01<00:00, 14.85it/s, lowest_loss=5.06e-11, pred_loss=5.06e-11, trigger=0]\n"
     ]
    },
    {
     "name": "stdout",
     "output_type": "stream",
     "text": [
      "from block forward [(3, 1, 0, 3, 1, 1)]\n",
      "Now training on Block 10 of 54\n"
     ]
    },
    {
     "name": "stderr",
     "output_type": "stream",
     "text": [
      "Epoch: 2:  10%|███████▊                                                                      | 2/20 [00:00<00:01, 15.72it/s, lowest_loss=1.2e-5, pred_loss=1.2e-5, trigger=0]"
     ]
    },
    {
     "name": "stdout",
     "output_type": "stream",
     "text": [
      "from block forward [(3, 1, 0, 3, 1, 3)]\n",
      "from block forward [(3, 1, 0, 3, 1, 3)]\n",
      "from block forward [(3, 1, 0, 3, 1, 3)]\n",
      "from block forward [(3, 1, 0, 3, 1, 3)]\n",
      "from block forward [(3, 1, 0, 3, 1, 3)]\n",
      "from block forward [(3, 1, 0, 3, 1, 3)]\n"
     ]
    },
    {
     "name": "stderr",
     "output_type": "stream",
     "text": [
      "Epoch: 3:  10%|███████▌                                                                    | 2/20 [00:00<00:01, 15.72it/s, lowest_loss=2.77e-8, pred_loss=2.77e-8, trigger=0]"
     ]
    },
    {
     "name": "stdout",
     "output_type": "stream",
     "text": [
      "from block forward [(3, 1, 0, 3, 1, 3)]\n"
     ]
    },
    {
     "name": "stderr",
     "output_type": "stream",
     "text": [
      "Epoch: 6:  30%|██████████████████████▊                                                     | 6/20 [00:00<00:00, 15.88it/s, lowest_loss=8.37e-9, pred_loss=8.37e-9, trigger=0]"
     ]
    },
    {
     "name": "stdout",
     "output_type": "stream",
     "text": [
      "from block forward [(3, 1, 0, 3, 1, 3)]\n",
      "from block forward [(3, 1, 0, 3, 1, 3)]\n",
      "from block forward [(3, 1, 0, 3, 1, 3)]\n",
      "from block forward [(3, 1, 0, 3, 1, 3)]\n",
      "from block forward [(3, 1, 0, 3, 1, 3)]\n",
      "from block forward [(3, 1, 0, 3, 1, 3)]\n"
     ]
    },
    {
     "name": "stderr",
     "output_type": "stream",
     "text": [
      "Epoch: 10:  50%|█████████████████████████████████████                                     | 10/20 [00:00<00:00, 16.19it/s, lowest_loss=1.33e-9, pred_loss=1.33e-9, trigger=0]"
     ]
    },
    {
     "name": "stdout",
     "output_type": "stream",
     "text": [
      "from block forward [(3, 1, 0, 3, 1, 3)]\n",
      "from block forward [(3, 1, 0, 3, 1, 3)]\n",
      "from block forward [(3, 1, 0, 3, 1, 3)]\n",
      "from block forward [(3, 1, 0, 3, 1, 3)]\n",
      "from block forward [(3, 1, 0, 3, 1, 3)]\n",
      "from block forward [(3, 1, 0, 3, 1, 3)]\n",
      "from block forward [(3, 1, 0, 3, 1, 3)]\n",
      "from block forward [(3, 1, 0, 3, 1, 3)]\n"
     ]
    },
    {
     "name": "stderr",
     "output_type": "stream",
     "text": [
      "Epoch: 13:  60%|████████████████████████████████████████████▍                             | 12/20 [00:00<00:00, 16.04it/s, lowest_loss=1.33e-9, pred_loss=1.83e-9, trigger=3]"
     ]
    },
    {
     "name": "stdout",
     "output_type": "stream",
     "text": [
      "from block forward [(3, 1, 0, 3, 1, 3)]\n",
      "from block forward [(3, 1, 0, 3, 1, 3)]\n",
      "from block forward [(3, 1, 0, 3, 1, 3)]\n",
      "from block forward [(3, 1, 0, 3, 1, 3)]\n",
      "from block forward [(3, 1, 0, 3, 1, 3)]\n",
      "from block forward [(3, 1, 0, 3, 1, 3)]\n",
      "from block forward [(3, 1, 0, 3, 1, 3)]\n"
     ]
    },
    {
     "name": "stderr",
     "output_type": "stream",
     "text": [
      "Epoch: 17:  80%|█████████████████████████████████████████████████████████▌              | 16/20 [00:01<00:00, 15.17it/s, lowest_loss=3.52e-11, pred_loss=3.45e-10, trigger=1]"
     ]
    },
    {
     "name": "stdout",
     "output_type": "stream",
     "text": [
      "from block forward [(3, 1, 0, 3, 1, 3)]\n",
      "from block forward [(3, 1, 0, 3, 1, 3)]\n",
      "from block forward [(3, 1, 0, 3, 1, 3)]\n",
      "from block forward [(3, 1, 0, 3, 1, 3)]\n",
      "from block forward [(3, 1, 0, 3, 1, 3)]\n",
      "from block forward [(3, 1, 0, 3, 1, 3)]\n",
      "from block forward [(3, 1, 0, 3, 1, 3)]\n"
     ]
    },
    {
     "name": "stderr",
     "output_type": "stream",
     "text": [
      "Epoch: 19: 100%|████████████████████████████████████████████████████████████████████████| 20/20 [00:01<00:00, 15.69it/s, lowest_loss=3.52e-11, pred_loss=1.54e-10, trigger=3]\n"
     ]
    },
    {
     "name": "stdout",
     "output_type": "stream",
     "text": [
      "from block forward [(3, 1, 0, 3, 1, 3)]\n",
      "from block forward [(3, 1, 0, 3, 1, 3)]\n",
      "from block forward [(3, 1, 0, 3, 1, 3)]\n",
      "from block forward [(3, 1, 0, 3, 1, 3)]\n",
      "from block forward [(3, 1, 0, 3, 1, 3)]\n",
      "Now training on Block 11 of 54\n"
     ]
    },
    {
     "name": "stderr",
     "output_type": "stream",
     "text": [
      "Epoch: 0:   0%|                                                                                             | 0/20 [00:00<?, ?it/s, lowest_loss=9999, pred_loss=0, trigger=0]"
     ]
    },
    {
     "name": "stdout",
     "output_type": "stream",
     "text": [
      "from block forward [(3, 1, 0, 3, 1, 12)]\n"
     ]
    },
    {
     "name": "stderr",
     "output_type": "stream",
     "text": [
      "Epoch: 1:   5%|███▋                                                                      | 1/20 [00:00<00:07,  2.68it/s, lowest_loss=0.000283, pred_loss=0.000283, trigger=0]"
     ]
    },
    {
     "name": "stdout",
     "output_type": "stream",
     "text": [
      "from block forward [(3, 1, 0, 3, 1, 12)]\n",
      "from block forward [(3, 1, 0, 3, 1, 12)]\n"
     ]
    },
    {
     "name": "stderr",
     "output_type": "stream",
     "text": [
      "Epoch: 2:  10%|███████▌                                                                    | 2/20 [00:00<00:05,  3.15it/s, lowest_loss=8.82e-6, pred_loss=8.82e-6, trigger=0]"
     ]
    },
    {
     "name": "stdout",
     "output_type": "stream",
     "text": [
      "from block forward [(3, 1, 0, 3, 1, 12)]\n",
      "from block forward [(3, 1, 0, 3, 1, 12)]\n"
     ]
    },
    {
     "name": "stderr",
     "output_type": "stream",
     "text": [
      "Epoch: 3:  15%|███████████▍                                                                | 3/20 [00:00<00:04,  3.42it/s, lowest_loss=1.49e-8, pred_loss=1.49e-8, trigger=0]"
     ]
    },
    {
     "name": "stdout",
     "output_type": "stream",
     "text": [
      "from block forward [(3, 1, 0, 3, 1, 12)]\n",
      "from block forward [(3, 1, 0, 3, 1, 12)]\n"
     ]
    },
    {
     "name": "stderr",
     "output_type": "stream",
     "text": [
      "Epoch: 4:  20%|███████████████▏                                                            | 4/20 [00:01<00:04,  3.65it/s, lowest_loss=1.49e-8, pred_loss=2.89e-8, trigger=1]"
     ]
    },
    {
     "name": "stdout",
     "output_type": "stream",
     "text": [
      "from block forward [(3, 1, 0, 3, 1, 12)]\n",
      "from block forward [(3, 1, 0, 3, 1, 12)]\n"
     ]
    },
    {
     "name": "stderr",
     "output_type": "stream",
     "text": [
      "Epoch: 5:  25%|███████████████████                                                         | 5/20 [00:01<00:04,  3.64it/s, lowest_loss=1.49e-8, pred_loss=1.73e-8, trigger=2]"
     ]
    },
    {
     "name": "stdout",
     "output_type": "stream",
     "text": [
      "from block forward [(3, 1, 0, 3, 1, 12)]\n",
      "from block forward [(3, 1, 0, 3, 1, 12)]\n"
     ]
    },
    {
     "name": "stderr",
     "output_type": "stream",
     "text": [
      "Epoch: 6:  30%|██████████████████████▏                                                   | 6/20 [00:01<00:03,  3.77it/s, lowest_loss=8.33e-10, pred_loss=8.33e-10, trigger=0]"
     ]
    },
    {
     "name": "stdout",
     "output_type": "stream",
     "text": [
      "from block forward [(3, 1, 0, 3, 1, 12)]\n",
      "from block forward [(3, 1, 0, 3, 1, 12)]\n"
     ]
    },
    {
     "name": "stderr",
     "output_type": "stream",
     "text": [
      "Epoch: 7:  35%|██████████████████████████▎                                                | 7/20 [00:01<00:03,  3.89it/s, lowest_loss=8.33e-10, pred_loss=1.21e-8, trigger=1]"
     ]
    },
    {
     "name": "stdout",
     "output_type": "stream",
     "text": [
      "from block forward [(3, 1, 0, 3, 1, 12)]\n",
      "from block forward [(3, 1, 0, 3, 1, 12)]\n"
     ]
    },
    {
     "name": "stderr",
     "output_type": "stream",
     "text": [
      "Epoch: 8:  40%|██████████████████████████████                                             | 8/20 [00:02<00:03,  3.87it/s, lowest_loss=8.33e-10, pred_loss=1.06e-8, trigger=2]"
     ]
    },
    {
     "name": "stdout",
     "output_type": "stream",
     "text": [
      "from block forward [(3, 1, 0, 3, 1, 12)]\n",
      "from block forward [(3, 1, 0, 3, 1, 12)]\n"
     ]
    },
    {
     "name": "stderr",
     "output_type": "stream",
     "text": [
      "Epoch: 9:  45%|█████████████████████████████████▊                                         | 9/20 [00:02<00:02,  3.86it/s, lowest_loss=8.33e-10, pred_loss=2.19e-9, trigger=3]"
     ]
    },
    {
     "name": "stdout",
     "output_type": "stream",
     "text": [
      "from block forward [(3, 1, 0, 3, 1, 12)]\n",
      "from block forward [(3, 1, 0, 3, 1, 12)]\n"
     ]
    },
    {
     "name": "stderr",
     "output_type": "stream",
     "text": [
      "Epoch: 10:  50%|████████████████████████████████████▌                                    | 10/20 [00:02<00:02,  3.67it/s, lowest_loss=8.33e-10, pred_loss=3.22e-9, trigger=4]"
     ]
    },
    {
     "name": "stdout",
     "output_type": "stream",
     "text": [
      "from block forward [(3, 1, 0, 3, 1, 12)]\n",
      "from block forward [(3, 1, 0, 3, 1, 12)]\n"
     ]
    },
    {
     "name": "stderr",
     "output_type": "stream",
     "text": [
      "Epoch: 11:  55%|███████████████████████████████████████▌                                | 11/20 [00:02<00:02,  3.81it/s, lowest_loss=4.95e-10, pred_loss=4.95e-10, trigger=0]"
     ]
    },
    {
     "name": "stdout",
     "output_type": "stream",
     "text": [
      "from block forward [(3, 1, 0, 3, 1, 12)]\n",
      "from block forward [(3, 1, 0, 3, 1, 12)]\n"
     ]
    },
    {
     "name": "stderr",
     "output_type": "stream",
     "text": [
      "Epoch: 12:  60%|███████████████████████████████████████████▊                             | 12/20 [00:03<00:02,  3.80it/s, lowest_loss=4.95e-10, pred_loss=2.16e-9, trigger=1]"
     ]
    },
    {
     "name": "stdout",
     "output_type": "stream",
     "text": [
      "from block forward [(3, 1, 0, 3, 1, 12)]\n",
      "from block forward [(3, 1, 0, 3, 1, 12)]\n"
     ]
    },
    {
     "name": "stderr",
     "output_type": "stream",
     "text": [
      "Epoch: 13:  65%|██████████████████████████████████████████████▊                         | 13/20 [00:03<00:01,  3.67it/s, lowest_loss=1.59e-11, pred_loss=1.59e-11, trigger=0]"
     ]
    },
    {
     "name": "stdout",
     "output_type": "stream",
     "text": [
      "from block forward [(3, 1, 0, 3, 1, 12)]\n",
      "from block forward [(3, 1, 0, 3, 1, 12)]\n"
     ]
    },
    {
     "name": "stderr",
     "output_type": "stream",
     "text": [
      "Epoch: 14:  70%|███████████████████████████████████████████████████                      | 14/20 [00:03<00:01,  3.86it/s, lowest_loss=1.59e-11, pred_loss=1.25e-9, trigger=1]"
     ]
    },
    {
     "name": "stdout",
     "output_type": "stream",
     "text": [
      "from block forward [(3, 1, 0, 3, 1, 12)]\n",
      "from block forward [(3, 1, 0, 3, 1, 12)]\n"
     ]
    },
    {
     "name": "stderr",
     "output_type": "stream",
     "text": [
      "Epoch: 15:  75%|██████████████████████████████████████████████████████                  | 15/20 [00:04<00:01,  3.93it/s, lowest_loss=1.59e-11, pred_loss=8.27e-10, trigger=2]"
     ]
    },
    {
     "name": "stdout",
     "output_type": "stream",
     "text": [
      "from block forward [(3, 1, 0, 3, 1, 12)]\n",
      "from block forward [(3, 1, 0, 3, 1, 12)]\n"
     ]
    },
    {
     "name": "stderr",
     "output_type": "stream",
     "text": [
      "Epoch: 16:  80%|█████████████████████████████████████████████████████████▌              | 16/20 [00:04<00:01,  3.89it/s, lowest_loss=1.59e-11, pred_loss=8.76e-10, trigger=3]"
     ]
    },
    {
     "name": "stdout",
     "output_type": "stream",
     "text": [
      "from block forward [(3, 1, 0, 3, 1, 12)]\n",
      "from block forward [(3, 1, 0, 3, 1, 12)]\n"
     ]
    },
    {
     "name": "stderr",
     "output_type": "stream",
     "text": [
      "Epoch: 17:  85%|█████████████████████████████████████████████████████████████▏          | 17/20 [00:04<00:00,  3.81it/s, lowest_loss=1.59e-11, pred_loss=1.89e-10, trigger=4]"
     ]
    },
    {
     "name": "stdout",
     "output_type": "stream",
     "text": [
      "from block forward [(3, 1, 0, 3, 1, 12)]\n",
      "from block forward [(3, 1, 0, 3, 1, 12)]\n"
     ]
    },
    {
     "name": "stderr",
     "output_type": "stream",
     "text": [
      "Epoch: 18:  90%|████████████████████████████████████████████████████████████████▊       | 18/20 [00:04<00:00,  3.87it/s, lowest_loss=1.59e-11, pred_loss=7.89e-10, trigger=5]"
     ]
    },
    {
     "name": "stdout",
     "output_type": "stream",
     "text": [
      "from block forward [(3, 1, 0, 3, 1, 12)]\n",
      "from block forward [(3, 1, 0, 3, 1, 12)]\n"
     ]
    },
    {
     "name": "stderr",
     "output_type": "stream",
     "text": [
      "Epoch: 19:  95%|████████████████████████████████████████████████████████████████████▍   | 19/20 [00:05<00:00,  3.95it/s, lowest_loss=1.59e-11, pred_loss=2.12e-10, trigger=6]"
     ]
    },
    {
     "name": "stdout",
     "output_type": "stream",
     "text": [
      "from block forward [(3, 1, 0, 3, 1, 12)]\n",
      "from block forward [(3, 1, 0, 3, 1, 12)]\n"
     ]
    },
    {
     "name": "stderr",
     "output_type": "stream",
     "text": [
      "Epoch: 19: 100%|████████████████████████████████████████████████████████████████████████| 20/20 [00:05<00:00,  3.77it/s, lowest_loss=1.59e-11, pred_loss=2.12e-10, trigger=6]\n"
     ]
    },
    {
     "name": "stdout",
     "output_type": "stream",
     "text": [
      "from block forward [(3, 1, 0, 3, 1, 12)]\n",
      "Now training on Block 12 of 54\n"
     ]
    },
    {
     "name": "stderr",
     "output_type": "stream",
     "text": [
      "Epoch: 1:   0%|                                                                                  | 0/20 [00:00<?, ?it/s, lowest_loss=0.000306, pred_loss=0.000306, trigger=0]"
     ]
    },
    {
     "name": "stdout",
     "output_type": "stream",
     "text": [
      "from block forward [(3, 1, 0, 3, 3, 1)]\n",
      "from block forward [(3, 1, 0, 3, 3, 1)]\n",
      "from block forward [(3, 1, 0, 3, 3, 1)]\n"
     ]
    },
    {
     "name": "stderr",
     "output_type": "stream",
     "text": [
      "Epoch: 2:  10%|███████▌                                                                    | 2/20 [00:00<00:01, 12.47it/s, lowest_loss=9.85e-6, pred_loss=9.85e-6, trigger=0]"
     ]
    },
    {
     "name": "stdout",
     "output_type": "stream",
     "text": [
      "from block forward [(3, 1, 0, 3, 3, 1)]\n",
      "from block forward [(3, 1, 0, 3, 3, 1)]\n",
      "from block forward [(3, 1, 0, 3, 3, 1)]\n"
     ]
    },
    {
     "name": "stderr",
     "output_type": "stream",
     "text": [
      "Epoch: 4:  20%|███████████████▏                                                            | 4/20 [00:00<00:01, 13.21it/s, lowest_loss=4.48e-8, pred_loss=4.48e-8, trigger=0]"
     ]
    },
    {
     "name": "stdout",
     "output_type": "stream",
     "text": [
      "from block forward [(3, 1, 0, 3, 3, 1)]\n",
      "from block forward [(3, 1, 0, 3, 3, 1)]\n",
      "from block forward [(3, 1, 0, 3, 3, 1)]\n"
     ]
    },
    {
     "name": "stderr",
     "output_type": "stream",
     "text": [
      "Epoch: 6:  30%|██████████████████████▊                                                     | 6/20 [00:00<00:01, 13.96it/s, lowest_loss=1.17e-8, pred_loss=1.17e-8, trigger=0]"
     ]
    },
    {
     "name": "stdout",
     "output_type": "stream",
     "text": [
      "from block forward [(3, 1, 0, 3, 3, 1)]\n",
      "from block forward [(3, 1, 0, 3, 3, 1)]\n",
      "from block forward [(3, 1, 0, 3, 3, 1)]\n"
     ]
    },
    {
     "name": "stderr",
     "output_type": "stream",
     "text": [
      "Epoch: 7:  30%|██████████████████████▊                                                     | 6/20 [00:00<00:01, 13.96it/s, lowest_loss=1.17e-8, pred_loss=1.62e-8, trigger=1]"
     ]
    },
    {
     "name": "stdout",
     "output_type": "stream",
     "text": [
      "from block forward [(3, 1, 0, 3, 3, 1)]\n",
      "from block forward [(3, 1, 0, 3, 3, 1)]\n",
      "from block forward [(3, 1, 0, 3, 3, 1)]\n",
      "from block forward [(3, 1, 0, 3, 3, 1)]\n"
     ]
    },
    {
     "name": "stderr",
     "output_type": "stream",
     "text": [
      "Epoch: 9:  40%|██████████████████████████████▍                                             | 8/20 [00:00<00:00, 14.55it/s, lowest_loss=8.89e-9, pred_loss=1.33e-8, trigger=1]"
     ]
    },
    {
     "name": "stdout",
     "output_type": "stream",
     "text": [
      "from block forward [(3, 1, 0, 3, 3, 1)]\n",
      "from block forward [(3, 1, 0, 3, 3, 1)]\n"
     ]
    },
    {
     "name": "stderr",
     "output_type": "stream",
     "text": [
      "Epoch: 11:  50%|█████████████████████████████████████                                     | 10/20 [00:00<00:00, 14.27it/s, lowest_loss=5.26e-10, pred_loss=6.6e-9, trigger=1]"
     ]
    },
    {
     "name": "stdout",
     "output_type": "stream",
     "text": [
      "from block forward [(3, 1, 0, 3, 3, 1)]\n",
      "from block forward [(3, 1, 0, 3, 3, 1)]\n",
      "from block forward [(3, 1, 0, 3, 3, 1)]\n",
      "from block forward [(3, 1, 0, 3, 3, 1)]\n",
      "from block forward [(3, 1, 0, 3, 3, 1)]\n"
     ]
    },
    {
     "name": "stderr",
     "output_type": "stream",
     "text": [
      "Epoch: 12:  60%|███████████████████████████████████████████▏                            | 12/20 [00:00<00:00, 14.39it/s, lowest_loss=5.26e-10, pred_loss=6.21e-10, trigger=2]"
     ]
    },
    {
     "name": "stdout",
     "output_type": "stream",
     "text": [
      "from block forward [(3, 1, 0, 3, 3, 1)]\n"
     ]
    },
    {
     "name": "stderr",
     "output_type": "stream",
     "text": [
      "Epoch: 14:  70%|███████████████████████████████████████████████████                      | 14/20 [00:00<00:00, 14.70it/s, lowest_loss=5.26e-10, pred_loss=2.33e-9, trigger=4]"
     ]
    },
    {
     "name": "stdout",
     "output_type": "stream",
     "text": [
      "from block forward [(3, 1, 0, 3, 3, 1)]\n",
      "from block forward [(3, 1, 0, 3, 3, 1)]\n",
      "from block forward [(3, 1, 0, 3, 3, 1)]\n",
      "from block forward [(3, 1, 0, 3, 3, 1)]\n",
      "from block forward [(3, 1, 0, 3, 3, 1)]\n",
      "from block forward [(3, 1, 0, 3, 3, 1)]\n"
     ]
    },
    {
     "name": "stderr",
     "output_type": "stream",
     "text": [
      "Epoch: 15:  70%|██████████████████████████████████████████████████▍                     | 14/20 [00:01<00:00, 14.70it/s, lowest_loss=5.26e-10, pred_loss=6.61e-10, trigger=5]"
     ]
    },
    {
     "name": "stdout",
     "output_type": "stream",
     "text": [
      "from block forward [(3, 1, 0, 3, 3, 1)]\n"
     ]
    },
    {
     "name": "stderr",
     "output_type": "stream",
     "text": [
      "Epoch: 18:  90%|████████████████████████████████████████████████████████████████▊       | 18/20 [00:01<00:00, 14.70it/s, lowest_loss=2.85e-11, pred_loss=2.85e-11, trigger=0]"
     ]
    },
    {
     "name": "stdout",
     "output_type": "stream",
     "text": [
      "from block forward [(3, 1, 0, 3, 3, 1)]\n",
      "from block forward [(3, 1, 0, 3, 3, 1)]\n",
      "from block forward [(3, 1, 0, 3, 3, 1)]\n",
      "from block forward [(3, 1, 0, 3, 3, 1)]\n",
      "from block forward [(3, 1, 0, 3, 3, 1)]\n",
      "from block forward [(3, 1, 0, 3, 3, 1)]\n"
     ]
    },
    {
     "name": "stderr",
     "output_type": "stream",
     "text": [
      "Epoch: 19: 100%|████████████████████████████████████████████████████████████████████████| 20/20 [00:01<00:00, 14.43it/s, lowest_loss=2.85e-11, pred_loss=8.09e-11, trigger=1]\n"
     ]
    },
    {
     "name": "stdout",
     "output_type": "stream",
     "text": [
      "from block forward [(3, 1, 0, 3, 3, 1)]\n",
      "from block forward [(3, 1, 0, 3, 3, 1)]\n",
      "from block forward [(3, 1, 0, 3, 3, 1)]\n",
      "Now training on Block 13 of 54\n"
     ]
    },
    {
     "name": "stderr",
     "output_type": "stream",
     "text": [
      "Epoch: 0:   0%|                                                                                             | 0/20 [00:00<?, ?it/s, lowest_loss=9999, pred_loss=0, trigger=0]"
     ]
    },
    {
     "name": "stdout",
     "output_type": "stream",
     "text": [
      "from block forward [(3, 1, 0, 3, 3, 3)]\n",
      "from block forward [(3, 1, 0, 3, 3, 3)]\n"
     ]
    },
    {
     "name": "stderr",
     "output_type": "stream",
     "text": [
      "Epoch: 1:   5%|███▊                                                                        | 1/20 [00:00<00:02,  7.12it/s, lowest_loss=0.00036, pred_loss=0.00036, trigger=0]"
     ]
    },
    {
     "name": "stdout",
     "output_type": "stream",
     "text": [
      "from block forward [(3, 1, 0, 3, 3, 3)]\n"
     ]
    },
    {
     "name": "stderr",
     "output_type": "stream",
     "text": [
      "Epoch: 2:  10%|███████▌                                                                    | 2/20 [00:00<00:02,  7.90it/s, lowest_loss=2.47e-5, pred_loss=2.47e-5, trigger=0]"
     ]
    },
    {
     "name": "stdout",
     "output_type": "stream",
     "text": [
      "from block forward [(3, 1, 0, 3, 3, 3)]\n",
      "from block forward [(3, 1, 0, 3, 3, 3)]\n",
      "from block forward [(3, 1, 0, 3, 3, 3)]\n"
     ]
    },
    {
     "name": "stderr",
     "output_type": "stream",
     "text": [
      "Epoch: 3:  15%|███████████▋                                                                  | 3/20 [00:00<00:02,  8.15it/s, lowest_loss=4.3e-7, pred_loss=4.3e-7, trigger=0]"
     ]
    },
    {
     "name": "stdout",
     "output_type": "stream",
     "text": [
      "from block forward [(3, 1, 0, 3, 3, 3)]\n"
     ]
    },
    {
     "name": "stderr",
     "output_type": "stream",
     "text": [
      "Epoch: 4:  20%|███████████████▏                                                            | 4/20 [00:00<00:01,  8.29it/s, lowest_loss=1.69e-8, pred_loss=1.69e-8, trigger=0]"
     ]
    },
    {
     "name": "stdout",
     "output_type": "stream",
     "text": [
      "from block forward [(3, 1, 0, 3, 3, 3)]\n",
      "from block forward [(3, 1, 0, 3, 3, 3)]\n",
      "from block forward [(3, 1, 0, 3, 3, 3)]\n"
     ]
    },
    {
     "name": "stderr",
     "output_type": "stream",
     "text": [
      "Epoch: 5:  25%|███████████████████                                                         | 5/20 [00:00<00:01,  8.23it/s, lowest_loss=9.82e-9, pred_loss=9.82e-9, trigger=0]"
     ]
    },
    {
     "name": "stdout",
     "output_type": "stream",
     "text": [
      "from block forward [(3, 1, 0, 3, 3, 3)]\n"
     ]
    },
    {
     "name": "stderr",
     "output_type": "stream",
     "text": [
      "Epoch: 6:  30%|██████████████████████▊                                                     | 6/20 [00:00<00:01,  8.24it/s, lowest_loss=6.81e-9, pred_loss=6.81e-9, trigger=0]"
     ]
    },
    {
     "name": "stdout",
     "output_type": "stream",
     "text": [
      "from block forward [(3, 1, 0, 3, 3, 3)]\n",
      "from block forward [(3, 1, 0, 3, 3, 3)]\n",
      "from block forward [(3, 1, 0, 3, 3, 3)]\n"
     ]
    },
    {
     "name": "stderr",
     "output_type": "stream",
     "text": [
      "Epoch: 7:  35%|██████████████████████████▌                                                 | 7/20 [00:00<00:01,  8.17it/s, lowest_loss=1.49e-9, pred_loss=1.49e-9, trigger=0]"
     ]
    },
    {
     "name": "stdout",
     "output_type": "stream",
     "text": [
      "from block forward [(3, 1, 0, 3, 3, 3)]\n"
     ]
    },
    {
     "name": "stderr",
     "output_type": "stream",
     "text": [
      "Epoch: 8:  40%|██████████████████████████████▍                                             | 8/20 [00:00<00:01,  8.41it/s, lowest_loss=1.49e-9, pred_loss=1.83e-9, trigger=1]"
     ]
    },
    {
     "name": "stdout",
     "output_type": "stream",
     "text": [
      "from block forward [(3, 1, 0, 3, 3, 3)]\n",
      "from block forward [(3, 1, 0, 3, 3, 3)]\n",
      "from block forward [(3, 1, 0, 3, 3, 3)]\n"
     ]
    },
    {
     "name": "stderr",
     "output_type": "stream",
     "text": [
      "Epoch: 9:  45%|██████████████████████████████████▏                                         | 9/20 [00:01<00:01,  8.37it/s, lowest_loss=1.49e-9, pred_loss=2.07e-9, trigger=2]"
     ]
    },
    {
     "name": "stdout",
     "output_type": "stream",
     "text": [
      "from block forward [(3, 1, 0, 3, 3, 3)]\n"
     ]
    },
    {
     "name": "stderr",
     "output_type": "stream",
     "text": [
      "Epoch: 10:  50%|█████████████████████████████████████                                     | 10/20 [00:01<00:01,  8.42it/s, lowest_loss=1.49e-9, pred_loss=1.91e-9, trigger=3]"
     ]
    },
    {
     "name": "stdout",
     "output_type": "stream",
     "text": [
      "from block forward [(3, 1, 0, 3, 3, 3)]\n",
      "from block forward [(3, 1, 0, 3, 3, 3)]\n",
      "from block forward [(3, 1, 0, 3, 3, 3)]\n"
     ]
    },
    {
     "name": "stderr",
     "output_type": "stream",
     "text": [
      "Epoch: 11:  55%|████████████████████████████████████████▋                                 | 11/20 [00:01<00:01,  8.52it/s, lowest_loss=1.49e-9, pred_loss=1.65e-9, trigger=4]"
     ]
    },
    {
     "name": "stdout",
     "output_type": "stream",
     "text": [
      "from block forward [(3, 1, 0, 3, 3, 3)]\n"
     ]
    },
    {
     "name": "stderr",
     "output_type": "stream",
     "text": [
      "Epoch: 12:  60%|████████████████████████████████████████████▍                             | 12/20 [00:01<00:00,  8.76it/s, lowest_loss=1.49e-9, pred_loss=1.85e-9, trigger=5]"
     ]
    },
    {
     "name": "stdout",
     "output_type": "stream",
     "text": [
      "from block forward [(3, 1, 0, 3, 3, 3)]\n",
      "from block forward [(3, 1, 0, 3, 3, 3)]\n"
     ]
    },
    {
     "name": "stderr",
     "output_type": "stream",
     "text": [
      "Epoch: 13:  65%|██████████████████████████████████████████████▊                         | 13/20 [00:01<00:00,  8.81it/s, lowest_loss=5.65e-10, pred_loss=5.65e-10, trigger=0]"
     ]
    },
    {
     "name": "stdout",
     "output_type": "stream",
     "text": [
      "from block forward [(3, 1, 0, 3, 3, 3)]\n",
      "from block forward [(3, 1, 0, 3, 3, 3)]\n"
     ]
    },
    {
     "name": "stderr",
     "output_type": "stream",
     "text": [
      "Epoch: 14:  70%|██████████████████████████████████████████████████▍                     | 14/20 [00:01<00:00,  8.71it/s, lowest_loss=4.41e-10, pred_loss=4.41e-10, trigger=0]"
     ]
    },
    {
     "name": "stdout",
     "output_type": "stream",
     "text": [
      "from block forward [(3, 1, 0, 3, 3, 3)]\n",
      "from block forward [(3, 1, 0, 3, 3, 3)]\n",
      "from block forward [(3, 1, 0, 3, 3, 3)]\n"
     ]
    },
    {
     "name": "stderr",
     "output_type": "stream",
     "text": [
      "Epoch: 15:  75%|██████████████████████████████████████████████████████                  | 15/20 [00:01<00:00,  8.48it/s, lowest_loss=4.41e-10, pred_loss=4.69e-10, trigger=1]"
     ]
    },
    {
     "name": "stdout",
     "output_type": "stream",
     "text": [
      "from block forward [(3, 1, 0, 3, 3, 3)]\n"
     ]
    },
    {
     "name": "stderr",
     "output_type": "stream",
     "text": [
      "Epoch: 16:  80%|██████████████████████████████████████████████████████████▍              | 16/20 [00:01<00:00,  8.10it/s, lowest_loss=4.41e-10, pred_loss=1.12e-9, trigger=2]"
     ]
    },
    {
     "name": "stdout",
     "output_type": "stream",
     "text": [
      "from block forward [(3, 1, 0, 3, 3, 3)]\n",
      "from block forward [(3, 1, 0, 3, 3, 3)]\n",
      "from block forward [(3, 1, 0, 3, 3, 3)]\n"
     ]
    },
    {
     "name": "stderr",
     "output_type": "stream",
     "text": [
      "Epoch: 17:  85%|█████████████████████████████████████████████████████████████▏          | 17/20 [00:02<00:00,  8.30it/s, lowest_loss=2.24e-11, pred_loss=2.24e-11, trigger=0]"
     ]
    },
    {
     "name": "stdout",
     "output_type": "stream",
     "text": [
      "from block forward [(3, 1, 0, 3, 3, 3)]\n"
     ]
    },
    {
     "name": "stderr",
     "output_type": "stream",
     "text": [
      "Epoch: 18:  90%|████████████████████████████████████████████████████████████████▊       | 18/20 [00:02<00:00,  8.47it/s, lowest_loss=2.24e-11, pred_loss=7.88e-11, trigger=1]"
     ]
    },
    {
     "name": "stdout",
     "output_type": "stream",
     "text": [
      "from block forward [(3, 1, 0, 3, 3, 3)]\n",
      "from block forward [(3, 1, 0, 3, 3, 3)]\n"
     ]
    },
    {
     "name": "stderr",
     "output_type": "stream",
     "text": [
      "Epoch: 19:  95%|████████████████████████████████████████████████████████████████████▍   | 19/20 [00:02<00:00,  8.77it/s, lowest_loss=2.24e-11, pred_loss=1.13e-10, trigger=2]"
     ]
    },
    {
     "name": "stdout",
     "output_type": "stream",
     "text": [
      "from block forward [(3, 1, 0, 3, 3, 3)]\n",
      "from block forward [(3, 1, 0, 3, 3, 3)]\n"
     ]
    },
    {
     "name": "stderr",
     "output_type": "stream",
     "text": [
      "Epoch: 19: 100%|████████████████████████████████████████████████████████████████████████| 20/20 [00:02<00:00,  8.43it/s, lowest_loss=2.24e-11, pred_loss=1.13e-10, trigger=2]\n"
     ]
    },
    {
     "name": "stdout",
     "output_type": "stream",
     "text": [
      "from block forward [(3, 1, 0, 3, 3, 3)]\n",
      "Now training on Block 14 of 54\n"
     ]
    },
    {
     "name": "stderr",
     "output_type": "stream",
     "text": [
      "Epoch: 0:   0%|                                                                                             | 0/20 [00:00<?, ?it/s, lowest_loss=9999, pred_loss=0, trigger=0]"
     ]
    },
    {
     "name": "stdout",
     "output_type": "stream",
     "text": [
      "from block forward [(3, 1, 0, 3, 3, 12)]\n"
     ]
    },
    {
     "name": "stderr",
     "output_type": "stream",
     "text": [
      "Epoch: 1:   5%|███▋                                                                      | 1/20 [00:00<00:12,  1.54it/s, lowest_loss=0.000233, pred_loss=0.000233, trigger=0]"
     ]
    },
    {
     "name": "stdout",
     "output_type": "stream",
     "text": [
      "from block forward [(3, 1, 0, 3, 3, 12)]\n",
      "from block forward [(3, 1, 0, 3, 3, 12)]\n"
     ]
    },
    {
     "name": "stderr",
     "output_type": "stream",
     "text": [
      "Epoch: 2:  10%|███████▌                                                                    | 2/20 [00:01<00:10,  1.71it/s, lowest_loss=5.52e-6, pred_loss=5.52e-6, trigger=0]"
     ]
    },
    {
     "name": "stdout",
     "output_type": "stream",
     "text": [
      "from block forward [(3, 1, 0, 3, 3, 12)]\n",
      "from block forward [(3, 1, 0, 3, 3, 12)]\n"
     ]
    },
    {
     "name": "stderr",
     "output_type": "stream",
     "text": [
      "Epoch: 3:  15%|███████████▍                                                                | 3/20 [00:01<00:09,  1.78it/s, lowest_loss=3.78e-8, pred_loss=3.78e-8, trigger=0]"
     ]
    },
    {
     "name": "stdout",
     "output_type": "stream",
     "text": [
      "from block forward [(3, 1, 0, 3, 3, 12)]\n",
      "from block forward [(3, 1, 0, 3, 3, 12)]\n"
     ]
    },
    {
     "name": "stderr",
     "output_type": "stream",
     "text": [
      "Epoch: 4:  20%|███████████████▏                                                            | 4/20 [00:02<00:09,  1.74it/s, lowest_loss=3.37e-8, pred_loss=3.37e-8, trigger=0]"
     ]
    },
    {
     "name": "stdout",
     "output_type": "stream",
     "text": [
      "from block forward [(3, 1, 0, 3, 3, 12)]\n",
      "from block forward [(3, 1, 0, 3, 3, 12)]\n"
     ]
    },
    {
     "name": "stderr",
     "output_type": "stream",
     "text": [
      "Epoch: 5:  25%|███████████████████                                                         | 5/20 [00:02<00:09,  1.64it/s, lowest_loss=2.32e-8, pred_loss=2.32e-8, trigger=0]"
     ]
    },
    {
     "name": "stdout",
     "output_type": "stream",
     "text": [
      "from block forward [(3, 1, 0, 3, 3, 12)]\n",
      "from block forward [(3, 1, 0, 3, 3, 12)]\n"
     ]
    },
    {
     "name": "stderr",
     "output_type": "stream",
     "text": [
      "Epoch: 6:  30%|██████████████████████▊                                                     | 6/20 [00:03<00:08,  1.56it/s, lowest_loss=2.32e-8, pred_loss=5.36e-8, trigger=1]"
     ]
    },
    {
     "name": "stdout",
     "output_type": "stream",
     "text": [
      "from block forward [(3, 1, 0, 3, 3, 12)]\n",
      "from block forward [(3, 1, 0, 3, 3, 12)]\n"
     ]
    },
    {
     "name": "stderr",
     "output_type": "stream",
     "text": [
      "Epoch: 7:  35%|██████████████████████████▌                                                 | 7/20 [00:04<00:08,  1.51it/s, lowest_loss=1.19e-8, pred_loss=1.19e-8, trigger=0]"
     ]
    },
    {
     "name": "stdout",
     "output_type": "stream",
     "text": [
      "from block forward [(3, 1, 0, 3, 3, 12)]\n",
      "from block forward [(3, 1, 0, 3, 3, 12)]\n"
     ]
    },
    {
     "name": "stderr",
     "output_type": "stream",
     "text": [
      "Epoch: 8:  40%|███████████████████████████████▏                                              | 8/20 [00:04<00:07,  1.61it/s, lowest_loss=4.9e-9, pred_loss=4.9e-9, trigger=0]"
     ]
    },
    {
     "name": "stdout",
     "output_type": "stream",
     "text": [
      "from block forward [(3, 1, 0, 3, 3, 12)]\n",
      "from block forward [(3, 1, 0, 3, 3, 12)]\n"
     ]
    },
    {
     "name": "stderr",
     "output_type": "stream",
     "text": [
      "Epoch: 9:  45%|██████████████████████████████████▋                                          | 9/20 [00:05<00:06,  1.68it/s, lowest_loss=4.9e-9, pred_loss=1.08e-8, trigger=1]"
     ]
    },
    {
     "name": "stdout",
     "output_type": "stream",
     "text": [
      "from block forward [(3, 1, 0, 3, 3, 12)]\n",
      "from block forward [(3, 1, 0, 3, 3, 12)]\n"
     ]
    },
    {
     "name": "stderr",
     "output_type": "stream",
     "text": [
      "Epoch: 10:  50%|█████████████████████████████████████                                     | 10/20 [00:05<00:05,  1.75it/s, lowest_loss=1.82e-9, pred_loss=1.82e-9, trigger=0]"
     ]
    },
    {
     "name": "stdout",
     "output_type": "stream",
     "text": [
      "from block forward [(3, 1, 0, 3, 3, 12)]\n",
      "from block forward [(3, 1, 0, 3, 3, 12)]\n"
     ]
    },
    {
     "name": "stderr",
     "output_type": "stream",
     "text": [
      "Epoch: 11:  55%|████████████████████████████████████████▋                                 | 11/20 [00:06<00:05,  1.78it/s, lowest_loss=1.82e-9, pred_loss=3.25e-9, trigger=1]"
     ]
    },
    {
     "name": "stdout",
     "output_type": "stream",
     "text": [
      "from block forward [(3, 1, 0, 3, 3, 12)]\n",
      "from block forward [(3, 1, 0, 3, 3, 12)]\n"
     ]
    },
    {
     "name": "stderr",
     "output_type": "stream",
     "text": [
      "Epoch: 12:  60%|████████████████████████████████████████████▍                             | 12/20 [00:07<00:04,  1.80it/s, lowest_loss=1.77e-9, pred_loss=1.77e-9, trigger=0]"
     ]
    },
    {
     "name": "stdout",
     "output_type": "stream",
     "text": [
      "from block forward [(3, 1, 0, 3, 3, 12)]\n",
      "from block forward [(3, 1, 0, 3, 3, 12)]\n"
     ]
    },
    {
     "name": "stderr",
     "output_type": "stream",
     "text": [
      "Epoch: 13:  65%|██████████████████████████████████████████████▊                         | 13/20 [00:07<00:03,  1.79it/s, lowest_loss=5.38e-10, pred_loss=5.38e-10, trigger=0]"
     ]
    },
    {
     "name": "stdout",
     "output_type": "stream",
     "text": [
      "from block forward [(3, 1, 0, 3, 3, 12)]\n",
      "from block forward [(3, 1, 0, 3, 3, 12)]\n"
     ]
    },
    {
     "name": "stderr",
     "output_type": "stream",
     "text": [
      "Epoch: 14:  70%|███████████████████████████████████████████████████                      | 14/20 [00:08<00:03,  1.80it/s, lowest_loss=5.38e-10, pred_loss=3.04e-9, trigger=1]"
     ]
    },
    {
     "name": "stdout",
     "output_type": "stream",
     "text": [
      "from block forward [(3, 1, 0, 3, 3, 12)]\n",
      "from block forward [(3, 1, 0, 3, 3, 12)]\n"
     ]
    },
    {
     "name": "stderr",
     "output_type": "stream",
     "text": [
      "Epoch: 15:  75%|██████████████████████████████████████████████████████                  | 15/20 [00:08<00:02,  1.84it/s, lowest_loss=5.38e-10, pred_loss=5.98e-10, trigger=2]"
     ]
    },
    {
     "name": "stdout",
     "output_type": "stream",
     "text": [
      "from block forward [(3, 1, 0, 3, 3, 12)]\n",
      "from block forward [(3, 1, 0, 3, 3, 12)]\n"
     ]
    },
    {
     "name": "stderr",
     "output_type": "stream",
     "text": [
      "Epoch: 16:  80%|██████████████████████████████████████████████████████████▍              | 16/20 [00:09<00:02,  1.84it/s, lowest_loss=5.38e-10, pred_loss=5.11e-9, trigger=3]"
     ]
    },
    {
     "name": "stdout",
     "output_type": "stream",
     "text": [
      "from block forward [(3, 1, 0, 3, 3, 12)]\n",
      "from block forward [(3, 1, 0, 3, 3, 12)]\n"
     ]
    },
    {
     "name": "stderr",
     "output_type": "stream",
     "text": [
      "Epoch: 17:  85%|█████████████████████████████████████████████████████████████▏          | 17/20 [00:09<00:01,  1.87it/s, lowest_loss=5.38e-10, pred_loss=7.35e-10, trigger=4]"
     ]
    },
    {
     "name": "stdout",
     "output_type": "stream",
     "text": [
      "from block forward [(3, 1, 0, 3, 3, 12)]\n",
      "from block forward [(3, 1, 0, 3, 3, 12)]\n"
     ]
    },
    {
     "name": "stderr",
     "output_type": "stream",
     "text": [
      "Epoch: 18:  90%|████████████████████████████████████████████████████████████████▊       | 18/20 [00:10<00:01,  1.84it/s, lowest_loss=4.76e-10, pred_loss=4.76e-10, trigger=0]"
     ]
    },
    {
     "name": "stdout",
     "output_type": "stream",
     "text": [
      "from block forward [(3, 1, 0, 3, 3, 12)]\n",
      "from block forward [(3, 1, 0, 3, 3, 12)]\n"
     ]
    },
    {
     "name": "stderr",
     "output_type": "stream",
     "text": [
      "Epoch: 19:  95%|████████████████████████████████████████████████████████████████████▍   | 19/20 [00:10<00:00,  1.76it/s, lowest_loss=4.76e-10, pred_loss=7.95e-10, trigger=1]"
     ]
    },
    {
     "name": "stdout",
     "output_type": "stream",
     "text": [
      "from block forward [(3, 1, 0, 3, 3, 12)]\n",
      "from block forward [(3, 1, 0, 3, 3, 12)]\n"
     ]
    },
    {
     "name": "stderr",
     "output_type": "stream",
     "text": [
      "Epoch: 19: 100%|████████████████████████████████████████████████████████████████████████| 20/20 [00:11<00:00,  1.74it/s, lowest_loss=4.76e-10, pred_loss=7.95e-10, trigger=1]\n"
     ]
    },
    {
     "name": "stdout",
     "output_type": "stream",
     "text": [
      "from block forward [(3, 1, 0, 3, 3, 12)]\n",
      "Now training on Block 15 of 54\n"
     ]
    },
    {
     "name": "stderr",
     "output_type": "stream",
     "text": [
      "Epoch: 0:   0%|                                                                                             | 0/20 [00:00<?, ?it/s, lowest_loss=9999, pred_loss=0, trigger=0]"
     ]
    },
    {
     "name": "stdout",
     "output_type": "stream",
     "text": [
      "from block forward [(3, 1, 0, 3, 12, 1)]\n",
      "from block forward [(3, 1, 0, 3, 12, 1)]\n"
     ]
    },
    {
     "name": "stderr",
     "output_type": "stream",
     "text": [
      "Epoch: 1:   5%|███▋                                                                      | 1/20 [00:00<00:05,  3.62it/s, lowest_loss=0.000354, pred_loss=0.000354, trigger=0]"
     ]
    },
    {
     "name": "stdout",
     "output_type": "stream",
     "text": [
      "from block forward [(3, 1, 0, 3, 12, 1)]\n",
      "from block forward [(3, 1, 0, 3, 12, 1)]\n"
     ]
    },
    {
     "name": "stderr",
     "output_type": "stream",
     "text": [
      "Epoch: 2:  10%|███████▌                                                                    | 2/20 [00:00<00:05,  3.58it/s, lowest_loss=3.28e-5, pred_loss=3.28e-5, trigger=0]"
     ]
    },
    {
     "name": "stdout",
     "output_type": "stream",
     "text": [
      "from block forward [(3, 1, 0, 3, 12, 1)]\n",
      "from block forward [(3, 1, 0, 3, 12, 1)]\n"
     ]
    },
    {
     "name": "stderr",
     "output_type": "stream",
     "text": [
      "Epoch: 3:  15%|███████████▍                                                                | 3/20 [00:00<00:04,  3.79it/s, lowest_loss=8.56e-7, pred_loss=8.56e-7, trigger=0]"
     ]
    },
    {
     "name": "stdout",
     "output_type": "stream",
     "text": [
      "from block forward [(3, 1, 0, 3, 12, 1)]\n"
     ]
    },
    {
     "name": "stderr",
     "output_type": "stream",
     "text": [
      "\r",
      "Epoch: 3:  20%|███████████████▏                                                            | 4/20 [00:01<00:04,  3.88it/s, lowest_loss=8.56e-7, pred_loss=8.56e-7, trigger=0]"
     ]
    },
    {
     "name": "stdout",
     "output_type": "stream",
     "text": [
      "from block forward [(3, 1, 0, 3, 12, 1)]\n"
     ]
    },
    {
     "name": "stderr",
     "output_type": "stream",
     "text": [
      "Epoch: 4:  20%|███████████████▏                                                            | 4/20 [00:01<00:04,  3.88it/s, lowest_loss=8.76e-9, pred_loss=8.76e-9, trigger=0]"
     ]
    },
    {
     "name": "stdout",
     "output_type": "stream",
     "text": [
      "from block forward [(3, 1, 0, 3, 12, 1)]\n",
      "from block forward [(3, 1, 0, 3, 12, 1)]\n"
     ]
    },
    {
     "name": "stderr",
     "output_type": "stream",
     "text": [
      "Epoch: 5:  25%|███████████████████▌                                                          | 5/20 [00:01<00:03,  3.80it/s, lowest_loss=1.8e-9, pred_loss=1.8e-9, trigger=0]"
     ]
    },
    {
     "name": "stdout",
     "output_type": "stream",
     "text": [
      "from block forward [(3, 1, 0, 3, 12, 1)]\n"
     ]
    },
    {
     "name": "stderr",
     "output_type": "stream",
     "text": [
      "Epoch: 6:  30%|███████████████████████                                                      | 6/20 [00:01<00:04,  3.47it/s, lowest_loss=1.8e-9, pred_loss=1.06e-8, trigger=1]"
     ]
    },
    {
     "name": "stdout",
     "output_type": "stream",
     "text": [
      "from block forward [(3, 1, 0, 3, 12, 1)]\n",
      "from block forward [(3, 1, 0, 3, 12, 1)]\n"
     ]
    },
    {
     "name": "stderr",
     "output_type": "stream",
     "text": [
      "Epoch: 7:  35%|██████████████████████████▉                                                  | 7/20 [00:01<00:03,  3.64it/s, lowest_loss=1.8e-9, pred_loss=2.91e-9, trigger=2]"
     ]
    },
    {
     "name": "stdout",
     "output_type": "stream",
     "text": [
      "from block forward [(3, 1, 0, 3, 12, 1)]\n",
      "from block forward [(3, 1, 0, 3, 12, 1)]\n"
     ]
    },
    {
     "name": "stderr",
     "output_type": "stream",
     "text": [
      "Epoch: 8:  40%|█████████████████████████████▌                                            | 8/20 [00:02<00:03,  3.76it/s, lowest_loss=4.49e-10, pred_loss=4.49e-10, trigger=0]"
     ]
    },
    {
     "name": "stdout",
     "output_type": "stream",
     "text": [
      "from block forward [(3, 1, 0, 3, 12, 1)]\n",
      "from block forward [(3, 1, 0, 3, 12, 1)]\n"
     ]
    },
    {
     "name": "stderr",
     "output_type": "stream",
     "text": [
      "Epoch: 9:  45%|█████████████████████████████████▊                                         | 9/20 [00:02<00:02,  3.76it/s, lowest_loss=4.49e-10, pred_loss=1.02e-9, trigger=1]"
     ]
    },
    {
     "name": "stdout",
     "output_type": "stream",
     "text": [
      "from block forward [(3, 1, 0, 3, 12, 1)]\n",
      "from block forward [(3, 1, 0, 3, 12, 1)]\n"
     ]
    },
    {
     "name": "stderr",
     "output_type": "stream",
     "text": [
      "Epoch: 10:  50%|████████████████████████████████████▌                                    | 10/20 [00:02<00:02,  3.70it/s, lowest_loss=4.49e-10, pred_loss=1.14e-9, trigger=2]"
     ]
    },
    {
     "name": "stdout",
     "output_type": "stream",
     "text": [
      "from block forward [(3, 1, 0, 3, 12, 1)]\n",
      "from block forward [(3, 1, 0, 3, 12, 1)]\n"
     ]
    },
    {
     "name": "stderr",
     "output_type": "stream",
     "text": [
      "Epoch: 11:  55%|███████████████████████████████████████▌                                | 11/20 [00:02<00:02,  3.74it/s, lowest_loss=4.17e-19, pred_loss=4.17e-19, trigger=0]"
     ]
    },
    {
     "name": "stdout",
     "output_type": "stream",
     "text": [
      "from block forward [(3, 1, 0, 3, 12, 1)]\n",
      "from block forward [(3, 1, 0, 3, 12, 1)]\n"
     ]
    },
    {
     "name": "stderr",
     "output_type": "stream",
     "text": [
      "Epoch: 12:  60%|███████████████████████████████████████████▏                            | 12/20 [00:03<00:02,  3.80it/s, lowest_loss=4.17e-19, pred_loss=4.86e-11, trigger=1]"
     ]
    },
    {
     "name": "stdout",
     "output_type": "stream",
     "text": [
      "from block forward [(3, 1, 0, 3, 12, 1)]\n",
      "from block forward [(3, 1, 0, 3, 12, 1)]\n"
     ]
    },
    {
     "name": "stderr",
     "output_type": "stream",
     "text": [
      "Epoch: 13:  65%|██████████████████████████████████████████████▊                         | 13/20 [00:03<00:01,  3.80it/s, lowest_loss=4.17e-19, pred_loss=1.02e-11, trigger=2]"
     ]
    },
    {
     "name": "stdout",
     "output_type": "stream",
     "text": [
      "from block forward [(3, 1, 0, 3, 12, 1)]\n",
      "from block forward [(3, 1, 0, 3, 12, 1)]\n"
     ]
    },
    {
     "name": "stderr",
     "output_type": "stream",
     "text": [
      "Epoch: 14:  70%|██████████████████████████████████████████████████▍                     | 14/20 [00:03<00:01,  3.89it/s, lowest_loss=4.17e-19, pred_loss=1.44e-11, trigger=3]"
     ]
    },
    {
     "name": "stdout",
     "output_type": "stream",
     "text": [
      "from block forward [(3, 1, 0, 3, 12, 1)]\n",
      "from block forward [(3, 1, 0, 3, 12, 1)]\n"
     ]
    },
    {
     "name": "stderr",
     "output_type": "stream",
     "text": [
      "Epoch: 15:  75%|██████████████████████████████████████████████████████                  | 15/20 [00:03<00:01,  3.95it/s, lowest_loss=4.17e-19, pred_loss=3.36e-11, trigger=4]"
     ]
    },
    {
     "name": "stdout",
     "output_type": "stream",
     "text": [
      "from block forward [(3, 1, 0, 3, 12, 1)]\n",
      "from block forward [(3, 1, 0, 3, 12, 1)]\n"
     ]
    },
    {
     "name": "stderr",
     "output_type": "stream",
     "text": [
      "Epoch: 16:  80%|█████████████████████████████████████████████████████████▌              | 16/20 [00:04<00:01,  4.00it/s, lowest_loss=4.17e-19, pred_loss=4.15e-10, trigger=5]"
     ]
    },
    {
     "name": "stdout",
     "output_type": "stream",
     "text": [
      "from block forward [(3, 1, 0, 3, 12, 1)]\n",
      "from block forward [(3, 1, 0, 3, 12, 1)]\n"
     ]
    },
    {
     "name": "stderr",
     "output_type": "stream",
     "text": [
      "Epoch: 17:  85%|█████████████████████████████████████████████████████████████▏          | 17/20 [00:04<00:00,  4.06it/s, lowest_loss=4.17e-19, pred_loss=3.19e-11, trigger=6]"
     ]
    },
    {
     "name": "stdout",
     "output_type": "stream",
     "text": [
      "from block forward [(3, 1, 0, 3, 12, 1)]\n",
      "from block forward [(3, 1, 0, 3, 12, 1)]\n"
     ]
    },
    {
     "name": "stderr",
     "output_type": "stream",
     "text": [
      "Epoch: 18:  90%|████████████████████████████████████████████████████████████████▊       | 18/20 [00:04<00:00,  3.99it/s, lowest_loss=4.17e-19, pred_loss=1.15e-12, trigger=7]"
     ]
    },
    {
     "name": "stdout",
     "output_type": "stream",
     "text": [
      "from block forward [(3, 1, 0, 3, 12, 1)]\n",
      "from block forward [(3, 1, 0, 3, 12, 1)]\n"
     ]
    },
    {
     "name": "stderr",
     "output_type": "stream",
     "text": [
      "Epoch: 19:  95%|████████████████████████████████████████████████████████████████████▍   | 19/20 [00:04<00:00,  4.01it/s, lowest_loss=4.17e-19, pred_loss=4.17e-19, trigger=8]"
     ]
    },
    {
     "name": "stdout",
     "output_type": "stream",
     "text": [
      "from block forward [(3, 1, 0, 3, 12, 1)]\n",
      "from block forward [(3, 1, 0, 3, 12, 1)]\n"
     ]
    },
    {
     "name": "stderr",
     "output_type": "stream",
     "text": [
      "Epoch: 19: 100%|████████████████████████████████████████████████████████████████████████| 20/20 [00:05<00:00,  3.85it/s, lowest_loss=4.17e-19, pred_loss=4.17e-19, trigger=8]\n"
     ]
    },
    {
     "name": "stdout",
     "output_type": "stream",
     "text": [
      "from block forward [(3, 1, 0, 3, 12, 1)]\n",
      "Now training on Block 16 of 54\n"
     ]
    },
    {
     "name": "stderr",
     "output_type": "stream",
     "text": [
      "Epoch: 0:   0%|                                                                                             | 0/20 [00:00<?, ?it/s, lowest_loss=9999, pred_loss=0, trigger=0]"
     ]
    },
    {
     "name": "stdout",
     "output_type": "stream",
     "text": [
      "from block forward [(3, 1, 0, 3, 12, 3)]\n"
     ]
    },
    {
     "name": "stderr",
     "output_type": "stream",
     "text": [
      "Epoch: 1:   5%|███▋                                                                      | 1/20 [00:00<00:11,  1.68it/s, lowest_loss=0.000338, pred_loss=0.000338, trigger=0]"
     ]
    },
    {
     "name": "stdout",
     "output_type": "stream",
     "text": [
      "from block forward [(3, 1, 0, 3, 12, 3)]\n",
      "from block forward [(3, 1, 0, 3, 12, 3)]\n"
     ]
    },
    {
     "name": "stderr",
     "output_type": "stream",
     "text": [
      "Epoch: 2:  10%|███████▌                                                                    | 2/20 [00:01<00:09,  1.84it/s, lowest_loss=1.41e-5, pred_loss=1.41e-5, trigger=0]"
     ]
    },
    {
     "name": "stdout",
     "output_type": "stream",
     "text": [
      "from block forward [(3, 1, 0, 3, 12, 3)]\n",
      "from block forward [(3, 1, 0, 3, 12, 3)]\n"
     ]
    },
    {
     "name": "stderr",
     "output_type": "stream",
     "text": [
      "Epoch: 3:  15%|███████████▋                                                                  | 3/20 [00:01<00:09,  1.83it/s, lowest_loss=3.8e-7, pred_loss=3.8e-7, trigger=0]"
     ]
    },
    {
     "name": "stdout",
     "output_type": "stream",
     "text": [
      "from block forward [(3, 1, 0, 3, 12, 3)]\n",
      "from block forward [(3, 1, 0, 3, 12, 3)]\n"
     ]
    },
    {
     "name": "stderr",
     "output_type": "stream",
     "text": [
      "Epoch: 4:  20%|███████████████▏                                                            | 4/20 [00:02<00:10,  1.56it/s, lowest_loss=9.57e-9, pred_loss=9.57e-9, trigger=0]"
     ]
    },
    {
     "name": "stdout",
     "output_type": "stream",
     "text": [
      "from block forward [(3, 1, 0, 3, 12, 3)]\n",
      "from block forward [(3, 1, 0, 3, 12, 3)]\n"
     ]
    },
    {
     "name": "stderr",
     "output_type": "stream",
     "text": [
      "Epoch: 5:  25%|███████████████████                                                         | 5/20 [00:03<00:09,  1.51it/s, lowest_loss=3.42e-9, pred_loss=3.42e-9, trigger=0]"
     ]
    },
    {
     "name": "stdout",
     "output_type": "stream",
     "text": [
      "from block forward [(3, 1, 0, 3, 12, 3)]\n",
      "from block forward [(3, 1, 0, 3, 12, 3)]\n"
     ]
    },
    {
     "name": "stderr",
     "output_type": "stream",
     "text": [
      "Epoch: 6:  30%|███████████████████████▍                                                      | 6/20 [00:03<00:09,  1.43it/s, lowest_loss=1.9e-9, pred_loss=1.9e-9, trigger=0]"
     ]
    },
    {
     "name": "stdout",
     "output_type": "stream",
     "text": [
      "from block forward [(3, 1, 0, 3, 12, 3)]\n",
      "from block forward [(3, 1, 0, 3, 12, 3)]\n"
     ]
    },
    {
     "name": "stderr",
     "output_type": "stream",
     "text": [
      "Epoch: 7:  35%|██████████████████████████▉                                                  | 7/20 [00:04<00:09,  1.40it/s, lowest_loss=1.9e-9, pred_loss=1.38e-8, trigger=1]"
     ]
    },
    {
     "name": "stdout",
     "output_type": "stream",
     "text": [
      "from block forward [(3, 1, 0, 3, 12, 3)]\n",
      "from block forward [(3, 1, 0, 3, 12, 3)]\n"
     ]
    },
    {
     "name": "stderr",
     "output_type": "stream",
     "text": [
      "Epoch: 8:  40%|██████████████████████████████▊                                              | 8/20 [00:05<00:09,  1.31it/s, lowest_loss=1.9e-9, pred_loss=1.51e-8, trigger=2]"
     ]
    },
    {
     "name": "stdout",
     "output_type": "stream",
     "text": [
      "from block forward [(3, 1, 0, 3, 12, 3)]\n",
      "from block forward [(3, 1, 0, 3, 12, 3)]\n"
     ]
    },
    {
     "name": "stderr",
     "output_type": "stream",
     "text": [
      "Epoch: 9:  45%|██████████████████████████████████▋                                          | 9/20 [00:06<00:07,  1.43it/s, lowest_loss=1.9e-9, pred_loss=3.25e-9, trigger=3]"
     ]
    },
    {
     "name": "stdout",
     "output_type": "stream",
     "text": [
      "from block forward [(3, 1, 0, 3, 12, 3)]\n",
      "from block forward [(3, 1, 0, 3, 12, 3)]\n"
     ]
    },
    {
     "name": "stderr",
     "output_type": "stream",
     "text": [
      "Epoch: 10:  50%|█████████████████████████████████████▌                                     | 10/20 [00:06<00:06,  1.55it/s, lowest_loss=1.9e-9, pred_loss=2.45e-9, trigger=4]"
     ]
    },
    {
     "name": "stdout",
     "output_type": "stream",
     "text": [
      "from block forward [(3, 1, 0, 3, 12, 3)]\n",
      "from block forward [(3, 1, 0, 3, 12, 3)]\n"
     ]
    },
    {
     "name": "stderr",
     "output_type": "stream",
     "text": [
      "Epoch: 11:  55%|███████████████████████████████████████▌                                | 11/20 [00:07<00:05,  1.63it/s, lowest_loss=4.84e-10, pred_loss=4.84e-10, trigger=0]"
     ]
    },
    {
     "name": "stdout",
     "output_type": "stream",
     "text": [
      "from block forward [(3, 1, 0, 3, 12, 3)]\n",
      "from block forward [(3, 1, 0, 3, 12, 3)]\n"
     ]
    },
    {
     "name": "stderr",
     "output_type": "stream",
     "text": [
      "Epoch: 12:  60%|███████████████████████████████████████████▊                             | 12/20 [00:07<00:04,  1.64it/s, lowest_loss=4.84e-10, pred_loss=1.68e-9, trigger=1]"
     ]
    },
    {
     "name": "stdout",
     "output_type": "stream",
     "text": [
      "from block forward [(3, 1, 0, 3, 12, 3)]\n",
      "from block forward [(3, 1, 0, 3, 12, 3)]\n"
     ]
    },
    {
     "name": "stderr",
     "output_type": "stream",
     "text": [
      "Epoch: 13:  65%|██████████████████████████████████████████████▊                         | 13/20 [00:08<00:04,  1.69it/s, lowest_loss=4.84e-10, pred_loss=8.81e-10, trigger=2]"
     ]
    },
    {
     "name": "stdout",
     "output_type": "stream",
     "text": [
      "from block forward [(3, 1, 0, 3, 12, 3)]\n",
      "from block forward [(3, 1, 0, 3, 12, 3)]\n"
     ]
    },
    {
     "name": "stderr",
     "output_type": "stream",
     "text": [
      "Epoch: 14:  70%|██████████████████████████████████████████████████▍                     | 14/20 [00:09<00:03,  1.51it/s, lowest_loss=4.84e-10, pred_loss=4.88e-10, trigger=3]"
     ]
    },
    {
     "name": "stdout",
     "output_type": "stream",
     "text": [
      "from block forward [(3, 1, 0, 3, 12, 3)]\n",
      "from block forward [(3, 1, 0, 3, 12, 3)]\n"
     ]
    },
    {
     "name": "stderr",
     "output_type": "stream",
     "text": [
      "Epoch: 15:  75%|██████████████████████████████████████████████████████                  | 15/20 [00:09<00:03,  1.42it/s, lowest_loss=4.84e-10, pred_loss=9.76e-10, trigger=4]"
     ]
    },
    {
     "name": "stdout",
     "output_type": "stream",
     "text": [
      "from block forward [(3, 1, 0, 3, 12, 3)]\n",
      "from block forward [(3, 1, 0, 3, 12, 3)]\n"
     ]
    },
    {
     "name": "stderr",
     "output_type": "stream",
     "text": [
      "Epoch: 16:  80%|█████████████████████████████████████████████████████████▌              | 16/20 [00:10<00:02,  1.49it/s, lowest_loss=2.95e-10, pred_loss=2.95e-10, trigger=0]"
     ]
    },
    {
     "name": "stdout",
     "output_type": "stream",
     "text": [
      "from block forward [(3, 1, 0, 3, 12, 3)]\n",
      "from block forward [(3, 1, 0, 3, 12, 3)]\n"
     ]
    },
    {
     "name": "stderr",
     "output_type": "stream",
     "text": [
      "Epoch: 17:  85%|█████████████████████████████████████████████████████████████▏          | 17/20 [00:11<00:01,  1.60it/s, lowest_loss=6.77e-11, pred_loss=6.77e-11, trigger=0]"
     ]
    },
    {
     "name": "stdout",
     "output_type": "stream",
     "text": [
      "from block forward [(3, 1, 0, 3, 12, 3)]\n",
      "from block forward [(3, 1, 0, 3, 12, 3)]\n"
     ]
    },
    {
     "name": "stderr",
     "output_type": "stream",
     "text": [
      "Epoch: 18:  90%|████████████████████████████████████████████████████████████████▊       | 18/20 [00:11<00:01,  1.68it/s, lowest_loss=1.32e-11, pred_loss=1.32e-11, trigger=0]"
     ]
    },
    {
     "name": "stdout",
     "output_type": "stream",
     "text": [
      "from block forward [(3, 1, 0, 3, 12, 3)]\n",
      "from block forward [(3, 1, 0, 3, 12, 3)]\n"
     ]
    },
    {
     "name": "stderr",
     "output_type": "stream",
     "text": [
      "Epoch: 19:  95%|████████████████████████████████████████████████████████████████████▍   | 19/20 [00:12<00:00,  1.71it/s, lowest_loss=1.32e-11, pred_loss=6.02e-10, trigger=1]"
     ]
    },
    {
     "name": "stdout",
     "output_type": "stream",
     "text": [
      "from block forward [(3, 1, 0, 3, 12, 3)]\n",
      "from block forward [(3, 1, 0, 3, 12, 3)]\n"
     ]
    },
    {
     "name": "stderr",
     "output_type": "stream",
     "text": [
      "Epoch: 19: 100%|████████████████████████████████████████████████████████████████████████| 20/20 [00:12<00:00,  1.57it/s, lowest_loss=1.32e-11, pred_loss=6.02e-10, trigger=1]\n"
     ]
    },
    {
     "name": "stdout",
     "output_type": "stream",
     "text": [
      "from block forward [(3, 1, 0, 3, 12, 3)]\n",
      "Now training on Block 17 of 54\n"
     ]
    },
    {
     "name": "stderr",
     "output_type": "stream",
     "text": [
      "Epoch: 0:   0%|                                                                                             | 0/20 [00:00<?, ?it/s, lowest_loss=9999, pred_loss=0, trigger=0]"
     ]
    },
    {
     "name": "stdout",
     "output_type": "stream",
     "text": [
      "from block forward [(3, 1, 0, 3, 12, 12)]\n",
      "from block forward [(3, 1, 0, 3, 12, 12)]\n"
     ]
    },
    {
     "name": "stderr",
     "output_type": "stream",
     "text": [
      "Epoch: 1:   5%|███▋                                                                      | 1/20 [00:08<02:43,  8.59s/it, lowest_loss=0.000253, pred_loss=0.000253, trigger=0]"
     ]
    },
    {
     "name": "stdout",
     "output_type": "stream",
     "text": [
      "from block forward [(3, 1, 0, 3, 12, 12)]\n",
      "from block forward [(3, 1, 0, 3, 12, 12)]\n"
     ]
    },
    {
     "name": "stderr",
     "output_type": "stream",
     "text": [
      "Epoch: 2:  10%|███████▌                                                                    | 2/20 [00:15<02:14,  7.47s/it, lowest_loss=7.59e-6, pred_loss=7.59e-6, trigger=0]"
     ]
    },
    {
     "name": "stdout",
     "output_type": "stream",
     "text": [
      "from block forward [(3, 1, 0, 3, 12, 12)]\n",
      "from block forward [(3, 1, 0, 3, 12, 12)]\n"
     ]
    },
    {
     "name": "stderr",
     "output_type": "stream",
     "text": [
      "Epoch: 3:  15%|███████████▍                                                                | 3/20 [00:21<02:00,  7.09s/it, lowest_loss=2.37e-8, pred_loss=2.37e-8, trigger=0]"
     ]
    },
    {
     "name": "stdout",
     "output_type": "stream",
     "text": [
      "from block forward [(3, 1, 0, 3, 12, 12)]\n",
      "from block forward [(3, 1, 0, 3, 12, 12)]\n"
     ]
    },
    {
     "name": "stderr",
     "output_type": "stream",
     "text": [
      "Epoch: 4:  20%|███████████████▏                                                            | 4/20 [00:28<01:52,  7.06s/it, lowest_loss=2.06e-8, pred_loss=2.06e-8, trigger=0]"
     ]
    },
    {
     "name": "stdout",
     "output_type": "stream",
     "text": [
      "from block forward [(3, 1, 0, 3, 12, 12)]\n",
      "from block forward [(3, 1, 0, 3, 12, 12)]\n"
     ]
    },
    {
     "name": "stderr",
     "output_type": "stream",
     "text": [
      "Epoch: 5:  25%|███████████████████                                                         | 5/20 [00:36<01:50,  7.37s/it, lowest_loss=2.58e-9, pred_loss=2.58e-9, trigger=0]"
     ]
    },
    {
     "name": "stdout",
     "output_type": "stream",
     "text": [
      "from block forward [(3, 1, 0, 3, 12, 12)]\n",
      "from block forward [(3, 1, 0, 3, 12, 12)]\n"
     ]
    },
    {
     "name": "stderr",
     "output_type": "stream",
     "text": [
      "Epoch: 6:  30%|██████████████████████▊                                                     | 6/20 [00:48<02:05,  8.95s/it, lowest_loss=2.58e-9, pred_loss=1.87e-8, trigger=1]"
     ]
    },
    {
     "name": "stdout",
     "output_type": "stream",
     "text": [
      "from block forward [(3, 1, 0, 3, 12, 12)]\n",
      "from block forward [(3, 1, 0, 3, 12, 12)]\n"
     ]
    },
    {
     "name": "stderr",
     "output_type": "stream",
     "text": [
      "Epoch: 7:  35%|██████████████████████████▌                                                 | 7/20 [01:02<02:14, 10.35s/it, lowest_loss=1.77e-9, pred_loss=1.77e-9, trigger=0]"
     ]
    },
    {
     "name": "stdout",
     "output_type": "stream",
     "text": [
      "from block forward [(3, 1, 0, 3, 12, 12)]\n",
      "from block forward [(3, 1, 0, 3, 12, 12)]\n"
     ]
    },
    {
     "name": "stderr",
     "output_type": "stream",
     "text": [
      "Epoch: 8:  40%|█████████████████████████████▌                                            | 8/20 [01:12<02:06, 10.50s/it, lowest_loss=4.85e-10, pred_loss=4.85e-10, trigger=0]"
     ]
    },
    {
     "name": "stdout",
     "output_type": "stream",
     "text": [
      "from block forward [(3, 1, 0, 3, 12, 12)]\n",
      "from block forward [(3, 1, 0, 3, 12, 12)]\n"
     ]
    },
    {
     "name": "stderr",
     "output_type": "stream",
     "text": [
      "Epoch: 9:  45%|█████████████████████████████████▊                                         | 9/20 [01:22<01:51, 10.11s/it, lowest_loss=4.85e-10, pred_loss=2.54e-9, trigger=1]"
     ]
    },
    {
     "name": "stdout",
     "output_type": "stream",
     "text": [
      "from block forward [(3, 1, 0, 3, 12, 12)]\n",
      "from block forward [(3, 1, 0, 3, 12, 12)]\n"
     ]
    },
    {
     "name": "stderr",
     "output_type": "stream",
     "text": [
      "Epoch: 10:  50%|████████████████████████████████████                                    | 10/20 [01:33<01:43, 10.33s/it, lowest_loss=4.85e-10, pred_loss=9.53e-10, trigger=2]"
     ]
    },
    {
     "name": "stdout",
     "output_type": "stream",
     "text": [
      "from block forward [(3, 1, 0, 3, 12, 12)]\n",
      "from block forward [(3, 1, 0, 3, 12, 12)]\n"
     ]
    },
    {
     "name": "stderr",
     "output_type": "stream",
     "text": [
      "Epoch: 11:  55%|███████████████████████████████████████▌                                | 11/20 [01:40<01:25,  9.49s/it, lowest_loss=7.59e-19, pred_loss=7.59e-19, trigger=0]"
     ]
    },
    {
     "name": "stdout",
     "output_type": "stream",
     "text": [
      "from block forward [(3, 1, 0, 3, 12, 12)]\n",
      "from block forward [(3, 1, 0, 3, 12, 12)]\n"
     ]
    },
    {
     "name": "stderr",
     "output_type": "stream",
     "text": [
      "Epoch: 12:  60%|███████████████████████████████████████████▊                             | 12/20 [01:47<01:09,  8.67s/it, lowest_loss=7.59e-19, pred_loss=2.28e-9, trigger=1]"
     ]
    },
    {
     "name": "stdout",
     "output_type": "stream",
     "text": [
      "from block forward [(3, 1, 0, 3, 12, 12)]\n",
      "from block forward [(3, 1, 0, 3, 12, 12)]\n"
     ]
    },
    {
     "name": "stderr",
     "output_type": "stream",
     "text": [
      "Epoch: 13:  65%|██████████████████████████████████████████████▊                         | 13/20 [01:55<00:59,  8.55s/it, lowest_loss=7.59e-19, pred_loss=1.23e-11, trigger=2]"
     ]
    },
    {
     "name": "stdout",
     "output_type": "stream",
     "text": [
      "from block forward [(3, 1, 0, 3, 12, 12)]\n",
      "from block forward [(3, 1, 0, 3, 12, 12)]\n"
     ]
    },
    {
     "name": "stderr",
     "output_type": "stream",
     "text": [
      "Epoch: 14:  70%|██████████████████████████████████████████████████▍                     | 14/20 [02:04<00:51,  8.53s/it, lowest_loss=7.59e-19, pred_loss=2.13e-10, trigger=3]"
     ]
    },
    {
     "name": "stdout",
     "output_type": "stream",
     "text": [
      "from block forward [(3, 1, 0, 3, 12, 12)]\n",
      "from block forward [(3, 1, 0, 3, 12, 12)]\n"
     ]
    },
    {
     "name": "stderr",
     "output_type": "stream",
     "text": [
      "Epoch: 15:  75%|██████████████████████████████████████████████████████                  | 15/20 [02:12<00:41,  8.35s/it, lowest_loss=7.59e-19, pred_loss=2.67e-10, trigger=4]"
     ]
    },
    {
     "name": "stdout",
     "output_type": "stream",
     "text": [
      "from block forward [(3, 1, 0, 3, 12, 12)]\n",
      "from block forward [(3, 1, 0, 3, 12, 12)]\n"
     ]
    },
    {
     "name": "stderr",
     "output_type": "stream",
     "text": [
      "Epoch: 16:  80%|█████████████████████████████████████████████████████████▌              | 16/20 [02:20<00:33,  8.46s/it, lowest_loss=7.59e-19, pred_loss=7.59e-19, trigger=5]"
     ]
    },
    {
     "name": "stdout",
     "output_type": "stream",
     "text": [
      "from block forward [(3, 1, 0, 3, 12, 12)]\n",
      "from block forward [(3, 1, 0, 3, 12, 12)]\n"
     ]
    },
    {
     "name": "stderr",
     "output_type": "stream",
     "text": [
      "Epoch: 17:  85%|█████████████████████████████████████████████████████████████▏          | 17/20 [02:28<00:24,  8.16s/it, lowest_loss=7.59e-19, pred_loss=4.41e-12, trigger=6]"
     ]
    },
    {
     "name": "stdout",
     "output_type": "stream",
     "text": [
      "from block forward [(3, 1, 0, 3, 12, 12)]\n",
      "from block forward [(3, 1, 0, 3, 12, 12)]\n"
     ]
    },
    {
     "name": "stderr",
     "output_type": "stream",
     "text": [
      "Epoch: 18:  90%|█████████████████████████████████████████████████████████████████▋       | 18/20 [02:36<00:16,  8.14s/it, lowest_loss=7.59e-19, pred_loss=1.8e-10, trigger=7]"
     ]
    },
    {
     "name": "stdout",
     "output_type": "stream",
     "text": [
      "from block forward [(3, 1, 0, 3, 12, 12)]\n",
      "from block forward [(3, 1, 0, 3, 12, 12)]\n"
     ]
    },
    {
     "name": "stderr",
     "output_type": "stream",
     "text": [
      "Epoch: 19:  95%|█████████████████████████████████████████████████████████████████████▎   | 19/20 [02:44<00:08,  8.01s/it, lowest_loss=7.59e-19, pred_loss=2.1e-10, trigger=8]"
     ]
    },
    {
     "name": "stdout",
     "output_type": "stream",
     "text": [
      "from block forward [(3, 1, 0, 3, 12, 12)]\n",
      "from block forward [(3, 1, 0, 3, 12, 12)]\n"
     ]
    },
    {
     "name": "stderr",
     "output_type": "stream",
     "text": [
      "Epoch: 19: 100%|█████████████████████████████████████████████████████████████████████████| 20/20 [02:52<00:00,  8.62s/it, lowest_loss=7.59e-19, pred_loss=2.1e-10, trigger=8]\n"
     ]
    },
    {
     "name": "stdout",
     "output_type": "stream",
     "text": [
      "Now training on Block 18 of 54\n"
     ]
    },
    {
     "name": "stderr",
     "output_type": "stream",
     "text": [
      "Epoch: 0:   0%|                                                                                             | 0/20 [00:00<?, ?it/s, lowest_loss=9999, pred_loss=0, trigger=0]"
     ]
    },
    {
     "name": "stdout",
     "output_type": "stream",
     "text": [
      "from block forward [(3, 1, 0, 12, 1, 1)]\n"
     ]
    },
    {
     "name": "stderr",
     "output_type": "stream",
     "text": [
      "Epoch: 1:   5%|███▋                                                                      | 1/20 [00:00<00:07,  2.42it/s, lowest_loss=0.000282, pred_loss=0.000282, trigger=0]"
     ]
    },
    {
     "name": "stdout",
     "output_type": "stream",
     "text": [
      "from block forward [(3, 1, 0, 12, 1, 1)]\n",
      "from block forward [(3, 1, 0, 12, 1, 1)]\n"
     ]
    },
    {
     "name": "stderr",
     "output_type": "stream",
     "text": [
      "Epoch: 2:  10%|███████▌                                                                    | 2/20 [00:00<00:06,  2.68it/s, lowest_loss=1.41e-5, pred_loss=1.41e-5, trigger=0]"
     ]
    },
    {
     "name": "stdout",
     "output_type": "stream",
     "text": [
      "from block forward [(3, 1, 0, 12, 1, 1)]\n",
      "from block forward [(3, 1, 0, 12, 1, 1)]\n"
     ]
    },
    {
     "name": "stderr",
     "output_type": "stream",
     "text": [
      "Epoch: 3:  15%|███████████▍                                                                | 3/20 [00:01<00:06,  2.82it/s, lowest_loss=6.64e-8, pred_loss=6.64e-8, trigger=0]"
     ]
    },
    {
     "name": "stdout",
     "output_type": "stream",
     "text": [
      "from block forward [(3, 1, 0, 12, 1, 1)]\n",
      "from block forward [(3, 1, 0, 12, 1, 1)]\n"
     ]
    },
    {
     "name": "stderr",
     "output_type": "stream",
     "text": [
      "Epoch: 4:  20%|███████████████▏                                                            | 4/20 [00:01<00:05,  2.93it/s, lowest_loss=5.03e-8, pred_loss=5.03e-8, trigger=0]"
     ]
    },
    {
     "name": "stdout",
     "output_type": "stream",
     "text": [
      "from block forward [(3, 1, 0, 12, 1, 1)]\n",
      "from block forward [(3, 1, 0, 12, 1, 1)]\n"
     ]
    },
    {
     "name": "stderr",
     "output_type": "stream",
     "text": [
      "Epoch: 5:  25%|███████████████████                                                         | 5/20 [00:01<00:05,  2.84it/s, lowest_loss=5.03e-8, pred_loss=5.94e-8, trigger=1]"
     ]
    },
    {
     "name": "stdout",
     "output_type": "stream",
     "text": [
      "from block forward [(3, 1, 0, 12, 1, 1)]\n",
      "from block forward [(3, 1, 0, 12, 1, 1)]\n"
     ]
    },
    {
     "name": "stderr",
     "output_type": "stream",
     "text": [
      "Epoch: 6:  30%|██████████████████████▊                                                     | 6/20 [00:02<00:04,  2.84it/s, lowest_loss=1.92e-8, pred_loss=1.92e-8, trigger=0]"
     ]
    },
    {
     "name": "stdout",
     "output_type": "stream",
     "text": [
      "from block forward [(3, 1, 0, 12, 1, 1)]\n",
      "from block forward [(3, 1, 0, 12, 1, 1)]\n"
     ]
    },
    {
     "name": "stderr",
     "output_type": "stream",
     "text": [
      "Epoch: 7:  35%|██████████████████████████▌                                                 | 7/20 [00:02<00:04,  2.87it/s, lowest_loss=1.92e-8, pred_loss=2.12e-8, trigger=1]"
     ]
    },
    {
     "name": "stdout",
     "output_type": "stream",
     "text": [
      "from block forward [(3, 1, 0, 12, 1, 1)]\n",
      "from block forward [(3, 1, 0, 12, 1, 1)]\n"
     ]
    },
    {
     "name": "stderr",
     "output_type": "stream",
     "text": [
      "Epoch: 7:  35%|██████████████████████████▌                                                 | 7/20 [00:02<00:05,  2.54it/s, lowest_loss=1.92e-8, pred_loss=2.12e-8, trigger=1]\n"
     ]
    },
    {
     "ename": "KeyboardInterrupt",
     "evalue": "",
     "output_type": "error",
     "traceback": [
      "\u001b[0;31m---------------------------------------------------------------------------\u001b[0m",
      "\u001b[0;31mKeyboardInterrupt\u001b[0m                         Traceback (most recent call last)",
      "Cell \u001b[0;32mIn [323], line 1\u001b[0m\n\u001b[0;32m----> 1\u001b[0m \u001b[43mmodel\u001b[49m\u001b[38;5;241;43m.\u001b[39;49m\u001b[43mfit\u001b[49m\u001b[43m(\u001b[49m\u001b[43mtrain_loader\u001b[49m\u001b[43m,\u001b[49m\u001b[43m \u001b[49m\u001b[43mregularization_dict\u001b[49m\u001b[43m,\u001b[49m\u001b[43m \u001b[49m\u001b[43moptimizer_type\u001b[49m\u001b[38;5;241;43m=\u001b[39;49m\u001b[38;5;124;43m\"\u001b[39;49m\u001b[38;5;124;43mAdam\u001b[39;49m\u001b[38;5;124;43m\"\u001b[39;49m\u001b[43m,\u001b[49m\u001b[43m \u001b[49m\u001b[43mn_epochs\u001b[49m\u001b[38;5;241;43m=\u001b[39;49m\u001b[38;5;241;43m20\u001b[39;49m\u001b[43m,\u001b[49m\u001b[43m \u001b[49m\u001b[43mloss_function\u001b[49m\u001b[38;5;241;43m=\u001b[39;49m\u001b[43mmse_loss\u001b[49m\u001b[43m,\u001b[49m\u001b[43m \u001b[49m\u001b[43mlr\u001b[49m\u001b[38;5;241;43m=\u001b[39;49m\u001b[38;5;241;43m0.01\u001b[39;49m\u001b[43m)\u001b[49m\n",
      "Cell \u001b[0;32mIn [315], line 182\u001b[0m, in \u001b[0;36mThreeCenterModel.fit\u001b[0;34m(self, train_dataloader, regularization_dict, optimizer_type, n_epochs, loss_function, lr)\u001b[0m\n\u001b[1;32m    179\u001b[0m \u001b[38;5;28mprint\u001b[39m (\u001b[38;5;124m\"\u001b[39m\u001b[38;5;124mNow training on Block \u001b[39m\u001b[38;5;132;01m{}\u001b[39;00m\u001b[38;5;124m of \u001b[39m\u001b[38;5;132;01m{}\u001b[39;00m\u001b[38;5;124m\"\u001b[39m\u001b[38;5;241m.\u001b[39mformat(index, total))\n\u001b[1;32m    180\u001b[0m train_dataloader\u001b[38;5;241m.\u001b[39mdataset\u001b[38;5;241m.\u001b[39mcurrentkey \u001b[38;5;241m=\u001b[39m index\n\u001b[0;32m--> 182\u001b[0m loss_history_key \u001b[38;5;241m=\u001b[39m \u001b[38;5;28;43mself\u001b[39;49m\u001b[38;5;241;43m.\u001b[39;49m\u001b[43mmodels\u001b[49m\u001b[43m[\u001b[49m\u001b[38;5;28;43mstr\u001b[39;49m\u001b[43m(\u001b[49m\u001b[43mkey\u001b[49m\u001b[43m)\u001b[49m\u001b[43m]\u001b[49m\u001b[38;5;241;43m.\u001b[39;49m\u001b[43mfit\u001b[49m\u001b[43m(\u001b[49m\u001b[43mtrain_dataloader\u001b[49m\u001b[43m,\u001b[49m\u001b[43m \u001b[49m\u001b[43mloss_function\u001b[49m\u001b[43m,\u001b[49m\u001b[43m \u001b[49m\u001b[43moptimizer_type\u001b[49m\u001b[43m,\u001b[49m\u001b[43m \u001b[49m\u001b[43mlr\u001b[49m\u001b[43m,\u001b[49m\u001b[43m \u001b[49m\u001b[43mregularization_dict\u001b[49m\u001b[43m[\u001b[49m\u001b[38;5;28;43mstr\u001b[39;49m\u001b[43m(\u001b[49m\u001b[43mkey\u001b[49m\u001b[43m)\u001b[49m\u001b[43m]\u001b[49m\u001b[43m,\u001b[49m\u001b[43m \u001b[49m\u001b[43mn_epochs\u001b[49m\u001b[43m)\u001b[49m\n\u001b[1;32m    184\u001b[0m \u001b[38;5;28mself\u001b[39m\u001b[38;5;241m.\u001b[39mloss_history[\u001b[38;5;28mstr\u001b[39m(key)] \u001b[38;5;241m=\u001b[39m loss_history_key\n",
      "Cell \u001b[0;32mIn [315], line 100\u001b[0m, in \u001b[0;36mBlockEncoderDecoder.fit\u001b[0;34m(self, traindata_loader, loss_function, optimizer_type, lr, reg, n_epochs)\u001b[0m\n\u001b[1;32m     98\u001b[0m \u001b[38;5;28;01mwith\u001b[39;00m torch\u001b[38;5;241m.\u001b[39mno_grad():\n\u001b[1;32m     99\u001b[0m     current_loss \u001b[38;5;241m=\u001b[39m \u001b[38;5;241m0\u001b[39m \n\u001b[0;32m--> 100\u001b[0m     \u001b[38;5;28;01mfor\u001b[39;00m x_data, structure \u001b[38;5;129;01min\u001b[39;00m traindata_loader:\n\u001b[1;32m    101\u001b[0m         pred \u001b[38;5;241m=\u001b[39m \u001b[38;5;28mself\u001b[39m\u001b[38;5;241m.\u001b[39mforward(x_data)\n\u001b[1;32m    102\u001b[0m         current_loss  \u001b[38;5;241m+\u001b[39m\u001b[38;5;241m=\u001b[39m loss_function(pred, torch\u001b[38;5;241m.\u001b[39mfrom_numpy(x_data\u001b[38;5;241m.\u001b[39mblock()\u001b[38;5;241m.\u001b[39mvalues)) \u001b[38;5;66;03m#Loss should be normalized already\u001b[39;00m\n",
      "File \u001b[0;32m~/miniconda3/lib/python3.8/site-packages/torch/utils/data/dataloader.py:628\u001b[0m, in \u001b[0;36m_BaseDataLoaderIter.__next__\u001b[0;34m(self)\u001b[0m\n\u001b[1;32m    625\u001b[0m \u001b[38;5;28;01mif\u001b[39;00m \u001b[38;5;28mself\u001b[39m\u001b[38;5;241m.\u001b[39m_sampler_iter \u001b[38;5;129;01mis\u001b[39;00m \u001b[38;5;28;01mNone\u001b[39;00m:\n\u001b[1;32m    626\u001b[0m     \u001b[38;5;66;03m# TODO(https://github.com/pytorch/pytorch/issues/76750)\u001b[39;00m\n\u001b[1;32m    627\u001b[0m     \u001b[38;5;28mself\u001b[39m\u001b[38;5;241m.\u001b[39m_reset()  \u001b[38;5;66;03m# type: ignore[call-arg]\u001b[39;00m\n\u001b[0;32m--> 628\u001b[0m data \u001b[38;5;241m=\u001b[39m \u001b[38;5;28;43mself\u001b[39;49m\u001b[38;5;241;43m.\u001b[39;49m\u001b[43m_next_data\u001b[49m\u001b[43m(\u001b[49m\u001b[43m)\u001b[49m\n\u001b[1;32m    629\u001b[0m \u001b[38;5;28mself\u001b[39m\u001b[38;5;241m.\u001b[39m_num_yielded \u001b[38;5;241m+\u001b[39m\u001b[38;5;241m=\u001b[39m \u001b[38;5;241m1\u001b[39m\n\u001b[1;32m    630\u001b[0m \u001b[38;5;28;01mif\u001b[39;00m \u001b[38;5;28mself\u001b[39m\u001b[38;5;241m.\u001b[39m_dataset_kind \u001b[38;5;241m==\u001b[39m _DatasetKind\u001b[38;5;241m.\u001b[39mIterable \u001b[38;5;129;01mand\u001b[39;00m \\\n\u001b[1;32m    631\u001b[0m         \u001b[38;5;28mself\u001b[39m\u001b[38;5;241m.\u001b[39m_IterableDataset_len_called \u001b[38;5;129;01mis\u001b[39;00m \u001b[38;5;129;01mnot\u001b[39;00m \u001b[38;5;28;01mNone\u001b[39;00m \u001b[38;5;129;01mand\u001b[39;00m \\\n\u001b[1;32m    632\u001b[0m         \u001b[38;5;28mself\u001b[39m\u001b[38;5;241m.\u001b[39m_num_yielded \u001b[38;5;241m>\u001b[39m \u001b[38;5;28mself\u001b[39m\u001b[38;5;241m.\u001b[39m_IterableDataset_len_called:\n",
      "File \u001b[0;32m~/miniconda3/lib/python3.8/site-packages/torch/utils/data/dataloader.py:671\u001b[0m, in \u001b[0;36m_SingleProcessDataLoaderIter._next_data\u001b[0;34m(self)\u001b[0m\n\u001b[1;32m    669\u001b[0m \u001b[38;5;28;01mdef\u001b[39;00m \u001b[38;5;21m_next_data\u001b[39m(\u001b[38;5;28mself\u001b[39m):\n\u001b[1;32m    670\u001b[0m     index \u001b[38;5;241m=\u001b[39m \u001b[38;5;28mself\u001b[39m\u001b[38;5;241m.\u001b[39m_next_index()  \u001b[38;5;66;03m# may raise StopIteration\u001b[39;00m\n\u001b[0;32m--> 671\u001b[0m     data \u001b[38;5;241m=\u001b[39m \u001b[38;5;28;43mself\u001b[39;49m\u001b[38;5;241;43m.\u001b[39;49m\u001b[43m_dataset_fetcher\u001b[49m\u001b[38;5;241;43m.\u001b[39;49m\u001b[43mfetch\u001b[49m\u001b[43m(\u001b[49m\u001b[43mindex\u001b[49m\u001b[43m)\u001b[49m  \u001b[38;5;66;03m# may raise StopIteration\u001b[39;00m\n\u001b[1;32m    672\u001b[0m     \u001b[38;5;28;01mif\u001b[39;00m \u001b[38;5;28mself\u001b[39m\u001b[38;5;241m.\u001b[39m_pin_memory:\n\u001b[1;32m    673\u001b[0m         data \u001b[38;5;241m=\u001b[39m _utils\u001b[38;5;241m.\u001b[39mpin_memory\u001b[38;5;241m.\u001b[39mpin_memory(data, \u001b[38;5;28mself\u001b[39m\u001b[38;5;241m.\u001b[39m_pin_memory_device)\n",
      "File \u001b[0;32m~/miniconda3/lib/python3.8/site-packages/torch/utils/data/_utils/fetch.py:58\u001b[0m, in \u001b[0;36m_MapDatasetFetcher.fetch\u001b[0;34m(self, possibly_batched_index)\u001b[0m\n\u001b[1;32m     56\u001b[0m         data \u001b[38;5;241m=\u001b[39m \u001b[38;5;28mself\u001b[39m\u001b[38;5;241m.\u001b[39mdataset\u001b[38;5;241m.\u001b[39m__getitems__(possibly_batched_index)\n\u001b[1;32m     57\u001b[0m     \u001b[38;5;28;01melse\u001b[39;00m:\n\u001b[0;32m---> 58\u001b[0m         data \u001b[38;5;241m=\u001b[39m [\u001b[38;5;28mself\u001b[39m\u001b[38;5;241m.\u001b[39mdataset[idx] \u001b[38;5;28;01mfor\u001b[39;00m idx \u001b[38;5;129;01min\u001b[39;00m possibly_batched_index]\n\u001b[1;32m     59\u001b[0m \u001b[38;5;28;01melse\u001b[39;00m:\n\u001b[1;32m     60\u001b[0m     data \u001b[38;5;241m=\u001b[39m \u001b[38;5;28mself\u001b[39m\u001b[38;5;241m.\u001b[39mdataset[possibly_batched_index]\n",
      "File \u001b[0;32m~/miniconda3/lib/python3.8/site-packages/torch/utils/data/_utils/fetch.py:58\u001b[0m, in \u001b[0;36m<listcomp>\u001b[0;34m(.0)\u001b[0m\n\u001b[1;32m     56\u001b[0m         data \u001b[38;5;241m=\u001b[39m \u001b[38;5;28mself\u001b[39m\u001b[38;5;241m.\u001b[39mdataset\u001b[38;5;241m.\u001b[39m__getitems__(possibly_batched_index)\n\u001b[1;32m     57\u001b[0m     \u001b[38;5;28;01melse\u001b[39;00m:\n\u001b[0;32m---> 58\u001b[0m         data \u001b[38;5;241m=\u001b[39m [\u001b[38;5;28;43mself\u001b[39;49m\u001b[38;5;241;43m.\u001b[39;49m\u001b[43mdataset\u001b[49m\u001b[43m[\u001b[49m\u001b[43midx\u001b[49m\u001b[43m]\u001b[49m \u001b[38;5;28;01mfor\u001b[39;00m idx \u001b[38;5;129;01min\u001b[39;00m possibly_batched_index]\n\u001b[1;32m     59\u001b[0m \u001b[38;5;28;01melse\u001b[39;00m:\n\u001b[1;32m     60\u001b[0m     data \u001b[38;5;241m=\u001b[39m \u001b[38;5;28mself\u001b[39m\u001b[38;5;241m.\u001b[39mdataset[possibly_batched_index]\n",
      "Cell \u001b[0;32mIn [319], line 15\u001b[0m, in \u001b[0;36mfeatDataset.__getitem__\u001b[0;34m(self, structure_idx)\u001b[0m\n\u001b[1;32m     14\u001b[0m \u001b[38;5;28;01mdef\u001b[39;00m \u001b[38;5;21m__getitem__\u001b[39m(\u001b[38;5;28mself\u001b[39m, structure_idx):\n\u001b[0;32m---> 15\u001b[0m     feature_block, feature_key \u001b[38;5;241m=\u001b[39m \u001b[38;5;28;43mself\u001b[39;49m\u001b[38;5;241;43m.\u001b[39;49m\u001b[43mgenerate_feature_block\u001b[49m\u001b[43m(\u001b[49m\u001b[38;5;28;43mself\u001b[39;49m\u001b[38;5;241;43m.\u001b[39;49m\u001b[43mfeatures\u001b[49m\u001b[43m,\u001b[49m\u001b[43m \u001b[49m\u001b[43mstructure_idx\u001b[49m\u001b[43m)\u001b[49m        \n\u001b[1;32m     16\u001b[0m     \u001b[38;5;66;03m#samples_filter, target_block_samples = self.get_index_from_idx(self.target.block(self.currentkey).samples, structure_idx)\u001b[39;00m\n\u001b[1;32m     17\u001b[0m     structure \u001b[38;5;241m=\u001b[39m [frames[i] \u001b[38;5;28;01mfor\u001b[39;00m i \u001b[38;5;129;01min\u001b[39;00m structure_idx]\n",
      "Cell \u001b[0;32mIn [319], line 36\u001b[0m, in \u001b[0;36mfeatDataset.generate_feature_block\u001b[0;34m(self, memmap, structure_idx)\u001b[0m\n\u001b[1;32m     34\u001b[0m block_index \u001b[38;5;241m=\u001b[39m \u001b[38;5;28mlist\u001b[39m(\u001b[38;5;28mself\u001b[39m\u001b[38;5;241m.\u001b[39mkeys_features)\u001b[38;5;241m.\u001b[39mindex(key)\n\u001b[1;32m     35\u001b[0m prefix \u001b[38;5;241m=\u001b[39m \u001b[38;5;124mf\u001b[39m\u001b[38;5;124m\"\u001b[39m\u001b[38;5;124mblocks/\u001b[39m\u001b[38;5;132;01m{\u001b[39;00mblock_index\u001b[38;5;132;01m}\u001b[39;00m\u001b[38;5;124m/values\u001b[39m\u001b[38;5;124m\"\u001b[39m        \n\u001b[0;32m---> 36\u001b[0m block_samples \u001b[38;5;241m=\u001b[39m equistore\u001b[38;5;241m.\u001b[39mio\u001b[38;5;241m.\u001b[39m_labels_from_npz(\u001b[43mmemmap\u001b[49m\u001b[43m[\u001b[49m\u001b[38;5;124;43mf\u001b[39;49m\u001b[38;5;124;43m\"\u001b[39;49m\u001b[38;5;132;43;01m{\u001b[39;49;00m\u001b[43mprefix\u001b[49m\u001b[38;5;132;43;01m}\u001b[39;49;00m\u001b[38;5;124;43m/samples\u001b[39;49m\u001b[38;5;124;43m\"\u001b[39;49m\u001b[43m]\u001b[49m)\n\u001b[1;32m     37\u001b[0m block_components \u001b[38;5;241m=\u001b[39m []\n\u001b[1;32m     38\u001b[0m \u001b[38;5;28;01mfor\u001b[39;00m i \u001b[38;5;129;01min\u001b[39;00m \u001b[38;5;28mrange\u001b[39m(\u001b[38;5;241m1\u001b[39m):\n",
      "File \u001b[0;32m~/miniconda3/lib/python3.8/site-packages/numpy/lib/npyio.py:252\u001b[0m, in \u001b[0;36mNpzFile.__getitem__\u001b[0;34m(self, key)\u001b[0m\n\u001b[1;32m    250\u001b[0m \u001b[38;5;28mbytes\u001b[39m\u001b[38;5;241m.\u001b[39mclose()\n\u001b[1;32m    251\u001b[0m \u001b[38;5;28;01mif\u001b[39;00m magic \u001b[38;5;241m==\u001b[39m \u001b[38;5;28mformat\u001b[39m\u001b[38;5;241m.\u001b[39mMAGIC_PREFIX:\n\u001b[0;32m--> 252\u001b[0m     \u001b[38;5;28mbytes\u001b[39m \u001b[38;5;241m=\u001b[39m \u001b[38;5;28;43mself\u001b[39;49m\u001b[38;5;241;43m.\u001b[39;49m\u001b[43mzip\u001b[49m\u001b[38;5;241;43m.\u001b[39;49m\u001b[43mopen\u001b[49m\u001b[43m(\u001b[49m\u001b[43mkey\u001b[49m\u001b[43m)\u001b[49m\n\u001b[1;32m    253\u001b[0m     \u001b[38;5;28;01mreturn\u001b[39;00m \u001b[38;5;28mformat\u001b[39m\u001b[38;5;241m.\u001b[39mread_array(\u001b[38;5;28mbytes\u001b[39m,\n\u001b[1;32m    254\u001b[0m                              allow_pickle\u001b[38;5;241m=\u001b[39m\u001b[38;5;28mself\u001b[39m\u001b[38;5;241m.\u001b[39mallow_pickle,\n\u001b[1;32m    255\u001b[0m                              pickle_kwargs\u001b[38;5;241m=\u001b[39m\u001b[38;5;28mself\u001b[39m\u001b[38;5;241m.\u001b[39mpickle_kwargs,\n\u001b[1;32m    256\u001b[0m                              max_header_size\u001b[38;5;241m=\u001b[39m\u001b[38;5;28mself\u001b[39m\u001b[38;5;241m.\u001b[39mmax_header_size)\n\u001b[1;32m    257\u001b[0m \u001b[38;5;28;01melse\u001b[39;00m:\n",
      "File \u001b[0;32m~/miniconda3/lib/python3.8/zipfile.py:1533\u001b[0m, in \u001b[0;36mZipFile.open\u001b[0;34m(self, name, mode, pwd, force_zip64)\u001b[0m\n\u001b[1;32m   1531\u001b[0m \u001b[38;5;28;01mif\u001b[39;00m \u001b[38;5;28mlen\u001b[39m(fheader) \u001b[38;5;241m!=\u001b[39m sizeFileHeader:\n\u001b[1;32m   1532\u001b[0m     \u001b[38;5;28;01mraise\u001b[39;00m BadZipFile(\u001b[38;5;124m\"\u001b[39m\u001b[38;5;124mTruncated file header\u001b[39m\u001b[38;5;124m\"\u001b[39m)\n\u001b[0;32m-> 1533\u001b[0m fheader \u001b[38;5;241m=\u001b[39m \u001b[43mstruct\u001b[49m\u001b[38;5;241;43m.\u001b[39;49m\u001b[43munpack\u001b[49m\u001b[43m(\u001b[49m\u001b[43mstructFileHeader\u001b[49m\u001b[43m,\u001b[49m\u001b[43m \u001b[49m\u001b[43mfheader\u001b[49m\u001b[43m)\u001b[49m\n\u001b[1;32m   1534\u001b[0m \u001b[38;5;28;01mif\u001b[39;00m fheader[_FH_SIGNATURE] \u001b[38;5;241m!=\u001b[39m stringFileHeader:\n\u001b[1;32m   1535\u001b[0m     \u001b[38;5;28;01mraise\u001b[39;00m BadZipFile(\u001b[38;5;124m\"\u001b[39m\u001b[38;5;124mBad magic number for file header\u001b[39m\u001b[38;5;124m\"\u001b[39m)\n",
      "\u001b[0;31mKeyboardInterrupt\u001b[0m: "
     ]
    }
   ],
   "source": [
    "model.fit(train_loader, regularization_dict, optimizer_type=\"Adam\", n_epochs=20, loss_function=mse_loss, lr=0.01)"
   ]
  },
  {
   "cell_type": "code",
   "execution_count": 336,
   "id": "6b046eb7",
   "metadata": {},
   "outputs": [
    {
     "ename": "SyntaxError",
     "evalue": "unexpected EOF while parsing (1137940781.py, line 4)",
     "output_type": "error",
     "traceback": [
      "\u001b[0;36m  Cell \u001b[0;32mIn [336], line 4\u001b[0;36m\u001b[0m\n\u001b[0;31m    #     print (\"Test error for mse_full is {}\".format(mse_full(pred, )))\u001b[0m\n\u001b[0m                                                                          ^\u001b[0m\n\u001b[0;31mSyntaxError\u001b[0m\u001b[0;31m:\u001b[0m unexpected EOF while parsing\n"
     ]
    }
   ],
   "source": [
    "for x_data, structures in test_loader:\n",
    "#     print(x_data)\n",
    "    pred = model(x_data)\n",
    "#     print (\"Test error for mse_full is {}\".format(mse_full(pred, )))"
   ]
  },
  {
   "cell_type": "code",
   "execution_count": null,
   "id": "d6cdae1d",
   "metadata": {},
   "outputs": [],
   "source": [
    "# aa=[]\n",
    "# bb=[]\n",
    "# for x, y in train_loader:\n",
    "#     aa.append(x)\n",
    "#     bb.append(y)\n",
    "# from itertools import chain\n",
    "# list(chain.from_iterable(bb))==frames[:400]"
   ]
  },
  {
   "cell_type": "code",
   "execution_count": null,
   "id": "b8a45883",
   "metadata": {},
   "outputs": [],
   "source": []
  }
 ],
 "metadata": {
  "kernelspec": {
   "display_name": "Python 3 (ipykernel)",
   "language": "python",
   "name": "python3"
  },
  "language_info": {
   "codemirror_mode": {
    "name": "ipython",
    "version": 3
   },
   "file_extension": ".py",
   "mimetype": "text/x-python",
   "name": "python",
   "nbconvert_exporter": "python",
   "pygments_lexer": "ipython3",
   "version": "3.8.13"
  },
  "toc": {
   "base_numbering": 1,
   "nav_menu": {},
   "number_sections": true,
   "sideBar": true,
   "skip_h1_title": false,
   "title_cell": "Table of Contents",
   "title_sidebar": "Contents",
   "toc_cell": true,
   "toc_position": {
    "height": "529px",
    "left": "10px",
    "top": "150px",
    "width": "165px"
   },
   "toc_section_display": true,
   "toc_window_display": true
  }
 },
 "nbformat": 4,
 "nbformat_minor": 5
}
