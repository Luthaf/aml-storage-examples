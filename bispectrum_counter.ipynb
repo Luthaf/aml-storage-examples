{
 "cells": [
  {
   "cell_type": "markdown",
   "id": "2260f5a1",
   "metadata": {
    "toc": true
   },
   "source": [
    "<h1>Table of Contents<span class=\"tocSkip\"></span></h1>\n",
    "<div class=\"toc\"><ul class=\"toc-item\"><li><span><a href=\"#Bispectrum-counter-example\" data-toc-modified-id=\"Bispectrum-counter-example-1\"><span class=\"toc-item-num\">1&nbsp;&nbsp;</span>Bispectrum counter example</a></span><ul class=\"toc-item\"><li><ul class=\"toc-item\"><li><span><a href=\"#optimize-structures\" data-toc-modified-id=\"optimize-structures-1.0.1\"><span class=\"toc-item-num\">1.0.1&nbsp;&nbsp;</span>optimize structures</a></span></li></ul></li><li><span><a href=\"#Feature-computation\" data-toc-modified-id=\"Feature-computation-1.1\"><span class=\"toc-item-num\">1.1&nbsp;&nbsp;</span>Feature computation</a></span><ul class=\"toc-item\"><li><span><a href=\"#$\\rho_{i}^{\\otimes-3}$\" data-toc-modified-id=\"$\\rho_{i}^{\\otimes-3}$-1.1.1\"><span class=\"toc-item-num\">1.1.1&nbsp;&nbsp;</span>$\\rho_{i}^{\\otimes 3}$</a></span></li><li><span><a href=\"#check-map-between-three-center-and-single-center\" data-toc-modified-id=\"check-map-between-three-center-and-single-center-1.1.2\"><span class=\"toc-item-num\">1.1.2&nbsp;&nbsp;</span>check map between three center and single center</a></span></li><li><span><a href=\"#check-degeneracy-of-$\\rho_{i}^{\\otimes-3}$\" data-toc-modified-id=\"check-degeneracy-of-$\\rho_{i}^{\\otimes-3}$-1.1.3\"><span class=\"toc-item-num\">1.1.3&nbsp;&nbsp;</span>check degeneracy of $\\rho_{i}^{\\otimes 3}$</a></span></li><li><span><a href=\"#artificial-structure\" data-toc-modified-id=\"artificial-structure-1.1.4\"><span class=\"toc-item-num\">1.1.4&nbsp;&nbsp;</span>artificial structure</a></span></li></ul></li><li><span><a href=\"#encoder-decoder\" data-toc-modified-id=\"encoder-decoder-1.2\"><span class=\"toc-item-num\">1.2&nbsp;&nbsp;</span>encoder-decoder</a></span><ul class=\"toc-item\"><li><span><a href=\"#train-different-blocks-separately\" data-toc-modified-id=\"train-different-blocks-separately-1.2.1\"><span class=\"toc-item-num\">1.2.1&nbsp;&nbsp;</span>train different blocks separately</a></span></li><li><span><a href=\"#tensormap-of-reconstructed-features\" data-toc-modified-id=\"tensormap-of-reconstructed-features-1.2.2\"><span class=\"toc-item-num\">1.2.2&nbsp;&nbsp;</span>tensormap of reconstructed features</a></span></li></ul></li><li><span><a href=\"#set-up-NICE-style-feature-computation\" data-toc-modified-id=\"set-up-NICE-style-feature-computation-1.3\"><span class=\"toc-item-num\">1.3&nbsp;&nbsp;</span>set up NICE style feature computation</a></span></li><li><span><a href=\"#encoder-decoder-like-architecture---nope\" data-toc-modified-id=\"encoder-decoder-like-architecture---nope-1.4\"><span class=\"toc-item-num\">1.4&nbsp;&nbsp;</span>encoder-decoder like architecture - nope</a></span><ul class=\"toc-item\"><li><span><a href=\"#$\\rho_{i}^{\\otimes-3}$\" data-toc-modified-id=\"$\\rho_{i}^{\\otimes-3}$-1.4.1\"><span class=\"toc-item-num\">1.4.1&nbsp;&nbsp;</span>$\\rho_{i}^{\\otimes 3}$</a></span></li><li><span><a href=\"#$\\rho_{i-i_1-i_2}^{\\otimes-1}$\" data-toc-modified-id=\"$\\rho_{i-i_1-i_2}^{\\otimes-1}$-1.4.2\"><span class=\"toc-item-num\">1.4.2&nbsp;&nbsp;</span>$\\rho_{i i_1 i_2}^{\\otimes 1}$</a></span></li><li><span><a href=\"#check-degeneracy-of-$\\rho_{i}^{\\otimes-3}$\" data-toc-modified-id=\"check-degeneracy-of-$\\rho_{i}^{\\otimes-3}$-1.4.3\"><span class=\"toc-item-num\">1.4.3&nbsp;&nbsp;</span>check degeneracy of $\\rho_{i}^{\\otimes 3}$</a></span></li></ul></li></ul></li></ul></div>"
   ]
  },
  {
   "cell_type": "markdown",
   "id": "d8cfdeda",
   "metadata": {},
   "source": [
    "# Bispectrum counter example"
   ]
  },
  {
   "cell_type": "code",
   "execution_count": 1,
   "id": "1d043e1a",
   "metadata": {
    "ExecuteTime": {
     "end_time": "2023-01-21T11:31:21.441687Z",
     "start_time": "2023-01-21T11:31:21.425274Z"
    }
   },
   "outputs": [],
   "source": [
    "%load_ext autoreload\n",
    "%autoreload 2 "
   ]
  },
  {
   "cell_type": "code",
   "execution_count": 7,
   "id": "5b660c69",
   "metadata": {
    "ExecuteTime": {
     "end_time": "2023-01-21T11:32:41.559082Z",
     "start_time": "2023-01-21T11:32:41.531035Z"
    }
   },
   "outputs": [],
   "source": [
    "from ase.io import read,write\n",
    "from ase.visualize import view\n",
    "import numpy as np \n",
    "\n",
    "from equistore import Labels, TensorBlock, TensorMap\n",
    "from itertools import product\n",
    "from utils.clebsh_gordan import ClebschGordanReal\n",
    "\n",
    "import matplotlib.pyplot as plt\n",
    "\n",
    "from utils.librascal import  RascalSphericalExpansion, RascalPairExpansion\n",
    "from rascal.representations import SphericalExpansion\n",
    "import copy\n",
    "import ase \n",
    "import tqdm "
   ]
  },
  {
   "cell_type": "code",
   "execution_count": 8,
   "id": "a8aec266",
   "metadata": {
    "ExecuteTime": {
     "end_time": "2023-01-21T11:32:41.818604Z",
     "start_time": "2023-01-21T11:32:41.799762Z"
    }
   },
   "outputs": [],
   "source": [
    "from utils.mp_utils import *"
   ]
  },
  {
   "cell_type": "code",
   "execution_count": 9,
   "id": "347f313a",
   "metadata": {
    "ExecuteTime": {
     "end_time": "2023-01-21T11:32:42.037677Z",
     "start_time": "2023-01-21T11:32:42.018517Z"
    }
   },
   "outputs": [],
   "source": [
    "from generate_bispectrum_structures import generate_nu3_degen_structs, analytical_partial_derivative"
   ]
  },
  {
   "cell_type": "code",
   "execution_count": 4,
   "id": "bd9eb2a8",
   "metadata": {
    "ExecuteTime": {
     "end_time": "2023-01-24T16:45:53.674650Z",
     "start_time": "2023-01-24T16:45:53.650924Z"
    }
   },
   "outputs": [
    {
     "name": "stderr",
     "output_type": "stream",
     "text": [
      "pyscf plugins found in \n",
      "/Users/jigyasa/scratch/pyscf\n",
      "/Users/jigyasa/scratch/./pyscf\n",
      "/Users/jigyasa/miniconda3/lib/python3.8/site-packages/pyscf\n",
      "When PYTHONPATH is set, it is recommended to load these plugins through the environment variable PYSCF_EXT_PATH\n"
     ]
    }
   ],
   "source": [
    "import pyscf\n",
    "from pyscf import gto\n",
    "from pyscf import scf,dft\n",
    "\n",
    "#gto.M default unit being Angstrom\n",
    "def pyscf_rks_calc(frame):\n",
    "    pts = frame.get_positions()\n",
    "    els = frame.get_chemical_symbols()\n",
    "    natoms = len(pts)\n",
    "    atoms = []\n",
    "    for i in range(natoms):\n",
    "        coord = pts[i]\n",
    "        atoms.append([els[i],(coord[0],coord[1],coord[2])])\n",
    "    mol = gto.M(atom=atoms,symmetry = True)\n",
    "    mol.basis = \"ccpvdz\" #\"def2-SVP\" \n",
    "#     mol.basis = {'O': 'ccpvdz', 'H': 'ccpvdz', 'C': 'ccpvdz', 'N':'ccpvdz', 'Ag': 'def2-svp'} \n",
    "    mol.charge=0\n",
    "    mol.spin = 0\n",
    "    mol.build()\n",
    "    m = scf.RKS(mol)\n",
    "#     m = scf.RHF(mol)\n",
    "    m.xc=\"pbe\"\n",
    "    m.max_cycle=600\n",
    "    m.conv_tol=1e-9\n",
    "    m.conv_tol_grad=1e-8\n",
    "    m.diis_space=10\n",
    "#     print(mol.ao_labels())\n",
    "\n",
    "    return m.kernel() \n",
    "\n",
    "def pyscf_rhf_calc(frame):\n",
    "    pts = frame.get_positions()\n",
    "    els = frame.get_chemical_symbols()\n",
    "    natoms = len(pts)\n",
    "    atoms = []\n",
    "    for i in range(natoms):\n",
    "        coord = pts[i]\n",
    "        atoms.append([els[i],(coord[0],coord[1],coord[2])])\n",
    "    mol = gto.M(atom=atoms,symmetry = True)\n",
    "    mol.basis = \"ccpvdz\" #\"def2-SVP\" \n",
    "#     mol.basis = {'O': 'ccpvdz', 'H': 'ccpvdz', 'C': 'ccpvdz', 'N':'ccpvdz', 'Ag': 'def2-svp'} \n",
    "    mol.charge=0\n",
    "    mol.spin = 0\n",
    "    mol.build()\n",
    "#     m = scf.RKS(mol)\n",
    "    m = scf.RHF(mol)\n",
    "#     m.xc=\"pbe\"\n",
    "    m.max_cycle=500\n",
    "    m.conv_tol=1e-9\n",
    "#     m.conv_tol_grad=1e-8\n",
    "    m.diis_space=10\n",
    "#     print(mol.ao_labels())\n",
    "\n",
    "    return m.kernel() \n",
    "\n",
    "from pyscf.pbc.tools.pyscf_ase import atoms_from_ase\n",
    "def dftblock(frames, start, end, basis='ccpvdz', xc='pbe'):\n",
    "#     frames = read(prefix+\".xyz\", \"%d:%d\" % (start,end))\n",
    "    idx_nconv=[]\n",
    "    for i, f in enumerate(tqdm.tqdm(frames[start:end])):\n",
    "        if \"label\" in f.info:\n",
    "            label = f.info[\"label\"]\n",
    "        else:\n",
    "            label = str(start+i)    \n",
    "        f.info = {}\n",
    "        mol = pyscf.gto.M(atom = atoms_from_ase(f), basis = basis)\n",
    "        rks = pyscf.dft.RKS(mol)\n",
    "        rks = pyscf.scf.addons.smearing_(rks, sigma=.01, method='fermi')\n",
    "        rks.xc = xc  \n",
    "        rks.grids.level = 5 \n",
    "        rks.verbose = 3 \n",
    "        rks.init_guess = 'minao'\n",
    "        rks.scf(print=True) \n",
    "        try:\n",
    "            assert rks.converged==True\n",
    "            print(\"converged\")\n",
    "        except: \n",
    "            print(i)\n",
    "            idx_nconv.append(start+i)\n",
    "        dft = rks.e_free # energy_tot()\n",
    "        ddft = rks.nuc_grad_method().grad()\n",
    "        f.info[\"energy_ha\"] = dft \n",
    "        f.arrays[\"gradient_habohr\"] = ddft\n",
    "        f.info[\"label\"] = label\n",
    "        f.info[\"basis\"] = basis\n",
    "        f.info[\"xc\"] = xc\n",
    "    return frames, idx_nconv"
   ]
  },
  {
   "cell_type": "code",
   "execution_count": 11,
   "id": "524f9360",
   "metadata": {
    "ExecuteTime": {
     "end_time": "2023-01-21T11:33:58.003337Z",
     "start_time": "2023-01-21T11:33:57.913930Z"
    }
   },
   "outputs": [
    {
     "name": "stderr",
     "output_type": "stream",
     "text": [
      "/scratch/nigam/anaconda3/envs/py3.7/lib/python3.8/site-packages/pyscf/lib/misc.py:46: H5pyDeprecationWarning: Using default_file_mode other than 'r' is deprecated. Pass the mode to h5py.File() instead.\n",
      "  h5py.get_config().default_file_mode = 'a'\n"
     ]
    }
   ],
   "source": [
    "import pyscf\n",
    "from pyscf import gto\n",
    "from pyscf import scf,dft\n",
    "\n",
    "def pyscf_rks_calc(frame):\n",
    "    pts = frame.get_positions()\n",
    "    els = frame.get_chemical_symbols()\n",
    "    natoms = len(pts)\n",
    "    atoms = []\n",
    "    for i in range(natoms):\n",
    "        coord = pts[i]\n",
    "        atoms.append([els[i],(coord[0],coord[1],coord[2])])\n",
    "    mol = gto.M(atom=atoms,symmetry = True)\n",
    "    mol.basis = \"ccpvdz\" #\"def2-SVP\" \n",
    "#     mol.basis = {'O': 'ccpvdz', 'H': 'ccpvdz', 'C': 'ccpvdz', 'N':'ccpvdz', 'Ag': 'def2-svp'} \n",
    "    mol.charge=0\n",
    "    mol.spin = 0\n",
    "    mol.build()\n",
    "    m = scf.RKS(mol)\n",
    "#     m = scf.RHF(mol)\n",
    "    m.xc=\"pbe\"\n",
    "    m.max_cycle=600\n",
    "    m.conv_tol=1e-9\n",
    "    m.conv_tol_grad=1e-8\n",
    "    m.diis_space=10\n",
    "#     print(mol.ao_labels())\n",
    "\n",
    "    return m.kernel() \n",
    "\n",
    "def pyscf_rhf_calc(frame):\n",
    "    pts = frame.get_positions()\n",
    "    els = frame.get_chemical_symbols()\n",
    "    natoms = len(pts)\n",
    "    atoms = []\n",
    "    for i in range(natoms):\n",
    "        coord = pts[i]\n",
    "        atoms.append([els[i],(coord[0],coord[1],coord[2])])\n",
    "    mol = gto.M(atom=atoms,symmetry = True)\n",
    "    mol.basis = \"ccpvdz\" #\"def2-SVP\" \n",
    "#     mol.basis = {'O': 'ccpvdz', 'H': 'ccpvdz', 'C': 'ccpvdz', 'N':'ccpvdz', 'Ag': 'def2-svp'} \n",
    "    mol.charge=0\n",
    "    mol.spin = 0\n",
    "    mol.build()\n",
    "#     m = scf.RKS(mol)\n",
    "    m = scf.RHF(mol)\n",
    "#     m.xc=\"pbe\"\n",
    "    m.max_cycle=500\n",
    "    m.conv_tol=1e-9\n",
    "#     m.conv_tol_grad=1e-8\n",
    "    m.diis_space=10\n",
    "#     print(mol.ao_labels())\n",
    "\n",
    "    return m.kernel() "
   ]
  },
  {
   "cell_type": "code",
   "execution_count": 14,
   "id": "d02a5ac8",
   "metadata": {
    "ExecuteTime": {
     "end_time": "2023-01-21T11:34:40.921605Z",
     "start_time": "2023-01-21T11:34:40.905728Z"
    }
   },
   "outputs": [],
   "source": [
    "# Advice on choosing the basis sets for different calculations \n",
    "\n",
    "#https://sites.google.com/site/orcainputlibrary/basis-sets?pli=1"
   ]
  },
  {
   "cell_type": "code",
   "execution_count": 7,
   "id": "0fcb293e",
   "metadata": {
    "ExecuteTime": {
     "end_time": "2023-01-24T16:36:47.809683Z",
     "start_time": "2023-01-24T16:36:40.230479Z"
    }
   },
   "outputs": [
    {
     "name": "stderr",
     "output_type": "stream",
     "text": [
      "100%|███████████████████████████████████████████████████████████████████████████████████████████████████████████████████████████████████| 1000/1000 [00:05<00:00, 191.28it/s]\n"
     ]
    }
   ],
   "source": [
    "np.random.seed(12345)\n",
    "ngen = 1000\n",
    "frames = []\n",
    "for f in tqdm.tqdm(range(ngen)):\n",
    "#     print(i)\n",
    "    for i in range(4000):\n",
    "        r = np.random.uniform(0.5,2)\n",
    "        z1 = np.random.uniform(0.5,2)\n",
    "        z2 = np.random.uniform(1.5,1.8)\n",
    "        psi = np.random.uniform(0,np.pi)\n",
    "        phi1 = np.random.uniform(np.pi/6, np.pi)\n",
    "        phi2 = np.random.uniform(np.pi/6, np.pi)\n",
    "        fr = generate_nu3_degen_structs(r, [0, phi1, phi1+phi2], \n",
    "                                   psi, z1, z2, \"B\", \"B\", \"B\")\n",
    "        dist = fr[0].get_all_distances()\n",
    "        if dist[0,1:].min()>1.5 and dist[0,1:].max()<1.8 and dist[np.triu_indices(len(dist),1)].flatten().min()>1.2:\n",
    "            fr[0].info[\"pars\"] = str((f, \"+\")+(r, z1, z2, psi, phi1, phi2))\n",
    "            fr[1].info[\"pars\"] = str((f, \"-\")+(r, z1, z2, psi, phi1, phi2))\n",
    "#             print(i)\n",
    "            break\n",
    "    if (i>3990):\n",
    "        print(\"oops!\")\n",
    "    frames += fr"
   ]
  },
  {
   "cell_type": "code",
   "execution_count": null,
   "id": "0dc21c67",
   "metadata": {
    "ExecuteTime": {
     "start_time": "2023-01-24T16:45:56.878Z"
    },
    "scrolled": true
   },
   "outputs": [
    {
     "name": "stderr",
     "output_type": "stream",
     "text": [
      "\r",
      "  0%|                                                                                          | 0/4000 [00:00<?, ?it/s]"
     ]
    },
    {
     "name": "stdout",
     "output_type": "stream",
     "text": [
      "converged SCF energy = -197.783716100935\n",
      "converged\n",
      "--------------- RKS gradients ---------------\n",
      "         x                y                z\n",
      "0 B     0.0497713870    -0.0461787860     0.0479342187\n",
      "1 B    -0.0798080939     0.1003805258    -0.2079702769\n",
      "2 B     0.1169919658     0.0900814024    -0.3259787067\n",
      "3 B     0.1280291256     0.0589133385    -0.2539272829\n",
      "4 B    -0.0749616261    -0.1447615299     0.2942151973\n",
      "5 B    -0.1430563662     0.0505071919     0.2155812910\n",
      "6 B     0.0013580838    -0.1182632336     0.1902667050\n",
      "7 B     0.0016745295     0.0093209641     0.0398785948\n",
      "----------------------------------------------\n"
     ]
    },
    {
     "name": "stderr",
     "output_type": "stream",
     "text": [
      "\r",
      "  0%|                                                                               | 1/4000 [00:28<32:06:23, 28.90s/it]"
     ]
    },
    {
     "name": "stdout",
     "output_type": "stream",
     "text": [
      "converged SCF energy = -197.783482709666\n",
      "converged\n",
      "--------------- RKS gradients ---------------\n",
      "         x                y                z\n",
      "0 B     0.0625976524    -0.0294848959    -0.0469110138\n",
      "1 B    -0.0830730338     0.1129955667    -0.1725864386\n",
      "2 B     0.1239634930     0.1036300094    -0.2934280323\n",
      "3 B     0.1221478201     0.0284010864    -0.2343122852\n",
      "4 B    -0.0615192577    -0.1345194398     0.3239845306\n",
      "5 B    -0.1286409846     0.0508534005     0.2532857458\n",
      "6 B    -0.0260913780    -0.1280346519     0.2096322546\n",
      "7 B    -0.0093853988    -0.0038412702    -0.0396649214\n",
      "----------------------------------------------\n"
     ]
    },
    {
     "name": "stderr",
     "output_type": "stream",
     "text": [
      "\r",
      "  0%|                                                                               | 2/4000 [00:56<31:14:12, 28.13s/it]"
     ]
    },
    {
     "name": "stdout",
     "output_type": "stream",
     "text": [
      "converged SCF energy = -197.757148605718\n",
      "converged\n",
      "--------------- RKS gradients ---------------\n",
      "         x                y                z\n",
      "0 B     0.0201288366     0.0041511126     0.0453385907\n",
      "1 B    -0.1731462271    -0.4568425709    -0.0313108042\n",
      "2 B    -0.0285567748     0.0379965521    -0.0031389038\n",
      "3 B     0.1903790453     0.4085725973    -0.0164188670\n",
      "4 B     0.0407425129    -0.4159126539    -0.0083924099\n",
      "5 B    -0.0042235507    -0.0195374300    -0.0304189729\n",
      "6 B    -0.0504505972     0.4384531364     0.0247661758\n",
      "7 B     0.0051269498     0.0031187871     0.0195751546\n",
      "----------------------------------------------\n"
     ]
    },
    {
     "name": "stderr",
     "output_type": "stream",
     "text": [
      "\r",
      "  0%|                                                                               | 3/4000 [01:23<30:42:50, 27.66s/it]"
     ]
    },
    {
     "name": "stdout",
     "output_type": "stream",
     "text": [
      "converged SCF energy = -197.749945517103\n",
      "converged\n",
      "--------------- RKS gradients ---------------\n",
      "         x                y                z\n",
      "0 B     0.0185992547     0.0062690959    -0.0457535635\n",
      "1 B    -0.1694314682    -0.4133759941    -0.0268982906\n",
      "2 B     0.0107582621     0.0148868780     0.0291824669\n",
      "3 B     0.1493915842     0.3912378389     0.0082120883\n",
      "4 B     0.0611956404    -0.4528419429     0.0060118723\n",
      "5 B    -0.0476937867    -0.0140240564     0.0053328117\n",
      "6 B    -0.0332207031     0.4809892656     0.0407776942\n",
      "7 B     0.0104015063    -0.0131417311    -0.0168642260\n",
      "----------------------------------------------\n"
     ]
    },
    {
     "name": "stderr",
     "output_type": "stream",
     "text": [
      "\r",
      "  0%|                                                                               | 4/4000 [01:52<31:20:05, 28.23s/it]"
     ]
    },
    {
     "name": "stdout",
     "output_type": "stream",
     "text": [
      "converged SCF energy = -197.945789148851\n",
      "converged\n",
      "--------------- RKS gradients ---------------\n",
      "         x                y                z\n",
      "0 B     0.0419363107     0.0131904103     0.1047948715\n",
      "1 B    -0.0868477484     0.0475211344    -0.1356871935\n",
      "2 B     0.0117872205    -0.0257818840    -0.0396591448\n",
      "3 B     0.0269615671     0.0634698639    -0.0071926611\n",
      "4 B     0.0092614979    -0.0395480716     0.0279919332\n",
      "5 B     0.0062938651     0.0444936275    -0.0085771341\n",
      "6 B    -0.0307280867    -0.0932766291     0.1266767749\n",
      "7 B     0.0213352940    -0.0100685343    -0.0683478949\n",
      "----------------------------------------------\n"
     ]
    },
    {
     "name": "stderr",
     "output_type": "stream",
     "text": [
      "\r",
      "  0%|                                                                               | 5/4000 [02:19<30:34:38, 27.55s/it]"
     ]
    },
    {
     "name": "stdout",
     "output_type": "stream",
     "text": [
      "converged SCF energy = -197.935173833674\n",
      "converged\n",
      "--------------- RKS gradients ---------------\n",
      "         x                y                z\n",
      "0 B     0.0371676128     0.0440178394    -0.1135379651\n",
      "1 B    -0.0631598467     0.0634159948    -0.1282920439\n",
      "2 B     0.0384334012    -0.0368950890    -0.0115569023\n",
      "3 B     0.0204981063     0.0334388240    -0.0003155691\n",
      "4 B     0.0312291473    -0.0833613202     0.0178359697\n",
      "5 B    -0.0227440943     0.0242580567     0.0144885624\n",
      "6 B    -0.0566081029    -0.0614123606     0.1478652609\n",
      "7 B     0.0151834392     0.0165381372     0.0735126469\n",
      "----------------------------------------------\n"
     ]
    },
    {
     "name": "stderr",
     "output_type": "stream",
     "text": [
      "\r",
      "  0%|                                                                               | 6/4000 [02:46<30:40:29, 27.65s/it]"
     ]
    },
    {
     "name": "stdout",
     "output_type": "stream",
     "text": [
      "converged SCF energy = -197.820327280444\n",
      "converged\n",
      "--------------- RKS gradients ---------------\n",
      "         x                y                z\n",
      "0 B    -0.1073741475     0.1085131331     0.0386049885\n",
      "1 B    -0.0174267154    -0.0051776187    -0.0546014873\n",
      "2 B    -0.1571550639    -0.2325387289    -0.1315686750\n",
      "3 B     0.2321246532     0.1357873648    -0.0440657276\n",
      "4 B     0.0018844818    -0.0563312357     0.1197814225\n",
      "5 B     0.1981300938    -0.1322597319     0.0355763109\n",
      "6 B    -0.1347219381     0.1834877309     0.0217458909\n",
      "7 B    -0.0154614353    -0.0014809833     0.0145285570\n",
      "----------------------------------------------\n"
     ]
    },
    {
     "name": "stderr",
     "output_type": "stream",
     "text": [
      "\r",
      "  0%|▏                                                                              | 7/4000 [03:14<30:29:42, 27.49s/it]"
     ]
    },
    {
     "name": "stdout",
     "output_type": "stream",
     "text": [
      "converged SCF energy = -197.841408144486\n",
      "converged\n",
      "--------------- RKS gradients ---------------\n",
      "         x                y                z\n",
      "0 B    -0.1157783017     0.0993986139    -0.0228764876\n",
      "1 B    -0.0365986029    -0.0026903185    -0.0214547432\n",
      "2 B    -0.1288899282    -0.1947020891    -0.1325870570\n",
      "3 B     0.2220302596     0.0943445095    -0.0164087495\n",
      "4 B    -0.0172382070    -0.0432487546     0.1561238081\n",
      "5 B     0.2332727765    -0.1167575329     0.0066404613\n",
      "6 B    -0.1575075648     0.1826499301     0.0629868860\n",
      "7 B     0.0007098621    -0.0189947410    -0.0324230569\n",
      "----------------------------------------------\n"
     ]
    },
    {
     "name": "stderr",
     "output_type": "stream",
     "text": [
      "\r",
      "  0%|▏                                                                              | 8/4000 [03:38<29:28:04, 26.57s/it]"
     ]
    },
    {
     "name": "stdout",
     "output_type": "stream",
     "text": [
      "converged SCF energy = -198.025606427322\n",
      "converged\n",
      "--------------- RKS gradients ---------------\n",
      "         x                y                z\n",
      "0 B    -0.0243417431     0.0771375936     0.0391985769\n",
      "1 B     0.0493342277    -0.0085648813    -0.0122039670\n",
      "2 B    -0.0040449153    -0.0185981515     0.0430002141\n",
      "3 B    -0.0211136384     0.0060764551    -0.0022797094\n",
      "4 B     0.0200286654    -0.0076077300    -0.0476598155\n",
      "5 B    -0.0200740656     0.0209245515    -0.0082920727\n",
      "6 B    -0.0003866039    -0.0531122788    -0.0062367502\n",
      "7 B     0.0005980309    -0.0162551384    -0.0055265768\n",
      "----------------------------------------------\n"
     ]
    },
    {
     "name": "stderr",
     "output_type": "stream",
     "text": [
      "\r",
      "  0%|▏                                                                              | 9/4000 [04:02<28:27:25, 25.67s/it]"
     ]
    },
    {
     "name": "stdout",
     "output_type": "stream",
     "text": [
      "converged SCF energy = -198.026925669112\n",
      "converged\n",
      "--------------- RKS gradients ---------------\n",
      "         x                y                z\n",
      "0 B    -0.0401905594     0.0713312249    -0.0412507759\n",
      "1 B     0.0351485291    -0.0301804446     0.0052610220\n",
      "2 B     0.0092262490     0.0255862852     0.0133705887\n",
      "3 B    -0.0154490697    -0.0214904998     0.0450312841\n",
      "4 B     0.0020357569     0.0127975479    -0.0030561879\n",
      "5 B     0.0206844215     0.0003052025    -0.0368901477\n",
      "6 B    -0.0264963007    -0.0505425964     0.0102647107\n",
      "7 B     0.0150410501    -0.0078066059     0.0072693082\n",
      "----------------------------------------------\n"
     ]
    },
    {
     "name": "stderr",
     "output_type": "stream",
     "text": [
      "\r",
      "  0%|▏                                                                             | 10/4000 [04:31<29:29:41, 26.61s/it]"
     ]
    },
    {
     "name": "stdout",
     "output_type": "stream",
     "text": [
      "converged SCF energy = -197.731822872793\n",
      "converged\n",
      "--------------- RKS gradients ---------------\n",
      "         x                y                z\n",
      "0 B    -0.0514984029     0.0526625217     0.0986532827\n",
      "1 B    -0.1959077802    -0.0074935773     0.0501024508\n",
      "2 B    -0.0929802289    -0.2920154529     0.1137804610\n",
      "3 B     0.2559172185    -0.0744848295     0.0705760754\n",
      "4 B     0.0267050191    -0.0186777880    -0.0208368453\n",
      "5 B     0.0595390964    -0.0626434559     0.0111308929\n",
      "6 B    -0.0512055821     0.0496401380    -0.0003478754\n",
      "7 B     0.0494305002     0.3530121954    -0.3230575908\n",
      "----------------------------------------------\n"
     ]
    },
    {
     "name": "stderr",
     "output_type": "stream",
     "text": [
      "\r",
      "  0%|▏                                                                             | 11/4000 [04:59<30:00:35, 27.08s/it]"
     ]
    },
    {
     "name": "stdout",
     "output_type": "stream",
     "text": [
      "converged SCF energy = -197.734592631766\n",
      "converged\n",
      "--------------- RKS gradients ---------------\n",
      "         x                y                z\n",
      "0 B    -0.0483716905     0.0482009160    -0.0986092869\n",
      "1 B    -0.0003056367    -0.0129979708    -0.0028724651\n",
      "2 B    -0.0677339198    -0.0352758149    -0.0105050363\n",
      "3 B     0.0896803668     0.0089427171     0.0263824986\n",
      "4 B     0.0888670911    -0.2109345802    -0.0820468197\n",
      "5 B     0.3028305225     0.0304330842    -0.1018265067\n",
      "6 B    -0.0231923155     0.2368621016    -0.0444064750\n",
      "7 B    -0.3417737448    -0.0652312424     0.3138831180\n",
      "----------------------------------------------\n"
     ]
    },
    {
     "name": "stderr",
     "output_type": "stream",
     "text": [
      "\r",
      "  0%|▏                                                                             | 12/4000 [05:27<30:33:27, 27.58s/it]"
     ]
    },
    {
     "name": "stdout",
     "output_type": "stream",
     "text": [
      "converged SCF energy = -197.972750802791\n",
      "converged\n",
      "--------------- RKS gradients ---------------\n",
      "         x                y                z\n",
      "0 B     0.0142078862    -0.0006283636     0.1156421264\n",
      "1 B    -0.0290912849    -0.0033515630     0.0038886185\n",
      "2 B     0.0087237402    -0.0242584955     0.0095929294\n",
      "3 B     0.0143979359     0.0218991249     0.0125856988\n",
      "4 B    -0.0132024902     0.0115838574    -0.0021426679\n",
      "5 B    -0.0047071427     0.0038625967    -0.0042789219\n",
      "6 B     0.0091053816    -0.0120287827     0.0047387360\n",
      "7 B     0.0005661440     0.0029216737    -0.1400268931\n",
      "----------------------------------------------\n"
     ]
    },
    {
     "name": "stderr",
     "output_type": "stream",
     "text": [
      "\r",
      "  0%|▎                                                                             | 13/4000 [05:53<29:42:35, 26.83s/it]"
     ]
    },
    {
     "name": "stdout",
     "output_type": "stream",
     "text": [
      "converged SCF energy = -197.972751214481\n",
      "converged\n",
      "--------------- RKS gradients ---------------\n",
      "         x                y                z\n",
      "0 B     0.0140829797     0.0019720651    -0.1156417459\n",
      "1 B     0.0079073949     0.0128499580    -0.0047368592\n",
      "2 B    -0.0043139401    -0.0042921209     0.0042885475\n",
      "3 B    -0.0120367823    -0.0127953877     0.0021314603\n",
      "4 B     0.0164297037    -0.0204153455    -0.0125943326\n",
      "5 B     0.0063688465     0.0249822212    -0.0095822724\n",
      "6 B    -0.0292793628     0.0005518918    -0.0038911905\n",
      "7 B     0.0008413037    -0.0028533738     0.1400266973\n",
      "----------------------------------------------\n"
     ]
    },
    {
     "name": "stderr",
     "output_type": "stream",
     "text": [
      "\r",
      "  0%|▎                                                                             | 14/4000 [06:18<29:18:36, 26.47s/it]"
     ]
    },
    {
     "name": "stdout",
     "output_type": "stream",
     "text": [
      "converged SCF energy = -197.849134960709\n",
      "converged\n",
      "--------------- RKS gradients ---------------\n",
      "         x                y                z\n",
      "0 B     0.0285238878    -0.0074628437     0.0451719179\n",
      "1 B    -0.0764550789    -0.0101771021     0.0514757679\n",
      "2 B     0.0585850130    -0.0169313903     0.0732860744\n",
      "3 B     0.0206949673     0.0776997587     0.0674891385\n",
      "4 B    -0.0192677918     0.0033089024    -0.0354192948\n",
      "5 B    -0.0095262552    -0.0366350364    -0.0308851923\n",
      "6 B     0.0351273186     0.0514175344    -0.0202740968\n",
      "7 B    -0.0376827033    -0.0612193562    -0.1508444062\n",
      "----------------------------------------------\n"
     ]
    },
    {
     "name": "stderr",
     "output_type": "stream",
     "text": [
      "\r",
      "  0%|▎                                                                             | 15/4000 [06:48<30:17:20, 27.36s/it]"
     ]
    },
    {
     "name": "stdout",
     "output_type": "stream",
     "text": [
      "converged SCF energy = -197.851144529296\n",
      "converged\n",
      "--------------- RKS gradients ---------------\n",
      "         x                y                z\n",
      "0 B     0.0157959099    -0.0213443493    -0.0448014262\n",
      "1 B     0.0178953254     0.0118984379     0.0395575558\n",
      "2 B    -0.0268142480     0.0297400571     0.0432681070\n",
      "3 B    -0.0180940878    -0.0517759308     0.0081717860\n",
      "4 B     0.0578938816    -0.0381271962    -0.0669000228\n",
      "5 B    -0.0310799141     0.0661536480    -0.0432611646\n",
      "6 B    -0.0801222324    -0.0166142831    -0.0887556414\n",
      "7 B     0.0645245697     0.0200696005     0.1527203507\n",
      "----------------------------------------------\n"
     ]
    },
    {
     "name": "stderr",
     "output_type": "stream",
     "text": [
      "\r",
      "  0%|▎                                                                             | 16/4000 [07:18<31:12:14, 28.20s/it]"
     ]
    },
    {
     "name": "stdout",
     "output_type": "stream",
     "text": [
      "converged SCF energy = -197.871230555705\n",
      "converged\n",
      "--------------- RKS gradients ---------------\n",
      "         x                y                z\n",
      "0 B    -0.0338384760     0.0062506420     0.1353545917\n",
      "1 B     0.0333704842    -0.0158288618     0.0222768237\n",
      "2 B     0.0079979612     0.0235555374     0.0244280225\n",
      "3 B    -0.0203642516    -0.0092121376     0.0294017295\n",
      "4 B     0.0129033782     0.0281624447    -0.0371143720\n",
      "5 B    -0.0304077685     0.0007699083    -0.0441839758\n",
      "6 B     0.0282794929    -0.0293387008    -0.0285308660\n",
      "7 B     0.0020585797    -0.0043588791    -0.1016305930\n",
      "----------------------------------------------\n"
     ]
    },
    {
     "name": "stderr",
     "output_type": "stream",
     "text": [
      "\r",
      "  0%|▎                                                                             | 17/4000 [07:49<32:05:10, 29.00s/it]"
     ]
    },
    {
     "name": "stdout",
     "output_type": "stream",
     "text": [
      "converged SCF energy = -197.871507701584\n",
      "converged\n",
      "--------------- RKS gradients ---------------\n",
      "         x                y                z\n",
      "0 B    -0.0326876611     0.0077804935    -0.1365048368\n",
      "1 B     0.0282509411    -0.0181773208     0.0311457757\n",
      "2 B     0.0081010587     0.0365306043     0.0345973497\n",
      "3 B    -0.0239795048    -0.0231026673     0.0449080410\n",
      "4 B     0.0111408904     0.0300278907    -0.0245199773\n",
      "5 B    -0.0153172402    -0.0087005411    -0.0305633374\n",
      "6 B     0.0193306047    -0.0267535518    -0.0204694247\n",
      "7 B     0.0051610129     0.0023954790     0.1014066377\n",
      "----------------------------------------------\n"
     ]
    },
    {
     "name": "stderr",
     "output_type": "stream",
     "text": [
      "\r",
      "  0%|▎                                                                             | 18/4000 [08:17<31:44:32, 28.70s/it]"
     ]
    },
    {
     "name": "stdout",
     "output_type": "stream",
     "text": [
      "converged SCF energy = -197.825089223645\n",
      "converged\n"
     ]
    }
   ],
   "source": [
    "# dft_frames = dftblock(frames, 0, 4000, basis='ccpvdz', xc='pbe')"
   ]
  },
  {
   "cell_type": "markdown",
   "id": "86dab0c6",
   "metadata": {
    "ExecuteTime": {
     "end_time": "2023-01-21T18:01:17.115283Z",
     "start_time": "2023-01-21T18:01:17.080517Z"
    }
   },
   "source": [
    "### optimize structures "
   ]
  },
  {
   "cell_type": "code",
   "execution_count": 55,
   "id": "ed6baf06",
   "metadata": {
    "ExecuteTime": {
     "end_time": "2023-01-21T18:01:48.955770Z",
     "start_time": "2023-01-21T18:01:48.927175Z"
    }
   },
   "outputs": [],
   "source": [
    "def get_params(frame):\n",
    "    parameters = []\n",
    "    for x in frame.info[\"pars\"].split()[2:]:\n",
    "        parameters.append(float(x[:-1]))\n",
    "    return parameters"
   ]
  },
  {
   "cell_type": "code",
   "execution_count": 2,
   "id": "16ccd716",
   "metadata": {
    "ExecuteTime": {
     "end_time": "2023-01-25T20:00:01.627566Z",
     "start_time": "2023-01-25T20:00:01.614641Z"
    }
   },
   "outputs": [],
   "source": [
    "delta_r = np.linspace(-0.5, 0.5, 10)\n",
    "\n",
    "f = frames[0].copy()\n",
    "for dr in delta_r: \n",
    "    r, z1, z2, psi, phi1, phi2 = get_params(f)\n",
    "    par = [r+dr, [0,phi1, phi2], psi, z1, z2, 'B','B','B' ]\n",
    "    fr = generate_nu3_degen_structs(r+dr, [0, phi1, phi1+phi2], \n",
    "                                   psi, z1, z2, \"B\", \"B\", \"B\")\n",
    "    en_plus = pyscf_rhf_calc(fr[0])\n",
    "    en_minus = pyscf_rhf_calc(fr[1])\n",
    "    delta_e = abs(en_plus - en_minus)\n",
    "    print(delta_e)\n",
    "    der = analytical_partial_derivative(par, diff_param= 'r' )[0]\n",
    "    \n",
    "#     print(der)"
   ]
  },
  {
   "cell_type": "markdown",
   "id": "e3564e52",
   "metadata": {},
   "source": [
    "## Feature computation"
   ]
  },
  {
   "cell_type": "code",
   "execution_count": 8,
   "id": "684c3140",
   "metadata": {},
   "outputs": [],
   "source": [
    "from rascaline import SphericalExpansion\n",
    "from rascaline import SphericalExpansionByPair as PairExpansion\n",
    "from equistore import operations"
   ]
  },
  {
   "cell_type": "code",
   "execution_count": 9,
   "id": "aca550ee",
   "metadata": {},
   "outputs": [],
   "source": [
    "def simplify_gij(gij):\n",
    "    keys = list(gij.keys.dtype.names)\n",
    "    if \"species_atom_1\" in keys: \n",
    "        keys[keys.index('species_atom_1')] = \"species_center\"\n",
    "    if \"species_atom_2\" in keys: \n",
    "        keys[keys.index('species_atom_2')] = \"species_neighbor\"\n",
    "    newkeys = Labels(keys, gij.keys.asarray())\n",
    "    block_list = []\n",
    "    for k,b in gij: \n",
    "        block = TensorBlock(\n",
    "        values = b.values, \n",
    "        components = b.components, \n",
    "        properties = b.properties,\n",
    "        samples = Labels([\"structure\", \"center\", \"neighbor\"] , np.asarray(b.samples.tolist())[:,[0,2,3]])\n",
    "        )\n",
    "        block_list.append(block)\n",
    "    \n",
    "    return TensorMap(newkeys, block_list)"
   ]
  },
  {
   "cell_type": "code",
   "execution_count": 10,
   "id": "bf48ad8e",
   "metadata": {},
   "outputs": [],
   "source": [
    "hypers = {\n",
    "    \"cutoff\": 3.5,\n",
    "    \"max_radial\": 4,\n",
    "    \"max_angular\": 3,\n",
    "    \"atomic_gaussian_width\": 0.2,\n",
    "    \"radial_basis\": {\"Gto\": {}},\n",
    "    \"cutoff_function\": {\"ShiftedCosine\": {\"width\": 0.1}},\n",
    "    \"center_atom_weight\": 0.0,    \n",
    "}\n",
    "cg = ClebschGordanReal(5)\n",
    "\n",
    "calculator = SphericalExpansion(**hypers)\n",
    "rhoi = calculator.compute(frames)\n",
    "rhoi = rhoi.keys_to_properties(['species_neighbor'])\n",
    "rho1i = acdc_standardize_keys(rhoi)\n",
    "    \n",
    "\n",
    "\n",
    "# selects only one environment\n",
    "rho1i = operations.slice(rho1i, samples=Labels(['center'],np.array([[0]], np.int32)) )\n",
    "# norm_rho1 = np.sqrt(np.sum([(b.values**2).sum(axis=(1,2)) for b in rho1i.blocks()],axis=0).mean())\n",
    "# for b in rho1i.blocks():\n",
    "#     b.values[:]/=norm_rho1\n",
    "    \n",
    "\n",
    "calculator = PairExpansion(**hypers)\n",
    "gij = calculator.compute(frames)\n",
    "gij = operations.slice(gij, samples=Labels(['first_atom'],np.array([[0]], np.int32)) )\n",
    "gij =  acdc_standardize_keys(gij)\n",
    "# for b in gij.blocks():\n",
    "#     b.values[:]/=norm_rho1\n",
    "gij = simplify_gij(gij)"
   ]
  },
  {
   "cell_type": "code",
   "execution_count": 11,
   "id": "230c868c",
   "metadata": {},
   "outputs": [
    {
     "data": {
      "text/plain": [
       "0.0"
      ]
     },
     "execution_count": 11,
     "metadata": {},
     "output_type": "execute_result"
    }
   ],
   "source": [
    "test = operations.sum_over_samples(gij, samples_names=[\"neighbor\"]) \n",
    "\n",
    "np.linalg.norm(rho1i.block(0).values/test.block(0).values -1)"
   ]
  },
  {
   "cell_type": "markdown",
   "id": "800e2c69",
   "metadata": {
    "heading_collapsed": true
   },
   "source": [
    "### $\\rho_{i}^{\\otimes 3}$"
   ]
  },
  {
   "cell_type": "code",
   "execution_count": 14,
   "id": "22dfcdc2",
   "metadata": {
    "hidden": true
   },
   "outputs": [],
   "source": [
    "rho2i = cg_increment(rho1i, rho1i, clebsch_gordan=cg, lcut=3, other_keys_match=[\"species_center\"])\n",
    "rho3i = cg_increment(rho2i, rho1i, clebsch_gordan=cg, lcut=0, other_keys_match=[\"species_center\"])\n",
    "# rho4i = cg_increment(rho3i, rho1i, clebsch_gordan=cg, lcut=3, other_keys_match=[\"species_center\"])\n",
    "# rho5i = cg_increment(rho4i, rho1i, clebsch_gordan=cg, lcut=0, other_keys_match=[\"species_center\"])"
   ]
  },
  {
   "cell_type": "code",
   "execution_count": 395,
   "id": "bed02e29",
   "metadata": {
    "hidden": true
   },
   "outputs": [
    {
     "name": "stdout",
     "output_type": "stream",
     "text": [
      "(2, 1, 0, 5) 0.0\n",
      "(2, 1, 1, 5) 0.0\n",
      "(2, 1, 2, 5) 0.0\n",
      "(2, 1, 3, 5) 0.0\n",
      "(2, -1, 1, 5) 0.0\n",
      "(2, -1, 2, 5) 0.0\n",
      "(2, -1, 3, 5) 0.0\n"
     ]
    }
   ],
   "source": [
    "xx =  cg_increment(rho1i, rho1i, clebsch_gordan=cg, lcut=3, other_keys_match=[\"species_center\"])\n",
    "for k, b in rho2i: \n",
    "    nu, s, l, spa = k\n",
    "    idx = xx.blocks_matching(inversion_sigma=s, spherical_harmonics_l=l)[0]\n",
    "    xblock = xx.block(idx)\n",
    "    print(k, np.linalg.norm(b.values-xblock.values))"
   ]
  },
  {
   "cell_type": "code",
   "execution_count": 12,
   "id": "e3954f86",
   "metadata": {
    "hidden": true
   },
   "outputs": [],
   "source": [
    "rhoii1i2_nu0 = cg_combine(gij, gij, clebsch_gordan=cg, other_keys_match=['species_center'], lcut=3)\n",
    "rhoii1i2_nu1 =  cg_combine(rho1i, rhoii1i2_nu0, clebsch_gordan=cg, other_keys_match = ['species_center'], lcut=0)"
   ]
  },
  {
   "cell_type": "markdown",
   "id": "b4479a67",
   "metadata": {
    "heading_collapsed": true
   },
   "source": [
    "### check map between three center and single center "
   ]
  },
  {
   "cell_type": "code",
   "execution_count": 397,
   "id": "0a904980",
   "metadata": {
    "hidden": true
   },
   "outputs": [],
   "source": [
    "rho2i_full = cg_combine(rho1i, rho1i, clebsch_gordan=cg, lcut=3, sorted_l=False)\n",
    "test = operations.sum_over_samples(rhoii1i2_nu0, samples_names=[\"neighbor_1\", \"neighbor_2\"]) "
   ]
  },
  {
   "cell_type": "code",
   "execution_count": 398,
   "id": "89013922",
   "metadata": {
    "hidden": true
   },
   "outputs": [
    {
     "data": {
      "text/plain": [
       "2.3955878289546457e-12"
      ]
     },
     "execution_count": 398,
     "metadata": {},
     "output_type": "execute_result"
    }
   ],
   "source": [
    "np.linalg.norm(rho2i_full.block(2).values/test.block(2).values-1)"
   ]
  },
  {
   "cell_type": "markdown",
   "id": "3876f297",
   "metadata": {
    "heading_collapsed": true
   },
   "source": [
    "### check degeneracy of $\\rho_{i}^{\\otimes 3}$"
   ]
  },
  {
   "cell_type": "code",
   "execution_count": 15,
   "id": "fb65d147",
   "metadata": {
    "hidden": true
   },
   "outputs": [
    {
     "data": {
      "text/plain": [
       "1.7279430568860854e-17"
      ]
     },
     "execution_count": 15,
     "metadata": {},
     "output_type": "execute_result"
    }
   ],
   "source": [
    "np.linalg.norm(rho3i.block(spherical_harmonics_l=0,inversion_sigma=1 ).values[0] - rho3i.block(spherical_harmonics_l=0,inversion_sigma=1 ).values[1])\n"
   ]
  },
  {
   "cell_type": "code",
   "execution_count": 14,
   "id": "80fe6da5",
   "metadata": {
    "hidden": true
   },
   "outputs": [],
   "source": [
    "# rhoii1i2_nu1.keys_to_properties('species_neighbor_1')\n",
    "# rhoii1i2_nu1.keys_to_properties('species_neighbor_2')"
   ]
  },
  {
   "cell_type": "code",
   "execution_count": 16,
   "id": "018156ca",
   "metadata": {
    "hidden": true
   },
   "outputs": [
    {
     "data": {
      "text/plain": [
       "Labels([(0, 0, 0, 0), (0, 0, 0, 1), (0, 0, 0, 2), (0, 0, 0, 3),\n",
       "        (0, 0, 0, 4), (0, 0, 0, 5), (0, 0, 0, 6), (0, 0, 0, 7),\n",
       "        (0, 0, 1, 0), (0, 0, 1, 1), (0, 0, 1, 2), (0, 0, 1, 3),\n",
       "        (0, 0, 1, 4), (0, 0, 1, 5), (0, 0, 1, 6), (0, 0, 1, 7),\n",
       "        (0, 0, 2, 0), (0, 0, 2, 1), (0, 0, 2, 2), (0, 0, 2, 3),\n",
       "        (0, 0, 2, 4), (0, 0, 2, 5), (0, 0, 2, 6), (0, 0, 2, 7),\n",
       "        (0, 0, 3, 0), (0, 0, 3, 1), (0, 0, 3, 2), (0, 0, 3, 3),\n",
       "        (0, 0, 3, 4), (0, 0, 3, 5), (0, 0, 3, 6), (0, 0, 3, 7),\n",
       "        (0, 0, 4, 0), (0, 0, 4, 1), (0, 0, 4, 2), (0, 0, 4, 3),\n",
       "        (0, 0, 4, 4), (0, 0, 4, 5), (0, 0, 4, 6), (0, 0, 4, 7),\n",
       "        (0, 0, 5, 0), (0, 0, 5, 1), (0, 0, 5, 2), (0, 0, 5, 3),\n",
       "        (0, 0, 5, 4), (0, 0, 5, 5), (0, 0, 5, 6), (0, 0, 5, 7),\n",
       "        (0, 0, 6, 0), (0, 0, 6, 1), (0, 0, 6, 2), (0, 0, 6, 3),\n",
       "        (0, 0, 6, 4), (0, 0, 6, 5), (0, 0, 6, 6), (0, 0, 6, 7),\n",
       "        (0, 0, 7, 0), (0, 0, 7, 1), (0, 0, 7, 2), (0, 0, 7, 3),\n",
       "        (0, 0, 7, 4), (0, 0, 7, 5), (0, 0, 7, 6), (0, 0, 7, 7)],\n",
       "       dtype=[('structure', '<i4'), ('center', '<i4'), ('neighbor_1', '<i4'), ('neighbor_2', '<i4')])"
      ]
     },
     "execution_count": 16,
     "metadata": {},
     "output_type": "execute_result"
    }
   ],
   "source": [
    "rhoii1i2_nu1.block(inversion_sigma=1).samples[:64]#values.shape\n"
   ]
  },
  {
   "cell_type": "code",
   "execution_count": 17,
   "id": "3698f387",
   "metadata": {
    "hidden": true
   },
   "outputs": [
    {
     "data": {
      "text/plain": [
       "0.1273083301388986"
      ]
     },
     "execution_count": 17,
     "metadata": {},
     "output_type": "execute_result"
    }
   ],
   "source": [
    "np.linalg.norm(rhoii1i2_nu1.block(inversion_sigma=1 ).values[:64])"
   ]
  },
  {
   "cell_type": "code",
   "execution_count": 18,
   "id": "276dbbbe",
   "metadata": {
    "hidden": true
   },
   "outputs": [
    {
     "data": {
      "text/plain": [
       "0.06589105111408992"
      ]
     },
     "execution_count": 18,
     "metadata": {},
     "output_type": "execute_result"
    }
   ],
   "source": [
    "# diff = np.sum(rhoii1i2_nu1.block(species_center = 6).values[:64], axis=0) - np.sum(rhoii1i2_nu1.block(species_center = 6).values[64:], axis=0)\n",
    "diff = rhoii1i2_nu1.block(inversion_sigma=1).values[:64] - rhoii1i2_nu1.block(inversion_sigma=1).values[64:128]\n",
    "\n",
    "np.linalg.norm(diff)"
   ]
  },
  {
   "cell_type": "code",
   "execution_count": 19,
   "id": "3865bc26",
   "metadata": {
    "hidden": true
   },
   "outputs": [
    {
     "name": "stderr",
     "output_type": "stream",
     "text": [
      "/Users/jigyasa/miniconda3/lib/python3.8/site-packages/equistore/operations/slice.py:113: UserWarning: Some TensorBlocks in the sliced TensorMap are now empty, based on your choice of samples and/or properties to slice by. The keys of the empty TensorBlocks are:\n",
      " [(3, 1, 0,  1,  1, 12) (3, 1, 0,  1,  3, 12) (3, 1, 0,  1, 12,  1)\n",
      " (3, 1, 0,  1, 12,  3) (3, 1, 0,  1, 12, 12) (3, 1, 0,  3,  1, 12)\n",
      " (3, 1, 0,  3,  3, 12) (3, 1, 0,  3, 12,  1) (3, 1, 0,  3, 12,  3)\n",
      " (3, 1, 0,  3, 12, 12) (3, 1, 0, 12,  1,  1) (3, 1, 0, 12,  1,  3)\n",
      " (3, 1, 0, 12,  1, 12) (3, 1, 0, 12,  3,  1) (3, 1, 0, 12,  3,  3)\n",
      " (3, 1, 0, 12,  3, 12) (3, 1, 0, 12, 12,  1) (3, 1, 0, 12, 12,  3)]\n",
      "  warnings.warn(\n"
     ]
    }
   ],
   "source": [
    "# from equistore import operations\n",
    "# ntrain = 400\n",
    "# train_tmap = operations.slice(rhoii1i2_nu1, \n",
    "#                 samples = Labels(\n",
    "#             names=[\"structure\"],\n",
    "#             values=np.array(\n",
    "#                 list(range(ntrain))\n",
    "#             ).reshape(-1,1), )\n",
    "#                 )\n",
    "\n",
    "# test_tmap = operations.slice(rhoii1i2_nu1, \n",
    "#                 samples = Labels(\n",
    "#             names=[\"structure\"],\n",
    "#             values=np.array(\n",
    "#                 list(range(ntrain, 500))\n",
    "#             ).reshape(-1,1), )\n",
    "#                 )\n",
    "\n",
    "# from equistore.io import save, load\n",
    "# # save('./rho3i_400.npz', rh)\n",
    "# save('./rhoii1i2n1_400.npz', train_tmap)\n",
    "# save('./rhoii1i2n1_400-500.npz', test_tmap)"
   ]
  },
  {
   "cell_type": "markdown",
   "id": "11b687c6",
   "metadata": {},
   "source": [
    "### artificial structure"
   ]
  },
  {
   "cell_type": "code",
   "execution_count": 372,
   "id": "a09a918f",
   "metadata": {},
   "outputs": [],
   "source": [
    "from generate_bispectrum_structures import * \n",
    "from ase import Atoms"
   ]
  },
  {
   "cell_type": "code",
   "execution_count": 373,
   "id": "e4a17476",
   "metadata": {},
   "outputs": [],
   "source": [
    "center_species = ring_species= z2species ='B'\n",
    "n=2\n",
    "\n",
    "phi1 = np.pi/4 #np.random.uniform(np.pi/6, np.pi)\n",
    "phi2 = -np.pi/3 #np.random.uniform(np.pi/6, np.pi)\n",
    "r=2\n",
    "z1=0\n",
    "z2 = 4\n",
    "layer1 = points_on_circle(r,[phi1,phi2])\n",
    "\n",
    "positions = np.zeros((4,3))\n",
    "positions[1:3,:2] = layer1\n",
    "positions[1:3, 2] = z1\n",
    "# positions[1,:2] = [0,0]\n",
    "positions[3,:2] = [np.random.uniform(0.2,1.2),np.random.uniform(0.2,1.2)]\n",
    "positions[3, 2] =z2\n",
    "\n",
    "\n",
    "atom_string = center_species + ring_species*(n) + z2species\n",
    "atoms = Atoms(atom_string, positions=positions[:], pbc=False)\n",
    "\n",
    "positions2 = positions.copy()\n",
    "positions2[2:4, 0] = -positions[2:4,0]\n",
    "positions2[2:4, 1] = positions[2:4, 1]\n",
    "atoms2 = Atoms(atom_string, positions=positions2[:], pbc=False)\n",
    "\n",
    "positions3 = positions.copy()\n",
    "positions3[3,2]=-4\n",
    "atoms3 = Atoms(atom_string, positions=positions3[:], pbc=False)"
   ]
  },
  {
   "cell_type": "code",
   "execution_count": 374,
   "id": "82192ab3",
   "metadata": {},
   "outputs": [
    {
     "name": "stdout",
     "output_type": "stream",
     "text": [
      "[[0.         2.         2.         4.13338024]\n",
      " [2.         0.         3.17341336 4.11323662]\n",
      " [2.         3.17341336 0.         4.71064777]\n",
      " [4.13338024 4.11323662 4.71064777 0.        ]]\n",
      "[[0.         2.         2.         4.13338024]\n",
      " [2.         0.         3.17341336 4.11323662]\n",
      " [2.         3.17341336 0.         4.71064777]\n",
      " [4.13338024 4.11323662 4.71064777 0.        ]]\n"
     ]
    }
   ],
   "source": [
    "print(atoms.get_all_distances() )\n",
    "\n",
    "# print(atoms2.get_all_distances() ) # is equal to atoms when the first two atoms are non complanar with the origin\n",
    "\n",
    "print(atoms3.get_all_distances()) # inverter structure basically "
   ]
  },
  {
   "cell_type": "code",
   "execution_count": 375,
   "id": "74695a4e",
   "metadata": {},
   "outputs": [
    {
     "data": {
      "text/plain": [
       "<subprocess.Popen at 0x7fcd2f01da00>"
      ]
     },
     "execution_count": 375,
     "metadata": {},
     "output_type": "execute_result"
    }
   ],
   "source": [
    "view([atoms, atoms3])"
   ]
  },
  {
   "cell_type": "code",
   "execution_count": 376,
   "id": "fff22f61",
   "metadata": {},
   "outputs": [],
   "source": [
    "artificial = [atoms, atoms3] #atoms2\n",
    "calculator = SphericalExpansion(**hypers)\n",
    "ar_rhoi = calculator.compute(artificial)\n",
    "ar_rhoi = ar_rhoi.keys_to_properties(['species_neighbor'])\n",
    "ar_rho1i = acdc_standardize_keys(ar_rhoi)\n",
    "# selects only one environment\n",
    "ar_rho1i = operations.slice(ar_rho1i, samples=Labels(['center'],np.array([[0]], np.int32)) )\n",
    "# norm_rho1 = np.sqrt(np.sum([(b.values**2).sum(axis=(1,2)) for b in rho1i.blocks()],axis=0).mean())\n",
    "# for b in rho1i.blocks():\n",
    "#     b.values[:]/=norm_rho1\n",
    "ar_rho2i = cg_increment(ar_rho1i, ar_rho1i, clebsch_gordan=cg, lcut=3, other_keys_match=[\"species_center\"])\n",
    "ar_rho3i = cg_increment(ar_rho2i, ar_rho1i, clebsch_gordan=cg, lcut=0, other_keys_match=[\"species_center\"])  \n",
    "\n",
    "calculator = PairExpansion(**hypers)\n",
    "ar_gij = calculator.compute(artificial)\n",
    "ar_gij = operations.slice(ar_gij, samples=Labels(['first_atom'],np.array([[0]], np.int32)) )\n",
    "ar_gij =  acdc_standardize_keys(ar_gij)\n",
    "# for b in gij.blocks():\n",
    "#     b.values[:]/=norm_rho1\n",
    "ar_gij = simplify_gij(ar_gij)\n",
    "ar_rhoii1i2_nu0 = cg_combine(ar_gij, ar_gij, clebsch_gordan=cg, other_keys_match=['species_center'], lcut=3)\n",
    "ar_rhoii1i2_nu1 =  cg_combine(ar_rho1i, ar_rhoii1i2_nu0, clebsch_gordan=cg, other_keys_match = ['species_center'], lcut=0)\n"
   ]
  },
  {
   "cell_type": "code",
   "execution_count": 377,
   "id": "81a9771f",
   "metadata": {},
   "outputs": [
    {
     "data": {
      "text/plain": [
       "array([[ 0.00000000e+00,  0.00000000e+00,  0.00000000e+00, ...,\n",
       "         0.00000000e+00,  0.00000000e+00,  0.00000000e+00],\n",
       "       [ 0.00000000e+00,  0.00000000e+00,  0.00000000e+00, ...,\n",
       "         0.00000000e+00,  0.00000000e+00,  0.00000000e+00],\n",
       "       [ 0.00000000e+00,  0.00000000e+00,  0.00000000e+00, ...,\n",
       "         0.00000000e+00,  0.00000000e+00,  0.00000000e+00],\n",
       "       ...,\n",
       "       [-3.70477971e-06, -2.94558474e-04, -4.58446563e-07, ...,\n",
       "         3.16165055e-05,  4.93809604e-08,  3.93677329e-06],\n",
       "       [ 3.70477971e-06,  2.94558474e-04,  4.58446563e-07, ...,\n",
       "        -3.16165055e-05, -4.93809604e-08, -3.93677329e-06],\n",
       "       [-8.78154690e-25,  5.62335965e-23, -6.35203908e-23, ...,\n",
       "        -1.60461975e-23,  3.18368910e-23, -8.55700383e-22]])"
      ]
     },
     "execution_count": 377,
     "metadata": {},
     "output_type": "execute_result"
    }
   ],
   "source": [
    "ar_rhoii1i2_nu1.block(inversion_sigma=-1).values.squeeze()[:16] -ar_rhoii1i2_nu1.block(inversion_sigma=-1).values.squeeze()[16:32]\n"
   ]
  },
  {
   "cell_type": "code",
   "execution_count": 380,
   "id": "be006ba6",
   "metadata": {},
   "outputs": [
    {
     "data": {
      "text/plain": [
       "(array([0, 0, 0, 0, 0, 0, 0, 0, 0, 0, 0, 0]),\n",
       " array([10, 11, 20, 21, 25, 29, 33, 35, 42, 46, 52, 53]))"
      ]
     },
     "execution_count": 380,
     "metadata": {},
     "output_type": "execute_result"
    }
   ],
   "source": [
    "np.where((ar_rho3i.block(inversion_sigma = -1).values[0] - ar_rho3i.block(inversion_sigma = -1).values[1])>1e-7)"
   ]
  },
  {
   "cell_type": "markdown",
   "id": "2635753d",
   "metadata": {},
   "source": [
    "## encoder-decoder"
   ]
  },
  {
   "cell_type": "markdown",
   "id": "52b25d07",
   "metadata": {},
   "source": [
    "encode three center features, sum over i1,i2 and then decode "
   ]
  },
  {
   "cell_type": "code",
   "execution_count": 19,
   "id": "4b27d298",
   "metadata": {},
   "outputs": [],
   "source": [
    "import torch\n",
    "def StructureMap(samples_structure, device=\"cpu\"):\n",
    "    unique_structures, unique_structures_idx = np.unique(\n",
    "        samples_structure, return_index=True\n",
    "    )\n",
    "    new_samples = samples_structure[np.sort(unique_structures_idx)]\n",
    "    # we need a list keeping track of where each atomic contribution goes\n",
    "    # (e.g. if structure ids are [3,3,3,1,1,1,6,6,6] that will be stored as\n",
    "    # the unique structures [3, 1, 6], structure_map will be\n",
    "    # [0,0,0,1,1,1,2,2,2]\n",
    "    replace_rule = dict(zip(unique_structures, range(len(unique_structures))))\n",
    "    structure_map = torch.tensor(\n",
    "        [replace_rule[i] for i in samples_structure],\n",
    "        dtype=torch.long,\n",
    "        device=device,\n",
    "    )\n",
    "    return structure_map, new_samples, replace_rule"
   ]
  },
  {
   "cell_type": "code",
   "execution_count": 20,
   "id": "adf8be0c",
   "metadata": {},
   "outputs": [],
   "source": [
    "def get_triple_samples(bsamples, train_idx):\n",
    "    samples = []\n",
    "    for i in trainidx:\n",
    "        loc = np.where(bsamples[\"structure\"] == i)\n",
    "        samples.append(bsamples[loc].asarray())\n",
    "    return Labels(rhoii1i2_nu1.sample_names, np.asarray(np.concatenate(samples), dtype=np.int32))"
   ]
  },
  {
   "cell_type": "code",
   "execution_count": 21,
   "id": "9266a0f9",
   "metadata": {},
   "outputs": [],
   "source": [
    "device='cpu'\n",
    "torch.set_default_dtype(torch.float64)"
   ]
  },
  {
   "cell_type": "code",
   "execution_count": 22,
   "id": "b592a70a",
   "metadata": {},
   "outputs": [],
   "source": [
    "class BlockEncoderDecoder(torch.nn.Module):\n",
    "    def __init__(self, **kwargs):\n",
    "        super().__init__()\n",
    "        self.encode_type = kwargs['encode_type']\n",
    "        \n",
    "        if self.encode_type == 'linear':\n",
    "            self.encoder_output_layer = torch.nn.Linear(\n",
    "            in_features=kwargs[\"input_size\"], out_features=kwargs[\"intermediate_size\"]\n",
    "        )\n",
    "        \n",
    "        else: \n",
    "            self.encoder_hidden_layer = torch.nn.Linear(\n",
    "                in_features=kwargs[\"input_size\"], out_features=kwargs[\"hidden_size\"]\n",
    "            )\n",
    "            \n",
    "            self.encoder_output_layer = torch.nn.Linear(\n",
    "                in_features=kwargs[\"hidden_size\"], out_features=kwargs[\"intermediate_size\"]\n",
    "            )\n",
    "        \n",
    "        \n",
    "        self.decoder_hidden_layer = torch.nn.Linear(\n",
    "            in_features=kwargs[\"intermediate_size\"], out_features=kwargs[\"hidden_size\"]\n",
    "        )\n",
    "        if 'output_size' in kwargs: \n",
    "            self.decoder_output_layer = torch.nn.Linear(\n",
    "            in_features=kwargs[\"hidden_size\"], out_features=kwargs[\"output_size\"]\n",
    "        )\n",
    "        else: \n",
    "            self.decoder_output_layer = torch.nn.Linear(\n",
    "            in_features=kwargs[\"hidden_size\"], out_features=kwargs[\"input_size\"]\n",
    "            )\n",
    "        \n",
    "        self.sum_triples=None\n",
    "        self.samples = kwargs[\"triple_samples\"]\n",
    "        self.to(device)\n",
    "        \n",
    "        \n",
    "    \n",
    "    def structure_wise_feats(self, x): \n",
    "        if self.encode_type == 'linear': \n",
    "            x = torch.from_numpy(x)\n",
    "            encoded = self.encoder_output_layer(x)\n",
    "#             print(\"encoded_shape\", encoded.shape)\n",
    "        \n",
    "        else: \n",
    "            x = torch.from_numpy(x.values)\n",
    "            encoded = self.encoder_hidden_layer(x)\n",
    "            activation = torch.tanh(encoded)\n",
    "            encoded = self.encoder_output_layer(activation)\n",
    "            encoded = torch.tanh(encoded)\n",
    "#             print(\"encoded_shape\", encoded.shape)\n",
    "        \n",
    "        structure_map, new_samples, _ = StructureMap(\n",
    "            self.samples[\"structure\"], \"cpu\"\n",
    "        )\n",
    "        self.sum_triples =  torch.zeros((len(new_samples), encoded.shape[-1]), device=x.device)\n",
    "        self.sum_triples.index_add_(0, structure_map, encoded)\n",
    "        \n",
    "        return self.sum_triples\n",
    "    \n",
    "    def forward(self, x):\n",
    "#         print(\"from block forward\", x.keys)\n",
    "        activation = self.decoder_hidden_layer(x)\n",
    "        activation = torch.tanh(activation)\n",
    "        activation = self.decoder_output_layer(activation)\n",
    "        decoded = torch.tanh(activation)\n",
    "#         print(\"decoded_shape\", decoded.shape)\n",
    "        return decoded\n",
    "    \n",
    "\n",
    "class ThreeCenterModel(torch.nn.ModuleDict):\n",
    "    \n",
    "    def __init__(self, feature, train_idx, hidden_size=128, intermediate_size=128, encode_type='linear'):\n",
    "        super().__init__()\n",
    "        self.feature = feature\n",
    "        self.encode_type=encode_type\n",
    "        self.models = torch.nn.ModuleDict()\n",
    "        self.trainidx = train_idx #idx of train structures\n",
    "        for k, b in self.feature:\n",
    "            input_size = b.values.shape[-1]\n",
    "            print(k,input_size, hidden_size, intermediate_size)\n",
    "#             samples = get_triple_samples(b.samples, self.trainidx)\n",
    "            self.models[str(k)] = BlockEncoderDecoder(input_size=input_size, hidden_size=hidden_size, intermediate_size=intermediate_size, \n",
    "                                                      encode_type=self.encode_type, triple_samples = b.samples\n",
    "                                                     )            \n",
    "        \n",
    "        self.to(device)\n",
    "    \n",
    "    def forward(self, feature):\n",
    "        pred_blocks =[]\n",
    "        for k, block in feature:\n",
    "\n",
    "            struct_feat = self.models[str(k)].structure_wise_feats(block.values.squeeze())\n",
    "            structure_map, new_samples, _ = StructureMap(block.samples[\"structure\"], device)\n",
    "        \n",
    "            recons = self.models[str(k)].forward(struct_feat) \n",
    "#             print(k, recons.shape,recons.reshape((recons.shape[0], recons.shape[1], 1)).swapaxes(1,-1).shape)\n",
    "#         return recons\n",
    "            newblock = TensorBlock(\n",
    "                        values=recons,#.reshape((recons.shape[0], recons.shape[1], 1)).swapaxes(1,-1),\n",
    "                        samples=Labels([\"structure\"], new_samples.asarray()),\n",
    "                        components=[],#block.components,\n",
    "                        properties= Labels([\"prop\"], np.asarray([i for i in range(recons.shape[1])], dtype=np.int32).reshape(-1,1))\n",
    "                    )\n",
    "            pred_blocks.append(newblock) \n",
    "        \n",
    "        keys = feature.keys\n",
    "        pred_target = TensorMap(keys, pred_blocks)\n",
    "        return(pred_target)\n",
    "    \n",
    "    \n"
   ]
  },
  {
   "cell_type": "markdown",
   "id": "7e51320b",
   "metadata": {},
   "source": [
    "### train different blocks separately "
   ]
  },
  {
   "cell_type": "code",
   "execution_count": 23,
   "id": "fe69dfc9",
   "metadata": {},
   "outputs": [],
   "source": [
    "allidx = range(1000*2)\n",
    "\n",
    "trainidx = range(900*2)\n",
    "testidx = list(set(allidx).difference(trainidx))"
   ]
  },
  {
   "cell_type": "code",
   "execution_count": 24,
   "id": "3e7e2d02",
   "metadata": {},
   "outputs": [],
   "source": [
    "block = rhoii1i2_nu1.block(0)"
   ]
  },
  {
   "cell_type": "code",
   "execution_count": 25,
   "id": "bbad2834",
   "metadata": {},
   "outputs": [],
   "source": [
    "target = torch.from_numpy(rho3i.block(spherical_harmonics_l = 0, inversion_sigma = 1).values.squeeze())"
   ]
  },
  {
   "cell_type": "code",
   "execution_count": 35,
   "id": "4d82778b",
   "metadata": {},
   "outputs": [],
   "source": [
    "input_size = block.values.shape[-1]\n",
    "hidden_size = 256\n",
    "intermediate_size = 256\n",
    "encode_type = 'linear'\n",
    "output_size = target.shape[-1]\n",
    "model_block = BlockEncoderDecoder(input_size=input_size, hidden_size=hidden_size, \n",
    "                                  intermediate_size=intermediate_size, encode_type=encode_type, \n",
    "                                  triple_samples = block.samples, output_size = output_size\n",
    "                                \n",
    "                                                     )            \n",
    "struct_feat = model_block.structure_wise_feats(block.values.squeeze())        \n",
    "recons = model_block.forward(struct_feat) \n",
    "            "
   ]
  },
  {
   "cell_type": "code",
   "execution_count": 43,
   "id": "920281a2",
   "metadata": {},
   "outputs": [],
   "source": [
    "def mse_loss(pred, target):\n",
    "    return torch.sum((pred - target)**2)"
   ]
  },
  {
   "cell_type": "code",
   "execution_count": 44,
   "id": "f2283eaf",
   "metadata": {},
   "outputs": [],
   "source": [
    "optimizer = torch.optim.LBFGS(\n",
    "        model_block.parameters(),\n",
    "        lr=0.1,\n",
    "        line_search_fn=\"strong_wolfe\",\n",
    "        history_size=256,\n",
    "    )"
   ]
  },
  {
   "cell_type": "code",
   "execution_count": null,
   "id": "2b2a952c",
   "metadata": {},
   "outputs": [
    {
     "name": "stdout",
     "output_type": "stream",
     "text": [
      "Epoch: 0 RMSE: train  1.2078184157107028 test 0.9727308204177948\n",
      "Epoch: 1 RMSE: train  0.9731485804210459 test 0.7692942280219645\n",
      "Epoch: 2 RMSE: train  0.770147507949278 test 0.2847334423761676\n",
      "Epoch: 3 RMSE: train  0.2865970419606375 test 0.14087041917183318\n",
      "Epoch: 4 RMSE: train  0.14446736011405278 test 0.11320443720198393\n"
     ]
    }
   ],
   "source": [
    "nepochs = 200\n",
    "\n",
    "for epoch in range(nepochs):\n",
    "    \n",
    "    def single_step():\n",
    "        optimizer.zero_grad()\n",
    "        loss = torch.zeros(size=(1,), device=device)\n",
    "        struct_feat = model_block.structure_wise_feats(block.values.squeeze())\n",
    "        predicted = model_block(struct_feat)\n",
    "        loss += mse_loss(predicted[trainidx], target[trainidx])\n",
    "        \n",
    "        loss.backward(retain_graph=False)\n",
    "        return loss\n",
    "\n",
    "    loss = optimizer.step(single_step)\n",
    "#     print(loss)\n",
    "    struct_feat = model_block.structure_wise_feats(block.values.squeeze())\n",
    "    predicted = model_block(struct_feat) #, triplet_samples[\"structure\"][ntrain*ntriples:])\n",
    "    \n",
    "#     if epoch % 5 ==0:\n",
    "    print(\"Epoch:\", epoch, \"RMSE: train \", np.sqrt(loss.detach().numpy().flatten()[0]/len(trainidx)),\n",
    "     \"test\", np.sqrt(mse_loss(predicted[testidx], target[testidx]).detach().numpy().flatten()[0]/ len(testidx))\n",
    "         )"
   ]
  },
  {
   "cell_type": "code",
   "execution_count": null,
   "id": "b7b47de0",
   "metadata": {},
   "outputs": [],
   "source": []
  },
  {
   "cell_type": "markdown",
   "id": "68f6866f",
   "metadata": {},
   "source": [
    "### tensormap of reconstructed features"
   ]
  },
  {
   "cell_type": "code",
   "execution_count": 618,
   "id": "84fb882a",
   "metadata": {},
   "outputs": [
    {
     "name": "stdout",
     "output_type": "stream",
     "text": [
      "(3, 1, 0, 5, 5, 5) 184 128 128\n",
      "(3, -1, 0, 5, 5, 5) 88 128 128\n"
     ]
    }
   ],
   "source": [
    "model = ThreeCenterModel(rhoii1i2_nu1, train_idx = [0,1,3,5], encode_type='linear')"
   ]
  },
  {
   "cell_type": "code",
   "execution_count": 619,
   "id": "c2048fe7",
   "metadata": {},
   "outputs": [
    {
     "name": "stdout",
     "output_type": "stream",
     "text": [
      "encoded_shape torch.Size([640, 128])\n",
      "decoded_shape torch.Size([10, 184])\n",
      "[(0,) (1,) (2,) (3,) (4,) (5,) (6,) (7,) (8,) (9,)]\n",
      "encoded_shape torch.Size([640, 128])\n",
      "decoded_shape torch.Size([10, 88])\n",
      "[(0,) (1,) (2,) (3,) (4,) (5,) (6,) (7,) (8,) (9,)]\n"
     ]
    },
    {
     "data": {
      "text/plain": [
       "TensorMap with 2 blocks\n",
       "keys: ['order_nu' 'inversion_sigma' 'spherical_harmonics_l' 'species_center' 'species_neighbor_a' 'species_neighbor_b']\n",
       "           3             1                    0                   5                 5                   5\n",
       "           3            -1                    0                   5                 5                   5"
      ]
     },
     "execution_count": 619,
     "metadata": {},
     "output_type": "execute_result"
    }
   ],
   "source": [
    "model(rhoii1i2_nu1)"
   ]
  },
  {
   "cell_type": "code",
   "execution_count": 682,
   "id": "a2e3b753",
   "metadata": {},
   "outputs": [],
   "source": [
    "block = rhoii1i2_nu1.block(0)\n",
    "trainidx = [0,3,5]\n",
    "bsamples = block.samples"
   ]
  },
  {
   "cell_type": "code",
   "execution_count": 547,
   "id": "32411938",
   "metadata": {},
   "outputs": [],
   "source": [
    "new_samples = StructureMap(rhoii1i2_nu1.block(0).samples[:128][\"structure\"])[1]"
   ]
  },
  {
   "cell_type": "code",
   "execution_count": null,
   "id": "2969ced1",
   "metadata": {},
   "outputs": [],
   "source": []
  },
  {
   "cell_type": "markdown",
   "id": "e567b3e3",
   "metadata": {},
   "source": [
    "## set up NICE style feature computation"
   ]
  },
  {
   "cell_type": "code",
   "execution_count": null,
   "id": "4a39f54e",
   "metadata": {},
   "outputs": [],
   "source": []
  },
  {
   "cell_type": "code",
   "execution_count": null,
   "id": "030e2483",
   "metadata": {},
   "outputs": [],
   "source": []
  },
  {
   "cell_type": "code",
   "execution_count": null,
   "id": "fa37e0a5",
   "metadata": {},
   "outputs": [],
   "source": []
  },
  {
   "cell_type": "markdown",
   "id": "b26c620a",
   "metadata": {
    "heading_collapsed": true
   },
   "source": [
    "## encoder-decoder like architecture - nope"
   ]
  },
  {
   "cell_type": "code",
   "execution_count": 20,
   "id": "578c6c7c",
   "metadata": {
    "hidden": true
   },
   "outputs": [],
   "source": [
    "import equistore\n",
    "import torch\n",
    "import equistore.operations as operations\n",
    "from tqdm import tqdm\n",
    "torch.set_default_dtype(torch.float64)\n",
    "device = torch.device(\"cuda\" if torch.cuda.is_available() else \"cpu\")  \n",
    "\n",
    "\n",
    "class featDataset(torch.utils.data.Dataset):\n",
    "    #Dataset class\n",
    "    def __init__(self, feature_path, frames):\n",
    "        #\n",
    "        self.features = np.load(feature_path, mmap_mode = 'r')\n",
    "        self.keys_features = equistore.io._labels_from_npz(self.features[\"keys\"])\n",
    "        self.currentkey = 0\n",
    "        self.frames = frames\n",
    "\n",
    "    def __len__(self):\n",
    "        return len(self.frames)\n",
    "    \n",
    "    def __getitem__(self, structure_idx):\n",
    "        feature_block, feature_key = self.generate_feature_block(self.features, structure_idx)        \n",
    "        #samples_filter, target_block_samples = self.get_index_from_idx(self.target.block(self.currentkey).samples, structure_idx)\n",
    "        structure = [frames[i] for i in structure_idx]\n",
    "        #Modify feature_block to tensormap\n",
    "        feature_map = TensorMap(feature_key, feature_block)\n",
    "        return feature_map, structure\n",
    "\n",
    "    \n",
    "    def generate_feature_block(self, memmap, structure_idx):\n",
    "        #Generate the block from npz file\n",
    "        output = []\n",
    "        if self.currentkey is None:\n",
    "            feature_key = self.keys_features     \n",
    "        else:\n",
    "            feature_key = Labels([\"order_nu\", \"inversion_sigma\", \"spherical_harmonics_l\", \"species_center\", \"species_neighbor_a\", \"species_neighbor_b\"], \n",
    "                                 np.asarray(self.keys_features[self.currentkey].astype(list), dtype=np.int32).reshape(-1,6))\n",
    "\n",
    "#             feature_key = [self.keys_features[self.currentkey]]\n",
    "        for key in feature_key:\n",
    "            block_index = list(self.keys_features).index(key)\n",
    "            prefix = f\"blocks/{block_index}/values\"        \n",
    "            block_samples = equistore.io._labels_from_npz(memmap[f\"{prefix}/samples\"])\n",
    "            block_components = []\n",
    "            for i in range(1):\n",
    "                block_components.append(equistore.io._labels_from_npz(memmap[f\"{prefix}/components/{i}\"]))\n",
    "            block_properties = equistore.io._labels_from_npz(memmap[f\"{prefix}/properties\"])\n",
    "             \n",
    "\n",
    "            samples_filter, block_samples = self.get_index_from_idx(block_samples, structure_idx)\n",
    "\n",
    "            block_data = memmap[f\"{prefix}/data\"][samples_filter]\n",
    "            block = TensorBlock(block_data, block_samples, block_components, block_properties)\n",
    "            output.append(block)\n",
    "        return output, feature_key\n",
    "    \n",
    "    def get_n_properties(self, memmap, key):\n",
    "        block_index = list(self.keys_features).index(key)\n",
    "        prefix = f\"blocks/{block_index}/values\"  \n",
    "        block_properties = equistore.io._labels_from_npz(memmap[f\"{prefix}/properties\"])\n",
    "        \n",
    "        return len(block_properties)\n",
    "    \n",
    "    def get_index_from_idx(self, block_samples, structure_idx):\n",
    "        #Get samples label from IDX\n",
    "        samples = Labels(names = ['structure'], values = np.array(structure_idx).reshape(-1,1))\n",
    "        all_samples = block_samples[['structure']].tolist()\n",
    "        set_samples_to_slice = set(samples.tolist())\n",
    "        samples_filter = np.array(\n",
    "            [sample in set_samples_to_slice for sample in all_samples]\n",
    "        )\n",
    "        new_samples = block_samples[samples_filter]\n",
    "        \n",
    "        return samples_filter, new_samples\n",
    "    \n",
    "    def collate_output_values(blocks):\n",
    "        feature_out = []\n",
    "        for sample_output in blocks:\n",
    "            feature_block, structure = sample_output\n",
    "            for z in feature_block:\n",
    "                feature_out.append(torch.tensor(z.values))\n",
    "\n",
    "        return feature_out\n"
   ]
  },
  {
   "cell_type": "code",
   "execution_count": 21,
   "id": "ec5785c6",
   "metadata": {
    "hidden": true
   },
   "outputs": [],
   "source": [
    "def mse_loss(pred, target):\n",
    "    return torch.mean((pred - target)**2)\n",
    "\n",
    "\n",
    "class BlockEncoderDecoder(torch.nn.Module):\n",
    "    def __init__(self, seed=123, **kwargs):\n",
    "        super().__init__()\n",
    "        self.encoder_hidden_layer = torch.nn.Linear(\n",
    "            in_features=kwargs[\"input_size\"], out_features=kwargs[\"hidden_size\"]\n",
    "        )\n",
    "        self.encoder_output_layer = torch.nn.Linear(\n",
    "            in_features=kwargs[\"hidden_size\"], out_features=kwargs[\"intermediate_size\"]\n",
    "        )\n",
    "        self.decoder_hidden_layer = torch.nn.Linear(\n",
    "            in_features=kwargs[\"intermediate_size\"], out_features=kwargs[\"hidden_size\"]\n",
    "        )\n",
    "        self.decoder_output_layer = torch.nn.Linear(\n",
    "            in_features=kwargs[\"hidden_size\"], out_features=kwargs[\"input_size\"]\n",
    "        )\n",
    "        self.to(device)\n",
    "        \n",
    "    def forward(self, x):\n",
    "        print(\"from block forward\", x.keys)\n",
    "        x = torch.from_numpy(x.block().values)\n",
    "        activation = self.encoder_hidden_layer(x)\n",
    "        activation = torch.relu(activation)\n",
    "        code = self.encoder_output_layer(activation)\n",
    "        code = torch.relu(code)\n",
    "        activation = self.decoder_hidden_layer(code)\n",
    "        activation = torch.relu(activation)\n",
    "        activation = self.decoder_output_layer(activation)\n",
    "        reconstructed = torch.relu(activation)\n",
    "        return reconstructed\n",
    "\n",
    "    \n",
    "    def fit(self,traindata_loader, loss_function, optimizer_type, lr, reg, n_epochs):\n",
    "        if optimizer_type == \"Adam\":\n",
    "            optimizer = torch.optim.Adam(self.parameters(), lr = lr, weight_decay = reg.item())\n",
    "            threshold = 200\n",
    "            scheduler_threshold = 50\n",
    "            tol = 0\n",
    "            history_step = 1000\n",
    "        \n",
    "        elif optimizer_type == \"LBFGS\":\n",
    "            optimizer = torch.optim.LBFGS(self.parameters(), lr = lr)\n",
    "            threshold = 30\n",
    "            scheduler_threshold = 10\n",
    "            tol = 0\n",
    "            history_step = 10\n",
    "            \n",
    "        scheduler = torch.optim.lr_scheduler.StepLR(optimizer, scheduler_threshold, gamma = 0.5)\n",
    "        best_state = copy.deepcopy(self.state_dict())\n",
    "        lowest_loss = torch.tensor(9999)\n",
    "        pred_loss = torch.tensor(0)\n",
    "        trigger = 0\n",
    "        loss_history = []\n",
    "        pbar = tqdm(range(n_epochs))\n",
    "        \n",
    "        for epoch in pbar:\n",
    "            pbar.set_description(f\"Epoch: {epoch}\")\n",
    "            pbar.set_postfix(pred_loss = pred_loss.item(), lowest_loss = lowest_loss.item(), trigger = trigger)\n",
    "            \n",
    "            for x_data, structure in traindata_loader: \n",
    "                optimizer.zero_grad()\n",
    "                #x_data, y_data = x_data.to(self.device), y_data.to(self.device)\n",
    "                if optimizer_type == \"LBFGS\":\n",
    "                    def closure():\n",
    "                        optimizer.zero_grad()\n",
    "                        _pred = self.forward(x_data)                                        \n",
    "                        _pred_loss = loss_function(_pred, x_data.block().values)\n",
    "                        _pred_loss = torch.nan_to_num(_pred_loss, nan=lowest_loss.item(), posinf = lowest_loss.item(), neginf = lowest_loss.item())                 \n",
    "                        _reg_loss = self.get_regression_values(reg.item()) #Only works for 1 layer\n",
    "                        _new_loss = _pred_loss + _reg_loss\n",
    "                        _new_loss.backward()\n",
    "                        return _new_loss\n",
    "                    optimizer.step(closure)\n",
    "\n",
    "                elif optimizer_type == \"Adam\":\n",
    "                    pred = self.forward(x_data)\n",
    "#                     print(pred, x_data.block().values )\n",
    "                    pred_loss = loss_function(pred, torch.from_numpy(x_data.block().values))\n",
    "                    \n",
    "                    #reg_loss = self.get_regression_values(reg.item())#Only works for 1 layer\n",
    "                    new_loss = pred_loss #+ reg_loss\n",
    "                    new_loss.backward()\n",
    "\n",
    "                    optimizer.step()\n",
    "                \n",
    "            with torch.no_grad():\n",
    "                current_loss = 0 \n",
    "                for x_data, structure in traindata_loader:\n",
    "                    pred = self.forward(x_data)\n",
    "                    current_loss  += loss_function(pred, torch.from_numpy(x_data.block().values)) #Loss should be normalized already\n",
    "                pred_loss = current_loss\n",
    "                reg_loss = self.get_regression_values(reg.item()) \n",
    "                new_loss = pred_loss + reg_loss\n",
    "                if pred_loss >100000 or (pred_loss.isnan().any()) :\n",
    "                    print (\"Optimizer shows weird behaviour, reinitializing at previous best_State\")\n",
    "                    self.load_state_dict(best_state)\n",
    "                    if optimizer_type == \"Adam\":\n",
    "                        optimizer = torch.optim.Adam(self.parameters(), lr = lr, weight_decay = reg.item())\n",
    "                    elif optimizer_type == \"LBFGS\":\n",
    "                        optimizer = torch.optim.LBFGS(self.parameters(), lr = lr)\n",
    "\n",
    "                if epoch % history_step == 1:\n",
    "                    loss_history.append(lowest_loss.item())\n",
    "                \n",
    "                if lowest_loss - new_loss > tol: #threshold to stop training\n",
    "                    best_state = copy.deepcopy(self.state_dict())\n",
    "                    lowest_loss = new_loss \n",
    "                    trigger = 0    \n",
    "                    \n",
    "                else:\n",
    "                    trigger += 1\n",
    "                    scheduler.step()\n",
    "                    if trigger > threshold:\n",
    "                        self.load_state_dict(best_state)\n",
    "                        print (\"Implemented early stopping with lowest_loss: {}\".format(lowest_loss))\n",
    "                        return loss_history\n",
    "        return loss_history\n",
    "    \n",
    "    def get_regression_values(self, reg_weights):\n",
    "        output = []\n",
    "        for param in self.parameters():\n",
    "            output.append(torch.sum(torch.pow(param,2)))\n",
    "        try:\n",
    "            output = torch.sum(torch.tensor(output) * reg_weights)\n",
    "        except:\n",
    "            output = 0\n",
    "        return output\n",
    "\n",
    "\n",
    "    \n",
    "\n",
    "class ThreeCenterModel(torch.nn.ModuleDict):\n",
    "    \n",
    "    def __init__(self, feature, hidden_size=128, intermediate_size=18):\n",
    "        super().__init__()\n",
    "        self.feature = feature\n",
    "        self.loss_history={}\n",
    "        self.models = torch.nn.ModuleDict()\n",
    "        for k, b in self.feature:\n",
    "            input_size = b.values.shape[-1]\n",
    "#             print(k,input_size, hidden_size, intermediate_size)\n",
    "            self.models[str(k)] = BlockEncoderDecoder(input_size=input_size, hidden_size=hidden_size, intermediate_size=intermediate_size)            \n",
    "        self.to(device)\n",
    "    \n",
    "    def forward(self, feature):\n",
    "        pred_blocks =[]\n",
    "        for k, block in feature:\n",
    "#             print(self[str(k)])\n",
    "            \n",
    "            recons = self.models[str(k)].forward(block) # expects a tensorMap\n",
    "            \n",
    "            newblock = TensorBlock(\n",
    "                        values=recons.reshape(block.values.shape),\n",
    "                        samples=block.samples,\n",
    "                        components=block.components,\n",
    "                        properties= block.properties\n",
    "                    )\n",
    "            pred_blocks.append(newblock) \n",
    "        \n",
    "        keys = feature.keys\n",
    "        pred_target = TensorMap(keys, pred_blocks)\n",
    "        return(pred_target)\n",
    "    \n",
    "    def fit(self, train_dataloader, regularization_dict, optimizer_type, n_epochs, loss_function, lr):\n",
    "        #Iterates through the keys of self.model, then for each key we will fit self.model[key] with data[key]\n",
    "        total = len(self.models)\n",
    "        for index, key in enumerate(self.feature.keys):\n",
    "            print (\"Now training on Block {} of {}\".format(index, total))\n",
    "            train_dataloader.dataset.currentkey = index\n",
    "            \n",
    "            loss_history_key = self.models[str(key)].fit(train_dataloader, loss_function, optimizer_type, lr, regularization_dict[str(key)], n_epochs)\n",
    "\n",
    "            self.loss_history[str(key)] = loss_history_key\n",
    "\n",
    "    \n",
    "    \n"
   ]
  },
  {
   "cell_type": "code",
   "execution_count": 22,
   "id": "6fcd9119",
   "metadata": {
    "hidden": true
   },
   "outputs": [],
   "source": [
    "regularization_dict={}\n",
    "for key in rhoii1i2_nu1.keys:\n",
    "    regularization_dict[str(key)] = torch.tensor(0)"
   ]
  },
  {
   "cell_type": "code",
   "execution_count": 23,
   "id": "aa7594f3",
   "metadata": {
    "hidden": true
   },
   "outputs": [],
   "source": [
    "def collate_blocks(block_tuple):\n",
    "    feature_tensor_map, structure_array = block_tuple[0]\n",
    "    return feature_tensor_map, structure_array\n",
    "\n",
    "train_feature_path =\"./rhoii1i2n1_400.npz\"\n",
    "train = featDataset(train_feature_path, frames[:400])\n",
    "train_Sampler = torch.utils.data.sampler.SequentialSampler(train)\n",
    "train_BSampler = torch.utils.data.sampler.BatchSampler(train_Sampler, batch_size = 500, drop_last = False)\n",
    "\n",
    "test_feature_path =\"./rhoii1i2n1_400-500.npz\"\n",
    "test = featDataset(train_feature_path, frames[400:500])\n",
    "test_Sampler = torch.utils.data.sampler.SequentialSampler(test)\n",
    "test_BSampler = torch.utils.data.sampler.BatchSampler(test_Sampler, batch_size = 500, drop_last = False)\n",
    "\n",
    "train_loader = torch.utils.data.DataLoader(train, sampler = train_BSampler, collate_fn = collate_blocks)\n",
    "test_loader = torch.utils.data.DataLoader(test, sampler = test_BSampler, collate_fn = collate_blocks)"
   ]
  },
  {
   "cell_type": "code",
   "execution_count": 24,
   "id": "b55c47f3",
   "metadata": {
    "hidden": true
   },
   "outputs": [
    {
     "data": {
      "text/plain": [
       "[9, 10, 11, 12, 13, 14, 15, 16, 17]"
      ]
     },
     "execution_count": 24,
     "metadata": {},
     "output_type": "execute_result"
    }
   ],
   "source": [
    "# rhoii1i2_nu1.keys[\n",
    "rhoii1i2_nu1.blocks_matching(species_center=3)\n",
    "# ]"
   ]
  },
  {
   "cell_type": "code",
   "execution_count": 25,
   "id": "04d343a3",
   "metadata": {
    "hidden": true
   },
   "outputs": [],
   "source": [
    "model = ThreeCenterModel(rhoii1i2_nu1)"
   ]
  },
  {
   "cell_type": "code",
   "execution_count": 26,
   "id": "2128cb18",
   "metadata": {
    "hidden": true,
    "scrolled": true
   },
   "outputs": [
    {
     "name": "stdout",
     "output_type": "stream",
     "text": [
      "Now training on Block 0 of 27\n"
     ]
    },
    {
     "name": "stderr",
     "output_type": "stream",
     "text": [
      "Epoch: 0:   0%|                                                                                              | 0/2 [00:00<?, ?it/s, lowest_loss=9999, pred_loss=0, trigger=0]"
     ]
    },
    {
     "name": "stdout",
     "output_type": "stream",
     "text": [
      "from block forward [(3, 1, 0, 1, 1, 1)]\n",
      "from block forward [(3, 1, 0, 1, 1, 1)]\n"
     ]
    },
    {
     "name": "stderr",
     "output_type": "stream",
     "text": [
      "Epoch: 1: 100%|███████████████████████████████████████████████████████████████████████████| 2/2 [00:00<00:00,  4.94it/s, lowest_loss=0.000316, pred_loss=0.000316, trigger=0]\n"
     ]
    },
    {
     "name": "stdout",
     "output_type": "stream",
     "text": [
      "from block forward [(3, 1, 0, 1, 1, 1)]\n",
      "from block forward [(3, 1, 0, 1, 1, 1)]\n",
      "Now training on Block 1 of 27\n"
     ]
    },
    {
     "name": "stderr",
     "output_type": "stream",
     "text": [
      "Epoch: 0:   0%|                                                                                              | 0/2 [00:00<?, ?it/s, lowest_loss=9999, pred_loss=0, trigger=0]"
     ]
    },
    {
     "name": "stdout",
     "output_type": "stream",
     "text": [
      "from block forward [(3, 1, 0, 1, 1, 3)]\n"
     ]
    },
    {
     "name": "stderr",
     "output_type": "stream",
     "text": [
      "Epoch: 1:   0%|                                                                                   | 0/2 [00:00<?, ?it/s, lowest_loss=0.000289, pred_loss=0.000289, trigger=0]"
     ]
    },
    {
     "name": "stdout",
     "output_type": "stream",
     "text": [
      "from block forward [(3, 1, 0, 1, 1, 3)]\n"
     ]
    },
    {
     "name": "stderr",
     "output_type": "stream",
     "text": [
      "Epoch: 1: 100%|███████████████████████████████████████████████████████████████████████████| 2/2 [00:00<00:00, 11.65it/s, lowest_loss=0.000289, pred_loss=0.000289, trigger=0]\n"
     ]
    },
    {
     "name": "stdout",
     "output_type": "stream",
     "text": [
      "from block forward [(3, 1, 0, 1, 1, 3)]\n",
      "from block forward [(3, 1, 0, 1, 1, 3)]\n",
      "Now training on Block 2 of 27\n"
     ]
    },
    {
     "name": "stderr",
     "output_type": "stream",
     "text": [
      "Epoch: 0:   0%|                                                                                              | 0/2 [00:00<?, ?it/s, lowest_loss=9999, pred_loss=0, trigger=0]"
     ]
    },
    {
     "name": "stdout",
     "output_type": "stream",
     "text": [
      "from block forward [(3, 1, 0, 1, 1, 12)]\n"
     ]
    },
    {
     "name": "stderr",
     "output_type": "stream",
     "text": [
      "Epoch: 1:  50%|█████████████████████████████████████▌                                     | 1/2 [00:00<00:00,  2.98it/s, lowest_loss=0.000274, pred_loss=0.000274, trigger=0]"
     ]
    },
    {
     "name": "stdout",
     "output_type": "stream",
     "text": [
      "from block forward [(3, 1, 0, 1, 1, 12)]\n",
      "from block forward [(3, 1, 0, 1, 1, 12)]\n"
     ]
    },
    {
     "name": "stderr",
     "output_type": "stream",
     "text": [
      "Epoch: 1: 100%|███████████████████████████████████████████████████████████████████████████| 2/2 [00:00<00:00,  2.59it/s, lowest_loss=0.000274, pred_loss=0.000274, trigger=0]\n"
     ]
    },
    {
     "name": "stdout",
     "output_type": "stream",
     "text": [
      "from block forward [(3, 1, 0, 1, 1, 12)]\n",
      "Now training on Block 3 of 27\n"
     ]
    },
    {
     "name": "stderr",
     "output_type": "stream",
     "text": [
      "Epoch: 1:   0%|                                                                                     | 0/2 [00:00<?, ?it/s, lowest_loss=0.00033, pred_loss=0.00033, trigger=0]"
     ]
    },
    {
     "name": "stdout",
     "output_type": "stream",
     "text": [
      "from block forward [(3, 1, 0, 1, 3, 1)]\n",
      "from block forward [(3, 1, 0, 1, 3, 1)]\n",
      "from block forward [(3, 1, 0, 1, 3, 1)]\n"
     ]
    },
    {
     "name": "stderr",
     "output_type": "stream",
     "text": [
      "Epoch: 1: 100%|█████████████████████████████████████████████████████████████████████████████| 2/2 [00:00<00:00, 11.25it/s, lowest_loss=0.00033, pred_loss=0.00033, trigger=0]\n"
     ]
    },
    {
     "name": "stdout",
     "output_type": "stream",
     "text": [
      "from block forward [(3, 1, 0, 1, 3, 1)]\n",
      "Now training on Block 4 of 27\n"
     ]
    },
    {
     "name": "stderr",
     "output_type": "stream",
     "text": [
      "Epoch: 0:   0%|                                                                                              | 0/2 [00:00<?, ?it/s, lowest_loss=9999, pred_loss=0, trigger=0]"
     ]
    },
    {
     "name": "stdout",
     "output_type": "stream",
     "text": [
      "from block forward [(3, 1, 0, 1, 3, 3)]\n"
     ]
    },
    {
     "name": "stderr",
     "output_type": "stream",
     "text": [
      "Epoch: 1: 100%|███████████████████████████████████████████████████████████████████████████| 2/2 [00:00<00:00, 12.19it/s, lowest_loss=0.000274, pred_loss=0.000274, trigger=0]\n"
     ]
    },
    {
     "name": "stdout",
     "output_type": "stream",
     "text": [
      "from block forward [(3, 1, 0, 1, 3, 3)]\n",
      "from block forward [(3, 1, 0, 1, 3, 3)]\n",
      "from block forward [(3, 1, 0, 1, 3, 3)]\n",
      "Now training on Block 5 of 27\n"
     ]
    },
    {
     "name": "stderr",
     "output_type": "stream",
     "text": [
      "Epoch: 0:   0%|                                                                                              | 0/2 [00:00<?, ?it/s, lowest_loss=9999, pred_loss=0, trigger=0]"
     ]
    },
    {
     "name": "stdout",
     "output_type": "stream",
     "text": [
      "from block forward [(3, 1, 0, 1, 3, 12)]\n"
     ]
    },
    {
     "name": "stderr",
     "output_type": "stream",
     "text": [
      "Epoch: 1:  50%|█████████████████████████████████████▌                                     | 1/2 [00:00<00:00,  4.48it/s, lowest_loss=0.000313, pred_loss=0.000313, trigger=0]"
     ]
    },
    {
     "name": "stdout",
     "output_type": "stream",
     "text": [
      "from block forward [(3, 1, 0, 1, 3, 12)]\n",
      "from block forward [(3, 1, 0, 1, 3, 12)]\n",
      "from block forward [(3, 1, 0, 1, 3, 12)]\n"
     ]
    },
    {
     "name": "stderr",
     "output_type": "stream",
     "text": [
      "Epoch: 1: 100%|███████████████████████████████████████████████████████████████████████████| 2/2 [00:00<00:00,  4.75it/s, lowest_loss=0.000313, pred_loss=0.000313, trigger=0]\n"
     ]
    },
    {
     "name": "stdout",
     "output_type": "stream",
     "text": [
      "Now training on Block 6 of 27\n"
     ]
    },
    {
     "name": "stderr",
     "output_type": "stream",
     "text": [
      "Epoch: 0:   0%|                                                                                              | 0/2 [00:00<?, ?it/s, lowest_loss=9999, pred_loss=0, trigger=0]"
     ]
    },
    {
     "name": "stdout",
     "output_type": "stream",
     "text": [
      "from block forward [(3, 1, 0, 1, 12, 1)]\n"
     ]
    },
    {
     "name": "stderr",
     "output_type": "stream",
     "text": [
      "Epoch: 1:  50%|█████████████████████████████████████▌                                     | 1/2 [00:00<00:00,  3.03it/s, lowest_loss=0.000278, pred_loss=0.000278, trigger=0]"
     ]
    },
    {
     "name": "stdout",
     "output_type": "stream",
     "text": [
      "from block forward [(3, 1, 0, 1, 12, 1)]\n",
      "from block forward [(3, 1, 0, 1, 12, 1)]\n"
     ]
    },
    {
     "name": "stderr",
     "output_type": "stream",
     "text": [
      "Epoch: 1: 100%|███████████████████████████████████████████████████████████████████████████| 2/2 [00:00<00:00,  3.13it/s, lowest_loss=0.000278, pred_loss=0.000278, trigger=0]\n"
     ]
    },
    {
     "name": "stdout",
     "output_type": "stream",
     "text": [
      "from block forward [(3, 1, 0, 1, 12, 1)]\n",
      "Now training on Block 7 of 27\n"
     ]
    },
    {
     "name": "stderr",
     "output_type": "stream",
     "text": [
      "Epoch: 0:   0%|                                                                                              | 0/2 [00:00<?, ?it/s, lowest_loss=9999, pred_loss=0, trigger=0]"
     ]
    },
    {
     "name": "stdout",
     "output_type": "stream",
     "text": [
      "from block forward [(3, 1, 0, 1, 12, 3)]\n"
     ]
    },
    {
     "name": "stderr",
     "output_type": "stream",
     "text": [
      "Epoch: 1:  50%|█████████████████████████████████████▌                                     | 1/2 [00:00<00:00,  4.61it/s, lowest_loss=0.000262, pred_loss=0.000262, trigger=0]"
     ]
    },
    {
     "name": "stdout",
     "output_type": "stream",
     "text": [
      "from block forward [(3, 1, 0, 1, 12, 3)]\n",
      "from block forward [(3, 1, 0, 1, 12, 3)]\n",
      "from block forward [(3, 1, 0, 1, 12, 3)]\n"
     ]
    },
    {
     "name": "stderr",
     "output_type": "stream",
     "text": [
      "Epoch: 1: 100%|███████████████████████████████████████████████████████████████████████████| 2/2 [00:00<00:00,  4.97it/s, lowest_loss=0.000262, pred_loss=0.000262, trigger=0]\n"
     ]
    },
    {
     "name": "stdout",
     "output_type": "stream",
     "text": [
      "Now training on Block 8 of 27\n"
     ]
    },
    {
     "name": "stderr",
     "output_type": "stream",
     "text": [
      "Epoch: 0:   0%|                                                                                              | 0/2 [00:00<?, ?it/s, lowest_loss=9999, pred_loss=0, trigger=0]"
     ]
    },
    {
     "name": "stdout",
     "output_type": "stream",
     "text": [
      "from block forward [(3, 1, 0, 1, 12, 12)]\n",
      "from block forward [(3, 1, 0, 1, 12, 12)]\n"
     ]
    },
    {
     "name": "stderr",
     "output_type": "stream",
     "text": [
      "Epoch: 1:  50%|█████████████████████████████████████▌                                     | 1/2 [00:01<00:01,  1.61s/it, lowest_loss=0.000236, pred_loss=0.000236, trigger=0]"
     ]
    },
    {
     "name": "stdout",
     "output_type": "stream",
     "text": [
      "from block forward [(3, 1, 0, 1, 12, 12)]\n",
      "from block forward [(3, 1, 0, 1, 12, 12)]\n"
     ]
    },
    {
     "name": "stderr",
     "output_type": "stream",
     "text": [
      "Epoch: 1: 100%|███████████████████████████████████████████████████████████████████████████| 2/2 [00:02<00:00,  1.37s/it, lowest_loss=0.000236, pred_loss=0.000236, trigger=0]\n"
     ]
    },
    {
     "name": "stdout",
     "output_type": "stream",
     "text": [
      "Now training on Block 9 of 27\n"
     ]
    },
    {
     "name": "stderr",
     "output_type": "stream",
     "text": [
      "Epoch: 1:  50%|█████████████████████████████████████▌                                     | 1/2 [00:00<00:00,  9.27it/s, lowest_loss=0.000246, pred_loss=0.000246, trigger=0]"
     ]
    },
    {
     "name": "stdout",
     "output_type": "stream",
     "text": [
      "from block forward [(3, 1, 0, 3, 1, 1)]\n",
      "from block forward [(3, 1, 0, 3, 1, 1)]\n",
      "from block forward [(3, 1, 0, 3, 1, 1)]\n",
      "from block forward [(3, 1, 0, 3, 1, 1)]\n"
     ]
    },
    {
     "name": "stderr",
     "output_type": "stream",
     "text": [
      "Epoch: 1: 100%|███████████████████████████████████████████████████████████████████████████| 2/2 [00:00<00:00,  9.99it/s, lowest_loss=0.000246, pred_loss=0.000246, trigger=0]\n"
     ]
    },
    {
     "name": "stdout",
     "output_type": "stream",
     "text": [
      "Now training on Block 10 of 27\n"
     ]
    },
    {
     "name": "stderr",
     "output_type": "stream",
     "text": [
      "Epoch: 1: 100%|███████████████████████████████████████████████████████████████████████████| 2/2 [00:00<00:00, 10.86it/s, lowest_loss=0.000291, pred_loss=0.000291, trigger=0]\n"
     ]
    },
    {
     "name": "stdout",
     "output_type": "stream",
     "text": [
      "from block forward [(3, 1, 0, 3, 1, 3)]\n",
      "from block forward [(3, 1, 0, 3, 1, 3)]\n",
      "from block forward [(3, 1, 0, 3, 1, 3)]\n",
      "from block forward [(3, 1, 0, 3, 1, 3)]\n",
      "Now training on Block 11 of 27\n"
     ]
    },
    {
     "name": "stderr",
     "output_type": "stream",
     "text": [
      "Epoch: 0:   0%|                                                                                              | 0/2 [00:00<?, ?it/s, lowest_loss=9999, pred_loss=0, trigger=0]"
     ]
    },
    {
     "name": "stdout",
     "output_type": "stream",
     "text": [
      "from block forward [(3, 1, 0, 3, 1, 12)]\n"
     ]
    },
    {
     "name": "stderr",
     "output_type": "stream",
     "text": [
      "Epoch: 1:  50%|█████████████████████████████████████▌                                     | 1/2 [00:00<00:00,  2.64it/s, lowest_loss=0.000322, pred_loss=0.000322, trigger=0]"
     ]
    },
    {
     "name": "stdout",
     "output_type": "stream",
     "text": [
      "from block forward [(3, 1, 0, 3, 1, 12)]\n",
      "from block forward [(3, 1, 0, 3, 1, 12)]\n"
     ]
    },
    {
     "name": "stderr",
     "output_type": "stream",
     "text": [
      "Epoch: 1: 100%|███████████████████████████████████████████████████████████████████████████| 2/2 [00:00<00:00,  2.84it/s, lowest_loss=0.000322, pred_loss=0.000322, trigger=0]\n"
     ]
    },
    {
     "name": "stdout",
     "output_type": "stream",
     "text": [
      "from block forward [(3, 1, 0, 3, 1, 12)]\n",
      "Now training on Block 12 of 27\n"
     ]
    },
    {
     "name": "stderr",
     "output_type": "stream",
     "text": [
      "Epoch: 1:  50%|█████████████████████████████████████▌                                     | 1/2 [00:00<00:00,  9.94it/s, lowest_loss=0.000278, pred_loss=0.000278, trigger=0]"
     ]
    },
    {
     "name": "stdout",
     "output_type": "stream",
     "text": [
      "from block forward [(3, 1, 0, 3, 3, 1)]\n",
      "from block forward [(3, 1, 0, 3, 3, 1)]\n"
     ]
    },
    {
     "name": "stderr",
     "output_type": "stream",
     "text": [
      "Epoch: 1: 100%|███████████████████████████████████████████████████████████████████████████| 2/2 [00:00<00:00, 10.21it/s, lowest_loss=0.000278, pred_loss=0.000278, trigger=0]\n"
     ]
    },
    {
     "name": "stdout",
     "output_type": "stream",
     "text": [
      "from block forward [(3, 1, 0, 3, 3, 1)]\n",
      "from block forward [(3, 1, 0, 3, 3, 1)]\n",
      "Now training on Block 13 of 27\n"
     ]
    },
    {
     "name": "stderr",
     "output_type": "stream",
     "text": [
      "Epoch: 1:  50%|█████████████████████████████████████▌                                     | 1/2 [00:00<00:00,  7.94it/s, lowest_loss=0.000309, pred_loss=0.000309, trigger=0]"
     ]
    },
    {
     "name": "stdout",
     "output_type": "stream",
     "text": [
      "from block forward [(3, 1, 0, 3, 3, 3)]\n",
      "from block forward [(3, 1, 0, 3, 3, 3)]\n"
     ]
    },
    {
     "name": "stderr",
     "output_type": "stream",
     "text": [
      "Epoch: 1: 100%|███████████████████████████████████████████████████████████████████████████| 2/2 [00:00<00:00,  8.78it/s, lowest_loss=0.000309, pred_loss=0.000309, trigger=0]"
     ]
    },
    {
     "name": "stdout",
     "output_type": "stream",
     "text": [
      "from block forward [(3, 1, 0, 3, 3, 3)]\n",
      "from block forward [(3, 1, 0, 3, 3, 3)]\n",
      "Now training on Block 14 of 27\n"
     ]
    },
    {
     "name": "stderr",
     "output_type": "stream",
     "text": [
      "\n",
      "Epoch: 0:   0%|                                                                                              | 0/2 [00:00<?, ?it/s, lowest_loss=9999, pred_loss=0, trigger=0]"
     ]
    },
    {
     "name": "stdout",
     "output_type": "stream",
     "text": [
      "from block forward [(3, 1, 0, 3, 3, 12)]\n"
     ]
    },
    {
     "name": "stderr",
     "output_type": "stream",
     "text": [
      "Epoch: 1:  50%|█████████████████████████████████████▌                                     | 1/2 [00:00<00:00,  1.80it/s, lowest_loss=0.000303, pred_loss=0.000303, trigger=0]"
     ]
    },
    {
     "name": "stdout",
     "output_type": "stream",
     "text": [
      "from block forward [(3, 1, 0, 3, 3, 12)]\n",
      "from block forward [(3, 1, 0, 3, 3, 12)]\n"
     ]
    },
    {
     "name": "stderr",
     "output_type": "stream",
     "text": [
      "Epoch: 1: 100%|███████████████████████████████████████████████████████████████████████████| 2/2 [00:01<00:00,  1.92it/s, lowest_loss=0.000303, pred_loss=0.000303, trigger=0]\n"
     ]
    },
    {
     "name": "stdout",
     "output_type": "stream",
     "text": [
      "from block forward [(3, 1, 0, 3, 3, 12)]\n",
      "Now training on Block 15 of 27\n"
     ]
    },
    {
     "name": "stderr",
     "output_type": "stream",
     "text": [
      "Epoch: 0:   0%|                                                                                              | 0/2 [00:00<?, ?it/s, lowest_loss=9999, pred_loss=0, trigger=0]"
     ]
    },
    {
     "name": "stdout",
     "output_type": "stream",
     "text": [
      "from block forward [(3, 1, 0, 3, 12, 1)]\n"
     ]
    },
    {
     "name": "stderr",
     "output_type": "stream",
     "text": [
      "Epoch: 1:  50%|█████████████████████████████████████▌                                     | 1/2 [00:00<00:00,  2.97it/s, lowest_loss=0.000336, pred_loss=0.000336, trigger=0]"
     ]
    },
    {
     "name": "stdout",
     "output_type": "stream",
     "text": [
      "from block forward [(3, 1, 0, 3, 12, 1)]\n",
      "from block forward [(3, 1, 0, 3, 12, 1)]\n"
     ]
    },
    {
     "name": "stderr",
     "output_type": "stream",
     "text": [
      "Epoch: 1: 100%|███████████████████████████████████████████████████████████████████████████| 2/2 [00:00<00:00,  3.02it/s, lowest_loss=0.000336, pred_loss=0.000336, trigger=0]\n"
     ]
    },
    {
     "name": "stdout",
     "output_type": "stream",
     "text": [
      "from block forward [(3, 1, 0, 3, 12, 1)]\n",
      "Now training on Block 16 of 27\n"
     ]
    },
    {
     "name": "stderr",
     "output_type": "stream",
     "text": [
      "Epoch: 0:   0%|                                                                                              | 0/2 [00:00<?, ?it/s, lowest_loss=9999, pred_loss=0, trigger=0]"
     ]
    },
    {
     "name": "stdout",
     "output_type": "stream",
     "text": [
      "from block forward [(3, 1, 0, 3, 12, 3)]\n"
     ]
    },
    {
     "name": "stderr",
     "output_type": "stream",
     "text": [
      "Epoch: 1:  50%|█████████████████████████████████████▌                                     | 1/2 [00:00<00:00,  1.65it/s, lowest_loss=0.000288, pred_loss=0.000288, trigger=0]"
     ]
    },
    {
     "name": "stdout",
     "output_type": "stream",
     "text": [
      "from block forward [(3, 1, 0, 3, 12, 3)]\n",
      "from block forward [(3, 1, 0, 3, 12, 3)]\n"
     ]
    },
    {
     "name": "stderr",
     "output_type": "stream",
     "text": [
      "Epoch: 1: 100%|███████████████████████████████████████████████████████████████████████████| 2/2 [00:01<00:00,  1.78it/s, lowest_loss=0.000288, pred_loss=0.000288, trigger=0]\n"
     ]
    },
    {
     "name": "stdout",
     "output_type": "stream",
     "text": [
      "from block forward [(3, 1, 0, 3, 12, 3)]\n",
      "Now training on Block 17 of 27\n"
     ]
    },
    {
     "name": "stderr",
     "output_type": "stream",
     "text": [
      "Epoch: 0:   0%|                                                                                              | 0/2 [00:00<?, ?it/s, lowest_loss=9999, pred_loss=0, trigger=0]"
     ]
    },
    {
     "name": "stdout",
     "output_type": "stream",
     "text": [
      "from block forward [(3, 1, 0, 3, 12, 12)]\n",
      "from block forward [(3, 1, 0, 3, 12, 12)]\n"
     ]
    },
    {
     "name": "stderr",
     "output_type": "stream",
     "text": [
      "Epoch: 1:  50%|██████████████████████████████████████▌                                      | 1/2 [00:10<00:10, 10.12s/it, lowest_loss=0.00034, pred_loss=0.00034, trigger=0]"
     ]
    },
    {
     "name": "stdout",
     "output_type": "stream",
     "text": [
      "from block forward [(3, 1, 0, 3, 12, 12)]\n",
      "from block forward [(3, 1, 0, 3, 12, 12)]\n"
     ]
    },
    {
     "name": "stderr",
     "output_type": "stream",
     "text": [
      "Epoch: 1: 100%|█████████████████████████████████████████████████████████████████████████████| 2/2 [00:17<00:00,  8.57s/it, lowest_loss=0.00034, pred_loss=0.00034, trigger=0]\n"
     ]
    },
    {
     "name": "stdout",
     "output_type": "stream",
     "text": [
      "Now training on Block 18 of 27\n"
     ]
    },
    {
     "name": "stderr",
     "output_type": "stream",
     "text": [
      "Epoch: 0:   0%|                                                                                              | 0/2 [00:00<?, ?it/s, lowest_loss=9999, pred_loss=0, trigger=0]"
     ]
    },
    {
     "name": "stdout",
     "output_type": "stream",
     "text": [
      "from block forward [(3, 1, 0, 12, 1, 1)]\n",
      "from block forward [(3, 1, 0, 12, 1, 1)]\n"
     ]
    },
    {
     "name": "stderr",
     "output_type": "stream",
     "text": [
      "Epoch: 1:  50%|█████████████████████████████████████▌                                     | 1/2 [00:00<00:00,  3.13it/s, lowest_loss=0.000322, pred_loss=0.000322, trigger=0]"
     ]
    },
    {
     "name": "stdout",
     "output_type": "stream",
     "text": [
      "from block forward [(3, 1, 0, 12, 1, 1)]\n",
      "from block forward [(3, 1, 0, 12, 1, 1)]\n"
     ]
    },
    {
     "name": "stderr",
     "output_type": "stream",
     "text": [
      "Epoch: 1: 100%|███████████████████████████████████████████████████████████████████████████| 2/2 [00:00<00:00,  3.39it/s, lowest_loss=0.000322, pred_loss=0.000322, trigger=0]\n"
     ]
    },
    {
     "name": "stdout",
     "output_type": "stream",
     "text": [
      "Now training on Block 19 of 27\n"
     ]
    },
    {
     "name": "stderr",
     "output_type": "stream",
     "text": [
      "Epoch: 0:   0%|                                                                                              | 0/2 [00:00<?, ?it/s, lowest_loss=9999, pred_loss=0, trigger=0]"
     ]
    },
    {
     "name": "stdout",
     "output_type": "stream",
     "text": [
      "from block forward [(3, 1, 0, 12, 1, 3)]\n",
      "from block forward [(3, 1, 0, 12, 1, 3)]\n"
     ]
    },
    {
     "name": "stderr",
     "output_type": "stream",
     "text": [
      "Epoch: 1:  50%|█████████████████████████████████████▌                                     | 1/2 [00:00<00:00,  4.04it/s, lowest_loss=0.000277, pred_loss=0.000277, trigger=0]"
     ]
    },
    {
     "name": "stdout",
     "output_type": "stream",
     "text": [
      "from block forward [(3, 1, 0, 12, 1, 3)]\n"
     ]
    },
    {
     "name": "stderr",
     "output_type": "stream",
     "text": [
      "Epoch: 1: 100%|███████████████████████████████████████████████████████████████████████████| 2/2 [00:00<00:00,  4.00it/s, lowest_loss=0.000277, pred_loss=0.000277, trigger=0]"
     ]
    },
    {
     "name": "stdout",
     "output_type": "stream",
     "text": [
      "from block forward [(3, 1, 0, 12, 1, 3)]\n",
      "Now training on Block 20 of 27\n"
     ]
    },
    {
     "name": "stderr",
     "output_type": "stream",
     "text": [
      "\n",
      "Epoch: 0:   0%|                                                                                              | 0/2 [00:00<?, ?it/s, lowest_loss=9999, pred_loss=0, trigger=0]"
     ]
    },
    {
     "name": "stdout",
     "output_type": "stream",
     "text": [
      "from block forward [(3, 1, 0, 12, 1, 12)]\n"
     ]
    },
    {
     "name": "stderr",
     "output_type": "stream",
     "text": [
      "Epoch: 1:  50%|█████████████████████████████████████▌                                     | 1/2 [00:00<00:00,  1.03it/s, lowest_loss=0.000318, pred_loss=0.000318, trigger=0]"
     ]
    },
    {
     "name": "stdout",
     "output_type": "stream",
     "text": [
      "from block forward [(3, 1, 0, 12, 1, 12)]\n",
      "from block forward [(3, 1, 0, 12, 1, 12)]\n"
     ]
    },
    {
     "name": "stderr",
     "output_type": "stream",
     "text": [
      "Epoch: 1: 100%|███████████████████████████████████████████████████████████████████████████| 2/2 [00:01<00:00,  1.09it/s, lowest_loss=0.000318, pred_loss=0.000318, trigger=0]"
     ]
    },
    {
     "name": "stdout",
     "output_type": "stream",
     "text": [
      "from block forward [(3, 1, 0, 12, 1, 12)]\n",
      "Now training on Block 21 of 27\n"
     ]
    },
    {
     "name": "stderr",
     "output_type": "stream",
     "text": [
      "\n",
      "Epoch: 0:   0%|                                                                                              | 0/2 [00:00<?, ?it/s, lowest_loss=9999, pred_loss=0, trigger=0]"
     ]
    },
    {
     "name": "stdout",
     "output_type": "stream",
     "text": [
      "from block forward [(3, 1, 0, 12, 3, 1)]\n",
      "from block forward [(3, 1, 0, 12, 3, 1)]\n"
     ]
    },
    {
     "name": "stderr",
     "output_type": "stream",
     "text": [
      "Epoch: 1:  50%|██████████████████████████████████████▌                                      | 1/2 [00:00<00:00,  2.41it/s, lowest_loss=0.00029, pred_loss=0.00029, trigger=0]"
     ]
    },
    {
     "name": "stdout",
     "output_type": "stream",
     "text": [
      "from block forward [(3, 1, 0, 12, 3, 1)]\n"
     ]
    },
    {
     "name": "stderr",
     "output_type": "stream",
     "text": [
      "Epoch: 1: 100%|█████████████████████████████████████████████████████████████████████████████| 2/2 [00:00<00:00,  2.66it/s, lowest_loss=0.00029, pred_loss=0.00029, trigger=0]\n"
     ]
    },
    {
     "name": "stdout",
     "output_type": "stream",
     "text": [
      "from block forward [(3, 1, 0, 12, 3, 1)]\n",
      "Now training on Block 22 of 27\n"
     ]
    },
    {
     "name": "stderr",
     "output_type": "stream",
     "text": [
      "Epoch: 0:   0%|                                                                                              | 0/2 [00:00<?, ?it/s, lowest_loss=9999, pred_loss=0, trigger=0]"
     ]
    },
    {
     "name": "stdout",
     "output_type": "stream",
     "text": [
      "from block forward [(3, 1, 0, 12, 3, 3)]\n",
      "from block forward [(3, 1, 0, 12, 3, 3)]\n"
     ]
    },
    {
     "name": "stderr",
     "output_type": "stream",
     "text": [
      "Epoch: 1:  50%|██████████████████████████████████████▌                                      | 1/2 [00:00<00:00,  1.24it/s, lowest_loss=0.00037, pred_loss=0.00037, trigger=0]"
     ]
    },
    {
     "name": "stdout",
     "output_type": "stream",
     "text": [
      "from block forward [(3, 1, 0, 12, 3, 3)]\n"
     ]
    },
    {
     "name": "stderr",
     "output_type": "stream",
     "text": [
      "Epoch: 1: 100%|█████████████████████████████████████████████████████████████████████████████| 2/2 [00:01<00:00,  1.19it/s, lowest_loss=0.00037, pred_loss=0.00037, trigger=0]\n"
     ]
    },
    {
     "name": "stdout",
     "output_type": "stream",
     "text": [
      "from block forward [(3, 1, 0, 12, 3, 3)]\n",
      "Now training on Block 23 of 27\n"
     ]
    },
    {
     "name": "stderr",
     "output_type": "stream",
     "text": [
      "Epoch: 0:   0%|                                                                                              | 0/2 [00:00<?, ?it/s, lowest_loss=9999, pred_loss=0, trigger=0]"
     ]
    },
    {
     "name": "stdout",
     "output_type": "stream",
     "text": [
      "from block forward [(3, 1, 0, 12, 3, 12)]\n",
      "from block forward [(3, 1, 0, 12, 3, 12)]\n"
     ]
    },
    {
     "name": "stderr",
     "output_type": "stream",
     "text": [
      "Epoch: 1:  50%|█████████████████████████████████████▌                                     | 1/2 [00:03<00:03,  3.08s/it, lowest_loss=0.000274, pred_loss=0.000274, trigger=0]"
     ]
    },
    {
     "name": "stdout",
     "output_type": "stream",
     "text": [
      "from block forward [(3, 1, 0, 12, 3, 12)]\n",
      "from block forward [(3, 1, 0, 12, 3, 12)]\n"
     ]
    },
    {
     "name": "stderr",
     "output_type": "stream",
     "text": [
      "Epoch: 1: 100%|███████████████████████████████████████████████████████████████████████████| 2/2 [00:06<00:00,  3.30s/it, lowest_loss=0.000274, pred_loss=0.000274, trigger=0]\n"
     ]
    },
    {
     "name": "stdout",
     "output_type": "stream",
     "text": [
      "Now training on Block 24 of 27\n"
     ]
    },
    {
     "name": "stderr",
     "output_type": "stream",
     "text": [
      "Epoch: 0:   0%|                                                                                              | 0/2 [00:00<?, ?it/s, lowest_loss=9999, pred_loss=0, trigger=0]"
     ]
    },
    {
     "name": "stdout",
     "output_type": "stream",
     "text": [
      "from block forward [(3, 1, 0, 12, 12, 1)]\n",
      "from block forward [(3, 1, 0, 12, 12, 1)]\n"
     ]
    },
    {
     "name": "stderr",
     "output_type": "stream",
     "text": [
      "Epoch: 1:  50%|█████████████████████████████████████▌                                     | 1/2 [00:01<00:01,  1.08s/it, lowest_loss=0.000341, pred_loss=0.000341, trigger=0]"
     ]
    },
    {
     "name": "stdout",
     "output_type": "stream",
     "text": [
      "from block forward [(3, 1, 0, 12, 12, 1)]\n",
      "from block forward [(3, 1, 0, 12, 12, 1)]\n"
     ]
    },
    {
     "name": "stderr",
     "output_type": "stream",
     "text": [
      "Epoch: 1: 100%|███████████████████████████████████████████████████████████████████████████| 2/2 [00:02<00:00,  1.17s/it, lowest_loss=0.000341, pred_loss=0.000341, trigger=0]\n"
     ]
    },
    {
     "name": "stdout",
     "output_type": "stream",
     "text": [
      "Now training on Block 25 of 27\n"
     ]
    },
    {
     "name": "stderr",
     "output_type": "stream",
     "text": [
      "Epoch: 0:   0%|                                                                                              | 0/2 [00:00<?, ?it/s, lowest_loss=9999, pred_loss=0, trigger=0]"
     ]
    },
    {
     "name": "stdout",
     "output_type": "stream",
     "text": [
      "from block forward [(3, 1, 0, 12, 12, 3)]\n",
      "from block forward [(3, 1, 0, 12, 12, 3)]\n"
     ]
    },
    {
     "name": "stderr",
     "output_type": "stream",
     "text": [
      "Epoch: 1:  50%|█████████████████████████████████████▌                                     | 1/2 [00:04<00:04,  4.51s/it, lowest_loss=0.000298, pred_loss=0.000298, trigger=0]"
     ]
    },
    {
     "name": "stdout",
     "output_type": "stream",
     "text": [
      "from block forward [(3, 1, 0, 12, 12, 3)]\n",
      "from block forward [(3, 1, 0, 12, 12, 3)]\n"
     ]
    },
    {
     "name": "stderr",
     "output_type": "stream",
     "text": [
      "Epoch: 1: 100%|███████████████████████████████████████████████████████████████████████████| 2/2 [00:07<00:00,  3.85s/it, lowest_loss=0.000298, pred_loss=0.000298, trigger=0]\n"
     ]
    },
    {
     "name": "stdout",
     "output_type": "stream",
     "text": [
      "Now training on Block 26 of 27\n"
     ]
    },
    {
     "name": "stderr",
     "output_type": "stream",
     "text": [
      "Epoch: 0:   0%|                                                                                              | 0/2 [00:00<?, ?it/s, lowest_loss=9999, pred_loss=0, trigger=0]"
     ]
    },
    {
     "name": "stdout",
     "output_type": "stream",
     "text": [
      "from block forward [(3, 1, 0, 12, 12, 12)]\n",
      "from block forward [(3, 1, 0, 12, 12, 12)]\n"
     ]
    },
    {
     "name": "stderr",
     "output_type": "stream",
     "text": [
      "Epoch: 1:  50%|█████████████████████████████████████▌                                     | 1/2 [00:19<00:19, 19.76s/it, lowest_loss=0.000311, pred_loss=0.000311, trigger=0]"
     ]
    },
    {
     "name": "stdout",
     "output_type": "stream",
     "text": [
      "from block forward [(3, 1, 0, 12, 12, 12)]\n",
      "from block forward [(3, 1, 0, 12, 12, 12)]\n"
     ]
    },
    {
     "name": "stderr",
     "output_type": "stream",
     "text": [
      "Epoch: 1: 100%|███████████████████████████████████████████████████████████████████████████| 2/2 [00:39<00:00, 19.59s/it, lowest_loss=0.000311, pred_loss=0.000311, trigger=0]\n"
     ]
    }
   ],
   "source": [
    "model.fit(train_loader, regularization_dict, optimizer_type=\"Adam\", n_epochs=2, loss_function=mse_loss, lr=0.01)"
   ]
  },
  {
   "cell_type": "code",
   "execution_count": 28,
   "id": "ef1ca8ec",
   "metadata": {
    "hidden": true
   },
   "outputs": [
    {
     "ename": "AttributeError",
     "evalue": "'TensorBlock' object has no attribute 'keys'",
     "output_type": "error",
     "traceback": [
      "\u001b[0;31m---------------------------------------------------------------------------\u001b[0m",
      "\u001b[0;31mAttributeError\u001b[0m                            Traceback (most recent call last)",
      "Cell \u001b[0;32mIn [28], line 3\u001b[0m\n\u001b[1;32m      1\u001b[0m \u001b[38;5;28;01mfor\u001b[39;00m x_data, structures \u001b[38;5;129;01min\u001b[39;00m test_loader:\n\u001b[1;32m      2\u001b[0m \u001b[38;5;66;03m#     print(x_data)\u001b[39;00m\n\u001b[0;32m----> 3\u001b[0m     pred \u001b[38;5;241m=\u001b[39m \u001b[43mmodel\u001b[49m\u001b[43m(\u001b[49m\u001b[43mx_data\u001b[49m\u001b[43m)\u001b[49m\n\u001b[1;32m      4\u001b[0m \u001b[38;5;66;03m#     print (\"Test error for mse_full is {}\".format(mse_full(pred, )))\u001b[39;00m\n",
      "File \u001b[0;32m~/miniconda3/lib/python3.8/site-packages/torch/nn/modules/module.py:1190\u001b[0m, in \u001b[0;36mModule._call_impl\u001b[0;34m(self, *input, **kwargs)\u001b[0m\n\u001b[1;32m   1186\u001b[0m \u001b[38;5;66;03m# If we don't have any hooks, we want to skip the rest of the logic in\u001b[39;00m\n\u001b[1;32m   1187\u001b[0m \u001b[38;5;66;03m# this function, and just call forward.\u001b[39;00m\n\u001b[1;32m   1188\u001b[0m \u001b[38;5;28;01mif\u001b[39;00m \u001b[38;5;129;01mnot\u001b[39;00m (\u001b[38;5;28mself\u001b[39m\u001b[38;5;241m.\u001b[39m_backward_hooks \u001b[38;5;129;01mor\u001b[39;00m \u001b[38;5;28mself\u001b[39m\u001b[38;5;241m.\u001b[39m_forward_hooks \u001b[38;5;129;01mor\u001b[39;00m \u001b[38;5;28mself\u001b[39m\u001b[38;5;241m.\u001b[39m_forward_pre_hooks \u001b[38;5;129;01mor\u001b[39;00m _global_backward_hooks\n\u001b[1;32m   1189\u001b[0m         \u001b[38;5;129;01mor\u001b[39;00m _global_forward_hooks \u001b[38;5;129;01mor\u001b[39;00m _global_forward_pre_hooks):\n\u001b[0;32m-> 1190\u001b[0m     \u001b[38;5;28;01mreturn\u001b[39;00m \u001b[43mforward_call\u001b[49m\u001b[43m(\u001b[49m\u001b[38;5;241;43m*\u001b[39;49m\u001b[38;5;28;43minput\u001b[39;49m\u001b[43m,\u001b[49m\u001b[43m \u001b[49m\u001b[38;5;241;43m*\u001b[39;49m\u001b[38;5;241;43m*\u001b[39;49m\u001b[43mkwargs\u001b[49m\u001b[43m)\u001b[49m\n\u001b[1;32m   1191\u001b[0m \u001b[38;5;66;03m# Do not call functions when jit is used\u001b[39;00m\n\u001b[1;32m   1192\u001b[0m full_backward_hooks, non_full_backward_hooks \u001b[38;5;241m=\u001b[39m [], []\n",
      "Cell \u001b[0;32mIn [21], line 153\u001b[0m, in \u001b[0;36mThreeCenterModel.forward\u001b[0;34m(self, feature)\u001b[0m\n\u001b[1;32m    149\u001b[0m         pred_blocks \u001b[38;5;241m=\u001b[39m[]\n\u001b[1;32m    150\u001b[0m         \u001b[38;5;28;01mfor\u001b[39;00m k, block \u001b[38;5;129;01min\u001b[39;00m feature:\n\u001b[1;32m    151\u001b[0m \u001b[38;5;66;03m#             print(self[str(k)])\u001b[39;00m\n\u001b[0;32m--> 153\u001b[0m             recons \u001b[38;5;241m=\u001b[39m \u001b[38;5;28;43mself\u001b[39;49m\u001b[38;5;241;43m.\u001b[39;49m\u001b[43mmodels\u001b[49m\u001b[43m[\u001b[49m\u001b[38;5;28;43mstr\u001b[39;49m\u001b[43m(\u001b[49m\u001b[43mk\u001b[49m\u001b[43m)\u001b[49m\u001b[43m]\u001b[49m\u001b[38;5;241;43m.\u001b[39;49m\u001b[43mforward\u001b[49m\u001b[43m(\u001b[49m\u001b[43mblock\u001b[49m\u001b[43m)\u001b[49m \u001b[38;5;66;03m# expects a tensorMap\u001b[39;00m\n\u001b[1;32m    155\u001b[0m             newblock \u001b[38;5;241m=\u001b[39m TensorBlock(\n\u001b[1;32m    156\u001b[0m                         values\u001b[38;5;241m=\u001b[39mrecons\u001b[38;5;241m.\u001b[39mreshape(block\u001b[38;5;241m.\u001b[39mvalues\u001b[38;5;241m.\u001b[39mshape),\n\u001b[1;32m    157\u001b[0m                         samples\u001b[38;5;241m=\u001b[39mblock\u001b[38;5;241m.\u001b[39msamples,\n\u001b[1;32m    158\u001b[0m                         components\u001b[38;5;241m=\u001b[39mblock\u001b[38;5;241m.\u001b[39mcomponents,\n\u001b[1;32m    159\u001b[0m                         properties\u001b[38;5;241m=\u001b[39m block\u001b[38;5;241m.\u001b[39mproperties\n\u001b[1;32m    160\u001b[0m                     )\n\u001b[1;32m    161\u001b[0m             pred_blocks\u001b[38;5;241m.\u001b[39mappend(newblock) \n",
      "Cell \u001b[0;32mIn [21], line 23\u001b[0m, in \u001b[0;36mBlockEncoderDecoder.forward\u001b[0;34m(self, x)\u001b[0m\n\u001b[1;32m     22\u001b[0m \u001b[38;5;28;01mdef\u001b[39;00m \u001b[38;5;21mforward\u001b[39m(\u001b[38;5;28mself\u001b[39m, x):\n\u001b[0;32m---> 23\u001b[0m     \u001b[38;5;28mprint\u001b[39m(\u001b[38;5;124m\"\u001b[39m\u001b[38;5;124mfrom block forward\u001b[39m\u001b[38;5;124m\"\u001b[39m, \u001b[43mx\u001b[49m\u001b[38;5;241;43m.\u001b[39;49m\u001b[43mkeys\u001b[49m)\n\u001b[1;32m     24\u001b[0m     x \u001b[38;5;241m=\u001b[39m torch\u001b[38;5;241m.\u001b[39mfrom_numpy(x\u001b[38;5;241m.\u001b[39mblock()\u001b[38;5;241m.\u001b[39mvalues)\n\u001b[1;32m     25\u001b[0m     activation \u001b[38;5;241m=\u001b[39m \u001b[38;5;28mself\u001b[39m\u001b[38;5;241m.\u001b[39mencoder_hidden_layer(x)\n",
      "\u001b[0;31mAttributeError\u001b[0m: 'TensorBlock' object has no attribute 'keys'"
     ]
    }
   ],
   "source": [
    "for x_data, structures in test_loader:\n",
    "#     print(x_data)\n",
    "    pred = model(x_data)\n",
    "#     print (\"Test error for mse_full is {}\".format(mse_full(pred, )))"
   ]
  },
  {
   "cell_type": "code",
   "execution_count": null,
   "id": "e67306ed",
   "metadata": {
    "hidden": true
   },
   "outputs": [],
   "source": [
    "# aa=[]\n",
    "# bb=[]\n",
    "# for x, y in train_loader:\n",
    "#     aa.append(x)\n",
    "#     bb.append(y)\n",
    "# from itertools import chain\n",
    "# list(chain.from_iterable(bb))==frames[:400]"
   ]
  },
  {
   "cell_type": "code",
   "execution_count": null,
   "id": "22d64830",
   "metadata": {
    "hidden": true
   },
   "outputs": [],
   "source": []
  },
  {
   "cell_type": "code",
   "execution_count": null,
   "id": "4397a414",
   "metadata": {
    "hidden": true
   },
   "outputs": [],
   "source": []
  },
  {
   "cell_type": "code",
   "execution_count": 10,
   "id": "20deb550",
   "metadata": {
    "hidden": true
   },
   "outputs": [],
   "source": [
    "rascal_hypers = {\n",
    "    \"interaction_cutoff\": 4.5,\n",
    "    \"cutoff_smooth_width\": 0.3,\n",
    "    \"max_radial\": 4,\n",
    "    \"max_angular\": 2,\n",
    "    \"gaussian_sigma_type\": \"Constant\",\n",
    "    \"compute_gradients\":  False,\n",
    "#     \"expansion_by_species_method\": \"user defined\",\n",
    "#     \"global_species\": [1,6,8,7]\n",
    "    \n",
    "}\n",
    "\n",
    "cg = ClebschGordanReal(5)\n",
    "\n",
    "spex = RascalSphericalExpansion(rascal_hypers)\n",
    "rhoi = spex.compute(frames)\n",
    "pairs = RascalPairExpansion(rascal_hypers)\n",
    "gij = pairs.compute(frames)"
   ]
  },
  {
   "cell_type": "markdown",
   "id": "af985066",
   "metadata": {
    "hidden": true
   },
   "source": [
    "### $\\rho_{i}^{\\otimes 3}$"
   ]
  },
  {
   "cell_type": "code",
   "execution_count": 23,
   "id": "d8e04faa",
   "metadata": {
    "hidden": true
   },
   "outputs": [],
   "source": [
    "rho1i = acdc_standardize_keys(rhoi)\n",
    "rho1i = rho1i.keys_to_properties(['species_neighbor'])\n",
    "\n",
    "rho2i = cg_increment(rho1i, rho1i, lcut=4, other_keys_match=[\"species_center\"], clebsch_gordan=cg)\n",
    "rho3i =  cg_increment(rho2i, rho1i, lcut=0, other_keys_match=[\"species_center\"], clebsch_gordan=cg)"
   ]
  },
  {
   "cell_type": "markdown",
   "id": "28449f58",
   "metadata": {
    "hidden": true
   },
   "source": [
    "### $\\rho_{i i_1 i_2}^{\\otimes 1}$"
   ]
  },
  {
   "cell_type": "code",
   "execution_count": 26,
   "id": "24d3feb1",
   "metadata": {
    "hidden": true
   },
   "outputs": [],
   "source": [
    "gij =  acdc_standardize_keys(gij)\n",
    "rhoii1i2_nu0 = cg_combine(gij, gij, clebsch_gordan=cg,lcut=4, other_keys_match=['species_center'])\n",
    "rhoii1i2_nu1 =  cg_combine(rho1i, rhoii1i2_nu0, clebsch_gordan=cg, lcut=0, other_keys_match = ['species_center'])\n"
   ]
  },
  {
   "cell_type": "markdown",
   "id": "3fde0c55",
   "metadata": {
    "hidden": true
   },
   "source": [
    "### check degeneracy of $\\rho_{i}^{\\otimes 3}$"
   ]
  },
  {
   "cell_type": "code",
   "execution_count": 30,
   "id": "1952f080",
   "metadata": {
    "hidden": true
   },
   "outputs": [
    {
     "data": {
      "text/plain": [
       "1.680772513045776e-22"
      ]
     },
     "execution_count": 30,
     "metadata": {},
     "output_type": "execute_result"
    }
   ],
   "source": [
    "np.linalg.norm(rho3i.block(species_center = 3, inversion_sigma = 1).values[0] - rho3i.block(species_center = 3, inversion_sigma = 1).values[1])"
   ]
  },
  {
   "cell_type": "code",
   "execution_count": 29,
   "id": "e77496a7",
   "metadata": {
    "hidden": true
   },
   "outputs": [],
   "source": [
    "# rhoii1i2_nu1.keys_to_properties('species_neighbor_1')\n",
    "# rhoii1i2_nu1.keys_to_properties('species_neighbor_2')"
   ]
  },
  {
   "cell_type": "code",
   "execution_count": 49,
   "id": "e9df374b",
   "metadata": {
    "hidden": true
   },
   "outputs": [
    {
     "data": {
      "text/plain": [
       "Labels([(1, 0, 1, 1), (1, 0, 1, 2), (1, 0, 1, 3), (1, 0, 1, 4),\n",
       "        (1, 0, 1, 5), (1, 0, 1, 6), (1, 0, 2, 1), (1, 0, 2, 2),\n",
       "        (1, 0, 2, 3), (1, 0, 2, 4), (1, 0, 2, 5), (1, 0, 2, 6),\n",
       "        (1, 0, 3, 1), (1, 0, 3, 2), (1, 0, 3, 3), (1, 0, 3, 4),\n",
       "        (1, 0, 3, 5), (1, 0, 3, 6), (1, 0, 4, 1), (1, 0, 4, 2),\n",
       "        (1, 0, 4, 3), (1, 0, 4, 4), (1, 0, 4, 5), (1, 0, 4, 6),\n",
       "        (1, 0, 5, 1), (1, 0, 5, 2), (1, 0, 5, 3), (1, 0, 5, 4),\n",
       "        (1, 0, 5, 5), (1, 0, 5, 6), (1, 0, 6, 1), (1, 0, 6, 2),\n",
       "        (1, 0, 6, 3), (1, 0, 6, 4), (1, 0, 6, 5), (1, 0, 6, 6)],\n",
       "       dtype=[('structure', '<i4'), ('center', '<i4'), ('neighbor_1', '<i4'), ('neighbor_2', '<i4')])"
      ]
     },
     "execution_count": 49,
     "metadata": {},
     "output_type": "execute_result"
    }
   ],
   "source": [
    "rhoii1i2_nu1.block(species_center = 3,species_neighbor_a=12, species_neighbor_b=12, inversion_sigma=1).samples[36:72]#values.shape\n"
   ]
  },
  {
   "cell_type": "code",
   "execution_count": 46,
   "id": "840362bc",
   "metadata": {
    "hidden": true
   },
   "outputs": [
    {
     "data": {
      "text/plain": [
       "2.5486800904721503e-07"
      ]
     },
     "execution_count": 46,
     "metadata": {},
     "output_type": "execute_result"
    }
   ],
   "source": [
    "np.linalg.norm(rhoii1i2_nu1.block(species_center = 3,species_neighbor_a=1, species_neighbor_b=12, inversion_sigma=1 ).values[:36])"
   ]
  }
 ],
 "metadata": {
  "kernelspec": {
   "display_name": "Python 3 (ipykernel)",
   "language": "python",
   "name": "python3"
  },
  "language_info": {
   "codemirror_mode": {
    "name": "ipython",
    "version": 3
   },
   "file_extension": ".py",
   "mimetype": "text/x-python",
   "name": "python",
   "nbconvert_exporter": "python",
   "pygments_lexer": "ipython3",
   "version": "3.8.13"
  },
  "toc": {
   "base_numbering": 1,
   "nav_menu": {},
   "number_sections": true,
   "sideBar": true,
   "skip_h1_title": false,
   "title_cell": "Table of Contents",
   "title_sidebar": "Contents",
   "toc_cell": true,
   "toc_position": {
    "height": "529px",
    "left": "10px",
    "top": "150px",
    "width": "165px"
   },
   "toc_section_display": true,
   "toc_window_display": true
  }
 },
 "nbformat": 4,
 "nbformat_minor": 5
}
