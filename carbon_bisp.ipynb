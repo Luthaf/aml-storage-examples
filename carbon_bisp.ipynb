{
 "cells": [
  {
   "cell_type": "code",
   "execution_count": 1,
   "id": "12454d64",
   "metadata": {
    "ExecuteTime": {
     "end_time": "2023-05-08T09:55:31.956349Z",
     "start_time": "2023-05-08T09:55:31.915828Z"
    }
   },
   "outputs": [],
   "source": [
    "%load_ext autoreload\n",
    "%autoreload 2 "
   ]
  },
  {
   "cell_type": "code",
   "execution_count": 2,
   "id": "5b660c69",
   "metadata": {
    "ExecuteTime": {
     "end_time": "2023-05-08T09:55:35.499192Z",
     "start_time": "2023-05-08T09:55:31.959193Z"
    }
   },
   "outputs": [],
   "source": [
    "from ase.io import read,write\n",
    "from ase.visualize import view\n",
    "import numpy as np \n",
    "\n",
    "from equistore import Labels, TensorBlock, TensorMap\n",
    "from itertools import product\n",
    "from equistore_utils.clebsh_gordan import ClebschGordanReal\n",
    "\n",
    "import matplotlib.pyplot as plt\n",
    "\n",
    "# from equistore_utils.librascal import  RascalSphericalExpansion, RascalPairExpansion\n",
    "# from rascal.representations import SphericalExpansion\n",
    "from equistore_utils.acdc_mini import acdc_standardize_keys, _remove_suffix\n",
    "from rascaline import SphericalExpansion\n",
    "from rascaline import SphericalExpansionByPair as PairExpansion\n",
    "from equistore import operations\n",
    "import copy\n",
    "import ase \n",
    "import tqdm \n",
    "import hickle"
   ]
  },
  {
   "cell_type": "code",
   "execution_count": 3,
   "id": "a8aec266",
   "metadata": {
    "ExecuteTime": {
     "end_time": "2023-05-08T09:55:35.533233Z",
     "start_time": "2023-05-08T09:55:35.501552Z"
    }
   },
   "outputs": [],
   "source": [
    "from equistore_utils.mp_utils import *"
   ]
  },
  {
   "cell_type": "code",
   "execution_count": 4,
   "id": "5d3764de",
   "metadata": {
    "ExecuteTime": {
     "end_time": "2023-05-08T09:55:35.568077Z",
     "start_time": "2023-05-08T09:55:35.537123Z"
    }
   },
   "outputs": [],
   "source": [
    "from ase.io import read"
   ]
  },
  {
   "cell_type": "code",
   "execution_count": 5,
   "id": "0287bf5c",
   "metadata": {
    "ExecuteTime": {
     "end_time": "2023-05-08T09:55:35.679673Z",
     "start_time": "2023-05-08T09:55:35.570999Z"
    }
   },
   "outputs": [],
   "source": [
    "# frames_all = read('bispectrum_counter/carbon/C-VII-pp-wrapped.xyz', ':10000')\n",
    "# leng = np.asarray([len(f) for f in frames_all])\n",
    "# frames_14 = []\n",
    "# for idx in np.where(leng<14)[0]:\n",
    "# #     print(idx)\n",
    "#     frames_14.append(frames_all[idx])\n",
    "# frames = frames_14\n",
    "# write('bispectrum_counter/carbon/C_lessthan14.xyz', frames)\n",
    "# print(np.max([np.max(f.get_all_distances()) for f in frames_14]))\n",
    "frames = read('bisp/C_lessthan14.xyz', ':10')"
   ]
  },
  {
   "cell_type": "code",
   "execution_count": 51,
   "id": "9e37f3fd",
   "metadata": {
    "ExecuteTime": {
     "end_time": "2023-05-08T10:12:14.011682Z",
     "start_time": "2023-05-08T10:12:13.956373Z"
    }
   },
   "outputs": [],
   "source": [
    "def acdc_standardize_keys(descriptor,drop_pair_id=False):\n",
    "    \"\"\" Standardize the naming scheme of density expansion coefficient blocks (nu=1) \"\"\"\n",
    "    key_names = np.array(descriptor.keys.names)\n",
    "    if not \"spherical_harmonics_l\" in key_names:\n",
    "        raise ValueError(\"Descriptor missing spherical harmonics channel key `spherical_harmonics_l`\")\n",
    "    if \"species_atom_1\" in key_names:\n",
    "        key_names[np.where(key_names==\"species_atom_1\")[0]] = \"species_center\"\n",
    "    if \"species_atom_2\" in key_names:\n",
    "        key_names[np.where(key_names==\"species_atom_2\")[0]] = \"species_neighbor\"\n",
    "    key_names = tuple(key_names)\n",
    "    blocks = []\n",
    "    keys = []\n",
    "    for key, block in descriptor:\n",
    "        key = tuple(key)\n",
    "        if not \"inversion_sigma\" in key_names:\n",
    "            key = (1,) + key \n",
    "        if not \"order_nu\" in key_names:\n",
    "            key = (1,) + key \n",
    "        keys.append(key)\n",
    "        property_names = _remove_suffix(block.properties.names, \"_1\")\n",
    "        sample_names = [ \"center\" if b == \"first_atom\" else (\"neighbor\" if b == \"second_atom\" else b) for b in block.samples.names ]\n",
    "#         drops pair_id which we don't need in this application\n",
    "        if \"pair_id\" in sample_names and drop_pair_id:\n",
    "            new_samples = block.samples.view(dtype = np.int32).copy().reshape(-1, len(sample_names))\n",
    "            print(\"sample\", new_samples)\n",
    "            icent = np.where(np.asarray(sample_names)==\"center\")[0]\n",
    "            ineigh = np.where(np.asarray(sample_names)==\"neighbor\")[0]\n",
    "            ipid = np.where(np.asarray(sample_names)==\"pair_id\")[0]\n",
    "            new_samples[:,ineigh] += new_samples[:,ipid]*new_samples[:,icent]#.max()\n",
    "            print(new_samples[:,icent].max())\n",
    "            print(\"icent\", icent, \"ineigh\", ineigh, \"sample_neihj\", new_samples[:,ineigh], print(new_samples[:, icent]))\n",
    "            new_samples = Labels( [n for n in sample_names if n!=\"pair_id\"],\n",
    "                        new_samples[:,[i for i in range(len(block.samples.names)) if block.samples.names[i] != \"pair_id\"]])    \n",
    "            \n",
    "#             print(np.asarray(block.samples.view(dtype = np.int32)).reshape(-1,len(sample_names))[:,[i for i in range(len(block.samples.names)) if block.samples.names[i] != \"pair_id\"]])\n",
    "#             new_samples = Labels( [n for n in sample_names if n!=\"pair_id\"],\n",
    "            \n",
    "#                                  np.asarray(block.samples.view(dtype = np.int32)).reshape(-1,len(sample_names))[:,[i for i in range(len(block.samples.names)) if block.samples.names[i] != \"pair_id\"]])\n",
    "        else:\n",
    "            new_samples = Labels(sample_names, np.asarray(block.samples.view(dtype = np.int32)).reshape(-1,len(sample_names)) )\n",
    "        blocks.append(\n",
    "            TensorBlock( values=block.values, samples=new_samples,\n",
    "                        components=block.components, \n",
    "                         properties=Labels(property_names, np.asarray(block.properties.view(dtype = np.int32)).reshape(-1,len(property_names)) )\n",
    "            ) )\n",
    "        \n",
    "    if not \"inversion_sigma\" in key_names:\n",
    "        key_names = (\"inversion_sigma\",) + key_names\n",
    "    if not \"order_nu\" in key_names:\n",
    "        key_names = ( \"order_nu\",) + key_names\n",
    "    \n",
    "    return TensorMap(keys = Labels(names=key_names, values=np.asarray(keys, dtype=np.int32)),\n",
    "                     blocks = blocks\n",
    "                    )"
   ]
  },
  {
   "cell_type": "code",
   "execution_count": 57,
   "id": "a55c9157",
   "metadata": {
    "ExecuteTime": {
     "end_time": "2023-05-08T10:19:15.125159Z",
     "start_time": "2023-05-08T10:19:15.015801Z"
    }
   },
   "outputs": [
    {
     "name": "stdout",
     "output_type": "stream",
     "text": [
      "sample [[  0  -1   0   0]\n",
      " [  0  -1   1   1]\n",
      " [  0  -1   2   2]\n",
      " ...\n",
      " [  9 257   5   5]\n",
      " [  9 258   5   5]\n",
      " [  9 259   5   5]]\n",
      "11\n",
      "[[0]\n",
      " [1]\n",
      " [2]\n",
      " ...\n",
      " [5]\n",
      " [5]\n",
      " [5]]\n",
      "icent [2] ineigh [3] sample_neihj [[ -11]\n",
      " [ -10]\n",
      " [  -9]\n",
      " ...\n",
      " [2832]\n",
      " [2843]\n",
      " [2854]] None\n",
      "sample [[  0  -1   0   0]\n",
      " [  0  -1   1   1]\n",
      " [  0  -1   2   2]\n",
      " ...\n",
      " [  9 257   5   5]\n",
      " [  9 258   5   5]\n",
      " [  9 259   5   5]]\n",
      "11\n",
      "[[0]\n",
      " [1]\n",
      " [2]\n",
      " ...\n",
      " [5]\n",
      " [5]\n",
      " [5]]\n",
      "icent [2] ineigh [3] sample_neihj [[ -11]\n",
      " [ -10]\n",
      " [  -9]\n",
      " ...\n",
      " [2832]\n",
      " [2843]\n",
      " [2854]] None\n",
      "sample [[  0  -1   0   0]\n",
      " [  0  -1   1   1]\n",
      " [  0  -1   2   2]\n",
      " ...\n",
      " [  9 257   5   5]\n",
      " [  9 258   5   5]\n",
      " [  9 259   5   5]]\n",
      "11\n",
      "[[0]\n",
      " [1]\n",
      " [2]\n",
      " ...\n",
      " [5]\n",
      " [5]\n",
      " [5]]\n",
      "icent [2] ineigh [3] sample_neihj [[ -11]\n",
      " [ -10]\n",
      " [  -9]\n",
      " ...\n",
      " [2832]\n",
      " [2843]\n",
      " [2854]] None\n",
      "sample [[  0  -1   0   0]\n",
      " [  0  -1   1   1]\n",
      " [  0  -1   2   2]\n",
      " ...\n",
      " [  9 257   5   5]\n",
      " [  9 258   5   5]\n",
      " [  9 259   5   5]]\n",
      "11\n",
      "[[0]\n",
      " [1]\n",
      " [2]\n",
      " ...\n",
      " [5]\n",
      " [5]\n",
      " [5]]\n",
      "icent [2] ineigh [3] sample_neihj [[ -11]\n",
      " [ -10]\n",
      " [  -9]\n",
      " ...\n",
      " [2832]\n",
      " [2843]\n",
      " [2854]] None\n"
     ]
    }
   ],
   "source": [
    "calculator = PairExpansion(**hypers)\n",
    "gij = calculator.compute(frames[:])\n",
    "# gij = operations.slice(gij, samples=Labels(['first_atom'],np.array([[0]], np.int32)) )\n",
    "gij =  acdc_standardize_keys(gij,True)\n",
    "gik = calculator.compute(frames[:])\n",
    "gik = acdc_standardize_keys(gik,False)\n",
    "# for b in gij.blocks():\n",
    "# #     b.values[:]/=norm_rho1\n",
    "# # gij = simplify_gij(gij)"
   ]
  },
  {
   "cell_type": "code",
   "execution_count": 70,
   "id": "c0cf6679",
   "metadata": {
    "ExecuteTime": {
     "end_time": "2023-05-08T12:03:53.149453Z",
     "start_time": "2023-05-08T12:03:53.114652Z"
    }
   },
   "outputs": [],
   "source": [
    "aa=np.unique(gij.block(0).samples[\"neighbor\"].view(np.int32))"
   ]
  },
  {
   "cell_type": "code",
   "execution_count": 76,
   "id": "1d028e24",
   "metadata": {
    "ExecuteTime": {
     "end_time": "2023-05-08T12:04:54.419532Z",
     "start_time": "2023-05-08T12:04:54.376089Z"
    }
   },
   "outputs": [
    {
     "data": {
      "text/plain": [
       "Labels([ -11,  -10,   -9, ..., 2832, 2843, 2854], dtype=int32)"
      ]
     },
     "execution_count": 76,
     "metadata": {},
     "output_type": "execute_result"
    }
   ],
   "source": [
    "gij.block(0).samples[\"neighbor\"].view(np.int32)"
   ]
  },
  {
   "cell_type": "code",
   "execution_count": 75,
   "id": "c6401fa3",
   "metadata": {
    "ExecuteTime": {
     "end_time": "2023-05-08T12:04:36.611897Z",
     "start_time": "2023-05-08T12:04:36.571942Z"
    }
   },
   "outputs": [
    {
     "data": {
      "text/plain": [
       "Labels([ -11,  -10,   -9, ..., 5608, 5619, 5630], dtype=int32)"
      ]
     },
     "execution_count": 75,
     "metadata": {},
     "output_type": "execute_result"
    }
   ],
   "source": [
    "aa"
   ]
  },
  {
   "cell_type": "code",
   "execution_count": 77,
   "id": "05691a64",
   "metadata": {
    "ExecuteTime": {
     "end_time": "2023-05-08T12:06:02.527387Z",
     "start_time": "2023-05-08T12:06:02.488762Z"
    }
   },
   "outputs": [],
   "source": [
    "aa= gik.block(0).samples.view(dtype = np.int32).copy().reshape(-1, 4)"
   ]
  },
  {
   "cell_type": "code",
   "execution_count": 91,
   "id": "88aaa3a0",
   "metadata": {
    "ExecuteTime": {
     "end_time": "2023-05-08T12:07:40.257601Z",
     "start_time": "2023-05-08T12:07:40.215787Z"
    }
   },
   "outputs": [
    {
     "data": {
      "text/plain": [
       "TensorBlock\n",
       "    samples (6564): ['structure', 'pair_id', 'center', 'neighbor']\n",
       "    components (1): ['spherical_harmonics_m']\n",
       "    properties (4): ['n_1']\n",
       "    gradients: no"
      ]
     },
     "execution_count": 91,
     "metadata": {},
     "output_type": "execute_result"
    }
   ],
   "source": [
    "gik.block(0)"
   ]
  },
  {
   "cell_type": "code",
   "execution_count": 93,
   "id": "717853ea",
   "metadata": {
    "ExecuteTime": {
     "end_time": "2023-05-08T12:08:17.966773Z",
     "start_time": "2023-05-08T12:08:17.924011Z"
    }
   },
   "outputs": [
    {
     "data": {
      "text/plain": [
       "Labels([[  0,  -1,   0,   0],\n",
       "        [  0,  -1,   1,   1],\n",
       "        [  0,  -1,   2,   2],\n",
       "        ...,\n",
       "        [  9, 257,   5,   5],\n",
       "        [  9, 258,   5,   5],\n",
       "        [  9, 259,   5,   5]], dtype=int32)"
      ]
     },
     "execution_count": 93,
     "metadata": {},
     "output_type": "execute_result"
    }
   ],
   "source": [
    "aa"
   ]
  },
  {
   "cell_type": "code",
   "execution_count": 67,
   "id": "23689d75",
   "metadata": {
    "ExecuteTime": {
     "end_time": "2023-05-08T10:21:29.041122Z",
     "start_time": "2023-05-08T10:21:28.987025Z"
    }
   },
   "outputs": [
    {
     "data": {
      "text/plain": [
       "Labels([[ 0, -1,  0,  0],\n",
       "        [ 0,  0,  0,  0],\n",
       "        [ 0,  1,  0,  0],\n",
       "        [ 0,  2,  0,  0],\n",
       "        [ 0,  3,  0,  0],\n",
       "        [ 1, -1,  0,  0],\n",
       "        [ 1,  0,  0,  0],\n",
       "        [ 1,  1,  0,  0],\n",
       "        [ 1,  2,  0,  0],\n",
       "        [ 1,  3,  0,  0],\n",
       "        [ 1,  4,  0,  0],\n",
       "        [ 1,  5,  0,  0],\n",
       "        [ 1,  6,  0,  0],\n",
       "        [ 1,  7,  0,  0],\n",
       "        [ 1,  8,  0,  0],\n",
       "        [ 1,  9,  0,  0],\n",
       "        [ 2, -1,  0,  0],\n",
       "        [ 2,  0,  0,  0],\n",
       "        [ 2,  1,  0,  0],\n",
       "        [ 2,  2,  0,  0],\n",
       "        [ 2,  3,  0,  0],\n",
       "        [ 2,  4,  0,  0],\n",
       "        [ 2,  5,  0,  0],\n",
       "        [ 3, -1,  0,  0],\n",
       "        [ 3,  0,  0,  0],\n",
       "        [ 3,  1,  0,  0],\n",
       "        [ 3,  2,  0,  0],\n",
       "        [ 3,  3,  0,  0],\n",
       "        [ 3,  4,  0,  0],\n",
       "        [ 3,  5,  0,  0],\n",
       "        [ 3,  6,  0,  0],\n",
       "        [ 3,  7,  0,  0],\n",
       "        [ 3,  8,  0,  0],\n",
       "        [ 3,  9,  0,  0],\n",
       "        [ 4, -1,  0,  0],\n",
       "        [ 4,  0,  0,  0],\n",
       "        [ 4,  1,  0,  0],\n",
       "        [ 4,  2,  0,  0],\n",
       "        [ 4,  3,  0,  0],\n",
       "        [ 4,  4,  0,  0],\n",
       "        [ 4,  5,  0,  0],\n",
       "        [ 4,  6,  0,  0],\n",
       "        [ 4,  7,  0,  0],\n",
       "        [ 4,  8,  0,  0],\n",
       "        [ 4,  9,  0,  0],\n",
       "        [ 4, 10,  0,  0],\n",
       "        [ 4, 11,  0,  0],\n",
       "        [ 5, -1,  0,  0],\n",
       "        [ 5,  0,  0,  0],\n",
       "        [ 5,  1,  0,  0],\n",
       "        [ 5,  2,  0,  0],\n",
       "        [ 5,  3,  0,  0],\n",
       "        [ 5,  4,  0,  0],\n",
       "        [ 5,  5,  0,  0],\n",
       "        [ 5,  6,  0,  0],\n",
       "        [ 5,  7,  0,  0],\n",
       "        [ 5,  8,  0,  0],\n",
       "        [ 5,  9,  0,  0],\n",
       "        [ 6, -1,  0,  0],\n",
       "        [ 6,  0,  0,  0],\n",
       "        [ 6,  1,  0,  0],\n",
       "        [ 6,  2,  0,  0],\n",
       "        [ 6,  3,  0,  0],\n",
       "        [ 6,  4,  0,  0],\n",
       "        [ 6,  5,  0,  0],\n",
       "        [ 6,  6,  0,  0],\n",
       "        [ 6,  7,  0,  0],\n",
       "        [ 6,  8,  0,  0],\n",
       "        [ 6,  9,  0,  0],\n",
       "        [ 7, -1,  0,  0],\n",
       "        [ 7,  0,  0,  0],\n",
       "        [ 7,  1,  0,  0],\n",
       "        [ 7,  2,  0,  0],\n",
       "        [ 7,  3,  0,  0],\n",
       "        [ 7,  4,  0,  0],\n",
       "        [ 7,  5,  0,  0],\n",
       "        [ 8, -1,  0,  0],\n",
       "        [ 8,  0,  0,  0],\n",
       "        [ 8,  1,  0,  0],\n",
       "        [ 8,  2,  0,  0],\n",
       "        [ 8,  3,  0,  0],\n",
       "        [ 8,  4,  0,  0],\n",
       "        [ 8,  5,  0,  0],\n",
       "        [ 8,  6,  0,  0],\n",
       "        [ 8,  7,  0,  0],\n",
       "        [ 8,  8,  0,  0],\n",
       "        [ 8,  9,  0,  0],\n",
       "        [ 8, 10,  0,  0],\n",
       "        [ 8, 11,  0,  0],\n",
       "        [ 8, 12,  0,  0],\n",
       "        [ 8, 13,  0,  0],\n",
       "        [ 8, 14,  0,  0],\n",
       "        [ 8, 15,  0,  0],\n",
       "        [ 9, -1,  0,  0],\n",
       "        [ 9,  0,  0,  0],\n",
       "        [ 9,  1,  0,  0],\n",
       "        [ 9,  2,  0,  0],\n",
       "        [ 9,  3,  0,  0],\n",
       "        [ 9,  4,  0,  0],\n",
       "        [ 9,  5,  0,  0],\n",
       "        [ 9,  6,  0,  0],\n",
       "        [ 9,  7,  0,  0],\n",
       "        [ 9,  8,  0,  0],\n",
       "        [ 9,  9,  0,  0],\n",
       "        [ 9, 10,  0,  0],\n",
       "        [ 9, 11,  0,  0],\n",
       "        [ 9, 12,  0,  0],\n",
       "        [ 9, 13,  0,  0]], dtype=int32)"
      ]
     },
     "execution_count": 67,
     "metadata": {},
     "output_type": "execute_result"
    }
   ],
   "source": [
    "yy = aa[np.where(aa[:, 2]==0)[0]]\n",
    "yy[np.where(yy[:, 3]==0)[0]]"
   ]
  },
  {
   "cell_type": "markdown",
   "id": "5fd45861",
   "metadata": {},
   "source": [
    "## Set up basic features"
   ]
  },
  {
   "cell_type": "code",
   "execution_count": 28,
   "id": "a62419aa",
   "metadata": {
    "ExecuteTime": {
     "end_time": "2023-05-08T10:02:28.337768Z",
     "start_time": "2023-05-08T10:02:28.297769Z"
    }
   },
   "outputs": [],
   "source": [
    "from rascaline import SphericalExpansion\n",
    "from rascaline import SphericalExpansionByPair as PairExpansion"
   ]
  },
  {
   "cell_type": "code",
   "execution_count": 29,
   "id": "36604f8e",
   "metadata": {
    "ExecuteTime": {
     "end_time": "2023-05-08T10:02:28.984250Z",
     "start_time": "2023-05-08T10:02:28.907769Z"
    }
   },
   "outputs": [],
   "source": [
    "hypers = {\n",
    "    \"cutoff\": 5,\n",
    "    \"max_radial\": 4,\n",
    "    \"max_angular\": 3,\n",
    "    \"atomic_gaussian_width\": 0.2,\n",
    "    \"radial_basis\": {\"Gto\": {}},\n",
    "    \"cutoff_function\": {\"ShiftedCosine\": {\"width\": 0.1}},\n",
    "    \"center_atom_weight\": 0.0,    \n",
    "}\n",
    "cg = ClebschGordanReal(5)\n"
   ]
  },
  {
   "cell_type": "code",
   "execution_count": 30,
   "id": "eb601adc",
   "metadata": {
    "ExecuteTime": {
     "end_time": "2023-05-08T10:02:29.542612Z",
     "start_time": "2023-05-08T10:02:29.468097Z"
    }
   },
   "outputs": [],
   "source": [
    "calculator = SphericalExpansion(**hypers)\n",
    "rhoi = calculator.compute(frames[:])\n",
    "rhoi = rhoi.keys_to_properties(['species_neighbor'])\n",
    "rho1i = acdc_standardize_keys(rhoi)\n",
    "# rho1i = operations.slice(rho1i, samples=Labels(['center'],np.array([[0]], np.int32)) )\n",
    "# norm_rho1 = np.sqrt(np.sum([(b.values**2).sum(axis=(1,2)) for b in rho1i.blocks()],axis=0).mean())\n",
    "# for b in rho1i.blocks():\n",
    "#     b.values[:]/=norm_rho1\n",
    "    "
   ]
  },
  {
   "cell_type": "code",
   "execution_count": 10,
   "id": "1136a6a2",
   "metadata": {
    "ExecuteTime": {
     "end_time": "2023-05-08T09:55:41.343427Z",
     "start_time": "2023-05-08T09:55:41.249274Z"
    }
   },
   "outputs": [],
   "source": [
    "rho2i = cg_combine(rho1i, rho1i, clebsch_gordan=cg, other_keys_match=['species_center'], lcut=3)"
   ]
  },
  {
   "cell_type": "code",
   "execution_count": 11,
   "id": "4680a2d2",
   "metadata": {
    "ExecuteTime": {
     "end_time": "2023-05-08T09:55:41.911001Z",
     "start_time": "2023-05-08T09:55:41.835099Z"
    }
   },
   "outputs": [],
   "source": [
    "rho3i =  cg_combine(rho2i, rho1i, clebsch_gordan=cg, other_keys_match=['species_center'], lcut=0)"
   ]
  },
  {
   "cell_type": "code",
   "execution_count": 12,
   "id": "013300af",
   "metadata": {
    "ExecuteTime": {
     "end_time": "2023-05-08T09:55:42.301354Z",
     "start_time": "2023-05-08T09:55:42.237116Z"
    }
   },
   "outputs": [
    {
     "data": {
      "text/plain": [
       "10"
      ]
     },
     "execution_count": 12,
     "metadata": {},
     "output_type": "execute_result"
    }
   ],
   "source": [
    "len(frames)"
   ]
  },
  {
   "cell_type": "code",
   "execution_count": 50,
   "id": "6f9c9d2a",
   "metadata": {
    "ExecuteTime": {
     "end_time": "2023-05-08T10:10:53.771460Z",
     "start_time": "2023-05-08T10:10:53.682785Z"
    }
   },
   "outputs": [
    {
     "name": "stdout",
     "output_type": "stream",
     "text": [
      "sample [[  0  -1   0   0]\n",
      " [  0  -1   1   1]\n",
      " [  0  -1   2   2]\n",
      " ...\n",
      " [  9 257   5   5]\n",
      " [  9 258   5   5]\n",
      " [  9 259   5   5]]\n",
      "[[0]\n",
      " [1]\n",
      " [2]\n",
      " ...\n",
      " [5]\n",
      " [5]\n",
      " [5]]\n",
      "icent [2] ineigh [3] sample [[ -11]\n",
      " [ -10]\n",
      " [  -9]\n",
      " ...\n",
      " [2832]\n",
      " [2843]\n",
      " [2854]] None\n",
      "sample [[  0  -1   0   0]\n",
      " [  0  -1   1   1]\n",
      " [  0  -1   2   2]\n",
      " ...\n",
      " [  9 257   5   5]\n",
      " [  9 258   5   5]\n",
      " [  9 259   5   5]]\n",
      "[[0]\n",
      " [1]\n",
      " [2]\n",
      " ...\n",
      " [5]\n",
      " [5]\n",
      " [5]]\n",
      "icent [2] ineigh [3] sample [[ -11]\n",
      " [ -10]\n",
      " [  -9]\n",
      " ...\n",
      " [2832]\n",
      " [2843]\n",
      " [2854]] None\n",
      "sample [[  0  -1   0   0]\n",
      " [  0  -1   1   1]\n",
      " [  0  -1   2   2]\n",
      " ...\n",
      " [  9 257   5   5]\n",
      " [  9 258   5   5]\n",
      " [  9 259   5   5]]\n",
      "[[0]\n",
      " [1]\n",
      " [2]\n",
      " ...\n",
      " [5]\n",
      " [5]\n",
      " [5]]\n",
      "icent [2] ineigh [3] sample [[ -11]\n",
      " [ -10]\n",
      " [  -9]\n",
      " ...\n",
      " [2832]\n",
      " [2843]\n",
      " [2854]] None\n",
      "sample [[  0  -1   0   0]\n",
      " [  0  -1   1   1]\n",
      " [  0  -1   2   2]\n",
      " ...\n",
      " [  9 257   5   5]\n",
      " [  9 258   5   5]\n",
      " [  9 259   5   5]]\n",
      "[[0]\n",
      " [1]\n",
      " [2]\n",
      " ...\n",
      " [5]\n",
      " [5]\n",
      " [5]]\n",
      "icent [2] ineigh [3] sample [[ -11]\n",
      " [ -10]\n",
      " [  -9]\n",
      " ...\n",
      " [2832]\n",
      " [2843]\n",
      " [2854]] None\n"
     ]
    }
   ],
   "source": [
    "calculator = PairExpansion(**hypers)\n",
    "gij = calculator.compute(frames[:])\n",
    "# gij = operations.slice(gij, samples=Labels(['first_atom'],np.array([[0]], np.int32)) )\n",
    "gij =  acdc_standardize_keys(gij,True)\n",
    "# for b in gij.blocks():\n",
    "# #     b.values[:]/=norm_rho1\n",
    "# # gij = simplify_gij(gij)"
   ]
  },
  {
   "cell_type": "code",
   "execution_count": 48,
   "id": "5529f794",
   "metadata": {
    "ExecuteTime": {
     "end_time": "2023-05-08T10:08:27.875509Z",
     "start_time": "2023-05-08T10:08:27.831987Z"
    }
   },
   "outputs": [
    {
     "data": {
      "text/plain": [
       "Labels([(0,  -1, 0, 0), (0,  -1, 1, 1), (0,  -1, 2, 2), ...,\n",
       "        (9, 257, 5, 5), (9, 258, 5, 5), (9, 259, 5, 5)],\n",
       "       dtype=[('structure', '<i4'), ('pair_id', '<i4'), ('center', '<i4'), ('neighbor', '<i4')])"
      ]
     },
     "execution_count": 48,
     "metadata": {},
     "output_type": "execute_result"
    }
   ],
   "source": [
    "gij.block(0).samples"
   ]
  },
  {
   "cell_type": "code",
   "execution_count": 14,
   "id": "a5a5873f",
   "metadata": {
    "ExecuteTime": {
     "end_time": "2023-05-08T09:55:43.403775Z",
     "start_time": "2023-05-08T09:55:43.281254Z"
    }
   },
   "outputs": [
    {
     "data": {
      "text/plain": [
       "0.0"
      ]
     },
     "execution_count": 14,
     "metadata": {},
     "output_type": "execute_result"
    }
   ],
   "source": [
    "test = operations.sum_over_samples(gij, sample_names=[\"neighbor\", \"pair_id\"]) \n",
    "np.linalg.norm(rho1i.block(0).values/test.block(0).values -1)"
   ]
  },
  {
   "cell_type": "markdown",
   "id": "04eaef4a",
   "metadata": {},
   "source": [
    "## Compute three-feats"
   ]
  },
  {
   "cell_type": "code",
   "execution_count": 15,
   "id": "2e38d24c",
   "metadata": {
    "ExecuteTime": {
     "end_time": "2023-05-08T09:55:48.733951Z",
     "start_time": "2023-05-08T09:55:44.247583Z"
    }
   },
   "outputs": [
    {
     "name": "stderr",
     "output_type": "stream",
     "text": [
      "\n",
      "KeyboardInterrupt\n",
      "\n"
     ]
    }
   ],
   "source": [
    "rhoii1i2_nu0 = cg_combine(gij, gij, clebsch_gordan=cg, other_keys_match=['species_center'], lcut=3)"
   ]
  },
  {
   "cell_type": "code",
   "execution_count": 26,
   "id": "6ea7c831",
   "metadata": {
    "ExecuteTime": {
     "end_time": "2023-05-06T10:34:24.519923Z",
     "start_time": "2023-05-06T10:34:24.410301Z"
    }
   },
   "outputs": [
    {
     "data": {
      "text/plain": [
       "TensorMap with 7 blocks\n",
       "keys: ['order_nu' 'inversion_sigma' 'spherical_harmonics_l' 'species_center' 'species_neighbor_a' 'species_neighbor_b']\n",
       "           2             1                    0                   6                 6                   6\n",
       "           2             1                    1                   6                 6                   6\n",
       "           2             1                    2                   6                 6                   6\n",
       "           2             1                    3                   6                 6                   6\n",
       "           2            -1                    1                   6                 6                   6\n",
       "           2            -1                    2                   6                 6                   6\n",
       "           2            -1                    3                   6                 6                   6"
      ]
     },
     "execution_count": 26,
     "metadata": {},
     "output_type": "execute_result"
    }
   ],
   "source": [
    "rhoii1i2_nu0"
   ]
  },
  {
   "cell_type": "code",
   "execution_count": 16,
   "id": "4008c9ef",
   "metadata": {
    "ExecuteTime": {
     "end_time": "2023-05-06T10:24:41.341252Z",
     "start_time": "2023-05-06T10:24:41.176621Z"
    }
   },
   "outputs": [
    {
     "data": {
      "text/plain": [
       "Labels([(0,  -1, 0, 0,  -1, 0), (0,  -1, 0, 0,   0, 0),\n",
       "        (0,  -1, 0, 0,   1, 0), ..., (9, 259, 5, 5, 257, 5),\n",
       "        (9, 259, 5, 5, 258, 5), (9, 259, 5, 5, 259, 5)],\n",
       "       dtype=[('structure', '<i4'), ('pair_id1', '<i4'), ('center', '<i4'), ('neighbor_1', '<i4'), ('pair_id2', '<i4'), ('neighbor_2', '<i4')])"
      ]
     },
     "execution_count": 16,
     "metadata": {},
     "output_type": "execute_result"
    }
   ],
   "source": [
    "rhoii1i2_nu0.block(0).samples"
   ]
  },
  {
   "cell_type": "code",
   "execution_count": 28,
   "id": "1f2bea32",
   "metadata": {
    "ExecuteTime": {
     "end_time": "2023-05-06T10:48:53.591899Z",
     "start_time": "2023-05-06T10:48:53.410087Z"
    }
   },
   "outputs": [],
   "source": [
    "a = rhoii1i2_nu0\n",
    "b = rhoii1i2_nu0"
   ]
  },
  {
   "cell_type": "code",
   "execution_count": 33,
   "id": "bfafd130",
   "metadata": {
    "ExecuteTime": {
     "end_time": "2023-05-06T10:52:47.941908Z",
     "start_time": "2023-05-06T10:52:47.901524Z"
    }
   },
   "outputs": [
    {
     "data": {
      "text/plain": [
       "TensorBlock\n",
       "    samples (509430): ['structure', 'pair_id1', 'center', 'neighbor_1', 'pair_id2', 'neighbor_2']\n",
       "    components (1): ['spherical_harmonics_m']\n",
       "    properties (64): ['n_1_a', 'k_2', 'n_1_b', 'l_2']\n",
       "    gradients: no"
      ]
     },
     "execution_count": 33,
     "metadata": {},
     "output_type": "execute_result"
    }
   ],
   "source": [
    "a.block(0)"
   ]
  },
  {
   "cell_type": "code",
   "execution_count": 32,
   "id": "46e05937",
   "metadata": {
    "ExecuteTime": {
     "end_time": "2023-05-06T10:52:38.212323Z",
     "start_time": "2023-05-06T10:52:38.166888Z"
    }
   },
   "outputs": [
    {
     "data": {
      "text/plain": [
       "TensorBlock\n",
       "    samples (1018860): ['structure', 'pair_id1', 'center', 'neighbor_1', 'pair_id2', 'neighbor_2', 'tensor']\n",
       "    components (1): ['spherical_harmonics_m']\n",
       "    properties (64): ['n_1_a', 'k_2', 'n_1_b', 'l_2']\n",
       "    gradients: no"
      ]
     },
     "execution_count": 32,
     "metadata": {},
     "output_type": "execute_result"
    }
   ],
   "source": [
    "c.block(0)"
   ]
  },
  {
   "cell_type": "code",
   "execution_count": 30,
   "id": "2842b948",
   "metadata": {
    "ExecuteTime": {
     "end_time": "2023-05-06T10:52:12.677772Z",
     "start_time": "2023-05-06T10:49:37.175678Z"
    }
   },
   "outputs": [],
   "source": [
    "c=operations.join([a,b], axis=\"samples\")"
   ]
  },
  {
   "cell_type": "code",
   "execution_count": 17,
   "id": "cf3bbbfa",
   "metadata": {
    "ExecuteTime": {
     "end_time": "2023-05-06T10:24:41.372316Z",
     "start_time": "2023-05-06T10:24:41.343339Z"
    }
   },
   "outputs": [
    {
     "data": {
      "text/plain": [
       "('structure', 'pair_id', 'center', 'neighbor')"
      ]
     },
     "execution_count": 17,
     "metadata": {},
     "output_type": "execute_result"
    }
   ],
   "source": [
    "gij.block(0).samples.names"
   ]
  },
  {
   "cell_type": "code",
   "execution_count": 27,
   "id": "2dae5e91",
   "metadata": {
    "ExecuteTime": {
     "end_time": "2023-05-06T10:48:32.762239Z",
     "start_time": "2023-05-06T10:46:02.507161Z"
    }
   },
   "outputs": [
    {
     "ename": "KeyboardInterrupt",
     "evalue": "",
     "output_type": "error",
     "traceback": [
      "\u001b[0;31m---------------------------------------------------------------------------\u001b[0m",
      "\u001b[0;31mKeyboardInterrupt\u001b[0m                         Traceback (most recent call last)",
      "Cell \u001b[0;32mIn [27], line 1\u001b[0m\n\u001b[0;32m----> 1\u001b[0m rhoii1i2_nu1 \u001b[38;5;241m=\u001b[39m  \u001b[43mcg_combine\u001b[49m\u001b[43m(\u001b[49m\u001b[43mrho1i\u001b[49m\u001b[43m,\u001b[49m\u001b[43m \u001b[49m\u001b[43mrhoii1i2_nu0\u001b[49m\u001b[43m,\u001b[49m\u001b[43m \u001b[49m\u001b[43mclebsch_gordan\u001b[49m\u001b[38;5;241;43m=\u001b[39;49m\u001b[43mcg\u001b[49m\u001b[43m,\u001b[49m\u001b[43m \u001b[49m\u001b[43mother_keys_match\u001b[49m\u001b[43m \u001b[49m\u001b[38;5;241;43m=\u001b[39;49m\u001b[43m \u001b[49m\u001b[43m[\u001b[49m\u001b[38;5;124;43m'\u001b[39;49m\u001b[38;5;124;43mspecies_center\u001b[39;49m\u001b[38;5;124;43m'\u001b[39;49m\u001b[43m]\u001b[49m\u001b[43m,\u001b[49m\u001b[43m \u001b[49m\u001b[43mlcut\u001b[49m\u001b[38;5;241;43m=\u001b[39;49m\u001b[38;5;241;43m0\u001b[39;49m\u001b[43m)\u001b[49m\n",
      "File \u001b[0;32m~/Downloads/equistore_utils/mp_utils.py:414\u001b[0m, in \u001b[0;36mcg_combine\u001b[0;34m(x_a, x_b, feature_names, clebsch_gordan, lcut, filter_sigma, other_keys_match, sorted_l, mp)\u001b[0m\n\u001b[1;32m    410\u001b[0m \u001b[38;5;66;03m# builds all products in one go\u001b[39;00m\n\u001b[1;32m    413\u001b[0m \u001b[38;5;28;01mif\u001b[39;00m \u001b[38;5;28misinstance\u001b[39m(neighbor_slice,\u001b[38;5;28mslice\u001b[39m) \u001b[38;5;129;01mor\u001b[39;00m  \u001b[38;5;28mlen\u001b[39m(neighbor_slice) :\n\u001b[0;32m--> 414\u001b[0m     one_shot_blocks \u001b[38;5;241m=\u001b[39m \u001b[43mclebsch_gordan\u001b[49m\u001b[38;5;241;43m.\u001b[39;49m\u001b[43mcombine_einsum\u001b[49m\u001b[43m(\u001b[49m\n\u001b[1;32m    415\u001b[0m \u001b[43m    \u001b[49m\u001b[43mblock_a\u001b[49m\u001b[38;5;241;43m.\u001b[39;49m\u001b[43mvalues\u001b[49m\u001b[43m[\u001b[49m\u001b[43mneighbor_slice\u001b[49m\u001b[43m]\u001b[49m\u001b[43m[\u001b[49m\u001b[43m:\u001b[49m\u001b[43m,\u001b[49m\u001b[43m \u001b[49m\u001b[43m:\u001b[49m\u001b[43m,\u001b[49m\u001b[43m \u001b[49m\u001b[43msel_feats\u001b[49m\u001b[43m[\u001b[49m\u001b[43m:\u001b[49m\u001b[43m,\u001b[49m\u001b[43m \u001b[49m\u001b[38;5;241;43m0\u001b[39;49m\u001b[43m]\u001b[49m\u001b[43m]\u001b[49m\u001b[43m,\u001b[49m\n\u001b[1;32m    416\u001b[0m \u001b[43m    \u001b[49m\u001b[43mblock_b\u001b[49m\u001b[38;5;241;43m.\u001b[39;49m\u001b[43mvalues\u001b[49m\u001b[43m[\u001b[49m\u001b[43mb_slice\u001b[49m\u001b[43m]\u001b[49m\u001b[43m[\u001b[49m\u001b[43m:\u001b[49m\u001b[43m,\u001b[49m\u001b[43m \u001b[49m\u001b[43m:\u001b[49m\u001b[43m,\u001b[49m\u001b[43m \u001b[49m\u001b[43msel_feats\u001b[49m\u001b[43m[\u001b[49m\u001b[43m:\u001b[49m\u001b[43m,\u001b[49m\u001b[43m \u001b[49m\u001b[38;5;241;43m1\u001b[39;49m\u001b[43m]\u001b[49m\u001b[43m]\u001b[49m\u001b[43m,\u001b[49m\n\u001b[1;32m    417\u001b[0m \u001b[43m    \u001b[49m\u001b[43mL\u001b[49m\u001b[43m,\u001b[49m\n\u001b[1;32m    418\u001b[0m \u001b[43m    \u001b[49m\u001b[43mcombination_string\u001b[49m\u001b[38;5;241;43m=\u001b[39;49m\u001b[38;5;124;43m\"\u001b[39;49m\u001b[38;5;124;43miq,iq->iq\u001b[39;49m\u001b[38;5;124;43m\"\u001b[39;49m\u001b[43m,\u001b[49m\n\u001b[1;32m    419\u001b[0m \u001b[43m\u001b[49m\u001b[43m)\u001b[49m\n\u001b[1;32m    421\u001b[0m     \u001b[38;5;28;01mif\u001b[39;00m grad_components \u001b[38;5;129;01mis\u001b[39;00m \u001b[38;5;129;01mnot\u001b[39;00m \u001b[38;5;28;01mNone\u001b[39;00m:\n\u001b[1;32m    422\u001b[0m         grad_a \u001b[38;5;241m=\u001b[39m block_a\u001b[38;5;241m.\u001b[39mgradient(\u001b[38;5;124m\"\u001b[39m\u001b[38;5;124mpositions\u001b[39m\u001b[38;5;124m\"\u001b[39m)\n",
      "File \u001b[0;32m~/Downloads/equistore_utils/clebsh_gordan.py:92\u001b[0m, in \u001b[0;36mClebschGordanReal.combine_einsum\u001b[0;34m(self, rho1, rho2, L, combination_string)\u001b[0m\n\u001b[1;32m     90\u001b[0m     \u001b[38;5;28;01mfor\u001b[39;00m M \u001b[38;5;129;01min\u001b[39;00m \u001b[38;5;28mrange\u001b[39m(\u001b[38;5;241m2\u001b[39m \u001b[38;5;241m*\u001b[39m L \u001b[38;5;241m+\u001b[39m \u001b[38;5;241m1\u001b[39m):\n\u001b[1;32m     91\u001b[0m         \u001b[38;5;28;01mfor\u001b[39;00m m1, m2, cg \u001b[38;5;129;01min\u001b[39;00m \u001b[38;5;28mself\u001b[39m\u001b[38;5;241m.\u001b[39m_cg[(l1, l2, L)][M]:\n\u001b[0;32m---> 92\u001b[0m             rho[:, M, \u001b[38;5;241m.\u001b[39m\u001b[38;5;241m.\u001b[39m\u001b[38;5;241m.\u001b[39m] \u001b[38;5;241m+\u001b[39m\u001b[38;5;241m=\u001b[39m \u001b[43mnp\u001b[49m\u001b[38;5;241;43m.\u001b[39;49m\u001b[43meinsum\u001b[49m\u001b[43m(\u001b[49m\n\u001b[1;32m     93\u001b[0m \u001b[43m                \u001b[49m\u001b[43mcombination_string\u001b[49m\u001b[43m,\u001b[49m\u001b[43m \u001b[49m\u001b[43mrho1\u001b[49m\u001b[43m[\u001b[49m\u001b[43m:\u001b[49m\u001b[43m,\u001b[49m\u001b[43m \u001b[49m\u001b[43mm1\u001b[49m\u001b[43m,\u001b[49m\u001b[43m \u001b[49m\u001b[38;5;241;43m.\u001b[39;49m\u001b[38;5;241;43m.\u001b[39;49m\u001b[38;5;241;43m.\u001b[39;49m\u001b[43m]\u001b[49m\u001b[43m,\u001b[49m\u001b[43m \u001b[49m\u001b[43mrho2\u001b[49m\u001b[43m[\u001b[49m\u001b[43m:\u001b[49m\u001b[43m,\u001b[49m\u001b[43m \u001b[49m\u001b[43mm2\u001b[49m\u001b[43m,\u001b[49m\u001b[43m \u001b[49m\u001b[38;5;241;43m.\u001b[39;49m\u001b[38;5;241;43m.\u001b[39;49m\u001b[38;5;241;43m.\u001b[39;49m\u001b[43m]\u001b[49m\u001b[43m \u001b[49m\u001b[38;5;241;43m*\u001b[39;49m\u001b[43m \u001b[49m\u001b[43mcg\u001b[49m\n\u001b[1;32m     94\u001b[0m \u001b[43m            \u001b[49m\u001b[43m)\u001b[49m\n\u001b[1;32m     96\u001b[0m \u001b[38;5;28;01mreturn\u001b[39;00m rho\n",
      "File \u001b[0;32m<__array_function__ internals>:177\u001b[0m, in \u001b[0;36meinsum\u001b[0;34m(*args, **kwargs)\u001b[0m\n",
      "\u001b[0;31mKeyboardInterrupt\u001b[0m: "
     ]
    }
   ],
   "source": [
    "rhoii1i2_nu1 =  cg_combine(rho1i, rhoii1i2_nu0, clebsch_gordan=cg, other_keys_match = ['species_center'], lcut=0)"
   ]
  },
  {
   "cell_type": "code",
   "execution_count": null,
   "id": "9120fee4",
   "metadata": {
    "ExecuteTime": {
     "end_time": "2023-05-06T10:33:04.904274Z",
     "start_time": "2023-05-06T10:33:04.904242Z"
    }
   },
   "outputs": [],
   "source": [
    "rhoii1i2_nu1.block(0)"
   ]
  },
  {
   "cell_type": "markdown",
   "id": "a3d3b558",
   "metadata": {},
   "source": [
    "## Set up energy model "
   ]
  },
  {
   "cell_type": "code",
   "execution_count": null,
   "id": "8079f5dd",
   "metadata": {
    "ExecuteTime": {
     "start_time": "2023-05-06T10:10:55.499Z"
    }
   },
   "outputs": [],
   "source": [
    "def StructureMap(samples_structure, device=\"cpu\"):\n",
    "    unique_structures, unique_structures_idx = np.unique(\n",
    "        samples_structure, return_index=True\n",
    "    )   \n",
    "    new_samples = samples_structure[np.sort(unique_structures_idx)]\n",
    "    # we need a list keeping track of where each atomic contribution goes\n",
    "    # (e.g. if structure ids are [3,3,3,1,1,1,6,6,6] that will be stored as\n",
    "    # the unique structures [3, 1, 6], structure_map will be\n",
    "    # [0,0,0,1,1,1,2,2,2]\n",
    "    replace_rule = dict(zip(unique_structures, range(len(unique_structures))))\n",
    "    structure_map = torch.tensor(\n",
    "        [replace_rule[i] for i in samples_structure],\n",
    "        dtype=torch.long,\n",
    "        device=device,\n",
    "    )   \n",
    "    return structure_map, new_samples, replace_rule"
   ]
  },
  {
   "cell_type": "code",
   "execution_count": null,
   "id": "2d6e2446",
   "metadata": {},
   "outputs": [],
   "source": []
  }
 ],
 "metadata": {
  "kernelspec": {
   "display_name": "Python 3 (ipykernel)",
   "language": "python",
   "name": "python3"
  },
  "language_info": {
   "codemirror_mode": {
    "name": "ipython",
    "version": 3
   },
   "file_extension": ".py",
   "mimetype": "text/x-python",
   "name": "python",
   "nbconvert_exporter": "python",
   "pygments_lexer": "ipython3",
   "version": "3.10.9"
  },
  "toc": {
   "base_numbering": 1,
   "nav_menu": {},
   "number_sections": true,
   "sideBar": true,
   "skip_h1_title": false,
   "title_cell": "Table of Contents",
   "title_sidebar": "Contents",
   "toc_cell": false,
   "toc_position": {},
   "toc_section_display": true,
   "toc_window_display": false
  }
 },
 "nbformat": 4,
 "nbformat_minor": 5
}
