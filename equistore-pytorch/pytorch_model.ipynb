{
 "cells": [
  {
   "cell_type": "code",
   "execution_count": 1,
   "id": "8cfd345f",
   "metadata": {},
   "outputs": [],
   "source": [
    "%load_ext autoreload\n",
    "%autoreload 2\n",
    "%load_ext line_profiler"
   ]
  },
  {
   "cell_type": "code",
   "execution_count": 2,
   "id": "c2ae5cfc",
   "metadata": {},
   "outputs": [],
   "source": [
    "import numpy as np\n",
    "import torch\n",
    "import json\n",
    "from equistore import Labels, TensorBlock, TensorMap\n",
    "from torch_builder import TensorBuilder\n",
    "import ase.io\n",
    "from itertools import product\n",
    "from torch_cg import ClebschGordanReal\n",
    "from torch_hamiltonians import fix_pyscf_l1, dense_to_blocks, blocks_to_dense, couple_blocks, decouple_blocks, hamiltonian_features\n",
    "import matplotlib.pyplot as plt\n",
    "from rascal.representations import SphericalExpansion\n",
    "import copy\n",
    "from ase.units import Hartree"
   ]
  },
  {
   "cell_type": "code",
   "execution_count": 3,
   "id": "e301ad9b",
   "metadata": {},
   "outputs": [],
   "source": [
    "import sys\n",
    "# sys.path.insert(0,'/Users//new-hamiltonian/equistore-examples')\n",
    "from utils.librascal import  RascalSphericalExpansion, RascalPairExpansion\n",
    "from utils.acdc_mini import acdc_standardize_keys, cg_increment, cg_combine"
   ]
  },
  {
   "cell_type": "code",
   "execution_count": 77,
   "id": "db09b3f7",
   "metadata": {},
   "outputs": [],
   "source": [
    "frames = ase.io.read(\"../data/hamiltonian/water-hamiltonian/water_coords_1000.xyz\",\":500\")\n",
    "for f in frames:\n",
    "    f.cell = [100,100,100]\n",
    "    f.positions += 50"
   ]
  },
  {
   "cell_type": "code",
   "execution_count": 78,
   "id": "292e1742",
   "metadata": {},
   "outputs": [],
   "source": [
    "#jorbs = json.load(open('data/water-hamiltonian/water_orbs.json', \"r\"))\n",
    "jorbs = json.loads(json.load(open('../data/hamiltonian/water-hamiltonian/water_orbs.json', \"r\")))\n",
    "orbs = {}\n",
    "zdic = {\"O\" : 8, \"H\":1}\n",
    "for k in jorbs:\n",
    "    orbs[zdic[k]] = jorbs[k]"
   ]
  },
  {
   "cell_type": "code",
   "execution_count": 79,
   "id": "aab6a191",
   "metadata": {},
   "outputs": [],
   "source": [
    "hams = np.load(\"../data/hamiltonian/water-hamiltonian/water_saph_orthogonal.npy\", allow_pickle=True)[:len(frames)]\n",
    "# NO NEED TO CORRECT L1 ORDER FOR SAPH ORTHOGONALIZED MATRICES...\n",
    "#for i, f in enumerate(frames):\n",
    "#    hams[i] = fix_pyscf_l1(hams[i], f, orbs)"
   ]
  },
  {
   "cell_type": "code",
   "execution_count": 80,
   "id": "754797bb",
   "metadata": {},
   "outputs": [],
   "source": [
    "cg = ClebschGordanReal(8)"
   ]
  },
  {
   "cell_type": "code",
   "execution_count": 81,
   "id": "17e9fc72",
   "metadata": {},
   "outputs": [],
   "source": [
    "#loss functions\n",
    "def mse_full(fock, pred_blocks, frame, orbs):\n",
    "    predicted = blocks_to_dense(decouple_blocks(pred_blocks), frame, orbs)\n",
    "    mse_loss = torch.empty(len(frame))\n",
    "    for i in range(len(frame)):\n",
    "        mse_loss[i] = (torch.linalg.norm(fock[i]-predicted[i]))**2/len(fock[i])\n",
    "        #print(\"from mse\", i, fock[i], mse_loss[i])\n",
    "    return torch.mean(mse_loss)*(Hartree)**2\n",
    "\n",
    "def mse_eigvals(fock, pred_blocks, frame, orbs):\n",
    "    predicted = blocks_to_dense(decouple_blocks(pred_blocks), frame, orbs)\n",
    "    evanorm = torch.empty(len(frame))\n",
    "    for i in range(len(frame)):\n",
    "        evanorm[i] = torch.mean((torch.linalg.eigvalsh(fock[i]) - torch.linalg.eigvalsh(predicted[i]))**2)/len(fock[i])\n",
    "    return torch.mean(evanorm)*(Hartree)**2"
   ]
  },
  {
   "cell_type": "code",
   "execution_count": 82,
   "id": "196167ed",
   "metadata": {},
   "outputs": [],
   "source": [
    "def normalize_feats(feat, all_blocks=True): \n",
    "    all_norm = 0\n",
    "    for block_idx, block in feat: \n",
    "        block_norm = np.linalg.norm(block.values)\n",
    "#         print(block_idx, block_norm)\n",
    "        all_norm += block_norm**2\n",
    "    normalized_blocks=[]\n",
    "    for block_idx, block in feat: \n",
    "        newblock = TensorBlock(\n",
    "                        values=block.values/np.sqrt(all_norm ),\n",
    "                        samples=block.samples,\n",
    "                        components=block.components,\n",
    "                        properties= block.properties)\n",
    "                    \n",
    "        normalized_blocks.append(newblock) \n",
    "        \n",
    "    norm_feat = TensorMap(feat.keys, normalized_blocks)\n",
    "    return norm_feat"
   ]
  },
  {
   "cell_type": "markdown",
   "id": "720ad712",
   "metadata": {},
   "source": [
    "## Manipulate Hamiltonian into blocks"
   ]
  },
  {
   "cell_type": "code",
   "execution_count": 83,
   "id": "461e38a9",
   "metadata": {},
   "outputs": [],
   "source": [
    "blocks = dense_to_blocks(hams, frames, orbs)\n",
    "fock_bc = couple_blocks(blocks, cg)"
   ]
  },
  {
   "cell_type": "markdown",
   "id": "73c8cfe3",
   "metadata": {},
   "source": [
    "## Feature computation"
   ]
  },
  {
   "cell_type": "code",
   "execution_count": 84,
   "id": "13064b3f",
   "metadata": {},
   "outputs": [],
   "source": [
    "rascal_hypers = {\n",
    "    \"interaction_cutoff\": 4,\n",
    "    \"cutoff_smooth_width\": 0.5,\n",
    "    \"max_radial\": 12,\n",
    "    \"max_angular\": 8,\n",
    "    \"gaussian_sigma_type\": \"Constant\",\n",
    "    \"compute_gradients\":  False,\n",
    "}\n",
    "\n",
    "spex = RascalSphericalExpansion(rascal_hypers)\n",
    "rhoi = spex.compute(frames)"
   ]
  },
  {
   "cell_type": "code",
   "execution_count": 85,
   "id": "cc39e55f",
   "metadata": {},
   "outputs": [],
   "source": [
    "pairs = RascalPairExpansion(rascal_hypers)\n",
    "gij = pairs.compute(frames)"
   ]
  },
  {
   "cell_type": "code",
   "execution_count": 86,
   "id": "abf74c18",
   "metadata": {},
   "outputs": [],
   "source": [
    "rho1i = acdc_standardize_keys(rhoi)\n",
    "rho1i.keys_to_properties(['species_neighbor'])\n",
    "gij =  acdc_standardize_keys(gij)"
   ]
  },
  {
   "cell_type": "code",
   "execution_count": null,
   "id": "6a666711",
   "metadata": {},
   "outputs": [],
   "source": [
    "rho2i = cg_increment(rho1i, rho1i, lcut=2, other_keys_match=[\"species_center\"], clebsch_gordan=cg)"
   ]
  },
  {
   "cell_type": "code",
   "execution_count": null,
   "id": "4565f04d",
   "metadata": {},
   "outputs": [],
   "source": [
    "#rho3i = cg_increment(rho2i, rho1i, lcut=2, other_keys_match=[\"species_center\"], clebsch_gordan=cg)"
   ]
  },
  {
   "cell_type": "code",
   "execution_count": null,
   "id": "bdcb6035",
   "metadata": {},
   "outputs": [],
   "source": [
    "rho1ij = cg_increment(rho1i, gij, lcut=2, other_keys_match=[\"species_center\"], clebsch_gordan=cg)"
   ]
  },
  {
   "cell_type": "code",
   "execution_count": null,
   "id": "0c5d9d42",
   "metadata": {},
   "outputs": [],
   "source": [
    "#rho2ij = cg_increment(rho2i, gij, lcut=2, other_keys_match=[\"species_center\"], clebsch_gordan=cg)"
   ]
  },
  {
   "cell_type": "code",
   "execution_count": null,
   "id": "b29eb700",
   "metadata": {},
   "outputs": [],
   "source": [
    "ham_feats = hamiltonian_features(rho2i, rho1ij)"
   ]
  },
  {
   "cell_type": "code",
   "execution_count": null,
   "id": "6739d86a",
   "metadata": {},
   "outputs": [],
   "source": [
    "norm_ham_feats = normalize_feats(ham_feats)"
   ]
  },
  {
   "cell_type": "markdown",
   "id": "9fe8c8bc",
   "metadata": {},
   "source": [
    "# Pytorch Model"
   ]
  },
  {
   "cell_type": "code",
   "execution_count": null,
   "id": "cc7c1c49",
   "metadata": {},
   "outputs": [],
   "source": [
    "class LinearModel(torch.nn.Module):\n",
    "    def __init__(self, coupled_blocks, features, weights=None, intercepts=None):\n",
    "        super().__init__()\n",
    "        self.coupled_blocks = coupled_blocks\n",
    "        self.features = features\n",
    "        self.weights = {}\n",
    "        if weights==None:\n",
    "            for idx_fock, block_fock in self.coupled_blocks:\n",
    "                block_type, ai, ni, li, aj, nj, lj, L = idx_fock\n",
    "                parity= (-1)**(li+lj+L)\n",
    "                size = self.features.block(block_type=block_type, spherical_harmonics_l=L,inversion_sigma=parity, \n",
    "                                       species_center=ai, species_neighbor=aj).values.shape[2]\n",
    "                self.weights[idx_fock] = torch.nn.Parameter(torch.zeros(size, dtype=torch.float64))\n",
    "            \n",
    "        else: \n",
    "            self.weights = weights\n",
    "            \n",
    "        if intercepts is not None:\n",
    "            self.intercepts = intercepts \n",
    "            \n",
    "        else:\n",
    "            self.intercepts = None\n",
    "         \n",
    "    def forward(self, features):\n",
    "        k = []\n",
    "        pred_blocks = []\n",
    "        for (idx, wts) in self.weights.items():\n",
    "            #print(wts)\n",
    "            block_type, ai, ni, li, aj, nj, lj, L = idx\n",
    "            k.append(list(idx))\n",
    "            parity= (-1)**(li+lj+L)\n",
    "            X = features.block(block_type=block_type, spherical_harmonics_l=L,inversion_sigma=parity, \n",
    "                                   species_center=ai, species_neighbor=aj)\n",
    "            X_new = torch.from_numpy(X.values.reshape(-1, X.values.shape[2]))\n",
    "            #print(idx, wts.shape, X.values.shape, X_new.shape)\n",
    "            if self.intercepts is not None:\n",
    "                Y = X_new @ wts + self.intercepts[idx]\n",
    "            else:\n",
    "                Y = X_new @ wts\n",
    "            \n",
    "            newblock = TensorBlock(\n",
    "                        values=Y.reshape((-1, 2 * L + 1, 1)),\n",
    "                        samples=X.samples,\n",
    "                        components=[Labels(\n",
    "                            [\"mu\"], np.asarray(range(-L, L + 1), dtype=np.int32).reshape(-1, 1)\n",
    "                        )],\n",
    "                        properties= Labels([\"values\"], np.asarray([[0]], dtype=np.int32))\n",
    "                    )\n",
    "            pred_blocks.append(newblock) \n",
    "        \n",
    "        keys = Labels(('block_type', 'a_i', 'n_i', 'l_i', 'a_j', 'n_j', 'l_j', 'L'), np.asarray(k, dtype=np.int32))\n",
    "        pred_fock = TensorMap(keys, pred_blocks)\n",
    "        return(pred_fock)\n",
    "        ### add direct eigenvalue prediction here as well\n",
    "    \n",
    "    def parameters(self):\n",
    "        for idx, wts in self.weights.items():\n",
    "            yield wts        "
   ]
  },
  {
   "cell_type": "markdown",
   "id": "1a3bf5cc",
   "metadata": {
    "heading_collapsed": true,
    "jp-MarkdownHeadingCollapsed": true,
    "tags": []
   },
   "source": [
    "# For single frame"
   ]
  },
  {
   "cell_type": "code",
   "execution_count": 21,
   "id": "f5dbeb35",
   "metadata": {
    "hidden": true
   },
   "outputs": [],
   "source": [
    "i_frame = frames[0]\n",
    "i_ham = hams[0] \n",
    "\n",
    "i_feats = ham_feats.slice(Labels(names=[\"structure\"], values=np.asarray(range(1), dtype=np.int32).reshape(-1,1)) )\n",
    "i_focks = fock_bc.slice(Labels(names=[\"structure\"], values=np.asarray(range(1), dtype=np.int32).reshape(-1,1)) )"
   ]
  },
  {
   "cell_type": "code",
   "execution_count": 22,
   "id": "044d1f5c",
   "metadata": {
    "hidden": true,
    "scrolled": true
   },
   "outputs": [],
   "source": [
    "norm_i_feats = normalize_feats(i_feats)"
   ]
  },
  {
   "cell_type": "markdown",
   "id": "fedf945f",
   "metadata": {
    "heading_collapsed": true,
    "hidden": true
   },
   "source": [
    "### Testing the model with weights from equistore"
   ]
  },
  {
   "cell_type": "code",
   "execution_count": 23,
   "id": "133da935",
   "metadata": {
    "hidden": true
   },
   "outputs": [],
   "source": [
    "weights = np.load('model_weights.npy', allow_pickle=True)[()]\n",
    "intercepts = np.load('model_intercepts.npy', allow_pickle=True)[()]"
   ]
  },
  {
   "cell_type": "code",
   "execution_count": null,
   "id": "c6e2e675",
   "metadata": {
    "hidden": true
   },
   "outputs": [],
   "source": [
    "model = LinearModel(i_focks, i_feats, weights=weights, intercepts=intercepts)\n",
    "print(f\"the model contains {len(list(model.parameters()))} parameters\")\n",
    "\n",
    "pred = model(i_feats)"
   ]
  },
  {
   "cell_type": "code",
   "execution_count": 294,
   "id": "117810f1",
   "metadata": {
    "hidden": true
   },
   "outputs": [
    {
     "name": "stdout",
     "output_type": "stream",
     "text": [
      "tensor(595.3569)\n"
     ]
    }
   ],
   "source": [
    "loss = mse_full([torch.from_numpy(i_ham.astype(np.float64))], pred, [i_frame], orbs)\n",
    "print(torch.sqrt(loss))"
   ]
  },
  {
   "cell_type": "markdown",
   "id": "d4a7f25f",
   "metadata": {
    "hidden": true
   },
   "source": [
    "### Training with loss on full Hamiltonian"
   ]
  },
  {
   "cell_type": "code",
   "execution_count": null,
   "id": "1456cbe7",
   "metadata": {
    "hidden": true,
    "scrolled": true
   },
   "outputs": [],
   "source": [
    "model = LinearModel(i_focks, norm_i_feats)\n",
    "optimizer = torch.optim.Adam(model.parameters(), lr=1e-1)\n",
    "# scheduler = torch.optim.lr_scheduler.StepLR(optimizer, step_size=15000, gamma=0.01)\n",
    "\n",
    "all_losses = []\n",
    "for epoch in range(3000):\n",
    "    optimizer.zero_grad()\n",
    "    pred = model(norm_i_feats)\n",
    "    loss = mse_full([torch.from_numpy(i_ham.astype(np.float64))], pred, [i_frame], orbs)\n",
    "    loss.backward()\n",
    "    \n",
    "    optimizer.step()\n",
    "#     scheduler.step()\n",
    "    \n",
    "    all_losses.append(loss.item())\n",
    "\n",
    "    if epoch % 500 == 0:\n",
    "        print(epoch, loss.item())"
   ]
  },
  {
   "cell_type": "code",
   "execution_count": 296,
   "id": "e77bba86",
   "metadata": {
    "hidden": true
   },
   "outputs": [
    {
     "data": {
      "text/plain": [
       "Text(0,0.5,'$MSE_{full}$')"
      ]
     },
     "execution_count": 296,
     "metadata": {},
     "output_type": "execute_result"
    },
    {
     "data": {
      "image/png": "[encoded data removed]",
      "text/plain": [
       "<Figure size 432x288 with 1 Axes>"
      ]
     },
     "metadata": {
      "needs_background": "light"
     },
     "output_type": "display_data"
    }
   ],
   "source": [
    "plt.loglog(all_losses)\n",
    "\n",
    "plt.xlabel(\"epochs\")\n",
    "plt.ylabel(\"$MSE_{full}$\")"
   ]
  },
  {
   "cell_type": "code",
   "execution_count": 297,
   "id": "3cf654b5",
   "metadata": {
    "hidden": true
   },
   "outputs": [
    {
     "data": {
      "text/plain": [
       "tensor(4.7829e-16, grad_fn=<MeanBackward0>)"
      ]
     },
     "execution_count": 297,
     "metadata": {},
     "output_type": "execute_result"
    }
   ],
   "source": [
    "pred = model(norm_i_feats)\n",
    "mse_full([torch.from_numpy(i_ham.astype(np.float64))], pred, [i_frame], orbs)"
   ]
  },
  {
   "cell_type": "markdown",
   "id": "07ebedc2",
   "metadata": {
    "heading_collapsed": true,
    "hidden": true
   },
   "source": [
    "### Training with loss on eigenvalues"
   ]
  },
  {
   "cell_type": "code",
   "execution_count": 47,
   "id": "ac120e84",
   "metadata": {
    "hidden": true
   },
   "outputs": [
    {
     "name": "stdout",
     "output_type": "stream",
     "text": [
      "0 0.07313249260187149\n",
      "1000 0.00026996646192856133\n",
      "2000 5.596232099946974e-08\n",
      "3000 2.7129460719479796e-14\n",
      "4000 2.6957009893616504e-15\n",
      "5000 9.686255856238392e-16\n",
      "6000 1.296768690488997e-15\n",
      "7000 3.0241524142196087e-15\n",
      "8000 4.065183858482403e-15\n",
      "9000 4.32505907241418e-15\n",
      "10000 4.389821093978875e-15\n",
      "11000 6.49571885436549e-16\n",
      "12000 1.186469648284318e-15\n",
      "13000 1.9500161695210376e-15\n",
      "14000 1.2387532863491818e-15\n",
      "15000 1.461137551486062e-15\n",
      "16000 1.8999177705809715e-15\n",
      "17000 2.0405432392753145e-15\n",
      "18000 2.1838470261488756e-15\n",
      "19000 6.112263439253442e-15\n",
      "20000 1.3493779068429615e-15\n",
      "21000 1.7296043264809573e-15\n",
      "22000 1.7296043264809573e-15\n",
      "23000 1.7296043264809573e-15\n",
      "24000 1.7296043264809573e-15\n",
      "25000 5.531865770003837e-16\n",
      "26000 5.531865770003837e-16\n",
      "27000 3.3424373261281472e-15\n",
      "28000 3.3424373261281472e-15\n",
      "29000 2.224811445302225e-15\n"
     ]
    }
   ],
   "source": [
    "model = LinearModel(i_focks, i_feats)\n",
    "optimizer = torch.optim.Adam(model.parameters(), lr=0.8)\n",
    "scheduler = torch.optim.lr_scheduler.StepLR(optimizer, step_size=10000, gamma=0.01)\n",
    "\n",
    "eigval_losses = []\n",
    "for epoch in range(30000):\n",
    "    optimizer.zero_grad()\n",
    "    pred = model(i_feats[0])\n",
    "    eigval_loss = mse_eigvals([torch.from_numpy(i_ham.astype(np.float64))], pred, [i_frame], orbs)\n",
    "    eigval_loss.backward()\n",
    "    optimizer.step()\n",
    "    \n",
    "    eigval_losses.append(eigval_loss.item())\n",
    "\n",
    "    if epoch % 1000 == 0:\n",
    "        print(epoch, eigval_loss.item())\n",
    "    \n",
    "    scheduler.step()"
   ]
  },
  {
   "cell_type": "code",
   "execution_count": 48,
   "id": "bfbfda8d",
   "metadata": {
    "hidden": true
   },
   "outputs": [
    {
     "data": {
      "text/plain": [
       "Text(0, 0.5, '$MSE_{\\\\epsilon}$')"
      ]
     },
     "execution_count": 48,
     "metadata": {},
     "output_type": "execute_result"
    },
    {
     "data": {
      "image/png": "[encoded data removed]",
      "text/plain": [
       "<Figure size 432x288 with 1 Axes>"
      ]
     },
     "metadata": {
      "needs_background": "light"
     },
     "output_type": "display_data"
    }
   ],
   "source": [
    "plt.loglog(eigval_losses)\n",
    "\n",
    "plt.xlabel(\"epochs\")\n",
    "plt.ylabel(\"$MSE_{\\epsilon}$\")"
   ]
  },
  {
   "cell_type": "code",
   "execution_count": 49,
   "id": "d24d4008",
   "metadata": {
    "hidden": true
   },
   "outputs": [
    {
     "name": "stdout",
     "output_type": "stream",
     "text": [
      "tensor(0.8015, grad_fn=<SqrtBackward0>)\n"
     ]
    }
   ],
   "source": [
    "pred_coupled = model(ham_feats)\n",
    "rmse_full = torch.sqrt(mse_full([torch.from_numpy(i_ham.astype(np.float64))], pred, [i_frame], orbs))\n",
    "print(rmse_full)"
   ]
  },
  {
   "cell_type": "markdown",
   "id": "fef93952",
   "metadata": {},
   "source": [
    "# Train and test on multiple frames"
   ]
  },
  {
   "cell_type": "markdown",
   "id": "36370cdb",
   "metadata": {},
   "source": [
    "### Split into train and test set"
   ]
  },
  {
   "cell_type": "code",
   "execution_count": null,
   "id": "77c7f8d5",
   "metadata": {},
   "outputs": [],
   "source": [
    "N=len(frames)\n",
    "ntrain = int(N*0.8)\n",
    "train_frames = frames[:ntrain]\n",
    "train_hams = hams[:ntrain]\n",
    "train_feats = norm_ham_feats.slice(Labels(names=[\"structure\"], values=np.asarray(range(ntrain), dtype=np.int32).reshape(-1,1)) )\n",
    "train_focks = fock_bc.slice(Labels(names=[\"structure\"], values=np.asarray(range(ntrain), dtype=np.int32).reshape(-1,1)) )"
   ]
  },
  {
   "cell_type": "code",
   "execution_count": null,
   "id": "0c58935a",
   "metadata": {},
   "outputs": [],
   "source": [
    "test_frames = frames[ntrain:N]\n",
    "test_hams = hams[ntrain:N]\n",
    "test_feats = norm_ham_feats.slice(Labels(names=[\"structure\"], values=np.asarray(range(ntrain,N), dtype=np.int32).reshape(-1,1)) )\n",
    "test_focks = fock_bc.slice(Labels(names=[\"structure\"], values=np.asarray(range(ntrain,N), dtype=np.int32).reshape(-1,1)) )"
   ]
  },
  {
   "cell_type": "code",
   "execution_count": null,
   "id": "a3f58021",
   "metadata": {
    "scrolled": true
   },
   "outputs": [],
   "source": [
    "model = LinearModel(train_focks, train_feats)\n",
    "optimizer = torch.optim.Adam(model.parameters(), lr=0.8)\n",
    "scheduler = torch.optim.lr_scheduler.StepLR(optimizer, step_size=500, gamma=0.8)\n",
    "\n",
    "all_losses = []\n",
    "for epoch in range(5000):\n",
    "    optimizer.zero_grad()\n",
    "    pred = model(train_feats)\n",
    "    loss = mse_full(torch.from_numpy(train_hams.astype(np.float64)), pred, train_frames, orbs)\n",
    "    loss.backward()\n",
    "    optimizer.step()\n",
    "    scheduler.step()\n",
    "    \n",
    "    all_losses.append(loss.item())\n",
    "    \n",
    "    if epoch % 50 == 0:\n",
    "        print(epoch, loss.item()) \n",
    "#     if loss.item <1e-15: \n",
    "#         break "
   ]
  },
  {
   "cell_type": "code",
   "execution_count": 70,
   "id": "54ed648e-d95d-4e6b-a228-4d355c775a12",
   "metadata": {},
   "outputs": [],
   "source": [
    "model = LinearModel(train_focks, train_feats)\n",
    "optimizer = torch.optim.LBFGS(\n",
    "        model.parameters(),\n",
    "        lr=0.8,  line_search_fn=\"strong_wolfe\",\n",
    "        history_size=256,\n",
    "    )"
   ]
  },
  {
   "cell_type": "code",
   "execution_count": 68,
   "id": "44d4b970-d8d4-4138-a8a0-6fd72a6521be",
   "metadata": {},
   "outputs": [],
   "source": [
    "optimizer = torch.optim.LBFGS(\n",
    "        model.parameters(),\n",
    "        lr=100,  line_search_fn=\"strong_wolfe\",\n",
    "        history_size=256,\n",
    "    )"
   ]
  },
  {
   "cell_type": "code",
   "execution_count": 71,
   "id": "f06d8b7e-0004-4938-a879-dca0d01355ec",
   "metadata": {},
   "outputs": [
    {
     "name": "stdout",
     "output_type": "stream",
     "text": [
      "0 352.81134033203125\n",
      "1 0.3319660723209381\n",
      "2 0.04050033539533615\n",
      "3 0.007528027985244989\n",
      "4 0.003289621789008379\n",
      "5 0.0012687925482168794\n",
      "6 0.0007170700700953603\n",
      "7 0.0004343133477959782\n",
      "8 0.0002763569646049291\n",
      "9 0.0001919462956720963\n",
      "10 0.0001333414693363011\n",
      "11 0.00010262262367177755\n",
      "12 7.885556988185272e-05\n",
      "13 6.007651973050088e-05\n",
      "14 5.1463408453855664e-05\n",
      "15 4.9308917368762195e-05\n",
      "16 4.544035255094059e-05\n",
      "17 3.88514636142645e-05\n",
      "18 3.585655940696597e-05\n",
      "19 3.398913031560369e-05\n",
      "20 3.227144406992011e-05\n",
      "21 3.0040551791898906e-05\n",
      "22 2.794296233332716e-05\n",
      "23 2.655555545061361e-05\n",
      "24 2.2997750420472585e-05\n",
      "25 2.135609247488901e-05\n",
      "26 1.9592951503000222e-05\n",
      "27 1.925787546497304e-05\n",
      "28 1.8454018572811037e-05\n",
      "29 1.7771333659766242e-05\n",
      "30 1.708639865682926e-05\n",
      "31 1.655605956329964e-05\n",
      "32 1.5654522940167226e-05\n",
      "33 1.4308178833744023e-05\n",
      "34 1.3623866834677756e-05\n",
      "35 1.2871133549197111e-05\n",
      "36 1.2400229934428353e-05\n",
      "37 1.1508735042298213e-05\n",
      "38 1.0637570085236803e-05\n",
      "39 1.0049054253613576e-05\n",
      "40 9.642200893722475e-06\n",
      "41 9.308168046118226e-06\n",
      "42 8.915279977372847e-06\n",
      "43 8.307853931910358e-06\n",
      "44 8.04453702585306e-06\n",
      "45 7.790225936332718e-06\n",
      "46 7.5317789196560625e-06\n",
      "47 7.018622454779688e-06\n",
      "48 6.638259492319776e-06\n",
      "49 6.488351118605351e-06\n",
      "50 6.196702997840475e-06\n",
      "51 6.0748484429495875e-06\n",
      "52 5.874187991139479e-06\n",
      "53 5.768879873357946e-06\n",
      "54 5.6171365940826945e-06\n",
      "55 5.604224952548975e-06\n",
      "56 5.590060027316213e-06\n",
      "57 5.589487500401447e-06\n",
      "58 5.588981821347261e-06\n",
      "59 5.587566192843951e-06\n",
      "60 5.578299806074938e-06\n",
      "61 5.372598025132902e-06\n",
      "62 5.183836037758738e-06\n",
      "63 4.90711499878671e-06\n",
      "64 4.852170604863204e-06\n",
      "65 4.648639333026949e-06\n",
      "66 4.513211933954153e-06\n",
      "67 4.463249752006959e-06\n",
      "68 4.462534889171366e-06\n",
      "69 4.461650860321242e-06\n",
      "70 4.46095191364293e-06\n",
      "71 4.460173840925563e-06\n",
      "72 4.459409410628723e-06\n",
      "73 4.196660938760033e-06\n",
      "74 4.162408004049212e-06\n",
      "75 4.009584245068254e-06\n",
      "76 3.92769879908883e-06\n",
      "77 3.926918452634709e-06\n",
      "78 3.9264314182219096e-06\n",
      "79 3.92425636164262e-06\n",
      "80 3.923326858057408e-06\n",
      "81 3.828358785540331e-06\n",
      "82 3.7133670502953464e-06\n",
      "83 3.7125082599231973e-06\n",
      "84 3.711711997311795e-06\n",
      "85 3.7110992252564756e-06\n",
      "86 3.7110992252564756e-06\n",
      "87 3.7110992252564756e-06\n",
      "88 3.7110992252564756e-06\n",
      "89 3.7110992252564756e-06\n",
      "90 3.7110992252564756e-06\n",
      "91 3.7110992252564756e-06\n",
      "92 3.7110992252564756e-06\n",
      "93 3.7110992252564756e-06\n",
      "94 3.7110992252564756e-06\n",
      "95 3.7110992252564756e-06\n",
      "96 3.7110992252564756e-06\n",
      "97 3.7110992252564756e-06\n",
      "98 3.7110992252564756e-06\n",
      "99 3.7110992252564756e-06\n",
      "100 3.7110992252564756e-06\n",
      "101 3.7110992252564756e-06\n",
      "102 3.7110992252564756e-06\n",
      "103 3.7110992252564756e-06\n",
      "104 3.7110992252564756e-06\n",
      "105 3.7110992252564756e-06\n",
      "106 3.7110992252564756e-06\n",
      "107 3.7110992252564756e-06\n",
      "108 3.7110992252564756e-06\n",
      "109 3.7110992252564756e-06\n",
      "110 3.7110992252564756e-06\n",
      "111 3.7110992252564756e-06\n",
      "112 3.7110992252564756e-06\n",
      "113 3.7110992252564756e-06\n",
      "114 3.7110992252564756e-06\n",
      "115 3.7110992252564756e-06\n",
      "116 3.7110992252564756e-06\n",
      "117 3.7110992252564756e-06\n",
      "118 3.7110992252564756e-06\n",
      "119 3.7110992252564756e-06\n",
      "120 3.7110992252564756e-06\n",
      "121 3.7110992252564756e-06\n",
      "122 3.7110992252564756e-06\n",
      "123 3.7110992252564756e-06\n",
      "124 3.7110992252564756e-06\n",
      "125 3.7110992252564756e-06\n",
      "126 3.7110992252564756e-06\n",
      "127 3.7110992252564756e-06\n",
      "128 3.7110992252564756e-06\n",
      "129 3.7110992252564756e-06\n",
      "130 3.7110992252564756e-06\n",
      "131 3.7110992252564756e-06\n",
      "132 3.7110992252564756e-06\n",
      "133 3.7110992252564756e-06\n",
      "134 3.7110992252564756e-06\n",
      "135 3.7110992252564756e-06\n",
      "136 3.7110992252564756e-06\n",
      "137 3.7110992252564756e-06\n",
      "138 3.7110992252564756e-06\n",
      "139 3.7110992252564756e-06\n",
      "140 3.7110992252564756e-06\n",
      "141 3.7110992252564756e-06\n",
      "142 3.7110992252564756e-06\n",
      "143 3.7110992252564756e-06\n",
      "144 3.7110992252564756e-06\n",
      "145 3.7110992252564756e-06\n",
      "146 3.7110992252564756e-06\n",
      "147 3.7110992252564756e-06\n",
      "148 3.7110992252564756e-06\n",
      "149 3.7110992252564756e-06\n",
      "150 3.7110992252564756e-06\n",
      "151 3.7110992252564756e-06\n",
      "152 3.7110992252564756e-06\n",
      "153 3.7110992252564756e-06\n",
      "154 3.7110992252564756e-06\n",
      "155 3.7110992252564756e-06\n",
      "156 3.7110992252564756e-06\n",
      "157 3.7110992252564756e-06\n",
      "158 3.7110992252564756e-06\n",
      "159 3.7110992252564756e-06\n",
      "160 3.7110992252564756e-06\n",
      "161 3.7110992252564756e-06\n",
      "162 3.7110992252564756e-06\n",
      "163 3.7110992252564756e-06\n",
      "164 3.7110992252564756e-06\n",
      "165 3.7110992252564756e-06\n",
      "166 3.7110992252564756e-06\n",
      "167 3.7110992252564756e-06\n",
      "168 3.7110992252564756e-06\n",
      "169 3.7110992252564756e-06\n",
      "170 3.7110992252564756e-06\n",
      "171 3.7110992252564756e-06\n",
      "172 3.7110992252564756e-06\n",
      "173 3.7110992252564756e-06\n",
      "174 3.7110992252564756e-06\n",
      "175 3.7110992252564756e-06\n",
      "176 3.7110992252564756e-06\n",
      "177 3.7110992252564756e-06\n",
      "178 3.7110992252564756e-06\n",
      "179 3.7110992252564756e-06\n",
      "180 3.7110992252564756e-06\n",
      "181 3.7110992252564756e-06\n",
      "182 3.7110992252564756e-06\n",
      "183 3.7110992252564756e-06\n",
      "184 3.7110992252564756e-06\n",
      "185 3.7110992252564756e-06\n",
      "186 3.7110992252564756e-06\n",
      "187 3.7110992252564756e-06\n",
      "188 3.7110992252564756e-06\n",
      "189 3.7110992252564756e-06\n",
      "190 3.7110992252564756e-06\n",
      "191 3.7110992252564756e-06\n",
      "192 3.7110992252564756e-06\n",
      "193 3.7110992252564756e-06\n",
      "194 3.7110992252564756e-06\n",
      "195 3.7110992252564756e-06\n",
      "196 3.7110992252564756e-06\n",
      "197 3.7110992252564756e-06\n",
      "198 3.7110992252564756e-06\n",
      "199 3.7110992252564756e-06\n",
      "200 3.7110992252564756e-06\n",
      "201 3.7110992252564756e-06\n",
      "202 3.7110992252564756e-06\n",
      "203 3.7110992252564756e-06\n",
      "204 3.7110992252564756e-06\n",
      "205 3.7110992252564756e-06\n",
      "206 3.7110992252564756e-06\n",
      "207 3.7110992252564756e-06\n",
      "208 3.7110992252564756e-06\n",
      "209 3.7110992252564756e-06\n",
      "210 3.7110992252564756e-06\n",
      "211 3.7110992252564756e-06\n",
      "212 3.7110992252564756e-06\n",
      "213 3.7110992252564756e-06\n",
      "214 3.7110992252564756e-06\n",
      "215 3.7110992252564756e-06\n",
      "216 3.7110992252564756e-06\n",
      "217 3.7110992252564756e-06\n",
      "218 3.7110992252564756e-06\n",
      "219 3.7110992252564756e-06\n",
      "220 3.7110992252564756e-06\n",
      "221 3.7110992252564756e-06\n",
      "222 3.7110992252564756e-06\n",
      "223 3.7110992252564756e-06\n",
      "224 3.7110992252564756e-06\n",
      "225 3.7110992252564756e-06\n",
      "226 3.7110992252564756e-06\n",
      "227 3.7110992252564756e-06\n",
      "228 3.7110992252564756e-06\n",
      "229 3.7110992252564756e-06\n",
      "230 3.7110992252564756e-06\n",
      "231 3.7110992252564756e-06\n",
      "232 3.7110992252564756e-06\n",
      "233 3.7110992252564756e-06\n",
      "234 3.7110992252564756e-06\n",
      "235 3.7110992252564756e-06\n",
      "236 3.7110992252564756e-06\n",
      "237 3.7110992252564756e-06\n",
      "238 3.7110992252564756e-06\n",
      "239 3.7110992252564756e-06\n",
      "240 3.7110992252564756e-06\n",
      "241 3.7110992252564756e-06\n",
      "242 3.7110992252564756e-06\n",
      "243 3.7110992252564756e-06\n",
      "244 3.7110992252564756e-06\n",
      "245 3.7110992252564756e-06\n",
      "246 3.7110992252564756e-06\n",
      "247 3.7110992252564756e-06\n",
      "248 3.7110992252564756e-06\n",
      "249 3.7110992252564756e-06\n",
      "250 3.7110992252564756e-06\n",
      "251 3.7110992252564756e-06\n",
      "252 3.7110992252564756e-06\n",
      "253 3.7110992252564756e-06\n",
      "254 3.7110992252564756e-06\n",
      "255 3.7110992252564756e-06\n",
      "256 3.7110992252564756e-06\n",
      "257 3.7110992252564756e-06\n",
      "258 3.7110992252564756e-06\n",
      "259 3.7110992252564756e-06\n",
      "260 3.7110992252564756e-06\n",
      "261 3.7110992252564756e-06\n",
      "262 3.7110992252564756e-06\n",
      "263 3.7110992252564756e-06\n",
      "264 3.7110992252564756e-06\n",
      "265 3.7110992252564756e-06\n",
      "266 3.7110992252564756e-06\n",
      "267 3.7110992252564756e-06\n",
      "268 3.7110992252564756e-06\n",
      "269 3.7110992252564756e-06\n",
      "270 3.7110992252564756e-06\n",
      "271 3.7110992252564756e-06\n",
      "272 3.7110992252564756e-06\n",
      "273 3.7110992252564756e-06\n",
      "274 3.7110992252564756e-06\n",
      "275 3.7110992252564756e-06\n",
      "276 3.7110992252564756e-06\n",
      "277 3.7110992252564756e-06\n",
      "278 3.7110992252564756e-06\n",
      "279 3.7110992252564756e-06\n",
      "280 3.7110992252564756e-06\n",
      "281 3.7110992252564756e-06\n",
      "282 3.7110992252564756e-06\n",
      "283 3.7110992252564756e-06\n",
      "284 3.7110992252564756e-06\n",
      "285 3.7110992252564756e-06\n",
      "286 3.7110992252564756e-06\n",
      "287 3.7110992252564756e-06\n",
      "288 3.7110992252564756e-06\n",
      "289 3.7110992252564756e-06\n",
      "290 3.7110992252564756e-06\n",
      "291 3.7110992252564756e-06\n",
      "292 3.7110992252564756e-06\n",
      "293 3.7110992252564756e-06\n",
      "294 3.7110992252564756e-06\n",
      "295 3.7110992252564756e-06\n",
      "296 3.7110992252564756e-06\n",
      "297 3.7110992252564756e-06\n",
      "298 3.7110992252564756e-06\n",
      "299 3.7110992252564756e-06\n"
     ]
    }
   ],
   "source": [
    "all_losses = []\n",
    "for epoch in range(300):\n",
    "    def single_step():\n",
    "        optimizer.zero_grad()\n",
    "        pred = model(train_feats)\n",
    "        loss = mse_full(torch.from_numpy(train_hams.astype(np.float64)), pred, train_frames, orbs)\n",
    "        loss.backward()\n",
    "        return loss\n",
    "    \n",
    "    loss = optimizer.step(single_step)\n",
    "    \n",
    "    all_losses.append(loss.item())\n",
    "    \n",
    "    if epoch % 1 == 0:\n",
    "        print(epoch, loss.item()) \n",
    "#     if loss.item <1e-15: \n",
    "#         break "
   ]
  },
  {
   "cell_type": "code",
   "execution_count": 72,
   "id": "4e21ab37",
   "metadata": {},
   "outputs": [
    {
     "name": "stdout",
     "output_type": "stream",
     "text": [
      "0.0019264213519519752 eV rmse on TRAIN H prediction\n"
     ]
    },
    {
     "data": {
      "image/png": "[encoded data removed]",
      "text/plain": [
       "<Figure size 432x288 with 1 Axes>"
      ]
     },
     "metadata": {
      "needs_background": "light"
     },
     "output_type": "display_data"
    }
   ],
   "source": [
    "plt.loglog(np.sqrt(all_losses))\n",
    "\n",
    "plt.xlabel(\"epochs\")\n",
    "plt.ylabel(\"$RMSE_{full}$\")\n",
    "print(np.sqrt(all_losses[-1]), \"eV rmse on TRAIN H prediction\")"
   ]
  },
  {
   "cell_type": "code",
   "execution_count": 73,
   "id": "432cf306",
   "metadata": {},
   "outputs": [
    {
     "name": "stdout",
     "output_type": "stream",
     "text": [
      "tensor(0.0049, grad_fn=<SqrtBackward0>) eV rmse on ALL H prediction\n"
     ]
    }
   ],
   "source": [
    "pred_all = model(norm_ham_feats.slice(Labels(names=[\"structure\"], values=np.asarray(range(N), dtype=np.int32).reshape(-1,1)) ))\n",
    "all_loss = mse_full(torch.from_numpy(hams[:N].astype(np.float64)), pred_all, frames[:N], orbs)\n",
    "print(torch.sqrt(all_loss), \"eV rmse on ALL H prediction\")\n",
    "# test_loss_eigvals = mse_eigvals(torch.from_numpy(test_hams.astype(np.float64)), pred_test, test_frames, orbs)"
   ]
  },
  {
   "cell_type": "code",
   "execution_count": 74,
   "id": "5aac2d1a",
   "metadata": {},
   "outputs": [],
   "source": [
    "###TEMPORARY FIX to reindex just the test frames \n",
    "pred_test = model(test_feats)\n",
    "bvalues = []\n",
    "for i, b in pred_test:\n",
    "    newblock = TensorBlock(\n",
    "                        values=b.values,\n",
    "                        samples=pred.block(i).samples[:len(b.values)],\n",
    "                        components=b.components,\n",
    "                        properties= b.properties)\n",
    "                    \n",
    "    bvalues.append(newblock) \n",
    "        \n",
    "reindexed_pred_test  = TensorMap(test_focks.keys, bvalues)"
   ]
  },
  {
   "cell_type": "code",
   "execution_count": 75,
   "id": "340609fe",
   "metadata": {},
   "outputs": [],
   "source": [
    "# reindexed_pred_test.block(0).samples"
   ]
  },
  {
   "cell_type": "code",
   "execution_count": 76,
   "id": "d946d8ea",
   "metadata": {},
   "outputs": [
    {
     "name": "stdout",
     "output_type": "stream",
     "text": [
      "tensor(0.0103, grad_fn=<SqrtBackward0>) eV rmse on TEST H prediction\n",
      "tensor(0.0029, grad_fn=<SqrtBackward0>) eV rmse on TEST eigen prediction\n"
     ]
    }
   ],
   "source": [
    "test_loss = mse_full(torch.from_numpy(test_hams.astype(np.float64)), reindexed_pred_test, test_frames, orbs)\n",
    "test_loss_eigvals = mse_eigvals(torch.from_numpy(test_hams.astype(np.float64)), reindexed_pred_test, test_frames, orbs)\n",
    "print(torch.sqrt(test_loss),  \"eV rmse on TEST H prediction\")\n",
    "print(torch.sqrt(test_loss_eigvals),  \"eV rmse on TEST eigen prediction\")"
   ]
  },
  {
   "cell_type": "markdown",
   "id": "28d86a47",
   "metadata": {},
   "source": [
    "## Training on eigenvalue loss"
   ]
  },
  {
   "cell_type": "code",
   "execution_count": 24,
   "id": "82631bd5",
   "metadata": {
    "scrolled": true
   },
   "outputs": [
    {
     "name": "stdout",
     "output_type": "stream",
     "text": [
      "0 355.54296875 58.28573226928711 349.7143859863281\n",
      "500 0.12366901338100433 0.011495102196931839 0.12251950055360794\n",
      "1000 0.062106408178806305 0.005475901998579502 0.06155881658196449\n",
      "1500 0.0390036515891552 0.0033128391951322556 0.038672368973493576\n",
      "2000 0.026653792709112167 0.002200164832174778 0.026433777064085007\n",
      "2500 0.01905611716210842 0.0015364699065685272 0.01890246942639351\n",
      "3000 0.0140019990503788 0.001106412266381085 0.01389135792851448\n",
      "3500 0.010461311787366867 0.0008121316786855459 0.010380098596215248\n",
      "4000 0.00788682047277689 0.0006027652998454869 0.007826544344425201\n",
      "4500 0.005986376665532589 0.00045007228618487716 0.005941369570791721\n",
      "5000 0.004554461687803268 0.000338961515808478 0.004520565737038851\n",
      "5500 0.003945237956941128 0.0002890681498683989 0.003916331101208925\n",
      "6000 0.0032058036886155605 0.00023215336841531098 0.003182588377967477\n",
      "6500 0.002501914743334055 0.0001794292329577729 0.002483971882611513\n",
      "7000 0.001896281843073666 0.00013493417645804584 0.0018827883759513497\n",
      "7500 0.001411225413903594 9.978231537388638e-05 0.0014012472238391638\n",
      "8000 0.0010432313429191709 7.336966518778354e-05 0.0010358943836763501\n",
      "8500 0.000774556421674788 5.4226045904215425e-05 0.0007691337959840894\n",
      "9000 0.0005824955878779292 4.0625352994538844e-05 0.0005784330423921347\n",
      "9500 0.000445726967882365 3.0989587685326114e-05 0.00044262802111916244\n",
      "10000 0.00034814965329132974 2.4125363779603504e-05 0.00034573712036944926\n",
      "10500 0.0003312980115879327 2.2868118321639486e-05 0.0003290112072136253\n",
      "11000 0.00030597674776799977 2.103728911606595e-05 0.00030387300648726523\n",
      "11500 0.00027725857216864824 1.8974875274579972e-05 0.0002753610897343606\n",
      "12000 0.0002488158061169088 1.6936524843913503e-05 0.0002471221669111401\n",
      "12500 0.0002227288787253201 1.5078978321980685e-05 0.00022122098016552627\n",
      "13000 0.00019954120216425508 1.3447073797578923e-05 0.00019819648878183216\n",
      "13500 0.00017884865519590676 1.2007992154394742e-05 0.00017764786025509238\n",
      "14000 0.00015998909657355398 1.0705541171773802e-05 0.0001589185412740335\n",
      "14500 0.00014244065096136183 9.49154400586849e-06 0.0001414915022905916\n",
      "15000 0.00012599167530424893 8.347384209628217e-06 0.00012515693379100412\n",
      "15500 0.00012414871889632195 8.215342859330121e-06 0.0001233271905221045\n",
      "16000 0.00012188261462142691 8.050656106206588e-06 0.00012107755173929036\n",
      "16500 0.00011923962301807478 7.856611773604527e-06 0.00011845396511489525\n",
      "17000 0.00011627149069681764 7.639299838047009e-06 0.00011550755880307406\n",
      "17500 0.00011302397615509108 7.404508323816117e-06 0.00011228352377656847\n",
      "18000 0.0001095442203222774 7.158033895393601e-06 0.00010882841888815165\n",
      "18500 0.00010587774158921093 6.90228216626565e-06 0.00010518751514609903\n",
      "19000 0.00010207194281974807 6.640996616624761e-06 0.00010140784434042871\n",
      "19500 9.817550017032772e-05 6.3763927755644545e-06 9.753786434885114e-05\n",
      "20000 9.424524614587426e-05 6.111462425906211e-06 9.363410208607092e-05\n",
      "20500 9.383147698827088e-05 6.082846084609628e-06 9.322319237980992e-05\n",
      "21000 9.338848030893132e-05 6.051940999896033e-06 9.278328798245639e-05\n",
      "21500 9.291623427998275e-05 6.019032753101783e-06 9.231433068634942e-05\n",
      "22000 9.241986117558554e-05 5.9839317145815585e-06 9.182146459352225e-05\n",
      "22500 9.190345008391887e-05 5.947914360149298e-06 9.13086551008746e-05\n",
      "23000 9.137202869169414e-05 5.9105063883180264e-06 9.078098082682118e-05\n",
      "23500 9.08291622181423e-05 5.872223937331e-06 9.02419415069744e-05\n",
      "24000 9.027863416122273e-05 5.833649083797354e-06 8.969526970759034e-05\n",
      "24500 8.972406067186967e-05 5.794906883238582e-06 8.914456702768803e-05\n",
      "25000 8.916827937355265e-05 5.756030077463947e-06 8.85926783666946e-05\n",
      "25500 8.911183249438182e-05 5.7519878282619175e-06 8.853663166519254e-05\n",
      "26000 8.90549854375422e-05 5.74774139749934e-06 8.848021388985217e-05\n",
      "26500 8.899738168111071e-05 5.74342720938148e-06 8.842303941491991e-05\n",
      "27000 8.893938502296805e-05 5.7392267081013415e-06 8.836546476231888e-05\n",
      "27500 8.888084994396195e-05 5.734654678235529e-06 8.830738806864247e-05\n",
      "28000 8.882267866283655e-05 5.730341854359722e-06 8.824964606901631e-05\n",
      "28500 8.876409992808476e-05 5.725999017158756e-06 8.819149661576375e-05\n",
      "29000 8.870537567418069e-05 5.721582965634298e-06 8.813321619527414e-05\n",
      "29500 8.864650590112433e-05 5.71691089135129e-06 8.80748120835051e-05\n"
     ]
    }
   ],
   "source": [
    "model = LinearModel(train_focks, train_feats)\n",
    "optimizer = torch.optim.AdamW(model.parameters(), lr=0.5)\n",
    "scheduler = torch.optim.lr_scheduler.StepLR(optimizer, step_size=5000, gamma=0.1)\n",
    "\n",
    "all_eigval_losses = []\n",
    "all_losses = []\n",
    "combined_loss = []\n",
    "for epoch in range(30000):\n",
    "    optimizer.zero_grad()\n",
    "    pred = model(train_feats)\n",
    "    eva_loss = mse_eigvals(torch.from_numpy(train_hams.astype(np.float64)), pred, train_frames, orbs)\n",
    "    full_loss = mse_full(torch.from_numpy(train_hams.astype(np.float64)), pred, train_frames, orbs)\n",
    "    loss_combined = 0.1*eva_loss + full_loss\n",
    "    loss_combined.backward()\n",
    "    optimizer.step()\n",
    "    scheduler.step()\n",
    "    \n",
    "    all_eigval_losses.append(eva_loss.item())\n",
    "    all_losses.append(full_loss.item())\n",
    "    combined_loss.append(loss_combined.item())\n",
    "    \n",
    "    if epoch % 500 == 0:\n",
    "        print(epoch, loss_combined.item(), eva_loss.item(), full_loss.item())"
   ]
  },
  {
   "cell_type": "code",
   "execution_count": 34,
   "id": "c3f90eea",
   "metadata": {},
   "outputs": [
    {
     "data": {
      "text/plain": [
       "Text(0, 0.5, '$RMSE_{\\\\epsilon}$')"
      ]
     },
     "execution_count": 34,
     "metadata": {},
     "output_type": "execute_result"
    },
    {
     "data": {
      "image/png": "[encoded data removed]",
      "text/plain": [
       "<Figure size 432x288 with 1 Axes>"
      ]
     },
     "metadata": {
      "needs_background": "light"
     },
     "output_type": "display_data"
    }
   ],
   "source": [
    "plt.loglog(np.sqrt(all_eigval_losses))\n",
    "plt.loglog(np.sqrt(all_losses))\n",
    "plt.loglog(np.sqrt(combined_loss), 'g.')\n",
    "\n",
    "plt.xlabel(\"epochs\")\n",
    "plt.ylabel(\"$RMSE_{\\epsilon}$\")"
   ]
  },
  {
   "cell_type": "code",
   "execution_count": 35,
   "id": "2b447789",
   "metadata": {},
   "outputs": [],
   "source": [
    "pred_test = model(test_feats)\n",
    "bvalues = []\n",
    "for i, b in pred_test:\n",
    "    newblock = TensorBlock(\n",
    "                        values=b.values,\n",
    "                        samples=pred.block(i).samples[:len(b.values)],\n",
    "                        components=b.components,\n",
    "                        properties= b.properties)\n",
    "                    \n",
    "    bvalues.append(newblock) \n",
    "        \n",
    "reindexed_pred_test  = TensorMap(test_focks.keys, bvalues)"
   ]
  },
  {
   "cell_type": "code",
   "execution_count": 36,
   "id": "9ec19b27",
   "metadata": {},
   "outputs": [
    {
     "name": "stdout",
     "output_type": "stream",
     "text": [
      "tensor(0.0089, grad_fn=<SqrtBackward0>) eV rmse on TEST H prediction\n",
      "tensor(0.0023, grad_fn=<SqrtBackward0>) eV rmse on TEST eigen prediction\n"
     ]
    }
   ],
   "source": [
    "test_loss = mse_full(torch.from_numpy(test_hams.astype(np.float64)), reindexed_pred_test, test_frames, orbs)\n",
    "test_loss_eigvals = mse_eigvals(torch.from_numpy(test_hams.astype(np.float64)), reindexed_pred_test, test_frames, orbs)\n",
    "print(torch.sqrt(test_loss),  \"eV rmse on TEST H prediction\")\n",
    "print(torch.sqrt(test_loss_eigvals),  \"eV rmse on TEST eigen prediction\")"
   ]
  },
  {
   "cell_type": "markdown",
   "id": "c4429de6",
   "metadata": {},
   "source": [
    "## Train first on MSE_full and then retrain on MSE_eigenvalues"
   ]
  },
  {
   "cell_type": "code",
   "execution_count": 45,
   "id": "f7ade88c",
   "metadata": {
    "scrolled": true
   },
   "outputs": [
    {
     "name": "stdout",
     "output_type": "stream",
     "text": [
      "0 349.7143859863281\n",
      "100 0.15334588289260864\n",
      "200 0.040071986615657806\n",
      "300 0.017358414828777313\n",
      "400 0.012214300222694874\n",
      "500 0.009680550545454025\n",
      "600 0.007818610407412052\n",
      "700 0.006348025519400835\n",
      "800 0.0051681832410395145\n",
      "900 0.0042160614393651485\n",
      "1000 0.003445796202868223\n",
      "1100 0.0028221982065588236\n",
      "1200 0.0023174972739070654\n",
      "1300 0.0019094205927103758\n",
      "1400 0.0015799348475411534\n",
      "1500 0.0013143842807039618\n",
      "1600 0.001100808149203658\n",
      "1700 0.0009294012561440468\n",
      "1800 0.000792086822912097\n",
      "1900 0.0006821900606155396\n",
      "2000 0.0005941925337538123\n",
      "2100 0.000523551891092211\n",
      "2200 0.0004665612068492919\n",
      "2300 0.0004202288982924074\n",
      "2400 0.000382173340767622\n",
      "2500 0.00035052531166002154\n",
      "2600 0.00032383709913119674\n",
      "2700 0.00030100124422460794\n",
      "2800 0.0002811782469507307\n",
      "2900 0.00026373498258180916\n"
     ]
    }
   ],
   "source": [
    "model = LinearModel(train_focks, train_feats)\n",
    "optimizer = torch.optim.Adam(model.parameters(), lr=0.8)\n",
    "#scheduler = torch.optim.lr_scheduler.StepLR(optimizer, step_size=5000, gamma=0.1)\n",
    "\n",
    "all_losses = []\n",
    "for epoch in range(3000):\n",
    "    optimizer.zero_grad()\n",
    "    pred = model(train_feats)\n",
    "    loss = mse_full(torch.from_numpy(train_hams.astype(np.float64)), pred, train_frames, orbs)\n",
    "    loss.backward()\n",
    "    optimizer.step()\n",
    "    #scheduler.step()\n",
    "    \n",
    "    all_losses.append(loss.item())\n",
    "    \n",
    "    if epoch % 100 == 0:\n",
    "        print(epoch, loss.item()) "
   ]
  },
  {
   "cell_type": "code",
   "execution_count": 48,
   "id": "0bc02e12",
   "metadata": {},
   "outputs": [
    {
     "name": "stdout",
     "output_type": "stream",
     "text": [
      "Epoch: 0 combined: 7.65964068705216e-05 MSE_full: 7.254196680150926e-05 MSE_eva: 4.0544377952755895e-06\n",
      "Epoch: 500 combined: 0.0008116356329992414 MSE_full: 0.0007132518221624196 MSE_eva: 9.838381811277941e-05\n",
      "Epoch: 1000 combined: 6.988879613345489e-05 MSE_full: 6.406062311725691e-05 MSE_eva: 5.828169832966523e-06\n",
      "Epoch: 1500 combined: 0.0017141797579824924 MSE_full: 0.0014890845632180572 MSE_eva: 0.00022509516566060483\n",
      "Epoch: 2000 combined: 0.00087914610048756 MSE_full: 0.0007573447073809803 MSE_eva: 0.0001218014003825374\n",
      "Epoch: 2500 combined: 0.0001345453056273982 MSE_full: 0.00011772434663726017 MSE_eva: 1.6820955352159217e-05\n"
     ]
    }
   ],
   "source": [
    "all_eigval_losses = []\n",
    "all_ham_losses = []\n",
    "combined_loss = []\n",
    "\n",
    "for epoch in range(3000):\n",
    "    optimizer.zero_grad()\n",
    "    re_pred = model(train_feats)\n",
    "    loss1 = mse_full(torch.from_numpy(train_hams.astype(np.float64)), re_pred, train_frames, orbs)\n",
    "    loss2 = mse_eigvals(torch.from_numpy(train_hams.astype(np.float64)), re_pred, train_frames, orbs)\n",
    "    loss_combined = loss1 + loss2\n",
    "    loss_combined.backward()\n",
    "    optimizer.step()\n",
    "    #scheduler.step()\n",
    "    \n",
    "    all_eigval_losses.append(loss2.item())\n",
    "    all_ham_losses.append(loss1.item())\n",
    "    combined_loss.append(loss_combined.item())\n",
    "    \n",
    "    if epoch % 500 == 0:\n",
    "        print(\"Epoch:\", epoch, \"combined:\", loss_combined.item(), \"MSE_full:\", loss1.item(), \"MSE_eva:\", loss2.item())"
   ]
  },
  {
   "cell_type": "code",
   "execution_count": 49,
   "id": "2ff11c81",
   "metadata": {},
   "outputs": [],
   "source": [
    "pred_test = model(test_feats)\n",
    "bvalues = []\n",
    "for i, b in pred_test:\n",
    "    newblock = TensorBlock(\n",
    "                        values=b.values,\n",
    "                        samples=pred.block(i).samples[:len(b.values)],\n",
    "                        components=b.components,\n",
    "                        properties= b.properties)\n",
    "                    \n",
    "    bvalues.append(newblock) \n",
    "        \n",
    "reindexed_pred_test  = TensorMap(test_focks.keys, bvalues)"
   ]
  },
  {
   "cell_type": "code",
   "execution_count": 50,
   "id": "e786854b",
   "metadata": {},
   "outputs": [
    {
     "name": "stdout",
     "output_type": "stream",
     "text": [
      "tensor(0.0125, grad_fn=<SqrtBackward0>) eV rmse on TEST H prediction\n",
      "tensor(0.0047, grad_fn=<SqrtBackward0>) eV rmse on TEST eigen prediction\n"
     ]
    }
   ],
   "source": [
    "test_loss = mse_full(torch.from_numpy(test_hams.astype(np.float64)), reindexed_pred_test, test_frames, orbs)\n",
    "test_loss_eigvals = mse_eigvals(torch.from_numpy(test_hams.astype(np.float64)), reindexed_pred_test, test_frames, orbs)\n",
    "print(torch.sqrt(test_loss),  \"eV rmse on TEST H prediction\")\n",
    "print(torch.sqrt(test_loss_eigvals),  \"eV rmse on TEST eigen prediction\")"
   ]
  },
  {
   "cell_type": "code",
   "execution_count": null,
   "id": "507b0143",
   "metadata": {},
   "outputs": [],
   "source": []
  }
 ],
 "metadata": {
  "kernelspec": {
   "display_name": "Python 3",
   "language": "python",
   "name": "python3"
  },
  "language_info": {
   "codemirror_mode": {
    "name": "ipython",
    "version": 3
   },
   "file_extension": ".py",
   "mimetype": "text/x-python",
   "name": "python",
   "nbconvert_exporter": "python",
   "pygments_lexer": "ipython3",
   "version": "3.8.10"
  },
  "toc": {
   "base_numbering": 1,
   "nav_menu": {},
   "number_sections": true,
   "sideBar": true,
   "skip_h1_title": false,
   "title_cell": "Table of Contents",
   "title_sidebar": "Contents",
   "toc_cell": false,
   "toc_position": {},
   "toc_section_display": true,
   "toc_window_display": false
  },
  "vscode": {
   "interpreter": {
    "hash": "9b1dab49005db54eeaf19407b770a132388229704ecb91b436b854691f0d31ef"
   }
  }
 },
 "nbformat": 4,
 "nbformat_minor": 5
}
