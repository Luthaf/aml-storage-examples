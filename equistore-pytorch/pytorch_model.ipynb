{
 "cells": [
  {
   "cell_type": "code",
   "execution_count": 1,
   "id": "d32d2824",
   "metadata": {},
   "outputs": [],
   "source": [
    "%load_ext autoreload\n",
    "%autoreload 2\n",
    "%load_ext line_profiler"
   ]
  },
  {
   "cell_type": "code",
   "execution_count": 2,
   "id": "43edc0bf",
   "metadata": {},
   "outputs": [],
   "source": [
    "import numpy as np\n",
    "import torch\n",
    "import json\n",
    "from equistore import Labels, TensorBlock, TensorMap\n",
    "from torch_builder import TensorBuilder\n",
    "import ase.io\n",
    "from itertools import product\n",
    "from torch_cg import ClebschGordanReal\n",
    "from torch_hamiltonians import fix_pyscf_l1, dense_to_blocks, blocks_to_dense, couple_blocks, decouple_blocks, hamiltonian_features\n",
    "import matplotlib.pyplot as plt\n",
    "from rascal.representations import SphericalExpansion\n",
    "import copy"
   ]
  },
  {
   "cell_type": "code",
   "execution_count": 3,
   "id": "d53f7d27",
   "metadata": {},
   "outputs": [],
   "source": [
    "import sys\n",
    "sys.path.insert(0,'/Users/divya/new-hamiltonian/equistore-examples')\n",
    "from utils.librascal import  RascalSphericalExpansion, RascalPairExpansion\n",
    "from utils.acdc_mini import acdc_standardize_keys, cg_increment, cg_combine"
   ]
  },
  {
   "cell_type": "code",
   "execution_count": 4,
   "id": "77b04c26",
   "metadata": {},
   "outputs": [],
   "source": [
    "frames = ase.io.read(\"../data/hamiltonian/water-hamiltonian/water_coords_1000.xyz\",\":20\")\n",
    "for f in frames:\n",
    "    f.cell = [100,100,100]\n",
    "    f.positions += 50"
   ]
  },
  {
   "cell_type": "code",
   "execution_count": 5,
   "id": "041c41dc",
   "metadata": {},
   "outputs": [],
   "source": [
    "#jorbs = json.load(open('data/water-hamiltonian/water_orbs.json', \"r\"))\n",
    "jorbs = json.loads(json.load(open('../data/hamiltonian/water-hamiltonian/water_orbs.json', \"r\")))\n",
    "orbs = {}\n",
    "zdic = {\"O\" : 8, \"H\":1}\n",
    "for k in jorbs:\n",
    "    orbs[zdic[k]] = jorbs[k]"
   ]
  },
  {
   "cell_type": "code",
   "execution_count": 6,
   "id": "d134206c",
   "metadata": {},
   "outputs": [],
   "source": [
    "hams = np.load(\"../data/hamiltonian/water-hamiltonian/water_saph_orthogonal.npy\", allow_pickle=True)[:len(frames)]\n",
    "# NO NEED TO CORRECT L1 ORDER FOR SAPH ORTHOGONALIZED MATRICES...\n",
    "#for i, f in enumerate(frames):\n",
    "#    hams[i] = fix_pyscf_l1(hams[i], f, orbs)"
   ]
  },
  {
   "cell_type": "code",
   "execution_count": 7,
   "id": "1bdea7cb",
   "metadata": {},
   "outputs": [],
   "source": [
    "cg = ClebschGordanReal(5)"
   ]
  },
  {
   "cell_type": "markdown",
   "id": "e519d4be",
   "metadata": {},
   "source": [
    "## Manipulate Hamiltonian into blocks"
   ]
  },
  {
   "cell_type": "code",
   "execution_count": 8,
   "id": "e99d5940",
   "metadata": {},
   "outputs": [],
   "source": [
    "blocks = dense_to_blocks(hams, frames, orbs)\n",
    "fock_bc = couple_blocks(blocks, cg)"
   ]
  },
  {
   "cell_type": "markdown",
   "id": "43fecd8d",
   "metadata": {},
   "source": [
    "## Feature computation"
   ]
  },
  {
   "cell_type": "code",
   "execution_count": 10,
   "id": "738a6141",
   "metadata": {},
   "outputs": [],
   "source": [
    "rascal_hypers = {\n",
    "    \"interaction_cutoff\": 2.5,\n",
    "    \"cutoff_smooth_width\": 0.5,\n",
    "    \"max_radial\": 4,\n",
    "    \"max_angular\": 3,\n",
    "    \"gaussian_sigma_type\": \"Constant\",\n",
    "    \"compute_gradients\":  False,\n",
    "}\n",
    "\n",
    "spex = RascalSphericalExpansion(rascal_hypers)\n",
    "rhoi = spex.compute(frames)"
   ]
  },
  {
   "cell_type": "code",
   "execution_count": 11,
   "id": "8140f86f",
   "metadata": {},
   "outputs": [],
   "source": [
    "pairs = RascalPairExpansion(rascal_hypers)\n",
    "gij = pairs.compute(frames)"
   ]
  },
  {
   "cell_type": "code",
   "execution_count": 12,
   "id": "af3c5d5e",
   "metadata": {},
   "outputs": [],
   "source": [
    "rho1i = acdc_standardize_keys(rhoi)\n",
    "rho1i.keys_to_properties(['species_neighbor'])\n",
    "gij =  acdc_standardize_keys(gij)"
   ]
  },
  {
   "cell_type": "code",
   "execution_count": 13,
   "id": "32f984a5",
   "metadata": {},
   "outputs": [],
   "source": [
    "rho2i = cg_increment(rho1i, rho1i, lcut=4, other_keys_match=[\"species_center\"], clebsch_gordan=cg)"
   ]
  },
  {
   "cell_type": "code",
   "execution_count": 14,
   "id": "98181553",
   "metadata": {},
   "outputs": [],
   "source": [
    "rho3i = cg_increment(rho2i, rho1i, lcut=4, other_keys_match=[\"species_center\"], clebsch_gordan=cg)"
   ]
  },
  {
   "cell_type": "code",
   "execution_count": 15,
   "id": "c8c8b524",
   "metadata": {},
   "outputs": [],
   "source": [
    "rho1ij = cg_increment(rho1i, gij, lcut=4, other_keys_match=[\"species_center\"], clebsch_gordan=cg)"
   ]
  },
  {
   "cell_type": "code",
   "execution_count": 16,
   "id": "e6b45320",
   "metadata": {},
   "outputs": [],
   "source": [
    "rho2ij = cg_increment(rho2i, gij, lcut=4, other_keys_match=[\"species_center\"], clebsch_gordan=cg)"
   ]
  },
  {
   "cell_type": "code",
   "execution_count": 17,
   "id": "222cbd00",
   "metadata": {},
   "outputs": [],
   "source": [
    "ham_feats = hamiltonian_features(rho2i, rho1ij)"
   ]
  },
  {
   "cell_type": "markdown",
   "id": "72e54a87",
   "metadata": {},
   "source": [
    "# Pytorch Model"
   ]
  },
  {
   "cell_type": "code",
   "execution_count": 76,
   "id": "fb51b8fc",
   "metadata": {},
   "outputs": [],
   "source": [
    "class LinearModel(torch.nn.Module):\n",
    "    def __init__(self, coupled_blocks, features, weights=None, intercepts=None):\n",
    "        super().__init__()\n",
    "        self.coupled_blocks = coupled_blocks\n",
    "        self.features = features\n",
    "        self.weights = {}\n",
    "        if weights==None:\n",
    "            for idx_fock, block_fock in self.coupled_blocks:\n",
    "                block_type, ai, ni, li, aj, nj, lj, L = idx_fock\n",
    "                parity= (-1)**(li+lj+L)\n",
    "                size = self.features.block(block_type=block_type, spherical_harmonics_l=L,inversion_sigma=parity, \n",
    "                                       species_center=ai, species_neighbor=aj).values.shape[2]\n",
    "                self.weights[idx_fock] = torch.nn.Parameter(torch.zeros(size, dtype=torch.float64))\n",
    "            \n",
    "        else: \n",
    "            self.weights = weights\n",
    "            \n",
    "        if intercepts is not None:\n",
    "            self.intercepts = intercepts \n",
    "            \n",
    "        else:\n",
    "            self.intercepts = None\n",
    "         \n",
    "    def forward(self, features):\n",
    "        k = []\n",
    "        pred_blocks = []\n",
    "        for (idx, wts) in self.weights.items():\n",
    "            #print(wts)\n",
    "            block_type, ai, ni, li, aj, nj, lj, L = idx\n",
    "            k.append(list(idx))\n",
    "            parity= (-1)**(li+lj+L)\n",
    "            X = self.features.block(block_type=block_type, spherical_harmonics_l=L,inversion_sigma=parity, \n",
    "                                   species_center=ai, species_neighbor=aj)\n",
    "            X_new = torch.from_numpy(X.values.reshape(-1, X.values.shape[2]))\n",
    "            #print(idx, wts.shape, X.values.shape, X_new.shape)\n",
    "            if self.intercepts is not None:\n",
    "                Y = X_new @ wts + self.intercepts[idx]\n",
    "            else:\n",
    "                Y = X_new @ wts\n",
    "            \n",
    "            newblock = TensorBlock(\n",
    "                        values=Y.reshape((-1, 2 * L + 1, 1)),\n",
    "                        samples=X.samples,\n",
    "                        components=[Labels(\n",
    "                            [\"mu\"], np.asarray(range(-L, L + 1), dtype=np.int32).reshape(-1, 1)\n",
    "                        )],\n",
    "                        properties= Labels([\"values\"], np.asarray([[0]], dtype=np.int32))\n",
    "                    )\n",
    "            pred_blocks.append(newblock) \n",
    "        \n",
    "        keys = Labels(('block_type', 'a_i', 'n_i', 'l_i', 'a_j', 'n_j', 'l_j', 'L'), np.asarray(k, dtype=np.int32))\n",
    "        pred_fock = TensorMap(keys, pred_blocks)\n",
    "        return(pred_fock)\n",
    "        ### add direct eigenvalue prediction here as well\n",
    "    \n",
    "    def parameters(self):\n",
    "        for idx, wts in self.weights.items():\n",
    "            yield wts        "
   ]
  },
  {
   "cell_type": "code",
   "execution_count": 19,
   "id": "68ac1e76",
   "metadata": {},
   "outputs": [],
   "source": [
    "#loss functions\n",
    "def mse_full(fock, pred_blocks, frame, orbs):\n",
    "    predicted = blocks_to_dense(decouple_blocks(pred_blocks), frame, orbs)\n",
    "    mse_loss = torch.empty(len(frame))\n",
    "    for i in range(len(frame)):\n",
    "        mse_loss[i] = (torch.linalg.norm(fock[i]-predicted[i]))**2/len(fock[i])\n",
    "        #print(\"from mse\", i, fock[i], mse_loss[i])\n",
    "    return torch.mean(mse_loss)\n",
    "\n",
    "def mse_eigvals(fock, pred_blocks, frame, orbs):\n",
    "    predicted = blocks_to_dense(decouple_blocks(pred_blocks), frame, orbs)\n",
    "    evanorm = torch.empty(len(frame))\n",
    "    for i in range(len(frame)):\n",
    "        evanorm[i] = torch.mean((torch.linalg.eigvalsh(fock[i]) - torch.linalg.eigvalsh(predicted[i]))**2)/len(fock[i])\n",
    "    return torch.mean(evanorm)"
   ]
  },
  {
   "cell_type": "markdown",
   "id": "b9f1f972",
   "metadata": {},
   "source": [
    "# For single frame"
   ]
  },
  {
   "cell_type": "code",
   "execution_count": 24,
   "id": "8c77e922",
   "metadata": {},
   "outputs": [],
   "source": [
    "i_frame = frames[0]\n",
    "i_ham = hams[0] \n",
    "\n",
    "i_feats = ham_feats.slice(Labels(names=[\"structure\"], values=np.asarray(range(1), dtype=np.int32).reshape(-1,1)) ),\n",
    "i_focks = fock_bc.slice(Labels(names=[\"structure\"], values=np.asarray(range(1), dtype=np.int32).reshape(-1,1)) )"
   ]
  },
  {
   "cell_type": "markdown",
   "id": "f8ba0096",
   "metadata": {},
   "source": [
    "### Testing the model with weights from equistore"
   ]
  },
  {
   "cell_type": "code",
   "execution_count": 25,
   "id": "eec58d74",
   "metadata": {},
   "outputs": [],
   "source": [
    "weights = np.load('model_weights.npy', allow_pickle=True)[()]\n",
    "intercepts = np.load('model_intercepts.npy', allow_pickle=True)[()]"
   ]
  },
  {
   "cell_type": "code",
   "execution_count": 40,
   "id": "e5883a8d",
   "metadata": {},
   "outputs": [
    {
     "name": "stdout",
     "output_type": "stream",
     "text": [
      "the model contains 8 parameters\n"
     ]
    }
   ],
   "source": [
    "model = LinearModel(i_focks, i_feats[0], weights=weights, intercepts=intercepts)\n",
    "print(f\"the model contains {len(list(model.parameters()))} parameters\")\n",
    "\n",
    "pred = model(i_feats[0])"
   ]
  },
  {
   "cell_type": "code",
   "execution_count": 41,
   "id": "f1197464",
   "metadata": {},
   "outputs": [
    {
     "name": "stdout",
     "output_type": "stream",
     "text": [
      "tensor(2.2401e-08)\n"
     ]
    }
   ],
   "source": [
    "loss = mse_full([torch.from_numpy(i_ham.astype(np.float64))], pred, [i_frame], orbs)\n",
    "print(torch.sqrt(loss))"
   ]
  },
  {
   "cell_type": "markdown",
   "id": "d86aec51",
   "metadata": {},
   "source": [
    "### Training with loss on full Hamiltonian"
   ]
  },
  {
   "cell_type": "code",
   "execution_count": 44,
   "id": "e2c1d344",
   "metadata": {
    "scrolled": true
   },
   "outputs": [
    {
     "name": "stdout",
     "output_type": "stream",
     "text": [
      "0 0.5252602696418762\n",
      "1000 0.012743351981043816\n",
      "2000 0.0009104941273108125\n",
      "3000 0.0004536648339126259\n",
      "4000 0.0001806190120987594\n",
      "5000 4.313429235480726e-05\n",
      "6000 4.5091414904163685e-06\n",
      "7000 1.2962941298155783e-07\n",
      "8000 5.750348530675353e-10\n",
      "9000 5.51659466805493e-13\n",
      "10000 1.0363525401412802e-15\n",
      "11000 6.924302173203997e-16\n",
      "12000 2.7620166811098473e-16\n",
      "13000 1.2831288130602425e-15\n",
      "14000 5.017923764696962e-16\n",
      "15000 1.2516748798386645e-15\n",
      "16000 7.331997659563213e-16\n",
      "17000 7.650610690859694e-16\n",
      "18000 6.778596624408496e-16\n",
      "19000 1.2144707575755323e-15\n",
      "20000 3.0993205531786787e-16\n",
      "21000 1.1254265248745424e-15\n",
      "22000 3.050919502385792e-16\n",
      "23000 6.548782821533012e-16\n",
      "24000 7.493389729146271e-16\n",
      "25000 8.609914149503408e-16\n",
      "26000 5.553639810704193e-16\n",
      "27000 7.258299969800576e-16\n",
      "28000 8.755619698298908e-16\n",
      "29000 3.0843709510552323e-16\n"
     ]
    }
   ],
   "source": [
    "model = LinearModel(i_focks, i_feats[0])\n",
    "optimizer = torch.optim.Adam(model.parameters(), lr=0.8)\n",
    "scheduler = torch.optim.lr_scheduler.StepLR(optimizer, step_size=15000, gamma=0.01)\n",
    "\n",
    "all_losses = []\n",
    "for epoch in range(30000):\n",
    "    optimizer.zero_grad()\n",
    "    pred = model(i_feats[0])\n",
    "    loss = mse_full([torch.from_numpy(i_ham.astype(np.float64))], pred, [i_frame], orbs)\n",
    "    loss.backward()\n",
    "    \n",
    "    optimizer.step()\n",
    "    scheduler.step()\n",
    "    \n",
    "    all_losses.append(loss.item())\n",
    "\n",
    "    if epoch % 1000 == 0:\n",
    "        print(epoch, loss.item())"
   ]
  },
  {
   "cell_type": "code",
   "execution_count": 46,
   "id": "cedf892c",
   "metadata": {},
   "outputs": [
    {
     "data": {
      "text/plain": [
       "Text(0, 0.5, '$MSE_{full}$')"
      ]
     },
     "execution_count": 46,
     "metadata": {},
     "output_type": "execute_result"
    },
    {
     "data": {
      "image/png": "[encoded data removed]",
      "text/plain": [
       "<Figure size 432x288 with 1 Axes>"
      ]
     },
     "metadata": {
      "needs_background": "light"
     },
     "output_type": "display_data"
    }
   ],
   "source": [
    "plt.loglog(all_losses)\n",
    "\n",
    "plt.xlabel(\"epochs\")\n",
    "plt.ylabel(\"$MSE_{full}$\")"
   ]
  },
  {
   "cell_type": "markdown",
   "id": "b88ceec9",
   "metadata": {},
   "source": [
    "### Training with loss on eigenvalues"
   ]
  },
  {
   "cell_type": "code",
   "execution_count": 47,
   "id": "729c22de",
   "metadata": {},
   "outputs": [
    {
     "name": "stdout",
     "output_type": "stream",
     "text": [
      "0 0.07313249260187149\n",
      "1000 0.00026996646192856133\n",
      "2000 5.596232099946974e-08\n",
      "3000 2.7129460719479796e-14\n",
      "4000 2.6957009893616504e-15\n",
      "5000 9.686255856238392e-16\n",
      "6000 1.296768690488997e-15\n",
      "7000 3.0241524142196087e-15\n",
      "8000 4.065183858482403e-15\n",
      "9000 4.32505907241418e-15\n",
      "10000 4.389821093978875e-15\n",
      "11000 6.49571885436549e-16\n",
      "12000 1.186469648284318e-15\n",
      "13000 1.9500161695210376e-15\n",
      "14000 1.2387532863491818e-15\n",
      "15000 1.461137551486062e-15\n",
      "16000 1.8999177705809715e-15\n",
      "17000 2.0405432392753145e-15\n",
      "18000 2.1838470261488756e-15\n",
      "19000 6.112263439253442e-15\n",
      "20000 1.3493779068429615e-15\n",
      "21000 1.7296043264809573e-15\n",
      "22000 1.7296043264809573e-15\n",
      "23000 1.7296043264809573e-15\n",
      "24000 1.7296043264809573e-15\n",
      "25000 5.531865770003837e-16\n",
      "26000 5.531865770003837e-16\n",
      "27000 3.3424373261281472e-15\n",
      "28000 3.3424373261281472e-15\n",
      "29000 2.224811445302225e-15\n"
     ]
    }
   ],
   "source": [
    "model = LinearModel(i_focks, i_feats[0])\n",
    "optimizer = torch.optim.Adam(model.parameters(), lr=0.8)\n",
    "scheduler = torch.optim.lr_scheduler.StepLR(optimizer, step_size=10000, gamma=0.01)\n",
    "\n",
    "eigval_losses = []\n",
    "for epoch in range(30000):\n",
    "    optimizer.zero_grad()\n",
    "    pred = model(i_feats[0])\n",
    "    eigval_loss = mse_eigvals([torch.from_numpy(i_ham.astype(np.float64))], pred, [i_frame], orbs)\n",
    "    eigval_loss.backward()\n",
    "    optimizer.step()\n",
    "    \n",
    "    eigval_losses.append(eigval_loss.item())\n",
    "\n",
    "    if epoch % 1000 == 0:\n",
    "        print(epoch, eigval_loss.item())\n",
    "    \n",
    "    scheduler.step()"
   ]
  },
  {
   "cell_type": "code",
   "execution_count": 48,
   "id": "c0eda1f4",
   "metadata": {},
   "outputs": [
    {
     "data": {
      "text/plain": [
       "Text(0, 0.5, '$MSE_{\\\\epsilon}$')"
      ]
     },
     "execution_count": 48,
     "metadata": {},
     "output_type": "execute_result"
    },
    {
     "data": {
      "image/png": "[encoded data removed]",
      "text/plain": [
       "<Figure size 432x288 with 1 Axes>"
      ]
     },
     "metadata": {
      "needs_background": "light"
     },
     "output_type": "display_data"
    }
   ],
   "source": [
    "plt.loglog(eigval_losses)\n",
    "\n",
    "plt.xlabel(\"epochs\")\n",
    "plt.ylabel(\"$MSE_{\\epsilon}$\")"
   ]
  },
  {
   "cell_type": "code",
   "execution_count": 49,
   "id": "dc7be579",
   "metadata": {},
   "outputs": [
    {
     "name": "stdout",
     "output_type": "stream",
     "text": [
      "tensor(0.8015, grad_fn=<SqrtBackward0>)\n"
     ]
    }
   ],
   "source": [
    "pred_coupled = model(ham_feats)\n",
    "rmse_full = torch.sqrt(mse_full([torch.from_numpy(i_ham.astype(np.float64))], pred, [i_frame], orbs))\n",
    "print(rmse_full)"
   ]
  },
  {
   "cell_type": "markdown",
   "id": "2cb1df3e",
   "metadata": {},
   "source": [
    "# Train and test on multiple frames"
   ]
  },
  {
   "cell_type": "markdown",
   "id": "f65f456b",
   "metadata": {},
   "source": [
    "### Split into train and test set"
   ]
  },
  {
   "cell_type": "code",
   "execution_count": 52,
   "id": "b9a857c0",
   "metadata": {},
   "outputs": [],
   "source": [
    "train_frames = frames[:10]\n",
    "train_hams = hams[:10]\n",
    "train_feats = ham_feats.slice(Labels(names=[\"structure\"], values=np.asarray(range(10), dtype=np.int32).reshape(-1,1)) ),\n",
    "train_focks = fock_bc.slice(Labels(names=[\"structure\"], values=np.asarray(range(10), dtype=np.int32).reshape(-1,1)) )"
   ]
  },
  {
   "cell_type": "code",
   "execution_count": 53,
   "id": "77f8385c",
   "metadata": {},
   "outputs": [],
   "source": [
    "test_frames = frames[10:]\n",
    "test_hams = hams[10:]\n",
    "test_feats = ham_feats.slice(Labels(names=[\"structure\"], values=np.asarray(range(10,20), dtype=np.int32).reshape(-1,1)) ),\n",
    "test_focks = fock_bc.slice(Labels(names=[\"structure\"], values=np.asarray(range(10,20), dtype=np.int32).reshape(-1,1)) )"
   ]
  },
  {
   "cell_type": "code",
   "execution_count": 77,
   "id": "33f314a3",
   "metadata": {
    "scrolled": true
   },
   "outputs": [
    {
     "name": "stdout",
     "output_type": "stream",
     "text": [
      "0 0.4856087565422058\n",
      "1000 0.011796231381595135\n",
      "2000 0.0016981108346953988\n",
      "3000 0.0008754763985052705\n",
      "4000 0.00041460557258687913\n",
      "5000 0.00021487593767233193\n",
      "6000 0.0001303936296608299\n",
      "7000 8.119090489344671e-05\n",
      "8000 4.8168494686251506e-05\n",
      "9000 2.6553079806035385e-05\n",
      "10000 1.4343451766762882e-05\n",
      "11000 8.596015504735988e-06\n",
      "12000 6.251683771552052e-06\n",
      "13000 5.31848172613536e-06\n",
      "14000 4.880197138845688e-06\n",
      "15000 4.605988124239957e-06\n",
      "16000 4.393911694933195e-06\n",
      "17000 4.214641194266733e-06\n",
      "18000 4.0585632632428315e-06\n",
      "19000 3.921019924746361e-06\n",
      "20000 3.798854550041142e-06\n",
      "21000 3.6896090023219585e-06\n",
      "22000 3.591296263039112e-06\n",
      "23000 3.502285835565999e-06\n",
      "24000 3.4212166610814165e-06\n",
      "25000 3.347016900079325e-06\n",
      "26000 3.2787679629109334e-06\n",
      "27000 3.2157236091734376e-06\n",
      "28000 3.157209675919148e-06\n",
      "29000 3.1027229852043092e-06\n",
      "30000 3.0517410323227523e-06\n",
      "31000 3.003920028277207e-06\n",
      "32000 2.9589023142762017e-06\n",
      "33000 2.916380708484212e-06\n",
      "34000 2.876100779758417e-06\n",
      "35000 2.8378622118907515e-06\n",
      "36000 2.8014460440317634e-06\n",
      "37000 2.766687657640432e-06\n",
      "38000 2.7334426704328507e-06\n",
      "39000 2.70155237558356e-06\n",
      "40000 2.6709335543273482e-06\n",
      "41000 2.641464107000502e-06\n",
      "42000 2.613040351207019e-06\n",
      "43000 2.5855911189864855e-06\n",
      "44000 2.559048198236269e-06\n",
      "45000 2.5333342819067184e-06\n",
      "46000 2.508397528799833e-06\n",
      "47000 2.4841940557962516e-06\n",
      "48000 2.460649056956754e-06\n",
      "49000 2.4377436602662783e-06\n",
      "50000 2.415440121694701e-06\n",
      "51000 2.393683189438889e-06\n",
      "52000 2.372444441789412e-06\n",
      "53000 2.351714556425577e-06\n",
      "54000 2.3314526060858043e-06\n",
      "55000 2.311634716534172e-06\n",
      "56000 2.2922449716133997e-06\n",
      "57000 2.273259951834916e-06\n",
      "58000 2.2546657874045195e-06\n",
      "59000 2.236438376712613e-06\n"
     ]
    }
   ],
   "source": [
    "model = LinearModel(train_focks, train_feats[0])\n",
    "optimizer = torch.optim.Adam(model.parameters(), lr=0.8)\n",
    "#scheduler = torch.optim.lr_scheduler.StepLR(optimizer, step_size=18000, gamma=0.1)\n",
    "\n",
    "all_losses = []\n",
    "for epoch in range(60000):\n",
    "    optimizer.zero_grad()\n",
    "    pred = model(train_feats[0])\n",
    "    loss = mse_full(torch.from_numpy(train_hams.astype(np.float64)), pred, train_frames, orbs)\n",
    "    loss.backward()\n",
    "    optimizer.step()\n",
    "    #scheduler.step()\n",
    "    \n",
    "    all_losses.append(loss.item())\n",
    "\n",
    "    if epoch % 1000 == 0:\n",
    "        print(epoch, loss.item()) "
   ]
  },
  {
   "cell_type": "code",
   "execution_count": 78,
   "id": "469dbe70",
   "metadata": {},
   "outputs": [
    {
     "data": {
      "text/plain": [
       "Text(0, 0.5, '$MSE_{full}$')"
      ]
     },
     "execution_count": 78,
     "metadata": {},
     "output_type": "execute_result"
    },
    {
     "data": {
      "image/png": "[encoded data removed]",
      "text/plain": [
       "<Figure size 432x288 with 1 Axes>"
      ]
     },
     "metadata": {
      "needs_background": "light"
     },
     "output_type": "display_data"
    }
   ],
   "source": [
    "plt.loglog(all_losses)\n",
    "\n",
    "plt.xlabel(\"epochs\")\n",
    "plt.ylabel(\"$MSE_{full}$\")"
   ]
  },
  {
   "cell_type": "code",
   "execution_count": 79,
   "id": "90ce5e20",
   "metadata": {},
   "outputs": [],
   "source": [
    "pred = model(test_feats[0])\n",
    "test_loss = mse_full(torch.from_numpy(test_hams.astype(np.float64)), pred, test_frames, orbs)\n",
    "test_loss_eigvals = mse_eigvals(torch.from_numpy(test_hams.astype(np.float64)), pred, test_frames, orbs)"
   ]
  },
  {
   "cell_type": "code",
   "execution_count": 80,
   "id": "1aef1dec",
   "metadata": {},
   "outputs": [
    {
     "name": "stdout",
     "output_type": "stream",
     "text": [
      "tensor(0.3345, grad_fn=<SqrtBackward0>) tensor(0.0138, grad_fn=<SqrtBackward0>)\n"
     ]
    }
   ],
   "source": [
    "print(torch.sqrt(test_loss), torch.sqrt(test_loss_eigvals))"
   ]
  },
  {
   "cell_type": "code",
   "execution_count": null,
   "id": "01d5b155",
   "metadata": {},
   "outputs": [],
   "source": []
  }
 ],
 "metadata": {
  "kernelspec": {
   "display_name": "Python 3 (ipykernel)",
   "language": "python",
   "name": "python3"
  },
  "language_info": {
   "codemirror_mode": {
    "name": "ipython",
    "version": 3
   },
   "file_extension": ".py",
   "mimetype": "text/x-python",
   "name": "python",
   "nbconvert_exporter": "python",
   "pygments_lexer": "ipython3",
   "version": "3.9.11"
  },
  "toc": {
   "base_numbering": 1,
   "nav_menu": {},
   "number_sections": true,
   "sideBar": true,
   "skip_h1_title": false,
   "title_cell": "Table of Contents",
   "title_sidebar": "Contents",
   "toc_cell": false,
   "toc_position": {},
   "toc_section_display": true,
   "toc_window_display": false
  },
  "vscode": {
   "interpreter": {
    "hash": "9b1dab49005db54eeaf19407b770a132388229704ecb91b436b854691f0d31ef"
   }
  }
 },
 "nbformat": 4,
 "nbformat_minor": 5
}
