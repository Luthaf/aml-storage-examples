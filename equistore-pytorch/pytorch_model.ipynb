{
 "cells": [
  {
   "cell_type": "code",
   "execution_count": 1,
   "metadata": {},
   "outputs": [],
   "source": [
    "%load_ext autoreload\n",
    "%autoreload 2\n",
    "%load_ext line_profiler"
   ]
  },
  {
   "cell_type": "code",
   "execution_count": 2,
   "metadata": {},
   "outputs": [],
   "source": [
    "import numpy as np\n",
    "import torch\n",
    "import json\n",
    "from equistore import Labels, TensorBlock, TensorMap\n",
    "from torch_builder import TensorBuilder\n",
    "import ase.io\n",
    "from itertools import product\n",
    "from torch_cg import ClebschGordanReal\n",
    "from torch_hamiltonians import fix_pyscf_l1, dense_to_blocks, blocks_to_dense, couple_blocks, decouple_blocks, hamiltonian_features\n",
    "import matplotlib.pyplot as plt\n",
    "from rascal.representations import SphericalExpansion\n",
    "import copy\n",
    "from ase.units import Hartree"
   ]
  },
  {
   "cell_type": "code",
   "execution_count": 3,
   "metadata": {},
   "outputs": [],
   "source": [
    "import sys\n",
    "# sys.path.insert(0,'/Users//new-hamiltonian/equistore-examples')\n",
    "from utils.librascal import  RascalSphericalExpansion, RascalPairExpansion\n",
    "from utils.acdc_mini import acdc_standardize_keys, cg_increment, cg_combine"
   ]
  },
  {
   "cell_type": "code",
   "execution_count": 87,
   "metadata": {},
   "outputs": [],
   "source": [
    "frames = ase.io.read(\"../data/hamiltonian/water-hamiltonian/water_coords_1000.xyz\",\":100\")\n",
    "for f in frames:\n",
    "    f.cell = [100,100,100]\n",
    "    f.positions += 50"
   ]
  },
  {
   "cell_type": "code",
   "execution_count": 88,
   "metadata": {},
   "outputs": [],
   "source": [
    "#jorbs = json.load(open('data/water-hamiltonian/water_orbs.json', \"r\"))\n",
    "jorbs = json.loads(json.load(open('../data/hamiltonian/water-hamiltonian/water_orbs.json', \"r\")))\n",
    "orbs = {}\n",
    "zdic = {\"O\" : 8, \"H\":1}\n",
    "for k in jorbs:\n",
    "    orbs[zdic[k]] = jorbs[k]"
   ]
  },
  {
   "cell_type": "code",
   "execution_count": 89,
   "metadata": {},
   "outputs": [],
   "source": [
    "hams = np.load(\"../data/hamiltonian/water-hamiltonian/water_saph_orthogonal.npy\", allow_pickle=True)[:len(frames)]\n",
    "# NO NEED TO CORRECT L1 ORDER FOR SAPH ORTHOGONALIZED MATRICES...\n",
    "#for i, f in enumerate(frames):\n",
    "#    hams[i] = fix_pyscf_l1(hams[i], f, orbs)"
   ]
  },
  {
   "cell_type": "code",
   "execution_count": 90,
   "metadata": {},
   "outputs": [],
   "source": [
    "cg = ClebschGordanReal(5)"
   ]
  },
  {
   "cell_type": "code",
   "execution_count": 91,
   "metadata": {},
   "outputs": [],
   "source": [
    "#loss functions\n",
    "def mse_full(fock, pred_blocks, frame, orbs):\n",
    "    predicted = blocks_to_dense(decouple_blocks(pred_blocks), frame, orbs)\n",
    "    mse_loss = torch.empty(len(frame))\n",
    "    for i in range(len(frame)):\n",
    "        mse_loss[i] = (torch.linalg.norm(fock[i]-predicted[i]))**2/len(fock[i])\n",
    "        #print(\"from mse\", i, fock[i], mse_loss[i])\n",
    "    return torch.mean(mse_loss)\n",
    "\n",
    "def mse_eigvals(fock, pred_blocks, frame, orbs):\n",
    "    predicted = blocks_to_dense(decouple_blocks(pred_blocks), frame, orbs)\n",
    "    evanorm = torch.empty(len(frame))\n",
    "    for i in range(len(frame)):\n",
    "        evanorm[i] = torch.mean((torch.linalg.eigvalsh(fock[i]) - torch.linalg.eigvalsh(predicted[i]))**2)/len(fock[i])\n",
    "    return torch.mean(evanorm)"
   ]
  },
  {
   "cell_type": "code",
   "execution_count": 92,
   "metadata": {},
   "outputs": [],
   "source": [
    "def normalize_feats(feat, all_blocks=True): \n",
    "    all_norm = 0\n",
    "    for block_idx, block in feat: \n",
    "        block_norm = np.linalg.norm(block.values)\n",
    "#         print(block_idx, block_norm)\n",
    "        all_norm += block_norm**2\n",
    "    normalized_blocks=[]\n",
    "    for block_idx, block in feat: \n",
    "        newblock = TensorBlock(\n",
    "                        values=block.values/np.sqrt(all_norm ),\n",
    "                        samples=block.samples,\n",
    "                        components=block.components,\n",
    "                        properties= block.properties)\n",
    "                    \n",
    "        normalized_blocks.append(newblock) \n",
    "        \n",
    "    norm_feat = TensorMap(feat.keys, normalized_blocks)\n",
    "    return norm_feat"
   ]
  },
  {
   "cell_type": "markdown",
   "metadata": {},
   "source": [
    "## Manipulate Hamiltonian into blocks"
   ]
  },
  {
   "cell_type": "code",
   "execution_count": 93,
   "metadata": {},
   "outputs": [],
   "source": [
    "blocks = dense_to_blocks(hams, frames, orbs)\n",
    "fock_bc = couple_blocks(blocks, cg)"
   ]
  },
  {
   "cell_type": "markdown",
   "metadata": {},
   "source": [
    "## Feature computation"
   ]
  },
  {
   "cell_type": "code",
   "execution_count": 94,
   "metadata": {},
   "outputs": [],
   "source": [
    "rascal_hypers = {\n",
    "    \"interaction_cutoff\": 2.5,\n",
    "    \"cutoff_smooth_width\": 0.5,\n",
    "    \"max_radial\": 6,\n",
    "    \"max_angular\": 4,\n",
    "    \"gaussian_sigma_type\": \"Constant\",\n",
    "    \"compute_gradients\":  False,\n",
    "}\n",
    "\n",
    "spex = RascalSphericalExpansion(rascal_hypers)\n",
    "rhoi = spex.compute(frames)"
   ]
  },
  {
   "cell_type": "code",
   "execution_count": 95,
   "metadata": {},
   "outputs": [],
   "source": [
    "pairs = RascalPairExpansion(rascal_hypers)\n",
    "gij = pairs.compute(frames)"
   ]
  },
  {
   "cell_type": "code",
   "execution_count": 96,
   "metadata": {},
   "outputs": [],
   "source": [
    "rho1i = acdc_standardize_keys(rhoi)\n",
    "rho1i.keys_to_properties(['species_neighbor'])\n",
    "gij =  acdc_standardize_keys(gij)"
   ]
  },
  {
   "cell_type": "code",
   "execution_count": 97,
   "metadata": {},
   "outputs": [],
   "source": [
    "rho2i = cg_increment(rho1i, rho1i, lcut=2, other_keys_match=[\"species_center\"], clebsch_gordan=cg)"
   ]
  },
  {
   "cell_type": "code",
   "execution_count": 98,
   "metadata": {},
   "outputs": [],
   "source": [
    "# rho3i = cg_increment(rho2i, rho1i, lcut=2, other_keys_match=[\"species_center\"], clebsch_gordan=cg)"
   ]
  },
  {
   "cell_type": "code",
   "execution_count": 99,
   "metadata": {},
   "outputs": [],
   "source": [
    "rho1ij = cg_increment(rho1i, gij, lcut=2, other_keys_match=[\"species_center\"], clebsch_gordan=cg)"
   ]
  },
  {
   "cell_type": "code",
   "execution_count": 100,
   "metadata": {},
   "outputs": [],
   "source": [
    "rho2ij = cg_increment(rho2i, gij, lcut=2, other_keys_match=[\"species_center\"], clebsch_gordan=cg)"
   ]
  },
  {
   "cell_type": "code",
   "execution_count": 101,
   "metadata": {},
   "outputs": [],
   "source": [
    "ham_feats = hamiltonian_features(rho2i, rho1ij)"
   ]
  },
  {
   "cell_type": "code",
   "execution_count": 102,
   "metadata": {},
   "outputs": [],
   "source": [
    "norm_ham_feats = normalize_feats(ham_feats)"
   ]
  },
  {
   "cell_type": "markdown",
   "metadata": {},
   "source": [
    "# Pytorch Model"
   ]
  },
  {
   "cell_type": "code",
   "execution_count": 103,
   "metadata": {},
   "outputs": [],
   "source": [
    "class LinearModel(torch.nn.Module):\n",
    "    def __init__(self, coupled_blocks, features, weights=None, intercepts=None):\n",
    "        super().__init__()\n",
    "        self.coupled_blocks = coupled_blocks\n",
    "        self.features = features\n",
    "        self.weights = {}\n",
    "        if weights==None:\n",
    "            for idx_fock, block_fock in self.coupled_blocks:\n",
    "                block_type, ai, ni, li, aj, nj, lj, L = idx_fock\n",
    "                parity= (-1)**(li+lj+L)\n",
    "                size = self.features.block(block_type=block_type, spherical_harmonics_l=L,inversion_sigma=parity, \n",
    "                                       species_center=ai, species_neighbor=aj).values.shape[2]\n",
    "                self.weights[idx_fock] = torch.nn.Parameter(torch.zeros(size, dtype=torch.float64))\n",
    "            \n",
    "        else: \n",
    "            self.weights = weights\n",
    "            \n",
    "        if intercepts is not None:\n",
    "            self.intercepts = intercepts \n",
    "            \n",
    "        else:\n",
    "            self.intercepts = None\n",
    "         \n",
    "    def forward(self, features):\n",
    "        k = []\n",
    "        pred_blocks = []\n",
    "        for (idx, wts) in self.weights.items():\n",
    "            #print(wts)\n",
    "            block_type, ai, ni, li, aj, nj, lj, L = idx\n",
    "            k.append(list(idx))\n",
    "            parity= (-1)**(li+lj+L)\n",
    "            X = features.block(block_type=block_type, spherical_harmonics_l=L,inversion_sigma=parity, \n",
    "                                   species_center=ai, species_neighbor=aj)\n",
    "            X_new = torch.from_numpy(X.values.reshape(-1, X.values.shape[2]))\n",
    "            #print(idx, wts.shape, X.values.shape, X_new.shape)\n",
    "            if self.intercepts is not None:\n",
    "                Y = X_new @ wts + self.intercepts[idx]\n",
    "            else:\n",
    "                Y = X_new @ wts\n",
    "            \n",
    "            newblock = TensorBlock(\n",
    "                        values=Y.reshape((-1, 2 * L + 1, 1)),\n",
    "                        samples=X.samples,\n",
    "                        components=[Labels(\n",
    "                            [\"mu\"], np.asarray(range(-L, L + 1), dtype=np.int32).reshape(-1, 1)\n",
    "                        )],\n",
    "                        properties= Labels([\"values\"], np.asarray([[0]], dtype=np.int32))\n",
    "                    )\n",
    "            pred_blocks.append(newblock) \n",
    "        \n",
    "        keys = Labels(('block_type', 'a_i', 'n_i', 'l_i', 'a_j', 'n_j', 'l_j', 'L'), np.asarray(k, dtype=np.int32))\n",
    "        pred_fock = TensorMap(keys, pred_blocks)\n",
    "        return(pred_fock)\n",
    "        ### add direct eigenvalue prediction here as well\n",
    "    \n",
    "    def parameters(self):\n",
    "        for idx, wts in self.weights.items():\n",
    "            yield wts        "
   ]
  },
  {
   "cell_type": "markdown",
   "metadata": {
    "heading_collapsed": true
   },
   "source": [
    "# For single frame"
   ]
  },
  {
   "cell_type": "code",
   "execution_count": 71,
   "metadata": {
    "hidden": true
   },
   "outputs": [],
   "source": [
    "i_frame = frames[0]\n",
    "i_ham = hams[0] \n",
    "\n",
    "i_feats = ham_feats.slice(Labels(names=[\"structure\"], values=np.asarray(range(1), dtype=np.int32).reshape(-1,1)) )\n",
    "i_focks = fock_bc.slice(Labels(names=[\"structure\"], values=np.asarray(range(1), dtype=np.int32).reshape(-1,1)) )"
   ]
  },
  {
   "cell_type": "code",
   "execution_count": 341,
   "metadata": {
    "hidden": true,
    "scrolled": true
   },
   "outputs": [],
   "source": [
    "norm_i_feats = normalize_feats(i_feats)"
   ]
  },
  {
   "cell_type": "code",
   "execution_count": 342,
   "metadata": {
    "hidden": true
   },
   "outputs": [
    {
     "data": {
      "text/plain": [
       "0.40170182960459544"
      ]
     },
     "execution_count": 342,
     "metadata": {},
     "output_type": "execute_result"
    }
   ],
   "source": [
    "np.linalg.norm(norm_i_feats.block(0).values)"
   ]
  },
  {
   "cell_type": "markdown",
   "metadata": {
    "heading_collapsed": true,
    "hidden": true
   },
   "source": [
    "### Testing the model with weights from equistore"
   ]
  },
  {
   "cell_type": "code",
   "execution_count": 292,
   "metadata": {
    "hidden": true
   },
   "outputs": [],
   "source": [
    "weights = np.load('model_weights.npy', allow_pickle=True)[()]\n",
    "intercepts = np.load('model_intercepts.npy', allow_pickle=True)[()]"
   ]
  },
  {
   "cell_type": "code",
   "execution_count": 293,
   "metadata": {
    "hidden": true
   },
   "outputs": [
    {
     "name": "stdout",
     "output_type": "stream",
     "text": [
      "the model contains 8 parameters\n"
     ]
    }
   ],
   "source": [
    "model = LinearModel(i_focks, norm_i_feats, weights=weights, intercepts=intercepts)\n",
    "print(f\"the model contains {len(list(model.parameters()))} parameters\")\n",
    "\n",
    "pred = model(norm_i_feats)"
   ]
  },
  {
   "cell_type": "code",
   "execution_count": 294,
   "metadata": {
    "hidden": true
   },
   "outputs": [
    {
     "name": "stdout",
     "output_type": "stream",
     "text": [
      "tensor(595.3569)\n"
     ]
    }
   ],
   "source": [
    "loss = mse_full([torch.from_numpy(i_ham.astype(np.float64))], pred, [i_frame], orbs)\n",
    "print(torch.sqrt(loss))"
   ]
  },
  {
   "cell_type": "markdown",
   "metadata": {
    "hidden": true
   },
   "source": [
    "### Training with loss on full Hamiltonian"
   ]
  },
  {
   "cell_type": "code",
   "execution_count": 295,
   "metadata": {
    "hidden": true,
    "scrolled": true
   },
   "outputs": [
    {
     "name": "stdout",
     "output_type": "stream",
     "text": [
      "0 0.5196347832679749\n",
      "500 9.004350923260134e-16\n"
     ]
    },
    {
     "ename": "KeyboardInterrupt",
     "evalue": "",
     "output_type": "error",
     "traceback": [
      "\u001b[0;31m---------------------------------------------------------------------------\u001b[0m",
      "\u001b[0;31mKeyboardInterrupt\u001b[0m                         Traceback (most recent call last)",
      "\u001b[0;32m<ipython-input-295-02d5dd9d5f77>\u001b[0m in \u001b[0;36m<module>\u001b[0;34m\u001b[0m\n\u001b[1;32m      7\u001b[0m     \u001b[0moptimizer\u001b[0m\u001b[0;34m.\u001b[0m\u001b[0mzero_grad\u001b[0m\u001b[0;34m(\u001b[0m\u001b[0;34m)\u001b[0m\u001b[0;34m\u001b[0m\u001b[0;34m\u001b[0m\u001b[0m\n\u001b[1;32m      8\u001b[0m     \u001b[0mpred\u001b[0m \u001b[0;34m=\u001b[0m \u001b[0mmodel\u001b[0m\u001b[0;34m(\u001b[0m\u001b[0mnorm_i_feats\u001b[0m\u001b[0;34m)\u001b[0m\u001b[0;34m\u001b[0m\u001b[0;34m\u001b[0m\u001b[0m\n\u001b[0;32m----> 9\u001b[0;31m     \u001b[0mloss\u001b[0m \u001b[0;34m=\u001b[0m \u001b[0mmse_full\u001b[0m\u001b[0;34m(\u001b[0m\u001b[0;34m[\u001b[0m\u001b[0mtorch\u001b[0m\u001b[0;34m.\u001b[0m\u001b[0mfrom_numpy\u001b[0m\u001b[0;34m(\u001b[0m\u001b[0mi_ham\u001b[0m\u001b[0;34m.\u001b[0m\u001b[0mastype\u001b[0m\u001b[0;34m(\u001b[0m\u001b[0mnp\u001b[0m\u001b[0;34m.\u001b[0m\u001b[0mfloat64\u001b[0m\u001b[0;34m)\u001b[0m\u001b[0;34m)\u001b[0m\u001b[0;34m]\u001b[0m\u001b[0;34m,\u001b[0m \u001b[0mpred\u001b[0m\u001b[0;34m,\u001b[0m \u001b[0;34m[\u001b[0m\u001b[0mi_frame\u001b[0m\u001b[0;34m]\u001b[0m\u001b[0;34m,\u001b[0m \u001b[0morbs\u001b[0m\u001b[0;34m)\u001b[0m\u001b[0;34m\u001b[0m\u001b[0;34m\u001b[0m\u001b[0m\n\u001b[0m\u001b[1;32m     10\u001b[0m     \u001b[0mloss\u001b[0m\u001b[0;34m.\u001b[0m\u001b[0mbackward\u001b[0m\u001b[0;34m(\u001b[0m\u001b[0;34m)\u001b[0m\u001b[0;34m\u001b[0m\u001b[0;34m\u001b[0m\u001b[0m\n\u001b[1;32m     11\u001b[0m \u001b[0;34m\u001b[0m\u001b[0m\n",
      "\u001b[0;32m<ipython-input-274-d08c0cbdb903>\u001b[0m in \u001b[0;36mmse_full\u001b[0;34m(fock, pred_blocks, frame, orbs)\u001b[0m\n\u001b[1;32m      1\u001b[0m \u001b[0;31m#loss functions\u001b[0m\u001b[0;34m\u001b[0m\u001b[0;34m\u001b[0m\u001b[0;34m\u001b[0m\u001b[0m\n\u001b[1;32m      2\u001b[0m \u001b[0;32mdef\u001b[0m \u001b[0mmse_full\u001b[0m\u001b[0;34m(\u001b[0m\u001b[0mfock\u001b[0m\u001b[0;34m,\u001b[0m \u001b[0mpred_blocks\u001b[0m\u001b[0;34m,\u001b[0m \u001b[0mframe\u001b[0m\u001b[0;34m,\u001b[0m \u001b[0morbs\u001b[0m\u001b[0;34m)\u001b[0m\u001b[0;34m:\u001b[0m\u001b[0;34m\u001b[0m\u001b[0;34m\u001b[0m\u001b[0m\n\u001b[0;32m----> 3\u001b[0;31m     \u001b[0mpredicted\u001b[0m \u001b[0;34m=\u001b[0m \u001b[0mblocks_to_dense\u001b[0m\u001b[0;34m(\u001b[0m\u001b[0mdecouple_blocks\u001b[0m\u001b[0;34m(\u001b[0m\u001b[0mpred_blocks\u001b[0m\u001b[0;34m)\u001b[0m\u001b[0;34m,\u001b[0m \u001b[0mframe\u001b[0m\u001b[0;34m,\u001b[0m \u001b[0morbs\u001b[0m\u001b[0;34m)\u001b[0m\u001b[0;34m\u001b[0m\u001b[0;34m\u001b[0m\u001b[0m\n\u001b[0m\u001b[1;32m      4\u001b[0m     \u001b[0mmse_loss\u001b[0m \u001b[0;34m=\u001b[0m \u001b[0mtorch\u001b[0m\u001b[0;34m.\u001b[0m\u001b[0mempty\u001b[0m\u001b[0;34m(\u001b[0m\u001b[0mlen\u001b[0m\u001b[0;34m(\u001b[0m\u001b[0mframe\u001b[0m\u001b[0;34m)\u001b[0m\u001b[0;34m)\u001b[0m\u001b[0;34m\u001b[0m\u001b[0;34m\u001b[0m\u001b[0m\n\u001b[1;32m      5\u001b[0m     \u001b[0;32mfor\u001b[0m \u001b[0mi\u001b[0m \u001b[0;32min\u001b[0m \u001b[0mrange\u001b[0m\u001b[0;34m(\u001b[0m\u001b[0mlen\u001b[0m\u001b[0;34m(\u001b[0m\u001b[0mframe\u001b[0m\u001b[0;34m)\u001b[0m\u001b[0;34m)\u001b[0m\u001b[0;34m:\u001b[0m\u001b[0;34m\u001b[0m\u001b[0;34m\u001b[0m\u001b[0m\n",
      "\u001b[0;32m~/scratch/equistore-examples/equistore-pytorch/torch_hamiltonians.py\u001b[0m in \u001b[0;36mdecouple_blocks\u001b[0;34m(blocks, cg)\u001b[0m\n\u001b[1;32m    244\u001b[0m     \u001b[0;32mif\u001b[0m \u001b[0mcg\u001b[0m \u001b[0;32mis\u001b[0m \u001b[0;32mNone\u001b[0m\u001b[0;34m:\u001b[0m\u001b[0;34m\u001b[0m\u001b[0;34m\u001b[0m\u001b[0m\n\u001b[1;32m    245\u001b[0m         \u001b[0mlmax\u001b[0m \u001b[0;34m=\u001b[0m \u001b[0mmax\u001b[0m\u001b[0;34m(\u001b[0m\u001b[0mblocks\u001b[0m\u001b[0;34m.\u001b[0m\u001b[0mkeys\u001b[0m\u001b[0;34m[\u001b[0m\u001b[0;34m\"L\"\u001b[0m\u001b[0;34m]\u001b[0m\u001b[0;34m)\u001b[0m\u001b[0;34m\u001b[0m\u001b[0;34m\u001b[0m\u001b[0m\n\u001b[0;32m--> 246\u001b[0;31m         \u001b[0mcg\u001b[0m \u001b[0;34m=\u001b[0m \u001b[0mClebschGordanReal\u001b[0m\u001b[0;34m(\u001b[0m\u001b[0mlmax\u001b[0m\u001b[0;34m)\u001b[0m\u001b[0;34m\u001b[0m\u001b[0;34m\u001b[0m\u001b[0m\n\u001b[0m\u001b[1;32m    247\u001b[0m \u001b[0;34m\u001b[0m\u001b[0m\n\u001b[1;32m    248\u001b[0m     \u001b[0mblock_builder\u001b[0m \u001b[0;34m=\u001b[0m \u001b[0mTensorBuilder\u001b[0m\u001b[0;34m(\u001b[0m\u001b[0;34m[\u001b[0m\u001b[0;34m\"block_type\"\u001b[0m\u001b[0;34m,\u001b[0m \u001b[0;34m\"a_i\"\u001b[0m\u001b[0;34m,\u001b[0m \u001b[0;34m\"n_i\"\u001b[0m\u001b[0;34m,\u001b[0m \u001b[0;34m\"l_i\"\u001b[0m\u001b[0;34m,\u001b[0m \u001b[0;34m\"a_j\"\u001b[0m\u001b[0;34m,\u001b[0m \u001b[0;34m\"n_j\"\u001b[0m\u001b[0;34m,\u001b[0m \u001b[0;34m\"l_j\"\u001b[0m\u001b[0;34m]\u001b[0m\u001b[0;34m,\u001b[0m \u001b[0;34m[\u001b[0m\u001b[0;34m\"structure\"\u001b[0m\u001b[0;34m,\u001b[0m \u001b[0;34m\"center\"\u001b[0m\u001b[0;34m,\u001b[0m \u001b[0;34m\"neighbor\"\u001b[0m\u001b[0;34m]\u001b[0m\u001b[0;34m,\u001b[0m \u001b[0;34m[\u001b[0m\u001b[0;34m[\u001b[0m\u001b[0;34m\"m1\"\u001b[0m\u001b[0;34m]\u001b[0m\u001b[0;34m,\u001b[0m \u001b[0;34m[\u001b[0m\u001b[0;34m\"m2\"\u001b[0m\u001b[0;34m]\u001b[0m\u001b[0;34m]\u001b[0m\u001b[0;34m,\u001b[0m \u001b[0;34m[\u001b[0m\u001b[0;34m\"value\"\u001b[0m\u001b[0;34m]\u001b[0m\u001b[0;34m)\u001b[0m\u001b[0;34m\u001b[0m\u001b[0;34m\u001b[0m\u001b[0m\n",
      "\u001b[0;32m~/scratch/equistore-examples/equistore-pytorch/torch_cg.py\u001b[0m in \u001b[0;36m__init__\u001b[0;34m(self, l_max)\u001b[0m\n\u001b[1;32m     41\u001b[0m                     \u001b[0mnew_cg\u001b[0m \u001b[0;34m=\u001b[0m \u001b[0;34m[\u001b[0m\u001b[0;34m]\u001b[0m\u001b[0;34m\u001b[0m\u001b[0;34m\u001b[0m\u001b[0m\n\u001b[1;32m     42\u001b[0m                     \u001b[0;32mfor\u001b[0m \u001b[0mM\u001b[0m \u001b[0;32min\u001b[0m \u001b[0mrange\u001b[0m\u001b[0;34m(\u001b[0m\u001b[0;36m2\u001b[0m \u001b[0;34m*\u001b[0m \u001b[0mL\u001b[0m \u001b[0;34m+\u001b[0m \u001b[0;36m1\u001b[0m\u001b[0;34m)\u001b[0m\u001b[0;34m:\u001b[0m\u001b[0;34m\u001b[0m\u001b[0;34m\u001b[0m\u001b[0m\n\u001b[0;32m---> 43\u001b[0;31m                         \u001b[0mcg_nonzero\u001b[0m \u001b[0;34m=\u001b[0m \u001b[0mnp\u001b[0m\u001b[0;34m.\u001b[0m\u001b[0mwhere\u001b[0m\u001b[0;34m(\u001b[0m\u001b[0mnp\u001b[0m\u001b[0;34m.\u001b[0m\u001b[0mabs\u001b[0m\u001b[0;34m(\u001b[0m\u001b[0mrcg\u001b[0m\u001b[0;34m[\u001b[0m\u001b[0;34m:\u001b[0m\u001b[0;34m,\u001b[0m\u001b[0;34m:\u001b[0m\u001b[0;34m,\u001b[0m\u001b[0mM\u001b[0m\u001b[0;34m]\u001b[0m\u001b[0;34m)\u001b[0m\u001b[0;34m>\u001b[0m\u001b[0;36m1e-15\u001b[0m\u001b[0;34m)\u001b[0m\u001b[0;34m\u001b[0m\u001b[0;34m\u001b[0m\u001b[0m\n\u001b[0m\u001b[1;32m     44\u001b[0m                         cg_M = np.zeros( len(cg_nonzero[0]), \n\u001b[1;32m     45\u001b[0m                                         dtype=[('m1','>i4'), ('m2','>i4'), ( 'cg', '>f8')] )\n",
      "\u001b[0;32m<__array_function__ internals>\u001b[0m in \u001b[0;36mwhere\u001b[0;34m(*args, **kwargs)\u001b[0m\n",
      "\u001b[0;31mKeyboardInterrupt\u001b[0m: "
     ]
    }
   ],
   "source": [
    "model = LinearModel(i_focks, norm_i_feats)\n",
    "optimizer = torch.optim.Adam(model.parameters(), lr=1e-1)\n",
    "# scheduler = torch.optim.lr_scheduler.StepLR(optimizer, step_size=15000, gamma=0.01)\n",
    "\n",
    "all_losses = []\n",
    "for epoch in range(3000):\n",
    "    optimizer.zero_grad()\n",
    "    pred = model(norm_i_feats)\n",
    "    loss = mse_full([torch.from_numpy(i_ham.astype(np.float64))], pred, [i_frame], orbs)\n",
    "    loss.backward()\n",
    "    \n",
    "    optimizer.step()\n",
    "#     scheduler.step()\n",
    "    \n",
    "    all_losses.append(loss.item())\n",
    "\n",
    "    if epoch % 500 == 0:\n",
    "        print(epoch, loss.item())"
   ]
  },
  {
   "cell_type": "code",
   "execution_count": 296,
   "metadata": {
    "hidden": true
   },
   "outputs": [
    {
     "data": {
      "text/plain": [
       "Text(0,0.5,'$MSE_{full}$')"
      ]
     },
     "execution_count": 296,
     "metadata": {},
     "output_type": "execute_result"
    },
    {
     "data": {
      "image/png": "[encoded data removed]",
      "text/plain": [
       "<Figure size 432x288 with 1 Axes>"
      ]
     },
     "metadata": {
      "needs_background": "light"
     },
     "output_type": "display_data"
    }
   ],
   "source": [
    "plt.loglog(all_losses)\n",
    "\n",
    "plt.xlabel(\"epochs\")\n",
    "plt.ylabel(\"$MSE_{full}$\")"
   ]
  },
  {
   "cell_type": "code",
   "execution_count": 297,
   "metadata": {
    "hidden": true
   },
   "outputs": [
    {
     "data": {
      "text/plain": [
       "tensor(4.7829e-16, grad_fn=<MeanBackward0>)"
      ]
     },
     "execution_count": 297,
     "metadata": {},
     "output_type": "execute_result"
    }
   ],
   "source": [
    "pred = model(norm_i_feats)\n",
    "mse_full([torch.from_numpy(i_ham.astype(np.float64))], pred, [i_frame], orbs)"
   ]
  },
  {
   "cell_type": "markdown",
   "metadata": {
    "heading_collapsed": true,
    "hidden": true
   },
   "source": [
    "### Training with loss on eigenvalues"
   ]
  },
  {
   "cell_type": "code",
   "execution_count": 47,
   "metadata": {
    "hidden": true
   },
   "outputs": [
    {
     "name": "stdout",
     "output_type": "stream",
     "text": [
      "0 0.07313249260187149\n",
      "1000 0.00026996646192856133\n",
      "2000 5.596232099946974e-08\n",
      "3000 2.7129460719479796e-14\n",
      "4000 2.6957009893616504e-15\n",
      "5000 9.686255856238392e-16\n",
      "6000 1.296768690488997e-15\n",
      "7000 3.0241524142196087e-15\n",
      "8000 4.065183858482403e-15\n",
      "9000 4.32505907241418e-15\n",
      "10000 4.389821093978875e-15\n",
      "11000 6.49571885436549e-16\n",
      "12000 1.186469648284318e-15\n",
      "13000 1.9500161695210376e-15\n",
      "14000 1.2387532863491818e-15\n",
      "15000 1.461137551486062e-15\n",
      "16000 1.8999177705809715e-15\n",
      "17000 2.0405432392753145e-15\n",
      "18000 2.1838470261488756e-15\n",
      "19000 6.112263439253442e-15\n",
      "20000 1.3493779068429615e-15\n",
      "21000 1.7296043264809573e-15\n",
      "22000 1.7296043264809573e-15\n",
      "23000 1.7296043264809573e-15\n",
      "24000 1.7296043264809573e-15\n",
      "25000 5.531865770003837e-16\n",
      "26000 5.531865770003837e-16\n",
      "27000 3.3424373261281472e-15\n",
      "28000 3.3424373261281472e-15\n",
      "29000 2.224811445302225e-15\n"
     ]
    }
   ],
   "source": [
    "model = LinearModel(i_focks, i_feats)\n",
    "optimizer = torch.optim.Adam(model.parameters(), lr=0.8)\n",
    "scheduler = torch.optim.lr_scheduler.StepLR(optimizer, step_size=10000, gamma=0.01)\n",
    "\n",
    "eigval_losses = []\n",
    "for epoch in range(30000):\n",
    "    optimizer.zero_grad()\n",
    "    pred = model(i_feats[0])\n",
    "    eigval_loss = mse_eigvals([torch.from_numpy(i_ham.astype(np.float64))], pred, [i_frame], orbs)\n",
    "    eigval_loss.backward()\n",
    "    optimizer.step()\n",
    "    \n",
    "    eigval_losses.append(eigval_loss.item())\n",
    "\n",
    "    if epoch % 1000 == 0:\n",
    "        print(epoch, eigval_loss.item())\n",
    "    \n",
    "    scheduler.step()"
   ]
  },
  {
   "cell_type": "code",
   "execution_count": 48,
   "metadata": {
    "hidden": true
   },
   "outputs": [
    {
     "data": {
      "text/plain": [
       "Text(0, 0.5, '$MSE_{\\\\epsilon}$')"
      ]
     },
     "execution_count": 48,
     "metadata": {},
     "output_type": "execute_result"
    },
    {
     "data": {
      "image/png": "[encoded data removed]",
      "text/plain": [
       "<Figure size 432x288 with 1 Axes>"
      ]
     },
     "metadata": {
      "needs_background": "light"
     },
     "output_type": "display_data"
    }
   ],
   "source": [
    "plt.loglog(eigval_losses)\n",
    "\n",
    "plt.xlabel(\"epochs\")\n",
    "plt.ylabel(\"$MSE_{\\epsilon}$\")"
   ]
  },
  {
   "cell_type": "code",
   "execution_count": 49,
   "metadata": {
    "hidden": true
   },
   "outputs": [
    {
     "name": "stdout",
     "output_type": "stream",
     "text": [
      "tensor(0.8015, grad_fn=<SqrtBackward0>)\n"
     ]
    }
   ],
   "source": [
    "pred_coupled = model(ham_feats)\n",
    "rmse_full = torch.sqrt(mse_full([torch.from_numpy(i_ham.astype(np.float64))], pred, [i_frame], orbs))\n",
    "print(rmse_full)"
   ]
  },
  {
   "cell_type": "markdown",
   "metadata": {},
   "source": [
    "# Train and test on multiple frames"
   ]
  },
  {
   "cell_type": "markdown",
   "metadata": {},
   "source": [
    "### Split into train and test set"
   ]
  },
  {
   "cell_type": "code",
   "execution_count": 104,
   "metadata": {},
   "outputs": [],
   "source": [
    "N=len(frames)\n",
    "train_frames = frames[:int(N/5*4)]\n",
    "train_hams = hams[:int(N/5*4)]\n",
    "train_feats = norm_ham_feats.slice(Labels(names=[\"structure\"], values=np.asarray(range(int(N/5*4)), dtype=np.int32).reshape(-1,1)) )\n",
    "train_focks = fock_bc.slice(Labels(names=[\"structure\"], values=np.asarray(range(int(N/5*4)), dtype=np.int32).reshape(-1,1)) )"
   ]
  },
  {
   "cell_type": "code",
   "execution_count": 105,
   "metadata": {},
   "outputs": [],
   "source": [
    "test_frames = frames[int(N/5*4):N]\n",
    "test_hams = hams[int(N/5*4):N]\n",
    "test_feats = norm_ham_feats.slice(Labels(names=[\"structure\"], values=np.asarray(range(int(N/5*4),N), dtype=np.int32).reshape(-1,1)) )\n",
    "test_focks = fock_bc.slice(Labels(names=[\"structure\"], values=np.asarray(range(int(N/5*4),N), dtype=np.int32).reshape(-1,1)) )"
   ]
  },
  {
   "cell_type": "code",
   "execution_count": 106,
   "metadata": {},
   "outputs": [
    {
     "data": {
      "text/plain": [
       "torch.Size([20, 1, 1])"
      ]
     },
     "execution_count": 106,
     "metadata": {},
     "output_type": "execute_result"
    }
   ],
   "source": [
    "test_focks.block(0).values.shape"
   ]
  },
  {
   "cell_type": "code",
   "execution_count": 107,
   "metadata": {},
   "outputs": [
    {
     "data": {
      "text/plain": [
       "torch.Size([80, 1, 1])"
      ]
     },
     "execution_count": 107,
     "metadata": {},
     "output_type": "execute_result"
    }
   ],
   "source": [
    "train_focks.block(0).values.shape"
   ]
  },
  {
   "cell_type": "code",
   "execution_count": 122,
   "metadata": {
    "scrolled": true
   },
   "outputs": [
    {
     "name": "stdout",
     "output_type": "stream",
     "text": [
      "0 1.1269205060671084e-05\n",
      "500 8.881868780008517e-06\n",
      "1000 7.077041118463967e-06\n",
      "1500 5.637391041091178e-06\n",
      "2000 4.4376306505000684e-06\n"
     ]
    },
    {
     "ename": "KeyboardInterrupt",
     "evalue": "",
     "output_type": "error",
     "traceback": [
      "\u001b[0;31m---------------------------------------------------------------------------\u001b[0m",
      "\u001b[0;31mKeyboardInterrupt\u001b[0m                         Traceback (most recent call last)",
      "\u001b[0;32m<ipython-input-122-ec83cd70b28c>\u001b[0m in \u001b[0;36m<module>\u001b[0;34m\u001b[0m\n\u001b[1;32m      8\u001b[0m     \u001b[0mpred\u001b[0m \u001b[0;34m=\u001b[0m \u001b[0mmodel\u001b[0m\u001b[0;34m(\u001b[0m\u001b[0mtrain_feats\u001b[0m\u001b[0;34m)\u001b[0m\u001b[0;34m\u001b[0m\u001b[0;34m\u001b[0m\u001b[0m\n\u001b[1;32m      9\u001b[0m     \u001b[0mloss\u001b[0m \u001b[0;34m=\u001b[0m \u001b[0mmse_full\u001b[0m\u001b[0;34m(\u001b[0m\u001b[0mtorch\u001b[0m\u001b[0;34m.\u001b[0m\u001b[0mfrom_numpy\u001b[0m\u001b[0;34m(\u001b[0m\u001b[0mtrain_hams\u001b[0m\u001b[0;34m.\u001b[0m\u001b[0mastype\u001b[0m\u001b[0;34m(\u001b[0m\u001b[0mnp\u001b[0m\u001b[0;34m.\u001b[0m\u001b[0mfloat64\u001b[0m\u001b[0;34m)\u001b[0m\u001b[0;34m)\u001b[0m\u001b[0;34m,\u001b[0m \u001b[0mpred\u001b[0m\u001b[0;34m,\u001b[0m \u001b[0mtrain_frames\u001b[0m\u001b[0;34m,\u001b[0m \u001b[0morbs\u001b[0m\u001b[0;34m)\u001b[0m\u001b[0;34m\u001b[0m\u001b[0;34m\u001b[0m\u001b[0m\n\u001b[0;32m---> 10\u001b[0;31m     \u001b[0mloss\u001b[0m\u001b[0;34m.\u001b[0m\u001b[0mbackward\u001b[0m\u001b[0;34m(\u001b[0m\u001b[0;34m)\u001b[0m\u001b[0;34m\u001b[0m\u001b[0;34m\u001b[0m\u001b[0m\n\u001b[0m\u001b[1;32m     11\u001b[0m     \u001b[0moptimizer\u001b[0m\u001b[0;34m.\u001b[0m\u001b[0mstep\u001b[0m\u001b[0;34m(\u001b[0m\u001b[0;34m)\u001b[0m\u001b[0;34m\u001b[0m\u001b[0;34m\u001b[0m\u001b[0m\n\u001b[1;32m     12\u001b[0m \u001b[0;31m#     scheduler.step()\u001b[0m\u001b[0;34m\u001b[0m\u001b[0;34m\u001b[0m\u001b[0;34m\u001b[0m\u001b[0m\n",
      "\u001b[0;32m~/anaconda3/lib/python3.7/site-packages/torch/_tensor.py\u001b[0m in \u001b[0;36mbackward\u001b[0;34m(self, gradient, retain_graph, create_graph, inputs)\u001b[0m\n\u001b[1;32m    305\u001b[0m                 \u001b[0mcreate_graph\u001b[0m\u001b[0;34m=\u001b[0m\u001b[0mcreate_graph\u001b[0m\u001b[0;34m,\u001b[0m\u001b[0;34m\u001b[0m\u001b[0;34m\u001b[0m\u001b[0m\n\u001b[1;32m    306\u001b[0m                 inputs=inputs)\n\u001b[0;32m--> 307\u001b[0;31m         \u001b[0mtorch\u001b[0m\u001b[0;34m.\u001b[0m\u001b[0mautograd\u001b[0m\u001b[0;34m.\u001b[0m\u001b[0mbackward\u001b[0m\u001b[0;34m(\u001b[0m\u001b[0mself\u001b[0m\u001b[0;34m,\u001b[0m \u001b[0mgradient\u001b[0m\u001b[0;34m,\u001b[0m \u001b[0mretain_graph\u001b[0m\u001b[0;34m,\u001b[0m \u001b[0mcreate_graph\u001b[0m\u001b[0;34m,\u001b[0m \u001b[0minputs\u001b[0m\u001b[0;34m=\u001b[0m\u001b[0minputs\u001b[0m\u001b[0;34m)\u001b[0m\u001b[0;34m\u001b[0m\u001b[0;34m\u001b[0m\u001b[0m\n\u001b[0m\u001b[1;32m    308\u001b[0m \u001b[0;34m\u001b[0m\u001b[0m\n\u001b[1;32m    309\u001b[0m     \u001b[0;32mdef\u001b[0m \u001b[0mregister_hook\u001b[0m\u001b[0;34m(\u001b[0m\u001b[0mself\u001b[0m\u001b[0;34m,\u001b[0m \u001b[0mhook\u001b[0m\u001b[0;34m)\u001b[0m\u001b[0;34m:\u001b[0m\u001b[0;34m\u001b[0m\u001b[0;34m\u001b[0m\u001b[0m\n",
      "\u001b[0;32m~/anaconda3/lib/python3.7/site-packages/torch/autograd/__init__.py\u001b[0m in \u001b[0;36mbackward\u001b[0;34m(tensors, grad_tensors, retain_graph, create_graph, grad_variables, inputs)\u001b[0m\n\u001b[1;32m    154\u001b[0m     Variable._execution_engine.run_backward(\n\u001b[1;32m    155\u001b[0m         \u001b[0mtensors\u001b[0m\u001b[0;34m,\u001b[0m \u001b[0mgrad_tensors_\u001b[0m\u001b[0;34m,\u001b[0m \u001b[0mretain_graph\u001b[0m\u001b[0;34m,\u001b[0m \u001b[0mcreate_graph\u001b[0m\u001b[0;34m,\u001b[0m \u001b[0minputs\u001b[0m\u001b[0;34m,\u001b[0m\u001b[0;34m\u001b[0m\u001b[0;34m\u001b[0m\u001b[0m\n\u001b[0;32m--> 156\u001b[0;31m         allow_unreachable=True, accumulate_grad=True)  # allow_unreachable flag\n\u001b[0m\u001b[1;32m    157\u001b[0m \u001b[0;34m\u001b[0m\u001b[0m\n\u001b[1;32m    158\u001b[0m \u001b[0;34m\u001b[0m\u001b[0m\n",
      "\u001b[0;31mKeyboardInterrupt\u001b[0m: "
     ]
    }
   ],
   "source": [
    "model = LinearModel(train_focks, train_feats)\n",
    "optimizer = torch.optim.Adam(model.parameters(), lr=1e-1)\n",
    "# scheduler = torch.optim.lr_scheduler.StepLR(optimizer, step_size=800, gamma=1e-1)\n",
    "\n",
    "all_losses = []\n",
    "for epoch in range(10000):\n",
    "    optimizer.zero_grad()\n",
    "    pred = model(train_feats)\n",
    "    loss = mse_full(torch.from_numpy(train_hams.astype(np.float64)), pred, train_frames, orbs)\n",
    "    loss.backward()\n",
    "    optimizer.step()\n",
    "#     scheduler.step()\n",
    "    \n",
    "    all_losses.append(loss.item())\n",
    "    \n",
    "    if epoch % 500 == 0:\n",
    "        print(epoch, loss.item()) \n",
    "#     if loss.item <1e-15: \n",
    "#         break "
   ]
  },
  {
   "cell_type": "code",
   "execution_count": 123,
   "metadata": {},
   "outputs": [
    {
     "name": "stdout",
     "output_type": "stream",
     "text": [
      "0.056582075919331315 eV rmse on TRAIN H prediction\n"
     ]
    },
    {
     "data": {
      "image/png": "[encoded data removed]",
      "text/plain": [
       "<Figure size 432x288 with 1 Axes>"
      ]
     },
     "metadata": {
      "needs_background": "light"
     },
     "output_type": "display_data"
    }
   ],
   "source": [
    "plt.loglog(np.sqrt(all_losses))\n",
    "\n",
    "plt.xlabel(\"epochs\")\n",
    "plt.ylabel(\"$RMSE_{full}$\")\n",
    "print(np.sqrt(all_losses[-1])*Hartree, \"eV rmse on TRAIN H prediction\")"
   ]
  },
  {
   "cell_type": "code",
   "execution_count": 124,
   "metadata": {},
   "outputs": [
    {
     "name": "stdout",
     "output_type": "stream",
     "text": [
      "tensor(0.0731, grad_fn=<MulBackward0>) eV rmse on ALL H prediction\n"
     ]
    }
   ],
   "source": [
    "pred_all = model(norm_ham_feats.slice(Labels(names=[\"structure\"], values=np.asarray(range(N), dtype=np.int32).reshape(-1,1)) ))\n",
    "all_loss = mse_full(torch.from_numpy(hams[:N].astype(np.float64)), pred_all, frames[:N], orbs)\n",
    "print(torch.sqrt(all_loss)*Hartree, \"eV rmse on ALL H prediction\")\n",
    "# test_loss_eigvals = mse_eigvals(torch.from_numpy(test_hams.astype(np.float64)), pred_test, test_frames, orbs)"
   ]
  },
  {
   "cell_type": "code",
   "execution_count": 117,
   "metadata": {},
   "outputs": [
    {
     "data": {
      "text/plain": [
       "Labels([( 0, 0, 0), ( 1, 0, 0), ( 2, 0, 0), ( 3, 0, 0), ( 4, 0, 0),\n",
       "        ( 5, 0, 0), ( 6, 0, 0), ( 7, 0, 0), ( 8, 0, 0), ( 9, 0, 0),\n",
       "        (10, 0, 0), (11, 0, 0), (12, 0, 0), (13, 0, 0), (14, 0, 0),\n",
       "        (15, 0, 0), (16, 0, 0), (17, 0, 0), (18, 0, 0), (19, 0, 0)],\n",
       "       dtype=[('structure', '<i4'), ('center', '<i4'), ('neighbor', '<i4')])"
      ]
     },
     "execution_count": 117,
     "metadata": {},
     "output_type": "execute_result"
    }
   ],
   "source": [
    "reindexed_pred_test.block(0).samples"
   ]
  },
  {
   "cell_type": "code",
   "execution_count": 118,
   "metadata": {},
   "outputs": [
    {
     "data": {
      "text/plain": [
       "Labels([(80, 0, 0), (81, 0, 0), (82, 0, 0), (83, 0, 0), (84, 0, 0),\n",
       "        (85, 0, 0), (86, 0, 0), (87, 0, 0), (88, 0, 0), (89, 0, 0),\n",
       "        (90, 0, 0), (91, 0, 0), (92, 0, 0), (93, 0, 0), (94, 0, 0),\n",
       "        (95, 0, 0), (96, 0, 0), (97, 0, 0), (98, 0, 0), (99, 0, 0)],\n",
       "       dtype=[('structure', '<i4'), ('center', '<i4'), ('neighbor', '<i4')])"
      ]
     },
     "execution_count": 118,
     "metadata": {},
     "output_type": "execute_result"
    }
   ],
   "source": [
    "pred_test.block(0).samples"
   ]
  },
  {
   "cell_type": "code",
   "execution_count": 125,
   "metadata": {},
   "outputs": [],
   "source": [
    "###TEMPORARY FIX to reindex just the test frames \n",
    "pred_test = model(test_feats)\n",
    "bvalues = []\n",
    "for i, b in pred_test:\n",
    "    newblock = TensorBlock(\n",
    "                        values=b.values,\n",
    "                        samples=pred.block(i).samples[:len(b.values)],\n",
    "                        components=b.components,\n",
    "                        properties= b.properties)\n",
    "                    \n",
    "    bvalues.append(newblock) \n",
    "        \n",
    "reindexed_pred_test  = TensorMap(test_focks.keys, bvalues)"
   ]
  },
  {
   "cell_type": "code",
   "execution_count": 126,
   "metadata": {},
   "outputs": [],
   "source": [
    "# reindexed_pred_test.block(0).samples"
   ]
  },
  {
   "cell_type": "code",
   "execution_count": 127,
   "metadata": {},
   "outputs": [
    {
     "name": "stdout",
     "output_type": "stream",
     "text": [
      "tensor(0.1180, grad_fn=<MulBackward0>) eV rmse on TEST H prediction\n",
      "tensor(0.0014, grad_fn=<SqrtBackward0>) eV rmse on TEST eigen prediction\n"
     ]
    }
   ],
   "source": [
    "test_loss = mse_full(torch.from_numpy(test_hams.astype(np.float64)), reindexed_pred_test, test_frames, orbs)\n",
    "test_loss_eigvals = mse_eigvals(torch.from_numpy(test_hams.astype(np.float64)), reindexed_pred_test, test_frames, orbs)\n",
    "print(torch.sqrt(test_loss)*Hartree,  \"eV rmse on TEST H prediction\")\n",
    "print(torch.sqrt(test_loss_eigvals),  \"eV rmse on TEST eigen prediction\")"
   ]
  },
  {
   "cell_type": "code",
   "execution_count": null,
   "metadata": {},
   "outputs": [],
   "source": []
  }
 ],
 "metadata": {
  "kernelspec": {
   "display_name": "Python 3",
   "language": "python",
   "name": "python3"
  },
  "language_info": {
   "codemirror_mode": {
    "name": "ipython",
    "version": 3
   },
   "file_extension": ".py",
   "mimetype": "text/x-python",
   "name": "python",
   "nbconvert_exporter": "python",
   "pygments_lexer": "ipython3",
   "version": "3.7.3"
  },
  "toc": {
   "base_numbering": 1,
   "nav_menu": {},
   "number_sections": true,
   "sideBar": true,
   "skip_h1_title": false,
   "title_cell": "Table of Contents",
   "title_sidebar": "Contents",
   "toc_cell": false,
   "toc_position": {},
   "toc_section_display": true,
   "toc_window_display": false
  },
  "vscode": {
   "interpreter": {
    "hash": "9b1dab49005db54eeaf19407b770a132388229704ecb91b436b854691f0d31ef"
   }
  }
 },
 "nbformat": 4,
 "nbformat_minor": 5
}
