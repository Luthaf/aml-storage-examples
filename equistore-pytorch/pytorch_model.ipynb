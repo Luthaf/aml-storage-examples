{
 "cells": [
  {
   "cell_type": "code",
   "execution_count": 1,
   "id": "d32d2824",
   "metadata": {},
   "outputs": [],
   "source": [
    "%load_ext autoreload\n",
    "%autoreload 2\n",
    "%load_ext line_profiler"
   ]
  },
  {
   "cell_type": "code",
   "execution_count": 2,
   "id": "43edc0bf",
   "metadata": {},
   "outputs": [],
   "source": [
    "import numpy as np\n",
    "import torch\n",
    "import json\n",
    "from equistore import Labels, TensorBlock, TensorMap\n",
    "from torch_builder import TensorBuilder\n",
    "import ase.io\n",
    "from itertools import product\n",
    "from torch_cg import ClebschGordanReal\n",
    "from torch_hamiltonians import fix_pyscf_l1, dense_to_blocks, blocks_to_dense, couple_blocks, decouple_blocks, hamiltonian_features\n",
    "import matplotlib.pyplot as plt\n",
    "from rascal.representations import SphericalExpansion\n",
    "import copy"
   ]
  },
  {
   "cell_type": "code",
   "execution_count": 4,
   "id": "d53f7d27",
   "metadata": {},
   "outputs": [],
   "source": [
    "import sys\n",
    "sys.path.insert(0,'/Users/divya/new-hamiltonian/equistore-examples')\n",
    "from utils.librascal import  RascalSphericalExpansion, RascalPairExpansion\n",
    "from utils.acdc_mini import acdc_standardize_keys, cg_increment, cg_combine"
   ]
  },
  {
   "cell_type": "markdown",
   "id": "918830e0",
   "metadata": {},
   "source": [
    "## Manipulate Hamiltonian into blocks"
   ]
  },
  {
   "cell_type": "code",
   "execution_count": 5,
   "id": "77b04c26",
   "metadata": {},
   "outputs": [],
   "source": [
    "frames = ase.io.read(\"../data/hamiltonian/water-hamiltonian/water_coords_1000.xyz\",\":1\")\n",
    "for f in frames:\n",
    "    f.cell = [100,100,100]\n",
    "    f.positions += 50"
   ]
  },
  {
   "cell_type": "code",
   "execution_count": 6,
   "id": "041c41dc",
   "metadata": {},
   "outputs": [],
   "source": [
    "#jorbs = json.load(open('data/water-hamiltonian/water_orbs.json', \"r\"))\n",
    "jorbs = json.loads(json.load(open('../data/hamiltonian/water-hamiltonian/water_orbs.json', \"r\")))\n",
    "orbs = {}\n",
    "zdic = {\"O\" : 8, \"H\":1}\n",
    "for k in jorbs:\n",
    "    orbs[zdic[k]] = jorbs[k]"
   ]
  },
  {
   "cell_type": "code",
   "execution_count": 7,
   "id": "d134206c",
   "metadata": {},
   "outputs": [],
   "source": [
    "hams = np.load(\"../data/hamiltonian/water-hamiltonian/water_saph_orthogonal.npy\", allow_pickle=True)[:len(frames)]\n",
    "# NO NEED TO CORRECT L1 ORDER FOR SAPH ORTHOGONALIZED MATRICES...\n",
    "#for i, f in enumerate(frames):\n",
    "#    hams[i] = fix_pyscf_l1(hams[i], f, orbs)"
   ]
  },
  {
   "cell_type": "code",
   "execution_count": 8,
   "id": "31a5ecc9",
   "metadata": {},
   "outputs": [],
   "source": [
    "blocks = dense_to_blocks(hams, frames, orbs)"
   ]
  },
  {
   "cell_type": "code",
   "execution_count": 9,
   "id": "1bdea7cb",
   "metadata": {},
   "outputs": [],
   "source": [
    "cg = ClebschGordanReal(5)"
   ]
  },
  {
   "cell_type": "code",
   "execution_count": 10,
   "id": "8c77e922",
   "metadata": {},
   "outputs": [],
   "source": [
    "fock_bc = couple_blocks(blocks, cg)"
   ]
  },
  {
   "cell_type": "markdown",
   "id": "f3369119",
   "metadata": {},
   "source": [
    "## Feature computation"
   ]
  },
  {
   "cell_type": "code",
   "execution_count": 11,
   "id": "82adea0c",
   "metadata": {},
   "outputs": [],
   "source": [
    "rascal_hypers = {\n",
    "    \"interaction_cutoff\": 2.5,\n",
    "    \"cutoff_smooth_width\": 0.5,\n",
    "    \"max_radial\": 4,\n",
    "    \"max_angular\": 3,\n",
    "    \"gaussian_sigma_type\": \"Constant\",\n",
    "    \"compute_gradients\":  False,\n",
    "}\n",
    "\n",
    "spex = RascalSphericalExpansion(rascal_hypers)\n",
    "rhoi = spex.compute(frames)"
   ]
  },
  {
   "cell_type": "code",
   "execution_count": 12,
   "id": "24bb5576",
   "metadata": {},
   "outputs": [],
   "source": [
    "pairs = RascalPairExpansion(rascal_hypers)\n",
    "gij = pairs.compute(frames)"
   ]
  },
  {
   "cell_type": "code",
   "execution_count": 13,
   "id": "2f1965cb",
   "metadata": {},
   "outputs": [],
   "source": [
    "mc_rho1i = acdc_standardize_keys(rhoi)\n",
    "mc_rho1i.keys_to_properties(['species_neighbor'])\n",
    "mc_gij =  acdc_standardize_keys(gij)"
   ]
  },
  {
   "cell_type": "code",
   "execution_count": 14,
   "id": "44d7c55e",
   "metadata": {},
   "outputs": [
    {
     "name": "stdout",
     "output_type": "stream",
     "text": [
      "CPU times: user 29 ms, sys: 1.89 ms, total: 30.9 ms\n",
      "Wall time: 30.3 ms\n"
     ]
    }
   ],
   "source": [
    "mc_rho2i = cg_increment(mc_rho1i, mc_rho1i, lcut=4, other_keys_match=[\"species_center\"], clebsch_gordan=cg)"
   ]
  },
  {
   "cell_type": "code",
   "execution_count": 15,
   "id": "8d0cbec6",
   "metadata": {},
   "outputs": [
    {
     "name": "stdout",
     "output_type": "stream",
     "text": [
      "CPU times: user 694 ms, sys: 15.2 ms, total: 709 ms\n",
      "Wall time: 708 ms\n"
     ]
    }
   ],
   "source": [
    "mc_rho3i = cg_increment(mc_rho2i, mc_rho1i, lcut=4, other_keys_match=[\"species_center\"], clebsch_gordan=cg)"
   ]
  },
  {
   "cell_type": "code",
   "execution_count": 16,
   "id": "a2956e55",
   "metadata": {},
   "outputs": [
    {
     "name": "stdout",
     "output_type": "stream",
     "text": [
      "CPU times: user 30 ms, sys: 1.17 ms, total: 31.2 ms\n",
      "Wall time: 30.3 ms\n"
     ]
    }
   ],
   "source": [
    "mc_rho1ij = cg_increment(mc_rho1i, mc_gij, lcut=4, other_keys_match=[\"species_center\"], clebsch_gordan=cg)"
   ]
  },
  {
   "cell_type": "code",
   "execution_count": 17,
   "id": "26b5b058",
   "metadata": {},
   "outputs": [
    {
     "name": "stdout",
     "output_type": "stream",
     "text": [
      "CPU times: user 762 ms, sys: 14.9 ms, total: 777 ms\n",
      "Wall time: 784 ms\n"
     ]
    }
   ],
   "source": [
    "mc_rho2ij = cg_increment(mc_rho2i, mc_gij, lcut=4, other_keys_match=[\"species_center\"], clebsch_gordan=cg)"
   ]
  },
  {
   "cell_type": "code",
   "execution_count": 18,
   "id": "804faf72",
   "metadata": {},
   "outputs": [],
   "source": [
    "ham_feats = hamiltonian_features(mc_rho2i, mc_rho1ij)"
   ]
  },
  {
   "cell_type": "markdown",
   "id": "a5de6ee9",
   "metadata": {},
   "source": [
    "## PyTorch model"
   ]
  },
  {
   "cell_type": "code",
   "execution_count": 19,
   "id": "fb51b8fc",
   "metadata": {},
   "outputs": [],
   "source": [
    "class LinearModel(torch.nn.Module):\n",
    "    def __init__(self, coupled_blocks, features, orbitals_data, weights=None, intercepts=None):\n",
    "        super().__init__()\n",
    "        self.coupled_blocks = coupled_blocks\n",
    "        self.features = features\n",
    "        self.orbitals_data = orbitals_data\n",
    "        self.weights = {}\n",
    "        if weights==None:\n",
    "            for idx_fock, block_fock in self.coupled_blocks:\n",
    "                block_type, ai, ni, li, aj, nj, lj, L = idx_fock\n",
    "                parity= (-1)**(li+lj+L)\n",
    "                size = self.features.block(block_type=block_type, spherical_harmonics_l=L,inversion_sigma=parity, \n",
    "                                       species_center=ai, species_neighbor=aj).values.shape[2]\n",
    "                self.weights[idx_fock] = torch.nn.Parameter(torch.zeros(size, dtype=torch.float64))\n",
    "            \n",
    "        else: \n",
    "            self.weights = weights\n",
    "            \n",
    "        if intercepts is not None:\n",
    "            self.intercepts = intercepts \n",
    "            \n",
    "        else:\n",
    "            self.intercepts = None\n",
    "         \n",
    "    def forward(self, features):\n",
    "        k = []\n",
    "        pred_blocks = []\n",
    "        for idx, wts in self.weights.items():\n",
    "            #print(idx, wts.shape)\n",
    "            block_type, ai, ni, li, aj, nj, lj, L = idx\n",
    "            k.append(list(idx))\n",
    "            parity= (-1)**(li+lj+L)\n",
    "            X = self.features.block(block_type=block_type, spherical_harmonics_l=L,inversion_sigma=parity, \n",
    "                                   species_center=ai, species_neighbor=aj)\n",
    "            X_new = torch.from_numpy(X.values.reshape(-1, X.values.shape[2]))\n",
    "            if self.intercepts is not None:\n",
    "                Y = X_new @ wts + self.intercepts[idx]\n",
    "            else:\n",
    "                Y = X_new @ wts\n",
    "            \n",
    "            newblock = TensorBlock(\n",
    "                        values=Y.reshape((-1, 2 * L + 1, 1)),\n",
    "                        samples=X.samples,\n",
    "                        components=[Labels(\n",
    "                            [\"mu\"], np.asarray(range(-L, L + 1), dtype=np.int32).reshape(-1, 1)\n",
    "                        )],\n",
    "                        properties= Labels([\"values\"], np.asarray([[0]], dtype=np.int32))\n",
    "                    )\n",
    "            pred_blocks.append(newblock) \n",
    "        \n",
    "        keys = Labels(('block_type', 'a_i', 'n_i', 'l_i', 'a_j', 'n_j', 'l_j', 'L'), np.asarray(k, dtype=np.int32))\n",
    "        pred_fock = TensorMap(keys, pred_blocks)\n",
    "        return(pred_fock)\n",
    "\n",
    "    def parameters(self):\n",
    "        for idx, wts in self.weights.items():\n",
    "            yield wts        "
   ]
  },
  {
   "cell_type": "code",
   "execution_count": 28,
   "id": "68ac1e76",
   "metadata": {},
   "outputs": [],
   "source": [
    "#loss functions\n",
    "def mse_full(fock, pred_blocks, frame, orbs):\n",
    "    predicted = blocks_to_dense(decouple_blocks(pred_blocks), frame, orbs)\n",
    "    mse_loss = torch.empty(len(frame))\n",
    "    for i in range(len(frame)):\n",
    "        mse_loss[i] = (torch.linalg.norm(fock[i]-predicted[i]))**2/len(fock[i])\n",
    "    return torch.mean(mse_loss)\n",
    "\n",
    "def mse_eigvals(fock, pred_blocks, frame, orbs):\n",
    "    predicted = blocks_to_dense(decouple_blocks(pred_blocks), frame, orbs)\n",
    "    evanorm = torch.empty(len(frame))\n",
    "    for i in range(len(frame)):\n",
    "        evanorm[i] = torch.mean((torch.linalg.eigvalsh(fock[i]) - torch.linalg.eigvalsh(predicted[i]))**2)/len(fock[i])\n",
    "    return torch.mean(evanorm)"
   ]
  },
  {
   "cell_type": "markdown",
   "id": "f8ba0096",
   "metadata": {},
   "source": [
    "### Testing the model with weights from equistore"
   ]
  },
  {
   "cell_type": "code",
   "execution_count": 21,
   "id": "eec58d74",
   "metadata": {},
   "outputs": [],
   "source": [
    "weights = np.load('model_weights.npy', allow_pickle=True)[()]\n",
    "intercepts = np.load('model_intercepts.npy', allow_pickle=True)[()]"
   ]
  },
  {
   "cell_type": "code",
   "execution_count": 22,
   "id": "e5883a8d",
   "metadata": {},
   "outputs": [
    {
     "name": "stdout",
     "output_type": "stream",
     "text": [
      "the model contains 8 parameters\n"
     ]
    }
   ],
   "source": [
    "model = LinearModel(fock_bc, ham_feats, jorbs, weights=weights, intercepts=intercepts)\n",
    "print(f\"the model contains {len(list(model.parameters()))} parameters\")\n",
    "\n",
    "pred = model(ham_feats)"
   ]
  },
  {
   "cell_type": "code",
   "execution_count": 33,
   "id": "f1197464",
   "metadata": {},
   "outputs": [
    {
     "name": "stdout",
     "output_type": "stream",
     "text": [
      "tensor(3.0467e-08, grad_fn=<SqrtBackward0>)\n"
     ]
    }
   ],
   "source": [
    "loss = mse_full(torch.from_numpy(hams.astype(np.float64)), pred, frames, orbs)\n",
    "print(torch.sqrt(loss))"
   ]
  },
  {
   "cell_type": "markdown",
   "id": "d86aec51",
   "metadata": {},
   "source": [
    "## Training on just one structure"
   ]
  },
  {
   "cell_type": "code",
   "execution_count": 24,
   "id": "e2c1d344",
   "metadata": {
    "scrolled": true
   },
   "outputs": [
    {
     "name": "stdout",
     "output_type": "stream",
     "text": [
      "0 0.5196347832679749\n",
      "1000 0.010642685927450657\n",
      "2000 0.00080091692507267\n",
      "3000 0.0004015097802039236\n",
      "4000 0.00015492443344555795\n",
      "5000 3.481654857750982e-05\n",
      "6000 3.3057051496143686e-06\n",
      "7000 8.841338683396316e-08\n",
      "8000 6.462406720864067e-10\n",
      "9000 3.2733340777496567e-12\n",
      "10000 6.711923802393913e-15\n",
      "11000 1.0642129360841318e-15\n",
      "12000 6.379742044436247e-16\n",
      "13000 8.072803675506759e-16\n",
      "14000 8.691767178361327e-16\n",
      "15000 2.7620166811098473e-16\n",
      "16000 7.272293483484809e-16\n",
      "17000 8.130199686803895e-16\n",
      "18000 3.230076235152937e-16\n",
      "19000 1.2018052856734756e-15\n",
      "20000 9.76864463343545e-16\n",
      "21000 1.393133087799277e-15\n",
      "22000 5.235789638455832e-16\n",
      "23000 8.257141867630937e-16\n",
      "24000 9.947801630900391e-16\n",
      "25000 1.062447507663817e-15\n",
      "26000 2.7620166811098473e-16\n",
      "27000 6.99264502655321e-16\n",
      "28000 1.0981657223792284e-15\n",
      "29000 7.578961232642637e-16\n"
     ]
    }
   ],
   "source": [
    "model = LinearModel(fock_bc, ham_feats, jorbs)\n",
    "optimizer = torch.optim.Adam(model.parameters(), lr=0.8)\n",
    "scheduler = torch.optim.lr_scheduler.StepLR(optimizer, step_size=15000, gamma=0.01)\n",
    "\n",
    "all_losses = []\n",
    "for epoch in range(30000):\n",
    "    optimizer.zero_grad()\n",
    "    pred = model(ham_feats)\n",
    "    loss = mse_full(torch.from_numpy(hams.astype(np.float64)), pred, frames, orbs)\n",
    "    loss.backward()\n",
    "    optimizer.step()\n",
    "    scheduler.step()\n",
    "    \n",
    "    all_losses.append(loss.item())\n",
    "\n",
    "    if epoch % 1000 == 0:\n",
    "        print(epoch, loss.item())\n",
    "    \n",
    "    "
   ]
  },
  {
   "cell_type": "code",
   "execution_count": 25,
   "id": "cedf892c",
   "metadata": {},
   "outputs": [
    {
     "data": {
      "text/plain": [
       "Text(0, 0.5, '$MSE_{full}$')"
      ]
     },
     "execution_count": 25,
     "metadata": {},
     "output_type": "execute_result"
    },
    {
     "data": {
      "image/png": "[encoded data removed]",
      "text/plain": [
       "<Figure size 432x288 with 1 Axes>"
      ]
     },
     "metadata": {
      "needs_background": "light"
     },
     "output_type": "display_data"
    }
   ],
   "source": [
    "plt.loglog(all_losses)\n",
    "\n",
    "plt.xlabel(\"epochs\")\n",
    "plt.ylabel(\"$MSE_{full}$\")"
   ]
  },
  {
   "cell_type": "code",
   "execution_count": null,
   "id": "c84684ba",
   "metadata": {},
   "outputs": [],
   "source": []
  }
 ],
 "metadata": {
  "kernelspec": {
   "display_name": "Python 3 (ipykernel)",
   "language": "python",
   "name": "python3"
  },
  "language_info": {
   "codemirror_mode": {
    "name": "ipython",
    "version": 3
   },
   "file_extension": ".py",
   "mimetype": "text/x-python",
   "name": "python",
   "nbconvert_exporter": "python",
   "pygments_lexer": "ipython3",
   "version": "3.9.11"
  },
  "toc": {
   "base_numbering": 1,
   "nav_menu": {},
   "number_sections": true,
   "sideBar": true,
   "skip_h1_title": false,
   "title_cell": "Table of Contents",
   "title_sidebar": "Contents",
   "toc_cell": false,
   "toc_position": {},
   "toc_section_display": true,
   "toc_window_display": false
  },
  "vscode": {
   "interpreter": {
    "hash": "9b1dab49005db54eeaf19407b770a132388229704ecb91b436b854691f0d31ef"
   }
  }
 },
 "nbformat": 4,
 "nbformat_minor": 5
}
