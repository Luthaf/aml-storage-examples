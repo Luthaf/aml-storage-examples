{
 "cells": [
  {
   "cell_type": "code",
   "execution_count": 1,
   "id": "8d44c2f0",
   "metadata": {},
   "outputs": [],
   "source": [
    "%load_ext autoreload\n",
    "%autoreload 2\n",
    "%load_ext line_profiler"
   ]
  },
  {
   "cell_type": "code",
   "execution_count": 2,
   "id": "741488c2",
   "metadata": {},
   "outputs": [],
   "source": [
    "import numpy as np\n",
    "import json\n",
    "from equistore import Labels, TensorBlock, TensorMap\n",
    "from utils.builder import TensorBuilder\n",
    "import ase.io\n",
    "from itertools import product\n",
    "from utils.acdc_mini import * #acdc_standardize_keys, cg_increment, cg_combine, _remove_suffix\n",
    "from utils.clebsh_gordan import ClebschGordanReal\n",
    "from utils.hamiltonians import *\n",
    "import matplotlib.pyplot as plt\n",
    "from utils.librascal import  RascalSphericalExpansion, RascalPairExpansion\n",
    "import copy\n",
    "from utils.model_hamiltonian import *\n",
    "from ase.units import Hartree"
   ]
  },
  {
   "cell_type": "markdown",
   "id": "9f28d954",
   "metadata": {},
   "source": [
    "## Manipulate Hamiltonian into blocks"
   ]
  },
  {
   "cell_type": "code",
   "execution_count": 3,
   "id": "048146f0",
   "metadata": {},
   "outputs": [],
   "source": [
    "frames = ase.io.read(\"data/hamiltonian/ethanol-hamiltonian/ethanol_4500.xyz\",\":400\")\n",
    "for f in frames:\n",
    "    f.cell = [100,100,100]\n",
    "    f.positions += 50"
   ]
  },
  {
   "cell_type": "code",
   "execution_count": 4,
   "id": "487cdc05",
   "metadata": {},
   "outputs": [],
   "source": [
    "#jorbs = json.load(open('data/water-hamiltonian/water_orbs.json', \"r\"))\n",
    "jorbs = json.load(open('data/hamiltonian/ethanol-hamiltonian/orbs_saph_ethanol.json', \"r\"))\n",
    "orbs = {}\n",
    "zdic = {\"O\" : 8, \"C\":6, \"H\":1}\n",
    "for k in jorbs:\n",
    "    orbs[zdic[k]] = jorbs[k]"
   ]
  },
  {
   "cell_type": "code",
   "execution_count": 5,
   "id": "51d24b6c",
   "metadata": {},
   "outputs": [],
   "source": [
    "hams = np.load(\"data/hamiltonian/ethanol-hamiltonian/ethanol_saph_orthogonal.npy\", allow_pickle=True)[:len(frames)]\n",
    "eigvals = np.linalg.eigvalsh(hams)\n",
    "# NO NEED TO CORRECT L1 ORDER FOR SAPH ORTHOGONALIZED MATRICES...\n",
    "#for i, f in enumerate(frames):\n",
    "#    hams[i] = fix_pyscf_l1(hams[i], f, orbs)\n",
    "\n",
    "blocks = dense_to_blocks(hams, frames, orbs)"
   ]
  },
  {
   "cell_type": "code",
   "execution_count": 6,
   "id": "dae0cbd8",
   "metadata": {},
   "outputs": [],
   "source": [
    "cg = ClebschGordanReal(3)"
   ]
  },
  {
   "cell_type": "code",
   "execution_count": 7,
   "id": "1a7d76a1",
   "metadata": {},
   "outputs": [],
   "source": [
    "coupled = couple_blocks(blocks, cg)\n",
    "\n",
    "fock_bc = coupled"
   ]
  },
  {
   "cell_type": "markdown",
   "id": "66202a27",
   "metadata": {},
   "source": [
    "## Feature computation"
   ]
  },
  {
   "cell_type": "code",
   "execution_count": 8,
   "id": "56b98add",
   "metadata": {},
   "outputs": [],
   "source": [
    "rascal_hypers = {\n",
    "    \"interaction_cutoff\": 5.5,\n",
    "    \"cutoff_smooth_width\": 0.5,\n",
    "    \"max_radial\": 4,\n",
    "    \"max_angular\": 3,\n",
    "    \"gaussian_sigma_type\": \"Constant\",\n",
    "    \"compute_gradients\":  False,\n",
    "}\n",
    "\n",
    "spex = RascalSphericalExpansion(rascal_hypers)\n",
    "rhoi = spex.compute(frames)"
   ]
  },
  {
   "cell_type": "code",
   "execution_count": 9,
   "id": "1867fabe",
   "metadata": {},
   "outputs": [],
   "source": [
    "pairs = RascalPairExpansion(rascal_hypers)\n",
    "gij = pairs.compute(frames)"
   ]
  },
  {
   "cell_type": "code",
   "execution_count": 10,
   "id": "cb28affe",
   "metadata": {},
   "outputs": [],
   "source": [
    "rho1i = acdc_standardize_keys(rhoi)\n",
    "rho1i.keys_to_properties(['species_neighbor'])\n",
    "gij =  acdc_standardize_keys(gij)"
   ]
  },
  {
   "cell_type": "code",
   "execution_count": 11,
   "id": "85931c60",
   "metadata": {},
   "outputs": [
    {
     "name": "stdout",
     "output_type": "stream",
     "text": [
      "CPU times: user 2.64 s, sys: 194 ms, total: 2.84 s\n",
      "Wall time: 2.84 s\n"
     ]
    }
   ],
   "source": [
    "%%time\n",
    "rho2i = cg_increment(rho1i, rho1i, lcut=3, other_keys_match=[\"species_center\"], clebsch_gordan=cg)"
   ]
  },
  {
   "cell_type": "code",
   "execution_count": 12,
   "id": "587b6499",
   "metadata": {},
   "outputs": [
    {
     "name": "stdout",
     "output_type": "stream",
     "text": [
      "CPU times: user 17.6 s, sys: 184 ms, total: 17.8 s\n",
      "Wall time: 4.49 s\n"
     ]
    }
   ],
   "source": [
    "%%time\n",
    "rho2i_comp, _ = compress_features(rho2i, threshold=1e-12)"
   ]
  },
  {
   "cell_type": "code",
   "execution_count": 13,
   "id": "b417ac8c",
   "metadata": {},
   "outputs": [
    {
     "name": "stdout",
     "output_type": "stream",
     "text": [
      "CPU times: user 6.68 s, sys: 340 ms, total: 7.02 s\n",
      "Wall time: 6.51 s\n"
     ]
    }
   ],
   "source": [
    "%%time\n",
    "rho3i = cg_increment(rho2i_comp, rho1i, lcut=3, other_keys_match=[\"species_center\"], clebsch_gordan=cg)"
   ]
  },
  {
   "cell_type": "code",
   "execution_count": 14,
   "id": "c07c8b35",
   "metadata": {},
   "outputs": [
    {
     "name": "stdout",
     "output_type": "stream",
     "text": [
      "CPU times: user 9.19 s, sys: 419 ms, total: 9.61 s\n",
      "Wall time: 2.41 s\n"
     ]
    }
   ],
   "source": [
    "%%time\n",
    "rho3i_comp, _ = compress_features(rho3i, threshold=1e-14)"
   ]
  },
  {
   "cell_type": "code",
   "execution_count": 15,
   "id": "76cc8bc0",
   "metadata": {},
   "outputs": [
    {
     "name": "stdout",
     "output_type": "stream",
     "text": [
      "CPU times: user 1.42 s, sys: 16.1 ms, total: 1.44 s\n",
      "Wall time: 934 ms\n"
     ]
    }
   ],
   "source": [
    "%%time\n",
    "rho4i = cg_increment(rho3i_comp, rho1i, lcut=3, other_keys_match=[\"species_center\"], clebsch_gordan=cg)"
   ]
  },
  {
   "cell_type": "code",
   "execution_count": 16,
   "id": "4a6efb46",
   "metadata": {},
   "outputs": [],
   "source": [
    "rho4i_comp, _ = compress_features(rho4i, threshold=1e-16)"
   ]
  },
  {
   "cell_type": "code",
   "execution_count": 17,
   "id": "1a2cef42",
   "metadata": {},
   "outputs": [
    {
     "name": "stdout",
     "output_type": "stream",
     "text": [
      "CPU times: user 10.1 s, sys: 355 ms, total: 10.4 s\n",
      "Wall time: 10.3 s\n"
     ]
    }
   ],
   "source": [
    "%%time\n",
    "rho1ij = cg_increment(rho1i, gij, lcut=3, other_keys_match=[\"species_center\"], clebsch_gordan=cg)"
   ]
  },
  {
   "cell_type": "code",
   "execution_count": 18,
   "id": "d9903f39",
   "metadata": {},
   "outputs": [
    {
     "name": "stdout",
     "output_type": "stream",
     "text": [
      "CPU times: user 22.2 s, sys: 996 ms, total: 23.2 s\n",
      "Wall time: 23.2 s\n"
     ]
    }
   ],
   "source": [
    "%%time\n",
    "rho2ij = cg_increment(rho2i_comp, gij, lcut=3, other_keys_match=[\"species_center\"], clebsch_gordan=cg)"
   ]
  },
  {
   "cell_type": "code",
   "execution_count": 19,
   "id": "8a85066c",
   "metadata": {},
   "outputs": [
    {
     "name": "stdout",
     "output_type": "stream",
     "text": [
      "CPU times: user 5.62 s, sys: 0 ns, total: 5.62 s\n",
      "Wall time: 5.62 s\n"
     ]
    }
   ],
   "source": [
    "%%time\n",
    "rho3ij = cg_increment(rho3i_comp, gij, lcut=3, other_keys_match=[\"species_center\"], clebsch_gordan=cg)"
   ]
  },
  {
   "cell_type": "code",
   "execution_count": 20,
   "id": "3e973d7b",
   "metadata": {},
   "outputs": [],
   "source": [
    "ham_feats = hamiltonian_features(rho4i, rho3ij)"
   ]
  },
  {
   "cell_type": "code",
   "execution_count": 61,
   "id": "fb8386ee",
   "metadata": {},
   "outputs": [],
   "source": [
    "#In rho4i_comp, some blocks are being dropped\n",
    "#TODO: include an exception in the fit function to account fo that"
   ]
  },
  {
   "cell_type": "markdown",
   "id": "8ea89822",
   "metadata": {},
   "source": [
    "## fitting and prediction"
   ]
  },
  {
   "cell_type": "code",
   "execution_count": 57,
   "id": "e95fbf9a",
   "metadata": {},
   "outputs": [],
   "source": [
    "FR = Fock_regression(alpha=1e-16)"
   ]
  },
  {
   "cell_type": "code",
   "execution_count": 58,
   "id": "4a60ae29",
   "metadata": {},
   "outputs": [],
   "source": [
    "tf = [10,50,80,160,240,320]\n",
    "mae_full = []\n",
    "mae_eva = []\n",
    "for i in tf:\n",
    "    aa = FR.fit(ham_feats.slice(Labels(names=[\"structure\"], values=np.asarray(range(i), dtype=np.int32).reshape(-1,1)) ),\n",
    "       fock_bc.slice(Labels(names=[\"structure\"], values=np.asarray(range(i), dtype=np.int32).reshape(-1,1)) ))\n",
    "    pred_dense, pred_eigvals = FR.predict(ham_feats, frames, orbs)\n",
    "    \n",
    "    mae_full.append(np.abs(np.mean(hams - pred_dense))*Hartree)\n",
    "    eigval_loss = []\n",
    "    for a in range(len(frames)):\n",
    "        eigval_loss.append(eigvals[a] - pred_eigvals[a])\n",
    "\n",
    "    mae_eva.append(np.abs(np.mean(eigval_loss))*Hartree)"
   ]
  },
  {
   "cell_type": "code",
   "execution_count": 59,
   "id": "eb2a0273",
   "metadata": {},
   "outputs": [
    {
     "data": {
      "text/plain": [
       "Text(0, 0.5, 'MAE/eV')"
      ]
     },
     "execution_count": 59,
     "metadata": {},
     "output_type": "execute_result"
    },
    {
     "data": {
      "image/png": "[encoded data removed]",
      "text/plain": [
       "<Figure size 432x288 with 1 Axes>"
      ]
     },
     "metadata": {
      "needs_background": "light"
     },
     "output_type": "display_data"
    }
   ],
   "source": [
    "plt.loglog(tf, mae_full, 'b', label='full')\n",
    "plt.loglog(tf, mae_eva, 'r-.', label='$\\epsilon_{k}$')\n",
    "plt.legend(loc =\"upper right\");\n",
    "plt.xlabel('$n_{train}$')\n",
    "plt.ylabel('MAE/eV')"
   ]
  }
 ],
 "metadata": {
  "kernelspec": {
   "display_name": "Python 3 (ipykernel)",
   "language": "python",
   "name": "python3"
  },
  "language_info": {
   "codemirror_mode": {
    "name": "ipython",
    "version": 3
   },
   "file_extension": ".py",
   "mimetype": "text/x-python",
   "name": "python",
   "nbconvert_exporter": "python",
   "pygments_lexer": "ipython3",
   "version": "3.8.10"
  },
  "toc": {
   "base_numbering": 1,
   "nav_menu": {},
   "number_sections": true,
   "sideBar": true,
   "skip_h1_title": false,
   "title_cell": "Table of Contents",
   "title_sidebar": "Contents",
   "toc_cell": false,
   "toc_position": {},
   "toc_section_display": true,
   "toc_window_display": false
  },
  "vscode": {
   "interpreter": {
    "hash": "9b1dab49005db54eeaf19407b770a132388229704ecb91b436b854691f0d31ef"
   }
  }
 },
 "nbformat": 4,
 "nbformat_minor": 5
}
