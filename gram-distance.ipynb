{
 "cells": [
  {
   "cell_type": "code",
   "execution_count": 129,
   "id": "c3ac4872",
   "metadata": {
    "ExecuteTime": {
     "end_time": "2023-01-30T17:12:24.363657Z",
     "start_time": "2023-01-30T17:12:24.172364Z"
    }
   },
   "outputs": [],
   "source": [
    "import numpy as np\n",
    "from numpy.testing import assert_allclose"
   ]
  },
  {
   "cell_type": "code",
   "execution_count": 71,
   "id": "0a0e2b51",
   "metadata": {
    "ExecuteTime": {
     "end_time": "2023-01-30T13:45:47.536253Z",
     "start_time": "2023-01-30T13:45:47.472999Z"
    }
   },
   "outputs": [],
   "source": [
    "def gram_matrix(in_points, origin=[0,0,0]):\n",
    "    points = []\n",
    "    N = len(in_points)\n",
    "    for p in in_points: \n",
    "        points.append(p-origin)\n",
    "#     print(points)\n",
    "    G = np.zeros((N,N))\n",
    "    for i in range(N):\n",
    "        for j in range(N):\n",
    "            G[i, j] = np.dot(points[i], points[j])\n",
    "    return G, points\n",
    "\n",
    "\n",
    "def distance_matrix(in_points, origin=[0,0,0]):\n",
    "    points = []\n",
    "    N = len(in_points)\n",
    "    for p in in_points: \n",
    "        points.append(p-origin)\n",
    "        \n",
    "    D = np.zeros((N, N))\n",
    "    for i in range(N):\n",
    "        for j in range(N):\n",
    "                D[i, j] = np.linalg.norm(points[i] - points[j])\n",
    "            \n",
    "    return D, points\n",
    "\n",
    "def gram_to_dmat(G):\n",
    "    N = G.shape[0]\n",
    "    distances = np.zeros((N, N))\n",
    "    for i in range(N):\n",
    "        for j in range(i+1, N):\n",
    "            distances[i,j] = np.sqrt(G[i,i] + G[j,j] - 2*G[i,j])\n",
    "            distances[j,i] = distances[i,j]\n",
    "    return distances\n",
    "\n",
    "\n",
    "def points_from_gram_matrix(G, origin=[0,0,0]):\n",
    "    #not sure about this \n",
    "    N = G.shape[0]\n",
    "    eigenvalues, eigenvectors = np.linalg.eigh(G)\n",
    "    points = np.zeros((N, 3))\n",
    "    for i in range(3):\n",
    "        points[:, i] = np.sqrt(eigenvalues[i]) * eigenvectors[:, i]\n",
    "        points[:, i][:3]+= origin\n",
    "#         print(points[:,i].shape)\n",
    "    return points\n",
    "\n",
    "def compute_com(points):\n",
    "    N = len(points)\n",
    "    com = np.zeros(3)\n",
    "    for p in points: \n",
    "        com+=p\n",
    "    return com/N"
   ]
  },
  {
   "cell_type": "markdown",
   "id": "157fb801",
   "metadata": {},
   "source": [
    "$$ d_{ij}^2 = (v_{io}-v_{jo}).(v_{io}-v_{jo})$$\n",
    "where $o$ is the origin.\n",
    "But $(v_{io}-v_{jo})$ = $(v_{i}-v_{j})$, so the distance matrix is independent of origin as it should be. \n",
    "\n",
    "If we define the center of mass ($\\bar{v}$) as the origin, and compute the element of the gram matrix, \n",
    "$$G_{ij} = (v_{i} - \\bar{v}). (v_{j} - \\bar{v}) =v_{i}. v_{j} - \\bar{v} (v_{i} + v_{j}) + \\bar{v}^2 $$\n",
    "$$ G_{ij} = v_{i}. v_{j} - \\frac{1}{N} \\sum_q v_q.(v_{i} + v_{j}) + \\frac{1}{N^2} \\sum_{pq} v_p. v_q$$\n",
    "\n",
    "Replace each v_a.v_b by $\\frac{1}{2} (d_{ab}^2 - v_a^2 -v_b^2 )$\n",
    "$$ -2 G_{ij} = d_{ij}^2 - v_i^2 - v_j^2 +  (v_i^2 +v_j^2) + \\frac{1}{N} \\sum_q d_{jq}^2 +d_{iq}^2 - 2v_q^2 + \\frac{1}{N^2} \\sum_{pq} (d_{pq}^2 - v_p^2 -v_q^2) $$\n",
    "\n",
    "The last term involving $\\sum_{pq}v_p^2 + v_q^2$ cancels $\\sum_q 2v_q^2$ leading to \n",
    "\n",
    "$$ -2 G_{ij} = d_{ij}^2 + \\frac{1}{N} \\sum_q d_{jq}^2 +d_{iq}^2 + \\frac{1}{N^2} \\sum_{pq} d_{pq}^2  $$ \n",
    "\n",
    "<!-- \n",
    "$$ r = \\frac{1}{N}\\sum_{j=1}^N d_{ij}^2 = v_{i}^2 + \\frac{1}{N} \\sum_{j=1}^N  v_{j}^2 - 2 v_{i}.v_{j} $$\n",
    "$$ c = \\frac{1}{N}\\sum_{i=1}^N d_{ij}^2 = v_{j}^2 + \\frac{1}{N} \\sum_{i=1}^N  v_{i}^2 - 2 v_{i}.v_{j} $$\n",
    "and denote the mean over all elements of the matrix as m \n",
    "$$m = \\frac{1}{N}\\sum_{i',j'=1}^N d_{i'j'}^2 = \\frac{1}{N} \\sum_{i',j'=1}^N  v_{i'}^2 +v_{j'}^2  - 2 v_{i'}.v_{j'}$$\n",
    " -->\n"
   ]
  },
  {
   "cell_type": "code",
   "execution_count": 68,
   "id": "9c39754e",
   "metadata": {
    "ExecuteTime": {
     "end_time": "2023-01-30T13:23:47.158680Z",
     "start_time": "2023-01-30T13:23:47.108899Z"
    }
   },
   "outputs": [],
   "source": [
    "def dmat_to_gram(D):\n",
    "    #this sets ths origin to the COM of the points and then computes the gram matrix \n",
    "    \n",
    "    D2 = D**2\n",
    "    N = D.shape[0]\n",
    "    gram = np.zeros((N, N))\n",
    "    matrix_mean = np.mean(D2)\n",
    "    for i in range(N):\n",
    "        row_mean = np.mean(D2[i,:])\n",
    "        for j in range(i, N):\n",
    "            col_mean = np.mean(D2[:,j])\n",
    "            gram[i,j] = -(D2[i,j] - (row_mean+col_mean-matrix_mean ))/2\n",
    "            gram[j,i]=gram[i,j]\n",
    "    return gram"
   ]
  },
  {
   "cell_type": "code",
   "execution_count": 86,
   "id": "2356aeeb",
   "metadata": {
    "ExecuteTime": {
     "end_time": "2023-01-30T16:29:44.223017Z",
     "start_time": "2023-01-30T16:29:44.214391Z"
    },
    "scrolled": true
   },
   "outputs": [
    {
     "data": {
      "text/plain": [
       "array([[ 24.3125,   4.8125, -13.9375, -15.1875],\n",
       "       [  4.8125,   3.3125,   2.5625, -10.6875],\n",
       "       [-13.9375,   2.5625,  28.8125, -17.4375],\n",
       "       [-15.1875, -10.6875, -17.4375,  43.3125]])"
      ]
     },
     "execution_count": 86,
     "metadata": {},
     "output_type": "execute_result"
    }
   ],
   "source": [
    "dmat_to_gram(D0)"
   ]
  },
  {
   "cell_type": "code",
   "execution_count": 85,
   "id": "fa08dbad",
   "metadata": {
    "ExecuteTime": {
     "end_time": "2023-01-30T16:29:41.985191Z",
     "start_time": "2023-01-30T16:29:41.947324Z"
    }
   },
   "outputs": [
    {
     "data": {
      "text/plain": [
       "(array([[ 24.3125,   4.8125, -13.9375, -15.1875],\n",
       "        [  4.8125,   3.3125,   2.5625, -10.6875],\n",
       "        [-13.9375,   2.5625,  28.8125, -17.4375],\n",
       "        [-15.1875, -10.6875, -17.4375,  43.3125]]),\n",
       " [array([-4.5 ,  0.25, -2.  ]),\n",
       "  array([-1.5 ,  0.25,  1.  ]),\n",
       "  array([1.5 , 3.25, 4.  ]),\n",
       "  array([ 4.5 , -3.75, -3.  ])])"
      ]
     },
     "execution_count": 85,
     "metadata": {},
     "output_type": "execute_result"
    }
   ],
   "source": [
    "gram_matrix(points, origin=compute_com(points)) "
   ]
  },
  {
   "cell_type": "markdown",
   "id": "c775a1e2",
   "metadata": {},
   "source": [
    "A possible way to add info about the origin \n",
    "$$<v_{io}| v_{jo}> = <v_i-v_o| v_{j}-v_o> = <v_i|v_j> +<v_o|v_o> -<v_i|v_o> -<v_j|v_o> $$\n",
    "\n",
    "should check this \n"
   ]
  },
  {
   "cell_type": "markdown",
   "id": "a2412aab",
   "metadata": {},
   "source": [
    "## Define Function to reconstruct points from Gram matrix"
   ]
  },
  {
   "cell_type": "code",
   "execution_count": 147,
   "id": "3ceae445",
   "metadata": {
    "ExecuteTime": {
     "end_time": "2023-01-30T17:36:56.976488Z",
     "start_time": "2023-01-30T17:36:56.952615Z"
    }
   },
   "outputs": [],
   "source": [
    "def vecs_from_gram(G):\n",
    "    \"\"\"\n",
    "    Inputs:\n",
    "    - G: np.ndarray of shape (n,n)\n",
    "        G has to be a symmetric and positive definite matrix, which is the Gram matrix of \n",
    "        some input vectors.\n",
    "    \n",
    "    Returns:\n",
    "    - vecs: np.ndarray of shape (3,n)\n",
    "        The Gram matrix G should match the inner products of these n vectors, i.e. G == vecs.T @ vecs.\n",
    "    \"\"\"\n",
    "    # Initialization\n",
    "    n = len(G)\n",
    "    assert n >= 3, \"Need at least three vectors (too lazy to implement the planar special case)!\"\n",
    "    vecs = np.zeros((3,n))\n",
    "    \n",
    "    # Compute three basis vectors for the system from the first 3x3 block of the Gram matrix\n",
    "    G_basis = G[:3,:3]\n",
    "    basis = np.linalg.cholesky(G_basis).T\n",
    "    vecs[:,:3] = basis\n",
    "    \n",
    "    # Compute the remaining ones\n",
    "    if n>3:\n",
    "        G_rest = G[:3,3:]\n",
    "        vecs[:,3:] = np.linalg.inv(basis.T) @ G_rest\n",
    "    \n",
    "    return vecs\n",
    "\n",
    "def vecs_from_gram_and_shift(G, origin):\n",
    "    \"\"\"\n",
    "    A set of vectors v_i are shifted to w_i = v_i - origin, which are then used to create\n",
    "    the Gram matrix G = W.T @ W.\n",
    "    \n",
    "    Returns:\n",
    "    Set of vectors v_i before translation, up to global orthogonal transformation of w_i.\n",
    "    \"\"\"\n",
    "    vecs = vecs_from_gram(G)\n",
    "    origin = origin.reshape(-1,1)\n",
    "    vecs += origin\n",
    "    return vecs"
   ]
  },
  {
   "cell_type": "markdown",
   "id": "57eed7cf",
   "metadata": {},
   "source": [
    "Test function out with some examples, starting with the special case of only three vectors"
   ]
  },
  {
   "cell_type": "code",
   "execution_count": 145,
   "id": "8772e0c0",
   "metadata": {
    "ExecuteTime": {
     "end_time": "2023-01-30T17:31:20.794359Z",
     "start_time": "2023-01-30T17:31:20.778725Z"
    }
   },
   "outputs": [],
   "source": [
    "# Special case with only 3 vectors\n",
    "vecs = np.random.normal(2, 3, size=(3,3))\n",
    "gram = vecs.T @ vecs\n",
    "vecs_reconstr = vecs_from_gram(gram) # should be the same as original vectors up to global rotation\n",
    "gram_reconstr = vecs_reconstr.T @ vecs_reconstr\n",
    "assert_allclose(gram, gram_reconstr)"
   ]
  },
  {
   "cell_type": "markdown",
   "id": "4185c7d3",
   "metadata": {},
   "source": [
    "Treat the more general case with $n>3$ vectors:"
   ]
  },
  {
   "cell_type": "code",
   "execution_count": 146,
   "id": "59324c23",
   "metadata": {
    "ExecuteTime": {
     "end_time": "2023-01-30T17:31:22.611991Z",
     "start_time": "2023-01-30T17:31:22.602962Z"
    }
   },
   "outputs": [],
   "source": [
    "# N vectors\n",
    "n = 10 # number of vectors\n",
    "vecs = np.random.normal(2, 3, size=(3,n))\n",
    "gram = vecs.T @ vecs\n",
    "vecs_reconstr = vecs_from_gram(gram) # should be the same as original vectors up to global rotation\n",
    "gram_reconstr = vecs_reconstr.T @ vecs_reconstr\n",
    "assert_allclose(gram, gram_reconstr)"
   ]
  },
  {
   "cell_type": "code",
   "execution_count": 62,
   "id": "5eaac9f0",
   "metadata": {
    "ExecuteTime": {
     "end_time": "2023-01-30T13:13:56.192626Z",
     "start_time": "2023-01-30T13:13:56.176784Z"
    }
   },
   "outputs": [],
   "source": [
    "points = np.asarray([[1, 5, 3], [4,5,6], [7, 8, 9], [10, 1, 2]])"
   ]
  },
  {
   "cell_type": "code",
   "execution_count": 63,
   "id": "497adf3e",
   "metadata": {
    "ExecuteTime": {
     "end_time": "2023-01-30T13:13:56.715475Z",
     "start_time": "2023-01-30T13:13:56.708859Z"
    }
   },
   "outputs": [],
   "source": [
    "origin0=[0,0,0]\n",
    "G0, pg0 = gram_matrix(points, origin0 )\n",
    "D0, pd0 = distance_matrix(points, origin0)"
   ]
  },
  {
   "cell_type": "code",
   "execution_count": 69,
   "id": "edae76ba",
   "metadata": {
    "ExecuteTime": {
     "end_time": "2023-01-30T13:23:51.480715Z",
     "start_time": "2023-01-30T13:23:51.388069Z"
    }
   },
   "outputs": [
    {
     "data": {
      "text/plain": [
       "array([[ 24.3125,   4.8125, -13.9375, -15.1875],\n",
       "       [  4.8125,   3.3125,   2.5625, -10.6875],\n",
       "       [-13.9375,   2.5625,  28.8125, -17.4375],\n",
       "       [-15.1875, -10.6875, -17.4375,  43.3125]])"
      ]
     },
     "execution_count": 69,
     "metadata": {},
     "output_type": "execute_result"
    }
   ],
   "source": [
    "dmat_to_gram(D0)"
   ]
  },
  {
   "cell_type": "code",
   "execution_count": 70,
   "id": "d7976c3b",
   "metadata": {
    "ExecuteTime": {
     "end_time": "2023-01-30T13:24:06.511012Z",
     "start_time": "2023-01-30T13:24:06.494465Z"
    }
   },
   "outputs": [
    {
     "data": {
      "text/plain": [
       "array([[ 35.,  47.,  74.,  21.],\n",
       "       [ 47.,  77., 122.,  57.],\n",
       "       [ 74., 122., 194.,  96.],\n",
       "       [ 21.,  57.,  96., 105.]])"
      ]
     },
     "execution_count": 70,
     "metadata": {},
     "output_type": "execute_result"
    }
   ],
   "source": [
    "G0"
   ]
  },
  {
   "cell_type": "code",
   "execution_count": 6,
   "id": "39cce11d",
   "metadata": {
    "ExecuteTime": {
     "end_time": "2023-01-30T12:39:36.860057Z",
     "start_time": "2023-01-30T12:39:36.852342Z"
    }
   },
   "outputs": [],
   "source": [
    "origin1=[0,0,1]\n",
    "G1, pg1 = gram_matrix(points, origin1)\n",
    "D1, pd1 = distance_matrix(points, origin1)"
   ]
  },
  {
   "cell_type": "code",
   "execution_count": 7,
   "id": "65e29dc8",
   "metadata": {
    "ExecuteTime": {
     "end_time": "2023-01-30T12:39:37.229264Z",
     "start_time": "2023-01-30T12:39:37.211338Z"
    }
   },
   "outputs": [],
   "source": [
    "origin2=[1,2,3]\n",
    "G2, pg2 = gram_matrix(points, origin2 )\n",
    "D2, pd2 = distance_matrix(points, origin2)"
   ]
  },
  {
   "cell_type": "code",
   "execution_count": 8,
   "id": "bb57ef5f",
   "metadata": {
    "ExecuteTime": {
     "end_time": "2023-01-30T12:39:37.656173Z",
     "start_time": "2023-01-30T12:39:37.645629Z"
    }
   },
   "outputs": [],
   "source": [
    "# D1 - D2\n",
    "# D1 - D3"
   ]
  },
  {
   "cell_type": "code",
   "execution_count": 10,
   "id": "c86f1fc5",
   "metadata": {
    "ExecuteTime": {
     "end_time": "2023-01-30T12:39:53.890152Z",
     "start_time": "2023-01-30T12:39:53.851218Z"
    }
   },
   "outputs": [
    {
     "data": {
      "text/plain": [
       "array([[0., 0., 0., 0.],\n",
       "       [0., 0., 0., 0.],\n",
       "       [0., 0., 0., 0.],\n",
       "       [0., 0., 0., 0.]])"
      ]
     },
     "execution_count": 10,
     "metadata": {},
     "output_type": "execute_result"
    }
   ],
   "source": [
    "gram_to_dmat(G1) - D1"
   ]
  },
  {
   "cell_type": "code",
   "execution_count": 10,
   "id": "05a23d3b",
   "metadata": {
    "ExecuteTime": {
     "end_time": "2023-01-30T10:21:55.955550Z",
     "start_time": "2023-01-30T10:21:55.952371Z"
    }
   },
   "outputs": [],
   "source": [
    "eval0, evec0 = np.linalg.eigh(G0)\n",
    "eval1, evec1 = np.linalg.eigh(G1)\n",
    "eval2, evec2 = np.linalg.eigh(G2)"
   ]
  },
  {
   "cell_type": "code",
   "execution_count": 11,
   "id": "b09a0f38",
   "metadata": {
    "ExecuteTime": {
     "end_time": "2023-01-30T12:40:01.875840Z",
     "start_time": "2023-01-30T12:40:01.848421Z"
    }
   },
   "outputs": [
    {
     "data": {
      "text/plain": [
       "array([[-7.98393818e-22, -1.73783970e+00,  2.64666478e+00],\n",
       "       [-1.42545419e-07,  3.92637474e-01,  1.53935705e+00],\n",
       "       [ 1.00000009e+00,  1.59568479e+00,  3.00869668e+00],\n",
       "       [-5.85803090e-09, -4.20345076e-01, -6.65767238e+00]])"
      ]
     },
     "execution_count": 11,
     "metadata": {},
     "output_type": "execute_result"
    }
   ],
   "source": [
    "points_from_gram_matrix(G1, origin1)"
   ]
  },
  {
   "cell_type": "code",
   "execution_count": 176,
   "id": "4ccaf001",
   "metadata": {
    "ExecuteTime": {
     "end_time": "2023-01-30T10:13:02.767456Z",
     "start_time": "2023-01-30T10:13:02.760367Z"
    }
   },
   "outputs": [],
   "source": []
  },
  {
   "cell_type": "code",
   "execution_count": null,
   "id": "9438f1a0",
   "metadata": {},
   "outputs": [],
   "source": []
  }
 ],
 "metadata": {
  "kernelspec": {
   "display_name": "Python 3 (ipykernel)",
   "language": "python",
   "name": "python3"
  },
  "language_info": {
   "codemirror_mode": {
    "name": "ipython",
    "version": 3
   },
   "file_extension": ".py",
   "mimetype": "text/x-python",
   "name": "python",
   "nbconvert_exporter": "python",
   "pygments_lexer": "ipython3",
   "version": "3.8.13"
  },
  "toc": {
   "base_numbering": 1,
   "nav_menu": {},
   "number_sections": true,
   "sideBar": true,
   "skip_h1_title": false,
   "title_cell": "Table of Contents",
   "title_sidebar": "Contents",
   "toc_cell": false,
   "toc_position": {},
   "toc_section_display": true,
   "toc_window_display": false
  }
 },
 "nbformat": 4,
 "nbformat_minor": 5
}
