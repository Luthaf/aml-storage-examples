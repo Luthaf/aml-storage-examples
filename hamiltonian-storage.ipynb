{
 "cells": [
  {
   "cell_type": "code",
   "execution_count": 1,
   "metadata": {},
   "outputs": [],
   "source": [
    "%load_ext autoreload\n",
    "%autoreload 2"
   ]
  },
  {
   "cell_type": "code",
   "execution_count": 2,
   "metadata": {},
   "outputs": [],
   "source": [
    "import numpy as np\n",
    "import json\n",
    "from aml_storage import Labels, Block, Descriptor\n",
    "from utils.builder import DescriptorBuilder\n",
    "import ase.io\n",
    "from itertools import product"
   ]
  },
  {
   "cell_type": "code",
   "execution_count": 3,
   "metadata": {},
   "outputs": [],
   "source": [
    "ham = np.load(\"data/water-hamiltonian/water_fock.npy\", allow_pickle=True)\n",
    "# MUST CONVERT FROM PYSCF L=1 FORMAT"
   ]
  },
  {
   "cell_type": "code",
   "execution_count": 4,
   "metadata": {},
   "outputs": [],
   "source": [
    "frames = ase.io.read(\"data/water-hamiltonian/water_coords_1000.xyz\",\":\")"
   ]
  },
  {
   "cell_type": "code",
   "execution_count": 5,
   "metadata": {},
   "outputs": [],
   "source": [
    "orbs = json.loads(json.load(open('data/water-hamiltonian/orbs_def2_water.json', \"r\")))"
   ]
  },
  {
   "cell_type": "code",
   "execution_count": 6,
   "metadata": {},
   "outputs": [
    {
     "data": {
      "text/plain": [
       "{'O': [[1, 0, 0],\n",
       "  [2, 0, 0],\n",
       "  [3, 0, 0],\n",
       "  [2, 1, 1],\n",
       "  [2, 1, -1],\n",
       "  [2, 1, 0],\n",
       "  [3, 1, 1],\n",
       "  [3, 1, -1],\n",
       "  [3, 1, 0],\n",
       "  [3, 2, -2],\n",
       "  [3, 2, -1],\n",
       "  [3, 2, 0],\n",
       "  [3, 2, 1],\n",
       "  [3, 2, 2]],\n",
       " 'H': [[1, 0, 0], [2, 0, 0], [2, 1, 1], [2, 1, -1], [2, 1, 0]]}"
      ]
     },
     "execution_count": 6,
     "metadata": {},
     "output_type": "execute_result"
    }
   ],
   "source": [
    "orbs"
   ]
  },
  {
   "cell_type": "code",
   "execution_count": 7,
   "metadata": {},
   "outputs": [
    {
     "data": {
      "text/plain": [
       "[(1, 1), (1, 2), (2, 1), (2, 2), (3, 1), (3, 2)]"
      ]
     },
     "execution_count": 7,
     "metadata": {},
     "output_type": "execute_result"
    }
   ],
   "source": [
    "list(product([1,2,3],[1,2]))"
   ]
  },
  {
   "cell_type": "code",
   "execution_count": null,
   "metadata": {},
   "outputs": [],
   "source": []
  },
  {
   "cell_type": "code",
   "execution_count": 8,
   "metadata": {},
   "outputs": [
    {
     "name": "stdout",
     "output_type": "stream",
     "text": [
      "O\n",
      "(8, 1, 0, 8, 1, 0) 0 0\n",
      "wtf (1, 1, 1) 3\n",
      "(8, 1, 0, 8, 2, 0) 0 0\n",
      "wtf (1, 1, 1) 3\n",
      "(8, 1, 0, 8, 3, 0) 0 0\n",
      "wtf (1, 1, 1) 3\n",
      "(8, 1, 0, 8, 2, 1) 0 -1\n",
      "wtf (1, 3, 1) 3\n",
      "(8, 1, 0, 8, 3, 1) 0 -1\n",
      "wtf (1, 3, 1) 3\n",
      "(8, 1, 0, 8, 3, 2) 0 -2\n",
      "wtf (1, 5, 1) 3\n",
      "O\n",
      "(8, 1, 0, 1, 1, 0) 0 0\n",
      "wtf (1, 1, 1) 3\n",
      "(8, 1, 0, 1, 2, 0) 0 0\n",
      "wtf (1, 1, 1) 3\n",
      "(8, 1, 0, 1, 2, 1) 0 -1\n",
      "wtf (1, 3, 1) 3\n",
      "O\n",
      "(8, 1, 0, 1, 1, 0) 0 0\n",
      "wtf (1, 1, 1) 3\n",
      "(8, 1, 0, 1, 2, 0) 0 0\n",
      "wtf (1, 1, 1) 3\n",
      "(8, 1, 0, 1, 2, 1) 0 -1\n",
      "wtf (1, 3, 1) 3\n",
      "O\n",
      "(8, 2, 0, 8, 1, 0) 0 0\n",
      "wtf (1, 1, 1) 3\n",
      "(8, 2, 0, 8, 2, 0) 0 0\n",
      "wtf (1, 1, 1) 3\n",
      "(8, 2, 0, 8, 3, 0) 0 0\n",
      "wtf (1, 1, 1) 3\n",
      "(8, 2, 0, 8, 2, 1) 0 -1\n",
      "wtf (1, 3, 1) 3\n",
      "(8, 2, 0, 8, 3, 1) 0 -1\n",
      "wtf (1, 3, 1) 3\n",
      "(8, 2, 0, 8, 3, 2) 0 -2\n",
      "wtf (1, 5, 1) 3\n",
      "O\n",
      "(8, 2, 0, 1, 1, 0) 0 0\n",
      "wtf (1, 1, 1) 3\n",
      "(8, 2, 0, 1, 2, 0) 0 0\n",
      "wtf (1, 1, 1) 3\n",
      "(8, 2, 0, 1, 2, 1) 0 -1\n",
      "wtf (1, 3, 1) 3\n",
      "O\n",
      "(8, 2, 0, 1, 1, 0) 0 0\n",
      "wtf (1, 1, 1) 3\n",
      "(8, 2, 0, 1, 2, 0) 0 0\n",
      "wtf (1, 1, 1) 3\n",
      "(8, 2, 0, 1, 2, 1) 0 -1\n",
      "wtf (1, 3, 1) 3\n",
      "O\n",
      "(8, 3, 0, 8, 1, 0) 0 0\n",
      "wtf (1, 1, 1) 3\n",
      "(8, 3, 0, 8, 2, 0) 0 0\n",
      "wtf (1, 1, 1) 3\n",
      "(8, 3, 0, 8, 3, 0) 0 0\n",
      "wtf (1, 1, 1) 3\n",
      "(8, 3, 0, 8, 2, 1) 0 -1\n",
      "wtf (1, 3, 1) 3\n",
      "(8, 3, 0, 8, 3, 1) 0 -1\n",
      "wtf (1, 3, 1) 3\n",
      "(8, 3, 0, 8, 3, 2) 0 -2\n",
      "wtf (1, 5, 1) 3\n",
      "O\n",
      "(8, 3, 0, 1, 1, 0) 0 0\n",
      "wtf (1, 1, 1) 3\n",
      "(8, 3, 0, 1, 2, 0) 0 0\n",
      "wtf (1, 1, 1) 3\n",
      "(8, 3, 0, 1, 2, 1) 0 -1\n",
      "wtf (1, 3, 1) 3\n",
      "O\n",
      "(8, 3, 0, 1, 1, 0) 0 0\n",
      "wtf (1, 1, 1) 3\n",
      "(8, 3, 0, 1, 2, 0) 0 0\n",
      "wtf (1, 1, 1) 3\n",
      "(8, 3, 0, 1, 2, 1) 0 -1\n",
      "wtf (1, 3, 1) 3\n",
      "O\n",
      "(8, 2, 1, 8, 1, 0) -1 0\n",
      "wtf (1, 3, 1) 3\n",
      "(8, 2, 1, 8, 2, 0) -1 0\n",
      "wtf (1, 3, 1) 3\n",
      "(8, 2, 1, 8, 3, 0) -1 0\n",
      "wtf (1, 3, 1) 3\n",
      "(8, 2, 1, 8, 2, 1) -1 -1\n",
      "wtf (1, 9, 1) 3\n",
      "(8, 2, 1, 8, 3, 1) -1 -1\n",
      "wtf (1, 9, 1) 3\n",
      "(8, 2, 1, 8, 3, 2) -1 -2\n",
      "wtf (1, 15, 1) 3\n",
      "O\n",
      "(8, 2, 1, 1, 1, 0) -1 0\n",
      "wtf (1, 3, 1) 3\n",
      "(8, 2, 1, 1, 2, 0) -1 0\n",
      "wtf (1, 3, 1) 3\n",
      "(8, 2, 1, 1, 2, 1) -1 -1\n",
      "wtf (1, 9, 1) 3\n",
      "O\n",
      "(8, 2, 1, 1, 1, 0) -1 0\n",
      "wtf (1, 3, 1) 3\n",
      "(8, 2, 1, 1, 2, 0) -1 0\n",
      "wtf (1, 3, 1) 3\n",
      "(8, 2, 1, 1, 2, 1) -1 -1\n",
      "wtf (1, 9, 1) 3\n",
      "O\n",
      "(8, 3, 1, 8, 1, 0) -1 0\n",
      "wtf (1, 3, 1) 3\n",
      "(8, 3, 1, 8, 2, 0) -1 0\n",
      "wtf (1, 3, 1) 3\n",
      "(8, 3, 1, 8, 3, 0) -1 0\n",
      "wtf (1, 3, 1) 3\n",
      "(8, 3, 1, 8, 2, 1) -1 -1\n",
      "wtf (1, 9, 1) 3\n",
      "(8, 3, 1, 8, 3, 1) -1 -1\n",
      "wtf (1, 9, 1) 3\n",
      "(8, 3, 1, 8, 3, 2) -1 -2\n",
      "wtf (1, 15, 1) 3\n",
      "O\n",
      "(8, 3, 1, 1, 1, 0) -1 0\n",
      "wtf (1, 3, 1) 3\n",
      "(8, 3, 1, 1, 2, 0) -1 0\n",
      "wtf (1, 3, 1) 3\n",
      "(8, 3, 1, 1, 2, 1) -1 -1\n",
      "wtf (1, 9, 1) 3\n",
      "O\n",
      "(8, 3, 1, 1, 1, 0) -1 0\n",
      "wtf (1, 3, 1) 3\n",
      "(8, 3, 1, 1, 2, 0) -1 0\n",
      "wtf (1, 3, 1) 3\n",
      "(8, 3, 1, 1, 2, 1) -1 -1\n",
      "wtf (1, 9, 1) 3\n",
      "O\n",
      "(8, 3, 2, 8, 1, 0) -2 0\n",
      "wtf (1, 5, 1) 3\n",
      "(8, 3, 2, 8, 2, 0) -2 0\n",
      "wtf (1, 5, 1) 3\n",
      "(8, 3, 2, 8, 3, 0) -2 0\n",
      "wtf (1, 5, 1) 3\n",
      "(8, 3, 2, 8, 2, 1) -2 -1\n",
      "wtf (1, 15, 1) 3\n",
      "(8, 3, 2, 8, 3, 1) -2 -1\n",
      "wtf (1, 15, 1) 3\n",
      "(8, 3, 2, 8, 3, 2) -2 -2\n",
      "wtf (1, 25, 1) 3\n",
      "O\n",
      "(8, 3, 2, 1, 1, 0) -2 0\n",
      "wtf (1, 5, 1) 3\n",
      "(8, 3, 2, 1, 2, 0) -2 0\n",
      "wtf (1, 5, 1) 3\n",
      "(8, 3, 2, 1, 2, 1) -2 -1\n",
      "wtf (1, 15, 1) 3\n",
      "O\n",
      "(8, 3, 2, 1, 1, 0) -2 0\n",
      "wtf (1, 5, 1) 3\n",
      "(8, 3, 2, 1, 2, 0) -2 0\n",
      "wtf (1, 5, 1) 3\n",
      "(8, 3, 2, 1, 2, 1) -2 -1\n",
      "wtf (1, 15, 1) 3\n",
      "H\n",
      "(1, 1, 0, 1, 1, 0) 0 0\n",
      "wtf (1, 1, 1) 3\n",
      "(1, 1, 0, 1, 2, 0) 0 0\n",
      "wtf (1, 1, 1) 3\n",
      "(1, 1, 0, 1, 2, 1) 0 -1\n",
      "wtf (1, 3, 1) 3\n",
      "H\n",
      "(1, 1, 0, 1, 1, 0) 0 0\n",
      "wtf (1, 1, 1) 3\n",
      "(1, 1, 0, 1, 2, 0) 0 0\n",
      "wtf (1, 1, 1) 3\n",
      "(1, 1, 0, 1, 2, 1) 0 -1\n",
      "wtf (1, 3, 1) 3\n",
      "H\n",
      "(1, 2, 0, 1, 1, 0) 0 0\n",
      "wtf (1, 1, 1) 3\n",
      "(1, 2, 0, 1, 2, 0) 0 0\n",
      "wtf (1, 1, 1) 3\n",
      "(1, 2, 0, 1, 2, 1) 0 -1\n",
      "wtf (1, 3, 1) 3\n",
      "H\n",
      "(1, 2, 0, 1, 1, 0) 0 0\n",
      "wtf (1, 1, 1) 3\n",
      "(1, 2, 0, 1, 2, 0) 0 0\n",
      "wtf (1, 1, 1) 3\n",
      "(1, 2, 0, 1, 2, 1) 0 -1\n",
      "wtf (1, 3, 1) 3\n",
      "H\n",
      "(1, 2, 1, 1, 1, 0) -1 0\n",
      "wtf (1, 3, 1) 3\n",
      "(1, 2, 1, 1, 2, 0) -1 0\n",
      "wtf (1, 3, 1) 3\n",
      "(1, 2, 1, 1, 2, 1) -1 -1\n",
      "wtf (1, 9, 1) 3\n",
      "H\n",
      "(1, 2, 1, 1, 1, 0) -1 0\n",
      "wtf (1, 3, 1) 3\n",
      "(1, 2, 1, 1, 2, 0) -1 0\n",
      "wtf (1, 3, 1) 3\n",
      "(1, 2, 1, 1, 2, 1) -1 -1\n",
      "wtf (1, 9, 1) 3\n",
      "H\n",
      "(1, 1, 0, 1, 1, 0) 0 0\n",
      "wtf (1, 1, 1) 3\n",
      "(1, 1, 0, 1, 2, 0) 0 0\n",
      "wtf (1, 1, 1) 3\n",
      "(1, 1, 0, 1, 2, 1) 0 -1\n",
      "wtf (1, 3, 1) 3\n",
      "H\n",
      "(1, 2, 0, 1, 1, 0) 0 0\n",
      "wtf (1, 1, 1) 3\n",
      "(1, 2, 0, 1, 2, 0) 0 0\n",
      "wtf (1, 1, 1) 3\n",
      "(1, 2, 0, 1, 2, 1) 0 -1\n",
      "wtf (1, 3, 1) 3\n",
      "H\n",
      "(1, 2, 1, 1, 1, 0) -1 0\n",
      "wtf (1, 3, 1) 3\n",
      "(1, 2, 1, 1, 2, 0) -1 0\n",
      "wtf (1, 3, 1) 3\n",
      "(1, 2, 1, 1, 2, 1) -1 -1\n",
      "wtf (1, 9, 1) 3\n"
     ]
    }
   ],
   "source": [
    "ki, kj = 0, 0\n",
    "ham_builder = DescriptorBuilder([\"a1\", \"n1\", \"l1\", \"a2\", \"n2\", \"l2\"], [\"structure\", \"atom_i\", \"atom_j\"], [\"m1\", \"m2\"], [\"hamiltonian\"])\n",
    "zdic = {\"O\": 8, \"H\": 1}\n",
    "for i, fi in enumerate(frames[0].symbols):\n",
    "    ai = zdic[fi]\n",
    "    for ni, li, mi in orbs[fi]:\n",
    "        kj = 0\n",
    "        if mi != -li:\n",
    "            continue\n",
    "        for j, fj in enumerate(frames[0].symbols):\n",
    "            if i>j:\n",
    "                continue\n",
    "            aj = zdic[fj]\n",
    "            print(fi)        \n",
    "            for nj, lj, mj in orbs[fj]:                \n",
    "                if mj != -lj:\n",
    "                    continue\n",
    "                block_idx = (ai, ni, li, aj, nj, lj)\n",
    "                if block_idx not in ham_builder.blocks:\n",
    "                    block = ham_builder.add_block(sparse=block_idx, features=np.asarray([[0]], dtype=np.int32), \n",
    "                        components=np.asarray(list(product(range(-li,li+1), range(-lj,lj+1)) ), dtype=np.int32 ) )\n",
    "                else:\n",
    "                    block = ham_builder.blocks[block_idx]\n",
    "                print(block_idx, mi, mj)\n",
    "                block.add_samples( labels=[( 0, i, j )], data=np.asarray(ham[0][ki:ki+2*li+1, kj:kj+2*lj+1]).reshape(1, -1, 1) )\n",
    "                kj += 2*lj+1\n",
    "        ki += 2*li+1\n",
    "ham_et = ham_builder.build()        \n",
    "\n",
    "\n",
    "\n",
    "\n"
   ]
  },
  {
   "cell_type": "code",
   "execution_count": 17,
   "metadata": {},
   "outputs": [
    {
     "data": {
      "text/plain": [
       "Labels([8, 8, 8, 8, 8, 8, 8, 8, 8, 8, 8, 8, 8, 8, 8, 8, 8, 8, 8, 8, 8, 8,\n",
       "        8, 8, 8, 8, 8, 8, 8, 8, 8, 8, 8, 8, 8, 8, 8, 8, 8, 8, 8, 8, 8, 8,\n",
       "        8, 8, 8, 8, 8, 8, 8, 8, 8, 8, 1, 1, 1, 1, 1, 1, 1, 1, 1],\n",
       "       dtype=int32)"
      ]
     },
     "execution_count": 17,
     "metadata": {},
     "output_type": "execute_result"
    }
   ],
   "source": [
    "ham_et.sparse[\"a1\"]"
   ]
  },
  {
   "cell_type": "code",
   "execution_count": 13,
   "metadata": {},
   "outputs": [
    {
     "data": {
      "text/plain": [
       "array([[[-20.534034434156133]]], dtype=object)"
      ]
     },
     "execution_count": 13,
     "metadata": {},
     "output_type": "execute_result"
    }
   ],
   "source": [
    "ham_et.block(0).values"
   ]
  }
 ],
 "metadata": {
  "interpreter": {
   "hash": "e5b9818494c5e2e4b1f356a8c3298778da7fbcf7ee16e565b1a5192ca7e31aaa"
  },
  "kernelspec": {
   "display_name": "Python 3",
   "language": "python",
   "name": "python3"
  },
  "language_info": {
   "codemirror_mode": {
    "name": "ipython",
    "version": 3
   },
   "file_extension": ".py",
   "mimetype": "text/x-python",
   "name": "python",
   "nbconvert_exporter": "python",
   "pygments_lexer": "ipython3",
   "version": "3.8.10"
  },
  "toc": {
   "base_numbering": 1,
   "nav_menu": {},
   "number_sections": true,
   "sideBar": true,
   "skip_h1_title": false,
   "title_cell": "Table of Contents",
   "title_sidebar": "Contents",
   "toc_cell": false,
   "toc_position": {},
   "toc_section_display": true,
   "toc_window_display": false
  }
 },
 "nbformat": 4,
 "nbformat_minor": 2
}
