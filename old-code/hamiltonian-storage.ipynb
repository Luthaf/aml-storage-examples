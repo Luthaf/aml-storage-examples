{
 "cells": [
  {
   "cell_type": "code",
   "execution_count": 1,
   "metadata": {},
   "outputs": [],
   "source": [
    "%load_ext autoreload\n",
    "%autoreload 2"
   ]
  },
  {
   "cell_type": "code",
   "execution_count": 2,
   "metadata": {},
   "outputs": [
    {
     "ename": "ModuleNotFoundError",
     "evalue": "No module named 'aml_storage'",
     "output_type": "error",
     "traceback": [
      "\u001b[0;31m---------------------------------------------------------------------------\u001b[0m",
      "\u001b[0;31mModuleNotFoundError\u001b[0m                       Traceback (most recent call last)",
      "\u001b[1;32m/Users/guillaume/code/equistore-examples/hamiltonian-storage.ipynb Cell 2'\u001b[0m in \u001b[0;36m<cell line: 5>\u001b[0;34m()\u001b[0m\n\u001b[1;32m      <a href='vscode-notebook-cell:/Users/guillaume/code/equistore-examples/hamiltonian-storage.ipynb#ch0000001?line=2'>3</a>\u001b[0m \u001b[39mfrom\u001b[39;00m \u001b[39mequistore\u001b[39;00m \u001b[39mimport\u001b[39;00m Labels, TensorBlock, TensorMap\n\u001b[1;32m      <a href='vscode-notebook-cell:/Users/guillaume/code/equistore-examples/hamiltonian-storage.ipynb#ch0000001?line=3'>4</a>\u001b[0m \u001b[39mfrom\u001b[39;00m \u001b[39mutils\u001b[39;00m\u001b[39m.\u001b[39;00m\u001b[39mbuilder\u001b[39;00m \u001b[39mimport\u001b[39;00m TensorBuilder\n\u001b[0;32m----> <a href='vscode-notebook-cell:/Users/guillaume/code/equistore-examples/hamiltonian-storage.ipynb#ch0000001?line=4'>5</a>\u001b[0m \u001b[39mfrom\u001b[39;00m \u001b[39mutils\u001b[39;00m\u001b[39m.\u001b[39;00m\u001b[39macdc\u001b[39;00m \u001b[39mimport\u001b[39;00m cg_combine\n\u001b[1;32m      <a href='vscode-notebook-cell:/Users/guillaume/code/equistore-examples/hamiltonian-storage.ipynb#ch0000001?line=5'>6</a>\u001b[0m \u001b[39mimport\u001b[39;00m \u001b[39mase\u001b[39;00m\u001b[39m.\u001b[39;00m\u001b[39mio\u001b[39;00m\n\u001b[1;32m      <a href='vscode-notebook-cell:/Users/guillaume/code/equistore-examples/hamiltonian-storage.ipynb#ch0000001?line=6'>7</a>\u001b[0m \u001b[39mfrom\u001b[39;00m \u001b[39mitertools\u001b[39;00m \u001b[39mimport\u001b[39;00m product\n",
      "File \u001b[0;32m~/code/equistore-examples/utils/acdc.py:2\u001b[0m, in \u001b[0;36m<module>\u001b[0;34m\u001b[0m\n\u001b[1;32m      1\u001b[0m \u001b[39mimport\u001b[39;00m \u001b[39mnumpy\u001b[39;00m \u001b[39mas\u001b[39;00m \u001b[39mnp\u001b[39;00m\n\u001b[0;32m----> 2\u001b[0m \u001b[39mfrom\u001b[39;00m \u001b[39maml_storage\u001b[39;00m \u001b[39mimport\u001b[39;00m Labels, Block, Descriptor\n\u001b[1;32m      4\u001b[0m \u001b[39mfrom\u001b[39;00m \u001b[39mutils\u001b[39;00m\u001b[39m.\u001b[39;00m\u001b[39mbuilder\u001b[39;00m \u001b[39mimport\u001b[39;00m TensorBuilder\n\u001b[1;32m      5\u001b[0m \u001b[39mfrom\u001b[39;00m \u001b[39mutils\u001b[39;00m\u001b[39m.\u001b[39;00m\u001b[39mclebsh_gordan\u001b[39;00m \u001b[39mimport\u001b[39;00m ClebschGordanReal\n",
      "\u001b[0;31mModuleNotFoundError\u001b[0m: No module named 'aml_storage'"
     ]
    }
   ],
   "source": [
    "import numpy as np\n",
    "import json\n",
    "from equistore import Labels, TensorBlock, TensorMap\n",
    "from utils.builder import TensorBuilder\n",
    "from utils.acdc import cg_combine\n",
    "import ase.io\n",
    "from itertools import product\n",
    "from utils.clebsh_gordan import ClebschGordanReal\n",
    "from utils.hamiltonians import fix_pyscf_l1, dense_to_blocks, blocks_to_dense, couple_blocks, decouple_blocks\n",
    "import matplotlib.pyplot as plt\n",
    "from utils.librascal import  RascalSphericalExpansion, RascalPairExpansion"
   ]
  },
  {
   "cell_type": "code",
   "execution_count": null,
   "metadata": {},
   "outputs": [],
   "source": [
    "frames = ase.io.read(\"data/hamiltonian/water-hamiltonian/water_coords_1000.xyz\",\":\")\n",
    "for f in frames:\n",
    "    f.cell = [100,100,100]\n",
    "    f.positions += 50"
   ]
  },
  {
   "cell_type": "code",
   "execution_count": null,
   "metadata": {},
   "outputs": [],
   "source": [
    "jorbs = json.load(open('data/hamiltonian/water-hamiltonian/orbs_def2_water.json', \"r\"))\n",
    "orbs = {}\n",
    "zdic = {\"O\" : 8, \"H\":1}\n",
    "for k in jorbs:\n",
    "    orbs[zdic[k]] = jorbs[k]"
   ]
  },
  {
   "cell_type": "code",
   "execution_count": null,
   "metadata": {},
   "outputs": [],
   "source": [
    "hams = np.load(\"data/hamiltonian/water-hamiltonian/water_fock.npy\", allow_pickle=True)\n",
    "for i, f in enumerate(frames):\n",
    "    hams[i] = fix_pyscf_l1(hams[i], f, orbs)"
   ]
  },
  {
   "cell_type": "code",
   "execution_count": null,
   "metadata": {},
   "outputs": [],
   "source": [
    "blocks = dense_to_blocks(hams, frames, orbs)"
   ]
  },
  {
   "cell_type": "code",
   "execution_count": null,
   "metadata": {},
   "outputs": [
    {
     "data": {
      "text/plain": [
       "Labels([( 0, 8, 1, 0, 8, 1, 0), ( 0, 8, 1, 0, 8, 2, 0),\n",
       "        ( 0, 8, 1, 0, 8, 3, 0), ( 0, 8, 1, 0, 8, 2, 1),\n",
       "        ( 0, 8, 1, 0, 8, 3, 1), ( 0, 8, 1, 0, 8, 3, 2),\n",
       "        ( 0, 8, 2, 0, 8, 2, 0), ( 0, 8, 2, 0, 8, 3, 0),\n",
       "        ( 0, 8, 2, 0, 8, 2, 1), ( 0, 8, 2, 0, 8, 3, 1),\n",
       "        ( 0, 8, 2, 0, 8, 3, 2), ( 0, 8, 3, 0, 8, 3, 0),\n",
       "        ( 0, 8, 3, 0, 8, 3, 1), ( 0, 8, 3, 0, 8, 3, 2),\n",
       "        ( 0, 8, 2, 1, 8, 3, 0), ( 0, 8, 2, 1, 8, 2, 1),\n",
       "        ( 0, 8, 2, 1, 8, 3, 1), ( 0, 8, 2, 1, 8, 3, 2),\n",
       "        ( 0, 8, 3, 1, 8, 3, 1), ( 0, 8, 3, 1, 8, 3, 2),\n",
       "        ( 0, 8, 3, 2, 8, 3, 2), ( 2, 1, 1, 0, 8, 1, 0),\n",
       "        ( 2, 1, 1, 0, 8, 2, 0), ( 2, 1, 1, 0, 8, 3, 0),\n",
       "        ( 2, 1, 1, 0, 8, 2, 1), ( 2, 1, 1, 0, 8, 3, 1),\n",
       "        ( 2, 1, 1, 0, 8, 3, 2), ( 2, 1, 2, 0, 8, 1, 0),\n",
       "        ( 2, 1, 2, 0, 8, 2, 0), ( 2, 1, 2, 0, 8, 3, 0),\n",
       "        ( 2, 1, 2, 0, 8, 2, 1), ( 2, 1, 2, 0, 8, 3, 1),\n",
       "        ( 2, 1, 2, 0, 8, 3, 2), ( 2, 1, 2, 1, 8, 1, 0),\n",
       "        ( 2, 1, 2, 1, 8, 2, 0), ( 2, 1, 2, 1, 8, 3, 0),\n",
       "        ( 2, 1, 2, 1, 8, 2, 1), ( 2, 1, 2, 1, 8, 3, 1),\n",
       "        ( 2, 1, 2, 1, 8, 3, 2), ( 0, 1, 1, 0, 1, 1, 0),\n",
       "        ( 0, 1, 1, 0, 1, 2, 0), ( 0, 1, 1, 0, 1, 2, 1),\n",
       "        ( 0, 1, 2, 0, 1, 2, 0), ( 0, 1, 2, 0, 1, 2, 1),\n",
       "        ( 0, 1, 2, 1, 1, 2, 1), ( 1, 1, 1, 0, 1, 1, 0),\n",
       "        (-1, 1, 1, 0, 1, 1, 0), ( 1, 1, 1, 0, 1, 2, 0),\n",
       "        (-1, 1, 1, 0, 1, 2, 0), ( 1, 1, 1, 0, 1, 2, 1),\n",
       "        (-1, 1, 1, 0, 1, 2, 1), ( 1, 1, 2, 0, 1, 2, 0),\n",
       "        (-1, 1, 2, 0, 1, 2, 0), ( 1, 1, 2, 0, 1, 2, 1),\n",
       "        (-1, 1, 2, 0, 1, 2, 1), ( 1, 1, 2, 1, 1, 2, 1),\n",
       "        (-1, 1, 2, 1, 1, 2, 1)],\n",
       "       dtype=[('block_type', '<i4'), ('a_i', '<i4'), ('n_i', '<i4'), ('l_i', '<i4'), ('a_j', '<i4'), ('n_j', '<i4'), ('l_j', '<i4')])"
      ]
     },
     "execution_count": 7,
     "metadata": {},
     "output_type": "execute_result"
    }
   ],
   "source": [
    "blocks.keys"
   ]
  },
  {
   "cell_type": "code",
   "execution_count": null,
   "metadata": {},
   "outputs": [],
   "source": [
    "cg = ClebschGordanReal(4)"
   ]
  },
  {
   "cell_type": "code",
   "execution_count": null,
   "metadata": {},
   "outputs": [],
   "source": [
    "coupled = couple_blocks(blocks, cg)"
   ]
  },
  {
   "cell_type": "code",
   "execution_count": null,
   "metadata": {},
   "outputs": [],
   "source": [
    "decoupled = decouple_blocks(coupled, cg)"
   ]
  },
  {
   "cell_type": "code",
   "execution_count": null,
   "metadata": {},
   "outputs": [],
   "source": [
    "dense = blocks_to_dense(decoupled, frames, orbs)"
   ]
  },
  {
   "cell_type": "code",
   "execution_count": null,
   "metadata": {},
   "outputs": [
    {
     "data": {
      "text/plain": [
       "4.944143975439669e-15"
      ]
     },
     "execution_count": 12,
     "metadata": {},
     "output_type": "execute_result"
    }
   ],
   "source": [
    "np.linalg.norm(dense[10] - hams[10])"
   ]
  },
  {
   "cell_type": "code",
   "execution_count": null,
   "metadata": {},
   "outputs": [],
   "source": [
    "rascal_hypers = {\n",
    "    \"interaction_cutoff\": 3.5,\n",
    "    \"cutoff_smooth_width\": 0.5,\n",
    "    \"max_radial\": 3,\n",
    "    \"max_angular\": 2,\n",
    "    \"gaussian_sigma_type\": \"Constant\",\n",
    "    \"compute_gradients\":  False,\n",
    "}"
   ]
  },
  {
   "cell_type": "code",
   "execution_count": null,
   "metadata": {},
   "outputs": [],
   "source": [
    "spex = RascalSphericalExpansion(rascal_hypers)\n",
    "pairs = RascalPairExpansion(rascal_hypers)"
   ]
  },
  {
   "cell_type": "code",
   "execution_count": null,
   "metadata": {},
   "outputs": [],
   "source": [
    "rhoi = spex.compute(frames)\n",
    "gij = pairs.compute(frames)"
   ]
  },
  {
   "cell_type": "code",
   "execution_count": null,
   "metadata": {},
   "outputs": [
    {
     "data": {
      "text/plain": [
       "Labels([(0, 1, 1), (0, 1, 8), (0, 8, 1), (0, 8, 8), (1, 1, 1), (1, 1, 8),\n",
       "        (1, 8, 1), (1, 8, 8), (2, 1, 1), (2, 1, 8), (2, 8, 1), (2, 8, 8)],\n",
       "       dtype=[('spherical_harmonics_l', '<i4'), ('species_center', '<i4'), ('species_neighbor', '<i4')])"
      ]
     },
     "execution_count": 16,
     "metadata": {},
     "output_type": "execute_result"
    }
   ],
   "source": [
    "rhoi.keys"
   ]
  },
  {
   "cell_type": "code",
   "execution_count": null,
   "metadata": {},
   "outputs": [
    {
     "data": {
      "text/plain": [
       "Labels([(  0, 0, 0), (  0, 0, 1), (  0, 0, 2), ..., (999, 2, 0),\n",
       "        (999, 2, 1), (999, 2, 2)],\n",
       "       dtype=[('structure', '<i4'), ('center_i', '<i4'), ('center_j', '<i4')])"
      ]
     },
     "execution_count": 17,
     "metadata": {},
     "output_type": "execute_result"
    }
   ],
   "source": [
    "gij.block(2).samples"
   ]
  },
  {
   "cell_type": "code",
   "execution_count": null,
   "metadata": {},
   "outputs": [
    {
     "data": {
      "text/plain": [
       "Labels([(0,), (1,), (2,)], dtype=[('n', '<i4')])"
      ]
     },
     "execution_count": 18,
     "metadata": {},
     "output_type": "execute_result"
    }
   ],
   "source": [
    "rhoi.block(spherical_harmonics_l=1, species_center=8, species_neighbor=8).properties#values.shape"
   ]
  },
  {
   "cell_type": "code",
   "execution_count": null,
   "metadata": {},
   "outputs": [],
   "source": [
    "for idx, block in coupled:\n",
    "    btype, ai, ni, li, aj, nj, lj, L = tuple(idx)\n",
    "    if np.abs(btype) == 0:\n",
    "        if (np.linalg.norm(block.values) < 1e-10):\n",
    "            print(btype, ni, nj, li, lj, (-1)**(li+lj+L), np.linalg.norm(block.values))"
   ]
  },
  {
   "cell_type": "code",
   "execution_count": null,
   "metadata": {},
   "outputs": [],
   "source": [
    "ki, kj = 0, 0\n",
    "ham_builder = TensorBuilder([\"a1\", \"n1\", \"l1\", \"a2\", \"n2\", \"l2\"], [\"structure\", \"atom_i\", \"atom_j\"], [[\"m1\"], [\"m2\"]], [\"hamiltonian\"])\n",
    "zdic = {\"O\": 8, \"H\": 1}\n",
    "for A in range(len(frames)):\n",
    "    frame = frames[A]\n",
    "    ham = hams[A]\n",
    "    ki = 0\n",
    "    for i, fi in enumerate(frame.symbols):\n",
    "        ai = zdic[fi]\n",
    "        for ni, li, mi in jorbs[fi]:\n",
    "            kj = 0\n",
    "            if mi != -li:\n",
    "                continue\n",
    "            for j, fj in enumerate(frame.symbols):\n",
    "                if i>j:\n",
    "                    continue\n",
    "                aj = zdic[fj]\n",
    "                for nj, lj, mj in jorbs[fj]:                \n",
    "                    if mj != -lj:\n",
    "                        continue\n",
    "                    block_idx = (ai, ni, li, aj, nj, lj)\n",
    "                    if block_idx not in ham_builder.blocks:\n",
    "                        block = ham_builder.add_block(keys=block_idx,properties=np.asarray([[0]],dtype=np.int32), \n",
    "                            components=[np.asarray(list(product(range(-li,li+1)) ), dtype=np.int32 ),\n",
    "                                        np.asarray(list(product(range(-lj,lj+1)) ), dtype=np.int32 )] )                                                    \n",
    "                    else:\n",
    "                        block = ham_builder.blocks[block_idx]\n",
    "                    \n",
    "                    block.add_samples(labels=[(A,i,j)], \n",
    "                                      data=np.asarray(ham[ki:ki+2*li+1, kj:kj+2*lj+1]).reshape((1,2*li+1,2*lj+1,1)))\n",
    "\n",
    "                    kj += 2*lj+1\n",
    "            ki += 2*li+1\n",
    "ham_et = ham_builder.build()"
   ]
  },
  {
   "cell_type": "code",
   "execution_count": null,
   "metadata": {},
   "outputs": [],
   "source": [
    "ki, kj = 0, 0\n",
    "ham_builder = TensorBuilder([\"block_type\", \"a1\", \"n1\", \"l1\", \"a2\", \"n2\", \"l2\"], [\"structure\", \"atom_i\", \"atom_j\", \"ki_base\", \"kj_base\"], [[\"m1\"], [\"m2\"]], [\"hamiltonian\"])\n",
    "zdic = {\"O\": 8, \"H\": 1}\n",
    "for A in range(len(frames)):\n",
    "    frame = frames[A]\n",
    "    ham = hams[A]\n",
    "    ki = 0\n",
    "    for i, fi in enumerate(frame.symbols):\n",
    "        ai = zdic[fi]\n",
    "        ki_base = ki # pointer at where the i-atom block starts\n",
    "        for ni, li, mi in jorbs[fi]:\n",
    "            kj = 0\n",
    "            if mi != -li:\n",
    "                continue\n",
    "            for j, fj in enumerate(frame.symbols):\n",
    "                if i<j: # operate only on the lower-triangular block\n",
    "                    continue                    \n",
    "                aj = zdic[fj]\n",
    "                if i==j:\n",
    "                    block_type = 0  # diagonal\n",
    "                elif ai==aj:\n",
    "                    block_type = 1  # same-species\n",
    "                else:\n",
    "                    block_type = 2  # different species\n",
    "                kj_base = kj # pointer at where the j-atom block starts\n",
    "                for nj, lj, mj in jorbs[fj]:                \n",
    "                    if mj != -lj:\n",
    "                        continue\n",
    "                    block_idx = (block_type, ai, ni, li, aj, nj, lj)\n",
    "                    if block_idx not in ham_builder.blocks:\n",
    "                        block = ham_builder.add_block(keys=block_idx, properties=np.asarray([[0]], dtype=np.int32), \n",
    "                             components=[np.asarray(list(product(range(-li,li+1)) ), dtype=np.int32 ),\n",
    "                                        np.asarray(list(product(range(-lj,lj+1)) ), dtype=np.int32 )])                                                    \n",
    "                        if block_type == 1:\n",
    "                            block_asym = ham_builder.add_block(keys=(-1,)+block_idx[1:], properties=np.asarray([[0]], dtype=np.int32), \n",
    "                            components=[np.asarray(list(product(range(-li,li+1)) ), dtype=np.int32 ),\n",
    "                                        np.asarray(list(product(range(-lj,lj+1)) ), dtype=np.int32 )])                                                    \n",
    "                    else:                        \n",
    "                        block = ham_builder.blocks[block_idx]\n",
    "                        if block_type == 1:\n",
    "                            block_asym = ham_builder.blocks[(-1,)+block_idx[1:]]\n",
    "                    \n",
    "                    block_data_ij = np.asarray(ham[ki:ki+2*li+1, kj:kj+2*lj+1])\n",
    "\n",
    "                    if block_type == 1:\n",
    "                        kj_offset = kj-kj_base\n",
    "                        ki_offset = ki-ki_base\n",
    "                        block_data_ji = np.asarray(ham[kj_base+ki_offset:kj_base+ki_offset+2*li+1, ki_base+kj_offset:ki_base+kj_offset+2*lj+1])                        \n",
    "                        block.add_samples(labels=[(A,i,j, ki_base, kj_base)], data=(block_data_ij+block_data_ji).reshape((1,2*li+1,2*lj+1,1))/np.sqrt(2) )\n",
    "                        block_asym.add_samples(labels=[(A,i,j,ki_base, kj_base)], data=(block_data_ij-block_data_ji).reshape((1,2*li+1,2*lj+1,1))/np.sqrt(2) )\n",
    "                    else:\n",
    "                        block.add_samples(labels=[(A,i,j,ki_base, kj_base)], data=block_data_ij.reshape((1,2*li+1,2*lj+1,1)))                    \n",
    "                    kj += 2*lj+1\n",
    "            ki += 2*li+1\n",
    "ham_et = ham_builder.build()"
   ]
  },
  {
   "cell_type": "code",
   "execution_count": null,
   "metadata": {},
   "outputs": [
    {
     "data": {
      "text/plain": [
       "4.944143975439669e-15"
      ]
     },
     "execution_count": 22,
     "metadata": {},
     "output_type": "execute_result"
    }
   ],
   "source": [
    "np.linalg.norm(dense[10] - hams[10])"
   ]
  },
  {
   "cell_type": "code",
   "execution_count": null,
   "metadata": {},
   "outputs": [],
   "source": [
    "dense = []\n",
    "zdic = {8:\"O\", 1:\"H\"}\n",
    "for f in frames:\n",
    "    norbs = 0\n",
    "    for ai in f.symbols:        \n",
    "        norbs += len(jorbs[ai])\n",
    "    ham = np.zeros((norbs, norbs), dtype=np.float64)\n",
    "    dense.append(ham)\n",
    "\n",
    "for idx, block in ham_et:\n",
    "    cur_A = -1\n",
    "    block_type, ai, ni, li, aj, nj, lj = tuple(idx)\n",
    "    fi = zdic[ai]\n",
    "    fj = zdic[aj]\n",
    "    ki_offset = 0\n",
    "    for no, lo, mo in jorbs[fi]:        \n",
    "        if no == ni and lo == li:\n",
    "            break\n",
    "        ki_offset += 1\n",
    "    kj_offset = 0\n",
    "    for no, lo, mo in jorbs[fj]:        \n",
    "        if no == nj and lo == lj:\n",
    "            break\n",
    "        kj_offset += 1\n",
    "    for (A,i,j,ki_base,kj_base), block_data in zip(block.samples, block.values):\n",
    "        if A != cur_A:\n",
    "            ham = dense[A]\n",
    "            cur_A = A\n",
    "        if block_type == 0:\n",
    "            ham[ki_base+ki_offset:ki_base+ki_offset+2*li+1, kj_base+kj_offset:kj_base+kj_offset+2*lj+1] = block_data[:,:,0].reshape(2*li+1,2*lj+1)\n",
    "        elif block_type == 2:\n",
    "            ham[ki_base+ki_offset:ki_base+ki_offset+2*li+1, kj_base+kj_offset:kj_base+kj_offset+2*lj+1] = block_data[:,:,0].reshape(2*li+1,2*lj+1)\n",
    "            ham[kj_base+kj_offset:kj_base+kj_offset+2*lj+1, ki_base+ki_offset:ki_base+ki_offset+2*li+1] = block_data[:,:,0].reshape(2*li+1,2*lj+1).T\n",
    "        elif block_type == 1:\n",
    "            ham[ki_base+ki_offset:ki_base+ki_offset+2*li+1, kj_base+kj_offset:kj_base+kj_offset+2*lj+1] += np.asarray(block_data[:,:,0].reshape(2*li+1,2*lj+1)  / np.sqrt(2), dtype=np.float64)\n",
    "            ham[kj_base+ki_offset:kj_base+ki_offset+2*li+1, ki_base+kj_offset:ki_base+kj_offset+2*lj+1] += np.asarray(block_data[:,:,0].reshape(2*li+1,2*lj+1) / np.sqrt(2), dtype=np.float64)\n",
    "        elif block_type == -1:\n",
    "            ham[ki_base+ki_offset:ki_base+ki_offset+2*li+1, kj_base+kj_offset:kj_base+kj_offset+2*lj+1] += np.asarray(block_data[:,:,0].reshape(2*li+1,2*lj+1) / np.sqrt(2), dtype=np.float64)\n",
    "            ham[kj_base+ki_offset:kj_base+ki_offset+2*li+1, ki_base+kj_offset:ki_base+kj_offset+2*lj+1] -= np.asarray(block_data[:,:,0].reshape(2*li+1,2*lj+1) / np.sqrt(2), dtype=np.float64)\n",
    "        \n",
    "\n"
   ]
  },
  {
   "cell_type": "code",
   "execution_count": null,
   "metadata": {},
   "outputs": [
    {
     "data": {
      "text/plain": [
       "2.8031757299712627e-16"
      ]
     },
     "execution_count": 24,
     "metadata": {},
     "output_type": "execute_result"
    }
   ],
   "source": [
    "np.linalg.norm(dense[10] - hams[10])"
   ]
  },
  {
   "cell_type": "code",
   "execution_count": null,
   "metadata": {},
   "outputs": [],
   "source": []
  }
 ],
 "metadata": {
  "kernelspec": {
   "display_name": "Python 3.10.0 ('virtualenv': venv)",
   "language": "python",
   "name": "python3"
  },
  "language_info": {
   "codemirror_mode": {
    "name": "ipython",
    "version": 3
   },
   "file_extension": ".py",
   "mimetype": "text/x-python",
   "name": "python",
   "nbconvert_exporter": "python",
   "pygments_lexer": "ipython3",
   "version": "3.10.0"
  },
  "toc": {
   "base_numbering": 1,
   "nav_menu": {},
   "number_sections": true,
   "sideBar": true,
   "skip_h1_title": false,
   "title_cell": "Table of Contents",
   "title_sidebar": "Contents",
   "toc_cell": false,
   "toc_position": {},
   "toc_section_display": true,
   "toc_window_display": false
  },
  "vscode": {
   "interpreter": {
    "hash": "9b1dab49005db54eeaf19407b770a132388229704ecb91b436b854691f0d31ef"
   }
  }
 },
 "nbformat": 4,
 "nbformat_minor": 2
}
