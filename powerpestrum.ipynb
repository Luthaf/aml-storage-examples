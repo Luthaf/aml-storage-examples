{
 "cells": [
  {
   "cell_type": "code",
   "execution_count": 1,
   "metadata": {},
   "outputs": [],
   "source": [
    "%load_ext autoreload\n",
    "%autoreload 2"
   ]
  },
  {
   "cell_type": "code",
   "execution_count": 2,
   "metadata": {},
   "outputs": [],
   "source": [
    "from rascaline import SoapPowerSpectrum, SphericalExpansion\n",
    "from utils.models.soap import compute_power_spectrum\n",
    "import ase.io\n",
    "import numpy as np\n",
    "import copy\n",
    "from equistore import Labels, TensorBlock, TensorMap"
   ]
  },
  {
   "cell_type": "code",
   "execution_count": 3,
   "metadata": {},
   "outputs": [
    {
     "data": {
      "text/plain": [
       "['O', 'C', 'C', 'C', 'H', 'H', 'H', 'H', 'H', 'H']"
      ]
     },
     "execution_count": 3,
     "metadata": {},
     "output_type": "execute_result"
    }
   ],
   "source": [
    "frames = ase.io.read(\"data/molecule_conformers_dftb.xyz\", \":2\")\n",
    "frames[0].get_chemical_symbols()"
   ]
  },
  {
   "cell_type": "code",
   "execution_count": 4,
   "metadata": {},
   "outputs": [],
   "source": [
    "def selected_samples(frames, hypers):\n",
    "    \"\"\"Create a list of selected samples so that all blocks have the same set \n",
    "    of samples for simpler implementation of compute_power_spectrum\"\"\"\n",
    "    if not isinstance(frames, list):\n",
    "        frames = [frames]\n",
    "        \n",
    "    all_species = set()\n",
    "    for frame in frames:\n",
    "        all_species.update(frame.numbers)\n",
    "\n",
    "    keys = Labels(\n",
    "        names=[\"spherical_harmonics_l\", \"species_center\", \"species_neighbor\"],\n",
    "        values=np.array([\n",
    "            [l, s_c, s_n] \n",
    "            for l in range(hypers[\"max_angular\"] + 1)\n",
    "            for s_c in all_species\n",
    "            for s_n in all_species\n",
    "        ], dtype=np.int32)\n",
    "    )\n",
    "    blocks = []\n",
    "    for _ in range(len(keys)):\n",
    "        samples = Labels(\n",
    "            names=[\"structure\", \"center\"],\n",
    "            values=np.array([\n",
    "                [s, c] \n",
    "                for s in range(len(frames))\n",
    "                for c in range(len(frames[s]))\n",
    "            ], dtype=np.int32)\n",
    "        )\n",
    "        \n",
    "        blocks.append(TensorBlock(\n",
    "            values=np.empty((len(samples), 1)),\n",
    "            samples=samples, \n",
    "            components=[],\n",
    "            properties=Labels.single()\n",
    "        ))\n",
    "        \n",
    "    return TensorMap(keys, blocks)"
   ]
  },
  {
   "cell_type": "code",
   "execution_count": 6,
   "metadata": {},
   "outputs": [
    {
     "name": "stdout",
     "output_type": "stream",
     "text": [
      "ps has 18 blocks\n",
      "ps_rascaline has 18 blocks\n"
     ]
    },
    {
     "name": "stderr",
     "output_type": "stream",
     "text": [
      "/opt/homebrew/lib/python3.10/site-packages/rascaline/systems/ase.py:57: UserWarning: periodic boundary conditions are disabled, but the cell matrix is not zero, we will set the cell to zero.\n",
      "  warnings.warn(\n"
     ]
    }
   ],
   "source": [
    "HYPER_PARAMETERS = {\n",
    "    \"cutoff\": 3,\n",
    "    \"max_radial\": 6,\n",
    "    \"max_angular\": 4,\n",
    "    \"atomic_gaussian_width\": 0.3,\n",
    "    \"center_atom_weight\": 1.0,\n",
    "    \"radial_basis\": {\n",
    "        \"Gto\": {},\n",
    "    },\n",
    "    \"cutoff_function\": {\n",
    "        \"ShiftedCosine\": {\"width\": 0.5},\n",
    "    },\n",
    "}\n",
    "\n",
    "calculator = SphericalExpansion(**HYPER_PARAMETERS)\n",
    "descriptor = calculator.compute(frames,\n",
    "                                selected_samples=selected_samples(frames, HYPER_PARAMETERS))\n",
    "ps = compute_power_spectrum(descriptor)\n",
    "print(f\"ps has {len(ps.blocks())} blocks\")\n",
    "\n",
    "ps_rascaline = SoapPowerSpectrum(**HYPER_PARAMETERS).compute(frames)\n",
    "print(f\"ps_rascaline has {len(ps_rascaline.blocks())} blocks\")"
   ]
  }
 ],
 "metadata": {
  "kernelspec": {
   "display_name": "Python 3.10.8 64-bit",
   "language": "python",
   "name": "python3"
  },
  "language_info": {
   "codemirror_mode": {
    "name": "ipython",
    "version": 3
   },
   "file_extension": ".py",
   "mimetype": "text/x-python",
   "name": "python",
   "nbconvert_exporter": "python",
   "pygments_lexer": "ipython3",
   "version": "3.10.8"
  },
  "orig_nbformat": 4,
  "vscode": {
   "interpreter": {
    "hash": "b0fa6594d8f4cbf19f97940f81e996739fb7646882a419484c72d19e05852a7e"
   }
  }
 },
 "nbformat": 4,
 "nbformat_minor": 2
}
