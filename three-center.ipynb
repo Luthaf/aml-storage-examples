{
 "cells": [
  {
   "cell_type": "code",
   "execution_count": 1,
   "id": "0ab626b4",
   "metadata": {},
   "outputs": [],
   "source": [
    "%load_ext autoreload\n",
    "%autoreload 2\n",
    "%load_ext line_profiler"
   ]
  },
  {
   "cell_type": "code",
   "execution_count": 2,
   "id": "69fc722b",
   "metadata": {},
   "outputs": [],
   "source": [
    "import numpy as np\n",
    "import json\n",
    "from equistore import Labels, TensorBlock, TensorMap\n",
    "from utils.builder import TensorBuilder\n",
    "import ase.io\n",
    "from itertools import product\n",
    "from utils.acdc_mini import acdc_standardize_keys, cg_increment, cg_combine, _remove_suffix\n",
    "from utils.clebsh_gordan import ClebschGordanReal\n",
    "from utils.hamiltonians import hamiltonian_features\n",
    "import matplotlib.pyplot as plt\n",
    "\n",
    "from utils.librascal import  RascalSphericalExpansion, RascalPairExpansion\n",
    "from rascal.representations import SphericalExpansion\n",
    "import copy\n",
    "from utils.model_hamiltonian import *\n",
    "from itertools import product"
   ]
  },
  {
   "cell_type": "code",
   "execution_count": 3,
   "id": "814c4323",
   "metadata": {},
   "outputs": [],
   "source": [
    "from utils.mp_utils import * "
   ]
  },
  {
   "cell_type": "code",
   "execution_count": 4,
   "id": "7885fae9",
   "metadata": {},
   "outputs": [],
   "source": [
    "frames1 = ase.io.read(\"./data/hamiltonian/water-hamiltonian/water_coords_1000.xyz\",\":2\")\n",
    "# frames2 = ase.io.read(\"./data/hamiltonian/ethanol-hamiltonian/ethanol_4500.xyz\",\":1\")\n",
    "# frames3= [ase.build.molecule('NH3')]\n",
    "# frames = frames1+frames2#+frames3#+frames2\n",
    "# frames = ase.io.read('../feats_MP/methane/data/methane_40k.xyz',':10')\n",
    "frames = frames1\n",
    "for f in frames:\n",
    "    f.cell = [100,100,100]\n",
    "    f.positions += 50"
   ]
  },
  {
   "cell_type": "code",
   "execution_count": 5,
   "id": "5abeab99",
   "metadata": {},
   "outputs": [],
   "source": [
    "rascal_hypers = {\n",
    "    \"interaction_cutoff\": 3.5,\n",
    "    \"cutoff_smooth_width\": 0.3,\n",
    "    \"max_radial\": 2,\n",
    "    \"max_angular\": 2,\n",
    "    \"gaussian_sigma_type\": \"Constant\",\n",
    "    \"compute_gradients\":  False,\n",
    "#     \"expansion_by_species_method\": \"user defined\",\n",
    "#     \"global_species\": [1,6,8,7]\n",
    "    \n",
    "}\n",
    "\n",
    "spex = RascalSphericalExpansion(rascal_hypers)\n",
    "rhoi = spex.compute(frames)"
   ]
  },
  {
   "cell_type": "code",
   "execution_count": 6,
   "id": "7c26c4f6",
   "metadata": {},
   "outputs": [],
   "source": [
    "lmax = rascal_hypers[\"max_angular\"]+2\n",
    "cg = ClebschGordanReal(lmax)"
   ]
  },
  {
   "cell_type": "code",
   "execution_count": 7,
   "id": "ca028e99",
   "metadata": {},
   "outputs": [],
   "source": [
    "pairs = RascalPairExpansion(rascal_hypers)\n",
    "gij = pairs.compute(frames)"
   ]
  },
  {
   "cell_type": "code",
   "execution_count": 8,
   "id": "24585589",
   "metadata": {},
   "outputs": [],
   "source": [
    "rho1i = acdc_standardize_keys(rhoi)\n",
    "rho1i.keys_to_properties(['species_neighbor'])\n",
    "gij =  acdc_standardize_keys(gij)"
   ]
  },
  {
   "cell_type": "code",
   "execution_count": 9,
   "id": "0193feb6",
   "metadata": {},
   "outputs": [],
   "source": [
    "rho2i =  cg_combine(rho1i, rho1i, clebsch_gordan=cg, lcut=lmax, other_keys_match = ['species_center'])"
   ]
  },
  {
   "cell_type": "code",
   "execution_count": 10,
   "id": "2ee5014b",
   "metadata": {},
   "outputs": [],
   "source": [
    "rhoii1i2_nu0 = cg_combine(gij, gij, clebsch_gordan=cg,lcut=lmax, other_keys_match=['species_center'])"
   ]
  },
  {
   "cell_type": "code",
   "execution_count": 11,
   "id": "a2f4098b",
   "metadata": {},
   "outputs": [
    {
     "data": {
      "text/plain": [
       "TensorMap with 64 blocks\n",
       "keys: ['order_nu' 'inversion_sigma' 'spherical_harmonics_l' 'species_center' 'species_neighbor_a' 'species_neighbor_b']\n",
       "           2             1                    0                   1                 1                   1\n",
       "           2             1                    0                   1                 1                   8\n",
       "           2             1                    1                   1                 1                   1\n",
       "        ...\n",
       "           2             1                    4                   8                 8                   1\n",
       "           2            -1                    3                   8                 8                   8\n",
       "           2             1                    4                   8                 8                   8"
      ]
     },
     "execution_count": 11,
     "metadata": {},
     "output_type": "execute_result"
    }
   ],
   "source": [
    "rhoii1i2_nu0"
   ]
  },
  {
   "cell_type": "code",
   "execution_count": 15,
   "id": "31039729",
   "metadata": {},
   "outputs": [],
   "source": [
    "rhoii1i2_nu1 =  cg_combine(rho1i, rhoii1i2_nu0, clebsch_gordan=cg, lcut=lmax, other_keys_match = ['species_center'])"
   ]
  },
  {
   "cell_type": "code",
   "execution_count": 16,
   "id": "07cbe96d",
   "metadata": {},
   "outputs": [
    {
     "data": {
      "text/plain": [
       "TensorMap with 80 blocks\n",
       "keys: ['order_nu' 'inversion_sigma' 'spherical_harmonics_l' 'species_center' 'species_neighbor_a' 'species_neighbor_b']\n",
       "           3             1                    0                   1                 1                   1\n",
       "           3             1                    0                   1                 1                   8\n",
       "           3             1                    1                   1                 1                   1\n",
       "        ...\n",
       "           3            -1                    4                   8                 1                   8\n",
       "           3            -1                    4                   8                 8                   1\n",
       "           3            -1                    4                   8                 8                   8"
      ]
     },
     "execution_count": 16,
     "metadata": {},
     "output_type": "execute_result"
    }
   ],
   "source": [
    "rhoii1i2_nu1"
   ]
  },
  {
   "cell_type": "code",
   "execution_count": 17,
   "id": "07831273",
   "metadata": {},
   "outputs": [],
   "source": [
    "## going from three center to rho_i append to the property dimension species \n",
    "def contract_three_center(rhoii1i2):\n",
    "    if len(rhoii1i2.keys.dtype)>4:\n",
    "        rhoii1i2.keys_to_properties('species_neighbor_b')\n",
    "        rhoii1i2.keys_to_properties('species_neighbor_a')\n",
    "    contracted_rhoii1i2_blocks=[]\n",
    "\n",
    "    property_names = rhoii1i2.property_names\n",
    "    for key,block in rhoii1i2:\n",
    "        contract_values=[]\n",
    "        contract_properties=[]\n",
    "        contract_samples=list(product(np.unique(block.samples['structure']), np.unique(block.samples['center'])))\n",
    "        for isample, sample in enumerate(contract_samples):\n",
    "            sample_idx = [idx for idx, tup in enumerate(block.samples) if tup[0]==sample[0] and tup[1]==sample[1]]\n",
    "            contract_values.append(block.values[sample_idx].sum(axis=0)) # sum i_1, i_2\n",
    "#             print(key, block.values[sample_idx].sum(axis=0).shape,sample,sample_idx)\n",
    "\n",
    "        new_block = TensorBlock(values = np.asarray(contract_values),#.reshape(len(contract_samples),contract_values[0].shape[1] ,-1),\n",
    "                                        samples = Labels(['structure', 'center'], np.asarray(contract_samples, np.int32)), \n",
    "                                         components = block.components,\n",
    "                                         properties= Labels(list(property_names), block.properties.asarray())\n",
    "                                )\n",
    "\n",
    "        contracted_rhoii1i2_blocks.append(new_block)\n",
    "\n",
    "    contracted_rhoii1i2 = TensorMap(rhoii1i2.keys, contracted_rhoii1i2_blocks)\n",
    "    return contracted_rhoii1i2"
   ]
  },
  {
   "cell_type": "code",
   "execution_count": 18,
   "id": "7477b8ee",
   "metadata": {},
   "outputs": [],
   "source": [
    "contracted_rhoii1i2 = contract_three_center(rhoii1i2_nu0)"
   ]
  },
  {
   "cell_type": "markdown",
   "id": "60f0b54e",
   "metadata": {},
   "source": [
    "### sanity check - \n",
    "we need to compare the contraction with rho2, but the property labels of the two tensor maps are in diff orders\n",
    "here's a naive solution to find the index of prop label in one tensor in another"
   ]
  },
  {
   "cell_type": "code",
   "execution_count": 19,
   "id": "4f16c8b5",
   "metadata": {},
   "outputs": [
    {
     "name": "stdout",
     "output_type": "stream",
     "text": [
      "(2, 1, 0, 1) 2.3412456464305706e-20\n",
      "(2, 1, 1, 1) 1.8707075487275463e-20\n",
      "(2, 1, 2, 1) 1.9540399352564176e-20\n",
      "(2, 1, 0, 8) 2.938484138683137e-20\n",
      "(2, 1, 1, 8) 1.3797231381027056e-20\n",
      "(2, 1, 2, 8) 2.6540990298228056e-20\n",
      "(2, -1, 1, 1) 0.0\n",
      "(2, -1, 2, 1) 0.0\n",
      "(2, 1, 3, 1) 0.0\n",
      "(2, -1, 1, 8) 4.290085066403457e-21\n",
      "(2, -1, 2, 8) 1.1003280752469429e-20\n",
      "(2, 1, 3, 8) 8.852469447498877e-21\n",
      "(2, -1, 3, 1) 0.0\n",
      "(2, 1, 4, 1) 0.0\n",
      "(2, -1, 3, 8) 7.727960980828157e-21\n",
      "(2, 1, 4, 8) 8.668935063650161e-21\n"
     ]
    }
   ],
   "source": [
    "def compare_with_rho2i(contracted_rhoii1i2, rho2i):\n",
    "    assert len(rho2i) == len(contracted_rhoii1i2)\n",
    "    for rho2_k, rho2_b in rho2i:\n",
    "        contracted_block = contracted_rhoii1i2.block(order_nu = rho2_k[0], inversion_sigma = rho2_k[1], spherical_harmonics_l = rho2_k[2], species_center = rho2_k[3])\n",
    "        idx = []\n",
    "        cidx = []\n",
    "        for i,p in enumerate(rho2_b.properties):\n",
    "            find_p = (p['species_neighbor_a'], p['species_neighbor_b'], p['n_1_a'], p['k_2'], p['n_1_b'], p['l_2'])\n",
    "        #     print(p, find_p)\n",
    "            for ip,cp in enumerate(contracted_block.properties):\n",
    "                if tuple(find_p) == tuple(cp) :\n",
    "                    idx.append(i)\n",
    "                    cidx.append(ip)\n",
    "                    break\n",
    "        print(rho2_k, np.linalg.norm(rho2_b.values[:,:,idx] - contracted_block.values[:,:,cidx]))\n",
    "\n",
    "compare_with_rho2i(contracted_rhoii1i2, rho2i)"
   ]
  },
  {
   "cell_type": "markdown",
   "id": "bb8fcdb0",
   "metadata": {},
   "source": [
    "so just summing over i1, i2 of the three center feature yields power spectrum as it should!"
   ]
  },
  {
   "cell_type": "markdown",
   "id": "e00f825b",
   "metadata": {},
   "source": [
    "## old"
   ]
  }
 ],
 "metadata": {
  "kernelspec": {
   "display_name": "Python 3 (ipykernel)",
   "language": "python",
   "name": "python3"
  },
  "language_info": {
   "codemirror_mode": {
    "name": "ipython",
    "version": 3
   },
   "file_extension": ".py",
   "mimetype": "text/x-python",
   "name": "python",
   "nbconvert_exporter": "python",
   "pygments_lexer": "ipython3",
   "version": "3.7.13"
  },
  "toc": {
   "base_numbering": 1,
   "nav_menu": {},
   "number_sections": true,
   "sideBar": true,
   "skip_h1_title": false,
   "title_cell": "Table of Contents",
   "title_sidebar": "Contents",
   "toc_cell": false,
   "toc_position": {},
   "toc_section_display": true,
   "toc_window_display": false
  }
 },
 "nbformat": 4,
 "nbformat_minor": 5
}
