{
 "cells": [
  {
   "cell_type": "code",
   "execution_count": 1,
   "id": "0ab626b4",
   "metadata": {},
   "outputs": [],
   "source": [
    "%load_ext autoreload\n",
    "%autoreload 2\n",
    "%load_ext line_profiler"
   ]
  },
  {
   "cell_type": "code",
   "execution_count": 2,
   "id": "69fc722b",
   "metadata": {},
   "outputs": [],
   "source": [
    "import numpy as np\n",
    "import json\n",
    "from equistore import Labels, TensorBlock, TensorMap\n",
    "from utils.builder import TensorBuilder\n",
    "import ase.io\n",
    "from itertools import product\n",
    "from utils.acdc_mini import acdc_standardize_keys, cg_increment, cg_combine, _remove_suffix\n",
    "from utils.clebsh_gordan import ClebschGordanReal\n",
    "from utils.hamiltonians import hamiltonian_features\n",
    "import matplotlib.pyplot as plt\n",
    "\n",
    "from utils.librascal import  RascalSphericalExpansion, RascalPairExpansion\n",
    "from rascal.representations import SphericalExpansion\n",
    "import copy\n",
    "from utils.model_hamiltonian import *\n",
    "from itertools import product"
   ]
  },
  {
   "cell_type": "code",
   "execution_count": 3,
   "id": "814c4323",
   "metadata": {},
   "outputs": [],
   "source": [
    "from utils.mp_utils import * "
   ]
  },
  {
   "cell_type": "code",
   "execution_count": 4,
   "id": "c244bbe9",
   "metadata": {},
   "outputs": [],
   "source": [
    "# frames1 = ase.io.read(\"./data/hamiltonian/water-hamiltonian/water_coords_1000.xyz\", \":2\")\n",
    "# frames2 = ase.io.read(\"./data/hamiltonian/ethanol-hamiltonian/ethanol_4500.xyz\",\":1\")\n",
    "# frames3= [ase.build.molecule('NH3')]\n",
    "# frames = frames1+frames2#+frames3#+frames2\n",
    "\n",
    "frames = ase.io.read(\"./data/random-methane-10k.extxyz\",\":100\")\n",
    "energy =[]\n",
    "for f in frames:\n",
    "    energy.append(f.info['energy'])\n",
    "\n",
    "energy=np.array(energy)\n",
    "\n",
    "# frames = frames1\n",
    "\n",
    "for f in frames:\n",
    "    f.cell = [100,100,100]\n",
    "    f.positions += 50"
   ]
  },
  {
   "cell_type": "code",
   "execution_count": 5,
   "id": "01c398d6",
   "metadata": {},
   "outputs": [],
   "source": [
    "en_block = TensorBlock(values = np.asarray(energy).reshape(len(energy),1 ,-1),\n",
    "                    samples = Labels(['structure'], np.asarray(range(len(energy)), np.int32).reshape(-1,1)), \n",
    "                    components = [Labels(['spherical_component_m'], np.asarray([[0]], np.int32))],\n",
    "                    properties= Labels(['energy'],np.asarray([0], np.int32).reshape(-1,1))\n",
    "           )\n",
    "energy_tensor = TensorMap(Labels(['energy'], np.asarray([[0]], np.int32)), [en_block])"
   ]
  },
  {
   "cell_type": "code",
   "execution_count": 6,
   "id": "0934ca97",
   "metadata": {},
   "outputs": [],
   "source": [
    "rascal_hypers = {\n",
    "    \"interaction_cutoff\": 3.5,\n",
    "    \"cutoff_smooth_width\": 0.3,\n",
    "    \"max_radial\": 2,\n",
    "    \"max_angular\": 2,\n",
    "    \"gaussian_sigma_type\": \"Constant\",\n",
    "    \"compute_gradients\":  False,\n",
    "#     \"expansion_by_species_method\": \"user defined\",\n",
    "#     \"global_species\": [1,6,8,7]\n",
    "    \n",
    "}\n",
    "\n",
    "spex = RascalSphericalExpansion(rascal_hypers)\n",
    "rhoi = spex.compute(frames)"
   ]
  },
  {
   "cell_type": "code",
   "execution_count": 7,
   "id": "784ab9da",
   "metadata": {},
   "outputs": [],
   "source": [
    "lmax = rascal_hypers[\"max_angular\"]+2\n",
    "cg = ClebschGordanReal(lmax)"
   ]
  },
  {
   "cell_type": "code",
   "execution_count": 8,
   "id": "d02f5c77",
   "metadata": {},
   "outputs": [],
   "source": [
    "pairs = RascalPairExpansion(rascal_hypers)\n",
    "gij = pairs.compute(frames)"
   ]
  },
  {
   "cell_type": "code",
   "execution_count": 9,
   "id": "34f2469b",
   "metadata": {},
   "outputs": [],
   "source": [
    "rho1i = acdc_standardize_keys(rhoi)\n",
    "rho1i.keys_to_properties(['species_neighbor'])\n",
    "gij =  acdc_standardize_keys(gij)"
   ]
  },
  {
   "cell_type": "code",
   "execution_count": 10,
   "id": "133b71ef",
   "metadata": {},
   "outputs": [],
   "source": [
    "rho2i =  cg_combine(rho1i, rho1i, clebsch_gordan=cg, lcut=lmax, other_keys_match = ['species_center'])\n",
    "rho2i_L0 = []#rho2i.blocks(spherical_harmonics_l=0)\n",
    "rho2i_L0_keys = rho2i.blocks_matching(spherical_harmonics_l=0)\n",
    "for idx in rho2i_L0_keys: \n",
    "    rho2i_L0.append(rho2i.block(idx).copy())\n",
    "rho2i_L0 = TensorMap(rho2i.keys[rho2i_L0_keys], rho2i_L0)"
   ]
  },
  {
   "cell_type": "code",
   "execution_count": 11,
   "id": "c44ee492",
   "metadata": {},
   "outputs": [],
   "source": [
    "rhoii1i2_nu0 = cg_combine(gij, gij, clebsch_gordan=cg,lcut=lmax, other_keys_match=['species_center'])"
   ]
  },
  {
   "cell_type": "code",
   "execution_count": 12,
   "id": "68ab2baf",
   "metadata": {},
   "outputs": [
    {
     "data": {
      "text/plain": [
       "TensorMap with 64 blocks\n",
       "keys: ['order_nu' 'inversion_sigma' 'spherical_harmonics_l' 'species_center' 'species_neighbor_a' 'species_neighbor_b']\n",
       "           2             1                    0                   1                 1                   1\n",
       "           2             1                    0                   1                 1                   6\n",
       "           2             1                    1                   1                 1                   1\n",
       "        ...\n",
       "           2             1                    4                   6                 6                   1\n",
       "           2            -1                    3                   6                 6                   6\n",
       "           2             1                    4                   6                 6                   6"
      ]
     },
     "execution_count": 12,
     "metadata": {},
     "output_type": "execute_result"
    }
   ],
   "source": [
    "rhoii1i2_nu0"
   ]
  },
  {
   "cell_type": "code",
   "execution_count": 41,
   "id": "1df70a99",
   "metadata": {},
   "outputs": [],
   "source": [
    "rhoii1i2_nu1 =  cg_combine(rho1i, rhoii1i2_nu0, clebsch_gordan=cg, lcut=0, other_keys_match = ['species_center'])"
   ]
  },
  {
   "cell_type": "code",
   "execution_count": 42,
   "id": "532d4e12",
   "metadata": {},
   "outputs": [
    {
     "data": {
      "text/plain": [
       "TensorMap with 16 blocks\n",
       "keys: ['order_nu' 'inversion_sigma' 'spherical_harmonics_l' 'species_center' 'species_neighbor_a' 'species_neighbor_b']\n",
       "           3             1                    0                   1                 1                   1\n",
       "           3             1                    0                   1                 1                   6\n",
       "           3             1                    0                   1                 6                   1\n",
       "        ...\n",
       "           3            -1                    0                   6                 1                   6\n",
       "           3            -1                    0                   6                 6                   1\n",
       "           3            -1                    0                   6                 6                   6"
      ]
     },
     "execution_count": 42,
     "metadata": {},
     "output_type": "execute_result"
    }
   ],
   "source": [
    "rhoii1i2_nu1"
   ]
  },
  {
   "cell_type": "code",
   "execution_count": 15,
   "id": "e961a95f",
   "metadata": {},
   "outputs": [],
   "source": [
    "# contracted_rhoii1i2 = contract_three_center(rhoii1i2_nu0)\n",
    "# compare_with_rho2i(contracted_rhoii1i2, rho2i)"
   ]
  },
  {
   "cell_type": "code",
   "execution_count": 13,
   "id": "6a7d57ce",
   "metadata": {},
   "outputs": [],
   "source": [
    "rhoii1i2_nu0_L0 = []#rhoii1i2_nu0.blocks(spherical_harmonics_l=0)\n",
    "rhoii1i2_nu0_L0_keys = rhoii1i2_nu0.blocks_matching(spherical_harmonics_l=0)\n",
    "for idx in rhoii1i2_nu0_L0_keys: \n",
    "    rhoii1i2_nu0_L0.append(rhoii1i2_nu0.block(idx).copy())\n",
    "rhoii1i2_nu0_L0 = TensorMap(rhoii1i2_nu0.keys[rhoii1i2_nu0_L0_keys], rhoii1i2_nu0_L0)"
   ]
  },
  {
   "cell_type": "code",
   "execution_count": 38,
   "id": "24834e27",
   "metadata": {},
   "outputs": [
    {
     "name": "stdout",
     "output_type": "stream",
     "text": [
      "contract 3 center (400, 1, 48)\n",
      "contract 3 center (100, 1, 48)\n",
      "(2, 1, 0, 1) 3.5230068197095586e-19\n",
      "(2, 1, 0, 6) 1.4410325788004896e-19\n"
     ]
    }
   ],
   "source": [
    "compare_with_rho2i(contract_three_center_property(rhoii1i2_nu0_L0), rho2i_L0)"
   ]
  },
  {
   "cell_type": "markdown",
   "id": "d4bbf571",
   "metadata": {},
   "source": [
    "# Linear Model "
   ]
  },
  {
   "cell_type": "code",
   "execution_count": 46,
   "id": "d6441d2f",
   "metadata": {},
   "outputs": [],
   "source": [
    "def scale(feat, val):\n",
    "    block_list = []\n",
    "    for _,b in feat:\n",
    "        block = TensorBlock(properties = b.properties, \n",
    "                             components = b.components, \n",
    "                             values = b.values*val, \n",
    "                             samples = b.samples)\n",
    "        block_list.append(block)\n",
    "    return TensorMap(feat.keys, block_list)"
   ]
  },
  {
   "cell_type": "code",
   "execution_count": 16,
   "id": "3da03744",
   "metadata": {},
   "outputs": [],
   "source": [
    "def get_rmse(first, second):\n",
    "#     print(first.shape, second.shape)\n",
    "    return torch.sqrt(torch.mean((first - torch.from_numpy(second)) ** 2))\n",
    "    \n",
    "def get_mae(first, second):\n",
    "        return torch.mean(torch.abs(first - second))\n",
    "    \n",
    "def get_spread(values):\n",
    "    return np.sqrt(np.mean((values - np.mean(values)) ** 2))\n"
   ]
  },
  {
   "cell_type": "code",
   "execution_count": 48,
   "id": "1d0d31fb",
   "metadata": {},
   "outputs": [],
   "source": [
    "class LinearModel(torch.nn.Module):\n",
    "    def __init__(self, target,features, weights=None, intercepts=None):\n",
    "        super().__init__()\n",
    "        self.target = target\n",
    "        self.features = features\n",
    "        self.weights = {}\n",
    "        if weights==None:\n",
    "            for key, block in self.features:\n",
    "                size = block.values.shape[-1]\n",
    "                self.weights[key] = torch.nn.Parameter(torch.ones(size, dtype=torch.float64)*1e0)\n",
    "            \n",
    "        else: \n",
    "            self.weights = weights\n",
    "            \n",
    "        if intercepts is not None:\n",
    "            self.intercepts = intercepts \n",
    "        else:\n",
    "            self.intercepts = None\n",
    "         \n",
    "    def forward(self, features):\n",
    "        k = []\n",
    "        pred_blocks = []\n",
    "        for (idx, wts) in self.weights.items():\n",
    "            if len(features.keys.dtype) ==6:\n",
    "                order_nu, inversion_sigma, L, ai, aj,ak = idx\n",
    "                X = features.block(species_center=ai, species_neighbor_a = aj, species_neighbor_b = ak)\n",
    "            elif len(features.keys.dtype) ==4:\n",
    "                order_nu, inversion_sigma, L, ai = idx\n",
    "                X = features.block(species_center=ai)\n",
    "            else: \n",
    "                raiseValueError('features are neither three center nor atom centered')\n",
    "            assert L==0 #invariant only\n",
    "            \n",
    "            X_new = torch.from_numpy(X.values.reshape(-1, X.values.shape[-1]))\n",
    "            #print(idx, wts.shape, X.values.shape, X_new.shape)\n",
    "            if self.intercepts is not None:\n",
    "                Y = X_new @ wts + self.intercepts[idx]\n",
    "            else:\n",
    "                Y = X_new @ wts\n",
    "                \n",
    "            newblock = TensorBlock(\n",
    "                        values=Y.reshape((-1, 2 * L + 1, 1)),\n",
    "                        samples=X.samples,\n",
    "                        components=[Labels(\n",
    "                            [\"mu\"], np.asarray(range(-L, L + 1), dtype=np.int32).reshape(-1, 1)\n",
    "                        )],\n",
    "                        properties= Labels([\"dummy\"], np.asarray([[0]], dtype=np.int32))\n",
    "                    )\n",
    "            pred_blocks.append(newblock) \n",
    "        \n",
    "        keys = self.features.keys\n",
    "        pred_target = TensorMap(keys, pred_blocks)\n",
    "        return(pred_target)\n",
    "    \n",
    "    def parameters(self):\n",
    "        for idx, wts in self.weights.items():\n",
    "            yield wts        "
   ]
  },
  {
   "cell_type": "code",
   "execution_count": 49,
   "id": "8fe6b3c9",
   "metadata": {},
   "outputs": [],
   "source": [
    "def loss_fn(pred, target, three_center=True):\n",
    "    # pred and target are tensormaps \n",
    "    if three_center: \n",
    "        pred = contract_three_center_property(pred, numpy=False)\n",
    "    pred = atom_to_structure(pred, numpy =False)\n",
    "    return get_rmse(pred.block().values, target.block().values)"
   ]
  },
  {
   "cell_type": "code",
   "execution_count": 50,
   "id": "1c527075",
   "metadata": {},
   "outputs": [
    {
     "data": {
      "text/plain": [
       "3.476593498823191e-19"
      ]
     },
     "execution_count": 50,
     "metadata": {},
     "output_type": "execute_result"
    }
   ],
   "source": [
    "np.linalg.norm(atom_to_structure(rho2i_L0).block().values - rho2i_L0.block(1).values - np.add.reduceat(rho2i_L0.block(0).values, np.arange(0,400,4)))"
   ]
  },
  {
   "cell_type": "code",
   "execution_count": 51,
   "id": "c7587f51",
   "metadata": {},
   "outputs": [
    {
     "data": {
      "text/plain": [
       "TensorMap with 2 blocks\n",
       "keys: ['order_nu' 'inversion_sigma' 'spherical_harmonics_l' 'species_center']\n",
       "           2             1                    0                   1\n",
       "           2             1                    0                   6"
      ]
     },
     "execution_count": 51,
     "metadata": {},
     "output_type": "execute_result"
    }
   ],
   "source": [
    "contract_three_center_property(rhoii1i2_nu0_L0)"
   ]
  },
  {
   "cell_type": "markdown",
   "id": "93905196",
   "metadata": {},
   "source": [
    "## model with rhoii1i2"
   ]
  },
  {
   "cell_type": "code",
   "execution_count": null,
   "id": "52c1d0a7",
   "metadata": {},
   "outputs": [
    {
     "name": "stdout",
     "output_type": "stream",
     "text": [
      "0 39.95268937601291\n",
      "100 4.295995747963264\n",
      "200 1.2624713714037\n",
      "300 0.8521195168717316\n",
      "400 0.6507369632923024\n",
      "500 0.567716683772019\n",
      "600 0.5180635327567081\n"
     ]
    }
   ],
   "source": [
    "# rhoii1i2_nu0_L0.keys_to_properties('species_neighbor_b')\n",
    "# rhoii1i2_nu0_L0.keys_to_properties('species_neighbor_a')\n",
    "model = LinearModel(energy, scale(rhoii1i2_nu0_L0, 1e0))\n",
    "optimizer = torch.optim.Adam(model.parameters(), lr=10)\n",
    "# scheduler = torch.optim.lr_scheduler.StepLR(optimizer, step_size=5000, gamma=0.1)\n",
    "\n",
    "all_losses = []\n",
    "for epoch in range(100000):\n",
    "    optimizer.zero_grad()\n",
    "    pred = model(scale(rhoii1i2_nu0_L0, 1e2))\n",
    "    loss = loss_fn(pred, energy_tensor, three_center=True)\n",
    "    loss.backward()\n",
    "    optimizer.step()\n",
    "#     scheduler.step()\n",
    "    \n",
    "    all_losses.append(loss.item())\n",
    "    \n",
    "    if epoch % 100 == 0:\n",
    "        print(epoch, loss.item()) "
   ]
  },
  {
   "cell_type": "markdown",
   "id": "0b8bcc71",
   "metadata": {},
   "source": [
    "## model with rho2i"
   ]
  },
  {
   "cell_type": "code",
   "execution_count": 26,
   "id": "ecaa5220",
   "metadata": {},
   "outputs": [],
   "source": [
    "model = LinearModel(energy, rho2i_L0)\n",
    "pred = model(rho2i_L0)"
   ]
  },
  {
   "cell_type": "code",
   "execution_count": 52,
   "id": "616000d1",
   "metadata": {
    "scrolled": true
   },
   "outputs": [
    {
     "name": "stdout",
     "output_type": "stream",
     "text": [
      "0 50.58802177239843\n",
      "100 2.2498598467112556\n",
      "200 1.157211877558215\n",
      "300 0.8594678531674216\n",
      "400 0.7282455652815527\n",
      "500 0.6314600994731302\n",
      "600 0.5511290853251981\n",
      "700 0.5035962831901813\n",
      "800 0.4554906744893913\n",
      "900 0.41707392153337824\n",
      "1000 0.3841635318172585\n",
      "1100 0.3558735302746162\n",
      "1200 0.3313600039273276\n",
      "1300 0.31003367890141015\n",
      "1400 0.29142678117737414\n",
      "1500 0.2751578953920216\n",
      "1600 0.2609066185242776\n",
      "1700 0.2484022582217272\n",
      "1800 0.23740649286397605\n",
      "1900 0.22772036179123123\n"
     ]
    },
    {
     "ename": "KeyboardInterrupt",
     "evalue": "",
     "output_type": "error",
     "traceback": [
      "\u001b[0;31m---------------------------------------------------------------------------\u001b[0m",
      "\u001b[0;31mKeyboardInterrupt\u001b[0m                         Traceback (most recent call last)",
      "\u001b[0;32m/tmp/ipykernel_7196/409032282.py\u001b[0m in \u001b[0;36m<module>\u001b[0;34m\u001b[0m\n\u001b[1;32m      7\u001b[0m     \u001b[0moptimizer\u001b[0m\u001b[0;34m.\u001b[0m\u001b[0mzero_grad\u001b[0m\u001b[0;34m(\u001b[0m\u001b[0;34m)\u001b[0m\u001b[0;34m\u001b[0m\u001b[0;34m\u001b[0m\u001b[0m\n\u001b[1;32m      8\u001b[0m     \u001b[0mpred\u001b[0m \u001b[0;34m=\u001b[0m \u001b[0mmodel\u001b[0m\u001b[0;34m(\u001b[0m\u001b[0mscale\u001b[0m\u001b[0;34m(\u001b[0m\u001b[0mrho2i_L0\u001b[0m\u001b[0;34m,\u001b[0m \u001b[0;36m1e2\u001b[0m\u001b[0;34m)\u001b[0m\u001b[0;34m)\u001b[0m\u001b[0;34m\u001b[0m\u001b[0;34m\u001b[0m\u001b[0m\n\u001b[0;32m----> 9\u001b[0;31m     \u001b[0mloss\u001b[0m \u001b[0;34m=\u001b[0m \u001b[0mloss_fn\u001b[0m\u001b[0;34m(\u001b[0m\u001b[0mpred\u001b[0m\u001b[0;34m,\u001b[0m \u001b[0menergy_tensor\u001b[0m\u001b[0;34m,\u001b[0m \u001b[0mthree_center\u001b[0m\u001b[0;34m=\u001b[0m\u001b[0;32mFalse\u001b[0m\u001b[0;34m)\u001b[0m\u001b[0;34m\u001b[0m\u001b[0;34m\u001b[0m\u001b[0m\n\u001b[0m\u001b[1;32m     10\u001b[0m     \u001b[0mloss\u001b[0m\u001b[0;34m.\u001b[0m\u001b[0mbackward\u001b[0m\u001b[0;34m(\u001b[0m\u001b[0;34m)\u001b[0m\u001b[0;34m\u001b[0m\u001b[0;34m\u001b[0m\u001b[0m\n\u001b[1;32m     11\u001b[0m     \u001b[0moptimizer\u001b[0m\u001b[0;34m.\u001b[0m\u001b[0mstep\u001b[0m\u001b[0;34m(\u001b[0m\u001b[0;34m)\u001b[0m\u001b[0;34m\u001b[0m\u001b[0;34m\u001b[0m\u001b[0m\n",
      "\u001b[0;32m/tmp/ipykernel_7196/328070102.py\u001b[0m in \u001b[0;36mloss_fn\u001b[0;34m(pred, target, three_center)\u001b[0m\n\u001b[1;32m      4\u001b[0m         \u001b[0mpred\u001b[0m \u001b[0;34m=\u001b[0m \u001b[0mcontract_three_center\u001b[0m\u001b[0;34m(\u001b[0m\u001b[0mpred\u001b[0m\u001b[0;34m)\u001b[0m\u001b[0;34m\u001b[0m\u001b[0;34m\u001b[0m\u001b[0m\n\u001b[1;32m      5\u001b[0m     \u001b[0mpred\u001b[0m \u001b[0;34m=\u001b[0m \u001b[0matom_to_structure\u001b[0m\u001b[0;34m(\u001b[0m\u001b[0mpred\u001b[0m\u001b[0;34m)\u001b[0m\u001b[0;34m\u001b[0m\u001b[0;34m\u001b[0m\u001b[0m\n\u001b[0;32m----> 6\u001b[0;31m     \u001b[0;32mreturn\u001b[0m \u001b[0mget_rmse\u001b[0m\u001b[0;34m(\u001b[0m\u001b[0mpred\u001b[0m\u001b[0;34m.\u001b[0m\u001b[0mblock\u001b[0m\u001b[0;34m(\u001b[0m\u001b[0;34m)\u001b[0m\u001b[0;34m.\u001b[0m\u001b[0mvalues\u001b[0m\u001b[0;34m,\u001b[0m \u001b[0mtarget\u001b[0m\u001b[0;34m.\u001b[0m\u001b[0mblock\u001b[0m\u001b[0;34m(\u001b[0m\u001b[0;34m)\u001b[0m\u001b[0;34m.\u001b[0m\u001b[0mvalues\u001b[0m\u001b[0;34m)\u001b[0m\u001b[0;34m\u001b[0m\u001b[0;34m\u001b[0m\u001b[0m\n\u001b[0m",
      "\u001b[0;31mKeyboardInterrupt\u001b[0m: "
     ]
    }
   ],
   "source": [
    "model = LinearModel(energy, scale(rho2i_L0,1e0))\n",
    "optimizer = torch.optim.Adam(model.parameters(), lr=10)\n",
    "# scheduler = torch.optim.lr_scheduler.StepLR(optimizer, step_size=5000, gamma=0.1)\n",
    "\n",
    "all_losses = []\n",
    "for epoch in range(1000000):\n",
    "    optimizer.zero_grad()\n",
    "    pred = model(scale(rho2i_L0, 1e2))\n",
    "    loss = loss_fn(pred, energy_tensor, three_center=False)\n",
    "    loss.backward()\n",
    "    optimizer.step()\n",
    "#     scheduler.step()\n",
    "    \n",
    "    all_losses.append(loss.item())\n",
    "    \n",
    "    if epoch % 100 == 0:\n",
    "        print(epoch, loss.item()) "
   ]
  },
  {
   "cell_type": "code",
   "execution_count": null,
   "id": "2456ae04",
   "metadata": {},
   "outputs": [],
   "source": []
  },
  {
   "cell_type": "code",
   "execution_count": null,
   "id": "daba7f63",
   "metadata": {},
   "outputs": [],
   "source": []
  },
  {
   "cell_type": "markdown",
   "id": "e00f825b",
   "metadata": {
    "heading_collapsed": true
   },
   "source": [
    "## old"
   ]
  },
  {
   "cell_type": "markdown",
   "id": "60f0b54e",
   "metadata": {
    "hidden": true
   },
   "source": [
    "### sanity check - \n",
    "we need to compare the contraction with rho2, but the property labels of the two tensor maps are in diff orders\n",
    "here's a naive solution to find the index of prop label in one tensor in another"
   ]
  },
  {
   "cell_type": "code",
   "execution_count": 19,
   "id": "4f16c8b5",
   "metadata": {
    "hidden": true
   },
   "outputs": [
    {
     "name": "stdout",
     "output_type": "stream",
     "text": [
      "(2, 1, 0, 1) 2.3412456464305706e-20\n",
      "(2, 1, 1, 1) 1.8707075487275463e-20\n",
      "(2, 1, 2, 1) 1.9540399352564176e-20\n",
      "(2, 1, 0, 8) 2.938484138683137e-20\n",
      "(2, 1, 1, 8) 1.3797231381027056e-20\n",
      "(2, 1, 2, 8) 2.6540990298228056e-20\n",
      "(2, -1, 1, 1) 0.0\n",
      "(2, -1, 2, 1) 0.0\n",
      "(2, 1, 3, 1) 0.0\n",
      "(2, -1, 1, 8) 4.290085066403457e-21\n",
      "(2, -1, 2, 8) 1.1003280752469429e-20\n",
      "(2, 1, 3, 8) 8.852469447498877e-21\n",
      "(2, -1, 3, 1) 0.0\n",
      "(2, 1, 4, 1) 0.0\n",
      "(2, -1, 3, 8) 7.727960980828157e-21\n",
      "(2, 1, 4, 8) 8.668935063650161e-21\n"
     ]
    }
   ],
   "source": [
    "def compare_with_rho2i(contracted_rhoii1i2, rho2i):\n",
    "    assert len(rho2i) == len(contracted_rhoii1i2)\n",
    "    for rho2_k, rho2_b in rho2i:\n",
    "        contracted_block = contracted_rhoii1i2.block(order_nu = rho2_k[0], inversion_sigma = rho2_k[1], spherical_harmonics_l = rho2_k[2], species_center = rho2_k[3])\n",
    "        idx = []\n",
    "        cidx = []\n",
    "        for i,p in enumerate(rho2_b.properties):\n",
    "            find_p = (p['species_neighbor_a'], p['species_neighbor_b'], p['n_1_a'], p['k_2'], p['n_1_b'], p['l_2'])\n",
    "        #     print(p, find_p)\n",
    "            for ip,cp in enumerate(contracted_block.properties):\n",
    "                if tuple(find_p) == tuple(cp) :\n",
    "                    idx.append(i)\n",
    "                    cidx.append(ip)\n",
    "                    break\n",
    "        print(rho2_k, np.linalg.norm(rho2_b.values[:,:,idx] - contracted_block.values[:,:,cidx]))\n",
    "\n",
    "compare_with_rho2i(contracted_rhoii1i2, rho2i)"
   ]
  },
  {
   "cell_type": "markdown",
   "id": "bb8fcdb0",
   "metadata": {
    "hidden": true
   },
   "source": [
    "so just summing over i1, i2 of the three center feature yields power spectrum as it should!"
   ]
  }
 ],
 "metadata": {
  "kernelspec": {
   "display_name": "Python 3 (ipykernel)",
   "language": "python",
   "name": "python3"
  },
  "language_info": {
   "codemirror_mode": {
    "name": "ipython",
    "version": 3
   },
   "file_extension": ".py",
   "mimetype": "text/x-python",
   "name": "python",
   "nbconvert_exporter": "python",
   "pygments_lexer": "ipython3",
   "version": "3.8.11"
  },
  "toc": {
   "base_numbering": 1,
   "nav_menu": {},
   "number_sections": true,
   "sideBar": true,
   "skip_h1_title": false,
   "title_cell": "Table of Contents",
   "title_sidebar": "Contents",
   "toc_cell": false,
   "toc_position": {},
   "toc_section_display": true,
   "toc_window_display": false
  }
 },
 "nbformat": 4,
 "nbformat_minor": 5
}
