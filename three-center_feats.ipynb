{
 "cells": [
  {
   "cell_type": "code",
   "execution_count": 1,
   "id": "d2596616",
   "metadata": {},
   "outputs": [],
   "source": [
    "%load_ext autoreload\n",
    "%autoreload 2\n",
    "%load_ext line_profiler"
   ]
  },
  {
   "cell_type": "code",
   "execution_count": 2,
   "id": "341b09d0",
   "metadata": {},
   "outputs": [],
   "source": [
    "import numpy as np\n",
    "import scipy as sp\n",
    "import json\n",
    "import torch\n",
    "torch.set_default_dtype(torch.float64)\n",
    "device=\"cpu\"\n",
    "\n",
    "from rascaline import SphericalExpansion, SphericalExpansionByPair\n",
    "from equistore import Labels, TensorBlock, TensorMap\n",
    "from equistore import operations\n",
    "\n",
    "from utils.builder import TensorBuilder\n",
    "import ase.io\n",
    "from itertools import product\n",
    "from utils.mp_utils import acdc_standardize_keys, cg_increment, cg_combine, _remove_suffix, flatten\n",
    "from utils.clebsh_gordan import ClebschGordanReal\n",
    "from utils.hamiltonians import hamiltonian_features\n",
    "import matplotlib.pyplot as plt\n",
    "\n",
    "import copy\n",
    "from utils.model_hamiltonian import *\n",
    "from itertools import product\n",
    "import tqdm.notebook as tqdm\n",
    "import chemiscope"
   ]
  },
  {
   "cell_type": "code",
   "execution_count": 3,
   "id": "bde7e214-6392-4107-b05f-2255f211ba14",
   "metadata": {},
   "outputs": [],
   "source": [
    "from generate_bispectrum_structures import generate_nu3_degen_structs"
   ]
  },
  {
   "cell_type": "markdown",
   "id": "499d77a9-335f-46c3-a1f4-2dcd34577c7e",
   "metadata": {},
   "source": [
    "# Generates a bunch of degenerate pairs - closer or farther from being actually symmetric"
   ]
  },
  {
   "cell_type": "code",
   "execution_count": 4,
   "id": "e57afe1c-33db-4cd3-b0eb-e0b16e0ed606",
   "metadata": {},
   "outputs": [],
   "source": [
    "frames = []\n",
    "n1, n2, n3 = 8,8,8\n",
    "for psi in np.linspace(np.pi/6, np.pi*5/6, n1):\n",
    "    for dphi1 in np.linspace(np.pi*2/3 - 1.2, np.pi*2/3+0.4, n2):\n",
    "        for dphi2 in np.linspace(np.pi*2/3-0.7, np.pi*2/3+1.3, n3):\n",
    "            frames += generate_nu3_degen_structs(2, [0, dphi1, dphi1+dphi2], \n",
    "                           psi, 1, np.sqrt(5), \"Mg\", \"Mg\", \"Mg\")"
   ]
  },
  {
   "cell_type": "code",
   "execution_count": 5,
   "id": "8d465436-a2e0-4d28-bb71-a22d23e97646",
   "metadata": {},
   "outputs": [],
   "source": [
    "# shuffles keeping pairs together for easier analysis\n",
    "idx = np.asarray(range(len(frames)//2), dtype=int)\n",
    "np.random.shuffle(idx)\n",
    "nfr = []\n",
    "for i in idx:\n",
    "    nfr.append(frames[2*i])\n",
    "    nfr.append(frames[2*i+1])\n",
    "frames = nfr"
   ]
  },
  {
   "cell_type": "code",
   "execution_count": 6,
   "id": "789b49ce-5d6c-4eb7-8b69-1eb7777cd309",
   "metadata": {},
   "outputs": [
    {
     "data": {
      "application/vnd.jupyter.widget-view+json": {
       "model_id": "3fb7b496c0714d018c22bd8db3dd0569",
       "version_major": 2,
       "version_minor": 0
      },
      "text/plain": [
       "StructureWidget(value='{\"meta\": {\"name\": \" \"}, \"settings\": {\"structure\": [{\"axes\": \"xyz\", \"keepOrientation\": t…"
      ]
     },
     "metadata": {},
     "output_type": "display_data"
    }
   ],
   "source": [
    "cs = chemiscope.show(frames=frames, mode=\"structure\", settings = {'structure': [{\n",
    "   'axes': 'xyz',\n",
    "   'keepOrientation': True,\n",
    "   'playbackDelay': 250}]})\n",
    "display(cs)"
   ]
  },
  {
   "cell_type": "markdown",
   "id": "d915fea4-6873-4e5d-b14d-0d6c399373ea",
   "metadata": {},
   "source": [
    "# Compute raw expansion coefficients"
   ]
  },
  {
   "cell_type": "code",
   "execution_count": 7,
   "id": "fecba7a3-7431-40db-8e82-8d36d615ce5e",
   "metadata": {},
   "outputs": [
    {
     "name": "stderr",
     "output_type": "stream",
     "text": [
      "/home/michele/local/lib/python3.8/site-packages/rascaline/systems/ase.py:57: UserWarning: periodic boundary conditions are disabled, but the cell matrix is not zero, we will set the cell to zero.\n",
      "  warnings.warn(\n"
     ]
    }
   ],
   "source": [
    "hypers = {\n",
    "    \"cutoff\": 3.5,\n",
    "    \"max_radial\": 2,\n",
    "    \"max_angular\": 3,\n",
    "    \"atomic_gaussian_width\": 0.2,\n",
    "    \"radial_basis\": {\"Gto\": {}},\n",
    "    \"cutoff_function\": {\"ShiftedCosine\": {\"width\": 0.1}},\n",
    "    \"center_atom_weight\": 0.0,    \n",
    "}\n",
    "calculator = SphericalExpansion(**hypers)\n",
    "rhoi = calculator.compute(frames)\n",
    "rhoi = rhoi.keys_to_properties(['species_neighbor'])\n",
    "rho1i = acdc_standardize_keys(rhoi)\n",
    "\n",
    "# selects only one environment\n",
    "rho1i = operations.slice(rho1i, samples=Labels(['center'],np.array([[0]], np.int32)) )\n",
    "norm_rho1 = np.sqrt(np.sum([(b.values**2).sum(axis=(1,2)) for b in rho1i.blocks()],axis=0).mean())\n",
    "for b in rho1i.blocks():\n",
    "    b.values[:]/=norm_rho1"
   ]
  },
  {
   "cell_type": "code",
   "execution_count": 8,
   "id": "684640c5-d4fd-4386-b34e-c4a48ae17eb5",
   "metadata": {},
   "outputs": [
    {
     "data": {
      "text/plain": [
       "TensorMap with 4 blocks\n",
       "keys: ['order_nu' 'inversion_sigma' 'spherical_harmonics_l' 'species_center']\n",
       "           1             1                    0                  12\n",
       "           1             1                    1                  12\n",
       "           1             1                    2                  12\n",
       "           1             1                    3                  12"
      ]
     },
     "execution_count": 8,
     "metadata": {},
     "output_type": "execute_result"
    }
   ],
   "source": [
    "rho1i"
   ]
  },
  {
   "cell_type": "code",
   "execution_count": 9,
   "id": "3f129e6b-5637-4c28-9e7b-7e42590ada09",
   "metadata": {},
   "outputs": [
    {
     "data": {
      "text/plain": [
       "TensorBlock\n",
       "    samples: ['structure', 'center']\n",
       "    component: ['spherical_harmonics_m']\n",
       "    properties: ['species_neighbor_1', 'n_1']\n",
       "    gradients: no"
      ]
     },
     "execution_count": 9,
     "metadata": {},
     "output_type": "execute_result"
    }
   ],
   "source": [
    "rho1i.block(0)"
   ]
  },
  {
   "cell_type": "code",
   "execution_count": 10,
   "id": "2e1af8b8-4a20-4de5-88ea-ea50e0790334",
   "metadata": {},
   "outputs": [],
   "source": [
    "calculator = SphericalExpansionByPair(**hypers)\n",
    "gij = calculator.compute(frames)\n",
    "gij = operations.slice(gij, samples=Labels(['first_atom'],np.array([[0]], np.int32)) )\n",
    "gij =  acdc_standardize_keys(gij)\n",
    "for b in gij.blocks():\n",
    "    b.values[:]/=norm_rho1"
   ]
  },
  {
   "cell_type": "code",
   "execution_count": 11,
   "id": "8da710fd-4c55-4623-b9fc-30f17798ec0b",
   "metadata": {},
   "outputs": [
    {
     "data": {
      "text/plain": [
       "TensorMap with 4 blocks\n",
       "keys: ['order_nu' 'inversion_sigma' 'spherical_harmonics_l' 'species_center' 'species_neighbor']\n",
       "           1             1                    0                  12               12\n",
       "           1             1                    1                  12               12\n",
       "           1             1                    2                  12               12\n",
       "           1             1                    3                  12               12"
      ]
     },
     "execution_count": 11,
     "metadata": {},
     "output_type": "execute_result"
    }
   ],
   "source": [
    "gij"
   ]
  },
  {
   "cell_type": "code",
   "execution_count": 12,
   "id": "5cb2e076-f78e-4b76-8ec7-a07cbeb95078",
   "metadata": {},
   "outputs": [
    {
     "data": {
      "text/plain": [
       "TensorBlock\n",
       "    samples: ['structure', 'center', 'neighbor']\n",
       "    component: ['spherical_harmonics_m']\n",
       "    properties: ['n_1']\n",
       "    gradients: no"
      ]
     },
     "execution_count": 12,
     "metadata": {},
     "output_type": "execute_result"
    }
   ],
   "source": [
    "gij.block(0)"
   ]
  },
  {
   "cell_type": "markdown",
   "id": "ce6b656b-3ac0-4c0f-bdc6-738cc83bac4f",
   "metadata": {},
   "source": [
    "## Test there is consistency at the level of rhoij and gij"
   ]
  },
  {
   "cell_type": "code",
   "execution_count": 13,
   "id": "baba8d3a-c76e-4917-b5d1-a8c37cdca2db",
   "metadata": {},
   "outputs": [],
   "source": [
    "test = operations.sum_over_samples(gij, samples_names=[\"neighbor\"]) "
   ]
  },
  {
   "cell_type": "code",
   "execution_count": 14,
   "id": "34ab27e7-36cf-46de-9248-35708fc82826",
   "metadata": {},
   "outputs": [],
   "source": [
    "test.block(1).values;"
   ]
  },
  {
   "cell_type": "code",
   "execution_count": 15,
   "id": "d09a00ff-b0fb-41b3-ba31-e2d1c6537201",
   "metadata": {},
   "outputs": [
    {
     "data": {
      "text/plain": [
       "2.8459135300545673e-13"
      ]
     },
     "execution_count": 15,
     "metadata": {},
     "output_type": "execute_result"
    }
   ],
   "source": [
    "np.linalg.norm(rho1i.block(1).values/test.block(1).values -1)"
   ]
  },
  {
   "cell_type": "markdown",
   "id": "a84fd6a5-e916-45a1-8f69-4b1c2bbc04f5",
   "metadata": {},
   "source": [
    "# Now compute the correlation stuff!"
   ]
  },
  {
   "cell_type": "code",
   "execution_count": 16,
   "id": "fef55fd3",
   "metadata": {},
   "outputs": [],
   "source": [
    "cg = ClebschGordanReal(5)"
   ]
  },
  {
   "cell_type": "markdown",
   "id": "0ec41731-52da-452d-a1e3-5872509655df",
   "metadata": {},
   "source": [
    "## pair features"
   ]
  },
  {
   "cell_type": "code",
   "execution_count": 17,
   "id": "03e4745f",
   "metadata": {},
   "outputs": [
    {
     "name": "stdout",
     "output_type": "stream",
     "text": [
      "CPU times: user 6.7 s, sys: 125 ms, total: 6.83 s\n",
      "Wall time: 6.83 s\n"
     ]
    }
   ],
   "source": [
    "%%time\n",
    "rhoii1i2_nu0 = cg_combine(gij, gij, clebsch_gordan=cg, other_keys_match=['species_center'], lcut=3)"
   ]
  },
  {
   "cell_type": "code",
   "execution_count": 18,
   "id": "10298778",
   "metadata": {},
   "outputs": [
    {
     "name": "stdout",
     "output_type": "stream",
     "text": [
      "CPU times: user 4.81 s, sys: 403 ms, total: 5.21 s\n",
      "Wall time: 5.31 s\n"
     ]
    }
   ],
   "source": [
    "%%time \n",
    "rhoii1i2_nu1 =  cg_combine(rho1i, rhoii1i2_nu0, clebsch_gordan=cg, other_keys_match = ['species_center'], lcut=0, filter_sigma=[1])"
   ]
  },
  {
   "cell_type": "markdown",
   "id": "7d789a6c-9b1a-4c61-af57-7000fb312349",
   "metadata": {},
   "source": [
    "### sanity checks"
   ]
  },
  {
   "cell_type": "code",
   "execution_count": 19,
   "id": "1bc28f4e-d0b4-4de3-859b-7da8ee8f9963",
   "metadata": {},
   "outputs": [],
   "source": [
    "# nb: we disable lexicographic sorting of L to have comparable feature layout\n",
    "rho2i_full = cg_combine(rho1i, rho1i, clebsch_gordan=cg, lcut=3, sorted_l=False)\n",
    "test = operations.sum_over_samples(rhoii1i2_nu0, samples_names=[\"neighbor_1\", \"neighbor_2\"]) "
   ]
  },
  {
   "cell_type": "code",
   "execution_count": 20,
   "id": "6e8f0053-09a1-4761-a5a0-b461cb508614",
   "metadata": {},
   "outputs": [
    {
     "data": {
      "text/plain": [
       "1.1257237471483063e-11"
      ]
     },
     "execution_count": 20,
     "metadata": {},
     "output_type": "execute_result"
    }
   ],
   "source": [
    "np.linalg.norm(rho2i_full.block(2).values/test.block(2).values-1)"
   ]
  },
  {
   "cell_type": "markdown",
   "id": "c36797a2-a0ca-4064-87c0-7074cf225e44",
   "metadata": {},
   "source": [
    "## higher-order "
   ]
  },
  {
   "cell_type": "code",
   "execution_count": 21,
   "id": "a11b404f",
   "metadata": {},
   "outputs": [
    {
     "name": "stdout",
     "output_type": "stream",
     "text": [
      "CPU times: user 5.99 s, sys: 1.48 s, total: 7.47 s\n",
      "Wall time: 7.52 s\n"
     ]
    }
   ],
   "source": [
    "%%time\n",
    "# here we use all tricks to reduce cost\n",
    "rho2i = cg_increment(rho1i, rho1i, clebsch_gordan=cg, lcut=3)\n",
    "rho3i = cg_increment(rho2i, rho1i, clebsch_gordan=cg, lcut=3)\n",
    "rho4i = cg_increment(rho3i, rho1i, clebsch_gordan=cg, lcut=3)\n",
    "rho5i = cg_increment(rho4i, rho1i, clebsch_gordan=cg, lcut=0, filter_sigma=[1])"
   ]
  },
  {
   "cell_type": "code",
   "execution_count": 22,
   "id": "d828a167-e710-4646-9941-8e231f15f20b",
   "metadata": {},
   "outputs": [
    {
     "name": "stdout",
     "output_type": "stream",
     "text": [
      "CPU times: user 3 µs, sys: 0 ns, total: 3 µs\n",
      "Wall time: 4.77 µs\n"
     ]
    }
   ],
   "source": [
    "%%time \n",
    "#rho5il1 = cg_increment(rho4i, rho1i, clebsch_gordan=cg, lcut=1)"
   ]
  },
  {
   "cell_type": "code",
   "execution_count": 23,
   "id": "42677e82-3956-4c3a-a9ba-e3f386bbcb7c",
   "metadata": {},
   "outputs": [
    {
     "name": "stdout",
     "output_type": "stream",
     "text": [
      "CPU times: user 3 µs, sys: 1e+03 ns, total: 4 µs\n",
      "Wall time: 5.96 µs\n"
     ]
    }
   ],
   "source": [
    "%time \n",
    "#rho6il1 = cg_increment(rho5il1, rho1i, clebsch_gordan=cg, lcut=1)"
   ]
  },
  {
   "cell_type": "code",
   "execution_count": 24,
   "id": "c2aa90d4-960b-4566-aa74-ec913726147d",
   "metadata": {},
   "outputs": [
    {
     "name": "stdout",
     "output_type": "stream",
     "text": [
      "CPU times: user 4 µs, sys: 1 µs, total: 5 µs\n",
      "Wall time: 10.3 µs\n"
     ]
    }
   ],
   "source": [
    "%time \n",
    "#rho7i = cg_increment(rho6il1, rho1i, clebsch_gordan=cg, lcut=0, filter_sigma=[1])"
   ]
  },
  {
   "cell_type": "markdown",
   "id": "3169eb52-97e8-4cc6-87f0-52664255ee7d",
   "metadata": {},
   "source": [
    "Since we have a LOT of features and few structures, we use PCA to reduce the number of features with no information loss"
   ]
  },
  {
   "cell_type": "code",
   "execution_count": 25,
   "id": "641fbfd9-aca1-48d9-a29e-ab21aacf3413",
   "metadata": {},
   "outputs": [],
   "source": [
    "from sklearn.decomposition import PCA"
   ]
  },
  {
   "cell_type": "code",
   "execution_count": 26,
   "id": "a1e825e6-0bcf-4531-b7a0-3795a609a8a9",
   "metadata": {},
   "outputs": [
    {
     "data": {
      "text/plain": [
       "[<matplotlib.lines.Line2D at 0x7fe410112be0>]"
      ]
     },
     "execution_count": 26,
     "metadata": {},
     "output_type": "execute_result"
    },
    {
     "data": {
      "image/png": "[encoded data removed]",
      "text/plain": [
       "<Figure size 432x288 with 1 Axes>"
      ]
     },
     "metadata": {
      "needs_background": "light"
     },
     "output_type": "display_data"
    }
   ],
   "source": [
    "plt.plot(rhoii1i2_nu1.block(0).values.squeeze()[:64].sum(axis=0)*2e3,'r-')\n",
    "plt.plot(rho3i.block(inversion_sigma=1,spherical_harmonics_l=0).values.squeeze()[0], 'b--')"
   ]
  },
  {
   "cell_type": "code",
   "execution_count": 27,
   "id": "a4199b01-c90f-4dda-9c23-0a39e20b0f75",
   "metadata": {},
   "outputs": [],
   "source": [
    "triplet_samples = rhoii1i2_nu1.block(0).samples\n",
    "raw = rhoii1i2_nu1.block(0).values.squeeze()\n",
    "feats_n2nu1 = torch.tensor(PCA(n_components=min(raw.shape[0],raw.shape[-1])).fit_transform(raw))\n",
    "feats_n2nu1 /= np.sqrt((feats_n2nu1**2).sum(axis=1).mean())"
   ]
  },
  {
   "cell_type": "code",
   "execution_count": 28,
   "id": "9ab5bb5d-2ab7-4abc-a99a-463723c5545b",
   "metadata": {},
   "outputs": [],
   "source": [
    "raw = np.hstack([\n",
    "    rho1i.block(inversion_sigma=1,spherical_harmonics_l=0).values.squeeze(),\n",
    "    rho2i.block(inversion_sigma=1,spherical_harmonics_l=0).values.squeeze(),\n",
    "    rho3i.block(inversion_sigma=1,spherical_harmonics_l=0).values.squeeze()\n",
    "])\n",
    "feats_nu123 = torch.tensor(PCA(n_components=min(raw.shape[0],raw.shape[-1])).fit_transform(raw) / np.sqrt((raw**2).sum(axis=1).mean()))"
   ]
  },
  {
   "cell_type": "code",
   "execution_count": 29,
   "id": "95294e92-1170-42df-941a-c602cd2daba6",
   "metadata": {},
   "outputs": [],
   "source": [
    "raw = np.hstack([\n",
    "    rho1i.block(inversion_sigma=1,spherical_harmonics_l=0).values.squeeze(),\n",
    "    rho2i.block(inversion_sigma=1,spherical_harmonics_l=0).values.squeeze(),\n",
    "    rho3i.block(inversion_sigma=1,spherical_harmonics_l=0).values.squeeze(),\n",
    "    rho4i.block(inversion_sigma=1,spherical_harmonics_l=0).values.squeeze(),\n",
    "    rho5i.block(inversion_sigma=1,spherical_harmonics_l=0).values.squeeze()\n",
    "])\n",
    "feats_nu12345 = torch.tensor(PCA(n_components=min(raw.shape[0],raw.shape[-1])).fit_transform(raw) / np.sqrt((raw**2).sum(axis=1).mean()))"
   ]
  },
  {
   "cell_type": "code",
   "execution_count": 30,
   "id": "2080f6da-7cfc-4ff8-9938-208bd10ef745",
   "metadata": {},
   "outputs": [
    {
     "name": "stdout",
     "output_type": "stream",
     "text": [
      "tensor(244)\n"
     ]
    },
    {
     "data": {
      "image/png": "[encoded data removed]",
      "text/plain": [
       "<Figure size 432x288 with 1 Axes>"
      ]
     },
     "metadata": {
      "needs_background": "light"
     },
     "output_type": "display_data"
    }
   ],
   "source": [
    "plt.plot(np.sqrt(((feats_nu12345[::2]-feats_nu12345[1::2])**2).sum(axis=1))/np.sqrt(((feats_nu12345[::2]+feats_nu12345[1::2])**2).sum(axis=1)) )\n",
    "print(np.sqrt(((feats_nu12345[::2]-feats_nu12345[1::2])**2).sum(axis=1)).argmax())"
   ]
  },
  {
   "cell_type": "code",
   "execution_count": 31,
   "id": "28966a98-1820-4125-b305-c2b8ee98ccd4",
   "metadata": {},
   "outputs": [
    {
     "data": {
      "text/plain": [
       "[<matplotlib.lines.Line2D at 0x7fe410d79040>]"
      ]
     },
     "execution_count": 31,
     "metadata": {},
     "output_type": "execute_result"
    },
    {
     "data": {
      "image/png": "[encoded data removed]",
      "text/plain": [
       "<Figure size 432x288 with 1 Axes>"
      ]
     },
     "metadata": {
      "needs_background": "light"
     },
     "output_type": "display_data"
    }
   ],
   "source": [
    "plt.plot(feats_nu12345[14])\n",
    "plt.plot(feats_nu12345[15])"
   ]
  },
  {
   "cell_type": "code",
   "execution_count": 32,
   "id": "6ed18077-abac-447f-aadf-08e107cdd32f",
   "metadata": {},
   "outputs": [
    {
     "data": {
      "text/plain": [
       "[<matplotlib.lines.Line2D at 0x7fe410e30310>]"
      ]
     },
     "execution_count": 32,
     "metadata": {},
     "output_type": "execute_result"
    },
    {
     "data": {
      "image/png": "[encoded data removed]",
      "text/plain": [
       "<Figure size 432x288 with 1 Axes>"
      ]
     },
     "metadata": {
      "needs_background": "light"
     },
     "output_type": "display_data"
    }
   ],
   "source": [
    "plt.plot(feats_nu12345[20]-feats_nu12345[21])"
   ]
  },
  {
   "cell_type": "code",
   "execution_count": 33,
   "id": "5a70c59b-c86f-41b2-a384-9f75fecfd926",
   "metadata": {},
   "outputs": [
    {
     "data": {
      "text/plain": [
       "[<matplotlib.lines.Line2D at 0x7fe3faf203a0>]"
      ]
     },
     "execution_count": 33,
     "metadata": {},
     "output_type": "execute_result"
    },
    {
     "data": {
      "image/png": "[encoded data removed]",
      "text/plain": [
       "<Figure size 432x288 with 1 Axes>"
      ]
     },
     "metadata": {
      "needs_background": "light"
     },
     "output_type": "display_data"
    }
   ],
   "source": [
    "plt.plot(feats_nu123[::2,7], feats_nu123[::2,8], 'b.')\n",
    "plt.plot(feats_nu123[1::2,7], feats_nu123[1::2,8], 'rx')"
   ]
  },
  {
   "cell_type": "code",
   "execution_count": 34,
   "id": "8f4ef6fe-bae7-4dc9-90c9-b52b141978d4",
   "metadata": {},
   "outputs": [
    {
     "data": {
      "text/plain": [
       "[<matplotlib.lines.Line2D at 0x7fe41015ba90>]"
      ]
     },
     "execution_count": 34,
     "metadata": {},
     "output_type": "execute_result"
    },
    {
     "data": {
      "image/png": "[encoded data removed]",
      "text/plain": [
       "<Figure size 432x288 with 1 Axes>"
      ]
     },
     "metadata": {
      "needs_background": "light"
     },
     "output_type": "display_data"
    }
   ],
   "source": [
    "plt.plot(feats_nu12345[::2,2], feats_nu12345[::2,3], 'b.')\n",
    "plt.plot(feats_nu12345[1::2,2], feats_nu12345[1::2,3], 'rx')"
   ]
  },
  {
   "cell_type": "code",
   "execution_count": 35,
   "id": "10199ba6-e2e5-4bfc-a873-5678444055a2",
   "metadata": {},
   "outputs": [
    {
     "data": {
      "text/plain": [
       "[<matplotlib.lines.Line2D at 0x7fe410db89a0>]"
      ]
     },
     "execution_count": 35,
     "metadata": {},
     "output_type": "execute_result"
    },
    {
     "data": {
      "image/png": "[encoded data removed]",
      "text/plain": [
       "<Figure size 432x288 with 1 Axes>"
      ]
     },
     "metadata": {
      "needs_background": "light"
     },
     "output_type": "display_data"
    }
   ],
   "source": [
    "plt.plot(feats_nu12345[::2,12], feats_nu12345[::2,13], 'b.')\n",
    "plt.plot(feats_nu12345[1::2,12], feats_nu12345[1::2,13], 'rx')"
   ]
  },
  {
   "cell_type": "markdown",
   "id": "7057a862-3261-464d-8060-9116b8415338",
   "metadata": {},
   "source": [
    "# Now we make an autoencoder thingie"
   ]
  },
  {
   "cell_type": "code",
   "execution_count": 36,
   "id": "1ba29c23-da18-4d6a-8b0e-1491268db39f",
   "metadata": {},
   "outputs": [],
   "source": [
    "def StructureMap(samples_structure, device=\"cpu\"):\n",
    "    unique_structures, unique_structures_idx = np.unique(\n",
    "        samples_structure, return_index=True\n",
    "    )\n",
    "    new_samples = samples_structure[np.sort(unique_structures_idx)]\n",
    "    # we need a list keeping track of where each atomic contribution goes\n",
    "    # (e.g. if structure ids are [3,3,3,1,1,1,6,6,6] that will be stored as\n",
    "    # the unique structures [3, 1, 6], structure_map will be\n",
    "    # [0,0,0,1,1,1,2,2,2]\n",
    "    replace_rule = dict(zip(unique_structures, range(len(unique_structures))))\n",
    "    structure_map = torch.tensor(\n",
    "        [replace_rule[i] for i in samples_structure],\n",
    "        dtype=torch.long,\n",
    "        device=device,\n",
    "    )\n",
    "    return structure_map, new_samples, replace_rule"
   ]
  },
  {
   "cell_type": "code",
   "execution_count": 37,
   "id": "7067c569-c37a-45a0-931f-5b12321f9040",
   "metadata": {},
   "outputs": [],
   "source": [
    "class LinearEncodeDecode(torch.nn.Module):\n",
    "    def __init__(self, layer_size=100, feat_size=32, output_size=32):\n",
    "        super().__init__()\n",
    "\n",
    "        self.nn_encode = None\n",
    "        self.nn_decode = None\n",
    "        self.layer_size = layer_size \n",
    "        self.feat_size = feat_size\n",
    "        self.output_size= output_size        \n",
    "\n",
    "    def initialize_model_weights(self, block, seed):\n",
    "        if seed is not None:\n",
    "            torch.manual_seed(seed)\n",
    "\n",
    "        X = block\n",
    "\n",
    "        # initialize nn with zero weights ??\n",
    "        def init_zero_weights(m):\n",
    "            if isinstance(m, torch.nn.Linear):\n",
    "                m.weight.data.fill_(0)\n",
    "                m.bias.data.fill_(0)\n",
    "\n",
    "        self.nn_encode = torch.nn.Sequential(\n",
    "            torch.nn.Linear(X.shape[-1], self.feat_size))\n",
    "        self.nn_decode = torch.nn.Sequential(\n",
    "            torch.nn.Linear(self.feat_size, self.layer_size),\n",
    "            torch.nn.GroupNorm(4,self.layer_size),\n",
    "            torch.nn.Tanh(),\n",
    "            torch.nn.Linear(self.layer_size, self.layer_size),\n",
    "            torch.nn.GroupNorm(4,self.layer_size),\n",
    "            torch.nn.Tanh(),\n",
    "            torch.nn.Linear(self.layer_size, self.output_size),            \n",
    "        )\n",
    "    \n",
    "    def feats(self, block, samples):\n",
    "        tensor = block\n",
    "\n",
    "        structure_map, new_samples, _ = StructureMap(\n",
    "            samples, \"cpu\"\n",
    "        )\n",
    "        \n",
    "        nn_per_triple = self.nn_encode(tensor)\n",
    "        nn_per_structure = torch.zeros((len(new_samples), nn_per_triple.shape[-1]), device=tensor.device)\n",
    "        nn_per_structure.index_add_(0, structure_map, nn_per_triple)\n",
    "        return nn_per_structure\n",
    "        \n",
    "    def forward(self, block, samples):\n",
    "        if self.nn_encode is None:\n",
    "            raise Exception(\"call initialize_weights first\")\n",
    "\n",
    "        outputs = self.nn_decode(self.feats(block, samples))\n",
    "        return outputs"
   ]
  },
  {
   "cell_type": "code",
   "execution_count": 38,
   "id": "ac25a569-9d2a-48c6-9f12-03225436269d",
   "metadata": {},
   "outputs": [],
   "source": [
    "class EncodeDecode(torch.nn.Module):\n",
    "    def __init__(self, layer_size=100, feat_size=32, output_size=32):\n",
    "        super().__init__()\n",
    "\n",
    "        self.nn_encode = None\n",
    "        self.nn_decode = None\n",
    "        self.feat_size = feat_size\n",
    "        self.layer_size = layer_size        \n",
    "        self.output_size= output_size        \n",
    "\n",
    "    def initialize_model_weights(self, block, seed):\n",
    "        if seed is not None:\n",
    "            torch.manual_seed(seed)\n",
    "\n",
    "        X = block\n",
    "\n",
    "        # initialize nn with zero weights ??\n",
    "        def init_zero_weights(m):\n",
    "            if isinstance(m, torch.nn.Linear):\n",
    "                m.weight.data.fill_(0)\n",
    "                m.bias.data.fill_(0)\n",
    "\n",
    "        self.nn_encode = torch.nn.Sequential(\n",
    "            \n",
    "            torch.nn.Linear(X.shape[-1], self.layer_size),\n",
    "            torch.nn.GroupNorm(4,self.layer_size),\n",
    "            torch.nn.Tanh(),\n",
    "            torch.nn.Linear(self.layer_size, self.layer_size),\n",
    "            torch.nn.GroupNorm(4,self.layer_size),\n",
    "            torch.nn.Tanh(),\n",
    "            torch.nn.Linear(self.layer_size, self.feat_size))\n",
    "        self.nn_decode = torch.nn.Sequential(\n",
    "            torch.nn.Linear(self.feat_size, self.layer_size),\n",
    "            torch.nn.GroupNorm(4,self.layer_size),\n",
    "            torch.nn.Tanh(),\n",
    "            torch.nn.Linear(self.layer_size, self.layer_size),\n",
    "            torch.nn.GroupNorm(4,self.layer_size),\n",
    "            torch.nn.Tanh(),\n",
    "            torch.nn.Linear(self.layer_size, self.output_size),            \n",
    "        )\n",
    "\n",
    "    def feats(self, block, samples):\n",
    "        tensor = block\n",
    "\n",
    "        structure_map, new_samples, _ = StructureMap(\n",
    "            samples, \"cpu\"\n",
    "        )\n",
    "        \n",
    "        nn_per_triple = self.nn_encode(tensor)\n",
    "        nn_per_structure = torch.zeros((len(new_samples), nn_per_triple.shape[-1]), device=tensor.device)\n",
    "        nn_per_structure.index_add_(0, structure_map, nn_per_triple)\n",
    "        return nn_per_structure\n",
    "        \n",
    "    def forward(self, block, samples):\n",
    "        if self.nn_encode is None:\n",
    "            raise Exception(\"call initialize_weights first\")\n",
    "\n",
    "        outputs = self.nn_decode(self.feats(block, samples))\n",
    "        return outputs"
   ]
  },
  {
   "cell_type": "code",
   "execution_count": 39,
   "id": "adb88985-8438-45f9-8f08-fb292201b455",
   "metadata": {},
   "outputs": [
    {
     "data": {
      "text/plain": [
       "torch.Size([1024, 1024])"
      ]
     },
     "execution_count": 39,
     "metadata": {},
     "output_type": "execute_result"
    }
   ],
   "source": [
    "feats_nu12345.shape"
   ]
  },
  {
   "cell_type": "code",
   "execution_count": 40,
   "id": "dd1f9be3-6364-45fb-9028-e2610227e1a1",
   "metadata": {},
   "outputs": [],
   "source": [
    "target = feats_nu12345[:,:128]"
   ]
  },
  {
   "cell_type": "code",
   "execution_count": 41,
   "id": "8f6dd2d5-076f-427e-9e9c-4e6e9a9256ee",
   "metadata": {},
   "outputs": [],
   "source": [
    "mymodel = LinearEncodeDecode(64, 32, target.shape[-1])"
   ]
  },
  {
   "cell_type": "code",
   "execution_count": 42,
   "id": "5b2eb04e-b04b-4acb-80df-7531c202bbf3",
   "metadata": {},
   "outputs": [],
   "source": [
    "mymodel = EncodeDecode(64, 32, target.shape[-1])"
   ]
  },
  {
   "cell_type": "code",
   "execution_count": 43,
   "id": "65f33b2d-c755-48a1-a8dd-1fac2659773c",
   "metadata": {},
   "outputs": [],
   "source": [
    "mymodel.initialize_model_weights(feats_n2nu1, seed=12345)"
   ]
  },
  {
   "cell_type": "code",
   "execution_count": 44,
   "id": "c92f92f8-83b9-4aa5-a6a2-f1fdc6797011",
   "metadata": {},
   "outputs": [],
   "source": [
    "def loss_mse(predicted, actual):\n",
    "    return torch.sum((predicted.flatten() - actual.flatten()) ** 2)"
   ]
  },
  {
   "cell_type": "code",
   "execution_count": 45,
   "id": "5227d4ca-c2c5-4645-a4b3-d66609ca7a92",
   "metadata": {},
   "outputs": [],
   "source": [
    "optimizer = torch.optim.LBFGS(\n",
    "        mymodel.parameters(),\n",
    "        lr=0.1,\n",
    "        line_search_fn=\"strong_wolfe\",\n",
    "        history_size=128,\n",
    "    )"
   ]
  },
  {
   "cell_type": "code",
   "execution_count": null,
   "id": "04446ae2-02f9-477d-8bd7-384cc941d3b3",
   "metadata": {},
   "outputs": [
    {
     "name": "stdout",
     "output_type": "stream",
     "text": [
      "Epoch: 0 Energy RMSE: train  0.0031470601748790567 test 0.0038199863260302254\n",
      "Epoch: 10 Energy RMSE: train  0.0031440337229968803 test 0.0038149223262636846\n",
      "Epoch: 20 Energy RMSE: train  0.003140774480567584 test 0.0038126200042388316\n",
      "Epoch: 30 Energy RMSE: train  0.0031380850731603967 test 0.0038141210140885022\n",
      "Epoch: 40 Energy RMSE: train  0.0031356758451794686 test 0.003811289493186124\n",
      "Epoch: 50 Energy RMSE: train  0.003132296553652237 test 0.0038015575432674116\n",
      "Epoch: 60 Energy RMSE: train  0.003129350656309708 test 0.003800388221777542\n",
      "Epoch: 70 Energy RMSE: train  0.0031264384730849567 test 0.003796847292808733\n",
      "Epoch: 80 Energy RMSE: train  0.0031235734794609156 test 0.003790538718004923\n",
      "Epoch: 90 Energy RMSE: train  0.003120892157142443 test 0.0037837701521803695\n",
      "Epoch: 100 Energy RMSE: train  0.003117583884299658 test 0.003782751701267481\n",
      "Epoch: 110 Energy RMSE: train  0.0031137085267309837 test 0.0037788326090778743\n",
      "Epoch: 120 Energy RMSE: train  0.003109742199603289 test 0.0037754965755885782\n",
      "Epoch: 130 Energy RMSE: train  0.0031065326521470585 test 0.003770113241989356\n",
      "Epoch: 140 Energy RMSE: train  0.003103278200929132 test 0.003771082603729812\n",
      "Epoch: 150 Energy RMSE: train  0.0031008055969122435 test 0.003769187872119788\n",
      "Epoch: 160 Energy RMSE: train  0.003097742236695122 test 0.003765260882032612\n",
      "Epoch: 170 Energy RMSE: train  0.0030946380719184576 test 0.0037622504922415812\n",
      "Epoch: 180 Energy RMSE: train  0.003090762766427869 test 0.0037614618520903304\n",
      "Epoch: 190 Energy RMSE: train  0.00308710794992155 test 0.003761602044294654\n",
      "Epoch: 200 Energy RMSE: train  0.0030836395602246067 test 0.0037614362240564556\n",
      "Epoch: 210 Energy RMSE: train  0.0030804150820969833 test 0.0037559968744699155\n",
      "Epoch: 220 Energy RMSE: train  0.003077313995908234 test 0.00375384154501314\n",
      "Epoch: 230 Energy RMSE: train  0.0030741024350122745 test 0.003754224086860926\n",
      "Epoch: 240 Energy RMSE: train  0.0030708778554742254 test 0.003751905370127594\n",
      "Epoch: 250 Energy RMSE: train  0.0030682270356494467 test 0.003744908936467325\n",
      "Epoch: 260 Energy RMSE: train  0.00306526262754806 test 0.0037322867549354406\n",
      "Epoch: 270 Energy RMSE: train  0.0030617351028424723 test 0.003726839496657483\n",
      "Epoch: 280 Energy RMSE: train  0.0030582270950386906 test 0.0037197521197143524\n",
      "Epoch: 290 Energy RMSE: train  0.00305508289628066 test 0.003718547919043637\n",
      "Epoch: 300 Energy RMSE: train  0.0030518769384992933 test 0.0037135036972021336\n",
      "Epoch: 310 Energy RMSE: train  0.003048785370353452 test 0.0037103899117850365\n",
      "Epoch: 320 Energy RMSE: train  0.003046320661326442 test 0.0037095366557893744\n",
      "Epoch: 330 Energy RMSE: train  0.003043726151451402 test 0.0037064500262398905\n",
      "Epoch: 340 Energy RMSE: train  0.003041283014544873 test 0.003706405304410508\n",
      "Epoch: 350 Energy RMSE: train  0.0030385659146296056 test 0.003705252610531857\n",
      "Epoch: 360 Energy RMSE: train  0.003035777961730313 test 0.003703764865511071\n",
      "Epoch: 370 Energy RMSE: train  0.0030329675481890555 test 0.0037023981315087917\n",
      "Epoch: 380 Energy RMSE: train  0.003030695856155393 test 0.0037029825181237757\n",
      "Epoch: 390 Energy RMSE: train  0.003028484989669285 test 0.003700731761641985\n",
      "Epoch: 400 Energy RMSE: train  0.0030263588255032147 test 0.0037008643408788255\n",
      "Epoch: 410 Energy RMSE: train  0.003023688063527339 test 0.00370159588234495\n",
      "Epoch: 420 Energy RMSE: train  0.0030210277338231168 test 0.0036992874382910817\n",
      "Epoch: 430 Energy RMSE: train  0.003018194293631866 test 0.003695441627181839\n",
      "Epoch: 440 Energy RMSE: train  0.0030156819552665352 test 0.003695994656659824\n",
      "Epoch: 450 Energy RMSE: train  0.0030131262616903127 test 0.0036942367161662765\n",
      "Epoch: 460 Energy RMSE: train  0.003010480305426885 test 0.0036951141536853186\n",
      "Epoch: 470 Energy RMSE: train  0.0030078895624438967 test 0.003691096120842622\n",
      "Epoch: 480 Energy RMSE: train  0.0030052753590380445 test 0.0036862675502615226\n",
      "Epoch: 490 Energy RMSE: train  0.003001749516389993 test 0.0036834469288070408\n",
      "Epoch: 500 Energy RMSE: train  0.002999183205625127 test 0.0036748010873501077\n",
      "Epoch: 510 Energy RMSE: train  0.0029957834474593327 test 0.003673891599409138\n",
      "Epoch: 520 Energy RMSE: train  0.002992967442882336 test 0.003664312412006008\n",
      "Epoch: 530 Energy RMSE: train  0.00298989182388322 test 0.0036644184078475773\n",
      "Epoch: 540 Energy RMSE: train  0.002986893649831195 test 0.003659522475177972\n",
      "Epoch: 550 Energy RMSE: train  0.002983744054885562 test 0.0036586658988833854\n",
      "Epoch: 560 Energy RMSE: train  0.0029806024843576063 test 0.003654081732277345\n",
      "Epoch: 570 Energy RMSE: train  0.0029782840596781434 test 0.0036535440748580077\n",
      "Epoch: 580 Energy RMSE: train  0.00297568512808747 test 0.003653651911816464\n",
      "Epoch: 590 Energy RMSE: train  0.002973614540180343 test 0.0036498505501477035\n",
      "Epoch: 600 Energy RMSE: train  0.0029712906491112068 test 0.003650130884264219\n",
      "Epoch: 610 Energy RMSE: train  0.002968744519385594 test 0.0036503863203602716\n",
      "Epoch: 620 Energy RMSE: train  0.002965754670392205 test 0.003648474297503402\n",
      "Epoch: 630 Energy RMSE: train  0.002963342395611898 test 0.0036447629367156857\n",
      "Epoch: 640 Energy RMSE: train  0.0029609198065799493 test 0.003641643815640862\n",
      "Epoch: 650 Energy RMSE: train  0.0029583955983355217 test 0.003636884319061465\n",
      "Epoch: 660 Energy RMSE: train  0.0029554566135448954 test 0.0036302817791554927\n",
      "Epoch: 670 Energy RMSE: train  0.002952245062203606 test 0.0036233159010494696\n",
      "Epoch: 680 Energy RMSE: train  0.0029490085353469815 test 0.003618172803157432\n",
      "Epoch: 690 Energy RMSE: train  0.0029464906260748642 test 0.003615282436931234\n",
      "Epoch: 700 Energy RMSE: train  0.0029434195086284025 test 0.003613667824708045\n",
      "Epoch: 710 Energy RMSE: train  0.0029395791466161774 test 0.0036061859270604775\n",
      "Epoch: 720 Energy RMSE: train  0.0029360479375576303 test 0.0036014975394047474\n",
      "Epoch: 730 Energy RMSE: train  0.0029313207703784974 test 0.003602233699846491\n",
      "Epoch: 740 Energy RMSE: train  0.0029271002709817134 test 0.003598761728936489\n",
      "Epoch: 750 Energy RMSE: train  0.0029231200240789736 test 0.0035915659562116885\n",
      "Epoch: 760 Energy RMSE: train  0.0029196498459128028 test 0.003586024139285102\n",
      "Epoch: 770 Energy RMSE: train  0.0029165469451733587 test 0.003576298850483907\n",
      "Epoch: 780 Energy RMSE: train  0.0029133142632948627 test 0.003570463411050082\n",
      "Epoch: 790 Energy RMSE: train  0.002910013516863834 test 0.0035679219149073998\n",
      "Epoch: 800 Energy RMSE: train  0.0029057200288427117 test 0.0035542060485256794\n",
      "Epoch: 810 Energy RMSE: train  0.0029016669648998083 test 0.0035507381615610422\n",
      "Epoch: 820 Energy RMSE: train  0.0028979905720449744 test 0.0035457327441110725\n",
      "Epoch: 830 Energy RMSE: train  0.0028946047006045863 test 0.0035364610844142736\n",
      "Epoch: 840 Energy RMSE: train  0.0028912962001137014 test 0.003528116674307613\n",
      "Epoch: 850 Energy RMSE: train  0.0028886630430573143 test 0.0035202459675577414\n",
      "Epoch: 860 Energy RMSE: train  0.0028853097952023002 test 0.0035215513712840317\n",
      "Epoch: 870 Energy RMSE: train  0.0028815905618115637 test 0.0035176058191155398\n",
      "Epoch: 880 Energy RMSE: train  0.0028777992831755294 test 0.0035135546192567218\n",
      "Epoch: 890 Energy RMSE: train  0.0028746177071480245 test 0.0035093599775558927\n",
      "Epoch: 900 Energy RMSE: train  0.0028712917686425066 test 0.0035047315431321327\n",
      "Epoch: 910 Energy RMSE: train  0.0028682764793684073 test 0.0035020993799765162\n",
      "Epoch: 920 Energy RMSE: train  0.0028654338609546593 test 0.003502530193012486\n",
      "Epoch: 930 Energy RMSE: train  0.002861338519222239 test 0.0034939227980785906\n",
      "Epoch: 940 Energy RMSE: train  0.0028575474811588296 test 0.0034824300254631744\n",
      "Epoch: 950 Energy RMSE: train  0.00285349107382164 test 0.003477556521217087\n",
      "Epoch: 960 Energy RMSE: train  0.0028495687087789507 test 0.003474002881419606\n",
      "Epoch: 970 Energy RMSE: train  0.002845939738629123 test 0.0034682374640905263\n",
      "Epoch: 980 Energy RMSE: train  0.002841911787327969 test 0.0034693816445941655\n",
      "Epoch: 990 Energy RMSE: train  0.0028373384969324227 test 0.003469036013301741\n",
      "Epoch: 1000 Energy RMSE: train  0.0028329202703536744 test 0.0034649589659208413\n",
      "Epoch: 1010 Energy RMSE: train  0.002829238220861409 test 0.00345823019604783\n",
      "Epoch: 1020 Energy RMSE: train  0.0028249815619226016 test 0.0034600027625800722\n",
      "Epoch: 1030 Energy RMSE: train  0.002821306896485777 test 0.003457643621724162\n",
      "Epoch: 1040 Energy RMSE: train  0.002817089574003247 test 0.0034573071957623366\n",
      "Epoch: 1050 Energy RMSE: train  0.0028127048046694986 test 0.003451368453176869\n",
      "Epoch: 1060 Energy RMSE: train  0.0028085332275404845 test 0.003443204561173352\n",
      "Epoch: 1070 Energy RMSE: train  0.002805417589015282 test 0.003438531370400066\n",
      "Epoch: 1080 Energy RMSE: train  0.002802271804441671 test 0.003433907570887134\n",
      "Epoch: 1090 Energy RMSE: train  0.0027990071218767193 test 0.0034314797535193006\n",
      "Epoch: 1100 Energy RMSE: train  0.0027948477127678812 test 0.003429580171753827\n",
      "Epoch: 1110 Energy RMSE: train  0.0027907362652234958 test 0.0034308858836303636\n",
      "Epoch: 1120 Energy RMSE: train  0.0027866449198606356 test 0.0034212606008233045\n",
      "Epoch: 1130 Energy RMSE: train  0.0027828337774006553 test 0.0034134279713902765\n",
      "Epoch: 1140 Energy RMSE: train  0.002779677721956298 test 0.0034122862579334216\n",
      "Epoch: 1150 Energy RMSE: train  0.002776044382964651 test 0.0034075463420275725\n",
      "Epoch: 1160 Energy RMSE: train  0.002772484780776923 test 0.003400563366091114\n",
      "Epoch: 1170 Energy RMSE: train  0.002769208163211443 test 0.0033980793757784357\n",
      "Epoch: 1180 Energy RMSE: train  0.0027657121729536722 test 0.0033914202517321477\n",
      "Epoch: 1190 Energy RMSE: train  0.002762148214837628 test 0.003383669562062246\n",
      "Epoch: 1200 Energy RMSE: train  0.002759051506509362 test 0.003376605006290247\n",
      "Epoch: 1210 Energy RMSE: train  0.002755496052023468 test 0.003368019066493144\n",
      "Epoch: 1220 Energy RMSE: train  0.0027519073144347816 test 0.0033686662774862837\n",
      "Epoch: 1230 Energy RMSE: train  0.002748124681265658 test 0.0033693748769444026\n",
      "Epoch: 1240 Energy RMSE: train  0.002744332572596001 test 0.0033648328302717857\n",
      "Epoch: 1250 Energy RMSE: train  0.0027397519709533636 test 0.0033614010239304774\n",
      "Epoch: 1260 Energy RMSE: train  0.0027364620670687527 test 0.0033578768665881173\n",
      "Epoch: 1270 Energy RMSE: train  0.0027338414554513805 test 0.0033557162170836543\n",
      "Epoch: 1280 Energy RMSE: train  0.0027308837977950058 test 0.003357463435213652\n",
      "Epoch: 1290 Energy RMSE: train  0.0027274717410831384 test 0.00335525116773956\n",
      "Epoch: 1300 Energy RMSE: train  0.0027239685786667293 test 0.003349253589478543\n",
      "Epoch: 1310 Energy RMSE: train  0.0027195647987271372 test 0.003343197092325137\n",
      "Epoch: 1320 Energy RMSE: train  0.0027148160734248236 test 0.003338122270873004\n",
      "Epoch: 1330 Energy RMSE: train  0.0027108612196241016 test 0.0033399424375731234\n",
      "Epoch: 1340 Energy RMSE: train  0.0027072040353356645 test 0.0033328047717658183\n",
      "Epoch: 1350 Energy RMSE: train  0.002703742054692687 test 0.003329217760855164\n",
      "Epoch: 1360 Energy RMSE: train  0.0027001964080525832 test 0.003320448391334135\n",
      "Epoch: 1370 Energy RMSE: train  0.0026968905981115707 test 0.0033182136288857707\n",
      "Epoch: 1380 Energy RMSE: train  0.0026932949415596308 test 0.0033113744432204284\n",
      "Epoch: 1390 Energy RMSE: train  0.0026894083108441047 test 0.003304764184538025\n",
      "Epoch: 1400 Energy RMSE: train  0.0026854131197759016 test 0.0033001354002921267\n",
      "Epoch: 1410 Energy RMSE: train  0.0026812739918741415 test 0.003298452840108075\n",
      "Epoch: 1420 Energy RMSE: train  0.002676658266451076 test 0.0032881683893698534\n",
      "Epoch: 1430 Energy RMSE: train  0.0026727145028248426 test 0.003283210716963837\n",
      "Epoch: 1440 Energy RMSE: train  0.002668450876581104 test 0.0032813732076599324\n",
      "Epoch: 1450 Energy RMSE: train  0.002663610675601427 test 0.0032707205177683347\n",
      "Epoch: 1460 Energy RMSE: train  0.0026585912440399762 test 0.003270771507094443\n",
      "Epoch: 1470 Energy RMSE: train  0.002653963032196304 test 0.0032668838378920244\n",
      "Epoch: 1480 Energy RMSE: train  0.0026484776055721317 test 0.0032614390917390973\n",
      "Epoch: 1490 Energy RMSE: train  0.002643612853747562 test 0.003258007358598866\n",
      "Epoch: 1500 Energy RMSE: train  0.0026403095392144834 test 0.0032550872014843065\n",
      "Epoch: 1510 Energy RMSE: train  0.0026373042580640294 test 0.003251587872445362\n",
      "Epoch: 1520 Energy RMSE: train  0.0026345269336549 test 0.003248153394271325\n",
      "Epoch: 1530 Energy RMSE: train  0.0026314424815193863 test 0.003243719626457749\n",
      "Epoch: 1540 Energy RMSE: train  0.002628887583212792 test 0.0032436449883191196\n",
      "Epoch: 1550 Energy RMSE: train  0.0026251876627816665 test 0.0032379011076608265\n",
      "Epoch: 1560 Energy RMSE: train  0.002620212249801054 test 0.0032329646260321567\n",
      "Epoch: 1570 Energy RMSE: train  0.0026161687602589616 test 0.0032213564171727385\n",
      "Epoch: 1580 Energy RMSE: train  0.0026125017042455665 test 0.003220327443864023\n",
      "Epoch: 1590 Energy RMSE: train  0.0026079738028964477 test 0.003220220249126508\n",
      "Epoch: 1600 Energy RMSE: train  0.002603340086750807 test 0.003210111340227691\n",
      "Epoch: 1610 Energy RMSE: train  0.0025989433106753867 test 0.0032013384263654267\n",
      "Epoch: 1620 Energy RMSE: train  0.00259516164654543 test 0.0031972097953727936\n",
      "Epoch: 1630 Energy RMSE: train  0.002591522172764583 test 0.003194673561218157\n",
      "Epoch: 1640 Energy RMSE: train  0.0025881174589249185 test 0.0031909135737599502\n",
      "Epoch: 1650 Energy RMSE: train  0.0025842061747261965 test 0.0031914635036132833\n",
      "Epoch: 1660 Energy RMSE: train  0.0025801147885859345 test 0.0031850462608733637\n",
      "Epoch: 1670 Energy RMSE: train  0.00257541724797117 test 0.0031902699813689435\n",
      "Epoch: 1680 Energy RMSE: train  0.002570590289740163 test 0.003191212621693882\n",
      "Epoch: 1690 Energy RMSE: train  0.002565896840654305 test 0.003186562261466505\n",
      "Epoch: 1700 Energy RMSE: train  0.002561802136712338 test 0.0031817876036877683\n",
      "Epoch: 1710 Energy RMSE: train  0.002557960513016588 test 0.0031768934265186456\n",
      "Epoch: 1720 Energy RMSE: train  0.002554301651199582 test 0.0031735444423680722\n",
      "Epoch: 1730 Energy RMSE: train  0.002550982887883994 test 0.0031724895352562873\n",
      "Epoch: 1740 Energy RMSE: train  0.0025470791348411945 test 0.003166361393819897\n",
      "Epoch: 1750 Energy RMSE: train  0.002543337561980128 test 0.0031642674260354835\n",
      "Epoch: 1760 Energy RMSE: train  0.0025395370782243455 test 0.0031536560884992413\n",
      "Epoch: 1770 Energy RMSE: train  0.002535983258280487 test 0.0031502543498231495\n",
      "Epoch: 1780 Energy RMSE: train  0.0025328782447195408 test 0.003148862889236293\n",
      "Epoch: 1790 Energy RMSE: train  0.0025297584612828695 test 0.003146363672920592\n",
      "Epoch: 1800 Energy RMSE: train  0.002526671489675829 test 0.0031415844241538624\n",
      "Epoch: 1810 Energy RMSE: train  0.0025228204970819917 test 0.003141167194514705\n",
      "Epoch: 1820 Energy RMSE: train  0.002518873649728833 test 0.0031363951736479647\n",
      "Epoch: 1830 Energy RMSE: train  0.0025152749080388772 test 0.003136008626977761\n",
      "Epoch: 1840 Energy RMSE: train  0.002511735657721451 test 0.00313340186200908\n",
      "Epoch: 1850 Energy RMSE: train  0.0025084463928451203 test 0.0031255496191822402\n",
      "Epoch: 1860 Energy RMSE: train  0.0025055449594942884 test 0.0031207668075549687\n",
      "Epoch: 1870 Energy RMSE: train  0.0025020571869556803 test 0.0031191902593405226\n",
      "Epoch: 1880 Energy RMSE: train  0.002498644144196592 test 0.0031141965803507935\n",
      "Epoch: 1890 Energy RMSE: train  0.002494206389036103 test 0.0031086758752255305\n",
      "Epoch: 1900 Energy RMSE: train  0.0024903172588085576 test 0.003102666827180729\n",
      "Epoch: 1910 Energy RMSE: train  0.0024866484285743988 test 0.0030997226520848753\n",
      "Epoch: 1920 Energy RMSE: train  0.0024828310180245914 test 0.003100648894392431\n",
      "Epoch: 1930 Energy RMSE: train  0.0024795916641573157 test 0.0030993713150855775\n",
      "Epoch: 1940 Energy RMSE: train  0.0024755752228745012 test 0.0031000311390778725\n",
      "Epoch: 1950 Energy RMSE: train  0.0024720500937694626 test 0.0030961139679621464\n",
      "Epoch: 1960 Energy RMSE: train  0.0024689256657034996 test 0.003095991035207625\n",
      "Epoch: 1970 Energy RMSE: train  0.00246600486841192 test 0.0030910662835131786\n",
      "Epoch: 1980 Energy RMSE: train  0.0024628974750737923 test 0.003089552764553934\n",
      "Epoch: 1990 Energy RMSE: train  0.0024594181341527827 test 0.0030818412277653136\n",
      "Epoch: 2000 Energy RMSE: train  0.0024562289007208672 test 0.0030759330461894593\n",
      "Epoch: 2010 Energy RMSE: train  0.0024534916935063968 test 0.003076345446942884\n",
      "Epoch: 2020 Energy RMSE: train  0.00245039548641169 test 0.003078525493428201\n",
      "Epoch: 2030 Energy RMSE: train  0.0024475722335820503 test 0.0030725108684506925\n",
      "Epoch: 2040 Energy RMSE: train  0.002443889710896596 test 0.003067352171042124\n",
      "Epoch: 2050 Energy RMSE: train  0.0024410187342460707 test 0.0030607172588474714\n",
      "Epoch: 2060 Energy RMSE: train  0.0024381105682838404 test 0.003065711068213416\n",
      "Epoch: 2070 Energy RMSE: train  0.002435486285294914 test 0.003067099145105699\n",
      "Epoch: 2080 Energy RMSE: train  0.0024328231015968435 test 0.0030587387226005697\n",
      "Epoch: 2090 Energy RMSE: train  0.0024304846370883826 test 0.0030573846767778658\n",
      "Epoch: 2100 Energy RMSE: train  0.0024276322858298063 test 0.0030544246357395084\n",
      "Epoch: 2110 Energy RMSE: train  0.002424490676253841 test 0.0030535746741375365\n",
      "Epoch: 2120 Energy RMSE: train  0.002421887024314532 test 0.0030508592653009274\n",
      "Epoch: 2130 Energy RMSE: train  0.0024189463139343585 test 0.003047817675165823\n",
      "Epoch: 2140 Energy RMSE: train  0.002415716580560684 test 0.0030426614836617655\n",
      "Epoch: 2150 Energy RMSE: train  0.0024129817511626115 test 0.0030386106421176093\n",
      "Epoch: 2160 Energy RMSE: train  0.002410621700281129 test 0.0030351711406214335\n",
      "Epoch: 2170 Energy RMSE: train  0.002407951688413165 test 0.003031663153953104\n",
      "Epoch: 2180 Energy RMSE: train  0.0024054672465033877 test 0.0030292899644532066\n",
      "Epoch: 2190 Energy RMSE: train  0.0024029796963586096 test 0.00302468031694719\n",
      "Epoch: 2200 Energy RMSE: train  0.0023996841891645864 test 0.0030240639828249317\n",
      "Epoch: 2210 Energy RMSE: train  0.002396444132371119 test 0.0030211691595418933\n",
      "Epoch: 2220 Energy RMSE: train  0.0023929139776310815 test 0.0030125193441792784\n",
      "Epoch: 2230 Energy RMSE: train  0.0023898595020268873 test 0.003013688954956611\n",
      "Epoch: 2240 Energy RMSE: train  0.002386360347183462 test 0.0030137338788083145\n",
      "Epoch: 2250 Energy RMSE: train  0.002382582523558907 test 0.003016018480667978\n",
      "Epoch: 2260 Energy RMSE: train  0.002379494916217084 test 0.0030115923620179265\n",
      "Epoch: 2270 Energy RMSE: train  0.002376788682347683 test 0.003013939273411258\n",
      "Epoch: 2280 Energy RMSE: train  0.0023741372825520643 test 0.0030165354857842534\n",
      "Epoch: 2290 Energy RMSE: train  0.002372022987700512 test 0.003016358641222295\n",
      "Epoch: 2300 Energy RMSE: train  0.0023694572184318483 test 0.0030198867247466232\n",
      "Epoch: 2310 Energy RMSE: train  0.0023666092333291173 test 0.003020471904121163\n",
      "Epoch: 2320 Energy RMSE: train  0.0023635886081850117 test 0.0030175158877280978\n",
      "Epoch: 2330 Energy RMSE: train  0.0023607706347147667 test 0.003015863439614443\n",
      "Epoch: 2340 Energy RMSE: train  0.0023574895128878064 test 0.0030127638933255\n",
      "Epoch: 2350 Energy RMSE: train  0.0023549897066803688 test 0.0030123134586973275\n",
      "Epoch: 2360 Energy RMSE: train  0.0023526382573955565 test 0.0030093321721373577\n",
      "Epoch: 2370 Energy RMSE: train  0.0023503123730309146 test 0.0030064472387681907\n",
      "Epoch: 2380 Energy RMSE: train  0.0023485162414677713 test 0.003003888676629991\n",
      "Epoch: 2390 Energy RMSE: train  0.0023463467607950468 test 0.0029964602763080965\n",
      "Epoch: 2400 Energy RMSE: train  0.002344075676863028 test 0.0029918197845250002\n",
      "Epoch: 2410 Energy RMSE: train  0.0023422078480579297 test 0.002989368596838237\n",
      "Epoch: 2420 Energy RMSE: train  0.0023403365774594133 test 0.0029885271884892177\n",
      "Epoch: 2430 Energy RMSE: train  0.0023382894317611055 test 0.0029851204348958324\n",
      "Epoch: 2440 Energy RMSE: train  0.002336175722562522 test 0.00298387018094682\n",
      "Epoch: 2450 Energy RMSE: train  0.0023342879630755607 test 0.0029782553165626103\n",
      "Epoch: 2460 Energy RMSE: train  0.0023321805105608498 test 0.002978081686234867\n",
      "Epoch: 2470 Energy RMSE: train  0.002329463553898311 test 0.002974615006027032\n",
      "Epoch: 2480 Energy RMSE: train  0.0023268024900474703 test 0.002970819553967491\n",
      "Epoch: 2490 Energy RMSE: train  0.0023242210850382412 test 0.0029670886701166823\n",
      "Epoch: 2500 Energy RMSE: train  0.0023218667282893465 test 0.002961621670604934\n",
      "Epoch: 2510 Energy RMSE: train  0.0023195012470556787 test 0.002959772513133967\n",
      "Epoch: 2520 Energy RMSE: train  0.0023176830746431372 test 0.0029583838364056277\n",
      "Epoch: 2530 Energy RMSE: train  0.0023156515846917023 test 0.0029583927370134644\n",
      "Epoch: 2540 Energy RMSE: train  0.002313559146421253 test 0.0029531316763326348\n",
      "Epoch: 2550 Energy RMSE: train  0.00231124407052501 test 0.0029530119104068985\n",
      "Epoch: 2560 Energy RMSE: train  0.0023090474164043214 test 0.002950978193747626\n",
      "Epoch: 2570 Energy RMSE: train  0.0023064507172139903 test 0.002949662136510563\n",
      "Epoch: 2580 Energy RMSE: train  0.00230399060469487 test 0.0029472480382278237\n",
      "Epoch: 2590 Energy RMSE: train  0.0023018621392099483 test 0.002943027872213494\n",
      "Epoch: 2600 Energy RMSE: train  0.002300017233520007 test 0.002943291726082398\n",
      "Epoch: 2610 Energy RMSE: train  0.0022979390798783406 test 0.0029443201012224166\n",
      "Epoch: 2620 Energy RMSE: train  0.0022958250485914647 test 0.0029409826831656755\n",
      "Epoch: 2630 Energy RMSE: train  0.0022938123354610367 test 0.0029432130871191522\n",
      "Epoch: 2640 Energy RMSE: train  0.0022915647177580495 test 0.0029399780988210774\n",
      "Epoch: 2650 Energy RMSE: train  0.0022894204893321793 test 0.0029405969483197202\n",
      "Epoch: 2660 Energy RMSE: train  0.0022873209327316187 test 0.002942042089068857\n",
      "Epoch: 2670 Energy RMSE: train  0.0022850270866015617 test 0.002939947542127924\n",
      "Epoch: 2680 Energy RMSE: train  0.0022825359941913517 test 0.002938360975244482\n",
      "Epoch: 2690 Energy RMSE: train  0.002280262586027289 test 0.002935975165861737\n",
      "Epoch: 2700 Energy RMSE: train  0.0022785321788564455 test 0.0029371701846294287\n",
      "Epoch: 2710 Energy RMSE: train  0.0022763746442096455 test 0.0029356891943074265\n",
      "Epoch: 2720 Energy RMSE: train  0.002274421080824223 test 0.0029329467588705177\n",
      "Epoch: 2730 Energy RMSE: train  0.0022724094707420417 test 0.002932001504664597\n",
      "Epoch: 2740 Energy RMSE: train  0.002270541875581534 test 0.0029254081688326514\n",
      "Epoch: 2750 Energy RMSE: train  0.002267814917592553 test 0.00292301170267625\n",
      "Epoch: 2760 Energy RMSE: train  0.0022656611726442595 test 0.0029208200107426296\n",
      "Epoch: 2770 Energy RMSE: train  0.0022637454638427218 test 0.002917381039719909\n",
      "Epoch: 2780 Energy RMSE: train  0.002262153702832203 test 0.0029167376823788158\n",
      "Epoch: 2790 Energy RMSE: train  0.0022602815868944487 test 0.002916745629135465\n",
      "Epoch: 2800 Energy RMSE: train  0.0022583441683177745 test 0.002912669417553725\n",
      "Epoch: 2810 Energy RMSE: train  0.0022563828419970484 test 0.0029109429854189462\n",
      "Epoch: 2820 Energy RMSE: train  0.0022540577003412345 test 0.002908056393895117\n",
      "Epoch: 2830 Energy RMSE: train  0.0022515995916753823 test 0.002908752396616003\n",
      "Epoch: 2840 Energy RMSE: train  0.0022494735786384944 test 0.0029048133098345903\n",
      "Epoch: 2850 Energy RMSE: train  0.0022475191032038547 test 0.0029031994660279163\n",
      "Epoch: 2860 Energy RMSE: train  0.002245840219233634 test 0.0029010000882896654\n",
      "Epoch: 2870 Energy RMSE: train  0.002244539950000497 test 0.002900358154546189\n",
      "Epoch: 2880 Energy RMSE: train  0.0022431821793940615 test 0.002899457006681966\n",
      "Epoch: 2890 Energy RMSE: train  0.0022412353056107835 test 0.0029029213098054263\n",
      "Epoch: 2900 Energy RMSE: train  0.0022392195494924366 test 0.0029031802201725234\n",
      "Epoch: 2910 Energy RMSE: train  0.0022371859036880532 test 0.002903764884195081\n",
      "Epoch: 2920 Energy RMSE: train  0.002235346105013092 test 0.0029046913788293906\n",
      "Epoch: 2930 Energy RMSE: train  0.0022335256156323087 test 0.002903397821132995\n",
      "Epoch: 2940 Energy RMSE: train  0.002231980571700378 test 0.0029019057464857024\n",
      "Epoch: 2950 Energy RMSE: train  0.0022303583367395763 test 0.002901564895323423\n",
      "Epoch: 2960 Energy RMSE: train  0.0022283682311668228 test 0.00289990821763445\n",
      "Epoch: 2970 Energy RMSE: train  0.0022264103534068726 test 0.0028946756790263787\n",
      "Epoch: 2980 Energy RMSE: train  0.002224553900260335 test 0.0028950267918506647\n",
      "Epoch: 2990 Energy RMSE: train  0.002222686316442865 test 0.002891374922267207\n",
      "Epoch: 3000 Energy RMSE: train  0.002220790985616726 test 0.0028906955244135716\n",
      "Epoch: 3010 Energy RMSE: train  0.0022190351048144456 test 0.00289002260651502\n",
      "Epoch: 3020 Energy RMSE: train  0.002217408416498785 test 0.0028899613622689006\n",
      "Epoch: 3030 Energy RMSE: train  0.002215575508983744 test 0.0028874191829246073\n",
      "Epoch: 3040 Energy RMSE: train  0.0022138361252710733 test 0.0028869632350093048\n",
      "Epoch: 3050 Energy RMSE: train  0.0022122244710285053 test 0.002888927028298589\n",
      "Epoch: 3060 Energy RMSE: train  0.0022106005012922586 test 0.0028880171747237187\n",
      "Epoch: 3070 Energy RMSE: train  0.0022090341253797777 test 0.00288662343116851\n",
      "Epoch: 3080 Energy RMSE: train  0.0022072633491706487 test 0.0028904182632529395\n",
      "Epoch: 3090 Energy RMSE: train  0.002205518089703454 test 0.0028863354725726553\n",
      "Epoch: 3100 Energy RMSE: train  0.002203736249642902 test 0.0028871045774417022\n",
      "Epoch: 3110 Energy RMSE: train  0.0022017431402230284 test 0.0028857272998023212\n",
      "Epoch: 3120 Energy RMSE: train  0.0021993188866791086 test 0.002878605370146456\n",
      "Epoch: 3130 Energy RMSE: train  0.0021973601091684254 test 0.002880897951629705\n",
      "Epoch: 3140 Energy RMSE: train  0.0021955294663282914 test 0.0028765487750367466\n",
      "Epoch: 3150 Energy RMSE: train  0.002193432877797673 test 0.00287648672964419\n",
      "Epoch: 3160 Energy RMSE: train  0.0021916145256181928 test 0.002877011974555676\n",
      "Epoch: 3170 Energy RMSE: train  0.0021899521872383977 test 0.0028780683317149434\n",
      "Epoch: 3180 Energy RMSE: train  0.0021882509921014363 test 0.0028765820396683952\n",
      "Epoch: 3190 Energy RMSE: train  0.0021861916777938303 test 0.002875633649744382\n",
      "Epoch: 3200 Energy RMSE: train  0.0021844447286990714 test 0.0028743624240070357\n",
      "Epoch: 3210 Energy RMSE: train  0.002182734289709795 test 0.0028755937136691356\n",
      "Epoch: 3220 Energy RMSE: train  0.002181261139064244 test 0.002876023991990621\n",
      "Epoch: 3230 Energy RMSE: train  0.0021797891010495248 test 0.0028765446614784458\n",
      "Epoch: 3240 Energy RMSE: train  0.002178707346568414 test 0.0028767571399369823\n",
      "Epoch: 3250 Energy RMSE: train  0.0021771210783177383 test 0.002878221573632753\n",
      "Epoch: 3260 Energy RMSE: train  0.002175132476442021 test 0.0028765811511714044\n",
      "Epoch: 3270 Energy RMSE: train  0.0021731846529336792 test 0.002875060613606694\n",
      "Epoch: 3280 Energy RMSE: train  0.002171387033903133 test 0.002868359530515776\n",
      "Epoch: 3290 Energy RMSE: train  0.002169695592597868 test 0.0028708236625638894\n",
      "Epoch: 3300 Energy RMSE: train  0.002168075350599125 test 0.0028671410926169754\n",
      "Epoch: 3310 Energy RMSE: train  0.0021664960338994726 test 0.0028654769115356677\n",
      "Epoch: 3320 Energy RMSE: train  0.0021647909874004012 test 0.0028639468130393403\n",
      "Epoch: 3330 Energy RMSE: train  0.0021630038687835296 test 0.0028621239217390235\n",
      "Epoch: 3340 Energy RMSE: train  0.0021613030249127622 test 0.002861337347876498\n",
      "Epoch: 3350 Energy RMSE: train  0.0021597612768939544 test 0.0028605855684689842\n",
      "Epoch: 3360 Energy RMSE: train  0.002158256453689421 test 0.0028563225371905825\n",
      "Epoch: 3370 Energy RMSE: train  0.002156679039654038 test 0.0028591649614159716\n",
      "Epoch: 3380 Energy RMSE: train  0.002154898806110574 test 0.0028558782272636\n",
      "Epoch: 3390 Energy RMSE: train  0.0021531919774710716 test 0.0028546843133309394\n",
      "Epoch: 3400 Energy RMSE: train  0.0021515347970633278 test 0.0028554312200825323\n",
      "Epoch: 3410 Energy RMSE: train  0.002150032627919619 test 0.0028533424403818504\n",
      "Epoch: 3420 Energy RMSE: train  0.002148231140913157 test 0.002853921662869696\n",
      "Epoch: 3430 Energy RMSE: train  0.0021467553747316847 test 0.0028476799294718156\n",
      "Epoch: 3440 Energy RMSE: train  0.0021453917736656072 test 0.002842980843667413\n",
      "Epoch: 3450 Energy RMSE: train  0.0021441894191848825 test 0.0028414295907917653\n",
      "Epoch: 3460 Energy RMSE: train  0.0021428478787110915 test 0.0028396993378288033\n",
      "Epoch: 3470 Energy RMSE: train  0.0021413574713427565 test 0.002836898029718744\n",
      "Epoch: 3480 Energy RMSE: train  0.002139727565559615 test 0.002836025139283438\n",
      "Epoch: 3490 Energy RMSE: train  0.0021381348577174013 test 0.002834223036805825\n",
      "Epoch: 3500 Energy RMSE: train  0.0021362589318090802 test 0.002835341731318876\n",
      "Epoch: 3510 Energy RMSE: train  0.002134510267741642 test 0.0028328384207945948\n",
      "Epoch: 3520 Energy RMSE: train  0.0021328441239158607 test 0.0028336459803037875\n",
      "Epoch: 3530 Energy RMSE: train  0.002131400174871255 test 0.002837057366514288\n",
      "Epoch: 3540 Energy RMSE: train  0.002129972923262848 test 0.002832087774580527\n",
      "Epoch: 3550 Energy RMSE: train  0.002128575239943074 test 0.0028340587926408275\n",
      "Epoch: 3560 Energy RMSE: train  0.00212712896253264 test 0.0028330297569562203\n",
      "Epoch: 3570 Energy RMSE: train  0.002125644513334957 test 0.0028328319938919076\n",
      "Epoch: 3580 Energy RMSE: train  0.002123652079286049 test 0.002829389553423607\n",
      "Epoch: 3590 Energy RMSE: train  0.002122103605139174 test 0.0028291151810046623\n",
      "Epoch: 3600 Energy RMSE: train  0.0021205940387320154 test 0.002823496655168139\n",
      "Epoch: 3610 Energy RMSE: train  0.002118557779292874 test 0.0028232745146099534\n",
      "Epoch: 3620 Energy RMSE: train  0.002116816574078759 test 0.0028208414117535606\n",
      "Epoch: 3630 Energy RMSE: train  0.0021151971510607512 test 0.0028165182793655715\n",
      "Epoch: 3640 Energy RMSE: train  0.002113419195797946 test 0.0028152116504695187\n",
      "Epoch: 3650 Energy RMSE: train  0.0021121123163788686 test 0.002812401274105397\n",
      "Epoch: 3660 Energy RMSE: train  0.0021106123469663866 test 0.002811853050319293\n",
      "Epoch: 3670 Energy RMSE: train  0.0021092672218222842 test 0.0028106139875738474\n",
      "Epoch: 3680 Energy RMSE: train  0.0021077507175393966 test 0.0028117963429561237\n",
      "Epoch: 3690 Energy RMSE: train  0.0021063207931107534 test 0.0028078361897935903\n",
      "Epoch: 3700 Energy RMSE: train  0.0021049655301965866 test 0.0028059410235717766\n",
      "Epoch: 3710 Energy RMSE: train  0.0021035162671505236 test 0.0028056513483348962\n",
      "Epoch: 3720 Energy RMSE: train  0.002101220022721185 test 0.0028007147205877823\n",
      "Epoch: 3730 Energy RMSE: train  0.00209934540187004 test 0.0027974476060830347\n",
      "Epoch: 3740 Energy RMSE: train  0.002097755040604433 test 0.002795863006073783\n",
      "Epoch: 3750 Energy RMSE: train  0.0020961272071352973 test 0.0027947706770120257\n",
      "Epoch: 3760 Energy RMSE: train  0.002094433172931368 test 0.0027887949742720665\n",
      "Epoch: 3770 Energy RMSE: train  0.0020927980602167785 test 0.002788184509961709\n",
      "Epoch: 3780 Energy RMSE: train  0.0020911224717734887 test 0.0027902499612478234\n",
      "Epoch: 3790 Energy RMSE: train  0.0020895710418792767 test 0.002790319489602681\n",
      "Epoch: 3800 Energy RMSE: train  0.0020877460118418345 test 0.002789026175288861\n",
      "Epoch: 3810 Energy RMSE: train  0.0020860402599916015 test 0.002789648654267679\n",
      "Epoch: 3820 Energy RMSE: train  0.002084468908668335 test 0.0027863864320623456\n",
      "Epoch: 3830 Energy RMSE: train  0.002082705396832559 test 0.002784699697520024\n",
      "Epoch: 3840 Energy RMSE: train  0.002081036773980824 test 0.002779837311000554\n",
      "Epoch: 3850 Energy RMSE: train  0.002079045766954381 test 0.002776572695795873\n",
      "Epoch: 3860 Energy RMSE: train  0.0020771353815062957 test 0.002773457274594802\n",
      "Epoch: 3870 Energy RMSE: train  0.0020755690551313927 test 0.0027703096699837255\n",
      "Epoch: 3880 Energy RMSE: train  0.0020741160650827647 test 0.002770688826109721\n",
      "Epoch: 3890 Energy RMSE: train  0.00207248451237105 test 0.002770566982564842\n",
      "Epoch: 3900 Energy RMSE: train  0.002070702930693482 test 0.0027662958221688484\n",
      "Epoch: 3910 Energy RMSE: train  0.0020690543703057803 test 0.0027636329992685644\n",
      "Epoch: 3920 Energy RMSE: train  0.0020669154512940116 test 0.002762867927893684\n",
      "Epoch: 3930 Energy RMSE: train  0.002065167111490085 test 0.002759463661577383\n",
      "Epoch: 3940 Energy RMSE: train  0.002063563918988925 test 0.00275808889144824\n",
      "Epoch: 3950 Energy RMSE: train  0.0020617649873738153 test 0.0027551243126075387\n",
      "Epoch: 3960 Energy RMSE: train  0.002059650104869003 test 0.0027509257160130297\n",
      "Epoch: 3970 Energy RMSE: train  0.0020577653395146434 test 0.002746418409672196\n",
      "Epoch: 3980 Energy RMSE: train  0.0020556255055961797 test 0.002746627845531892\n",
      "Epoch: 3990 Energy RMSE: train  0.0020533671761813195 test 0.002741594136753955\n",
      "Epoch: 4000 Energy RMSE: train  0.0020513730347186277 test 0.0027368149592587356\n",
      "Epoch: 4010 Energy RMSE: train  0.002049585079140043 test 0.002736931535987029\n",
      "Epoch: 4020 Energy RMSE: train  0.0020479733627537834 test 0.002735685222043653\n",
      "Epoch: 4030 Energy RMSE: train  0.002046624665943706 test 0.0027324316539505586\n",
      "Epoch: 4040 Energy RMSE: train  0.0020449358638874064 test 0.002734028925897362\n",
      "Epoch: 4050 Energy RMSE: train  0.0020429746801370516 test 0.0027298284488806576\n",
      "Epoch: 4060 Energy RMSE: train  0.0020412566534319 test 0.0027312644801376247\n",
      "Epoch: 4070 Energy RMSE: train  0.0020396278247548495 test 0.0027280205649967376\n",
      "Epoch: 4080 Energy RMSE: train  0.0020378479899867763 test 0.002724226022170928\n",
      "Epoch: 4090 Energy RMSE: train  0.002036209236605346 test 0.002722306678069428\n",
      "Epoch: 4100 Energy RMSE: train  0.002034514058845735 test 0.0027201775395683573\n",
      "Epoch: 4110 Energy RMSE: train  0.002032649655381287 test 0.0027173109846011312\n",
      "Epoch: 4120 Energy RMSE: train  0.002030721363834239 test 0.0027144745860983232\n",
      "Epoch: 4130 Energy RMSE: train  0.0020288977609018368 test 0.002708841894696173\n",
      "Epoch: 4140 Energy RMSE: train  0.002027030772286413 test 0.0027083229818166818\n",
      "Epoch: 4150 Energy RMSE: train  0.0020251249576924047 test 0.002704646173424009\n",
      "Epoch: 4160 Energy RMSE: train  0.0020234358514977344 test 0.0027029729020784797\n",
      "Epoch: 4170 Energy RMSE: train  0.0020216495822490133 test 0.0027044814853780914\n",
      "Epoch: 4180 Energy RMSE: train  0.0020198344052154925 test 0.0027039846500191284\n",
      "Epoch: 4190 Energy RMSE: train  0.002017979668708545 test 0.0027007384503124243\n",
      "Epoch: 4200 Energy RMSE: train  0.002016511930905018 test 0.002698045189590432\n",
      "Epoch: 4210 Energy RMSE: train  0.0020149877015975086 test 0.002691844630055446\n",
      "Epoch: 4220 Energy RMSE: train  0.00201346497633371 test 0.002691213420704102\n",
      "Epoch: 4230 Energy RMSE: train  0.002012126266804467 test 0.002688723907859742\n",
      "Epoch: 4240 Energy RMSE: train  0.0020106840106059645 test 0.002689307674576722\n",
      "Epoch: 4250 Energy RMSE: train  0.002008777275082869 test 0.002684539885929347\n",
      "Epoch: 4260 Energy RMSE: train  0.0020072248513039325 test 0.00268138742622175\n",
      "Epoch: 4270 Energy RMSE: train  0.002005482882414727 test 0.002679036646244182\n",
      "Epoch: 4280 Energy RMSE: train  0.0020035442635463418 test 0.0026790345692501117\n",
      "Epoch: 4290 Energy RMSE: train  0.002002095420672381 test 0.002676437280851507\n",
      "Epoch: 4300 Energy RMSE: train  0.002000436115882729 test 0.0026756964532766024\n",
      "Epoch: 4310 Energy RMSE: train  0.001998720041254734 test 0.0026746416898047625\n",
      "Epoch: 4320 Energy RMSE: train  0.001996828951394855 test 0.0026701843292696076\n",
      "Epoch: 4330 Energy RMSE: train  0.001995449877731099 test 0.002665955913906297\n",
      "Epoch: 4340 Energy RMSE: train  0.001994127821466615 test 0.0026652070435366\n",
      "Epoch: 4350 Energy RMSE: train  0.0019925873258205278 test 0.0026636024040535737\n",
      "Epoch: 4360 Energy RMSE: train  0.0019908485291082628 test 0.0026613836906892612\n",
      "Epoch: 4370 Energy RMSE: train  0.0019891734163943946 test 0.0026591643147543943\n",
      "Epoch: 4380 Energy RMSE: train  0.001987032335619889 test 0.002659196842867687\n",
      "Epoch: 4390 Energy RMSE: train  0.0019849845843482247 test 0.002656204075343055\n",
      "Epoch: 4400 Energy RMSE: train  0.0019832035427662263 test 0.0026504834797496163\n",
      "Epoch: 4410 Energy RMSE: train  0.0019813207124441197 test 0.0026513413742013845\n",
      "Epoch: 4420 Energy RMSE: train  0.001979599055493137 test 0.0026461085959942053\n",
      "Epoch: 4430 Energy RMSE: train  0.0019777808392874826 test 0.0026461809411867077\n",
      "Epoch: 4440 Energy RMSE: train  0.00197611975673726 test 0.002645708856611794\n",
      "Epoch: 4450 Energy RMSE: train  0.0019745939520779583 test 0.002638313981656789\n",
      "Epoch: 4460 Energy RMSE: train  0.0019733013001030845 test 0.002636919384849809\n",
      "Epoch: 4470 Energy RMSE: train  0.0019715702724588924 test 0.0026342618501721316\n",
      "Epoch: 4480 Energy RMSE: train  0.0019699454616105908 test 0.0026313523183200465\n",
      "Epoch: 4490 Energy RMSE: train  0.0019682814095990293 test 0.002627423493030442\n",
      "Epoch: 4500 Energy RMSE: train  0.001966740219654096 test 0.002623896660125626\n",
      "Epoch: 4510 Energy RMSE: train  0.0019655040922449255 test 0.002622700717248059\n",
      "Epoch: 4520 Energy RMSE: train  0.001964149099001969 test 0.002619627188566192\n",
      "Epoch: 4530 Energy RMSE: train  0.001962569933623336 test 0.002617415228542989\n",
      "Epoch: 4540 Energy RMSE: train  0.0019608046461095435 test 0.0026137659355745134\n",
      "Epoch: 4550 Energy RMSE: train  0.0019593034168656357 test 0.0026112291811286967\n",
      "Epoch: 4560 Energy RMSE: train  0.00195776907559796 test 0.0026067648656943132\n",
      "Epoch: 4570 Energy RMSE: train  0.001956087010348099 test 0.002603054342071924\n",
      "Epoch: 4580 Energy RMSE: train  0.0019544702470497876 test 0.002601191624539818\n",
      "Epoch: 4590 Energy RMSE: train  0.0019528884946829078 test 0.0026000414332099167\n",
      "Epoch: 4600 Energy RMSE: train  0.0019513563394242155 test 0.0025996967416582416\n",
      "Epoch: 4610 Energy RMSE: train  0.0019497964703440837 test 0.0025979472758952014\n",
      "Epoch: 4620 Energy RMSE: train  0.001948049721047838 test 0.0025981902922777734\n",
      "Epoch: 4630 Energy RMSE: train  0.0019466645877463638 test 0.002593828266552036\n",
      "Epoch: 4640 Energy RMSE: train  0.0019450189618595564 test 0.0025883325823490857\n",
      "Epoch: 4650 Energy RMSE: train  0.001943322450689121 test 0.002586143612543601\n",
      "Epoch: 4660 Energy RMSE: train  0.0019415526786420274 test 0.002579728006952406\n",
      "Epoch: 4670 Energy RMSE: train  0.0019400024515860577 test 0.0025772738002809103\n",
      "Epoch: 4680 Energy RMSE: train  0.001938612252005101 test 0.002573980938106855\n",
      "Epoch: 4690 Energy RMSE: train  0.0019367873848000743 test 0.002571954441770099\n",
      "Epoch: 4700 Energy RMSE: train  0.00193526041605972 test 0.002569720770752989\n",
      "Epoch: 4710 Energy RMSE: train  0.0019336776872610224 test 0.002566772098739628\n",
      "Epoch: 4720 Energy RMSE: train  0.0019320200768447333 test 0.0025655531645618324\n",
      "Epoch: 4730 Energy RMSE: train  0.0019305163208638671 test 0.002564303178770667\n",
      "Epoch: 4740 Energy RMSE: train  0.001929146750715136 test 0.0025658984053007826\n",
      "Epoch: 4750 Energy RMSE: train  0.001927310702286191 test 0.0025618822658791665\n",
      "Epoch: 4760 Energy RMSE: train  0.0019258325168466659 test 0.002561008396695122\n",
      "Epoch: 4770 Energy RMSE: train  0.0019243166234001398 test 0.002556615958891384\n",
      "Epoch: 4780 Energy RMSE: train  0.0019228806478429692 test 0.0025540752490169198\n",
      "Epoch: 4790 Energy RMSE: train  0.001921040715064982 test 0.002553300518947481\n",
      "Epoch: 4800 Energy RMSE: train  0.0019192268641935637 test 0.0025506060882361406\n",
      "Epoch: 4810 Energy RMSE: train  0.0019174398848815456 test 0.002551212336170084\n",
      "Epoch: 4820 Energy RMSE: train  0.001915779569608715 test 0.0025491943333244968\n",
      "Epoch: 4830 Energy RMSE: train  0.0019143062122874877 test 0.0025470623309887374\n",
      "Epoch: 4840 Energy RMSE: train  0.0019128855016109449 test 0.002548397312990632\n",
      "Epoch: 4850 Energy RMSE: train  0.001910964491307008 test 0.0025440126283491956\n",
      "Epoch: 4860 Energy RMSE: train  0.0019091743929079117 test 0.0025414757001782696\n",
      "Epoch: 4870 Energy RMSE: train  0.0019072784392956598 test 0.0025403319171393296\n",
      "Epoch: 4880 Energy RMSE: train  0.0019056483364222848 test 0.002536499594680071\n",
      "Epoch: 4890 Energy RMSE: train  0.0019042530323251639 test 0.002536856313594863\n",
      "Epoch: 4900 Energy RMSE: train  0.0019028874606399797 test 0.0025367304192743653\n",
      "Epoch: 4910 Energy RMSE: train  0.001901706363778784 test 0.0025329503262020623\n",
      "Epoch: 4920 Energy RMSE: train  0.001900505754798609 test 0.002531212022754493\n",
      "Epoch: 4930 Energy RMSE: train  0.0018990247046652734 test 0.002527902787736844\n",
      "Epoch: 4940 Energy RMSE: train  0.0018972534053435133 test 0.0025222943535975558\n",
      "Epoch: 4950 Energy RMSE: train  0.0018954568618800784 test 0.002522001635217949\n",
      "Epoch: 4960 Energy RMSE: train  0.0018937550384633154 test 0.002515392862827065\n",
      "Epoch: 4970 Energy RMSE: train  0.0018920664185842551 test 0.0025108561200160528\n",
      "Epoch: 4980 Energy RMSE: train  0.0018903934276032815 test 0.0025072348547234605\n",
      "Epoch: 4990 Energy RMSE: train  0.0018889744692108695 test 0.0025058724629000335\n",
      "Epoch: 5000 Energy RMSE: train  0.001887441471331401 test 0.002503127219963236\n",
      "Epoch: 5010 Energy RMSE: train  0.0018857513166097093 test 0.0025016268416067932\n",
      "Epoch: 5020 Energy RMSE: train  0.001884443096762742 test 0.0025011531053931407\n",
      "Epoch: 5030 Energy RMSE: train  0.0018828194038693201 test 0.002501202952118986\n",
      "Epoch: 5040 Energy RMSE: train  0.0018811360184361257 test 0.00250048090803071\n",
      "Epoch: 5050 Energy RMSE: train  0.001879562890117196 test 0.002497463336418714\n",
      "Epoch: 5060 Energy RMSE: train  0.001878011171364275 test 0.0024953327632118503\n",
      "Epoch: 5070 Energy RMSE: train  0.0018764297589169184 test 0.0024930855310262706\n",
      "Epoch: 5080 Energy RMSE: train  0.001874830695157164 test 0.002490862312820098\n",
      "Epoch: 5090 Energy RMSE: train  0.0018733132519359998 test 0.002488405981047333\n",
      "Epoch: 5100 Energy RMSE: train  0.001871677246794042 test 0.0024887539863248597\n",
      "Epoch: 5110 Energy RMSE: train  0.0018701549066132835 test 0.002482622023470378\n",
      "Epoch: 5120 Energy RMSE: train  0.0018684652006247156 test 0.0024802511348420465\n",
      "Epoch: 5130 Energy RMSE: train  0.0018668719542068344 test 0.0024754242779349224\n",
      "Epoch: 5140 Energy RMSE: train  0.0018650730922395488 test 0.0024705271279484627\n",
      "Epoch: 5150 Energy RMSE: train  0.0018633485547745767 test 0.0024687890421565594\n",
      "Epoch: 5160 Energy RMSE: train  0.0018616695895753241 test 0.002465884228564762\n",
      "Epoch: 5170 Energy RMSE: train  0.0018602331904353803 test 0.0024678513379926244\n",
      "Epoch: 5180 Energy RMSE: train  0.0018584730678023562 test 0.0024655604160870306\n",
      "Epoch: 5190 Energy RMSE: train  0.001856720770404857 test 0.002465904537326534\n",
      "Epoch: 5200 Energy RMSE: train  0.0018552540987206167 test 0.002463909752227746\n",
      "Epoch: 5210 Energy RMSE: train  0.0018535362731266262 test 0.002462922175057759\n",
      "Epoch: 5220 Energy RMSE: train  0.0018520955743996572 test 0.002460236282726026\n",
      "Epoch: 5230 Energy RMSE: train  0.001850569571764748 test 0.0024567740765594377\n",
      "Epoch: 5240 Energy RMSE: train  0.0018493533973753247 test 0.002453686798589501\n",
      "Epoch: 5250 Energy RMSE: train  0.001847766795683604 test 0.0024482012823052518\n",
      "Epoch: 5260 Energy RMSE: train  0.0018462149827304525 test 0.002443585109063111\n",
      "Epoch: 5270 Energy RMSE: train  0.001844615042512374 test 0.0024402804544840437\n",
      "Epoch: 5280 Energy RMSE: train  0.0018429901358933045 test 0.0024399468715314227\n",
      "Epoch: 5290 Energy RMSE: train  0.001841326084266269 test 0.002437145365068523\n",
      "Epoch: 5300 Energy RMSE: train  0.0018394507259663184 test 0.0024347413377728126\n",
      "Epoch: 5310 Energy RMSE: train  0.0018379931384071599 test 0.0024326773955122756\n",
      "Epoch: 5320 Energy RMSE: train  0.001836450800604203 test 0.0024284342166920377\n",
      "Epoch: 5330 Energy RMSE: train  0.0018351398045734315 test 0.00243001267326417\n",
      "Epoch: 5340 Energy RMSE: train  0.001833649821420574 test 0.002426756752575979\n",
      "Epoch: 5350 Energy RMSE: train  0.001832081409210809 test 0.002423439230703937\n",
      "Epoch: 5360 Energy RMSE: train  0.0018306520968342207 test 0.002421958497555961\n",
      "Epoch: 5370 Energy RMSE: train  0.0018288204346417975 test 0.0024209270810856658\n",
      "Epoch: 5380 Energy RMSE: train  0.0018270792266105748 test 0.002420292151773852\n",
      "Epoch: 5390 Energy RMSE: train  0.0018257481005465135 test 0.0024181095038108484\n",
      "Epoch: 5400 Energy RMSE: train  0.0018245935280576696 test 0.0024153411504775316\n",
      "Epoch: 5410 Energy RMSE: train  0.0018232152486785658 test 0.0024111418135328746\n",
      "Epoch: 5420 Energy RMSE: train  0.0018219475731386927 test 0.002408224336079627\n",
      "Epoch: 5430 Energy RMSE: train  0.001820721124797107 test 0.002407011253955779\n",
      "Epoch: 5440 Energy RMSE: train  0.0018195749686947375 test 0.0024038176988925254\n",
      "Epoch: 5450 Energy RMSE: train  0.001818176879560808 test 0.002402808197132092\n",
      "Epoch: 5460 Energy RMSE: train  0.001816712379614431 test 0.0024016008193385842\n",
      "Epoch: 5470 Energy RMSE: train  0.0018155447806821083 test 0.0024005049166506767\n",
      "Epoch: 5480 Energy RMSE: train  0.0018143447382295474 test 0.0023989776433712257\n",
      "Epoch: 5490 Energy RMSE: train  0.0018129157088238913 test 0.0023920805479407327\n",
      "Epoch: 5500 Energy RMSE: train  0.001811428395326428 test 0.002388348759021881\n",
      "Epoch: 5510 Energy RMSE: train  0.0018101768656712488 test 0.0023838465687170936\n",
      "Epoch: 5520 Energy RMSE: train  0.0018086721420002216 test 0.002380662342437249\n",
      "Epoch: 5530 Energy RMSE: train  0.0018072902057380755 test 0.0023786870894294426\n",
      "Epoch: 5540 Energy RMSE: train  0.0018061171643238842 test 0.0023789137414007206\n",
      "Epoch: 5550 Energy RMSE: train  0.0018048036806466426 test 0.0023758171401986558\n",
      "Epoch: 5560 Energy RMSE: train  0.0018032369680021539 test 0.0023719002101497107\n",
      "Epoch: 5570 Energy RMSE: train  0.0018019641024093693 test 0.0023678343529552753\n",
      "Epoch: 5580 Energy RMSE: train  0.0018006849276999246 test 0.0023644399299859466\n",
      "Epoch: 5590 Energy RMSE: train  0.001799112397856479 test 0.002360183065389053\n",
      "Epoch: 5600 Energy RMSE: train  0.001797510309998494 test 0.002357901178719479\n",
      "Epoch: 5610 Energy RMSE: train  0.001795926666681435 test 0.002357343384086695\n",
      "Epoch: 5620 Energy RMSE: train  0.0017941983098002819 test 0.0023568775976092545\n",
      "Epoch: 5630 Energy RMSE: train  0.0017925912870981392 test 0.0023586990084872098\n",
      "Epoch: 5640 Energy RMSE: train  0.0017913711104247632 test 0.0023565574504291684\n",
      "Epoch: 5650 Energy RMSE: train  0.0017900841087496054 test 0.0023554722578488854\n",
      "Epoch: 5660 Energy RMSE: train  0.0017885964492968796 test 0.0023499301501520384\n",
      "Epoch: 5670 Energy RMSE: train  0.0017872792889392674 test 0.002347788157637268\n",
      "Epoch: 5680 Energy RMSE: train  0.0017861775381369624 test 0.0023471769311205607\n",
      "Epoch: 5690 Energy RMSE: train  0.0017847123191066985 test 0.00234463030953882\n",
      "Epoch: 5700 Energy RMSE: train  0.0017834496780688974 test 0.0023428177292172253\n",
      "Epoch: 5710 Energy RMSE: train  0.001782201424685241 test 0.002340578072900958\n",
      "Epoch: 5720 Energy RMSE: train  0.0017810528974508296 test 0.0023382403125521882\n",
      "Epoch: 5730 Energy RMSE: train  0.0017798913284841008 test 0.0023338043939185155\n",
      "Epoch: 5740 Energy RMSE: train  0.0017784039133815234 test 0.002331677668902989\n",
      "Epoch: 5750 Energy RMSE: train  0.0017769036779996985 test 0.0023288518365279487\n",
      "Epoch: 5760 Energy RMSE: train  0.0017755191694642928 test 0.002327971951228439\n",
      "Epoch: 5770 Energy RMSE: train  0.001774290018297494 test 0.002324992240425689\n",
      "Epoch: 5780 Energy RMSE: train  0.001772487525871524 test 0.002322153645963225\n",
      "Epoch: 5790 Energy RMSE: train  0.001771006826079137 test 0.0023174212014479907\n",
      "Epoch: 5800 Energy RMSE: train  0.0017696007087465654 test 0.002316717583000627\n",
      "Epoch: 5810 Energy RMSE: train  0.0017680784087042985 test 0.0023137538351862396\n",
      "Epoch: 5820 Energy RMSE: train  0.0017662697088568274 test 0.002311108922475714\n",
      "Epoch: 5830 Energy RMSE: train  0.0017645180528587758 test 0.00230645055808047\n",
      "Epoch: 5840 Energy RMSE: train  0.0017629077870489993 test 0.002303433037669254\n",
      "Epoch: 5850 Energy RMSE: train  0.0017614871703544891 test 0.002302527825514503\n",
      "Epoch: 5860 Energy RMSE: train  0.0017602536177364052 test 0.0023006634961428925\n",
      "Epoch: 5870 Energy RMSE: train  0.0017587421319330925 test 0.0022974905932557016\n",
      "Epoch: 5880 Energy RMSE: train  0.0017574646339733415 test 0.0022958509048496916\n",
      "Epoch: 5890 Energy RMSE: train  0.0017561135601655738 test 0.0022962152768552483\n",
      "Epoch: 5900 Energy RMSE: train  0.0017546586779398298 test 0.0022933038536198866\n",
      "Epoch: 5910 Energy RMSE: train  0.001753322941571363 test 0.002291767418102659\n",
      "Epoch: 5920 Energy RMSE: train  0.00175208795846705 test 0.002291596228151532\n",
      "Epoch: 5930 Energy RMSE: train  0.0017508389291974824 test 0.002287892868330545\n",
      "Epoch: 5940 Energy RMSE: train  0.0017494830134293063 test 0.0022862247795518336\n",
      "Epoch: 5950 Energy RMSE: train  0.0017482628692223384 test 0.002284026842387502\n"
     ]
    }
   ],
   "source": [
    "n_epochs = 8000\n",
    "ntrain = 512\n",
    "ntriples = 64\n",
    "for epoch in range(0, n_epochs):\n",
    "    \n",
    "    def single_step():\n",
    "        # global composition, radial_spectrum, spherical_expansions, energies\n",
    "        optimizer.zero_grad()\n",
    "        loss = torch.zeros(size=(1,), device=device)\n",
    "        \n",
    "        predicted = mymodel(feats_n2nu1[:ntrain*ntriples], triplet_samples[\"structure\"][:ntrain*ntriples])\n",
    "        loss += loss_mse(predicted, target[:ntrain])\n",
    "        \n",
    "        loss.backward(retain_graph=False)\n",
    "        return loss\n",
    "\n",
    "    loss = optimizer.step(single_step)\n",
    "    predicted = mymodel(feats_n2nu1[ntrain*ntriples:], triplet_samples[\"structure\"][ntrain*ntriples:])\n",
    "    \n",
    "    if epoch % 10 ==0:\n",
    "        print(\"Epoch:\", epoch, \"Energy RMSE: train \", np.sqrt(loss.detach().numpy().flatten()[0]/ntrain),\n",
    "         \"test\", np.sqrt(loss_mse(predicted, target[ntrain:]).detach().numpy().flatten()[0]/ (len(frames)-ntrain)) )"
   ]
  },
  {
   "cell_type": "code",
   "execution_count": 47,
   "id": "3b471c16-3869-4415-8e1b-77057ba8bff9",
   "metadata": {},
   "outputs": [],
   "source": [
    "predicted = mymodel(feats_n2nu1, triplet_samples[\"structure\"])\n",
    "feats = mymodel.feats(feats_n2nu1, triplet_samples[\"structure\"])"
   ]
  },
  {
   "cell_type": "code",
   "execution_count": 48,
   "id": "1e7e74c9-65b2-4b52-a147-d7afd32c5796",
   "metadata": {},
   "outputs": [
    {
     "data": {
      "text/plain": [
       "0.020482617407961177"
      ]
     },
     "execution_count": 48,
     "metadata": {},
     "output_type": "execute_result"
    }
   ],
   "source": [
    "np.linalg.norm((predicted[:ntrain]-target[:ntrain]).detach() )/(\n",
    "    np.linalg.norm(target[:ntrain]) )"
   ]
  },
  {
   "cell_type": "code",
   "execution_count": 49,
   "id": "b6b1988a-e5ed-472c-87f8-e10ba3c4bf85",
   "metadata": {},
   "outputs": [
    {
     "data": {
      "text/plain": [
       "0.010376472505583512"
      ]
     },
     "execution_count": 49,
     "metadata": {},
     "output_type": "execute_result"
    }
   ],
   "source": [
    "np.linalg.norm((((predicted[:ntrain:2]+predicted[1:ntrain:2])/2) - ((target[:ntrain:2]+target[1:ntrain:2])/2)).detach() )/(\n",
    "    np.linalg.norm(target[:ntrain]) )"
   ]
  },
  {
   "cell_type": "code",
   "execution_count": 50,
   "id": "d7f51ab5-1059-413e-9c12-58568cf7a4cf",
   "metadata": {},
   "outputs": [
    {
     "data": {
      "text/plain": [
       "0.014460505727714046"
      ]
     },
     "execution_count": 50,
     "metadata": {},
     "output_type": "execute_result"
    }
   ],
   "source": [
    "np.linalg.norm((((predicted[ntrain::2]+predicted[ntrain+1::2])/2) - ((target[ntrain::2]+target[ntrain+1::2])/2)).detach() ) / (\n",
    "    np.linalg.norm(target[:ntrain]) )"
   ]
  },
  {
   "cell_type": "code",
   "execution_count": 51,
   "id": "98ad04e6-212a-4334-9dda-b46138000fd2",
   "metadata": {},
   "outputs": [
    {
     "data": {
      "text/plain": [
       "0.3719584378661571"
      ]
     },
     "execution_count": 51,
     "metadata": {},
     "output_type": "execute_result"
    }
   ],
   "source": [
    "np.linalg.norm((((predicted[:ntrain:2]-predicted[1:ntrain:2])) - ((target[:ntrain:2]-target[1:ntrain:2]))).detach() )/ (\n",
    "    np.linalg.norm(target[:ntrain:2]-target[1:ntrain:2]))"
   ]
  },
  {
   "cell_type": "code",
   "execution_count": 52,
   "id": "a9622130-3805-4eb3-9e5e-cd19014e82a1",
   "metadata": {},
   "outputs": [
    {
     "data": {
      "text/plain": [
       "0.3869878159058764"
      ]
     },
     "execution_count": 52,
     "metadata": {},
     "output_type": "execute_result"
    }
   ],
   "source": [
    "np.linalg.norm((((predicted[ntrain::2]-predicted[1+ntrain::2])) - \n",
    "                ((target[ntrain::2]-target[ntrain+1::2]))).detach() )/ (\n",
    "    np.linalg.norm(target[ntrain::2]-target[1+ntrain::2]))"
   ]
  },
  {
   "cell_type": "code",
   "execution_count": 53,
   "id": "e039a164-536f-47c3-b798-77104de35607",
   "metadata": {},
   "outputs": [
    {
     "data": {
      "text/plain": [
       "[<matplotlib.lines.Line2D at 0x7fe4101ae340>]"
      ]
     },
     "execution_count": 53,
     "metadata": {},
     "output_type": "execute_result"
    },
    {
     "data": {
      "image/png": "[encoded data removed]",
      "text/plain": [
       "<Figure size 432x288 with 1 Axes>"
      ]
     },
     "metadata": {
      "needs_background": "light"
     },
     "output_type": "display_data"
    }
   ],
   "source": [
    "plt.plot(feats[30].detach()-feats[31].detach())"
   ]
  },
  {
   "cell_type": "code",
   "execution_count": 54,
   "id": "f9e39974-d8d0-49bc-8ceb-be43a0887f84",
   "metadata": {},
   "outputs": [
    {
     "name": "stdout",
     "output_type": "stream",
     "text": [
      "tensor(244)\n"
     ]
    },
    {
     "data": {
      "image/png": "[encoded data removed]",
      "text/plain": [
       "<Figure size 432x288 with 1 Axes>"
      ]
     },
     "metadata": {
      "needs_background": "light"
     },
     "output_type": "display_data"
    }
   ],
   "source": [
    "plt.plot(np.sqrt(((target[::2]-target[1::2])**2).sum(axis=1)))\n",
    "print(np.sqrt(((target[::2]-target[1::2])**2).sum(axis=1)).argmax())"
   ]
  },
  {
   "cell_type": "code",
   "execution_count": 55,
   "id": "58946579-3a8f-4bd8-99ec-0a0878d5eec7",
   "metadata": {},
   "outputs": [
    {
     "data": {
      "text/plain": [
       "[<matplotlib.lines.Line2D at 0x7fe40ae7f340>]"
      ]
     },
     "execution_count": 55,
     "metadata": {},
     "output_type": "execute_result"
    },
    {
     "data": {
      "image/png": "[encoded data removed]",
      "text/plain": [
       "<Figure size 432x288 with 1 Axes>"
      ]
     },
     "metadata": {
      "needs_background": "light"
     },
     "output_type": "display_data"
    }
   ],
   "source": [
    "iframe = 72\n",
    "plt.plot(predicted[iframe].detach(),'b--')\n",
    "plt.plot(target[iframe].detach(),'b.')\n",
    "plt.plot(predicted[iframe+1].detach(), 'r--')\n",
    "plt.plot(target[iframe+1].detach(), 'r.')"
   ]
  },
  {
   "cell_type": "code",
   "execution_count": 56,
   "id": "cb466e6d-75a8-48ed-b19e-e4ede5468a1b",
   "metadata": {},
   "outputs": [
    {
     "data": {
      "text/plain": [
       "[<matplotlib.lines.Line2D at 0x7fe40ae0a040>]"
      ]
     },
     "execution_count": 56,
     "metadata": {},
     "output_type": "execute_result"
    },
    {
     "data": {
      "image/png": "[encoded data removed]",
      "text/plain": [
       "<Figure size 432x288 with 1 Axes>"
      ]
     },
     "metadata": {
      "needs_background": "light"
     },
     "output_type": "display_data"
    }
   ],
   "source": [
    "plt.plot((predicted[iframe].detach()-predicted[iframe+1].detach()),'k--')\n",
    "plt.plot(target[iframe].detach()-target[iframe+1].detach(), 'k.')"
   ]
  },
  {
   "cell_type": "code",
   "execution_count": 129,
   "id": "642f128f-2f76-4473-a251-ec813f97e3d3",
   "metadata": {},
   "outputs": [
    {
     "data": {
      "text/plain": [
       "[<matplotlib.lines.Line2D at 0x7fead0274520>]"
      ]
     },
     "execution_count": 129,
     "metadata": {},
     "output_type": "execute_result"
    },
    {
     "data": {
      "image/png": "[encoded data removed]",
      "text/plain": [
       "<Figure size 432x288 with 1 Axes>"
      ]
     },
     "metadata": {
      "needs_background": "light"
     },
     "output_type": "display_data"
    }
   ],
   "source": [
    "plt.plot((feats[iframe].detach()-feats[iframe+1].detach()),'b.-')"
   ]
  },
  {
   "cell_type": "code",
   "execution_count": null,
   "id": "39d8d46e-c96a-459b-a9e6-b5d84b0c0b3d",
   "metadata": {},
   "outputs": [],
   "source": []
  },
  {
   "cell_type": "code",
   "execution_count": null,
   "id": "bfdbfee4-3e3b-4d0e-ad7b-4ecc7f9720b8",
   "metadata": {},
   "outputs": [],
   "source": []
  }
 ],
 "metadata": {
  "kernelspec": {
   "display_name": "Python 3",
   "language": "python",
   "name": "python3"
  },
  "language_info": {
   "codemirror_mode": {
    "name": "ipython",
    "version": 3
   },
   "file_extension": ".py",
   "mimetype": "text/x-python",
   "name": "python",
   "nbconvert_exporter": "python",
   "pygments_lexer": "ipython3",
   "version": "3.8.10"
  },
  "toc": {
   "base_numbering": 1,
   "nav_menu": {},
   "number_sections": true,
   "sideBar": true,
   "skip_h1_title": false,
   "title_cell": "Table of Contents",
   "title_sidebar": "Contents",
   "toc_cell": false,
   "toc_position": {},
   "toc_section_display": true,
   "toc_window_display": false
  }
 },
 "nbformat": 4,
 "nbformat_minor": 5
}
