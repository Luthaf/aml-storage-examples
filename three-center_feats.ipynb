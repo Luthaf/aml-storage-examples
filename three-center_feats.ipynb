{
 "cells": [
  {
   "cell_type": "code",
   "execution_count": 1,
   "id": "d2596616",
   "metadata": {},
   "outputs": [],
   "source": [
    "%load_ext autoreload\n",
    "%autoreload 2\n",
    "%load_ext line_profiler"
   ]
  },
  {
   "cell_type": "code",
   "execution_count": 2,
   "id": "341b09d0",
   "metadata": {},
   "outputs": [],
   "source": [
    "import numpy as np\n",
    "import scipy as sp\n",
    "import json\n",
    "import ast\n",
    "import torch\n",
    "import ase.io as aseio\n",
    "torch.set_default_dtype(torch.float64)\n",
    "device=\"cpu\"\n",
    "\n",
    "from rascaline import SphericalExpansion, SphericalExpansionByPair\n",
    "from equistore import Labels, TensorBlock, TensorMap\n",
    "from equistore import operations\n",
    "\n",
    "from tqdm.notebook import tqdm\n",
    "from utils.builder import TensorBuilder\n",
    "import ase.io\n",
    "from itertools import product\n",
    "from utils.mp_utils import acdc_standardize_keys, cg_increment, cg_combine, _remove_suffix, flatten\n",
    "from utils.clebsh_gordan import ClebschGordanReal\n",
    "from utils.hamiltonians import hamiltonian_features\n",
    "import matplotlib.pyplot as plt\n",
    "\n",
    "import copy\n",
    "from utils.model_hamiltonian import *\n",
    "from itertools import product\n",
    "import tqdm.notebook as tqdm\n",
    "import chemiscope"
   ]
  },
  {
   "cell_type": "code",
   "execution_count": 3,
   "id": "bde7e214-6392-4107-b05f-2255f211ba14",
   "metadata": {},
   "outputs": [],
   "source": [
    "from generate_bispectrum_structures import generate_nu3_degen_structs"
   ]
  },
  {
   "cell_type": "markdown",
   "id": "499d77a9-335f-46c3-a1f4-2dcd34577c7e",
   "metadata": {
    "jp-MarkdownHeadingCollapsed": true,
    "tags": []
   },
   "source": [
    "# Generates a bunch of degenerate pairs - closer or farther from being actually symmetric"
   ]
  },
  {
   "cell_type": "markdown",
   "id": "5b1d2d94-712a-4359-b0d1-07d751041b30",
   "metadata": {
    "jp-MarkdownHeadingCollapsed": true,
    "tags": []
   },
   "source": [
    "### Random Boron clusters"
   ]
  },
  {
   "cell_type": "code",
   "execution_count": 4,
   "id": "90a4ea4e-29c2-4a22-a08e-545f45745918",
   "metadata": {},
   "outputs": [
    {
     "data": {
      "application/vnd.jupyter.widget-view+json": {
       "model_id": "a2389048558744178b26474bc605a04b",
       "version_major": 2,
       "version_minor": 0
      },
      "text/plain": [
       "HBox(children=(FloatProgress(value=0.0, max=1000.0), HTML(value='')))"
      ]
     },
     "metadata": {},
     "output_type": "display_data"
    },
    {
     "name": "stdout",
     "output_type": "stream",
     "text": [
      "\n"
     ]
    }
   ],
   "source": [
    "np.random.seed(12345)\n",
    "ngen = 1000\n",
    "frames = []\n",
    "for f in tqdm.tqdm(range(ngen)):\n",
    "    for i in range(1000):\n",
    "        r = np.random.uniform(0.5,2)\n",
    "        z1 = np.random.uniform(0.5,2)\n",
    "        z2 = np.random.uniform(1.5,1.8)\n",
    "        psi = np.random.uniform(0,np.pi)\n",
    "        phi1 = np.random.uniform(np.pi/6, np.pi)\n",
    "        phi2 = np.random.uniform(np.pi/6, np.pi)\n",
    "        fr = generate_nu3_degen_structs(r, [0, phi1, phi1+phi2], \n",
    "                                   psi, z1, z2, \"B\", \"B\", \"B\")\n",
    "        dist = fr[0].get_all_distances()\n",
    "        if dist[0,1:].min()>1.5 and dist[0,1:].max()<1.8 and np.abs(dist-1.0).flatten().min()>0.5:\n",
    "            fr[0].info[\"pars\"] = str((f, \"+\")+(r, z1, z2, psi, phi1, phi2))\n",
    "            fr[1].info[\"pars\"] = str((f, \"-\")+(r, z1, z2, psi, phi1, phi2))\n",
    "            break\n",
    "    if (i>990):\n",
    "        print(\"oops!\")\n",
    "    frames += fr"
   ]
  },
  {
   "cell_type": "code",
   "execution_count": 5,
   "id": "b9ff8512-2884-4f2d-ab6a-c3c33bb1b012",
   "metadata": {},
   "outputs": [
    {
     "data": {
      "application/vnd.jupyter.widget-view+json": {
       "model_id": "8f4529267e644d1c83d7b0ed1b386934",
       "version_major": 2,
       "version_minor": 0
      },
      "text/plain": [
       "StructureWidget(value='{\"meta\": {\"name\": \" \"}, \"settings\": {\"structure\": [{\"axes\": \"xyz\", \"keepOrientation\": t…"
      ]
     },
     "metadata": {},
     "output_type": "display_data"
    },
    {
     "name": "stderr",
     "output_type": "stream",
     "text": [
      "/home/michele/local/lib/python3.8/site-packages/chemiscope/input.py:195: UserWarning: chemiscope behavior changed to no longer include properties from the structure objects. Use `chemiscope.extract_properties` to also visualize these properties ([pars])\n",
      "  warnings.warn(\n"
     ]
    }
   ],
   "source": [
    "cs = chemiscope.show(frames=frames, mode=\"structure\", settings = {'structure': [{\n",
    "   'axes': 'xyz',\n",
    "   'keepOrientation': True,\n",
    "   'playbackDelay': 250}]})\n",
    "display(cs)"
   ]
  },
  {
   "cell_type": "code",
   "execution_count": 25,
   "id": "cedc4b0e-5805-4493-acc1-a35a773aba10",
   "metadata": {},
   "outputs": [
    {
     "data": {
      "text/plain": [
       "\"(134, '+', 1.2313367121339533, 1.07392163993562, 1.6947503705446838, 0.9633078988888877, 1.993842337599831, 1.6583212922073822)\""
      ]
     },
     "execution_count": 25,
     "metadata": {},
     "output_type": "execute_result"
    }
   ],
   "source": [
    "frames[134*2].info[\"pars\"]"
   ]
  },
  {
   "cell_type": "code",
   "execution_count": 7,
   "id": "7273047d-fa02-4e36-9ab6-4ab7f968b14c",
   "metadata": {},
   "outputs": [],
   "source": [
    "aseio.write(\"/tmp/b8.xyz\", frames)"
   ]
  },
  {
   "cell_type": "markdown",
   "id": "e7ed205a-f21d-46e2-95a7-ca9ade81d796",
   "metadata": {
    "jp-MarkdownHeadingCollapsed": true,
    "tags": []
   },
   "source": [
    "### Mg clusters"
   ]
  },
  {
   "cell_type": "code",
   "execution_count": 9,
   "id": "e57afe1c-33db-4cd3-b0eb-e0b16e0ed606",
   "metadata": {},
   "outputs": [],
   "source": [
    "frames_mg = []\n",
    "n1, n2, n3 = 8,8,8\n",
    "for psi in np.linspace(np.pi/6, np.pi*5/6, n1):\n",
    "    for dphi1 in np.linspace(np.pi*2/3 - 1.2, np.pi*2/3+0.4, n2):\n",
    "        for dphi2 in np.linspace(np.pi*2/3-0.7, np.pi*2/3+1.3, n3):\n",
    "            frames_mg += generate_nu3_degen_structs(2, [0, dphi1, dphi1+dphi2], \n",
    "                           psi, 1, np.sqrt(5), \"Mg\", \"Mg\", \"Mg\")"
   ]
  },
  {
   "cell_type": "code",
   "execution_count": 10,
   "id": "8d465436-a2e0-4d28-bb71-a22d23e97646",
   "metadata": {},
   "outputs": [],
   "source": [
    "# shuffles keeping pairs together for easier analysis\n",
    "idx = np.asarray(range(len(frames_mg)//2), dtype=int)\n",
    "np.random.shuffle(idx)\n",
    "nfr = []\n",
    "for i in idx:\n",
    "    nfr.append(frames_mg[2*i])\n",
    "    nfr.append(frames_mg[2*i+1])\n",
    "frames_mg = nfr"
   ]
  },
  {
   "cell_type": "code",
   "execution_count": 58,
   "id": "789b49ce-5d6c-4eb7-8b69-1eb7777cd309",
   "metadata": {},
   "outputs": [
    {
     "data": {
      "application/vnd.jupyter.widget-view+json": {
       "model_id": "7e8a9d10b4a940248b0ff1f78a8c4904",
       "version_major": 2,
       "version_minor": 0
      },
      "text/plain": [
       "StructureWidget(value='{\"meta\": {\"name\": \" \"}, \"settings\": {\"structure\": [{\"axes\": \"xyz\", \"keepOrientation\": t…"
      ]
     },
     "metadata": {},
     "output_type": "display_data"
    }
   ],
   "source": [
    "cs = chemiscope.show(frames=frames_mg, mode=\"structure\", settings = {'structure': [{\n",
    "   'axes': 'xyz',\n",
    "   'keepOrientation': True,\n",
    "   'playbackDelay': 250}]})\n",
    "display(cs)"
   ]
  },
  {
   "cell_type": "code",
   "execution_count": 66,
   "id": "e3f7a5f1-15dd-487c-b983-3bee10a5e885",
   "metadata": {},
   "outputs": [],
   "source": [
    "aseio.write(\"/tmp/mg8.xyz\", frames_mg)"
   ]
  },
  {
   "cell_type": "markdown",
   "id": "fec1909c-e944-4d78-bb1f-64519bf46d4c",
   "metadata": {},
   "source": [
    "# Loads pre-computed clusters"
   ]
  },
  {
   "cell_type": "code",
   "execution_count": 4,
   "id": "0b42d2ba-e97e-46ca-886b-e389aa1fccca",
   "metadata": {},
   "outputs": [],
   "source": [
    "frames = aseio.read(\"data/three_center/boron/boron8_4000_pbeccpvdz.xyz\", \":1000\")"
   ]
  },
  {
   "cell_type": "code",
   "execution_count": 5,
   "id": "1cbf992f-a01e-40e7-83d3-c19064a67b26",
   "metadata": {},
   "outputs": [],
   "source": [
    "# explicit name for manifold parameters, and baseline for energy\n",
    "e0 = -198.11364281310415\n",
    "for fi, f in enumerate(frames):\n",
    "    f.info[\"energy_rel_eV\"] = (f.info[\"energy_ha\"]-e0)*27.211386\n",
    "    for n, v in zip( (\"index\", \"label\",\"r\", \"z_1\", \"z_2\", \"psi\", \"phi_1\", \"phi_2\"), ast.literal_eval(f.info[\"pars\"]) ):\n",
    "        f.info[n] = v\n",
    "    if fi%2 ==1:\n",
    "        frames[fi].info[\"delta\"] = np.abs(frames[fi].info[\"energy_rel_eV\"]-frames[fi-1].info[\"energy_rel_eV\"])\n",
    "        frames[fi-1].info[\"delta\"] = frames[fi].info[\"delta\"]"
   ]
  },
  {
   "cell_type": "code",
   "execution_count": 6,
   "id": "7a558e94-ce9e-4377-8fa2-67c3616e2c4c",
   "metadata": {},
   "outputs": [
    {
     "data": {
      "application/vnd.jupyter.widget-view+json": {
       "model_id": "e9891520010e4cceabf8f7a76a613bff",
       "version_major": 2,
       "version_minor": 0
      },
      "text/plain": [
       "ChemiscopeWidget(value='{\"meta\": {\"name\": \" \"}, \"settings\": {\"structure\": [{\"axes\": \"xyz\", \"keepOrientation\": …"
      ]
     },
     "metadata": {},
     "output_type": "display_data"
    }
   ],
   "source": [
    "cs = chemiscope.show(frames=frames, properties=chemiscope.extract_properties(frames), settings = {'structure': [{\n",
    "   'axes': 'xyz',\n",
    "   'keepOrientation': True,\n",
    "   'playbackDelay': 250}]})\n",
    "display(cs)"
   ]
  },
  {
   "cell_type": "markdown",
   "id": "d915fea4-6873-4e5d-b14d-0d6c399373ea",
   "metadata": {},
   "source": [
    "# Compute raw expansion coefficients"
   ]
  },
  {
   "cell_type": "code",
   "execution_count": 7,
   "id": "fecba7a3-7431-40db-8e82-8d36d615ce5e",
   "metadata": {},
   "outputs": [],
   "source": [
    "hypers = {\n",
    "    \"cutoff\": 2.5,\n",
    "    \"max_radial\": 2,\n",
    "    \"max_angular\": 3,\n",
    "    \"atomic_gaussian_width\": 0.2,\n",
    "    \"radial_basis\": {\"Gto\": {}},\n",
    "    \"cutoff_function\": {\"ShiftedCosine\": {\"width\": 0.1}},\n",
    "    \"center_atom_weight\": 0.0,    \n",
    "}\n",
    "calculator = SphericalExpansion(**hypers)\n",
    "rhoi = calculator.compute(frames)\n",
    "rhoi = rhoi.keys_to_properties(['species_neighbor'])\n",
    "rho1i = acdc_standardize_keys(rhoi)\n",
    "\n",
    "# selects only one environment\n",
    "rho1i = operations.slice(rho1i, samples=Labels(['center'],np.array([[0]], np.int32)) )\n",
    "norm_rho1 = np.sqrt(np.sum([(b.values**2).sum(axis=(1,2)) for b in rho1i.blocks()],axis=0).mean())\n",
    "for b in rho1i.blocks():\n",
    "    b.values[:]/=norm_rho1"
   ]
  },
  {
   "cell_type": "code",
   "execution_count": 8,
   "id": "684640c5-d4fd-4386-b34e-c4a48ae17eb5",
   "metadata": {},
   "outputs": [
    {
     "data": {
      "text/plain": [
       "TensorMap with 4 blocks\n",
       "keys: ['order_nu' 'inversion_sigma' 'spherical_harmonics_l' 'species_center']\n",
       "           1             1                    0                   5\n",
       "           1             1                    1                   5\n",
       "           1             1                    2                   5\n",
       "           1             1                    3                   5"
      ]
     },
     "execution_count": 8,
     "metadata": {},
     "output_type": "execute_result"
    }
   ],
   "source": [
    "rho1i"
   ]
  },
  {
   "cell_type": "code",
   "execution_count": 9,
   "id": "3f129e6b-5637-4c28-9e7b-7e42590ada09",
   "metadata": {},
   "outputs": [
    {
     "data": {
      "text/plain": [
       "TensorBlock\n",
       "    samples (1000): ['structure', 'center']\n",
       "    components (1): ['spherical_harmonics_m']\n",
       "    properties (2): ['species_neighbor_1', 'n_1']\n",
       "    gradients: no"
      ]
     },
     "execution_count": 9,
     "metadata": {},
     "output_type": "execute_result"
    }
   ],
   "source": [
    "rho1i.block(0)"
   ]
  },
  {
   "cell_type": "code",
   "execution_count": 10,
   "id": "2e1af8b8-4a20-4de5-88ea-ea50e0790334",
   "metadata": {},
   "outputs": [],
   "source": [
    "calculator = SphericalExpansionByPair(**hypers)\n",
    "gij = calculator.compute(frames)\n",
    "gij = operations.slice(gij, samples=Labels(['first_atom'],np.array([[0]], np.int32)) )\n",
    "gij =  acdc_standardize_keys(gij)\n",
    "for b in gij.blocks():\n",
    "    b.values[:]/=norm_rho1"
   ]
  },
  {
   "cell_type": "code",
   "execution_count": 11,
   "id": "8da710fd-4c55-4623-b9fc-30f17798ec0b",
   "metadata": {},
   "outputs": [
    {
     "data": {
      "text/plain": [
       "TensorMap with 4 blocks\n",
       "keys: ['order_nu' 'inversion_sigma' 'spherical_harmonics_l' 'species_center' 'species_neighbor']\n",
       "           1             1                    0                   5                5\n",
       "           1             1                    1                   5                5\n",
       "           1             1                    2                   5                5\n",
       "           1             1                    3                   5                5"
      ]
     },
     "execution_count": 11,
     "metadata": {},
     "output_type": "execute_result"
    }
   ],
   "source": [
    "gij"
   ]
  },
  {
   "cell_type": "code",
   "execution_count": 12,
   "id": "5cb2e076-f78e-4b76-8ec7-a07cbeb95078",
   "metadata": {},
   "outputs": [
    {
     "data": {
      "text/plain": [
       "TensorBlock\n",
       "    samples (8000): ['structure', 'center', 'neighbor']\n",
       "    components (1): ['spherical_harmonics_m']\n",
       "    properties (2): ['n_1']\n",
       "    gradients: no"
      ]
     },
     "execution_count": 12,
     "metadata": {},
     "output_type": "execute_result"
    }
   ],
   "source": [
    "gij.block(0)"
   ]
  },
  {
   "cell_type": "markdown",
   "id": "ce6b656b-3ac0-4c0f-bdc6-738cc83bac4f",
   "metadata": {},
   "source": [
    "## Test there is consistency at the level of rhoij and gij"
   ]
  },
  {
   "cell_type": "code",
   "execution_count": 13,
   "id": "baba8d3a-c76e-4917-b5d1-a8c37cdca2db",
   "metadata": {},
   "outputs": [],
   "source": [
    "test = operations.sum_over_samples(gij, samples_names=[\"neighbor\"]) "
   ]
  },
  {
   "cell_type": "code",
   "execution_count": 14,
   "id": "34ab27e7-36cf-46de-9248-35708fc82826",
   "metadata": {},
   "outputs": [],
   "source": [
    "test.block(1).values;"
   ]
  },
  {
   "cell_type": "code",
   "execution_count": 15,
   "id": "d09a00ff-b0fb-41b3-ba31-e2d1c6537201",
   "metadata": {},
   "outputs": [
    {
     "data": {
      "text/plain": [
       "7.568891221116074e-13"
      ]
     },
     "execution_count": 15,
     "metadata": {},
     "output_type": "execute_result"
    }
   ],
   "source": [
    "np.linalg.norm(rho1i.block(1).values/test.block(1).values -1)"
   ]
  },
  {
   "cell_type": "markdown",
   "id": "a84fd6a5-e916-45a1-8f69-4b1c2bbc04f5",
   "metadata": {},
   "source": [
    "# Now compute the correlation stuff!"
   ]
  },
  {
   "cell_type": "code",
   "execution_count": 16,
   "id": "fef55fd3",
   "metadata": {},
   "outputs": [],
   "source": [
    "cg = ClebschGordanReal(5)"
   ]
  },
  {
   "cell_type": "markdown",
   "id": "0ec41731-52da-452d-a1e3-5872509655df",
   "metadata": {},
   "source": [
    "## pair features"
   ]
  },
  {
   "cell_type": "code",
   "execution_count": 17,
   "id": "03e4745f",
   "metadata": {},
   "outputs": [
    {
     "name": "stdout",
     "output_type": "stream",
     "text": [
      "CPU times: user 6.52 s, sys: 208 ms, total: 6.73 s\n",
      "Wall time: 6.72 s\n"
     ]
    }
   ],
   "source": [
    "%%time\n",
    "rhoii1i2_nu0 = cg_combine(gij, gij, clebsch_gordan=cg, other_keys_match=['species_center'], lcut=3)"
   ]
  },
  {
   "cell_type": "code",
   "execution_count": 18,
   "id": "10298778",
   "metadata": {},
   "outputs": [
    {
     "name": "stdout",
     "output_type": "stream",
     "text": [
      "CPU times: user 5.38 s, sys: 116 ms, total: 5.49 s\n",
      "Wall time: 5.49 s\n"
     ]
    }
   ],
   "source": [
    "%%time \n",
    "rhoii1i2_nu1 =  cg_combine(rho1i, rhoii1i2_nu0, clebsch_gordan=cg, other_keys_match = ['species_center'], lcut=0)"
   ]
  },
  {
   "cell_type": "markdown",
   "id": "7d789a6c-9b1a-4c61-af57-7000fb312349",
   "metadata": {},
   "source": [
    "### sanity checks"
   ]
  },
  {
   "cell_type": "code",
   "execution_count": 19,
   "id": "1bc28f4e-d0b4-4de3-859b-7da8ee8f9963",
   "metadata": {},
   "outputs": [],
   "source": [
    "# nb: we disable lexicographic sorting of L to have comparable feature layout\n",
    "rho2i_full = cg_combine(rho1i, rho1i, clebsch_gordan=cg, lcut=3, sorted_l=False)\n",
    "test = operations.sum_over_samples(rhoii1i2_nu0, samples_names=[\"neighbor_1\", \"neighbor_2\"]) "
   ]
  },
  {
   "cell_type": "code",
   "execution_count": 20,
   "id": "6e8f0053-09a1-4761-a5a0-b461cb508614",
   "metadata": {},
   "outputs": [
    {
     "data": {
      "text/plain": [
       "2.395485600100662e-10"
      ]
     },
     "execution_count": 20,
     "metadata": {},
     "output_type": "execute_result"
    }
   ],
   "source": [
    "np.linalg.norm(rho2i_full.block(2).values/test.block(2).values-1)"
   ]
  },
  {
   "cell_type": "markdown",
   "id": "c36797a2-a0ca-4064-87c0-7074cf225e44",
   "metadata": {},
   "source": [
    "## higher-order "
   ]
  },
  {
   "cell_type": "code",
   "execution_count": 21,
   "id": "a11b404f",
   "metadata": {},
   "outputs": [
    {
     "name": "stdout",
     "output_type": "stream",
     "text": [
      "CPU times: user 5.78 s, sys: 375 ms, total: 6.15 s\n",
      "Wall time: 6.15 s\n"
     ]
    }
   ],
   "source": [
    "%%time\n",
    "# here we use all tricks to reduce cost\n",
    "rho2i = cg_increment(rho1i, rho1i, clebsch_gordan=cg, lcut=3)\n",
    "rho3i = cg_increment(rho2i, rho1i, clebsch_gordan=cg, lcut=3)\n",
    "rho4i = cg_increment(rho3i, rho1i, clebsch_gordan=cg, lcut=3)\n",
    "rho5i = cg_increment(rho4i, rho1i, clebsch_gordan=cg, lcut=0)"
   ]
  },
  {
   "cell_type": "code",
   "execution_count": 22,
   "id": "d828a167-e710-4646-9941-8e231f15f20b",
   "metadata": {},
   "outputs": [
    {
     "name": "stdout",
     "output_type": "stream",
     "text": [
      "CPU times: user 3 µs, sys: 0 ns, total: 3 µs\n",
      "Wall time: 6.68 µs\n"
     ]
    }
   ],
   "source": [
    "%%time \n",
    "#rho5il1 = cg_increment(rho4i, rho1i, clebsch_gordan=cg, lcut=1)"
   ]
  },
  {
   "cell_type": "code",
   "execution_count": 23,
   "id": "42677e82-3956-4c3a-a9ba-e3f386bbcb7c",
   "metadata": {},
   "outputs": [
    {
     "name": "stdout",
     "output_type": "stream",
     "text": [
      "CPU times: user 4 µs, sys: 0 ns, total: 4 µs\n",
      "Wall time: 7.15 µs\n"
     ]
    }
   ],
   "source": [
    "%time \n",
    "#rho6il1 = cg_increment(rho5il1, rho1i, clebsch_gordan=cg, lcut=1)"
   ]
  },
  {
   "cell_type": "code",
   "execution_count": 24,
   "id": "c2aa90d4-960b-4566-aa74-ec913726147d",
   "metadata": {},
   "outputs": [
    {
     "name": "stdout",
     "output_type": "stream",
     "text": [
      "CPU times: user 7 µs, sys: 0 ns, total: 7 µs\n",
      "Wall time: 14.1 µs\n"
     ]
    }
   ],
   "source": [
    "%time \n",
    "#rho7i = cg_increment(rho6il1, rho1i, clebsch_gordan=cg, lcut=0, filter_sigma=[1])"
   ]
  },
  {
   "cell_type": "markdown",
   "id": "d18425a2-7c0f-439d-a050-b307e1d7b2e9",
   "metadata": {},
   "source": [
    "## PCA"
   ]
  },
  {
   "cell_type": "markdown",
   "id": "3169eb52-97e8-4cc6-87f0-52664255ee7d",
   "metadata": {},
   "source": [
    "Since we have a LOT of features and few structures, we use PCA to reduce the number of features with no information loss"
   ]
  },
  {
   "cell_type": "code",
   "execution_count": 25,
   "id": "641fbfd9-aca1-48d9-a29e-ab21aacf3413",
   "metadata": {},
   "outputs": [],
   "source": [
    "from sklearn.decomposition import PCA"
   ]
  },
  {
   "cell_type": "code",
   "execution_count": 26,
   "id": "a1e825e6-0bcf-4531-b7a0-3795a609a8a9",
   "metadata": {},
   "outputs": [
    {
     "data": {
      "text/plain": [
       "[<matplotlib.lines.Line2D at 0x7f5001a9c4c0>]"
      ]
     },
     "execution_count": 26,
     "metadata": {},
     "output_type": "execute_result"
    },
    {
     "data": {
      "image/png": "[encoded data removed]",
      "text/plain": [
       "<Figure size 432x288 with 1 Axes>"
      ]
     },
     "metadata": {
      "needs_background": "light"
     },
     "output_type": "display_data"
    }
   ],
   "source": [
    "plt.plot(rhoii1i2_nu1.block(0).values.squeeze()[:64].sum(axis=0)*2e3,'r-')\n",
    "plt.plot(rho3i.block(inversion_sigma=1,spherical_harmonics_l=0).values.squeeze()[0], 'b--')"
   ]
  },
  {
   "cell_type": "code",
   "execution_count": 27,
   "id": "a4199b01-c90f-4dda-9c23-0a39e20b0f75",
   "metadata": {},
   "outputs": [],
   "source": [
    "raw = np.hstack([rhoii1i2_nu1.block(0).values.squeeze(),rhoii1i2_nu1.block(1).values.squeeze()])\n",
    "feats_n2nu1 = torch.tensor(PCA(n_components=min(raw.shape[0],raw.shape[-1])).fit_transform(raw)/ np.sqrt((raw**2).sum(axis=1).mean()), device=device)"
   ]
  },
  {
   "cell_type": "code",
   "execution_count": 28,
   "id": "c7cf5788-4bf1-45a3-b1fa-21617efb8c75",
   "metadata": {},
   "outputs": [],
   "source": [
    "triplet_samples = rhoii1i2_nu1.block(0).samples"
   ]
  },
  {
   "cell_type": "code",
   "execution_count": 29,
   "id": "9ab5bb5d-2ab7-4abc-a99a-463723c5545b",
   "metadata": {},
   "outputs": [],
   "source": [
    "raw = np.hstack([\n",
    "    rho1i.block(inversion_sigma=1,spherical_harmonics_l=0).values.squeeze(),\n",
    "    rho2i.block(inversion_sigma=1,spherical_harmonics_l=0).values.squeeze(),\n",
    "    rho3i.block(inversion_sigma=1,spherical_harmonics_l=0).values.squeeze(),\n",
    "    rho3i.block(inversion_sigma=-1,spherical_harmonics_l=0).values.squeeze()\n",
    "])\n",
    "feats_nu123 = torch.tensor(PCA(n_components=min(raw.shape[0],raw.shape[-1])).fit_transform(raw) / np.sqrt((raw**2).sum(axis=1).mean()),device=device)"
   ]
  },
  {
   "cell_type": "code",
   "execution_count": 30,
   "id": "95294e92-1170-42df-941a-c602cd2daba6",
   "metadata": {},
   "outputs": [],
   "source": [
    "raw = np.hstack([\n",
    "    rho1i.block(inversion_sigma=1,spherical_harmonics_l=0).values.squeeze(),\n",
    "    rho2i.block(inversion_sigma=1,spherical_harmonics_l=0).values.squeeze(),\n",
    "    rho3i.block(inversion_sigma=1,spherical_harmonics_l=0).values.squeeze(),\n",
    "    rho4i.block(inversion_sigma=1,spherical_harmonics_l=0).values.squeeze(),\n",
    "    rho5i.block(inversion_sigma=1,spherical_harmonics_l=0).values.squeeze(),\n",
    "    rho3i.block(inversion_sigma=-1,spherical_harmonics_l=0).values.squeeze(),\n",
    "    rho4i.block(inversion_sigma=-1,spherical_harmonics_l=0).values.squeeze(),\n",
    "    rho5i.block(inversion_sigma=-1,spherical_harmonics_l=0).values.squeeze()\n",
    "])\n",
    "feats_nu12345 = torch.tensor(PCA(n_components=min(raw.shape[0],raw.shape[-1])).fit_transform(raw) / np.sqrt((raw**2).sum(axis=1).mean()),device=device)"
   ]
  },
  {
   "cell_type": "code",
   "execution_count": 31,
   "id": "2080f6da-7cfc-4ff8-9938-208bd10ef745",
   "metadata": {},
   "outputs": [
    {
     "name": "stdout",
     "output_type": "stream",
     "text": [
      "38\n"
     ]
    },
    {
     "data": {
      "image/png": "[encoded data removed]",
      "text/plain": [
       "<Figure size 432x288 with 1 Axes>"
      ]
     },
     "metadata": {
      "needs_background": "light"
     },
     "output_type": "display_data"
    }
   ],
   "source": [
    "deltas = np.sqrt(((feats_nu12345[::2]-feats_nu12345[1::2])**2).sum(axis=1).cpu().numpy())/np.sqrt(((feats_nu12345[::2]+feats_nu12345[1::2])**2).sum(axis=1).cpu().numpy())\n",
    "plt.plot(deltas )\n",
    "print(deltas.argmax())"
   ]
  },
  {
   "cell_type": "code",
   "execution_count": 32,
   "id": "62aad3a0-b6be-405f-b527-52e13e11326a",
   "metadata": {},
   "outputs": [
    {
     "data": {
      "application/vnd.jupyter.widget-view+json": {
       "model_id": "cb060483255b4913aa53183a86ba86aa",
       "version_major": 2,
       "version_minor": 0
      },
      "text/plain": [
       "ChemiscopeWidget(value='{\"meta\": {\"name\": \" \"}, \"settings\": {\"map\": {\"x\": {\"max\": 0.8114175656679125, \"min\": -…"
      ]
     },
     "metadata": {},
     "output_type": "display_data"
    }
   ],
   "source": [
    "cs = chemiscope.show(frames=frames, properties = { \n",
    " \"feats12345\":    feats_nu12345[:,:8].cpu().numpy(),\n",
    " \"type\" : [i%2 for i in range(len(frames))],\n",
    " \"deltas\" : [deltas[i//2]   for i in range(len(frames)) ],\n",
    " \"pars\" : [f.info[\"pars\"] for f in frames]   \n",
    "}\n",
    "                     , settings = {\n",
    "                         'map': {'x': {'max': 0.8114175656679125,\n",
    "   'min': -0.32173653263255847,\n",
    "   'property': 'feats12345[1]',\n",
    "   'scale': 'linear'},\n",
    "  'y': {'max': 0.5533810292695732,\n",
    "   'min': -0.29561319677262154,\n",
    "   'property': 'feats12345[2]',\n",
    "   'scale': 'linear'},\n",
    "  'color': {'max': 0.15750915598126383,\n",
    "   'min': 8.705512017627933e-08,\n",
    "   'property': 'deltas',\n",
    "   'scale': 'log'},\n",
    "  'symbol': '',\n",
    "  'palette': 'inferno',\n",
    "  'size': {'factor': 50, 'mode': 'linear', 'property': '', 'reverse': False}},                         \n",
    "                         'structure': [{\n",
    "   'axes': 'xyz',\n",
    "   'keepOrientation': True,\n",
    "   'playbackDelay': 250}]})\n",
    "display(cs)"
   ]
  },
  {
   "cell_type": "code",
   "execution_count": 33,
   "id": "28966a98-1820-4125-b305-c2b8ee98ccd4",
   "metadata": {},
   "outputs": [
    {
     "data": {
      "text/plain": [
       "[<matplotlib.lines.Line2D at 0x7f503803d730>]"
      ]
     },
     "execution_count": 33,
     "metadata": {},
     "output_type": "execute_result"
    },
    {
     "data": {
      "image/png": "[encoded data removed]",
      "text/plain": [
       "<Figure size 432x288 with 1 Axes>"
      ]
     },
     "metadata": {
      "needs_background": "light"
     },
     "output_type": "display_data"
    }
   ],
   "source": [
    "plt.plot(feats_nu12345[14].cpu().numpy())\n",
    "plt.plot(feats_nu12345[15].cpu().numpy())"
   ]
  },
  {
   "cell_type": "code",
   "execution_count": 34,
   "id": "6ed18077-abac-447f-aadf-08e107cdd32f",
   "metadata": {},
   "outputs": [
    {
     "data": {
      "text/plain": [
       "[<matplotlib.lines.Line2D at 0x7f5038053490>]"
      ]
     },
     "execution_count": 34,
     "metadata": {},
     "output_type": "execute_result"
    },
    {
     "data": {
      "image/png": "[encoded data removed]",
      "text/plain": [
       "<Figure size 432x288 with 1 Axes>"
      ]
     },
     "metadata": {
      "needs_background": "light"
     },
     "output_type": "display_data"
    }
   ],
   "source": [
    "plt.plot((feats_nu12345[220]-feats_nu12345[221]).cpu().numpy())"
   ]
  },
  {
   "cell_type": "code",
   "execution_count": 35,
   "id": "5a70c59b-c86f-41b2-a384-9f75fecfd926",
   "metadata": {},
   "outputs": [
    {
     "data": {
      "text/plain": [
       "[<matplotlib.lines.Line2D at 0x7f5038eaa2b0>]"
      ]
     },
     "execution_count": 35,
     "metadata": {},
     "output_type": "execute_result"
    },
    {
     "data": {
      "image/png": "[encoded data removed]",
      "text/plain": [
       "<Figure size 432x288 with 1 Axes>"
      ]
     },
     "metadata": {
      "needs_background": "light"
     },
     "output_type": "display_data"
    }
   ],
   "source": [
    "plt.plot(feats_nu123[::2,7].cpu().numpy(), feats_nu123[::2,8].cpu().numpy(), 'b.')\n",
    "plt.plot(feats_nu123[1::2,7].cpu().numpy(), feats_nu123[1::2,8].cpu().numpy(), 'rx')"
   ]
  },
  {
   "cell_type": "code",
   "execution_count": 36,
   "id": "10199ba6-e2e5-4bfc-a873-5678444055a2",
   "metadata": {},
   "outputs": [
    {
     "data": {
      "text/plain": [
       "[<matplotlib.lines.Line2D at 0x7f5001ecdc10>]"
      ]
     },
     "execution_count": 36,
     "metadata": {},
     "output_type": "execute_result"
    },
    {
     "data": {
      "image/png": "[encoded data removed]",
      "text/plain": [
       "<Figure size 432x288 with 1 Axes>"
      ]
     },
     "metadata": {
      "needs_background": "light"
     },
     "output_type": "display_data"
    }
   ],
   "source": [
    "plt.plot(feats_nu12345[::2,8].cpu().numpy(), feats_nu12345[::2,9].cpu().numpy(), 'b.')\n",
    "plt.plot(feats_nu12345[1::2,8].cpu().numpy(), feats_nu12345[1::2,9].cpu().numpy(), 'rx')"
   ]
  },
  {
   "cell_type": "markdown",
   "id": "7057a862-3261-464d-8060-9116b8415338",
   "metadata": {},
   "source": [
    "# Now we make an autoencoder thingie"
   ]
  },
  {
   "cell_type": "code",
   "execution_count": 37,
   "id": "1ba29c23-da18-4d6a-8b0e-1491268db39f",
   "metadata": {},
   "outputs": [],
   "source": [
    "def StructureMap(samples_structure, device=\"cpu\"):\n",
    "    unique_structures, unique_structures_idx = np.unique(\n",
    "        samples_structure, return_index=True\n",
    "    )\n",
    "    new_samples = samples_structure[np.sort(unique_structures_idx)]\n",
    "    # we need a list keeping track of where each atomic contribution goes\n",
    "    # (e.g. if structure ids are [3,3,3,1,1,1,6,6,6] that will be stored as\n",
    "    # the unique structures [3, 1, 6], structure_map will be\n",
    "    # [0,0,0,1,1,1,2,2,2]\n",
    "    replace_rule = dict(zip(unique_structures, range(len(unique_structures))))\n",
    "    structure_map = torch.tensor(\n",
    "        [replace_rule[i] for i in samples_structure],\n",
    "        dtype=torch.long,\n",
    "        device=device,\n",
    "    )\n",
    "    return structure_map, new_samples, replace_rule"
   ]
  },
  {
   "cell_type": "code",
   "execution_count": 38,
   "id": "7067c569-c37a-45a0-931f-5b12321f9040",
   "metadata": {},
   "outputs": [],
   "source": [
    "class LinearEncodeDecode(torch.nn.Module):\n",
    "    def __init__(self, layer_size=100, feat_size=32, output_size=32):\n",
    "        super().__init__()\n",
    "\n",
    "        self.nn_encode = None\n",
    "        self.nn_decode = None\n",
    "        self.layer_size = layer_size \n",
    "        self.feat_size = feat_size\n",
    "        self.output_size= output_size        \n",
    "\n",
    "    def initialize_model_weights(self, block, seed):\n",
    "        if seed is not None:\n",
    "            torch.manual_seed(seed)\n",
    "\n",
    "        X = block\n",
    "\n",
    "        # initialize nn with zero weights ??\n",
    "        def init_zero_weights(m):\n",
    "            if isinstance(m, torch.nn.Linear):\n",
    "                m.weight.data.fill_(0)\n",
    "                m.bias.data.fill_(0)\n",
    "\n",
    "        self.nn_encode = torch.nn.Sequential(\n",
    "            torch.nn.Linear(X.shape[-1], self.feat_size))\n",
    "        self.nn_decode = torch.nn.Sequential(\n",
    "            torch.nn.Linear(self.feat_size, self.layer_size),\n",
    "            torch.nn.GroupNorm(4,self.layer_size),\n",
    "            torch.nn.Tanh(),\n",
    "            torch.nn.Linear(self.layer_size, self.layer_size),\n",
    "            torch.nn.GroupNorm(4,self.layer_size),\n",
    "            torch.nn.Tanh(),\n",
    "            torch.nn.Linear(self.layer_size, self.output_size),            \n",
    "        )\n",
    "    \n",
    "    def feats(self, block, samples):\n",
    "        tensor = block\n",
    "\n",
    "        structure_map, new_samples, _ = StructureMap(\n",
    "            samples, next(self.parameters()).device\n",
    "        )\n",
    "        \n",
    "        nn_per_triple = self.nn_encode(tensor)\n",
    "        nn_per_structure = torch.zeros((len(new_samples), nn_per_triple.shape[-1]), device=tensor.device)\n",
    "        nn_per_structure.index_add_(0, structure_map, nn_per_triple)\n",
    "        return nn_per_structure\n",
    "        \n",
    "    def forward(self, block, samples):\n",
    "        if self.nn_encode is None:\n",
    "            raise Exception(\"call initialize_weights first\")\n",
    "\n",
    "        outputs = self.nn_decode(self.feats(block, samples))\n",
    "        return outputs"
   ]
  },
  {
   "cell_type": "code",
   "execution_count": 156,
   "id": "ac25a569-9d2a-48c6-9f12-03225436269d",
   "metadata": {},
   "outputs": [],
   "source": [
    "class EncodeDecode(torch.nn.Module):\n",
    "    def __init__(self, layer_size=100, feat_size=32, output_size=32):\n",
    "        super().__init__()\n",
    "\n",
    "        self.nn_encode = None\n",
    "        self.nn_decode = None\n",
    "        self.feat_size = feat_size\n",
    "        self.layer_size = layer_size        \n",
    "        self.output_size= output_size        \n",
    "\n",
    "    def initialize_model_weights(self, block, seed):\n",
    "        if seed is not None:\n",
    "            torch.manual_seed(seed)\n",
    "\n",
    "        X = block\n",
    "\n",
    "        # initialize nn with zero weights ??\n",
    "        def init_zero_weights(m):\n",
    "            if isinstance(m, torch.nn.Linear):\n",
    "                m.weight.data.fill_(0)\n",
    "                m.bias.data.fill_(0)\n",
    "\n",
    "        self.nn_encode = torch.nn.Sequential(            \n",
    "            torch.nn.Linear(X.shape[-1], self.layer_size),\n",
    "            torch.nn.GroupNorm(8,self.layer_size),\n",
    "            torch.nn.Tanh(),\n",
    "            torch.nn.Linear(self.layer_size, self.layer_size),\n",
    "            torch.nn.GroupNorm(8,self.layer_size),\n",
    "            torch.nn.Tanh(),\n",
    "            torch.nn.Linear(self.layer_size, self.feat_size))\n",
    "        self.nn_decode = torch.nn.Sequential(\n",
    "            torch.nn.Linear(self.feat_size, self.layer_size),\n",
    "            torch.nn.GroupNorm(8,self.layer_size),\n",
    "            torch.nn.Tanh(),\n",
    "            torch.nn.Linear(self.layer_size, self.layer_size),\n",
    "            torch.nn.GroupNorm(8,self.layer_size),\n",
    "            torch.nn.Tanh(),\n",
    "            torch.nn.Linear(self.layer_size, self.output_size),            \n",
    "        )\n",
    "\n",
    "    def feats(self, block, samples):\n",
    "        tensor = block\n",
    "\n",
    "        structure_map, new_samples, _ = StructureMap(\n",
    "            samples, next(self.parameters()).device\n",
    "        )\n",
    "        \n",
    "        nn_per_triple = self.nn_encode(tensor)\n",
    "        nn_per_structure = torch.zeros((len(new_samples), nn_per_triple.shape[-1]), device=tensor.device)\n",
    "        nn_per_structure.index_add_(0, structure_map, nn_per_triple)\n",
    "        return nn_per_structure\n",
    "        \n",
    "    def forward(self, block, samples):\n",
    "        if self.nn_encode is None:\n",
    "            raise Exception(\"call initialize_weights first\")\n",
    "\n",
    "        outputs = self.nn_decode(self.feats(block, samples))\n",
    "        return outputs"
   ]
  },
  {
   "cell_type": "code",
   "execution_count": 157,
   "id": "adb88985-8438-45f9-8f08-fb292201b455",
   "metadata": {},
   "outputs": [
    {
     "data": {
      "text/plain": [
       "torch.Size([1000, 1000])"
      ]
     },
     "execution_count": 157,
     "metadata": {},
     "output_type": "execute_result"
    }
   ],
   "source": [
    "feats_nu12345.shape"
   ]
  },
  {
   "cell_type": "code",
   "execution_count": 158,
   "id": "e466ad03-8353-4d27-8867-d6fe058abaf4",
   "metadata": {},
   "outputs": [],
   "source": [
    "energy = torch.tensor([f.info[\"energy_rel_eV\"] for f in frames], device=device)"
   ]
  },
  {
   "cell_type": "code",
   "execution_count": 159,
   "id": "dd1f9be3-6364-45fb-9028-e2610227e1a1",
   "metadata": {},
   "outputs": [],
   "source": [
    "target = feats_nu12345[:,:128]"
   ]
  },
  {
   "cell_type": "code",
   "execution_count": 160,
   "id": "8f6dd2d5-076f-427e-9e9c-4e6e9a9256ee",
   "metadata": {},
   "outputs": [],
   "source": [
    "mymodel = LinearEncodeDecode(64, 32, target.shape[-1])"
   ]
  },
  {
   "cell_type": "code",
   "execution_count": 161,
   "id": "5b2eb04e-b04b-4acb-80df-7531c202bbf3",
   "metadata": {},
   "outputs": [],
   "source": [
    "mymodel = EncodeDecode(64, 32, target.shape[-1])"
   ]
  },
  {
   "cell_type": "code",
   "execution_count": 185,
   "id": "65f33b2d-c755-48a1-a8dd-1fac2659773c",
   "metadata": {},
   "outputs": [
    {
     "data": {
      "text/plain": [
       "EncodeDecode(\n",
       "  (nn_encode): Sequential(\n",
       "    (0): Linear(in_features=272, out_features=64, bias=True)\n",
       "    (1): GroupNorm(8, 64, eps=1e-05, affine=True)\n",
       "    (2): Tanh()\n",
       "    (3): Linear(in_features=64, out_features=64, bias=True)\n",
       "    (4): GroupNorm(8, 64, eps=1e-05, affine=True)\n",
       "    (5): Tanh()\n",
       "    (6): Linear(in_features=64, out_features=32, bias=True)\n",
       "  )\n",
       "  (nn_decode): Sequential(\n",
       "    (0): Linear(in_features=32, out_features=64, bias=True)\n",
       "    (1): GroupNorm(8, 64, eps=1e-05, affine=True)\n",
       "    (2): Tanh()\n",
       "    (3): Linear(in_features=64, out_features=64, bias=True)\n",
       "    (4): GroupNorm(8, 64, eps=1e-05, affine=True)\n",
       "    (5): Tanh()\n",
       "    (6): Linear(in_features=64, out_features=128, bias=True)\n",
       "  )\n",
       ")"
      ]
     },
     "execution_count": 185,
     "metadata": {},
     "output_type": "execute_result"
    }
   ],
   "source": [
    "mymodel.initialize_model_weights(feats_n2nu1, seed=12345)\n",
    "mymodel.to(device=device)"
   ]
  },
  {
   "cell_type": "code",
   "execution_count": 163,
   "id": "c92f92f8-83b9-4aa5-a6a2-f1fdc6797011",
   "metadata": {},
   "outputs": [],
   "source": [
    "def loss_mse(predicted, actual):\n",
    "    return torch.sum((predicted.flatten() - actual.flatten()) ** 2)"
   ]
  },
  {
   "cell_type": "markdown",
   "id": "a3f8d36a-47aa-4305-8bfc-a3bde8629ce3",
   "metadata": {},
   "source": [
    "## Run optimization"
   ]
  },
  {
   "cell_type": "code",
   "execution_count": 356,
   "id": "54cb57b8-0460-4b6c-aa2a-6532304653b5",
   "metadata": {},
   "outputs": [],
   "source": [
    "optimizer = torch.optim.Adam(\n",
    "        mymodel.parameters(),\n",
    "        lr=0.0001\n",
    "    )"
   ]
  },
  {
   "cell_type": "code",
   "execution_count": 357,
   "id": "23bca97c-81f2-468c-9b44-30f34c6f20f3",
   "metadata": {
    "scrolled": true,
    "tags": []
   },
   "outputs": [
    {
     "name": "stdout",
     "output_type": "stream",
     "text": [
      "Epoch: 0 Energy RMSE: train  0.002970187451467943 test 0.4833048103378391\n",
      "Epoch: 10 Energy RMSE: train  0.1550615960779777 test 0.07547343969761607\n",
      "Epoch: 20 Energy RMSE: train  0.12718926249294019 test 0.08168989726490244\n",
      "Epoch: 30 Energy RMSE: train  0.0847933728252939 test 0.0684287995299091\n",
      "Epoch: 40 Energy RMSE: train  0.05161633513069691 test 0.045276471308378974\n",
      "Epoch: 50 Energy RMSE: train  0.03151979102909992 test 0.0260616989828825\n",
      "Epoch: 60 Energy RMSE: train  0.01844258843584674 test 0.014080599345526672\n",
      "Epoch: 70 Energy RMSE: train  0.009441131031462331 test 0.010515278002868845\n",
      "Epoch: 80 Energy RMSE: train  0.00795043927547955 test 0.009762546721983135\n",
      "Epoch: 90 Energy RMSE: train  0.006258749523857914 test 0.007541559869002435\n",
      "Epoch: 100 Energy RMSE: train  0.005270976415420453 test 0.0071784744286250285\n",
      "Epoch: 110 Energy RMSE: train  0.0047012417766214495 test 0.006691297324298953\n",
      "Epoch: 120 Energy RMSE: train  0.004396704053571026 test 0.006497447657357946\n",
      "Epoch: 130 Energy RMSE: train  0.004122454175506955 test 0.006320265389084943\n"
     ]
    },
    {
     "ename": "KeyboardInterrupt",
     "evalue": "",
     "output_type": "error",
     "traceback": [
      "\u001b[0;31m---------------------------------------------------------------------------\u001b[0m",
      "\u001b[0;31mKeyboardInterrupt\u001b[0m                         Traceback (most recent call last)",
      "\u001b[0;32m<ipython-input-357-68db0f6934d7>\u001b[0m in \u001b[0;36m<module>\u001b[0;34m\u001b[0m\n\u001b[1;32m      7\u001b[0m     \u001b[0mpredicted\u001b[0m \u001b[0;34m=\u001b[0m \u001b[0mmymodel\u001b[0m\u001b[0;34m(\u001b[0m\u001b[0mfeats_n2nu1\u001b[0m\u001b[0;34m[\u001b[0m\u001b[0;34m:\u001b[0m\u001b[0mntrain\u001b[0m\u001b[0;34m*\u001b[0m\u001b[0mntriples\u001b[0m\u001b[0;34m]\u001b[0m\u001b[0;34m,\u001b[0m \u001b[0mtriplet_samples\u001b[0m\u001b[0;34m[\u001b[0m\u001b[0;34m\"structure\"\u001b[0m\u001b[0;34m]\u001b[0m\u001b[0;34m[\u001b[0m\u001b[0;34m:\u001b[0m\u001b[0mntrain\u001b[0m\u001b[0;34m*\u001b[0m\u001b[0mntriples\u001b[0m\u001b[0;34m]\u001b[0m\u001b[0;34m)\u001b[0m\u001b[0;34m\u001b[0m\u001b[0;34m\u001b[0m\u001b[0m\n\u001b[1;32m      8\u001b[0m     \u001b[0mloss\u001b[0m \u001b[0;34m=\u001b[0m \u001b[0mloss_mse\u001b[0m\u001b[0;34m(\u001b[0m\u001b[0mpredicted\u001b[0m\u001b[0;34m,\u001b[0m \u001b[0mtarget\u001b[0m\u001b[0;34m[\u001b[0m\u001b[0;34m:\u001b[0m\u001b[0mntrain\u001b[0m\u001b[0;34m]\u001b[0m\u001b[0;34m)\u001b[0m\u001b[0;34m\u001b[0m\u001b[0;34m\u001b[0m\u001b[0m\n\u001b[0;32m----> 9\u001b[0;31m     \u001b[0mloss\u001b[0m\u001b[0;34m.\u001b[0m\u001b[0mbackward\u001b[0m\u001b[0;34m(\u001b[0m\u001b[0mretain_graph\u001b[0m\u001b[0;34m=\u001b[0m\u001b[0;32mFalse\u001b[0m\u001b[0;34m)\u001b[0m\u001b[0;34m\u001b[0m\u001b[0;34m\u001b[0m\u001b[0m\n\u001b[0m\u001b[1;32m     10\u001b[0m     \u001b[0moptimizer\u001b[0m\u001b[0;34m.\u001b[0m\u001b[0mstep\u001b[0m\u001b[0;34m(\u001b[0m\u001b[0;34m)\u001b[0m\u001b[0;34m\u001b[0m\u001b[0;34m\u001b[0m\u001b[0m\n\u001b[1;32m     11\u001b[0m \u001b[0;34m\u001b[0m\u001b[0m\n",
      "\u001b[0;32m~/local/lib/python3.8/site-packages/torch/_tensor.py\u001b[0m in \u001b[0;36mbackward\u001b[0;34m(self, gradient, retain_graph, create_graph, inputs)\u001b[0m\n\u001b[1;32m    486\u001b[0m                 \u001b[0minputs\u001b[0m\u001b[0;34m=\u001b[0m\u001b[0minputs\u001b[0m\u001b[0;34m,\u001b[0m\u001b[0;34m\u001b[0m\u001b[0;34m\u001b[0m\u001b[0m\n\u001b[1;32m    487\u001b[0m             )\n\u001b[0;32m--> 488\u001b[0;31m         torch.autograd.backward(\n\u001b[0m\u001b[1;32m    489\u001b[0m             \u001b[0mself\u001b[0m\u001b[0;34m,\u001b[0m \u001b[0mgradient\u001b[0m\u001b[0;34m,\u001b[0m \u001b[0mretain_graph\u001b[0m\u001b[0;34m,\u001b[0m \u001b[0mcreate_graph\u001b[0m\u001b[0;34m,\u001b[0m \u001b[0minputs\u001b[0m\u001b[0;34m=\u001b[0m\u001b[0minputs\u001b[0m\u001b[0;34m\u001b[0m\u001b[0;34m\u001b[0m\u001b[0m\n\u001b[1;32m    490\u001b[0m         )\n",
      "\u001b[0;32m~/local/lib/python3.8/site-packages/torch/autograd/__init__.py\u001b[0m in \u001b[0;36mbackward\u001b[0;34m(tensors, grad_tensors, retain_graph, create_graph, grad_variables, inputs)\u001b[0m\n\u001b[1;32m    195\u001b[0m     \u001b[0;31m# some Python versions print out the first line of a multi-line function\u001b[0m\u001b[0;34m\u001b[0m\u001b[0;34m\u001b[0m\u001b[0;34m\u001b[0m\u001b[0m\n\u001b[1;32m    196\u001b[0m     \u001b[0;31m# calls in the traceback and some print out the last line\u001b[0m\u001b[0;34m\u001b[0m\u001b[0;34m\u001b[0m\u001b[0;34m\u001b[0m\u001b[0m\n\u001b[0;32m--> 197\u001b[0;31m     Variable._execution_engine.run_backward(  # Calls into the C++ engine to run the backward pass\n\u001b[0m\u001b[1;32m    198\u001b[0m         \u001b[0mtensors\u001b[0m\u001b[0;34m,\u001b[0m \u001b[0mgrad_tensors_\u001b[0m\u001b[0;34m,\u001b[0m \u001b[0mretain_graph\u001b[0m\u001b[0;34m,\u001b[0m \u001b[0mcreate_graph\u001b[0m\u001b[0;34m,\u001b[0m \u001b[0minputs\u001b[0m\u001b[0;34m,\u001b[0m\u001b[0;34m\u001b[0m\u001b[0;34m\u001b[0m\u001b[0m\n\u001b[1;32m    199\u001b[0m         allow_unreachable=True, accumulate_grad=True)  # Calls into the C++ engine to run the backward pass\n",
      "\u001b[0;31mKeyboardInterrupt\u001b[0m: "
     ]
    }
   ],
   "source": [
    "n_epochs = 20000\n",
    "ntrain = 512\n",
    "ntriples = 64\n",
    "for epoch in range(0, n_epochs):\n",
    "    \n",
    "    optimizer.zero_grad()\n",
    "    predicted = mymodel(feats_n2nu1[:ntrain*ntriples], triplet_samples[\"structure\"][:ntrain*ntriples])\n",
    "    loss = loss_mse(predicted, target[:ntrain])\n",
    "    loss.backward(retain_graph=False)\n",
    "    optimizer.step()\n",
    "    \n",
    "    \n",
    "    if epoch % 10 ==0:\n",
    "        predicted = mymodel(feats_n2nu1[ntrain*ntriples:], triplet_samples[\"structure\"][ntrain*ntriples:])\n",
    "        print(\"Epoch:\", epoch, \"Energy RMSE: train \", np.sqrt(loss.detach().cpu().numpy().flatten()[0]/ntrain),\n",
    "         \"test\", np.sqrt(loss_mse(predicted, target[ntrain:]).detach().cpu().numpy().flatten()[0]/ (len(frames)-ntrain)) )"
   ]
  },
  {
   "cell_type": "code",
   "execution_count": 358,
   "id": "5227d4ca-c2c5-4645-a4b3-d66609ca7a92",
   "metadata": {},
   "outputs": [],
   "source": [
    "optimizer = torch.optim.LBFGS(\n",
    "        mymodel.parameters(),\n",
    "        lr=0.1,\n",
    "        line_search_fn=\"strong_wolfe\",\n",
    "        history_size=128,\n",
    "    )"
   ]
  },
  {
   "cell_type": "code",
   "execution_count": null,
   "id": "04446ae2-02f9-477d-8bd7-384cc941d3b3",
   "metadata": {
    "scrolled": true,
    "tags": []
   },
   "outputs": [
    {
     "name": "stdout",
     "output_type": "stream",
     "text": [
      "Epoch: 0 Energy RMSE: train  0.003971330826720149 test 0.006127631381555737\n",
      "Epoch: 10 Energy RMSE: train  0.003120597137739991 test 0.005690331928765675\n",
      "Epoch: 20 Energy RMSE: train  0.0030485008638914757 test 0.0056531821507382575\n",
      "Epoch: 30 Energy RMSE: train  0.003017551056080821 test 0.00562654899392857\n",
      "Epoch: 40 Energy RMSE: train  0.003003460646237032 test 0.005617183280870448\n",
      "Epoch: 50 Energy RMSE: train  0.0029940857728056602 test 0.005611705289003766\n",
      "Epoch: 60 Energy RMSE: train  0.0029882178016705807 test 0.005611419290716971\n",
      "Epoch: 70 Energy RMSE: train  0.002984219126712703 test 0.005610379835700302\n",
      "Epoch: 80 Energy RMSE: train  0.0029815199319829133 test 0.005606853241485137\n",
      "Epoch: 90 Energy RMSE: train  0.0029790740030901553 test 0.0056045828814356045\n",
      "Epoch: 100 Energy RMSE: train  0.002977240852751829 test 0.005601962980396256\n",
      "Epoch: 110 Energy RMSE: train  0.002975812886018577 test 0.005598947454620593\n",
      "Epoch: 120 Energy RMSE: train  0.0029744598105393423 test 0.005596673010162409\n",
      "Epoch: 130 Energy RMSE: train  0.002973428200461173 test 0.005595389683032588\n",
      "Epoch: 140 Energy RMSE: train  0.002972674449075976 test 0.005594973364082742\n",
      "Epoch: 150 Energy RMSE: train  0.002971889785965254 test 0.0055957826352912654\n",
      "Epoch: 160 Energy RMSE: train  0.0029712807290452102 test 0.005595707738017184\n",
      "Epoch: 170 Energy RMSE: train  0.0029706177368179465 test 0.0055951845493919464\n",
      "Epoch: 180 Energy RMSE: train  0.00297000792937984 test 0.005595765183893018\n",
      "Epoch: 190 Energy RMSE: train  0.002969394785708482 test 0.005594650871170049\n",
      "Epoch: 200 Energy RMSE: train  0.0029688443512099504 test 0.005594557526742993\n",
      "Epoch: 210 Energy RMSE: train  0.0029683858323192105 test 0.00559366398245926\n",
      "Epoch: 220 Energy RMSE: train  0.0029679272663986457 test 0.0055937303197755184\n",
      "Epoch: 230 Energy RMSE: train  0.0029674635012044556 test 0.0055945885095453314\n",
      "Epoch: 240 Energy RMSE: train  0.0029670285230166287 test 0.005594995036133389\n",
      "Epoch: 250 Energy RMSE: train  0.0029666254572151096 test 0.005595302139564856\n",
      "Epoch: 260 Energy RMSE: train  0.00296624786393285 test 0.005595071570676143\n",
      "Epoch: 270 Energy RMSE: train  0.0029657944558024456 test 0.005594022561004853\n",
      "Epoch: 280 Energy RMSE: train  0.0029654105890936032 test 0.005593021053120029\n",
      "Epoch: 290 Energy RMSE: train  0.002964981290924324 test 0.005592428677996409\n",
      "Epoch: 300 Energy RMSE: train  0.002964650129211323 test 0.005591820344372613\n",
      "Epoch: 310 Energy RMSE: train  0.0029643796379847124 test 0.00559130294015421\n",
      "Epoch: 320 Energy RMSE: train  0.0029641368272744413 test 0.005591672204579302\n",
      "Epoch: 330 Energy RMSE: train  0.002963823481606723 test 0.005590690195973672\n",
      "Epoch: 340 Energy RMSE: train  0.00296358067856176 test 0.00559147309476448\n",
      "Epoch: 350 Energy RMSE: train  0.0029633211922088227 test 0.005591852861978971\n",
      "Epoch: 360 Energy RMSE: train  0.002962963461496655 test 0.005591240726810656\n",
      "Epoch: 370 Energy RMSE: train  0.0029626264693644257 test 0.005591481940188242\n",
      "Epoch: 380 Energy RMSE: train  0.002962401769534245 test 0.005590539644991388\n",
      "Epoch: 390 Energy RMSE: train  0.002962165091020014 test 0.005589378089887204\n",
      "Epoch: 400 Energy RMSE: train  0.0029618927516692596 test 0.005588483521145412\n"
     ]
    }
   ],
   "source": [
    "n_epochs = 10000\n",
    "ntrain = 512\n",
    "ntriples = 64\n",
    "for epoch in range(0, n_epochs):\n",
    "    \n",
    "    def single_step():\n",
    "        # global composition, radial_spectrum, spherical_expansions, energies\n",
    "        optimizer.zero_grad()\n",
    "        loss = torch.zeros(size=(1,), device=device)\n",
    "        \n",
    "        predicted = mymodel(feats_n2nu1[:ntrain*ntriples], triplet_samples[\"structure\"][:ntrain*ntriples])\n",
    "        loss += loss_mse(predicted, target[:ntrain])\n",
    "        \n",
    "        loss.backward(retain_graph=False)\n",
    "        return loss\n",
    "\n",
    "    loss = optimizer.step(single_step)\n",
    "        \n",
    "    if epoch % 10 ==0:\n",
    "        predicted = mymodel(feats_n2nu1[ntrain*ntriples:], triplet_samples[\"structure\"][ntrain*ntriples:])\n",
    "        print(\"Epoch:\", epoch, \"Energy RMSE: train \", np.sqrt(loss.detach().cpu().numpy().flatten()[0]/ntrain),\n",
    "         \"test\", np.sqrt(loss_mse(predicted, target[ntrain:]).detach().cpu().numpy().flatten()[0]/ (len(frames)-ntrain)) )"
   ]
  },
  {
   "cell_type": "code",
   "execution_count": 320,
   "id": "3b471c16-3869-4415-8e1b-77057ba8bff9",
   "metadata": {},
   "outputs": [
    {
     "name": "stdout",
     "output_type": "stream",
     "text": [
      "CPU times: user 1.03 s, sys: 3.99 ms, total: 1.04 s\n",
      "Wall time: 188 ms\n"
     ]
    }
   ],
   "source": [
    "%%time \n",
    "predicted = mymodel(feats_n2nu1, triplet_samples[\"structure\"])\n",
    "feats = mymodel.feats(feats_n2nu1, triplet_samples[\"structure\"])"
   ]
  },
  {
   "cell_type": "code",
   "execution_count": 321,
   "id": "1e7e74c9-65b2-4b52-a147-d7afd32c5796",
   "metadata": {},
   "outputs": [
    {
     "data": {
      "text/plain": [
       "0.012944152749368791"
      ]
     },
     "execution_count": 321,
     "metadata": {},
     "output_type": "execute_result"
    }
   ],
   "source": [
    "np.linalg.norm((predicted[:ntrain]-target[:ntrain]).cpu().detach() )/(\n",
    "    np.linalg.norm(target[:ntrain].cpu()) )"
   ]
  },
  {
   "cell_type": "code",
   "execution_count": 322,
   "id": "b6b1988a-e5ed-472c-87f8-e10ba3c4bf85",
   "metadata": {},
   "outputs": [
    {
     "data": {
      "text/plain": [
       "0.008192263882922412"
      ]
     },
     "execution_count": 322,
     "metadata": {},
     "output_type": "execute_result"
    }
   ],
   "source": [
    "np.linalg.norm((((predicted[:ntrain:2]+predicted[1:ntrain:2])/2) - ((target[:ntrain:2]+target[1:ntrain:2])/2)).cpu().detach() )/(\n",
    "    np.linalg.norm(target[:ntrain].cpu()) )"
   ]
  },
  {
   "cell_type": "code",
   "execution_count": 323,
   "id": "d7f51ab5-1059-413e-9c12-58568cf7a4cf",
   "metadata": {},
   "outputs": [
    {
     "data": {
      "text/plain": [
       "0.0162733799970069"
      ]
     },
     "execution_count": 323,
     "metadata": {},
     "output_type": "execute_result"
    }
   ],
   "source": [
    "np.linalg.norm((((predicted[ntrain::2]+predicted[ntrain+1::2])/2) - ((target[ntrain::2]+target[ntrain+1::2])/2)).cpu().detach() ) / (\n",
    "    np.linalg.norm(target[:ntrain].cpu()) )"
   ]
  },
  {
   "cell_type": "code",
   "execution_count": 324,
   "id": "98ad04e6-212a-4334-9dda-b46138000fd2",
   "metadata": {},
   "outputs": [
    {
     "data": {
      "text/plain": [
       "0.3371901263224485"
      ]
     },
     "execution_count": 324,
     "metadata": {},
     "output_type": "execute_result"
    }
   ],
   "source": [
    "np.linalg.norm((((predicted[:ntrain:2]-predicted[1:ntrain:2])) - ((target[:ntrain:2]-target[1:ntrain:2]))).cpu().detach() )/ (\n",
    "    np.linalg.norm((target[:ntrain:2]-target[1:ntrain:2]).cpu()))"
   ]
  },
  {
   "cell_type": "code",
   "execution_count": 325,
   "id": "a9622130-3805-4eb3-9e5e-cd19014e82a1",
   "metadata": {},
   "outputs": [
    {
     "data": {
      "text/plain": [
       "0.3726797384883636"
      ]
     },
     "execution_count": 325,
     "metadata": {},
     "output_type": "execute_result"
    }
   ],
   "source": [
    "np.linalg.norm((((predicted[ntrain::2]-predicted[1+ntrain::2])) - \n",
    "                ((target[ntrain::2]-target[ntrain+1::2]))).cpu().detach() )/ (\n",
    "    np.linalg.norm((target[ntrain::2]-target[1+ntrain::2]).cpu()))"
   ]
  },
  {
   "cell_type": "code",
   "execution_count": 326,
   "id": "e039a164-536f-47c3-b798-77104de35607",
   "metadata": {},
   "outputs": [
    {
     "data": {
      "text/plain": [
       "[<matplotlib.lines.Line2D at 0x7f4f6d71afd0>]"
      ]
     },
     "execution_count": 326,
     "metadata": {},
     "output_type": "execute_result"
    },
    {
     "data": {
      "image/png": "[encoded data removed]",
      "text/plain": [
       "<Figure size 432x288 with 1 Axes>"
      ]
     },
     "metadata": {
      "needs_background": "light"
     },
     "output_type": "display_data"
    }
   ],
   "source": [
    "plt.plot(feats[30].cpu().detach()-feats[31].cpu().detach())"
   ]
  },
  {
   "cell_type": "code",
   "execution_count": 327,
   "id": "f9e39974-d8d0-49bc-8ceb-be43a0887f84",
   "metadata": {},
   "outputs": [
    {
     "name": "stdout",
     "output_type": "stream",
     "text": [
      "tensor(3)\n"
     ]
    },
    {
     "data": {
      "image/png": "[encoded data removed]",
      "text/plain": [
       "<Figure size 432x288 with 1 Axes>"
      ]
     },
     "metadata": {
      "needs_background": "light"
     },
     "output_type": "display_data"
    }
   ],
   "source": [
    "plt.plot(np.sqrt(((target[::2]-target[1::2])**2).sum(axis=1)))\n",
    "print(np.sqrt(((target[::2]-target[1::2])**2).sum(axis=1)).argmax())"
   ]
  },
  {
   "cell_type": "code",
   "execution_count": 328,
   "id": "58946579-3a8f-4bd8-99ec-0a0878d5eec7",
   "metadata": {},
   "outputs": [
    {
     "data": {
      "text/plain": [
       "[<matplotlib.lines.Line2D at 0x7f4f6d89e790>]"
      ]
     },
     "execution_count": 328,
     "metadata": {},
     "output_type": "execute_result"
    },
    {
     "data": {
      "image/png": "[encoded data removed]",
      "text/plain": [
       "<Figure size 432x288 with 1 Axes>"
      ]
     },
     "metadata": {
      "needs_background": "light"
     },
     "output_type": "display_data"
    }
   ],
   "source": [
    "iframe = 72\n",
    "plt.plot(predicted[iframe].detach(),'b--')\n",
    "plt.plot(target[iframe].detach(),'b.')\n",
    "plt.plot(predicted[iframe+1].detach(), 'r--')\n",
    "plt.plot(target[iframe+1].detach(), 'r.')"
   ]
  },
  {
   "cell_type": "code",
   "execution_count": 329,
   "id": "cb466e6d-75a8-48ed-b19e-e4ede5468a1b",
   "metadata": {},
   "outputs": [
    {
     "data": {
      "text/plain": [
       "[<matplotlib.lines.Line2D at 0x7f4f7b6b9cd0>]"
      ]
     },
     "execution_count": 329,
     "metadata": {},
     "output_type": "execute_result"
    },
    {
     "data": {
      "image/png": "[encoded data removed]",
      "text/plain": [
       "<Figure size 432x288 with 1 Axes>"
      ]
     },
     "metadata": {
      "needs_background": "light"
     },
     "output_type": "display_data"
    }
   ],
   "source": [
    "plt.plot((predicted[iframe].detach()-predicted[iframe+1].detach()),'k--')\n",
    "plt.plot(target[iframe].detach()-target[iframe+1].detach(), 'k.')"
   ]
  },
  {
   "cell_type": "code",
   "execution_count": 330,
   "id": "642f128f-2f76-4473-a251-ec813f97e3d3",
   "metadata": {},
   "outputs": [
    {
     "data": {
      "text/plain": [
       "[<matplotlib.lines.Line2D at 0x7f4f7b2dbe50>]"
      ]
     },
     "execution_count": 330,
     "metadata": {},
     "output_type": "execute_result"
    },
    {
     "data": {
      "image/png": "[encoded data removed]",
      "text/plain": [
       "<Figure size 432x288 with 1 Axes>"
      ]
     },
     "metadata": {
      "needs_background": "light"
     },
     "output_type": "display_data"
    }
   ],
   "source": [
    "plt.plot((feats[iframe].detach()-feats[iframe+1].detach()),'b.-')"
   ]
  },
  {
   "cell_type": "code",
   "execution_count": 331,
   "id": "39d8d46e-c96a-459b-a9e6-b5d84b0c0b3d",
   "metadata": {},
   "outputs": [
    {
     "data": {
      "text/plain": [
       "[<matplotlib.lines.Line2D at 0x7f4f7b2b5550>]"
      ]
     },
     "execution_count": 331,
     "metadata": {},
     "output_type": "execute_result"
    },
    {
     "data": {
      "image/png": "[encoded data removed]",
      "text/plain": [
       "<Figure size 432x288 with 1 Axes>"
      ]
     },
     "metadata": {
      "needs_background": "light"
     },
     "output_type": "display_data"
    }
   ],
   "source": [
    "plt.plot(feats[:,8].detach(), energy.detach(),'b.')"
   ]
  },
  {
   "cell_type": "markdown",
   "id": "c3be45b7-5197-4d15-b67e-73fb9312af6c",
   "metadata": {},
   "source": [
    "# Now use learned features to predict energy"
   ]
  },
  {
   "cell_type": "code",
   "execution_count": 333,
   "id": "bfdbfee4-3e3b-4d0e-ad7b-4ecc7f9720b8",
   "metadata": {},
   "outputs": [],
   "source": [
    "layer_size=80\n",
    "energy_model = torch.nn.Sequential(            \n",
    "            torch.nn.Linear(feats.shape[-1], layer_size),\n",
    "            torch.nn.GroupNorm(4,layer_size),\n",
    "            torch.nn.Tanh(),\n",
    "            torch.nn.Linear(layer_size, layer_size),\n",
    "            torch.nn.GroupNorm(4,layer_size),\n",
    "            torch.nn.Tanh(),\n",
    "            torch.nn.Linear(layer_size, 1))"
   ]
  },
  {
   "cell_type": "code",
   "execution_count": 334,
   "id": "b37fe202-8b19-482d-b467-5846da0f89d6",
   "metadata": {},
   "outputs": [
    {
     "data": {
      "text/plain": [
       "Sequential(\n",
       "  (0): Linear(in_features=32, out_features=80, bias=True)\n",
       "  (1): GroupNorm(4, 80, eps=1e-05, affine=True)\n",
       "  (2): Tanh()\n",
       "  (3): Linear(in_features=80, out_features=80, bias=True)\n",
       "  (4): GroupNorm(4, 80, eps=1e-05, affine=True)\n",
       "  (5): Tanh()\n",
       "  (6): Linear(in_features=80, out_features=1, bias=True)\n",
       ")"
      ]
     },
     "execution_count": 334,
     "metadata": {},
     "output_type": "execute_result"
    }
   ],
   "source": [
    "energy_model.to(device=device)"
   ]
  },
  {
   "cell_type": "code",
   "execution_count": 335,
   "id": "b0734cd1-edac-453c-8e2a-0e6e7936c259",
   "metadata": {},
   "outputs": [],
   "source": [
    "energy_feats = feats.clone().detach()"
   ]
  },
  {
   "cell_type": "code",
   "execution_count": 340,
   "id": "4b4ea12f-9256-414f-8264-b3b80f0b0665",
   "metadata": {},
   "outputs": [],
   "source": [
    "energy_optimizer = torch.optim.Adam(\n",
    "        energy_model.parameters(),\n",
    "        lr=0.01)"
   ]
  },
  {
   "cell_type": "code",
   "execution_count": 341,
   "id": "c5eb4310-5e4f-4ce4-9c47-cf78235c1766",
   "metadata": {
    "scrolled": true,
    "tags": []
   },
   "outputs": [
    {
     "name": "stdout",
     "output_type": "stream",
     "text": [
      "Epoch: 0 Energy RMSE: train  1.5091059971798781 test 72.27808759135479\n",
      "Epoch: 100 Energy RMSE: train  4.293835983781176 test 4.880613241434874\n",
      "Epoch: 200 Energy RMSE: train  3.669952887871419 test 4.1124404402341\n",
      "Epoch: 300 Energy RMSE: train  3.2467230389452677 test 3.562984343817739\n",
      "Epoch: 400 Energy RMSE: train  2.837517017343233 test 2.9964559372199417\n",
      "Epoch: 500 Energy RMSE: train  2.546734482256547 test 2.557106133983207\n",
      "Epoch: 600 Energy RMSE: train  2.3527759297651567 test 2.3500367143675875\n",
      "Epoch: 700 Energy RMSE: train  2.276592510796698 test 2.339532442634689\n",
      "Epoch: 800 Energy RMSE: train  2.241425167764877 test 2.3320043063867315\n",
      "Epoch: 900 Energy RMSE: train  2.2193447109016455 test 2.343620652242463\n",
      "Epoch: 1000 Energy RMSE: train  2.1625850406072726 test 2.2687416288734505\n",
      "Epoch: 1100 Energy RMSE: train  2.1135979100424005 test 2.217083815102259\n",
      "Epoch: 1200 Energy RMSE: train  2.054711895886908 test 2.153461419435069\n",
      "Epoch: 1300 Energy RMSE: train  1.9913296935260207 test 2.0847005744455602\n",
      "Epoch: 1400 Energy RMSE: train  1.9211092209302205 test 2.01783381829714\n",
      "Epoch: 1500 Energy RMSE: train  1.8566670986316587 test 1.957346392587466\n",
      "Epoch: 1600 Energy RMSE: train  1.7971354318475063 test 1.9022912525282014\n",
      "Epoch: 1700 Energy RMSE: train  1.7487417902259732 test 1.8635377604970427\n",
      "Epoch: 1800 Energy RMSE: train  1.7198078193301576 test 1.8519624521101967\n",
      "Epoch: 1900 Energy RMSE: train  2.167827190850079 test 2.0523762860480463\n",
      "Epoch: 2000 Energy RMSE: train  1.6596009033360128 test 1.7892179712948473\n",
      "Epoch: 2100 Energy RMSE: train  1.6427893391394437 test 1.7754539299480039\n",
      "Epoch: 2200 Energy RMSE: train  1.6450223627890805 test 1.8078728778606254\n",
      "Epoch: 2300 Energy RMSE: train  1.615203606060372 test 1.7569740085380123\n",
      "Epoch: 2400 Energy RMSE: train  1.60582529468796 test 1.751419289032474\n",
      "Epoch: 2500 Energy RMSE: train  1.5977113957824094 test 1.7529048549197477\n",
      "Epoch: 2600 Energy RMSE: train  1.5935247561201542 test 1.7441542936966163\n",
      "Epoch: 2700 Energy RMSE: train  1.5901802591563634 test 1.753826930841383\n",
      "Epoch: 2800 Energy RMSE: train  1.5828354139571341 test 1.729972747839804\n",
      "Epoch: 2900 Energy RMSE: train  1.5753353440175717 test 1.7574925324431647\n",
      "Epoch: 3000 Energy RMSE: train  1.8208812101391592 test 2.093173289388393\n",
      "Epoch: 3100 Energy RMSE: train  1.631826235528702 test 1.7878373797145464\n",
      "Epoch: 3200 Energy RMSE: train  1.9367889909195481 test 2.011628334818152\n",
      "Epoch: 3300 Energy RMSE: train  1.7012777094154774 test 1.8322968306876641\n",
      "Epoch: 3400 Energy RMSE: train  1.5621085595530058 test 1.7194175067834099\n",
      "Epoch: 3500 Energy RMSE: train  1.5948361318868383 test 1.7812006056198442\n",
      "Epoch: 3600 Energy RMSE: train  1.5633919643608123 test 1.7410881128941613\n",
      "Epoch: 3700 Energy RMSE: train  1.5443002350626724 test 1.7064681607221162\n",
      "Epoch: 3800 Energy RMSE: train  1.5438901461323205 test 1.7058524182461854\n",
      "Epoch: 3900 Energy RMSE: train  1.5470287230215414 test 1.706371609458182\n",
      "Epoch: 4000 Energy RMSE: train  1.847544790622122 test 2.1353604007429103\n",
      "Epoch: 4100 Energy RMSE: train  1.538817668222115 test 1.696023735342326\n",
      "Epoch: 4200 Energy RMSE: train  1.6170881179654286 test 1.780544957000656\n",
      "Epoch: 4300 Energy RMSE: train  1.5370031480164508 test 1.6942375255116409\n",
      "Epoch: 4400 Energy RMSE: train  1.5483028955095928 test 1.7077013134212318\n",
      "Epoch: 4500 Energy RMSE: train  1.5358459165962521 test 1.6918694828217677\n",
      "Epoch: 4600 Energy RMSE: train  1.5384290189111496 test 1.6942573264196124\n",
      "Epoch: 4700 Energy RMSE: train  1.5349695342538017 test 1.69036024170043\n",
      "Epoch: 4800 Energy RMSE: train  1.5453067276721641 test 1.6896925397323062\n",
      "Epoch: 4900 Energy RMSE: train  1.5343085055541177 test 1.6891127163755775\n",
      "Epoch: 5000 Energy RMSE: train  1.5404136136727342 test 1.7091993532340333\n",
      "Epoch: 5100 Energy RMSE: train  1.5337576060880518 test 1.6880582689519545\n",
      "Epoch: 5200 Energy RMSE: train  1.5488948463211079 test 1.6916897564477964\n",
      "Epoch: 5300 Energy RMSE: train  1.5332972234390885 test 1.6871589418191382\n",
      "Epoch: 5400 Energy RMSE: train  1.543271551053369 test 1.6940467749047114\n",
      "Epoch: 5500 Energy RMSE: train  1.532755905726558 test 1.6867035083020103\n",
      "Epoch: 5600 Energy RMSE: train  1.5400374670538897 test 1.696797651732647\n",
      "Epoch: 5700 Energy RMSE: train  1.53213147222376 test 1.6866177625813565\n",
      "Epoch: 5800 Energy RMSE: train  1.535943847189191 test 1.6870570759628964\n",
      "Epoch: 5900 Energy RMSE: train  1.5338447305564822 test 1.6912160248836332\n",
      "Epoch: 6000 Energy RMSE: train  1.5313911230587423 test 1.6922162932010452\n",
      "Epoch: 6100 Energy RMSE: train  1.6462220233838594 test 1.7624651834654363\n",
      "Epoch: 6200 Energy RMSE: train  1.581101700673043 test 1.7657697321402528\n",
      "Epoch: 6300 Energy RMSE: train  1.5603649325653532 test 1.7052398450998618\n",
      "Epoch: 6400 Energy RMSE: train  1.5436129666625396 test 1.707477356453151\n",
      "Epoch: 6500 Energy RMSE: train  1.543606712830553 test 1.682068087398912\n",
      "Epoch: 6600 Energy RMSE: train  1.5592086476090905 test 1.7269016658422784\n",
      "Epoch: 6700 Energy RMSE: train  1.5384001820533362 test 1.707998084032808\n",
      "Epoch: 6800 Energy RMSE: train  1.5457712515622617 test 1.7147414098856448\n",
      "Epoch: 6900 Energy RMSE: train  1.5282591517444306 test 1.7044950833015506\n",
      "Epoch: 7000 Energy RMSE: train  1.5463378503144454 test 1.6933206237655218\n",
      "Epoch: 7100 Energy RMSE: train  1.5630239948485318 test 1.7411818143483724\n",
      "Epoch: 7200 Energy RMSE: train  1.5289074900665687 test 1.7021814863044613\n",
      "Epoch: 7300 Energy RMSE: train  1.5607484990342713 test 1.7492423222307294\n",
      "Epoch: 7400 Energy RMSE: train  1.5248730668549135 test 1.7020546967362993\n",
      "Epoch: 7500 Energy RMSE: train  1.7963103031212067 test 1.9189136131128735\n",
      "Epoch: 7600 Energy RMSE: train  1.6102860611100138 test 1.801308238872362\n",
      "Epoch: 7700 Energy RMSE: train  1.580603497685727 test 1.725310871772966\n",
      "Epoch: 7800 Energy RMSE: train  1.5280260964472427 test 1.7085088974033567\n",
      "Epoch: 7900 Energy RMSE: train  1.525265436069786 test 1.6854645614628936\n",
      "Epoch: 8000 Energy RMSE: train  1.5307910801879319 test 1.7125985765340546\n",
      "Epoch: 8100 Energy RMSE: train  1.5545231181677774 test 1.7491654529245853\n",
      "Epoch: 8200 Energy RMSE: train  1.665714049364552 test 1.8807099088966845\n",
      "Epoch: 8300 Energy RMSE: train  1.541079571036708 test 1.7358569590651483\n",
      "Epoch: 8400 Energy RMSE: train  1.5472209971653974 test 1.7405358503175046\n",
      "Epoch: 8500 Energy RMSE: train  1.523728209926798 test 1.708247913950464\n",
      "Epoch: 8600 Energy RMSE: train  1.5195591953113308 test 1.7029933287404384\n",
      "Epoch: 8700 Energy RMSE: train  1.5188787913416915 test 1.703235776777568\n",
      "Epoch: 8800 Energy RMSE: train  1.5385693433788699 test 1.7193297123889624\n",
      "Epoch: 8900 Energy RMSE: train  1.7180030589254673 test 1.8880497024938172\n",
      "Epoch: 9000 Energy RMSE: train  1.5596204589436653 test 1.7757626377304512\n",
      "Epoch: 9100 Energy RMSE: train  1.518477463934431 test 1.7031146127212424\n",
      "Epoch: 9200 Energy RMSE: train  1.5199759970979803 test 1.6999512022340462\n",
      "Epoch: 9300 Energy RMSE: train  1.52502850073775 test 1.7127238754990752\n",
      "Epoch: 9400 Energy RMSE: train  1.5289037528443896 test 1.706043402749724\n",
      "Epoch: 9500 Energy RMSE: train  1.5215160592283112 test 1.7606183759899066\n",
      "Epoch: 9600 Energy RMSE: train  1.5157443962045851 test 1.7011934166708256\n",
      "Epoch: 9700 Energy RMSE: train  1.5208251230595133 test 1.706751695880582\n",
      "Epoch: 9800 Energy RMSE: train  1.6280229565988589 test 1.7079936196527896\n",
      "Epoch: 9900 Energy RMSE: train  1.5147583174549257 test 1.6990785944712374\n"
     ]
    }
   ],
   "source": [
    "n_epochs = 10000\n",
    "ntrain = 900\n",
    "for epoch in range(0, n_epochs):\n",
    "    \n",
    "    energy_optimizer.zero_grad()\n",
    "    loss = torch.zeros(size=(1,), device=device)\n",
    "\n",
    "    predicted = energy_model(energy_feats[:ntrain])\n",
    "    loss += loss_mse(predicted, energy[:ntrain])\n",
    "\n",
    "    loss.backward(retain_graph=False)\n",
    "    energy_optimizer.step()\n",
    "    \n",
    "    if epoch % 100 ==0:\n",
    "        predicted = energy_model(energy_feats[ntrain:])\n",
    "    \n",
    "        print(\"Epoch:\", epoch, \"Energy RMSE: train \", np.sqrt(loss.detach().cpu().numpy().flatten()[0]/ntrain),\n",
    "         \"test\", np.sqrt(loss_mse(predicted, energy[ntrain:]).detach().cpu().numpy().flatten()[0]/ (len(frames)-ntrain)) )"
   ]
  },
  {
   "cell_type": "code",
   "execution_count": 342,
   "id": "713ff5a4-d1d3-4332-a96c-acf4a9932004",
   "metadata": {},
   "outputs": [],
   "source": [
    "energy_optimizer = torch.optim.LBFGS(\n",
    "        energy_model.parameters(),\n",
    "        lr=0.1,\n",
    "        line_search_fn=\"strong_wolfe\",\n",
    "        history_size=128\n",
    "    )"
   ]
  },
  {
   "cell_type": "code",
   "execution_count": 343,
   "id": "744d3eb2-aec7-4cf0-95b8-908027025f55",
   "metadata": {
    "scrolled": true,
    "tags": []
   },
   "outputs": [
    {
     "name": "stdout",
     "output_type": "stream",
     "text": [
      "Epoch: 0 Energy RMSE: train  1.514971980058805 test 1.6979447557524165\n",
      "Epoch: 10 Energy RMSE: train  1.4937535298585591 test 1.669210508838766\n",
      "Epoch: 20 Energy RMSE: train  1.4858585070617516 test 1.703962532071665\n",
      "Epoch: 30 Energy RMSE: train  1.4782047268261471 test 1.743266303837384\n",
      "Epoch: 40 Energy RMSE: train  1.4594773687826295 test 1.8392438128856756\n",
      "Epoch: 50 Energy RMSE: train  1.4488922881464754 test 2.066915252736314\n",
      "Epoch: 60 Energy RMSE: train  1.4362278790674026 test 2.0425950091041183\n",
      "Epoch: 70 Energy RMSE: train  1.4184506741343514 test 2.5576987190652507\n",
      "Epoch: 80 Energy RMSE: train  1.3990374016493186 test 3.1315000273523115\n",
      "Epoch: 90 Energy RMSE: train  1.385860260930606 test 3.3417216191719143\n",
      "Epoch: 100 Energy RMSE: train  1.3690448661664056 test 3.212419979522556\n",
      "Epoch: 110 Energy RMSE: train  1.3447235734847145 test 3.5833970945018065\n",
      "Epoch: 120 Energy RMSE: train  1.3295659131772264 test 4.38982305406787\n",
      "Epoch: 130 Energy RMSE: train  1.3178065630134947 test 5.115253311157162\n",
      "Epoch: 140 Energy RMSE: train  1.301707223157942 test 4.907825706558548\n",
      "Epoch: 150 Energy RMSE: train  1.281422169903152 test 4.99806276629713\n",
      "Epoch: 160 Energy RMSE: train  1.2678200012305947 test 3.9447517276181228\n",
      "Epoch: 170 Energy RMSE: train  1.2588739880381554 test 2.9185223537491947\n",
      "Epoch: 180 Energy RMSE: train  1.2435049075735778 test 2.6755634060757205\n",
      "Epoch: 190 Energy RMSE: train  1.2259026056686764 test 1.8299314632553703\n",
      "Epoch: 200 Energy RMSE: train  1.1992618714485086 test 1.69248767348403\n",
      "Epoch: 210 Energy RMSE: train  1.1886881692800348 test 1.753784807487541\n",
      "Epoch: 220 Energy RMSE: train  1.1740481429702687 test 1.8874588556775096\n",
      "Epoch: 230 Energy RMSE: train  1.157632605399261 test 1.8194404646960902\n",
      "Epoch: 240 Energy RMSE: train  1.135929097263529 test 2.0635341585329074\n",
      "Epoch: 250 Energy RMSE: train  1.1258248950784437 test 2.077736357699133\n",
      "Epoch: 260 Energy RMSE: train  1.1136230295531029 test 2.358135395827756\n",
      "Epoch: 270 Energy RMSE: train  1.103850934468126 test 2.3608576708129805\n",
      "Epoch: 280 Energy RMSE: train  1.08611593341329 test 2.4276016391504913\n",
      "Epoch: 290 Energy RMSE: train  1.0789114225718157 test 2.2068531402903377\n",
      "Epoch: 300 Energy RMSE: train  1.0697158821098212 test 2.415226444061723\n",
      "Epoch: 310 Energy RMSE: train  1.0631289155309562 test 2.4232312438387402\n",
      "Epoch: 320 Energy RMSE: train  1.057902404388863 test 4.82171827855342\n",
      "Epoch: 330 Energy RMSE: train  1.0441518819341944 test 2.486183966168821\n",
      "Epoch: 340 Energy RMSE: train  1.0321535916697657 test 3.3487130827568903\n",
      "Epoch: 350 Energy RMSE: train  1.0284636538306409 test 6.568105674298255\n",
      "Epoch: 360 Energy RMSE: train  1.0219038128217404 test 9.224132619607824\n",
      "Epoch: 370 Energy RMSE: train  1.0161383528037682 test 3.695284363082116\n",
      "Epoch: 380 Energy RMSE: train  1.0117826134464836 test 6.130952805211361\n",
      "Epoch: 390 Energy RMSE: train  1.004960590714598 test 11.845438398894059\n",
      "Epoch: 400 Energy RMSE: train  0.9998767803394594 test 11.776028428260428\n",
      "Epoch: 410 Energy RMSE: train  0.9902950765325456 test 11.523177452795737\n",
      "Epoch: 420 Energy RMSE: train  0.9835496371546585 test 12.479896646607905\n",
      "Epoch: 430 Energy RMSE: train  0.977546811596414 test 12.286780637990525\n",
      "Epoch: 440 Energy RMSE: train  0.9702820305235943 test 11.740107585092057\n",
      "Epoch: 450 Energy RMSE: train  0.9642470361026215 test 10.108038765590065\n",
      "Epoch: 460 Energy RMSE: train  0.9589800114395605 test 3.960138334447344\n",
      "Epoch: 470 Energy RMSE: train  0.9537474838423395 test 9.853558033300214\n",
      "Epoch: 480 Energy RMSE: train  0.9508060757553526 test 8.304861572254024\n",
      "Epoch: 490 Energy RMSE: train  0.9456075565841153 test 2.116727287483905\n",
      "Epoch: 500 Energy RMSE: train  0.9395413591282353 test 2.006283113423746\n",
      "Epoch: 510 Energy RMSE: train  0.9362112955338218 test 1.9530317860593762\n",
      "Epoch: 520 Energy RMSE: train  0.9319215219428924 test 1.9421681595241378\n",
      "Epoch: 530 Energy RMSE: train  0.924391438425561 test 2.3160825427983216\n",
      "Epoch: 540 Energy RMSE: train  0.9205689020675208 test 2.296014297811783\n",
      "Epoch: 550 Energy RMSE: train  0.9142941371896763 test 2.2476257628061735\n",
      "Epoch: 560 Energy RMSE: train  0.9103961028901998 test 2.468489265093979\n",
      "Epoch: 570 Energy RMSE: train  0.9067249007592929 test 2.3437908249048025\n",
      "Epoch: 580 Energy RMSE: train  0.8956436070479662 test 2.49370545821212\n",
      "Epoch: 590 Energy RMSE: train  0.8934727440061162 test 2.586354036087587\n",
      "Epoch: 600 Energy RMSE: train  0.8899796573742783 test 2.536437921290549\n",
      "Epoch: 610 Energy RMSE: train  0.8850993176081968 test 2.757432153254145\n",
      "Epoch: 620 Energy RMSE: train  0.8803648551610365 test 2.8033738770595247\n",
      "Epoch: 630 Energy RMSE: train  0.8755800666332811 test 2.7300565752988075\n",
      "Epoch: 640 Energy RMSE: train  0.8722913105574155 test 2.5236030035309205\n",
      "Epoch: 650 Energy RMSE: train  0.8629953443417132 test 2.494391392914104\n",
      "Epoch: 660 Energy RMSE: train  0.8583607460754117 test 2.661735353024894\n",
      "Epoch: 670 Energy RMSE: train  0.8487499182109269 test 2.68147921754141\n",
      "Epoch: 680 Energy RMSE: train  0.8449875372434164 test 2.668177295079246\n",
      "Epoch: 690 Energy RMSE: train  0.8401881419407372 test 2.590933384764324\n",
      "Epoch: 700 Energy RMSE: train  0.8326772026414087 test 2.519357405167195\n",
      "Epoch: 710 Energy RMSE: train  0.8285148784169452 test 2.4143884613170097\n",
      "Epoch: 720 Energy RMSE: train  0.8236367186495673 test 2.1201996437566404\n",
      "Epoch: 730 Energy RMSE: train  0.8184669021275992 test 2.0948384568164733\n",
      "Epoch: 740 Energy RMSE: train  0.8154049577595669 test 2.0166222196836143\n",
      "Epoch: 750 Energy RMSE: train  0.8084338585229001 test 2.287760672516315\n",
      "Epoch: 760 Energy RMSE: train  0.8050468582325618 test 2.205422498326225\n",
      "Epoch: 770 Energy RMSE: train  0.8023142694242251 test 2.1953155786197005\n",
      "Epoch: 780 Energy RMSE: train  0.7998418481937019 test 2.2840421943092823\n",
      "Epoch: 790 Energy RMSE: train  0.7969083687143348 test 2.3115546069821953\n",
      "Epoch: 800 Energy RMSE: train  0.7931893556667601 test 2.239371844103319\n",
      "Epoch: 810 Energy RMSE: train  0.7896540892312025 test 2.4279032607286504\n",
      "Epoch: 820 Energy RMSE: train  0.7860334952432028 test 2.368472493150508\n",
      "Epoch: 830 Energy RMSE: train  0.7834262647989404 test 2.3117531135233724\n",
      "Epoch: 840 Energy RMSE: train  0.7779707197637884 test 2.535919177257203\n",
      "Epoch: 850 Energy RMSE: train  0.7742657085051958 test 2.649243159761695\n",
      "Epoch: 860 Energy RMSE: train  0.7713434887159554 test 2.539388481110441\n",
      "Epoch: 870 Energy RMSE: train  0.7668279134957915 test 2.5544837046556266\n",
      "Epoch: 880 Energy RMSE: train  0.764444915053648 test 2.586471569317978\n",
      "Epoch: 890 Energy RMSE: train  0.7606486375511793 test 2.516812136737103\n",
      "Epoch: 900 Energy RMSE: train  0.7568440502243448 test 2.526812644676967\n",
      "Epoch: 910 Energy RMSE: train  0.7548356345508155 test 2.398346188915715\n",
      "Epoch: 920 Energy RMSE: train  0.7508999854901671 test 2.4056757827169313\n",
      "Epoch: 930 Energy RMSE: train  0.7469061964578951 test 2.38446001784949\n",
      "Epoch: 940 Energy RMSE: train  0.7402672801920211 test 2.2812311327831885\n",
      "Epoch: 950 Energy RMSE: train  0.7380859237448766 test 2.3121876137525197\n",
      "Epoch: 960 Energy RMSE: train  0.7361499842824569 test 2.2238616154878272\n",
      "Epoch: 970 Energy RMSE: train  0.7307969440419703 test 2.2741522578336664\n",
      "Epoch: 980 Energy RMSE: train  0.7275885739865606 test 2.2478378012680187\n",
      "Epoch: 990 Energy RMSE: train  0.7245490346445044 test 2.4470071126066855\n",
      "Epoch: 1000 Energy RMSE: train  0.721496265565095 test 3.040167459879926\n",
      "Epoch: 1010 Energy RMSE: train  0.7193531936373327 test 3.3703586012155995\n",
      "Epoch: 1020 Energy RMSE: train  0.7173909897354623 test 3.326585138754737\n",
      "Epoch: 1030 Energy RMSE: train  0.715129884630236 test 3.540195392297261\n",
      "Epoch: 1040 Energy RMSE: train  0.710230930069392 test 3.7358223488536173\n",
      "Epoch: 1050 Energy RMSE: train  0.7075854220656415 test 3.8048621638700144\n",
      "Epoch: 1060 Energy RMSE: train  0.7038413300604246 test 3.7694466366539894\n",
      "Epoch: 1070 Energy RMSE: train  0.7016596879932914 test 3.7935129713923956\n",
      "Epoch: 1080 Energy RMSE: train  0.6989085052520402 test 4.18324479648416\n",
      "Epoch: 1090 Energy RMSE: train  0.6957387475575667 test 4.171020407654789\n",
      "Epoch: 1100 Energy RMSE: train  0.6923235011358716 test 4.238593426292565\n",
      "Epoch: 1110 Energy RMSE: train  0.6873371489777134 test 4.208592345884958\n",
      "Epoch: 1120 Energy RMSE: train  0.6847748021957804 test 4.289139007469665\n",
      "Epoch: 1130 Energy RMSE: train  0.68093815231518 test 4.403339851208441\n",
      "Epoch: 1140 Energy RMSE: train  0.677864014677926 test 4.452923894768484\n",
      "Epoch: 1150 Energy RMSE: train  0.6762632495960239 test 4.497239141864249\n",
      "Epoch: 1160 Energy RMSE: train  0.673761730124873 test 4.559140119939605\n",
      "Epoch: 1170 Energy RMSE: train  0.6706255949867959 test 4.8109882605274406\n",
      "Epoch: 1180 Energy RMSE: train  0.6667688787352773 test 4.9299452906122045\n",
      "Epoch: 1190 Energy RMSE: train  0.6655776688262292 test 4.8450678728119\n",
      "Epoch: 1200 Energy RMSE: train  0.6641442092980616 test 4.816140369521292\n",
      "Epoch: 1210 Energy RMSE: train  0.6608124853136897 test 4.951658159413779\n",
      "Epoch: 1220 Energy RMSE: train  0.6569425931372155 test 5.0020699795382715\n",
      "Epoch: 1230 Energy RMSE: train  0.6555533121597658 test 5.0557327068707085\n",
      "Epoch: 1240 Energy RMSE: train  0.6513236325602016 test 5.192918567209113\n",
      "Epoch: 1250 Energy RMSE: train  0.6482701583667623 test 5.068110206964041\n",
      "Epoch: 1260 Energy RMSE: train  0.6460842933487481 test 5.1573726234161255\n",
      "Epoch: 1270 Energy RMSE: train  0.6446291225082376 test 5.247929522672369\n",
      "Epoch: 1280 Energy RMSE: train  0.6409411183820272 test 4.9661033450570145\n",
      "Epoch: 1290 Energy RMSE: train  0.6385907428125206 test 5.071042670741293\n",
      "Epoch: 1300 Energy RMSE: train  0.6371586546917662 test 5.172611894285998\n",
      "Epoch: 1310 Energy RMSE: train  0.6355799065846628 test 5.445953737278543\n",
      "Epoch: 1320 Energy RMSE: train  0.6314229193408295 test 5.790352200712497\n",
      "Epoch: 1330 Energy RMSE: train  0.6288110197289837 test 6.214260364709257\n",
      "Epoch: 1340 Energy RMSE: train  0.6273259473608823 test 6.341862281858342\n",
      "Epoch: 1350 Energy RMSE: train  0.6257707581433066 test 6.423739483275332\n",
      "Epoch: 1360 Energy RMSE: train  0.6235212186140874 test 6.515738647844236\n",
      "Epoch: 1370 Energy RMSE: train  0.6219366337326195 test 6.615730685173921\n",
      "Epoch: 1380 Energy RMSE: train  0.6189951948334186 test 6.684633717152838\n",
      "Epoch: 1390 Energy RMSE: train  0.6176908153260163 test 6.5829336333791835\n",
      "Epoch: 1400 Energy RMSE: train  0.6164620177962835 test 6.561018756002583\n",
      "Epoch: 1410 Energy RMSE: train  0.6138319227335401 test 6.728763817723865\n",
      "Epoch: 1420 Energy RMSE: train  0.6130556538155694 test 6.699540791197247\n",
      "Epoch: 1430 Energy RMSE: train  0.611677495418148 test 6.685538077337849\n",
      "Epoch: 1440 Energy RMSE: train  0.6106855312535148 test 6.6140175711812415\n",
      "Epoch: 1450 Energy RMSE: train  0.6086011183014605 test 6.525902609477116\n",
      "Epoch: 1460 Energy RMSE: train  0.6070165511421219 test 6.53143999245893\n",
      "Epoch: 1470 Energy RMSE: train  0.606004497844652 test 6.570563584549403\n",
      "Epoch: 1480 Energy RMSE: train  0.6045304710840985 test 6.564542247231976\n",
      "Epoch: 1490 Energy RMSE: train  0.602841438700348 test 6.549997181910351\n",
      "Epoch: 1500 Energy RMSE: train  0.6015495052736503 test 6.6187636559488165\n",
      "Epoch: 1510 Energy RMSE: train  0.6007305899992956 test 6.629434994342409\n",
      "Epoch: 1520 Energy RMSE: train  0.5982682641940148 test 6.52912877627176\n",
      "Epoch: 1530 Energy RMSE: train  0.595893540965126 test 6.499826382391754\n",
      "Epoch: 1540 Energy RMSE: train  0.5947976224060917 test 6.432090273148127\n",
      "Epoch: 1550 Energy RMSE: train  0.593795529739385 test 6.418412443476163\n",
      "Epoch: 1560 Energy RMSE: train  0.5907233618322221 test 6.249480163248307\n",
      "Epoch: 1570 Energy RMSE: train  0.588517768723038 test 6.3439882887494585\n",
      "Epoch: 1580 Energy RMSE: train  0.5871311586704911 test 6.268376400182292\n",
      "Epoch: 1590 Energy RMSE: train  0.5862070587610586 test 6.326000023961228\n",
      "Epoch: 1600 Energy RMSE: train  0.5849300859220593 test 6.282015280435424\n",
      "Epoch: 1610 Energy RMSE: train  0.5831957944829932 test 6.4008281659527055\n",
      "Epoch: 1620 Energy RMSE: train  0.5813763123345376 test 6.435819347353819\n",
      "Epoch: 1630 Energy RMSE: train  0.579943857796608 test 6.39788980278518\n",
      "Epoch: 1640 Energy RMSE: train  0.5786528495595317 test 6.418203949183502\n",
      "Epoch: 1650 Energy RMSE: train  0.5762002537970327 test 6.548825639926148\n",
      "Epoch: 1660 Energy RMSE: train  0.5750488953935068 test 6.595488837454764\n",
      "Epoch: 1670 Energy RMSE: train  0.5742662711690746 test 6.632175786401367\n",
      "Epoch: 1680 Energy RMSE: train  0.573159412429993 test 6.671474928894245\n",
      "Epoch: 1690 Energy RMSE: train  0.5717268532571843 test 6.614182774740635\n",
      "Epoch: 1700 Energy RMSE: train  0.5701521484197888 test 6.654772547770472\n",
      "Epoch: 1710 Energy RMSE: train  0.5690117042864847 test 6.641065951761046\n",
      "Epoch: 1720 Energy RMSE: train  0.5679009671640748 test 6.5789093986789124\n",
      "Epoch: 1730 Energy RMSE: train  0.5666020331514312 test 6.629748655616986\n",
      "Epoch: 1740 Energy RMSE: train  0.5650079827314857 test 6.740205332963617\n",
      "Epoch: 1750 Energy RMSE: train  0.5627872900670876 test 6.630510035681482\n",
      "Epoch: 1760 Energy RMSE: train  0.561201133137079 test 6.633951837465282\n",
      "Epoch: 1770 Energy RMSE: train  0.5604632933842935 test 6.675703058525208\n",
      "Epoch: 1780 Energy RMSE: train  0.5584287352439978 test 6.705233362019834\n",
      "Epoch: 1790 Energy RMSE: train  0.5556411956081766 test 6.882364002052647\n",
      "Epoch: 1800 Energy RMSE: train  0.5544174040936959 test 6.8562246885367335\n",
      "Epoch: 1810 Energy RMSE: train  0.5535207877363997 test 6.902695171261447\n",
      "Epoch: 1820 Energy RMSE: train  0.5519647386477748 test 6.817903478188676\n",
      "Epoch: 1830 Energy RMSE: train  0.5501583495126519 test 6.888437228719456\n",
      "Epoch: 1840 Energy RMSE: train  0.5488559394425855 test 6.858062931627406\n",
      "Epoch: 1850 Energy RMSE: train  0.5474399616858528 test 6.880489246165007\n",
      "Epoch: 1860 Energy RMSE: train  0.546854627138012 test 6.835059484291944\n",
      "Epoch: 1870 Energy RMSE: train  0.5456255891318338 test 6.947279807552335\n",
      "Epoch: 1880 Energy RMSE: train  0.5450406650482971 test 6.922551695554072\n",
      "Epoch: 1890 Energy RMSE: train  0.5443275993816732 test 6.95333629411692\n",
      "Epoch: 1900 Energy RMSE: train  0.5435750625570742 test 7.016470212807497\n",
      "Epoch: 1910 Energy RMSE: train  0.5423162814083721 test 7.133848307254494\n",
      "Epoch: 1920 Energy RMSE: train  0.5411679643445921 test 7.2291567766671285\n",
      "Epoch: 1930 Energy RMSE: train  0.5402164476475629 test 7.205697028465242\n",
      "Epoch: 1940 Energy RMSE: train  0.5390238372394247 test 7.224118180502033\n",
      "Epoch: 1950 Energy RMSE: train  0.5372769415333345 test 7.3329389739489175\n",
      "Epoch: 1960 Energy RMSE: train  0.5355673799689039 test 7.404891504021\n",
      "Epoch: 1970 Energy RMSE: train  0.5338252112441397 test 7.505860955703698\n",
      "Epoch: 1980 Energy RMSE: train  0.5324468379218947 test 7.481280411010704\n",
      "Epoch: 1990 Energy RMSE: train  0.5313207887295831 test 7.511575182070121\n",
      "Epoch: 2000 Energy RMSE: train  0.5301142018873491 test 7.5753015669506\n",
      "Epoch: 2010 Energy RMSE: train  0.5290794252969471 test 7.54202426308037\n",
      "Epoch: 2020 Energy RMSE: train  0.5271449074818547 test 7.575206788514447\n",
      "Epoch: 2030 Energy RMSE: train  0.5254890780183579 test 7.607429801208418\n",
      "Epoch: 2040 Energy RMSE: train  0.5239730230937838 test 7.525833889014569\n",
      "Epoch: 2050 Energy RMSE: train  0.5226964168373976 test 7.639638092209065\n",
      "Epoch: 2060 Energy RMSE: train  0.521657971747012 test 7.69595356935124\n",
      "Epoch: 2070 Energy RMSE: train  0.5211391985086543 test 7.761700921250266\n",
      "Epoch: 2080 Energy RMSE: train  0.5206124153362987 test 7.83032686746865\n",
      "Epoch: 2090 Energy RMSE: train  0.5200304309543776 test 7.93260330768304\n",
      "Epoch: 2100 Energy RMSE: train  0.5190898743757082 test 7.908212461540514\n",
      "Epoch: 2110 Energy RMSE: train  0.5178644903033919 test 7.956342761703091\n",
      "Epoch: 2120 Energy RMSE: train  0.5166887572280926 test 7.951588617951249\n",
      "Epoch: 2130 Energy RMSE: train  0.514194077476728 test 7.986827477216935\n",
      "Epoch: 2140 Energy RMSE: train  0.5129708519446133 test 7.856663545087711\n",
      "Epoch: 2150 Energy RMSE: train  0.5123136026122399 test 7.8146125968608775\n",
      "Epoch: 2160 Energy RMSE: train  0.511087805314341 test 7.921002196928506\n",
      "Epoch: 2170 Energy RMSE: train  0.5099522582336197 test 8.048414134687087\n",
      "Epoch: 2180 Energy RMSE: train  0.5091645889994871 test 8.038462561555926\n",
      "Epoch: 2190 Energy RMSE: train  0.5087164089883742 test 8.074064933180981\n",
      "Epoch: 2200 Energy RMSE: train  0.5081637663829882 test 8.081587320579574\n",
      "Epoch: 2210 Energy RMSE: train  0.5066961940417263 test 8.04668495400979\n",
      "Epoch: 2220 Energy RMSE: train  0.5060342177355447 test 8.025743477638654\n",
      "Epoch: 2230 Energy RMSE: train  0.5055096533488227 test 7.952542976173019\n",
      "Epoch: 2240 Energy RMSE: train  0.5038499040636096 test 7.971769679653329\n",
      "Epoch: 2250 Energy RMSE: train  0.5027742247837816 test 7.9074624995477345\n",
      "Epoch: 2260 Energy RMSE: train  0.5018999134700919 test 7.932954849169527\n",
      "Epoch: 2270 Energy RMSE: train  0.5013867043637913 test 7.986064296243315\n",
      "Epoch: 2280 Energy RMSE: train  0.5008880251390914 test 7.935787748077849\n",
      "Epoch: 2290 Energy RMSE: train  0.5002300712953999 test 7.83680069931911\n",
      "Epoch: 2300 Energy RMSE: train  0.49963615922451704 test 7.814838814238835\n",
      "Epoch: 2310 Energy RMSE: train  0.4992131642363042 test 7.761194623429883\n",
      "Epoch: 2320 Energy RMSE: train  0.4982564558002282 test 7.699064175352489\n",
      "Epoch: 2330 Energy RMSE: train  0.4974917450493278 test 7.589710775797425\n",
      "Epoch: 2340 Energy RMSE: train  0.49663127644636174 test 7.586273306214052\n",
      "Epoch: 2350 Energy RMSE: train  0.49481271108813885 test 7.440050543607099\n",
      "Epoch: 2360 Energy RMSE: train  0.493612044754024 test 7.462750966310657\n",
      "Epoch: 2370 Energy RMSE: train  0.4929920303959344 test 7.469979872860262\n",
      "Epoch: 2380 Energy RMSE: train  0.49223355732360335 test 7.360730531618074\n",
      "Epoch: 2390 Energy RMSE: train  0.491422770594284 test 7.331311863415472\n",
      "Epoch: 2400 Energy RMSE: train  0.4909352834994862 test 7.314959054590731\n",
      "Epoch: 2410 Energy RMSE: train  0.4905127856615724 test 7.246640508163194\n",
      "Epoch: 2420 Energy RMSE: train  0.4895918661291484 test 7.204953271362968\n",
      "Epoch: 2430 Energy RMSE: train  0.4886529139054431 test 7.122129128302838\n",
      "Epoch: 2440 Energy RMSE: train  0.48724583628748713 test 7.00822727813199\n",
      "Epoch: 2450 Energy RMSE: train  0.48637061877996124 test 7.0245295576940245\n",
      "Epoch: 2460 Energy RMSE: train  0.48534348438734737 test 6.880417353712104\n",
      "Epoch: 2470 Energy RMSE: train  0.48456163272131086 test 6.83628226470145\n",
      "Epoch: 2480 Energy RMSE: train  0.48385758229969067 test 6.7493153190379385\n",
      "Epoch: 2490 Energy RMSE: train  0.48324469230747774 test 6.730453083146416\n",
      "Epoch: 2500 Energy RMSE: train  0.4823928758274344 test 6.681210993206486\n",
      "Epoch: 2510 Energy RMSE: train  0.4812964207940925 test 6.621437972248122\n",
      "Epoch: 2520 Energy RMSE: train  0.47952761351143347 test 6.628408835933784\n",
      "Epoch: 2530 Energy RMSE: train  0.4785360765538799 test 6.644435841323045\n",
      "Epoch: 2540 Energy RMSE: train  0.4779264189078848 test 6.622842446111241\n",
      "Epoch: 2550 Energy RMSE: train  0.47755872898435137 test 6.632795663743457\n",
      "Epoch: 2560 Energy RMSE: train  0.47674332391876795 test 6.56514388322671\n",
      "Epoch: 2570 Energy RMSE: train  0.4749278982200282 test 6.6513230832230885\n",
      "Epoch: 2580 Energy RMSE: train  0.4739103975133606 test 6.649558095313779\n",
      "Epoch: 2590 Energy RMSE: train  0.4730928193246781 test 6.571523110230861\n",
      "Epoch: 2600 Energy RMSE: train  0.4721953868133748 test 6.525167061994236\n",
      "Epoch: 2610 Energy RMSE: train  0.4712586436937953 test 6.500254388239716\n",
      "Epoch: 2620 Energy RMSE: train  0.4706920673929301 test 6.488277709989292\n",
      "Epoch: 2630 Energy RMSE: train  0.4700439953711499 test 6.487392700458371\n",
      "Epoch: 2640 Energy RMSE: train  0.46968178622831275 test 6.485270220919588\n",
      "Epoch: 2650 Energy RMSE: train  0.46945510948849006 test 6.518490933281954\n",
      "Epoch: 2660 Energy RMSE: train  0.4689587920243196 test 6.500320731537503\n",
      "Epoch: 2670 Energy RMSE: train  0.4685461170930129 test 6.463732425303361\n",
      "Epoch: 2680 Energy RMSE: train  0.46780990229065267 test 6.393226988534607\n",
      "Epoch: 2690 Energy RMSE: train  0.46683623981992456 test 6.3765709828908\n",
      "Epoch: 2700 Energy RMSE: train  0.46602885726057974 test 6.3282973877520465\n",
      "Epoch: 2710 Energy RMSE: train  0.46540928265503634 test 6.324037636880047\n",
      "Epoch: 2720 Energy RMSE: train  0.46441798700261305 test 6.242879361736145\n",
      "Epoch: 2730 Energy RMSE: train  0.46389356614425914 test 6.266672194849835\n",
      "Epoch: 2740 Energy RMSE: train  0.46341198258025673 test 6.279324755690985\n",
      "Epoch: 2750 Energy RMSE: train  0.4630365780926722 test 6.310584898591355\n",
      "Epoch: 2760 Energy RMSE: train  0.46215039737979624 test 6.236499078047282\n",
      "Epoch: 2770 Energy RMSE: train  0.46073475781516865 test 6.217002339417738\n",
      "Epoch: 2780 Energy RMSE: train  0.46017257622831415 test 6.1924357166652895\n",
      "Epoch: 2790 Energy RMSE: train  0.4597984135201777 test 6.161384197982267\n",
      "Epoch: 2800 Energy RMSE: train  0.4594567216635171 test 6.157842657114301\n",
      "Epoch: 2810 Energy RMSE: train  0.4584785721847953 test 6.116188093204417\n",
      "Epoch: 2820 Energy RMSE: train  0.4576166828655298 test 6.060246341244852\n",
      "Epoch: 2830 Energy RMSE: train  0.4567095940431389 test 6.015171610670614\n",
      "Epoch: 2840 Energy RMSE: train  0.4558523436905986 test 5.985574439455036\n",
      "Epoch: 2850 Energy RMSE: train  0.4554645809136812 test 5.947359785373874\n",
      "Epoch: 2860 Energy RMSE: train  0.4548371531898624 test 5.937095150208217\n",
      "Epoch: 2870 Energy RMSE: train  0.4540911634308141 test 5.934423603262037\n",
      "Epoch: 2880 Energy RMSE: train  0.45353441116373994 test 5.9106523290222395\n",
      "Epoch: 2890 Energy RMSE: train  0.453162856694446 test 5.943430197654145\n",
      "Epoch: 2900 Energy RMSE: train  0.4526839520582732 test 5.925951121497621\n",
      "Epoch: 2910 Energy RMSE: train  0.45211947152098025 test 5.952831712925575\n",
      "Epoch: 2920 Energy RMSE: train  0.4516663774573569 test 5.952073267387811\n",
      "Epoch: 2930 Energy RMSE: train  0.451245526705977 test 5.979730266346691\n",
      "Epoch: 2940 Energy RMSE: train  0.45053048936754103 test 5.994617643568982\n",
      "Epoch: 2950 Energy RMSE: train  0.4497674942493485 test 6.0120199578320275\n",
      "Epoch: 2960 Energy RMSE: train  0.44931217520550043 test 6.027078186455518\n",
      "Epoch: 2970 Energy RMSE: train  0.4479430545773983 test 6.0931117430967445\n",
      "Epoch: 2980 Energy RMSE: train  0.4472935742378417 test 6.039193577212118\n",
      "Epoch: 2990 Energy RMSE: train  0.44642039695088004 test 6.09003158471016\n",
      "Epoch: 3000 Energy RMSE: train  0.4458469597677997 test 6.05657557559363\n",
      "Epoch: 3010 Energy RMSE: train  0.4450252100388776 test 6.0423301581222\n",
      "Epoch: 3020 Energy RMSE: train  0.44425252715243135 test 6.037084512110004\n",
      "Epoch: 3030 Energy RMSE: train  0.44353798463854144 test 6.053519513850176\n",
      "Epoch: 3040 Energy RMSE: train  0.4432342747884302 test 6.042114861643411\n",
      "Epoch: 3050 Energy RMSE: train  0.44249381913699115 test 6.073785756180595\n",
      "Epoch: 3060 Energy RMSE: train  0.4418285015663457 test 6.055562476071659\n",
      "Epoch: 3070 Energy RMSE: train  0.4411040524284965 test 6.008282953750074\n",
      "Epoch: 3080 Energy RMSE: train  0.440268846324814 test 6.030523597163406\n",
      "Epoch: 3090 Energy RMSE: train  0.43937022128382947 test 6.036797780955903\n",
      "Epoch: 3100 Energy RMSE: train  0.43884644523781957 test 6.02867047173995\n",
      "Epoch: 3110 Energy RMSE: train  0.4383017883072224 test 6.1244125038486485\n",
      "Epoch: 3120 Energy RMSE: train  0.4376584989074854 test 6.175317582754933\n",
      "Epoch: 3130 Energy RMSE: train  0.4371685548880438 test 6.1543063268793645\n",
      "Epoch: 3140 Energy RMSE: train  0.436691354511434 test 6.168477351325399\n",
      "Epoch: 3150 Energy RMSE: train  0.43602783180163784 test 6.170098923948846\n",
      "Epoch: 3160 Energy RMSE: train  0.43570669516599464 test 6.190491205762943\n",
      "Epoch: 3170 Energy RMSE: train  0.43505097280117816 test 6.242527273754508\n",
      "Epoch: 3180 Energy RMSE: train  0.43454973544348074 test 6.226392210564602\n",
      "Epoch: 3190 Energy RMSE: train  0.43382848071444896 test 6.235601566846983\n",
      "Epoch: 3200 Energy RMSE: train  0.4332772355574784 test 6.196221454439191\n",
      "Epoch: 3210 Energy RMSE: train  0.4325095962052314 test 6.162076698404\n",
      "Epoch: 3220 Energy RMSE: train  0.4316588317451869 test 6.139259904447566\n",
      "Epoch: 3230 Energy RMSE: train  0.43102609892314686 test 6.106262803673288\n",
      "Epoch: 3240 Energy RMSE: train  0.43042368131294834 test 6.059682593965657\n",
      "Epoch: 3250 Energy RMSE: train  0.4299051343283846 test 5.970402410316232\n",
      "Epoch: 3260 Energy RMSE: train  0.42928637258387675 test 5.920145879803168\n",
      "Epoch: 3270 Energy RMSE: train  0.4285543622143101 test 5.789672214262092\n",
      "Epoch: 3280 Energy RMSE: train  0.42802242295159393 test 5.729412392137587\n",
      "Epoch: 3290 Energy RMSE: train  0.427363695843387 test 5.600872529578286\n",
      "Epoch: 3300 Energy RMSE: train  0.4263726523834668 test 5.599973238829713\n",
      "Epoch: 3310 Energy RMSE: train  0.4251263034075172 test 5.511884171322837\n",
      "Epoch: 3320 Energy RMSE: train  0.42425567003118003 test 5.485373255564159\n",
      "Epoch: 3330 Energy RMSE: train  0.4236282178803285 test 5.531446771423645\n",
      "Epoch: 3340 Energy RMSE: train  0.42304546714050595 test 5.53413664108013\n",
      "Epoch: 3350 Energy RMSE: train  0.422654616805812 test 5.5644528827252335\n",
      "Epoch: 3360 Energy RMSE: train  0.4217275830400444 test 5.468957847993625\n",
      "Epoch: 3370 Energy RMSE: train  0.4204801650529915 test 5.417628868630017\n",
      "Epoch: 3380 Energy RMSE: train  0.4201167349090539 test 5.331555684257881\n",
      "Epoch: 3390 Energy RMSE: train  0.4195946923873517 test 5.2696216112040135\n",
      "Epoch: 3400 Energy RMSE: train  0.41892503842184575 test 5.201564002653646\n",
      "Epoch: 3410 Energy RMSE: train  0.4182270489992171 test 5.062488498621449\n",
      "Epoch: 3420 Energy RMSE: train  0.4176751566865131 test 5.037924087860294\n",
      "Epoch: 3430 Energy RMSE: train  0.41690582043229735 test 4.902041612945995\n",
      "Epoch: 3440 Energy RMSE: train  0.4161722691863464 test 4.798058109998224\n",
      "Epoch: 3450 Energy RMSE: train  0.4154456449394906 test 4.808018586397247\n",
      "Epoch: 3460 Energy RMSE: train  0.414894305594099 test 4.776628180641795\n",
      "Epoch: 3470 Energy RMSE: train  0.41428198758688645 test 4.847712106581049\n",
      "Epoch: 3480 Energy RMSE: train  0.4137786226509185 test 4.9185131755735965\n",
      "Epoch: 3490 Energy RMSE: train  0.4129281360537899 test 4.991422438613658\n",
      "Epoch: 3500 Energy RMSE: train  0.4121429950521947 test 4.9703576383564245\n",
      "Epoch: 3510 Energy RMSE: train  0.41174792976463825 test 4.940851280689218\n",
      "Epoch: 3520 Energy RMSE: train  0.41125099951526656 test 4.933906302034398\n",
      "Epoch: 3530 Energy RMSE: train  0.4107135574178749 test 4.8917946530413845\n",
      "Epoch: 3540 Energy RMSE: train  0.41010201259036705 test 4.815390936382802\n",
      "Epoch: 3550 Energy RMSE: train  0.4093116387642691 test 4.788132196789929\n",
      "Epoch: 3560 Energy RMSE: train  0.4088340711782351 test 4.834080912189529\n",
      "Epoch: 3570 Energy RMSE: train  0.4084728799718679 test 4.862833973550631\n",
      "Epoch: 3580 Energy RMSE: train  0.4080538880352646 test 4.892486559838748\n",
      "Epoch: 3590 Energy RMSE: train  0.40759046567596724 test 4.8693903619775245\n",
      "Epoch: 3600 Energy RMSE: train  0.40704095996317063 test 4.85848213648936\n",
      "Epoch: 3610 Energy RMSE: train  0.406462494166249 test 4.880144271707064\n",
      "Epoch: 3620 Energy RMSE: train  0.405822686334391 test 4.981585693249996\n",
      "Epoch: 3630 Energy RMSE: train  0.4051732949908729 test 4.965642838738289\n",
      "Epoch: 3640 Energy RMSE: train  0.40460817607686067 test 4.9451480335191205\n",
      "Epoch: 3650 Energy RMSE: train  0.403875286549865 test 4.898271901317175\n",
      "Epoch: 3660 Energy RMSE: train  0.40355838186621296 test 4.9749246210468465\n",
      "Epoch: 3670 Energy RMSE: train  0.40321273004082786 test 5.029695928519542\n",
      "Epoch: 3680 Energy RMSE: train  0.40266148879598335 test 5.056488890799415\n",
      "Epoch: 3690 Energy RMSE: train  0.4021389001010136 test 5.144636627731161\n",
      "Epoch: 3700 Energy RMSE: train  0.40163379094717955 test 5.1813864880563525\n",
      "Epoch: 3710 Energy RMSE: train  0.4011702682913532 test 5.2108242890061\n",
      "Epoch: 3720 Energy RMSE: train  0.40067385919100257 test 5.176510486148275\n",
      "Epoch: 3730 Energy RMSE: train  0.4000065877187508 test 5.125116035544326\n",
      "Epoch: 3740 Energy RMSE: train  0.39949010794108575 test 5.080739714243515\n",
      "Epoch: 3750 Energy RMSE: train  0.3991105849417358 test 5.0456598155272046\n",
      "Epoch: 3760 Energy RMSE: train  0.398666264101362 test 4.932807582501935\n",
      "Epoch: 3770 Energy RMSE: train  0.3979569172572441 test 4.8782965536833025\n",
      "Epoch: 3780 Energy RMSE: train  0.3976510104409787 test 4.854243203340354\n",
      "Epoch: 3790 Energy RMSE: train  0.39704972568612085 test 4.852967184375251\n",
      "Epoch: 3800 Energy RMSE: train  0.39582887966533375 test 4.818055886107129\n",
      "Epoch: 3810 Energy RMSE: train  0.39532904197992313 test 4.846445719894683\n",
      "Epoch: 3820 Energy RMSE: train  0.3947829107801074 test 4.900336117916363\n",
      "Epoch: 3830 Energy RMSE: train  0.39436368669452754 test 4.913023911478655\n",
      "Epoch: 3840 Energy RMSE: train  0.3939340054730707 test 4.914770167491399\n",
      "Epoch: 3850 Energy RMSE: train  0.3936573655270625 test 4.839518093154144\n",
      "Epoch: 3860 Energy RMSE: train  0.3932022787565809 test 4.816899867467216\n",
      "Epoch: 3870 Energy RMSE: train  0.3927515588889519 test 4.802772773659328\n",
      "Epoch: 3880 Energy RMSE: train  0.39246504679351546 test 4.79528068509454\n",
      "Epoch: 3890 Energy RMSE: train  0.3921700458452497 test 4.77599222646075\n",
      "Epoch: 3900 Energy RMSE: train  0.39174376719298537 test 4.670191173490372\n",
      "Epoch: 3910 Energy RMSE: train  0.39123888012780483 test 4.615082936866103\n",
      "Epoch: 3920 Energy RMSE: train  0.3906939717509573 test 4.641775397370424\n",
      "Epoch: 3930 Energy RMSE: train  0.39026011495955604 test 4.57492133260757\n",
      "Epoch: 3940 Energy RMSE: train  0.3896702188631578 test 4.654014611184666\n",
      "Epoch: 3950 Energy RMSE: train  0.38926295748400924 test 4.647547160914891\n",
      "Epoch: 3960 Energy RMSE: train  0.38898195529802687 test 4.66634672814403\n",
      "Epoch: 3970 Energy RMSE: train  0.3885748525610654 test 4.638164142719513\n",
      "Epoch: 3980 Energy RMSE: train  0.3882126779721897 test 4.637130194868659\n",
      "Epoch: 3990 Energy RMSE: train  0.38765777448677396 test 4.676365503469054\n",
      "Epoch: 4000 Energy RMSE: train  0.3869153543108664 test 4.71477978595172\n",
      "Epoch: 4010 Energy RMSE: train  0.38640420471951425 test 4.79586752387025\n",
      "Epoch: 4020 Energy RMSE: train  0.3858244309992243 test 4.691765001996288\n",
      "Epoch: 4030 Energy RMSE: train  0.38518351228167563 test 4.657242397761477\n",
      "Epoch: 4040 Energy RMSE: train  0.384705343667327 test 4.6275894000631315\n",
      "Epoch: 4050 Energy RMSE: train  0.38444288604028926 test 4.614651434988897\n",
      "Epoch: 4060 Energy RMSE: train  0.38402533498256736 test 4.593496325001355\n",
      "Epoch: 4070 Energy RMSE: train  0.3836455391471788 test 4.6352794406437345\n",
      "Epoch: 4080 Energy RMSE: train  0.38340529786568606 test 4.689124276957688\n",
      "Epoch: 4090 Energy RMSE: train  0.38296139712222227 test 4.732412416189712\n",
      "Epoch: 4100 Energy RMSE: train  0.382698851010495 test 4.7582696225117225\n",
      "Epoch: 4110 Energy RMSE: train  0.38248811319889636 test 4.784704865197101\n",
      "Epoch: 4120 Energy RMSE: train  0.38212961743524526 test 4.823550706090498\n",
      "Epoch: 4130 Energy RMSE: train  0.38179483363351063 test 4.897023863399797\n",
      "Epoch: 4140 Energy RMSE: train  0.3813999673683195 test 4.93318963447911\n",
      "Epoch: 4150 Energy RMSE: train  0.38098150587106394 test 4.9389135261798325\n",
      "Epoch: 4160 Energy RMSE: train  0.3804334291197058 test 4.938679812205205\n",
      "Epoch: 4170 Energy RMSE: train  0.37995931859009396 test 4.9815333146250005\n",
      "Epoch: 4180 Energy RMSE: train  0.37950765094353245 test 4.998742038991618\n",
      "Epoch: 4190 Energy RMSE: train  0.37921579276548023 test 5.003163397227229\n",
      "Epoch: 4200 Energy RMSE: train  0.3788655192781341 test 4.978862516372701\n",
      "Epoch: 4210 Energy RMSE: train  0.37856736726916784 test 4.939415957084826\n",
      "Epoch: 4220 Energy RMSE: train  0.37812095056769673 test 4.963443684998518\n",
      "Epoch: 4230 Energy RMSE: train  0.3777233720238361 test 4.964788431885817\n",
      "Epoch: 4240 Energy RMSE: train  0.37741579376893797 test 5.015782524721215\n",
      "Epoch: 4250 Energy RMSE: train  0.37699236183089535 test 5.137004521239167\n",
      "Epoch: 4260 Energy RMSE: train  0.37660706689301926 test 5.160033414473856\n",
      "Epoch: 4270 Energy RMSE: train  0.37631085960202504 test 5.1336616856441015\n",
      "Epoch: 4280 Energy RMSE: train  0.3758832750742637 test 5.119224796042347\n",
      "Epoch: 4290 Energy RMSE: train  0.37541637130090455 test 5.158558121527583\n",
      "Epoch: 4300 Energy RMSE: train  0.3749670448804841 test 5.145238689371115\n",
      "Epoch: 4310 Energy RMSE: train  0.3745381468305922 test 5.153962903221038\n",
      "Epoch: 4320 Energy RMSE: train  0.37414023643788186 test 5.157997914587504\n",
      "Epoch: 4330 Energy RMSE: train  0.37384261413614145 test 5.163429938361554\n",
      "Epoch: 4340 Energy RMSE: train  0.37348406519541183 test 5.126320927805052\n",
      "Epoch: 4350 Energy RMSE: train  0.37321746215670526 test 5.134913340457601\n",
      "Epoch: 4360 Energy RMSE: train  0.3728987629984915 test 5.024756718843595\n",
      "Epoch: 4370 Energy RMSE: train  0.3726176211658231 test 4.985377516900283\n",
      "Epoch: 4380 Energy RMSE: train  0.37223366435886374 test 4.968958191971252\n",
      "Epoch: 4390 Energy RMSE: train  0.3718075399966749 test 5.01894550052642\n",
      "Epoch: 4400 Energy RMSE: train  0.37148296504805 test 5.082580356436326\n",
      "Epoch: 4410 Energy RMSE: train  0.3711656791771928 test 5.101714046968082\n",
      "Epoch: 4420 Energy RMSE: train  0.3708043514129222 test 5.182527051340735\n",
      "Epoch: 4430 Energy RMSE: train  0.3705229864240417 test 5.250898713476491\n",
      "Epoch: 4440 Energy RMSE: train  0.36995747814077923 test 5.3728246938312525\n",
      "Epoch: 4450 Energy RMSE: train  0.3696806000094302 test 5.315568320670995\n",
      "Epoch: 4460 Energy RMSE: train  0.36936176176692337 test 5.27527738716946\n",
      "Epoch: 4470 Energy RMSE: train  0.3689013315614407 test 5.259658192564505\n",
      "Epoch: 4480 Energy RMSE: train  0.3683744015553123 test 5.2340723075986535\n",
      "Epoch: 4490 Energy RMSE: train  0.3680762559738542 test 5.2580746697708935\n",
      "Epoch: 4500 Energy RMSE: train  0.36776083901342593 test 5.304786290313333\n",
      "Epoch: 4510 Energy RMSE: train  0.3673190463315333 test 5.327176187914152\n",
      "Epoch: 4520 Energy RMSE: train  0.36701957584369177 test 5.350421400915502\n",
      "Epoch: 4530 Energy RMSE: train  0.36679518407026407 test 5.327472458804066\n",
      "Epoch: 4540 Energy RMSE: train  0.36658939972686516 test 5.346601794925245\n",
      "Epoch: 4550 Energy RMSE: train  0.3663295992115357 test 5.32258887407523\n",
      "Epoch: 4560 Energy RMSE: train  0.3659107241593014 test 5.322073987301013\n",
      "Epoch: 4570 Energy RMSE: train  0.36544279412859576 test 5.273181989512572\n",
      "Epoch: 4580 Energy RMSE: train  0.3649746495722502 test 5.336317571293013\n",
      "Epoch: 4590 Energy RMSE: train  0.36455293091320673 test 5.37521502453437\n",
      "Epoch: 4600 Energy RMSE: train  0.36418689398385207 test 5.425250896765026\n",
      "Epoch: 4610 Energy RMSE: train  0.36382154096770575 test 5.4221839346466\n",
      "Epoch: 4620 Energy RMSE: train  0.3633818767032694 test 5.388111641889559\n",
      "Epoch: 4630 Energy RMSE: train  0.3631308617311652 test 5.4055585339605186\n",
      "Epoch: 4640 Energy RMSE: train  0.3625244977888073 test 5.408217058772481\n",
      "Epoch: 4650 Energy RMSE: train  0.361894193462095 test 5.276335498016557\n",
      "Epoch: 4660 Energy RMSE: train  0.36119719835119257 test 5.262599129095272\n",
      "Epoch: 4670 Energy RMSE: train  0.3608793407468815 test 5.250567659138468\n",
      "Epoch: 4680 Energy RMSE: train  0.36050878026803224 test 5.191333306104979\n",
      "Epoch: 4690 Energy RMSE: train  0.36007954987505253 test 5.214228406040521\n",
      "Epoch: 4700 Energy RMSE: train  0.3596063063816889 test 5.133079683471869\n",
      "Epoch: 4710 Energy RMSE: train  0.35936192329127453 test 5.152933324305783\n",
      "Epoch: 4720 Energy RMSE: train  0.3588849371292216 test 5.194057314492315\n",
      "Epoch: 4730 Energy RMSE: train  0.3583892585227119 test 5.210105893984049\n",
      "Epoch: 4740 Energy RMSE: train  0.3579087961361584 test 5.21447044185668\n",
      "Epoch: 4750 Energy RMSE: train  0.35717728233238366 test 5.302886270080176\n",
      "Epoch: 4760 Energy RMSE: train  0.35664397312469903 test 5.357938251389132\n",
      "Epoch: 4770 Energy RMSE: train  0.35604814575354227 test 5.4458280409574575\n",
      "Epoch: 4780 Energy RMSE: train  0.3555152039386898 test 5.458237434575427\n",
      "Epoch: 4790 Energy RMSE: train  0.3550091259086813 test 5.418399729321656\n",
      "Epoch: 4800 Energy RMSE: train  0.3545697730144153 test 5.409499223923406\n",
      "Epoch: 4810 Energy RMSE: train  0.3540869174191591 test 5.448048927829731\n",
      "Epoch: 4820 Energy RMSE: train  0.35370566081263366 test 5.512111072816312\n",
      "Epoch: 4830 Energy RMSE: train  0.35331524511355145 test 5.516673530016354\n",
      "Epoch: 4840 Energy RMSE: train  0.35290777008990615 test 5.49226864941312\n",
      "Epoch: 4850 Energy RMSE: train  0.3520388759669892 test 5.439099144251148\n",
      "Epoch: 4860 Energy RMSE: train  0.35141908346097056 test 5.447402971370943\n",
      "Epoch: 4870 Energy RMSE: train  0.35106191825357863 test 5.4643081818899635\n",
      "Epoch: 4880 Energy RMSE: train  0.35065410275386605 test 5.38581873324238\n",
      "Epoch: 4890 Energy RMSE: train  0.35031503258624963 test 5.396443096090212\n",
      "Epoch: 4900 Energy RMSE: train  0.34976980791472073 test 5.356279547696885\n",
      "Epoch: 4910 Energy RMSE: train  0.3493364682122898 test 5.334156435251587\n",
      "Epoch: 4920 Energy RMSE: train  0.34884498162500144 test 5.412762285327145\n",
      "Epoch: 4930 Energy RMSE: train  0.34841149842485736 test 5.411564369460812\n",
      "Epoch: 4940 Energy RMSE: train  0.34788361177870386 test 5.377551884144498\n",
      "Epoch: 4950 Energy RMSE: train  0.34752936505415283 test 5.381583697456172\n",
      "Epoch: 4960 Energy RMSE: train  0.3471472093178248 test 5.338273009822706\n",
      "Epoch: 4970 Energy RMSE: train  0.3467866701797995 test 5.2691823999720615\n",
      "Epoch: 4980 Energy RMSE: train  0.34639178694868056 test 5.293691936859254\n",
      "Epoch: 4990 Energy RMSE: train  0.3461104466846251 test 5.2994704639913985\n",
      "Epoch: 5000 Energy RMSE: train  0.34585636200057235 test 5.265617145712661\n",
      "Epoch: 5010 Energy RMSE: train  0.34553418472815095 test 5.198767193270534\n",
      "Epoch: 5020 Energy RMSE: train  0.3453252610858152 test 5.174638795272519\n",
      "Epoch: 5030 Energy RMSE: train  0.3450173924256693 test 5.113719613407494\n",
      "Epoch: 5040 Energy RMSE: train  0.3448301245793399 test 5.10056188539891\n",
      "Epoch: 5050 Energy RMSE: train  0.3446253881226482 test 5.095431017970109\n",
      "Epoch: 5060 Energy RMSE: train  0.34430581681043754 test 5.094435112184588\n",
      "Epoch: 5070 Energy RMSE: train  0.34403458317450475 test 5.054305890730191\n",
      "Epoch: 5080 Energy RMSE: train  0.3433752233224222 test 4.9705369918026525\n",
      "Epoch: 5090 Energy RMSE: train  0.34310150922716665 test 4.926132390838485\n",
      "Epoch: 5100 Energy RMSE: train  0.34260909840602227 test 4.847590575672971\n",
      "Epoch: 5110 Energy RMSE: train  0.34228036337463585 test 4.788500264007644\n",
      "Epoch: 5120 Energy RMSE: train  0.3419286981667715 test 4.763422746505109\n",
      "Epoch: 5130 Energy RMSE: train  0.34161538509241085 test 4.664278598997068\n",
      "Epoch: 5140 Energy RMSE: train  0.3413074811303919 test 4.570747016129448\n",
      "Epoch: 5150 Energy RMSE: train  0.34105278949748047 test 4.54858356865971\n",
      "Epoch: 5160 Energy RMSE: train  0.340753891188314 test 4.500149746059635\n",
      "Epoch: 5170 Energy RMSE: train  0.3404710297619185 test 4.460933678509842\n",
      "Epoch: 5180 Energy RMSE: train  0.34028503661347975 test 4.470333646271458\n",
      "Epoch: 5190 Energy RMSE: train  0.3400050019003277 test 4.4542193644367165\n",
      "Epoch: 5200 Energy RMSE: train  0.33972331828327335 test 4.418030388728341\n",
      "Epoch: 5210 Energy RMSE: train  0.33945305512361756 test 4.415250201596597\n",
      "Epoch: 5220 Energy RMSE: train  0.339193693670523 test 4.471975320596525\n",
      "Epoch: 5230 Energy RMSE: train  0.33891622926281717 test 4.492289345520009\n",
      "Epoch: 5240 Energy RMSE: train  0.3383925269187997 test 4.48740176330803\n",
      "Epoch: 5250 Energy RMSE: train  0.33804009371729804 test 4.494645603476881\n",
      "Epoch: 5260 Energy RMSE: train  0.3377803573611414 test 4.487797431925237\n",
      "Epoch: 5270 Energy RMSE: train  0.33745413486480363 test 4.420121933152822\n",
      "Epoch: 5280 Energy RMSE: train  0.3372349049626692 test 4.393749374841257\n",
      "Epoch: 5290 Energy RMSE: train  0.33704883705001204 test 4.3656867640759245\n",
      "Epoch: 5300 Energy RMSE: train  0.3368020248718735 test 4.352302144776655\n",
      "Epoch: 5310 Energy RMSE: train  0.33656539205222324 test 4.394989063586905\n",
      "Epoch: 5320 Energy RMSE: train  0.33641313673484974 test 4.383692667185068\n",
      "Epoch: 5330 Energy RMSE: train  0.33616193053340304 test 4.43737230312908\n",
      "Epoch: 5340 Energy RMSE: train  0.3359287304920878 test 4.430705421876268\n",
      "Epoch: 5350 Energy RMSE: train  0.335680244019462 test 4.4356337084232536\n",
      "Epoch: 5360 Energy RMSE: train  0.33541353163014836 test 4.429853758358013\n",
      "Epoch: 5370 Energy RMSE: train  0.33510602997976147 test 4.415684828740697\n",
      "Epoch: 5380 Energy RMSE: train  0.33483582627222186 test 4.454931886574324\n",
      "Epoch: 5390 Energy RMSE: train  0.33454745924961027 test 4.441415295082117\n",
      "Epoch: 5400 Energy RMSE: train  0.3343559293784909 test 4.41198278553315\n",
      "Epoch: 5410 Energy RMSE: train  0.33414407187047984 test 4.423572826846414\n",
      "Epoch: 5420 Energy RMSE: train  0.3339927830749554 test 4.401404955933745\n",
      "Epoch: 5430 Energy RMSE: train  0.3338178623414001 test 4.37265737871036\n",
      "Epoch: 5440 Energy RMSE: train  0.33366400896313375 test 4.350886633546642\n",
      "Epoch: 5450 Energy RMSE: train  0.33343313329188784 test 4.401257572136508\n",
      "Epoch: 5460 Energy RMSE: train  0.3333029953844668 test 4.420310782347031\n",
      "Epoch: 5470 Energy RMSE: train  0.3331209565601446 test 4.458167865732693\n",
      "Epoch: 5480 Energy RMSE: train  0.3328414439923554 test 4.446222393008186\n",
      "Epoch: 5490 Energy RMSE: train  0.33256515386253405 test 4.413499564439012\n",
      "Epoch: 5500 Energy RMSE: train  0.33226987647442957 test 4.446732460390239\n",
      "Epoch: 5510 Energy RMSE: train  0.3319205232057774 test 4.464358245718074\n",
      "Epoch: 5520 Energy RMSE: train  0.33168813601374114 test 4.4621685211268405\n",
      "Epoch: 5530 Energy RMSE: train  0.33140638226622204 test 4.395937145161294\n",
      "Epoch: 5540 Energy RMSE: train  0.3310523181078209 test 4.427376682507762\n",
      "Epoch: 5550 Energy RMSE: train  0.330759805246998 test 4.407299593224537\n",
      "Epoch: 5560 Energy RMSE: train  0.3305802861255018 test 4.318959431957748\n",
      "Epoch: 5570 Energy RMSE: train  0.330363124284937 test 4.299768029442311\n",
      "Epoch: 5580 Energy RMSE: train  0.3300820191740528 test 4.317858691729509\n",
      "Epoch: 5590 Energy RMSE: train  0.3298973888194755 test 4.344831891516604\n",
      "Epoch: 5600 Energy RMSE: train  0.3297986115027012 test 4.370451868453468\n",
      "Epoch: 5610 Energy RMSE: train  0.3296279870529867 test 4.3919281282217755\n",
      "Epoch: 5620 Energy RMSE: train  0.3295021606143521 test 4.356367335202248\n",
      "Epoch: 5630 Energy RMSE: train  0.32938431736023727 test 4.33790864226734\n",
      "Epoch: 5640 Energy RMSE: train  0.3291120923264597 test 4.379162552436751\n",
      "Epoch: 5650 Energy RMSE: train  0.3289002292048348 test 4.338669820176397\n",
      "Epoch: 5660 Energy RMSE: train  0.32865413163798934 test 4.329191228482659\n",
      "Epoch: 5670 Energy RMSE: train  0.32846635518782985 test 4.2681924460526\n",
      "Epoch: 5680 Energy RMSE: train  0.3282526409117047 test 4.167807870327832\n",
      "Epoch: 5690 Energy RMSE: train  0.3280785211615891 test 4.113367477128139\n",
      "Epoch: 5700 Energy RMSE: train  0.3278773476467241 test 4.061700367537872\n",
      "Epoch: 5710 Energy RMSE: train  0.3275704744284122 test 4.063397003034631\n",
      "Epoch: 5720 Energy RMSE: train  0.32729873821159877 test 4.029864563081497\n",
      "Epoch: 5730 Energy RMSE: train  0.327058894797875 test 4.054148478055787\n",
      "Epoch: 5740 Energy RMSE: train  0.32679099947003265 test 4.053695830347496\n",
      "Epoch: 5750 Energy RMSE: train  0.3264380145199272 test 4.0448716756793885\n",
      "Epoch: 5760 Energy RMSE: train  0.3260710132419652 test 4.068878056170638\n",
      "Epoch: 5770 Energy RMSE: train  0.32575449268207746 test 4.05708021912167\n",
      "Epoch: 5780 Energy RMSE: train  0.3256132299691026 test 4.058495758633833\n",
      "Epoch: 5790 Energy RMSE: train  0.32546332766848224 test 4.065426797068177\n",
      "Epoch: 5800 Energy RMSE: train  0.3252323787149161 test 4.098287068590505\n",
      "Epoch: 5810 Energy RMSE: train  0.3248895859515951 test 4.080934032872633\n",
      "Epoch: 5820 Energy RMSE: train  0.3246402009379494 test 4.0787807790240445\n",
      "Epoch: 5830 Energy RMSE: train  0.32443458644860146 test 4.072767546640309\n",
      "Epoch: 5840 Energy RMSE: train  0.32412103440741014 test 4.071663350947707\n",
      "Epoch: 5850 Energy RMSE: train  0.32384000040349553 test 4.07424734365925\n",
      "Epoch: 5860 Energy RMSE: train  0.3236704039421204 test 4.0296326187621965\n",
      "Epoch: 5870 Energy RMSE: train  0.32349337945102946 test 4.041000811392868\n",
      "Epoch: 5880 Energy RMSE: train  0.32333585227867756 test 4.003514858671359\n",
      "Epoch: 5890 Energy RMSE: train  0.32308207946845985 test 3.9928100717874484\n",
      "Epoch: 5900 Energy RMSE: train  0.3229203681327499 test 3.985579131626333\n",
      "Epoch: 5910 Energy RMSE: train  0.3227572037854857 test 3.9853741026809355\n",
      "Epoch: 5920 Energy RMSE: train  0.32253628741840873 test 3.995535568050251\n",
      "Epoch: 5930 Energy RMSE: train  0.3223211888516614 test 4.003505542833363\n",
      "Epoch: 5940 Energy RMSE: train  0.3221835786991241 test 4.05082858757762\n",
      "Epoch: 5950 Energy RMSE: train  0.3220283824802085 test 4.04975024314038\n",
      "Epoch: 5960 Energy RMSE: train  0.32185800188296976 test 4.0823322360778045\n",
      "Epoch: 5970 Energy RMSE: train  0.3216996900394125 test 4.079959073899861\n",
      "Epoch: 5980 Energy RMSE: train  0.3214692810650329 test 4.045079633330423\n",
      "Epoch: 5990 Energy RMSE: train  0.3212880673260455 test 4.070310384442639\n",
      "Epoch: 6000 Energy RMSE: train  0.3210618379501903 test 4.092871117595101\n",
      "Epoch: 6010 Energy RMSE: train  0.3209383697727291 test 4.086487706927995\n",
      "Epoch: 6020 Energy RMSE: train  0.3207826879559728 test 4.033594046565762\n",
      "Epoch: 6030 Energy RMSE: train  0.3205371337799119 test 4.032482060033157\n",
      "Epoch: 6040 Energy RMSE: train  0.32039245824619106 test 3.9925061306671537\n",
      "Epoch: 6050 Energy RMSE: train  0.3202412864508035 test 3.9582682898516683\n",
      "Epoch: 6060 Energy RMSE: train  0.3200893589272606 test 3.952113814922326\n",
      "Epoch: 6070 Energy RMSE: train  0.3199308162173166 test 3.9231457945050336\n",
      "Epoch: 6080 Energy RMSE: train  0.31973220673444364 test 3.914475990068878\n",
      "Epoch: 6090 Energy RMSE: train  0.3195003047233087 test 3.917673420886219\n",
      "Epoch: 6100 Energy RMSE: train  0.31924369414374404 test 3.9093368294131596\n",
      "Epoch: 6110 Energy RMSE: train  0.31899856758866735 test 3.897381453619719\n",
      "Epoch: 6120 Energy RMSE: train  0.31859615893564847 test 3.850968794680513\n",
      "Epoch: 6130 Energy RMSE: train  0.31830612858379365 test 3.844473101608932\n",
      "Epoch: 6140 Energy RMSE: train  0.3180237133245755 test 3.874467601507445\n",
      "Epoch: 6150 Energy RMSE: train  0.31778048790041347 test 3.9061351421403026\n",
      "Epoch: 6160 Energy RMSE: train  0.31753018053318566 test 3.852560051353475\n",
      "Epoch: 6170 Energy RMSE: train  0.31735004792718213 test 3.789175160315418\n",
      "Epoch: 6180 Energy RMSE: train  0.31710778770368625 test 3.7766677276019243\n",
      "Epoch: 6190 Energy RMSE: train  0.3168148466459349 test 3.7494747720983055\n",
      "Epoch: 6200 Energy RMSE: train  0.31638976602504265 test 3.6259265405267844\n",
      "Epoch: 6210 Energy RMSE: train  0.316119140596263 test 3.6050170477413337\n",
      "Epoch: 6220 Energy RMSE: train  0.3158550107210473 test 3.595072523830251\n",
      "Epoch: 6230 Energy RMSE: train  0.31552691997044224 test 3.5952140145415257\n",
      "Epoch: 6240 Energy RMSE: train  0.3153585128706929 test 3.608555057635716\n",
      "Epoch: 6250 Energy RMSE: train  0.31523513307465567 test 3.5817530025736977\n",
      "Epoch: 6260 Energy RMSE: train  0.314998644908694 test 3.484211644920406\n",
      "Epoch: 6270 Energy RMSE: train  0.31470321710698523 test 3.494868357414784\n",
      "Epoch: 6280 Energy RMSE: train  0.3145359319618709 test 3.4652200012683805\n",
      "Epoch: 6290 Energy RMSE: train  0.3142958676672719 test 3.3974883715995734\n",
      "Epoch: 6300 Energy RMSE: train  0.3140358751211728 test 3.3966290548506626\n",
      "Epoch: 6310 Energy RMSE: train  0.3138024237511858 test 3.408788578050171\n",
      "Epoch: 6320 Energy RMSE: train  0.31358225224898567 test 3.393307187264804\n",
      "Epoch: 6330 Energy RMSE: train  0.3133432938315039 test 3.36894011383278\n",
      "Epoch: 6340 Energy RMSE: train  0.31316469441145217 test 3.360670937317255\n",
      "Epoch: 6350 Energy RMSE: train  0.3129021789561032 test 3.361497895688033\n",
      "Epoch: 6360 Energy RMSE: train  0.3126328178248905 test 3.34007080723625\n",
      "Epoch: 6370 Energy RMSE: train  0.3124098120240668 test 3.339195556395796\n",
      "Epoch: 6380 Energy RMSE: train  0.31225104481428395 test 3.3275164307267944\n",
      "Epoch: 6390 Energy RMSE: train  0.3120837620828061 test 3.3523421986289272\n",
      "Epoch: 6400 Energy RMSE: train  0.3118991260309786 test 3.3507595367038023\n",
      "Epoch: 6410 Energy RMSE: train  0.3117136515313254 test 3.3567586797460574\n",
      "Epoch: 6420 Energy RMSE: train  0.3115139305464475 test 3.3624962492862176\n",
      "Epoch: 6430 Energy RMSE: train  0.31136543258712696 test 3.3604645561478814\n",
      "Epoch: 6440 Energy RMSE: train  0.3111775637526897 test 3.3525838853368644\n",
      "Epoch: 6450 Energy RMSE: train  0.31102222205651114 test 3.330631812426398\n",
      "Epoch: 6460 Energy RMSE: train  0.310798422805434 test 3.309286304915794\n",
      "Epoch: 6470 Energy RMSE: train  0.31057019872962516 test 3.313126857182112\n",
      "Epoch: 6480 Energy RMSE: train  0.3103901643157768 test 3.2929988977446234\n",
      "Epoch: 6490 Energy RMSE: train  0.3101988186127403 test 3.264744989941947\n",
      "Epoch: 6500 Energy RMSE: train  0.31004006337880174 test 3.2680227220361937\n",
      "Epoch: 6510 Energy RMSE: train  0.3098695675209077 test 3.2595884422941763\n",
      "Epoch: 6520 Energy RMSE: train  0.3094501233518685 test 3.275907091567687\n",
      "Epoch: 6530 Energy RMSE: train  0.30920428318273874 test 3.2905061899974632\n",
      "Epoch: 6540 Energy RMSE: train  0.3090175921544736 test 3.2652416183780035\n",
      "Epoch: 6550 Energy RMSE: train  0.3088671483527339 test 3.244135241606019\n",
      "Epoch: 6560 Energy RMSE: train  0.30869906563835997 test 3.2408459569231467\n",
      "Epoch: 6570 Energy RMSE: train  0.308510095267693 test 3.2574799129381087\n",
      "Epoch: 6580 Energy RMSE: train  0.308202749575798 test 3.2478829330919265\n",
      "Epoch: 6590 Energy RMSE: train  0.3078619693597006 test 3.3090603772166496\n",
      "Epoch: 6600 Energy RMSE: train  0.30755367216861235 test 3.324153023530052\n",
      "Epoch: 6610 Energy RMSE: train  0.30727562880518666 test 3.3267355618780905\n",
      "Epoch: 6620 Energy RMSE: train  0.3070431369771394 test 3.3253516008581263\n",
      "Epoch: 6630 Energy RMSE: train  0.30677173339013564 test 3.3446269783387534\n",
      "Epoch: 6640 Energy RMSE: train  0.30666110773876115 test 3.341733059111807\n",
      "Epoch: 6650 Energy RMSE: train  0.3065054628576003 test 3.3479618285448463\n",
      "Epoch: 6660 Energy RMSE: train  0.30628250286061026 test 3.3596016706740897\n",
      "Epoch: 6670 Energy RMSE: train  0.3061265778927781 test 3.3996607098364535\n",
      "Epoch: 6680 Energy RMSE: train  0.30599443037761365 test 3.3993538068620484\n",
      "Epoch: 6690 Energy RMSE: train  0.3057978860243992 test 3.3933751975172353\n",
      "Epoch: 6700 Energy RMSE: train  0.3056265258925446 test 3.388548205982951\n",
      "Epoch: 6710 Energy RMSE: train  0.3054604520211083 test 3.3750530527848386\n",
      "Epoch: 6720 Energy RMSE: train  0.3051927612890519 test 3.375358215642629\n",
      "Epoch: 6730 Energy RMSE: train  0.3050282366835698 test 3.3890963959189286\n",
      "Epoch: 6740 Energy RMSE: train  0.30470889376371346 test 3.401339980182343\n",
      "Epoch: 6750 Energy RMSE: train  0.3044752152147963 test 3.375708188802391\n",
      "Epoch: 6760 Energy RMSE: train  0.30410587521809873 test 3.381173536060644\n",
      "Epoch: 6770 Energy RMSE: train  0.3039711666911946 test 3.37326482444925\n",
      "Epoch: 6780 Energy RMSE: train  0.3037927968197245 test 3.3529748996380726\n",
      "Epoch: 6790 Energy RMSE: train  0.30354661524339055 test 3.345319904007689\n",
      "Epoch: 6800 Energy RMSE: train  0.3033790749006964 test 3.3406008676660766\n",
      "Epoch: 6810 Energy RMSE: train  0.3032304708328551 test 3.3077348957736383\n",
      "Epoch: 6820 Energy RMSE: train  0.3029464504494679 test 3.2733772176413503\n",
      "Epoch: 6830 Energy RMSE: train  0.3026407028940033 test 3.2763033940984414\n",
      "Epoch: 6840 Energy RMSE: train  0.3024671491617625 test 3.270615395958236\n",
      "Epoch: 6850 Energy RMSE: train  0.30218825877738553 test 3.2693913613347347\n",
      "Epoch: 6860 Energy RMSE: train  0.30187148772807243 test 3.2983597816316115\n",
      "Epoch: 6870 Energy RMSE: train  0.30158155209918686 test 3.295048482386762\n",
      "Epoch: 6880 Energy RMSE: train  0.301436258524337 test 3.299926680349724\n",
      "Epoch: 6890 Energy RMSE: train  0.3011563977643498 test 3.338887575907279\n",
      "Epoch: 6900 Energy RMSE: train  0.30093143722976595 test 3.352059488307666\n",
      "Epoch: 6910 Energy RMSE: train  0.3006660253952388 test 3.3617575664030497\n",
      "Epoch: 6920 Energy RMSE: train  0.3004231303485946 test 3.3970925324280055\n",
      "Epoch: 6930 Energy RMSE: train  0.3001700980895753 test 3.4142024218250553\n",
      "Epoch: 6940 Energy RMSE: train  0.2999835708843023 test 3.445083758826743\n",
      "Epoch: 6950 Energy RMSE: train  0.2997699274239788 test 3.4891056546051376\n",
      "Epoch: 6960 Energy RMSE: train  0.29963606986249036 test 3.491800417805162\n",
      "Epoch: 6970 Energy RMSE: train  0.29941702648701085 test 3.5149488497482073\n",
      "Epoch: 6980 Energy RMSE: train  0.29923773989189145 test 3.524699579411708\n",
      "Epoch: 6990 Energy RMSE: train  0.2990408874177354 test 3.5400802594548626\n",
      "Epoch: 7000 Energy RMSE: train  0.2987339524063524 test 3.592007363081356\n",
      "Epoch: 7010 Energy RMSE: train  0.29856873171671877 test 3.611718498940309\n",
      "Epoch: 7020 Energy RMSE: train  0.2983161820319458 test 3.595574666443644\n",
      "Epoch: 7030 Energy RMSE: train  0.2980642985810216 test 3.6006661434972207\n",
      "Epoch: 7040 Energy RMSE: train  0.29788269832318537 test 3.6013953942666452\n",
      "Epoch: 7050 Energy RMSE: train  0.29761833125933634 test 3.6257919018029385\n",
      "Epoch: 7060 Energy RMSE: train  0.29743657056418454 test 3.663508992875328\n",
      "Epoch: 7070 Energy RMSE: train  0.29712800845762566 test 3.654678745588716\n",
      "Epoch: 7080 Energy RMSE: train  0.2969194134541949 test 3.6466498793605613\n",
      "Epoch: 7090 Energy RMSE: train  0.2967404241002414 test 3.64279902905337\n",
      "Epoch: 7100 Energy RMSE: train  0.29656192767482276 test 3.6438310158907425\n",
      "Epoch: 7110 Energy RMSE: train  0.29632221645757567 test 3.639186221385127\n",
      "Epoch: 7120 Energy RMSE: train  0.2960453870211596 test 3.6416057169390754\n",
      "Epoch: 7130 Energy RMSE: train  0.2958425389540508 test 3.641558972342664\n",
      "Epoch: 7140 Energy RMSE: train  0.29559634121786743 test 3.669499290335346\n",
      "Epoch: 7150 Energy RMSE: train  0.29536748368614424 test 3.6391352705236324\n",
      "Epoch: 7160 Energy RMSE: train  0.29517226568148935 test 3.617022854605245\n",
      "Epoch: 7170 Energy RMSE: train  0.29502718278825585 test 3.6275237906671545\n",
      "Epoch: 7180 Energy RMSE: train  0.2948573344906662 test 3.628723888665593\n",
      "Epoch: 7190 Energy RMSE: train  0.2946143708772202 test 3.6592926276191666\n",
      "Epoch: 7200 Energy RMSE: train  0.2944055903619452 test 3.681492441563875\n",
      "Epoch: 7210 Energy RMSE: train  0.29417812852376146 test 3.6747848835419443\n",
      "Epoch: 7220 Energy RMSE: train  0.2940316330177245 test 3.6888879024079353\n",
      "Epoch: 7230 Energy RMSE: train  0.29389806527062173 test 3.7006391738766924\n",
      "Epoch: 7240 Energy RMSE: train  0.29362343180220024 test 3.7120033386709737\n",
      "Epoch: 7250 Energy RMSE: train  0.29346706892778895 test 3.709445241911514\n",
      "Epoch: 7260 Energy RMSE: train  0.29309056749283474 test 3.745244686937244\n",
      "Epoch: 7270 Energy RMSE: train  0.29279550402339627 test 3.7330276430083678\n",
      "Epoch: 7280 Energy RMSE: train  0.29259115284941134 test 3.7208533735964697\n",
      "Epoch: 7290 Energy RMSE: train  0.29239154646099175 test 3.682985833254181\n",
      "Epoch: 7300 Energy RMSE: train  0.2921978537965241 test 3.668508344373149\n",
      "Epoch: 7310 Energy RMSE: train  0.2920554750078871 test 3.6771145296842334\n",
      "Epoch: 7320 Energy RMSE: train  0.29183891270314394 test 3.6723438770039323\n",
      "Epoch: 7330 Energy RMSE: train  0.2915901755956721 test 3.633959484160685\n",
      "Epoch: 7340 Energy RMSE: train  0.29139150335500835 test 3.641298606791244\n",
      "Epoch: 7350 Energy RMSE: train  0.29122566205578604 test 3.6109442154320655\n",
      "Epoch: 7360 Energy RMSE: train  0.2910026385167594 test 3.6336429648337076\n",
      "Epoch: 7370 Energy RMSE: train  0.2906584446366634 test 3.618186839813581\n",
      "Epoch: 7380 Energy RMSE: train  0.29044000358195327 test 3.623518171070643\n",
      "Epoch: 7390 Energy RMSE: train  0.290138179392647 test 3.6363548439698707\n",
      "Epoch: 7400 Energy RMSE: train  0.28999616214501506 test 3.643778407828935\n",
      "Epoch: 7410 Energy RMSE: train  0.2897721629357656 test 3.6520120901222155\n",
      "Epoch: 7420 Energy RMSE: train  0.28938140616936847 test 3.664177856831796\n",
      "Epoch: 7430 Energy RMSE: train  0.28909182310012627 test 3.6642198061077007\n",
      "Epoch: 7440 Energy RMSE: train  0.2888437402215208 test 3.697193251522637\n",
      "Epoch: 7450 Energy RMSE: train  0.2886336616116461 test 3.74057506689322\n",
      "Epoch: 7460 Energy RMSE: train  0.2884785409535727 test 3.777921208098297\n",
      "Epoch: 7470 Energy RMSE: train  0.2883166345805399 test 3.7709770618288445\n",
      "Epoch: 7480 Energy RMSE: train  0.28813217368690597 test 3.787828476240046\n",
      "Epoch: 7490 Energy RMSE: train  0.2879961227965989 test 3.7923316418934965\n",
      "Epoch: 7500 Energy RMSE: train  0.2878399532034481 test 3.778242958760846\n",
      "Epoch: 7510 Energy RMSE: train  0.2876852691634954 test 3.790523928270167\n",
      "Epoch: 7520 Energy RMSE: train  0.28749678149931335 test 3.813378091101361\n",
      "Epoch: 7530 Energy RMSE: train  0.2872419521751519 test 3.809979030133039\n",
      "Epoch: 7540 Energy RMSE: train  0.2870587725487132 test 3.7927790283345444\n",
      "Epoch: 7550 Energy RMSE: train  0.2869213308510114 test 3.7915667566378866\n",
      "Epoch: 7560 Energy RMSE: train  0.2868075913984773 test 3.7920922665872485\n",
      "Epoch: 7570 Energy RMSE: train  0.2866442366539169 test 3.7782374983184877\n",
      "Epoch: 7580 Energy RMSE: train  0.286264250734132 test 3.8144503026658723\n",
      "Epoch: 7590 Energy RMSE: train  0.2861244765182491 test 3.816664877490716\n",
      "Epoch: 7600 Energy RMSE: train  0.2859597601811938 test 3.830535568060758\n",
      "Epoch: 7610 Energy RMSE: train  0.28580705066093054 test 3.8649575232561273\n",
      "Epoch: 7620 Energy RMSE: train  0.2855974815061027 test 3.860500380168823\n",
      "Epoch: 7630 Energy RMSE: train  0.28534895751049866 test 3.9097137237244204\n",
      "Epoch: 7640 Energy RMSE: train  0.28518943418867887 test 3.9380240607713937\n",
      "Epoch: 7650 Energy RMSE: train  0.2850545209694029 test 3.9629817883143317\n",
      "Epoch: 7660 Energy RMSE: train  0.28489343265966 test 3.9958656348835087\n",
      "Epoch: 7670 Energy RMSE: train  0.2846722767868832 test 3.998925039971969\n",
      "Epoch: 7680 Energy RMSE: train  0.2844326174886048 test 4.015260428383451\n",
      "Epoch: 7690 Energy RMSE: train  0.2842821065413524 test 3.9879199005013377\n",
      "Epoch: 7700 Energy RMSE: train  0.2840060124591102 test 4.021135230157689\n",
      "Epoch: 7710 Energy RMSE: train  0.2836949912805689 test 4.039805059345119\n",
      "Epoch: 7720 Energy RMSE: train  0.28348352816070005 test 4.054519973316461\n",
      "Epoch: 7730 Energy RMSE: train  0.28331473973830557 test 4.039524066658499\n",
      "Epoch: 7740 Energy RMSE: train  0.28310918078844827 test 4.0116833072285125\n",
      "Epoch: 7750 Energy RMSE: train  0.282675775654457 test 4.04458102696606\n",
      "Epoch: 7760 Energy RMSE: train  0.2825030933992342 test 4.065848473282702\n",
      "Epoch: 7770 Energy RMSE: train  0.2822724650691957 test 4.080351523487505\n",
      "Epoch: 7780 Energy RMSE: train  0.2820673537535777 test 4.117484158458391\n",
      "Epoch: 7790 Energy RMSE: train  0.2818889175706119 test 4.128446110416942\n",
      "Epoch: 7800 Energy RMSE: train  0.2817123854108262 test 4.104771217060364\n",
      "Epoch: 7810 Energy RMSE: train  0.2815411852260475 test 4.100133061965005\n",
      "Epoch: 7820 Energy RMSE: train  0.2813548234231731 test 4.081230651038014\n",
      "Epoch: 7830 Energy RMSE: train  0.28112812247081953 test 4.062996434826045\n",
      "Epoch: 7840 Energy RMSE: train  0.28092495234798204 test 4.068390769544334\n",
      "Epoch: 7850 Energy RMSE: train  0.2808259986855304 test 4.101313880445926\n",
      "Epoch: 7860 Energy RMSE: train  0.28066616378672576 test 4.109292578756631\n",
      "Epoch: 7870 Energy RMSE: train  0.28052911044494044 test 4.109494233935228\n",
      "Epoch: 7880 Energy RMSE: train  0.28041218605568813 test 4.116499679017118\n",
      "Epoch: 7890 Energy RMSE: train  0.2802412814958424 test 4.11474304025515\n",
      "Epoch: 7900 Energy RMSE: train  0.28008610048742966 test 4.112680832280501\n",
      "Epoch: 7910 Energy RMSE: train  0.2799104038368794 test 4.1273403942747935\n",
      "Epoch: 7920 Energy RMSE: train  0.27976507195481526 test 4.112418609930792\n",
      "Epoch: 7930 Energy RMSE: train  0.27949356380528567 test 4.116042143996814\n",
      "Epoch: 7940 Energy RMSE: train  0.27928504471843046 test 4.0932572753578755\n",
      "Epoch: 7950 Energy RMSE: train  0.2790363420709337 test 4.126854398446292\n",
      "Epoch: 7960 Energy RMSE: train  0.2788104360185751 test 4.108679645800032\n",
      "Epoch: 7970 Energy RMSE: train  0.2785395659275222 test 4.122706401392827\n",
      "Epoch: 7980 Energy RMSE: train  0.2781503034504614 test 4.184555621553559\n",
      "Epoch: 7990 Energy RMSE: train  0.2779068719368709 test 4.2097438114222845\n",
      "Epoch: 8000 Energy RMSE: train  0.27768989674600114 test 4.198991026428428\n",
      "Epoch: 8010 Energy RMSE: train  0.277583014999124 test 4.203239704513886\n",
      "Epoch: 8020 Energy RMSE: train  0.27743074754699926 test 4.185569389493911\n",
      "Epoch: 8030 Energy RMSE: train  0.2772592264295 test 4.176545403106867\n",
      "Epoch: 8040 Energy RMSE: train  0.27706292083035855 test 4.194953536592698\n",
      "Epoch: 8050 Energy RMSE: train  0.27693054417386004 test 4.198443045495861\n",
      "Epoch: 8060 Energy RMSE: train  0.2767661415947281 test 4.213352685569395\n",
      "Epoch: 8070 Energy RMSE: train  0.2766146035169006 test 4.238500907424303\n",
      "Epoch: 8080 Energy RMSE: train  0.27645455507949596 test 4.264549675067234\n",
      "Epoch: 8090 Energy RMSE: train  0.2762537295607163 test 4.290631800382017\n",
      "Epoch: 8100 Energy RMSE: train  0.275936346405899 test 4.316375540816227\n",
      "Epoch: 8110 Energy RMSE: train  0.2757016215776984 test 4.320861446368841\n",
      "Epoch: 8120 Energy RMSE: train  0.27550003200312617 test 4.346004713005989\n",
      "Epoch: 8130 Energy RMSE: train  0.2752113622890151 test 4.405894637522781\n",
      "Epoch: 8140 Energy RMSE: train  0.2750537213456601 test 4.436017662202148\n",
      "Epoch: 8150 Energy RMSE: train  0.2748919679497914 test 4.421218155667258\n",
      "Epoch: 8160 Energy RMSE: train  0.2747780019452138 test 4.434753799115065\n",
      "Epoch: 8170 Energy RMSE: train  0.2746843299018141 test 4.4321732123436055\n",
      "Epoch: 8180 Energy RMSE: train  0.27452933638086136 test 4.449415466786666\n",
      "Epoch: 8190 Energy RMSE: train  0.2743287063164725 test 4.482162417633189\n",
      "Epoch: 8200 Energy RMSE: train  0.27413554613973257 test 4.505967984329354\n",
      "Epoch: 8210 Energy RMSE: train  0.2739305738857886 test 4.515872921993714\n",
      "Epoch: 8220 Energy RMSE: train  0.2736090995932829 test 4.544483269572295\n",
      "Epoch: 8230 Energy RMSE: train  0.2733831527489909 test 4.542850347273669\n",
      "Epoch: 8240 Energy RMSE: train  0.27309084802677436 test 4.552810052190705\n",
      "Epoch: 8250 Energy RMSE: train  0.2729116269332434 test 4.58849405352707\n",
      "Epoch: 8260 Energy RMSE: train  0.27272033890435204 test 4.601092458651328\n",
      "Epoch: 8270 Energy RMSE: train  0.27251871741623573 test 4.5853425310491005\n",
      "Epoch: 8280 Energy RMSE: train  0.27225458886771453 test 4.571647770361178\n",
      "Epoch: 8290 Energy RMSE: train  0.2720815176017889 test 4.5953249205578635\n",
      "Epoch: 8300 Energy RMSE: train  0.2718914746374136 test 4.626479408370098\n",
      "Epoch: 8310 Energy RMSE: train  0.2716638791268533 test 4.674803268037483\n",
      "Epoch: 8320 Energy RMSE: train  0.2714690062364379 test 4.6794331752976595\n",
      "Epoch: 8330 Energy RMSE: train  0.2713430044619068 test 4.694315717038502\n",
      "Epoch: 8340 Energy RMSE: train  0.27106642985340346 test 4.733818271491598\n",
      "Epoch: 8350 Energy RMSE: train  0.27078850983729325 test 4.775116237904224\n",
      "Epoch: 8360 Energy RMSE: train  0.270552437455224 test 4.747948805987745\n",
      "Epoch: 8370 Energy RMSE: train  0.27043173298583045 test 4.748490036430893\n",
      "Epoch: 8380 Energy RMSE: train  0.2702261801231651 test 4.757659991105838\n",
      "Epoch: 8390 Energy RMSE: train  0.270098045848369 test 4.757062201041246\n",
      "Epoch: 8400 Energy RMSE: train  0.2699543597922113 test 4.7758150756765945\n",
      "Epoch: 8410 Energy RMSE: train  0.26974922964045434 test 4.760180270322912\n",
      "Epoch: 8420 Energy RMSE: train  0.26959698515984765 test 4.780103251525057\n",
      "Epoch: 8430 Energy RMSE: train  0.26947988061392997 test 4.808481125574758\n",
      "Epoch: 8440 Energy RMSE: train  0.2693481295277425 test 4.85671027717966\n",
      "Epoch: 8450 Energy RMSE: train  0.26913829535777584 test 4.884839231268187\n",
      "Epoch: 8460 Energy RMSE: train  0.2689367118763377 test 4.910535654567291\n",
      "Epoch: 8470 Energy RMSE: train  0.2687420841650923 test 4.889845033976869\n",
      "Epoch: 8480 Energy RMSE: train  0.2685658019330383 test 4.903416305383644\n",
      "Epoch: 8490 Energy RMSE: train  0.26820855590106174 test 4.855431753132335\n",
      "Epoch: 8500 Energy RMSE: train  0.26800156529434893 test 4.897575631434092\n",
      "Epoch: 8510 Energy RMSE: train  0.26777290695999506 test 4.890836706334111\n",
      "Epoch: 8520 Energy RMSE: train  0.2675447848133119 test 4.894979263994984\n",
      "Epoch: 8530 Energy RMSE: train  0.26727151024952067 test 4.934710946860267\n",
      "Epoch: 8540 Energy RMSE: train  0.26697040385242327 test 4.997220326223448\n",
      "Epoch: 8550 Energy RMSE: train  0.26674808570593955 test 5.001070338518868\n",
      "Epoch: 8560 Energy RMSE: train  0.26649904082298126 test 5.014688071603577\n",
      "Epoch: 8570 Energy RMSE: train  0.26617889121662597 test 5.040333007753644\n",
      "Epoch: 8580 Energy RMSE: train  0.2660171114493094 test 5.040461021416456\n",
      "Epoch: 8590 Energy RMSE: train  0.26579960959019616 test 5.001291018076864\n",
      "Epoch: 8600 Energy RMSE: train  0.2656764096337977 test 4.986926230834846\n",
      "Epoch: 8610 Energy RMSE: train  0.26547821284527534 test 4.937522243084029\n",
      "Epoch: 8620 Energy RMSE: train  0.2653199944140869 test 4.914974087969288\n",
      "Epoch: 8630 Energy RMSE: train  0.2651473300136424 test 4.909040119057524\n",
      "Epoch: 8640 Energy RMSE: train  0.2650061614843118 test 4.904210887539494\n",
      "Epoch: 8650 Energy RMSE: train  0.2647410480186403 test 4.950201790154415\n",
      "Epoch: 8660 Energy RMSE: train  0.26457650129664995 test 4.9325017823352155\n",
      "Epoch: 8670 Energy RMSE: train  0.2644023821379355 test 4.913832516704182\n",
      "Epoch: 8680 Energy RMSE: train  0.2640564813950414 test 4.837810315113606\n",
      "Epoch: 8690 Energy RMSE: train  0.2639147995445762 test 4.824720714440347\n",
      "Epoch: 8700 Energy RMSE: train  0.2636753679989713 test 4.82301127914271\n",
      "Epoch: 8710 Energy RMSE: train  0.26344615822341544 test 4.792690329493854\n",
      "Epoch: 8720 Energy RMSE: train  0.26331963394118313 test 4.791451759255526\n",
      "Epoch: 8730 Energy RMSE: train  0.2631748527607842 test 4.766779831753285\n",
      "Epoch: 8740 Energy RMSE: train  0.2629841229278683 test 4.77504977447506\n",
      "Epoch: 8750 Energy RMSE: train  0.2628005347132806 test 4.750577104244894\n",
      "Epoch: 8760 Energy RMSE: train  0.2626433941193248 test 4.7232706435714285\n",
      "Epoch: 8770 Energy RMSE: train  0.26240299290697466 test 4.690771981285797\n",
      "Epoch: 8780 Energy RMSE: train  0.2622590969814465 test 4.684761449415478\n",
      "Epoch: 8790 Energy RMSE: train  0.2621241086583464 test 4.698214212187326\n",
      "Epoch: 8800 Energy RMSE: train  0.2619420152416427 test 4.702381835504292\n",
      "Epoch: 8810 Energy RMSE: train  0.2617625952501411 test 4.721198428203797\n",
      "Epoch: 8820 Energy RMSE: train  0.2615720937100119 test 4.7185425881801875\n",
      "Epoch: 8830 Energy RMSE: train  0.26139885821890413 test 4.692707348240403\n",
      "Epoch: 8840 Energy RMSE: train  0.2612647863561452 test 4.672745518055813\n",
      "Epoch: 8850 Energy RMSE: train  0.2610065669276173 test 4.667672203855678\n",
      "Epoch: 8860 Energy RMSE: train  0.26087072616964957 test 4.678413612619551\n",
      "Epoch: 8870 Energy RMSE: train  0.2606066684440126 test 4.68537666921436\n",
      "Epoch: 8880 Energy RMSE: train  0.2603109302890501 test 4.65825058210265\n",
      "Epoch: 8890 Energy RMSE: train  0.2600615109781195 test 4.661392421088733\n",
      "Epoch: 8900 Energy RMSE: train  0.2598387866378977 test 4.61225999774572\n",
      "Epoch: 8910 Energy RMSE: train  0.25966961313544595 test 4.588778036427191\n",
      "Epoch: 8920 Energy RMSE: train  0.2594954386836789 test 4.619560227546798\n",
      "Epoch: 8930 Energy RMSE: train  0.259307866810171 test 4.618047846328445\n",
      "Epoch: 8940 Energy RMSE: train  0.25916278436820117 test 4.596890152771067\n",
      "Epoch: 8950 Energy RMSE: train  0.2590407215447154 test 4.588102092932714\n",
      "Epoch: 8960 Energy RMSE: train  0.2589251039636872 test 4.595226715634567\n",
      "Epoch: 8970 Energy RMSE: train  0.2587671819438038 test 4.579445804990951\n",
      "Epoch: 8980 Energy RMSE: train  0.25867570899218145 test 4.563457988465892\n",
      "Epoch: 8990 Energy RMSE: train  0.25851315630747046 test 4.555286589880376\n",
      "Epoch: 9000 Energy RMSE: train  0.25832384216114285 test 4.5562826141672454\n",
      "Epoch: 9010 Energy RMSE: train  0.25821882661511286 test 4.569986335027844\n",
      "Epoch: 9020 Energy RMSE: train  0.2580524071846892 test 4.591617981363021\n",
      "Epoch: 9030 Energy RMSE: train  0.2579007303479576 test 4.603269107573464\n",
      "Epoch: 9040 Energy RMSE: train  0.25775359160289213 test 4.611929788470737\n",
      "Epoch: 9050 Energy RMSE: train  0.25759463315009895 test 4.626873079397373\n",
      "Epoch: 9060 Energy RMSE: train  0.25731002482902826 test 4.635168493600995\n",
      "Epoch: 9070 Energy RMSE: train  0.2571360869642209 test 4.644888041060896\n",
      "Epoch: 9080 Energy RMSE: train  0.25698316120140746 test 4.6359837925594185\n",
      "Epoch: 9090 Energy RMSE: train  0.25684456726221666 test 4.628590606601459\n",
      "Epoch: 9100 Energy RMSE: train  0.2567166406166366 test 4.627095146929453\n",
      "Epoch: 9110 Energy RMSE: train  0.25651231779464706 test 4.638480519160099\n",
      "Epoch: 9120 Energy RMSE: train  0.25639944901136386 test 4.645922474826377\n",
      "Epoch: 9130 Energy RMSE: train  0.2561974603215526 test 4.655554902719475\n",
      "Epoch: 9140 Energy RMSE: train  0.25598767849671333 test 4.673201031793023\n",
      "Epoch: 9150 Energy RMSE: train  0.25578327815622026 test 4.680741440474659\n",
      "Epoch: 9160 Energy RMSE: train  0.2556366198792706 test 4.685245790087359\n",
      "Epoch: 9170 Energy RMSE: train  0.2554821737320519 test 4.685418753779972\n",
      "Epoch: 9180 Energy RMSE: train  0.25537595181822076 test 4.674921405395575\n",
      "Epoch: 9190 Energy RMSE: train  0.2551599080465901 test 4.675825506198669\n",
      "Epoch: 9200 Energy RMSE: train  0.2548876596125092 test 4.705176909591551\n",
      "Epoch: 9210 Energy RMSE: train  0.25462323064019604 test 4.6911302769941035\n",
      "Epoch: 9220 Energy RMSE: train  0.2544228989237997 test 4.703051503382733\n",
      "Epoch: 9230 Energy RMSE: train  0.25423252346860903 test 4.734319638496408\n",
      "Epoch: 9240 Energy RMSE: train  0.25406227299601586 test 4.742775044177899\n",
      "Epoch: 9250 Energy RMSE: train  0.2539595106997878 test 4.751457033447971\n",
      "Epoch: 9260 Energy RMSE: train  0.25371929607582705 test 4.771872500823644\n",
      "Epoch: 9270 Energy RMSE: train  0.25358356288674816 test 4.781060112036488\n",
      "Epoch: 9280 Energy RMSE: train  0.2533581738949656 test 4.788203087074012\n",
      "Epoch: 9290 Energy RMSE: train  0.25318477228015146 test 4.789970625558312\n",
      "Epoch: 9300 Energy RMSE: train  0.25304815765633176 test 4.792984162868004\n",
      "Epoch: 9310 Energy RMSE: train  0.2529277016149238 test 4.783884265336437\n",
      "Epoch: 9320 Energy RMSE: train  0.2527859203330951 test 4.789077916017482\n",
      "Epoch: 9330 Energy RMSE: train  0.2526434885905825 test 4.806623469476724\n",
      "Epoch: 9340 Energy RMSE: train  0.252429737170476 test 4.8211764364373515\n",
      "Epoch: 9350 Energy RMSE: train  0.25227979231300535 test 4.797895756093007\n",
      "Epoch: 9360 Energy RMSE: train  0.2520425340324357 test 4.78328126098287\n",
      "Epoch: 9370 Energy RMSE: train  0.25184392436556596 test 4.783921734254204\n",
      "Epoch: 9380 Energy RMSE: train  0.2516607107079526 test 4.77192396412911\n",
      "Epoch: 9390 Energy RMSE: train  0.251515501122227 test 4.761490602399503\n",
      "Epoch: 9400 Energy RMSE: train  0.25133237799922853 test 4.756244050676754\n",
      "Epoch: 9410 Energy RMSE: train  0.25118080012246374 test 4.767458250592227\n",
      "Epoch: 9420 Energy RMSE: train  0.25098341018551623 test 4.735168893067084\n",
      "Epoch: 9430 Energy RMSE: train  0.25088460872247703 test 4.725927058123457\n",
      "Epoch: 9440 Energy RMSE: train  0.250767385279992 test 4.7066748087563015\n",
      "Epoch: 9450 Energy RMSE: train  0.2506605459656962 test 4.69282037276164\n",
      "Epoch: 9460 Energy RMSE: train  0.25047932315862215 test 4.714997667517919\n",
      "Epoch: 9470 Energy RMSE: train  0.2503311590655318 test 4.720757214544535\n",
      "Epoch: 9480 Energy RMSE: train  0.2501598472420386 test 4.697253470837192\n",
      "Epoch: 9490 Energy RMSE: train  0.25003310640506754 test 4.688994836957922\n",
      "Epoch: 9500 Energy RMSE: train  0.24982822663549206 test 4.687892727630988\n",
      "Epoch: 9510 Energy RMSE: train  0.249592064345796 test 4.686983460090856\n",
      "Epoch: 9520 Energy RMSE: train  0.249425877600614 test 4.698723452054047\n",
      "Epoch: 9530 Energy RMSE: train  0.24921477128229844 test 4.697637929536313\n",
      "Epoch: 9540 Energy RMSE: train  0.24897850401167937 test 4.694682798293092\n",
      "Epoch: 9550 Energy RMSE: train  0.24874732445533626 test 4.686450870500247\n",
      "Epoch: 9560 Energy RMSE: train  0.2485021566109176 test 4.677855147376196\n",
      "Epoch: 9570 Energy RMSE: train  0.248240968250754 test 4.673780777953487\n",
      "Epoch: 9580 Energy RMSE: train  0.2480662437101628 test 4.6704415798770365\n",
      "Epoch: 9590 Energy RMSE: train  0.24793353941790236 test 4.6692302358157285\n",
      "Epoch: 9600 Energy RMSE: train  0.24772859595042476 test 4.670269366436519\n",
      "Epoch: 9610 Energy RMSE: train  0.24758341768621908 test 4.676798530768235\n",
      "Epoch: 9620 Energy RMSE: train  0.24740459178170773 test 4.676882752586582\n",
      "Epoch: 9630 Energy RMSE: train  0.24725641710381893 test 4.6787714785382475\n",
      "Epoch: 9640 Energy RMSE: train  0.24706495822387492 test 4.663011186459702\n",
      "Epoch: 9650 Energy RMSE: train  0.2468868733712132 test 4.648533624182164\n",
      "Epoch: 9660 Energy RMSE: train  0.24670459135187134 test 4.6413029796839975\n",
      "Epoch: 9670 Energy RMSE: train  0.24651672859534937 test 4.617430218433026\n",
      "Epoch: 9680 Energy RMSE: train  0.24629262114606032 test 4.58813803443197\n",
      "Epoch: 9690 Energy RMSE: train  0.24608481856358042 test 4.565001586267585\n",
      "Epoch: 9700 Energy RMSE: train  0.2459022230958348 test 4.560535019825574\n",
      "Epoch: 9710 Energy RMSE: train  0.24577494444304393 test 4.532747024879256\n",
      "Epoch: 9720 Energy RMSE: train  0.24565027890837912 test 4.531282801696259\n",
      "Epoch: 9730 Energy RMSE: train  0.24549566816701504 test 4.518967369459787\n",
      "Epoch: 9740 Energy RMSE: train  0.2453903638784394 test 4.489893049782115\n",
      "Epoch: 9750 Energy RMSE: train  0.24528714326389664 test 4.481966937779156\n",
      "Epoch: 9760 Energy RMSE: train  0.24505390634026128 test 4.433694204190245\n",
      "Epoch: 9770 Energy RMSE: train  0.24493994238360603 test 4.444353702356183\n",
      "Epoch: 9780 Energy RMSE: train  0.24480382359039504 test 4.427028472486414\n",
      "Epoch: 9790 Energy RMSE: train  0.24471505821926462 test 4.418067798733387\n",
      "Epoch: 9800 Energy RMSE: train  0.2446159231686997 test 4.408594979714001\n",
      "Epoch: 9810 Energy RMSE: train  0.24450988332537976 test 4.376627114421753\n",
      "Epoch: 9820 Energy RMSE: train  0.24437145643937677 test 4.378400097156917\n",
      "Epoch: 9830 Energy RMSE: train  0.2442320529498816 test 4.363130542750293\n",
      "Epoch: 9840 Energy RMSE: train  0.24410329776663367 test 4.35322139628172\n",
      "Epoch: 9850 Energy RMSE: train  0.24393139467189473 test 4.346251557428914\n",
      "Epoch: 9860 Energy RMSE: train  0.24384350299735755 test 4.346048744154343\n",
      "Epoch: 9870 Energy RMSE: train  0.24370069831866942 test 4.337584082212117\n",
      "Epoch: 9880 Energy RMSE: train  0.24359392550563305 test 4.317736233811448\n",
      "Epoch: 9890 Energy RMSE: train  0.24346745329286534 test 4.310319029907973\n",
      "Epoch: 9900 Energy RMSE: train  0.24337182134523996 test 4.294594817119907\n",
      "Epoch: 9910 Energy RMSE: train  0.24323619080342967 test 4.266062317274955\n",
      "Epoch: 9920 Energy RMSE: train  0.24304941268964905 test 4.246424235812973\n",
      "Epoch: 9930 Energy RMSE: train  0.2428520857908205 test 4.25559338080572\n",
      "Epoch: 9940 Energy RMSE: train  0.2427010024386181 test 4.2296858848905\n",
      "Epoch: 9950 Energy RMSE: train  0.2424667715605508 test 4.190322407183909\n",
      "Epoch: 9960 Energy RMSE: train  0.2423863248091363 test 4.175541536392028\n",
      "Epoch: 9970 Energy RMSE: train  0.2422458863625075 test 4.158280772514426\n",
      "Epoch: 9980 Energy RMSE: train  0.24211323343976696 test 4.1349085324709405\n",
      "Epoch: 9990 Energy RMSE: train  0.2419963342646764 test 4.133212498425674\n"
     ]
    }
   ],
   "source": [
    "n_epochs = 10000\n",
    "ntrain = 900\n",
    "for epoch in range(0, n_epochs):\n",
    "    def energy_step():\n",
    "        # global composition, radial_spectrum, spherical_expansions, energies\n",
    "        energy_optimizer.zero_grad()\n",
    "        loss = torch.zeros(size=(1,), device=device)\n",
    "        \n",
    "        predicted = energy_model(energy_feats[:ntrain])\n",
    "        loss += loss_mse(predicted, energy[:ntrain])\n",
    "        \n",
    "        loss.backward(retain_graph=False)\n",
    "        return loss\n",
    "\n",
    "    loss = energy_optimizer.step(energy_step)\n",
    "    \n",
    "    if epoch % 10 ==0:\n",
    "        predicted = energy_model(energy_feats[ntrain:])\n",
    "    \n",
    "        print(\"Epoch:\", epoch, \"Energy RMSE: train \", np.sqrt(loss.detach().cpu().numpy().flatten()[0]/ntrain),\n",
    "         \"test\", np.sqrt(loss_mse(predicted, energy[ntrain:]).detach().cpu().numpy().flatten()[0]/ (len(frames)-ntrain)) )"
   ]
  },
  {
   "cell_type": "code",
   "execution_count": 344,
   "id": "08836d7d-0692-4759-aa43-0735f0127627",
   "metadata": {},
   "outputs": [],
   "source": [
    "predicted = energy_model(energy_feats)"
   ]
  },
  {
   "cell_type": "code",
   "execution_count": 345,
   "id": "40b00948-6bd1-4b60-aa49-be5b5709fd06",
   "metadata": {},
   "outputs": [
    {
     "data": {
      "text/plain": [
       "tensor([9.0645], grad_fn=<SelectBackward0>)"
      ]
     },
     "execution_count": 345,
     "metadata": {},
     "output_type": "execute_result"
    }
   ],
   "source": [
    "predicted[10]"
   ]
  },
  {
   "cell_type": "code",
   "execution_count": 346,
   "id": "6361659c-130c-40f8-b3d7-975341abb418",
   "metadata": {},
   "outputs": [
    {
     "data": {
      "text/plain": [
       "tensor([8.8161], grad_fn=<SelectBackward0>)"
      ]
     },
     "execution_count": 346,
     "metadata": {},
     "output_type": "execute_result"
    }
   ],
   "source": [
    "predicted[11]"
   ]
  },
  {
   "cell_type": "code",
   "execution_count": 347,
   "id": "f5025b7c-5d18-4044-bf32-9ac2e460d948",
   "metadata": {},
   "outputs": [
    {
     "data": {
      "text/plain": [
       "(tensor(9.1295), tensor(9.0060))"
      ]
     },
     "execution_count": 347,
     "metadata": {},
     "output_type": "execute_result"
    }
   ],
   "source": [
    "energy[10], energy[11]"
   ]
  },
  {
   "cell_type": "code",
   "execution_count": 348,
   "id": "99eab28d-9056-4e6f-8712-67200c52abdc",
   "metadata": {},
   "outputs": [
    {
     "data": {
      "text/plain": [
       "[<matplotlib.lines.Line2D at 0x7f4f7b252880>]"
      ]
     },
     "execution_count": 348,
     "metadata": {},
     "output_type": "execute_result"
    },
    {
     "data": {
      "image/png": "[encoded data removed]",
      "text/plain": [
       "<Figure size 432x288 with 1 Axes>"
      ]
     },
     "metadata": {
      "needs_background": "light"
     },
     "output_type": "display_data"
    }
   ],
   "source": [
    "plt.plot(predicted.cpu().detach(), energy.cpu(),'b.')"
   ]
  },
  {
   "cell_type": "code",
   "execution_count": 350,
   "id": "1bf5967a-65b4-42a6-b148-250e82dabac3",
   "metadata": {},
   "outputs": [
    {
     "data": {
      "text/plain": [
       "[<matplotlib.lines.Line2D at 0x7f4f7b132be0>]"
      ]
     },
     "execution_count": 350,
     "metadata": {},
     "output_type": "execute_result"
    },
    {
     "data": {
      "image/png": "[encoded data removed]",
      "text/plain": [
       "<Figure size 432x288 with 1 Axes>"
      ]
     },
     "metadata": {
      "needs_background": "light"
     },
     "output_type": "display_data"
    }
   ],
   "source": [
    "plt.plot((predicted[::2]-predicted[1::2]).cpu().detach()[:ntrain//2], (energy[::2]-energy[1::2]).cpu()[:ntrain//2],'b.')"
   ]
  },
  {
   "cell_type": "code",
   "execution_count": null,
   "id": "0941d6db-6057-48a0-a884-14d34bb9570b",
   "metadata": {},
   "outputs": [],
   "source": []
  },
  {
   "cell_type": "code",
   "execution_count": null,
   "id": "f50b0dc9-4e81-429d-b66a-7cd6eba0ee50",
   "metadata": {},
   "outputs": [],
   "source": []
  },
  {
   "cell_type": "code",
   "execution_count": null,
   "id": "67ffe35b-f059-4582-a2ef-1974dbc540f9",
   "metadata": {},
   "outputs": [],
   "source": []
  }
 ],
 "metadata": {
  "kernelspec": {
   "display_name": "Python 3",
   "language": "python",
   "name": "python3"
  },
  "language_info": {
   "codemirror_mode": {
    "name": "ipython",
    "version": 3
   },
   "file_extension": ".py",
   "mimetype": "text/x-python",
   "name": "python",
   "nbconvert_exporter": "python",
   "pygments_lexer": "ipython3",
   "version": "3.8.10"
  },
  "toc": {
   "base_numbering": 1,
   "nav_menu": {},
   "number_sections": true,
   "sideBar": true,
   "skip_h1_title": false,
   "title_cell": "Table of Contents",
   "title_sidebar": "Contents",
   "toc_cell": false,
   "toc_position": {},
   "toc_section_display": true,
   "toc_window_display": false
  }
 },
 "nbformat": 4,
 "nbformat_minor": 5
}
