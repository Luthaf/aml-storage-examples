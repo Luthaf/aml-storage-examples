{
 "cells": [
  {
   "cell_type": "code",
   "execution_count": 1,
   "id": "d2596616",
   "metadata": {},
   "outputs": [],
   "source": [
    "%load_ext autoreload\n",
    "%autoreload 2\n",
    "%load_ext line_profiler"
   ]
  },
  {
   "cell_type": "code",
   "execution_count": 2,
   "id": "341b09d0",
   "metadata": {},
   "outputs": [],
   "source": [
    "import numpy as np\n",
    "import scipy as sp\n",
    "import json\n",
    "import torch\n",
    "torch.set_default_dtype(torch.float64)\n",
    "device=\"cpu\"\n",
    "\n",
    "from rascaline import SphericalExpansion, SphericalExpansionByPair\n",
    "from equistore import Labels, TensorBlock, TensorMap\n",
    "from equistore import operations\n",
    "\n",
    "from utils.builder import TensorBuilder\n",
    "import ase.io\n",
    "from itertools import product\n",
    "from utils.mp_utils import acdc_standardize_keys, cg_increment, cg_combine, _remove_suffix, flatten\n",
    "from utils.clebsh_gordan import ClebschGordanReal\n",
    "from utils.hamiltonians import hamiltonian_features\n",
    "import matplotlib.pyplot as plt\n",
    "\n",
    "import copy\n",
    "from utils.model_hamiltonian import *\n",
    "from itertools import product\n",
    "import tqdm.notebook as tqdm\n",
    "import chemiscope"
   ]
  },
  {
   "cell_type": "code",
   "execution_count": 3,
   "id": "bde7e214-6392-4107-b05f-2255f211ba14",
   "metadata": {},
   "outputs": [],
   "source": [
    "from generate_bispectrum_structures import generate_nu3_degen_structs"
   ]
  },
  {
   "cell_type": "markdown",
   "id": "499d77a9-335f-46c3-a1f4-2dcd34577c7e",
   "metadata": {},
   "source": [
    "Generates a bunch of degenerate pairs - closer or farther from being actually symmetric"
   ]
  },
  {
   "cell_type": "code",
   "execution_count": 4,
   "id": "e57afe1c-33db-4cd3-b0eb-e0b16e0ed606",
   "metadata": {},
   "outputs": [],
   "source": [
    "frames = []\n",
    "for psi in np.linspace(np.pi/6, np.pi*5/6, 5):\n",
    "    for dphi1 in np.linspace(np.pi*2/3 - 1.2, np.pi*2/3+0.4, 5):\n",
    "        for dphi2 in np.linspace(np.pi*2/3-0.7, np.pi*2/3+1.3, 5):\n",
    "            frames += generate_nu3_degen_structs(2, [0, dphi1, dphi1+dphi2], \n",
    "                           psi, 1, np.sqrt(5), \"Mg\", \"Mg\", \"Mg\")"
   ]
  },
  {
   "cell_type": "code",
   "execution_count": 5,
   "id": "8d465436-a2e0-4d28-bb71-a22d23e97646",
   "metadata": {},
   "outputs": [],
   "source": [
    "# shuffles keeping pairs together for easier analysis\n",
    "idx = np.asarray(range(len(frames)//2), dtype=int)\n",
    "np.random.shuffle(idx)\n",
    "nfr = []\n",
    "for i in idx:\n",
    "    nfr.append(frames[2*i])\n",
    "    nfr.append(frames[2*i+1])\n",
    "frames = nfr"
   ]
  },
  {
   "cell_type": "code",
   "execution_count": 6,
   "id": "789b49ce-5d6c-4eb7-8b69-1eb7777cd309",
   "metadata": {},
   "outputs": [
    {
     "data": {
      "application/vnd.jupyter.widget-view+json": {
       "model_id": "881006f687594ca2a36a2185ef1239a6",
       "version_major": 2,
       "version_minor": 0
      },
      "text/plain": [
       "StructureWidget(value='{\"meta\": {\"name\": \" \"}, \"settings\": {\"structure\": [{\"axes\": \"xyz\", \"keepOrientation\": t…"
      ]
     },
     "metadata": {},
     "output_type": "display_data"
    }
   ],
   "source": [
    "cs = chemiscope.show(frames=frames, mode=\"structure\", settings = {'structure': [{\n",
    "   'axes': 'xyz',\n",
    "   'keepOrientation': True,\n",
    "   'playbackDelay': 250}]})\n",
    "display(cs)"
   ]
  },
  {
   "cell_type": "code",
   "execution_count": 7,
   "id": "dd3a650f",
   "metadata": {},
   "outputs": [],
   "source": [
    "# frames2 = ase.io.read(\"mp_equistore/data/hamiltonian/ethanol-hamiltonian/ethanol_4500.xyz\",\":1\")\n",
    "# frames3= [ase.build.molecule('NH3')]\n",
    "for f in frames:\n",
    "    f.cell = [100,100,100]\n",
    "    f.positions += 50"
   ]
  },
  {
   "cell_type": "code",
   "execution_count": 8,
   "id": "fecba7a3-7431-40db-8e82-8d36d615ce5e",
   "metadata": {},
   "outputs": [
    {
     "name": "stderr",
     "output_type": "stream",
     "text": [
      "/home/michele/local/lib/python3.8/site-packages/rascaline/systems/ase.py:57: UserWarning: periodic boundary conditions are disabled, but the cell matrix is not zero, we will set the cell to zero.\n",
      "  warnings.warn(\n"
     ]
    }
   ],
   "source": [
    "hypers = {\n",
    "    \"cutoff\": 3.5,\n",
    "    \"max_radial\": 2,\n",
    "    \"max_angular\": 3,\n",
    "    \"atomic_gaussian_width\": 0.2,\n",
    "    \"radial_basis\": {\"Gto\": {}},\n",
    "    \"cutoff_function\": {\"ShiftedCosine\": {\"width\": 0.1}},\n",
    "    \"center_atom_weight\": 1.0,    \n",
    "}\n",
    "calculator = SphericalExpansion(**hypers)\n",
    "rhoi = calculator.compute(frames)\n",
    "rhoi = rhoi.keys_to_properties(['species_neighbor'])\n",
    "rho1i = acdc_standardize_keys(rhoi)\n",
    "\n",
    "# selects only one environment\n",
    "rho1i = operations.slice(rho1i, samples=Labels(['center'],np.array([[0]], np.int32)) )\n",
    "norm = np.sqrt(np.sum([(b.values**2).sum(axis=(1,2)) for b in rho1i.blocks()],axis=0).mean())\n",
    "for b in rho1i.blocks():\n",
    "    b.values[:]/=norm"
   ]
  },
  {
   "cell_type": "code",
   "execution_count": 9,
   "id": "684640c5-d4fd-4386-b34e-c4a48ae17eb5",
   "metadata": {},
   "outputs": [
    {
     "data": {
      "text/plain": [
       "TensorMap with 4 blocks\n",
       "keys: ['order_nu' 'inversion_sigma' 'spherical_harmonics_l' 'species_center']\n",
       "           1             1                    0                  12\n",
       "           1             1                    1                  12\n",
       "           1             1                    2                  12\n",
       "           1             1                    3                  12"
      ]
     },
     "execution_count": 9,
     "metadata": {},
     "output_type": "execute_result"
    }
   ],
   "source": [
    "rho1i"
   ]
  },
  {
   "cell_type": "code",
   "execution_count": 10,
   "id": "3f129e6b-5637-4c28-9e7b-7e42590ada09",
   "metadata": {},
   "outputs": [
    {
     "data": {
      "text/plain": [
       "TensorBlock\n",
       "    samples: ['structure', 'center']\n",
       "    component: ['spherical_harmonics_m']\n",
       "    properties: ['species_neighbor_1', 'n_1']\n",
       "    gradients: no"
      ]
     },
     "execution_count": 10,
     "metadata": {},
     "output_type": "execute_result"
    }
   ],
   "source": [
    "rho1i.block(0)"
   ]
  },
  {
   "cell_type": "code",
   "execution_count": 18,
   "id": "2e1af8b8-4a20-4de5-88ea-ea50e0790334",
   "metadata": {},
   "outputs": [],
   "source": [
    "calculator = SphericalExpansionByPair(**hypers)\n",
    "gij = calculator.compute(frames)\n",
    "gij = operations.slice(gij, samples=Labels(['first_atom'],np.array([[0]], np.int32)) )\n",
    "gij =  acdc_standardize_keys(gij)"
   ]
  },
  {
   "cell_type": "code",
   "execution_count": 20,
   "id": "8da710fd-4c55-4623-b9fc-30f17798ec0b",
   "metadata": {},
   "outputs": [
    {
     "data": {
      "text/plain": [
       "TensorMap with 4 blocks\n",
       "keys: ['order_nu' 'inversion_sigma' 'spherical_harmonics_l' 'species_center' 'species_neighbor']\n",
       "           1             1                    0                  12               12\n",
       "           1             1                    1                  12               12\n",
       "           1             1                    2                  12               12\n",
       "           1             1                    3                  12               12"
      ]
     },
     "execution_count": 20,
     "metadata": {},
     "output_type": "execute_result"
    }
   ],
   "source": [
    "gij"
   ]
  },
  {
   "cell_type": "markdown",
   "id": "a84fd6a5-e916-45a1-8f69-4b1c2bbc04f5",
   "metadata": {},
   "source": [
    "Computes descriptors using librascal and equistore. Retains only the descriptors associated with the central atom"
   ]
  },
  {
   "cell_type": "code",
   "execution_count": 21,
   "id": "fef55fd3",
   "metadata": {},
   "outputs": [],
   "source": [
    "cg = ClebschGordanReal(5)"
   ]
  },
  {
   "cell_type": "code",
   "execution_count": 22,
   "id": "03e4745f",
   "metadata": {},
   "outputs": [
    {
     "name": "stdout",
     "output_type": "stream",
     "text": [
      "CPU times: user 2.75 s, sys: 309 ms, total: 3.06 s\n",
      "Wall time: 3.06 s\n"
     ]
    }
   ],
   "source": [
    "%%time\n",
    "rhoii1i2_nu0 = cg_combine(gij, gij, clebsch_gordan=cg, other_keys_match=['species_center'], lcut=3)"
   ]
  },
  {
   "cell_type": "code",
   "execution_count": 23,
   "id": "c4fc1296-196f-4e55-b8ce-15563d269122",
   "metadata": {},
   "outputs": [
    {
     "data": {
      "text/plain": [
       "TensorBlock\n",
       "    samples: ['structure', 'center']\n",
       "    component: ['spherical_harmonics_m']\n",
       "    properties: ['species_neighbor_1', 'n_1']\n",
       "    gradients: no"
      ]
     },
     "execution_count": 23,
     "metadata": {},
     "output_type": "execute_result"
    }
   ],
   "source": [
    "rho1i.block(0)"
   ]
  },
  {
   "cell_type": "code",
   "execution_count": 24,
   "id": "dab9d64b-10e7-4959-965b-5941a53f7129",
   "metadata": {},
   "outputs": [
    {
     "data": {
      "text/plain": [
       "Labels([(  0, 0, 0), (  0, 0, 1), (  0, 0, 2), ..., (249, 0, 5),\n",
       "        (249, 0, 6), (249, 0, 7)],\n",
       "       dtype=[('structure', '<i4'), ('center', '<i4'), ('neighbor', '<i4')])"
      ]
     },
     "execution_count": 24,
     "metadata": {},
     "output_type": "execute_result"
    }
   ],
   "source": [
    "gij.block(0).samples"
   ]
  },
  {
   "cell_type": "code",
   "execution_count": 25,
   "id": "10298778",
   "metadata": {},
   "outputs": [
    {
     "name": "stdout",
     "output_type": "stream",
     "text": [
      "CPU times: user 2.12 s, sys: 351 ms, total: 2.47 s\n",
      "Wall time: 2.48 s\n"
     ]
    }
   ],
   "source": [
    "%%time \n",
    "rhoii1i2_nu1 =  cg_combine(rho1i, rhoii1i2_nu0, clebsch_gordan=cg, other_keys_match = ['species_center'], lcut=0, filter_sigma=[1])"
   ]
  },
  {
   "cell_type": "code",
   "execution_count": 26,
   "id": "426572a6-2159-4c67-a815-50a7564231da",
   "metadata": {},
   "outputs": [],
   "source": [
    "rho2i = cg_increment(rho1i, rho1i, clebsch_gordan=cg, lcut=3)\n",
    "rho3i = cg_increment(rho2i, rho1i, clebsch_gordan=cg, lcut=3)\n",
    "rho4i = cg_increment(rho3i, rho1i, clebsch_gordan=cg, lcut=3)\n",
    "rho5i = cg_increment(rho4i, rho1i, clebsch_gordan=cg, lcut=0, filter_sigma=[1])"
   ]
  },
  {
   "cell_type": "code",
   "execution_count": 27,
   "id": "baba8d3a-c76e-4917-b5d1-a8c37cdca2db",
   "metadata": {},
   "outputs": [],
   "source": [
    "test = operations.sum_over_samples(gij, sample_names=[\"structure\", \"center\"]) "
   ]
  },
  {
   "cell_type": "code",
   "execution_count": 28,
   "id": "34ab27e7-36cf-46de-9248-35708fc82826",
   "metadata": {},
   "outputs": [
    {
     "data": {
      "text/plain": [
       "_RustNDArray([[[ 0.01915951,  0.02307556],\n",
       "               [ 0.05486792,  0.0660825 ],\n",
       "               [ 0.00978555,  0.01178564]],\n",
       "\n",
       "              [[ 0.01915951,  0.02307556],\n",
       "               [-0.05486792, -0.0660825 ],\n",
       "               [ 0.00978555,  0.01178564]],\n",
       "\n",
       "              [[ 0.05022244,  0.06048752],\n",
       "               [ 0.05486792,  0.0660825 ],\n",
       "               [-0.05031177, -0.06059511]],\n",
       "\n",
       "              ...,\n",
       "\n",
       "              [[ 0.03624434,  0.04365241],\n",
       "               [-0.05486792, -0.0660825 ],\n",
       "               [ 0.11241648,  0.13539355]],\n",
       "\n",
       "              [[ 0.05319877,  0.06407219],\n",
       "               [ 0.05486792,  0.0660825 ],\n",
       "               [ 0.01832099,  0.02206566]],\n",
       "\n",
       "              [[ 0.05319877,  0.06407219],\n",
       "               [-0.05486792, -0.0660825 ],\n",
       "               [ 0.01832099,  0.02206566]]])"
      ]
     },
     "execution_count": 28,
     "metadata": {},
     "output_type": "execute_result"
    }
   ],
   "source": [
    "test.block(1).values"
   ]
  },
  {
   "cell_type": "code",
   "execution_count": 29,
   "id": "d09a00ff-b0fb-41b3-ba31-e2d1c6537201",
   "metadata": {},
   "outputs": [
    {
     "data": {
      "text/plain": [
       "_RustNDArray([[[1.71977847, 1.71977847],\n",
       "               [1.71977847, 1.71977847],\n",
       "               [1.71977847, 1.71977847]],\n",
       "\n",
       "              [[1.71977847, 1.71977847],\n",
       "               [1.71977847, 1.71977847],\n",
       "               [1.71977847, 1.71977847]],\n",
       "\n",
       "              [[1.71977847, 1.71977847],\n",
       "               [1.71977847, 1.71977847],\n",
       "               [1.71977847, 1.71977847]],\n",
       "\n",
       "              ...,\n",
       "\n",
       "              [[1.71977847, 1.71977847],\n",
       "               [1.71977847, 1.71977847],\n",
       "               [1.71977847, 1.71977847]],\n",
       "\n",
       "              [[1.71977847, 1.71977847],\n",
       "               [1.71977847, 1.71977847],\n",
       "               [1.71977847, 1.71977847]],\n",
       "\n",
       "              [[1.71977847, 1.71977847],\n",
       "               [1.71977847, 1.71977847],\n",
       "               [1.71977847, 1.71977847]]])"
      ]
     },
     "execution_count": 29,
     "metadata": {},
     "output_type": "execute_result"
    }
   ],
   "source": [
    "rho1i.block(1).values/test.block(1).values"
   ]
  },
  {
   "cell_type": "markdown",
   "id": "4a086a3e-3bb1-4b48-9b99-215d6cbf3912",
   "metadata": {},
   "source": [
    "sanity check - this should also be degenerate"
   ]
  },
  {
   "cell_type": "code",
   "execution_count": 30,
   "id": "fc9d7170-d967-4cdf-98ed-c45b6d671761",
   "metadata": {},
   "outputs": [],
   "source": [
    "rho2i_full = cg_combine(rho1i, rho1i, clebsch_gordan=cg, lcut=3)\n",
    "rho3i_full = cg_combine(rho2i, rho1i, clebsch_gordan=cg, lcut=0,filter_sigma=[1])"
   ]
  },
  {
   "cell_type": "code",
   "execution_count": 31,
   "id": "a5bee2d9-6129-4990-aa6c-5a5c8a5e81ac",
   "metadata": {},
   "outputs": [
    {
     "data": {
      "text/plain": [
       "(16000,)"
      ]
     },
     "execution_count": 31,
     "metadata": {},
     "output_type": "execute_result"
    }
   ],
   "source": [
    "rhoii1i2_nu1.block(0).samples.shape"
   ]
  },
  {
   "cell_type": "code",
   "execution_count": 32,
   "id": "adb69af7-e10a-41b0-867b-c99c10185663",
   "metadata": {},
   "outputs": [],
   "source": [
    "rhoii1i2_nu1_sum = operations.sum_over_samples(rhoii1i2_nu1, sample_names=[\"structure\", \"center\"]) "
   ]
  },
  {
   "cell_type": "code",
   "execution_count": 33,
   "id": "0be1197b-aa0c-4f4c-8349-68b1fbc4932d",
   "metadata": {},
   "outputs": [
    {
     "data": {
      "text/plain": [
       "(250, 1, 120)"
      ]
     },
     "execution_count": 33,
     "metadata": {},
     "output_type": "execute_result"
    }
   ],
   "source": [
    "rho3i_full.block(0).values.shape"
   ]
  },
  {
   "cell_type": "code",
   "execution_count": 34,
   "id": "57447f22-219a-4a61-a609-6eff49929ef2",
   "metadata": {},
   "outputs": [
    {
     "data": {
      "text/plain": [
       "(250, 1, 184)"
      ]
     },
     "execution_count": 34,
     "metadata": {},
     "output_type": "execute_result"
    }
   ],
   "source": [
    "rhoii1i2_nu1_sum.block(0).values.shape"
   ]
  },
  {
   "cell_type": "code",
   "execution_count": 35,
   "id": "1dee6abb-011e-40af-9c92-915c063a0b5e",
   "metadata": {},
   "outputs": [
    {
     "ename": "ValueError",
     "evalue": "operands could not be broadcast together with shapes (250,1,120) (250,1,184) ",
     "output_type": "error",
     "traceback": [
      "\u001b[0;31m---------------------------------------------------------------------------\u001b[0m",
      "\u001b[0;31mValueError\u001b[0m                                Traceback (most recent call last)",
      "\u001b[0;32m<ipython-input-35-ac07bb971697>\u001b[0m in \u001b[0;36m<module>\u001b[0;34m\u001b[0m\n\u001b[0;32m----> 1\u001b[0;31m \u001b[0mrho3i_full\u001b[0m\u001b[0;34m.\u001b[0m\u001b[0mblock\u001b[0m\u001b[0;34m(\u001b[0m\u001b[0;36m0\u001b[0m\u001b[0;34m)\u001b[0m\u001b[0;34m.\u001b[0m\u001b[0mvalues\u001b[0m\u001b[0;34m/\u001b[0m\u001b[0mrhoii1i2_nu1_sum\u001b[0m\u001b[0;34m.\u001b[0m\u001b[0mblock\u001b[0m\u001b[0;34m(\u001b[0m\u001b[0;36m0\u001b[0m\u001b[0;34m)\u001b[0m\u001b[0;34m.\u001b[0m\u001b[0mvalues\u001b[0m\u001b[0;34m\u001b[0m\u001b[0;34m\u001b[0m\u001b[0m\n\u001b[0m",
      "\u001b[0;31mValueError\u001b[0m: operands could not be broadcast together with shapes (250,1,120) (250,1,184) "
     ]
    }
   ],
   "source": [
    "rho3i_full.block(0).values/rhoii1i2_nu1_sum.block(0).values"
   ]
  },
  {
   "cell_type": "markdown",
   "id": "3169eb52-97e8-4cc6-87f0-52664255ee7d",
   "metadata": {},
   "source": [
    "Since we have a LOT of features and few structures, we use PCA to reduce the number of features with no information loss"
   ]
  },
  {
   "cell_type": "code",
   "execution_count": 36,
   "id": "641fbfd9-aca1-48d9-a29e-ab21aacf3413",
   "metadata": {},
   "outputs": [],
   "source": [
    "from sklearn.decomposition import PCA"
   ]
  },
  {
   "cell_type": "code",
   "execution_count": 37,
   "id": "0c959a01-d167-473d-a466-139601c6bf0a",
   "metadata": {},
   "outputs": [
    {
     "data": {
      "text/plain": [
       "250"
      ]
     },
     "execution_count": 37,
     "metadata": {},
     "output_type": "execute_result"
    }
   ],
   "source": [
    "len(frames)"
   ]
  },
  {
   "cell_type": "code",
   "execution_count": 38,
   "id": "8ebcd1a4-c69d-40a9-bcbb-bb66bb5d4ddd",
   "metadata": {},
   "outputs": [
    {
     "data": {
      "text/plain": [
       "(184,)"
      ]
     },
     "execution_count": 38,
     "metadata": {},
     "output_type": "execute_result"
    }
   ],
   "source": [
    "rhoii1i2_nu1.block(0).values.squeeze()[:64].sum(axis=0).shape"
   ]
  },
  {
   "cell_type": "code",
   "execution_count": 39,
   "id": "30432d94-df5f-445c-a5a7-89218e092590",
   "metadata": {},
   "outputs": [
    {
     "data": {
      "text/plain": [
       "(120,)"
      ]
     },
     "execution_count": 39,
     "metadata": {},
     "output_type": "execute_result"
    }
   ],
   "source": [
    "rho3i.block(inversion_sigma=1,spherical_harmonics_l=0).values.squeeze()[0].shape"
   ]
  },
  {
   "cell_type": "code",
   "execution_count": 40,
   "id": "a1e825e6-0bcf-4531-b7a0-3795a609a8a9",
   "metadata": {},
   "outputs": [
    {
     "data": {
      "text/plain": [
       "[<matplotlib.lines.Line2D at 0x7f255af5a2e0>]"
      ]
     },
     "execution_count": 40,
     "metadata": {},
     "output_type": "execute_result"
    },
    {
     "data": {
      "image/png": "[encoded data removed]",
      "text/plain": [
       "<Figure size 432x288 with 1 Axes>"
      ]
     },
     "metadata": {
      "needs_background": "light"
     },
     "output_type": "display_data"
    }
   ],
   "source": [
    "plt.plot(rhoii1i2_nu1.block(0).values.squeeze()[:64].sum(axis=0)*2e3,'r-')\n",
    "plt.plot(rho3i.block(inversion_sigma=1,spherical_harmonics_l=0).values.squeeze()[0], 'b--')"
   ]
  },
  {
   "cell_type": "code",
   "execution_count": 41,
   "id": "a4199b01-c90f-4dda-9c23-0a39e20b0f75",
   "metadata": {},
   "outputs": [],
   "source": [
    "triplet_samples = rhoii1i2_nu1.block(0).samples\n",
    "raw = rhoii1i2_nu1.block(0).values.squeeze()\n",
    "feats_n2nu1 = torch.tensor(PCA(n_components=min(raw.shape[0],raw.shape[-1])).fit_transform(raw))\n",
    "feats_n2nu1 /= np.sqrt((feats_n2nu1**2).sum(axis=1).mean())"
   ]
  },
  {
   "cell_type": "code",
   "execution_count": 42,
   "id": "9ab5bb5d-2ab7-4abc-a99a-463723c5545b",
   "metadata": {},
   "outputs": [],
   "source": [
    "raw = np.hstack([\n",
    "    rho1i.block(inversion_sigma=1,spherical_harmonics_l=0).values.squeeze(),\n",
    "    rho2i.block(inversion_sigma=1,spherical_harmonics_l=0).values.squeeze(),\n",
    "    rho3i.block(inversion_sigma=1,spherical_harmonics_l=0).values.squeeze()\n",
    "])\n",
    "feats_nu123 = torch.tensor(PCA(n_components=min(raw.shape[0],raw.shape[-1])).fit_transform(raw) / np.sqrt((raw**2).sum(axis=1).mean()))"
   ]
  },
  {
   "cell_type": "code",
   "execution_count": 43,
   "id": "95294e92-1170-42df-941a-c602cd2daba6",
   "metadata": {},
   "outputs": [],
   "source": [
    "raw = np.hstack([\n",
    "    rho1i.block(inversion_sigma=1,spherical_harmonics_l=0).values.squeeze(),\n",
    "    rho2i.block(inversion_sigma=1,spherical_harmonics_l=0).values.squeeze(),\n",
    "    rho3i.block(inversion_sigma=1,spherical_harmonics_l=0).values.squeeze(),\n",
    "    rho4i.block(inversion_sigma=1,spherical_harmonics_l=0).values.squeeze(),\n",
    "    rho5i.block(inversion_sigma=1,spherical_harmonics_l=0).values.squeeze()\n",
    "])\n",
    "feats_nu12345 = torch.tensor(PCA(n_components=min(raw.shape[0],raw.shape[-1])).fit_transform(raw) / np.sqrt((raw**2).sum(axis=1).mean()))"
   ]
  },
  {
   "cell_type": "code",
   "execution_count": 44,
   "id": "8577448c-3d2b-44ab-8c2d-d1d3cce574bf",
   "metadata": {},
   "outputs": [],
   "source": [
    "raw = rho3i_full.block(inversion_sigma=1,spherical_harmonics_l=0).values.squeeze()\n",
    "feats_nu3 = torch.tensor(PCA(n_components=min(raw.shape[0],raw.shape[-1])).fit_transform(raw) / np.sqrt((raw**2).sum(axis=1).mean()))"
   ]
  },
  {
   "cell_type": "code",
   "execution_count": 45,
   "id": "74224a14-4978-4ad6-88fd-b1a5d570bc60",
   "metadata": {},
   "outputs": [],
   "source": [
    "raw = rhoii1i2_nu1_sum.block(inversion_sigma=1,spherical_harmonics_l=0).values.squeeze()\n",
    "feats_nu3_alt = torch.tensor(PCA(n_components=min(raw.shape[0],raw.shape[-1])).fit_transform(raw) / np.sqrt((raw**2).sum(axis=1).mean()))"
   ]
  },
  {
   "cell_type": "code",
   "execution_count": 46,
   "id": "76ac9b0b-a33d-46e2-a1fa-0fa00e45a59c",
   "metadata": {},
   "outputs": [
    {
     "data": {
      "text/plain": [
       "torch.Size([250, 120])"
      ]
     },
     "execution_count": 46,
     "metadata": {},
     "output_type": "execute_result"
    }
   ],
   "source": [
    "feats_nu3.shape"
   ]
  },
  {
   "cell_type": "code",
   "execution_count": 47,
   "id": "c1bea525-64bc-4abe-91ab-2a6fa02aee23",
   "metadata": {},
   "outputs": [
    {
     "data": {
      "text/plain": [
       "torch.Size([250, 184])"
      ]
     },
     "execution_count": 47,
     "metadata": {},
     "output_type": "execute_result"
    }
   ],
   "source": [
    "feats_nu3_alt.shape"
   ]
  },
  {
   "cell_type": "code",
   "execution_count": 48,
   "id": "3420fee7-9abc-4ed8-b08e-451d7f85d7c5",
   "metadata": {},
   "outputs": [
    {
     "data": {
      "text/plain": [
       "[<matplotlib.lines.Line2D at 0x7f25587b4b50>]"
      ]
     },
     "execution_count": 48,
     "metadata": {},
     "output_type": "execute_result"
    },
    {
     "data": {
      "image/png": "[encoded data removed]",
      "text/plain": [
       "<Figure size 432x288 with 1 Axes>"
      ]
     },
     "metadata": {
      "needs_background": "light"
     },
     "output_type": "display_data"
    }
   ],
   "source": [
    "plt.plot(feats_nu3[:,:100].flatten(),feats_nu3_alt[:,:100].flatten(), 'b.')"
   ]
  },
  {
   "cell_type": "code",
   "execution_count": 49,
   "id": "acb65dac-ecd9-468a-bd37-253918883a2e",
   "metadata": {},
   "outputs": [
    {
     "data": {
      "text/plain": [
       "[<matplotlib.lines.Line2D at 0x7f25583fdf40>]"
      ]
     },
     "execution_count": 49,
     "metadata": {},
     "output_type": "execute_result"
    },
    {
     "data": {
      "image/png": "[encoded data removed]",
      "text/plain": [
       "<Figure size 432x288 with 1 Axes>"
      ]
     },
     "metadata": {
      "needs_background": "light"
     },
     "output_type": "display_data"
    }
   ],
   "source": [
    "plt.plot(feats_n2nu1[:64].sum(axis=0))"
   ]
  },
  {
   "cell_type": "code",
   "execution_count": 50,
   "id": "d5d147d3-a076-4692-8e4d-22b225666e08",
   "metadata": {},
   "outputs": [],
   "source": [
    "raw = rho4i.block(inversion_sigma=1,spherical_harmonics_l=0).values.squeeze()\n",
    "feats_nu4 = torch.tensor(PCA(n_components=min(raw.shape[0],raw.shape[-1])).fit_transform(raw) / np.sqrt((raw**2).sum(axis=1).mean()))"
   ]
  },
  {
   "cell_type": "code",
   "execution_count": 51,
   "id": "2080f6da-7cfc-4ff8-9938-208bd10ef745",
   "metadata": {},
   "outputs": [
    {
     "name": "stdout",
     "output_type": "stream",
     "text": [
      "tensor(44)\n"
     ]
    },
    {
     "data": {
      "image/png": "[encoded data removed]",
      "text/plain": [
       "<Figure size 432x288 with 1 Axes>"
      ]
     },
     "metadata": {
      "needs_background": "light"
     },
     "output_type": "display_data"
    }
   ],
   "source": [
    "plt.plot(np.sqrt(((feats_nu12345[::2]-feats_nu12345[1::2])**2).sum(axis=1))/np.sqrt(((feats_nu12345[::2]+feats_nu12345[1::2])**2).sum(axis=1)) )\n",
    "print(np.sqrt(((feats_nu12345[::2]-feats_nu12345[1::2])**2).sum(axis=1)).argmax())"
   ]
  },
  {
   "cell_type": "code",
   "execution_count": 52,
   "id": "28966a98-1820-4125-b305-c2b8ee98ccd4",
   "metadata": {},
   "outputs": [
    {
     "data": {
      "text/plain": [
       "[<matplotlib.lines.Line2D at 0x7f2559d90a30>]"
      ]
     },
     "execution_count": 52,
     "metadata": {},
     "output_type": "execute_result"
    },
    {
     "data": {
      "image/png": "[encoded data removed]",
      "text/plain": [
       "<Figure size 432x288 with 1 Axes>"
      ]
     },
     "metadata": {
      "needs_background": "light"
     },
     "output_type": "display_data"
    }
   ],
   "source": [
    "plt.plot(feats_nu12345[4])\n",
    "plt.plot(feats_nu12345[5])"
   ]
  },
  {
   "cell_type": "code",
   "execution_count": 53,
   "id": "6ed18077-abac-447f-aadf-08e107cdd32f",
   "metadata": {},
   "outputs": [
    {
     "data": {
      "text/plain": [
       "[<matplotlib.lines.Line2D at 0x7f2558792dc0>]"
      ]
     },
     "execution_count": 53,
     "metadata": {},
     "output_type": "execute_result"
    },
    {
     "data": {
      "image/png": "[encoded data removed]",
      "text/plain": [
       "<Figure size 432x288 with 1 Axes>"
      ]
     },
     "metadata": {
      "needs_background": "light"
     },
     "output_type": "display_data"
    }
   ],
   "source": [
    "plt.plot(feats_nu12345[20]-feats_nu12345[21])"
   ]
  },
  {
   "cell_type": "code",
   "execution_count": 54,
   "id": "5a70c59b-c86f-41b2-a384-9f75fecfd926",
   "metadata": {},
   "outputs": [
    {
     "data": {
      "text/plain": [
       "[<matplotlib.lines.Line2D at 0x7f2559db8d00>]"
      ]
     },
     "execution_count": 54,
     "metadata": {},
     "output_type": "execute_result"
    },
    {
     "data": {
      "image/png": "[encoded data removed]",
      "text/plain": [
       "<Figure size 432x288 with 1 Axes>"
      ]
     },
     "metadata": {
      "needs_background": "light"
     },
     "output_type": "display_data"
    }
   ],
   "source": [
    "plt.plot(feats_nu123[::2,7], feats_nu123[::2,8], 'b.')\n",
    "plt.plot(feats_nu123[1::2,7], feats_nu123[1::2,8], 'rx')"
   ]
  },
  {
   "cell_type": "code",
   "execution_count": 55,
   "id": "10199ba6-e2e5-4bfc-a873-5678444055a2",
   "metadata": {},
   "outputs": [
    {
     "data": {
      "text/plain": [
       "[<matplotlib.lines.Line2D at 0x7f2560064e50>]"
      ]
     },
     "execution_count": 55,
     "metadata": {},
     "output_type": "execute_result"
    },
    {
     "data": {
      "image/png": "[encoded data removed]",
      "text/plain": [
       "<Figure size 432x288 with 1 Axes>"
      ]
     },
     "metadata": {
      "needs_background": "light"
     },
     "output_type": "display_data"
    }
   ],
   "source": [
    "plt.plot(feats_nu12345[::2,12], feats_nu12345[::2,13], 'b.')\n",
    "plt.plot(feats_nu12345[1::2,12], feats_nu12345[1::2,13], 'rx')"
   ]
  },
  {
   "cell_type": "markdown",
   "id": "7057a862-3261-464d-8060-9116b8415338",
   "metadata": {},
   "source": [
    "Now we make an autoencoder thingie"
   ]
  },
  {
   "cell_type": "code",
   "execution_count": 56,
   "id": "1ba29c23-da18-4d6a-8b0e-1491268db39f",
   "metadata": {},
   "outputs": [],
   "source": [
    "def StructureMap(samples_structure, device=\"cpu\"):\n",
    "    unique_structures, unique_structures_idx = np.unique(\n",
    "        samples_structure, return_index=True\n",
    "    )\n",
    "    new_samples = samples_structure[np.sort(unique_structures_idx)]\n",
    "    # we need a list keeping track of where each atomic contribution goes\n",
    "    # (e.g. if structure ids are [3,3,3,1,1,1,6,6,6] that will be stored as\n",
    "    # the unique structures [3, 1, 6], structure_map will be\n",
    "    # [0,0,0,1,1,1,2,2,2]\n",
    "    replace_rule = dict(zip(unique_structures, range(len(unique_structures))))\n",
    "    structure_map = torch.tensor(\n",
    "        [replace_rule[i] for i in samples_structure],\n",
    "        dtype=torch.long,\n",
    "        device=device,\n",
    "    )\n",
    "    return structure_map, new_samples, replace_rule\n",
    "\n",
    "def block_compress(block, compress, structure_sel):\n",
    "    samples = (\n",
    "        block.samples.view(dtype=np.int32).reshape(-1, len(block.samples.names)).copy()\n",
    "    )\n",
    "    if structure_sel is None:\n",
    "        selected = np.arange(0, len(block.samples))\n",
    "    else:\n",
    "        selected = []\n",
    "        for i in structure_sel:\n",
    "            selected.append(np.where(block.samples[\"structure\"] == i)[0])\n",
    "        selected = np.concatenate(selected)\n",
    "    samples = Labels(block.samples.names, samples[selected])\n",
    "\n",
    "    new_block = TensorBlock(\n",
    "        values=torch.tensor(block.values[selected]@compress),\n",
    "        samples=samples,\n",
    "        components=block.components,\n",
    "        properties=Labels([\"pca\"], np.arange(0, compress.shape[1], dtype=np.int32)[:,np.newaxis]),\n",
    "    )\n",
    "\n",
    "    return new_block\n",
    "\n",
    "def move_and_compress(tensor_map, compress, structure_sel=None):\n",
    "    blocks = []\n",
    "    for _, block in tensor_map:\n",
    "        blocks.append(block_compress(block, compress, structure_sel))\n",
    "\n",
    "    return TensorMap(tensor_map.keys, blocks)"
   ]
  },
  {
   "cell_type": "code",
   "execution_count": 57,
   "id": "7067c569-c37a-45a0-931f-5b12321f9040",
   "metadata": {},
   "outputs": [],
   "source": [
    "class EncodeDecodeLinear(torch.nn.Module):\n",
    "    def __init__(self, feat_size=32, output_size=32):\n",
    "        super().__init__()\n",
    "\n",
    "        self.nn_encode = None\n",
    "        self.nn_decode = None\n",
    "        self.feat_size = feat_size\n",
    "        self.output_size= output_size        \n",
    "\n",
    "    def initialize_model_weights(self, block, seed):\n",
    "        if seed is not None:\n",
    "            torch.manual_seed(seed)\n",
    "\n",
    "        X = block\n",
    "\n",
    "        # initialize nn with zero weights ??\n",
    "        def init_zero_weights(m):\n",
    "            if isinstance(m, torch.nn.Linear):\n",
    "                m.weight.data.fill_(0)\n",
    "                m.bias.data.fill_(0)\n",
    "\n",
    "        self.nn_encode = torch.nn.Sequential(\n",
    "            torch.nn.Linear(X.shape[-1], self.feat_size))\n",
    "        self.nn_decode = torch.nn.Sequential(\n",
    "            torch.nn.Linear(self.feat_size, self.output_size),            \n",
    "        )\n",
    "    \n",
    "    def feats(self, block, samples):\n",
    "        tensor = block\n",
    "\n",
    "        structure_map, new_samples, _ = StructureMap(\n",
    "            samples, \"cpu\"\n",
    "        )\n",
    "        \n",
    "        nn_per_triple = self.nn_encode(tensor)\n",
    "        nn_per_structure = torch.zeros((len(new_samples), nn_per_triple.shape[-1]), device=tensor.device)\n",
    "        nn_per_structure.index_add_(0, structure_map, nn_per_triple)\n",
    "        return nn_per_structure\n",
    "        \n",
    "    def forward(self, block, samples):\n",
    "        if self.nn_encode is None:\n",
    "            raise Exception(\"call initialize_weights first\")\n",
    "\n",
    "        outputs = self.nn_decode(self.feats(block, samples))\n",
    "        return outputs"
   ]
  },
  {
   "cell_type": "code",
   "execution_count": 58,
   "id": "ac25a569-9d2a-48c6-9f12-03225436269d",
   "metadata": {},
   "outputs": [],
   "source": [
    "class EncodeDecode(torch.nn.Module):\n",
    "    def __init__(self, layer_size=100, feat_size=32, output_size=32):\n",
    "        super().__init__()\n",
    "\n",
    "        self.nn_encode = None\n",
    "        self.nn_decode = None\n",
    "        self.feat_size = feat_size\n",
    "        self.layer_size = layer_size        \n",
    "        self.output_size= output_size        \n",
    "\n",
    "    def initialize_model_weights(self, block, seed):\n",
    "        if seed is not None:\n",
    "            torch.manual_seed(seed)\n",
    "\n",
    "        X = block\n",
    "\n",
    "        # initialize nn with zero weights ??\n",
    "        def init_zero_weights(m):\n",
    "            if isinstance(m, torch.nn.Linear):\n",
    "                m.weight.data.fill_(0)\n",
    "                m.bias.data.fill_(0)\n",
    "\n",
    "        self.nn_encode = torch.nn.Sequential(\n",
    "            \n",
    "            torch.nn.Linear(X.shape[-1], self.layer_size),\n",
    "            torch.nn.GroupNorm(4,self.layer_size),\n",
    "            torch.nn.Tanh(),\n",
    "            torch.nn.Linear(self.layer_size, self.layer_size),\n",
    "            torch.nn.GroupNorm(4,self.layer_size),\n",
    "            torch.nn.Tanh(),\n",
    "            torch.nn.Linear(self.layer_size, self.feat_size))\n",
    "        self.nn_decode = torch.nn.Sequential(\n",
    "            torch.nn.Linear(self.feat_size, self.layer_size),\n",
    "            torch.nn.GroupNorm(4,self.layer_size),\n",
    "            torch.nn.Tanh(),\n",
    "            torch.nn.Linear(self.layer_size, self.layer_size),\n",
    "            torch.nn.GroupNorm(4,self.layer_size),\n",
    "            torch.nn.Tanh(),\n",
    "            torch.nn.Linear(self.layer_size, self.output_size),            \n",
    "        )\n",
    "\n",
    "    def feats(self, block, samples):\n",
    "        tensor = block\n",
    "\n",
    "        structure_map, new_samples, _ = StructureMap(\n",
    "            samples, \"cpu\"\n",
    "        )\n",
    "        \n",
    "        nn_per_triple = self.nn_encode(tensor)\n",
    "        nn_per_structure = torch.zeros((len(new_samples), nn_per_triple.shape[-1]), device=tensor.device)\n",
    "        nn_per_structure.index_add_(0, structure_map, nn_per_triple)\n",
    "        return nn_per_structure\n",
    "        \n",
    "    def forward(self, block, samples):\n",
    "        if self.nn_encode is None:\n",
    "            raise Exception(\"call initialize_weights first\")\n",
    "\n",
    "        outputs = self.nn_decode(self.feats(block, samples))\n",
    "        return outputs"
   ]
  },
  {
   "cell_type": "code",
   "execution_count": 59,
   "id": "bde38bf5-f338-4977-a28c-c4efdd9ad2c7",
   "metadata": {},
   "outputs": [
    {
     "data": {
      "text/plain": [
       "Labels([(  0, 0, 0, 0), (  0, 0, 0, 1), (  0, 0, 0, 2), ...,\n",
       "        (249, 0, 7, 5), (249, 0, 7, 6), (249, 0, 7, 7)],\n",
       "       dtype=[('structure', '<i4'), ('center', '<i4'), ('neighbor_1', '<i4'), ('neighbor_2', '<i4')])"
      ]
     },
     "execution_count": 59,
     "metadata": {},
     "output_type": "execute_result"
    }
   ],
   "source": [
    "triplet_samples"
   ]
  },
  {
   "cell_type": "code",
   "execution_count": 60,
   "id": "dd1f9be3-6364-45fb-9028-e2610227e1a1",
   "metadata": {},
   "outputs": [],
   "source": [
    "target = feats_nu12345[:,:48]"
   ]
  },
  {
   "cell_type": "code",
   "execution_count": 61,
   "id": "8f6dd2d5-076f-427e-9e9c-4e6e9a9256ee",
   "metadata": {},
   "outputs": [],
   "source": [
    "mymodel = EncodeDecodeLinear(32, target.shape[-1])"
   ]
  },
  {
   "cell_type": "code",
   "execution_count": 73,
   "id": "5b2eb04e-b04b-4acb-80df-7531c202bbf3",
   "metadata": {},
   "outputs": [],
   "source": [
    "mymodel = EncodeDecode(64, 32, target.shape[-1])"
   ]
  },
  {
   "cell_type": "code",
   "execution_count": 74,
   "id": "65f33b2d-c755-48a1-a8dd-1fac2659773c",
   "metadata": {},
   "outputs": [],
   "source": [
    "mymodel.initialize_model_weights(feats_n2nu1, seed=12345)"
   ]
  },
  {
   "cell_type": "code",
   "execution_count": 75,
   "id": "c92f92f8-83b9-4aa5-a6a2-f1fdc6797011",
   "metadata": {},
   "outputs": [],
   "source": [
    "def loss_mse(predicted, actual):\n",
    "    return torch.sum((predicted.flatten() - actual.flatten()) ** 2)"
   ]
  },
  {
   "cell_type": "code",
   "execution_count": 76,
   "id": "5227d4ca-c2c5-4645-a4b3-d66609ca7a92",
   "metadata": {},
   "outputs": [],
   "source": [
    "optimizer = torch.optim.LBFGS(\n",
    "        mymodel.parameters(),\n",
    "        lr=0.1,\n",
    "        line_search_fn=\"strong_wolfe\",\n",
    "        history_size=128,\n",
    "    )"
   ]
  },
  {
   "cell_type": "code",
   "execution_count": 77,
   "id": "04446ae2-02f9-477d-8bd7-384cc941d3b3",
   "metadata": {},
   "outputs": [
    {
     "name": "stdout",
     "output_type": "stream",
     "text": [
      "Beginning epoch 0\n",
      "Energy RMSE: train  2.5506626755143533 test 0.14126780368290617\n",
      "Beginning epoch 4\n",
      "Energy RMSE: train  0.09341604473443794 test 0.07957395369131064\n",
      "Beginning epoch 8\n",
      "Energy RMSE: train  0.05374949932937123 test 0.04789540277182461\n",
      "Beginning epoch 12\n",
      "Energy RMSE: train  0.040820334010744044 test 0.036091227108892135\n",
      "Beginning epoch 16\n",
      "Energy RMSE: train  0.033668298707643596 test 0.02901386847445137\n",
      "Beginning epoch 20\n",
      "Energy RMSE: train  0.0253952424794069 test 0.02286067908831896\n",
      "Beginning epoch 24\n",
      "Energy RMSE: train  0.01779380594511994 test 0.017019136977234645\n",
      "Beginning epoch 28\n",
      "Energy RMSE: train  0.015497656944119177 test 0.015226943002375702\n",
      "Beginning epoch 32\n",
      "Energy RMSE: train  0.015205829740857237 test 0.014994092199844863\n",
      "Beginning epoch 36\n",
      "Energy RMSE: train  0.015079720287061006 test 0.014831650749865697\n",
      "Beginning epoch 40\n",
      "Energy RMSE: train  0.01495783412585084 test 0.014759999118991339\n",
      "Beginning epoch 44\n",
      "Energy RMSE: train  0.014899466594062218 test 0.0146925585114136\n",
      "Beginning epoch 48\n",
      "Energy RMSE: train  0.014844173738365631 test 0.014655883671522525\n",
      "Beginning epoch 52\n",
      "Energy RMSE: train  0.01474094293046374 test 0.01462869914037713\n",
      "Beginning epoch 56\n",
      "Energy RMSE: train  0.01461592586324747 test 0.01450182082603996\n",
      "Beginning epoch 60\n",
      "Energy RMSE: train  0.014499136510316092 test 0.014329252520212532\n",
      "Beginning epoch 64\n",
      "Energy RMSE: train  0.014308539718592674 test 0.014056468758245467\n",
      "Beginning epoch 68\n",
      "Energy RMSE: train  0.013977208653359514 test 0.013812452780373399\n",
      "Beginning epoch 72\n",
      "Energy RMSE: train  0.013443644635874122 test 0.01336289655725891\n",
      "Beginning epoch 76\n",
      "Energy RMSE: train  0.012821279237973491 test 0.012982534729601059\n",
      "Beginning epoch 80\n",
      "Energy RMSE: train  0.012384426080103287 test 0.012674468823393958\n",
      "Beginning epoch 84\n",
      "Energy RMSE: train  0.011978467476937973 test 0.012408292337536216\n",
      "Beginning epoch 88\n",
      "Energy RMSE: train  0.011452211601164082 test 0.012093286099896055\n",
      "Beginning epoch 92\n",
      "Energy RMSE: train  0.010973964131411669 test 0.011676578177996487\n",
      "Beginning epoch 96\n",
      "Energy RMSE: train  0.010493981578030323 test 0.011314752982121696\n",
      "Beginning epoch 100\n",
      "Energy RMSE: train  0.009893882456170544 test 0.011005947450958448\n",
      "Beginning epoch 104\n",
      "Energy RMSE: train  0.009588952113378518 test 0.010551626856471865\n",
      "Beginning epoch 108\n",
      "Energy RMSE: train  0.00933564766129994 test 0.010255019903513931\n",
      "Beginning epoch 112\n",
      "Energy RMSE: train  0.009069254065424416 test 0.009984695086825614\n",
      "Beginning epoch 116\n",
      "Energy RMSE: train  0.008776486648820584 test 0.009817528827765744\n",
      "Beginning epoch 120\n",
      "Energy RMSE: train  0.008592979989042605 test 0.009633531174635945\n",
      "Beginning epoch 124\n",
      "Energy RMSE: train  0.008422013957245586 test 0.009512183169744304\n",
      "Beginning epoch 128\n",
      "Energy RMSE: train  0.00825171406989999 test 0.00934127030266257\n",
      "Beginning epoch 132\n",
      "Energy RMSE: train  0.008122382288885892 test 0.009233498143360785\n",
      "Beginning epoch 136\n",
      "Energy RMSE: train  0.007932889373211575 test 0.00903450262073709\n",
      "Beginning epoch 140\n",
      "Energy RMSE: train  0.007764769166839025 test 0.008830015555404394\n",
      "Beginning epoch 144\n",
      "Energy RMSE: train  0.007622990489007643 test 0.008650939606405693\n",
      "Beginning epoch 148\n",
      "Energy RMSE: train  0.007492688833686336 test 0.008563658661974052\n",
      "Beginning epoch 152\n",
      "Energy RMSE: train  0.007357017865282177 test 0.008482780374664987\n",
      "Beginning epoch 156\n",
      "Energy RMSE: train  0.007260752970266793 test 0.008386408373990045\n",
      "Beginning epoch 160\n",
      "Energy RMSE: train  0.007158977813821052 test 0.008301873689056704\n",
      "Beginning epoch 164\n",
      "Energy RMSE: train  0.007066836119935671 test 0.008276058588144486\n",
      "Beginning epoch 168\n",
      "Energy RMSE: train  0.006980489475363177 test 0.008146513946586479\n",
      "Beginning epoch 172\n",
      "Energy RMSE: train  0.006863636413507739 test 0.008028672914625579\n",
      "Beginning epoch 176\n",
      "Energy RMSE: train  0.00675630274821578 test 0.007955555051199412\n",
      "Beginning epoch 180\n",
      "Energy RMSE: train  0.006679848508545071 test 0.00791241439934351\n",
      "Beginning epoch 184\n",
      "Energy RMSE: train  0.006595702974613016 test 0.007864799491479437\n",
      "Beginning epoch 188\n",
      "Energy RMSE: train  0.006526701135572518 test 0.007765579923998587\n",
      "Beginning epoch 192\n",
      "Energy RMSE: train  0.006454351814968736 test 0.007719261128988764\n",
      "Beginning epoch 196\n",
      "Energy RMSE: train  0.006370845415472283 test 0.007642882188900992\n"
     ]
    }
   ],
   "source": [
    "n_epochs = 200\n",
    "ntrain = 100\n",
    "ntriples = 64\n",
    "for epoch in range(0, n_epochs):\n",
    "    if epoch%4==0:\n",
    "        print(\"Beginning epoch\", epoch)\n",
    "    \n",
    "    def single_step():\n",
    "        # global composition, radial_spectrum, spherical_expansions, energies\n",
    "        optimizer.zero_grad()\n",
    "        loss = torch.zeros(size=(1,), device=device)\n",
    "        \n",
    "        predicted = mymodel(feats_n2nu1[:ntrain*ntriples], triplet_samples[\"structure\"][:ntrain*ntriples])\n",
    "        loss += loss_mse(predicted, target[:ntrain])\n",
    "        \n",
    "        loss.backward(retain_graph=False)\n",
    "        return loss\n",
    "\n",
    "    loss = optimizer.step(single_step)\n",
    "    predicted = mymodel(feats_n2nu1[ntrain*ntriples:], triplet_samples[\"structure\"][ntrain*ntriples:])\n",
    "    \n",
    "    if epoch % 4 ==0:\n",
    "        print(\"Energy RMSE: train \", np.sqrt(loss.detach().numpy().flatten()[0]/ntrain),\n",
    "         \"test\", np.sqrt(loss_mse(predicted, target[ntrain:]).detach().numpy().flatten()[0]/ (len(frames)-ntrain)) )"
   ]
  },
  {
   "cell_type": "code",
   "execution_count": 67,
   "id": "3b471c16-3869-4415-8e1b-77057ba8bff9",
   "metadata": {},
   "outputs": [],
   "source": [
    "predicted = mymodel(feats_n2nu1, triplet_samples[\"structure\"])\n",
    "feats = mymodel.feats(feats_n2nu1, triplet_samples[\"structure\"])"
   ]
  },
  {
   "cell_type": "code",
   "execution_count": 68,
   "id": "e039a164-536f-47c3-b798-77104de35607",
   "metadata": {},
   "outputs": [
    {
     "data": {
      "text/plain": [
       "[<matplotlib.lines.Line2D at 0x7f255871fbb0>]"
      ]
     },
     "execution_count": 68,
     "metadata": {},
     "output_type": "execute_result"
    },
    {
     "data": {
      "image/png": "[encoded data removed]",
      "text/plain": [
       "<Figure size 432x288 with 1 Axes>"
      ]
     },
     "metadata": {
      "needs_background": "light"
     },
     "output_type": "display_data"
    }
   ],
   "source": [
    "plt.plot(feats[30].detach()-feats[31].detach())"
   ]
  },
  {
   "cell_type": "code",
   "execution_count": 69,
   "id": "f9e39974-d8d0-49bc-8ceb-be43a0887f84",
   "metadata": {},
   "outputs": [
    {
     "name": "stdout",
     "output_type": "stream",
     "text": [
      "tensor(44)\n"
     ]
    },
    {
     "data": {
      "image/png": "[encoded data removed]",
      "text/plain": [
       "<Figure size 432x288 with 1 Axes>"
      ]
     },
     "metadata": {
      "needs_background": "light"
     },
     "output_type": "display_data"
    }
   ],
   "source": [
    "plt.plot(np.sqrt(((target[::2]-target[1::2])**2).sum(axis=1)))\n",
    "print(np.sqrt(((target[::2]-target[1::2])**2).sum(axis=1)).argmax())"
   ]
  },
  {
   "cell_type": "code",
   "execution_count": 70,
   "id": "58946579-3a8f-4bd8-99ec-0a0878d5eec7",
   "metadata": {},
   "outputs": [
    {
     "data": {
      "text/plain": [
       "[<matplotlib.lines.Line2D at 0x7f2559c9e5b0>]"
      ]
     },
     "execution_count": 70,
     "metadata": {},
     "output_type": "execute_result"
    },
    {
     "data": {
      "image/png": "[encoded data removed]",
      "text/plain": [
       "<Figure size 432x288 with 1 Axes>"
      ]
     },
     "metadata": {
      "needs_background": "light"
     },
     "output_type": "display_data"
    }
   ],
   "source": [
    "iframe = 88\n",
    "plt.plot(predicted[iframe].detach(),'b--')\n",
    "plt.plot(target[iframe].detach(),'b.')\n",
    "plt.plot(predicted[iframe+1].detach(), 'r--')\n",
    "plt.plot(target[iframe+1].detach(), 'r.')"
   ]
  },
  {
   "cell_type": "code",
   "execution_count": 71,
   "id": "cb466e6d-75a8-48ed-b19e-e4ede5468a1b",
   "metadata": {},
   "outputs": [
    {
     "data": {
      "text/plain": [
       "[<matplotlib.lines.Line2D at 0x7f25586fdbe0>]"
      ]
     },
     "execution_count": 71,
     "metadata": {},
     "output_type": "execute_result"
    },
    {
     "data": {
      "image/png": "[encoded data removed]",
      "text/plain": [
       "<Figure size 432x288 with 1 Axes>"
      ]
     },
     "metadata": {
      "needs_background": "light"
     },
     "output_type": "display_data"
    }
   ],
   "source": [
    "plt.plot((predicted[iframe].detach()-predicted[iframe+1].detach()),'k.')\n",
    "plt.plot(target[iframe].detach()-target[iframe+1].detach(), 'k--')"
   ]
  },
  {
   "cell_type": "code",
   "execution_count": 72,
   "id": "642f128f-2f76-4473-a251-ec813f97e3d3",
   "metadata": {},
   "outputs": [
    {
     "data": {
      "text/plain": [
       "[<matplotlib.lines.Line2D at 0x7f25585f8fd0>]"
      ]
     },
     "execution_count": 72,
     "metadata": {},
     "output_type": "execute_result"
    },
    {
     "data": {
      "image/png": "[encoded data removed]",
      "text/plain": [
       "<Figure size 432x288 with 1 Axes>"
      ]
     },
     "metadata": {
      "needs_background": "light"
     },
     "output_type": "display_data"
    }
   ],
   "source": [
    "plt.plot((feats[iframe].detach()-feats[iframe+1].detach()),'b.-')"
   ]
  },
  {
   "cell_type": "code",
   "execution_count": null,
   "id": "39d8d46e-c96a-459b-a9e6-b5d84b0c0b3d",
   "metadata": {},
   "outputs": [],
   "source": []
  },
  {
   "cell_type": "code",
   "execution_count": null,
   "id": "bfdbfee4-3e3b-4d0e-ad7b-4ecc7f9720b8",
   "metadata": {},
   "outputs": [],
   "source": []
  }
 ],
 "metadata": {
  "kernelspec": {
   "display_name": "Python 3",
   "language": "python",
   "name": "python3"
  },
  "language_info": {
   "codemirror_mode": {
    "name": "ipython",
    "version": 3
   },
   "file_extension": ".py",
   "mimetype": "text/x-python",
   "name": "python",
   "nbconvert_exporter": "python",
   "pygments_lexer": "ipython3",
   "version": "3.8.10"
  },
  "toc": {
   "base_numbering": 1,
   "nav_menu": {},
   "number_sections": true,
   "sideBar": true,
   "skip_h1_title": false,
   "title_cell": "Table of Contents",
   "title_sidebar": "Contents",
   "toc_cell": false,
   "toc_position": {},
   "toc_section_display": true,
   "toc_window_display": false
  }
 },
 "nbformat": 4,
 "nbformat_minor": 5
}
