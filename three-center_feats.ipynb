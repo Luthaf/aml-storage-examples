{
 "cells": [
  {
   "cell_type": "code",
   "execution_count": 2,
   "id": "d2596616",
   "metadata": {},
   "outputs": [],
   "source": [
    "%load_ext autoreload\n",
    "%autoreload 2\n",
    "%load_ext line_profiler"
   ]
  },
  {
   "cell_type": "code",
   "execution_count": 2,
   "id": "341b09d0",
   "metadata": {},
   "outputs": [],
   "source": [
    "import numpy as np\n",
    "import scipy as sp\n",
    "import json\n",
    "import torch\n",
    "import ase.io as aseio\n",
    "torch.set_default_dtype(torch.float64)\n",
    "device=\"cpu\"\n",
    "\n",
    "from rascaline import SphericalExpansion, SphericalExpansionByPair\n",
    "from equistore import Labels, TensorBlock, TensorMap\n",
    "from equistore import operations\n",
    "\n",
    "from tqdm.notebook import tqdm\n",
    "from utils.builder import TensorBuilder\n",
    "import ase.io\n",
    "from itertools import product\n",
    "from utils.mp_utils import acdc_standardize_keys, cg_increment, cg_combine, _remove_suffix, flatten\n",
    "from utils.clebsh_gordan import ClebschGordanReal\n",
    "from utils.hamiltonians import hamiltonian_features\n",
    "import matplotlib.pyplot as plt\n",
    "\n",
    "import copy\n",
    "from utils.model_hamiltonian import *\n",
    "from itertools import product\n",
    "import tqdm.notebook as tqdm\n",
    "import chemiscope"
   ]
  },
  {
   "cell_type": "code",
   "execution_count": 3,
   "id": "bde7e214-6392-4107-b05f-2255f211ba14",
   "metadata": {},
   "outputs": [],
   "source": [
    "from generate_bispectrum_structures import generate_nu3_degen_structs"
   ]
  },
  {
   "cell_type": "markdown",
   "id": "ced22a1d-87bb-44a1-a22c-02b6efa3e56e",
   "metadata": {},
   "source": [
    "# Formal stuff"
   ]
  },
  {
   "cell_type": "markdown",
   "id": "2244715c-24e2-4c5b-945f-101d39014bbe",
   "metadata": {},
   "source": [
    "## $|\\overline{\\rho_{ii_1i_2i_3}; 00} \\rangle$ contains information on signed tetrahedra"
   ]
  },
  {
   "cell_type": "code",
   "execution_count": null,
   "id": "c91c0b9a-16c1-4812-83f4-83f77da08516",
   "metadata": {},
   "outputs": [],
   "source": []
  },
  {
   "cell_type": "code",
   "execution_count": null,
   "id": "15b5bbe4-ade6-4a82-be1e-ec506e7871d6",
   "metadata": {},
   "outputs": [],
   "source": []
  },
  {
   "cell_type": "markdown",
   "id": "fad9b382-5f3d-4a51-8690-0d9dec704f4b",
   "metadata": {},
   "source": [
    "## Three columns in the distance matrix (plus \"sign\" of the tetrahedra) are enough to reconstruct a structure"
   ]
  },
  {
   "cell_type": "code",
   "execution_count": 101,
   "id": "5a8cd084-5724-428e-978b-7eb65a3f0ee8",
   "metadata": {},
   "outputs": [],
   "source": [
    "x = np.random.normal(size=(8,3))"
   ]
  },
  {
   "cell_type": "code",
   "execution_count": 130,
   "id": "2b51da03-135d-43cc-959f-3cd4f44c685b",
   "metadata": {},
   "outputs": [],
   "source": [
    "G = x@x.T\n",
    "d2 = (x**2).sum(axis=1)\n",
    "D =  d2[np.newaxis,:]+d2[:,np.newaxis]-2*G"
   ]
  },
  {
   "cell_type": "code",
   "execution_count": 110,
   "id": "d0864a8d-f4af-4638-9f39-77db81a17d3e",
   "metadata": {},
   "outputs": [],
   "source": [
    "dslice = D[:,:3]"
   ]
  },
  {
   "cell_type": "code",
   "execution_count": 111,
   "id": "8d6f441a-3c3e-4a86-a83a-900117d1740c",
   "metadata": {},
   "outputs": [],
   "source": [
    "dblock = dslice[:3]"
   ]
  },
  {
   "cell_type": "code",
   "execution_count": 112,
   "id": "47367019-e6a7-4b3e-8425-e471531a1535",
   "metadata": {},
   "outputs": [],
   "source": [
    "ds = dblock.mean(axis=0)"
   ]
  },
  {
   "cell_type": "code",
   "execution_count": 118,
   "id": "e73bc650-f4fe-4af9-906e-0c6c4f8c8e37",
   "metadata": {},
   "outputs": [],
   "source": [
    "gblock = -(dblock - ds[:,np.newaxis] - ds[np.newaxis,:] + ds.mean())/2"
   ]
  },
  {
   "cell_type": "code",
   "execution_count": 128,
   "id": "88b7712b-8dd4-42f9-8402-c83814789991",
   "metadata": {},
   "outputs": [
    {
     "data": {
      "text/plain": [
       "array([[0.        , 3.00499282, 9.70219465],\n",
       "       [3.00499282, 0.        , 4.99862414],\n",
       "       [9.70219465, 4.99862414, 0.        ]])"
      ]
     },
     "execution_count": 128,
     "metadata": {},
     "output_type": "execute_result"
    }
   ],
   "source": [
    "dblock"
   ]
  },
  {
   "cell_type": "code",
   "execution_count": 120,
   "id": "467fa72b-0352-4e4e-8cdb-5a5ef623b1b2",
   "metadata": {},
   "outputs": [
    {
     "data": {
      "text/plain": [
       "array([[ 1.97097646,  0.33627581, -1.91844966],\n",
       "       [ 0.33627581,  1.70656798,  0.30113135],\n",
       "       [-1.91844966,  0.30113135,  3.89431887]])"
      ]
     },
     "execution_count": 120,
     "metadata": {},
     "output_type": "execute_result"
    }
   ],
   "source": [
    "x[:3] @ x[:3].T"
   ]
  },
  {
   "cell_type": "code",
   "execution_count": 143,
   "id": "b78e3ee5-75c5-4007-b1d4-bbd1251a5e1a",
   "metadata": {},
   "outputs": [],
   "source": [
    "v, u = np.linalg.eigh(gblock)"
   ]
  },
  {
   "cell_type": "code",
   "execution_count": 144,
   "id": "36f43e11-fb4f-4078-9006-e8f2e83e790c",
   "metadata": {},
   "outputs": [],
   "source": [
    "x123 = u*np.sqrt(v)\n",
    "x123 -= x123[0]"
   ]
  },
  {
   "cell_type": "code",
   "execution_count": 170,
   "id": "bff6110d-79c6-4c71-90b5-f2a4da56e98f",
   "metadata": {},
   "outputs": [],
   "source": [
    "def get_point(d, d1, d2, x1, y1, z1, x2, y2, z2):\n",
    "    # these are the two solutions, courtesy of mathematica, for point zero in the origin and points two and three in x1 and x2 ,,,\n",
    "    return (\n",
    "      ( (d*x2*y1**2 - d2*x2*y1**2 + x2**3*y1**2 - x1*y1*y2**3 + d*x2*z1**2 - d2*x2*z1**2 + x2**3*z1**2 - d*x1*z1*z2 + d2*x1*z1*z2 - d*x2*z1*z2 + d1*x2*z1*z2 - x1**2*x2*z1*z2 - x1*x2**2*z1*z2 - x2*y1**2*z1*z2 - x2*z1**3*z2 + d*x1*z2**2 - d1*x1*z2**2 + x1**3*z2**2 + x1*y1**2*z2**2 + x2*y1**2*z2**2 + x1*z1**2*z2**2 + x2*z1**2*z2**2 - x1*z1*z2**3 + y2**2*(d*x1 - d1*x1 + x1**3 + x1*y1**2 + x2*y1**2 + x1*z1**2 + x2*z1**2 - x1*z1*z2) - y1*y2*(-(d2*x1) - d1*x2 + d*(x1 + x2) + x2*(x1*(x1 + x2) + y1**2 + z1**2) + x1*z2**2) - np.sqrt(-((y2*z1 - y1*z2)**2*(d2**2*(x1**2 + y1**2 + z1**2) + d**2*((x1 - x2)**2 + (y1 - y2)**2 + (z1 - z2)**2) - 2*d1*d2*(x1*x2 + y1*y2 + z1*z2) + 2*d2*(x1**2 + y1**2 + z1**2)*((x1 - x2)*x2 + (y1 - y2)*y2 + (z1 - z2)*z2) + (x2**2 + y2**2 + z2**2)*(d1**2 + (x1**2 + y1**2 + z1**2)*((x1 - x2)**2 + (y1 - y2)**2 + (z1 - z2)**2) - 2*d1*(x1**2 - x1*x2 + y1**2 - y1*y2 + z1**2 - z1*z2)) - 2*d*(d2*(x1**2 - x1*x2 + y1**2 - y1*y2 + z1**2 - z1*z2) + ((x1 - x2)**2 + (y1 - y2)**2 + (z1 - z2)**2)*(x1*x2 + y1*y2 + z1*z2) + d1*(-(x1*x2) + x2**2 - y1*y2 + y2**2 - z1*z2 + z2**2))))))/(2.*(x2**2*(y1**2 + z1**2) + (y2*z1 - y1*z2)**2 - 2*x1*x2*(y1*y2 + z1*z2) + x1**2*(y2**2 + z2**2))),\n",
    "        (y2**4*z1*(x1**2 + z1**2) + d*x1*x2*y1**2*z2 - d2*x1*x2*y1**2*z2 - d*x2**2*y1**2*z2 + d1*x2**2*y1**2*z2 - x1**2*x2**2*y1**2*z2 + x1*x2**3*y1**2*z2 - x2**2*y1**4*z2 - x2**2*y1**2*z1**2*z2 + d*y1**2*z1*z2**2 - d2*y1**2*z1*z2**2 + x2**2*y1**2*z1*z2**2 - d*y1**2*z2**3 + d1*y1**2*z2**3 - x1**2*y1**2*z2**3 + x1*x2*y1**2*z2**3 - y1**4*z2**3 - y1**2*z1**2*z2**3 + y1**2*z1*z2**4 - y1*y2**3*(x1*x2*z1 + x1**2*z2 + 2*z1**2*z2) + y2**2*(-(x1*(d2*x1 + d*(-x1 + x2) + x2*(-d1 + x1**2 - x1*x2 + y1**2))*z1) + (d - d2 + x2*(-x1 + x2))*z1**3 - (-(x1*x2*y1**2) + (d - d1 + x1**2 + y1**2)*z1**2 + z1**4)*z2 + z1*(x1**2 + y1**2 + z1**2)*z2**2) + y1*y2*(x2*z1*(d2*x1 + d*(-x1 + x2) + x2*(-d1 + x1**2 - x1*x2 + y1**2 + z1**2)) + (x1*(d2*x1 + d*(-x1 + x2) + x2*(-d1 + x1**2 - x1*x2 + y1**2)) + (-2*d + 2*d2 + (x1 - 2*x2)*x2)*z1**2)*z2 + z1*(2*d - 2*d1 + x1*(2*x1 - x2) + 2*(y1**2 + z1**2))*z2**2 - (x1**2 + 2*z1**2)*z2**3) + x2*z1*np.sqrt(-((y2*z1 - y1*z2)**2*(d2**2*(x1**2 + y1**2 + z1**2) + d**2*((x1 - x2)**2 + (y1 - y2)**2 + (z1 - z2)**2) - 2*d1*d2*(x1*x2 + y1*y2 + z1*z2) + 2*d2*(x1**2 + y1**2 + z1**2)*((x1 - x2)*x2 + (y1 - y2)*y2 + (z1 - z2)*z2) + (x2**2 + y2**2 + z2**2)*(d1**2 + (x1**2 + y1**2 + z1**2)*((x1 - x2)**2 + (y1 - y2)**2 + (z1 - z2)**2) - 2*d1*(x1**2 - x1*x2 + y1**2 - y1*y2 + z1**2 - z1*z2)) - 2*d*(d2*(x1**2 - x1*x2 + y1**2 - y1*y2 + z1**2 - z1*z2) + ((x1 - x2)**2 + (y1 - y2)**2 + (z1 - z2)**2)*(x1*x2 + y1*y2 + z1*z2) + d1*(-(x1*x2) + x2**2 - y1*y2 + y2**2 - z1*z2 + z2**2))))) - x1*z2*np.sqrt(-((y2*z1 - y1*z2)**2*(d2**2*(x1**2 + y1**2 + z1**2) + d**2*((x1 - x2)**2 + (y1 - y2)**2 + (z1 - z2)**2) - 2*d1*d2*(x1*x2 + y1*y2 + z1*z2) + 2*d2*(x1**2 + y1**2 + z1**2)*((x1 - x2)*x2 + (y1 - y2)*y2 + (z1 - z2)*z2) + (x2**2 + y2**2 + z2**2)*(d1**2 + (x1**2 + y1**2 + z1**2)*((x1 - x2)**2 + (y1 - y2)**2 + (z1 - z2)**2) - 2*d1*(x1**2 - x1*x2 + y1**2 - y1*y2 + z1**2 - z1*z2)) - 2*d*(d2*(x1**2 - x1*x2 + y1**2 - y1*y2 + z1**2 - z1*z2) + ((x1 - x2)**2 + (y1 - y2)**2 + (z1 - z2)**2)*(x1*x2 + y1*y2 + z1*z2) + d1*(-(x1*x2) + x2**2 - y1*y2 + y2**2 - z1*z2 + z2**2))))))/(2.*(y2*z1 - y1*z2)*(x2**2*(y1**2 + z1**2) + (y2*z1 - y1*z2)**2 - 2*x1*x2*(y1*y2 + z1*z2) + x1**2*(y2**2 + z2**2))),\n",
    "        (-(y1*y2**4*z1**2) + d*x1*x2*y1*z1*z2 - d2*x1*x2*y1*z1*z2 - d*x2**2*y1*z1*z2 + d1*x2**2*y1*z1*z2 - x1**2*x2**2*y1*z1*z2 + x1*x2**3*y1*z1*z2 - x2**2*y1**3*z1*z2 - x2**2*y1*z1**3*z2 - d*x1**2*y1*z2**2 + d2*x1**2*y1*z2**2 + d*x1*x2*y1*z2**2 - d1*x1*x2*y1*z2**2 + x1**3*x2*y1*z2**2 - x1**2*x2**2*y1*z2**2 - d*y1**3*z2**2 + d2*y1**3*z2**2 + x1*x2*y1**3*z2**2 - x2**2*y1**3*z2**2 + x1*x2*y1*z1**2*z2**2 + x1*x2*y1*z1*z2**3 - x1**2*y1*z2**4 - y1**3*z2**4 + y2**3*z1*(z1*(d - d1 + x1**2 - x1*x2 + y1**2 + z1**2) + (x1**2 + 2*y1**2)*z2) + y1*y2**2*(-((d - d2 + x2**2)*z1**2) + z1*(-2*d + 2*d1 + x1*(-2*x1 + x2) - 2*(y1**2 + z1**2))*z2 - (x1**2 + y1**2 + z1**2)*z2**2) + y2*(x2*z1**2*(d2*x1 + d*(-x1 + x2) + x2*(-d1 + x1**2 - x1*x2 + y1**2 + z1**2)) - z1*(d2*(x1**2 + 2*y1**2) - d*(x1**2 - x1*x2 + 2*y1**2) + x2*(-(d1*x1) + x1**3 - x1**2*x2 - 2*x2*y1**2 + x1*(y1**2 + z1**2)))*z2 + (y1**2*(d - d1 + x1**2 + y1**2) + (-(x1*x2) + y1**2)*z1**2)*z2**2 + (x1**2 + 2*y1**2)*z1*z2**3) - x2*y1*np.sqrt(-((y2*z1 - y1*z2)**2*(d2**2*(x1**2 + y1**2 + z1**2) + d**2*((x1 - x2)**2 + (y1 - y2)**2 + (z1 - z2)**2) - 2*d1*d2*(x1*x2 + y1*y2 + z1*z2) + 2*d2*(x1**2 + y1**2 + z1**2)*((x1 - x2)*x2 + (y1 - y2)*y2 + (z1 - z2)*z2) + (x2**2 + y2**2 + z2**2)*(d1**2 + (x1**2 + y1**2 + z1**2)*((x1 - x2)**2 + (y1 - y2)**2 + (z1 - z2)**2) - 2*d1*(x1**2 - x1*x2 + y1**2 - y1*y2 + z1**2 - z1*z2)) - 2*d*(d2*(x1**2 - x1*x2 + y1**2 - y1*y2 + z1**2 - z1*z2) + ((x1 - x2)**2 + (y1 - y2)**2 + (z1 - z2)**2)*(x1*x2 + y1*y2 + z1*z2) + d1*(-(x1*x2) + x2**2 - y1*y2 + y2**2 - z1*z2 + z2**2))))) + x1*y2*np.sqrt(-((y2*z1 - y1*z2)**2*(d2**2*(x1**2 + y1**2 + z1**2) + d**2*((x1 - x2)**2 + (y1 - y2)**2 + (z1 - z2)**2) - 2*d1*d2*(x1*x2 + y1*y2 + z1*z2) + 2*d2*(x1**2 + y1**2 + z1**2)*((x1 - x2)*x2 + (y1 - y2)*y2 + (z1 - z2)*z2) + (x2**2 + y2**2 + z2**2)*(d1**2 + (x1**2 + y1**2 + z1**2)*((x1 - x2)**2 + (y1 - y2)**2 + (z1 - z2)**2) - 2*d1*(x1**2 - x1*x2 + y1**2 - y1*y2 + z1**2 - z1*z2)) - 2*d*(d2*(x1**2 - x1*x2 + y1**2 - y1*y2 + z1**2 - z1*z2) + ((x1 - x2)**2 + (y1 - y2)**2 + (z1 - z2)**2)*(x1*x2 + y1*y2 + z1*z2) + d1*(-(x1*x2) + x2**2 - y1*y2 + y2**2 - z1*z2 + z2**2))))))/(2.*(y2*z1 - y1*z2)*(x2**2*(y1**2 + z1**2) + (y2*z1 - y1*z2)**2 - 2*x1*x2*(y1*y2 + z1*z2) + x1**2*(y2**2 + z2**2)))\n",
    "      ),\n",
    "        ((d*x2*y1**2 - d2*x2*y1**2 + x2**3*y1**2 - x1*y1*y2**3 + d*x2*z1**2 - d2*x2*z1**2 + x2**3*z1**2 - d*x1*z1*z2 + d2*x1*z1*z2 - d*x2*z1*z2 + d1*x2*z1*z2 - x1**2*x2*z1*z2 - x1*x2**2*z1*z2 - x2*y1**2*z1*z2 - x2*z1**3*z2 + d*x1*z2**2 - d1*x1*z2**2 + x1**3*z2**2 + x1*y1**2*z2**2 + x2*y1**2*z2**2 + x1*z1**2*z2**2 + x2*z1**2*z2**2 - x1*z1*z2**3 + y2**2*(d*x1 - d1*x1 + x1**3 + x1*y1**2 + x2*y1**2 + x1*z1**2 + x2*z1**2 - x1*z1*z2) - y1*y2*(-(d2*x1) - d1*x2 + d*(x1 + x2) + x2*(x1*(x1 + x2) + y1**2 + z1**2) + x1*z2**2) + np.sqrt(-((y2*z1 - y1*z2)**2*(d2**2*(x1**2 + y1**2 + z1**2) + d**2*((x1 - x2)**2 + (y1 - y2)**2 + (z1 - z2)**2) - 2*d1*d2*(x1*x2 + y1*y2 + z1*z2) + 2*d2*(x1**2 + y1**2 + z1**2)*((x1 - x2)*x2 + (y1 - y2)*y2 + (z1 - z2)*z2) + (x2**2 + y2**2 + z2**2)*(d1**2 + (x1**2 + y1**2 + z1**2)*((x1 - x2)**2 + (y1 - y2)**2 + (z1 - z2)**2) - 2*d1*(x1**2 - x1*x2 + y1**2 - y1*y2 + z1**2 - z1*z2)) - 2*d*(d2*(x1**2 - x1*x2 + y1**2 - y1*y2 + z1**2 - z1*z2) + ((x1 - x2)**2 + (y1 - y2)**2 + (z1 - z2)**2)*(x1*x2 + y1*y2 + z1*z2) + d1*(-(x1*x2) + x2**2 - y1*y2 + y2**2 - z1*z2 + z2**2))))))/(2.*(x2**2*(y1**2 + z1**2) + (y2*z1 - y1*z2)**2 - 2*x1*x2*(y1*y2 + z1*z2) + x1**2*(y2**2 + z2**2))),\n",
    "        (y2**4*z1*(x1**2 + z1**2) + d*x1*x2*y1**2*z2 - d2*x1*x2*y1**2*z2 - d*x2**2*y1**2*z2 + d1*x2**2*y1**2*z2 - x1**2*x2**2*y1**2*z2 + x1*x2**3*y1**2*z2 - x2**2*y1**4*z2 - x2**2*y1**2*z1**2*z2 + d*y1**2*z1*z2**2 - d2*y1**2*z1*z2**2 + x2**2*y1**2*z1*z2**2 - d*y1**2*z2**3 + d1*y1**2*z2**3 - x1**2*y1**2*z2**3 + x1*x2*y1**2*z2**3 - y1**4*z2**3 - y1**2*z1**2*z2**3 + y1**2*z1*z2**4 - y1*y2**3*(x1*x2*z1 + x1**2*z2 + 2*z1**2*z2) + y2**2*(-(x1*(d2*x1 + d*(-x1 + x2) + x2*(-d1 + x1**2 - x1*x2 + y1**2))*z1) + (d - d2 + x2*(-x1 + x2))*z1**3 - (-(x1*x2*y1**2) + (d - d1 + x1**2 + y1**2)*z1**2 + z1**4)*z2 + z1*(x1**2 + y1**2 + z1**2)*z2**2) + y1*y2*(x2*z1*(d2*x1 + d*(-x1 + x2) + x2*(-d1 + x1**2 - x1*x2 + y1**2 + z1**2)) + (x1*(d2*x1 + d*(-x1 + x2) + x2*(-d1 + x1**2 - x1*x2 + y1**2)) + (-2*d + 2*d2 + (x1 - 2*x2)*x2)*z1**2)*z2 + z1*(2*d - 2*d1 + x1*(2*x1 - x2) + 2*(y1**2 + z1**2))*z2**2 - (x1**2 + 2*z1**2)*z2**3) - x2*z1*np.sqrt(-((y2*z1 - y1*z2)**2*(d2**2*(x1**2 + y1**2 + z1**2) + d**2*((x1 - x2)**2 + (y1 - y2)**2 + (z1 - z2)**2) - 2*d1*d2*(x1*x2 + y1*y2 + z1*z2) + 2*d2*(x1**2 + y1**2 + z1**2)*((x1 - x2)*x2 + (y1 - y2)*y2 + (z1 - z2)*z2) + (x2**2 + y2**2 + z2**2)*(d1**2 + (x1**2 + y1**2 + z1**2)*((x1 - x2)**2 + (y1 - y2)**2 + (z1 - z2)**2) - 2*d1*(x1**2 - x1*x2 + y1**2 - y1*y2 + z1**2 - z1*z2)) - 2*d*(d2*(x1**2 - x1*x2 + y1**2 - y1*y2 + z1**2 - z1*z2) + ((x1 - x2)**2 + (y1 - y2)**2 + (z1 - z2)**2)*(x1*x2 + y1*y2 + z1*z2) + d1*(-(x1*x2) + x2**2 - y1*y2 + y2**2 - z1*z2 + z2**2))))) + x1*z2*np.sqrt(-((y2*z1 - y1*z2)**2*(d2**2*(x1**2 + y1**2 + z1**2) + d**2*((x1 - x2)**2 + (y1 - y2)**2 + (z1 - z2)**2) - 2*d1*d2*(x1*x2 + y1*y2 + z1*z2) + 2*d2*(x1**2 + y1**2 + z1**2)*((x1 - x2)*x2 + (y1 - y2)*y2 + (z1 - z2)*z2) + (x2**2 + y2**2 + z2**2)*(d1**2 + (x1**2 + y1**2 + z1**2)*((x1 - x2)**2 + (y1 - y2)**2 + (z1 - z2)**2) - 2*d1*(x1**2 - x1*x2 + y1**2 - y1*y2 + z1**2 - z1*z2)) - 2*d*(d2*(x1**2 - x1*x2 + y1**2 - y1*y2 + z1**2 - z1*z2) + ((x1 - x2)**2 + (y1 - y2)**2 + (z1 - z2)**2)*(x1*x2 + y1*y2 + z1*z2) + d1*(-(x1*x2) + x2**2 - y1*y2 + y2**2 - z1*z2 + z2**2))))))/(2.*(y2*z1 - y1*z2)*(x2**2*(y1**2 + z1**2) + (y2*z1 - y1*z2)**2 - 2*x1*x2*(y1*y2 + z1*z2) + x1**2*(y2**2 + z2**2))),\n",
    "        (-(y1*y2**4*z1**2) + d*x1*x2*y1*z1*z2 - d2*x1*x2*y1*z1*z2 - d*x2**2*y1*z1*z2 + d1*x2**2*y1*z1*z2 - x1**2*x2**2*y1*z1*z2 + x1*x2**3*y1*z1*z2 - x2**2*y1**3*z1*z2 - x2**2*y1*z1**3*z2 - d*x1**2*y1*z2**2 + d2*x1**2*y1*z2**2 + d*x1*x2*y1*z2**2 - d1*x1*x2*y1*z2**2 + x1**3*x2*y1*z2**2 - x1**2*x2**2*y1*z2**2 - d*y1**3*z2**2 + d2*y1**3*z2**2 + x1*x2*y1**3*z2**2 - x2**2*y1**3*z2**2 + x1*x2*y1*z1**2*z2**2 + x1*x2*y1*z1*z2**3 - x1**2*y1*z2**4 - y1**3*z2**4 + y2**3*z1*(z1*(d - d1 + x1**2 - x1*x2 + y1**2 + z1**2) + (x1**2 + 2*y1**2)*z2) + y1*y2**2*(-((d - d2 + x2**2)*z1**2) + z1*(-2*d + 2*d1 + x1*(-2*x1 + x2) - 2*(y1**2 + z1**2))*z2 - (x1**2 + y1**2 + z1**2)*z2**2) + y2*(x2*z1**2*(d2*x1 + d*(-x1 + x2) + x2*(-d1 + x1**2 - x1*x2 + y1**2 + z1**2)) - z1*(d2*(x1**2 + 2*y1**2) - d*(x1**2 - x1*x2 + 2*y1**2) + x2*(-(d1*x1) + x1**3 - x1**2*x2 - 2*x2*y1**2 + x1*(y1**2 + z1**2)))*z2 + (y1**2*(d - d1 + x1**2 + y1**2) + (-(x1*x2) + y1**2)*z1**2)*z2**2 + (x1**2 + 2*y1**2)*z1*z2**3) + x2*y1*np.sqrt(-((y2*z1 - y1*z2)**2*(d2**2*(x1**2 + y1**2 + z1**2) + d**2*((x1 - x2)**2 + (y1 - y2)**2 + (z1 - z2)**2) - 2*d1*d2*(x1*x2 + y1*y2 + z1*z2) + 2*d2*(x1**2 + y1**2 + z1**2)*((x1 - x2)*x2 + (y1 - y2)*y2 + (z1 - z2)*z2) + (x2**2 + y2**2 + z2**2)*(d1**2 + (x1**2 + y1**2 + z1**2)*((x1 - x2)**2 + (y1 - y2)**2 + (z1 - z2)**2) - 2*d1*(x1**2 - x1*x2 + y1**2 - y1*y2 + z1**2 - z1*z2)) - 2*d*(d2*(x1**2 - x1*x2 + y1**2 - y1*y2 + z1**2 - z1*z2) + ((x1 - x2)**2 + (y1 - y2)**2 + (z1 - z2)**2)*(x1*x2 + y1*y2 + z1*z2) + d1*(-(x1*x2) + x2**2 - y1*y2 + y2**2 - z1*z2 + z2**2))))) - x1*y2*np.sqrt(-((y2*z1 - y1*z2)**2*(d2**2*(x1**2 + y1**2 + z1**2) + d**2*((x1 - x2)**2 + (y1 - y2)**2 + (z1 - z2)**2) - 2*d1*d2*(x1*x2 + y1*y2 + z1*z2) + 2*d2*(x1**2 + y1**2 + z1**2)*((x1 - x2)*x2 + (y1 - y2)*y2 + (z1 - z2)*z2) + (x2**2 + y2**2 + z2**2)*(d1**2 + (x1**2 + y1**2 + z1**2)*((x1 - x2)**2 + (y1 - y2)**2 + (z1 - z2)**2) - 2*d1*(x1**2 - x1*x2 + y1**2 - y1*y2 + z1**2 - z1*z2)) - 2*d*(d2*(x1**2 - x1*x2 + y1**2 - y1*y2 + z1**2 - z1*z2) + ((x1 - x2)**2 + (y1 - y2)**2 + (z1 - z2)**2)*(x1*x2 + y1*y2 + z1*z2) + d1*(-(x1*x2) + x2**2 - y1*y2 + y2**2 - z1*z2 + z2**2))))))/(2.*(y2*z1 - y1*z2)*(x2**2*(y1**2 + z1**2) + (y2*z1 - y1*z2)**2 - 2*x1*x2*(y1*y2 + z1*z2) + x1**2*(y2**2 + z2**2)))\n",
    "      )        \n",
    "    )"
   ]
  },
  {
   "cell_type": "code",
   "execution_count": 145,
   "id": "a8bcd69f-81cd-451f-aa02-99f77effee12",
   "metadata": {},
   "outputs": [
    {
     "data": {
      "text/plain": [
       "array([0., 0., 0.])"
      ]
     },
     "execution_count": 145,
     "metadata": {},
     "output_type": "execute_result"
    }
   ],
   "source": [
    "x123[0]"
   ]
  },
  {
   "cell_type": "code",
   "execution_count": 177,
   "id": "fd14b8f8-8453-48d5-9022-d6dc9aa7a2cc",
   "metadata": {},
   "outputs": [],
   "source": [
    "x4 = get_point(*dslice[4], *x123[1], *x123[2])[1]"
   ]
  },
  {
   "cell_type": "code",
   "execution_count": 178,
   "id": "c18fef75-0865-42a2-ba58-a89c24a18de5",
   "metadata": {},
   "outputs": [
    {
     "data": {
      "text/plain": [
       "array([[0.00000000e+00, 3.00499282e+00, 9.70219465e+00],\n",
       "       [3.00499282e+00, 8.88178420e-16, 4.99862414e+00],\n",
       "       [9.70219465e+00, 4.99862414e+00, 0.00000000e+00]])"
      ]
     },
     "execution_count": 178,
     "metadata": {},
     "output_type": "execute_result"
    }
   ],
   "source": [
    "x123_2 = (x123**2).sum(axis=1)\n",
    "x123_2[np.newaxis,:]+x123_2[:,np.newaxis]-2*x123@x123.T "
   ]
  },
  {
   "cell_type": "code",
   "execution_count": 179,
   "id": "07ecbea1-6998-40da-bb75-10e34ab0d438",
   "metadata": {},
   "outputs": [
    {
     "data": {
      "text/plain": [
       "array([[ 0.        ,  3.00499282,  9.70219465],\n",
       "       [ 3.00499282,  0.        ,  4.99862414],\n",
       "       [ 9.70219465,  4.99862414,  0.        ],\n",
       "       [ 0.49650506,  5.61413442, 12.83999347],\n",
       "       [ 2.09319481,  4.36996732,  6.55377846],\n",
       "       [ 0.48967531,  2.61896744,  7.02150939],\n",
       "       [ 7.9271811 ,  3.00056658, 14.59322356],\n",
       "       [ 1.10368855,  2.18249893,  5.34374775]])"
      ]
     },
     "execution_count": 179,
     "metadata": {},
     "output_type": "execute_result"
    }
   ],
   "source": [
    "dslice[:8]"
   ]
  },
  {
   "cell_type": "code",
   "execution_count": 180,
   "id": "c5543942-e8af-458a-8e45-66ba139d2281",
   "metadata": {},
   "outputs": [
    {
     "data": {
      "text/plain": [
       "array([[0.00000000e+00, 3.00499282e+00, 9.70219465e+00, 2.09319481e+00],\n",
       "       [3.00499282e+00, 8.88178420e-16, 4.99862414e+00, 4.36996732e+00],\n",
       "       [9.70219465e+00, 4.99862414e+00, 0.00000000e+00, 6.55377846e+00],\n",
       "       [2.09319481e+00, 4.36996732e+00, 6.55377846e+00, 0.00000000e+00]])"
      ]
     },
     "execution_count": 180,
     "metadata": {},
     "output_type": "execute_result"
    }
   ],
   "source": [
    "x1234 = np.vstack([x123,x4])\n",
    "x1234_2 = (x1234**2).sum(axis=1)\n",
    "x1234_2[np.newaxis,:]+x1234_2[:,np.newaxis]-2*x1234@x1234.T "
   ]
  },
  {
   "cell_type": "markdown",
   "id": "499d77a9-335f-46c3-a1f4-2dcd34577c7e",
   "metadata": {},
   "source": [
    "# Generates a bunch of degenerate pairs - closer or farther from being actually symmetric"
   ]
  },
  {
   "cell_type": "markdown",
   "id": "5b1d2d94-712a-4359-b0d1-07d751041b30",
   "metadata": {},
   "source": [
    "### Random Boron clusters"
   ]
  },
  {
   "cell_type": "code",
   "execution_count": 14,
   "id": "90a4ea4e-29c2-4a22-a08e-545f45745918",
   "metadata": {},
   "outputs": [
    {
     "data": {
      "application/vnd.jupyter.widget-view+json": {
       "model_id": "6c6807fc9a104a92b1c8d2ccf1f3f503",
       "version_major": 2,
       "version_minor": 0
      },
      "text/plain": [
       "HBox(children=(FloatProgress(value=0.0, max=1000.0), HTML(value='')))"
      ]
     },
     "metadata": {},
     "output_type": "display_data"
    },
    {
     "name": "stdout",
     "output_type": "stream",
     "text": [
      "\n"
     ]
    }
   ],
   "source": [
    "np.random.seed(12345)\n",
    "ngen = 1000\n",
    "frames = []\n",
    "for f in tqdm.tqdm(range(ngen)):\n",
    "    for i in range(10000):\n",
    "        r = np.random.uniform(0.5,2)\n",
    "        z1 = np.random.uniform(0.5,2)\n",
    "        z2 = np.random.uniform(1.5,1.8)\n",
    "        psi = np.random.uniform(0,np.pi)\n",
    "        phi1 = np.random.uniform(np.pi/6, np.pi)\n",
    "        phi2 = np.random.uniform(np.pi/6, np.pi)\n",
    "        fr = generate_nu3_degen_structs(r, [0, phi1, phi1+phi2], \n",
    "                                   psi, z1, z2, \"B\", \"B\", \"B\")\n",
    "        dist = fr[0].get_all_distances()\n",
    "        if dist[0,1:].min()>1.5 and dist[0,1:].max()<1.8 and dist[np.triu_indices(len(dist),1)].flatten().min()>1.2:\n",
    "            fr[0].info[\"pars\"] = str((f, \"+\")+(r, z1, z2, psi, phi1, phi2))\n",
    "            fr[1].info[\"pars\"] = str((f, \"-\")+(r, z1, z2, psi, phi1, phi2))\n",
    "            break\n",
    "    if (i>9990):\n",
    "        print(\"oops!\")\n",
    "    frames += fr"
   ]
  },
  {
   "cell_type": "code",
   "execution_count": 15,
   "id": "b9ff8512-2884-4f2d-ab6a-c3c33bb1b012",
   "metadata": {},
   "outputs": [
    {
     "data": {
      "application/vnd.jupyter.widget-view+json": {
       "model_id": "b6ce4a50093d425aabe82e8a213575cd",
       "version_major": 2,
       "version_minor": 0
      },
      "text/plain": [
       "StructureWidget(value='{\"meta\": {\"name\": \" \"}, \"settings\": {\"structure\": [{\"axes\": \"xyz\", \"keepOrientation\": t…"
      ]
     },
     "metadata": {},
     "output_type": "display_data"
    }
   ],
   "source": [
    "cs = chemiscope.show(frames=frames, mode=\"structure\", settings = {'structure': [{\n",
    "   'axes': 'xyz',\n",
    "   'keepOrientation': True,\n",
    "   'playbackDelay': 250}]})\n",
    "display(cs)"
   ]
  },
  {
   "cell_type": "code",
   "execution_count": 11,
   "id": "cedc4b0e-5805-4493-acc1-a35a773aba10",
   "metadata": {},
   "outputs": [
    {
     "data": {
      "text/plain": [
       "{'pars': \"(134, '+', 1.4825871197970235, 0.8846158597485543, 1.7298751760678024, 2.7704036169017265, 1.974960780990969, 2.2043863540648965)\"}"
      ]
     },
     "execution_count": 11,
     "metadata": {},
     "output_type": "execute_result"
    }
   ],
   "source": [
    "frames[134*2].info"
   ]
  },
  {
   "cell_type": "code",
   "execution_count": 12,
   "id": "7273047d-fa02-4e36-9ab6-4ab7f968b14c",
   "metadata": {},
   "outputs": [],
   "source": [
    "aseio.write(\"/tmp/b8.xyz\", frames)"
   ]
  },
  {
   "cell_type": "markdown",
   "id": "e7ed205a-f21d-46e2-95a7-ca9ade81d796",
   "metadata": {
    "jp-MarkdownHeadingCollapsed": true,
    "tags": []
   },
   "source": [
    "### Mg clusters"
   ]
  },
  {
   "cell_type": "code",
   "execution_count": 4,
   "id": "e57afe1c-33db-4cd3-b0eb-e0b16e0ed606",
   "metadata": {},
   "outputs": [],
   "source": [
    "frames_mg = []\n",
    "n1, n2, n3 = 8,8,8\n",
    "for psi in np.linspace(np.pi/6, np.pi*5/6, n1):\n",
    "    for dphi1 in np.linspace(np.pi*2/3 - 1.2, np.pi*2/3+0.4, n2):\n",
    "        for dphi2 in np.linspace(np.pi*2/3-0.7, np.pi*2/3+1.3, n3):\n",
    "            frames_mg += generate_nu3_degen_structs(2, [0, dphi1, dphi1+dphi2], \n",
    "                           psi, 1, np.sqrt(5), \"Mg\", \"Mg\", \"Mg\")"
   ]
  },
  {
   "cell_type": "code",
   "execution_count": 5,
   "id": "8d465436-a2e0-4d28-bb71-a22d23e97646",
   "metadata": {},
   "outputs": [],
   "source": [
    "# shuffles keeping pairs together for easier analysis\n",
    "idx = np.asarray(range(len(frames_mg)//2), dtype=int)\n",
    "np.random.shuffle(idx)\n",
    "nfr = []\n",
    "for i in idx:\n",
    "    nfr.append(frames_mg[2*i])\n",
    "    nfr.append(frames_mg[2*i+1])\n",
    "frames_mg = nfr"
   ]
  },
  {
   "cell_type": "code",
   "execution_count": 58,
   "id": "789b49ce-5d6c-4eb7-8b69-1eb7777cd309",
   "metadata": {},
   "outputs": [
    {
     "data": {
      "application/vnd.jupyter.widget-view+json": {
       "model_id": "7e8a9d10b4a940248b0ff1f78a8c4904",
       "version_major": 2,
       "version_minor": 0
      },
      "text/plain": [
       "StructureWidget(value='{\"meta\": {\"name\": \" \"}, \"settings\": {\"structure\": [{\"axes\": \"xyz\", \"keepOrientation\": t…"
      ]
     },
     "metadata": {},
     "output_type": "display_data"
    }
   ],
   "source": [
    "cs = chemiscope.show(frames=frames_mg, mode=\"structure\", settings = {'structure': [{\n",
    "   'axes': 'xyz',\n",
    "   'keepOrientation': True,\n",
    "   'playbackDelay': 250}]})\n",
    "display(cs)"
   ]
  },
  {
   "cell_type": "code",
   "execution_count": 66,
   "id": "e3f7a5f1-15dd-487c-b983-3bee10a5e885",
   "metadata": {},
   "outputs": [],
   "source": [
    "aseio.write(\"/tmp/mg8.xyz\", frames_mg)"
   ]
  },
  {
   "cell_type": "markdown",
   "id": "d915fea4-6873-4e5d-b14d-0d6c399373ea",
   "metadata": {},
   "source": [
    "# Compute raw expansion coefficients"
   ]
  },
  {
   "cell_type": "code",
   "execution_count": 177,
   "id": "fecba7a3-7431-40db-8e82-8d36d615ce5e",
   "metadata": {},
   "outputs": [
    {
     "name": "stderr",
     "output_type": "stream",
     "text": [
      "/home/michele/local/lib/python3.8/site-packages/rascaline/systems/ase.py:57: UserWarning: periodic boundary conditions are disabled, but the cell matrix is not zero, we will set the cell to zero.\n",
      "  warnings.warn(\n"
     ]
    }
   ],
   "source": [
    "hypers = {\n",
    "    \"cutoff\": 2.5,\n",
    "    \"max_radial\": 2,\n",
    "    \"max_angular\": 3,\n",
    "    \"atomic_gaussian_width\": 0.2,\n",
    "    \"radial_basis\": {\"Gto\": {}},\n",
    "    \"cutoff_function\": {\"ShiftedCosine\": {\"width\": 0.1}},\n",
    "    \"center_atom_weight\": 0.0,    \n",
    "}\n",
    "calculator = SphericalExpansion(**hypers)\n",
    "rhoi = calculator.compute(frames)\n",
    "rhoi = rhoi.keys_to_properties(['species_neighbor'])\n",
    "rho1i = acdc_standardize_keys(rhoi)\n",
    "\n",
    "# selects only one environment\n",
    "rho1i = operations.slice(rho1i, samples=Labels(['center'],np.array([[0]], np.int32)) )\n",
    "norm_rho1 = np.sqrt(np.sum([(b.values**2).sum(axis=(1,2)) for b in rho1i.blocks()],axis=0).mean())\n",
    "for b in rho1i.blocks():\n",
    "    b.values[:]/=norm_rho1"
   ]
  },
  {
   "cell_type": "code",
   "execution_count": 178,
   "id": "684640c5-d4fd-4386-b34e-c4a48ae17eb5",
   "metadata": {},
   "outputs": [
    {
     "data": {
      "text/plain": [
       "TensorMap with 4 blocks\n",
       "keys: ['order_nu' 'inversion_sigma' 'spherical_harmonics_l' 'species_center']\n",
       "           1             1                    0                   5\n",
       "           1             1                    1                   5\n",
       "           1             1                    2                   5\n",
       "           1             1                    3                   5"
      ]
     },
     "execution_count": 178,
     "metadata": {},
     "output_type": "execute_result"
    }
   ],
   "source": [
    "rho1i"
   ]
  },
  {
   "cell_type": "code",
   "execution_count": 179,
   "id": "3f129e6b-5637-4c28-9e7b-7e42590ada09",
   "metadata": {},
   "outputs": [
    {
     "data": {
      "text/plain": [
       "TensorBlock\n",
       "    samples: ['structure', 'center']\n",
       "    component: ['spherical_harmonics_m']\n",
       "    properties: ['species_neighbor_1', 'n_1']\n",
       "    gradients: no"
      ]
     },
     "execution_count": 179,
     "metadata": {},
     "output_type": "execute_result"
    }
   ],
   "source": [
    "rho1i.block(0)"
   ]
  },
  {
   "cell_type": "code",
   "execution_count": 180,
   "id": "2e1af8b8-4a20-4de5-88ea-ea50e0790334",
   "metadata": {},
   "outputs": [],
   "source": [
    "calculator = SphericalExpansionByPair(**hypers)\n",
    "gij = calculator.compute(frames)\n",
    "gij = operations.slice(gij, samples=Labels(['first_atom'],np.array([[0]], np.int32)) )\n",
    "gij =  acdc_standardize_keys(gij)\n",
    "for b in gij.blocks():\n",
    "    b.values[:]/=norm_rho1"
   ]
  },
  {
   "cell_type": "code",
   "execution_count": 181,
   "id": "8da710fd-4c55-4623-b9fc-30f17798ec0b",
   "metadata": {},
   "outputs": [
    {
     "data": {
      "text/plain": [
       "TensorMap with 4 blocks\n",
       "keys: ['order_nu' 'inversion_sigma' 'spherical_harmonics_l' 'species_center' 'species_neighbor']\n",
       "           1             1                    0                   5                5\n",
       "           1             1                    1                   5                5\n",
       "           1             1                    2                   5                5\n",
       "           1             1                    3                   5                5"
      ]
     },
     "execution_count": 181,
     "metadata": {},
     "output_type": "execute_result"
    }
   ],
   "source": [
    "gij"
   ]
  },
  {
   "cell_type": "code",
   "execution_count": 182,
   "id": "5cb2e076-f78e-4b76-8ec7-a07cbeb95078",
   "metadata": {},
   "outputs": [
    {
     "data": {
      "text/plain": [
       "TensorBlock\n",
       "    samples: ['structure', 'center', 'neighbor']\n",
       "    component: ['spherical_harmonics_m']\n",
       "    properties: ['n_1']\n",
       "    gradients: no"
      ]
     },
     "execution_count": 182,
     "metadata": {},
     "output_type": "execute_result"
    }
   ],
   "source": [
    "gij.block(0)"
   ]
  },
  {
   "cell_type": "markdown",
   "id": "ce6b656b-3ac0-4c0f-bdc6-738cc83bac4f",
   "metadata": {},
   "source": [
    "## Test there is consistency at the level of rhoij and gij"
   ]
  },
  {
   "cell_type": "code",
   "execution_count": 183,
   "id": "baba8d3a-c76e-4917-b5d1-a8c37cdca2db",
   "metadata": {},
   "outputs": [],
   "source": [
    "test = operations.sum_over_samples(gij, samples_names=[\"neighbor\"]) "
   ]
  },
  {
   "cell_type": "code",
   "execution_count": 184,
   "id": "34ab27e7-36cf-46de-9248-35708fc82826",
   "metadata": {},
   "outputs": [],
   "source": [
    "test.block(1).values;"
   ]
  },
  {
   "cell_type": "code",
   "execution_count": 185,
   "id": "d09a00ff-b0fb-41b3-ba31-e2d1c6537201",
   "metadata": {},
   "outputs": [
    {
     "data": {
      "text/plain": [
       "2.4600748568961446e-12"
      ]
     },
     "execution_count": 185,
     "metadata": {},
     "output_type": "execute_result"
    }
   ],
   "source": [
    "np.linalg.norm(rho1i.block(1).values/test.block(1).values -1)"
   ]
  },
  {
   "cell_type": "markdown",
   "id": "a84fd6a5-e916-45a1-8f69-4b1c2bbc04f5",
   "metadata": {},
   "source": [
    "# Now compute the correlation stuff!"
   ]
  },
  {
   "cell_type": "code",
   "execution_count": 186,
   "id": "fef55fd3",
   "metadata": {},
   "outputs": [],
   "source": [
    "cg = ClebschGordanReal(5)"
   ]
  },
  {
   "cell_type": "markdown",
   "id": "0ec41731-52da-452d-a1e3-5872509655df",
   "metadata": {},
   "source": [
    "## pair features"
   ]
  },
  {
   "cell_type": "code",
   "execution_count": 187,
   "id": "03e4745f",
   "metadata": {},
   "outputs": [
    {
     "name": "stdout",
     "output_type": "stream",
     "text": [
      "CPU times: user 42.3 s, sys: 6.41 s, total: 48.8 s\n",
      "Wall time: 1min 36s\n"
     ]
    }
   ],
   "source": [
    "%%time\n",
    "rhoii1i2_nu0 = cg_combine(gij, gij, clebsch_gordan=cg, other_keys_match=['species_center'], lcut=3)"
   ]
  },
  {
   "cell_type": "code",
   "execution_count": 199,
   "id": "10298778",
   "metadata": {},
   "outputs": [
    {
     "name": "stdout",
     "output_type": "stream",
     "text": [
      "CPU times: user 16.3 s, sys: 7.1 s, total: 23.4 s\n",
      "Wall time: 23.4 s\n"
     ]
    }
   ],
   "source": [
    "%%time \n",
    "rhoii1i2_nu1 =  cg_combine(rho1i, rhoii1i2_nu0, clebsch_gordan=cg, other_keys_match = ['species_center'], lcut=0)"
   ]
  },
  {
   "cell_type": "markdown",
   "id": "7d789a6c-9b1a-4c61-af57-7000fb312349",
   "metadata": {},
   "source": [
    "### sanity checks"
   ]
  },
  {
   "cell_type": "code",
   "execution_count": 189,
   "id": "1bc28f4e-d0b4-4de3-859b-7da8ee8f9963",
   "metadata": {},
   "outputs": [],
   "source": [
    "# nb: we disable lexicographic sorting of L to have comparable feature layout\n",
    "rho2i_full = cg_combine(rho1i, rho1i, clebsch_gordan=cg, lcut=3, sorted_l=False)\n",
    "test = operations.sum_over_samples(rhoii1i2_nu0, samples_names=[\"neighbor_1\", \"neighbor_2\"]) "
   ]
  },
  {
   "cell_type": "code",
   "execution_count": 190,
   "id": "6e8f0053-09a1-4761-a5a0-b461cb508614",
   "metadata": {},
   "outputs": [
    {
     "data": {
      "text/plain": [
       "2.116282603547629e-09"
      ]
     },
     "execution_count": 190,
     "metadata": {},
     "output_type": "execute_result"
    }
   ],
   "source": [
    "np.linalg.norm(rho2i_full.block(2).values/test.block(2).values-1)"
   ]
  },
  {
   "cell_type": "markdown",
   "id": "c36797a2-a0ca-4064-87c0-7074cf225e44",
   "metadata": {},
   "source": [
    "## higher-order "
   ]
  },
  {
   "cell_type": "code",
   "execution_count": 200,
   "id": "a11b404f",
   "metadata": {},
   "outputs": [
    {
     "name": "stdout",
     "output_type": "stream",
     "text": [
      "CPU times: user 21 s, sys: 6.93 s, total: 27.9 s\n",
      "Wall time: 28 s\n"
     ]
    }
   ],
   "source": [
    "%%time\n",
    "# here we use all tricks to reduce cost\n",
    "rho2i = cg_increment(rho1i, rho1i, clebsch_gordan=cg, lcut=3)\n",
    "rho3i = cg_increment(rho2i, rho1i, clebsch_gordan=cg, lcut=3)\n",
    "rho4i = cg_increment(rho3i, rho1i, clebsch_gordan=cg, lcut=3)\n",
    "rho5i = cg_increment(rho4i, rho1i, clebsch_gordan=cg, lcut=0)"
   ]
  },
  {
   "cell_type": "code",
   "execution_count": 192,
   "id": "d828a167-e710-4646-9941-8e231f15f20b",
   "metadata": {},
   "outputs": [
    {
     "name": "stdout",
     "output_type": "stream",
     "text": [
      "CPU times: user 7 µs, sys: 0 ns, total: 7 µs\n",
      "Wall time: 12.9 µs\n"
     ]
    }
   ],
   "source": [
    "%%time \n",
    "#rho5il1 = cg_increment(rho4i, rho1i, clebsch_gordan=cg, lcut=1)"
   ]
  },
  {
   "cell_type": "code",
   "execution_count": 193,
   "id": "42677e82-3956-4c3a-a9ba-e3f386bbcb7c",
   "metadata": {},
   "outputs": [
    {
     "name": "stdout",
     "output_type": "stream",
     "text": [
      "CPU times: user 7 µs, sys: 0 ns, total: 7 µs\n",
      "Wall time: 13.1 µs\n"
     ]
    }
   ],
   "source": [
    "%time \n",
    "#rho6il1 = cg_increment(rho5il1, rho1i, clebsch_gordan=cg, lcut=1)"
   ]
  },
  {
   "cell_type": "code",
   "execution_count": 194,
   "id": "c2aa90d4-960b-4566-aa74-ec913726147d",
   "metadata": {},
   "outputs": [
    {
     "name": "stdout",
     "output_type": "stream",
     "text": [
      "CPU times: user 0 ns, sys: 7 µs, total: 7 µs\n",
      "Wall time: 14.1 µs\n"
     ]
    }
   ],
   "source": [
    "%time \n",
    "#rho7i = cg_increment(rho6il1, rho1i, clebsch_gordan=cg, lcut=0, filter_sigma=[1])"
   ]
  },
  {
   "cell_type": "markdown",
   "id": "3169eb52-97e8-4cc6-87f0-52664255ee7d",
   "metadata": {},
   "source": [
    "Since we have a LOT of features and few structures, we use PCA to reduce the number of features with no information loss"
   ]
  },
  {
   "cell_type": "code",
   "execution_count": 203,
   "id": "641fbfd9-aca1-48d9-a29e-ab21aacf3413",
   "metadata": {},
   "outputs": [],
   "source": [
    "from sklearn.decomposition import PCA"
   ]
  },
  {
   "cell_type": "code",
   "execution_count": 204,
   "id": "a1e825e6-0bcf-4531-b7a0-3795a609a8a9",
   "metadata": {},
   "outputs": [
    {
     "data": {
      "text/plain": [
       "[<matplotlib.lines.Line2D at 0x7f58016381c0>]"
      ]
     },
     "execution_count": 204,
     "metadata": {},
     "output_type": "execute_result"
    },
    {
     "data": {
      "image/png": "[encoded data removed]",
      "text/plain": [
       "<Figure size 432x288 with 1 Axes>"
      ]
     },
     "metadata": {
      "needs_background": "light"
     },
     "output_type": "display_data"
    }
   ],
   "source": [
    "plt.plot(rhoii1i2_nu1.block(0).values.squeeze()[:64].sum(axis=0)*2e3,'r-')\n",
    "plt.plot(rho3i.block(inversion_sigma=1,spherical_harmonics_l=0).values.squeeze()[0], 'b--')"
   ]
  },
  {
   "cell_type": "code",
   "execution_count": 201,
   "id": "573a8a82-6ba3-4b58-aae0-0676dcbe5a54",
   "metadata": {},
   "outputs": [
    {
     "data": {
      "text/plain": [
       "TensorMap with 2 blocks\n",
       "keys: ['order_nu' 'inversion_sigma' 'spherical_harmonics_l' 'species_center' 'species_neighbor_a' 'species_neighbor_b']\n",
       "           3             1                    0                   5                 5                   5\n",
       "           3            -1                    0                   5                 5                   5"
      ]
     },
     "execution_count": 201,
     "metadata": {},
     "output_type": "execute_result"
    }
   ],
   "source": [
    "rhoii1i2_nu1"
   ]
  },
  {
   "cell_type": "code",
   "execution_count": 234,
   "id": "a4199b01-c90f-4dda-9c23-0a39e20b0f75",
   "metadata": {},
   "outputs": [],
   "source": [
    "triplet_samples = rhoii1i2_nu1.block(0).samples\n",
    "raw = np.hstack([rhoii1i2_nu1.block(0).values.squeeze(), rhoii1i2_nu1.block(1).values.squeeze()])\n",
    "feats_n2nu1 = torch.tensor(PCA(n_components=min(raw.shape[0],raw.shape[-1])).fit_transform(raw))\n",
    "feats_n2nu1 /= np.sqrt((feats_n2nu1**2).sum(axis=1).mean())"
   ]
  },
  {
   "cell_type": "code",
   "execution_count": 206,
   "id": "9ab5bb5d-2ab7-4abc-a99a-463723c5545b",
   "metadata": {},
   "outputs": [],
   "source": [
    "raw = np.hstack([\n",
    "    rho1i.block(inversion_sigma=1,spherical_harmonics_l=0).values.squeeze(),\n",
    "    rho2i.block(inversion_sigma=1,spherical_harmonics_l=0).values.squeeze(),\n",
    "    rho3i.block(inversion_sigma=1,spherical_harmonics_l=0).values.squeeze(),\n",
    "    rho3i.block(inversion_sigma=-1,spherical_harmonics_l=0).values.squeeze()\n",
    "])\n",
    "feats_nu123 = torch.tensor(PCA(n_components=min(raw.shape[0],raw.shape[-1])).fit_transform(raw) / np.sqrt((raw**2).sum(axis=1).mean()))"
   ]
  },
  {
   "cell_type": "code",
   "execution_count": 208,
   "id": "95294e92-1170-42df-941a-c602cd2daba6",
   "metadata": {},
   "outputs": [],
   "source": [
    "raw = np.hstack([\n",
    "    rho1i.block(inversion_sigma=1,spherical_harmonics_l=0).values.squeeze(),\n",
    "    rho2i.block(inversion_sigma=1,spherical_harmonics_l=0).values.squeeze(),\n",
    "    rho3i.block(inversion_sigma=1,spherical_harmonics_l=0).values.squeeze(),\n",
    "    rho3i.block(inversion_sigma=-1,spherical_harmonics_l=0).values.squeeze(),\n",
    "    rho4i.block(inversion_sigma=1,spherical_harmonics_l=0).values.squeeze(),\n",
    "    rho4i.block(inversion_sigma=-1,spherical_harmonics_l=0).values.squeeze(),\n",
    "    rho5i.block(inversion_sigma=1,spherical_harmonics_l=0).values.squeeze(),\n",
    "    rho5i.block(inversion_sigma=-1,spherical_harmonics_l=0).values.squeeze()\n",
    "])\n",
    "feats_nu12345 = torch.tensor(PCA(n_components=min(raw.shape[0],raw.shape[-1])).fit_transform(raw) / np.sqrt((raw**2).sum(axis=1).mean()))"
   ]
  },
  {
   "cell_type": "code",
   "execution_count": 209,
   "id": "2080f6da-7cfc-4ff8-9938-208bd10ef745",
   "metadata": {},
   "outputs": [
    {
     "name": "stdout",
     "output_type": "stream",
     "text": [
      "tensor(38)\n"
     ]
    },
    {
     "data": {
      "image/png": "[encoded data removed]",
      "text/plain": [
       "<Figure size 432x288 with 1 Axes>"
      ]
     },
     "metadata": {
      "needs_background": "light"
     },
     "output_type": "display_data"
    }
   ],
   "source": [
    "deltas = np.sqrt(((feats_nu12345[::2]-feats_nu12345[1::2])**2).sum(axis=1))/np.sqrt(((feats_nu12345[::2]+feats_nu12345[1::2])**2).sum(axis=1))\n",
    "plt.plot(deltas )\n",
    "print(deltas.argmax())"
   ]
  },
  {
   "cell_type": "code",
   "execution_count": 210,
   "id": "62aad3a0-b6be-405f-b527-52e13e11326a",
   "metadata": {},
   "outputs": [
    {
     "data": {
      "application/vnd.jupyter.widget-view+json": {
       "model_id": "4d614db43d044b30b8de0fd780ca2f1a",
       "version_major": 2,
       "version_minor": 0
      },
      "text/plain": [
       "ChemiscopeWidget(value='{\"meta\": {\"name\": \" \"}, \"settings\": {\"structure\": [{\"axes\": \"xyz\", \"keepOrientation\": …"
      ]
     },
     "metadata": {},
     "output_type": "display_data"
    }
   ],
   "source": [
    "cs = chemiscope.show(frames=frames, properties = { \n",
    " \"feats12345\":    feats_nu12345[:,:8].numpy(),\n",
    " \"type\" : [i%2 for i in range(len(frames))],\n",
    " \"deltas\" : [deltas[i//2]   for i in range(len(frames)) ],\n",
    " \"pars\" : [f.info[\"pars\"] for f in frames]   \n",
    "}\n",
    "                     , settings = {'structure': [{\n",
    "   'axes': 'xyz',\n",
    "   'keepOrientation': True,\n",
    "   'playbackDelay': 250}]})\n",
    "display(cs)"
   ]
  },
  {
   "cell_type": "code",
   "execution_count": 201,
   "id": "28966a98-1820-4125-b305-c2b8ee98ccd4",
   "metadata": {},
   "outputs": [
    {
     "data": {
      "text/plain": [
       "[<matplotlib.lines.Line2D at 0x7fe3c19bcd30>]"
      ]
     },
     "execution_count": 201,
     "metadata": {},
     "output_type": "execute_result"
    },
    {
     "data": {
      "image/png": "[encoded data removed]",
      "text/plain": [
       "<Figure size 432x288 with 1 Axes>"
      ]
     },
     "metadata": {
      "needs_background": "light"
     },
     "output_type": "display_data"
    }
   ],
   "source": [
    "plt.plot(feats_nu12345[14])\n",
    "plt.plot(feats_nu12345[15])"
   ]
  },
  {
   "cell_type": "code",
   "execution_count": 206,
   "id": "6ed18077-abac-447f-aadf-08e107cdd32f",
   "metadata": {},
   "outputs": [
    {
     "data": {
      "text/plain": [
       "[<matplotlib.lines.Line2D at 0x7fe3c1af87f0>]"
      ]
     },
     "execution_count": 206,
     "metadata": {},
     "output_type": "execute_result"
    },
    {
     "data": {
      "image/png": "[encoded data removed]",
      "text/plain": [
       "<Figure size 432x288 with 1 Axes>"
      ]
     },
     "metadata": {
      "needs_background": "light"
     },
     "output_type": "display_data"
    }
   ],
   "source": [
    "plt.plot(feats_nu12345[220]-feats_nu12345[221])"
   ]
  },
  {
   "cell_type": "code",
   "execution_count": 203,
   "id": "5a70c59b-c86f-41b2-a384-9f75fecfd926",
   "metadata": {},
   "outputs": [
    {
     "data": {
      "text/plain": [
       "[<matplotlib.lines.Line2D at 0x7fe3c18959d0>]"
      ]
     },
     "execution_count": 203,
     "metadata": {},
     "output_type": "execute_result"
    },
    {
     "data": {
      "image/png": "[encoded data removed]",
      "text/plain": [
       "<Figure size 432x288 with 1 Axes>"
      ]
     },
     "metadata": {
      "needs_background": "light"
     },
     "output_type": "display_data"
    }
   ],
   "source": [
    "plt.plot(feats_nu123[::2,7], feats_nu123[::2,8], 'b.')\n",
    "plt.plot(feats_nu123[1::2,7], feats_nu123[1::2,8], 'rx')"
   ]
  },
  {
   "cell_type": "code",
   "execution_count": 204,
   "id": "8f4ef6fe-bae7-4dc9-90c9-b52b141978d4",
   "metadata": {},
   "outputs": [
    {
     "data": {
      "text/plain": [
       "[<matplotlib.lines.Line2D at 0x7fe3c1bc4f10>]"
      ]
     },
     "execution_count": 204,
     "metadata": {},
     "output_type": "execute_result"
    },
    {
     "data": {
      "image/png": "[encoded data removed]",
      "text/plain": [
       "<Figure size 432x288 with 1 Axes>"
      ]
     },
     "metadata": {
      "needs_background": "light"
     },
     "output_type": "display_data"
    }
   ],
   "source": [
    "plt.plot(feats_nu12345[::2,2], feats_nu12345[::2,3], 'b.')\n",
    "plt.plot(feats_nu12345[1::2,2], feats_nu12345[1::2,3], 'rx')"
   ]
  },
  {
   "cell_type": "code",
   "execution_count": 211,
   "id": "10199ba6-e2e5-4bfc-a873-5678444055a2",
   "metadata": {},
   "outputs": [
    {
     "data": {
      "text/plain": [
       "[<matplotlib.lines.Line2D at 0x7f58101f6580>]"
      ]
     },
     "execution_count": 211,
     "metadata": {},
     "output_type": "execute_result"
    },
    {
     "data": {
      "image/png": "[encoded data removed]",
      "text/plain": [
       "<Figure size 432x288 with 1 Axes>"
      ]
     },
     "metadata": {
      "needs_background": "light"
     },
     "output_type": "display_data"
    }
   ],
   "source": [
    "plt.plot(feats_nu12345[::2,8], feats_nu12345[::2,9], 'b.')\n",
    "plt.plot(feats_nu12345[1::2,8], feats_nu12345[1::2,9], 'rx')"
   ]
  },
  {
   "cell_type": "markdown",
   "id": "7057a862-3261-464d-8060-9116b8415338",
   "metadata": {},
   "source": [
    "# Now we make an autoencoder thingie"
   ]
  },
  {
   "cell_type": "code",
   "execution_count": 212,
   "id": "1ba29c23-da18-4d6a-8b0e-1491268db39f",
   "metadata": {},
   "outputs": [],
   "source": [
    "def StructureMap(samples_structure, device=\"cpu\"):\n",
    "    unique_structures, unique_structures_idx = np.unique(\n",
    "        samples_structure, return_index=True\n",
    "    )\n",
    "    new_samples = samples_structure[np.sort(unique_structures_idx)]\n",
    "    # we need a list keeping track of where each atomic contribution goes\n",
    "    # (e.g. if structure ids are [3,3,3,1,1,1,6,6,6] that will be stored as\n",
    "    # the unique structures [3, 1, 6], structure_map will be\n",
    "    # [0,0,0,1,1,1,2,2,2]\n",
    "    replace_rule = dict(zip(unique_structures, range(len(unique_structures))))\n",
    "    structure_map = torch.tensor(\n",
    "        [replace_rule[i] for i in samples_structure],\n",
    "        dtype=torch.long,\n",
    "        device=device,\n",
    "    )\n",
    "    return structure_map, new_samples, replace_rule"
   ]
  },
  {
   "cell_type": "code",
   "execution_count": 213,
   "id": "7067c569-c37a-45a0-931f-5b12321f9040",
   "metadata": {},
   "outputs": [],
   "source": [
    "class LinearEncodeDecode(torch.nn.Module):\n",
    "    def __init__(self, layer_size=100, feat_size=32, output_size=32):\n",
    "        super().__init__()\n",
    "\n",
    "        self.nn_encode = None\n",
    "        self.nn_decode = None\n",
    "        self.layer_size = layer_size \n",
    "        self.feat_size = feat_size\n",
    "        self.output_size= output_size        \n",
    "\n",
    "    def initialize_model_weights(self, block, seed):\n",
    "        if seed is not None:\n",
    "            torch.manual_seed(seed)\n",
    "\n",
    "        X = block\n",
    "\n",
    "        # initialize nn with zero weights ??\n",
    "        def init_zero_weights(m):\n",
    "            if isinstance(m, torch.nn.Linear):\n",
    "                m.weight.data.fill_(0)\n",
    "                m.bias.data.fill_(0)\n",
    "\n",
    "        self.nn_encode = torch.nn.Sequential(\n",
    "            torch.nn.Linear(X.shape[-1], self.feat_size))\n",
    "        self.nn_decode = torch.nn.Sequential(\n",
    "            torch.nn.Linear(self.feat_size, self.layer_size),\n",
    "            torch.nn.GroupNorm(4,self.layer_size),\n",
    "            torch.nn.Tanh(),\n",
    "            torch.nn.Linear(self.layer_size, self.layer_size),\n",
    "            torch.nn.GroupNorm(4,self.layer_size),\n",
    "            torch.nn.Tanh(),\n",
    "            torch.nn.Linear(self.layer_size, self.output_size),            \n",
    "        )\n",
    "    \n",
    "    def feats(self, block, samples):\n",
    "        tensor = block\n",
    "\n",
    "        structure_map, new_samples, _ = StructureMap(\n",
    "            samples, \"cpu\"\n",
    "        )\n",
    "        \n",
    "        nn_per_triple = self.nn_encode(tensor)\n",
    "        nn_per_structure = torch.zeros((len(new_samples), nn_per_triple.shape[-1]), device=tensor.device)\n",
    "        nn_per_structure.index_add_(0, structure_map, nn_per_triple)\n",
    "        return nn_per_structure\n",
    "        \n",
    "    def forward(self, block, samples):\n",
    "        if self.nn_encode is None:\n",
    "            raise Exception(\"call initialize_weights first\")\n",
    "\n",
    "        outputs = self.nn_decode(self.feats(block, samples))\n",
    "        return outputs"
   ]
  },
  {
   "cell_type": "code",
   "execution_count": 261,
   "id": "ac25a569-9d2a-48c6-9f12-03225436269d",
   "metadata": {},
   "outputs": [],
   "source": [
    "class EncodeDecode(torch.nn.Module):\n",
    "    def __init__(self, layer_size=100, feat_size=32, output_size=32):\n",
    "        super().__init__()\n",
    "\n",
    "        self.nn_encode = None\n",
    "        self.nn_decode = None\n",
    "        self.feat_size = feat_size\n",
    "        self.layer_size = layer_size        \n",
    "        self.output_size= output_size        \n",
    "\n",
    "    def initialize_model_weights(self, block, seed):\n",
    "        if seed is not None:\n",
    "            torch.manual_seed(seed)\n",
    "\n",
    "        X = block\n",
    "\n",
    "        # initialize nn with zero weights ??\n",
    "        def init_zero_weights(m):\n",
    "            if isinstance(m, torch.nn.Linear):\n",
    "                m.weight.data.fill_(0)\n",
    "                m.bias.data.fill_(0)\n",
    "\n",
    "        self.nn_encode = torch.nn.Sequential(\n",
    "            \n",
    "            torch.nn.Linear(X.shape[-1], self.layer_size),\n",
    "            torch.nn.GroupNorm(4,self.layer_size),\n",
    "            torch.nn.Tanh(),\n",
    "            torch.nn.Linear(self.layer_size, self.layer_size),\n",
    "            torch.nn.GroupNorm(4,self.layer_size),\n",
    "            torch.nn.Tanh(),\n",
    "            torch.nn.Linear(self.layer_size, self.feat_size))\n",
    "        self.nn_decode = torch.nn.Sequential(\n",
    "            torch.nn.Linear(self.feat_size, self.layer_size),\n",
    "            torch.nn.GroupNorm(4,self.layer_size),\n",
    "            torch.nn.Tanh(),\n",
    "            torch.nn.Linear(self.layer_size, self.layer_size),\n",
    "            torch.nn.GroupNorm(4,self.layer_size),\n",
    "            torch.nn.Tanh(),\n",
    "            torch.nn.Linear(self.layer_size, self.output_size),            \n",
    "        )\n",
    "\n",
    "    def feats(self, block, samples):\n",
    "        tensor = block\n",
    "\n",
    "        structure_map, new_samples, _ = StructureMap(\n",
    "            samples, \"cpu\"\n",
    "        )\n",
    "        \n",
    "        nn_per_triple = self.nn_encode(tensor)\n",
    "        nn_per_structure = torch.zeros((len(new_samples), nn_per_triple.shape[-1]), device=tensor.device)\n",
    "        nn_per_structure.index_add_(0, structure_map, nn_per_triple)\n",
    "        return nn_per_structure\n",
    "        \n",
    "    def forward(self, block, samples):\n",
    "        if self.nn_encode is None:\n",
    "            raise Exception(\"call initialize_weights first\")\n",
    "\n",
    "        outputs = self.nn_decode(self.feats(block, samples))\n",
    "        return outputs"
   ]
  },
  {
   "cell_type": "code",
   "execution_count": 241,
   "id": "e143c081-3127-47c8-bb82-886d04ef3915",
   "metadata": {},
   "outputs": [
    {
     "data": {
      "text/plain": [
       "torch.Size([128000, 272])"
      ]
     },
     "execution_count": 241,
     "metadata": {},
     "output_type": "execute_result"
    }
   ],
   "source": [
    "feats_n2nu1.shape"
   ]
  },
  {
   "cell_type": "code",
   "execution_count": 240,
   "id": "adb88985-8438-45f9-8f08-fb292201b455",
   "metadata": {},
   "outputs": [
    {
     "data": {
      "text/plain": [
       "torch.Size([2000, 2000])"
      ]
     },
     "execution_count": 240,
     "metadata": {},
     "output_type": "execute_result"
    }
   ],
   "source": [
    "feats_nu12345.shape"
   ]
  },
  {
   "cell_type": "code",
   "execution_count": 216,
   "id": "dd1f9be3-6364-45fb-9028-e2610227e1a1",
   "metadata": {},
   "outputs": [],
   "source": [
    "target = feats_nu12345[:,:128]"
   ]
  },
  {
   "cell_type": "code",
   "execution_count": 217,
   "id": "8f6dd2d5-076f-427e-9e9c-4e6e9a9256ee",
   "metadata": {},
   "outputs": [],
   "source": [
    "mymodel = LinearEncodeDecode(32, 16, target.shape[-1])"
   ]
  },
  {
   "cell_type": "code",
   "execution_count": 262,
   "id": "5b2eb04e-b04b-4acb-80df-7531c202bbf3",
   "metadata": {},
   "outputs": [],
   "source": [
    "mymodel = EncodeDecode(32, 16, target.shape[-1])"
   ]
  },
  {
   "cell_type": "code",
   "execution_count": 263,
   "id": "65f33b2d-c755-48a1-a8dd-1fac2659773c",
   "metadata": {},
   "outputs": [],
   "source": [
    "mymodel.initialize_model_weights(feats_n2nu1, seed=12345)"
   ]
  },
  {
   "cell_type": "code",
   "execution_count": 264,
   "id": "c92f92f8-83b9-4aa5-a6a2-f1fdc6797011",
   "metadata": {},
   "outputs": [],
   "source": [
    "def loss_mse(predicted, actual):\n",
    "    return torch.sum((predicted.flatten() - actual.flatten()) ** 2)"
   ]
  },
  {
   "cell_type": "code",
   "execution_count": 265,
   "id": "5227d4ca-c2c5-4645-a4b3-d66609ca7a92",
   "metadata": {},
   "outputs": [],
   "source": [
    "optimizer = torch.optim.LBFGS(\n",
    "        mymodel.parameters(),\n",
    "        lr=0.1,\n",
    "        line_search_fn=\"strong_wolfe\",\n",
    "        history_size=128,\n",
    "    )"
   ]
  },
  {
   "cell_type": "code",
   "execution_count": null,
   "id": "04446ae2-02f9-477d-8bd7-384cc941d3b3",
   "metadata": {
    "scrolled": true,
    "tags": []
   },
   "outputs": [
    {
     "name": "stdout",
     "output_type": "stream",
     "text": [
      "Epoch: 0 Energy RMSE: train  4.5950490728725235 test 0.42865146374406127\n",
      "Epoch: 10 Energy RMSE: train  0.12596040106867704 test 0.11597176670141297\n",
      "Epoch: 20 Energy RMSE: train  0.10192776721825056 test 0.10259507365490016\n",
      "Epoch: 30 Energy RMSE: train  0.08537378682153891 test 0.08133189908427337\n",
      "Epoch: 40 Energy RMSE: train  0.07672766147951356 test 0.07332721778460509\n",
      "Epoch: 50 Energy RMSE: train  0.07444626342918952 test 0.07106679909664798\n",
      "Epoch: 60 Energy RMSE: train  0.07390185685114697 test 0.07068333847599634\n",
      "Epoch: 70 Energy RMSE: train  0.0736004976278869 test 0.07070023932266864\n"
     ]
    }
   ],
   "source": [
    "n_epochs = 1000\n",
    "ntrain = 512\n",
    "ntriples = 64\n",
    "for epoch in range(0, n_epochs):\n",
    "    \n",
    "    def single_step():\n",
    "        # global composition, radial_spectrum, spherical_expansions, energies\n",
    "        optimizer.zero_grad()\n",
    "        loss = torch.zeros(size=(1,), device=device)\n",
    "        \n",
    "        predicted = mymodel(feats_n2nu1[:ntrain*ntriples], triplet_samples[\"structure\"][:ntrain*ntriples])\n",
    "        loss += loss_mse(predicted, target[:ntrain])\n",
    "        \n",
    "        loss.backward(retain_graph=False)\n",
    "        return loss\n",
    "\n",
    "    loss = optimizer.step(single_step)\n",
    "    predicted = mymodel(feats_n2nu1[ntrain*ntriples:], triplet_samples[\"structure\"][ntrain*ntriples:])\n",
    "    \n",
    "    if epoch % 10 ==0:\n",
    "        print(\"Epoch:\", epoch, \"Energy RMSE: train \", np.sqrt(loss.detach().numpy().flatten()[0]/ntrain),\n",
    "         \"test\", np.sqrt(loss_mse(predicted, target[ntrain:]).detach().numpy().flatten()[0]/ (len(frames)-ntrain)) )"
   ]
  },
  {
   "cell_type": "code",
   "execution_count": 254,
   "id": "3b471c16-3869-4415-8e1b-77057ba8bff9",
   "metadata": {},
   "outputs": [],
   "source": [
    "predicted = mymodel(feats_n2nu1, triplet_samples[\"structure\"])\n",
    "feats = mymodel.feats(feats_n2nu1, triplet_samples[\"structure\"])"
   ]
  },
  {
   "cell_type": "code",
   "execution_count": 255,
   "id": "1e7e74c9-65b2-4b52-a147-d7afd32c5796",
   "metadata": {},
   "outputs": [
    {
     "data": {
      "text/plain": [
       "0.32374980099183"
      ]
     },
     "execution_count": 255,
     "metadata": {},
     "output_type": "execute_result"
    }
   ],
   "source": [
    "np.linalg.norm((predicted[:ntrain]-target[:ntrain]).detach() )/(\n",
    "    np.linalg.norm(target[:ntrain]) )"
   ]
  },
  {
   "cell_type": "code",
   "execution_count": 256,
   "id": "b6b1988a-e5ed-472c-87f8-e10ba3c4bf85",
   "metadata": {},
   "outputs": [
    {
     "data": {
      "text/plain": [
       "0.22860545864435322"
      ]
     },
     "execution_count": 256,
     "metadata": {},
     "output_type": "execute_result"
    }
   ],
   "source": [
    "np.linalg.norm((((predicted[:ntrain:2]+predicted[1:ntrain:2])/2) - ((target[:ntrain:2]+target[1:ntrain:2])/2)).detach() )/(\n",
    "    np.linalg.norm(target[:ntrain]) )"
   ]
  },
  {
   "cell_type": "code",
   "execution_count": 257,
   "id": "d7f51ab5-1059-413e-9c12-58568cf7a4cf",
   "metadata": {},
   "outputs": [
    {
     "data": {
      "text/plain": [
       "0.37577183976319434"
      ]
     },
     "execution_count": 257,
     "metadata": {},
     "output_type": "execute_result"
    }
   ],
   "source": [
    "np.linalg.norm((((predicted[ntrain::2]+predicted[ntrain+1::2])/2) - ((target[ntrain::2]+target[ntrain+1::2])/2)).detach() ) / (\n",
    "    np.linalg.norm(target[:ntrain]) )"
   ]
  },
  {
   "cell_type": "code",
   "execution_count": 258,
   "id": "98ad04e6-212a-4334-9dda-b46138000fd2",
   "metadata": {},
   "outputs": [
    {
     "data": {
      "text/plain": [
       "1.0002315252737808"
      ]
     },
     "execution_count": 258,
     "metadata": {},
     "output_type": "execute_result"
    }
   ],
   "source": [
    "np.linalg.norm((((predicted[:ntrain:2]-predicted[1:ntrain:2])) - ((target[:ntrain:2]-target[1:ntrain:2]))).detach() )/ (\n",
    "    np.linalg.norm(target[:ntrain:2]-target[1:ntrain:2]))"
   ]
  },
  {
   "cell_type": "code",
   "execution_count": 259,
   "id": "a9622130-3805-4eb3-9e5e-cd19014e82a1",
   "metadata": {},
   "outputs": [
    {
     "data": {
      "text/plain": [
       "1.0002433268973103"
      ]
     },
     "execution_count": 259,
     "metadata": {},
     "output_type": "execute_result"
    }
   ],
   "source": [
    "np.linalg.norm((((predicted[ntrain::2]-predicted[1+ntrain::2])) - \n",
    "                ((target[ntrain::2]-target[ntrain+1::2]))).detach() )/ (\n",
    "    np.linalg.norm(target[ntrain::2]-target[1+ntrain::2]))"
   ]
  },
  {
   "cell_type": "code",
   "execution_count": 260,
   "id": "e039a164-536f-47c3-b798-77104de35607",
   "metadata": {},
   "outputs": [
    {
     "data": {
      "text/plain": [
       "[<matplotlib.lines.Line2D at 0x7f5802ea4160>]"
      ]
     },
     "execution_count": 260,
     "metadata": {},
     "output_type": "execute_result"
    },
    {
     "data": {
      "image/png": "[encoded data removed]",
      "text/plain": [
       "<Figure size 432x288 with 1 Axes>"
      ]
     },
     "metadata": {
      "needs_background": "light"
     },
     "output_type": "display_data"
    }
   ],
   "source": [
    "plt.plot(feats[30].detach()-feats[31].detach())"
   ]
  },
  {
   "cell_type": "code",
   "execution_count": 230,
   "id": "f9e39974-d8d0-49bc-8ceb-be43a0887f84",
   "metadata": {},
   "outputs": [
    {
     "name": "stdout",
     "output_type": "stream",
     "text": [
      "tensor(835)\n"
     ]
    },
    {
     "data": {
      "image/png": "[encoded data removed]",
      "text/plain": [
       "<Figure size 432x288 with 1 Axes>"
      ]
     },
     "metadata": {
      "needs_background": "light"
     },
     "output_type": "display_data"
    }
   ],
   "source": [
    "plt.plot(np.sqrt(((target[::2]-target[1::2])**2).sum(axis=1)))\n",
    "print(np.sqrt(((target[::2]-target[1::2])**2).sum(axis=1)).argmax())"
   ]
  },
  {
   "cell_type": "code",
   "execution_count": 231,
   "id": "58946579-3a8f-4bd8-99ec-0a0878d5eec7",
   "metadata": {},
   "outputs": [
    {
     "data": {
      "text/plain": [
       "[<matplotlib.lines.Line2D at 0x7f58019f26a0>]"
      ]
     },
     "execution_count": 231,
     "metadata": {},
     "output_type": "execute_result"
    },
    {
     "data": {
      "image/png": "[encoded data removed]",
      "text/plain": [
       "<Figure size 432x288 with 1 Axes>"
      ]
     },
     "metadata": {
      "needs_background": "light"
     },
     "output_type": "display_data"
    }
   ],
   "source": [
    "iframe = 72\n",
    "plt.plot(predicted[iframe].detach(),'b--')\n",
    "plt.plot(target[iframe].detach(),'b.')\n",
    "plt.plot(predicted[iframe+1].detach(), 'r--')\n",
    "plt.plot(target[iframe+1].detach(), 'r.')"
   ]
  },
  {
   "cell_type": "code",
   "execution_count": 232,
   "id": "cb466e6d-75a8-48ed-b19e-e4ede5468a1b",
   "metadata": {},
   "outputs": [
    {
     "data": {
      "text/plain": [
       "[<matplotlib.lines.Line2D at 0x7f580171a700>]"
      ]
     },
     "execution_count": 232,
     "metadata": {},
     "output_type": "execute_result"
    },
    {
     "data": {
      "image/png": "[encoded data removed]",
      "text/plain": [
       "<Figure size 432x288 with 1 Axes>"
      ]
     },
     "metadata": {
      "needs_background": "light"
     },
     "output_type": "display_data"
    }
   ],
   "source": [
    "plt.plot((predicted[iframe].detach()-predicted[iframe+1].detach()),'k--')\n",
    "plt.plot(target[iframe].detach()-target[iframe+1].detach(), 'k.')"
   ]
  },
  {
   "cell_type": "code",
   "execution_count": 129,
   "id": "642f128f-2f76-4473-a251-ec813f97e3d3",
   "metadata": {},
   "outputs": [
    {
     "data": {
      "text/plain": [
       "[<matplotlib.lines.Line2D at 0x7fead0274520>]"
      ]
     },
     "execution_count": 129,
     "metadata": {},
     "output_type": "execute_result"
    },
    {
     "data": {
      "image/png": "[encoded data removed]",
      "text/plain": [
       "<Figure size 432x288 with 1 Axes>"
      ]
     },
     "metadata": {
      "needs_background": "light"
     },
     "output_type": "display_data"
    }
   ],
   "source": [
    "plt.plot((feats[iframe].detach()-feats[iframe+1].detach()),'b.-')"
   ]
  },
  {
   "cell_type": "code",
   "execution_count": null,
   "id": "39d8d46e-c96a-459b-a9e6-b5d84b0c0b3d",
   "metadata": {},
   "outputs": [],
   "source": []
  },
  {
   "cell_type": "code",
   "execution_count": null,
   "id": "bfdbfee4-3e3b-4d0e-ad7b-4ecc7f9720b8",
   "metadata": {},
   "outputs": [],
   "source": []
  }
 ],
 "metadata": {
  "kernelspec": {
   "display_name": "Python 3",
   "language": "python",
   "name": "python3"
  },
  "language_info": {
   "codemirror_mode": {
    "name": "ipython",
    "version": 3
   },
   "file_extension": ".py",
   "mimetype": "text/x-python",
   "name": "python",
   "nbconvert_exporter": "python",
   "pygments_lexer": "ipython3",
   "version": "3.8.10"
  },
  "toc": {
   "base_numbering": 1,
   "nav_menu": {},
   "number_sections": true,
   "sideBar": true,
   "skip_h1_title": false,
   "title_cell": "Table of Contents",
   "title_sidebar": "Contents",
   "toc_cell": false,
   "toc_position": {},
   "toc_section_display": true,
   "toc_window_display": false
  }
 },
 "nbformat": 4,
 "nbformat_minor": 5
}
