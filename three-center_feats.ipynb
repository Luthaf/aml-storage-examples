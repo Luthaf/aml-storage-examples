{
 "cells": [
  {
   "cell_type": "markdown",
   "id": "46c0759d-b089-490b-bab2-0ad8c16be406",
   "metadata": {},
   "source": [
    "# Init"
   ]
  },
  {
   "cell_type": "code",
   "execution_count": 15,
   "id": "d2596616",
   "metadata": {},
   "outputs": [
    {
     "name": "stdout",
     "output_type": "stream",
     "text": [
      "The autoreload extension is already loaded. To reload it, use:\n",
      "  %reload_ext autoreload\n",
      "The line_profiler extension is already loaded. To reload it, use:\n",
      "  %reload_ext line_profiler\n"
     ]
    }
   ],
   "source": [
    "%load_ext autoreload\n",
    "%autoreload 2\n",
    "%load_ext line_profiler"
   ]
  },
  {
   "cell_type": "code",
   "execution_count": 16,
   "id": "341b09d0",
   "metadata": {},
   "outputs": [],
   "source": [
    "import numpy as np\n",
    "import scipy as sp\n",
    "import json\n",
    "import ast\n",
    "import torch\n",
    "import ase.io as aseio\n",
    "torch.set_default_dtype(torch.float64)\n",
    "device=\"cpu\"\n",
    "from rascaline import SphericalExpansion, SphericalExpansionByPair\n",
    "from equistore import Labels, TensorBlock, TensorMap\n",
    "from equistore import operations\n",
    "\n",
    "from tqdm.notebook import tqdm\n",
    "from utils.builder import TensorBuilder\n",
    "import ase.io\n",
    "from itertools import product\n",
    "from utils.mp_utils import acdc_standardize_keys, cg_increment, cg_combine, _remove_suffix, flatten\n",
    "from utils.clebsh_gordan import ClebschGordanReal\n",
    "from utils.hamiltonians import hamiltonian_features\n",
    "import matplotlib.pyplot as plt\n",
    "\n",
    "import copy\n",
    "from utils.model_hamiltonian import *\n",
    "from itertools import product\n",
    "import tqdm.notebook as tqdm\n",
    "import chemiscope"
   ]
  },
  {
   "cell_type": "code",
   "execution_count": 17,
   "id": "bde7e214-6392-4107-b05f-2255f211ba14",
   "metadata": {},
   "outputs": [],
   "source": [
    "from generate_bispectrum_structures import generate_nu3_degen_structs"
   ]
  },
  {
   "cell_type": "markdown",
   "id": "499d77a9-335f-46c3-a1f4-2dcd34577c7e",
   "metadata": {
    "tags": []
   },
   "source": [
    "# Generates a bunch of degenerate pairs - closer or farther from being actually symmetric"
   ]
  },
  {
   "cell_type": "markdown",
   "id": "5b1d2d94-712a-4359-b0d1-07d751041b30",
   "metadata": {
    "jp-MarkdownHeadingCollapsed": true,
    "tags": []
   },
   "source": [
    "### Random Boron clusters"
   ]
  },
  {
   "cell_type": "code",
   "execution_count": 4,
   "id": "90a4ea4e-29c2-4a22-a08e-545f45745918",
   "metadata": {},
   "outputs": [
    {
     "data": {
      "application/vnd.jupyter.widget-view+json": {
       "model_id": "a2389048558744178b26474bc605a04b",
       "version_major": 2,
       "version_minor": 0
      },
      "text/plain": [
       "HBox(children=(FloatProgress(value=0.0, max=1000.0), HTML(value='')))"
      ]
     },
     "metadata": {},
     "output_type": "display_data"
    },
    {
     "name": "stdout",
     "output_type": "stream",
     "text": [
      "\n"
     ]
    }
   ],
   "source": [
    "np.random.seed(12345)\n",
    "ngen = 1000\n",
    "frames = []\n",
    "for f in tqdm.tqdm(range(ngen)):\n",
    "    for i in range(1000):\n",
    "        r = np.random.uniform(0.5,2)\n",
    "        z1 = np.random.uniform(0.5,2)\n",
    "        z2 = np.random.uniform(1.5,1.8)\n",
    "        psi = np.random.uniform(0,np.pi)\n",
    "        phi1 = np.random.uniform(np.pi/6, np.pi)\n",
    "        phi2 = np.random.uniform(np.pi/6, np.pi)\n",
    "        fr = generate_nu3_degen_structs(r, [0, phi1, phi1+phi2], \n",
    "                                   psi, z1, z2, \"B\", \"B\", \"B\")\n",
    "        dist = fr[0].get_all_distances()\n",
    "        if dist[0,1:].min()>1.5 and dist[0,1:].max()<1.8 and np.abs(dist-1.0).flatten().min()>0.5:\n",
    "            fr[0].info[\"pars\"] = str((f, \"+\")+(r, z1, z2, psi, phi1, phi2))\n",
    "            fr[1].info[\"pars\"] = str((f, \"-\")+(r, z1, z2, psi, phi1, phi2))\n",
    "            break\n",
    "    if (i>990):\n",
    "        print(\"oops!\")\n",
    "    frames += fr"
   ]
  },
  {
   "cell_type": "code",
   "execution_count": 5,
   "id": "b9ff8512-2884-4f2d-ab6a-c3c33bb1b012",
   "metadata": {},
   "outputs": [
    {
     "data": {
      "application/vnd.jupyter.widget-view+json": {
       "model_id": "8f4529267e644d1c83d7b0ed1b386934",
       "version_major": 2,
       "version_minor": 0
      },
      "text/plain": [
       "StructureWidget(value='{\"meta\": {\"name\": \" \"}, \"settings\": {\"structure\": [{\"axes\": \"xyz\", \"keepOrientation\": t…"
      ]
     },
     "metadata": {},
     "output_type": "display_data"
    },
    {
     "name": "stderr",
     "output_type": "stream",
     "text": [
      "/home/michele/local/lib/python3.8/site-packages/chemiscope/input.py:195: UserWarning: chemiscope behavior changed to no longer include properties from the structure objects. Use `chemiscope.extract_properties` to also visualize these properties ([pars])\n",
      "  warnings.warn(\n"
     ]
    }
   ],
   "source": [
    "cs = chemiscope.show(frames=frames, mode=\"structure\", settings = {'structure': [{\n",
    "   'axes': 'xyz',\n",
    "   'keepOrientation': True,\n",
    "   'playbackDelay': 250}]})\n",
    "display(cs)"
   ]
  },
  {
   "cell_type": "code",
   "execution_count": 25,
   "id": "cedc4b0e-5805-4493-acc1-a35a773aba10",
   "metadata": {},
   "outputs": [
    {
     "data": {
      "text/plain": [
       "\"(134, '+', 1.2313367121339533, 1.07392163993562, 1.6947503705446838, 0.9633078988888877, 1.993842337599831, 1.6583212922073822)\""
      ]
     },
     "execution_count": 25,
     "metadata": {},
     "output_type": "execute_result"
    }
   ],
   "source": [
    "frames[134*2].info[\"pars\"]"
   ]
  },
  {
   "cell_type": "code",
   "execution_count": 7,
   "id": "7273047d-fa02-4e36-9ab6-4ab7f968b14c",
   "metadata": {},
   "outputs": [],
   "source": [
    "aseio.write(\"/tmp/b8.xyz\", frames)"
   ]
  },
  {
   "cell_type": "markdown",
   "id": "e7ed205a-f21d-46e2-95a7-ca9ade81d796",
   "metadata": {
    "jp-MarkdownHeadingCollapsed": true,
    "tags": []
   },
   "source": [
    "### Mg clusters"
   ]
  },
  {
   "cell_type": "code",
   "execution_count": 9,
   "id": "e57afe1c-33db-4cd3-b0eb-e0b16e0ed606",
   "metadata": {},
   "outputs": [],
   "source": [
    "frames_mg = []\n",
    "n1, n2, n3 = 8,8,8\n",
    "for psi in np.linspace(np.pi/6, np.pi*5/6, n1):\n",
    "    for dphi1 in np.linspace(np.pi*2/3 - 1.2, np.pi*2/3+0.4, n2):\n",
    "        for dphi2 in np.linspace(np.pi*2/3-0.7, np.pi*2/3+1.3, n3):\n",
    "            frames_mg += generate_nu3_degen_structs(2, [0, dphi1, dphi1+dphi2], \n",
    "                           psi, 1, np.sqrt(5), \"Mg\", \"Mg\", \"Mg\")"
   ]
  },
  {
   "cell_type": "code",
   "execution_count": 10,
   "id": "8d465436-a2e0-4d28-bb71-a22d23e97646",
   "metadata": {},
   "outputs": [],
   "source": [
    "# shuffles keeping pairs together for easier analysis\n",
    "idx = np.asarray(range(len(frames_mg)//2), dtype=int)\n",
    "np.random.shuffle(idx)\n",
    "nfr = []\n",
    "for i in idx:\n",
    "    nfr.append(frames_mg[2*i])\n",
    "    nfr.append(frames_mg[2*i+1])\n",
    "frames_mg = nfr"
   ]
  },
  {
   "cell_type": "code",
   "execution_count": 58,
   "id": "789b49ce-5d6c-4eb7-8b69-1eb7777cd309",
   "metadata": {},
   "outputs": [
    {
     "data": {
      "application/vnd.jupyter.widget-view+json": {
       "model_id": "7e8a9d10b4a940248b0ff1f78a8c4904",
       "version_major": 2,
       "version_minor": 0
      },
      "text/plain": [
       "StructureWidget(value='{\"meta\": {\"name\": \" \"}, \"settings\": {\"structure\": [{\"axes\": \"xyz\", \"keepOrientation\": t…"
      ]
     },
     "metadata": {},
     "output_type": "display_data"
    }
   ],
   "source": [
    "cs = chemiscope.show(frames=frames_mg, mode=\"structure\", settings = {'structure': [{\n",
    "   'axes': 'xyz',\n",
    "   'keepOrientation': True,\n",
    "   'playbackDelay': 250}]})\n",
    "display(cs)"
   ]
  },
  {
   "cell_type": "code",
   "execution_count": 66,
   "id": "e3f7a5f1-15dd-487c-b983-3bee10a5e885",
   "metadata": {},
   "outputs": [],
   "source": [
    "aseio.write(\"/tmp/mg8.xyz\", frames_mg)"
   ]
  },
  {
   "cell_type": "markdown",
   "id": "fec1909c-e944-4d78-bb1f-64519bf46d4c",
   "metadata": {
    "tags": []
   },
   "source": [
    "# Loads pre-computed clusters"
   ]
  },
  {
   "cell_type": "code",
   "execution_count": 4,
   "id": "0b42d2ba-e97e-46ca-886b-e389aa1fccca",
   "metadata": {},
   "outputs": [],
   "source": [
    "frames = aseio.read(\"data/three_center/boron/boron8_4000_pbeccpvdz.xyz\", \":1000\")"
   ]
  },
  {
   "cell_type": "code",
   "execution_count": 5,
   "id": "1cbf992f-a01e-40e7-83d3-c19064a67b26",
   "metadata": {},
   "outputs": [],
   "source": [
    "# explicit name for manifold parameters, and baseline for energy\n",
    "e0 = -198.11364281310415\n",
    "for fi, f in enumerate(frames):\n",
    "    f.info[\"energy_rel_eV\"] = (f.info[\"energy_ha\"]-e0)*27.211386\n",
    "    for n, v in zip( (\"index\", \"label\",\"r\", \"z_1\", \"z_2\", \"psi\", \"phi_1\", \"phi_2\"), ast.literal_eval(f.info[\"pars\"]) ):\n",
    "        f.info[n] = v\n",
    "    if fi%2 ==1:\n",
    "        frames[fi].info[\"delta\"] = np.abs(frames[fi].info[\"energy_rel_eV\"]-frames[fi-1].info[\"energy_rel_eV\"])\n",
    "        frames[fi-1].info[\"delta\"] = frames[fi].info[\"delta\"]"
   ]
  },
  {
   "cell_type": "code",
   "execution_count": 6,
   "id": "7a558e94-ce9e-4377-8fa2-67c3616e2c4c",
   "metadata": {},
   "outputs": [
    {
     "data": {
      "application/vnd.jupyter.widget-view+json": {
       "model_id": "e9891520010e4cceabf8f7a76a613bff",
       "version_major": 2,
       "version_minor": 0
      },
      "text/plain": [
       "ChemiscopeWidget(value='{\"meta\": {\"name\": \" \"}, \"settings\": {\"structure\": [{\"axes\": \"xyz\", \"keepOrientation\": …"
      ]
     },
     "metadata": {},
     "output_type": "display_data"
    }
   ],
   "source": [
    "cs = chemiscope.show(frames=frames, properties=chemiscope.extract_properties(frames), settings = {'structure': [{\n",
    "   'axes': 'xyz',\n",
    "   'keepOrientation': True,\n",
    "   'playbackDelay': 250}]})\n",
    "display(cs)"
   ]
  },
  {
   "cell_type": "markdown",
   "id": "d915fea4-6873-4e5d-b14d-0d6c399373ea",
   "metadata": {},
   "source": [
    "# Compute raw expansion coefficients"
   ]
  },
  {
   "cell_type": "code",
   "execution_count": 7,
   "id": "fecba7a3-7431-40db-8e82-8d36d615ce5e",
   "metadata": {},
   "outputs": [],
   "source": [
    "hypers = {\n",
    "    \"cutoff\": 2.5,\n",
    "    \"max_radial\": 2,\n",
    "    \"max_angular\": 3,\n",
    "    \"atomic_gaussian_width\": 0.2,\n",
    "    \"radial_basis\": {\"Gto\": {}},\n",
    "    \"cutoff_function\": {\"ShiftedCosine\": {\"width\": 0.1}},\n",
    "    \"center_atom_weight\": 0.0,    \n",
    "}\n",
    "calculator = SphericalExpansion(**hypers)\n",
    "rhoi = calculator.compute(frames)\n",
    "rhoi = rhoi.keys_to_properties(['species_neighbor'])\n",
    "rho1i = acdc_standardize_keys(rhoi)\n",
    "\n",
    "# selects only one environment\n",
    "rho1i = operations.slice(rho1i, samples=Labels(['center'],np.array([[0]], np.int32)) )\n",
    "norm_rho1 = np.sqrt(np.sum([(b.values**2).sum(axis=(1,2)) for b in rho1i.blocks()],axis=0).mean())\n",
    "for b in rho1i.blocks():\n",
    "    b.values[:]/=norm_rho1"
   ]
  },
  {
   "cell_type": "code",
   "execution_count": 8,
   "id": "684640c5-d4fd-4386-b34e-c4a48ae17eb5",
   "metadata": {},
   "outputs": [
    {
     "data": {
      "text/plain": [
       "TensorMap with 4 blocks\n",
       "keys: ['order_nu' 'inversion_sigma' 'spherical_harmonics_l' 'species_center']\n",
       "           1             1                    0                   5\n",
       "           1             1                    1                   5\n",
       "           1             1                    2                   5\n",
       "           1             1                    3                   5"
      ]
     },
     "execution_count": 8,
     "metadata": {},
     "output_type": "execute_result"
    }
   ],
   "source": [
    "rho1i"
   ]
  },
  {
   "cell_type": "code",
   "execution_count": 9,
   "id": "3f129e6b-5637-4c28-9e7b-7e42590ada09",
   "metadata": {},
   "outputs": [
    {
     "data": {
      "text/plain": [
       "TensorBlock\n",
       "    samples (1000): ['structure', 'center']\n",
       "    components (1): ['spherical_harmonics_m']\n",
       "    properties (2): ['species_neighbor_1', 'n_1']\n",
       "    gradients: no"
      ]
     },
     "execution_count": 9,
     "metadata": {},
     "output_type": "execute_result"
    }
   ],
   "source": [
    "rho1i.block(0)"
   ]
  },
  {
   "cell_type": "code",
   "execution_count": 10,
   "id": "2e1af8b8-4a20-4de5-88ea-ea50e0790334",
   "metadata": {},
   "outputs": [],
   "source": [
    "calculator = SphericalExpansionByPair(**hypers)\n",
    "gij = calculator.compute(frames)\n",
    "gij = operations.slice(gij, samples=Labels(['first_atom'],np.array([[0]], np.int32)) )\n",
    "gij =  acdc_standardize_keys(gij)\n",
    "for b in gij.blocks():\n",
    "    b.values[:]/=norm_rho1"
   ]
  },
  {
   "cell_type": "code",
   "execution_count": 11,
   "id": "8da710fd-4c55-4623-b9fc-30f17798ec0b",
   "metadata": {},
   "outputs": [
    {
     "data": {
      "text/plain": [
       "TensorMap with 4 blocks\n",
       "keys: ['order_nu' 'inversion_sigma' 'spherical_harmonics_l' 'species_center' 'species_neighbor']\n",
       "           1             1                    0                   5                5\n",
       "           1             1                    1                   5                5\n",
       "           1             1                    2                   5                5\n",
       "           1             1                    3                   5                5"
      ]
     },
     "execution_count": 11,
     "metadata": {},
     "output_type": "execute_result"
    }
   ],
   "source": [
    "gij"
   ]
  },
  {
   "cell_type": "code",
   "execution_count": 12,
   "id": "5cb2e076-f78e-4b76-8ec7-a07cbeb95078",
   "metadata": {},
   "outputs": [
    {
     "data": {
      "text/plain": [
       "TensorBlock\n",
       "    samples (8000): ['structure', 'center', 'neighbor']\n",
       "    components (1): ['spherical_harmonics_m']\n",
       "    properties (2): ['n_1']\n",
       "    gradients: no"
      ]
     },
     "execution_count": 12,
     "metadata": {},
     "output_type": "execute_result"
    }
   ],
   "source": [
    "gij.block(0)"
   ]
  },
  {
   "cell_type": "markdown",
   "id": "ce6b656b-3ac0-4c0f-bdc6-738cc83bac4f",
   "metadata": {},
   "source": [
    "## Test there is consistency at the level of rhoij and gij"
   ]
  },
  {
   "cell_type": "code",
   "execution_count": 13,
   "id": "baba8d3a-c76e-4917-b5d1-a8c37cdca2db",
   "metadata": {},
   "outputs": [],
   "source": [
    "test = operations.sum_over_samples(gij, samples_names=[\"neighbor\"]) "
   ]
  },
  {
   "cell_type": "code",
   "execution_count": 14,
   "id": "34ab27e7-36cf-46de-9248-35708fc82826",
   "metadata": {},
   "outputs": [],
   "source": [
    "test.block(1).values;"
   ]
  },
  {
   "cell_type": "code",
   "execution_count": 15,
   "id": "d09a00ff-b0fb-41b3-ba31-e2d1c6537201",
   "metadata": {},
   "outputs": [
    {
     "data": {
      "text/plain": [
       "7.568891221116074e-13"
      ]
     },
     "execution_count": 15,
     "metadata": {},
     "output_type": "execute_result"
    }
   ],
   "source": [
    "np.linalg.norm(rho1i.block(1).values/test.block(1).values -1)"
   ]
  },
  {
   "cell_type": "markdown",
   "id": "a84fd6a5-e916-45a1-8f69-4b1c2bbc04f5",
   "metadata": {},
   "source": [
    "# Now compute the correlation stuff!"
   ]
  },
  {
   "cell_type": "code",
   "execution_count": 16,
   "id": "fef55fd3",
   "metadata": {},
   "outputs": [],
   "source": [
    "cg = ClebschGordanReal(5)"
   ]
  },
  {
   "cell_type": "markdown",
   "id": "0ec41731-52da-452d-a1e3-5872509655df",
   "metadata": {},
   "source": [
    "## pair features"
   ]
  },
  {
   "cell_type": "code",
   "execution_count": 17,
   "id": "03e4745f",
   "metadata": {},
   "outputs": [
    {
     "name": "stdout",
     "output_type": "stream",
     "text": [
      "CPU times: user 6.52 s, sys: 208 ms, total: 6.73 s\n",
      "Wall time: 6.72 s\n"
     ]
    }
   ],
   "source": [
    "%%time\n",
    "rhoii1i2_nu0 = cg_combine(gij, gij, clebsch_gordan=cg, other_keys_match=['species_center'], lcut=3)"
   ]
  },
  {
   "cell_type": "code",
   "execution_count": 18,
   "id": "10298778",
   "metadata": {},
   "outputs": [
    {
     "name": "stdout",
     "output_type": "stream",
     "text": [
      "CPU times: user 5.38 s, sys: 116 ms, total: 5.49 s\n",
      "Wall time: 5.49 s\n"
     ]
    }
   ],
   "source": [
    "%%time \n",
    "rhoii1i2_nu1 =  cg_combine(rho1i, rhoii1i2_nu0, clebsch_gordan=cg, other_keys_match = ['species_center'], lcut=0)"
   ]
  },
  {
   "cell_type": "markdown",
   "id": "7d789a6c-9b1a-4c61-af57-7000fb312349",
   "metadata": {},
   "source": [
    "### sanity checks"
   ]
  },
  {
   "cell_type": "code",
   "execution_count": 19,
   "id": "1bc28f4e-d0b4-4de3-859b-7da8ee8f9963",
   "metadata": {},
   "outputs": [],
   "source": [
    "# nb: we disable lexicographic sorting of L to have comparable feature layout\n",
    "rho2i_full = cg_combine(rho1i, rho1i, clebsch_gordan=cg, lcut=3, sorted_l=False)\n",
    "test = operations.sum_over_samples(rhoii1i2_nu0, samples_names=[\"neighbor_1\", \"neighbor_2\"]) "
   ]
  },
  {
   "cell_type": "code",
   "execution_count": 20,
   "id": "6e8f0053-09a1-4761-a5a0-b461cb508614",
   "metadata": {},
   "outputs": [
    {
     "data": {
      "text/plain": [
       "2.395485600100662e-10"
      ]
     },
     "execution_count": 20,
     "metadata": {},
     "output_type": "execute_result"
    }
   ],
   "source": [
    "np.linalg.norm(rho2i_full.block(2).values/test.block(2).values-1)"
   ]
  },
  {
   "cell_type": "markdown",
   "id": "c36797a2-a0ca-4064-87c0-7074cf225e44",
   "metadata": {},
   "source": [
    "## higher-order "
   ]
  },
  {
   "cell_type": "code",
   "execution_count": 21,
   "id": "a11b404f",
   "metadata": {},
   "outputs": [
    {
     "name": "stdout",
     "output_type": "stream",
     "text": [
      "CPU times: user 5.78 s, sys: 375 ms, total: 6.15 s\n",
      "Wall time: 6.15 s\n"
     ]
    }
   ],
   "source": [
    "%%time\n",
    "# here we use all tricks to reduce cost\n",
    "rho2i = cg_increment(rho1i, rho1i, clebsch_gordan=cg, lcut=3)\n",
    "rho3i = cg_increment(rho2i, rho1i, clebsch_gordan=cg, lcut=3)\n",
    "rho4i = cg_increment(rho3i, rho1i, clebsch_gordan=cg, lcut=3)\n",
    "rho5i = cg_increment(rho4i, rho1i, clebsch_gordan=cg, lcut=0)"
   ]
  },
  {
   "cell_type": "code",
   "execution_count": 22,
   "id": "d828a167-e710-4646-9941-8e231f15f20b",
   "metadata": {},
   "outputs": [
    {
     "name": "stdout",
     "output_type": "stream",
     "text": [
      "CPU times: user 3 µs, sys: 0 ns, total: 3 µs\n",
      "Wall time: 6.68 µs\n"
     ]
    }
   ],
   "source": [
    "%%time \n",
    "#rho5il1 = cg_increment(rho4i, rho1i, clebsch_gordan=cg, lcut=1)"
   ]
  },
  {
   "cell_type": "code",
   "execution_count": 23,
   "id": "42677e82-3956-4c3a-a9ba-e3f386bbcb7c",
   "metadata": {},
   "outputs": [
    {
     "name": "stdout",
     "output_type": "stream",
     "text": [
      "CPU times: user 4 µs, sys: 0 ns, total: 4 µs\n",
      "Wall time: 7.15 µs\n"
     ]
    }
   ],
   "source": [
    "%time \n",
    "#rho6il1 = cg_increment(rho5il1, rho1i, clebsch_gordan=cg, lcut=1)"
   ]
  },
  {
   "cell_type": "code",
   "execution_count": 24,
   "id": "c2aa90d4-960b-4566-aa74-ec913726147d",
   "metadata": {},
   "outputs": [
    {
     "name": "stdout",
     "output_type": "stream",
     "text": [
      "CPU times: user 7 µs, sys: 0 ns, total: 7 µs\n",
      "Wall time: 14.1 µs\n"
     ]
    }
   ],
   "source": [
    "%time \n",
    "#rho7i = cg_increment(rho6il1, rho1i, clebsch_gordan=cg, lcut=0, filter_sigma=[1])"
   ]
  },
  {
   "cell_type": "markdown",
   "id": "d18425a2-7c0f-439d-a050-b307e1d7b2e9",
   "metadata": {},
   "source": [
    "## PCA"
   ]
  },
  {
   "cell_type": "markdown",
   "id": "3169eb52-97e8-4cc6-87f0-52664255ee7d",
   "metadata": {},
   "source": [
    "Since we have a LOT of features and few structures, we use PCA to reduce the number of features with no information loss"
   ]
  },
  {
   "cell_type": "code",
   "execution_count": 25,
   "id": "641fbfd9-aca1-48d9-a29e-ab21aacf3413",
   "metadata": {},
   "outputs": [],
   "source": [
    "from sklearn.decomposition import PCA"
   ]
  },
  {
   "cell_type": "code",
   "execution_count": 26,
   "id": "a1e825e6-0bcf-4531-b7a0-3795a609a8a9",
   "metadata": {},
   "outputs": [
    {
     "data": {
      "text/plain": [
       "[<matplotlib.lines.Line2D at 0x7f5001a9c4c0>]"
      ]
     },
     "execution_count": 26,
     "metadata": {},
     "output_type": "execute_result"
    },
    {
     "data": {
      "image/png": "[encoded data removed]",
      "text/plain": [
       "<Figure size 432x288 with 1 Axes>"
      ]
     },
     "metadata": {
      "needs_background": "light"
     },
     "output_type": "display_data"
    }
   ],
   "source": [
    "plt.plot(rhoii1i2_nu1.block(0).values.squeeze()[:64].sum(axis=0)*2e3,'r-')\n",
    "plt.plot(rho3i.block(inversion_sigma=1,spherical_harmonics_l=0).values.squeeze()[0], 'b--')"
   ]
  },
  {
   "cell_type": "code",
   "execution_count": 27,
   "id": "a4199b01-c90f-4dda-9c23-0a39e20b0f75",
   "metadata": {},
   "outputs": [],
   "source": [
    "raw = np.hstack([rhoii1i2_nu1.block(0).values.squeeze(),rhoii1i2_nu1.block(1).values.squeeze()])\n",
    "feats_n2nu1 = torch.tensor(PCA(n_components=min(raw.shape[0],raw.shape[-1])).fit_transform(raw)/ np.sqrt((raw**2).sum(axis=1).mean()), device=device)"
   ]
  },
  {
   "cell_type": "code",
   "execution_count": 28,
   "id": "c7cf5788-4bf1-45a3-b1fa-21617efb8c75",
   "metadata": {},
   "outputs": [],
   "source": [
    "triplet_samples = rhoii1i2_nu1.block(0).samples"
   ]
  },
  {
   "cell_type": "code",
   "execution_count": 29,
   "id": "9ab5bb5d-2ab7-4abc-a99a-463723c5545b",
   "metadata": {},
   "outputs": [],
   "source": [
    "raw = np.hstack([\n",
    "    rho1i.block(inversion_sigma=1,spherical_harmonics_l=0).values.squeeze(),\n",
    "    rho2i.block(inversion_sigma=1,spherical_harmonics_l=0).values.squeeze(),\n",
    "    rho3i.block(inversion_sigma=1,spherical_harmonics_l=0).values.squeeze(),\n",
    "    rho3i.block(inversion_sigma=-1,spherical_harmonics_l=0).values.squeeze()\n",
    "])\n",
    "feats_nu123 = torch.tensor(PCA(n_components=min(raw.shape[0],raw.shape[-1])).fit_transform(raw) / np.sqrt((raw**2).sum(axis=1).mean()),device=device)"
   ]
  },
  {
   "cell_type": "code",
   "execution_count": 30,
   "id": "95294e92-1170-42df-941a-c602cd2daba6",
   "metadata": {},
   "outputs": [],
   "source": [
    "raw = np.hstack([\n",
    "    rho1i.block(inversion_sigma=1,spherical_harmonics_l=0).values.squeeze(),\n",
    "    rho2i.block(inversion_sigma=1,spherical_harmonics_l=0).values.squeeze(),\n",
    "    rho3i.block(inversion_sigma=1,spherical_harmonics_l=0).values.squeeze(),\n",
    "    rho4i.block(inversion_sigma=1,spherical_harmonics_l=0).values.squeeze(),\n",
    "    rho5i.block(inversion_sigma=1,spherical_harmonics_l=0).values.squeeze(),\n",
    "    rho3i.block(inversion_sigma=-1,spherical_harmonics_l=0).values.squeeze(),\n",
    "    rho4i.block(inversion_sigma=-1,spherical_harmonics_l=0).values.squeeze(),\n",
    "    rho5i.block(inversion_sigma=-1,spherical_harmonics_l=0).values.squeeze()\n",
    "])\n",
    "feats_nu12345 = torch.tensor(PCA(n_components=min(raw.shape[0],raw.shape[-1])).fit_transform(raw) / np.sqrt((raw**2).sum(axis=1).mean()),device=device)"
   ]
  },
  {
   "cell_type": "code",
   "execution_count": 31,
   "id": "2080f6da-7cfc-4ff8-9938-208bd10ef745",
   "metadata": {},
   "outputs": [
    {
     "name": "stdout",
     "output_type": "stream",
     "text": [
      "38\n"
     ]
    },
    {
     "data": {
      "image/png": "[encoded data removed]",
      "text/plain": [
       "<Figure size 432x288 with 1 Axes>"
      ]
     },
     "metadata": {
      "needs_background": "light"
     },
     "output_type": "display_data"
    }
   ],
   "source": [
    "deltas = np.sqrt(((feats_nu12345[::2]-feats_nu12345[1::2])**2).sum(axis=1).cpu().numpy())/np.sqrt(((feats_nu12345[::2]+feats_nu12345[1::2])**2).sum(axis=1).cpu().numpy())\n",
    "plt.plot(deltas )\n",
    "print(deltas.argmax())"
   ]
  },
  {
   "cell_type": "code",
   "execution_count": 32,
   "id": "62aad3a0-b6be-405f-b527-52e13e11326a",
   "metadata": {},
   "outputs": [
    {
     "data": {
      "application/vnd.jupyter.widget-view+json": {
       "model_id": "cb060483255b4913aa53183a86ba86aa",
       "version_major": 2,
       "version_minor": 0
      },
      "text/plain": [
       "ChemiscopeWidget(value='{\"meta\": {\"name\": \" \"}, \"settings\": {\"map\": {\"x\": {\"max\": 0.8114175656679125, \"min\": -…"
      ]
     },
     "metadata": {},
     "output_type": "display_data"
    }
   ],
   "source": [
    "cs = chemiscope.show(frames=frames, properties = { \n",
    " \"feats12345\":    feats_nu12345[:,:8].cpu().numpy(),\n",
    " \"type\" : [i%2 for i in range(len(frames))],\n",
    " \"deltas\" : [deltas[i//2]   for i in range(len(frames)) ],\n",
    " \"pars\" : [f.info[\"pars\"] for f in frames]   \n",
    "}\n",
    "                     , settings = {\n",
    "                         'map': {'x': {'max': 0.8114175656679125,\n",
    "   'min': -0.32173653263255847,\n",
    "   'property': 'feats12345[1]',\n",
    "   'scale': 'linear'},\n",
    "  'y': {'max': 0.5533810292695732,\n",
    "   'min': -0.29561319677262154,\n",
    "   'property': 'feats12345[2]',\n",
    "   'scale': 'linear'},\n",
    "  'color': {'max': 0.15750915598126383,\n",
    "   'min': 8.705512017627933e-08,\n",
    "   'property': 'deltas',\n",
    "   'scale': 'log'},\n",
    "  'symbol': '',\n",
    "  'palette': 'inferno',\n",
    "  'size': {'factor': 50, 'mode': 'linear', 'property': '', 'reverse': False}},                         \n",
    "                         'structure': [{\n",
    "   'axes': 'xyz',\n",
    "   'keepOrientation': True,\n",
    "   'playbackDelay': 250}]})\n",
    "display(cs)"
   ]
  },
  {
   "cell_type": "code",
   "execution_count": 33,
   "id": "28966a98-1820-4125-b305-c2b8ee98ccd4",
   "metadata": {},
   "outputs": [
    {
     "data": {
      "text/plain": [
       "[<matplotlib.lines.Line2D at 0x7f503803d730>]"
      ]
     },
     "execution_count": 33,
     "metadata": {},
     "output_type": "execute_result"
    },
    {
     "data": {
      "image/png": "[encoded data removed]",
      "text/plain": [
       "<Figure size 432x288 with 1 Axes>"
      ]
     },
     "metadata": {
      "needs_background": "light"
     },
     "output_type": "display_data"
    }
   ],
   "source": [
    "plt.plot(feats_nu12345[14].cpu().numpy())\n",
    "plt.plot(feats_nu12345[15].cpu().numpy())"
   ]
  },
  {
   "cell_type": "code",
   "execution_count": 34,
   "id": "6ed18077-abac-447f-aadf-08e107cdd32f",
   "metadata": {},
   "outputs": [
    {
     "data": {
      "text/plain": [
       "[<matplotlib.lines.Line2D at 0x7f5038053490>]"
      ]
     },
     "execution_count": 34,
     "metadata": {},
     "output_type": "execute_result"
    },
    {
     "data": {
      "image/png": "[encoded data removed]",
      "text/plain": [
       "<Figure size 432x288 with 1 Axes>"
      ]
     },
     "metadata": {
      "needs_background": "light"
     },
     "output_type": "display_data"
    }
   ],
   "source": [
    "plt.plot((feats_nu12345[220]-feats_nu12345[221]).cpu().numpy())"
   ]
  },
  {
   "cell_type": "code",
   "execution_count": 35,
   "id": "5a70c59b-c86f-41b2-a384-9f75fecfd926",
   "metadata": {},
   "outputs": [
    {
     "data": {
      "text/plain": [
       "[<matplotlib.lines.Line2D at 0x7f5038eaa2b0>]"
      ]
     },
     "execution_count": 35,
     "metadata": {},
     "output_type": "execute_result"
    },
    {
     "data": {
      "image/png": "[encoded data removed]",
      "text/plain": [
       "<Figure size 432x288 with 1 Axes>"
      ]
     },
     "metadata": {
      "needs_background": "light"
     },
     "output_type": "display_data"
    }
   ],
   "source": [
    "plt.plot(feats_nu123[::2,7].cpu().numpy(), feats_nu123[::2,8].cpu().numpy(), 'b.')\n",
    "plt.plot(feats_nu123[1::2,7].cpu().numpy(), feats_nu123[1::2,8].cpu().numpy(), 'rx')"
   ]
  },
  {
   "cell_type": "code",
   "execution_count": 36,
   "id": "10199ba6-e2e5-4bfc-a873-5678444055a2",
   "metadata": {},
   "outputs": [
    {
     "data": {
      "text/plain": [
       "[<matplotlib.lines.Line2D at 0x7f5001ecdc10>]"
      ]
     },
     "execution_count": 36,
     "metadata": {},
     "output_type": "execute_result"
    },
    {
     "data": {
      "image/png": "[encoded data removed]",
      "text/plain": [
       "<Figure size 432x288 with 1 Axes>"
      ]
     },
     "metadata": {
      "needs_background": "light"
     },
     "output_type": "display_data"
    }
   ],
   "source": [
    "plt.plot(feats_nu12345[::2,8].cpu().numpy(), feats_nu12345[::2,9].cpu().numpy(), 'b.')\n",
    "plt.plot(feats_nu12345[1::2,8].cpu().numpy(), feats_nu12345[1::2,9].cpu().numpy(), 'rx')"
   ]
  },
  {
   "cell_type": "markdown",
   "id": "7057a862-3261-464d-8060-9116b8415338",
   "metadata": {},
   "source": [
    "# Now we make an autoencoder thingie"
   ]
  },
  {
   "cell_type": "code",
   "execution_count": 18,
   "id": "1ba29c23-da18-4d6a-8b0e-1491268db39f",
   "metadata": {},
   "outputs": [],
   "source": [
    "def StructureMap(samples_structure, device=\"cpu\"):\n",
    "    unique_structures, unique_structures_idx = np.unique(\n",
    "        samples_structure, return_index=True\n",
    "    )\n",
    "    new_samples = samples_structure[np.sort(unique_structures_idx)]\n",
    "    # we need a list keeping track of where each atomic contribution goes\n",
    "    # (e.g. if structure ids are [3,3,3,1,1,1,6,6,6] that will be stored as\n",
    "    # the unique structures [3, 1, 6], structure_map will be\n",
    "    # [0,0,0,1,1,1,2,2,2]\n",
    "    replace_rule = dict(zip(unique_structures, range(len(unique_structures))))\n",
    "    structure_map = torch.tensor(\n",
    "        [replace_rule[i] for i in samples_structure],\n",
    "        dtype=torch.long,\n",
    "        device=device,\n",
    "    )\n",
    "    return structure_map, new_samples, replace_rule"
   ]
  },
  {
   "cell_type": "code",
   "execution_count": 19,
   "id": "7067c569-c37a-45a0-931f-5b12321f9040",
   "metadata": {},
   "outputs": [],
   "source": [
    "class LinearEncodeDecode(torch.nn.Module):\n",
    "    def __init__(self, layer_size=100, feat_size=32, output_size=32):\n",
    "        super().__init__()\n",
    "\n",
    "        self.nn_encode = None\n",
    "        self.nn_decode = None\n",
    "        self.layer_size = layer_size \n",
    "        self.feat_size = feat_size\n",
    "        self.output_size= output_size        \n",
    "\n",
    "    def initialize_model_weights(self, block, seed):\n",
    "        if seed is not None:\n",
    "            torch.manual_seed(seed)\n",
    "\n",
    "        X = block\n",
    "\n",
    "        # initialize nn with zero weights ??\n",
    "        def init_zero_weights(m):\n",
    "            if isinstance(m, torch.nn.Linear):\n",
    "                m.weight.data.fill_(0)\n",
    "                m.bias.data.fill_(0)\n",
    "\n",
    "        self.nn_encode = torch.nn.Sequential(\n",
    "            torch.nn.Linear(X.shape[-1], self.feat_size))\n",
    "        self.nn_decode = torch.nn.Sequential(\n",
    "            torch.nn.Linear(self.feat_size, self.layer_size),\n",
    "            torch.nn.GroupNorm(4,self.layer_size),\n",
    "            torch.nn.Tanh(),\n",
    "            torch.nn.Linear(self.layer_size, self.layer_size),\n",
    "            torch.nn.GroupNorm(4,self.layer_size),\n",
    "            torch.nn.Tanh(),\n",
    "            torch.nn.Linear(self.layer_size, self.output_size),            \n",
    "        )\n",
    "    \n",
    "    def feats(self, block, samples):\n",
    "        tensor = block\n",
    "\n",
    "        structure_map, new_samples, _ = StructureMap(\n",
    "            samples, next(self.parameters()).device\n",
    "        )\n",
    "        \n",
    "        nn_per_triple = self.nn_encode(tensor)\n",
    "        nn_per_structure = torch.zeros((len(new_samples), nn_per_triple.shape[-1]), device=tensor.device)\n",
    "        nn_per_structure.index_add_(0, structure_map, nn_per_triple)\n",
    "        return nn_per_structure\n",
    "        \n",
    "    def forward(self, block, samples):\n",
    "        if self.nn_encode is None:\n",
    "            raise Exception(\"call initialize_weights first\")\n",
    "\n",
    "        outputs = self.nn_decode(self.feats(block, samples))\n",
    "        return outputs"
   ]
  },
  {
   "cell_type": "code",
   "execution_count": 20,
   "id": "ac25a569-9d2a-48c6-9f12-03225436269d",
   "metadata": {},
   "outputs": [],
   "source": [
    "class EncodeDecode(torch.nn.Module):\n",
    "    def __init__(self, layer_size=100, feat_size=32, output_size=32):\n",
    "        super().__init__()\n",
    "\n",
    "        self.nn_encode = None\n",
    "        self.nn_decode = None\n",
    "        self.feat_size = feat_size\n",
    "        self.layer_size = layer_size        \n",
    "        self.output_size= output_size        \n",
    "\n",
    "    def initialize_model_weights(self, block, seed):\n",
    "        if seed is not None:\n",
    "            torch.manual_seed(seed)\n",
    "\n",
    "        X = block\n",
    "\n",
    "        # initialize nn with zero weights ??\n",
    "        def init_zero_weights(m):\n",
    "            if isinstance(m, torch.nn.Linear):\n",
    "                m.weight.data.fill_(0)\n",
    "                m.bias.data.fill_(0)\n",
    "\n",
    "        self.nn_encode = torch.nn.Sequential(            \n",
    "            torch.nn.Linear(X.shape[-1], self.layer_size),\n",
    "            torch.nn.GroupNorm(8,self.layer_size),\n",
    "            torch.nn.Softplus(),\n",
    "            torch.nn.Linear(self.layer_size, self.layer_size),\n",
    "            torch.nn.GroupNorm(8,self.layer_size),\n",
    "            torch.nn.Softplus(),\n",
    "            torch.nn.Linear(self.layer_size, self.feat_size))\n",
    "        self.nn_decode = torch.nn.Sequential(\n",
    "            torch.nn.Linear(self.feat_size, self.layer_size),\n",
    "            torch.nn.GroupNorm(8,self.layer_size),\n",
    "            torch.nn.Softplus(),\n",
    "            torch.nn.Linear(self.layer_size, self.layer_size),\n",
    "            torch.nn.GroupNorm(8,self.layer_size),\n",
    "            torch.nn.Softplus(),\n",
    "            torch.nn.Linear(self.layer_size, self.output_size),            \n",
    "        )\n",
    "\n",
    "    def feats(self, block, samples):\n",
    "        tensor = block\n",
    "\n",
    "        structure_map, new_samples, _ = StructureMap(\n",
    "            samples, next(self.parameters()).device\n",
    "        )\n",
    "        \n",
    "        nn_per_triple = self.nn_encode(tensor)\n",
    "        nn_per_structure = torch.zeros((len(new_samples), nn_per_triple.shape[-1]), device=tensor.device)\n",
    "        nn_per_structure.index_add_(0, structure_map, nn_per_triple)\n",
    "        return nn_per_structure\n",
    "        \n",
    "    def forward(self, block, samples):\n",
    "        if self.nn_encode is None:\n",
    "            raise Exception(\"call initialize_weights first\")\n",
    "\n",
    "        outputs = self.nn_decode(self.feats(block, samples))\n",
    "        return outputs"
   ]
  },
  {
   "cell_type": "code",
   "execution_count": 21,
   "id": "c92f92f8-83b9-4aa5-a6a2-f1fdc6797011",
   "metadata": {},
   "outputs": [],
   "source": [
    "def loss_mse(predicted, actual):\n",
    "    return torch.sum((predicted.flatten() - actual.flatten()) ** 2)"
   ]
  },
  {
   "cell_type": "markdown",
   "id": "7b88e58c-83a1-4d98-be9d-f90e1f1a06c8",
   "metadata": {},
   "source": [
    "# Prepare inputs"
   ]
  },
  {
   "cell_type": "code",
   "execution_count": 398,
   "id": "adb88985-8438-45f9-8f08-fb292201b455",
   "metadata": {},
   "outputs": [],
   "source": [
    "\n",
    "feats_nu1234567 = np.load(\"data/three_center/feat_1234567_PCA.npy\")"
   ]
  },
  {
   "cell_type": "code",
   "execution_count": 401,
   "id": "db321960-70e3-4a05-98a0-9f3b93b13e13",
   "metadata": {},
   "outputs": [
    {
     "data": {
      "text/plain": [
       "(4000, 256)"
      ]
     },
     "execution_count": 401,
     "metadata": {},
     "output_type": "execute_result"
    }
   ],
   "source": [
    "feats_nu1234567.shape"
   ]
  },
  {
   "cell_type": "code",
   "execution_count": 158,
   "id": "e466ad03-8353-4d27-8867-d6fe058abaf4",
   "metadata": {},
   "outputs": [],
   "source": [
    "energy = torch.tensor([f.info[\"energy_rel_eV\"] for f in frames], device=device)"
   ]
  },
  {
   "cell_type": "code",
   "execution_count": 159,
   "id": "dd1f9be3-6364-45fb-9028-e2610227e1a1",
   "metadata": {},
   "outputs": [],
   "source": [
    "target = torch.tensor(feats_nu12345[:,:128], device=device)"
   ]
  },
  {
   "cell_type": "code",
   "execution_count": null,
   "id": "b104e9c4-c236-4039-9ef7-41489e136904",
   "metadata": {},
   "outputs": [],
   "source": [
    "inputs = feats_n2nu1"
   ]
  },
  {
   "cell_type": "code",
   "execution_count": 50,
   "id": "90dfd506-7e69-4de5-a058-c5a9e60ea073",
   "metadata": {},
   "outputs": [],
   "source": [
    "load_ext = True\n",
    "if load_ext:\n",
    "    e0 = -198.11364281310415\n",
    "    target = torch.tensor(np.load(\"data/three_center/feat_1234567_PCA.npy\")[:,:64], device=device)\n",
    "    energy = torch.tensor([(f.info[\"energy_ha\"]-e0)*27.211386 for f in aseio.read(\"data/three_center/boron/boron8_4000_pbeccpvdz.xyz\", \":\")], device=device)\n",
    "    inputs = torch.tensor(np.load(\"data/three_center/feat_3cnu1_PCA.npy\")[:,:64], device=device)    "
   ]
  },
  {
   "cell_type": "code",
   "execution_count": 7,
   "id": "1c49769f-6538-4ca6-8632-2096e2a2b1da",
   "metadata": {},
   "outputs": [
    {
     "data": {
      "text/plain": [
       "tensor([-0.0050, -0.0088,  0.0064,  0.0034, -0.0003,  0.0006, -0.0017, -0.0023,\n",
       "         0.0029,  0.0008], device='cuda:0')"
      ]
     },
     "execution_count": 7,
     "metadata": {},
     "output_type": "execute_result"
    }
   ],
   "source": [
    "inputs[70*64+23][:10]"
   ]
  },
  {
   "cell_type": "code",
   "execution_count": 8,
   "id": "c037ff7e-a5e0-4e80-8032-6823c8c94d11",
   "metadata": {},
   "outputs": [
    {
     "data": {
      "text/plain": [
       "tensor([-0.0005,  0.0051, -0.0102,  0.0026, -0.0002,  0.0014, -0.0023,  0.0021,\n",
       "        -0.0028,  0.0001], device='cuda:0')"
      ]
     },
     "execution_count": 8,
     "metadata": {},
     "output_type": "execute_result"
    }
   ],
   "source": [
    "inputs[71*64+23][:10]"
   ]
  },
  {
   "cell_type": "code",
   "execution_count": 12,
   "id": "87ad8159-0eee-41d9-aae8-8137404d2676",
   "metadata": {},
   "outputs": [
    {
     "data": {
      "text/plain": [
       "(torch.Size([4000, 64]), torch.Size([256000, 64]))"
      ]
     },
     "execution_count": 12,
     "metadata": {},
     "output_type": "execute_result"
    }
   ],
   "source": [
    "target.shape, inputs.shape"
   ]
  },
  {
   "cell_type": "code",
   "execution_count": 9,
   "id": "147b354e-2491-48e8-a2c5-2975bd4d9d35",
   "metadata": {},
   "outputs": [
    {
     "name": "stdout",
     "output_type": "stream",
     "text": [
      "38\n"
     ]
    },
    {
     "data": {
      "image/png": "[encoded data removed]",
      "text/plain": [
       "<Figure size 432x288 with 1 Axes>"
      ]
     },
     "metadata": {
      "needs_background": "light"
     },
     "output_type": "display_data"
    }
   ],
   "source": [
    "deltas = np.sqrt(((target[::2]-target[1::2])**2).sum(axis=1).cpu().numpy())/np.sqrt(((target[::2]+target[1::2])**2).sum(axis=1).cpu().numpy())\n",
    "plt.plot(deltas )\n",
    "print(deltas.argmax())"
   ]
  },
  {
   "cell_type": "code",
   "execution_count": 8,
   "id": "8f6dd2d5-076f-427e-9e9c-4e6e9a9256ee",
   "metadata": {},
   "outputs": [],
   "source": [
    "mymodel = LinearEncodeDecode(64, 32, target.shape[-1])"
   ]
  },
  {
   "cell_type": "code",
   "execution_count": 10,
   "id": "5b2eb04e-b04b-4acb-80df-7531c202bbf3",
   "metadata": {},
   "outputs": [],
   "source": [
    "mymodel = EncodeDecode(64, 32, target.shape[-1])"
   ]
  },
  {
   "cell_type": "code",
   "execution_count": 11,
   "id": "65f33b2d-c755-48a1-a8dd-1fac2659773c",
   "metadata": {},
   "outputs": [
    {
     "data": {
      "text/plain": [
       "EncodeDecode(\n",
       "  (nn_encode): Sequential(\n",
       "    (0): Linear(in_features=64, out_features=64, bias=True)\n",
       "    (1): GroupNorm(8, 64, eps=1e-05, affine=True)\n",
       "    (2): Softplus(beta=1, threshold=20)\n",
       "    (3): Linear(in_features=64, out_features=64, bias=True)\n",
       "    (4): GroupNorm(8, 64, eps=1e-05, affine=True)\n",
       "    (5): Softplus(beta=1, threshold=20)\n",
       "    (6): Linear(in_features=64, out_features=32, bias=True)\n",
       "  )\n",
       "  (nn_decode): Sequential(\n",
       "    (0): Linear(in_features=32, out_features=64, bias=True)\n",
       "    (1): GroupNorm(8, 64, eps=1e-05, affine=True)\n",
       "    (2): Softplus(beta=1, threshold=20)\n",
       "    (3): Linear(in_features=64, out_features=64, bias=True)\n",
       "    (4): GroupNorm(8, 64, eps=1e-05, affine=True)\n",
       "    (5): Softplus(beta=1, threshold=20)\n",
       "    (6): Linear(in_features=64, out_features=64, bias=True)\n",
       "  )\n",
       ")"
      ]
     },
     "execution_count": 11,
     "metadata": {},
     "output_type": "execute_result"
    }
   ],
   "source": [
    "mymodel.initialize_model_weights(inputs, seed=12345)\n",
    "mymodel.to(device=device)"
   ]
  },
  {
   "cell_type": "markdown",
   "id": "a3f8d36a-47aa-4305-8bfc-a3bde8629ce3",
   "metadata": {
    "jp-MarkdownHeadingCollapsed": true,
    "tags": []
   },
   "source": [
    "# Run optimization for decoder/encoder"
   ]
  },
  {
   "cell_type": "code",
   "execution_count": 8,
   "id": "54cb57b8-0460-4b6c-aa2a-6532304653b5",
   "metadata": {},
   "outputs": [
    {
     "ename": "NameError",
     "evalue": "name 'mymodel' is not defined",
     "output_type": "error",
     "traceback": [
      "\u001b[0;31m---------------------------------------------------------------------------\u001b[0m",
      "\u001b[0;31mNameError\u001b[0m                                 Traceback (most recent call last)",
      "\u001b[0;32m<ipython-input-8-692d4f88955d>\u001b[0m in \u001b[0;36m<module>\u001b[0;34m\u001b[0m\n\u001b[1;32m      1\u001b[0m optimizer = torch.optim.Adam(\n\u001b[0;32m----> 2\u001b[0;31m         \u001b[0mmymodel\u001b[0m\u001b[0;34m.\u001b[0m\u001b[0mparameters\u001b[0m\u001b[0;34m(\u001b[0m\u001b[0;34m)\u001b[0m\u001b[0;34m,\u001b[0m\u001b[0;34m\u001b[0m\u001b[0;34m\u001b[0m\u001b[0m\n\u001b[0m\u001b[1;32m      3\u001b[0m         \u001b[0mlr\u001b[0m\u001b[0;34m=\u001b[0m\u001b[0;36m0.001\u001b[0m\u001b[0;34m\u001b[0m\u001b[0;34m\u001b[0m\u001b[0m\n\u001b[1;32m      4\u001b[0m     )\n\u001b[1;32m      5\u001b[0m \u001b[0mlr_scheduler\u001b[0m \u001b[0;34m=\u001b[0m \u001b[0mtorch\u001b[0m\u001b[0;34m.\u001b[0m\u001b[0moptim\u001b[0m\u001b[0;34m.\u001b[0m\u001b[0mlr_scheduler\u001b[0m\u001b[0;34m.\u001b[0m\u001b[0mReduceLROnPlateau\u001b[0m\u001b[0;34m(\u001b[0m\u001b[0moptimizer\u001b[0m\u001b[0;34m,\u001b[0m \u001b[0mfactor\u001b[0m \u001b[0;34m=\u001b[0m \u001b[0;36m0.8\u001b[0m\u001b[0;34m,\u001b[0m \u001b[0mpatience\u001b[0m \u001b[0;34m=\u001b[0m \u001b[0;36m100\u001b[0m\u001b[0;34m)\u001b[0m\u001b[0;34m\u001b[0m\u001b[0;34m\u001b[0m\u001b[0m\n",
      "\u001b[0;31mNameError\u001b[0m: name 'mymodel' is not defined"
     ]
    }
   ],
   "source": [
    "optimizer = torch.optim.Adam(\n",
    "        mymodel.parameters(),\n",
    "        lr=0.001\n",
    "    )\n",
    "lr_scheduler = torch.optim.lr_scheduler.ReduceLROnPlateau(optimizer, factor = 0.8, patience = 100)"
   ]
  },
  {
   "cell_type": "code",
   "execution_count": 9,
   "id": "599a82cb-7b6f-4f31-a110-e942f4d3c6f2",
   "metadata": {},
   "outputs": [],
   "source": [
    "structure_idx = np.concatenate([ [i]*64 for i in range(len(energy))])"
   ]
  },
  {
   "cell_type": "code",
   "execution_count": 22,
   "id": "23bca97c-81f2-468c-9b44-30f34c6f20f3",
   "metadata": {
    "scrolled": true,
    "tags": []
   },
   "outputs": [
    {
     "ename": "OutOfMemoryError",
     "evalue": "CUDA out of memory. Tried to allocate 94.00 MiB (GPU 0; 1.94 GiB total capacity; 1.01 GiB already allocated; 81.25 MiB free; 1.01 GiB reserved in total by PyTorch) If reserved memory is >> allocated memory try setting max_split_size_mb to avoid fragmentation.  See documentation for Memory Management and PYTORCH_CUDA_ALLOC_CONF",
     "output_type": "error",
     "traceback": [
      "\u001b[0;31m---------------------------------------------------------------------------\u001b[0m",
      "\u001b[0;31mOutOfMemoryError\u001b[0m                          Traceback (most recent call last)",
      "\u001b[0;32m<ipython-input-22-92604a0227a2>\u001b[0m in \u001b[0;36m<module>\u001b[0;34m\u001b[0m\n\u001b[1;32m      5\u001b[0m \u001b[0;34m\u001b[0m\u001b[0m\n\u001b[1;32m      6\u001b[0m     \u001b[0moptimizer\u001b[0m\u001b[0;34m.\u001b[0m\u001b[0mzero_grad\u001b[0m\u001b[0;34m(\u001b[0m\u001b[0;34m)\u001b[0m\u001b[0;34m\u001b[0m\u001b[0;34m\u001b[0m\u001b[0m\n\u001b[0;32m----> 7\u001b[0;31m     \u001b[0mpredicted\u001b[0m \u001b[0;34m=\u001b[0m \u001b[0mmymodel\u001b[0m\u001b[0;34m(\u001b[0m\u001b[0minputs\u001b[0m\u001b[0;34m[\u001b[0m\u001b[0;34m:\u001b[0m\u001b[0mntrain\u001b[0m\u001b[0;34m*\u001b[0m\u001b[0mntriples\u001b[0m\u001b[0;34m]\u001b[0m\u001b[0;34m,\u001b[0m \u001b[0mstructure_idx\u001b[0m\u001b[0;34m[\u001b[0m\u001b[0;34m:\u001b[0m\u001b[0mntrain\u001b[0m\u001b[0;34m*\u001b[0m\u001b[0mntriples\u001b[0m\u001b[0;34m]\u001b[0m\u001b[0;34m)\u001b[0m\u001b[0;34m\u001b[0m\u001b[0;34m\u001b[0m\u001b[0m\n\u001b[0m\u001b[1;32m      8\u001b[0m     \u001b[0mloss\u001b[0m \u001b[0;34m=\u001b[0m \u001b[0mloss_mse\u001b[0m\u001b[0;34m(\u001b[0m\u001b[0mpredicted\u001b[0m\u001b[0;34m,\u001b[0m \u001b[0mtarget\u001b[0m\u001b[0;34m[\u001b[0m\u001b[0;34m:\u001b[0m\u001b[0mntrain\u001b[0m\u001b[0;34m]\u001b[0m\u001b[0;34m)\u001b[0m\u001b[0;34m\u001b[0m\u001b[0;34m\u001b[0m\u001b[0m\n\u001b[1;32m      9\u001b[0m     \u001b[0mloss\u001b[0m\u001b[0;34m.\u001b[0m\u001b[0mbackward\u001b[0m\u001b[0;34m(\u001b[0m\u001b[0mretain_graph\u001b[0m\u001b[0;34m=\u001b[0m\u001b[0;32mFalse\u001b[0m\u001b[0;34m)\u001b[0m\u001b[0;34m\u001b[0m\u001b[0;34m\u001b[0m\u001b[0m\n",
      "\u001b[0;32m~/local/lib/python3.8/site-packages/torch/nn/modules/module.py\u001b[0m in \u001b[0;36m_call_impl\u001b[0;34m(self, *input, **kwargs)\u001b[0m\n\u001b[1;32m   1192\u001b[0m         if not (self._backward_hooks or self._forward_hooks or self._forward_pre_hooks or _global_backward_hooks\n\u001b[1;32m   1193\u001b[0m                 or _global_forward_hooks or _global_forward_pre_hooks):\n\u001b[0;32m-> 1194\u001b[0;31m             \u001b[0;32mreturn\u001b[0m \u001b[0mforward_call\u001b[0m\u001b[0;34m(\u001b[0m\u001b[0;34m*\u001b[0m\u001b[0minput\u001b[0m\u001b[0;34m,\u001b[0m \u001b[0;34m**\u001b[0m\u001b[0mkwargs\u001b[0m\u001b[0;34m)\u001b[0m\u001b[0;34m\u001b[0m\u001b[0;34m\u001b[0m\u001b[0m\n\u001b[0m\u001b[1;32m   1195\u001b[0m         \u001b[0;31m# Do not call functions when jit is used\u001b[0m\u001b[0;34m\u001b[0m\u001b[0;34m\u001b[0m\u001b[0;34m\u001b[0m\u001b[0m\n\u001b[1;32m   1196\u001b[0m         \u001b[0mfull_backward_hooks\u001b[0m\u001b[0;34m,\u001b[0m \u001b[0mnon_full_backward_hooks\u001b[0m \u001b[0;34m=\u001b[0m \u001b[0;34m[\u001b[0m\u001b[0;34m]\u001b[0m\u001b[0;34m,\u001b[0m \u001b[0;34m[\u001b[0m\u001b[0;34m]\u001b[0m\u001b[0;34m\u001b[0m\u001b[0;34m\u001b[0m\u001b[0m\n",
      "\u001b[0;32m<ipython-input-5-f9dbbf4cb4ed>\u001b[0m in \u001b[0;36mforward\u001b[0;34m(self, block, samples)\u001b[0m\n\u001b[1;32m     55\u001b[0m             \u001b[0;32mraise\u001b[0m \u001b[0mException\u001b[0m\u001b[0;34m(\u001b[0m\u001b[0;34m\"call initialize_weights first\"\u001b[0m\u001b[0;34m)\u001b[0m\u001b[0;34m\u001b[0m\u001b[0;34m\u001b[0m\u001b[0m\n\u001b[1;32m     56\u001b[0m \u001b[0;34m\u001b[0m\u001b[0m\n\u001b[0;32m---> 57\u001b[0;31m         \u001b[0moutputs\u001b[0m \u001b[0;34m=\u001b[0m \u001b[0mself\u001b[0m\u001b[0;34m.\u001b[0m\u001b[0mnn_decode\u001b[0m\u001b[0;34m(\u001b[0m\u001b[0mself\u001b[0m\u001b[0;34m.\u001b[0m\u001b[0mfeats\u001b[0m\u001b[0;34m(\u001b[0m\u001b[0mblock\u001b[0m\u001b[0;34m,\u001b[0m \u001b[0msamples\u001b[0m\u001b[0;34m)\u001b[0m\u001b[0;34m)\u001b[0m\u001b[0;34m\u001b[0m\u001b[0;34m\u001b[0m\u001b[0m\n\u001b[0m\u001b[1;32m     58\u001b[0m         \u001b[0;32mreturn\u001b[0m \u001b[0moutputs\u001b[0m\u001b[0;34m\u001b[0m\u001b[0;34m\u001b[0m\u001b[0m\n",
      "\u001b[0;32m<ipython-input-5-f9dbbf4cb4ed>\u001b[0m in \u001b[0;36mfeats\u001b[0;34m(self, block, samples)\u001b[0m\n\u001b[1;32m     46\u001b[0m         )\n\u001b[1;32m     47\u001b[0m \u001b[0;34m\u001b[0m\u001b[0m\n\u001b[0;32m---> 48\u001b[0;31m         \u001b[0mnn_per_triple\u001b[0m \u001b[0;34m=\u001b[0m \u001b[0mself\u001b[0m\u001b[0;34m.\u001b[0m\u001b[0mnn_encode\u001b[0m\u001b[0;34m(\u001b[0m\u001b[0mtensor\u001b[0m\u001b[0;34m)\u001b[0m\u001b[0;34m\u001b[0m\u001b[0;34m\u001b[0m\u001b[0m\n\u001b[0m\u001b[1;32m     49\u001b[0m         \u001b[0mnn_per_structure\u001b[0m \u001b[0;34m=\u001b[0m \u001b[0mtorch\u001b[0m\u001b[0;34m.\u001b[0m\u001b[0mzeros\u001b[0m\u001b[0;34m(\u001b[0m\u001b[0;34m(\u001b[0m\u001b[0mlen\u001b[0m\u001b[0;34m(\u001b[0m\u001b[0mnew_samples\u001b[0m\u001b[0;34m)\u001b[0m\u001b[0;34m,\u001b[0m \u001b[0mnn_per_triple\u001b[0m\u001b[0;34m.\u001b[0m\u001b[0mshape\u001b[0m\u001b[0;34m[\u001b[0m\u001b[0;34m-\u001b[0m\u001b[0;36m1\u001b[0m\u001b[0;34m]\u001b[0m\u001b[0;34m)\u001b[0m\u001b[0;34m,\u001b[0m \u001b[0mdevice\u001b[0m\u001b[0;34m=\u001b[0m\u001b[0mtensor\u001b[0m\u001b[0;34m.\u001b[0m\u001b[0mdevice\u001b[0m\u001b[0;34m)\u001b[0m\u001b[0;34m\u001b[0m\u001b[0;34m\u001b[0m\u001b[0m\n\u001b[1;32m     50\u001b[0m         \u001b[0mnn_per_structure\u001b[0m\u001b[0;34m.\u001b[0m\u001b[0mindex_add_\u001b[0m\u001b[0;34m(\u001b[0m\u001b[0;36m0\u001b[0m\u001b[0;34m,\u001b[0m \u001b[0mstructure_map\u001b[0m\u001b[0;34m,\u001b[0m \u001b[0mnn_per_triple\u001b[0m\u001b[0;34m)\u001b[0m\u001b[0;34m\u001b[0m\u001b[0;34m\u001b[0m\u001b[0m\n",
      "\u001b[0;32m~/local/lib/python3.8/site-packages/torch/nn/modules/module.py\u001b[0m in \u001b[0;36m_call_impl\u001b[0;34m(self, *input, **kwargs)\u001b[0m\n\u001b[1;32m   1192\u001b[0m         if not (self._backward_hooks or self._forward_hooks or self._forward_pre_hooks or _global_backward_hooks\n\u001b[1;32m   1193\u001b[0m                 or _global_forward_hooks or _global_forward_pre_hooks):\n\u001b[0;32m-> 1194\u001b[0;31m             \u001b[0;32mreturn\u001b[0m \u001b[0mforward_call\u001b[0m\u001b[0;34m(\u001b[0m\u001b[0;34m*\u001b[0m\u001b[0minput\u001b[0m\u001b[0;34m,\u001b[0m \u001b[0;34m**\u001b[0m\u001b[0mkwargs\u001b[0m\u001b[0;34m)\u001b[0m\u001b[0;34m\u001b[0m\u001b[0;34m\u001b[0m\u001b[0m\n\u001b[0m\u001b[1;32m   1195\u001b[0m         \u001b[0;31m# Do not call functions when jit is used\u001b[0m\u001b[0;34m\u001b[0m\u001b[0;34m\u001b[0m\u001b[0;34m\u001b[0m\u001b[0m\n\u001b[1;32m   1196\u001b[0m         \u001b[0mfull_backward_hooks\u001b[0m\u001b[0;34m,\u001b[0m \u001b[0mnon_full_backward_hooks\u001b[0m \u001b[0;34m=\u001b[0m \u001b[0;34m[\u001b[0m\u001b[0;34m]\u001b[0m\u001b[0;34m,\u001b[0m \u001b[0;34m[\u001b[0m\u001b[0;34m]\u001b[0m\u001b[0;34m\u001b[0m\u001b[0;34m\u001b[0m\u001b[0m\n",
      "\u001b[0;32m~/local/lib/python3.8/site-packages/torch/nn/modules/container.py\u001b[0m in \u001b[0;36mforward\u001b[0;34m(self, input)\u001b[0m\n\u001b[1;32m    202\u001b[0m     \u001b[0;32mdef\u001b[0m \u001b[0mforward\u001b[0m\u001b[0;34m(\u001b[0m\u001b[0mself\u001b[0m\u001b[0;34m,\u001b[0m \u001b[0minput\u001b[0m\u001b[0;34m)\u001b[0m\u001b[0;34m:\u001b[0m\u001b[0;34m\u001b[0m\u001b[0;34m\u001b[0m\u001b[0m\n\u001b[1;32m    203\u001b[0m         \u001b[0;32mfor\u001b[0m \u001b[0mmodule\u001b[0m \u001b[0;32min\u001b[0m \u001b[0mself\u001b[0m\u001b[0;34m:\u001b[0m\u001b[0;34m\u001b[0m\u001b[0;34m\u001b[0m\u001b[0m\n\u001b[0;32m--> 204\u001b[0;31m             \u001b[0minput\u001b[0m \u001b[0;34m=\u001b[0m \u001b[0mmodule\u001b[0m\u001b[0;34m(\u001b[0m\u001b[0minput\u001b[0m\u001b[0;34m)\u001b[0m\u001b[0;34m\u001b[0m\u001b[0;34m\u001b[0m\u001b[0m\n\u001b[0m\u001b[1;32m    205\u001b[0m         \u001b[0;32mreturn\u001b[0m \u001b[0minput\u001b[0m\u001b[0;34m\u001b[0m\u001b[0;34m\u001b[0m\u001b[0m\n\u001b[1;32m    206\u001b[0m \u001b[0;34m\u001b[0m\u001b[0m\n",
      "\u001b[0;32m~/local/lib/python3.8/site-packages/torch/nn/modules/module.py\u001b[0m in \u001b[0;36m_call_impl\u001b[0;34m(self, *input, **kwargs)\u001b[0m\n\u001b[1;32m   1192\u001b[0m         if not (self._backward_hooks or self._forward_hooks or self._forward_pre_hooks or _global_backward_hooks\n\u001b[1;32m   1193\u001b[0m                 or _global_forward_hooks or _global_forward_pre_hooks):\n\u001b[0;32m-> 1194\u001b[0;31m             \u001b[0;32mreturn\u001b[0m \u001b[0mforward_call\u001b[0m\u001b[0;34m(\u001b[0m\u001b[0;34m*\u001b[0m\u001b[0minput\u001b[0m\u001b[0;34m,\u001b[0m \u001b[0;34m**\u001b[0m\u001b[0mkwargs\u001b[0m\u001b[0;34m)\u001b[0m\u001b[0;34m\u001b[0m\u001b[0;34m\u001b[0m\u001b[0m\n\u001b[0m\u001b[1;32m   1195\u001b[0m         \u001b[0;31m# Do not call functions when jit is used\u001b[0m\u001b[0;34m\u001b[0m\u001b[0;34m\u001b[0m\u001b[0;34m\u001b[0m\u001b[0m\n\u001b[1;32m   1196\u001b[0m         \u001b[0mfull_backward_hooks\u001b[0m\u001b[0;34m,\u001b[0m \u001b[0mnon_full_backward_hooks\u001b[0m \u001b[0;34m=\u001b[0m \u001b[0;34m[\u001b[0m\u001b[0;34m]\u001b[0m\u001b[0;34m,\u001b[0m \u001b[0;34m[\u001b[0m\u001b[0;34m]\u001b[0m\u001b[0;34m\u001b[0m\u001b[0;34m\u001b[0m\u001b[0m\n",
      "\u001b[0;32m~/local/lib/python3.8/site-packages/torch/nn/modules/linear.py\u001b[0m in \u001b[0;36mforward\u001b[0;34m(self, input)\u001b[0m\n\u001b[1;32m    112\u001b[0m \u001b[0;34m\u001b[0m\u001b[0m\n\u001b[1;32m    113\u001b[0m     \u001b[0;32mdef\u001b[0m \u001b[0mforward\u001b[0m\u001b[0;34m(\u001b[0m\u001b[0mself\u001b[0m\u001b[0;34m,\u001b[0m \u001b[0minput\u001b[0m\u001b[0;34m:\u001b[0m \u001b[0mTensor\u001b[0m\u001b[0;34m)\u001b[0m \u001b[0;34m->\u001b[0m \u001b[0mTensor\u001b[0m\u001b[0;34m:\u001b[0m\u001b[0;34m\u001b[0m\u001b[0;34m\u001b[0m\u001b[0m\n\u001b[0;32m--> 114\u001b[0;31m         \u001b[0;32mreturn\u001b[0m \u001b[0mF\u001b[0m\u001b[0;34m.\u001b[0m\u001b[0mlinear\u001b[0m\u001b[0;34m(\u001b[0m\u001b[0minput\u001b[0m\u001b[0;34m,\u001b[0m \u001b[0mself\u001b[0m\u001b[0;34m.\u001b[0m\u001b[0mweight\u001b[0m\u001b[0;34m,\u001b[0m \u001b[0mself\u001b[0m\u001b[0;34m.\u001b[0m\u001b[0mbias\u001b[0m\u001b[0;34m)\u001b[0m\u001b[0;34m\u001b[0m\u001b[0;34m\u001b[0m\u001b[0m\n\u001b[0m\u001b[1;32m    115\u001b[0m \u001b[0;34m\u001b[0m\u001b[0m\n\u001b[1;32m    116\u001b[0m     \u001b[0;32mdef\u001b[0m \u001b[0mextra_repr\u001b[0m\u001b[0;34m(\u001b[0m\u001b[0mself\u001b[0m\u001b[0;34m)\u001b[0m \u001b[0;34m->\u001b[0m \u001b[0mstr\u001b[0m\u001b[0;34m:\u001b[0m\u001b[0;34m\u001b[0m\u001b[0;34m\u001b[0m\u001b[0m\n",
      "\u001b[0;31mOutOfMemoryError\u001b[0m: CUDA out of memory. Tried to allocate 94.00 MiB (GPU 0; 1.94 GiB total capacity; 1.01 GiB already allocated; 81.25 MiB free; 1.01 GiB reserved in total by PyTorch) If reserved memory is >> allocated memory try setting max_split_size_mb to avoid fragmentation.  See documentation for Memory Management and PYTORCH_CUDA_ALLOC_CONF"
     ]
    }
   ],
   "source": [
    "n_epochs = 20000\n",
    "ntrain = 3000\n",
    "ntriples = 64\n",
    "for epoch in range(0, n_epochs):\n",
    "    \n",
    "    optimizer.zero_grad()\n",
    "    predicted = mymodel(inputs[:ntrain*ntriples], structure_idx[:ntrain*ntriples])\n",
    "    loss = loss_mse(predicted, target[:ntrain])\n",
    "    loss.backward(retain_graph=False)\n",
    "    optimizer.step()\n",
    "    lr_scheduler.step(loss)\n",
    "    \n",
    "    if epoch % 100 ==0:\n",
    "        predicted = mymodel(inputs[ntrain*ntriples:], structure_idx[ntrain*ntriples:])\n",
    "        print(\"Epoch:\", epoch, \"Energy RMSE: train \", np.sqrt(loss.detach().cpu().numpy().flatten()[0]/ntrain),\n",
    "         \"test\", np.sqrt(loss_mse(predicted, target[ntrain:]).detach().cpu().numpy().flatten()[0]/ (len(energy)-ntrain)) )"
   ]
  },
  {
   "cell_type": "code",
   "execution_count": 17,
   "id": "5227d4ca-c2c5-4645-a4b3-d66609ca7a92",
   "metadata": {},
   "outputs": [],
   "source": [
    "optimizer = torch.optim.LBFGS(\n",
    "        mymodel.parameters(),\n",
    "        lr=0.1,\n",
    "        line_search_fn=\"strong_wolfe\",\n",
    "        history_size=128,\n",
    "    )"
   ]
  },
  {
   "cell_type": "code",
   "execution_count": 499,
   "id": "04446ae2-02f9-477d-8bd7-384cc941d3b3",
   "metadata": {
    "scrolled": true,
    "tags": []
   },
   "outputs": [
    {
     "name": "stdout",
     "output_type": "stream",
     "text": [
      "Epoch: 0 Energy RMSE: train  0.10760958580615715 test 0.1083940130379326\n",
      "Epoch: 10 Energy RMSE: train  0.1076045397662901 test 0.10838777046503507\n",
      "Epoch: 20 Energy RMSE: train  0.10759684358871298 test 0.10836798676631391\n",
      "Epoch: 30 Energy RMSE: train  0.10758902277384708 test 0.10835425786004738\n",
      "Epoch: 40 Energy RMSE: train  0.10757776175922495 test 0.1083419745592631\n",
      "Epoch: 50 Energy RMSE: train  0.10756182316494972 test 0.10834875490621786\n",
      "Epoch: 60 Energy RMSE: train  0.10753717978521317 test 0.10834859957001623\n",
      "Epoch: 70 Energy RMSE: train  0.10751052427015088 test 0.10836399599078107\n",
      "Epoch: 80 Energy RMSE: train  0.10749126228323773 test 0.1083252620559031\n",
      "Epoch: 90 Energy RMSE: train  0.10746912733379257 test 0.10831656641370883\n",
      "Epoch: 100 Energy RMSE: train  0.10742671255569856 test 0.10829970596434939\n",
      "Epoch: 110 Energy RMSE: train  0.10739469547766368 test 0.10824812792460192\n",
      "Epoch: 120 Energy RMSE: train  0.10736768607446108 test 0.10824441742928526\n",
      "Epoch: 130 Energy RMSE: train  0.10734250666222399 test 0.10820763729734106\n",
      "Epoch: 140 Energy RMSE: train  0.1073253123256348 test 0.10820379754824369\n",
      "Epoch: 150 Energy RMSE: train  0.10731027014275982 test 0.10818410194877912\n",
      "Epoch: 160 Energy RMSE: train  0.10729758380489486 test 0.10818780050842142\n",
      "Epoch: 170 Energy RMSE: train  0.10727780307053543 test 0.10817402576998406\n",
      "Epoch: 180 Energy RMSE: train  0.10726137604463228 test 0.10815067448048064\n",
      "Epoch: 190 Energy RMSE: train  0.10724834198948424 test 0.108133815110153\n",
      "Epoch: 200 Energy RMSE: train  0.10723291183307776 test 0.10810355256659337\n",
      "Epoch: 210 Energy RMSE: train  0.1072215555054204 test 0.10809919586469888\n",
      "Epoch: 220 Energy RMSE: train  0.1072066181267865 test 0.10809410288570964\n",
      "Epoch: 230 Energy RMSE: train  0.10719241961220476 test 0.1080923361931503\n",
      "Epoch: 240 Energy RMSE: train  0.1071817001644982 test 0.10808576586459462\n",
      "Epoch: 250 Energy RMSE: train  0.10717443505825566 test 0.10808051078413693\n",
      "Epoch: 260 Energy RMSE: train  0.10716530256713341 test 0.10808422294360694\n",
      "Epoch: 270 Energy RMSE: train  0.10716050622994139 test 0.10808120779084338\n",
      "Epoch: 280 Energy RMSE: train  0.10715459882254817 test 0.10808924251026507\n",
      "Epoch: 290 Energy RMSE: train  0.1071466255230528 test 0.10809579446872594\n",
      "Epoch: 300 Energy RMSE: train  0.10714398162148321 test 0.1080981618913085\n",
      "Epoch: 310 Energy RMSE: train  0.1071391691253481 test 0.10811938578643975\n",
      "Epoch: 320 Energy RMSE: train  0.10713425244073037 test 0.10813454761953731\n",
      "Epoch: 330 Energy RMSE: train  0.10712682540751757 test 0.10814180332777071\n",
      "Epoch: 340 Energy RMSE: train  0.10711719145770342 test 0.10815194933388776\n",
      "Epoch: 350 Energy RMSE: train  0.10710667063056739 test 0.10815610106993609\n",
      "Epoch: 360 Energy RMSE: train  0.10709616817729886 test 0.10817462768807219\n",
      "Epoch: 370 Energy RMSE: train  0.10709016737450595 test 0.1081554736057532\n",
      "Epoch: 380 Energy RMSE: train  0.10708396221366671 test 0.10817904429869109\n",
      "Epoch: 390 Energy RMSE: train  0.1070789278863248 test 0.10817111549239146\n",
      "Epoch: 400 Energy RMSE: train  0.10707253651966228 test 0.10817954071078217\n",
      "Epoch: 410 Energy RMSE: train  0.1070666428700348 test 0.1081634892576804\n",
      "Epoch: 420 Energy RMSE: train  0.10706016115055164 test 0.10814733666707564\n",
      "Epoch: 430 Energy RMSE: train  0.10705300953141289 test 0.10815317826345412\n",
      "Epoch: 440 Energy RMSE: train  0.1070433054001408 test 0.10813916344883667\n",
      "Epoch: 450 Energy RMSE: train  0.10703751145783508 test 0.10812850688360603\n",
      "Epoch: 460 Energy RMSE: train  0.10702784638751997 test 0.10813184934155338\n",
      "Epoch: 470 Energy RMSE: train  0.10701915504305323 test 0.10815355512968679\n",
      "Epoch: 480 Energy RMSE: train  0.10700512645570977 test 0.10814821567530761\n",
      "Epoch: 490 Energy RMSE: train  0.10699487930110789 test 0.10814173788592943\n",
      "Epoch: 500 Energy RMSE: train  0.1069811212715819 test 0.10812359072082955\n",
      "Epoch: 510 Energy RMSE: train  0.10696340031204077 test 0.10808211559750193\n",
      "Epoch: 520 Energy RMSE: train  0.1069490292157582 test 0.10806862668121354\n",
      "Epoch: 530 Energy RMSE: train  0.10693716140292003 test 0.1080530787186309\n",
      "Epoch: 540 Energy RMSE: train  0.10692638323605 test 0.10802803773603306\n",
      "Epoch: 550 Energy RMSE: train  0.10691621497687678 test 0.10801798175346741\n",
      "Epoch: 560 Energy RMSE: train  0.10690666162042803 test 0.1080067228250413\n",
      "Epoch: 570 Energy RMSE: train  0.10689859978646425 test 0.10797870539406514\n",
      "Epoch: 580 Energy RMSE: train  0.10688752577383472 test 0.10800298010254124\n",
      "Epoch: 590 Energy RMSE: train  0.10687649601284561 test 0.10801208924692339\n",
      "Epoch: 600 Energy RMSE: train  0.10686631096362625 test 0.10799348541628329\n",
      "Epoch: 610 Energy RMSE: train  0.10685768804200531 test 0.10799151849228206\n",
      "Epoch: 620 Energy RMSE: train  0.10684877970133211 test 0.10798134680023619\n",
      "Epoch: 630 Energy RMSE: train  0.10683976539762213 test 0.10796558707611162\n",
      "Epoch: 640 Energy RMSE: train  0.10683394784261813 test 0.1079614848027388\n",
      "Epoch: 650 Energy RMSE: train  0.1068282556360998 test 0.10794795328147101\n",
      "Epoch: 660 Energy RMSE: train  0.10682331978733182 test 0.10793273569904467\n",
      "Epoch: 670 Energy RMSE: train  0.10681573156727277 test 0.10793399405343002\n",
      "Epoch: 680 Energy RMSE: train  0.10680698271772116 test 0.10795375622566955\n",
      "Epoch: 690 Energy RMSE: train  0.10679449596511066 test 0.1079726621115819\n",
      "Epoch: 700 Energy RMSE: train  0.10678338879601118 test 0.10795007570950545\n",
      "Epoch: 710 Energy RMSE: train  0.10677246485336163 test 0.10795672720948035\n",
      "Epoch: 720 Energy RMSE: train  0.10676581770483627 test 0.10794382517395634\n",
      "Epoch: 730 Energy RMSE: train  0.10676113632399735 test 0.1079601697298955\n",
      "Epoch: 740 Energy RMSE: train  0.10675372704509728 test 0.10794454798931633\n",
      "Epoch: 750 Energy RMSE: train  0.10674828820509369 test 0.10794588112260727\n",
      "Epoch: 760 Energy RMSE: train  0.1067431631758204 test 0.10793776255267684\n",
      "Epoch: 770 Energy RMSE: train  0.10673718513582436 test 0.10792218045047902\n",
      "Epoch: 780 Energy RMSE: train  0.1067305293439122 test 0.10791713570141338\n",
      "Epoch: 790 Energy RMSE: train  0.10672500233143735 test 0.1079097277562642\n",
      "Epoch: 800 Energy RMSE: train  0.106716136432782 test 0.10792157943443385\n",
      "Epoch: 810 Energy RMSE: train  0.10670373529194334 test 0.10792055656292227\n",
      "Epoch: 820 Energy RMSE: train  0.10669509500287416 test 0.10791286812705946\n",
      "Epoch: 830 Energy RMSE: train  0.10668701480267541 test 0.10791711165878325\n",
      "Epoch: 840 Energy RMSE: train  0.10667623982571067 test 0.107906882998404\n",
      "Epoch: 850 Energy RMSE: train  0.10666297266979605 test 0.10789459947268613\n",
      "Epoch: 860 Energy RMSE: train  0.10665061039951386 test 0.10786481068937559\n",
      "Epoch: 870 Energy RMSE: train  0.10664168727687671 test 0.10787480380389528\n",
      "Epoch: 880 Energy RMSE: train  0.10662847571443501 test 0.10784867357531767\n",
      "Epoch: 890 Energy RMSE: train  0.10661553894982985 test 0.10784016751585383\n",
      "Epoch: 900 Energy RMSE: train  0.10660468093045937 test 0.10783850608906054\n",
      "Epoch: 910 Energy RMSE: train  0.1065944406652942 test 0.10783597896370406\n",
      "Epoch: 920 Energy RMSE: train  0.10658440746969326 test 0.10784681141585395\n",
      "Epoch: 930 Energy RMSE: train  0.1065729713659578 test 0.10785477419223387\n",
      "Epoch: 940 Energy RMSE: train  0.10656461942568818 test 0.10786946825195144\n",
      "Epoch: 950 Energy RMSE: train  0.10655492623710039 test 0.10788593370550364\n",
      "Epoch: 960 Energy RMSE: train  0.10654491638113324 test 0.10787962323454867\n",
      "Epoch: 970 Energy RMSE: train  0.10652981569647832 test 0.10788245280466321\n",
      "Epoch: 980 Energy RMSE: train  0.10651324036425709 test 0.10789810380184521\n"
     ]
    },
    {
     "ename": "KeyboardInterrupt",
     "evalue": "",
     "output_type": "error",
     "traceback": [
      "\u001b[0;31m---------------------------------------------------------------------------\u001b[0m",
      "\u001b[0;31mKeyboardInterrupt\u001b[0m                         Traceback (most recent call last)",
      "\u001b[0;32m<ipython-input-499-c1c1af8d32a0>\u001b[0m in \u001b[0;36m<module>\u001b[0;34m\u001b[0m\n\u001b[1;32m     15\u001b[0m         \u001b[0;32mreturn\u001b[0m \u001b[0mloss\u001b[0m\u001b[0;34m\u001b[0m\u001b[0;34m\u001b[0m\u001b[0m\n\u001b[1;32m     16\u001b[0m \u001b[0;34m\u001b[0m\u001b[0m\n\u001b[0;32m---> 17\u001b[0;31m     \u001b[0mloss\u001b[0m \u001b[0;34m=\u001b[0m \u001b[0moptimizer\u001b[0m\u001b[0;34m.\u001b[0m\u001b[0mstep\u001b[0m\u001b[0;34m(\u001b[0m\u001b[0msingle_step\u001b[0m\u001b[0;34m)\u001b[0m\u001b[0;34m\u001b[0m\u001b[0;34m\u001b[0m\u001b[0m\n\u001b[0m\u001b[1;32m     18\u001b[0m \u001b[0;34m\u001b[0m\u001b[0m\n\u001b[1;32m     19\u001b[0m     \u001b[0;32mif\u001b[0m \u001b[0mepoch\u001b[0m \u001b[0;34m%\u001b[0m \u001b[0;36m10\u001b[0m \u001b[0;34m==\u001b[0m\u001b[0;36m0\u001b[0m\u001b[0;34m:\u001b[0m\u001b[0;34m\u001b[0m\u001b[0;34m\u001b[0m\u001b[0m\n",
      "\u001b[0;32m~/local/lib/python3.8/site-packages/torch/optim/optimizer.py\u001b[0m in \u001b[0;36mwrapper\u001b[0;34m(*args, **kwargs)\u001b[0m\n\u001b[1;32m    138\u001b[0m                 \u001b[0mprofile_name\u001b[0m \u001b[0;34m=\u001b[0m \u001b[0;34m\"Optimizer.step#{}.step\"\u001b[0m\u001b[0;34m.\u001b[0m\u001b[0mformat\u001b[0m\u001b[0;34m(\u001b[0m\u001b[0mobj\u001b[0m\u001b[0;34m.\u001b[0m\u001b[0m__class__\u001b[0m\u001b[0;34m.\u001b[0m\u001b[0m__name__\u001b[0m\u001b[0;34m)\u001b[0m\u001b[0;34m\u001b[0m\u001b[0;34m\u001b[0m\u001b[0m\n\u001b[1;32m    139\u001b[0m                 \u001b[0;32mwith\u001b[0m \u001b[0mtorch\u001b[0m\u001b[0;34m.\u001b[0m\u001b[0mautograd\u001b[0m\u001b[0;34m.\u001b[0m\u001b[0mprofiler\u001b[0m\u001b[0;34m.\u001b[0m\u001b[0mrecord_function\u001b[0m\u001b[0;34m(\u001b[0m\u001b[0mprofile_name\u001b[0m\u001b[0;34m)\u001b[0m\u001b[0;34m:\u001b[0m\u001b[0;34m\u001b[0m\u001b[0;34m\u001b[0m\u001b[0m\n\u001b[0;32m--> 140\u001b[0;31m                     \u001b[0mout\u001b[0m \u001b[0;34m=\u001b[0m \u001b[0mfunc\u001b[0m\u001b[0;34m(\u001b[0m\u001b[0;34m*\u001b[0m\u001b[0margs\u001b[0m\u001b[0;34m,\u001b[0m \u001b[0;34m**\u001b[0m\u001b[0mkwargs\u001b[0m\u001b[0;34m)\u001b[0m\u001b[0;34m\u001b[0m\u001b[0;34m\u001b[0m\u001b[0m\n\u001b[0m\u001b[1;32m    141\u001b[0m                     \u001b[0mobj\u001b[0m\u001b[0;34m.\u001b[0m\u001b[0m_optimizer_step_code\u001b[0m\u001b[0;34m(\u001b[0m\u001b[0;34m)\u001b[0m\u001b[0;34m\u001b[0m\u001b[0;34m\u001b[0m\u001b[0m\n\u001b[1;32m    142\u001b[0m                     \u001b[0;32mreturn\u001b[0m \u001b[0mout\u001b[0m\u001b[0;34m\u001b[0m\u001b[0;34m\u001b[0m\u001b[0m\n",
      "\u001b[0;32m~/local/lib/python3.8/site-packages/torch/autograd/grad_mode.py\u001b[0m in \u001b[0;36mdecorate_context\u001b[0;34m(*args, **kwargs)\u001b[0m\n\u001b[1;32m     25\u001b[0m         \u001b[0;32mdef\u001b[0m \u001b[0mdecorate_context\u001b[0m\u001b[0;34m(\u001b[0m\u001b[0;34m*\u001b[0m\u001b[0margs\u001b[0m\u001b[0;34m,\u001b[0m \u001b[0;34m**\u001b[0m\u001b[0mkwargs\u001b[0m\u001b[0;34m)\u001b[0m\u001b[0;34m:\u001b[0m\u001b[0;34m\u001b[0m\u001b[0;34m\u001b[0m\u001b[0m\n\u001b[1;32m     26\u001b[0m             \u001b[0;32mwith\u001b[0m \u001b[0mself\u001b[0m\u001b[0;34m.\u001b[0m\u001b[0mclone\u001b[0m\u001b[0;34m(\u001b[0m\u001b[0;34m)\u001b[0m\u001b[0;34m:\u001b[0m\u001b[0;34m\u001b[0m\u001b[0;34m\u001b[0m\u001b[0m\n\u001b[0;32m---> 27\u001b[0;31m                 \u001b[0;32mreturn\u001b[0m \u001b[0mfunc\u001b[0m\u001b[0;34m(\u001b[0m\u001b[0;34m*\u001b[0m\u001b[0margs\u001b[0m\u001b[0;34m,\u001b[0m \u001b[0;34m**\u001b[0m\u001b[0mkwargs\u001b[0m\u001b[0;34m)\u001b[0m\u001b[0;34m\u001b[0m\u001b[0;34m\u001b[0m\u001b[0m\n\u001b[0m\u001b[1;32m     28\u001b[0m         \u001b[0;32mreturn\u001b[0m \u001b[0mcast\u001b[0m\u001b[0;34m(\u001b[0m\u001b[0mF\u001b[0m\u001b[0;34m,\u001b[0m \u001b[0mdecorate_context\u001b[0m\u001b[0;34m)\u001b[0m\u001b[0;34m\u001b[0m\u001b[0;34m\u001b[0m\u001b[0m\n\u001b[1;32m     29\u001b[0m \u001b[0;34m\u001b[0m\u001b[0m\n",
      "\u001b[0;32m~/local/lib/python3.8/site-packages/torch/optim/lbfgs.py\u001b[0m in \u001b[0;36mstep\u001b[0;34m(self, closure)\u001b[0m\n\u001b[1;32m    424\u001b[0m                         \u001b[0;32mreturn\u001b[0m \u001b[0mself\u001b[0m\u001b[0;34m.\u001b[0m\u001b[0m_directional_evaluate\u001b[0m\u001b[0;34m(\u001b[0m\u001b[0mclosure\u001b[0m\u001b[0;34m,\u001b[0m \u001b[0mx\u001b[0m\u001b[0;34m,\u001b[0m \u001b[0mt\u001b[0m\u001b[0;34m,\u001b[0m \u001b[0md\u001b[0m\u001b[0;34m)\u001b[0m\u001b[0;34m\u001b[0m\u001b[0;34m\u001b[0m\u001b[0m\n\u001b[1;32m    425\u001b[0m \u001b[0;34m\u001b[0m\u001b[0m\n\u001b[0;32m--> 426\u001b[0;31m                     loss, flat_grad, t, ls_func_evals = _strong_wolfe(\n\u001b[0m\u001b[1;32m    427\u001b[0m                         obj_func, x_init, t, d, loss, flat_grad, gtd)\n\u001b[1;32m    428\u001b[0m                 \u001b[0mself\u001b[0m\u001b[0;34m.\u001b[0m\u001b[0m_add_grad\u001b[0m\u001b[0;34m(\u001b[0m\u001b[0mt\u001b[0m\u001b[0;34m,\u001b[0m \u001b[0md\u001b[0m\u001b[0;34m)\u001b[0m\u001b[0;34m\u001b[0m\u001b[0;34m\u001b[0m\u001b[0m\n",
      "\u001b[0;32m~/local/lib/python3.8/site-packages/torch/optim/lbfgs.py\u001b[0m in \u001b[0;36m_strong_wolfe\u001b[0;34m(obj_func, x, t, d, f, g, gtd, c1, c2, tolerance_change, max_ls)\u001b[0m\n\u001b[1;32m     48\u001b[0m     \u001b[0mg\u001b[0m \u001b[0;34m=\u001b[0m \u001b[0mg\u001b[0m\u001b[0;34m.\u001b[0m\u001b[0mclone\u001b[0m\u001b[0;34m(\u001b[0m\u001b[0mmemory_format\u001b[0m\u001b[0;34m=\u001b[0m\u001b[0mtorch\u001b[0m\u001b[0;34m.\u001b[0m\u001b[0mcontiguous_format\u001b[0m\u001b[0;34m)\u001b[0m\u001b[0;34m\u001b[0m\u001b[0;34m\u001b[0m\u001b[0m\n\u001b[1;32m     49\u001b[0m     \u001b[0;31m# evaluate objective and gradient using initial step\u001b[0m\u001b[0;34m\u001b[0m\u001b[0;34m\u001b[0m\u001b[0;34m\u001b[0m\u001b[0m\n\u001b[0;32m---> 50\u001b[0;31m     \u001b[0mf_new\u001b[0m\u001b[0;34m,\u001b[0m \u001b[0mg_new\u001b[0m \u001b[0;34m=\u001b[0m \u001b[0mobj_func\u001b[0m\u001b[0;34m(\u001b[0m\u001b[0mx\u001b[0m\u001b[0;34m,\u001b[0m \u001b[0mt\u001b[0m\u001b[0;34m,\u001b[0m \u001b[0md\u001b[0m\u001b[0;34m)\u001b[0m\u001b[0;34m\u001b[0m\u001b[0;34m\u001b[0m\u001b[0m\n\u001b[0m\u001b[1;32m     51\u001b[0m     \u001b[0mls_func_evals\u001b[0m \u001b[0;34m=\u001b[0m \u001b[0;36m1\u001b[0m\u001b[0;34m\u001b[0m\u001b[0;34m\u001b[0m\u001b[0m\n\u001b[1;32m     52\u001b[0m     \u001b[0mgtd_new\u001b[0m \u001b[0;34m=\u001b[0m \u001b[0mg_new\u001b[0m\u001b[0;34m.\u001b[0m\u001b[0mdot\u001b[0m\u001b[0;34m(\u001b[0m\u001b[0md\u001b[0m\u001b[0;34m)\u001b[0m\u001b[0;34m\u001b[0m\u001b[0;34m\u001b[0m\u001b[0m\n",
      "\u001b[0;32m~/local/lib/python3.8/site-packages/torch/optim/lbfgs.py\u001b[0m in \u001b[0;36mobj_func\u001b[0;34m(x, t, d)\u001b[0m\n\u001b[1;32m    422\u001b[0m \u001b[0;34m\u001b[0m\u001b[0m\n\u001b[1;32m    423\u001b[0m                     \u001b[0;32mdef\u001b[0m \u001b[0mobj_func\u001b[0m\u001b[0;34m(\u001b[0m\u001b[0mx\u001b[0m\u001b[0;34m,\u001b[0m \u001b[0mt\u001b[0m\u001b[0;34m,\u001b[0m \u001b[0md\u001b[0m\u001b[0;34m)\u001b[0m\u001b[0;34m:\u001b[0m\u001b[0;34m\u001b[0m\u001b[0;34m\u001b[0m\u001b[0m\n\u001b[0;32m--> 424\u001b[0;31m                         \u001b[0;32mreturn\u001b[0m \u001b[0mself\u001b[0m\u001b[0;34m.\u001b[0m\u001b[0m_directional_evaluate\u001b[0m\u001b[0;34m(\u001b[0m\u001b[0mclosure\u001b[0m\u001b[0;34m,\u001b[0m \u001b[0mx\u001b[0m\u001b[0;34m,\u001b[0m \u001b[0mt\u001b[0m\u001b[0;34m,\u001b[0m \u001b[0md\u001b[0m\u001b[0;34m)\u001b[0m\u001b[0;34m\u001b[0m\u001b[0;34m\u001b[0m\u001b[0m\n\u001b[0m\u001b[1;32m    425\u001b[0m \u001b[0;34m\u001b[0m\u001b[0m\n\u001b[1;32m    426\u001b[0m                     loss, flat_grad, t, ls_func_evals = _strong_wolfe(\n",
      "\u001b[0;32m~/local/lib/python3.8/site-packages/torch/optim/lbfgs.py\u001b[0m in \u001b[0;36m_directional_evaluate\u001b[0;34m(self, closure, x, t, d)\u001b[0m\n\u001b[1;32m    276\u001b[0m     \u001b[0;32mdef\u001b[0m \u001b[0m_directional_evaluate\u001b[0m\u001b[0;34m(\u001b[0m\u001b[0mself\u001b[0m\u001b[0;34m,\u001b[0m \u001b[0mclosure\u001b[0m\u001b[0;34m,\u001b[0m \u001b[0mx\u001b[0m\u001b[0;34m,\u001b[0m \u001b[0mt\u001b[0m\u001b[0;34m,\u001b[0m \u001b[0md\u001b[0m\u001b[0;34m)\u001b[0m\u001b[0;34m:\u001b[0m\u001b[0;34m\u001b[0m\u001b[0;34m\u001b[0m\u001b[0m\n\u001b[1;32m    277\u001b[0m         \u001b[0mself\u001b[0m\u001b[0;34m.\u001b[0m\u001b[0m_add_grad\u001b[0m\u001b[0;34m(\u001b[0m\u001b[0mt\u001b[0m\u001b[0;34m,\u001b[0m \u001b[0md\u001b[0m\u001b[0;34m)\u001b[0m\u001b[0;34m\u001b[0m\u001b[0;34m\u001b[0m\u001b[0m\n\u001b[0;32m--> 278\u001b[0;31m         \u001b[0mloss\u001b[0m \u001b[0;34m=\u001b[0m \u001b[0mfloat\u001b[0m\u001b[0;34m(\u001b[0m\u001b[0mclosure\u001b[0m\u001b[0;34m(\u001b[0m\u001b[0;34m)\u001b[0m\u001b[0;34m)\u001b[0m\u001b[0;34m\u001b[0m\u001b[0;34m\u001b[0m\u001b[0m\n\u001b[0m\u001b[1;32m    279\u001b[0m         \u001b[0mflat_grad\u001b[0m \u001b[0;34m=\u001b[0m \u001b[0mself\u001b[0m\u001b[0;34m.\u001b[0m\u001b[0m_gather_flat_grad\u001b[0m\u001b[0;34m(\u001b[0m\u001b[0;34m)\u001b[0m\u001b[0;34m\u001b[0m\u001b[0;34m\u001b[0m\u001b[0m\n\u001b[1;32m    280\u001b[0m         \u001b[0mself\u001b[0m\u001b[0;34m.\u001b[0m\u001b[0m_set_param\u001b[0m\u001b[0;34m(\u001b[0m\u001b[0mx\u001b[0m\u001b[0;34m)\u001b[0m\u001b[0;34m\u001b[0m\u001b[0;34m\u001b[0m\u001b[0m\n",
      "\u001b[0;32m~/local/lib/python3.8/site-packages/torch/autograd/grad_mode.py\u001b[0m in \u001b[0;36mdecorate_context\u001b[0;34m(*args, **kwargs)\u001b[0m\n\u001b[1;32m     25\u001b[0m         \u001b[0;32mdef\u001b[0m \u001b[0mdecorate_context\u001b[0m\u001b[0;34m(\u001b[0m\u001b[0;34m*\u001b[0m\u001b[0margs\u001b[0m\u001b[0;34m,\u001b[0m \u001b[0;34m**\u001b[0m\u001b[0mkwargs\u001b[0m\u001b[0;34m)\u001b[0m\u001b[0;34m:\u001b[0m\u001b[0;34m\u001b[0m\u001b[0;34m\u001b[0m\u001b[0m\n\u001b[1;32m     26\u001b[0m             \u001b[0;32mwith\u001b[0m \u001b[0mself\u001b[0m\u001b[0;34m.\u001b[0m\u001b[0mclone\u001b[0m\u001b[0;34m(\u001b[0m\u001b[0;34m)\u001b[0m\u001b[0;34m:\u001b[0m\u001b[0;34m\u001b[0m\u001b[0;34m\u001b[0m\u001b[0m\n\u001b[0;32m---> 27\u001b[0;31m                 \u001b[0;32mreturn\u001b[0m \u001b[0mfunc\u001b[0m\u001b[0;34m(\u001b[0m\u001b[0;34m*\u001b[0m\u001b[0margs\u001b[0m\u001b[0;34m,\u001b[0m \u001b[0;34m**\u001b[0m\u001b[0mkwargs\u001b[0m\u001b[0;34m)\u001b[0m\u001b[0;34m\u001b[0m\u001b[0;34m\u001b[0m\u001b[0m\n\u001b[0m\u001b[1;32m     28\u001b[0m         \u001b[0;32mreturn\u001b[0m \u001b[0mcast\u001b[0m\u001b[0;34m(\u001b[0m\u001b[0mF\u001b[0m\u001b[0;34m,\u001b[0m \u001b[0mdecorate_context\u001b[0m\u001b[0;34m)\u001b[0m\u001b[0;34m\u001b[0m\u001b[0;34m\u001b[0m\u001b[0m\n\u001b[1;32m     29\u001b[0m \u001b[0;34m\u001b[0m\u001b[0m\n",
      "\u001b[0;32m<ipython-input-499-c1c1af8d32a0>\u001b[0m in \u001b[0;36msingle_step\u001b[0;34m()\u001b[0m\n\u001b[1;32m     12\u001b[0m         \u001b[0mloss\u001b[0m \u001b[0;34m+=\u001b[0m \u001b[0mloss_mse\u001b[0m\u001b[0;34m(\u001b[0m\u001b[0mpredicted\u001b[0m\u001b[0;34m,\u001b[0m \u001b[0mtarget\u001b[0m\u001b[0;34m[\u001b[0m\u001b[0;34m:\u001b[0m\u001b[0mntrain\u001b[0m\u001b[0;34m]\u001b[0m\u001b[0;34m)\u001b[0m\u001b[0;34m\u001b[0m\u001b[0;34m\u001b[0m\u001b[0m\n\u001b[1;32m     13\u001b[0m \u001b[0;34m\u001b[0m\u001b[0m\n\u001b[0;32m---> 14\u001b[0;31m         \u001b[0mloss\u001b[0m\u001b[0;34m.\u001b[0m\u001b[0mbackward\u001b[0m\u001b[0;34m(\u001b[0m\u001b[0mretain_graph\u001b[0m\u001b[0;34m=\u001b[0m\u001b[0;32mFalse\u001b[0m\u001b[0;34m)\u001b[0m\u001b[0;34m\u001b[0m\u001b[0;34m\u001b[0m\u001b[0m\n\u001b[0m\u001b[1;32m     15\u001b[0m         \u001b[0;32mreturn\u001b[0m \u001b[0mloss\u001b[0m\u001b[0;34m\u001b[0m\u001b[0;34m\u001b[0m\u001b[0m\n\u001b[1;32m     16\u001b[0m \u001b[0;34m\u001b[0m\u001b[0m\n",
      "\u001b[0;32m~/local/lib/python3.8/site-packages/torch/_tensor.py\u001b[0m in \u001b[0;36mbackward\u001b[0;34m(self, gradient, retain_graph, create_graph, inputs)\u001b[0m\n\u001b[1;32m    486\u001b[0m                 \u001b[0minputs\u001b[0m\u001b[0;34m=\u001b[0m\u001b[0minputs\u001b[0m\u001b[0;34m,\u001b[0m\u001b[0;34m\u001b[0m\u001b[0;34m\u001b[0m\u001b[0m\n\u001b[1;32m    487\u001b[0m             )\n\u001b[0;32m--> 488\u001b[0;31m         torch.autograd.backward(\n\u001b[0m\u001b[1;32m    489\u001b[0m             \u001b[0mself\u001b[0m\u001b[0;34m,\u001b[0m \u001b[0mgradient\u001b[0m\u001b[0;34m,\u001b[0m \u001b[0mretain_graph\u001b[0m\u001b[0;34m,\u001b[0m \u001b[0mcreate_graph\u001b[0m\u001b[0;34m,\u001b[0m \u001b[0minputs\u001b[0m\u001b[0;34m=\u001b[0m\u001b[0minputs\u001b[0m\u001b[0;34m\u001b[0m\u001b[0;34m\u001b[0m\u001b[0m\n\u001b[1;32m    490\u001b[0m         )\n",
      "\u001b[0;32m~/local/lib/python3.8/site-packages/torch/autograd/__init__.py\u001b[0m in \u001b[0;36mbackward\u001b[0;34m(tensors, grad_tensors, retain_graph, create_graph, grad_variables, inputs)\u001b[0m\n\u001b[1;32m    195\u001b[0m     \u001b[0;31m# some Python versions print out the first line of a multi-line function\u001b[0m\u001b[0;34m\u001b[0m\u001b[0;34m\u001b[0m\u001b[0;34m\u001b[0m\u001b[0m\n\u001b[1;32m    196\u001b[0m     \u001b[0;31m# calls in the traceback and some print out the last line\u001b[0m\u001b[0;34m\u001b[0m\u001b[0;34m\u001b[0m\u001b[0;34m\u001b[0m\u001b[0m\n\u001b[0;32m--> 197\u001b[0;31m     Variable._execution_engine.run_backward(  # Calls into the C++ engine to run the backward pass\n\u001b[0m\u001b[1;32m    198\u001b[0m         \u001b[0mtensors\u001b[0m\u001b[0;34m,\u001b[0m \u001b[0mgrad_tensors_\u001b[0m\u001b[0;34m,\u001b[0m \u001b[0mretain_graph\u001b[0m\u001b[0;34m,\u001b[0m \u001b[0mcreate_graph\u001b[0m\u001b[0;34m,\u001b[0m \u001b[0minputs\u001b[0m\u001b[0;34m,\u001b[0m\u001b[0;34m\u001b[0m\u001b[0;34m\u001b[0m\u001b[0m\n\u001b[1;32m    199\u001b[0m         allow_unreachable=True, accumulate_grad=True)  # Calls into the C++ engine to run the backward pass\n",
      "\u001b[0;31mKeyboardInterrupt\u001b[0m: "
     ]
    }
   ],
   "source": [
    "n_epochs = 10000\n",
    "ntrain = 512\n",
    "ntriples = 64\n",
    "for epoch in range(0, n_epochs):\n",
    "    \n",
    "    def single_step():\n",
    "        # global composition, radial_spectrum, spherical_expansions, energies\n",
    "        optimizer.zero_grad()\n",
    "        loss = torch.zeros(size=(1,), device=device)\n",
    "        \n",
    "        predicted = mymodel(inputs[:ntrain*ntriples], structure_idx[:ntrain*ntriples])\n",
    "        loss += loss_mse(predicted, target[:ntrain])\n",
    "        \n",
    "        loss.backward(retain_graph=False)\n",
    "        return loss\n",
    "\n",
    "    loss = optimizer.step(single_step)\n",
    "        \n",
    "    if epoch % 10 ==0:\n",
    "        predicted = mymodel(inputs[ntrain*ntriples:], structure_idx[ntrain*ntriples:])\n",
    "        print(\"Epoch:\", epoch, \"Energy RMSE: train \", np.sqrt(loss.detach().cpu().numpy().flatten()[0]/ntrain),\n",
    "         \"test\", np.sqrt(loss_mse(predicted, target[ntrain:]).detach().cpu().numpy().flatten()[0]/ (len(energy)-ntrain)) )"
   ]
  },
  {
   "cell_type": "code",
   "execution_count": null,
   "id": "75426a2b-772d-4803-ab9c-292b5ceb857b",
   "metadata": {},
   "outputs": [],
   "source": []
  },
  {
   "cell_type": "code",
   "execution_count": 20,
   "id": "3b471c16-3869-4415-8e1b-77057ba8bff9",
   "metadata": {},
   "outputs": [
    {
     "ename": "OutOfMemoryError",
     "evalue": "CUDA out of memory. Tried to allocate 126.00 MiB (GPU 0; 1.94 GiB total capacity; 1.01 GiB already allocated; 94.06 MiB free; 1.01 GiB reserved in total by PyTorch) If reserved memory is >> allocated memory try setting max_split_size_mb to avoid fragmentation.  See documentation for Memory Management and PYTORCH_CUDA_ALLOC_CONF",
     "output_type": "error",
     "traceback": [
      "\u001b[0;31m---------------------------------------------------------------------------\u001b[0m",
      "\u001b[0;31mOutOfMemoryError\u001b[0m                          Traceback (most recent call last)",
      "\u001b[0;32m<timed exec>\u001b[0m in \u001b[0;36m<module>\u001b[0;34m\u001b[0m\n",
      "\u001b[0;32m~/local/lib/python3.8/site-packages/torch/nn/modules/module.py\u001b[0m in \u001b[0;36m_call_impl\u001b[0;34m(self, *input, **kwargs)\u001b[0m\n\u001b[1;32m   1192\u001b[0m         if not (self._backward_hooks or self._forward_hooks or self._forward_pre_hooks or _global_backward_hooks\n\u001b[1;32m   1193\u001b[0m                 or _global_forward_hooks or _global_forward_pre_hooks):\n\u001b[0;32m-> 1194\u001b[0;31m             \u001b[0;32mreturn\u001b[0m \u001b[0mforward_call\u001b[0m\u001b[0;34m(\u001b[0m\u001b[0;34m*\u001b[0m\u001b[0minput\u001b[0m\u001b[0;34m,\u001b[0m \u001b[0;34m**\u001b[0m\u001b[0mkwargs\u001b[0m\u001b[0;34m)\u001b[0m\u001b[0;34m\u001b[0m\u001b[0;34m\u001b[0m\u001b[0m\n\u001b[0m\u001b[1;32m   1195\u001b[0m         \u001b[0;31m# Do not call functions when jit is used\u001b[0m\u001b[0;34m\u001b[0m\u001b[0;34m\u001b[0m\u001b[0;34m\u001b[0m\u001b[0m\n\u001b[1;32m   1196\u001b[0m         \u001b[0mfull_backward_hooks\u001b[0m\u001b[0;34m,\u001b[0m \u001b[0mnon_full_backward_hooks\u001b[0m \u001b[0;34m=\u001b[0m \u001b[0;34m[\u001b[0m\u001b[0;34m]\u001b[0m\u001b[0;34m,\u001b[0m \u001b[0;34m[\u001b[0m\u001b[0;34m]\u001b[0m\u001b[0;34m\u001b[0m\u001b[0;34m\u001b[0m\u001b[0m\n",
      "\u001b[0;32m<ipython-input-5-f9dbbf4cb4ed>\u001b[0m in \u001b[0;36mforward\u001b[0;34m(self, block, samples)\u001b[0m\n\u001b[1;32m     55\u001b[0m             \u001b[0;32mraise\u001b[0m \u001b[0mException\u001b[0m\u001b[0;34m(\u001b[0m\u001b[0;34m\"call initialize_weights first\"\u001b[0m\u001b[0;34m)\u001b[0m\u001b[0;34m\u001b[0m\u001b[0;34m\u001b[0m\u001b[0m\n\u001b[1;32m     56\u001b[0m \u001b[0;34m\u001b[0m\u001b[0m\n\u001b[0;32m---> 57\u001b[0;31m         \u001b[0moutputs\u001b[0m \u001b[0;34m=\u001b[0m \u001b[0mself\u001b[0m\u001b[0;34m.\u001b[0m\u001b[0mnn_decode\u001b[0m\u001b[0;34m(\u001b[0m\u001b[0mself\u001b[0m\u001b[0;34m.\u001b[0m\u001b[0mfeats\u001b[0m\u001b[0;34m(\u001b[0m\u001b[0mblock\u001b[0m\u001b[0;34m,\u001b[0m \u001b[0msamples\u001b[0m\u001b[0;34m)\u001b[0m\u001b[0;34m)\u001b[0m\u001b[0;34m\u001b[0m\u001b[0;34m\u001b[0m\u001b[0m\n\u001b[0m\u001b[1;32m     58\u001b[0m         \u001b[0;32mreturn\u001b[0m \u001b[0moutputs\u001b[0m\u001b[0;34m\u001b[0m\u001b[0;34m\u001b[0m\u001b[0m\n",
      "\u001b[0;32m<ipython-input-5-f9dbbf4cb4ed>\u001b[0m in \u001b[0;36mfeats\u001b[0;34m(self, block, samples)\u001b[0m\n\u001b[1;32m     46\u001b[0m         )\n\u001b[1;32m     47\u001b[0m \u001b[0;34m\u001b[0m\u001b[0m\n\u001b[0;32m---> 48\u001b[0;31m         \u001b[0mnn_per_triple\u001b[0m \u001b[0;34m=\u001b[0m \u001b[0mself\u001b[0m\u001b[0;34m.\u001b[0m\u001b[0mnn_encode\u001b[0m\u001b[0;34m(\u001b[0m\u001b[0mtensor\u001b[0m\u001b[0;34m)\u001b[0m\u001b[0;34m\u001b[0m\u001b[0;34m\u001b[0m\u001b[0m\n\u001b[0m\u001b[1;32m     49\u001b[0m         \u001b[0mnn_per_structure\u001b[0m \u001b[0;34m=\u001b[0m \u001b[0mtorch\u001b[0m\u001b[0;34m.\u001b[0m\u001b[0mzeros\u001b[0m\u001b[0;34m(\u001b[0m\u001b[0;34m(\u001b[0m\u001b[0mlen\u001b[0m\u001b[0;34m(\u001b[0m\u001b[0mnew_samples\u001b[0m\u001b[0;34m)\u001b[0m\u001b[0;34m,\u001b[0m \u001b[0mnn_per_triple\u001b[0m\u001b[0;34m.\u001b[0m\u001b[0mshape\u001b[0m\u001b[0;34m[\u001b[0m\u001b[0;34m-\u001b[0m\u001b[0;36m1\u001b[0m\u001b[0;34m]\u001b[0m\u001b[0;34m)\u001b[0m\u001b[0;34m,\u001b[0m \u001b[0mdevice\u001b[0m\u001b[0;34m=\u001b[0m\u001b[0mtensor\u001b[0m\u001b[0;34m.\u001b[0m\u001b[0mdevice\u001b[0m\u001b[0;34m)\u001b[0m\u001b[0;34m\u001b[0m\u001b[0;34m\u001b[0m\u001b[0m\n\u001b[1;32m     50\u001b[0m         \u001b[0mnn_per_structure\u001b[0m\u001b[0;34m.\u001b[0m\u001b[0mindex_add_\u001b[0m\u001b[0;34m(\u001b[0m\u001b[0;36m0\u001b[0m\u001b[0;34m,\u001b[0m \u001b[0mstructure_map\u001b[0m\u001b[0;34m,\u001b[0m \u001b[0mnn_per_triple\u001b[0m\u001b[0;34m)\u001b[0m\u001b[0;34m\u001b[0m\u001b[0;34m\u001b[0m\u001b[0m\n",
      "\u001b[0;32m~/local/lib/python3.8/site-packages/torch/nn/modules/module.py\u001b[0m in \u001b[0;36m_call_impl\u001b[0;34m(self, *input, **kwargs)\u001b[0m\n\u001b[1;32m   1192\u001b[0m         if not (self._backward_hooks or self._forward_hooks or self._forward_pre_hooks or _global_backward_hooks\n\u001b[1;32m   1193\u001b[0m                 or _global_forward_hooks or _global_forward_pre_hooks):\n\u001b[0;32m-> 1194\u001b[0;31m             \u001b[0;32mreturn\u001b[0m \u001b[0mforward_call\u001b[0m\u001b[0;34m(\u001b[0m\u001b[0;34m*\u001b[0m\u001b[0minput\u001b[0m\u001b[0;34m,\u001b[0m \u001b[0;34m**\u001b[0m\u001b[0mkwargs\u001b[0m\u001b[0;34m)\u001b[0m\u001b[0;34m\u001b[0m\u001b[0;34m\u001b[0m\u001b[0m\n\u001b[0m\u001b[1;32m   1195\u001b[0m         \u001b[0;31m# Do not call functions when jit is used\u001b[0m\u001b[0;34m\u001b[0m\u001b[0;34m\u001b[0m\u001b[0;34m\u001b[0m\u001b[0m\n\u001b[1;32m   1196\u001b[0m         \u001b[0mfull_backward_hooks\u001b[0m\u001b[0;34m,\u001b[0m \u001b[0mnon_full_backward_hooks\u001b[0m \u001b[0;34m=\u001b[0m \u001b[0;34m[\u001b[0m\u001b[0;34m]\u001b[0m\u001b[0;34m,\u001b[0m \u001b[0;34m[\u001b[0m\u001b[0;34m]\u001b[0m\u001b[0;34m\u001b[0m\u001b[0;34m\u001b[0m\u001b[0m\n",
      "\u001b[0;32m~/local/lib/python3.8/site-packages/torch/nn/modules/container.py\u001b[0m in \u001b[0;36mforward\u001b[0;34m(self, input)\u001b[0m\n\u001b[1;32m    202\u001b[0m     \u001b[0;32mdef\u001b[0m \u001b[0mforward\u001b[0m\u001b[0;34m(\u001b[0m\u001b[0mself\u001b[0m\u001b[0;34m,\u001b[0m \u001b[0minput\u001b[0m\u001b[0;34m)\u001b[0m\u001b[0;34m:\u001b[0m\u001b[0;34m\u001b[0m\u001b[0;34m\u001b[0m\u001b[0m\n\u001b[1;32m    203\u001b[0m         \u001b[0;32mfor\u001b[0m \u001b[0mmodule\u001b[0m \u001b[0;32min\u001b[0m \u001b[0mself\u001b[0m\u001b[0;34m:\u001b[0m\u001b[0;34m\u001b[0m\u001b[0;34m\u001b[0m\u001b[0m\n\u001b[0;32m--> 204\u001b[0;31m             \u001b[0minput\u001b[0m \u001b[0;34m=\u001b[0m \u001b[0mmodule\u001b[0m\u001b[0;34m(\u001b[0m\u001b[0minput\u001b[0m\u001b[0;34m)\u001b[0m\u001b[0;34m\u001b[0m\u001b[0;34m\u001b[0m\u001b[0m\n\u001b[0m\u001b[1;32m    205\u001b[0m         \u001b[0;32mreturn\u001b[0m \u001b[0minput\u001b[0m\u001b[0;34m\u001b[0m\u001b[0;34m\u001b[0m\u001b[0m\n\u001b[1;32m    206\u001b[0m \u001b[0;34m\u001b[0m\u001b[0m\n",
      "\u001b[0;32m~/local/lib/python3.8/site-packages/torch/nn/modules/module.py\u001b[0m in \u001b[0;36m_call_impl\u001b[0;34m(self, *input, **kwargs)\u001b[0m\n\u001b[1;32m   1192\u001b[0m         if not (self._backward_hooks or self._forward_hooks or self._forward_pre_hooks or _global_backward_hooks\n\u001b[1;32m   1193\u001b[0m                 or _global_forward_hooks or _global_forward_pre_hooks):\n\u001b[0;32m-> 1194\u001b[0;31m             \u001b[0;32mreturn\u001b[0m \u001b[0mforward_call\u001b[0m\u001b[0;34m(\u001b[0m\u001b[0;34m*\u001b[0m\u001b[0minput\u001b[0m\u001b[0;34m,\u001b[0m \u001b[0;34m**\u001b[0m\u001b[0mkwargs\u001b[0m\u001b[0;34m)\u001b[0m\u001b[0;34m\u001b[0m\u001b[0;34m\u001b[0m\u001b[0m\n\u001b[0m\u001b[1;32m   1195\u001b[0m         \u001b[0;31m# Do not call functions when jit is used\u001b[0m\u001b[0;34m\u001b[0m\u001b[0;34m\u001b[0m\u001b[0;34m\u001b[0m\u001b[0m\n\u001b[1;32m   1196\u001b[0m         \u001b[0mfull_backward_hooks\u001b[0m\u001b[0;34m,\u001b[0m \u001b[0mnon_full_backward_hooks\u001b[0m \u001b[0;34m=\u001b[0m \u001b[0;34m[\u001b[0m\u001b[0;34m]\u001b[0m\u001b[0;34m,\u001b[0m \u001b[0;34m[\u001b[0m\u001b[0;34m]\u001b[0m\u001b[0;34m\u001b[0m\u001b[0;34m\u001b[0m\u001b[0m\n",
      "\u001b[0;32m~/local/lib/python3.8/site-packages/torch/nn/modules/linear.py\u001b[0m in \u001b[0;36mforward\u001b[0;34m(self, input)\u001b[0m\n\u001b[1;32m    112\u001b[0m \u001b[0;34m\u001b[0m\u001b[0m\n\u001b[1;32m    113\u001b[0m     \u001b[0;32mdef\u001b[0m \u001b[0mforward\u001b[0m\u001b[0;34m(\u001b[0m\u001b[0mself\u001b[0m\u001b[0;34m,\u001b[0m \u001b[0minput\u001b[0m\u001b[0;34m:\u001b[0m \u001b[0mTensor\u001b[0m\u001b[0;34m)\u001b[0m \u001b[0;34m->\u001b[0m \u001b[0mTensor\u001b[0m\u001b[0;34m:\u001b[0m\u001b[0;34m\u001b[0m\u001b[0;34m\u001b[0m\u001b[0m\n\u001b[0;32m--> 114\u001b[0;31m         \u001b[0;32mreturn\u001b[0m \u001b[0mF\u001b[0m\u001b[0;34m.\u001b[0m\u001b[0mlinear\u001b[0m\u001b[0;34m(\u001b[0m\u001b[0minput\u001b[0m\u001b[0;34m,\u001b[0m \u001b[0mself\u001b[0m\u001b[0;34m.\u001b[0m\u001b[0mweight\u001b[0m\u001b[0;34m,\u001b[0m \u001b[0mself\u001b[0m\u001b[0;34m.\u001b[0m\u001b[0mbias\u001b[0m\u001b[0;34m)\u001b[0m\u001b[0;34m\u001b[0m\u001b[0;34m\u001b[0m\u001b[0m\n\u001b[0m\u001b[1;32m    115\u001b[0m \u001b[0;34m\u001b[0m\u001b[0m\n\u001b[1;32m    116\u001b[0m     \u001b[0;32mdef\u001b[0m \u001b[0mextra_repr\u001b[0m\u001b[0;34m(\u001b[0m\u001b[0mself\u001b[0m\u001b[0;34m)\u001b[0m \u001b[0;34m->\u001b[0m \u001b[0mstr\u001b[0m\u001b[0;34m:\u001b[0m\u001b[0;34m\u001b[0m\u001b[0;34m\u001b[0m\u001b[0m\n",
      "\u001b[0;31mOutOfMemoryError\u001b[0m: CUDA out of memory. Tried to allocate 126.00 MiB (GPU 0; 1.94 GiB total capacity; 1.01 GiB already allocated; 94.06 MiB free; 1.01 GiB reserved in total by PyTorch) If reserved memory is >> allocated memory try setting max_split_size_mb to avoid fragmentation.  See documentation for Memory Management and PYTORCH_CUDA_ALLOC_CONF"
     ]
    }
   ],
   "source": [
    "%%time \n",
    "predicted = mymodel(inputs, structure_idx)\n",
    "feats = mymodel(inputs, structure_idx)"
   ]
  },
  {
   "cell_type": "code",
   "execution_count": 39,
   "id": "1e7e74c9-65b2-4b52-a147-d7afd32c5796",
   "metadata": {},
   "outputs": [
    {
     "data": {
      "text/plain": [
       "0.12991086889906422"
      ]
     },
     "execution_count": 39,
     "metadata": {},
     "output_type": "execute_result"
    }
   ],
   "source": [
    "np.linalg.norm((predicted[:ntrain]-target[:ntrain]).cpu().detach() )/(\n",
    "    np.linalg.norm(target[:ntrain].cpu()) )"
   ]
  },
  {
   "cell_type": "code",
   "execution_count": 40,
   "id": "b6b1988a-e5ed-472c-87f8-e10ba3c4bf85",
   "metadata": {},
   "outputs": [
    {
     "data": {
      "text/plain": [
       "0.09100734129198965"
      ]
     },
     "execution_count": 40,
     "metadata": {},
     "output_type": "execute_result"
    }
   ],
   "source": [
    "np.linalg.norm((((predicted[:ntrain:2]+predicted[1:ntrain:2])/2) - ((target[:ntrain:2]+target[1:ntrain:2])/2)).cpu().detach() )/(\n",
    "    np.linalg.norm(target[:ntrain].cpu()) )"
   ]
  },
  {
   "cell_type": "code",
   "execution_count": 41,
   "id": "d7f51ab5-1059-413e-9c12-58568cf7a4cf",
   "metadata": {},
   "outputs": [
    {
     "data": {
      "text/plain": [
       "0.05536943489919749"
      ]
     },
     "execution_count": 41,
     "metadata": {},
     "output_type": "execute_result"
    }
   ],
   "source": [
    "np.linalg.norm((((predicted[ntrain::2]+predicted[ntrain+1::2])/2) - ((target[ntrain::2]+target[ntrain+1::2])/2)).cpu().detach() ) / (\n",
    "    np.linalg.norm(target[:ntrain].cpu()) )"
   ]
  },
  {
   "cell_type": "code",
   "execution_count": 42,
   "id": "98ad04e6-212a-4334-9dda-b46138000fd2",
   "metadata": {},
   "outputs": [
    {
     "data": {
      "text/plain": [
       "0.999999999816678"
      ]
     },
     "execution_count": 42,
     "metadata": {},
     "output_type": "execute_result"
    }
   ],
   "source": [
    "np.linalg.norm((((predicted[:ntrain:2]-predicted[1:ntrain:2])) - ((target[:ntrain:2]-target[1:ntrain:2]))).cpu().detach() )/ (\n",
    "    np.linalg.norm((target[:ntrain:2]-target[1:ntrain:2]).cpu()))"
   ]
  },
  {
   "cell_type": "code",
   "execution_count": 43,
   "id": "a9622130-3805-4eb3-9e5e-cd19014e82a1",
   "metadata": {},
   "outputs": [
    {
     "data": {
      "text/plain": [
       "0.9999999999340932"
      ]
     },
     "execution_count": 43,
     "metadata": {},
     "output_type": "execute_result"
    }
   ],
   "source": [
    "np.linalg.norm((((predicted[ntrain::2]-predicted[1+ntrain::2])) - \n",
    "                ((target[ntrain::2]-target[ntrain+1::2]))).cpu().detach() )/ (\n",
    "    np.linalg.norm((target[ntrain::2]-target[1+ntrain::2]).cpu()))"
   ]
  },
  {
   "cell_type": "code",
   "execution_count": 44,
   "id": "e039a164-536f-47c3-b798-77104de35607",
   "metadata": {},
   "outputs": [
    {
     "data": {
      "text/plain": [
       "[<matplotlib.lines.Line2D at 0x7f84c544c940>]"
      ]
     },
     "execution_count": 44,
     "metadata": {},
     "output_type": "execute_result"
    },
    {
     "data": {
      "image/png": "[encoded data removed]",
      "text/plain": [
       "<Figure size 432x288 with 1 Axes>"
      ]
     },
     "metadata": {
      "needs_background": "light"
     },
     "output_type": "display_data"
    }
   ],
   "source": [
    "plt.plot(feats[30].cpu().detach()-feats[31].cpu().detach())"
   ]
  },
  {
   "cell_type": "code",
   "execution_count": 45,
   "id": "f9e39974-d8d0-49bc-8ceb-be43a0887f84",
   "metadata": {},
   "outputs": [
    {
     "name": "stdout",
     "output_type": "stream",
     "text": [
      "tensor(1368)\n"
     ]
    },
    {
     "data": {
      "image/png": "[encoded data removed]",
      "text/plain": [
       "<Figure size 432x288 with 1 Axes>"
      ]
     },
     "metadata": {
      "needs_background": "light"
     },
     "output_type": "display_data"
    }
   ],
   "source": [
    "plt.plot(np.sqrt(((target[::2]-target[1::2])**2).sum(axis=1).cpu()))\n",
    "print(np.sqrt(((target[::2]-target[1::2])**2).sum(axis=1).cpu()).argmax())"
   ]
  },
  {
   "cell_type": "code",
   "execution_count": 49,
   "id": "58946579-3a8f-4bd8-99ec-0a0878d5eec7",
   "metadata": {},
   "outputs": [
    {
     "data": {
      "text/plain": [
       "[<matplotlib.lines.Line2D at 0x7f84c5696910>]"
      ]
     },
     "execution_count": 49,
     "metadata": {},
     "output_type": "execute_result"
    },
    {
     "data": {
      "image/png": "[encoded data removed]",
      "text/plain": [
       "<Figure size 432x288 with 1 Axes>"
      ]
     },
     "metadata": {
      "needs_background": "light"
     },
     "output_type": "display_data"
    }
   ],
   "source": [
    "iframe = 1368//2\n",
    "plt.plot(predicted[iframe].cpu().detach(),'b--')\n",
    "plt.plot(target[iframe].cpu().detach(),'b.')\n",
    "plt.plot(predicted[iframe+1].cpu().detach(), 'r--')\n",
    "plt.plot(target[iframe+1].cpu().detach(), 'r.')"
   ]
  },
  {
   "cell_type": "code",
   "execution_count": 50,
   "id": "cb466e6d-75a8-48ed-b19e-e4ede5468a1b",
   "metadata": {},
   "outputs": [
    {
     "data": {
      "text/plain": [
       "[<matplotlib.lines.Line2D at 0x7f84ccf48f70>]"
      ]
     },
     "execution_count": 50,
     "metadata": {},
     "output_type": "execute_result"
    },
    {
     "data": {
      "image/png": "[encoded data removed]",
      "text/plain": [
       "<Figure size 432x288 with 1 Axes>"
      ]
     },
     "metadata": {
      "needs_background": "light"
     },
     "output_type": "display_data"
    }
   ],
   "source": [
    "plt.semilogy(np.abs(predicted[iframe].detach().cpu()-predicted[iframe+1].detach().cpu()),'k--')\n",
    "plt.semilogy(np.abs(target[iframe].detach().cpu()-target[iframe+1].detach().cpu()), 'k.')"
   ]
  },
  {
   "cell_type": "code",
   "execution_count": 48,
   "id": "642f128f-2f76-4473-a251-ec813f97e3d3",
   "metadata": {},
   "outputs": [
    {
     "ename": "TypeError",
     "evalue": "can't convert cuda:0 device type tensor to numpy. Use Tensor.cpu() to copy the tensor to host memory first.",
     "output_type": "error",
     "traceback": [
      "\u001b[0;31m---------------------------------------------------------------------------\u001b[0m",
      "\u001b[0;31mTypeError\u001b[0m                                 Traceback (most recent call last)",
      "\u001b[0;32m<ipython-input-48-d9d0c3bbd9e6>\u001b[0m in \u001b[0;36m<module>\u001b[0;34m\u001b[0m\n\u001b[0;32m----> 1\u001b[0;31m \u001b[0mplt\u001b[0m\u001b[0;34m.\u001b[0m\u001b[0mplot\u001b[0m\u001b[0;34m(\u001b[0m\u001b[0;34m(\u001b[0m\u001b[0mfeats\u001b[0m\u001b[0;34m[\u001b[0m\u001b[0miframe\u001b[0m\u001b[0;34m]\u001b[0m\u001b[0;34m.\u001b[0m\u001b[0mdetach\u001b[0m\u001b[0;34m(\u001b[0m\u001b[0;34m)\u001b[0m\u001b[0;34m-\u001b[0m\u001b[0mfeats\u001b[0m\u001b[0;34m[\u001b[0m\u001b[0miframe\u001b[0m\u001b[0;34m+\u001b[0m\u001b[0;36m1\u001b[0m\u001b[0;34m]\u001b[0m\u001b[0;34m.\u001b[0m\u001b[0mdetach\u001b[0m\u001b[0;34m(\u001b[0m\u001b[0;34m)\u001b[0m\u001b[0;34m)\u001b[0m\u001b[0;34m,\u001b[0m\u001b[0;34m'b.-'\u001b[0m\u001b[0;34m)\u001b[0m\u001b[0;34m\u001b[0m\u001b[0;34m\u001b[0m\u001b[0m\n\u001b[0m",
      "\u001b[0;32m~/local/lib/python3.8/site-packages/matplotlib/pyplot.py\u001b[0m in \u001b[0;36mplot\u001b[0;34m(scalex, scaley, data, *args, **kwargs)\u001b[0m\n\u001b[1;32m   2738\u001b[0m \u001b[0;34m@\u001b[0m\u001b[0m_copy_docstring_and_deprecators\u001b[0m\u001b[0;34m(\u001b[0m\u001b[0mAxes\u001b[0m\u001b[0;34m.\u001b[0m\u001b[0mplot\u001b[0m\u001b[0;34m)\u001b[0m\u001b[0;34m\u001b[0m\u001b[0;34m\u001b[0m\u001b[0m\n\u001b[1;32m   2739\u001b[0m \u001b[0;32mdef\u001b[0m \u001b[0mplot\u001b[0m\u001b[0;34m(\u001b[0m\u001b[0;34m*\u001b[0m\u001b[0margs\u001b[0m\u001b[0;34m,\u001b[0m \u001b[0mscalex\u001b[0m\u001b[0;34m=\u001b[0m\u001b[0;32mTrue\u001b[0m\u001b[0;34m,\u001b[0m \u001b[0mscaley\u001b[0m\u001b[0;34m=\u001b[0m\u001b[0;32mTrue\u001b[0m\u001b[0;34m,\u001b[0m \u001b[0mdata\u001b[0m\u001b[0;34m=\u001b[0m\u001b[0;32mNone\u001b[0m\u001b[0;34m,\u001b[0m \u001b[0;34m**\u001b[0m\u001b[0mkwargs\u001b[0m\u001b[0;34m)\u001b[0m\u001b[0;34m:\u001b[0m\u001b[0;34m\u001b[0m\u001b[0;34m\u001b[0m\u001b[0m\n\u001b[0;32m-> 2740\u001b[0;31m     return gca().plot(\n\u001b[0m\u001b[1;32m   2741\u001b[0m         \u001b[0;34m*\u001b[0m\u001b[0margs\u001b[0m\u001b[0;34m,\u001b[0m \u001b[0mscalex\u001b[0m\u001b[0;34m=\u001b[0m\u001b[0mscalex\u001b[0m\u001b[0;34m,\u001b[0m \u001b[0mscaley\u001b[0m\u001b[0;34m=\u001b[0m\u001b[0mscaley\u001b[0m\u001b[0;34m,\u001b[0m\u001b[0;34m\u001b[0m\u001b[0;34m\u001b[0m\u001b[0m\n\u001b[1;32m   2742\u001b[0m         **({\"data\": data} if data is not None else {}), **kwargs)\n",
      "\u001b[0;32m~/local/lib/python3.8/site-packages/matplotlib/axes/_axes.py\u001b[0m in \u001b[0;36mplot\u001b[0;34m(self, scalex, scaley, data, *args, **kwargs)\u001b[0m\n\u001b[1;32m   1662\u001b[0m         \u001b[0mlines\u001b[0m \u001b[0;34m=\u001b[0m \u001b[0;34m[\u001b[0m\u001b[0;34m*\u001b[0m\u001b[0mself\u001b[0m\u001b[0;34m.\u001b[0m\u001b[0m_get_lines\u001b[0m\u001b[0;34m(\u001b[0m\u001b[0;34m*\u001b[0m\u001b[0margs\u001b[0m\u001b[0;34m,\u001b[0m \u001b[0mdata\u001b[0m\u001b[0;34m=\u001b[0m\u001b[0mdata\u001b[0m\u001b[0;34m,\u001b[0m \u001b[0;34m**\u001b[0m\u001b[0mkwargs\u001b[0m\u001b[0;34m)\u001b[0m\u001b[0;34m]\u001b[0m\u001b[0;34m\u001b[0m\u001b[0;34m\u001b[0m\u001b[0m\n\u001b[1;32m   1663\u001b[0m         \u001b[0;32mfor\u001b[0m \u001b[0mline\u001b[0m \u001b[0;32min\u001b[0m \u001b[0mlines\u001b[0m\u001b[0;34m:\u001b[0m\u001b[0;34m\u001b[0m\u001b[0;34m\u001b[0m\u001b[0m\n\u001b[0;32m-> 1664\u001b[0;31m             \u001b[0mself\u001b[0m\u001b[0;34m.\u001b[0m\u001b[0madd_line\u001b[0m\u001b[0;34m(\u001b[0m\u001b[0mline\u001b[0m\u001b[0;34m)\u001b[0m\u001b[0;34m\u001b[0m\u001b[0;34m\u001b[0m\u001b[0m\n\u001b[0m\u001b[1;32m   1665\u001b[0m         \u001b[0;32mif\u001b[0m \u001b[0mscalex\u001b[0m\u001b[0;34m:\u001b[0m\u001b[0;34m\u001b[0m\u001b[0;34m\u001b[0m\u001b[0m\n\u001b[1;32m   1666\u001b[0m             \u001b[0mself\u001b[0m\u001b[0;34m.\u001b[0m\u001b[0m_request_autoscale_view\u001b[0m\u001b[0;34m(\u001b[0m\u001b[0;34m\"x\"\u001b[0m\u001b[0;34m)\u001b[0m\u001b[0;34m\u001b[0m\u001b[0;34m\u001b[0m\u001b[0m\n",
      "\u001b[0;32m~/local/lib/python3.8/site-packages/matplotlib/axes/_base.py\u001b[0m in \u001b[0;36madd_line\u001b[0;34m(self, line)\u001b[0m\n\u001b[1;32m   2338\u001b[0m             \u001b[0mline\u001b[0m\u001b[0;34m.\u001b[0m\u001b[0mset_clip_path\u001b[0m\u001b[0;34m(\u001b[0m\u001b[0mself\u001b[0m\u001b[0;34m.\u001b[0m\u001b[0mpatch\u001b[0m\u001b[0;34m)\u001b[0m\u001b[0;34m\u001b[0m\u001b[0;34m\u001b[0m\u001b[0m\n\u001b[1;32m   2339\u001b[0m \u001b[0;34m\u001b[0m\u001b[0m\n\u001b[0;32m-> 2340\u001b[0;31m         \u001b[0mself\u001b[0m\u001b[0;34m.\u001b[0m\u001b[0m_update_line_limits\u001b[0m\u001b[0;34m(\u001b[0m\u001b[0mline\u001b[0m\u001b[0;34m)\u001b[0m\u001b[0;34m\u001b[0m\u001b[0;34m\u001b[0m\u001b[0m\n\u001b[0m\u001b[1;32m   2341\u001b[0m         \u001b[0;32mif\u001b[0m \u001b[0;32mnot\u001b[0m \u001b[0mline\u001b[0m\u001b[0;34m.\u001b[0m\u001b[0mget_label\u001b[0m\u001b[0;34m(\u001b[0m\u001b[0;34m)\u001b[0m\u001b[0;34m:\u001b[0m\u001b[0;34m\u001b[0m\u001b[0;34m\u001b[0m\u001b[0m\n\u001b[1;32m   2342\u001b[0m             \u001b[0mline\u001b[0m\u001b[0;34m.\u001b[0m\u001b[0mset_label\u001b[0m\u001b[0;34m(\u001b[0m\u001b[0;34mf'_child{len(self._children)}'\u001b[0m\u001b[0;34m)\u001b[0m\u001b[0;34m\u001b[0m\u001b[0;34m\u001b[0m\u001b[0m\n",
      "\u001b[0;32m~/local/lib/python3.8/site-packages/matplotlib/axes/_base.py\u001b[0m in \u001b[0;36m_update_line_limits\u001b[0;34m(self, line)\u001b[0m\n\u001b[1;32m   2361\u001b[0m         \u001b[0mFigures\u001b[0m \u001b[0mout\u001b[0m \u001b[0mthe\u001b[0m \u001b[0mdata\u001b[0m \u001b[0mlimit\u001b[0m \u001b[0mof\u001b[0m \u001b[0mthe\u001b[0m \u001b[0mgiven\u001b[0m \u001b[0mline\u001b[0m\u001b[0;34m,\u001b[0m \u001b[0mupdating\u001b[0m \u001b[0mself\u001b[0m\u001b[0;34m.\u001b[0m\u001b[0mdataLim\u001b[0m\u001b[0;34m.\u001b[0m\u001b[0;34m\u001b[0m\u001b[0;34m\u001b[0m\u001b[0m\n\u001b[1;32m   2362\u001b[0m         \"\"\"\n\u001b[0;32m-> 2363\u001b[0;31m         \u001b[0mpath\u001b[0m \u001b[0;34m=\u001b[0m \u001b[0mline\u001b[0m\u001b[0;34m.\u001b[0m\u001b[0mget_path\u001b[0m\u001b[0;34m(\u001b[0m\u001b[0;34m)\u001b[0m\u001b[0;34m\u001b[0m\u001b[0;34m\u001b[0m\u001b[0m\n\u001b[0m\u001b[1;32m   2364\u001b[0m         \u001b[0;32mif\u001b[0m \u001b[0mpath\u001b[0m\u001b[0;34m.\u001b[0m\u001b[0mvertices\u001b[0m\u001b[0;34m.\u001b[0m\u001b[0msize\u001b[0m \u001b[0;34m==\u001b[0m \u001b[0;36m0\u001b[0m\u001b[0;34m:\u001b[0m\u001b[0;34m\u001b[0m\u001b[0;34m\u001b[0m\u001b[0m\n\u001b[1;32m   2365\u001b[0m             \u001b[0;32mreturn\u001b[0m\u001b[0;34m\u001b[0m\u001b[0;34m\u001b[0m\u001b[0m\n",
      "\u001b[0;32m~/local/lib/python3.8/site-packages/matplotlib/lines.py\u001b[0m in \u001b[0;36mget_path\u001b[0;34m(self)\u001b[0m\n\u001b[1;32m   1029\u001b[0m         \u001b[0;34m\"\"\"Return the `~matplotlib.path.Path` associated with this line.\"\"\"\u001b[0m\u001b[0;34m\u001b[0m\u001b[0;34m\u001b[0m\u001b[0m\n\u001b[1;32m   1030\u001b[0m         \u001b[0;32mif\u001b[0m \u001b[0mself\u001b[0m\u001b[0;34m.\u001b[0m\u001b[0m_invalidy\u001b[0m \u001b[0;32mor\u001b[0m \u001b[0mself\u001b[0m\u001b[0;34m.\u001b[0m\u001b[0m_invalidx\u001b[0m\u001b[0;34m:\u001b[0m\u001b[0;34m\u001b[0m\u001b[0;34m\u001b[0m\u001b[0m\n\u001b[0;32m-> 1031\u001b[0;31m             \u001b[0mself\u001b[0m\u001b[0;34m.\u001b[0m\u001b[0mrecache\u001b[0m\u001b[0;34m(\u001b[0m\u001b[0;34m)\u001b[0m\u001b[0;34m\u001b[0m\u001b[0;34m\u001b[0m\u001b[0m\n\u001b[0m\u001b[1;32m   1032\u001b[0m         \u001b[0;32mreturn\u001b[0m \u001b[0mself\u001b[0m\u001b[0;34m.\u001b[0m\u001b[0m_path\u001b[0m\u001b[0;34m\u001b[0m\u001b[0;34m\u001b[0m\u001b[0m\n\u001b[1;32m   1033\u001b[0m \u001b[0;34m\u001b[0m\u001b[0m\n",
      "\u001b[0;32m~/local/lib/python3.8/site-packages/matplotlib/lines.py\u001b[0m in \u001b[0;36mrecache\u001b[0;34m(self, always)\u001b[0m\n\u001b[1;32m    662\u001b[0m         \u001b[0;32mif\u001b[0m \u001b[0malways\u001b[0m \u001b[0;32mor\u001b[0m \u001b[0mself\u001b[0m\u001b[0;34m.\u001b[0m\u001b[0m_invalidy\u001b[0m\u001b[0;34m:\u001b[0m\u001b[0;34m\u001b[0m\u001b[0;34m\u001b[0m\u001b[0m\n\u001b[1;32m    663\u001b[0m             \u001b[0myconv\u001b[0m \u001b[0;34m=\u001b[0m \u001b[0mself\u001b[0m\u001b[0;34m.\u001b[0m\u001b[0mconvert_yunits\u001b[0m\u001b[0;34m(\u001b[0m\u001b[0mself\u001b[0m\u001b[0;34m.\u001b[0m\u001b[0m_yorig\u001b[0m\u001b[0;34m)\u001b[0m\u001b[0;34m\u001b[0m\u001b[0;34m\u001b[0m\u001b[0m\n\u001b[0;32m--> 664\u001b[0;31m             \u001b[0my\u001b[0m \u001b[0;34m=\u001b[0m \u001b[0m_to_unmasked_float_array\u001b[0m\u001b[0;34m(\u001b[0m\u001b[0myconv\u001b[0m\u001b[0;34m)\u001b[0m\u001b[0;34m.\u001b[0m\u001b[0mravel\u001b[0m\u001b[0;34m(\u001b[0m\u001b[0;34m)\u001b[0m\u001b[0;34m\u001b[0m\u001b[0;34m\u001b[0m\u001b[0m\n\u001b[0m\u001b[1;32m    665\u001b[0m         \u001b[0;32melse\u001b[0m\u001b[0;34m:\u001b[0m\u001b[0;34m\u001b[0m\u001b[0;34m\u001b[0m\u001b[0m\n\u001b[1;32m    666\u001b[0m             \u001b[0my\u001b[0m \u001b[0;34m=\u001b[0m \u001b[0mself\u001b[0m\u001b[0;34m.\u001b[0m\u001b[0m_y\u001b[0m\u001b[0;34m\u001b[0m\u001b[0;34m\u001b[0m\u001b[0m\n",
      "\u001b[0;32m~/local/lib/python3.8/site-packages/matplotlib/cbook/__init__.py\u001b[0m in \u001b[0;36m_to_unmasked_float_array\u001b[0;34m(x)\u001b[0m\n\u001b[1;32m   1367\u001b[0m         \u001b[0;32mreturn\u001b[0m \u001b[0mnp\u001b[0m\u001b[0;34m.\u001b[0m\u001b[0mma\u001b[0m\u001b[0;34m.\u001b[0m\u001b[0masarray\u001b[0m\u001b[0;34m(\u001b[0m\u001b[0mx\u001b[0m\u001b[0;34m,\u001b[0m \u001b[0mfloat\u001b[0m\u001b[0;34m)\u001b[0m\u001b[0;34m.\u001b[0m\u001b[0mfilled\u001b[0m\u001b[0;34m(\u001b[0m\u001b[0mnp\u001b[0m\u001b[0;34m.\u001b[0m\u001b[0mnan\u001b[0m\u001b[0;34m)\u001b[0m\u001b[0;34m\u001b[0m\u001b[0;34m\u001b[0m\u001b[0m\n\u001b[1;32m   1368\u001b[0m     \u001b[0;32melse\u001b[0m\u001b[0;34m:\u001b[0m\u001b[0;34m\u001b[0m\u001b[0;34m\u001b[0m\u001b[0m\n\u001b[0;32m-> 1369\u001b[0;31m         \u001b[0;32mreturn\u001b[0m \u001b[0mnp\u001b[0m\u001b[0;34m.\u001b[0m\u001b[0masarray\u001b[0m\u001b[0;34m(\u001b[0m\u001b[0mx\u001b[0m\u001b[0;34m,\u001b[0m \u001b[0mfloat\u001b[0m\u001b[0;34m)\u001b[0m\u001b[0;34m\u001b[0m\u001b[0;34m\u001b[0m\u001b[0m\n\u001b[0m\u001b[1;32m   1370\u001b[0m \u001b[0;34m\u001b[0m\u001b[0m\n\u001b[1;32m   1371\u001b[0m \u001b[0;34m\u001b[0m\u001b[0m\n",
      "\u001b[0;32m~/local/lib/python3.8/site-packages/torch/_tensor.py\u001b[0m in \u001b[0;36m__array__\u001b[0;34m(self, dtype)\u001b[0m\n\u001b[1;32m    956\u001b[0m             \u001b[0;32mreturn\u001b[0m \u001b[0mself\u001b[0m\u001b[0;34m.\u001b[0m\u001b[0mnumpy\u001b[0m\u001b[0;34m(\u001b[0m\u001b[0;34m)\u001b[0m\u001b[0;34m\u001b[0m\u001b[0;34m\u001b[0m\u001b[0m\n\u001b[1;32m    957\u001b[0m         \u001b[0;32melse\u001b[0m\u001b[0;34m:\u001b[0m\u001b[0;34m\u001b[0m\u001b[0;34m\u001b[0m\u001b[0m\n\u001b[0;32m--> 958\u001b[0;31m             \u001b[0;32mreturn\u001b[0m \u001b[0mself\u001b[0m\u001b[0;34m.\u001b[0m\u001b[0mnumpy\u001b[0m\u001b[0;34m(\u001b[0m\u001b[0;34m)\u001b[0m\u001b[0;34m.\u001b[0m\u001b[0mastype\u001b[0m\u001b[0;34m(\u001b[0m\u001b[0mdtype\u001b[0m\u001b[0;34m,\u001b[0m \u001b[0mcopy\u001b[0m\u001b[0;34m=\u001b[0m\u001b[0;32mFalse\u001b[0m\u001b[0;34m)\u001b[0m\u001b[0;34m\u001b[0m\u001b[0;34m\u001b[0m\u001b[0m\n\u001b[0m\u001b[1;32m    959\u001b[0m \u001b[0;34m\u001b[0m\u001b[0m\n\u001b[1;32m    960\u001b[0m     \u001b[0;31m# Wrap Numpy array again in a suitable tensor when done, to support e.g.\u001b[0m\u001b[0;34m\u001b[0m\u001b[0;34m\u001b[0m\u001b[0;34m\u001b[0m\u001b[0m\n",
      "\u001b[0;31mTypeError\u001b[0m: can't convert cuda:0 device type tensor to numpy. Use Tensor.cpu() to copy the tensor to host memory first."
     ]
    },
    {
     "data": {
      "image/png": "[encoded data removed]",
      "text/plain": [
       "<Figure size 432x288 with 1 Axes>"
      ]
     },
     "metadata": {
      "needs_background": "light"
     },
     "output_type": "display_data"
    }
   ],
   "source": [
    "plt.plot((feats[iframe].detach()-feats[iframe+1].detach()),'b.-')"
   ]
  },
  {
   "cell_type": "code",
   "execution_count": 457,
   "id": "39d8d46e-c96a-459b-a9e6-b5d84b0c0b3d",
   "metadata": {},
   "outputs": [
    {
     "data": {
      "text/plain": [
       "[<matplotlib.lines.Line2D at 0x7f4f6c85c6a0>]"
      ]
     },
     "execution_count": 457,
     "metadata": {},
     "output_type": "execute_result"
    },
    {
     "data": {
      "image/png": "[encoded data removed]",
      "text/plain": [
       "<Figure size 432x288 with 1 Axes>"
      ]
     },
     "metadata": {
      "needs_background": "light"
     },
     "output_type": "display_data"
    }
   ],
   "source": [
    "plt.plot(feats[:,8].detach(), energy.detach(),'b.')"
   ]
  },
  {
   "cell_type": "markdown",
   "id": "c3be45b7-5197-4d15-b67e-73fb9312af6c",
   "metadata": {},
   "source": [
    "# Now use learned features to predict energy"
   ]
  },
  {
   "cell_type": "code",
   "execution_count": 372,
   "id": "bfdbfee4-3e3b-4d0e-ad7b-4ecc7f9720b8",
   "metadata": {},
   "outputs": [],
   "source": [
    "layer_size=80\n",
    "energy_model = torch.nn.Sequential(            \n",
    "            torch.nn.Linear(feats.shape[-1], layer_size),\n",
    "            torch.nn.GroupNorm(4,layer_size),\n",
    "            torch.nn.Tanh(),\n",
    "            torch.nn.Linear(layer_size, layer_size),\n",
    "            torch.nn.GroupNorm(4,layer_size),\n",
    "            torch.nn.Tanh(),\n",
    "            torch.nn.Linear(layer_size, 1))"
   ]
  },
  {
   "cell_type": "code",
   "execution_count": 373,
   "id": "b37fe202-8b19-482d-b467-5846da0f89d6",
   "metadata": {},
   "outputs": [
    {
     "data": {
      "text/plain": [
       "Sequential(\n",
       "  (0): Linear(in_features=32, out_features=80, bias=True)\n",
       "  (1): GroupNorm(4, 80, eps=1e-05, affine=True)\n",
       "  (2): Tanh()\n",
       "  (3): Linear(in_features=80, out_features=80, bias=True)\n",
       "  (4): GroupNorm(4, 80, eps=1e-05, affine=True)\n",
       "  (5): Tanh()\n",
       "  (6): Linear(in_features=80, out_features=1, bias=True)\n",
       ")"
      ]
     },
     "execution_count": 373,
     "metadata": {},
     "output_type": "execute_result"
    }
   ],
   "source": [
    "energy_model.to(device=device)"
   ]
  },
  {
   "cell_type": "code",
   "execution_count": 374,
   "id": "b0734cd1-edac-453c-8e2a-0e6e7936c259",
   "metadata": {},
   "outputs": [],
   "source": [
    "energy_feats = feats.clone().detach()"
   ]
  },
  {
   "cell_type": "code",
   "execution_count": 375,
   "id": "4b4ea12f-9256-414f-8264-b3b80f0b0665",
   "metadata": {},
   "outputs": [],
   "source": [
    "energy_optimizer = torch.optim.Adam(\n",
    "        energy_model.parameters(),\n",
    "        lr=0.01)"
   ]
  },
  {
   "cell_type": "code",
   "execution_count": 376,
   "id": "c5eb4310-5e4f-4ce4-9c47-cf78235c1766",
   "metadata": {
    "scrolled": true,
    "tags": []
   },
   "outputs": [
    {
     "name": "stdout",
     "output_type": "stream",
     "text": [
      "Epoch: 0 Energy RMSE: train  8.021926038840679 test 6.2433886902180555\n",
      "Epoch: 100 Energy RMSE: train  3.458357119700499 test 3.7301968409672184\n",
      "Epoch: 200 Energy RMSE: train  2.8975767910887744 test 2.8879660191215235\n",
      "Epoch: 300 Energy RMSE: train  2.4806199088848313 test 2.462758516049793\n",
      "Epoch: 400 Energy RMSE: train  2.4937557680774125 test 2.466280001261075\n",
      "Epoch: 500 Energy RMSE: train  2.24715989356036 test 2.246888071773195\n",
      "Epoch: 600 Energy RMSE: train  2.219951433261315 test 2.1653015818448313\n",
      "Epoch: 700 Energy RMSE: train  2.1871828608828188 test 2.1536040523710893\n",
      "Epoch: 800 Energy RMSE: train  2.137065832757242 test 2.1827865014732404\n",
      "Epoch: 900 Energy RMSE: train  2.037976426088061 test 2.1592544367558464\n",
      "Epoch: 1000 Energy RMSE: train  2.346050978954781 test 2.6743256190836013\n",
      "Epoch: 1100 Energy RMSE: train  1.9533013178823762 test 2.243660561544749\n",
      "Epoch: 1200 Energy RMSE: train  1.9708995517963726 test 2.119716184557284\n",
      "Epoch: 1300 Energy RMSE: train  2.1118235800108875 test 2.585058058276538\n",
      "Epoch: 1400 Energy RMSE: train  1.8800021401673934 test 2.2792920777205814\n",
      "Epoch: 1500 Energy RMSE: train  1.8865401174254863 test 2.2626242372591383\n",
      "Epoch: 1600 Energy RMSE: train  1.8899863565980777 test 2.267022095985431\n",
      "Epoch: 1700 Energy RMSE: train  2.2179423381567003 test 2.227976519342793\n",
      "Epoch: 1800 Energy RMSE: train  1.9103603118349215 test 2.364421998146778\n",
      "Epoch: 1900 Energy RMSE: train  1.5958458989514648 test 2.444963013100772\n",
      "Epoch: 2000 Energy RMSE: train  2.349822636630815 test 2.1718400069752724\n",
      "Epoch: 2100 Energy RMSE: train  2.4215405987725767 test 2.556088953628747\n",
      "Epoch: 2200 Energy RMSE: train  1.4452930998090072 test 2.369289910897836\n",
      "Epoch: 2300 Energy RMSE: train  1.3937271776168254 test 2.3277505005053993\n",
      "Epoch: 2400 Energy RMSE: train  1.368589749570864 test 2.3544138791416667\n",
      "Epoch: 2500 Energy RMSE: train  1.4179878089548452 test 2.3375216293045016\n",
      "Epoch: 2600 Energy RMSE: train  1.891741722041561 test 2.171826517305228\n",
      "Epoch: 2700 Energy RMSE: train  1.62410601242926 test 2.1577790364060045\n",
      "Epoch: 2800 Energy RMSE: train  1.4894499006402846 test 2.0657849348890784\n",
      "Epoch: 2900 Energy RMSE: train  1.298015132237549 test 2.1075218047158772\n",
      "Epoch: 3000 Energy RMSE: train  1.8545028444749827 test 2.0607346809274354\n",
      "Epoch: 3100 Energy RMSE: train  1.2184294726438776 test 2.1042371387346166\n",
      "Epoch: 3200 Energy RMSE: train  1.3296550422051234 test 2.2595418343263813\n",
      "Epoch: 3300 Energy RMSE: train  1.180154517208249 test 2.2185440834276657\n",
      "Epoch: 3400 Energy RMSE: train  1.0674867370580026 test 2.2349288939517153\n",
      "Epoch: 3500 Energy RMSE: train  1.9973763004637695 test 2.5724731080133885\n",
      "Epoch: 3600 Energy RMSE: train  1.3001414760767729 test 2.1825006261361124\n",
      "Epoch: 3700 Energy RMSE: train  0.9743505720432871 test 2.221699667371273\n",
      "Epoch: 3800 Energy RMSE: train  1.3181320852508236 test 2.2389035797946533\n",
      "Epoch: 3900 Energy RMSE: train  0.9229589492549404 test 2.22536718406536\n",
      "Epoch: 4000 Energy RMSE: train  1.646858741865811 test 2.3647243991849125\n",
      "Epoch: 4100 Energy RMSE: train  0.9545925715763276 test 2.227168390616115\n",
      "Epoch: 4200 Energy RMSE: train  1.1710540535191944 test 2.1009254878172636\n",
      "Epoch: 4300 Energy RMSE: train  1.9034679876241158 test 2.143272526544583\n",
      "Epoch: 4400 Energy RMSE: train  1.4799113284161303 test 2.2578387317415216\n",
      "Epoch: 4500 Energy RMSE: train  1.5955381726157796 test 2.324342217902151\n",
      "Epoch: 4600 Energy RMSE: train  1.1908365906977176 test 2.2370192369442505\n",
      "Epoch: 4700 Energy RMSE: train  0.96663516830952 test 2.3628879031830543\n",
      "Epoch: 4800 Energy RMSE: train  0.7657019729329226 test 2.275567936406255\n",
      "Epoch: 4900 Energy RMSE: train  0.819710169585018 test 2.3578976508831997\n",
      "Epoch: 5000 Energy RMSE: train  0.8295552002090004 test 2.2115409769015764\n",
      "Epoch: 5100 Energy RMSE: train  0.7201126834799748 test 2.3327407492850942\n",
      "Epoch: 5200 Energy RMSE: train  1.9438442928441872 test 2.443246109124638\n",
      "Epoch: 5300 Energy RMSE: train  1.8199391206086002 test 2.507853989769379\n",
      "Epoch: 5400 Energy RMSE: train  0.7382946235510899 test 2.3256600807544383\n",
      "Epoch: 5500 Energy RMSE: train  0.98345115715887 test 2.1247544556785813\n",
      "Epoch: 5600 Energy RMSE: train  1.1391392135636293 test 2.3076637585763673\n",
      "Epoch: 5700 Energy RMSE: train  2.1500438145683374 test 2.4166336867600307\n",
      "Epoch: 5800 Energy RMSE: train  1.856087753909502 test 2.4061193873756066\n",
      "Epoch: 5900 Energy RMSE: train  0.9983089777625865 test 2.1037092407775306\n",
      "Epoch: 6000 Energy RMSE: train  0.88912719468595 test 2.176179652630084\n",
      "Epoch: 6100 Energy RMSE: train  0.7538534491920096 test 2.219314575811212\n",
      "Epoch: 6200 Energy RMSE: train  1.2757739880152479 test 2.0050260568485774\n",
      "Epoch: 6300 Energy RMSE: train  1.0790274375419289 test 2.0755286829781565\n",
      "Epoch: 6400 Energy RMSE: train  1.0537535416717139 test 2.016828988764809\n",
      "Epoch: 6500 Energy RMSE: train  1.1344180661504897 test 2.3823644846669367\n",
      "Epoch: 6600 Energy RMSE: train  0.878946780022344 test 2.211457670604622\n",
      "Epoch: 6700 Energy RMSE: train  1.3864871104111924 test 2.4487652207551083\n",
      "Epoch: 6800 Energy RMSE: train  0.7969080771709388 test 2.1381909051104\n",
      "Epoch: 6900 Energy RMSE: train  1.591633068967305 test 2.411518551923563\n",
      "Epoch: 7000 Energy RMSE: train  0.9100935423021617 test 2.366729830212588\n",
      "Epoch: 7100 Energy RMSE: train  0.8561346196125703 test 2.34555260905844\n",
      "Epoch: 7200 Energy RMSE: train  0.9586109726340923 test 2.2909815563926634\n",
      "Epoch: 7300 Energy RMSE: train  0.7044200953938213 test 2.3787704317830163\n",
      "Epoch: 7400 Energy RMSE: train  0.7305654381971152 test 2.411966139641269\n",
      "Epoch: 7500 Energy RMSE: train  1.857652490176072 test 2.459148561494109\n",
      "Epoch: 7600 Energy RMSE: train  0.6974807103289888 test 2.4596700028295535\n",
      "Epoch: 7700 Energy RMSE: train  1.4453091467498629 test 2.3974305747696194\n",
      "Epoch: 7800 Energy RMSE: train  0.642010639795786 test 2.3847621587336616\n",
      "Epoch: 7900 Energy RMSE: train  1.0489916705827405 test 2.22675588868028\n",
      "Epoch: 8000 Energy RMSE: train  0.5981519760747818 test 2.401584227722251\n",
      "Epoch: 8100 Energy RMSE: train  1.3194387263678071 test 2.3113768860706863\n",
      "Epoch: 8200 Energy RMSE: train  0.7822106123329149 test 2.5260455288912436\n",
      "Epoch: 8300 Energy RMSE: train  0.9264407485787131 test 2.312506952757952\n",
      "Epoch: 8400 Energy RMSE: train  0.575505488055168 test 2.410090258250291\n",
      "Epoch: 8500 Energy RMSE: train  0.5466964137385532 test 2.4351398212765663\n",
      "Epoch: 8600 Energy RMSE: train  1.5440026107229468 test 2.1825096541756714\n",
      "Epoch: 8700 Energy RMSE: train  1.5589219717080527 test 1.9548545767119032\n",
      "Epoch: 8800 Energy RMSE: train  1.243570850518599 test 1.9919625337192703\n",
      "Epoch: 8900 Energy RMSE: train  1.7025210336736134 test 2.0526865195697477\n",
      "Epoch: 9000 Energy RMSE: train  0.9787507100900277 test 2.0021594238663667\n",
      "Epoch: 9100 Energy RMSE: train  0.9100768892715886 test 2.1091822379427683\n",
      "Epoch: 9200 Energy RMSE: train  1.0709539501998901 test 2.283999046451999\n",
      "Epoch: 9300 Energy RMSE: train  1.0260400051056973 test 2.18503444896172\n",
      "Epoch: 9400 Energy RMSE: train  0.7648680616495177 test 2.14126593719342\n",
      "Epoch: 9500 Energy RMSE: train  0.8084218287576617 test 2.1469837492560044\n",
      "Epoch: 9600 Energy RMSE: train  1.0382244225917887 test 2.160153771352881\n",
      "Epoch: 9700 Energy RMSE: train  0.7833663599049576 test 2.238863721390399\n",
      "Epoch: 9800 Energy RMSE: train  1.7553711658666025 test 2.261586314522012\n",
      "Epoch: 9900 Energy RMSE: train  1.1761373580402783 test 2.151284882773131\n"
     ]
    }
   ],
   "source": [
    "n_epochs = 10000\n",
    "ntrain = 900\n",
    "for epoch in range(0, n_epochs):\n",
    "    \n",
    "    energy_optimizer.zero_grad()\n",
    "    loss = torch.zeros(size=(1,), device=device)\n",
    "\n",
    "    predicted = energy_model(energy_feats[:ntrain])\n",
    "    loss += loss_mse(predicted, energy[:ntrain])\n",
    "\n",
    "    loss.backward(retain_graph=False)\n",
    "    energy_optimizer.step()\n",
    "    \n",
    "    if epoch % 100 ==0:\n",
    "        predicted = energy_model(energy_feats[ntrain:])\n",
    "    \n",
    "        print(\"Epoch:\", epoch, \"Energy RMSE: train \", np.sqrt(loss.detach().cpu().numpy().flatten()[0]/ntrain),\n",
    "         \"test\", np.sqrt(loss_mse(predicted, energy[ntrain:]).detach().cpu().numpy().flatten()[0]/ (len(frames)-ntrain)) )"
   ]
  },
  {
   "cell_type": "code",
   "execution_count": 377,
   "id": "713ff5a4-d1d3-4332-a96c-acf4a9932004",
   "metadata": {},
   "outputs": [],
   "source": [
    "energy_optimizer = torch.optim.LBFGS(\n",
    "        energy_model.parameters(),\n",
    "        lr=0.1,\n",
    "        line_search_fn=\"strong_wolfe\",\n",
    "        history_size=128\n",
    "    )"
   ]
  },
  {
   "cell_type": "code",
   "execution_count": 385,
   "id": "744d3eb2-aec7-4cf0-95b8-908027025f55",
   "metadata": {
    "scrolled": true,
    "tags": []
   },
   "outputs": [
    {
     "name": "stdout",
     "output_type": "stream",
     "text": [
      "Epoch: 0 Energy RMSE: train  0.0061461234115671145 test 3.7068545010092278\n",
      "Epoch: 10 Energy RMSE: train  0.006139460218013025 test 3.707674910247754\n",
      "Epoch: 20 Energy RMSE: train  0.006131637447358909 test 3.709090767996485\n",
      "Epoch: 30 Energy RMSE: train  0.006123264148928292 test 3.709788276654845\n",
      "Epoch: 40 Energy RMSE: train  0.006116332648965636 test 3.710670578420188\n",
      "Epoch: 50 Energy RMSE: train  0.0061104019747710014 test 3.7111665264297176\n"
     ]
    },
    {
     "ename": "KeyboardInterrupt",
     "evalue": "",
     "output_type": "error",
     "traceback": [
      "\u001b[0;31m---------------------------------------------------------------------------\u001b[0m",
      "\u001b[0;31mKeyboardInterrupt\u001b[0m                         Traceback (most recent call last)",
      "\u001b[0;32m<ipython-input-385-500cc6b5b589>\u001b[0m in \u001b[0;36m<module>\u001b[0;34m\u001b[0m\n\u001b[1;32m     13\u001b[0m         \u001b[0;32mreturn\u001b[0m \u001b[0mloss\u001b[0m\u001b[0;34m\u001b[0m\u001b[0;34m\u001b[0m\u001b[0m\n\u001b[1;32m     14\u001b[0m \u001b[0;34m\u001b[0m\u001b[0m\n\u001b[0;32m---> 15\u001b[0;31m     \u001b[0mloss\u001b[0m \u001b[0;34m=\u001b[0m \u001b[0menergy_optimizer\u001b[0m\u001b[0;34m.\u001b[0m\u001b[0mstep\u001b[0m\u001b[0;34m(\u001b[0m\u001b[0menergy_step\u001b[0m\u001b[0;34m)\u001b[0m\u001b[0;34m\u001b[0m\u001b[0;34m\u001b[0m\u001b[0m\n\u001b[0m\u001b[1;32m     16\u001b[0m \u001b[0;34m\u001b[0m\u001b[0m\n\u001b[1;32m     17\u001b[0m     \u001b[0;32mif\u001b[0m \u001b[0mepoch\u001b[0m \u001b[0;34m%\u001b[0m \u001b[0;36m10\u001b[0m \u001b[0;34m==\u001b[0m\u001b[0;36m0\u001b[0m\u001b[0;34m:\u001b[0m\u001b[0;34m\u001b[0m\u001b[0;34m\u001b[0m\u001b[0m\n",
      "\u001b[0;32m~/local/lib/python3.8/site-packages/torch/optim/optimizer.py\u001b[0m in \u001b[0;36mwrapper\u001b[0;34m(*args, **kwargs)\u001b[0m\n\u001b[1;32m    138\u001b[0m                 \u001b[0mprofile_name\u001b[0m \u001b[0;34m=\u001b[0m \u001b[0;34m\"Optimizer.step#{}.step\"\u001b[0m\u001b[0;34m.\u001b[0m\u001b[0mformat\u001b[0m\u001b[0;34m(\u001b[0m\u001b[0mobj\u001b[0m\u001b[0;34m.\u001b[0m\u001b[0m__class__\u001b[0m\u001b[0;34m.\u001b[0m\u001b[0m__name__\u001b[0m\u001b[0;34m)\u001b[0m\u001b[0;34m\u001b[0m\u001b[0;34m\u001b[0m\u001b[0m\n\u001b[1;32m    139\u001b[0m                 \u001b[0;32mwith\u001b[0m \u001b[0mtorch\u001b[0m\u001b[0;34m.\u001b[0m\u001b[0mautograd\u001b[0m\u001b[0;34m.\u001b[0m\u001b[0mprofiler\u001b[0m\u001b[0;34m.\u001b[0m\u001b[0mrecord_function\u001b[0m\u001b[0;34m(\u001b[0m\u001b[0mprofile_name\u001b[0m\u001b[0;34m)\u001b[0m\u001b[0;34m:\u001b[0m\u001b[0;34m\u001b[0m\u001b[0;34m\u001b[0m\u001b[0m\n\u001b[0;32m--> 140\u001b[0;31m                     \u001b[0mout\u001b[0m \u001b[0;34m=\u001b[0m \u001b[0mfunc\u001b[0m\u001b[0;34m(\u001b[0m\u001b[0;34m*\u001b[0m\u001b[0margs\u001b[0m\u001b[0;34m,\u001b[0m \u001b[0;34m**\u001b[0m\u001b[0mkwargs\u001b[0m\u001b[0;34m)\u001b[0m\u001b[0;34m\u001b[0m\u001b[0;34m\u001b[0m\u001b[0m\n\u001b[0m\u001b[1;32m    141\u001b[0m                     \u001b[0mobj\u001b[0m\u001b[0;34m.\u001b[0m\u001b[0m_optimizer_step_code\u001b[0m\u001b[0;34m(\u001b[0m\u001b[0;34m)\u001b[0m\u001b[0;34m\u001b[0m\u001b[0;34m\u001b[0m\u001b[0m\n\u001b[1;32m    142\u001b[0m                     \u001b[0;32mreturn\u001b[0m \u001b[0mout\u001b[0m\u001b[0;34m\u001b[0m\u001b[0;34m\u001b[0m\u001b[0m\n",
      "\u001b[0;32m~/local/lib/python3.8/site-packages/torch/autograd/grad_mode.py\u001b[0m in \u001b[0;36mdecorate_context\u001b[0;34m(*args, **kwargs)\u001b[0m\n\u001b[1;32m     25\u001b[0m         \u001b[0;32mdef\u001b[0m \u001b[0mdecorate_context\u001b[0m\u001b[0;34m(\u001b[0m\u001b[0;34m*\u001b[0m\u001b[0margs\u001b[0m\u001b[0;34m,\u001b[0m \u001b[0;34m**\u001b[0m\u001b[0mkwargs\u001b[0m\u001b[0;34m)\u001b[0m\u001b[0;34m:\u001b[0m\u001b[0;34m\u001b[0m\u001b[0;34m\u001b[0m\u001b[0m\n\u001b[1;32m     26\u001b[0m             \u001b[0;32mwith\u001b[0m \u001b[0mself\u001b[0m\u001b[0;34m.\u001b[0m\u001b[0mclone\u001b[0m\u001b[0;34m(\u001b[0m\u001b[0;34m)\u001b[0m\u001b[0;34m:\u001b[0m\u001b[0;34m\u001b[0m\u001b[0;34m\u001b[0m\u001b[0m\n\u001b[0;32m---> 27\u001b[0;31m                 \u001b[0;32mreturn\u001b[0m \u001b[0mfunc\u001b[0m\u001b[0;34m(\u001b[0m\u001b[0;34m*\u001b[0m\u001b[0margs\u001b[0m\u001b[0;34m,\u001b[0m \u001b[0;34m**\u001b[0m\u001b[0mkwargs\u001b[0m\u001b[0;34m)\u001b[0m\u001b[0;34m\u001b[0m\u001b[0;34m\u001b[0m\u001b[0m\n\u001b[0m\u001b[1;32m     28\u001b[0m         \u001b[0;32mreturn\u001b[0m \u001b[0mcast\u001b[0m\u001b[0;34m(\u001b[0m\u001b[0mF\u001b[0m\u001b[0;34m,\u001b[0m \u001b[0mdecorate_context\u001b[0m\u001b[0;34m)\u001b[0m\u001b[0;34m\u001b[0m\u001b[0;34m\u001b[0m\u001b[0m\n\u001b[1;32m     29\u001b[0m \u001b[0;34m\u001b[0m\u001b[0m\n",
      "\u001b[0;32m~/local/lib/python3.8/site-packages/torch/optim/lbfgs.py\u001b[0m in \u001b[0;36mstep\u001b[0;34m(self, closure)\u001b[0m\n\u001b[1;32m    388\u001b[0m                 \u001b[0;32mfor\u001b[0m \u001b[0mi\u001b[0m \u001b[0;32min\u001b[0m \u001b[0mrange\u001b[0m\u001b[0;34m(\u001b[0m\u001b[0mnum_old\u001b[0m\u001b[0;34m)\u001b[0m\u001b[0;34m:\u001b[0m\u001b[0;34m\u001b[0m\u001b[0;34m\u001b[0m\u001b[0m\n\u001b[1;32m    389\u001b[0m                     \u001b[0mbe_i\u001b[0m \u001b[0;34m=\u001b[0m \u001b[0mold_dirs\u001b[0m\u001b[0;34m[\u001b[0m\u001b[0mi\u001b[0m\u001b[0;34m]\u001b[0m\u001b[0;34m.\u001b[0m\u001b[0mdot\u001b[0m\u001b[0;34m(\u001b[0m\u001b[0mr\u001b[0m\u001b[0;34m)\u001b[0m \u001b[0;34m*\u001b[0m \u001b[0mro\u001b[0m\u001b[0;34m[\u001b[0m\u001b[0mi\u001b[0m\u001b[0;34m]\u001b[0m\u001b[0;34m\u001b[0m\u001b[0;34m\u001b[0m\u001b[0m\n\u001b[0;32m--> 390\u001b[0;31m                     \u001b[0mr\u001b[0m\u001b[0;34m.\u001b[0m\u001b[0madd_\u001b[0m\u001b[0;34m(\u001b[0m\u001b[0mold_stps\u001b[0m\u001b[0;34m[\u001b[0m\u001b[0mi\u001b[0m\u001b[0;34m]\u001b[0m\u001b[0;34m,\u001b[0m \u001b[0malpha\u001b[0m\u001b[0;34m=\u001b[0m\u001b[0mal\u001b[0m\u001b[0;34m[\u001b[0m\u001b[0mi\u001b[0m\u001b[0;34m]\u001b[0m \u001b[0;34m-\u001b[0m \u001b[0mbe_i\u001b[0m\u001b[0;34m)\u001b[0m\u001b[0;34m\u001b[0m\u001b[0;34m\u001b[0m\u001b[0m\n\u001b[0m\u001b[1;32m    391\u001b[0m \u001b[0;34m\u001b[0m\u001b[0m\n\u001b[1;32m    392\u001b[0m             \u001b[0;32mif\u001b[0m \u001b[0mprev_flat_grad\u001b[0m \u001b[0;32mis\u001b[0m \u001b[0;32mNone\u001b[0m\u001b[0;34m:\u001b[0m\u001b[0;34m\u001b[0m\u001b[0;34m\u001b[0m\u001b[0m\n",
      "\u001b[0;31mKeyboardInterrupt\u001b[0m: "
     ]
    }
   ],
   "source": [
    "n_epochs = 10000\n",
    "ntrain = 900\n",
    "for epoch in range(0, n_epochs):\n",
    "    def energy_step():\n",
    "        # global composition, radial_spectrum, spherical_expansions, energies\n",
    "        energy_optimizer.zero_grad()\n",
    "        loss = torch.zeros(size=(1,), device=device)\n",
    "        \n",
    "        predicted = energy_model(energy_feats[:ntrain])\n",
    "        loss += loss_mse(predicted, energy[:ntrain])\n",
    "        \n",
    "        loss.backward(retain_graph=False)\n",
    "        return loss\n",
    "\n",
    "    loss = energy_optimizer.step(energy_step)\n",
    "    \n",
    "    if epoch % 10 ==0:\n",
    "        predicted = energy_model(energy_feats[ntrain:])\n",
    "    \n",
    "        print(\"Epoch:\", epoch, \"Energy RMSE: train \", np.sqrt(loss.detach().cpu().numpy().flatten()[0]/ntrain),\n",
    "         \"test\", np.sqrt(loss_mse(predicted, energy[ntrain:]).detach().cpu().numpy().flatten()[0]/ (len(frames)-ntrain)) )"
   ]
  },
  {
   "cell_type": "code",
   "execution_count": 379,
   "id": "08836d7d-0692-4759-aa43-0735f0127627",
   "metadata": {},
   "outputs": [],
   "source": [
    "predicted = energy_model(energy_feats)"
   ]
  },
  {
   "cell_type": "code",
   "execution_count": 380,
   "id": "40b00948-6bd1-4b60-aa49-be5b5709fd06",
   "metadata": {},
   "outputs": [
    {
     "data": {
      "text/plain": [
       "tensor([9.1283], grad_fn=<SelectBackward0>)"
      ]
     },
     "execution_count": 380,
     "metadata": {},
     "output_type": "execute_result"
    }
   ],
   "source": [
    "predicted[10]"
   ]
  },
  {
   "cell_type": "code",
   "execution_count": 381,
   "id": "6361659c-130c-40f8-b3d7-975341abb418",
   "metadata": {},
   "outputs": [
    {
     "data": {
      "text/plain": [
       "tensor([9.0069], grad_fn=<SelectBackward0>)"
      ]
     },
     "execution_count": 381,
     "metadata": {},
     "output_type": "execute_result"
    }
   ],
   "source": [
    "predicted[11]"
   ]
  },
  {
   "cell_type": "code",
   "execution_count": 382,
   "id": "f5025b7c-5d18-4044-bf32-9ac2e460d948",
   "metadata": {},
   "outputs": [
    {
     "data": {
      "text/plain": [
       "(tensor(9.1295), tensor(9.0060))"
      ]
     },
     "execution_count": 382,
     "metadata": {},
     "output_type": "execute_result"
    }
   ],
   "source": [
    "energy[10], energy[11]"
   ]
  },
  {
   "cell_type": "code",
   "execution_count": 383,
   "id": "99eab28d-9056-4e6f-8712-67200c52abdc",
   "metadata": {},
   "outputs": [
    {
     "data": {
      "text/plain": [
       "[<matplotlib.lines.Line2D at 0x7f4f7a668160>]"
      ]
     },
     "execution_count": 383,
     "metadata": {},
     "output_type": "execute_result"
    },
    {
     "data": {
      "image/png": "[encoded data removed]",
      "text/plain": [
       "<Figure size 432x288 with 1 Axes>"
      ]
     },
     "metadata": {
      "needs_background": "light"
     },
     "output_type": "display_data"
    }
   ],
   "source": [
    "plt.plot(predicted.cpu().detach(), energy.cpu(),'b.')"
   ]
  },
  {
   "cell_type": "code",
   "execution_count": 384,
   "id": "1bf5967a-65b4-42a6-b148-250e82dabac3",
   "metadata": {},
   "outputs": [
    {
     "data": {
      "text/plain": [
       "[<matplotlib.lines.Line2D at 0x7f4f7a5cf160>]"
      ]
     },
     "execution_count": 384,
     "metadata": {},
     "output_type": "execute_result"
    },
    {
     "data": {
      "image/png": "[encoded data removed]",
      "text/plain": [
       "<Figure size 432x288 with 1 Axes>"
      ]
     },
     "metadata": {
      "needs_background": "light"
     },
     "output_type": "display_data"
    }
   ],
   "source": [
    "plt.plot((predicted[::2]-predicted[1::2]).cpu().detach()[:ntrain//2], (energy[::2]-energy[1::2]).cpu()[:ntrain//2],'b.')"
   ]
  },
  {
   "cell_type": "markdown",
   "id": "a831c39b-20d3-4f0b-b183-81c0299dd5b3",
   "metadata": {},
   "source": [
    "# Direct NICE model"
   ]
  },
  {
   "cell_type": "markdown",
   "id": "d6feca25-3e90-41d9-aa22-2caa6b541832",
   "metadata": {
    "tags": []
   },
   "source": [
    "## Linear"
   ]
  },
  {
   "cell_type": "code",
   "execution_count": 80,
   "id": "20209a61-c989-47fe-a5ae-3c0e9be918c0",
   "metadata": {},
   "outputs": [],
   "source": [
    "full_nice = torch.tensor(np.load(\"data/three_center/feat_1234567_PCA.npy\")[:,:4000], device=device)"
   ]
  },
  {
   "cell_type": "code",
   "execution_count": 81,
   "id": "76f4d714-867d-4eda-99bb-69b2493f4f9c",
   "metadata": {},
   "outputs": [],
   "source": [
    "from sklearn.linear_model import RidgeCV"
   ]
  },
  {
   "cell_type": "code",
   "execution_count": 82,
   "id": "e3aaabc1-17e6-48fd-9bad-576a39e84932",
   "metadata": {},
   "outputs": [],
   "source": [
    "lmod = RidgeCV(alphas=np.geomspace(1e-8,1e-2,12))"
   ]
  },
  {
   "cell_type": "code",
   "execution_count": 83,
   "id": "2a7873a1-2bc1-47f6-95de-19b362646fc3",
   "metadata": {},
   "outputs": [
    {
     "data": {
      "text/plain": [
       "RidgeCV(alphas=array([1.00000000e-08, 3.51119173e-08, 1.23284674e-07, 4.32876128e-07,\n",
       "       1.51991108e-06, 5.33669923e-06, 1.87381742e-05, 6.57933225e-05,\n",
       "       2.31012970e-04, 8.11130831e-04, 2.84803587e-03, 1.00000000e-02]))"
      ]
     },
     "execution_count": 83,
     "metadata": {},
     "output_type": "execute_result"
    }
   ],
   "source": [
    "lmod.fit(full_nice[:ntrain], energy[:ntrain])"
   ]
  },
  {
   "cell_type": "code",
   "execution_count": 84,
   "id": "6257d744-3931-4490-a73d-b1e03176486e",
   "metadata": {},
   "outputs": [
    {
     "data": {
      "text/plain": [
       "1.873817422860383e-05"
      ]
     },
     "execution_count": 84,
     "metadata": {},
     "output_type": "execute_result"
    }
   ],
   "source": [
    "lmod.alpha_"
   ]
  },
  {
   "cell_type": "code",
   "execution_count": 85,
   "id": "a3e69c3f-d7ad-4c4b-9f00-cbb045ad9676",
   "metadata": {},
   "outputs": [],
   "source": [
    "predicted = torch.tensor(lmod.predict(full_nice))"
   ]
  },
  {
   "cell_type": "code",
   "execution_count": 86,
   "id": "02c0a668-fc03-4ff1-abff-1b9a78f00a98",
   "metadata": {},
   "outputs": [
    {
     "data": {
      "text/plain": [
       "[<matplotlib.lines.Line2D at 0x7f29f441da00>]"
      ]
     },
     "execution_count": 86,
     "metadata": {},
     "output_type": "execute_result"
    },
    {
     "data": {
      "image/png": "[encoded data removed]",
      "text/plain": [
       "<Figure size 432x288 with 1 Axes>"
      ]
     },
     "metadata": {
      "needs_background": "light"
     },
     "output_type": "display_data"
    }
   ],
   "source": [
    "plt.plot((predicted[::2]-predicted[1::2]).cpu().detach()[ntrain//2:], (energy[::2]-energy[1::2]).cpu()[ntrain//2:],'b.')"
   ]
  },
  {
   "cell_type": "code",
   "execution_count": 87,
   "id": "34e193a9-a493-47ff-9d72-468fa0eab7bc",
   "metadata": {},
   "outputs": [
    {
     "data": {
      "text/plain": [
       "[<matplotlib.lines.Line2D at 0x7f29f43b09d0>]"
      ]
     },
     "execution_count": 87,
     "metadata": {},
     "output_type": "execute_result"
    },
    {
     "data": {
      "image/png": "[encoded data removed]",
      "text/plain": [
       "<Figure size 432x288 with 1 Axes>"
      ]
     },
     "metadata": {
      "needs_background": "light"
     },
     "output_type": "display_data"
    }
   ],
   "source": [
    "plt.plot((predicted[::2]+predicted[1::2]).cpu().detach()[ntrain//2:]/2, (energy[::2]+energy[1::2]).cpu()[ntrain//2:]/2,'b.')"
   ]
  },
  {
   "cell_type": "code",
   "execution_count": 88,
   "id": "ee40a7e1-6e42-4d28-92ef-057dbaacafa2",
   "metadata": {},
   "outputs": [
    {
     "name": "stdout",
     "output_type": "stream",
     "text": [
      "tensor(0.2683) tensor(1.5423)\n"
     ]
    }
   ],
   "source": [
    "print( \n",
    "    torch.sqrt(torch.mean( ((predicted[::2]+predicted[1::2]).cpu().detach().flatten()[ntrain//2:]/2-(energy[::2]+energy[1::2]).cpu().flatten()[ntrain//2:]/2)**2 )) /torch.std(energy)\n",
    "    ,\n",
    "    torch.sqrt(torch.mean( ((predicted[::2]-predicted[1::2]).cpu().detach().flatten()[ntrain//2:]-(energy[::2]-energy[1::2]).cpu().flatten()[ntrain//2:])**2 )) /torch.std(energy[::2]-energy[1::2])     \n",
    "     )"
   ]
  },
  {
   "cell_type": "markdown",
   "id": "e318a623-b29a-4a84-ac72-d0f421da28c7",
   "metadata": {},
   "source": [
    "## Non-linear"
   ]
  },
  {
   "cell_type": "code",
   "execution_count": 94,
   "id": "7a783487-f61c-45e2-b7f6-dd159a0c0c38",
   "metadata": {},
   "outputs": [],
   "source": [
    "class NICELearn(torch.nn.Module):\n",
    "    def __init__(self, layer_size=100):\n",
    "        super().__init__()\n",
    "\n",
    "        self.nn_encode = None\n",
    "        self.layer_size = layer_size \n",
    "\n",
    "    def initialize_model_weights(self, block, seed):\n",
    "        if seed is not None:\n",
    "            torch.manual_seed(seed)\n",
    "\n",
    "        X = block\n",
    "\n",
    "        # initialize nn with zero weights ??\n",
    "        def init_zero_weights(m):\n",
    "            if isinstance(m, torch.nn.Linear):\n",
    "                m.weight.data.fill_(0)\n",
    "                m.bias.data.fill_(0)\n",
    "        layer_size  = self.layer_size\n",
    "        self.learn = torch.nn.Sequential(            \n",
    "            torch.nn.Linear(inputs.shape[-1], layer_size),\n",
    "            torch.nn.GroupNorm(4,layer_size),\n",
    "            torch.nn.SiLU(),\n",
    "            torch.nn.Linear(layer_size, layer_size),\n",
    "            torch.nn.GroupNorm(4,layer_size),\n",
    "            torch.nn.SiLU(),\n",
    "            torch.nn.Linear(layer_size, 1))   \n",
    "        \n",
    "    def forward(self, block, samples=None):\n",
    "        if self.learn is None:\n",
    "            raise Exception(\"call initialize_weights first\")\n",
    "\n",
    "        nn_per_structure = self.learn(block)        \n",
    "        return nn_per_structure"
   ]
  },
  {
   "cell_type": "code",
   "execution_count": 95,
   "id": "168ad843-d2ad-473e-a3bd-f20916789881",
   "metadata": {},
   "outputs": [
    {
     "data": {
      "text/plain": [
       "NICELearn(\n",
       "  (learn): Sequential(\n",
       "    (0): Linear(in_features=64, out_features=64, bias=True)\n",
       "    (1): GroupNorm(4, 64, eps=1e-05, affine=True)\n",
       "    (2): SiLU()\n",
       "    (3): Linear(in_features=64, out_features=64, bias=True)\n",
       "    (4): GroupNorm(4, 64, eps=1e-05, affine=True)\n",
       "    (5): SiLU()\n",
       "    (6): Linear(in_features=64, out_features=1, bias=True)\n",
       "  )\n",
       ")"
      ]
     },
     "execution_count": 95,
     "metadata": {},
     "output_type": "execute_result"
    }
   ],
   "source": [
    "mymodel = NICELearn(64)\n",
    "mymodel.initialize_model_weights(inputs, seed=12345)\n",
    "mymodel.to(device=device)"
   ]
  },
  {
   "cell_type": "code",
   "execution_count": 96,
   "id": "180d3b7e-59c7-48bd-bedc-4923fb6f54c7",
   "metadata": {},
   "outputs": [],
   "source": [
    "optimizer = torch.optim.Adam(\n",
    "        mymodel.parameters(),\n",
    "        lr=0.001\n",
    "    )\n",
    "lr_scheduler = torch.optim.lr_scheduler.ReduceLROnPlateau(optimizer, factor = 0.8, patience = 100)"
   ]
  },
  {
   "cell_type": "code",
   "execution_count": 97,
   "id": "7bef3b4d-12d4-444b-aefd-740173155926",
   "metadata": {},
   "outputs": [],
   "source": [
    "structure_idx = np.concatenate([ [i]*64 for i in range(len(energy))])"
   ]
  },
  {
   "cell_type": "code",
   "execution_count": 98,
   "id": "cab30ef7-15f3-4610-87d3-ed7dbe7aec2c",
   "metadata": {},
   "outputs": [],
   "source": [
    "n_epochs = 20000\n",
    "ntrain = 3000\n",
    "ntriples = 64\n",
    "val_best = 1e100"
   ]
  },
  {
   "cell_type": "code",
   "execution_count": 100,
   "id": "44f99b90-dbe9-40c2-be0e-c8f7976f6e6d",
   "metadata": {
    "scrolled": true,
    "tags": []
   },
   "outputs": [
    {
     "name": "stdout",
     "output_type": "stream",
     "text": [
      "Epoch: 0 Energy RMSE: train  8.163749447219375 test 8.145122849657819\n",
      "Epoch: 100 Energy RMSE: train  4.000499233744804 test 4.057159229683771\n",
      "Epoch: 200 Energy RMSE: train  2.5905421915795235 test 2.6234990346472857\n",
      "Epoch: 300 Energy RMSE: train  1.647444583064619 test 1.6592264427296233\n",
      "Epoch: 400 Energy RMSE: train  1.1713709426812302 test 1.3048934194802149\n",
      "Epoch: 500 Energy RMSE: train  0.8713506387176786 test 1.1760243239460173\n",
      "Epoch: 600 Energy RMSE: train  0.6745129449698759 test 1.1352955832192082\n",
      "Epoch: 700 Energy RMSE: train  0.5588332560307795 test 1.1116962712536684\n",
      "Epoch: 800 Energy RMSE: train  0.4606782344958399 test 1.0574578274243458\n",
      "Epoch: 900 Energy RMSE: train  0.39115852233433196 test 1.0415752199368145\n",
      "Epoch: 1000 Energy RMSE: train  0.4060732545908927 test 1.082155264413165\n",
      "Epoch: 1100 Energy RMSE: train  0.31211505690433494 test 1.05124631498982\n",
      "Epoch: 1200 Energy RMSE: train  0.28729200015094414 test 1.0523809984279715\n",
      "Epoch: 1300 Energy RMSE: train  0.26757426773946735 test 1.0529836342428143\n",
      "Epoch: 1400 Energy RMSE: train  0.2878713575167699 test 1.0488999436207762\n",
      "Epoch: 1500 Energy RMSE: train  0.23579407743970152 test 1.050011185547442\n",
      "Epoch: 1600 Energy RMSE: train  0.22674360890169162 test 1.0483465179262181\n",
      "Epoch: 1700 Energy RMSE: train  0.21155549255165526 test 1.0451276739734887\n",
      "Epoch: 1800 Energy RMSE: train  0.2016630387049612 test 1.042081825141482\n",
      "Epoch: 1900 Energy RMSE: train  0.19201712528643786 test 1.0406377033666456\n",
      "Epoch: 2000 Energy RMSE: train  0.18333381688188272 test 1.0386946797770407\n",
      "Epoch: 2100 Energy RMSE: train  0.29819220392753953 test 1.0566443704841795\n",
      "Epoch: 2200 Energy RMSE: train  0.16735545190827109 test 1.036394237496116\n",
      "Epoch: 2300 Energy RMSE: train  0.16655721974267265 test 1.043393716432549\n",
      "Epoch: 2400 Energy RMSE: train  0.15251537971739865 test 1.0352733094105568\n",
      "Epoch: 2500 Energy RMSE: train  0.14500269065234966 test 1.0371823496826291\n",
      "Epoch: 2600 Energy RMSE: train  0.13849308644272534 test 1.0351113602978972\n",
      "Epoch: 2700 Energy RMSE: train  0.13122978780191924 test 1.0379124086994576\n",
      "Epoch: 2800 Energy RMSE: train  0.12533243599776092 test 1.03478888279223\n",
      "Epoch: 2900 Energy RMSE: train  0.11816759434805213 test 1.0379775848931514\n",
      "Epoch: 3000 Energy RMSE: train  0.11984025109591119 test 1.0333563375949781\n",
      "Epoch: 3100 Energy RMSE: train  0.10592598069777304 test 1.0374922114138507\n",
      "Epoch: 3200 Energy RMSE: train  0.21810678743412418 test 1.0696811314888117\n",
      "Epoch: 3300 Energy RMSE: train  0.09467018858025657 test 1.0362387449159525\n",
      "Epoch: 3400 Energy RMSE: train  0.0889475091537402 test 1.0379828385553507\n",
      "Epoch: 3500 Energy RMSE: train  0.08488034616987808 test 1.0330592892312773\n",
      "Epoch: 3600 Energy RMSE: train  0.07951857485596639 test 1.035514108397382\n",
      "Epoch: 3700 Energy RMSE: train  0.14335146978357302 test 1.0298490256378268\n",
      "Epoch: 3800 Energy RMSE: train  0.07164564327960082 test 1.0315636505371906\n",
      "Epoch: 3900 Energy RMSE: train  0.06756341167811224 test 1.032773515691771\n",
      "Epoch: 4000 Energy RMSE: train  0.08181730034021656 test 1.03512840184361\n",
      "Epoch: 4100 Energy RMSE: train  0.061753749269001144 test 1.0282850375688832\n",
      "Epoch: 4200 Energy RMSE: train  0.058654588439328206 test 1.029256389295343\n",
      "Epoch: 4300 Energy RMSE: train  0.0694094023462448 test 1.0289678495383001\n",
      "Epoch: 4400 Energy RMSE: train  0.05451905195491996 test 1.025051893993749\n",
      "Epoch: 4500 Energy RMSE: train  0.052222071355122836 test 1.0257785237013992\n",
      "Epoch: 4600 Energy RMSE: train  0.05823392483300608 test 1.0196786781223377\n",
      "Epoch: 4700 Energy RMSE: train  0.04944723305353879 test 1.0213663658234136\n",
      "Epoch: 4800 Energy RMSE: train  0.047718996037817124 test 1.0220519289988672\n",
      "Epoch: 4900 Energy RMSE: train  0.05409471826791741 test 1.0160235143145457\n",
      "Epoch: 5000 Energy RMSE: train  0.04572916617203565 test 1.0180797276260718\n",
      "Epoch: 5100 Energy RMSE: train  0.04436676913091667 test 1.0187282947413727\n",
      "Epoch: 5200 Energy RMSE: train  0.047539675716522824 test 1.0124029258049585\n",
      "Epoch: 5300 Energy RMSE: train  0.042867748287466395 test 1.0150675845290744\n",
      "Epoch: 5400 Energy RMSE: train  0.04174128119209485 test 1.0157073179362486\n",
      "Epoch: 5500 Energy RMSE: train  0.04201679070126773 test 1.0106796406854726\n",
      "Epoch: 5600 Energy RMSE: train  0.040675965420189975 test 1.0123831956422797\n",
      "Epoch: 5700 Energy RMSE: train  0.03986194393286185 test 1.0129609753958644\n",
      "Epoch: 5800 Energy RMSE: train  0.039116209224519416 test 1.013277294356931\n",
      "Epoch: 5900 Energy RMSE: train  0.03840337466468371 test 1.0134545109788007\n",
      "Epoch: 6000 Energy RMSE: train  0.03771037914891423 test 1.0135560743125633\n",
      "Epoch: 6100 Energy RMSE: train  0.03703053438534693 test 1.0136160937578578\n",
      "Epoch: 6200 Energy RMSE: train  0.04757764485202373 test 1.0059506079949447\n",
      "Epoch: 6300 Energy RMSE: train  0.0369008032155074 test 1.0079387123558692\n",
      "Epoch: 6400 Energy RMSE: train  0.03623259172776101 test 1.0087780552336267\n",
      "Epoch: 6500 Energy RMSE: train  0.03569282394975491 test 1.0093063432913407\n",
      "Epoch: 6600 Energy RMSE: train  0.0351911237781413 test 1.0096594224725226\n",
      "Epoch: 6700 Energy RMSE: train  0.03470418841552849 test 1.0099134268653571\n",
      "Epoch: 6800 Energy RMSE: train  0.0342232982315589 test 1.0101111407296508\n",
      "Epoch: 6900 Energy RMSE: train  0.03374438149819509 test 1.0102764876267691\n",
      "Epoch: 7000 Energy RMSE: train  0.03326526626019921 test 1.010423121420345\n",
      "Epoch: 7100 Energy RMSE: train  0.03278471888849674 test 1.0105589603878053\n",
      "Epoch: 7200 Energy RMSE: train  0.03468403519747781 test 1.0055571821770717\n",
      "Epoch: 7300 Energy RMSE: train  0.032687495050118885 test 1.006180890575635\n",
      "Epoch: 7400 Energy RMSE: train  0.032237793233609736 test 1.0068367414246722\n",
      "Epoch: 7500 Energy RMSE: train  0.03185670129799905 test 1.0072909046789822\n",
      "Epoch: 7600 Energy RMSE: train  0.03149447512225728 test 1.0076271118233082\n",
      "Epoch: 7700 Energy RMSE: train  0.031137547022200916 test 1.0078971426063725\n",
      "Epoch: 7800 Energy RMSE: train  0.030780804721768987 test 1.0081292109514686\n",
      "Epoch: 7900 Energy RMSE: train  0.030421906967129184 test 1.0083384903663493\n",
      "Epoch: 8000 Energy RMSE: train  0.030059650534370718 test 1.0085333480112613\n",
      "Epoch: 8100 Energy RMSE: train  0.02969338623057429 test 1.0087185779701406\n",
      "Epoch: 8200 Energy RMSE: train  0.08653998643110192 test 1.011977523984042\n",
      "Epoch: 8300 Energy RMSE: train  0.029428335587217445 test 1.00586980484856\n",
      "Epoch: 8400 Energy RMSE: train  0.029056684584450307 test 1.0065936120757601\n",
      "Epoch: 8500 Energy RMSE: train  0.028770242280915792 test 1.00701775415062\n",
      "Epoch: 8600 Energy RMSE: train  0.028496349361280877 test 1.0073345461337793\n",
      "Epoch: 8700 Energy RMSE: train  0.028223344747442886 test 1.0075930685806662\n",
      "Epoch: 8800 Energy RMSE: train  0.02794771472527482 test 1.0078197517162322\n",
      "Epoch: 8900 Energy RMSE: train  0.027668064321384654 test 1.0080281687609742\n",
      "Epoch: 9000 Energy RMSE: train  0.027383747104175512 test 1.0082254690568118\n",
      "Epoch: 9100 Energy RMSE: train  0.02709444537160217 test 1.0084155525584302\n",
      "Epoch: 9200 Energy RMSE: train  0.09956721671202465 test 1.0214784552679983\n",
      "Epoch: 9300 Energy RMSE: train  0.026807519111982536 test 1.006499489345339\n",
      "Epoch: 9400 Energy RMSE: train  0.026540313142577415 test 1.006999823383268\n",
      "Epoch: 9500 Energy RMSE: train  0.02632242172445623 test 1.0073394106076448\n",
      "Epoch: 9600 Energy RMSE: train  0.02610867532734669 test 1.0076050993675538\n",
      "Epoch: 9700 Energy RMSE: train  0.02589297098807302 test 1.0078315769445223\n",
      "Epoch: 9800 Energy RMSE: train  0.025673457600332728 test 1.0080367866635653\n",
      "Epoch: 9900 Energy RMSE: train  0.025449390436638707 test 1.0082298844623114\n",
      "Epoch: 10000 Energy RMSE: train  0.025220418184375294 test 1.0084156363778574\n",
      "Epoch: 10100 Energy RMSE: train  0.02498636327382812 test 1.008596573050863\n",
      "Epoch: 10200 Energy RMSE: train  0.024747138726132663 test 1.008774049597237\n",
      "Epoch: 10300 Energy RMSE: train  0.02546513322236663 test 1.0066941165645298\n",
      "Epoch: 10400 Energy RMSE: train  0.02446797484514265 test 1.0075819749019075\n",
      "Epoch: 10500 Energy RMSE: train  0.024264341809595788 test 1.0079112058018753\n",
      "Epoch: 10600 Energy RMSE: train  0.02406459375360767 test 1.008159902950353\n",
      "Epoch: 10700 Energy RMSE: train  0.02386231726454703 test 1.0083709720475031\n",
      "Epoch: 10800 Energy RMSE: train  0.02365600985366722 test 1.0085640243216936\n",
      "Epoch: 10900 Energy RMSE: train  0.052643224280194974 test 1.0057867020445213\n",
      "Epoch: 11000 Energy RMSE: train  0.023388525376274477 test 1.0075470035151344\n",
      "Epoch: 11100 Energy RMSE: train  0.0231903638702167 test 1.0078988062577758\n",
      "Epoch: 11200 Energy RMSE: train  0.023002167965344752 test 1.008163105136271\n",
      "Epoch: 11300 Energy RMSE: train  0.0228122626717287 test 1.0083859731995268\n",
      "Epoch: 11400 Energy RMSE: train  0.02261874154155629 test 1.008589140147747\n",
      "Epoch: 11500 Energy RMSE: train  0.026459559345075663 test 1.0072117965966663\n",
      "Epoch: 11600 Energy RMSE: train  0.02237616864190461 test 1.0076958340511588\n",
      "Epoch: 11700 Energy RMSE: train  0.022204627209460738 test 1.0080062436266528\n",
      "Epoch: 11800 Energy RMSE: train  0.0220366618805206 test 1.0082474714669438\n",
      "Epoch: 11900 Energy RMSE: train  0.021866369109563234 test 1.0084573767883622\n",
      "Epoch: 12000 Energy RMSE: train  0.030016740847110552 test 1.0089190906938765\n",
      "Epoch: 12100 Energy RMSE: train  0.021638269359925764 test 1.0076864656377928\n",
      "Epoch: 12200 Energy RMSE: train  0.021470890681973998 test 1.0079957637821166\n",
      "Epoch: 12300 Energy RMSE: train  0.021309860078187113 test 1.0082385603835096\n",
      "Epoch: 12400 Energy RMSE: train  0.02114691281169238 test 1.0084484599969843\n",
      "Epoch: 12500 Energy RMSE: train  0.03435890313334439 test 1.0085483826909543\n",
      "Epoch: 12600 Energy RMSE: train  0.02092386992364351 test 1.0077708230842048\n",
      "Epoch: 12700 Energy RMSE: train  0.02077244959511532 test 1.0080715661263884\n",
      "Epoch: 12800 Energy RMSE: train  0.02062564121991566 test 1.0082968759328785\n",
      "Epoch: 12900 Energy RMSE: train  0.05966426863336214 test 1.0073756353896102\n",
      "Epoch: 13000 Energy RMSE: train  0.020421713264279242 test 1.00775862334735\n",
      "Epoch: 13100 Energy RMSE: train  0.02026777878824596 test 1.0080320116657369\n",
      "Epoch: 13200 Energy RMSE: train  0.020124694680369967 test 1.0082570481561541\n",
      "Epoch: 13300 Energy RMSE: train  0.04242768189911903 test 1.008257254050463\n",
      "Epoch: 13400 Energy RMSE: train  0.019948923763013233 test 1.0076210376942767\n",
      "Epoch: 13500 Energy RMSE: train  0.019787232050135505 test 1.0079190728336747\n",
      "Epoch: 13600 Energy RMSE: train  0.019652124807313834 test 1.0081471088224208\n",
      "Epoch: 13700 Energy RMSE: train  0.021413638558218026 test 1.007933755785811\n",
      "Epoch: 13800 Energy RMSE: train  0.019498152091173462 test 1.00757238615438\n",
      "Epoch: 13900 Energy RMSE: train  0.019329088739002364 test 1.0078580553868193\n",
      "Epoch: 14000 Energy RMSE: train  0.019198560232129923 test 1.0080777848653824\n",
      "Epoch: 14100 Energy RMSE: train  0.019082877302385542 test 1.0082442575012571\n",
      "Epoch: 14200 Energy RMSE: train  0.019093359862871112 test 1.0073324684782572\n",
      "Epoch: 14300 Energy RMSE: train  0.018904135215472757 test 1.0076807331306\n",
      "Epoch: 14400 Energy RMSE: train  0.018783669559026068 test 1.0079020571556145\n",
      "Epoch: 14500 Energy RMSE: train  0.01866293606472844 test 1.0080872666602225\n",
      "Epoch: 14600 Energy RMSE: train  0.018676372744229137 test 1.007346560655995\n",
      "Epoch: 14700 Energy RMSE: train  0.018502798594532407 test 1.0075880270497684\n",
      "Epoch: 14800 Energy RMSE: train  0.018384465928301636 test 1.007811050624949\n",
      "Epoch: 14900 Energy RMSE: train  0.01826632942267864 test 1.0079970978264314\n",
      "Epoch: 15000 Energy RMSE: train  0.021510102462394674 test 1.006393150176916\n",
      "Epoch: 15100 Energy RMSE: train  0.018144568876138044 test 1.0073266854858\n",
      "Epoch: 15200 Energy RMSE: train  0.018053056924630145 test 1.007541113988986\n",
      "Epoch: 15300 Energy RMSE: train  0.017965299887251845 test 1.0077156239685676\n",
      "Epoch: 15400 Energy RMSE: train  0.017876600564179577 test 1.0078710057235762\n",
      "Epoch: 15500 Energy RMSE: train  0.017785770812662974 test 1.0080164369521105\n",
      "Epoch: 15600 Energy RMSE: train  0.01769231682218376 test 1.0081562337310386\n",
      "Epoch: 15700 Energy RMSE: train  0.017595964917767628 test 1.008292480606608\n",
      "Epoch: 15800 Energy RMSE: train  0.017496531677187902 test 1.0084262469637004\n",
      "Epoch: 15900 Energy RMSE: train  0.01792074193579406 test 1.007657784394302\n",
      "Epoch: 16000 Energy RMSE: train  0.017375638731042798 test 1.0078656581296324\n",
      "Epoch: 16100 Energy RMSE: train  0.017282679284411788 test 1.008057861178431\n",
      "Epoch: 16200 Energy RMSE: train  0.01719104212757339 test 1.0082143226635047\n",
      "Epoch: 16300 Energy RMSE: train  0.017097499874622224 test 1.008355390072046\n",
      "Epoch: 16400 Energy RMSE: train  0.0170012919181862 test 1.0084892034719697\n",
      "Epoch: 16500 Energy RMSE: train  0.017687437645363617 test 1.0074349641883746\n",
      "Epoch: 16600 Energy RMSE: train  0.016883211970581447 test 1.0080043613741485\n",
      "Epoch: 16700 Energy RMSE: train  0.016797791769412637 test 1.0081801808088338\n",
      "Epoch: 16800 Energy RMSE: train  0.016712773452789483 test 1.0083224178321\n",
      "Epoch: 16900 Energy RMSE: train  0.01662578202803385 test 1.0084512120002695\n",
      "Epoch: 17000 Energy RMSE: train  0.018277575995564368 test 1.0077013910574475\n",
      "Epoch: 17100 Energy RMSE: train  0.016509099758514105 test 1.0080727539099343\n",
      "Epoch: 17200 Energy RMSE: train  0.016424646073112094 test 1.0082435274725317\n",
      "Epoch: 17300 Energy RMSE: train  0.016340700933033452 test 1.0083844980838745\n",
      "Epoch: 17400 Energy RMSE: train  0.016254844060298538 test 1.0085133070544023\n",
      "Epoch: 17500 Energy RMSE: train  0.017094356733418522 test 1.0080728250331277\n",
      "Epoch: 17600 Energy RMSE: train  0.01614200952686913 test 1.0081312440077557\n",
      "Epoch: 17700 Energy RMSE: train  0.016059783708492103 test 1.0083015953880485\n",
      "Epoch: 17800 Energy RMSE: train  0.01597811173800002 test 1.0084433751496642\n",
      "Epoch: 17900 Energy RMSE: train  0.06918286087508536 test 1.0080752853498924\n",
      "Epoch: 18000 Energy RMSE: train  0.015840880846467145 test 1.0083607852877794\n",
      "Epoch: 18100 Energy RMSE: train  0.015760171530472985 test 1.0085227384275643\n",
      "Epoch: 18200 Energy RMSE: train  0.016027115578721565 test 1.0084231694205765\n",
      "Epoch: 18300 Energy RMSE: train  0.015631158667797185 test 1.008431083057259\n",
      "Epoch: 18400 Energy RMSE: train  0.016462447199520933 test 1.0082434253159136\n",
      "Epoch: 18500 Energy RMSE: train  0.015866515070765145 test 1.0084408939889014\n",
      "Epoch: 18600 Energy RMSE: train  0.015433057025290813 test 1.0085557500743019\n",
      "Epoch: 18700 Energy RMSE: train  0.01538742984151237 test 1.00845135751382\n",
      "Epoch: 18800 Energy RMSE: train  0.015988381806502652 test 1.0080098574749936\n",
      "Epoch: 18900 Energy RMSE: train  0.015228665139292445 test 1.0085340012101074\n",
      "Epoch: 19000 Energy RMSE: train  0.015912696280190323 test 1.0085467924924623\n",
      "Epoch: 19100 Energy RMSE: train  0.015123064837239174 test 1.0083720422733105\n",
      "Epoch: 19200 Energy RMSE: train  0.01504150499032972 test 1.0085595554649485\n",
      "Epoch: 19300 Energy RMSE: train  0.01497001145390686 test 1.0086965734911788\n",
      "Epoch: 19400 Energy RMSE: train  0.015027967679058032 test 1.008351149044493\n",
      "Epoch: 19500 Energy RMSE: train  0.014864909331922017 test 1.0085595643801395\n",
      "Epoch: 19600 Energy RMSE: train  0.014796849803926183 test 1.0087030034983544\n",
      "Epoch: 19700 Energy RMSE: train  0.014897086543388512 test 1.0082645059688498\n",
      "Epoch: 19800 Energy RMSE: train  0.014697174581954242 test 1.008534652215022\n",
      "Epoch: 19900 Energy RMSE: train  0.014629823449211595 test 1.0086850321376903\n"
     ]
    }
   ],
   "source": [
    "for epoch in range(0, n_epochs):\n",
    "    \n",
    "    optimizer.zero_grad()\n",
    "    predicted = mymodel(target[:ntrain])\n",
    "    loss = loss_mse(predicted, energy[:ntrain])\n",
    "    loss.backward(retain_graph=False)\n",
    "    optimizer.step()\n",
    "    lr_scheduler.step(loss)\n",
    "    \n",
    "    if epoch % 10 ==0:\n",
    "        predicted = mymodel(target[ntrain:])\n",
    "        validation_error = np.sqrt(loss_mse(predicted, energy[ntrain:]).detach().cpu().numpy().flatten()[0]/ (len(energy)-ntrain))\n",
    "        if validation_error < val_best:\n",
    "            #print(\"BEST Validation Error: \", validation_error)\n",
    "            val_best = validation_error\n",
    "            torch.save(mymodel.state_dict(), f\"d-NICE-E_best.torch\")\n",
    "\n",
    "        if epoch % 100 ==0:\n",
    "            print(\"Epoch:\", epoch, \"Energy RMSE: train \", np.sqrt(loss.detach().cpu().numpy().flatten()[0]/ntrain),\n",
    "                 \"test\", validation_error )"
   ]
  },
  {
   "cell_type": "code",
   "execution_count": 101,
   "id": "0d9482d4-3cb5-4ef0-a92d-722f57609e78",
   "metadata": {},
   "outputs": [],
   "source": [
    "predicted = mymodel(target)"
   ]
  },
  {
   "cell_type": "code",
   "execution_count": 103,
   "id": "9d838988-c558-4653-95c5-174c97899ceb",
   "metadata": {},
   "outputs": [
    {
     "data": {
      "text/plain": [
       "[<matplotlib.lines.Line2D at 0x7f29f412d0d0>]"
      ]
     },
     "execution_count": 103,
     "metadata": {},
     "output_type": "execute_result"
    },
    {
     "data": {
      "image/png": "[encoded data removed]",
      "text/plain": [
       "<Figure size 432x288 with 1 Axes>"
      ]
     },
     "metadata": {
      "needs_background": "light"
     },
     "output_type": "display_data"
    }
   ],
   "source": [
    "plt.plot((predicted[::2]-predicted[1::2]).cpu().detach()[ntrain//2:], (energy[::2]-energy[1::2]).cpu()[ntrain//2:],'b.')\n",
    "plt.plot((predicted[::2]-predicted[1::2]).cpu().detach()[:ntrain//2], (energy[::2]-energy[1::2]).cpu()[:ntrain//2],'r.')"
   ]
  },
  {
   "cell_type": "code",
   "execution_count": 104,
   "id": "0c4e998d-01a0-40ad-b114-bf372973618d",
   "metadata": {},
   "outputs": [
    {
     "data": {
      "text/plain": [
       "[<matplotlib.lines.Line2D at 0x7f29f43e3700>]"
      ]
     },
     "execution_count": 104,
     "metadata": {},
     "output_type": "execute_result"
    },
    {
     "data": {
      "image/png": "[encoded data removed]",
      "text/plain": [
       "<Figure size 432x288 with 1 Axes>"
      ]
     },
     "metadata": {
      "needs_background": "light"
     },
     "output_type": "display_data"
    }
   ],
   "source": [
    "plt.plot((predicted[::2]+predicted[1::2]).cpu().detach()[ntrain//2:]/2, (energy[::2]+energy[1::2]).cpu()[ntrain//2:]/2,'b.')\n",
    "plt.plot((predicted[::2]+predicted[1::2]).cpu().detach()[:ntrain//2:]/2, (energy[::2]+energy[1::2]).cpu()[:ntrain//2]/2,'r.')"
   ]
  },
  {
   "cell_type": "code",
   "execution_count": 105,
   "id": "f7b6efbe-d7cc-452e-b396-6b4dc31a2131",
   "metadata": {},
   "outputs": [
    {
     "name": "stdout",
     "output_type": "stream",
     "text": [
      "tensor(0.2565) tensor(0.8910)\n"
     ]
    }
   ],
   "source": [
    "print( \n",
    "    torch.sqrt(torch.mean( ((predicted[::2]+predicted[1::2]).cpu().detach().flatten()[ntrain//2:]/2-(energy[::2]+energy[1::2]).cpu().flatten()[ntrain//2:]/2)**2 )) /torch.std(energy)\n",
    "    ,\n",
    "    torch.sqrt(torch.mean( ((predicted[::2]-predicted[1::2]).cpu().detach().flatten()[ntrain//2:]-(energy[::2]-energy[1::2]).cpu().flatten()[ntrain//2:])**2 )) /torch.std(energy[::2]-energy[1::2])     \n",
    "     )"
   ]
  },
  {
   "cell_type": "markdown",
   "id": "8c61338c-7789-41ae-a0cd-5149da517ae4",
   "metadata": {},
   "source": [
    "# Direct (3B) energy model"
   ]
  },
  {
   "cell_type": "code",
   "execution_count": 106,
   "id": "f50b0dc9-4e81-429d-b66a-7cd6eba0ee50",
   "metadata": {},
   "outputs": [],
   "source": [
    "class EncodeLearn(torch.nn.Module):\n",
    "    def __init__(self, layer_size=100):\n",
    "        super().__init__()\n",
    "\n",
    "        self.nn_encode = None\n",
    "        self.layer_size = layer_size \n",
    "\n",
    "    def initialize_model_weights(self, block, seed):\n",
    "        if seed is not None:\n",
    "            torch.manual_seed(seed)\n",
    "\n",
    "        X = block\n",
    "\n",
    "        # initialize nn with zero weights ??\n",
    "        def init_zero_weights(m):\n",
    "            if isinstance(m, torch.nn.Linear):\n",
    "                m.weight.data.fill_(0)\n",
    "                m.bias.data.fill_(0)\n",
    "        layer_size  = self.layer_size\n",
    "        self.learn = torch.nn.Sequential(            \n",
    "            torch.nn.Linear(inputs.shape[-1], layer_size),\n",
    "            torch.nn.GroupNorm(4,layer_size),\n",
    "            torch.nn.SiLU(),\n",
    "            torch.nn.Linear(layer_size, layer_size),\n",
    "            torch.nn.GroupNorm(4,layer_size),\n",
    "            torch.nn.SiLU(),\n",
    "            torch.nn.Linear(layer_size, 1))   \n",
    "    def forward(self, block, samples):\n",
    "        if self.learn is None:\n",
    "            raise Exception(\"call initialize_weights first\")\n",
    "\n",
    "        structure_map, new_samples, _ = StructureMap(\n",
    "            samples, next(self.parameters()).device\n",
    "        )\n",
    "                \n",
    "        nn_per_triple = self.learn(block)        \n",
    "        nn_per_structure = torch.zeros((len(new_samples), nn_per_triple.shape[-1]), device=block.device)\n",
    "        nn_per_structure.index_add_(0, structure_map, nn_per_triple)\n",
    "        return nn_per_structure"
   ]
  },
  {
   "cell_type": "code",
   "execution_count": 107,
   "id": "08ace823-f30c-4db7-b73a-a71aae3c3754",
   "metadata": {},
   "outputs": [
    {
     "data": {
      "text/plain": [
       "EncodeLearn(\n",
       "  (learn): Sequential(\n",
       "    (0): Linear(in_features=64, out_features=64, bias=True)\n",
       "    (1): GroupNorm(4, 64, eps=1e-05, affine=True)\n",
       "    (2): SiLU()\n",
       "    (3): Linear(in_features=64, out_features=64, bias=True)\n",
       "    (4): GroupNorm(4, 64, eps=1e-05, affine=True)\n",
       "    (5): SiLU()\n",
       "    (6): Linear(in_features=64, out_features=1, bias=True)\n",
       "  )\n",
       ")"
      ]
     },
     "execution_count": 107,
     "metadata": {},
     "output_type": "execute_result"
    }
   ],
   "source": [
    "mymodel = EncodeLearn(64)\n",
    "mymodel.initialize_model_weights(inputs, seed=12345)\n",
    "mymodel.to(device=device)"
   ]
  },
  {
   "cell_type": "code",
   "execution_count": 114,
   "id": "7c83c570-3c95-4359-afc9-4f4169cd9153",
   "metadata": {},
   "outputs": [
    {
     "name": "stdout",
     "output_type": "stream",
     "text": [
      "Restarting model parameters from file\n"
     ]
    },
    {
     "data": {
      "text/plain": [
       "<All keys matched successfully>"
      ]
     },
     "execution_count": 114,
     "metadata": {},
     "output_type": "execute_result"
    }
   ],
   "source": [
    "state = torch.load(\"./d-NL-E_best.torch\")\n",
    "print(\"Restarting model parameters from file\")\n",
    "mymodel.load_state_dict(state)\n"
   ]
  },
  {
   "cell_type": "code",
   "execution_count": 115,
   "id": "2aed3de6-9f16-4569-b615-9706ea68f83b",
   "metadata": {},
   "outputs": [],
   "source": [
    "optimizer = torch.optim.Adam(\n",
    "        mymodel.parameters(),\n",
    "        lr=0.001\n",
    "    )\n",
    "lr_scheduler = torch.optim.lr_scheduler.ReduceLROnPlateau(optimizer, factor = 0.8, patience = 100)"
   ]
  },
  {
   "cell_type": "code",
   "execution_count": 116,
   "id": "bab9b8e4-7ad5-4c3b-8338-09af689b871f",
   "metadata": {},
   "outputs": [],
   "source": [
    "structure_idx = np.concatenate([ [i]*64 for i in range(len(energy))])"
   ]
  },
  {
   "cell_type": "code",
   "execution_count": 123,
   "id": "035f000f-89f2-4afc-8853-b332beb0bfa3",
   "metadata": {},
   "outputs": [],
   "source": [
    "n_epochs = 40000\n",
    "ntrain = 3000\n",
    "ntriples = 64\n",
    "val_best = 1e100"
   ]
  },
  {
   "cell_type": "code",
   "execution_count": null,
   "id": "a6fd0d3c-1b3e-4b10-8214-76ccd44cd88f",
   "metadata": {
    "scrolled": true,
    "tags": []
   },
   "outputs": [
    {
     "name": "stdout",
     "output_type": "stream",
     "text": [
      "Epoch: 0 Energy RMSE: train  0.03866221775736658 test 0.1270942970573842\n",
      "Epoch: 100 Energy RMSE: train  0.03864333384741849 test 0.127629170351612\n",
      "Epoch: 200 Energy RMSE: train  0.03863139625696023 test 0.12760993137952373\n",
      "Epoch: 300 Energy RMSE: train  0.03861929257373391 test 0.12759536642770528\n",
      "Epoch: 400 Energy RMSE: train  0.03860674750855365 test 0.1275817833005085\n",
      "Epoch: 500 Energy RMSE: train  0.03859366853849055 test 0.12756827789396205\n",
      "Epoch: 600 Energy RMSE: train  0.03858000061504238 test 0.12755454466469074\n",
      "Epoch: 700 Energy RMSE: train  0.03856570108264651 test 0.1275404368317781\n",
      "Epoch: 800 Energy RMSE: train  0.038550731971969926 test 0.1275258636177657\n",
      "Epoch: 900 Energy RMSE: train  0.050429633222902406 test 0.1271391314988331\n",
      "Epoch: 1000 Energy RMSE: train  0.038527054190314554 test 0.1275010613413927\n",
      "Epoch: 1100 Energy RMSE: train  0.038512772389871185 test 0.1275021801189095\n",
      "Epoch: 1200 Energy RMSE: train  0.038498981692116296 test 0.12748650442916548\n",
      "Epoch: 1300 Energy RMSE: train  0.03848464262682697 test 0.12747168763139013\n",
      "Epoch: 1400 Energy RMSE: train  0.03846966241238682 test 0.12745673316935574\n",
      "Epoch: 1500 Energy RMSE: train  0.04036348685420654 test 0.13063817058533386\n",
      "Epoch: 1600 Energy RMSE: train  0.03844521910141235 test 0.12743842568953567\n",
      "Epoch: 1700 Energy RMSE: train  0.03843147961134187 test 0.12743046070941316\n",
      "Epoch: 1800 Energy RMSE: train  0.03841746027110481 test 0.12741531696714828\n",
      "Epoch: 1900 Energy RMSE: train  0.03840285517030101 test 0.12740050884686613\n",
      "Epoch: 2000 Energy RMSE: train  0.0383884888418237 test 0.12733655144667452\n",
      "Epoch: 2100 Energy RMSE: train  0.038384138120816834 test 0.12738284764508698\n",
      "Epoch: 2200 Energy RMSE: train  0.03836396958043047 test 0.12737374231597876\n",
      "Epoch: 2300 Energy RMSE: train  0.03835012620603835 test 0.12735781065190357\n",
      "Epoch: 2400 Energy RMSE: train  0.038335748426502766 test 0.12734305191174344\n",
      "Epoch: 2500 Energy RMSE: train  0.03832073170783727 test 0.12732808503378767\n",
      "Epoch: 2600 Energy RMSE: train  0.038319005399521905 test 0.1276642225867751\n",
      "Epoch: 2700 Energy RMSE: train  0.038296439684787166 test 0.1273168116347869\n",
      "Epoch: 2800 Energy RMSE: train  0.03828263233655117 test 0.12729908028148337\n",
      "Epoch: 2900 Energy RMSE: train  0.03826832330268011 test 0.12728430346236932\n",
      "Epoch: 3000 Energy RMSE: train  0.03825338397355029 test 0.12726924720072064\n",
      "Epoch: 3100 Energy RMSE: train  0.03826217071362117 test 0.12700481453704018\n",
      "Epoch: 3200 Energy RMSE: train  0.038229063343913794 test 0.1272538999449442\n",
      "Epoch: 3300 Energy RMSE: train  0.038215265765410567 test 0.12723946440739578\n",
      "Epoch: 3400 Energy RMSE: train  0.038200955273812835 test 0.12722466362249077\n",
      "Epoch: 3500 Energy RMSE: train  0.03818601731840478 test 0.127205809272541\n",
      "Epoch: 3600 Energy RMSE: train  0.038191274313544375 test 0.1273842366304786\n",
      "Epoch: 3700 Energy RMSE: train  0.0381618907569598 test 0.12719362335728265\n",
      "Epoch: 3800 Energy RMSE: train  0.0381480583970685 test 0.12717915554673598\n",
      "Epoch: 3900 Energy RMSE: train  0.03813368344069251 test 0.1271642613753713\n",
      "Epoch: 4000 Energy RMSE: train  0.07708454817134361 test 0.15091019796548713\n",
      "Epoch: 4100 Energy RMSE: train  0.03810860320030268 test 0.12712333481574276\n",
      "Epoch: 4200 Energy RMSE: train  0.038094916635902254 test 0.12713334566338408\n",
      "Epoch: 4300 Energy RMSE: train  0.03808098036896144 test 0.12711795755499872\n",
      "Epoch: 4400 Energy RMSE: train  0.03806646263447632 test 0.1271028489200497\n",
      "Epoch: 4500 Energy RMSE: train  0.038277813657487926 test 0.1290294596431183\n",
      "Epoch: 4600 Energy RMSE: train  0.03804205422642617 test 0.12708259289522464\n",
      "Epoch: 4700 Energy RMSE: train  0.03802853451883498 test 0.12707189834143245\n",
      "Epoch: 4800 Energy RMSE: train  0.038014601140308656 test 0.12705686679822975\n",
      "Epoch: 4900 Energy RMSE: train  0.0380000674735395 test 0.12704163498683294\n",
      "Epoch: 5000 Energy RMSE: train  0.03830988872632939 test 0.1267032863498266\n",
      "Epoch: 5100 Energy RMSE: train  0.037975869438266814 test 0.12702292446806207\n",
      "Epoch: 5200 Energy RMSE: train  0.037962314432401244 test 0.1270099946566064\n",
      "Epoch: 5300 Energy RMSE: train  0.03794828367473244 test 0.1269948261955787\n",
      "Epoch: 5400 Energy RMSE: train  0.03793363539210431 test 0.12697782051960416\n",
      "Epoch: 5500 Energy RMSE: train  0.03795003209014781 test 0.12715467941641292\n",
      "Epoch: 5600 Energy RMSE: train  0.03791041032447059 test 0.12696549858465864\n",
      "Epoch: 5700 Energy RMSE: train  0.03789699735656533 test 0.12694882612110034\n",
      "Epoch: 5800 Energy RMSE: train  0.037883081350872844 test 0.1269337203525412\n",
      "Epoch: 5900 Energy RMSE: train  0.037868547584066464 test 0.1269182979753372\n",
      "Epoch: 6000 Energy RMSE: train  0.03798241183969195 test 0.12652173950568962\n",
      "Epoch: 6100 Energy RMSE: train  0.03784617829249696 test 0.1269092652211612\n",
      "Epoch: 6200 Energy RMSE: train  0.03783320549495414 test 0.12689012083284804\n",
      "Epoch: 6300 Energy RMSE: train  0.037819839232760354 test 0.12687517229435788\n",
      "Epoch: 6400 Energy RMSE: train  0.03780590553212904 test 0.12686003715511524\n",
      "Epoch: 6500 Energy RMSE: train  0.037792648264682975 test 0.1267863357208286\n",
      "Epoch: 6600 Energy RMSE: train  0.0377877933028988 test 0.12695942495641743\n",
      "Epoch: 6700 Energy RMSE: train  0.03776917842127863 test 0.12683013362808582\n",
      "Epoch: 6800 Energy RMSE: train  0.037756060603746505 test 0.1268149119167707\n",
      "Epoch: 6900 Energy RMSE: train  0.03774245197659787 test 0.12679974687567783\n",
      "Epoch: 7000 Energy RMSE: train  0.0377282412608237 test 0.1267842770902302\n",
      "Epoch: 7100 Energy RMSE: train  0.03798449906411178 test 0.12765112492770017\n",
      "Epoch: 7200 Energy RMSE: train  0.03770513983113817 test 0.12676815832997584\n",
      "Epoch: 7300 Energy RMSE: train  0.03769205644204037 test 0.1267533672473941\n",
      "Epoch: 7400 Energy RMSE: train  0.037678569420559194 test 0.12673799390590512\n",
      "Epoch: 7500 Energy RMSE: train  0.037664500610713345 test 0.12672245906375418\n",
      "Epoch: 7600 Energy RMSE: train  0.03917411214803245 test 0.1290256497402645\n",
      "Epoch: 7700 Energy RMSE: train  0.0376415328476401 test 0.1267145494703596\n",
      "Epoch: 7800 Energy RMSE: train  0.03762852321026819 test 0.12669187263477935\n",
      "Epoch: 7900 Energy RMSE: train  0.03761524308990253 test 0.12667641163021798\n",
      "Epoch: 8000 Energy RMSE: train  0.0376014060325608 test 0.12666090412610065\n",
      "Epoch: 8100 Energy RMSE: train  0.04235661529233075 test 0.1275901445485049\n",
      "Epoch: 8200 Energy RMSE: train  0.03757813962366151 test 0.12662094181181627\n",
      "Epoch: 8300 Energy RMSE: train  0.03756496926115054 test 0.12662935099683617\n",
      "Epoch: 8400 Energy RMSE: train  0.03755174618295427 test 0.12661376887585546\n",
      "Epoch: 8500 Energy RMSE: train  0.037537980392170975 test 0.1265982042984466\n",
      "Epoch: 8600 Energy RMSE: train  0.05013663811248007 test 0.13719313248912002\n",
      "Epoch: 8700 Energy RMSE: train  0.037514567657042454 test 0.1266078286864355\n",
      "Epoch: 8800 Energy RMSE: train  0.03750161427022573 test 0.1265664117693302\n",
      "Epoch: 8900 Energy RMSE: train  0.037488407667097455 test 0.1265505720661798\n",
      "Epoch: 9000 Energy RMSE: train  0.03747465591519656 test 0.12653496303629458\n",
      "Epoch: 9100 Energy RMSE: train  0.04993198093163989 test 0.13303907953317615\n",
      "Epoch: 9200 Energy RMSE: train  0.03745173814175287 test 0.12651180682831206\n",
      "Epoch: 9300 Energy RMSE: train  0.037438918339637015 test 0.12650391815005585\n",
      "Epoch: 9400 Energy RMSE: train  0.037425883912984494 test 0.12648831057237975\n",
      "Epoch: 9500 Energy RMSE: train  0.037412318037974776 test 0.1264728161652997\n",
      "Epoch: 9600 Energy RMSE: train  0.06489910959502755 test 0.1501358169589943\n",
      "Epoch: 9700 Energy RMSE: train  0.03739085552016117 test 0.1264435842374969\n",
      "Epoch: 9800 Energy RMSE: train  0.03737631751797872 test 0.12644129870509777\n",
      "Epoch: 9900 Energy RMSE: train  0.037363316525688264 test 0.12642524314059198\n",
      "Epoch: 10000 Energy RMSE: train  0.03734979319500567 test 0.12640974746156566\n",
      "Epoch: 10100 Energy RMSE: train  0.04022640212776483 test 0.1280231615962875\n",
      "Epoch: 10200 Energy RMSE: train  0.03732772553349128 test 0.12642933405378606\n",
      "Epoch: 10300 Energy RMSE: train  0.03731380881795832 test 0.12637749065682835\n",
      "Epoch: 10400 Energy RMSE: train  0.037300769740129365 test 0.1263616533108314\n",
      "Epoch: 10500 Energy RMSE: train  0.03728719587038817 test 0.1263461484663221\n",
      "Epoch: 10600 Energy RMSE: train  0.037382585399280105 test 0.12895359367603657\n",
      "Epoch: 10700 Energy RMSE: train  0.037264247664168935 test 0.12633187700997112\n",
      "Epoch: 10800 Energy RMSE: train  0.0372514113509435 test 0.12631312236744915\n",
      "Epoch: 10900 Energy RMSE: train  0.03723827404694853 test 0.12629777583598117\n",
      "Epoch: 11000 Energy RMSE: train  0.037224577306140386 test 0.12628221939501855\n",
      "Epoch: 11100 Energy RMSE: train  0.03733283785813532 test 0.1258097644804944\n",
      "Epoch: 11200 Energy RMSE: train  0.03720225425001982 test 0.12626531961545828\n",
      "Epoch: 11300 Energy RMSE: train  0.03718955079278849 test 0.12625001218665008\n",
      "Epoch: 11400 Energy RMSE: train  0.0371764299087937 test 0.12623484316875494\n",
      "Epoch: 11500 Energy RMSE: train  0.03716273913107489 test 0.1262193640562232\n",
      "Epoch: 11600 Energy RMSE: train  0.037249032407361334 test 0.126092389949237\n",
      "Epoch: 11700 Energy RMSE: train  0.03714063346466831 test 0.12620234095305094\n",
      "Epoch: 11800 Energy RMSE: train  0.037127959088078054 test 0.12618725524718416\n",
      "Epoch: 11900 Energy RMSE: train  0.037114840576839614 test 0.1261721999909119\n",
      "Epoch: 12000 Energy RMSE: train  0.03710114835604587 test 0.12615868019859805\n",
      "Epoch: 12100 Energy RMSE: train  0.03711089605255822 test 0.12620164661362876\n",
      "Epoch: 12200 Energy RMSE: train  0.03707912251220129 test 0.126139219254921\n",
      "Epoch: 12300 Energy RMSE: train  0.03706638635318202 test 0.1261242666196483\n",
      "Epoch: 12400 Energy RMSE: train  0.03705316811320917 test 0.12610921632470407\n",
      "Epoch: 12500 Energy RMSE: train  0.07095524464512927 test 0.15146090488772088\n",
      "Epoch: 12600 Energy RMSE: train  0.03703064194878585 test 0.12605968042738613\n",
      "Epoch: 12700 Energy RMSE: train  0.037017827688796516 test 0.1260766273992312\n",
      "Epoch: 12800 Energy RMSE: train  0.037005034301404345 test 0.12606164309034457\n",
      "Epoch: 12900 Energy RMSE: train  0.03699172283868999 test 0.12604661469649825\n",
      "Epoch: 13000 Energy RMSE: train  0.03713861474045365 test 0.12526704672359748\n",
      "Epoch: 13100 Energy RMSE: train  0.03696988097081481 test 0.12604935716712523\n",
      "Epoch: 13200 Energy RMSE: train  0.036957536478114596 test 0.12601605384169873\n",
      "Epoch: 13300 Energy RMSE: train  0.03694498928777887 test 0.12600162964179648\n",
      "Epoch: 13400 Energy RMSE: train  0.036931941373933116 test 0.12598697398719708\n",
      "Epoch: 13500 Energy RMSE: train  0.03691830715812906 test 0.12597311822421664\n",
      "Epoch: 13600 Energy RMSE: train  0.03693255268791944 test 0.12582064575999766\n",
      "Epoch: 13700 Energy RMSE: train  0.036898036796254724 test 0.12595843925710418\n",
      "Epoch: 13800 Energy RMSE: train  0.03688587969845777 test 0.1259436727442694\n",
      "Epoch: 13900 Energy RMSE: train  0.03687332798326626 test 0.12592955136455328\n",
      "Epoch: 14000 Energy RMSE: train  0.03686023960911761 test 0.1259149744753473\n",
      "Epoch: 14100 Energy RMSE: train  0.046284565170761086 test 0.12480164499410144\n",
      "Epoch: 14200 Energy RMSE: train  0.03683906243587488 test 0.1259153878660453\n"
     ]
    }
   ],
   "source": [
    "for epoch in range(0, n_epochs):\n",
    "    \n",
    "    optimizer.zero_grad()\n",
    "    predicted = mymodel(inputs[:ntrain*ntriples], structure_idx[:ntrain*ntriples])\n",
    "    loss = loss_mse(predicted, energy[:ntrain])\n",
    "    loss.backward(retain_graph=False)\n",
    "    optimizer.step()\n",
    "    lr_scheduler.step(loss)\n",
    "    \n",
    "    if epoch % 10 ==0:\n",
    "        predicted = mymodel(inputs[ntrain*ntriples:], structure_idx[ntrain*ntriples:])\n",
    "        validation_error = np.sqrt(loss_mse(predicted, energy[ntrain:]).detach().cpu().numpy().flatten()[0]/ (len(energy)-ntrain))\n",
    "        if validation_error < val_best:\n",
    "            #print(\"BEST Validation Error: \", validation_error)\n",
    "            val_best = validation_error\n",
    "            torch.save(mymodel.state_dict(), f\"d-NL-E_best.torch\")\n",
    "\n",
    "        if epoch % 100 ==0:\n",
    "            print(\"Epoch:\", epoch, \"Energy RMSE: train \", np.sqrt(loss.detach().cpu().numpy().flatten()[0]/ntrain),\n",
    "                 \"test\", validation_error )"
   ]
  },
  {
   "cell_type": "code",
   "execution_count": 125,
   "id": "f5fbcf0b-1813-4715-8561-10db813093bd",
   "metadata": {},
   "outputs": [],
   "source": [
    "predicted = mymodel(inputs, structure_idx)"
   ]
  },
  {
   "cell_type": "code",
   "execution_count": 126,
   "id": "67ffe35b-f059-4582-a2ef-1974dbc540f9",
   "metadata": {},
   "outputs": [
    {
     "data": {
      "text/plain": [
       "[<matplotlib.lines.Line2D at 0x7f29f460e520>]"
      ]
     },
     "execution_count": 126,
     "metadata": {},
     "output_type": "execute_result"
    },
    {
     "data": {
      "image/png": "[encoded data removed]",
      "text/plain": [
       "<Figure size 432x288 with 1 Axes>"
      ]
     },
     "metadata": {
      "needs_background": "light"
     },
     "output_type": "display_data"
    }
   ],
   "source": [
    "plt.plot((predicted[::2]-predicted[1::2]).cpu().detach()[ntrain//2:], (energy[::2]-energy[1::2]).cpu()[ntrain//2:],'b.')"
   ]
  },
  {
   "cell_type": "code",
   "execution_count": 127,
   "id": "eee450ab-528f-4849-b654-755679de4c89",
   "metadata": {},
   "outputs": [
    {
     "data": {
      "text/plain": [
       "[<matplotlib.lines.Line2D at 0x7f29e46956d0>]"
      ]
     },
     "execution_count": 127,
     "metadata": {},
     "output_type": "execute_result"
    },
    {
     "data": {
      "image/png": "[encoded data removed]",
      "text/plain": [
       "<Figure size 432x288 with 1 Axes>"
      ]
     },
     "metadata": {
      "needs_background": "light"
     },
     "output_type": "display_data"
    }
   ],
   "source": [
    "plt.plot((predicted[::2]+predicted[1::2]).cpu().detach()[ntrain//2:]/2, (energy[::2]+energy[1::2]).cpu()[ntrain//2:]/2,'b.')"
   ]
  },
  {
   "cell_type": "code",
   "execution_count": 128,
   "id": "fcad861c-01e7-410b-85da-b878c06f1e65",
   "metadata": {},
   "outputs": [
    {
     "name": "stdout",
     "output_type": "stream",
     "text": [
      "tensor(0.0306) tensor(0.3511)\n"
     ]
    }
   ],
   "source": [
    "print( \n",
    "    torch.sqrt(torch.mean( ((predicted[::2]+predicted[1::2]).cpu().detach().flatten()[ntrain//2:]/2-(energy[::2]+energy[1::2]).cpu().flatten()[ntrain//2:]/2)**2 )) /torch.std(energy)\n",
    "    ,\n",
    "    torch.sqrt(torch.mean( ((predicted[::2]-predicted[1::2]).cpu().detach().flatten()[ntrain//2:]-(energy[::2]-energy[1::2]).cpu().flatten()[ntrain//2:])**2 )) /torch.std(energy[::2]-energy[1::2])     \n",
    "     )"
   ]
  },
  {
   "cell_type": "code",
   "execution_count": 38,
   "id": "66f23a33-57a3-4093-8869-a3fcaffd2e04",
   "metadata": {},
   "outputs": [
    {
     "data": {
      "text/plain": [
       "tensor(5.5543, grad_fn=<SqrtBackward0>)"
      ]
     },
     "execution_count": 38,
     "metadata": {},
     "output_type": "execute_result"
    }
   ],
   "source": [
    "torch.sqrt(torch.mean( ((predicted-energy).cpu()[ntrain:])**2 )) "
   ]
  },
  {
   "cell_type": "code",
   "execution_count": 50,
   "id": "aa3862ce-a0c5-485d-9632-0d8da1ae3a9a",
   "metadata": {},
   "outputs": [
    {
     "data": {
      "text/plain": [
       "tensor(0.2809, grad_fn=<StdBackward0>)"
      ]
     },
     "execution_count": 50,
     "metadata": {},
     "output_type": "execute_result"
    }
   ],
   "source": [
    "torch.std(energy.cpu().flatten()-predicted.cpu().flatten())"
   ]
  },
  {
   "cell_type": "code",
   "execution_count": 46,
   "id": "3d7c4f02-84ef-44d4-9027-1d8a2a00cc9b",
   "metadata": {},
   "outputs": [
    {
     "data": {
      "text/plain": [
       "torch.Size([4000, 1])"
      ]
     },
     "execution_count": 46,
     "metadata": {},
     "output_type": "execute_result"
    }
   ],
   "source": [
    "predicted.shape"
   ]
  },
  {
   "cell_type": "code",
   "execution_count": null,
   "id": "02efb962-b3e1-4226-b0f0-6c81c3da2566",
   "metadata": {},
   "outputs": [],
   "source": [
    "plt.plot(energy.cpu()-predicted.cpu()"
   ]
  }
 ],
 "metadata": {
  "kernelspec": {
   "display_name": "Python 3 (ipykernel)",
   "language": "python",
   "name": "python3"
  },
  "language_info": {
   "codemirror_mode": {
    "name": "ipython",
    "version": 3
   },
   "file_extension": ".py",
   "mimetype": "text/x-python",
   "name": "python",
   "nbconvert_exporter": "python",
   "pygments_lexer": "ipython3",
   "version": "3.8.13"
  },
  "toc": {
   "base_numbering": 1,
   "nav_menu": {},
   "number_sections": true,
   "sideBar": true,
   "skip_h1_title": false,
   "title_cell": "Table of Contents",
   "title_sidebar": "Contents",
   "toc_cell": false,
   "toc_position": {},
   "toc_section_display": true,
   "toc_window_display": false
  }
 },
 "nbformat": 4,
 "nbformat_minor": 5
}
