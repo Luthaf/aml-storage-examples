{
 "cells": [
  {
   "cell_type": "code",
   "execution_count": 1,
   "id": "d2596616",
   "metadata": {},
   "outputs": [],
   "source": [
    "%load_ext autoreload\n",
    "%autoreload 2\n",
    "%load_ext line_profiler"
   ]
  },
  {
   "cell_type": "code",
   "execution_count": 143,
   "id": "341b09d0",
   "metadata": {},
   "outputs": [],
   "source": [
    "import numpy as np\n",
    "import scipy as sp\n",
    "import json\n",
    "import torch\n",
    "import ase.io as aseio\n",
    "torch.set_default_dtype(torch.float64)\n",
    "device=\"cpu\"\n",
    "\n",
    "from rascaline import SphericalExpansion, SphericalExpansionByPair\n",
    "from equistore import Labels, TensorBlock, TensorMap\n",
    "from equistore import operations\n",
    "\n",
    "from tqdm.notebook import tqdm\n",
    "from utils.builder import TensorBuilder\n",
    "import ase.io\n",
    "from itertools import product\n",
    "from utils.mp_utils import acdc_standardize_keys, cg_increment, cg_combine, _remove_suffix, flatten\n",
    "from utils.clebsh_gordan import ClebschGordanReal\n",
    "from utils.hamiltonians import hamiltonian_features\n",
    "import matplotlib.pyplot as plt\n",
    "\n",
    "import copy\n",
    "from utils.model_hamiltonian import *\n",
    "from itertools import product\n",
    "import tqdm.notebook as tqdm\n",
    "import chemiscope"
   ]
  },
  {
   "cell_type": "code",
   "execution_count": 3,
   "id": "bde7e214-6392-4107-b05f-2255f211ba14",
   "metadata": {},
   "outputs": [],
   "source": [
    "from generate_bispectrum_structures import generate_nu3_degen_structs"
   ]
  },
  {
   "cell_type": "markdown",
   "id": "499d77a9-335f-46c3-a1f4-2dcd34577c7e",
   "metadata": {},
   "source": [
    "# Generates a bunch of degenerate pairs - closer or farther from being actually symmetric"
   ]
  },
  {
   "cell_type": "markdown",
   "id": "5b1d2d94-712a-4359-b0d1-07d751041b30",
   "metadata": {},
   "source": [
    "### Random Boron clusters"
   ]
  },
  {
   "cell_type": "code",
   "execution_count": 243,
   "id": "90a4ea4e-29c2-4a22-a08e-545f45745918",
   "metadata": {},
   "outputs": [
    {
     "data": {
      "application/vnd.jupyter.widget-view+json": {
       "model_id": "9cc811e1e2ed45d9bea3d1fcaa300dae",
       "version_major": 2,
       "version_minor": 0
      },
      "text/plain": [
       "HBox(children=(FloatProgress(value=0.0, max=1000.0), HTML(value='')))"
      ]
     },
     "metadata": {},
     "output_type": "display_data"
    },
    {
     "name": "stdout",
     "output_type": "stream",
     "text": [
      "\n"
     ]
    }
   ],
   "source": [
    "np.random.seed(12345)\n",
    "ngen = 1000\n",
    "frames = []\n",
    "for f in tqdm.tqdm(range(ngen)):\n",
    "    for i in range(1000):\n",
    "        r = np.random.uniform(0.5,2)\n",
    "        z1 = np.random.uniform(0.5,2)\n",
    "        z2 = np.random.uniform(1.5,1.8)\n",
    "        psi = np.random.uniform(0,np.pi)\n",
    "        phi1 = np.random.uniform(np.pi/6, np.pi)\n",
    "        phi2 = np.random.uniform(np.pi/6, np.pi)\n",
    "        fr = generate_nu3_degen_structs(r, [0, phi1, phi1+phi2], \n",
    "                                   psi, z1, z2, \"B\", \"B\", \"B\")\n",
    "        dist = fr[0].get_all_distances()\n",
    "        if dist[0,1:].min()>1.5 and dist[0,1:].max()<1.8 and np.abs(dist-1.0).flatten().min()>0.5:\n",
    "            fr[0].info[\"pars\"] = str((f, \"+\")+(r, z1, z2, psi, phi1, phi2))\n",
    "            fr[1].info[\"pars\"] = str((f, \"-\")+(r, z1, z2, psi, phi1, phi2))\n",
    "            break\n",
    "    if (i>990):\n",
    "        print(\"oops!\")\n",
    "    frames += fr"
   ]
  },
  {
   "cell_type": "code",
   "execution_count": 244,
   "id": "b9ff8512-2884-4f2d-ab6a-c3c33bb1b012",
   "metadata": {},
   "outputs": [
    {
     "name": "stderr",
     "output_type": "stream",
     "text": [
      "/home/michele/local/lib/python3.8/site-packages/chemiscope/input.py:195: UserWarning: chemiscope behavior changed to no longer include properties from the structure objects. Use `chemiscope.extract_properties` to also visualize these properties ([pars])\n",
      "  warnings.warn(\n"
     ]
    },
    {
     "data": {
      "application/vnd.jupyter.widget-view+json": {
       "model_id": "41d6b4fb19d74bdd8cf354aaae278e6c",
       "version_major": 2,
       "version_minor": 0
      },
      "text/plain": [
       "StructureWidget(value='{\"meta\": {\"name\": \" \"}, \"settings\": {\"structure\": [{\"axes\": \"xyz\", \"keepOrientation\": t…"
      ]
     },
     "metadata": {},
     "output_type": "display_data"
    }
   ],
   "source": [
    "cs = chemiscope.show(frames=frames, mode=\"structure\", settings = {'structure': [{\n",
    "   'axes': 'xyz',\n",
    "   'keepOrientation': True,\n",
    "   'playbackDelay': 250}]})\n",
    "display(cs)"
   ]
  },
  {
   "cell_type": "code",
   "execution_count": 247,
   "id": "cedc4b0e-5805-4493-acc1-a35a773aba10",
   "metadata": {},
   "outputs": [
    {
     "data": {
      "text/plain": [
       "{'pars': \"(134, '+', 1.542198621586897, 0.7490153154377256, 1.6398778440679254, 0.7411223491329263, 1.2865884387376612, 2.6464627934099045)\"}"
      ]
     },
     "execution_count": 247,
     "metadata": {},
     "output_type": "execute_result"
    }
   ],
   "source": [
    "frames[134*2].info"
   ]
  },
  {
   "cell_type": "code",
   "execution_count": 149,
   "id": "7273047d-fa02-4e36-9ab6-4ab7f968b14c",
   "metadata": {},
   "outputs": [],
   "source": [
    "aseio.write(\"/tmp/b8.xyz\", frames)"
   ]
  },
  {
   "cell_type": "markdown",
   "id": "e7ed205a-f21d-46e2-95a7-ca9ade81d796",
   "metadata": {
    "jp-MarkdownHeadingCollapsed": true,
    "tags": []
   },
   "source": [
    "### Mg clusters"
   ]
  },
  {
   "cell_type": "code",
   "execution_count": 4,
   "id": "e57afe1c-33db-4cd3-b0eb-e0b16e0ed606",
   "metadata": {},
   "outputs": [],
   "source": [
    "frames_mg = []\n",
    "n1, n2, n3 = 8,8,8\n",
    "for psi in np.linspace(np.pi/6, np.pi*5/6, n1):\n",
    "    for dphi1 in np.linspace(np.pi*2/3 - 1.2, np.pi*2/3+0.4, n2):\n",
    "        for dphi2 in np.linspace(np.pi*2/3-0.7, np.pi*2/3+1.3, n3):\n",
    "            frames_mg += generate_nu3_degen_structs(2, [0, dphi1, dphi1+dphi2], \n",
    "                           psi, 1, np.sqrt(5), \"Mg\", \"Mg\", \"Mg\")"
   ]
  },
  {
   "cell_type": "code",
   "execution_count": 5,
   "id": "8d465436-a2e0-4d28-bb71-a22d23e97646",
   "metadata": {},
   "outputs": [],
   "source": [
    "# shuffles keeping pairs together for easier analysis\n",
    "idx = np.asarray(range(len(frames_mg)//2), dtype=int)\n",
    "np.random.shuffle(idx)\n",
    "nfr = []\n",
    "for i in idx:\n",
    "    nfr.append(frames_mg[2*i])\n",
    "    nfr.append(frames_mg[2*i+1])\n",
    "frames_mg = nfr"
   ]
  },
  {
   "cell_type": "code",
   "execution_count": 58,
   "id": "789b49ce-5d6c-4eb7-8b69-1eb7777cd309",
   "metadata": {},
   "outputs": [
    {
     "data": {
      "application/vnd.jupyter.widget-view+json": {
       "model_id": "7e8a9d10b4a940248b0ff1f78a8c4904",
       "version_major": 2,
       "version_minor": 0
      },
      "text/plain": [
       "StructureWidget(value='{\"meta\": {\"name\": \" \"}, \"settings\": {\"structure\": [{\"axes\": \"xyz\", \"keepOrientation\": t…"
      ]
     },
     "metadata": {},
     "output_type": "display_data"
    }
   ],
   "source": [
    "cs = chemiscope.show(frames=frames_mg, mode=\"structure\", settings = {'structure': [{\n",
    "   'axes': 'xyz',\n",
    "   'keepOrientation': True,\n",
    "   'playbackDelay': 250}]})\n",
    "display(cs)"
   ]
  },
  {
   "cell_type": "code",
   "execution_count": 66,
   "id": "e3f7a5f1-15dd-487c-b983-3bee10a5e885",
   "metadata": {},
   "outputs": [],
   "source": [
    "aseio.write(\"/tmp/mg8.xyz\", frames_mg)"
   ]
  },
  {
   "cell_type": "markdown",
   "id": "d915fea4-6873-4e5d-b14d-0d6c399373ea",
   "metadata": {},
   "source": [
    "# Compute raw expansion coefficients"
   ]
  },
  {
   "cell_type": "code",
   "execution_count": 177,
   "id": "fecba7a3-7431-40db-8e82-8d36d615ce5e",
   "metadata": {},
   "outputs": [
    {
     "name": "stderr",
     "output_type": "stream",
     "text": [
      "/home/michele/local/lib/python3.8/site-packages/rascaline/systems/ase.py:57: UserWarning: periodic boundary conditions are disabled, but the cell matrix is not zero, we will set the cell to zero.\n",
      "  warnings.warn(\n"
     ]
    }
   ],
   "source": [
    "hypers = {\n",
    "    \"cutoff\": 2.5,\n",
    "    \"max_radial\": 2,\n",
    "    \"max_angular\": 3,\n",
    "    \"atomic_gaussian_width\": 0.2,\n",
    "    \"radial_basis\": {\"Gto\": {}},\n",
    "    \"cutoff_function\": {\"ShiftedCosine\": {\"width\": 0.1}},\n",
    "    \"center_atom_weight\": 0.0,    \n",
    "}\n",
    "calculator = SphericalExpansion(**hypers)\n",
    "rhoi = calculator.compute(frames)\n",
    "rhoi = rhoi.keys_to_properties(['species_neighbor'])\n",
    "rho1i = acdc_standardize_keys(rhoi)\n",
    "\n",
    "# selects only one environment\n",
    "rho1i = operations.slice(rho1i, samples=Labels(['center'],np.array([[0]], np.int32)) )\n",
    "norm_rho1 = np.sqrt(np.sum([(b.values**2).sum(axis=(1,2)) for b in rho1i.blocks()],axis=0).mean())\n",
    "for b in rho1i.blocks():\n",
    "    b.values[:]/=norm_rho1"
   ]
  },
  {
   "cell_type": "code",
   "execution_count": 178,
   "id": "684640c5-d4fd-4386-b34e-c4a48ae17eb5",
   "metadata": {},
   "outputs": [
    {
     "data": {
      "text/plain": [
       "TensorMap with 4 blocks\n",
       "keys: ['order_nu' 'inversion_sigma' 'spherical_harmonics_l' 'species_center']\n",
       "           1             1                    0                   5\n",
       "           1             1                    1                   5\n",
       "           1             1                    2                   5\n",
       "           1             1                    3                   5"
      ]
     },
     "execution_count": 178,
     "metadata": {},
     "output_type": "execute_result"
    }
   ],
   "source": [
    "rho1i"
   ]
  },
  {
   "cell_type": "code",
   "execution_count": 179,
   "id": "3f129e6b-5637-4c28-9e7b-7e42590ada09",
   "metadata": {},
   "outputs": [
    {
     "data": {
      "text/plain": [
       "TensorBlock\n",
       "    samples: ['structure', 'center']\n",
       "    component: ['spherical_harmonics_m']\n",
       "    properties: ['species_neighbor_1', 'n_1']\n",
       "    gradients: no"
      ]
     },
     "execution_count": 179,
     "metadata": {},
     "output_type": "execute_result"
    }
   ],
   "source": [
    "rho1i.block(0)"
   ]
  },
  {
   "cell_type": "code",
   "execution_count": 180,
   "id": "2e1af8b8-4a20-4de5-88ea-ea50e0790334",
   "metadata": {},
   "outputs": [],
   "source": [
    "calculator = SphericalExpansionByPair(**hypers)\n",
    "gij = calculator.compute(frames)\n",
    "gij = operations.slice(gij, samples=Labels(['first_atom'],np.array([[0]], np.int32)) )\n",
    "gij =  acdc_standardize_keys(gij)\n",
    "for b in gij.blocks():\n",
    "    b.values[:]/=norm_rho1"
   ]
  },
  {
   "cell_type": "code",
   "execution_count": 181,
   "id": "8da710fd-4c55-4623-b9fc-30f17798ec0b",
   "metadata": {},
   "outputs": [
    {
     "data": {
      "text/plain": [
       "TensorMap with 4 blocks\n",
       "keys: ['order_nu' 'inversion_sigma' 'spherical_harmonics_l' 'species_center' 'species_neighbor']\n",
       "           1             1                    0                   5                5\n",
       "           1             1                    1                   5                5\n",
       "           1             1                    2                   5                5\n",
       "           1             1                    3                   5                5"
      ]
     },
     "execution_count": 181,
     "metadata": {},
     "output_type": "execute_result"
    }
   ],
   "source": [
    "gij"
   ]
  },
  {
   "cell_type": "code",
   "execution_count": 182,
   "id": "5cb2e076-f78e-4b76-8ec7-a07cbeb95078",
   "metadata": {},
   "outputs": [
    {
     "data": {
      "text/plain": [
       "TensorBlock\n",
       "    samples: ['structure', 'center', 'neighbor']\n",
       "    component: ['spherical_harmonics_m']\n",
       "    properties: ['n_1']\n",
       "    gradients: no"
      ]
     },
     "execution_count": 182,
     "metadata": {},
     "output_type": "execute_result"
    }
   ],
   "source": [
    "gij.block(0)"
   ]
  },
  {
   "cell_type": "markdown",
   "id": "ce6b656b-3ac0-4c0f-bdc6-738cc83bac4f",
   "metadata": {},
   "source": [
    "## Test there is consistency at the level of rhoij and gij"
   ]
  },
  {
   "cell_type": "code",
   "execution_count": 183,
   "id": "baba8d3a-c76e-4917-b5d1-a8c37cdca2db",
   "metadata": {},
   "outputs": [],
   "source": [
    "test = operations.sum_over_samples(gij, samples_names=[\"neighbor\"]) "
   ]
  },
  {
   "cell_type": "code",
   "execution_count": 184,
   "id": "34ab27e7-36cf-46de-9248-35708fc82826",
   "metadata": {},
   "outputs": [],
   "source": [
    "test.block(1).values;"
   ]
  },
  {
   "cell_type": "code",
   "execution_count": 185,
   "id": "d09a00ff-b0fb-41b3-ba31-e2d1c6537201",
   "metadata": {},
   "outputs": [
    {
     "data": {
      "text/plain": [
       "2.4600748568961446e-12"
      ]
     },
     "execution_count": 185,
     "metadata": {},
     "output_type": "execute_result"
    }
   ],
   "source": [
    "np.linalg.norm(rho1i.block(1).values/test.block(1).values -1)"
   ]
  },
  {
   "cell_type": "markdown",
   "id": "a84fd6a5-e916-45a1-8f69-4b1c2bbc04f5",
   "metadata": {},
   "source": [
    "# Now compute the correlation stuff!"
   ]
  },
  {
   "cell_type": "code",
   "execution_count": 186,
   "id": "fef55fd3",
   "metadata": {},
   "outputs": [],
   "source": [
    "cg = ClebschGordanReal(5)"
   ]
  },
  {
   "cell_type": "markdown",
   "id": "0ec41731-52da-452d-a1e3-5872509655df",
   "metadata": {},
   "source": [
    "## pair features"
   ]
  },
  {
   "cell_type": "code",
   "execution_count": 187,
   "id": "03e4745f",
   "metadata": {},
   "outputs": [
    {
     "name": "stdout",
     "output_type": "stream",
     "text": [
      "CPU times: user 42.3 s, sys: 6.41 s, total: 48.8 s\n",
      "Wall time: 1min 36s\n"
     ]
    }
   ],
   "source": [
    "%%time\n",
    "rhoii1i2_nu0 = cg_combine(gij, gij, clebsch_gordan=cg, other_keys_match=['species_center'], lcut=3)"
   ]
  },
  {
   "cell_type": "code",
   "execution_count": 188,
   "id": "10298778",
   "metadata": {},
   "outputs": [
    {
     "name": "stdout",
     "output_type": "stream",
     "text": [
      "CPU times: user 28.1 s, sys: 17.8 s, total: 45.8 s\n",
      "Wall time: 1min 3s\n"
     ]
    }
   ],
   "source": [
    "%%time \n",
    "rhoii1i2_nu1 =  cg_combine(rho1i, rhoii1i2_nu0, clebsch_gordan=cg, other_keys_match = ['species_center'], lcut=0, filter_sigma=[1])"
   ]
  },
  {
   "cell_type": "markdown",
   "id": "7d789a6c-9b1a-4c61-af57-7000fb312349",
   "metadata": {},
   "source": [
    "### sanity checks"
   ]
  },
  {
   "cell_type": "code",
   "execution_count": 189,
   "id": "1bc28f4e-d0b4-4de3-859b-7da8ee8f9963",
   "metadata": {},
   "outputs": [],
   "source": [
    "# nb: we disable lexicographic sorting of L to have comparable feature layout\n",
    "rho2i_full = cg_combine(rho1i, rho1i, clebsch_gordan=cg, lcut=3, sorted_l=False)\n",
    "test = operations.sum_over_samples(rhoii1i2_nu0, samples_names=[\"neighbor_1\", \"neighbor_2\"]) "
   ]
  },
  {
   "cell_type": "code",
   "execution_count": 190,
   "id": "6e8f0053-09a1-4761-a5a0-b461cb508614",
   "metadata": {},
   "outputs": [
    {
     "data": {
      "text/plain": [
       "2.116282603547629e-09"
      ]
     },
     "execution_count": 190,
     "metadata": {},
     "output_type": "execute_result"
    }
   ],
   "source": [
    "np.linalg.norm(rho2i_full.block(2).values/test.block(2).values-1)"
   ]
  },
  {
   "cell_type": "markdown",
   "id": "c36797a2-a0ca-4064-87c0-7074cf225e44",
   "metadata": {},
   "source": [
    "## higher-order "
   ]
  },
  {
   "cell_type": "code",
   "execution_count": 191,
   "id": "a11b404f",
   "metadata": {},
   "outputs": [
    {
     "name": "stdout",
     "output_type": "stream",
     "text": [
      "CPU times: user 20.5 s, sys: 35.7 s, total: 56.2 s\n",
      "Wall time: 1min 29s\n"
     ]
    }
   ],
   "source": [
    "%%time\n",
    "# here we use all tricks to reduce cost\n",
    "rho2i = cg_increment(rho1i, rho1i, clebsch_gordan=cg, lcut=3)\n",
    "rho3i = cg_increment(rho2i, rho1i, clebsch_gordan=cg, lcut=3)\n",
    "rho4i = cg_increment(rho3i, rho1i, clebsch_gordan=cg, lcut=3)\n",
    "rho5i = cg_increment(rho4i, rho1i, clebsch_gordan=cg, lcut=0, filter_sigma=[1])"
   ]
  },
  {
   "cell_type": "code",
   "execution_count": 192,
   "id": "d828a167-e710-4646-9941-8e231f15f20b",
   "metadata": {},
   "outputs": [
    {
     "name": "stdout",
     "output_type": "stream",
     "text": [
      "CPU times: user 7 µs, sys: 0 ns, total: 7 µs\n",
      "Wall time: 12.9 µs\n"
     ]
    }
   ],
   "source": [
    "%%time \n",
    "#rho5il1 = cg_increment(rho4i, rho1i, clebsch_gordan=cg, lcut=1)"
   ]
  },
  {
   "cell_type": "code",
   "execution_count": 193,
   "id": "42677e82-3956-4c3a-a9ba-e3f386bbcb7c",
   "metadata": {},
   "outputs": [
    {
     "name": "stdout",
     "output_type": "stream",
     "text": [
      "CPU times: user 7 µs, sys: 0 ns, total: 7 µs\n",
      "Wall time: 13.1 µs\n"
     ]
    }
   ],
   "source": [
    "%time \n",
    "#rho6il1 = cg_increment(rho5il1, rho1i, clebsch_gordan=cg, lcut=1)"
   ]
  },
  {
   "cell_type": "code",
   "execution_count": 194,
   "id": "c2aa90d4-960b-4566-aa74-ec913726147d",
   "metadata": {},
   "outputs": [
    {
     "name": "stdout",
     "output_type": "stream",
     "text": [
      "CPU times: user 0 ns, sys: 7 µs, total: 7 µs\n",
      "Wall time: 14.1 µs\n"
     ]
    }
   ],
   "source": [
    "%time \n",
    "#rho7i = cg_increment(rho6il1, rho1i, clebsch_gordan=cg, lcut=0, filter_sigma=[1])"
   ]
  },
  {
   "cell_type": "markdown",
   "id": "3169eb52-97e8-4cc6-87f0-52664255ee7d",
   "metadata": {},
   "source": [
    "Since we have a LOT of features and few structures, we use PCA to reduce the number of features with no information loss"
   ]
  },
  {
   "cell_type": "code",
   "execution_count": 195,
   "id": "641fbfd9-aca1-48d9-a29e-ab21aacf3413",
   "metadata": {},
   "outputs": [],
   "source": [
    "from sklearn.decomposition import PCA"
   ]
  },
  {
   "cell_type": "code",
   "execution_count": 196,
   "id": "a1e825e6-0bcf-4531-b7a0-3795a609a8a9",
   "metadata": {},
   "outputs": [
    {
     "data": {
      "text/plain": [
       "[<matplotlib.lines.Line2D at 0x7fe388e06eb0>]"
      ]
     },
     "execution_count": 196,
     "metadata": {},
     "output_type": "execute_result"
    },
    {
     "data": {
      "image/png": "[encoded data removed]",
      "text/plain": [
       "<Figure size 432x288 with 1 Axes>"
      ]
     },
     "metadata": {
      "needs_background": "light"
     },
     "output_type": "display_data"
    }
   ],
   "source": [
    "plt.plot(rhoii1i2_nu1.block(0).values.squeeze()[:64].sum(axis=0)*2e3,'r-')\n",
    "plt.plot(rho3i.block(inversion_sigma=1,spherical_harmonics_l=0).values.squeeze()[0], 'b--')"
   ]
  },
  {
   "cell_type": "code",
   "execution_count": 197,
   "id": "a4199b01-c90f-4dda-9c23-0a39e20b0f75",
   "metadata": {},
   "outputs": [],
   "source": [
    "triplet_samples = rhoii1i2_nu1.block(0).samples\n",
    "raw = rhoii1i2_nu1.block(0).values.squeeze()\n",
    "feats_n2nu1 = torch.tensor(PCA(n_components=min(raw.shape[0],raw.shape[-1])).fit_transform(raw))\n",
    "feats_n2nu1 /= np.sqrt((feats_n2nu1**2).sum(axis=1).mean())"
   ]
  },
  {
   "cell_type": "code",
   "execution_count": 198,
   "id": "9ab5bb5d-2ab7-4abc-a99a-463723c5545b",
   "metadata": {},
   "outputs": [],
   "source": [
    "raw = np.hstack([\n",
    "    rho1i.block(inversion_sigma=1,spherical_harmonics_l=0).values.squeeze(),\n",
    "    rho2i.block(inversion_sigma=1,spherical_harmonics_l=0).values.squeeze(),\n",
    "    rho3i.block(inversion_sigma=1,spherical_harmonics_l=0).values.squeeze()\n",
    "])\n",
    "feats_nu123 = torch.tensor(PCA(n_components=min(raw.shape[0],raw.shape[-1])).fit_transform(raw) / np.sqrt((raw**2).sum(axis=1).mean()))"
   ]
  },
  {
   "cell_type": "code",
   "execution_count": 199,
   "id": "95294e92-1170-42df-941a-c602cd2daba6",
   "metadata": {},
   "outputs": [],
   "source": [
    "raw = np.hstack([\n",
    "    rho1i.block(inversion_sigma=1,spherical_harmonics_l=0).values.squeeze(),\n",
    "    rho2i.block(inversion_sigma=1,spherical_harmonics_l=0).values.squeeze(),\n",
    "    rho3i.block(inversion_sigma=1,spherical_harmonics_l=0).values.squeeze(),\n",
    "    rho4i.block(inversion_sigma=1,spherical_harmonics_l=0).values.squeeze(),\n",
    "    rho5i.block(inversion_sigma=1,spherical_harmonics_l=0).values.squeeze()\n",
    "])\n",
    "feats_nu12345 = torch.tensor(PCA(n_components=min(raw.shape[0],raw.shape[-1])).fit_transform(raw) / np.sqrt((raw**2).sum(axis=1).mean()))"
   ]
  },
  {
   "cell_type": "code",
   "execution_count": 255,
   "id": "2080f6da-7cfc-4ff8-9938-208bd10ef745",
   "metadata": {},
   "outputs": [
    {
     "name": "stdout",
     "output_type": "stream",
     "text": [
      "tensor(542)\n"
     ]
    },
    {
     "data": {
      "image/png": "[encoded data removed]",
      "text/plain": [
       "<Figure size 432x288 with 1 Axes>"
      ]
     },
     "metadata": {
      "needs_background": "light"
     },
     "output_type": "display_data"
    }
   ],
   "source": [
    "deltas = np.sqrt(((feats_nu12345[::2]-feats_nu12345[1::2])**2).sum(axis=1))/np.sqrt(((feats_nu12345[::2]+feats_nu12345[1::2])**2).sum(axis=1))\n",
    "plt.plot(deltas )\n",
    "print(deltas.argmax())"
   ]
  },
  {
   "cell_type": "code",
   "execution_count": 254,
   "id": "62aad3a0-b6be-405f-b527-52e13e11326a",
   "metadata": {},
   "outputs": [
    {
     "data": {
      "application/vnd.jupyter.widget-view+json": {
       "model_id": "c7012c0392d146bbb40bf9c06fd81ff4",
       "version_major": 2,
       "version_minor": 0
      },
      "text/plain": [
       "ChemiscopeWidget(value='{\"meta\": {\"name\": \" \"}, \"settings\": {\"structure\": [{\"axes\": \"xyz\", \"keepOrientation\": …"
      ]
     },
     "metadata": {},
     "output_type": "display_data"
    }
   ],
   "source": [
    "cs = chemiscope.show(frames=frames, properties = { \n",
    " \"feats12345\":    feats_nu12345[:,:8].numpy(),\n",
    " \"type\" : [i%2 for i in range(len(frames))],\n",
    " \"deltas\" : [deltas[i//2]   for i in range(len(frames)) ],\n",
    " \"pars\" : [f.info[\"pars\"] for f in frames]   \n",
    "}\n",
    "                     , settings = {'structure': [{\n",
    "   'axes': 'xyz',\n",
    "   'keepOrientation': True,\n",
    "   'playbackDelay': 250}]})\n",
    "display(cs)"
   ]
  },
  {
   "cell_type": "code",
   "execution_count": 201,
   "id": "28966a98-1820-4125-b305-c2b8ee98ccd4",
   "metadata": {},
   "outputs": [
    {
     "data": {
      "text/plain": [
       "[<matplotlib.lines.Line2D at 0x7fe3c19bcd30>]"
      ]
     },
     "execution_count": 201,
     "metadata": {},
     "output_type": "execute_result"
    },
    {
     "data": {
      "image/png": "[encoded data removed]",
      "text/plain": [
       "<Figure size 432x288 with 1 Axes>"
      ]
     },
     "metadata": {
      "needs_background": "light"
     },
     "output_type": "display_data"
    }
   ],
   "source": [
    "plt.plot(feats_nu12345[14])\n",
    "plt.plot(feats_nu12345[15])"
   ]
  },
  {
   "cell_type": "code",
   "execution_count": 206,
   "id": "6ed18077-abac-447f-aadf-08e107cdd32f",
   "metadata": {},
   "outputs": [
    {
     "data": {
      "text/plain": [
       "[<matplotlib.lines.Line2D at 0x7fe3c1af87f0>]"
      ]
     },
     "execution_count": 206,
     "metadata": {},
     "output_type": "execute_result"
    },
    {
     "data": {
      "image/png": "[encoded data removed]",
      "text/plain": [
       "<Figure size 432x288 with 1 Axes>"
      ]
     },
     "metadata": {
      "needs_background": "light"
     },
     "output_type": "display_data"
    }
   ],
   "source": [
    "plt.plot(feats_nu12345[220]-feats_nu12345[221])"
   ]
  },
  {
   "cell_type": "code",
   "execution_count": 203,
   "id": "5a70c59b-c86f-41b2-a384-9f75fecfd926",
   "metadata": {},
   "outputs": [
    {
     "data": {
      "text/plain": [
       "[<matplotlib.lines.Line2D at 0x7fe3c18959d0>]"
      ]
     },
     "execution_count": 203,
     "metadata": {},
     "output_type": "execute_result"
    },
    {
     "data": {
      "image/png": "[encoded data removed]",
      "text/plain": [
       "<Figure size 432x288 with 1 Axes>"
      ]
     },
     "metadata": {
      "needs_background": "light"
     },
     "output_type": "display_data"
    }
   ],
   "source": [
    "plt.plot(feats_nu123[::2,7], feats_nu123[::2,8], 'b.')\n",
    "plt.plot(feats_nu123[1::2,7], feats_nu123[1::2,8], 'rx')"
   ]
  },
  {
   "cell_type": "code",
   "execution_count": 204,
   "id": "8f4ef6fe-bae7-4dc9-90c9-b52b141978d4",
   "metadata": {},
   "outputs": [
    {
     "data": {
      "text/plain": [
       "[<matplotlib.lines.Line2D at 0x7fe3c1bc4f10>]"
      ]
     },
     "execution_count": 204,
     "metadata": {},
     "output_type": "execute_result"
    },
    {
     "data": {
      "image/png": "[encoded data removed]",
      "text/plain": [
       "<Figure size 432x288 with 1 Axes>"
      ]
     },
     "metadata": {
      "needs_background": "light"
     },
     "output_type": "display_data"
    }
   ],
   "source": [
    "plt.plot(feats_nu12345[::2,2], feats_nu12345[::2,3], 'b.')\n",
    "plt.plot(feats_nu12345[1::2,2], feats_nu12345[1::2,3], 'rx')"
   ]
  },
  {
   "cell_type": "code",
   "execution_count": 205,
   "id": "10199ba6-e2e5-4bfc-a873-5678444055a2",
   "metadata": {},
   "outputs": [
    {
     "data": {
      "text/plain": [
       "[<matplotlib.lines.Line2D at 0x7fe3c1b032b0>]"
      ]
     },
     "execution_count": 205,
     "metadata": {},
     "output_type": "execute_result"
    },
    {
     "data": {
      "image/png": "[encoded data removed]",
      "text/plain": [
       "<Figure size 432x288 with 1 Axes>"
      ]
     },
     "metadata": {
      "needs_background": "light"
     },
     "output_type": "display_data"
    }
   ],
   "source": [
    "plt.plot(feats_nu12345[::2,8], feats_nu12345[::2,9], 'b.')\n",
    "plt.plot(feats_nu12345[1::2,8], feats_nu12345[1::2,9], 'rx')"
   ]
  },
  {
   "cell_type": "markdown",
   "id": "7057a862-3261-464d-8060-9116b8415338",
   "metadata": {},
   "source": [
    "# Now we make an autoencoder thingie"
   ]
  },
  {
   "cell_type": "code",
   "execution_count": 207,
   "id": "1ba29c23-da18-4d6a-8b0e-1491268db39f",
   "metadata": {},
   "outputs": [],
   "source": [
    "def StructureMap(samples_structure, device=\"cpu\"):\n",
    "    unique_structures, unique_structures_idx = np.unique(\n",
    "        samples_structure, return_index=True\n",
    "    )\n",
    "    new_samples = samples_structure[np.sort(unique_structures_idx)]\n",
    "    # we need a list keeping track of where each atomic contribution goes\n",
    "    # (e.g. if structure ids are [3,3,3,1,1,1,6,6,6] that will be stored as\n",
    "    # the unique structures [3, 1, 6], structure_map will be\n",
    "    # [0,0,0,1,1,1,2,2,2]\n",
    "    replace_rule = dict(zip(unique_structures, range(len(unique_structures))))\n",
    "    structure_map = torch.tensor(\n",
    "        [replace_rule[i] for i in samples_structure],\n",
    "        dtype=torch.long,\n",
    "        device=device,\n",
    "    )\n",
    "    return structure_map, new_samples, replace_rule"
   ]
  },
  {
   "cell_type": "code",
   "execution_count": 208,
   "id": "7067c569-c37a-45a0-931f-5b12321f9040",
   "metadata": {},
   "outputs": [],
   "source": [
    "class LinearEncodeDecode(torch.nn.Module):\n",
    "    def __init__(self, layer_size=100, feat_size=32, output_size=32):\n",
    "        super().__init__()\n",
    "\n",
    "        self.nn_encode = None\n",
    "        self.nn_decode = None\n",
    "        self.layer_size = layer_size \n",
    "        self.feat_size = feat_size\n",
    "        self.output_size= output_size        \n",
    "\n",
    "    def initialize_model_weights(self, block, seed):\n",
    "        if seed is not None:\n",
    "            torch.manual_seed(seed)\n",
    "\n",
    "        X = block\n",
    "\n",
    "        # initialize nn with zero weights ??\n",
    "        def init_zero_weights(m):\n",
    "            if isinstance(m, torch.nn.Linear):\n",
    "                m.weight.data.fill_(0)\n",
    "                m.bias.data.fill_(0)\n",
    "\n",
    "        self.nn_encode = torch.nn.Sequential(\n",
    "            torch.nn.Linear(X.shape[-1], self.feat_size))\n",
    "        self.nn_decode = torch.nn.Sequential(\n",
    "            torch.nn.Linear(self.feat_size, self.layer_size),\n",
    "            torch.nn.GroupNorm(4,self.layer_size),\n",
    "            torch.nn.Tanh(),\n",
    "            torch.nn.Linear(self.layer_size, self.layer_size),\n",
    "            torch.nn.GroupNorm(4,self.layer_size),\n",
    "            torch.nn.Tanh(),\n",
    "            torch.nn.Linear(self.layer_size, self.output_size),            \n",
    "        )\n",
    "    \n",
    "    def feats(self, block, samples):\n",
    "        tensor = block\n",
    "\n",
    "        structure_map, new_samples, _ = StructureMap(\n",
    "            samples, \"cpu\"\n",
    "        )\n",
    "        \n",
    "        nn_per_triple = self.nn_encode(tensor)\n",
    "        nn_per_structure = torch.zeros((len(new_samples), nn_per_triple.shape[-1]), device=tensor.device)\n",
    "        nn_per_structure.index_add_(0, structure_map, nn_per_triple)\n",
    "        return nn_per_structure\n",
    "        \n",
    "    def forward(self, block, samples):\n",
    "        if self.nn_encode is None:\n",
    "            raise Exception(\"call initialize_weights first\")\n",
    "\n",
    "        outputs = self.nn_decode(self.feats(block, samples))\n",
    "        return outputs"
   ]
  },
  {
   "cell_type": "code",
   "execution_count": 209,
   "id": "ac25a569-9d2a-48c6-9f12-03225436269d",
   "metadata": {},
   "outputs": [],
   "source": [
    "class EncodeDecode(torch.nn.Module):\n",
    "    def __init__(self, layer_size=100, feat_size=32, output_size=32):\n",
    "        super().__init__()\n",
    "\n",
    "        self.nn_encode = None\n",
    "        self.nn_decode = None\n",
    "        self.feat_size = feat_size\n",
    "        self.layer_size = layer_size        \n",
    "        self.output_size= output_size        \n",
    "\n",
    "    def initialize_model_weights(self, block, seed):\n",
    "        if seed is not None:\n",
    "            torch.manual_seed(seed)\n",
    "\n",
    "        X = block\n",
    "\n",
    "        # initialize nn with zero weights ??\n",
    "        def init_zero_weights(m):\n",
    "            if isinstance(m, torch.nn.Linear):\n",
    "                m.weight.data.fill_(0)\n",
    "                m.bias.data.fill_(0)\n",
    "\n",
    "        self.nn_encode = torch.nn.Sequential(\n",
    "            \n",
    "            torch.nn.Linear(X.shape[-1], self.layer_size),\n",
    "            torch.nn.GroupNorm(4,self.layer_size),\n",
    "            torch.nn.Tanh(),\n",
    "            torch.nn.Linear(self.layer_size, self.layer_size),\n",
    "            torch.nn.GroupNorm(4,self.layer_size),\n",
    "            torch.nn.Tanh(),\n",
    "            torch.nn.Linear(self.layer_size, self.feat_size))\n",
    "        self.nn_decode = torch.nn.Sequential(\n",
    "            torch.nn.Linear(self.feat_size, self.layer_size),\n",
    "            torch.nn.GroupNorm(4,self.layer_size),\n",
    "            torch.nn.Tanh(),\n",
    "            torch.nn.Linear(self.layer_size, self.layer_size),\n",
    "            torch.nn.GroupNorm(4,self.layer_size),\n",
    "            torch.nn.Tanh(),\n",
    "            torch.nn.Linear(self.layer_size, self.output_size),            \n",
    "        )\n",
    "\n",
    "    def feats(self, block, samples):\n",
    "        tensor = block\n",
    "\n",
    "        structure_map, new_samples, _ = StructureMap(\n",
    "            samples, \"cpu\"\n",
    "        )\n",
    "        \n",
    "        nn_per_triple = self.nn_encode(tensor)\n",
    "        nn_per_structure = torch.zeros((len(new_samples), nn_per_triple.shape[-1]), device=tensor.device)\n",
    "        nn_per_structure.index_add_(0, structure_map, nn_per_triple)\n",
    "        return nn_per_structure\n",
    "        \n",
    "    def forward(self, block, samples):\n",
    "        if self.nn_encode is None:\n",
    "            raise Exception(\"call initialize_weights first\")\n",
    "\n",
    "        outputs = self.nn_decode(self.feats(block, samples))\n",
    "        return outputs"
   ]
  },
  {
   "cell_type": "code",
   "execution_count": 210,
   "id": "adb88985-8438-45f9-8f08-fb292201b455",
   "metadata": {},
   "outputs": [
    {
     "data": {
      "text/plain": [
       "torch.Size([2000, 2000])"
      ]
     },
     "execution_count": 210,
     "metadata": {},
     "output_type": "execute_result"
    }
   ],
   "source": [
    "feats_nu12345.shape"
   ]
  },
  {
   "cell_type": "code",
   "execution_count": 211,
   "id": "dd1f9be3-6364-45fb-9028-e2610227e1a1",
   "metadata": {},
   "outputs": [],
   "source": [
    "target = feats_nu12345[:,:128]"
   ]
  },
  {
   "cell_type": "code",
   "execution_count": 212,
   "id": "8f6dd2d5-076f-427e-9e9c-4e6e9a9256ee",
   "metadata": {},
   "outputs": [],
   "source": [
    "mymodel = LinearEncodeDecode(64, 32, target.shape[-1])"
   ]
  },
  {
   "cell_type": "code",
   "execution_count": 213,
   "id": "5b2eb04e-b04b-4acb-80df-7531c202bbf3",
   "metadata": {},
   "outputs": [],
   "source": [
    "mymodel = EncodeDecode(64, 32, target.shape[-1])"
   ]
  },
  {
   "cell_type": "code",
   "execution_count": 214,
   "id": "65f33b2d-c755-48a1-a8dd-1fac2659773c",
   "metadata": {},
   "outputs": [],
   "source": [
    "mymodel.initialize_model_weights(feats_n2nu1, seed=12345)"
   ]
  },
  {
   "cell_type": "code",
   "execution_count": 215,
   "id": "c92f92f8-83b9-4aa5-a6a2-f1fdc6797011",
   "metadata": {},
   "outputs": [],
   "source": [
    "def loss_mse(predicted, actual):\n",
    "    return torch.sum((predicted.flatten() - actual.flatten()) ** 2)"
   ]
  },
  {
   "cell_type": "code",
   "execution_count": 216,
   "id": "5227d4ca-c2c5-4645-a4b3-d66609ca7a92",
   "metadata": {},
   "outputs": [],
   "source": [
    "optimizer = torch.optim.LBFGS(\n",
    "        mymodel.parameters(),\n",
    "        lr=0.1,\n",
    "        line_search_fn=\"strong_wolfe\",\n",
    "        history_size=128,\n",
    "    )"
   ]
  },
  {
   "cell_type": "code",
   "execution_count": 241,
   "id": "04446ae2-02f9-477d-8bd7-384cc941d3b3",
   "metadata": {
    "scrolled": true,
    "tags": []
   },
   "outputs": [
    {
     "name": "stderr",
     "output_type": "stream",
     "text": [
      "<ipython-input-241-5f2b7f940268>:22: RuntimeWarning: invalid value encountered in sqrt\n",
      "  \"test\", np.sqrt(loss_mse(predicted, target[ntrain:]).detach().numpy().flatten()[0]/ (len(frames)-ntrain)) )\n"
     ]
    },
    {
     "name": "stdout",
     "output_type": "stream",
     "text": [
      "Epoch: 0 Energy RMSE: train  0.024079824752582236 test nan\n",
      "Epoch: 10 Energy RMSE: train  0.023788585500658717 test nan\n",
      "Epoch: 20 Energy RMSE: train  0.02338940206211977 test nan\n",
      "Epoch: 30 Energy RMSE: train  0.022821679740926998 test nan\n",
      "Epoch: 40 Energy RMSE: train  0.02233577421995238 test nan\n",
      "Epoch: 50 Energy RMSE: train  0.02184271251918273 test nan\n",
      "Epoch: 60 Energy RMSE: train  0.021397595798863987 test nan\n",
      "Epoch: 70 Energy RMSE: train  0.021064943879318173 test nan\n",
      "Epoch: 80 Energy RMSE: train  0.0207748860659247 test nan\n",
      "Epoch: 90 Energy RMSE: train  0.020586938470666095 test nan\n",
      "Epoch: 100 Energy RMSE: train  0.02041179844207138 test nan\n",
      "Epoch: 110 Energy RMSE: train  0.020241896848949437 test nan\n",
      "Epoch: 120 Energy RMSE: train  0.020120393828438245 test nan\n",
      "Epoch: 130 Energy RMSE: train  0.019991425747289973 test nan\n",
      "Epoch: 140 Energy RMSE: train  0.019892224580866574 test nan\n",
      "Epoch: 150 Energy RMSE: train  0.019783473667186257 test nan\n",
      "Epoch: 160 Energy RMSE: train  0.01967193612555942 test nan\n",
      "Epoch: 170 Energy RMSE: train  0.01957213688581656 test nan\n",
      "Epoch: 180 Energy RMSE: train  0.0194647007374043 test nan\n",
      "Epoch: 190 Energy RMSE: train  0.019323662952706617 test nan\n",
      "Epoch: 200 Energy RMSE: train  0.019179896270060736 test nan\n",
      "Epoch: 210 Energy RMSE: train  0.019011731359201943 test nan\n",
      "Epoch: 220 Energy RMSE: train  0.018826910857481213 test nan\n",
      "Epoch: 230 Energy RMSE: train  0.01859274481157959 test nan\n",
      "Epoch: 240 Energy RMSE: train  0.0183101929985033 test nan\n",
      "Epoch: 250 Energy RMSE: train  0.017911545822636474 test nan\n",
      "Epoch: 260 Energy RMSE: train  0.017592996358976317 test nan\n",
      "Epoch: 270 Energy RMSE: train  0.017216860410528813 test nan\n",
      "Epoch: 280 Energy RMSE: train  0.016882300916749422 test nan\n",
      "Epoch: 290 Energy RMSE: train  0.01657472500757404 test nan\n",
      "Epoch: 300 Energy RMSE: train  0.016245966804075265 test nan\n",
      "Epoch: 310 Energy RMSE: train  0.015992204621961985 test nan\n",
      "Epoch: 320 Energy RMSE: train  0.015799074912161634 test nan\n",
      "Epoch: 330 Energy RMSE: train  0.015599726634311133 test nan\n",
      "Epoch: 340 Energy RMSE: train  0.015422633321157663 test nan\n",
      "Epoch: 350 Energy RMSE: train  0.015234922644452456 test nan\n",
      "Epoch: 360 Energy RMSE: train  0.015065135727193478 test nan\n",
      "Epoch: 370 Energy RMSE: train  0.01485803155367109 test nan\n",
      "Epoch: 380 Energy RMSE: train  0.01471155703285957 test nan\n",
      "Epoch: 390 Energy RMSE: train  0.014583165706420346 test nan\n",
      "Epoch: 400 Energy RMSE: train  0.014448533040526762 test nan\n",
      "Epoch: 410 Energy RMSE: train  0.014336274910494426 test nan\n",
      "Epoch: 420 Energy RMSE: train  0.014240861768000063 test nan\n",
      "Epoch: 430 Energy RMSE: train  0.014138968843333653 test nan\n",
      "Epoch: 440 Energy RMSE: train  0.014056013998198976 test nan\n",
      "Epoch: 450 Energy RMSE: train  0.013974861963101454 test nan\n",
      "Epoch: 460 Energy RMSE: train  0.013893640603080779 test nan\n",
      "Epoch: 470 Energy RMSE: train  0.013822023305206368 test nan\n",
      "Epoch: 480 Energy RMSE: train  0.013745460791165466 test nan\n",
      "Epoch: 490 Energy RMSE: train  0.013669774375715822 test nan\n",
      "Epoch: 500 Energy RMSE: train  0.013597889214912763 test nan\n",
      "Epoch: 510 Energy RMSE: train  0.01352539691862119 test nan\n",
      "Epoch: 520 Energy RMSE: train  0.013455446387296531 test nan\n",
      "Epoch: 530 Energy RMSE: train  0.01338985519199414 test nan\n",
      "Epoch: 540 Energy RMSE: train  0.013315744493569707 test nan\n",
      "Epoch: 550 Energy RMSE: train  0.01323039573266872 test nan\n",
      "Epoch: 560 Energy RMSE: train  0.013147806566164981 test nan\n",
      "Epoch: 570 Energy RMSE: train  0.013074692694816236 test nan\n",
      "Epoch: 580 Energy RMSE: train  0.012990176278161306 test nan\n",
      "Epoch: 590 Energy RMSE: train  0.01290894269311919 test nan\n",
      "Epoch: 600 Energy RMSE: train  0.012823094762646273 test nan\n",
      "Epoch: 610 Energy RMSE: train  0.012713056171084468 test nan\n",
      "Epoch: 620 Energy RMSE: train  0.012594716542185126 test nan\n",
      "Epoch: 630 Energy RMSE: train  0.012475235784724389 test nan\n",
      "Epoch: 640 Energy RMSE: train  0.01231877996666756 test nan\n",
      "Epoch: 650 Energy RMSE: train  0.012199948453898588 test nan\n",
      "Epoch: 660 Energy RMSE: train  0.012082538653752152 test nan\n",
      "Epoch: 670 Energy RMSE: train  0.011968754025836205 test nan\n",
      "Epoch: 680 Energy RMSE: train  0.011865141655722597 test nan\n",
      "Epoch: 690 Energy RMSE: train  0.011744232984437197 test nan\n",
      "Epoch: 700 Energy RMSE: train  0.011631094865268863 test nan\n",
      "Epoch: 710 Energy RMSE: train  0.01153662712323586 test nan\n",
      "Epoch: 720 Energy RMSE: train  0.011441030944479564 test nan\n",
      "Epoch: 730 Energy RMSE: train  0.011350549377746993 test nan\n",
      "Epoch: 740 Energy RMSE: train  0.011257150751533324 test nan\n",
      "Epoch: 750 Energy RMSE: train  0.011167004150509917 test nan\n",
      "Epoch: 760 Energy RMSE: train  0.011089080585748546 test nan\n",
      "Epoch: 770 Energy RMSE: train  0.011011770774693501 test nan\n",
      "Epoch: 780 Energy RMSE: train  0.01094289721876166 test nan\n",
      "Epoch: 790 Energy RMSE: train  0.010861844383959455 test nan\n",
      "Epoch: 800 Energy RMSE: train  0.010788106676206116 test nan\n",
      "Epoch: 810 Energy RMSE: train  0.010720288898747276 test nan\n",
      "Epoch: 820 Energy RMSE: train  0.010665509487287795 test nan\n",
      "Epoch: 830 Energy RMSE: train  0.010602208399745749 test nan\n",
      "Epoch: 840 Energy RMSE: train  0.010545136767703571 test nan\n",
      "Epoch: 850 Energy RMSE: train  0.010500212255732945 test nan\n",
      "Epoch: 860 Energy RMSE: train  0.010455140652504979 test nan\n",
      "Epoch: 870 Energy RMSE: train  0.010410681619539239 test nan\n",
      "Epoch: 880 Energy RMSE: train  0.010364957527976922 test nan\n",
      "Epoch: 890 Energy RMSE: train  0.01032350316270465 test nan\n",
      "Epoch: 900 Energy RMSE: train  0.01028336048962449 test nan\n",
      "Epoch: 910 Energy RMSE: train  0.010235808876873477 test nan\n",
      "Epoch: 920 Energy RMSE: train  0.01018923538059332 test nan\n",
      "Epoch: 930 Energy RMSE: train  0.010142067733714122 test nan\n",
      "Epoch: 940 Energy RMSE: train  0.010095387455129154 test nan\n",
      "Epoch: 950 Energy RMSE: train  0.010053362474881367 test nan\n",
      "Epoch: 960 Energy RMSE: train  0.01001203173691042 test nan\n",
      "Epoch: 970 Energy RMSE: train  0.009972190949042458 test nan\n",
      "Epoch: 980 Energy RMSE: train  0.0099311960571683 test nan\n",
      "Epoch: 990 Energy RMSE: train  0.009889314914268046 test nan\n"
     ]
    }
   ],
   "source": [
    "n_epochs = 1000\n",
    "ntrain = 512\n",
    "ntriples = 64\n",
    "for epoch in range(0, n_epochs):\n",
    "    \n",
    "    def single_step():\n",
    "        # global composition, radial_spectrum, spherical_expansions, energies\n",
    "        optimizer.zero_grad()\n",
    "        loss = torch.zeros(size=(1,), device=device)\n",
    "        \n",
    "        predicted = mymodel(feats_n2nu1[:ntrain*ntriples], triplet_samples[\"structure\"][:ntrain*ntriples])\n",
    "        loss += loss_mse(predicted, target[:ntrain])\n",
    "        \n",
    "        loss.backward(retain_graph=False)\n",
    "        return loss\n",
    "\n",
    "    loss = optimizer.step(single_step)\n",
    "    predicted = mymodel(feats_n2nu1[ntrain*ntriples:], triplet_samples[\"structure\"][ntrain*ntriples:])\n",
    "    \n",
    "    if epoch % 10 ==0:\n",
    "        print(\"Epoch:\", epoch, \"Energy RMSE: train \", np.sqrt(loss.detach().numpy().flatten()[0]/ntrain),\n",
    "         \"test\", np.sqrt(loss_mse(predicted, target[ntrain:]).detach().numpy().flatten()[0]/ (len(frames)-ntrain)) )"
   ]
  },
  {
   "cell_type": "code",
   "execution_count": 231,
   "id": "3b471c16-3869-4415-8e1b-77057ba8bff9",
   "metadata": {},
   "outputs": [],
   "source": [
    "predicted = mymodel(feats_n2nu1, triplet_samples[\"structure\"])\n",
    "feats = mymodel.feats(feats_n2nu1, triplet_samples[\"structure\"])"
   ]
  },
  {
   "cell_type": "code",
   "execution_count": 232,
   "id": "1e7e74c9-65b2-4b52-a147-d7afd32c5796",
   "metadata": {},
   "outputs": [
    {
     "data": {
      "text/plain": [
       "0.11526290837147828"
      ]
     },
     "execution_count": 232,
     "metadata": {},
     "output_type": "execute_result"
    }
   ],
   "source": [
    "np.linalg.norm((predicted[:ntrain]-target[:ntrain]).detach() )/(\n",
    "    np.linalg.norm(target[:ntrain]) )"
   ]
  },
  {
   "cell_type": "code",
   "execution_count": 233,
   "id": "b6b1988a-e5ed-472c-87f8-e10ba3c4bf85",
   "metadata": {},
   "outputs": [
    {
     "data": {
      "text/plain": [
       "0.08105425834601253"
      ]
     },
     "execution_count": 233,
     "metadata": {},
     "output_type": "execute_result"
    }
   ],
   "source": [
    "np.linalg.norm((((predicted[:ntrain:2]+predicted[1:ntrain:2])/2) - ((target[:ntrain:2]+target[1:ntrain:2])/2)).detach() )/(\n",
    "    np.linalg.norm(target[:ntrain]) )"
   ]
  },
  {
   "cell_type": "code",
   "execution_count": 234,
   "id": "d7f51ab5-1059-413e-9c12-58568cf7a4cf",
   "metadata": {},
   "outputs": [
    {
     "data": {
      "text/plain": [
       "0.15158194013889695"
      ]
     },
     "execution_count": 234,
     "metadata": {},
     "output_type": "execute_result"
    }
   ],
   "source": [
    "np.linalg.norm((((predicted[ntrain::2]+predicted[ntrain+1::2])/2) - ((target[ntrain::2]+target[ntrain+1::2])/2)).detach() ) / (\n",
    "    np.linalg.norm(target[:ntrain]) )"
   ]
  },
  {
   "cell_type": "code",
   "execution_count": 235,
   "id": "98ad04e6-212a-4334-9dda-b46138000fd2",
   "metadata": {},
   "outputs": [
    {
     "data": {
      "text/plain": [
       "1.0022502369299975"
      ]
     },
     "execution_count": 235,
     "metadata": {},
     "output_type": "execute_result"
    }
   ],
   "source": [
    "np.linalg.norm((((predicted[:ntrain:2]-predicted[1:ntrain:2])) - ((target[:ntrain:2]-target[1:ntrain:2]))).detach() )/ (\n",
    "    np.linalg.norm(target[:ntrain:2]-target[1:ntrain:2]))"
   ]
  },
  {
   "cell_type": "code",
   "execution_count": 236,
   "id": "a9622130-3805-4eb3-9e5e-cd19014e82a1",
   "metadata": {},
   "outputs": [
    {
     "data": {
      "text/plain": [
       "1.0026208063524973"
      ]
     },
     "execution_count": 236,
     "metadata": {},
     "output_type": "execute_result"
    }
   ],
   "source": [
    "np.linalg.norm((((predicted[ntrain::2]-predicted[1+ntrain::2])) - \n",
    "                ((target[ntrain::2]-target[ntrain+1::2]))).detach() )/ (\n",
    "    np.linalg.norm(target[ntrain::2]-target[1+ntrain::2]))"
   ]
  },
  {
   "cell_type": "code",
   "execution_count": 237,
   "id": "e039a164-536f-47c3-b798-77104de35607",
   "metadata": {},
   "outputs": [
    {
     "data": {
      "text/plain": [
       "[<matplotlib.lines.Line2D at 0x7fe3c15baf10>]"
      ]
     },
     "execution_count": 237,
     "metadata": {},
     "output_type": "execute_result"
    },
    {
     "data": {
      "image/png": "[encoded data removed]",
      "text/plain": [
       "<Figure size 432x288 with 1 Axes>"
      ]
     },
     "metadata": {
      "needs_background": "light"
     },
     "output_type": "display_data"
    }
   ],
   "source": [
    "plt.plot(feats[30].detach()-feats[31].detach())"
   ]
  },
  {
   "cell_type": "code",
   "execution_count": 238,
   "id": "f9e39974-d8d0-49bc-8ceb-be43a0887f84",
   "metadata": {},
   "outputs": [
    {
     "name": "stdout",
     "output_type": "stream",
     "text": [
      "tensor(135)\n"
     ]
    },
    {
     "data": {
      "image/png": "[encoded data removed]",
      "text/plain": [
       "<Figure size 432x288 with 1 Axes>"
      ]
     },
     "metadata": {
      "needs_background": "light"
     },
     "output_type": "display_data"
    }
   ],
   "source": [
    "plt.plot(np.sqrt(((target[::2]-target[1::2])**2).sum(axis=1)))\n",
    "print(np.sqrt(((target[::2]-target[1::2])**2).sum(axis=1)).argmax())"
   ]
  },
  {
   "cell_type": "code",
   "execution_count": 239,
   "id": "58946579-3a8f-4bd8-99ec-0a0878d5eec7",
   "metadata": {},
   "outputs": [
    {
     "data": {
      "text/plain": [
       "[<matplotlib.lines.Line2D at 0x7fe3c14b64c0>]"
      ]
     },
     "execution_count": 239,
     "metadata": {},
     "output_type": "execute_result"
    },
    {
     "data": {
      "image/png": "[encoded data removed]",
      "text/plain": [
       "<Figure size 432x288 with 1 Axes>"
      ]
     },
     "metadata": {
      "needs_background": "light"
     },
     "output_type": "display_data"
    }
   ],
   "source": [
    "iframe = 72\n",
    "plt.plot(predicted[iframe].detach(),'b--')\n",
    "plt.plot(target[iframe].detach(),'b.')\n",
    "plt.plot(predicted[iframe+1].detach(), 'r--')\n",
    "plt.plot(target[iframe+1].detach(), 'r.')"
   ]
  },
  {
   "cell_type": "code",
   "execution_count": 240,
   "id": "cb466e6d-75a8-48ed-b19e-e4ede5468a1b",
   "metadata": {},
   "outputs": [
    {
     "data": {
      "text/plain": [
       "[<matplotlib.lines.Line2D at 0x7fe3c1431b80>]"
      ]
     },
     "execution_count": 240,
     "metadata": {},
     "output_type": "execute_result"
    },
    {
     "data": {
      "image/png": "[encoded data removed]",
      "text/plain": [
       "<Figure size 432x288 with 1 Axes>"
      ]
     },
     "metadata": {
      "needs_background": "light"
     },
     "output_type": "display_data"
    }
   ],
   "source": [
    "plt.plot((predicted[iframe].detach()-predicted[iframe+1].detach()),'k--')\n",
    "plt.plot(target[iframe].detach()-target[iframe+1].detach(), 'k.')"
   ]
  },
  {
   "cell_type": "code",
   "execution_count": 129,
   "id": "642f128f-2f76-4473-a251-ec813f97e3d3",
   "metadata": {},
   "outputs": [
    {
     "data": {
      "text/plain": [
       "[<matplotlib.lines.Line2D at 0x7fead0274520>]"
      ]
     },
     "execution_count": 129,
     "metadata": {},
     "output_type": "execute_result"
    },
    {
     "data": {
      "image/png": "[encoded data removed]",
      "text/plain": [
       "<Figure size 432x288 with 1 Axes>"
      ]
     },
     "metadata": {
      "needs_background": "light"
     },
     "output_type": "display_data"
    }
   ],
   "source": [
    "plt.plot((feats[iframe].detach()-feats[iframe+1].detach()),'b.-')"
   ]
  },
  {
   "cell_type": "code",
   "execution_count": null,
   "id": "39d8d46e-c96a-459b-a9e6-b5d84b0c0b3d",
   "metadata": {},
   "outputs": [],
   "source": []
  },
  {
   "cell_type": "code",
   "execution_count": null,
   "id": "bfdbfee4-3e3b-4d0e-ad7b-4ecc7f9720b8",
   "metadata": {},
   "outputs": [],
   "source": []
  }
 ],
 "metadata": {
  "kernelspec": {
   "display_name": "Python 3",
   "language": "python",
   "name": "python3"
  },
  "language_info": {
   "codemirror_mode": {
    "name": "ipython",
    "version": 3
   },
   "file_extension": ".py",
   "mimetype": "text/x-python",
   "name": "python",
   "nbconvert_exporter": "python",
   "pygments_lexer": "ipython3",
   "version": "3.8.10"
  },
  "toc": {
   "base_numbering": 1,
   "nav_menu": {},
   "number_sections": true,
   "sideBar": true,
   "skip_h1_title": false,
   "title_cell": "Table of Contents",
   "title_sidebar": "Contents",
   "toc_cell": false,
   "toc_position": {},
   "toc_section_display": true,
   "toc_window_display": false
  }
 },
 "nbformat": 4,
 "nbformat_minor": 5
}
