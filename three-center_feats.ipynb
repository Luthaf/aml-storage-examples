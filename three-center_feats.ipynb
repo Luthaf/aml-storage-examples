{
 "cells": [
  {
   "cell_type": "code",
   "execution_count": 1,
   "id": "d2596616",
   "metadata": {},
   "outputs": [],
   "source": [
    "%load_ext autoreload\n",
    "%autoreload 2\n",
    "%load_ext line_profiler"
   ]
  },
  {
   "cell_type": "code",
   "execution_count": 2,
   "id": "341b09d0",
   "metadata": {},
   "outputs": [],
   "source": [
    "import numpy as np\n",
    "import scipy as sp\n",
    "import json\n",
    "import torch\n",
    "torch.set_default_dtype(torch.float64)\n",
    "device=\"cpu\"\n",
    "from equistore import Labels, TensorBlock, TensorMap\n",
    "from equistore import operations\n",
    "from utils.builder import TensorBuilder\n",
    "import ase.io\n",
    "from itertools import product\n",
    "from utils.mp_utils import acdc_standardize_keys, cg_increment, cg_combine, _remove_suffix, flatten\n",
    "from utils.clebsh_gordan import ClebschGordanReal\n",
    "from utils.hamiltonians import hamiltonian_features\n",
    "import matplotlib.pyplot as plt\n",
    "\n",
    "from utils.librascal import  RascalSphericalExpansion, RascalPairExpansion\n",
    "from rascal.representations import SphericalExpansion\n",
    "import copy\n",
    "from utils.model_hamiltonian import *\n",
    "from itertools import product\n",
    "import tqdm.notebook as tqdm\n",
    "import chemiscope"
   ]
  },
  {
   "cell_type": "code",
   "execution_count": 3,
   "id": "bde7e214-6392-4107-b05f-2255f211ba14",
   "metadata": {},
   "outputs": [],
   "source": [
    "from generate_bispectrum_structures import generate_nu3_degen_structs"
   ]
  },
  {
   "cell_type": "markdown",
   "id": "499d77a9-335f-46c3-a1f4-2dcd34577c7e",
   "metadata": {},
   "source": [
    "Generates a bunch of degenerate pairs - closer or farther from being actually symmetric"
   ]
  },
  {
   "cell_type": "code",
   "execution_count": 175,
   "id": "e57afe1c-33db-4cd3-b0eb-e0b16e0ed606",
   "metadata": {},
   "outputs": [],
   "source": [
    "frames = []\n",
    "for psi in np.linspace(np.pi/3+np.pi/6, np.pi/3+np.pi*5/6, 3):\n",
    "    for dphi1 in np.linspace(np.pi*2/3 - 1.2, np.pi*2/3+0.4, 3):\n",
    "        for dphi2 in np.linspace(np.pi*2/3-0.7, np.pi*2/3+1.3, 3):\n",
    "            frames += generate_nu3_degen_structs(2, [0, dphi1, dphi1+dphi2], \n",
    "                           psi, 1, np.sqrt(5), \"Mg\", \"Mg\", \"Mg\")"
   ]
  },
  {
   "cell_type": "code",
   "execution_count": 176,
   "id": "789b49ce-5d6c-4eb7-8b69-1eb7777cd309",
   "metadata": {},
   "outputs": [
    {
     "data": {
      "application/vnd.jupyter.widget-view+json": {
       "model_id": "1e63482a02294a928177165909d2b030",
       "version_major": 2,
       "version_minor": 0
      },
      "text/plain": [
       "StructureWidget(value='{\"meta\": {\"name\": \" \"}, \"settings\": {\"structure\": [{\"axes\": \"xyz\", \"keepOrientation\": t…"
      ]
     },
     "metadata": {},
     "output_type": "display_data"
    }
   ],
   "source": [
    "cs = chemiscope.show(frames=frames, mode=\"structure\", settings = {'structure': [{\n",
    "   'axes': 'xyz',\n",
    "   'keepOrientation': True,\n",
    "   'playbackDelay': 250}]})\n",
    "display(cs)\n"
   ]
  },
  {
   "cell_type": "code",
   "execution_count": 177,
   "id": "dd3a650f",
   "metadata": {},
   "outputs": [],
   "source": [
    "# frames2 = ase.io.read(\"mp_equistore/data/hamiltonian/ethanol-hamiltonian/ethanol_4500.xyz\",\":1\")\n",
    "# frames3= [ase.build.molecule('NH3')]\n",
    "for f in frames:\n",
    "    f.cell = [100,100,100]\n",
    "    f.positions += 50"
   ]
  },
  {
   "cell_type": "markdown",
   "id": "a84fd6a5-e916-45a1-8f69-4b1c2bbc04f5",
   "metadata": {},
   "source": [
    "Computes descriptors using librascal and equistore. Retains only the descriptors associated with the central atom"
   ]
  },
  {
   "cell_type": "code",
   "execution_count": 178,
   "id": "2c314ed8-7347-495b-829d-024ed79535c2",
   "metadata": {},
   "outputs": [],
   "source": [
    "rascal_hypers = {\n",
    "    \"interaction_cutoff\": 3.5,\n",
    "    \"cutoff_smooth_width\": 0.3,\n",
    "    \"max_radial\": 2,\n",
    "    \"max_angular\": 3,\n",
    "    \"gaussian_sigma_type\": \"Constant\",\n",
    "    \"gaussian_sigma_constant\": 0.2,\n",
    "    \"compute_gradients\":  False,\n",
    "#     \"expansion_by_species_method\": \"user defined\",\n",
    "#     \"global_species\": [1,6,8,7]\n",
    "    \n",
    "}\n",
    "spex = RascalSphericalExpansion(rascal_hypers)\n",
    "rhoi = spex.compute(frames)\n",
    "rho1i = acdc_standardize_keys(rhoi)\n",
    "rho1i.keys_to_properties(['species_neighbor'])\n",
    "# selects only one environment\n",
    "rho1i = operations.slice(rho1i, samples=Labels(['center'],np.array([[0]], np.int32)) )\n",
    "norm = np.sqrt(np.sum([(b.values**2).sum(axis=(1,2)) for b in rho1i.blocks()],axis=0).mean())\n",
    "for b in rho1i.blocks():\n",
    "    b.values[:]/=norm"
   ]
  },
  {
   "cell_type": "code",
   "execution_count": 179,
   "id": "fef55fd3",
   "metadata": {},
   "outputs": [],
   "source": [
    "cg = ClebschGordanReal(5)"
   ]
  },
  {
   "cell_type": "code",
   "execution_count": 180,
   "id": "f9393b35",
   "metadata": {},
   "outputs": [],
   "source": [
    "gij_hypers = {\n",
    "    \"interaction_cutoff\": 3.5,\n",
    "    \"cutoff_smooth_width\": 0.3,\n",
    "    \"max_radial\": 2,\n",
    "    \"max_angular\": 3,\n",
    "    \"gaussian_sigma_type\": \"Constant\",\n",
    "    \"gaussian_sigma_constant\": 0.2,\n",
    "    \"compute_gradients\":  False,\n",
    "#     \"expansion_by_species_method\": \"user defined\",\n",
    "#     \"global_species\": [1,6,8,7]\n",
    "}    \n",
    "pairs = RascalPairExpansion(gij_hypers)\n",
    "gij = pairs.compute(frames)\n",
    "gij = operations.slice(gij, samples=Labels(['center'],np.array([[0]], np.int32)) )\n",
    "gij =  acdc_standardize_keys(gij)"
   ]
  },
  {
   "cell_type": "code",
   "execution_count": 181,
   "id": "03e4745f",
   "metadata": {},
   "outputs": [
    {
     "name": "stdout",
     "output_type": "stream",
     "text": [
      "CPU times: user 589 ms, sys: 0 ns, total: 589 ms\n",
      "Wall time: 588 ms\n"
     ]
    }
   ],
   "source": [
    "%%time\n",
    "rhoii1i2_nu0 = cg_combine(gij, gij, clebsch_gordan=cg, other_keys_match=['species_center'], lcut=3)"
   ]
  },
  {
   "cell_type": "code",
   "execution_count": 182,
   "id": "10298778",
   "metadata": {},
   "outputs": [
    {
     "name": "stdout",
     "output_type": "stream",
     "text": [
      "CPU times: user 494 ms, sys: 0 ns, total: 494 ms\n",
      "Wall time: 493 ms\n"
     ]
    }
   ],
   "source": [
    "%%time \n",
    "rhoii1i2_nu1 =  cg_combine(rho1i, rhoii1i2_nu0, clebsch_gordan=cg, other_keys_match = ['species_center'], lcut=0, filter_sigma=[1])"
   ]
  },
  {
   "cell_type": "code",
   "execution_count": 183,
   "id": "426572a6-2159-4c67-a815-50a7564231da",
   "metadata": {},
   "outputs": [],
   "source": [
    "rho2i = cg_increment(rho1i, rho1i, clebsch_gordan=cg, lcut=3)\n",
    "rho3i = cg_increment(rho2i, rho1i, clebsch_gordan=cg, lcut=3)\n",
    "rho4i = cg_increment(rho3i, rho1i, clebsch_gordan=cg, lcut=3)\n",
    "rho5i = cg_increment(rho4i, rho1i, clebsch_gordan=cg, lcut=0, filter_sigma=[1])"
   ]
  },
  {
   "cell_type": "markdown",
   "id": "4a086a3e-3bb1-4b48-9b99-215d6cbf3912",
   "metadata": {},
   "source": [
    "sanity check - this should also be degenerate"
   ]
  },
  {
   "cell_type": "code",
   "execution_count": 184,
   "id": "adb69af7-e10a-41b0-867b-c99c10185663",
   "metadata": {},
   "outputs": [],
   "source": [
    "rhoi_nu3 = operations.sum_over_samples(rhoii1i2_nu1, sample_names=[\"structure\", \"center\"]) "
   ]
  },
  {
   "cell_type": "markdown",
   "id": "3169eb52-97e8-4cc6-87f0-52664255ee7d",
   "metadata": {},
   "source": [
    "Since we have a LOT of features and few structures, we use PCA to reduce the number of features with no information loss"
   ]
  },
  {
   "cell_type": "code",
   "execution_count": 185,
   "id": "641fbfd9-aca1-48d9-a29e-ab21aacf3413",
   "metadata": {},
   "outputs": [],
   "source": [
    "from sklearn.decomposition import PCA"
   ]
  },
  {
   "cell_type": "code",
   "execution_count": 186,
   "id": "0c959a01-d167-473d-a466-139601c6bf0a",
   "metadata": {},
   "outputs": [
    {
     "data": {
      "text/plain": [
       "54"
      ]
     },
     "execution_count": 186,
     "metadata": {},
     "output_type": "execute_result"
    }
   ],
   "source": [
    "len(frames)"
   ]
  },
  {
   "cell_type": "code",
   "execution_count": 187,
   "id": "8ebcd1a4-c69d-40a9-bcbb-bb66bb5d4ddd",
   "metadata": {},
   "outputs": [
    {
     "data": {
      "text/plain": [
       "(184,)"
      ]
     },
     "execution_count": 187,
     "metadata": {},
     "output_type": "execute_result"
    }
   ],
   "source": [
    "rhoii1i2_nu1.block(0).values.squeeze()[:64].sum(axis=0).shape"
   ]
  },
  {
   "cell_type": "code",
   "execution_count": 188,
   "id": "30432d94-df5f-445c-a5a7-89218e092590",
   "metadata": {},
   "outputs": [
    {
     "data": {
      "text/plain": [
       "(120,)"
      ]
     },
     "execution_count": 188,
     "metadata": {},
     "output_type": "execute_result"
    }
   ],
   "source": [
    "rho3i.block(inversion_sigma=1,spherical_harmonics_l=0).values.squeeze()[0].shape"
   ]
  },
  {
   "cell_type": "code",
   "execution_count": 189,
   "id": "a1e825e6-0bcf-4531-b7a0-3795a609a8a9",
   "metadata": {},
   "outputs": [
    {
     "data": {
      "text/plain": [
       "[<matplotlib.lines.Line2D at 0x7f5b581d16a0>]"
      ]
     },
     "execution_count": 189,
     "metadata": {},
     "output_type": "execute_result"
    },
    {
     "data": {
      "image/png": "[encoded data removed]",
      "text/plain": [
       "<Figure size 432x288 with 1 Axes>"
      ]
     },
     "metadata": {
      "needs_background": "light"
     },
     "output_type": "display_data"
    }
   ],
   "source": [
    "plt.plot(rhoii1i2_nu1.block(0).values.squeeze()[:64].sum(axis=0)*2e3,'r-')\n",
    "plt.plot(rho3i.block(inversion_sigma=1,spherical_harmonics_l=0).values.squeeze()[0], 'b--')"
   ]
  },
  {
   "cell_type": "code",
   "execution_count": 190,
   "id": "a4199b01-c90f-4dda-9c23-0a39e20b0f75",
   "metadata": {},
   "outputs": [],
   "source": [
    "triplet_samples = rhoii1i2_nu1.block(0).samples\n",
    "raw = rhoii1i2_nu1.block(0).values.squeeze()\n",
    "feats_n2nu1 = torch.tensor(PCA(n_components=min(raw.shape[0],raw.shape[-1])).fit_transform(raw))\n",
    "feats_n2nu1 /= np.sqrt((feats_n2nu1**2).sum(axis=1).mean())"
   ]
  },
  {
   "cell_type": "code",
   "execution_count": 191,
   "id": "9ab5bb5d-2ab7-4abc-a99a-463723c5545b",
   "metadata": {},
   "outputs": [],
   "source": [
    "raw = np.hstack([\n",
    "    rho1i.block(inversion_sigma=1,spherical_harmonics_l=0).values.squeeze(),\n",
    "    rho2i.block(inversion_sigma=1,spherical_harmonics_l=0).values.squeeze(),\n",
    "    rho3i.block(inversion_sigma=1,spherical_harmonics_l=0).values.squeeze()\n",
    "])\n",
    "feats_nu123 = torch.tensor(PCA(n_components=min(raw.shape[0],raw.shape[-1])).fit_transform(raw) / np.sqrt((raw**2).sum(axis=1).mean()))"
   ]
  },
  {
   "cell_type": "code",
   "execution_count": 192,
   "id": "95294e92-1170-42df-941a-c602cd2daba6",
   "metadata": {},
   "outputs": [],
   "source": [
    "raw = np.hstack([\n",
    "    rho1i.block(inversion_sigma=1,spherical_harmonics_l=0).values.squeeze(),\n",
    "    rho2i.block(inversion_sigma=1,spherical_harmonics_l=0).values.squeeze(),\n",
    "    rho3i.block(inversion_sigma=1,spherical_harmonics_l=0).values.squeeze(),\n",
    "    rho4i.block(inversion_sigma=1,spherical_harmonics_l=0).values.squeeze(),\n",
    "    rho5i.block(inversion_sigma=1,spherical_harmonics_l=0).values.squeeze()\n",
    "])\n",
    "feats_nu12345 = torch.tensor(PCA(n_components=min(raw.shape[0],raw.shape[-1])).fit_transform(raw) / np.sqrt((raw**2).sum(axis=1).mean()))"
   ]
  },
  {
   "cell_type": "code",
   "execution_count": 193,
   "id": "8577448c-3d2b-44ab-8c2d-d1d3cce574bf",
   "metadata": {},
   "outputs": [],
   "source": [
    "raw = rho3i.block(inversion_sigma=1,spherical_harmonics_l=0).values.squeeze()\n",
    "feats_nu3 = torch.tensor(PCA(n_components=min(raw.shape[0],raw.shape[-1])).fit_transform(raw) / np.sqrt((raw**2).sum(axis=1).mean()))"
   ]
  },
  {
   "cell_type": "code",
   "execution_count": 194,
   "id": "74224a14-4978-4ad6-88fd-b1a5d570bc60",
   "metadata": {},
   "outputs": [],
   "source": [
    "raw = rhoi_nu3.block(inversion_sigma=1,spherical_harmonics_l=0).values.squeeze()\n",
    "feats_nu3_alt = torch.tensor(PCA(n_components=min(raw.shape[0],raw.shape[-1])).fit_transform(raw) / np.sqrt((raw**2).sum(axis=1).mean()))"
   ]
  },
  {
   "cell_type": "code",
   "execution_count": 195,
   "id": "76ac9b0b-a33d-46e2-a1fa-0fa00e45a59c",
   "metadata": {},
   "outputs": [
    {
     "data": {
      "text/plain": [
       "torch.Size([54, 54])"
      ]
     },
     "execution_count": 195,
     "metadata": {},
     "output_type": "execute_result"
    }
   ],
   "source": [
    "feats_nu3.shape"
   ]
  },
  {
   "cell_type": "code",
   "execution_count": 196,
   "id": "c1bea525-64bc-4abe-91ab-2a6fa02aee23",
   "metadata": {},
   "outputs": [
    {
     "data": {
      "text/plain": [
       "torch.Size([54, 54])"
      ]
     },
     "execution_count": 196,
     "metadata": {},
     "output_type": "execute_result"
    }
   ],
   "source": [
    "feats_nu3_alt.shape"
   ]
  },
  {
   "cell_type": "code",
   "execution_count": 197,
   "id": "3420fee7-9abc-4ed8-b08e-451d7f85d7c5",
   "metadata": {},
   "outputs": [
    {
     "data": {
      "text/plain": [
       "[<matplotlib.lines.Line2D at 0x7f5b386287c0>]"
      ]
     },
     "execution_count": 197,
     "metadata": {},
     "output_type": "execute_result"
    },
    {
     "data": {
      "image/png": "[encoded data removed]",
      "text/plain": [
       "<Figure size 432x288 with 1 Axes>"
      ]
     },
     "metadata": {
      "needs_background": "light"
     },
     "output_type": "display_data"
    }
   ],
   "source": [
    "plt.plot(feats_nu3[:,:100].flatten(),feats_nu3_alt[:,:100].flatten(), 'b.')"
   ]
  },
  {
   "cell_type": "code",
   "execution_count": 198,
   "id": "acb65dac-ecd9-468a-bd37-253918883a2e",
   "metadata": {},
   "outputs": [
    {
     "data": {
      "text/plain": [
       "[<matplotlib.lines.Line2D at 0x7f5b38590d90>]"
      ]
     },
     "execution_count": 198,
     "metadata": {},
     "output_type": "execute_result"
    },
    {
     "data": {
      "image/png": "[encoded data removed]",
      "text/plain": [
       "<Figure size 432x288 with 1 Axes>"
      ]
     },
     "metadata": {
      "needs_background": "light"
     },
     "output_type": "display_data"
    }
   ],
   "source": [
    "plt.plot(feats_n2nu1[:64].sum(axis=0))"
   ]
  },
  {
   "cell_type": "code",
   "execution_count": 199,
   "id": "d5d147d3-a076-4692-8e4d-22b225666e08",
   "metadata": {},
   "outputs": [],
   "source": [
    "raw = rho4i.block(inversion_sigma=1,spherical_harmonics_l=0).values.squeeze()\n",
    "feats_nu4 = torch.tensor(PCA(n_components=min(raw.shape[0],raw.shape[-1])).fit_transform(raw) / np.sqrt((raw**2).sum(axis=1).mean()))"
   ]
  },
  {
   "cell_type": "code",
   "execution_count": 200,
   "id": "2080f6da-7cfc-4ff8-9938-208bd10ef745",
   "metadata": {},
   "outputs": [
    {
     "name": "stdout",
     "output_type": "stream",
     "text": [
      "tensor(8)\n"
     ]
    },
    {
     "data": {
      "image/png": "[encoded data removed]",
      "text/plain": [
       "<Figure size 432x288 with 1 Axes>"
      ]
     },
     "metadata": {
      "needs_background": "light"
     },
     "output_type": "display_data"
    }
   ],
   "source": [
    "plt.plot(np.sqrt(((feats_nu12345[::2]-feats_nu12345[1::2])**2).sum(axis=1))/np.sqrt(((feats_nu12345[::2]+feats_nu12345[1::2])**2).sum(axis=1)) )\n",
    "print(np.sqrt(((feats_nu12345[::2]-feats_nu12345[1::2])**2).sum(axis=1)).argmax())"
   ]
  },
  {
   "cell_type": "code",
   "execution_count": 201,
   "id": "28966a98-1820-4125-b305-c2b8ee98ccd4",
   "metadata": {},
   "outputs": [
    {
     "data": {
      "text/plain": [
       "[<matplotlib.lines.Line2D at 0x7f5b38499bb0>]"
      ]
     },
     "execution_count": 201,
     "metadata": {},
     "output_type": "execute_result"
    },
    {
     "data": {
      "image/png": "[encoded data removed]",
      "text/plain": [
       "<Figure size 432x288 with 1 Axes>"
      ]
     },
     "metadata": {
      "needs_background": "light"
     },
     "output_type": "display_data"
    }
   ],
   "source": [
    "plt.plot(feats_nu12345[4])\n",
    "plt.plot(feats_nu12345[5])"
   ]
  },
  {
   "cell_type": "code",
   "execution_count": 202,
   "id": "6ed18077-abac-447f-aadf-08e107cdd32f",
   "metadata": {},
   "outputs": [
    {
     "data": {
      "text/plain": [
       "[<matplotlib.lines.Line2D at 0x7f5b3844a250>]"
      ]
     },
     "execution_count": 202,
     "metadata": {},
     "output_type": "execute_result"
    },
    {
     "data": {
      "image/png": "[encoded data removed]",
      "text/plain": [
       "<Figure size 432x288 with 1 Axes>"
      ]
     },
     "metadata": {
      "needs_background": "light"
     },
     "output_type": "display_data"
    }
   ],
   "source": [
    "plt.plot(feats_nu12345[20]-feats_nu12345[21])"
   ]
  },
  {
   "cell_type": "code",
   "execution_count": 203,
   "id": "5a70c59b-c86f-41b2-a384-9f75fecfd926",
   "metadata": {},
   "outputs": [
    {
     "data": {
      "text/plain": [
       "[<matplotlib.lines.Line2D at 0x7f5b38417b20>]"
      ]
     },
     "execution_count": 203,
     "metadata": {},
     "output_type": "execute_result"
    },
    {
     "data": {
      "image/png": "[encoded data removed]",
      "text/plain": [
       "<Figure size 432x288 with 1 Axes>"
      ]
     },
     "metadata": {
      "needs_background": "light"
     },
     "output_type": "display_data"
    }
   ],
   "source": [
    "plt.plot(feats_nu123[::2,12], feats_nu123[::2,8], 'b.')\n",
    "plt.plot(feats_nu123[1::2,12], feats_nu123[1::2,8], 'rx')"
   ]
  },
  {
   "cell_type": "code",
   "execution_count": 204,
   "id": "10199ba6-e2e5-4bfc-a873-5678444055a2",
   "metadata": {},
   "outputs": [
    {
     "data": {
      "text/plain": [
       "[<matplotlib.lines.Line2D at 0x7f5b38396490>]"
      ]
     },
     "execution_count": 204,
     "metadata": {},
     "output_type": "execute_result"
    },
    {
     "data": {
      "image/png": "[encoded data removed]",
      "text/plain": [
       "<Figure size 432x288 with 1 Axes>"
      ]
     },
     "metadata": {
      "needs_background": "light"
     },
     "output_type": "display_data"
    }
   ],
   "source": [
    "plt.plot(feats_nu12345[::2,12], feats_nu12345[::2,13], 'b.')\n",
    "plt.plot(feats_nu12345[1::2,12], feats_nu12345[1::2,13], 'rx')"
   ]
  },
  {
   "cell_type": "markdown",
   "id": "7057a862-3261-464d-8060-9116b8415338",
   "metadata": {},
   "source": [
    "Now we make an autoencoder thingie"
   ]
  },
  {
   "cell_type": "code",
   "execution_count": 205,
   "id": "1ba29c23-da18-4d6a-8b0e-1491268db39f",
   "metadata": {},
   "outputs": [],
   "source": [
    "def StructureMap(samples_structure, device=\"cpu\"):\n",
    "    unique_structures, unique_structures_idx = np.unique(\n",
    "        samples_structure, return_index=True\n",
    "    )\n",
    "    new_samples = samples_structure[np.sort(unique_structures_idx)]\n",
    "    # we need a list keeping track of where each atomic contribution goes\n",
    "    # (e.g. if structure ids are [3,3,3,1,1,1,6,6,6] that will be stored as\n",
    "    # the unique structures [3, 1, 6], structure_map will be\n",
    "    # [0,0,0,1,1,1,2,2,2]\n",
    "    replace_rule = dict(zip(unique_structures, range(len(unique_structures))))\n",
    "    structure_map = torch.tensor(\n",
    "        [replace_rule[i] for i in samples_structure],\n",
    "        dtype=torch.long,\n",
    "        device=device,\n",
    "    )\n",
    "    return structure_map, new_samples, replace_rule\n",
    "\n",
    "def block_compress(block, compress, structure_sel):\n",
    "    samples = (\n",
    "        block.samples.view(dtype=np.int32).reshape(-1, len(block.samples.names)).copy()\n",
    "    )\n",
    "    if structure_sel is None:\n",
    "        selected = np.arange(0, len(block.samples))\n",
    "    else:\n",
    "        selected = []\n",
    "        for i in structure_sel:\n",
    "            selected.append(np.where(block.samples[\"structure\"] == i)[0])\n",
    "        selected = np.concatenate(selected)\n",
    "    samples = Labels(block.samples.names, samples[selected])\n",
    "\n",
    "    new_block = TensorBlock(\n",
    "        values=torch.tensor(block.values[selected]@compress),\n",
    "        samples=samples,\n",
    "        components=block.components,\n",
    "        properties=Labels([\"pca\"], np.arange(0, compress.shape[1], dtype=np.int32)[:,np.newaxis]),\n",
    "    )\n",
    "\n",
    "    return new_block\n",
    "\n",
    "def move_and_compress(tensor_map, compress, structure_sel=None):\n",
    "    blocks = []\n",
    "    for _, block in tensor_map:\n",
    "        blocks.append(block_compress(block, compress, structure_sel))\n",
    "\n",
    "    return TensorMap(tensor_map.keys, blocks)"
   ]
  },
  {
   "cell_type": "code",
   "execution_count": 206,
   "id": "7067c569-c37a-45a0-931f-5b12321f9040",
   "metadata": {},
   "outputs": [],
   "source": [
    "class EncodeDecodeLinear(torch.nn.Module):\n",
    "    def __init__(self, feat_size=32, output_size=32):\n",
    "        super().__init__()\n",
    "\n",
    "        self.nn_encode = None\n",
    "        self.nn_decode = None\n",
    "        self.feat_size = feat_size\n",
    "        self.output_size= output_size        \n",
    "\n",
    "    def initialize_model_weights(self, block, seed):\n",
    "        if seed is not None:\n",
    "            torch.manual_seed(seed)\n",
    "\n",
    "        X = block\n",
    "\n",
    "        # initialize nn with zero weights ??\n",
    "        def init_zero_weights(m):\n",
    "            if isinstance(m, torch.nn.Linear):\n",
    "                m.weight.data.fill_(0)\n",
    "                m.bias.data.fill_(0)\n",
    "\n",
    "        self.nn_encode = torch.nn.Sequential(\n",
    "            torch.nn.Linear(X.shape[-1], self.feat_size))\n",
    "        self.nn_decode = torch.nn.Sequential(\n",
    "            torch.nn.Linear(self.feat_size, self.output_size),            \n",
    "        )\n",
    "    \n",
    "    def feats(self, block, samples):\n",
    "        tensor = block\n",
    "\n",
    "        structure_map, new_samples, _ = StructureMap(\n",
    "            samples, \"cpu\"\n",
    "        )\n",
    "        \n",
    "        nn_per_triple = self.nn_encode(tensor)\n",
    "        nn_per_structure = torch.zeros((len(new_samples), nn_per_triple.shape[-1]), device=tensor.device)\n",
    "        nn_per_structure.index_add_(0, structure_map, nn_per_triple)\n",
    "        return nn_per_structure\n",
    "        \n",
    "    def forward(self, block, samples):\n",
    "        if self.nn_encode is None:\n",
    "            raise Exception(\"call initialize_weights first\")\n",
    "\n",
    "        outputs = self.nn_decode(self.feats(block, samples))\n",
    "        return outputs"
   ]
  },
  {
   "cell_type": "code",
   "execution_count": 207,
   "id": "ac25a569-9d2a-48c6-9f12-03225436269d",
   "metadata": {},
   "outputs": [],
   "source": [
    "class EncodeDecode(torch.nn.Module):\n",
    "    def __init__(self, layer_size=100, feat_size=32, output_size=32):\n",
    "        super().__init__()\n",
    "\n",
    "        self.nn_encode = None\n",
    "        self.nn_decode = None\n",
    "        self.feat_size = feat_size\n",
    "        self.layer_size = layer_size        \n",
    "        self.output_size= output_size        \n",
    "\n",
    "    def initialize_model_weights(self, block, seed):\n",
    "        if seed is not None:\n",
    "            torch.manual_seed(seed)\n",
    "\n",
    "        X = block\n",
    "\n",
    "        # initialize nn with zero weights ??\n",
    "        def init_zero_weights(m):\n",
    "            if isinstance(m, torch.nn.Linear):\n",
    "                m.weight.data.fill_(0)\n",
    "                m.bias.data.fill_(0)\n",
    "\n",
    "        self.nn_encode = torch.nn.Sequential(\n",
    "            \n",
    "            torch.nn.Linear(X.shape[-1], self.layer_size),\n",
    "            torch.nn.GroupNorm(4,self.layer_size),\n",
    "            torch.nn.Tanh(),\n",
    "            torch.nn.Linear(self.layer_size, self.layer_size),\n",
    "            torch.nn.GroupNorm(4,self.layer_size),\n",
    "            torch.nn.Tanh(),\n",
    "            torch.nn.Linear(self.layer_size, self.feat_size))\n",
    "        self.nn_decode = torch.nn.Sequential(\n",
    "            torch.nn.Linear(self.feat_size, self.layer_size),\n",
    "            torch.nn.GroupNorm(4,self.layer_size),\n",
    "            torch.nn.Tanh(),\n",
    "            torch.nn.Linear(self.layer_size, self.layer_size),\n",
    "            torch.nn.GroupNorm(4,self.layer_size),\n",
    "            torch.nn.Tanh(),\n",
    "            torch.nn.Linear(self.layer_size, self.output_size),            \n",
    "        )\n",
    "\n",
    "    def feats(self, block, samples):\n",
    "        tensor = block\n",
    "\n",
    "        structure_map, new_samples, _ = StructureMap(\n",
    "            samples, \"cpu\"\n",
    "        )\n",
    "        \n",
    "        nn_per_triple = self.nn_encode(tensor)\n",
    "        nn_per_structure = torch.zeros((len(new_samples), nn_per_triple.shape[-1]), device=tensor.device)\n",
    "        nn_per_structure.index_add_(0, structure_map, nn_per_triple)\n",
    "        return nn_per_structure\n",
    "        \n",
    "    def forward(self, block, samples):\n",
    "        if self.nn_encode is None:\n",
    "            raise Exception(\"call initialize_weights first\")\n",
    "\n",
    "        outputs = self.nn_decode(self.feats(block, samples))\n",
    "        return outputs"
   ]
  },
  {
   "cell_type": "code",
   "execution_count": 942,
   "id": "bde38bf5-f338-4977-a28c-c4efdd9ad2c7",
   "metadata": {},
   "outputs": [
    {
     "data": {
      "text/plain": [
       "Labels([(  0, 0, 0, 0), (  0, 0, 0, 1), (  0, 0, 0, 2), ...,\n",
       "        (319, 0, 7, 5), (319, 0, 7, 6), (319, 0, 7, 7)],\n",
       "       dtype=[('structure', '<i4'), ('center', '<i4'), ('neighbor_1', '<i4'), ('neighbor_2', '<i4')])"
      ]
     },
     "execution_count": 942,
     "metadata": {},
     "output_type": "execute_result"
    }
   ],
   "source": [
    "triplet_samples"
   ]
  },
  {
   "cell_type": "code",
   "execution_count": 208,
   "id": "dd1f9be3-6364-45fb-9028-e2610227e1a1",
   "metadata": {},
   "outputs": [],
   "source": [
    "target = feats_nu12345[:,2:12]"
   ]
  },
  {
   "cell_type": "code",
   "execution_count": 209,
   "id": "8f6dd2d5-076f-427e-9e9c-4e6e9a9256ee",
   "metadata": {},
   "outputs": [],
   "source": [
    "mymodel = EncodeDecodeLinear(24, target.shape[-1])"
   ]
  },
  {
   "cell_type": "code",
   "execution_count": 210,
   "id": "5b2eb04e-b04b-4acb-80df-7531c202bbf3",
   "metadata": {},
   "outputs": [],
   "source": [
    "mymodel = EncodeDecode(48, 24, target.shape[-1])"
   ]
  },
  {
   "cell_type": "code",
   "execution_count": 211,
   "id": "65f33b2d-c755-48a1-a8dd-1fac2659773c",
   "metadata": {},
   "outputs": [],
   "source": [
    "mymodel.initialize_model_weights(feats_n2nu1, seed=12345)"
   ]
  },
  {
   "cell_type": "code",
   "execution_count": 212,
   "id": "5227d4ca-c2c5-4645-a4b3-d66609ca7a92",
   "metadata": {},
   "outputs": [],
   "source": [
    "optimizer = torch.optim.LBFGS(\n",
    "        mymodel.parameters(),\n",
    "        lr=0.05,\n",
    "        line_search_fn=\"strong_wolfe\",\n",
    "        history_size=128,\n",
    "    )\n",
    "\n",
    "def loss_mse(predicted, actual):\n",
    "    return torch.sum((predicted.flatten() - actual.flatten()) ** 2)"
   ]
  },
  {
   "cell_type": "code",
   "execution_count": 213,
   "id": "6501673b-d0e1-4983-b855-b1191845adeb",
   "metadata": {},
   "outputs": [
    {
     "data": {
      "text/plain": [
       "54"
      ]
     },
     "execution_count": 213,
     "metadata": {},
     "output_type": "execute_result"
    }
   ],
   "source": [
    "len(frames)"
   ]
  },
  {
   "cell_type": "code",
   "execution_count": 216,
   "id": "04446ae2-02f9-477d-8bd7-384cc941d3b3",
   "metadata": {},
   "outputs": [
    {
     "name": "stdout",
     "output_type": "stream",
     "text": [
      "Beginning epoch 0\n",
      "Energy RMSE: train  0.01104988631279467 test 0.016389278189756756\n",
      "Beginning epoch 1\n",
      "Energy RMSE: train  0.010312494054110067 test 0.016060686468204924\n",
      "Beginning epoch 2\n",
      "Energy RMSE: train  0.009749631669514803 test 0.016544209242396316\n",
      "Beginning epoch 3\n",
      "Energy RMSE: train  0.00910412446044171 test 0.01631133909957941\n",
      "Beginning epoch 4\n",
      "Energy RMSE: train  0.00872279832592237 test 0.014952733761256855\n",
      "Beginning epoch 5\n",
      "Energy RMSE: train  0.007781426691978518 test 0.014305028012641953\n",
      "Beginning epoch 6\n",
      "Energy RMSE: train  0.007653140392227123 test 0.014406141407776532\n",
      "Beginning epoch 7\n",
      "Energy RMSE: train  0.00720536298618866 test 0.013598337116000994\n",
      "Beginning epoch 8\n",
      "Energy RMSE: train  0.007027470489281074 test 0.013387470185793393\n",
      "Beginning epoch 9\n",
      "Energy RMSE: train  0.006844476495201547 test 0.012656003334562006\n",
      "Beginning epoch 10\n",
      "Energy RMSE: train  0.006548069657263745 test 0.012348970681283338\n",
      "Beginning epoch 11\n",
      "Energy RMSE: train  0.006499219717756597 test 0.012258141145469746\n",
      "Beginning epoch 12\n",
      "Energy RMSE: train  0.006284724183853485 test 0.012072461014351233\n",
      "Beginning epoch 13\n",
      "Energy RMSE: train  0.006188149012936168 test 0.01249102094625439\n",
      "Beginning epoch 14\n",
      "Energy RMSE: train  0.006034657894022523 test 0.012723798928890404\n",
      "Beginning epoch 15\n",
      "Energy RMSE: train  0.005966704078240749 test 0.012919549165276975\n",
      "Beginning epoch 16\n",
      "Energy RMSE: train  0.005844322675701011 test 0.01288292646153107\n",
      "Beginning epoch 17\n",
      "Energy RMSE: train  0.005795216173474591 test 0.01316439318067487\n",
      "Beginning epoch 18\n",
      "Energy RMSE: train  0.005661839078280728 test 0.013046683416262908\n",
      "Beginning epoch 19\n",
      "Energy RMSE: train  0.005550325061927129 test 0.013304014854528975\n",
      "Beginning epoch 20\n",
      "Energy RMSE: train  0.005446743744601349 test 0.013637675991610395\n",
      "Beginning epoch 21\n",
      "Energy RMSE: train  0.005270099465159143 test 0.014114293146321373\n",
      "Beginning epoch 22\n",
      "Energy RMSE: train  0.005239110222677213 test 0.014504149717892361\n",
      "Beginning epoch 23\n",
      "Energy RMSE: train  0.005124893404671489 test 0.01461909956064945\n",
      "Beginning epoch 24\n",
      "Energy RMSE: train  0.004968356956682422 test 0.014952100987347864\n",
      "Beginning epoch 25\n",
      "Energy RMSE: train  0.004885125588930974 test 0.014768545932977236\n",
      "Beginning epoch 26\n",
      "Energy RMSE: train  0.004785677813427331 test 0.01579756047210988\n",
      "Beginning epoch 27\n",
      "Energy RMSE: train  0.004719905007397607 test 0.01625905912904229\n",
      "Beginning epoch 28\n",
      "Energy RMSE: train  0.004667230466503029 test 0.016093669885343328\n",
      "Beginning epoch 29\n",
      "Energy RMSE: train  0.004626039485581274 test 0.016415668859827613\n",
      "Beginning epoch 30\n",
      "Energy RMSE: train  0.004589527804208297 test 0.01695541623869936\n",
      "Beginning epoch 31\n",
      "Energy RMSE: train  0.004479339253983953 test 0.016755371999721966\n",
      "Beginning epoch 32\n",
      "Energy RMSE: train  0.00445555547409645 test 0.016729794364314397\n",
      "Beginning epoch 33\n",
      "Energy RMSE: train  0.00437706063580395 test 0.016887945413661627\n",
      "Beginning epoch 34\n",
      "Energy RMSE: train  0.0043416118144001 test 0.017456681075497943\n",
      "Beginning epoch 35\n",
      "Energy RMSE: train  0.004263018982262569 test 0.01749651374956756\n",
      "Beginning epoch 36\n",
      "Energy RMSE: train  0.0042343396085029 test 0.01803402361667118\n",
      "Beginning epoch 37\n",
      "Energy RMSE: train  0.004162147730701437 test 0.018522994738998825\n",
      "Beginning epoch 38\n",
      "Energy RMSE: train  0.004146201025769104 test 0.01841727858070326\n",
      "Beginning epoch 39\n",
      "Energy RMSE: train  0.004118475973212811 test 0.01886957865832714\n",
      "Beginning epoch 40\n",
      "Energy RMSE: train  0.004055220014585747 test 0.01911616559917101\n",
      "Beginning epoch 41\n",
      "Energy RMSE: train  0.004041578375025158 test 0.019326608686228174\n",
      "Beginning epoch 42\n",
      "Energy RMSE: train  0.004008263791941445 test 0.01937453425877534\n",
      "Beginning epoch 43\n",
      "Energy RMSE: train  0.003962745934306757 test 0.019226587940999997\n",
      "Beginning epoch 44\n",
      "Energy RMSE: train  0.0039486886075012564 test 0.019818994414990625\n",
      "Beginning epoch 45\n",
      "Energy RMSE: train  0.0039049126786768608 test 0.019907313233605207\n",
      "Beginning epoch 46\n",
      "Energy RMSE: train  0.0038751113259208035 test 0.01953791813109889\n",
      "Beginning epoch 47\n",
      "Energy RMSE: train  0.0038486208242690364 test 0.019645588807049908\n",
      "Beginning epoch 48\n",
      "Energy RMSE: train  0.0037829655211770504 test 0.020191686761341074\n",
      "Beginning epoch 49\n",
      "Energy RMSE: train  0.0037482814726219017 test 0.020316771103995348\n",
      "Beginning epoch 50\n",
      "Energy RMSE: train  0.0037219136211551094 test 0.02010044907348761\n",
      "Beginning epoch 51\n",
      "Energy RMSE: train  0.0036973085697710683 test 0.020122254750619222\n",
      "Beginning epoch 52\n",
      "Energy RMSE: train  0.003672859325551241 test 0.01997384791690482\n",
      "Beginning epoch 53\n",
      "Energy RMSE: train  0.0036082111246726056 test 0.019944363067710982\n",
      "Beginning epoch 54\n",
      "Energy RMSE: train  0.0035756189811615704 test 0.019759690787849934\n",
      "Beginning epoch 55\n",
      "Energy RMSE: train  0.0035631096749035064 test 0.020030990329150324\n",
      "Beginning epoch 56\n",
      "Energy RMSE: train  0.003424590312667722 test 0.020437357485235397\n",
      "Beginning epoch 57\n",
      "Energy RMSE: train  0.0033781165363610173 test 0.020805365780519152\n",
      "Beginning epoch 58\n",
      "Energy RMSE: train  0.0033369525283875336 test 0.021180565055169555\n",
      "Beginning epoch 59\n",
      "Energy RMSE: train  0.0032155730515192283 test 0.020935536666584573\n",
      "Beginning epoch 60\n",
      "Energy RMSE: train  0.003153652888741337 test 0.021221045719009925\n",
      "Beginning epoch 61\n",
      "Energy RMSE: train  0.0031006820210100726 test 0.021328893901113383\n",
      "Beginning epoch 62\n",
      "Energy RMSE: train  0.0030526398239894303 test 0.02121292853503307\n",
      "Beginning epoch 63\n",
      "Energy RMSE: train  0.002988490202395168 test 0.020856544035333085\n",
      "Beginning epoch 64\n",
      "Energy RMSE: train  0.0029028942032216466 test 0.0205984808469481\n",
      "Beginning epoch 65\n",
      "Energy RMSE: train  0.0028208541155197147 test 0.02093594979020482\n",
      "Beginning epoch 66\n",
      "Energy RMSE: train  0.0027877520137732066 test 0.020766278942286432\n",
      "Beginning epoch 67\n",
      "Energy RMSE: train  0.002731733731197581 test 0.020851810273960398\n",
      "Beginning epoch 68\n",
      "Energy RMSE: train  0.002679414288754632 test 0.02102390197674289\n",
      "Beginning epoch 69\n",
      "Energy RMSE: train  0.0026442297132323288 test 0.02146093210870012\n",
      "Beginning epoch 70\n",
      "Energy RMSE: train  0.002611392578799417 test 0.021514440843549833\n",
      "Beginning epoch 71\n",
      "Energy RMSE: train  0.0025601868160886406 test 0.02105404014938003\n",
      "Beginning epoch 72\n",
      "Energy RMSE: train  0.002419217893853385 test 0.021214768249882957\n",
      "Beginning epoch 73\n",
      "Energy RMSE: train  0.002386046267218189 test 0.021183123142167182\n",
      "Beginning epoch 74\n",
      "Energy RMSE: train  0.0023580785897051805 test 0.02136176211148834\n",
      "Beginning epoch 75\n",
      "Energy RMSE: train  0.0023339262044131757 test 0.021337754442815125\n",
      "Beginning epoch 76\n",
      "Energy RMSE: train  0.0022932790838920795 test 0.02115621846996263\n",
      "Beginning epoch 77\n",
      "Energy RMSE: train  0.0022536338606418543 test 0.021137321479398747\n",
      "Beginning epoch 78\n",
      "Energy RMSE: train  0.0022307592837007137 test 0.021137988181541813\n",
      "Beginning epoch 79\n",
      "Energy RMSE: train  0.002185455024511285 test 0.0213225711063073\n",
      "Beginning epoch 80\n",
      "Energy RMSE: train  0.002156861972333132 test 0.021096759591227934\n",
      "Beginning epoch 81\n",
      "Energy RMSE: train  0.0021214817438729825 test 0.020991469354977657\n",
      "Beginning epoch 82\n",
      "Energy RMSE: train  0.0021074875536072728 test 0.021086249493054387\n",
      "Beginning epoch 83\n",
      "Energy RMSE: train  0.002087773020894457 test 0.02075467173755051\n",
      "Beginning epoch 84\n",
      "Energy RMSE: train  0.0020419966352458324 test 0.020751485251170352\n",
      "Beginning epoch 85\n",
      "Energy RMSE: train  0.00201724107455535 test 0.020827985667944138\n",
      "Beginning epoch 86\n",
      "Energy RMSE: train  0.0019987122513154187 test 0.02065185491528663\n",
      "Beginning epoch 87\n",
      "Energy RMSE: train  0.001970210665656857 test 0.021013058130979975\n",
      "Beginning epoch 88\n",
      "Energy RMSE: train  0.001944354233444795 test 0.021335282320572992\n",
      "Beginning epoch 89\n",
      "Energy RMSE: train  0.0019035411484733388 test 0.021523785801871642\n",
      "Beginning epoch 90\n",
      "Energy RMSE: train  0.0018908507862891019 test 0.02133311614395138\n",
      "Beginning epoch 91\n",
      "Energy RMSE: train  0.001881347996354024 test 0.02114541403295285\n",
      "Beginning epoch 92\n",
      "Energy RMSE: train  0.0018076528816767085 test 0.021022451699887656\n",
      "Beginning epoch 93\n",
      "Energy RMSE: train  0.0017782615349941741 test 0.021041012909017907\n",
      "Beginning epoch 94\n",
      "Energy RMSE: train  0.0017682305798351744 test 0.021057840133900555\n",
      "Beginning epoch 95\n",
      "Energy RMSE: train  0.0017621311212874366 test 0.02107623008543366\n",
      "Beginning epoch 96\n",
      "Energy RMSE: train  0.0017398546701478824 test 0.021155067133327182\n",
      "Beginning epoch 97\n",
      "Energy RMSE: train  0.0017235389368769347 test 0.021011599974999327\n",
      "Beginning epoch 98\n",
      "Energy RMSE: train  0.001716386842353537 test 0.0210246294559029\n",
      "Beginning epoch 99\n",
      "Energy RMSE: train  0.001705461983196901 test 0.02119211029763709\n"
     ]
    }
   ],
   "source": [
    "n_epochs = 100\n",
    "ntrain = 30\n",
    "ntriples = 64\n",
    "for epoch in range(0, n_epochs):\n",
    "    print(\"Beginning epoch\", epoch)\n",
    "    \n",
    "    def single_step():\n",
    "        # global composition, radial_spectrum, spherical_expansions, energies\n",
    "        optimizer.zero_grad()\n",
    "        loss = torch.zeros(size=(1,), device=device)\n",
    "        \n",
    "        predicted = mymodel(feats_n2nu1[:ntrain*ntriples], triplet_samples[\"structure\"][:ntrain*ntriples])\n",
    "        loss += loss_mse(predicted, target[:ntrain])\n",
    "        \n",
    "        loss.backward(retain_graph=False)\n",
    "        return loss\n",
    "\n",
    "    loss = optimizer.step(single_step)\n",
    "    predicted = mymodel(feats_n2nu1[ntrain*ntriples:], triplet_samples[\"structure\"][ntrain*ntriples:])\n",
    "    \n",
    "    print(\"Energy RMSE: train \", np.sqrt(loss.detach().numpy().flatten()[0]/ntrain),\n",
    "         \"test\", np.sqrt(loss_mse(predicted, target[ntrain:]).detach().numpy().flatten()[0]/ (len(frames)-ntrain)) )"
   ]
  },
  {
   "cell_type": "code",
   "execution_count": 217,
   "id": "3b471c16-3869-4415-8e1b-77057ba8bff9",
   "metadata": {},
   "outputs": [],
   "source": [
    "predicted = mymodel(feats_n2nu1, triplet_samples[\"structure\"])\n",
    "feats = mymodel.feats(feats_n2nu1, triplet_samples[\"structure\"])"
   ]
  },
  {
   "cell_type": "code",
   "execution_count": 218,
   "id": "e039a164-536f-47c3-b798-77104de35607",
   "metadata": {},
   "outputs": [
    {
     "data": {
      "text/plain": [
       "[<matplotlib.lines.Line2D at 0x7f5b381d6b80>]"
      ]
     },
     "execution_count": 218,
     "metadata": {},
     "output_type": "execute_result"
    },
    {
     "data": {
      "image/png": "[encoded data removed]",
      "text/plain": [
       "<Figure size 432x288 with 1 Axes>"
      ]
     },
     "metadata": {
      "needs_background": "light"
     },
     "output_type": "display_data"
    }
   ],
   "source": [
    "plt.plot(feats[30].detach()-feats[31].detach())"
   ]
  },
  {
   "cell_type": "code",
   "execution_count": 219,
   "id": "f9e39974-d8d0-49bc-8ceb-be43a0887f84",
   "metadata": {},
   "outputs": [
    {
     "name": "stdout",
     "output_type": "stream",
     "text": [
      "tensor(8)\n"
     ]
    },
    {
     "data": {
      "image/png": "[encoded data removed]",
      "text/plain": [
       "<Figure size 432x288 with 1 Axes>"
      ]
     },
     "metadata": {
      "needs_background": "light"
     },
     "output_type": "display_data"
    }
   ],
   "source": [
    "plt.plot(np.sqrt(((target[::2]-target[1::2])**2).sum(axis=1)))\n",
    "print(np.sqrt(((target[::2]-target[1::2])**2).sum(axis=1)).argmax())"
   ]
  },
  {
   "cell_type": "code",
   "execution_count": 221,
   "id": "58946579-3a8f-4bd8-99ec-0a0878d5eec7",
   "metadata": {},
   "outputs": [
    {
     "data": {
      "text/plain": [
       "[<matplotlib.lines.Line2D at 0x7f5b3818cf10>]"
      ]
     },
     "execution_count": 221,
     "metadata": {},
     "output_type": "execute_result"
    },
    {
     "data": {
      "image/png": "[encoded data removed]",
      "text/plain": [
       "<Figure size 432x288 with 1 Axes>"
      ]
     },
     "metadata": {
      "needs_background": "light"
     },
     "output_type": "display_data"
    }
   ],
   "source": [
    "iframe = 18\n",
    "plt.plot(predicted[iframe].detach(),'b--')\n",
    "plt.plot(target[iframe].detach(),'b.')\n",
    "plt.plot(predicted[iframe+1].detach(), 'r--')\n",
    "plt.plot(target[iframe+1].detach(), 'r.')"
   ]
  },
  {
   "cell_type": "code",
   "execution_count": 222,
   "id": "cb466e6d-75a8-48ed-b19e-e4ede5468a1b",
   "metadata": {},
   "outputs": [
    {
     "data": {
      "text/plain": [
       "[<matplotlib.lines.Line2D at 0x7f5b380c3ac0>]"
      ]
     },
     "execution_count": 222,
     "metadata": {},
     "output_type": "execute_result"
    },
    {
     "data": {
      "image/png": "[encoded data removed]",
      "text/plain": [
       "<Figure size 432x288 with 1 Axes>"
      ]
     },
     "metadata": {
      "needs_background": "light"
     },
     "output_type": "display_data"
    }
   ],
   "source": [
    "plt.plot((predicted[iframe].detach()-predicted[iframe+1].detach()),'b.')\n",
    "plt.plot(target[iframe].detach()-target[iframe+1].detach(), 'r-')"
   ]
  },
  {
   "cell_type": "code",
   "execution_count": 223,
   "id": "642f128f-2f76-4473-a251-ec813f97e3d3",
   "metadata": {},
   "outputs": [
    {
     "data": {
      "text/plain": [
       "[<matplotlib.lines.Line2D at 0x7f5b38073160>]"
      ]
     },
     "execution_count": 223,
     "metadata": {},
     "output_type": "execute_result"
    },
    {
     "data": {
      "image/png": "[encoded data removed]",
      "text/plain": [
       "<Figure size 432x288 with 1 Axes>"
      ]
     },
     "metadata": {
      "needs_background": "light"
     },
     "output_type": "display_data"
    }
   ],
   "source": [
    "plt.plot((feats[iframe].detach()-feats[iframe+1].detach()),'b.')"
   ]
  },
  {
   "cell_type": "code",
   "execution_count": null,
   "id": "39d8d46e-c96a-459b-a9e6-b5d84b0c0b3d",
   "metadata": {},
   "outputs": [],
   "source": []
  },
  {
   "cell_type": "code",
   "execution_count": null,
   "id": "bfdbfee4-3e3b-4d0e-ad7b-4ecc7f9720b8",
   "metadata": {},
   "outputs": [],
   "source": []
  }
 ],
 "metadata": {
  "kernelspec": {
   "display_name": "Python 3",
   "language": "python",
   "name": "python3"
  },
  "language_info": {
   "codemirror_mode": {
    "name": "ipython",
    "version": 3
   },
   "file_extension": ".py",
   "mimetype": "text/x-python",
   "name": "python",
   "nbconvert_exporter": "python",
   "pygments_lexer": "ipython3",
   "version": "3.8.10"
  },
  "toc": {
   "base_numbering": 1,
   "nav_menu": {},
   "number_sections": true,
   "sideBar": true,
   "skip_h1_title": false,
   "title_cell": "Table of Contents",
   "title_sidebar": "Contents",
   "toc_cell": false,
   "toc_position": {},
   "toc_section_display": true,
   "toc_window_display": false
  }
 },
 "nbformat": 4,
 "nbformat_minor": 5
}
