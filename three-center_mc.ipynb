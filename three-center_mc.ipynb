{
 "cells": [
  {
   "cell_type": "code",
   "execution_count": 1,
   "id": "d2596616",
   "metadata": {},
   "outputs": [],
   "source": [
    "%load_ext autoreload\n",
    "%autoreload 2\n",
    "%load_ext line_profiler"
   ]
  },
  {
   "cell_type": "code",
   "execution_count": 2,
   "id": "341b09d0",
   "metadata": {},
   "outputs": [],
   "source": [
    "import numpy as np\n",
    "import scipy as sp\n",
    "import json\n",
    "import torch\n",
    "torch.set_default_dtype(torch.float64)\n",
    "device=\"cpu\"\n",
    "from equistore import Labels, TensorBlock, TensorMap\n",
    "from utils.builder import TensorBuilder\n",
    "import ase.io\n",
    "from itertools import product\n",
    "from utils.acdc_mini import acdc_standardize_keys, cg_increment, cg_combine, _remove_suffix\n",
    "from utils.clebsh_gordan import ClebschGordanReal\n",
    "from utils.hamiltonians import hamiltonian_features\n",
    "import matplotlib.pyplot as plt\n",
    "\n",
    "from utils.librascal import  RascalSphericalExpansion, RascalPairExpansion\n",
    "from rascal.representations import SphericalExpansion\n",
    "import copy\n",
    "from utils.model_hamiltonian import *\n",
    "from itertools import product\n",
    "import tqdm.notebook as tqdm"
   ]
  },
  {
   "cell_type": "code",
   "execution_count": 3,
   "id": "337b1f0f",
   "metadata": {},
   "outputs": [],
   "source": [
    "from utils.mp_utils import * "
   ]
  },
  {
   "cell_type": "code",
   "execution_count": 46,
   "id": "dd3a650f",
   "metadata": {},
   "outputs": [],
   "source": [
    "frames1 = ase.io.read(\"./data/random-methane-10k.extxyz\",\":100\")\n",
    "# frames2 = ase.io.read(\"mp_equistore/data/hamiltonian/ethanol-hamiltonian/ethanol_4500.xyz\",\":1\")\n",
    "# frames3= [ase.build.molecule('NH3')]\n",
    "frames = frames1#+frames2+frames3#+frames2\n",
    "for f in frames:\n",
    "    f.cell = [100,100,100]\n",
    "    f.positions += 50\n",
    "energies = torch.tensor([f.info['energy'] for f in frames])\n",
    "energies -= energies.mean()"
   ]
  },
  {
   "cell_type": "code",
   "execution_count": 47,
   "id": "49eb15f2",
   "metadata": {},
   "outputs": [],
   "source": [
    "rascal_hypers = {\n",
    "    \"interaction_cutoff\": 3.5,\n",
    "    \"cutoff_smooth_width\": 0.3,\n",
    "    \"max_radial\": 6,\n",
    "    \"max_angular\": 4,\n",
    "    \"gaussian_sigma_type\": \"Constant\",\n",
    "    \"compute_gradients\":  False,\n",
    "#     \"expansion_by_species_method\": \"user defined\",\n",
    "#     \"global_species\": [1,6,8,7]\n",
    "    \n",
    "}\n",
    "spex = RascalSphericalExpansion(rascal_hypers)\n",
    "rhoi = spex.compute(frames)\n",
    "rho1i = acdc_standardize_keys(rhoi)\n",
    "rho1i.keys_to_properties(['species_neighbor'])"
   ]
  },
  {
   "cell_type": "code",
   "execution_count": 48,
   "id": "fef55fd3",
   "metadata": {},
   "outputs": [],
   "source": [
    "cg = ClebschGordanReal(5)"
   ]
  },
  {
   "cell_type": "code",
   "execution_count": 49,
   "id": "f9393b35",
   "metadata": {},
   "outputs": [],
   "source": [
    "gij_hypers = {\n",
    "    \"interaction_cutoff\": 3.5,\n",
    "    \"cutoff_smooth_width\": 0.3,\n",
    "    \"max_radial\": 4,\n",
    "    \"max_angular\": 2,\n",
    "    \"gaussian_sigma_type\": \"Constant\",\n",
    "    \"compute_gradients\":  False,\n",
    "#     \"expansion_by_species_method\": \"user defined\",\n",
    "#     \"global_species\": [1,6,8,7]\n",
    "}    \n",
    "pairs = RascalPairExpansion(gij_hypers)\n",
    "gij = pairs.compute(frames)"
   ]
  },
  {
   "cell_type": "code",
   "execution_count": 50,
   "id": "be6179e1",
   "metadata": {},
   "outputs": [],
   "source": [
    "gij =  acdc_standardize_keys(gij)"
   ]
  },
  {
   "cell_type": "code",
   "execution_count": 51,
   "id": "03e4745f",
   "metadata": {},
   "outputs": [],
   "source": [
    "rhoii1i2_nu0 = cg_combine(gij, gij, clebsch_gordan=cg, other_keys_match=['species_center'], lcut=4)"
   ]
  },
  {
   "cell_type": "code",
   "execution_count": 52,
   "id": "2e970344",
   "metadata": {},
   "outputs": [
    {
     "data": {
      "text/plain": [
       "TensorMap with 64 blocks\n",
       "keys: ['order_nu' 'inversion_sigma' 'spherical_harmonics_l' 'species_center' 'species_neighbor_a' 'species_neighbor_b']\n",
       "           2             1                    0                   1                 1                   1\n",
       "           2             1                    0                   1                 1                   6\n",
       "           2             1                    1                   1                 1                   1\n",
       "        ...\n",
       "           2             1                    4                   6                 6                   1\n",
       "           2            -1                    3                   6                 6                   6\n",
       "           2             1                    4                   6                 6                   6"
      ]
     },
     "execution_count": 52,
     "metadata": {},
     "output_type": "execute_result"
    }
   ],
   "source": [
    "rhoii1i2_nu0"
   ]
  },
  {
   "cell_type": "code",
   "execution_count": 53,
   "id": "10298778",
   "metadata": {},
   "outputs": [],
   "source": [
    "rhoii1i2_nu1 =  cg_combine(rho1i, rhoii1i2_nu0, clebsch_gordan=cg, other_keys_match = ['species_center'], lcut=0, filter_sigma=[1])"
   ]
  },
  {
   "cell_type": "code",
   "execution_count": 54,
   "id": "4f8b9017-9a24-4fd1-b500-9e5ba4adc24f",
   "metadata": {},
   "outputs": [
    {
     "data": {
      "text/plain": [
       "Labels([(3, 1, 0, 1, 1, 1), (3, 1, 0, 1, 1, 6), (3, 1, 0, 1, 6, 1),\n",
       "        (3, 1, 0, 1, 6, 6), (3, 1, 0, 6, 1, 1), (3, 1, 0, 6, 1, 6),\n",
       "        (3, 1, 0, 6, 6, 1), (3, 1, 0, 6, 6, 6)],\n",
       "       dtype=[('order_nu', '<i4'), ('inversion_sigma', '<i4'), ('spherical_harmonics_l', '<i4'), ('species_center', '<i4'), ('species_neighbor_a', '<i4'), ('species_neighbor_b', '<i4')])"
      ]
     },
     "execution_count": 54,
     "metadata": {},
     "output_type": "execute_result"
    }
   ],
   "source": [
    "rhoii1i2_nu1.keys"
   ]
  },
  {
   "cell_type": "code",
   "execution_count": 55,
   "id": "af7a11c3-6ff8-4529-b524-57dcd67a71c4",
   "metadata": {},
   "outputs": [
    {
     "data": {
      "text/plain": [
       "[TensorBlock\n",
       "     samples: ['structure', 'center', 'neighbor_1', 'neighbor_2']\n",
       "     component: ['spherical_harmonics_m']\n",
       "     properties: ['species_neighbor_a', 'n_1_a', 'k_3', 'n_1_a_b', 'k_2_b', 'n_1_b_b', 'l_2_b', 'l_3']\n",
       "     gradients: no,\n",
       " TensorBlock\n",
       "     samples: ['structure', 'center', 'neighbor_1', 'neighbor_2']\n",
       "     component: ['spherical_harmonics_m']\n",
       "     properties: ['species_neighbor_a', 'n_1_a', 'k_3', 'n_1_a_b', 'k_2_b', 'n_1_b_b', 'l_2_b', 'l_3']\n",
       "     gradients: no,\n",
       " TensorBlock\n",
       "     samples: ['structure', 'center', 'neighbor_1', 'neighbor_2']\n",
       "     component: ['spherical_harmonics_m']\n",
       "     properties: ['species_neighbor_a', 'n_1_a', 'k_3', 'n_1_a_b', 'k_2_b', 'n_1_b_b', 'l_2_b', 'l_3']\n",
       "     gradients: no,\n",
       " TensorBlock\n",
       "     samples: ['structure', 'center', 'neighbor_1', 'neighbor_2']\n",
       "     component: ['spherical_harmonics_m']\n",
       "     properties: ['species_neighbor_a', 'n_1_a', 'k_3', 'n_1_a_b', 'k_2_b', 'n_1_b_b', 'l_2_b', 'l_3']\n",
       "     gradients: no]"
      ]
     },
     "execution_count": 55,
     "metadata": {},
     "output_type": "execute_result"
    }
   ],
   "source": [
    "rhoii1i2_nu1.blocks(spherical_harmonics_l=0, inversion_sigma=1, species_center=1)"
   ]
  },
  {
   "cell_type": "code",
   "execution_count": 56,
   "id": "d14ee8e7-4c7d-400c-9a65-a98e5611e3a4",
   "metadata": {},
   "outputs": [
    {
     "data": {
      "text/plain": [
       "2688"
      ]
     },
     "execution_count": 56,
     "metadata": {},
     "output_type": "execute_result"
    }
   ],
   "source": [
    "len(rhoii1i2_nu1.block(0).properties)"
   ]
  },
  {
   "cell_type": "code",
   "execution_count": 57,
   "id": "c9309676-972f-45b8-911a-4ab67a83862a",
   "metadata": {},
   "outputs": [
    {
     "data": {
      "application/vnd.jupyter.widget-view+json": {
       "model_id": "4a1aab83655a4cc2855606dba9ba934b",
       "version_major": 2,
       "version_minor": 0
      },
      "text/plain": [
       "HBox(children=(FloatProgress(value=0.0, max=8.0), HTML(value='')))"
      ]
     },
     "metadata": {},
     "output_type": "display_data"
    },
    {
     "name": "stdout",
     "output_type": "stream",
     "text": [
      "\n"
     ]
    }
   ],
   "source": [
    "cov = np.zeros((len(rhoii1i2_nu1.block(0).properties), len(rhoii1i2_nu1.block(0).properties)))\n",
    "for k, b in tqdm.tqdm(rhoii1i2_nu1):\n",
    "    cov += b.values.squeeze().T@b.values.squeeze()"
   ]
  },
  {
   "cell_type": "code",
   "execution_count": 58,
   "id": "864ebb29-efdc-4231-8068-d316d84a6154",
   "metadata": {},
   "outputs": [],
   "source": [
    "eva, eve = np.linalg.eigh(cov)"
   ]
  },
  {
   "cell_type": "code",
   "execution_count": 59,
   "id": "2f5a1835-76f1-4928-95c6-88c591d526e6",
   "metadata": {},
   "outputs": [],
   "source": [
    "eva = eva[::-1]\n",
    "eve = eve[:, ::-1]"
   ]
  },
  {
   "cell_type": "code",
   "execution_count": 60,
   "id": "6ce1a010-68bb-4248-84c3-3d4f444c2398",
   "metadata": {},
   "outputs": [
    {
     "data": {
      "text/plain": [
       "[<matplotlib.lines.Line2D at 0x7f7025bdb0d0>]"
      ]
     },
     "execution_count": 60,
     "metadata": {},
     "output_type": "execute_result"
    },
    {
     "data": {
      "image/png": "[encoded data removed]",
      "text/plain": [
       "<Figure size 432x288 with 1 Axes>"
      ]
     },
     "metadata": {
      "needs_background": "light"
     },
     "output_type": "display_data"
    }
   ],
   "source": [
    "plt.semilogy(eva[:200])"
   ]
  },
  {
   "cell_type": "code",
   "execution_count": 61,
   "id": "1ba29c23-da18-4d6a-8b0e-1491268db39f",
   "metadata": {},
   "outputs": [],
   "source": [
    "def StructureMap(samples_structure, device=\"cpu\"):\n",
    "    unique_structures, unique_structures_idx = np.unique(\n",
    "        samples_structure, return_index=True\n",
    "    )\n",
    "    new_samples = samples_structure[np.sort(unique_structures_idx)]\n",
    "    # we need a list keeping track of where each atomic contribution goes\n",
    "    # (e.g. if structure ids are [3,3,3,1,1,1,6,6,6] that will be stored as\n",
    "    # the unique structures [3, 1, 6], structure_map will be\n",
    "    # [0,0,0,1,1,1,2,2,2]\n",
    "    replace_rule = dict(zip(unique_structures, range(len(unique_structures))))\n",
    "    structure_map = torch.tensor(\n",
    "        [replace_rule[i] for i in samples_structure],\n",
    "        dtype=torch.long,\n",
    "        device=device,\n",
    "    )\n",
    "    return structure_map, new_samples, replace_rule\n",
    "\n",
    "def block_compress(block, compress):\n",
    "    samples = (\n",
    "        block.samples.view(dtype=np.int32).reshape(-1, len(block.samples.names)).copy()\n",
    "    )\n",
    "    samples = Labels(block.samples.names, samples)\n",
    "\n",
    "    new_block = TensorBlock(\n",
    "        values=torch.tensor(block.values@compress),\n",
    "        samples=samples,\n",
    "        components=block.components,\n",
    "        properties=Labels([\"pca\"], np.arange(0, compress.shape[1], dtype=np.int32)[:,np.newaxis]),\n",
    "    )\n",
    "\n",
    "    for parameter in block.gradients_list():\n",
    "        gradient = block.gradient(parameter)\n",
    "\n",
    "        gradient_samples = (\n",
    "            gradient.samples.view(dtype=np.int32)\n",
    "            .reshape(-1, len(gradient.samples.names))\n",
    "            .copy()\n",
    "        )\n",
    "        if gradient.samples.names == (\"sample\", \"structure\", \"atom\"):\n",
    "            gradient_samples[:, 1] = structure_i\n",
    "        gradient_samples = Labels(gradient.samples.names, gradient_samples)\n",
    "\n",
    "        new_block.add_gradient(\n",
    "            parameter=parameter, # TODO: compress also the gradient\n",
    "            data=torch.tensor(gradient.data),\n",
    "            samples=gradient_samples,\n",
    "            components=gradient.components,\n",
    "        )\n",
    "\n",
    "    return new_block\n",
    "\n",
    "\n",
    "def move_and_compress(tensor_map, compress):\n",
    "    blocks = []\n",
    "    for _, block in tensor_map:\n",
    "        blocks.append(block_compress(block, compress))\n",
    "\n",
    "    return TensorMap(tensor_map.keys, blocks)\n"
   ]
  },
  {
   "cell_type": "code",
   "execution_count": 62,
   "id": "ac25a569-9d2a-48c6-9f12-03225436269d",
   "metadata": {},
   "outputs": [],
   "source": [
    "class NNModel(torch.nn.Module):\n",
    "    def __init__(self, layer_size=100):\n",
    "        super().__init__()\n",
    "\n",
    "        self.nn = None\n",
    "        self.layer_size = layer_size\n",
    "\n",
    "    def initialize_model_weights(self, block, seed):\n",
    "        if seed is not None:\n",
    "            torch.manual_seed(seed)\n",
    "\n",
    "        X = block.values\n",
    "\n",
    "        # initialize nn with zero weights ??\n",
    "        def init_zero_weights(m):\n",
    "            if isinstance(m, torch.nn.Linear):\n",
    "                m.weight.data.fill_(0)\n",
    "                m.bias.data.fill_(0)\n",
    "\n",
    "        self.nn = torch.nn.Sequential(\n",
    "            torch.nn.Linear(X.shape[-1], self.layer_size),\n",
    "            torch.nn.Tanh(),\n",
    "            torch.nn.Linear(self.layer_size, self.layer_size),\n",
    "            torch.nn.Tanh(),\n",
    "            torch.nn.Linear(self.layer_size, 1),\n",
    "        )\n",
    "\n",
    "    def forward(self, block):\n",
    "        if self.nn is None:\n",
    "            raise Exception(\"call initialize_weights first\")\n",
    "\n",
    "        tensor = block.values.squeeze()\n",
    "\n",
    "        structure_map, new_samples, _ = StructureMap(\n",
    "            block.samples[\"structure\"], tensor.device\n",
    "        )\n",
    "        \n",
    "        nn_per_triple = self.nn(tensor)\n",
    "        nn_per_structure = torch.zeros((len(new_samples), 1), device=tensor.device)\n",
    "        nn_per_structure.index_add_(0, structure_map, nn_per_triple)\n",
    "        energies = nn_per_structure\n",
    "        return energies"
   ]
  },
  {
   "cell_type": "code",
   "execution_count": 63,
   "id": "c2d4061a-1ed2-464d-9e01-1496aa3a8fa7",
   "metadata": {},
   "outputs": [],
   "source": [
    "class NNTriple(torch.nn.ModuleDict):\n",
    "    \n",
    "    def __init__(self, species, layer_size=100):\n",
    "        super().__init__()\n",
    "\n",
    "        for a,b,c in product(species, species, species):\n",
    "            self[str((a,b,c))] = NNModel(layer_size)            \n",
    "    \n",
    "    def initialize_model_weights(self, descriptor, seed):\n",
    "        for (_,_,_,a,b,c), block in descriptor:\n",
    "            self[str((a,b,c))].initialize_model_weights(block, seed)\n",
    "            \n",
    "    def forward(self, descriptor):\n",
    "        first = True\n",
    "        for (_,_,_,a,b,c), block in descriptor:\n",
    "            if first:\n",
    "                energy = self[str((a,b,c))].forward(block)\n",
    "            else:\n",
    "                energy += self[str((a,b,c))].forward(block)\n",
    "        return energy\n",
    "        "
   ]
  },
  {
   "cell_type": "code",
   "execution_count": 64,
   "id": "57c8f499-09a2-4b5a-9cad-1fb3b0a32ec7",
   "metadata": {},
   "outputs": [],
   "source": [
    "rhoii1i2_nu1_torch = move_and_compress(rhoii1i2_nu1, 1e7*eve[:,:200]) # also makes these sizable"
   ]
  },
  {
   "cell_type": "code",
   "execution_count": 65,
   "id": "088face4-6989-4676-9fe1-015a3e21cc97",
   "metadata": {},
   "outputs": [],
   "source": [
    "mymodel = NNTriple([1,6])"
   ]
  },
  {
   "cell_type": "code",
   "execution_count": 66,
   "id": "65f33b2d-c755-48a1-a8dd-1fac2659773c",
   "metadata": {},
   "outputs": [],
   "source": [
    "mymodel.initialize_model_weights(rhoii1i2_nu1_torch, seed=12345)"
   ]
  },
  {
   "cell_type": "code",
   "execution_count": 67,
   "id": "1ffadcca-b130-47df-8c72-70afc52b0479",
   "metadata": {},
   "outputs": [
    {
     "data": {
      "text/plain": [
       "tensor([[-0.0504],\n",
       "        [-0.0458],\n",
       "        [-0.1045],\n",
       "        [-0.0979],\n",
       "        [-0.1063],\n",
       "        [-0.1254],\n",
       "        [-0.0271],\n",
       "        [-0.0812],\n",
       "        [-0.0844],\n",
       "        [-0.0849],\n",
       "        [-0.0923],\n",
       "        [-0.0785],\n",
       "        [-0.1447],\n",
       "        [-0.1157],\n",
       "        [-0.0666],\n",
       "        [-0.0744],\n",
       "        [-0.0510],\n",
       "        [-0.0382],\n",
       "        [-0.0293],\n",
       "        [-0.1865],\n",
       "        [-0.0840],\n",
       "        [-0.0461],\n",
       "        [-0.1230],\n",
       "        [-0.0953],\n",
       "        [-0.0969],\n",
       "        [-0.0830],\n",
       "        [-0.0534],\n",
       "        [-0.1549],\n",
       "        [-0.0801],\n",
       "        [-0.0938],\n",
       "        [-0.0752],\n",
       "        [-0.1210],\n",
       "        [-0.1193],\n",
       "        [-0.0434],\n",
       "        [-0.0212],\n",
       "        [-0.0747],\n",
       "        [-0.0773],\n",
       "        [-0.1212],\n",
       "        [-0.0646],\n",
       "        [-0.1263],\n",
       "        [-0.0991],\n",
       "        [-0.0955],\n",
       "        [-0.0848],\n",
       "        [-0.0681],\n",
       "        [-0.0551],\n",
       "        [-0.0626],\n",
       "        [-0.0627],\n",
       "        [-0.0574],\n",
       "        [-0.0452],\n",
       "        [-0.0977],\n",
       "        [-0.0596],\n",
       "        [-0.0796],\n",
       "        [-0.0988],\n",
       "        [-0.0814],\n",
       "        [-0.0356],\n",
       "        [-0.1201],\n",
       "        [-0.0872],\n",
       "        [-0.0939],\n",
       "        [-0.0801],\n",
       "        [-0.1205],\n",
       "        [-0.0550],\n",
       "        [-0.0815],\n",
       "        [-0.0420],\n",
       "        [-0.0994],\n",
       "        [-0.0822],\n",
       "        [-0.0540],\n",
       "        [-0.0621],\n",
       "        [-0.0669],\n",
       "        [-0.1245],\n",
       "        [-0.0892],\n",
       "        [-0.0368],\n",
       "        [-0.0969],\n",
       "        [-0.0870],\n",
       "        [-0.0619],\n",
       "        [-0.0693],\n",
       "        [-0.1153],\n",
       "        [-0.0579],\n",
       "        [-0.0973],\n",
       "        [-0.0334],\n",
       "        [-0.0959],\n",
       "        [-0.0699],\n",
       "        [-0.0826],\n",
       "        [-0.0450],\n",
       "        [-0.1675],\n",
       "        [-0.0755],\n",
       "        [-0.1118],\n",
       "        [-0.0841],\n",
       "        [-0.0454],\n",
       "        [-0.0339],\n",
       "        [-0.0705],\n",
       "        [-0.1040],\n",
       "        [-0.0048],\n",
       "        [-0.0995],\n",
       "        [-0.0929],\n",
       "        [-0.1409],\n",
       "        [-0.1203],\n",
       "        [-0.0555],\n",
       "        [-0.0802],\n",
       "        [-0.0606],\n",
       "        [-0.0870]], grad_fn=<IndexAddBackward0>)"
      ]
     },
     "execution_count": 67,
     "metadata": {},
     "output_type": "execute_result"
    }
   ],
   "source": [
    "mymodel(rhoii1i2_nu1_torch)"
   ]
  },
  {
   "cell_type": "code",
   "execution_count": 68,
   "id": "5227d4ca-c2c5-4645-a4b3-d66609ca7a92",
   "metadata": {},
   "outputs": [],
   "source": [
    "optimizer = torch.optim.LBFGS(\n",
    "        mymodel.parameters(),\n",
    "        lr=0.05,\n",
    "        line_search_fn=\"strong_wolfe\",\n",
    "        history_size=128,\n",
    "    )\n",
    "\n",
    "def loss_mse(predicted, actual):\n",
    "    return torch.sum((predicted.flatten() - actual.flatten()) ** 2)"
   ]
  },
  {
   "cell_type": "code",
   "execution_count": null,
   "id": "04446ae2-02f9-477d-8bd7-384cc941d3b3",
   "metadata": {},
   "outputs": [
    {
     "name": "stdout",
     "output_type": "stream",
     "text": [
      "Beginning epoch 0\n",
      "Energy train RMSE 0.14760833917873328\n",
      "Beginning epoch 1\n",
      "Energy train RMSE 0.14586152279080275\n",
      "Beginning epoch 2\n",
      "Energy train RMSE 0.14278525341132445\n",
      "Beginning epoch 3\n",
      "Energy train RMSE 0.1404039764385819\n",
      "Beginning epoch 4\n",
      "Energy train RMSE 0.13825263629737045\n",
      "Beginning epoch 5\n",
      "Energy train RMSE 0.13710983430163953\n",
      "Beginning epoch 6\n",
      "Energy train RMSE 0.13565360933388232\n",
      "Beginning epoch 7\n",
      "Energy train RMSE 0.13355332120696248\n",
      "Beginning epoch 8\n",
      "Energy train RMSE 0.1290953634482688\n",
      "Beginning epoch 9\n",
      "Energy train RMSE 0.12702755494421375\n",
      "Beginning epoch 10\n",
      "Energy train RMSE 0.12556865236888648\n",
      "Beginning epoch 11\n",
      "Energy train RMSE 0.12416395124393353\n",
      "Beginning epoch 12\n",
      "Energy train RMSE 0.12215431014262759\n",
      "Beginning epoch 13\n",
      "Energy train RMSE 0.12045824655163127\n",
      "Beginning epoch 14\n",
      "Energy train RMSE 0.1187209601274434\n",
      "Beginning epoch 15\n",
      "Energy train RMSE 0.11622253763955703\n",
      "Beginning epoch 16\n",
      "Energy train RMSE 0.115111688448714\n",
      "Beginning epoch 17\n",
      "Energy train RMSE 0.11409588893848747\n",
      "Beginning epoch 18\n",
      "Energy train RMSE 0.1126160767509256\n",
      "Beginning epoch 19\n",
      "Energy train RMSE 0.112216352408812\n",
      "Beginning epoch 20\n",
      "Energy train RMSE 0.11155561953659675\n",
      "Beginning epoch 21\n",
      "Energy train RMSE 0.1097497483021334\n",
      "Beginning epoch 22\n",
      "Energy train RMSE 0.10924560096681081\n",
      "Beginning epoch 23\n",
      "Energy train RMSE 0.10881211010060429\n",
      "Beginning epoch 24\n",
      "Energy train RMSE 0.10802799518649985\n",
      "Beginning epoch 25\n",
      "Energy train RMSE 0.1073502461266375\n",
      "Beginning epoch 26\n",
      "Energy train RMSE 0.106567788724876\n",
      "Beginning epoch 27\n",
      "Energy train RMSE 0.10591898437193029\n",
      "Beginning epoch 28\n",
      "Energy train RMSE 0.10526966869764565\n",
      "Beginning epoch 29\n",
      "Energy train RMSE 0.10402579169120776\n",
      "Beginning epoch 30\n",
      "Energy train RMSE 0.10339947716766683\n",
      "Beginning epoch 31\n",
      "Energy train RMSE 0.10312663397102369\n",
      "Beginning epoch 32\n",
      "Energy train RMSE 0.10281364899758647\n",
      "Beginning epoch 33\n",
      "Energy train RMSE 0.1021415948737678\n",
      "Beginning epoch 34\n",
      "Energy train RMSE 0.10178537468450234\n",
      "Beginning epoch 35\n",
      "Energy train RMSE 0.10164569771211185\n",
      "Beginning epoch 36\n",
      "Energy train RMSE 0.10144631838957423\n",
      "Beginning epoch 37\n",
      "Energy train RMSE 0.10124000056429912\n",
      "Beginning epoch 38\n",
      "Energy train RMSE 0.10080492223802162\n",
      "Beginning epoch 39\n",
      "Energy train RMSE 0.10025008789502375\n",
      "Beginning epoch 40\n",
      "Energy train RMSE 0.09975999101988277\n",
      "Beginning epoch 41\n",
      "Energy train RMSE 0.09944168025667742\n",
      "Beginning epoch 42\n"
     ]
    }
   ],
   "source": [
    "n_epochs=100\n",
    "for epoch in range(0, n_epochs):\n",
    "    print(\"Beginning epoch\", epoch)\n",
    "    \n",
    "    def single_step():\n",
    "        # global composition, radial_spectrum, spherical_expansions, energies\n",
    "        optimizer.zero_grad()\n",
    "        loss = torch.zeros(size=(1,), device=device)\n",
    "        \n",
    "        predicted = mymodel(rhoii1i2_nu1_torch)\n",
    "        loss += loss_mse(predicted, energies)\n",
    "        \n",
    "        loss.backward(retain_graph=False)\n",
    "        return loss\n",
    "\n",
    "    loss = optimizer.step(single_step)\n",
    "    print(\"Energy train RMSE\", np.sqrt(loss.detach().numpy().flatten()[0]) )"
   ]
  },
  {
   "cell_type": "code",
   "execution_count": null,
   "id": "d3b6465d-f6a4-4602-a3d9-da2128c42d98",
   "metadata": {},
   "outputs": [],
   "source": []
  }
 ],
 "metadata": {
  "kernelspec": {
   "display_name": "Python 3",
   "language": "python",
   "name": "python3"
  },
  "language_info": {
   "codemirror_mode": {
    "name": "ipython",
    "version": 3
   },
   "file_extension": ".py",
   "mimetype": "text/x-python",
   "name": "python",
   "nbconvert_exporter": "python",
   "pygments_lexer": "ipython3",
   "version": "3.8.10"
  },
  "toc": {
   "base_numbering": 1,
   "nav_menu": {},
   "number_sections": true,
   "sideBar": true,
   "skip_h1_title": false,
   "title_cell": "Table of Contents",
   "title_sidebar": "Contents",
   "toc_cell": false,
   "toc_position": {},
   "toc_section_display": true,
   "toc_window_display": false
  }
 },
 "nbformat": 4,
 "nbformat_minor": 5
}
