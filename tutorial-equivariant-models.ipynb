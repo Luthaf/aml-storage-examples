{
 "cells": [
  {
   "cell_type": "code",
   "execution_count": 1,
   "metadata": {},
   "outputs": [],
   "source": [
    "%load_ext autoreload\n",
    "%autoreload 2"
   ]
  },
  {
   "cell_type": "markdown",
   "metadata": {},
   "source": [
    "<p style=\"font-size:32px; font-weight: bolder; text-align: center\">Equivariant ML models</p>\n",
    "<p style=\"font-size:16px; text-align: center\">A tutorial introduction</p>\n",
    "<p style=\"text-align: center\"><i> authored by: <a href=\"mailto:michele.ceriotti@gmail.com\"> Michele Ceriotti </a></i></p>"
   ]
  },
  {
   "cell_type": "markdown",
   "metadata": {},
   "source": [
    "_Equivariance_ indicates the property of a function for which the inputs and outputs are subject to the action of the same symmetries, and which commutes with the application of the symmetries, that is: $f(\\hat{S}A) = \\hat{S} f(A)$. _Invariance_ can be seen as a special case, in which  $f(\\hat{S}A) = f(A)$.\n",
    "\n",
    "This notebook provides a brief introduction to the concept of equivariance in the context of atomic-scale machine-learning models, focusing in particular on the case of 3D rotations and inversion - in technical terms the $O(3)$ group symmetries - and their combination with translations - the three-dimensional Euclidean group $E(3)$. "
   ]
  },
  {
   "cell_type": "markdown",
   "metadata": {},
   "source": [
    "# The tools of the trade"
   ]
  },
  {
   "cell_type": "markdown",
   "metadata": {},
   "source": [
    "We will use a number of packages, including both general-purpose ones and some that are designed specifically to the construction and manipulation of equivariant ML models. You should be able to fetch most of these from PIP, while others might require a custom installation."
   ]
  },
  {
   "cell_type": "markdown",
   "metadata": {},
   "source": [
    "Besides some time-tested classics..."
   ]
  },
  {
   "cell_type": "code",
   "execution_count": 2,
   "metadata": {},
   "outputs": [],
   "source": [
    "import numpy as np\n",
    "import matplotlib.pyplot as plt"
   ]
  },
  {
   "cell_type": "markdown",
   "metadata": {},
   "source": [
    "... we will use [ASE](https://wiki.fysik.dtu.dk/ase/) to load and manipulate atomic structures "
   ]
  },
  {
   "cell_type": "code",
   "execution_count": 3,
   "metadata": {},
   "outputs": [],
   "source": [
    "import ase.io"
   ]
  },
  {
   "cell_type": "markdown",
   "metadata": {},
   "source": [
    "... [chemiscope](https://chemiscope.org) to visualize them, [equistore](https://github.com/lab-cosmo/equistore) to hold equivariant quantities and [rascaline](https://github.com/Luthaf/rascaline) to compute atom-centered density correlations (ACDCs) - the main family of equivariant descriptors we will use."
   ]
  },
  {
   "cell_type": "code",
   "execution_count": 4,
   "metadata": {},
   "outputs": [],
   "source": [
    "import equistore\n",
    "import rascaline\n",
    "import chemiscope\n",
    "\n",
    "from equistore import TensorMap, TensorBlock, Labels"
   ]
  },
  {
   "cell_type": "code",
   "execution_count": 5,
   "metadata": {},
   "outputs": [],
   "source": [
    "# uncomment these if you miss some of the packages\n",
    "# ! pip install --user chemiscope\n",
    "# !pip install --user --upgrade https://github.com/Luthaf/temporary-wheels/raw/main/equistore-74e0eabb-py3-none-linux_x86_64.whl\n",
    "# !pip install --user --upgrade https://github.com/Luthaf/temporary-wheels/raw/main/rascaline-17b1cea7-py3-none-linux_x86_64.whl\n",
    "# !pip install --user ase "
   ]
  },
  {
   "cell_type": "markdown",
   "metadata": {},
   "source": [
    "## Water dataset"
   ]
  },
  {
   "cell_type": "markdown",
   "metadata": {},
   "source": [
    "We use as a demonstrative dataset a simple dataset that contains a water molecule, stretched and bent in different ways. For each configuration, the dataset holds energy, forces and dipole moments, computed using the high-accuracy [Partridge-Schwenke fits](https://doi.org/10.1063/1.473987). "
   ]
  },
  {
   "cell_type": "code",
   "execution_count": 6,
   "metadata": {},
   "outputs": [],
   "source": [
    "frames = ase.io.read(\"data/chemrev_nuprime-theta-grid_computed.xyz\", \":\")"
   ]
  },
  {
   "cell_type": "code",
   "execution_count": 7,
   "metadata": {},
   "outputs": [
    {
     "data": {
      "application/vnd.jupyter.widget-view+json": {
       "model_id": "ea372f2b66994fb6a7bd453d6027b3bf",
       "version_major": 2,
       "version_minor": 0
      },
      "text/plain": [
       "ChemiscopeWidget(value='{\"meta\": {\"name\": \" \"}, \"settings\": {\"structure\": [{\"axes\": \"xyz\", \"keepOrientation\": …"
      ]
     },
     "execution_count": 7,
     "metadata": {},
     "output_type": "execute_result"
    }
   ],
   "source": [
    "chemiscope.show(\n",
    "    frames,\n",
    "    properties=chemiscope.extract_properties(frames, ['HOH', 'OH1', 'energy']),\n",
    "    settings={\n",
    "        \"structure\": [{\"axes\": \"xyz\", \"keepOrientation\": True}],\n",
    "        \"map\": {\n",
    "            \"x\": {\"property\": \"HOH\"},\n",
    "            \"y\": {\"property\": \"OH1\"},\n",
    "            \"color\": {\"property\": \"energy\"},\n",
    "        },\n",
    "    }\n",
    ")"
   ]
  },
  {
   "cell_type": "markdown",
   "metadata": {},
   "source": [
    "Processes the properties of the structures (as stored in the `.extxyz` file) as `TensorBlock` objects. We will see later how these can be used. "
   ]
  },
  {
   "cell_type": "code",
   "execution_count": 8,
   "metadata": {},
   "outputs": [],
   "source": [
    "energy_values = []\n",
    "force_values = []\n",
    "dipole_values = []\n",
    "for f in frames:\n",
    "    energy_values.append(f.info[\"energy\"])\n",
    "    dipole_values.append(f.info[\"dipole\"])\n",
    "    force_values.append(f.arrays[\"force\"])"
   ]
  },
  {
   "cell_type": "code",
   "execution_count": 9,
   "metadata": {},
   "outputs": [],
   "source": [
    "energies = TensorBlock(\n",
    "    values=np.asarray(energy_values).reshape(-1, 1, 1),\n",
    "    samples=Labels(\n",
    "        names=[\"structure\"],\n",
    "        values=np.arange(len(frames), dtype=np.int32).reshape(-1, 1),\n",
    "    ),\n",
    "    components=[Labels.single()],\n",
    "    properties=Labels.single(),\n",
    ")\n",
    "\n",
    "energies.add_gradient(\n",
    "    \"positions\",\n",
    "    gradient=TensorBlock(\n",
    "        values=-np.array(force_values).reshape(-1, 3, 1, 1),\n",
    "        samples=Labels(\n",
    "            names=[\"sample\", \"atom\"],\n",
    "            values=np.array(\n",
    "                np.vstack([[[i, 0], [i, 1], [i, 2]] for i in range(len(frames))]),\n",
    "            ),\n",
    "        ),\n",
    "        components=[\n",
    "            Labels(\n",
    "                names=[\"gradient_direction\"],\n",
    "                values=np.array([[0, 1, 2]]).reshape(-1, 1),\n",
    "            ),\n",
    "            Labels.single(),\n",
    "        ],\n",
    "        properties=Labels.single(),\n",
    "    ),\n",
    ")"
   ]
  },
  {
   "cell_type": "code",
   "execution_count": 10,
   "metadata": {},
   "outputs": [],
   "source": [
    "dipoles = TensorBlock(\n",
    "    values=np.asarray(dipole_values).reshape(-1, 3, 1),\n",
    "    samples=Labels(\n",
    "        names=[\"structure\"],\n",
    "        values=np.arange(len(frames), dtype=np.int32).reshape(-1, 1),\n",
    "    ),\n",
    "    components=[\n",
    "        Labels(names=[\"direction\"], values=np.asarray([[0, 1, 2]], dtype=np.int32).T)\n",
    "    ],\n",
    "    properties=Labels.single(),\n",
    ")"
   ]
  },
  {
   "cell_type": "markdown",
   "metadata": {},
   "source": [
    "# Rotations and vectors"
   ]
  },
  {
   "cell_type": "markdown",
   "metadata": {},
   "source": [
    "Let's now start looking into how a vector such as the dipole moment rotates. The key concept is that a vectorial property such as the atomic positions or the dipole moment transform, under the action of a rotation operation $\\hat{R}$ in a way consistent with the application of a rotation matrix $\\mathbf{R}$, i.e. if a structure $A$ has atomic positions $\\mathbf{r}_i$ and dipole moment $\\mathbf{y}_i$ (each of these being a 3-vector corresponding to the Cartesian coordinates $(x,y,z)$) then the rotated structure $\\hat{R}A$ has atomic coordinates $\\mathbf{R}\\mathbf{r}_i$ and dipole moment $\\mathbf{R}\\mathbf{y}$. \n",
    "\n",
    "\n",
    "<img src=\"figures/rotations.png\" width=\"400\"/>"
   ]
  },
  {
   "cell_type": "markdown",
   "metadata": {},
   "source": [
    "A rotation can be defined in terms of [Euler angles](https://en.wikipedia.org/wiki/Euler_angles), a set of three angles $(\\alpha, \\beta, \\gamma)$ that define the orientation of a rigid body relative to a reference frame.  This is a problem that is made quite tricky by the existence of dozen of alternative conventions. For those in the know, we use the $ZYZ$ intrinsic rotations definition, which is also the one commonly used to define quantities in angular momentum theory. We use a wrapper from some utilities that returns the rotation matrix in the \"correct\" format, and use it to generate a set of water molecules in which the position of the atoms and the molecular dipoles have been rotated appropriately. "
   ]
  },
  {
   "cell_type": "code",
   "execution_count": 11,
   "metadata": {},
   "outputs": [],
   "source": [
    "from utils.rotations import rotation_matrix, xyz_to_spherical, spherical_to_xyz, wigner_d_real\n",
    "from utils.clebsh_gordan import ClebschGordanReal"
   ]
  },
  {
   "cell_type": "code",
   "execution_count": 12,
   "metadata": {},
   "outputs": [],
   "source": [
    "rotated_structures = []\n",
    "rotated_wdipole = []\n",
    "selected_frame = frames[81]\n",
    "selected_dipole = dipoles.values[81, :, 0]\n",
    "\n",
    "# adds two fake atoms to show the magnitude and direction of the dipole moment\n",
    "dipole_mol = ase.Atoms(\"FH\", positions=[[0, 2, 0], selected_dipole + [0, 2, 0]])\n",
    "for alpha in np.linspace(0, 2 * np.pi, 8):\n",
    "    for beta in np.linspace(0, np.pi, 4):\n",
    "        for gamma in np.linspace(0, 2 * np.pi, 8):\n",
    "            rot_frame = selected_frame.copy()\n",
    "            rot_frame.info[\"alpha\"] = alpha\n",
    "            rot_frame.info[\"beta\"] = beta\n",
    "            rot_frame.info[\"gamma\"] = gamma\n",
    "            # rotates the frame\n",
    "            R = rotation_matrix(alpha, beta, gamma)\n",
    "            rot_frame.positions = rot_frame.positions @ R.T\n",
    "            rot_frame.cell = rot_frame.cell @ R.T\n",
    "            rot_frame.info[\"dipole\"] = rot_frame.info[\"dipole\"] @ R.T\n",
    "            rotated_structures.append(rot_frame)\n",
    "\n",
    "            # just for visualization, frames with dipole visualized as HF\n",
    "            rot_frame = selected_frame.copy() + dipole_mol\n",
    "            rot_frame.positions = rot_frame.positions @ R.T\n",
    "            rot_frame.cell = rot_frame.cell @ R.T\n",
    "            rot_frame.info.update(dict(alpha=alpha, beta=beta, gamma=gamma))\n",
    "            rotated_wdipole.append(rot_frame)"
   ]
  },
  {
   "cell_type": "code",
   "execution_count": 13,
   "metadata": {},
   "outputs": [
    {
     "data": {
      "application/vnd.jupyter.widget-view+json": {
       "model_id": "40047dcfbd49469d97e6f48455a119a7",
       "version_major": 2,
       "version_minor": 0
      },
      "text/plain": [
       "ChemiscopeWidget(value='{\"meta\": {\"name\": \" \"}, \"settings\": {\"map\": {\"x\": {\"property\": \"alpha\"}, \"y\": {\"proper…"
      ]
     },
     "execution_count": 13,
     "metadata": {},
     "output_type": "execute_result"
    }
   ],
   "source": [
    "chemiscope.show(\n",
    "    rotated_wdipole,\n",
    "    properties=chemiscope.extract_properties(rotated_wdipole, ['alpha', 'beta', 'gamma', 'energy']),\n",
    "    settings={\n",
    "        \"map\": {\n",
    "            \"x\": {\"property\": \"alpha\"},\n",
    "            \"y\": {\"property\": \"beta\"},\n",
    "            \"z\": {\"property\": \"gamma\"},\n",
    "            \"color\": {\"property\": \"energy\"},\n",
    "        },\n",
    "        \"structure\": [{\"axes\": \"xyz\", \"keepOrientation\": True}],\n",
    "    },\n",
    ")"
   ]
  },
  {
   "cell_type": "markdown",
   "metadata": {},
   "source": [
    "<a id=\"spherical-tensors\"> </a>"
   ]
  },
  {
   "cell_type": "markdown",
   "metadata": {},
   "source": [
    "# Rotations and arbitrary tensors"
   ]
  },
  {
   "cell_type": "markdown",
   "metadata": {},
   "source": [
    "Vectorial quantities, such as the molecular dipole moment, are just one of the possible types of equivariant properties associated with a molecular structure. We consider as an example the tensor\n",
    "\n",
    "$$\n",
    "\\mathbf{Y} = \\mathbf{y}\\mathbf{y}^T + |\\mathbf{y}|^2 \\mathbf{1},  \n",
    "$$\n",
    "\n",
    "built starting from the dipole moment $\\mathbf{y}$. "
   ]
  },
  {
   "cell_type": "code",
   "execution_count": 14,
   "metadata": {},
   "outputs": [],
   "source": [
    "def y_to_Y(y):\n",
    "    return y.reshape(-1, 1) @ y.reshape(1, -1) + (y @ y) * np.eye(3)"
   ]
  },
  {
   "cell_type": "code",
   "execution_count": 15,
   "metadata": {},
   "outputs": [],
   "source": [
    "for rot_frame in rotated_structures:\n",
    "    rot_frame.info[\"Y\"] = y_to_Y(rot_frame.info[\"dipole\"])"
   ]
  },
  {
   "cell_type": "code",
   "execution_count": 16,
   "metadata": {},
   "outputs": [
    {
     "data": {
      "text/plain": [
       "array([[ 0.16288784, -0.01120692,  0.        ],\n",
       "       [-0.01120692,  0.32344019,  0.        ],\n",
       "       [ 0.        ,  0.        ,  0.16210934]])"
      ]
     },
     "execution_count": 16,
     "metadata": {},
     "output_type": "execute_result"
    }
   ],
   "source": [
    "rotated_structures[0].info[\"Y\"]"
   ]
  },
  {
   "cell_type": "markdown",
   "metadata": {},
   "source": [
    "This quantity transforms under rotation as $\\mathbf{Y}(\\hat{R}A) = \\mathbf{R}\\mathbf{Y}(A)\\mathbf{R}^T$. \n",
    "While this is a perfectly fine way of expressing the transformation, it is more complicated than necessary: all the $9$ components of $\\mathbf{Y}$ are formally mixed in the process, and even though it is linear in $\\mathbf{Y}$, to explicitly cast it as such requires combining the two multiplications by $\\mathbf{R}$ into the multiplication by a large, $9\\times 9$ matrix."
   ]
  },
  {
   "cell_type": "code",
   "execution_count": 17,
   "metadata": {},
   "outputs": [],
   "source": [
    "# picks one of the rotated structures\n",
    "base = rotated_structures[0]\n",
    "selected = rotated_structures[11]\n",
    "base_Y = base.info[\"Y\"]\n",
    "selected_Y = selected.info[\"Y\"]\n",
    "# builds the rotation matrix\n",
    "R = rotation_matrix(\n",
    "    selected.info[\"alpha\"], selected.info[\"beta\"], selected.info[\"gamma\"]\n",
    ")"
   ]
  },
  {
   "cell_type": "code",
   "execution_count": 18,
   "metadata": {},
   "outputs": [
    {
     "data": {
      "text/plain": [
       "array([[-7.09471850e-02,  8.07714712e-02,  1.22884129e-01],\n",
       "       [-6.51191769e-02, -2.96272046e-01,  1.12789723e-01],\n",
       "       [ 1.40390810e-01,  4.49943816e-18,  8.10546720e-02]])"
      ]
     },
     "execution_count": 18,
     "metadata": {},
     "output_type": "execute_result"
    }
   ],
   "source": [
    "base_Y @ R.T"
   ]
  },
  {
   "cell_type": "code",
   "execution_count": 19,
   "metadata": {},
   "outputs": [
    {
     "data": {
      "text/plain": [
       "array([[ 0.16766969,  0.02788752, -0.0096308 ],\n",
       "       [ 0.02788752,  0.30197732, -0.0483026 ],\n",
       "       [-0.0096308 , -0.0483026 ,  0.17879037]])"
      ]
     },
     "execution_count": 19,
     "metadata": {},
     "output_type": "execute_result"
    }
   ],
   "source": [
    "R @ base_Y @ R.T"
   ]
  },
  {
   "cell_type": "code",
   "execution_count": 20,
   "metadata": {},
   "outputs": [
    {
     "name": "stdout",
     "output_type": "stream",
     "text": [
      "[[ 0.16288784 -0.01120692  0.        ]\n",
      " [-0.01120692  0.32344019  0.        ]\n",
      " [ 0.          0.          0.16210934]]\n",
      "[[ 0.16766969  0.02788752 -0.0096308 ]\n",
      " [ 0.02788752  0.30197732 -0.0483026 ]\n",
      " [-0.0096308  -0.0483026   0.17879037]]\n",
      "[[ 0.16766969  0.02788752 -0.0096308 ]\n",
      " [ 0.02788752  0.30197732 -0.0483026 ]\n",
      " [-0.0096308  -0.0483026   0.17879037]]\n"
     ]
    }
   ],
   "source": [
    "print(base_Y)\n",
    "# rotated Y matches the Y of the rotated structure\n",
    "print(R @ base_Y @ R.T)\n",
    "print(selected_Y)"
   ]
  },
  {
   "cell_type": "code",
   "execution_count": 21,
   "metadata": {},
   "outputs": [],
   "source": [
    "# builds the 9x9 rotation matrix - can you follow the index juggling?\n",
    "flat_idx = np.array(\n",
    "    [(0, 0), (0, 1), (0, 2), (1, 0), (1, 1), (1, 2), (2, 0), (2, 1), (2, 2)], dtype=int\n",
    ")\n",
    "RR = R[flat_idx[:, 0]][:, flat_idx[:, 0]] * R[flat_idx[:, 1]][:, flat_idx[:, 1]]"
   ]
  },
  {
   "cell_type": "code",
   "execution_count": 22,
   "metadata": {},
   "outputs": [
    {
     "data": {
      "text/plain": [
       "<matplotlib.image.AxesImage at 0x16aa84d00>"
      ]
     },
     "execution_count": 22,
     "metadata": {},
     "output_type": "execute_result"
    },
    {
     "data": {
      "image/png": "[encoded data removed]",
      "text/plain": [
       "<Figure size 480x480 with 1 Axes>"
      ]
     },
     "metadata": {},
     "output_type": "display_data"
    }
   ],
   "source": [
    "# the 9x9 matrix is almost entirely full\n",
    "plt.matshow(\n",
    "    RR,\n",
    "    cmap=plt.cm.RdBu,\n",
    "    vmin=-max(np.abs(RR.flatten())),\n",
    "    vmax=max(np.abs(RR.flatten())),\n",
    ")"
   ]
  },
  {
   "cell_type": "code",
   "execution_count": 23,
   "metadata": {},
   "outputs": [
    {
     "data": {
      "text/plain": [
       "array([[ 0.16766969,  0.02788752, -0.0096308 ],\n",
       "       [ 0.02788752,  0.30197732, -0.0483026 ],\n",
       "       [-0.0096308 , -0.0483026 ,  0.17879037]])"
      ]
     },
     "execution_count": 23,
     "metadata": {},
     "output_type": "execute_result"
    }
   ],
   "source": [
    "# this rotates the tensor with a single multiplication\n",
    "(RR @ (base_Y[flat_idx[:, 0], flat_idx[:, 1]])).reshape(3, 3)"
   ]
  },
  {
   "cell_type": "markdown",
   "metadata": {},
   "source": [
    "This brings us to the concept of _irreducible_ representations of the rotation group. In very hand-wavy terms, we look for ways to simplify the transformation by recombining entries in $\\mathbf{Y}$ in such a way that they are less mixed up when acted upon by a rotation $\\hat{R}$. \n",
    "That this might be possible can be seen by noticing that the _trace_ of $\\mathbf{Y}$, $Y_{xx}+Y_{yy}+ Y_{zz}$ is left unchanged by the rotation - it is _invariant_."
   ]
  },
  {
   "cell_type": "code",
   "execution_count": 24,
   "metadata": {},
   "outputs": [
    {
     "name": "stdout",
     "output_type": "stream",
     "text": [
      "0.648437375959412 0.6484373759594123\n"
     ]
    }
   ],
   "source": [
    "print(np.trace(base_Y), np.trace(selected_Y))"
   ]
  },
  {
   "cell_type": "markdown",
   "metadata": {},
   "source": [
    "It turns out that products of Cartesian coordinates can be rearranged into blocks that transform under rotation as _spherical harmonics_, $Y^m_l$. The theory is not entirely trivial, and gets even messier if (as we do here) one wants to express everything in terms of _real_ spherical harmonics. \n",
    "The manipulations here are somewhat opaque (and rely heavily on utility functions) but allow to follow the construction of the _spherical tensor_ form of $\\mathbf{Y}$. "
   ]
  },
  {
   "cell_type": "code",
   "execution_count": 25,
   "metadata": {},
   "outputs": [
    {
     "data": {
      "text/plain": [
       "{(1, 1): {0: array([-0.37437549]),\n",
       "  1: array([0., 0., 0.]),\n",
       "  2: array([-0.01584898,  0.        , -0.06618086,  0.        , -0.11352766])}}"
      ]
     },
     "execution_count": 25,
     "metadata": {},
     "output_type": "execute_result"
    }
   ],
   "source": [
    "# we need Clebsch-Gordan coefficients to transform the Cartesian tensor into an irreducible form\n",
    "cg = ClebschGordanReal(l_max=2)\n",
    "cg.couple(xyz_to_spherical(base_Y))"
   ]
  },
  {
   "cell_type": "code",
   "execution_count": 26,
   "metadata": {},
   "outputs": [
    {
     "data": {
      "text/plain": [
       "array([[ 1.00000000e+00,  3.87267321e-16,  1.00606945e-31,\n",
       "         2.01197777e-47,  3.25951553e-63, -3.78660830e-94,\n",
       "        -2.39505315e-78, -1.72477350e-62, -9.85663783e-47,\n",
       "        -4.26839117e-31, -1.22464680e-15],\n",
       "       [-3.87267321e-16,  1.00000000e+00,  5.19573634e-16,\n",
       "         1.55859609e-31,  3.36668275e-47, -3.91110542e-78,\n",
       "        -2.06149863e-62, -1.14523782e-46, -4.45405931e-31,\n",
       "        -9.79717439e-16,  4.26839117e-31],\n",
       "       [ 1.00606945e-31, -5.19573634e-16,  1.00000000e+00,\n",
       "         5.99951955e-16,  1.94391085e-31, -2.25825860e-62,\n",
       "        -9.52241681e-47, -3.67364620e-31, -7.34788079e-16,\n",
       "         4.45405931e-31, -9.85663783e-47],\n",
       "       [-2.01197777e-47,  1.55859609e-31, -5.99951955e-16,\n",
       "         1.00000000e+00,  6.48022175e-16, -7.52813149e-47,\n",
       "        -2.38079485e-31, -4.89858720e-16,  3.67364620e-31,\n",
       "        -1.14523782e-46,  1.72477350e-62],\n",
       "       [ 3.25951553e-63, -3.36668275e-47,  1.94391085e-31,\n",
       "        -6.48022175e-16,  1.00000000e+00, -1.16170893e-31,\n",
       "        -2.44929360e-16,  2.38079485e-31, -9.52241681e-47,\n",
       "         2.06149863e-62, -2.39505315e-78],\n",
       "       [-3.78660830e-94,  3.91110542e-78, -2.25825860e-62,\n",
       "         7.52813149e-47, -1.16170893e-31,  1.00000000e+00,\n",
       "        -9.48607332e-16,  3.07359293e-31, -6.14669362e-47,\n",
       "         7.98414985e-63, -6.18400065e-79],\n",
       "       [ 2.39505315e-78, -2.06149863e-62,  9.52241681e-47,\n",
       "        -2.38079485e-31,  2.44929360e-16,  9.48607332e-16,\n",
       "         1.00000000e+00, -6.48022175e-16,  1.94391085e-31,\n",
       "        -3.36668275e-47,  3.25951553e-63],\n",
       "       [-1.72477350e-62,  1.14523782e-46, -3.67364620e-31,\n",
       "         4.89858720e-16,  2.38079485e-31,  3.07359293e-31,\n",
       "         6.48022175e-16,  1.00000000e+00, -5.99951955e-16,\n",
       "         1.55859609e-31, -2.01197777e-47],\n",
       "       [ 9.85663783e-47, -4.45405931e-31,  7.34788079e-16,\n",
       "         3.67364620e-31,  9.52241681e-47,  6.14669362e-47,\n",
       "         1.94391085e-31,  5.99951955e-16,  1.00000000e+00,\n",
       "        -5.19573634e-16,  1.00606945e-31],\n",
       "       [-4.26839117e-31,  9.79717439e-16,  4.45405931e-31,\n",
       "         1.14523782e-46,  2.06149863e-62,  7.98414985e-63,\n",
       "         3.36668275e-47,  1.55859609e-31,  5.19573634e-16,\n",
       "         1.00000000e+00, -3.87267321e-16],\n",
       "       [ 1.22464680e-15,  4.26839117e-31,  9.85663783e-47,\n",
       "         1.72477350e-62,  2.39505315e-78,  6.18400065e-79,\n",
       "         3.25951553e-63,  2.01197777e-47,  1.00606945e-31,\n",
       "         3.87267321e-16,  1.00000000e+00]])"
      ]
     },
     "execution_count": 26,
     "metadata": {},
     "output_type": "execute_result"
    }
   ],
   "source": [
    "from sympy.physics.wigner import wigner_d\n",
    "from utils.clebsh_gordan import _real2complex\n",
    "\n",
    "\n",
    "def wigner_d_real(l, alpha, beta, gamma):\n",
    "    \"\"\"Computes a real-valued Wigner D matrix\n",
    "     D^l_{mm'}(alpha, beta, gamma)\n",
    "    (alpha, beta, gamma) are Euler angles (radians, ZYZ convention) and l the irrep.\n",
    "    Rotates real spherical harmonics by application from the left.\n",
    "    \"\"\"\n",
    "\n",
    "    wd = np.complex128(wigner_d(l, alpha, beta, gamma))\n",
    "    r2c = _real2complex(l)\n",
    "    return np.real(np.conjugate(r2c.T @ wd) @ r2c)\n",
    "\n",
    "\n",
    "wigner_d_real(5, np.pi, 2 * np.pi, np.pi)"
   ]
  },
  {
   "cell_type": "markdown",
   "metadata": {},
   "source": [
    "The output indicates that the tensor was built as the product of two vector-like ($l=1$) spherical Harmonics, and it has been decomposed into a scalar ($l=0$), pseudo-vector ($l=1$, zero because the tensor is symmetric), and higher-order ($l=2$) term. Each block contains $2m+1$ components. We can therefore stack these in a a single array with 9 components, that could (in principle) be written as a unitary transformation of the initial Cartesian form."
   ]
  },
  {
   "cell_type": "code",
   "execution_count": 27,
   "metadata": {},
   "outputs": [
    {
     "name": "stdout",
     "output_type": "stream",
     "text": [
      "[-0.37437549  0.          0.          0.         -0.01584898  0.\n",
      " -0.06618086  0.         -0.11352766]\n",
      "[-0.37437549  0.          0.          0.          0.03943891 -0.0683102\n",
      " -0.04575086 -0.01362    -0.09496984]\n"
     ]
    }
   ],
   "source": [
    "def to_coupled(cartesian):\n",
    "    coupled = cg.couple(xyz_to_spherical(cartesian))\n",
    "    return np.hstack([coupled[(1, 1)][l] for l in [0, 1, 2]])\n",
    "\n",
    "\n",
    "base_coupled_Y = to_coupled(base_Y)\n",
    "selected_coupled_Y = to_coupled(selected_Y)\n",
    "# note that elements [1:4] are zero: this is a consequence of the symmetry of Y\n",
    "print(base_coupled_Y)\n",
    "print(selected_coupled_Y)"
   ]
  },
  {
   "cell_type": "markdown",
   "metadata": {},
   "source": [
    "Compare the $9\\times 9$ matrix above with that associated with rotating the tensor in this new basis. Each of the irreducible blocks transform separately, so the rotation matrix is block-diagonal. _Any_ Cartesian tensor can be expressed in terms of a collection of $Y^m_l$-like irreducible blocks."
   ]
  },
  {
   "cell_type": "code",
   "execution_count": 28,
   "metadata": {},
   "outputs": [],
   "source": [
    "# the rotation matrix for the irreducible form can be built from a collection\n",
    "# of (real-valued) Wigner D matrices\n",
    "coupled_RR = np.zeros((9, 9))\n",
    "coupled_RR[0, 0] = wigner_d_real(\n",
    "    0, selected.info[\"alpha\"], selected.info[\"beta\"], selected.info[\"gamma\"]\n",
    ")\n",
    "coupled_RR[1:4, 1:4] = wigner_d_real(\n",
    "    1, selected.info[\"alpha\"], selected.info[\"beta\"], selected.info[\"gamma\"]\n",
    ")\n",
    "coupled_RR[4:9, 4:9] = wigner_d_real(\n",
    "    2, selected.info[\"alpha\"], selected.info[\"beta\"], selected.info[\"gamma\"]\n",
    ")"
   ]
  },
  {
   "cell_type": "code",
   "execution_count": 29,
   "metadata": {},
   "outputs": [
    {
     "data": {
      "text/plain": [
       "<matplotlib.image.AxesImage at 0x16acccdc0>"
      ]
     },
     "execution_count": 29,
     "metadata": {},
     "output_type": "execute_result"
    },
    {
     "data": {
      "image/png": "[encoded data removed]",
      "text/plain": [
       "<Figure size 480x480 with 1 Axes>"
      ]
     },
     "metadata": {},
     "output_type": "display_data"
    }
   ],
   "source": [
    "# the 9x9 matrix is block diagonal\n",
    "plt.matshow(\n",
    "    coupled_RR,\n",
    "    cmap=plt.cm.RdBu,\n",
    "    vmin=-max(np.abs(RR.flatten())),\n",
    "    vmax=max(np.abs(RR.flatten())),\n",
    ")"
   ]
  },
  {
   "cell_type": "code",
   "execution_count": 30,
   "metadata": {},
   "outputs": [
    {
     "name": "stdout",
     "output_type": "stream",
     "text": [
      "[-0.37437549  0.          0.          0.         -0.01584898  0.\n",
      " -0.06618086  0.         -0.11352766]\n",
      "[-0.37437549  0.          0.          0.          0.03943891 -0.0683102\n",
      " -0.04575086 -0.01362    -0.09496984]\n",
      "[-0.37437549  0.          0.          0.          0.03943891 -0.0683102\n",
      " -0.04575086 -0.01362    -0.09496984]\n"
     ]
    }
   ],
   "source": [
    "# this block-diagonal matrix performs a rotation in the irreducible spherical basis\n",
    "print(base_coupled_Y)\n",
    "print(coupled_RR @ base_coupled_Y)\n",
    "print(selected_coupled_Y)"
   ]
  },
  {
   "cell_type": "markdown",
   "metadata": {},
   "source": [
    "The transformation can be reverted to bring the tensor back to its Cartesian form"
   ]
  },
  {
   "cell_type": "code",
   "execution_count": 31,
   "metadata": {},
   "outputs": [
    {
     "data": {
      "text/plain": [
       "array([[ 0.16766969,  0.02788752, -0.0096308 ],\n",
       "       [ 0.02788752,  0.30197732, -0.0483026 ],\n",
       "       [-0.0096308 , -0.0483026 ,  0.17879037]])"
      ]
     },
     "execution_count": 31,
     "metadata": {},
     "output_type": "execute_result"
    }
   ],
   "source": [
    "coupled = {\n",
    "    (1, 1): {\n",
    "        0: selected_coupled_Y[:1],\n",
    "        1: selected_coupled_Y[1:4],\n",
    "        2: selected_coupled_Y[4:9],\n",
    "    }\n",
    "}\n",
    "spherical_to_xyz(cg.decouple(coupled))"
   ]
  },
  {
   "cell_type": "markdown",
   "metadata": {},
   "source": [
    "# Density expansion coefficients"
   ]
  },
  {
   "cell_type": "markdown",
   "metadata": {},
   "source": [
    "We now move on to discuss how to describe an atomic environment using expansion coefficients of the atomic density. In short, the idea is to start describing a molecule $A$ in terms of localized functions (e.g. Gaussians) centered on each atom $i$, \"labelled\" by their chemical nature $a$\n",
    "\n",
    "$$\n",
    "\\langle a \\mathbf{x} | A; \\rho\\rangle = \\sum_{i \\in A} \\delta_{a a_i} \\langle \\mathbf{x} | \\mathbf{r}_i \\rangle.\n",
    "$$\n",
    "\n",
    "We use  the notation $\\langle \\mathbf{x} | \\mathbf{r}_i \\rangle = g(\\mathbf{x}-\\mathbf{r}_i)$ to emphasize how the full structure is built as a sum of terms that describe individual atoms. In general terms, in analogy with the Dirac notation used to describe a quantum state, the notation $\\langle q | A\\rangle$ to indicate a descriptor $| A\\rangle$ for an entity $A$, discretized in a basis that is enumerated by the index $q$. \n",
    "See Section 3.1 of [this review](https://doi.org/10.1021/acs.chemrev.1c00021) for a gentler introduction. "
   ]
  },
  {
   "cell_type": "markdown",
   "metadata": {},
   "source": [
    "This density is then symmetrized with respect to translations (reflecting the fact that atomic properties are invariant to rigid translations of a molecule) which leads to expressing the structure descriptors as a sum of descriptors of _atom centered environments_ $A_i$,\n",
    "\n",
    "\n",
    "$$\n",
    "\\langle a \\mathbf{x} | \\rho_i\\rangle = \\sum_{j \\in A_i} \\delta_{a a_j} \\langle \\mathbf{x} | \\mathbf{r}_{ji} \\rangle.\n",
    "$$\n",
    "\n",
    "where the Gaussians are evaluated at the interatomic distance vectors $\\mathbf{r}_{ji}=\\mathbf{r}_j-\\mathbf{r}_i$."
   ]
  },
  {
   "cell_type": "markdown",
   "metadata": {},
   "source": [
    "To manipulate this atom-centered density, it is more convenient to express it on a discrete basis. Again, in analogy with what is done routinely in quantum chemistry for the electron wavefunction (or density) we use a basis of radial functions $R_{nl}(x) \\equiv \\langle x|nl\\rangle$ and spherical harmonics $Y^m_{l}(\\hat{\\mathbf{x}}) \\equiv \\langle \\hat{\\mathbf{x}}|lm\\rangle$\n",
    "\n",
    "$$\n",
    "\\langle a nlm | \\rho_i\\rangle = \\int \\mathrm{d}\\mathbf{x} \n",
    " \\langle nl| x\\rangle  \\langle lm| \\hat{\\mathbf{x}} \\rangle\n",
    "\\langle a \\mathbf{x} | \\rho_i\\rangle  \n",
    "$$"
   ]
  },
  {
   "cell_type": "markdown",
   "metadata": {},
   "source": [
    "## Computing descriptors with _rascaline_ and _equistore_"
   ]
  },
  {
   "cell_type": "markdown",
   "metadata": {},
   "source": [
    "We use `rascaline` to compute the density expansion coefficients for these water molecule structures. \n",
    "The coefficients are returned as a `equistore.TensorMap` object, that reflects some of the considerations discussed above on the structure of atom-centered density features"
   ]
  },
  {
   "cell_type": "code",
   "execution_count": 32,
   "metadata": {},
   "outputs": [],
   "source": [
    "hypers = {\n",
    "    \"cutoff\": 2.0,\n",
    "    \"max_radial\": 6,\n",
    "    \"max_angular\": 4,\n",
    "    \"atomic_gaussian_width\": 0.2,\n",
    "    \"radial_basis\": {\"Gto\": {}},\n",
    "    \"cutoff_function\": {\"ShiftedCosine\": {\"width\": 0.5}},\n",
    "    \"center_atom_weight\": 1.0,\n",
    "}\n",
    "\n",
    "calculator = rascaline.SphericalExpansion(**hypers)\n",
    "\n",
    "descriptor = calculator.compute(frames, gradients=[\"positions\"])"
   ]
  },
  {
   "cell_type": "markdown",
   "metadata": {},
   "source": [
    "A `TensorMap` object works as a container that holds blocks of data. The pattern is reminiscent of a `dict`, but with some more structure and metadata: each block is associated with a _key_, which consists in a tuple of ints. The set of keys is a `equistore.Labels` object, that also keeps track of the _names_ that describe each index in the key. \n",
    "\n",
    "The expansion keys hold the `spherical_harmonics_l index`, and two indices corresponding to the atomic number of the central atom `species_center` and of the neighbors `species_neighbor`. "
   ]
  },
  {
   "cell_type": "code",
   "execution_count": 33,
   "metadata": {},
   "outputs": [
    {
     "data": {
      "text/plain": [
       "Labels([(0, 1, 1), (1, 1, 1), (2, 1, 1), (3, 1, 1), (4, 1, 1), (0, 1, 8),\n",
       "        (1, 1, 8), (2, 1, 8), (3, 1, 8), (4, 1, 8), (0, 8, 1), (1, 8, 1),\n",
       "        (2, 8, 1), (3, 8, 1), (4, 8, 1), (0, 8, 8), (1, 8, 8), (2, 8, 8),\n",
       "        (3, 8, 8), (4, 8, 8)],\n",
       "       dtype=[('spherical_harmonics_l', '<i4'), ('species_center', '<i4'), ('species_neighbor', '<i4')])"
      ]
     },
     "execution_count": 33,
     "metadata": {},
     "output_type": "execute_result"
    }
   ],
   "source": [
    "descriptor.keys"
   ]
  },
  {
   "cell_type": "markdown",
   "metadata": {},
   "source": [
    "Each block is associated to a `equistore.TensorBlock` object. Each block is associated with a dense tensor with a `samples` direction (enumerating the items that are described) a `properties` direction (enumerating actual properties, or descriptors) and zero or more `components` - typical examples would be the Cartesian coordinates of a vector, or the $m$ index in spherical harmonics. Each is associated with a `Labels` object that stores metadata that describe the entries."
   ]
  },
  {
   "cell_type": "code",
   "execution_count": 34,
   "metadata": {},
   "outputs": [],
   "source": [
    "# this is l=2, central atom is O and neighbor is H\n",
    "block = descriptor.block(spherical_harmonics_l=2, species_center=8, species_neighbor=1)"
   ]
  },
  {
   "cell_type": "code",
   "execution_count": 35,
   "metadata": {},
   "outputs": [
    {
     "data": {
      "text/plain": [
       "Labels([(  0, 0), (  1, 0), (  2, 0), (  3, 0), (  4, 0), (  5, 0),\n",
       "        (  6, 0), (  7, 0), (  8, 0), (  9, 0), ( 10, 0), ( 11, 0),\n",
       "        ( 12, 0), ( 13, 0), ( 14, 0), ( 15, 0), ( 16, 0), ( 17, 0),\n",
       "        ( 18, 0), ( 19, 0), ( 20, 0), ( 21, 0), ( 22, 0), ( 23, 0),\n",
       "        ( 24, 0), ( 25, 0), ( 26, 0), ( 27, 0), ( 28, 0), ( 29, 0),\n",
       "        ( 30, 0), ( 31, 0), ( 32, 0), ( 33, 0), ( 34, 0), ( 35, 0),\n",
       "        ( 36, 0), ( 37, 0), ( 38, 0), ( 39, 0), ( 40, 0), ( 41, 0),\n",
       "        ( 42, 0), ( 43, 0), ( 44, 0), ( 45, 0), ( 46, 0), ( 47, 0),\n",
       "        ( 48, 0), ( 49, 0), ( 50, 0), ( 51, 0), ( 52, 0), ( 53, 0),\n",
       "        ( 54, 0), ( 55, 0), ( 56, 0), ( 57, 0), ( 58, 0), ( 59, 0),\n",
       "        ( 60, 0), ( 61, 0), ( 62, 0), ( 63, 0), ( 64, 0), ( 65, 0),\n",
       "        ( 66, 0), ( 67, 0), ( 68, 0), ( 69, 0), ( 70, 0), ( 71, 0),\n",
       "        ( 72, 0), ( 73, 0), ( 74, 0), ( 75, 0), ( 76, 0), ( 77, 0),\n",
       "        ( 78, 0), ( 79, 0), ( 80, 0), ( 81, 0), ( 82, 0), ( 83, 0),\n",
       "        ( 84, 0), ( 85, 0), ( 86, 0), ( 87, 0), ( 88, 0), ( 89, 0),\n",
       "        ( 90, 0), ( 91, 0), ( 92, 0), ( 93, 0), ( 94, 0), ( 95, 0),\n",
       "        ( 96, 0), ( 97, 0), ( 98, 0), ( 99, 0), (100, 0), (101, 0),\n",
       "        (102, 0), (103, 0), (104, 0), (105, 0), (106, 0), (107, 0),\n",
       "        (108, 0), (109, 0), (110, 0), (111, 0), (112, 0), (113, 0),\n",
       "        (114, 0), (115, 0), (116, 0), (117, 0), (118, 0), (119, 0),\n",
       "        (120, 0)], dtype=[('structure', '<i4'), ('center', '<i4')])"
      ]
     },
     "execution_count": 35,
     "metadata": {},
     "output_type": "execute_result"
    }
   ],
   "source": [
    "block.samples"
   ]
  },
  {
   "cell_type": "code",
   "execution_count": 36,
   "metadata": {},
   "outputs": [
    {
     "data": {
      "text/plain": [
       "Labels([(0,), (1,), (2,), (3,), (4,), (5,)], dtype=[('n', '<i4')])"
      ]
     },
     "execution_count": 36,
     "metadata": {},
     "output_type": "execute_result"
    }
   ],
   "source": [
    "block.properties"
   ]
  },
  {
   "cell_type": "code",
   "execution_count": 37,
   "metadata": {},
   "outputs": [
    {
     "data": {
      "text/plain": [
       "[Labels([(-2,), (-1,), ( 0,), ( 1,), ( 2,)],\n",
       "        dtype=[('spherical_harmonics_m', '<i4')])]"
      ]
     },
     "execution_count": 37,
     "metadata": {},
     "output_type": "execute_result"
    }
   ],
   "source": [
    "block.components"
   ]
  },
  {
   "cell_type": "markdown",
   "metadata": {},
   "source": [
    "Depending on the type of system or application, some indices might be stored more conveniently as samples, properties, components, or as sparse keys. _equistore_ provides utility functions to reorder the data for more convenient manipulation. For instance, in this case all atoms have the same type of neighbors, and so it does not make sense to use sparse storage for the neighbor element index. We can move the index from keys to properties:"
   ]
  },
  {
   "cell_type": "code",
   "execution_count": 38,
   "metadata": {},
   "outputs": [
    {
     "data": {
      "text/plain": [
       "TensorMap with 10 blocks\n",
       "keys: ['spherical_harmonics_l' 'species_center']\n",
       "                  0                   1\n",
       "                  1                   1\n",
       "                  2                   1\n",
       "                  3                   1\n",
       "                  4                   1\n",
       "                  0                   8\n",
       "                  1                   8\n",
       "                  2                   8\n",
       "                  3                   8\n",
       "                  4                   8"
      ]
     },
     "execution_count": 38,
     "metadata": {},
     "output_type": "execute_result"
    }
   ],
   "source": [
    "descriptor.keys_to_properties('species_neighbor')"
   ]
  },
  {
   "cell_type": "code",
   "execution_count": 39,
   "metadata": {},
   "outputs": [
    {
     "data": {
      "text/plain": [
       "Labels([(0, 1, 1), (1, 1, 1), (2, 1, 1), (3, 1, 1), (4, 1, 1), (0, 1, 8),\n",
       "        (1, 1, 8), (2, 1, 8), (3, 1, 8), (4, 1, 8), (0, 8, 1), (1, 8, 1),\n",
       "        (2, 8, 1), (3, 8, 1), (4, 8, 1), (0, 8, 8), (1, 8, 8), (2, 8, 8),\n",
       "        (3, 8, 8), (4, 8, 8)],\n",
       "       dtype=[('spherical_harmonics_l', '<i4'), ('species_center', '<i4'), ('species_neighbor', '<i4')])"
      ]
     },
     "execution_count": 39,
     "metadata": {},
     "output_type": "execute_result"
    }
   ],
   "source": [
    "descriptor.keys"
   ]
  },
  {
   "cell_type": "code",
   "execution_count": 40,
   "metadata": {},
   "outputs": [
    {
     "data": {
      "text/plain": [
       "Labels([(0,), (1,), (2,), (3,), (4,), (5,)], dtype=[('n', '<i4')])"
      ]
     },
     "execution_count": 40,
     "metadata": {},
     "output_type": "execute_result"
    }
   ],
   "source": [
    "descriptor.block(0).properties"
   ]
  },
  {
   "cell_type": "markdown",
   "metadata": {},
   "source": [
    "## Equivariance of the descriptors"
   ]
  },
  {
   "cell_type": "markdown",
   "metadata": {},
   "source": [
    "Let's now see how the density coefficients actually behave as equivariant descriptors. This is kind of obvious given that we build them by expanding the density on a basis of spherical harmonics! Here we compute descriptors for two of the rotated structures, and see how the same result can be achieved by applying the rotation to the base molecule using a Wigner-D matrix."
   ]
  },
  {
   "cell_type": "code",
   "execution_count": 41,
   "metadata": {},
   "outputs": [],
   "source": [
    "base_descriptor = calculator.compute([base])\n",
    "selected_descriptor = calculator.compute([selected])"
   ]
  },
  {
   "cell_type": "code",
   "execution_count": 42,
   "metadata": {},
   "outputs": [],
   "source": [
    "base_descriptor = base_descriptor.keys_to_properties(\"species_neighbor\")\n",
    "selected_descriptor = selected_descriptor.keys_to_properties(\"species_neighbor\")"
   ]
  },
  {
   "cell_type": "code",
   "execution_count": 43,
   "metadata": {},
   "outputs": [],
   "source": [
    "base_block = base_descriptor.block(spherical_harmonics_l=2, species_center=8)\n",
    "selected_block = selected_descriptor.block(spherical_harmonics_l=2, species_center=8)"
   ]
  },
  {
   "attachments": {},
   "cell_type": "markdown",
   "metadata": {},
   "source": [
    "Let's inspect the values corresponding to the first sample of the selected block..."
   ]
  },
  {
   "cell_type": "code",
   "execution_count": 44,
   "metadata": {},
   "outputs": [
    {
     "data": {
      "text/plain": [
       "ExternalCpuArray([[ 0.00095825,  0.02684811,  0.00963709, -0.06326774,\n",
       "                   -0.00890712, -0.00458413,  0.        ,  0.        ,\n",
       "                    0.        ,  0.        ,  0.        ,  0.        ],\n",
       "                  [-0.00165973, -0.04650229, -0.01669192,  0.10958294,\n",
       "                    0.01542758,  0.00793994,  0.        ,  0.        ,\n",
       "                    0.        ,  0.        ,  0.        ,  0.        ],\n",
       "                  [ 0.01216343,  0.05015475,  0.15613384, -0.01197167,\n",
       "                    0.00120594, -0.00380633,  0.        ,  0.        ,\n",
       "                    0.        ,  0.        ,  0.        ,  0.        ],\n",
       "                  [-0.02423478, -0.04320208, -0.31768411, -0.13055851,\n",
       "                   -0.0247058 , -0.00303057,  0.        ,  0.        ,\n",
       "                    0.        ,  0.        ,  0.        ,  0.        ],\n",
       "                  [-0.00691624,  0.03698511, -0.09639827, -0.17149153,\n",
       "                   -0.02643906, -0.01009214,  0.        ,  0.        ,\n",
       "                    0.        ,  0.        ,  0.        ,  0.        ]])"
      ]
     },
     "execution_count": 44,
     "metadata": {},
     "output_type": "execute_result"
    }
   ],
   "source": [
    "selected_block.values[0]"
   ]
  },
  {
   "attachments": {},
   "cell_type": "markdown",
   "metadata": {},
   "source": [
    "Build a Wigner-D matrix for the given Euler angles and $l=2$ value..."
   ]
  },
  {
   "cell_type": "code",
   "execution_count": 45,
   "metadata": {},
   "outputs": [
    {
     "data": {
      "text/plain": [
       "array([[ 0.3117449 , -0.78026193,  0.        ,  0.37575434, -0.39091574],\n",
       "       [-0.53995801, -0.45048443,  0.        ,  0.21694187,  0.67708593],\n",
       "       [ 0.50781444,  0.3254128 , -0.125     ,  0.67572665,  0.40496851],\n",
       "       [-0.33854296,  0.21694187,  0.75      ,  0.45048443, -0.269979  ],\n",
       "       [ 0.48864468, -0.18787717,  0.64951905, -0.39013096,  0.38968113]])"
      ]
     },
     "execution_count": 45,
     "metadata": {},
     "output_type": "execute_result"
    }
   ],
   "source": [
    "wd = wigner_d_real(\n",
    "    2, selected.info[\"alpha\"], selected.info[\"beta\"], selected.info[\"gamma\"]\n",
    ")\n",
    "wd"
   ]
  },
  {
   "attachments": {},
   "cell_type": "markdown",
   "metadata": {},
   "source": [
    "Now if we perform a rotation on the values corresponding to the first sample of\n",
    "the base block, we should end up with the same result:"
   ]
  },
  {
   "cell_type": "code",
   "execution_count": 46,
   "metadata": {},
   "outputs": [
    {
     "data": {
      "text/plain": [
       "array([[ 0.00095825,  0.02684811,  0.00963709, -0.06326774, -0.00890712,\n",
       "        -0.00458413,  0.        ,  0.        ,  0.        ,  0.        ,\n",
       "         0.        ,  0.        ],\n",
       "       [-0.00165973, -0.04650229, -0.01669192,  0.10958294,  0.01542758,\n",
       "         0.00793994,  0.        ,  0.        ,  0.        ,  0.        ,\n",
       "         0.        ,  0.        ],\n",
       "       [ 0.01216343,  0.05015475,  0.15613384, -0.01197167,  0.00120594,\n",
       "        -0.00380633,  0.        ,  0.        ,  0.        ,  0.        ,\n",
       "         0.        ,  0.        ],\n",
       "       [-0.02423478, -0.04320208, -0.31768411, -0.13055851, -0.0247058 ,\n",
       "        -0.00303057,  0.        ,  0.        ,  0.        ,  0.        ,\n",
       "         0.        ,  0.        ],\n",
       "       [-0.00691624,  0.03698511, -0.09639827, -0.17149153, -0.02643906,\n",
       "        -0.01009214,  0.        ,  0.        ,  0.        ,  0.        ,\n",
       "         0.        ,  0.        ]])"
      ]
     },
     "execution_count": 46,
     "metadata": {},
     "output_type": "execute_result"
    }
   ],
   "source": [
    "wd @ base_block.values[0]"
   ]
  },
  {
   "cell_type": "code",
   "execution_count": 47,
   "metadata": {},
   "outputs": [
    {
     "data": {
      "text/plain": [
       "True"
      ]
     },
     "execution_count": 47,
     "metadata": {},
     "output_type": "execute_result"
    }
   ],
   "source": [
    "np.allclose(wd @ base_block.values[0], selected_block.values[0])"
   ]
  },
  {
   "cell_type": "markdown",
   "metadata": {},
   "source": [
    "In light of this, we can see density coefficients as _symmetry adapted_ descriptors. To emphasize their equivariant behavior, and that they reflect the distribution of neighbors by summing over them one of a time, we indicate the coefficients as \n",
    "\n",
    "$$\n",
    "\\langle an|\\overline{\\rho_i^{\\otimes 1}; \\lambda \\mu }\\rangle \\equiv\n",
    "\\langle an\\lambda \\mu|\\rho_i\\rangle\n",
    "$$"
   ]
  },
  {
   "cell_type": "markdown",
   "metadata": {},
   "source": [
    "# Atom-centered density correlations"
   ]
  },
  {
   "cell_type": "markdown",
   "metadata": {},
   "source": [
    "The density expansion coefficients can be regarded as the simplest possible form of an equivariant descriptor built based on the neighbor density. The invariant part, $\\langle an|\\overline{\\rho_i^{\\otimes 1}; 00 }\\rangle$ corresponds to a discretization of the pair correlation function: using a real-space basis,\n",
    "\n",
    "$$\n",
    "    \\langle ax|\\overline{\\rho_i^{\\otimes 1}; 00 }\\rangle \\approx \\sum_{j\\in A_i} \\delta_{a a_j} \\langle x | r_{ji} \\rangle \n",
    "$$\n",
    "\n",
    "where $ \\langle x | r_{ji} \\rangle $ is a localized function centered on $r_{ji}$. "
   ]
  },
  {
   "cell_type": "markdown",
   "metadata": {},
   "source": [
    "In order to obtain a richer description of the atomic environment it is possible to combine several copies of $\\langle a\\mathbf{x} | \\rho_i \\rangle$, to build $\\nu$-neighbors atom-centered density correlations (ACDCs). \n",
    "The formalism we use was introduced by [Willatt et al.](https://doi.org/10.1063/1.5090481), and is explained in detail, discussing its relation with the leading frameworks for atomistic machine learning, in a [review by Musil et al.](https://doi.org/10.1021/acs.chemrev.1c00021)\n",
    "\n",
    "Essentially, the idea is that considering tensor products of the atom density provides simultaneous information on the mutual position of several neighbors\n",
    "\n",
    "$$\n",
    "\\langle \\mathbf{x} |  \\rho_i \\rangle \\langle \\mathbf{x}' |  \\rho_i \\rangle =\n",
    "\\sum_{jj'\\in A_i}\n",
    "\\langle \\mathbf{x} |\\mathbf{r}_{ji} \\rangle \\langle \\mathbf{x}' |\\mathbf{r}_{j'i} \\rangle. \n",
    "$$\n",
    "\n",
    "Much like for the case of [Cartesian tensors](#spherical-tensors), these tensor products can be re-cast in terms of irreducible representations of the O(3) (rotations + inversion) group. A (comparatively) simple and efficient way to obtain these equivariant ACDC features is to build them iteratively, as discussed e.g. by [Nigam et al. ](https://doi.org/10.1063/5.0021116), using an expression that corresponds to the combination of angular momenta in quantum mechanics using Clebsch-Gordan coefficients $\\langle k m_1\\  l m_2 | \\lambda \\mu \\rangle$.\n",
    "\n",
    "$$\n",
    "\\langle q k;  a n l|\\overline{\\rho_i^{\\otimes (\\nu+1)}; \\sigma (-1)^{l+k+\\lambda};  \\lambda \\mu } \\rangle = \n",
    "\\sum_{m_1 m_2} \n",
    "\\langle q |\\overline{\\rho_i^{\\otimes \\nu}; k m_1 } \\rangle\n",
    "\\langle a n|\\overline{\\rho_i^{\\otimes 1}; \\sigma l m_2 } \\rangle \n",
    "\\langle k m_1\\  l m_2 | \\lambda \\mu \\rangle.\n",
    "$$\n",
    "\n",
    "The additional index $\\sigma$ in the ket $|\\sigma; \\lambda \\mu>$ takes the values $\\pm 1$ and tracks the parity of the descriptors with respect to inversion (all the $\\nu=1$ equivariants have a parity $+1$, which means that they pick up a phase $(-1)^\\lambda$ under inversion)."
   ]
  },
  {
   "cell_type": "markdown",
   "metadata": {},
   "source": [
    "## Computing $\\nu=2$ equivariants ($\\lambda$-SOAP)"
   ]
  },
  {
   "cell_type": "markdown",
   "metadata": {},
   "source": [
    "This is a lot to take in, so let's see how this is realized in a practical case. First, we convert the descriptors in a standardized form (the combination routines use the metadata in TensorMap to generate the right combinations)."
   ]
  },
  {
   "cell_type": "code",
   "execution_count": 48,
   "metadata": {},
   "outputs": [],
   "source": [
    "from equistore import Labels, TensorBlock, TensorMap\n",
    "from utils.acdc_mini import *"
   ]
  },
  {
   "cell_type": "code",
   "execution_count": 49,
   "metadata": {},
   "outputs": [],
   "source": [
    "# precompute the C-G coefficients so they can be reused. we need to go up to l_max*2 \n",
    "cg = ClebschGordanReal(l_max=hypers[\"max_angular\"])"
   ]
  },
  {
   "cell_type": "code",
   "execution_count": 50,
   "metadata": {},
   "outputs": [],
   "source": [
    "# this enforces a consistent naming convention for the various components\n",
    "acdc_nu1 = acdc_standardize_keys(descriptor) "
   ]
  },
  {
   "cell_type": "code",
   "execution_count": 51,
   "metadata": {},
   "outputs": [],
   "source": [
    "# and this makes sure that all blocks have the same size, \n",
    "# by merging blocks associated with different central atoms\n",
    "acdc_nu1 = acdc_nu1.keys_to_samples(\"species_center\")\n",
    "acdc_nu1 = acdc_nu1.keys_to_properties(\"species_neighbor\")"
   ]
  },
  {
   "cell_type": "code",
   "execution_count": 52,
   "metadata": {},
   "outputs": [
    {
     "data": {
      "text/plain": [
       "Labels([(1, 1, 0), (1, 1, 1), (1, 1, 2), (1, 1, 3), (1, 1, 4)],\n",
       "       dtype=[('order_nu', '<i4'), ('inversion_sigma', '<i4'), ('spherical_harmonics_l', '<i4')])"
      ]
     },
     "execution_count": 52,
     "metadata": {},
     "output_type": "execute_result"
    }
   ],
   "source": [
    "acdc_nu1.keys"
   ]
  },
  {
   "cell_type": "code",
   "execution_count": 53,
   "metadata": {},
   "outputs": [
    {
     "data": {
      "text/plain": [
       "TensorMap with 5 blocks\n",
       "keys: ['order_nu' 'inversion_sigma' 'spherical_harmonics_l']\n",
       "           1             1                    0\n",
       "           1             1                    1\n",
       "           1             1                    2\n",
       "           1             1                    3\n",
       "           1             1                    4"
      ]
     },
     "execution_count": 53,
     "metadata": {},
     "output_type": "execute_result"
    }
   ],
   "source": [
    "acdc_nu1"
   ]
  },
  {
   "cell_type": "code",
   "execution_count": 54,
   "metadata": {},
   "outputs": [
    {
     "data": {
      "text/plain": [
       "TensorBlock\n",
       "    samples (363): ['structure', 'center', 'species_center']\n",
       "    components (3): ['spherical_harmonics_m']\n",
       "    properties (12): ['species_neighbor', 'n_1']\n",
       "    gradients: None"
      ]
     },
     "execution_count": 54,
     "metadata": {},
     "output_type": "execute_result"
    }
   ],
   "source": [
    "acdc_nu1.block(spherical_harmonics_l=1)"
   ]
  },
  {
   "cell_type": "markdown",
   "metadata": {},
   "source": [
    "... then we call the C-G combination using a utility subroutine. The combinations generate more blocks (some with even and some with odd inversion parity, and potentially up to twice the maximum $l$ in the inputs), and for each block many more features (the full tensor product of species and radial functions, as well as angular momentum labels). This function computes ALL combinations (up to an equivariant cutoff `lcut`), which is very wasteful because many combinations are linearly dependent."
   ]
  },
  {
   "cell_type": "code",
   "execution_count": 55,
   "metadata": {},
   "outputs": [],
   "source": [
    "acdc_nu2 = cg_increment(acdc_nu1, acdc_nu1, clebsch_gordan=cg, lcut=hypers[\"max_angular\"])"
   ]
  },
  {
   "cell_type": "code",
   "execution_count": 56,
   "metadata": {},
   "outputs": [
    {
     "data": {
      "text/plain": [
       "Labels([(2,  1, 0), (2,  1, 1), (2,  1, 2), (2,  1, 3), (2,  1, 4),\n",
       "        (2, -1, 1), (2, -1, 2), (2, -1, 3), (2, -1, 4)],\n",
       "       dtype=[('order_nu', '<i4'), ('inversion_sigma', '<i4'), ('spherical_harmonics_l', '<i4')])"
      ]
     },
     "execution_count": 56,
     "metadata": {},
     "output_type": "execute_result"
    }
   ],
   "source": [
    "acdc_nu2.keys"
   ]
  },
  {
   "cell_type": "code",
   "execution_count": 57,
   "metadata": {},
   "outputs": [
    {
     "data": {
      "text/plain": [
       "('species_neighbor_1', 'n_1', 'l_1', 'species_neighbor_2', 'n_2', 'l_2')"
      ]
     },
     "execution_count": 57,
     "metadata": {},
     "output_type": "execute_result"
    }
   ],
   "source": [
    "acdc_nu2.block(0).properties.names"
   ]
  },
  {
   "cell_type": "markdown",
   "metadata": {},
   "source": [
    "## Equivariance of the higher-order descriptors"
   ]
  },
  {
   "cell_type": "markdown",
   "metadata": {},
   "source": [
    "Let's now see how the density coefficients actually behave as equivariant descriptors. This is kind of obvious given that we build them by expanding the density on a basis of spherical harmonics! Here we compute descriptors for two of the rotated structures, and see how the same result can be achieved by applying the rotation to the base molecule using a Wigner-D matrix."
   ]
  },
  {
   "cell_type": "code",
   "execution_count": 58,
   "metadata": {},
   "outputs": [],
   "source": [
    "test_descriptors = calculator.compute([base, selected])\n",
    "test_descriptors = test_descriptors.keys_to_properties(\"species_neighbor\")\n",
    "test_nu1 = acdc_standardize_keys(test_descriptors)\n",
    "test_nu1 = test_nu1.keys_to_samples(\"species_center\")\n",
    "test_nu2 = cg_increment(\n",
    "    test_nu1, test_nu1, clebsch_gordan=cg, lcut=hypers[\"max_angular\"]\n",
    ")"
   ]
  },
  {
   "cell_type": "code",
   "execution_count": 59,
   "metadata": {},
   "outputs": [],
   "source": [
    "test_block = test_nu2.block(spherical_harmonics_l=3, inversion_sigma=1)"
   ]
  },
  {
   "cell_type": "code",
   "execution_count": 60,
   "metadata": {},
   "outputs": [],
   "source": [
    "# for simplicity, we are computing all descriptors in one go,\n",
    "# so we fetch the block corresponding to the base and the rotated O\n",
    "test_base = test_block.values[test_block.samples.position((0, 0, 8))]\n",
    "test_selected = test_block.values[test_block.samples.position((1, 0, 8))]"
   ]
  },
  {
   "cell_type": "markdown",
   "metadata": {},
   "source": [
    "Recall that `selected` is a rigidly-rotated copy of the `base` molecule, so the features should correspond after being rotated with an appropriate Wigner matrix..."
   ]
  },
  {
   "cell_type": "code",
   "execution_count": 61,
   "metadata": {},
   "outputs": [],
   "source": [
    "wd = wigner_d_real(\n",
    "    3, selected.info[\"alpha\"], selected.info[\"beta\"], selected.info[\"gamma\"]\n",
    ")"
   ]
  },
  {
   "cell_type": "code",
   "execution_count": 62,
   "metadata": {},
   "outputs": [
    {
     "data": {
      "text/plain": [
       "array([[ 0.00014072, -0.00077032,  0.00188498, ...,  0.        ,\n",
       "         0.        ,  0.        ],\n",
       "       [ 0.00042794,  0.00030499,  0.00587038, ...,  0.        ,\n",
       "         0.        ,  0.        ],\n",
       "       [-0.00020352, -0.00081942, -0.00282702, ...,  0.        ,\n",
       "         0.        ,  0.        ],\n",
       "       ...,\n",
       "       [-0.00061061, -0.00110093, -0.00841084, ...,  0.        ,\n",
       "         0.        ,  0.        ],\n",
       "       [ 0.00047921, -0.00018288,  0.00654632, ...,  0.        ,\n",
       "         0.        ,  0.        ],\n",
       "       [-0.00020379,  0.0004222 , -0.00276587, ...,  0.        ,\n",
       "         0.        ,  0.        ]])"
      ]
     },
     "execution_count": 62,
     "metadata": {},
     "output_type": "execute_result"
    }
   ],
   "source": [
    "test_selected"
   ]
  },
  {
   "cell_type": "code",
   "execution_count": 63,
   "metadata": {},
   "outputs": [
    {
     "data": {
      "text/plain": [
       "array([[ 0.00014072, -0.00077032,  0.00188498, ...,  0.        ,\n",
       "         0.        ,  0.        ],\n",
       "       [ 0.00042794,  0.00030499,  0.00587038, ...,  0.        ,\n",
       "         0.        ,  0.        ],\n",
       "       [-0.00020352, -0.00081942, -0.00282702, ...,  0.        ,\n",
       "         0.        ,  0.        ],\n",
       "       ...,\n",
       "       [-0.00061061, -0.00110093, -0.00841084, ...,  0.        ,\n",
       "         0.        ,  0.        ],\n",
       "       [ 0.00047921, -0.00018288,  0.00654632, ...,  0.        ,\n",
       "         0.        ,  0.        ],\n",
       "       [-0.00020379,  0.0004222 , -0.00276587, ...,  0.        ,\n",
       "         0.        ,  0.        ]])"
      ]
     },
     "execution_count": 63,
     "metadata": {},
     "output_type": "execute_result"
    }
   ],
   "source": [
    "wd @ test_base   # ... and they do match!"
   ]
  },
  {
   "cell_type": "code",
   "execution_count": 64,
   "metadata": {},
   "outputs": [
    {
     "data": {
      "text/plain": [
       "True"
      ]
     },
     "execution_count": 64,
     "metadata": {},
     "output_type": "execute_result"
    }
   ],
   "source": [
    "np.allclose(wd @ test_base, test_selected)"
   ]
  },
  {
   "cell_type": "markdown",
   "metadata": {},
   "source": [
    "# An equivariant ML model"
   ]
  },
  {
   "cell_type": "markdown",
   "metadata": {},
   "source": [
    "Now, let's see how we can use equivariant features to build an equivariant model that predicts the dipole of the water molecule. We will do so with linear regression, that reveals clearly the nature of the problem. \n",
    "It is interesting to note, that the algebraic structure of $O(3)$ means that in practice most equivariant models have a structure that is very close to that underlying the iterative construction of ACDCs. \n",
    "[Cormorant](https://proceedings.neurips.cc/paper/2019/file/03573b32b2746e6e8ca98b9123f2249b-Paper.pdf) and [Tensor Field Networks](http://arxiv.org/abs/1802.08219v3) are two examples of equivariant networks that effectively build linear combinations of $|\\overline{\\rho_i^{\\otimes \\nu}; \\sigma;  \\lambda \\mu }\\rangle$ features, and pretty much all other schemes can be regarded as injecting non-linearities in the form of multipliers that depend only on scalar descriptors. See [Nigam et al.](https://aip.scitation.org/doi/10.1063/5.0087042) for a formal discussion of the analogies and differences between ACDCs and alternative schemes."
   ]
  },
  {
   "cell_type": "markdown",
   "metadata": {},
   "source": [
    "A linear model for a tensorial property $y^\\mu_\\lambda$ (already expressed in its irreducible spherical form) can be readily built as \n",
    "\n",
    "$$\n",
    "\\tilde{y}^{\\sigma;\\lambda}_\\mu(A_i) \\approx \\sum_q w_q \\langle q|\\overline{\\rho_i^{\\otimes \\nu}; \\sigma;  \\lambda \\mu }\\rangle.\n",
    "$$\n",
    "\n",
    "It is essential that the weights depend on the feature weight, but not on the symmetry component $\\mu$: then,\n",
    "\n",
    "$$\n",
    "\\tilde{y}^{\\sigma;\\lambda}_\\mu(\\hat{R}A_i) \\approx \\sum_q w_q \\langle q|\\hat{R}\\overline{\\rho_i^{\\otimes \\nu}; \\sigma;  \\lambda \\mu }\\rangle = \\hat{R}y^{\\sigma;\\lambda}_\\mu(A_i),\n",
    "$$\n",
    "\n",
    "provided that $|\\overline{\\rho_i^{\\otimes \\nu}; \\sigma;  \\lambda \\mu }\\rangle$ is equivariant to $\\hat{R}$. "
   ]
  },
  {
   "cell_type": "markdown",
   "metadata": {},
   "source": [
    "By defining a $L^2$ loss in which one sums over the mean square error for all components $\\mu$ as well as the train set indices, \n",
    "\n",
    "$$\n",
    "\\ell = \\sum_{i\\mu} |\\tilde{y}^{\\sigma;\\lambda}_\\mu(A_i) - y^{\\sigma;\\lambda}_\\mu(A_i)|^2\n",
    "$$\n",
    "\n",
    "one sees that in order to build a linear regression scheme it is enough to treat the symmetry components as sample indices -- although one must pay attention to keep blocks associated with a given structure together when splitting the data set or performing cross-validation. This means one can use standard ridge regression from `sklearn`. Note it's important _not_ to fit an intercept, as that is incompatible with rotational symmetry: all $\\lambda>0$ tensor components must average to zero over rotations."
   ]
  },
  {
   "cell_type": "code",
   "execution_count": 65,
   "metadata": {},
   "outputs": [],
   "source": [
    "from sklearn.linear_model import Ridge"
   ]
  },
  {
   "cell_type": "code",
   "execution_count": 66,
   "metadata": {},
   "outputs": [],
   "source": [
    "ridge = Ridge(alpha=1e-8, fit_intercept=False)"
   ]
  },
  {
   "cell_type": "code",
   "execution_count": 67,
   "metadata": {},
   "outputs": [
    {
     "data": {
      "text/html": [
       "<style>#sk-container-id-1 {color: black;background-color: white;}#sk-container-id-1 pre{padding: 0;}#sk-container-id-1 div.sk-toggleable {background-color: white;}#sk-container-id-1 label.sk-toggleable__label {cursor: pointer;display: block;width: 100%;margin-bottom: 0;padding: 0.3em;box-sizing: border-box;text-align: center;}#sk-container-id-1 label.sk-toggleable__label-arrow:before {content: \"▸\";float: left;margin-right: 0.25em;color: #696969;}#sk-container-id-1 label.sk-toggleable__label-arrow:hover:before {color: black;}#sk-container-id-1 div.sk-estimator:hover label.sk-toggleable__label-arrow:before {color: black;}#sk-container-id-1 div.sk-toggleable__content {max-height: 0;max-width: 0;overflow: hidden;text-align: left;background-color: #f0f8ff;}#sk-container-id-1 div.sk-toggleable__content pre {margin: 0.2em;color: black;border-radius: 0.25em;background-color: #f0f8ff;}#sk-container-id-1 input.sk-toggleable__control:checked~div.sk-toggleable__content {max-height: 200px;max-width: 100%;overflow: auto;}#sk-container-id-1 input.sk-toggleable__control:checked~label.sk-toggleable__label-arrow:before {content: \"▾\";}#sk-container-id-1 div.sk-estimator input.sk-toggleable__control:checked~label.sk-toggleable__label {background-color: #d4ebff;}#sk-container-id-1 div.sk-label input.sk-toggleable__control:checked~label.sk-toggleable__label {background-color: #d4ebff;}#sk-container-id-1 input.sk-hidden--visually {border: 0;clip: rect(1px 1px 1px 1px);clip: rect(1px, 1px, 1px, 1px);height: 1px;margin: -1px;overflow: hidden;padding: 0;position: absolute;width: 1px;}#sk-container-id-1 div.sk-estimator {font-family: monospace;background-color: #f0f8ff;border: 1px dotted black;border-radius: 0.25em;box-sizing: border-box;margin-bottom: 0.5em;}#sk-container-id-1 div.sk-estimator:hover {background-color: #d4ebff;}#sk-container-id-1 div.sk-parallel-item::after {content: \"\";width: 100%;border-bottom: 1px solid gray;flex-grow: 1;}#sk-container-id-1 div.sk-label:hover label.sk-toggleable__label {background-color: #d4ebff;}#sk-container-id-1 div.sk-serial::before {content: \"\";position: absolute;border-left: 1px solid gray;box-sizing: border-box;top: 0;bottom: 0;left: 50%;z-index: 0;}#sk-container-id-1 div.sk-serial {display: flex;flex-direction: column;align-items: center;background-color: white;padding-right: 0.2em;padding-left: 0.2em;position: relative;}#sk-container-id-1 div.sk-item {position: relative;z-index: 1;}#sk-container-id-1 div.sk-parallel {display: flex;align-items: stretch;justify-content: center;background-color: white;position: relative;}#sk-container-id-1 div.sk-item::before, #sk-container-id-1 div.sk-parallel-item::before {content: \"\";position: absolute;border-left: 1px solid gray;box-sizing: border-box;top: 0;bottom: 0;left: 50%;z-index: -1;}#sk-container-id-1 div.sk-parallel-item {display: flex;flex-direction: column;z-index: 1;position: relative;background-color: white;}#sk-container-id-1 div.sk-parallel-item:first-child::after {align-self: flex-end;width: 50%;}#sk-container-id-1 div.sk-parallel-item:last-child::after {align-self: flex-start;width: 50%;}#sk-container-id-1 div.sk-parallel-item:only-child::after {width: 0;}#sk-container-id-1 div.sk-dashed-wrapped {border: 1px dashed gray;margin: 0 0.4em 0.5em 0.4em;box-sizing: border-box;padding-bottom: 0.4em;background-color: white;}#sk-container-id-1 div.sk-label label {font-family: monospace;font-weight: bold;display: inline-block;line-height: 1.2em;}#sk-container-id-1 div.sk-label-container {text-align: center;}#sk-container-id-1 div.sk-container {/* jupyter's `normalize.less` sets `[hidden] { display: none; }` but bootstrap.min.css set `[hidden] { display: none !important; }` so we also need the `!important` here to be able to override the default hidden behavior on the sphinx rendered scikit-learn.org. See: https://github.com/scikit-learn/scikit-learn/issues/21755 */display: inline-block !important;position: relative;}#sk-container-id-1 div.sk-text-repr-fallback {display: none;}</style><div id=\"sk-container-id-1\" class=\"sk-top-container\"><div class=\"sk-text-repr-fallback\"><pre>Ridge(alpha=1e-08, fit_intercept=False)</pre><b>In a Jupyter environment, please rerun this cell to show the HTML representation or trust the notebook. <br />On GitHub, the HTML representation is unable to render, please try loading this page with nbviewer.org.</b></div><div class=\"sk-container\" hidden><div class=\"sk-item\"><div class=\"sk-estimator sk-toggleable\"><input class=\"sk-toggleable__control sk-hidden--visually\" id=\"sk-estimator-id-1\" type=\"checkbox\" checked><label for=\"sk-estimator-id-1\" class=\"sk-toggleable__label sk-toggleable__label-arrow\">Ridge</label><div class=\"sk-toggleable__content\"><pre>Ridge(alpha=1e-08, fit_intercept=False)</pre></div></div></div></div></div>"
      ],
      "text/plain": [
       "Ridge(alpha=1e-08, fit_intercept=False)"
      ]
     },
     "execution_count": 67,
     "metadata": {},
     "output_type": "execute_result"
    }
   ],
   "source": [
    "# uses only O as centers (simpler, there's just one sample per molecule)\n",
    "idx = np.where(\n",
    "    acdc_nu1.block(inversion_sigma=1, spherical_harmonics_l=1).samples[\"species_center\"]\n",
    "    == 8\n",
    ")[0]\n",
    "# try using acdc_nu1 as descriptors: performances are horrible because it does not hold info on the HOH angle!\n",
    "X = acdc_nu2.block(inversion_sigma=1, spherical_harmonics_l=1).values[idx]\n",
    "y = xyz_to_spherical(dipoles.values)\n",
    "ridge.fit(X[::2].reshape(-1, X.shape[-1]), y[::2].flatten())"
   ]
  },
  {
   "cell_type": "code",
   "execution_count": 68,
   "metadata": {},
   "outputs": [],
   "source": [
    "yp = ridge.predict(X.reshape(-1, X.shape[-1])).reshape(-1, 3)"
   ]
  },
  {
   "cell_type": "code",
   "execution_count": 69,
   "metadata": {},
   "outputs": [
    {
     "data": {
      "text/plain": [
       "<matplotlib.legend.Legend at 0x28a950d90>"
      ]
     },
     "execution_count": 69,
     "metadata": {},
     "output_type": "execute_result"
    },
    {
     "data": {
      "image/png": "[encoded data removed]",
      "text/plain": [
       "<Figure size 640x480 with 1 Axes>"
      ]
     },
     "metadata": {},
     "output_type": "display_data"
    }
   ],
   "source": [
    "plt.plot(y[1::2].flatten(), yp[1::2].flatten(), \"r.\", label=\"test\")\n",
    "plt.plot(y[::2].flatten(), yp[::2].flatten(), \"b.\", label=\"train\")\n",
    "plt.xlabel(r\"$y_\\mu$ / eV/Å\")\n",
    "plt.ylabel(r\"$\\tilde{y}_\\mu$ / eV/Å\")\n",
    "plt.legend()"
   ]
  },
  {
   "cell_type": "markdown",
   "metadata": {},
   "source": [
    "Even though all structures in the train set lie in the $xy$ plane, the model predicts perfectly well the dipoles of arbitrarily oriented molecules."
   ]
  },
  {
   "cell_type": "code",
   "execution_count": 70,
   "metadata": {},
   "outputs": [],
   "source": [
    "rotated_descriptors = calculator.compute(rotated_structures)\n",
    "rotated_descriptors = rotated_descriptors.keys_to_properties(\"species_neighbor\")\n",
    "rot_nu1 = acdc_standardize_keys(rotated_descriptors)\n",
    "rot_nu1 = rot_nu1.keys_to_samples(\"species_center\")\n",
    "rot_nu2 = cg_increment(rot_nu1, rot_nu1, clebsch_gordan=cg, lcut=hypers[\"max_angular\"])"
   ]
  },
  {
   "cell_type": "code",
   "execution_count": 71,
   "metadata": {},
   "outputs": [],
   "source": [
    "idx = np.where(\n",
    "    rot_nu1.block(inversion_sigma=1, spherical_harmonics_l=1).samples[\"species_center\"]\n",
    "    == 8\n",
    ")[0]\n",
    "X = rot_nu2.block(inversion_sigma=1, spherical_harmonics_l=1).values[idx]\n",
    "rot_yp = spherical_to_xyz(ridge.predict(X.reshape(-1, X.shape[-1])).reshape(-1, 3))"
   ]
  },
  {
   "cell_type": "code",
   "execution_count": 72,
   "metadata": {},
   "outputs": [],
   "source": [
    "rot_y = np.asarray([frame.info['dipole'] for frame in rotated_structures])"
   ]
  },
  {
   "cell_type": "code",
   "execution_count": 73,
   "metadata": {},
   "outputs": [
    {
     "data": {
      "text/plain": [
       "Text(0, 0.5, '$\\\\tilde{y}_\\\\alpha$ / eV/Å')"
      ]
     },
     "execution_count": 73,
     "metadata": {},
     "output_type": "execute_result"
    },
    {
     "data": {
      "image/png": "[encoded data removed]",
      "text/plain": [
       "<Figure size 640x480 with 1 Axes>"
      ]
     },
     "metadata": {},
     "output_type": "display_data"
    }
   ],
   "source": [
    "plt.plot(rot_y.flatten(), rot_yp.flatten(), 'b.')\n",
    "plt.xlabel(r\"$y_\\mu$ / eV/Å\")\n",
    "plt.ylabel(r\"$\\tilde{y}_\\mu$ / eV/Å\")\n",
    "plt.xlabel(r\"$y_\\alpha$ / eV/Å\")\n",
    "plt.ylabel(r\"$\\tilde{y}_\\alpha$ / eV/Å\")"
   ]
  },
  {
   "cell_type": "markdown",
   "metadata": {},
   "source": [
    "Let's look at how the predicted dipoles rotate with the molecule..."
   ]
  },
  {
   "cell_type": "code",
   "execution_count": 74,
   "metadata": {},
   "outputs": [],
   "source": [
    "rotated_wdipolep = []\n",
    "dipole_mol = ase.Atoms(\"FH\", positions=[[0, 2, 0], selected_dipole + [0, 2, 0]])\n",
    "for i, f in enumerate(rotated_structures):\n",
    "    # for visualization purpose we display the dipole as an HF molecule - the origin must also be rotated, which we had done manually above\n",
    "    rotated_wdipolep.append(\n",
    "        f\n",
    "        + ase.Atoms(\n",
    "            \"FH\",\n",
    "            positions=[\n",
    "                rotated_wdipole[i].positions[3],\n",
    "                rotated_wdipole[i].positions[3] + rot_yp[i] * 2,\n",
    "            ],\n",
    "        )\n",
    "    )"
   ]
  },
  {
   "cell_type": "code",
   "execution_count": 75,
   "metadata": {},
   "outputs": [
    {
     "data": {
      "application/vnd.jupyter.widget-view+json": {
       "model_id": "14404428dcfd45329bd3f7f148d5d27e",
       "version_major": 2,
       "version_minor": 0
      },
      "text/plain": [
       "ChemiscopeWidget(value='{\"meta\": {\"name\": \" \"}, \"settings\": {\"structure\": [{\"axes\": \"xyz\", \"keepOrientation\": …"
      ]
     },
     "execution_count": 75,
     "metadata": {},
     "output_type": "execute_result"
    }
   ],
   "source": [
    "chemiscope.show(\n",
    "    rotated_wdipolep,\n",
    "    properties=chemiscope.extract_properties(\n",
    "        rotated_wdipolep, [\"alpha\", \"beta\", \"gamma\", \"energy\"]\n",
    "    ),\n",
    "    settings={\n",
    "        \"structure\": [{\"axes\": \"xyz\", \"keepOrientation\": True}],\n",
    "        \"map\": {\n",
    "            \"x\": {\"property\": \"alpha\"},\n",
    "            \"y\": {\"property\": \"beta\"},\n",
    "            \"z\": {\"property\": \"gamma\"},\n",
    "            \"color\": {\"property\": \"energy\"},\n",
    "        },\n",
    "    },\n",
    ")"
   ]
  },
  {
   "cell_type": "code",
   "execution_count": null,
   "metadata": {},
   "outputs": [],
   "source": []
  }
 ],
 "metadata": {
  "kernelspec": {
   "display_name": "Python 3.10.0 ('virtualenv': venv)",
   "language": "python",
   "name": "python3"
  },
  "language_info": {
   "codemirror_mode": {
    "name": "ipython",
    "version": 3
   },
   "file_extension": ".py",
   "mimetype": "text/x-python",
   "name": "python",
   "nbconvert_exporter": "python",
   "pygments_lexer": "ipython3",
   "version": "3.10.8"
  },
  "toc": {
   "base_numbering": 1,
   "nav_menu": {},
   "number_sections": true,
   "sideBar": true,
   "skip_h1_title": false,
   "title_cell": "Table of Contents",
   "title_sidebar": "Contents",
   "toc_cell": false,
   "toc_position": {
    "height": "calc(100% - 180px)",
    "left": "10px",
    "top": "150px",
    "width": "397px"
   },
   "toc_section_display": true,
   "toc_window_display": true
  },
  "vscode": {
   "interpreter": {
    "hash": "9b1dab49005db54eeaf19407b770a132388229704ecb91b436b854691f0d31ef"
   }
  }
 },
 "nbformat": 4,
 "nbformat_minor": 4
}
