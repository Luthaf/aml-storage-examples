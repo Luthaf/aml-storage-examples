{
 "cells": [
  {
   "cell_type": "code",
   "execution_count": 1,
   "metadata": {},
   "outputs": [],
   "source": [
    "%load_ext autoreload\n",
    "%autoreload 2"
   ]
  },
  {
   "cell_type": "markdown",
   "metadata": {},
   "source": [
    "<p style=\"font-size:32px; font-weight: bolder; text-align: center\">Equivariant ML models</p>\n",
    "<p style=\"font-size:16px; text-align: center\">A tutorial introduction</p>\n",
    "<p style=\"text-align: center\"><i> authored by: <a href=\"mailto:michele.ceriotti@gmail.com\"> Michele Ceriotti </a></i></p>"
   ]
  },
  {
   "cell_type": "markdown",
   "metadata": {},
   "source": [
    "_Equivariance_ indicates the property of a function for which the inputs and outputs are subject to the action of the same symmetries, and which commutes with the application of the symmetries, that is: $f(\\hat{S}A) = \\hat{S} f(A)$. _Invariance_ can be seen as a special case, in which  $f(\\hat{S}A) = f(A)$.\n",
    "\n",
    "This notebook provides a brief introduction to the concept of equivariance in the context of atomic-scale machine-learning models, focusing in particular on the case of 3D rotations and inversion - in technical terms the $O(3)$ group symmetries - and their combination with translations - the three-dimensional Euclidean group $E(3)$. "
   ]
  },
  {
   "cell_type": "markdown",
   "metadata": {},
   "source": [
    "# The tools of the trade"
   ]
  },
  {
   "cell_type": "markdown",
   "metadata": {},
   "source": [
    "We will use a number of packages, including both general-purpose ones and some that are designed specifically to the construction and manipulation of equivariant ML models. You should be able to fetch most of these from PIP, while others might require a custom installation."
   ]
  },
  {
   "cell_type": "markdown",
   "metadata": {},
   "source": [
    "Besides some time-tested classics..."
   ]
  },
  {
   "cell_type": "code",
   "execution_count": 2,
   "metadata": {},
   "outputs": [],
   "source": [
    "import numpy as np\n",
    "import matplotlib.pyplot as plt"
   ]
  },
  {
   "cell_type": "markdown",
   "metadata": {},
   "source": [
    "... we will use [ASE](https://wiki.fysik.dtu.dk/ase/) to load and manipulate atomic structures "
   ]
  },
  {
   "cell_type": "code",
   "execution_count": 3,
   "metadata": {},
   "outputs": [],
   "source": [
    "import ase.io"
   ]
  },
  {
   "cell_type": "markdown",
   "metadata": {},
   "source": [
    "... [chemiscope](https://chemiscope.org) to visualize them, [equistore](https://github.com/lab-cosmo/equistore) to hold equivariant quantities and [rascaline](https://github.com/Luthaf/rascaline) to compute atom-centered density correlations (ACDCs) - the main family of equivariant descriptors we will use."
   ]
  },
  {
   "cell_type": "code",
   "execution_count": 4,
   "metadata": {},
   "outputs": [],
   "source": [
    "import equistore\n",
    "import chemiscope\n",
    "from rascaline import SphericalExpansion"
   ]
  },
  {
   "cell_type": "markdown",
   "metadata": {},
   "source": [
    "## Water dataset"
   ]
  },
  {
   "cell_type": "markdown",
   "metadata": {},
   "source": [
    "We use as a demonstrative dataset a simple dataset that contains a water molecule, stretched and bent in different ways. For each configuration, the dataset holds energy, forces and dipole moments, computed using the high-accuracy [Partridge-Schwenke fits](10.1063/1.473987). "
   ]
  },
  {
   "cell_type": "code",
   "execution_count": 5,
   "metadata": {},
   "outputs": [],
   "source": [
    "frames = ase.io.read(\"data/chemrev_nuprime-theta-grid_computed.xyz\", \":\")"
   ]
  },
  {
   "cell_type": "code",
   "execution_count": 6,
   "metadata": {},
   "outputs": [
    {
     "name": "stderr",
     "output_type": "stream",
     "text": [
      "/home/michele/local/lib/python3.8/site-packages/chemiscope/structures.py:305: UserWarning: value '[ 0.439333 -0.486919  0.      ]' of type '<class 'numpy.ndarray'>' for the 'force' property from ASE is not convertible to float or string, this property will be ignored.\n",
      "  warnings.warn(\n",
      "/home/michele/local/lib/python3.8/site-packages/chemiscope/structures.py:305: UserWarning: value '[-0.00853353  0.49287236  0.        ]' of type '<class 'numpy.ndarray'>' for the 'dipole' property from ASE is not convertible to float or string, this property will be ignored.\n",
      "  warnings.warn(\n"
     ]
    },
    {
     "data": {
      "application/vnd.jupyter.widget-view+json": {
       "model_id": "eed20f7fdcea41bd98ff0be72b10d351",
       "version_major": 2,
       "version_minor": 0
      },
      "text/plain": [
       "ChemiscopeWidget(value=None, data='{\"meta\": {\"name\": \" \"}, \"settings\": {\"map\": {\"x\": {\"property\": \"HOH\"}, \"y\":…"
      ]
     },
     "metadata": {},
     "output_type": "display_data"
    }
   ],
   "source": [
    "cs = chemiscope.show(frames, \n",
    "        settings={\n",
    "            'map' : { 'x':{'property' : \"HOH\"},  'y':{'property' : \"OH1\"}, 'color' : {'property' : 'energy'} },\n",
    "            'structure': [{'axes': 'xyz','keepOrientation': True}]\n",
    "        })\n",
    "display(cs)"
   ]
  },
  {
   "cell_type": "markdown",
   "metadata": {},
   "source": [
    "Processes the properties of the structures (as stored in the `.extxyz` file) as `TensorBlock` objects. We will see later how these can be used. "
   ]
  },
  {
   "cell_type": "code",
   "execution_count": 7,
   "metadata": {},
   "outputs": [],
   "source": [
    "energy_values = []\n",
    "force_values = []\n",
    "dipole_values = []\n",
    "for f in frames:\n",
    "    energy_values.append(f.info['energy'])\n",
    "    dipole_values.append(f.info['dipole'])\n",
    "    force_values.append(f.arrays['force'])"
   ]
  },
  {
   "cell_type": "code",
   "execution_count": 8,
   "metadata": {},
   "outputs": [],
   "source": [
    "energies = equistore.TensorBlock(values=np.asarray(energy_values).reshape(-1,1,1), \n",
    "                                 samples=equistore.labels.Labels(names = [\"structure\"], values=np.arange(len(frames), dtype=np.int32).reshape(-1,1) ),\n",
    "                                 components=[equistore.labels.Labels.single()],\n",
    "                                 properties=equistore.labels.Labels.single(),\n",
    "                                )\n",
    "\n",
    "energies.add_gradient(\"positions\", data=-np.array(force_values).reshape(-1,3,1,1),\n",
    "                      samples=equistore.labels.Labels(names=[\"sample\", \"atom\"], \n",
    "                                                      values=np.asarray(np.vstack([ [[i,0],[i,1],[i,2]] for i in range(len(frames))]),dtype=np.int32) ),\n",
    "                      components=[equistore.labels.Labels(names=[\"gradient_direction\"], values=np.asarray([[0,1,2]], dtype=np.int32).T),\n",
    "                                  equistore.labels.Labels.single()\n",
    "                                 ]\n",
    "                     )"
   ]
  },
  {
   "cell_type": "code",
   "execution_count": 9,
   "metadata": {},
   "outputs": [],
   "source": [
    "dipoles = equistore.TensorBlock(values=np.asarray(dipole_values).reshape(-1,3,1), \n",
    "                                 samples=equistore.labels.Labels(names = [\"structure\"], values=np.arange(len(frames), dtype=np.int32).reshape(-1,1) ),\n",
    "                                 components=[equistore.labels.Labels(names=[\"direction\"], values=np.asarray([[0,1,2]], dtype=np.int32).T) ],\n",
    "                                 properties=equistore.labels.Labels.single(),\n",
    "                                )"
   ]
  },
  {
   "cell_type": "markdown",
   "metadata": {},
   "source": [
    "# Rotations and vectors"
   ]
  },
  {
   "cell_type": "markdown",
   "metadata": {},
   "source": [
    "Let's now start looking into how a vector such as the dipole moment rotates. The key concept is that a vectorial property such as the atomic positions or the dipole moment transform, under the action of a rotation operation $\\hat{R}$ in a way consistent with the application of a rotation matrix $\\mathbf{R}$, i.e. if a structure $A$ has atomic positions $\\mathbf{r}_i$ and dipole moment $\\mathbf{y}_i$ (each of these being a 3-vector corresponding to the Cartesian coordinates $(x,y,z)$) then the rotated structure $\\hat{R}A$ has atomic coordinates $\\mathbf{R}\\mathbf{r}_i$ and dipole moment $\\mathbf{R}\\mathbf{y}$. \n",
    "\n",
    "\n",
    "<img src=\"figures/rotations.png\" width=\"400\"/>"
   ]
  },
  {
   "cell_type": "markdown",
   "metadata": {},
   "source": [
    "A rotation can be defined in terms of [Euler angles](https://en.wikipedia.org/wiki/Euler_angles), a set of three angles $(\\alpha, \\beta, \\gamma)$ that define the orientation of a rigid body relative to a reference frame.  This is a problem that is made quite tricky by the existence of dozen of alternative conventions. For those in the know, we use the $ZYZ$ intrinsic rotations definition, which is also the one commonly used to define quantities in angular momentum theory. We use a wrapper from some utilities that returns the rotation matrix in the \"correct\" format, and use it to generate a set of water molecules in which the position of the atoms and the molecular dipoles have been rotated appropriately. "
   ]
  },
  {
   "cell_type": "code",
   "execution_count": 10,
   "metadata": {},
   "outputs": [],
   "source": [
    "from utils.rotations import rotation_matrix, xyz_to_spherical, spherical_to_xyz, wigner_d_real\n",
    "from utils.clebsh_gordan import ClebschGordanReal"
   ]
  },
  {
   "cell_type": "code",
   "execution_count": 40,
   "metadata": {},
   "outputs": [],
   "source": [
    "rotated_structures = []\n",
    "rotated_wdipole = []\n",
    "selected_frame = frames[47]\n",
    "selected_dipole = dipoles.values[94,:,0]\n",
    "# adds two fake atoms to show the magnitude and direction of the dipole moment\n",
    "dipole_mol = ase.Atoms(\"FH\", positions=[[0,2,0],selected_dipole+[0,2,0]])\n",
    "for alpha in np.linspace(0, 2*np.pi, 8):\n",
    "    for beta in np.linspace(0, np.pi, 4):\n",
    "        for gamma in np.linspace(0, 2*np.pi, 8):\n",
    "            rot_frame = selected_frame.copy() \n",
    "            rot_frame.info['alpha'] = alpha\n",
    "            rot_frame.info['beta'] = beta\n",
    "            rot_frame.info['gamma'] = gamma\n",
    "            # rotates the frame\n",
    "            R = rotation_matrix(alpha, beta, gamma)\n",
    "            rot_frame.positions = rot_frame.positions@R.T\n",
    "            rot_frame.cell = rot_frame.cell@R.T\n",
    "            rot_frame.info['dipole'] = rot_frame.info['dipole']@R.T\n",
    "            rotated_structures.append(rot_frame)\n",
    "            \n",
    "            # just for visualization, frames with dipole visualized as HF\n",
    "            rot_frame = selected_frame.copy() + dipole_mol\n",
    "            rot_frame.positions = rot_frame.positions@R.T\n",
    "            rot_frame.cell = rot_frame.cell@R.T\n",
    "            rot_frame.info.update(dict(alpha=alpha, beta=beta, gamma=gamma))\n",
    "            rotated_wdipole.append(rot_frame)"
   ]
  },
  {
   "cell_type": "code",
   "execution_count": 41,
   "metadata": {},
   "outputs": [
    {
     "name": "stderr",
     "output_type": "stream",
     "text": [
      "/home/michele/local/lib/python3.8/site-packages/chemiscope/structures.py:305: UserWarning: value '[ 0.0797022  -0.00155446  0.        ]' of type '<class 'numpy.ndarray'>' for the 'force' property from ASE is not convertible to float or string, this property will be ignored.\n",
      "  warnings.warn(\n",
      "/home/michele/local/lib/python3.8/site-packages/chemiscope/structures.py:305: UserWarning: value '[0.0091859  0.42833807 0.        ]' of type '<class 'numpy.ndarray'>' for the 'dipole' property from ASE is not convertible to float or string, this property will be ignored.\n",
      "  warnings.warn(\n"
     ]
    },
    {
     "data": {
      "application/vnd.jupyter.widget-view+json": {
       "model_id": "872eafb0a4fc4e7c833d10642d636107",
       "version_major": 2,
       "version_minor": 0
      },
      "text/plain": [
       "ChemiscopeWidget(value=None, data='{\"meta\": {\"name\": \" \"}, \"settings\": {\"map\": {\"x\": {\"property\": \"alpha\"}, \"y…"
      ]
     },
     "metadata": {},
     "output_type": "display_data"
    }
   ],
   "source": [
    "cs = chemiscope.show(rotated_wdipole, \n",
    "        settings={\n",
    "            'map' : {\n",
    "                'x' : {'property' : 'alpha'},\n",
    "                'y' : {'property' : 'beta'},\n",
    "                'z' : {'property' : 'gamma'},\n",
    "                'color' : {'property' : 'energy'} },\n",
    "            'structure': [{'axes': 'xyz','keepOrientation': True}]\n",
    "        })\n",
    "display(cs)"
   ]
  },
  {
   "cell_type": "markdown",
   "metadata": {},
   "source": [
    "# Rotations and arbitrary tensors"
   ]
  },
  {
   "cell_type": "markdown",
   "metadata": {},
   "source": [
    "Vectorial quantities such as are just one of the possible types of equivariant properties associated with a molecular structure. We consider as an example the tensor\n",
    "\n",
    "$$\n",
    "\\mathbf{Y} = \\mathbf{y}\\mathbf{y}^T + |\\mathbf{y}|^2 \\mathbf{1},  \n",
    "$$\n",
    "\n",
    "built starting from the dipole moment $\\mathbf{y}$. "
   ]
  },
  {
   "cell_type": "code",
   "execution_count": 13,
   "metadata": {},
   "outputs": [],
   "source": [
    "def y_to_Y(y):\n",
    "    return y.reshape(-1,1)@y.reshape(1,-1) + (y@y)*np.eye(3)"
   ]
  },
  {
   "cell_type": "code",
   "execution_count": 14,
   "metadata": {},
   "outputs": [],
   "source": [
    "for rot_frame in rotated_structures:\n",
    "    rot_frame.info['Y'] = y_to_Y(rot_frame.info['dipole'])"
   ]
  },
  {
   "cell_type": "markdown",
   "metadata": {},
   "source": [
    "This quantity transforms under rotation as $\\mathbf{Y}(\\hat{R}A) = \\mathbf{R}\\mathbf{Y}(A)\\mathbf{R}^T$. \n",
    "While this is a perfectly fine way of expressing the transformation, it is more complicated than necessary: all the $9$ components of $\\mathbf{Y}$ are formally mixed in the process, and even though it is linear in $\\mathbf{Y}$, to explicitly cast it as such requires combining the two multiplications by $\\mathbf{R}$ into the multiplication by a large, $9\\times 9$ matrix."
   ]
  },
  {
   "cell_type": "code",
   "execution_count": 15,
   "metadata": {},
   "outputs": [],
   "source": [
    "# picks one of the rotated structures\n",
    "base = rotated_structures[0]\n",
    "selected = rotated_structures[11]\n",
    "base_Y = base.info['Y']\n",
    "selected_Y = selected.info['Y']\n",
    "# builds the rotation matrix\n",
    "R = rotation_matrix(selected.info['alpha'], selected.info['beta'], selected.info['gamma'])"
   ]
  },
  {
   "cell_type": "code",
   "execution_count": 16,
   "metadata": {},
   "outputs": [
    {
     "name": "stdout",
     "output_type": "stream",
     "text": [
      "[[0.18364226 0.00393467 0.        ]\n",
      " [0.00393467 0.36703138 0.        ]\n",
      " [0.         0.         0.18355788]]\n",
      "[[ 0.19297902  0.03707146 -0.0163179 ]\n",
      " [ 0.03707146  0.3294312  -0.06420965]\n",
      " [-0.0163179  -0.06420965  0.21182131]]\n",
      "[[ 0.19297902  0.03707146 -0.0163179 ]\n",
      " [ 0.03707146  0.3294312  -0.06420965]\n",
      " [-0.0163179  -0.06420965  0.21182131]]\n"
     ]
    }
   ],
   "source": [
    "print(base_Y)\n",
    "# rotated Y matches the Y of the rotated structure\n",
    "print(R@base_Y@R.T)\n",
    "print(selected_Y)"
   ]
  },
  {
   "cell_type": "code",
   "execution_count": 17,
   "metadata": {},
   "outputs": [],
   "source": [
    "# builds the 9x9 rotation matrix - can you follow the index juggling?\n",
    "flat_idx = np.array([(0,0),(0,1),(0,2),(1,0),(1,1),(1,2),(2,0),(2,1),(2,2)], dtype=int)\n",
    "RR = R[flat_idx[:,0]][:,flat_idx[:,0]]*R[flat_idx[:,1]][:,flat_idx[:,1]]"
   ]
  },
  {
   "cell_type": "code",
   "execution_count": 18,
   "metadata": {},
   "outputs": [
    {
     "data": {
      "text/plain": [
       "<matplotlib.image.AxesImage at 0x7fdfb269d2e0>"
      ]
     },
     "execution_count": 18,
     "metadata": {},
     "output_type": "execute_result"
    },
    {
     "data": {
      "image/png": "[encoded data removed]",
      "text/plain": [
       "<Figure size 288x288 with 1 Axes>"
      ]
     },
     "metadata": {
      "needs_background": "light"
     },
     "output_type": "display_data"
    }
   ],
   "source": [
    "# the 9x9 matrix is almost entirely full\n",
    "plt.matshow(RR, cmap=plt.cm.RdBu, vmin=-max(np.abs(RR.flatten())), vmax=max(np.abs(RR.flatten())))"
   ]
  },
  {
   "cell_type": "code",
   "execution_count": 19,
   "metadata": {},
   "outputs": [
    {
     "data": {
      "text/plain": [
       "array([[ 0.19297902,  0.03707146, -0.0163179 ],\n",
       "       [ 0.03707146,  0.3294312 , -0.06420965],\n",
       "       [-0.0163179 , -0.06420965,  0.21182131]])"
      ]
     },
     "execution_count": 19,
     "metadata": {},
     "output_type": "execute_result"
    }
   ],
   "source": [
    "# this rotates the tensor with a single multiplication\n",
    "(RR@(base_Y[flat_idx[:,0],flat_idx[:,1]])).reshape(3,3)"
   ]
  },
  {
   "cell_type": "markdown",
   "metadata": {},
   "source": [
    "This brings us to the concept of _irreducible_ representations of the rotation group. In very hand-wavy terms, we look for ways to simplify the transformation by recombining entries in $\\mathbf{Y}$ in such a way that they are less mixed up when acted upon by a rotation $\\hat{R}$. \n",
    "That this might be possible can be seen by noticing that the _trace_ of $\\mathbf{Y}$, $Y_{xx}+Y_{yy}+ Y_{zz}$ is left unchanged by the rotation - it is _invariant_."
   ]
  },
  {
   "cell_type": "code",
   "execution_count": 20,
   "metadata": {},
   "outputs": [
    {
     "name": "stdout",
     "output_type": "stream",
     "text": [
      "0.7342315280913774 0.7342315280913776\n"
     ]
    }
   ],
   "source": [
    "print(np.trace(base_Y), np.trace(selected_Y))"
   ]
  },
  {
   "cell_type": "markdown",
   "metadata": {},
   "source": [
    "It turns out that products of Cartesian coordinates can be rearranged into blocks that transform under rotation as _spherical harmonics_, $Y^m_l$. The theory is not entirely trivial, and gets even messier if (as we do here) one wants to express everything in terms of _real_ spherical harmonics. \n",
    "The manipulations here are somewhat opaque (and rely heavily on utility functions) but allow to follow the construction of the _spherical tensor_ form of $\\mathbf{Y}$. "
   ]
  },
  {
   "cell_type": "code",
   "execution_count": 21,
   "metadata": {},
   "outputs": [
    {
     "data": {
      "text/plain": [
       "{(1, 1): {0: array([-0.42390877]),\n",
       "  1: array([0., 0., 0.]),\n",
       "  2: array([ 0.00556446,  0.        , -0.07493719,  0.        , -0.12967569])}}"
      ]
     },
     "execution_count": 21,
     "metadata": {},
     "output_type": "execute_result"
    }
   ],
   "source": [
    "# we need Clebsch-Gordan coefficients to transform the Cartesian tensor into an irreducible form\n",
    "cg = ClebschGordanReal(l_max=2)\n",
    "cg.couple(xyz_to_spherical(base_Y))"
   ]
  },
  {
   "cell_type": "markdown",
   "metadata": {},
   "source": [
    "The output indicates that the tensor was built as the product of two vector-like ($l=1$) spherical Harmonics, and it has been decomposed into a scalar ($l=0$), pseudo-vector ($l=1$, zero because the tensor is symmetric), and higher-order ($l=2$) term. Each block contains $2m+1$ components. We can therefore stack these in a a single array with 9 components, that could (in principle) be written as a unitary transformation of the initial Cartesian form."
   ]
  },
  {
   "cell_type": "code",
   "execution_count": 22,
   "metadata": {},
   "outputs": [
    {
     "name": "stdout",
     "output_type": "stream",
     "text": [
      "[-0.42390877  0.          0.          0.          0.00556446  0.\n",
      " -0.07493719  0.         -0.12967569]\n",
      "[-0.42390877  0.          0.          0.          0.05242696 -0.09080616\n",
      " -0.04032171 -0.02307699 -0.09648626]\n"
     ]
    }
   ],
   "source": [
    "def to_coupled(cartesian):\n",
    "    coupled = cg.couple(xyz_to_spherical(cartesian))\n",
    "    return np.hstack( [coupled[(1,1)][l] for l in [0,1,2]] )\n",
    "base_coupled_Y = to_coupled(base_Y)\n",
    "selected_coupled_Y = to_coupled(selected_Y)\n",
    "# note that elements [1:4] are zero: this is a consequence of the symmetry of Y\n",
    "print(base_coupled_Y)\n",
    "print(selected_coupled_Y)"
   ]
  },
  {
   "cell_type": "markdown",
   "metadata": {},
   "source": [
    "Compare the $9\\timex 9$ matrix above with that associated with rotating the tensor in this new basis. Each of the irreducible blocks transform separately, so the rotation matrix is block-diagonal. _Any_ Cartesian tensor can be expressed in terms of a collection of $Y^m_l$-like irreducible blocks."
   ]
  },
  {
   "cell_type": "code",
   "execution_count": 23,
   "metadata": {},
   "outputs": [],
   "source": [
    "# the rotation matrix for the irreducible form can be built from a collection\n",
    "# of (real-valued) Wigner D matrices\n",
    "coupled_RR = np.zeros((9,9))\n",
    "coupled_RR[0,0] = wigner_d_real(0, selected.info['alpha'], selected.info['beta'], selected.info['gamma'])\n",
    "coupled_RR[1:4,1:4] = wigner_d_real(1, selected.info['alpha'], selected.info['beta'], selected.info['gamma'])\n",
    "coupled_RR[4:9,4:9] = wigner_d_real(2, selected.info['alpha'], selected.info['beta'], selected.info['gamma'])"
   ]
  },
  {
   "cell_type": "code",
   "execution_count": 24,
   "metadata": {},
   "outputs": [
    {
     "data": {
      "text/plain": [
       "<matplotlib.image.AxesImage at 0x7fdfb00c1dc0>"
      ]
     },
     "execution_count": 24,
     "metadata": {},
     "output_type": "execute_result"
    },
    {
     "data": {
      "image/png": "[encoded data removed]",
      "text/plain": [
       "<Figure size 288x288 with 1 Axes>"
      ]
     },
     "metadata": {
      "needs_background": "light"
     },
     "output_type": "display_data"
    }
   ],
   "source": [
    "# the 9x9 matrix is block diagonal\n",
    "plt.matshow(coupled_RR, cmap=plt.cm.RdBu, vmin=-max(np.abs(RR.flatten())), vmax=max(np.abs(RR.flatten())))"
   ]
  },
  {
   "cell_type": "code",
   "execution_count": 25,
   "metadata": {},
   "outputs": [
    {
     "name": "stdout",
     "output_type": "stream",
     "text": [
      "[-0.42390877  0.          0.          0.          0.00556446  0.\n",
      " -0.07493719  0.         -0.12967569]\n",
      "[-0.42390877  0.          0.          0.          0.05242696 -0.09080616\n",
      " -0.04032171 -0.02307699 -0.09648626]\n",
      "[-0.42390877  0.          0.          0.          0.05242696 -0.09080616\n",
      " -0.04032171 -0.02307699 -0.09648626]\n"
     ]
    }
   ],
   "source": [
    "# this block-diagonal matrix performs a rotation in the irreducible spherical basis\n",
    "print(base_coupled_Y)\n",
    "print(coupled_RR@base_coupled_Y)\n",
    "print(selected_coupled_Y)"
   ]
  },
  {
   "cell_type": "markdown",
   "metadata": {},
   "source": [
    "The transformation can be reverted to bring the tensor back to its Cartesian form"
   ]
  },
  {
   "cell_type": "code",
   "execution_count": 26,
   "metadata": {},
   "outputs": [
    {
     "data": {
      "text/plain": [
       "array([[ 0.19297902,  0.03707146, -0.0163179 ],\n",
       "       [ 0.03707146,  0.3294312 , -0.06420965],\n",
       "       [-0.0163179 , -0.06420965,  0.21182131]])"
      ]
     },
     "execution_count": 26,
     "metadata": {},
     "output_type": "execute_result"
    }
   ],
   "source": [
    "coupled = {(1,1): {0:selected_coupled_Y[:1], 1:selected_coupled_Y[1:4], 2: selected_coupled_Y[4:9]}}\n",
    "spherical_to_xyz(cg.decouple(coupled))"
   ]
  },
  {
   "cell_type": "markdown",
   "metadata": {},
   "source": [
    "# Density expansion coefficients"
   ]
  },
  {
   "cell_type": "markdown",
   "metadata": {},
   "source": [
    "We now move on to discuss how to describe an atomic environment using expansion coefficients of the atomic density. In short, the idea is to start describing a molecule $A$ in terms of localized functions (e.g. Gaussians) centered on each atom $i$, \"labelled\" by their chemical nature $a$\n",
    "\n",
    "$$\n",
    "\\langle a \\mathbf{x} | A; \\rho\\rangle = \\sum_{i \\in A} \\delta_{a a_i} \\langle \\mathbf{x} | \\mathbf{r}_i \\rangle.\n",
    "$$\n",
    "\n",
    "We use  the notation $\\langle \\mathbf{x} | \\mathbf{r}_i \\rangle = g(\\mathbf{x}-\\mathbf{r}_i)$ to emphasize how the full structure is built as a sum of terms that describe individual atoms. In general terms, in analogy with the Dirac notation used to describe a quantum state, the notation $\\langle q | A\\rangle$ to indicate a descriptor $| A\\rangle$ for an entity $A$, discretized in a basis that is enumerated by the index $q$. \n",
    "See Section 3.1 of [this review](https://doi.org/10.1021/acs.chemrev.1c00021) for a gentler introduction. "
   ]
  },
  {
   "cell_type": "markdown",
   "metadata": {},
   "source": [
    "This density is then symmetrized with respect to translations (reflecting the fact that atomic properties are invariant to rigid translations of a molecule) which leads to expressing the structure descriptors as a sum of descriptors of _atom centered environments_ $A_i$,\n",
    "\n",
    "\n",
    "$$\n",
    "\\langle a \\mathbf{x} | \\rho_i\\rangle = \\sum_{j \\in A_i} \\delta_{a a_j} \\langle \\mathbf{x} | \\mathbf{r}_{ji} \\rangle.\n",
    "$$\n",
    "\n",
    "where the Gaussians are evaluated at the interatomic distance vectors $\\mathbf{r}_{ji}=\\mathbf{r}_j-\\mathbf{r}_i$."
   ]
  },
  {
   "cell_type": "markdown",
   "metadata": {},
   "source": [
    "To manipulate this atom-centered density, it is more convenient to express it on a discrete basis. Again, in analogy with what is done routinely in quantum chemistry for the electron wafefunction (or density) we use a basis of radial functions $R_{nl}(x) \\equiv \\langle x||nl\\rangle$ and spherical harmonics $Y^m_{l}(\\hat{\\mathbf{x}}) \\equiv \\langle \\hat{\\mathbf{x}}|lm\\rangle$\n",
    "\n",
    "$$\n",
    "\\langle a nlm | \\rho_i\\rangle = \\int \\mathrm{d}\\mathbf{x} \n",
    " \\langle nl| x\\rangle  \\langle lm| \\hat{\\mathbf{x}} \\rangle\n",
    "\\langle a \\mathbf{x} | \\rho_i\\rangle  \n",
    "$$"
   ]
  },
  {
   "cell_type": "markdown",
   "metadata": {},
   "source": [
    "## Computing descriptors with _rascaline_ and _equistore_"
   ]
  },
  {
   "cell_type": "markdown",
   "metadata": {},
   "source": [
    "We use `rascaline` to compute the density expansion coefficients for these water molecule structures. \n",
    "The coefficients are returned as a `equistore.TensorMap` object, that reflects some of the considerations discussed above on the structure of atom-centered density features"
   ]
  },
  {
   "cell_type": "code",
   "execution_count": 27,
   "metadata": {},
   "outputs": [],
   "source": [
    "hypers = {\n",
    "    \"cutoff\": 3.5,\n",
    "    \"max_radial\": 6,\n",
    "    \"max_angular\": 6,\n",
    "    \"atomic_gaussian_width\": 0.3,\n",
    "    \"radial_basis\": {\"Gto\": {}},\n",
    "    \"cutoff_function\": {\"ShiftedCosine\": {\"width\": 0.5}},\n",
    "    \"center_atom_weight\": 1.0,\n",
    "    \"gradients\": True,\n",
    "}\n",
    "\n",
    "calculator = SphericalExpansion(**hypers)\n",
    "\n",
    "descriptor = calculator.compute(frames)"
   ]
  },
  {
   "cell_type": "markdown",
   "metadata": {},
   "source": [
    "A `TensorMap` object works as a container that holds blocks of data. The pattern is reminiscent of a `dict`, but with some more structure and metadata: each block is associated with a _key_, which consists in a tuple of ints. The set of keys is a `equistore.Labels` object, that also keeps track of the _names_ that describe each index in the key. \n",
    "\n",
    "The expansion keys hold the `spherical_harmonics_l index`, and two indices corresponding to the atomic number of the central atom `species_center` and of the neighbors `species_neighbor`. "
   ]
  },
  {
   "cell_type": "code",
   "execution_count": 28,
   "metadata": {},
   "outputs": [
    {
     "data": {
      "text/plain": [
       "Labels([(0, 1, 1), (1, 1, 1), (2, 1, 1), (3, 1, 1), (4, 1, 1), (5, 1, 1),\n",
       "        (6, 1, 1), (0, 1, 8), (1, 1, 8), (2, 1, 8), (3, 1, 8), (4, 1, 8),\n",
       "        (5, 1, 8), (6, 1, 8), (0, 8, 1), (1, 8, 1), (2, 8, 1), (3, 8, 1),\n",
       "        (4, 8, 1), (5, 8, 1), (6, 8, 1), (0, 8, 8), (1, 8, 8), (2, 8, 8),\n",
       "        (3, 8, 8), (4, 8, 8), (5, 8, 8), (6, 8, 8)],\n",
       "       dtype=[('spherical_harmonics_l', '<i4'), ('species_center', '<i4'), ('species_neighbor', '<i4')])"
      ]
     },
     "execution_count": 28,
     "metadata": {},
     "output_type": "execute_result"
    }
   ],
   "source": [
    "descriptor.keys"
   ]
  },
  {
   "cell_type": "markdown",
   "metadata": {},
   "source": [
    "Each block is associated to a `equistore.TensorBlock` object. Each block is associated with a dense tensor with a `samples` direction (enumerating the items that are described) a `properties` direction (enumerating actual properties, or descriptors) and zero or more `components` - typical examples would be the Cartesian coordinates of a vector, or the $m$ index in spherical harmonics. Each is associated with a `Labels` object that stores metadata that describe the entries."
   ]
  },
  {
   "cell_type": "code",
   "execution_count": 29,
   "metadata": {},
   "outputs": [],
   "source": [
    "# this is l=2, central atom is O and neighbor is H\n",
    "block = descriptor.block(spherical_harmonics_l=2,species_center=8,species_neighbor=1)"
   ]
  },
  {
   "cell_type": "code",
   "execution_count": 30,
   "metadata": {},
   "outputs": [
    {
     "data": {
      "text/plain": [
       "Labels([(  0, 0), (  1, 0), (  2, 0), (  3, 0), (  4, 0), (  5, 0),\n",
       "        (  6, 0), (  7, 0), (  8, 0), (  9, 0), ( 10, 0), ( 11, 0),\n",
       "        ( 12, 0), ( 13, 0), ( 14, 0), ( 15, 0), ( 16, 0), ( 17, 0),\n",
       "        ( 18, 0), ( 19, 0), ( 20, 0), ( 21, 0), ( 22, 0), ( 23, 0),\n",
       "        ( 24, 0), ( 25, 0), ( 26, 0), ( 27, 0), ( 28, 0), ( 29, 0),\n",
       "        ( 30, 0), ( 31, 0), ( 32, 0), ( 33, 0), ( 34, 0), ( 35, 0),\n",
       "        ( 36, 0), ( 37, 0), ( 38, 0), ( 39, 0), ( 40, 0), ( 41, 0),\n",
       "        ( 42, 0), ( 43, 0), ( 44, 0), ( 45, 0), ( 46, 0), ( 47, 0),\n",
       "        ( 48, 0), ( 49, 0), ( 50, 0), ( 51, 0), ( 52, 0), ( 53, 0),\n",
       "        ( 54, 0), ( 55, 0), ( 56, 0), ( 57, 0), ( 58, 0), ( 59, 0),\n",
       "        ( 60, 0), ( 61, 0), ( 62, 0), ( 63, 0), ( 64, 0), ( 65, 0),\n",
       "        ( 66, 0), ( 67, 0), ( 68, 0), ( 69, 0), ( 70, 0), ( 71, 0),\n",
       "        ( 72, 0), ( 73, 0), ( 74, 0), ( 75, 0), ( 76, 0), ( 77, 0),\n",
       "        ( 78, 0), ( 79, 0), ( 80, 0), ( 81, 0), ( 82, 0), ( 83, 0),\n",
       "        ( 84, 0), ( 85, 0), ( 86, 0), ( 87, 0), ( 88, 0), ( 89, 0),\n",
       "        ( 90, 0), ( 91, 0), ( 92, 0), ( 93, 0), ( 94, 0), ( 95, 0),\n",
       "        ( 96, 0), ( 97, 0), ( 98, 0), ( 99, 0), (100, 0), (101, 0),\n",
       "        (102, 0), (103, 0), (104, 0), (105, 0), (106, 0), (107, 0),\n",
       "        (108, 0), (109, 0), (110, 0), (111, 0), (112, 0), (113, 0),\n",
       "        (114, 0), (115, 0), (116, 0), (117, 0), (118, 0), (119, 0),\n",
       "        (120, 0)], dtype=[('structure', '<i4'), ('center', '<i4')])"
      ]
     },
     "execution_count": 30,
     "metadata": {},
     "output_type": "execute_result"
    }
   ],
   "source": [
    "block.samples"
   ]
  },
  {
   "cell_type": "code",
   "execution_count": 31,
   "metadata": {},
   "outputs": [
    {
     "data": {
      "text/plain": [
       "Labels([(0,), (1,), (2,), (3,), (4,), (5,)], dtype=[('n', '<i4')])"
      ]
     },
     "execution_count": 31,
     "metadata": {},
     "output_type": "execute_result"
    }
   ],
   "source": [
    "block.properties"
   ]
  },
  {
   "cell_type": "code",
   "execution_count": 32,
   "metadata": {},
   "outputs": [
    {
     "data": {
      "text/plain": [
       "[Labels([(-2,), (-1,), ( 0,), ( 1,), ( 2,)],\n",
       "        dtype=[('spherical_harmonics_m', '<i4')])]"
      ]
     },
     "execution_count": 32,
     "metadata": {},
     "output_type": "execute_result"
    }
   ],
   "source": [
    "block.components"
   ]
  },
  {
   "cell_type": "markdown",
   "metadata": {},
   "source": [
    "Depending on the type of system or application, some indices might be stored more conveniently as samples, properties, components, or as sparse keys. _equistore_ provides utility functions to reorder the data for more convenient manipulation. For instance, in this case all atoms have the same type of neighbors, and so it does not make sense to use sparse storage for the neighbor element index. We can move the index from keys to properties:"
   ]
  },
  {
   "cell_type": "code",
   "execution_count": 33,
   "metadata": {},
   "outputs": [],
   "source": [
    "descriptor.keys_to_properties('species_neighbor')"
   ]
  },
  {
   "cell_type": "code",
   "execution_count": 34,
   "metadata": {},
   "outputs": [
    {
     "data": {
      "text/plain": [
       "Labels([(0, 1), (1, 1), (2, 1), (3, 1), (4, 1), (5, 1), (6, 1), (0, 8),\n",
       "        (1, 8), (2, 8), (3, 8), (4, 8), (5, 8), (6, 8)],\n",
       "       dtype=[('spherical_harmonics_l', '<i4'), ('species_center', '<i4')])"
      ]
     },
     "execution_count": 34,
     "metadata": {},
     "output_type": "execute_result"
    }
   ],
   "source": [
    "descriptor.keys"
   ]
  },
  {
   "cell_type": "code",
   "execution_count": 35,
   "metadata": {},
   "outputs": [
    {
     "data": {
      "text/plain": [
       "Labels([(1, 0), (1, 1), (1, 2), (1, 3), (1, 4), (1, 5), (8, 0), (8, 1),\n",
       "        (8, 2), (8, 3), (8, 4), (8, 5)],\n",
       "       dtype=[('species_neighbor', '<i4'), ('n', '<i4')])"
      ]
     },
     "execution_count": 35,
     "metadata": {},
     "output_type": "execute_result"
    }
   ],
   "source": [
    "descriptor.block(0).properties"
   ]
  },
  {
   "cell_type": "markdown",
   "metadata": {},
   "source": [
    "## Equivariance of the descriptors"
   ]
  },
  {
   "cell_type": "markdown",
   "metadata": {},
   "source": [
    "Let's now see how the density coefficients actually behave as equivariant descriptors. This is kind of obvious given that we build them by expanding the density on a basis of spherical harmonics! Here we compute descriptors for two of the rotated structures, and see how the same result can be achieved by applying the rotation to the base molecule using a Wigner-D matrix."
   ]
  },
  {
   "cell_type": "code",
   "execution_count": 69,
   "metadata": {},
   "outputs": [],
   "source": [
    "base_descriptor = calculator.compute([base])\n",
    "selected_descriptor = calculator.compute([selected])"
   ]
  },
  {
   "cell_type": "code",
   "execution_count": 70,
   "metadata": {},
   "outputs": [],
   "source": [
    "base_descriptor.keys_to_properties('species_neighbor')\n",
    "selected_descriptor.keys_to_properties('species_neighbor')"
   ]
  },
  {
   "cell_type": "code",
   "execution_count": 71,
   "metadata": {},
   "outputs": [],
   "source": [
    "base_block = base_descriptor.block(spherical_harmonics_l=2, species_center=8)\n",
    "selected_block = selected_descriptor.block(spherical_harmonics_l=2, species_center=8)"
   ]
  },
  {
   "cell_type": "code",
   "execution_count": 72,
   "metadata": {},
   "outputs": [
    {
     "data": {
      "text/plain": [
       "array([[[-2.78057184e-03, -2.09470427e-03,  3.72169284e-03,\n",
       "         -4.93995246e-04,  4.80375380e-04, -1.16941504e-04,\n",
       "          0.00000000e+00,  0.00000000e+00,  0.00000000e+00,\n",
       "          0.00000000e+00,  0.00000000e+00,  0.00000000e+00],\n",
       "        [ 4.81609170e-03,  3.62813422e-03, -6.44616108e-03,\n",
       "          8.55624865e-04, -8.32034566e-04,  2.02548626e-04,\n",
       "          0.00000000e+00,  0.00000000e+00,  0.00000000e+00,\n",
       "          0.00000000e+00,  0.00000000e+00,  0.00000000e+00],\n",
       "        [-9.98464930e-04,  6.80836715e-03,  1.09929448e-02,\n",
       "         -7.01969928e-04,  9.60896746e-04, -2.31761838e-04,\n",
       "          0.00000000e+00,  0.00000000e+00,  0.00000000e+00,\n",
       "          0.00000000e+00,  0.00000000e+00,  0.00000000e+00],\n",
       "        [-1.81659623e-02, -5.90483486e-02, -3.36247476e-02,\n",
       "         -7.98590096e-05, -1.59202710e-03,  3.74619254e-04,\n",
       "          0.00000000e+00,  0.00000000e+00,  0.00000000e+00,\n",
       "          0.00000000e+00,  0.00000000e+00,  0.00000000e+00],\n",
       "        [-2.27056385e-02, -5.63907221e-02, -1.97861752e-02,\n",
       "         -1.30806082e-03, -1.73992562e-04,  3.11497754e-05,\n",
       "          0.00000000e+00,  0.00000000e+00,  0.00000000e+00,\n",
       "          0.00000000e+00,  0.00000000e+00,  0.00000000e+00]]])"
      ]
     },
     "execution_count": 72,
     "metadata": {},
     "output_type": "execute_result"
    }
   ],
   "source": [
    "selected_block.values"
   ]
  },
  {
   "cell_type": "code",
   "execution_count": 50,
   "metadata": {},
   "outputs": [],
   "source": [
    "wd = wigner_d_real(2, selected.info['alpha'], selected.info['beta'], selected.info['gamma'])"
   ]
  },
  {
   "cell_type": "code",
   "execution_count": 73,
   "metadata": {},
   "outputs": [
    {
     "data": {
      "text/plain": [
       "array([[-2.78057184e-03, -2.09470427e-03,  3.72169284e-03,\n",
       "        -4.93995246e-04,  4.80375380e-04, -1.16941504e-04,\n",
       "         0.00000000e+00,  0.00000000e+00,  0.00000000e+00,\n",
       "         0.00000000e+00,  0.00000000e+00,  0.00000000e+00],\n",
       "       [ 4.81609170e-03,  3.62813422e-03, -6.44616108e-03,\n",
       "         8.55624865e-04, -8.32034566e-04,  2.02548626e-04,\n",
       "         0.00000000e+00,  0.00000000e+00,  0.00000000e+00,\n",
       "         0.00000000e+00,  0.00000000e+00,  0.00000000e+00],\n",
       "       [-9.98464930e-04,  6.80836715e-03,  1.09929448e-02,\n",
       "        -7.01969928e-04,  9.60896746e-04, -2.31761838e-04,\n",
       "         0.00000000e+00,  0.00000000e+00,  0.00000000e+00,\n",
       "         0.00000000e+00,  0.00000000e+00,  0.00000000e+00],\n",
       "       [-1.81659623e-02, -5.90483486e-02, -3.36247476e-02,\n",
       "        -7.98590096e-05, -1.59202710e-03,  3.74619254e-04,\n",
       "         0.00000000e+00,  0.00000000e+00,  0.00000000e+00,\n",
       "         0.00000000e+00,  0.00000000e+00,  0.00000000e+00],\n",
       "       [-2.27056385e-02, -5.63907221e-02, -1.97861752e-02,\n",
       "        -1.30806082e-03, -1.73992562e-04,  3.11497754e-05,\n",
       "         0.00000000e+00,  0.00000000e+00,  0.00000000e+00,\n",
       "         0.00000000e+00,  0.00000000e+00,  0.00000000e+00]])"
      ]
     },
     "execution_count": 73,
     "metadata": {},
     "output_type": "execute_result"
    }
   ],
   "source": [
    "wd@base_block.values[0]"
   ]
  },
  {
   "cell_type": "markdown",
   "metadata": {},
   "source": [
    "In light of this, we can see density coefficients as _symmetry adapted_ descriptors. To emphasize their equivariant behavior, and that they reflect the distribution of neighbors by summing over them one of a time, we indicate the coefficients as \n",
    "\n",
    "$$\n",
    "\\langle an|\\overline{\\rho_i^{\\otimes 1}; \\lambda \\mu }\\rangle \\equiv\n",
    "\\langle an\\lambda \\mu|\\rho_i\\rangle\n",
    "$$"
   ]
  },
  {
   "cell_type": "markdown",
   "metadata": {},
   "source": [
    "# Atom-centered density correlations"
   ]
  },
  {
   "cell_type": "markdown",
   "metadata": {},
   "source": [
    "The density expansion coefficients can be regarded as the simplest possible form of an equivariant descriptor built based on the neighbor density. "
   ]
  },
  {
   "cell_type": "code",
   "execution_count": null,
   "metadata": {},
   "outputs": [],
   "source": []
  },
  {
   "cell_type": "code",
   "execution_count": null,
   "metadata": {},
   "outputs": [],
   "source": []
  }
 ],
 "metadata": {
  "kernelspec": {
   "display_name": "Python 3",
   "language": "python",
   "name": "python3"
  },
  "language_info": {
   "codemirror_mode": {
    "name": "ipython",
    "version": 3
   },
   "file_extension": ".py",
   "mimetype": "text/x-python",
   "name": "python",
   "nbconvert_exporter": "python",
   "pygments_lexer": "ipython3",
   "version": "3.8.10"
  },
  "toc": {
   "base_numbering": 1,
   "nav_menu": {},
   "number_sections": true,
   "sideBar": true,
   "skip_h1_title": false,
   "title_cell": "Table of Contents",
   "title_sidebar": "Contents",
   "toc_cell": false,
   "toc_position": {
    "height": "calc(100% - 180px)",
    "left": "10px",
    "top": "150px",
    "width": "397px"
   },
   "toc_section_display": true,
   "toc_window_display": true
  }
 },
 "nbformat": 4,
 "nbformat_minor": 4
}
