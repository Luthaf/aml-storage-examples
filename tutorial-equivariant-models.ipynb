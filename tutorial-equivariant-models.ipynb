{
 "cells": [
  {
   "cell_type": "code",
   "execution_count": 1,
   "metadata": {},
   "outputs": [],
   "source": [
    "%load_ext autoreload\n",
    "%autoreload 2"
   ]
  },
  {
   "cell_type": "markdown",
   "metadata": {},
   "source": [
    "<p style=\"font-size:32px; font-weight: bolder; text-align: center\">Equivariant ML models</p>\n",
    "<p style=\"font-size:16px; text-align: center\">A tutorial introduction</p>\n",
    "<p style=\"text-align: center\"><i> authored by: <a href=\"mailto:michele.ceriotti@gmail.com\"> Michele Ceriotti </a></i></p>"
   ]
  },
  {
   "cell_type": "markdown",
   "metadata": {},
   "source": [
    "_Equivariance_ indicates the property of a function for which the inputs and outputs are subject to the action of the same symmetries, and which commutes with the application of the symmetries, that is: $f(\\hat{S}A) = \\hat{S} f(A)$. _Invariance_ can be seen as a special case, in which  $f(\\hat{S}A) = f(A)$.\n",
    "\n",
    "This notebook provides a brief introduction to the concept of equivariance in the context of atomic-scale machine-learning models, focusing in particular on the case of 3D rotations and inversion - in technical terms the $O(3)$ group symmetries - and their combination with translations - the three-dimensional Euclidean group $E(3)$. "
   ]
  },
  {
   "cell_type": "markdown",
   "metadata": {},
   "source": [
    "# The tools of the trade"
   ]
  },
  {
   "cell_type": "markdown",
   "metadata": {},
   "source": [
    "We will use a number of packages, including both general-purpose ones and some that are designed specifically to the construction and manipulation of equivariant ML models. You should be able to fetch most of these from PIP, while others might require a custom installation."
   ]
  },
  {
   "cell_type": "markdown",
   "metadata": {},
   "source": [
    "Besides some time-tested classics..."
   ]
  },
  {
   "cell_type": "code",
   "execution_count": 2,
   "metadata": {},
   "outputs": [],
   "source": [
    "import numpy as np\n",
    "import matplotlib.pyplot as plt"
   ]
  },
  {
   "cell_type": "markdown",
   "metadata": {},
   "source": [
    "... we will use [ASE](https://wiki.fysik.dtu.dk/ase/) to load and manipulate atomic structures "
   ]
  },
  {
   "cell_type": "code",
   "execution_count": 3,
   "metadata": {},
   "outputs": [],
   "source": [
    "import ase.io"
   ]
  },
  {
   "cell_type": "markdown",
   "metadata": {},
   "source": [
    "... [chemiscope](https://chemiscope.org) to visualize them, [equistore](https://github.com/lab-cosmo/equistore) to hold equivariant quantities and [rascaline](https://github.com/Luthaf/rascaline) to compute atom-centered density correlations (ACDCs) - the main family of equivariant descriptors we will use."
   ]
  },
  {
   "cell_type": "code",
   "execution_count": 4,
   "metadata": {},
   "outputs": [],
   "source": [
    "import equistore\n",
    "import chemiscope\n",
    "from rascaline import SphericalExpansion"
   ]
  },
  {
   "cell_type": "code",
   "execution_count": 5,
   "metadata": {},
   "outputs": [],
   "source": [
    "# uncomment these if you miss some of the packages\n",
    "# ! pip install --user chemiscope\n",
    "# !pip install --user --upgrade https://github.com/Luthaf/temporary-wheels/raw/main/equistore-74e0eabb-py3-none-linux_x86_64.whl\n",
    "# !pip install --user --upgrade https://github.com/Luthaf/temporary-wheels/raw/main/rascaline-17b1cea7-py3-none-linux_x86_64.whl\n",
    "# !pip install --user ase "
   ]
  },
  {
   "cell_type": "markdown",
   "metadata": {},
   "source": [
    "## Water dataset"
   ]
  },
  {
   "cell_type": "markdown",
   "metadata": {},
   "source": [
    "We use as a demonstrative dataset a simple dataset that contains a water molecule, stretched and bent in different ways. For each configuration, the dataset holds energy, forces and dipole moments, computed using the high-accuracy [Partridge-Schwenke fits](10.1063/1.473987). "
   ]
  },
  {
   "cell_type": "code",
   "execution_count": 6,
   "metadata": {},
   "outputs": [],
   "source": [
    "frames = ase.io.read(\"data/chemrev_nuprime-theta-grid_computed.xyz\", \":\")"
   ]
  },
  {
   "cell_type": "code",
   "execution_count": 7,
   "metadata": {},
   "outputs": [
    {
     "name": "stderr",
     "output_type": "stream",
     "text": [
      "/home/michele/local/lib/python3.8/site-packages/chemiscope/structures.py:305: UserWarning: value '[ 0.439333 -0.486919  0.      ]' of type '<class 'numpy.ndarray'>' for the 'force' property from ASE is not convertible to float or string, this property will be ignored.\n",
      "  warnings.warn(\n",
      "/home/michele/local/lib/python3.8/site-packages/chemiscope/structures.py:305: UserWarning: value '[-0.00853353  0.49287236  0.        ]' of type '<class 'numpy.ndarray'>' for the 'dipole' property from ASE is not convertible to float or string, this property will be ignored.\n",
      "  warnings.warn(\n"
     ]
    },
    {
     "data": {
      "application/vnd.jupyter.widget-view+json": {
       "model_id": "40d8de42b3224623a6a5216de9c150d5",
       "version_major": 2,
       "version_minor": 0
      },
      "text/plain": [
       "ChemiscopeWidget(value=None, data='{\"meta\": {\"name\": \" \"}, \"settings\": {\"map\": {\"x\": {\"property\": \"HOH\"}, \"y\":…"
      ]
     },
     "metadata": {},
     "output_type": "display_data"
    }
   ],
   "source": [
    "cs = chemiscope.show(frames, \n",
    "        settings={\n",
    "            'map' : { 'x':{'property' : \"HOH\"},  'y':{'property' : \"OH1\"}, 'color' : {'property' : 'energy'} },\n",
    "            'structure': [{'axes': 'xyz','keepOrientation': True}]\n",
    "        })\n",
    "display(cs)"
   ]
  },
  {
   "cell_type": "markdown",
   "metadata": {},
   "source": [
    "Processes the properties of the structures (as stored in the `.extxyz` file) as `TensorBlock` objects. We will see later how these can be used. "
   ]
  },
  {
   "cell_type": "code",
   "execution_count": 8,
   "metadata": {},
   "outputs": [],
   "source": [
    "energy_values = []\n",
    "force_values = []\n",
    "dipole_values = []\n",
    "for f in frames:\n",
    "    energy_values.append(f.info['energy'])\n",
    "    dipole_values.append(f.info['dipole'])\n",
    "    force_values.append(f.arrays['force'])"
   ]
  },
  {
   "cell_type": "code",
   "execution_count": 9,
   "metadata": {},
   "outputs": [],
   "source": [
    "energies = equistore.TensorBlock(values=np.asarray(energy_values).reshape(-1,1,1), \n",
    "                                 samples=equistore.labels.Labels(names = [\"structure\"], values=np.arange(len(frames), dtype=np.int32).reshape(-1,1) ),\n",
    "                                 components=[equistore.labels.Labels.single()],\n",
    "                                 properties=equistore.labels.Labels.single(),\n",
    "                                )\n",
    "\n",
    "energies.add_gradient(\"positions\", data=-np.array(force_values).reshape(-1,3,1,1),\n",
    "                      samples=equistore.labels.Labels(names=[\"sample\", \"atom\"], \n",
    "                                                      values=np.asarray(np.vstack([ [[i,0],[i,1],[i,2]] for i in range(len(frames))]),dtype=np.int32) ),\n",
    "                      components=[equistore.labels.Labels(names=[\"gradient_direction\"], values=np.asarray([[0,1,2]], dtype=np.int32).T),\n",
    "                                  equistore.labels.Labels.single()\n",
    "                                 ]\n",
    "                     )"
   ]
  },
  {
   "cell_type": "code",
   "execution_count": 10,
   "metadata": {},
   "outputs": [],
   "source": [
    "dipoles = equistore.TensorBlock(values=np.asarray(dipole_values).reshape(-1,3,1), \n",
    "                                 samples=equistore.labels.Labels(names = [\"structure\"], values=np.arange(len(frames), dtype=np.int32).reshape(-1,1) ),\n",
    "                                 components=[equistore.labels.Labels(names=[\"direction\"], values=np.asarray([[0,1,2]], dtype=np.int32).T) ],\n",
    "                                 properties=equistore.labels.Labels.single(),\n",
    "                                )"
   ]
  },
  {
   "cell_type": "markdown",
   "metadata": {},
   "source": [
    "# Rotations and vectors"
   ]
  },
  {
   "cell_type": "markdown",
   "metadata": {},
   "source": [
    "Let's now start looking into how a vector such as the dipole moment rotates. The key concept is that a vectorial property such as the atomic positions or the dipole moment transform, under the action of a rotation operation $\\hat{R}$ in a way consistent with the application of a rotation matrix $\\mathbf{R}$, i.e. if a structure $A$ has atomic positions $\\mathbf{r}_i$ and dipole moment $\\mathbf{y}_i$ (each of these being a 3-vector corresponding to the Cartesian coordinates $(x,y,z)$) then the rotated structure $\\hat{R}A$ has atomic coordinates $\\mathbf{R}\\mathbf{r}_i$ and dipole moment $\\mathbf{R}\\mathbf{y}$. \n",
    "\n",
    "\n",
    "<img src=\"figures/rotations.png\" width=\"400\"/>"
   ]
  },
  {
   "cell_type": "markdown",
   "metadata": {},
   "source": [
    "A rotation can be defined in terms of [Euler angles](https://en.wikipedia.org/wiki/Euler_angles), a set of three angles $(\\alpha, \\beta, \\gamma)$ that define the orientation of a rigid body relative to a reference frame.  This is a problem that is made quite tricky by the existence of dozen of alternative conventions. For those in the know, we use the $ZYZ$ intrinsic rotations definition, which is also the one commonly used to define quantities in angular momentum theory. We use a wrapper from some utilities that returns the rotation matrix in the \"correct\" format, and use it to generate a set of water molecules in which the position of the atoms and the molecular dipoles have been rotated appropriately. "
   ]
  },
  {
   "cell_type": "code",
   "execution_count": 11,
   "metadata": {},
   "outputs": [],
   "source": [
    "from utils.rotations import rotation_matrix, xyz_to_spherical, spherical_to_xyz, wigner_d_real\n",
    "from utils.clebsh_gordan import ClebschGordanReal"
   ]
  },
  {
   "cell_type": "code",
   "execution_count": 12,
   "metadata": {},
   "outputs": [],
   "source": [
    "rotated_structures = []\n",
    "rotated_wdipole = []\n",
    "selected_frame = frames[81]\n",
    "selected_dipole = dipoles.values[81,:,0]\n",
    "# adds two fake atoms to show the magnitude and direction of the dipole moment\n",
    "dipole_mol = ase.Atoms(\"FH\", positions=[[0,2,0],selected_dipole+[0,2,0]])\n",
    "for alpha in np.linspace(0, 2*np.pi, 8):\n",
    "    for beta in np.linspace(0, np.pi, 4):\n",
    "        for gamma in np.linspace(0, 2*np.pi, 8):\n",
    "            rot_frame = selected_frame.copy() \n",
    "            rot_frame.info['alpha'] = alpha\n",
    "            rot_frame.info['beta'] = beta\n",
    "            rot_frame.info['gamma'] = gamma\n",
    "            # rotates the frame\n",
    "            R = rotation_matrix(alpha, beta, gamma)\n",
    "            rot_frame.positions = rot_frame.positions@R.T\n",
    "            rot_frame.cell = rot_frame.cell@R.T\n",
    "            rot_frame.info['dipole'] = rot_frame.info['dipole']@R.T\n",
    "            rotated_structures.append(rot_frame)\n",
    "            \n",
    "            # just for visualization, frames with dipole visualized as HF\n",
    "            rot_frame = selected_frame.copy() + dipole_mol\n",
    "            rot_frame.positions = rot_frame.positions@R.T\n",
    "            rot_frame.cell = rot_frame.cell@R.T\n",
    "            rot_frame.info.update(dict(alpha=alpha, beta=beta, gamma=gamma))\n",
    "            rotated_wdipole.append(rot_frame)"
   ]
  },
  {
   "cell_type": "code",
   "execution_count": 13,
   "metadata": {},
   "outputs": [
    {
     "name": "stderr",
     "output_type": "stream",
     "text": [
      "/home/michele/local/lib/python3.8/site-packages/chemiscope/structures.py:305: UserWarning: value '[-0.180684  -0.0523002  0.       ]' of type '<class 'numpy.ndarray'>' for the 'force' property from ASE is not convertible to float or string, this property will be ignored.\n",
      "  warnings.warn(\n",
      "/home/michele/local/lib/python3.8/site-packages/chemiscope/structures.py:305: UserWarning: value '[-0.0279015   0.40166012  0.        ]' of type '<class 'numpy.ndarray'>' for the 'dipole' property from ASE is not convertible to float or string, this property will be ignored.\n",
      "  warnings.warn(\n"
     ]
    },
    {
     "data": {
      "application/vnd.jupyter.widget-view+json": {
       "model_id": "af79ed7ae3bd45c8a9c1e0c4ad9f53e5",
       "version_major": 2,
       "version_minor": 0
      },
      "text/plain": [
       "ChemiscopeWidget(value=None, data='{\"meta\": {\"name\": \" \"}, \"settings\": {\"map\": {\"x\": {\"property\": \"alpha\"}, \"y…"
      ]
     },
     "metadata": {},
     "output_type": "display_data"
    }
   ],
   "source": [
    "cs = chemiscope.show(rotated_wdipole, \n",
    "        settings={\n",
    "            'map' : {\n",
    "                'x' : {'property' : 'alpha'},\n",
    "                'y' : {'property' : 'beta'},\n",
    "                'z' : {'property' : 'gamma'},\n",
    "                'color' : {'property' : 'energy'} },\n",
    "            'structure': [{'axes': 'xyz','keepOrientation': True}]\n",
    "        })\n",
    "display(cs)"
   ]
  },
  {
   "cell_type": "markdown",
   "metadata": {},
   "source": [
    "<a id=\"spherical-tensors\"> </a>"
   ]
  },
  {
   "cell_type": "markdown",
   "metadata": {},
   "source": [
    "# Rotations and arbitrary tensors"
   ]
  },
  {
   "cell_type": "markdown",
   "metadata": {},
   "source": [
    "Vectorial quantities such as are just one of the possible types of equivariant properties associated with a molecular structure. We consider as an example the tensor\n",
    "\n",
    "$$\n",
    "\\mathbf{Y} = \\mathbf{y}\\mathbf{y}^T + |\\mathbf{y}|^2 \\mathbf{1},  \n",
    "$$\n",
    "\n",
    "built starting from the dipole moment $\\mathbf{y}$. "
   ]
  },
  {
   "cell_type": "code",
   "execution_count": 14,
   "metadata": {},
   "outputs": [],
   "source": [
    "def y_to_Y(y):\n",
    "    return y.reshape(-1,1)@y.reshape(1,-1) + (y@y)*np.eye(3)"
   ]
  },
  {
   "cell_type": "code",
   "execution_count": 15,
   "metadata": {},
   "outputs": [],
   "source": [
    "for rot_frame in rotated_structures:\n",
    "    rot_frame.info['Y'] = y_to_Y(rot_frame.info['dipole'])"
   ]
  },
  {
   "cell_type": "markdown",
   "metadata": {},
   "source": [
    "This quantity transforms under rotation as $\\mathbf{Y}(\\hat{R}A) = \\mathbf{R}\\mathbf{Y}(A)\\mathbf{R}^T$. \n",
    "While this is a perfectly fine way of expressing the transformation, it is more complicated than necessary: all the $9$ components of $\\mathbf{Y}$ are formally mixed in the process, and even though it is linear in $\\mathbf{Y}$, to explicitly cast it as such requires combining the two multiplications by $\\mathbf{R}$ into the multiplication by a large, $9\\times 9$ matrix."
   ]
  },
  {
   "cell_type": "code",
   "execution_count": 16,
   "metadata": {},
   "outputs": [],
   "source": [
    "# picks one of the rotated structures\n",
    "base = rotated_structures[0]\n",
    "selected = rotated_structures[11]\n",
    "base_Y = base.info['Y']\n",
    "selected_Y = selected.info['Y']\n",
    "# builds the rotation matrix\n",
    "R = rotation_matrix(selected.info['alpha'], selected.info['beta'], selected.info['gamma'])"
   ]
  },
  {
   "cell_type": "code",
   "execution_count": 17,
   "metadata": {},
   "outputs": [
    {
     "name": "stdout",
     "output_type": "stream",
     "text": [
      "[[ 0.16288784 -0.01120692  0.        ]\n",
      " [-0.01120692  0.32344019  0.        ]\n",
      " [ 0.          0.          0.16210934]]\n",
      "[[ 0.16766969  0.02788752 -0.0096308 ]\n",
      " [ 0.02788752  0.30197732 -0.0483026 ]\n",
      " [-0.0096308  -0.0483026   0.17879037]]\n",
      "[[ 0.16766969  0.02788752 -0.0096308 ]\n",
      " [ 0.02788752  0.30197732 -0.0483026 ]\n",
      " [-0.0096308  -0.0483026   0.17879037]]\n"
     ]
    }
   ],
   "source": [
    "print(base_Y)\n",
    "# rotated Y matches the Y of the rotated structure\n",
    "print(R@base_Y@R.T)\n",
    "print(selected_Y)"
   ]
  },
  {
   "cell_type": "code",
   "execution_count": 18,
   "metadata": {},
   "outputs": [],
   "source": [
    "# builds the 9x9 rotation matrix - can you follow the index juggling?\n",
    "flat_idx = np.array([(0,0),(0,1),(0,2),(1,0),(1,1),(1,2),(2,0),(2,1),(2,2)], dtype=int)\n",
    "RR = R[flat_idx[:,0]][:,flat_idx[:,0]]*R[flat_idx[:,1]][:,flat_idx[:,1]]"
   ]
  },
  {
   "cell_type": "code",
   "execution_count": 19,
   "metadata": {},
   "outputs": [
    {
     "data": {
      "text/plain": [
       "<matplotlib.image.AxesImage at 0x7f66ca2a8370>"
      ]
     },
     "execution_count": 19,
     "metadata": {},
     "output_type": "execute_result"
    },
    {
     "data": {
      "image/png": "[encoded data removed]",
      "text/plain": [
       "<Figure size 288x288 with 1 Axes>"
      ]
     },
     "metadata": {
      "needs_background": "light"
     },
     "output_type": "display_data"
    }
   ],
   "source": [
    "# the 9x9 matrix is almost entirely full\n",
    "plt.matshow(RR, cmap=plt.cm.RdBu, vmin=-max(np.abs(RR.flatten())), vmax=max(np.abs(RR.flatten())))"
   ]
  },
  {
   "cell_type": "code",
   "execution_count": 20,
   "metadata": {},
   "outputs": [
    {
     "data": {
      "text/plain": [
       "array([[ 0.16766969,  0.02788752, -0.0096308 ],\n",
       "       [ 0.02788752,  0.30197732, -0.0483026 ],\n",
       "       [-0.0096308 , -0.0483026 ,  0.17879037]])"
      ]
     },
     "execution_count": 20,
     "metadata": {},
     "output_type": "execute_result"
    }
   ],
   "source": [
    "# this rotates the tensor with a single multiplication\n",
    "(RR@(base_Y[flat_idx[:,0],flat_idx[:,1]])).reshape(3,3)"
   ]
  },
  {
   "cell_type": "markdown",
   "metadata": {},
   "source": [
    "This brings us to the concept of _irreducible_ representations of the rotation group. In very hand-wavy terms, we look for ways to simplify the transformation by recombining entries in $\\mathbf{Y}$ in such a way that they are less mixed up when acted upon by a rotation $\\hat{R}$. \n",
    "That this might be possible can be seen by noticing that the _trace_ of $\\mathbf{Y}$, $Y_{xx}+Y_{yy}+ Y_{zz}$ is left unchanged by the rotation - it is _invariant_."
   ]
  },
  {
   "cell_type": "code",
   "execution_count": 21,
   "metadata": {},
   "outputs": [
    {
     "name": "stdout",
     "output_type": "stream",
     "text": [
      "0.648437375959412 0.6484373759594122\n"
     ]
    }
   ],
   "source": [
    "print(np.trace(base_Y), np.trace(selected_Y))"
   ]
  },
  {
   "cell_type": "markdown",
   "metadata": {},
   "source": [
    "It turns out that products of Cartesian coordinates can be rearranged into blocks that transform under rotation as _spherical harmonics_, $Y^m_l$. The theory is not entirely trivial, and gets even messier if (as we do here) one wants to express everything in terms of _real_ spherical harmonics. \n",
    "The manipulations here are somewhat opaque (and rely heavily on utility functions) but allow to follow the construction of the _spherical tensor_ form of $\\mathbf{Y}$. "
   ]
  },
  {
   "cell_type": "code",
   "execution_count": 22,
   "metadata": {},
   "outputs": [
    {
     "data": {
      "text/plain": [
       "{(1, 1): {0: array([-0.37437549]),\n",
       "  1: array([0., 0., 0.]),\n",
       "  2: array([-0.01584898,  0.        , -0.06618086,  0.        , -0.11352766])}}"
      ]
     },
     "execution_count": 22,
     "metadata": {},
     "output_type": "execute_result"
    }
   ],
   "source": [
    "# we need Clebsch-Gordan coefficients to transform the Cartesian tensor into an irreducible form\n",
    "cg = ClebschGordanReal(l_max=2)\n",
    "cg.couple(xyz_to_spherical(base_Y))"
   ]
  },
  {
   "cell_type": "markdown",
   "metadata": {},
   "source": [
    "The output indicates that the tensor was built as the product of two vector-like ($l=1$) spherical Harmonics, and it has been decomposed into a scalar ($l=0$), pseudo-vector ($l=1$, zero because the tensor is symmetric), and higher-order ($l=2$) term. Each block contains $2m+1$ components. We can therefore stack these in a a single array with 9 components, that could (in principle) be written as a unitary transformation of the initial Cartesian form."
   ]
  },
  {
   "cell_type": "code",
   "execution_count": 23,
   "metadata": {},
   "outputs": [
    {
     "name": "stdout",
     "output_type": "stream",
     "text": [
      "[-0.37437549  0.          0.          0.         -0.01584898  0.\n",
      " -0.06618086  0.         -0.11352766]\n",
      "[-0.37437549  0.          0.          0.          0.03943891 -0.0683102\n",
      " -0.04575086 -0.01362    -0.09496984]\n"
     ]
    }
   ],
   "source": [
    "def to_coupled(cartesian):\n",
    "    coupled = cg.couple(xyz_to_spherical(cartesian))\n",
    "    return np.hstack( [coupled[(1,1)][l] for l in [0,1,2]] )\n",
    "base_coupled_Y = to_coupled(base_Y)\n",
    "selected_coupled_Y = to_coupled(selected_Y)\n",
    "# note that elements [1:4] are zero: this is a consequence of the symmetry of Y\n",
    "print(base_coupled_Y)\n",
    "print(selected_coupled_Y)"
   ]
  },
  {
   "cell_type": "markdown",
   "metadata": {},
   "source": [
    "Compare the $9\\timex 9$ matrix above with that associated with rotating the tensor in this new basis. Each of the irreducible blocks transform separately, so the rotation matrix is block-diagonal. _Any_ Cartesian tensor can be expressed in terms of a collection of $Y^m_l$-like irreducible blocks."
   ]
  },
  {
   "cell_type": "code",
   "execution_count": 24,
   "metadata": {},
   "outputs": [],
   "source": [
    "# the rotation matrix for the irreducible form can be built from a collection\n",
    "# of (real-valued) Wigner D matrices\n",
    "coupled_RR = np.zeros((9,9))\n",
    "coupled_RR[0,0] = wigner_d_real(0, selected.info['alpha'], selected.info['beta'], selected.info['gamma'])\n",
    "coupled_RR[1:4,1:4] = wigner_d_real(1, selected.info['alpha'], selected.info['beta'], selected.info['gamma'])\n",
    "coupled_RR[4:9,4:9] = wigner_d_real(2, selected.info['alpha'], selected.info['beta'], selected.info['gamma'])"
   ]
  },
  {
   "cell_type": "code",
   "execution_count": 25,
   "metadata": {},
   "outputs": [
    {
     "data": {
      "text/plain": [
       "<matplotlib.image.AxesImage at 0x7f66c8113eb0>"
      ]
     },
     "execution_count": 25,
     "metadata": {},
     "output_type": "execute_result"
    },
    {
     "data": {
      "image/png": "[encoded data removed]",
      "text/plain": [
       "<Figure size 288x288 with 1 Axes>"
      ]
     },
     "metadata": {
      "needs_background": "light"
     },
     "output_type": "display_data"
    }
   ],
   "source": [
    "# the 9x9 matrix is block diagonal\n",
    "plt.matshow(coupled_RR, cmap=plt.cm.RdBu, vmin=-max(np.abs(RR.flatten())), vmax=max(np.abs(RR.flatten())))"
   ]
  },
  {
   "cell_type": "code",
   "execution_count": 26,
   "metadata": {},
   "outputs": [
    {
     "name": "stdout",
     "output_type": "stream",
     "text": [
      "[-0.37437549  0.          0.          0.         -0.01584898  0.\n",
      " -0.06618086  0.         -0.11352766]\n",
      "[-0.37437549  0.          0.          0.          0.03943891 -0.0683102\n",
      " -0.04575086 -0.01362    -0.09496984]\n",
      "[-0.37437549  0.          0.          0.          0.03943891 -0.0683102\n",
      " -0.04575086 -0.01362    -0.09496984]\n"
     ]
    }
   ],
   "source": [
    "# this block-diagonal matrix performs a rotation in the irreducible spherical basis\n",
    "print(base_coupled_Y)\n",
    "print(coupled_RR@base_coupled_Y)\n",
    "print(selected_coupled_Y)"
   ]
  },
  {
   "cell_type": "markdown",
   "metadata": {},
   "source": [
    "The transformation can be reverted to bring the tensor back to its Cartesian form"
   ]
  },
  {
   "cell_type": "code",
   "execution_count": 27,
   "metadata": {},
   "outputs": [
    {
     "data": {
      "text/plain": [
       "array([[ 0.16766969,  0.02788752, -0.0096308 ],\n",
       "       [ 0.02788752,  0.30197732, -0.0483026 ],\n",
       "       [-0.0096308 , -0.0483026 ,  0.17879037]])"
      ]
     },
     "execution_count": 27,
     "metadata": {},
     "output_type": "execute_result"
    }
   ],
   "source": [
    "coupled = {(1,1): {0:selected_coupled_Y[:1], 1:selected_coupled_Y[1:4], 2: selected_coupled_Y[4:9]}}\n",
    "spherical_to_xyz(cg.decouple(coupled))"
   ]
  },
  {
   "cell_type": "markdown",
   "metadata": {},
   "source": [
    "# Density expansion coefficients"
   ]
  },
  {
   "cell_type": "markdown",
   "metadata": {},
   "source": [
    "We now move on to discuss how to describe an atomic environment using expansion coefficients of the atomic density. In short, the idea is to start describing a molecule $A$ in terms of localized functions (e.g. Gaussians) centered on each atom $i$, \"labelled\" by their chemical nature $a$\n",
    "\n",
    "$$\n",
    "\\langle a \\mathbf{x} | A; \\rho\\rangle = \\sum_{i \\in A} \\delta_{a a_i} \\langle \\mathbf{x} | \\mathbf{r}_i \\rangle.\n",
    "$$\n",
    "\n",
    "We use  the notation $\\langle \\mathbf{x} | \\mathbf{r}_i \\rangle = g(\\mathbf{x}-\\mathbf{r}_i)$ to emphasize how the full structure is built as a sum of terms that describe individual atoms. In general terms, in analogy with the Dirac notation used to describe a quantum state, the notation $\\langle q | A\\rangle$ to indicate a descriptor $| A\\rangle$ for an entity $A$, discretized in a basis that is enumerated by the index $q$. \n",
    "See Section 3.1 of [this review](https://doi.org/10.1021/acs.chemrev.1c00021) for a gentler introduction. "
   ]
  },
  {
   "cell_type": "markdown",
   "metadata": {},
   "source": [
    "This density is then symmetrized with respect to translations (reflecting the fact that atomic properties are invariant to rigid translations of a molecule) which leads to expressing the structure descriptors as a sum of descriptors of _atom centered environments_ $A_i$,\n",
    "\n",
    "\n",
    "$$\n",
    "\\langle a \\mathbf{x} | \\rho_i\\rangle = \\sum_{j \\in A_i} \\delta_{a a_j} \\langle \\mathbf{x} | \\mathbf{r}_{ji} \\rangle.\n",
    "$$\n",
    "\n",
    "where the Gaussians are evaluated at the interatomic distance vectors $\\mathbf{r}_{ji}=\\mathbf{r}_j-\\mathbf{r}_i$."
   ]
  },
  {
   "cell_type": "markdown",
   "metadata": {},
   "source": [
    "To manipulate this atom-centered density, it is more convenient to express it on a discrete basis. Again, in analogy with what is done routinely in quantum chemistry for the electron wafefunction (or density) we use a basis of radial functions $R_{nl}(x) \\equiv \\langle x||nl\\rangle$ and spherical harmonics $Y^m_{l}(\\hat{\\mathbf{x}}) \\equiv \\langle \\hat{\\mathbf{x}}|lm\\rangle$\n",
    "\n",
    "$$\n",
    "\\langle a nlm | \\rho_i\\rangle = \\int \\mathrm{d}\\mathbf{x} \n",
    " \\langle nl| x\\rangle  \\langle lm| \\hat{\\mathbf{x}} \\rangle\n",
    "\\langle a \\mathbf{x} | \\rho_i\\rangle  \n",
    "$$"
   ]
  },
  {
   "cell_type": "markdown",
   "metadata": {},
   "source": [
    "## Computing descriptors with _rascaline_ and _equistore_"
   ]
  },
  {
   "cell_type": "markdown",
   "metadata": {},
   "source": [
    "We use `rascaline` to compute the density expansion coefficients for these water molecule structures. \n",
    "The coefficients are returned as a `equistore.TensorMap` object, that reflects some of the considerations discussed above on the structure of atom-centered density features"
   ]
  },
  {
   "cell_type": "code",
   "execution_count": 28,
   "metadata": {},
   "outputs": [],
   "source": [
    "hypers = {\n",
    "    \"cutoff\": 2.0,\n",
    "    \"max_radial\": 6,\n",
    "    \"max_angular\": 4,\n",
    "    \"atomic_gaussian_width\": 0.2,\n",
    "    \"radial_basis\": {\"Gto\": {}},\n",
    "    \"cutoff_function\": {\"ShiftedCosine\": {\"width\": 0.5}},\n",
    "    \"center_atom_weight\": 1.0,\n",
    "    \"gradients\": False,\n",
    "}\n",
    "\n",
    "calculator = SphericalExpansion(**hypers)\n",
    "\n",
    "descriptor = calculator.compute(frames)"
   ]
  },
  {
   "cell_type": "markdown",
   "metadata": {},
   "source": [
    "A `TensorMap` object works as a container that holds blocks of data. The pattern is reminiscent of a `dict`, but with some more structure and metadata: each block is associated with a _key_, which consists in a tuple of ints. The set of keys is a `equistore.Labels` object, that also keeps track of the _names_ that describe each index in the key. \n",
    "\n",
    "The expansion keys hold the `spherical_harmonics_l index`, and two indices corresponding to the atomic number of the central atom `species_center` and of the neighbors `species_neighbor`. "
   ]
  },
  {
   "cell_type": "code",
   "execution_count": 29,
   "metadata": {},
   "outputs": [
    {
     "data": {
      "text/plain": [
       "Labels([(0, 1, 1), (1, 1, 1), (2, 1, 1), (3, 1, 1), (4, 1, 1), (0, 1, 8),\n",
       "        (1, 1, 8), (2, 1, 8), (3, 1, 8), (4, 1, 8), (0, 8, 1), (1, 8, 1),\n",
       "        (2, 8, 1), (3, 8, 1), (4, 8, 1), (0, 8, 8), (1, 8, 8), (2, 8, 8),\n",
       "        (3, 8, 8), (4, 8, 8)],\n",
       "       dtype=[('spherical_harmonics_l', '<i4'), ('species_center', '<i4'), ('species_neighbor', '<i4')])"
      ]
     },
     "execution_count": 29,
     "metadata": {},
     "output_type": "execute_result"
    }
   ],
   "source": [
    "descriptor.keys"
   ]
  },
  {
   "cell_type": "markdown",
   "metadata": {},
   "source": [
    "Each block is associated to a `equistore.TensorBlock` object. Each block is associated with a dense tensor with a `samples` direction (enumerating the items that are described) a `properties` direction (enumerating actual properties, or descriptors) and zero or more `components` - typical examples would be the Cartesian coordinates of a vector, or the $m$ index in spherical harmonics. Each is associated with a `Labels` object that stores metadata that describe the entries."
   ]
  },
  {
   "cell_type": "code",
   "execution_count": 30,
   "metadata": {},
   "outputs": [],
   "source": [
    "# this is l=2, central atom is O and neighbor is H\n",
    "block = descriptor.block(spherical_harmonics_l=2,species_center=8,species_neighbor=1)"
   ]
  },
  {
   "cell_type": "code",
   "execution_count": 31,
   "metadata": {},
   "outputs": [
    {
     "data": {
      "text/plain": [
       "Labels([(  0, 0), (  1, 0), (  2, 0), (  3, 0), (  4, 0), (  5, 0),\n",
       "        (  6, 0), (  7, 0), (  8, 0), (  9, 0), ( 10, 0), ( 11, 0),\n",
       "        ( 12, 0), ( 13, 0), ( 14, 0), ( 15, 0), ( 16, 0), ( 17, 0),\n",
       "        ( 18, 0), ( 19, 0), ( 20, 0), ( 21, 0), ( 22, 0), ( 23, 0),\n",
       "        ( 24, 0), ( 25, 0), ( 26, 0), ( 27, 0), ( 28, 0), ( 29, 0),\n",
       "        ( 30, 0), ( 31, 0), ( 32, 0), ( 33, 0), ( 34, 0), ( 35, 0),\n",
       "        ( 36, 0), ( 37, 0), ( 38, 0), ( 39, 0), ( 40, 0), ( 41, 0),\n",
       "        ( 42, 0), ( 43, 0), ( 44, 0), ( 45, 0), ( 46, 0), ( 47, 0),\n",
       "        ( 48, 0), ( 49, 0), ( 50, 0), ( 51, 0), ( 52, 0), ( 53, 0),\n",
       "        ( 54, 0), ( 55, 0), ( 56, 0), ( 57, 0), ( 58, 0), ( 59, 0),\n",
       "        ( 60, 0), ( 61, 0), ( 62, 0), ( 63, 0), ( 64, 0), ( 65, 0),\n",
       "        ( 66, 0), ( 67, 0), ( 68, 0), ( 69, 0), ( 70, 0), ( 71, 0),\n",
       "        ( 72, 0), ( 73, 0), ( 74, 0), ( 75, 0), ( 76, 0), ( 77, 0),\n",
       "        ( 78, 0), ( 79, 0), ( 80, 0), ( 81, 0), ( 82, 0), ( 83, 0),\n",
       "        ( 84, 0), ( 85, 0), ( 86, 0), ( 87, 0), ( 88, 0), ( 89, 0),\n",
       "        ( 90, 0), ( 91, 0), ( 92, 0), ( 93, 0), ( 94, 0), ( 95, 0),\n",
       "        ( 96, 0), ( 97, 0), ( 98, 0), ( 99, 0), (100, 0), (101, 0),\n",
       "        (102, 0), (103, 0), (104, 0), (105, 0), (106, 0), (107, 0),\n",
       "        (108, 0), (109, 0), (110, 0), (111, 0), (112, 0), (113, 0),\n",
       "        (114, 0), (115, 0), (116, 0), (117, 0), (118, 0), (119, 0),\n",
       "        (120, 0)], dtype=[('structure', '<i4'), ('center', '<i4')])"
      ]
     },
     "execution_count": 31,
     "metadata": {},
     "output_type": "execute_result"
    }
   ],
   "source": [
    "block.samples"
   ]
  },
  {
   "cell_type": "code",
   "execution_count": 32,
   "metadata": {},
   "outputs": [
    {
     "data": {
      "text/plain": [
       "Labels([(0,), (1,), (2,), (3,), (4,), (5,)], dtype=[('n', '<i4')])"
      ]
     },
     "execution_count": 32,
     "metadata": {},
     "output_type": "execute_result"
    }
   ],
   "source": [
    "block.properties"
   ]
  },
  {
   "cell_type": "code",
   "execution_count": 33,
   "metadata": {},
   "outputs": [
    {
     "data": {
      "text/plain": [
       "[Labels([(-2,), (-1,), ( 0,), ( 1,), ( 2,)],\n",
       "        dtype=[('spherical_harmonics_m', '<i4')])]"
      ]
     },
     "execution_count": 33,
     "metadata": {},
     "output_type": "execute_result"
    }
   ],
   "source": [
    "block.components"
   ]
  },
  {
   "cell_type": "markdown",
   "metadata": {},
   "source": [
    "Depending on the type of system or application, some indices might be stored more conveniently as samples, properties, components, or as sparse keys. _equistore_ provides utility functions to reorder the data for more convenient manipulation. For instance, in this case all atoms have the same type of neighbors, and so it does not make sense to use sparse storage for the neighbor element index. We can move the index from keys to properties:"
   ]
  },
  {
   "cell_type": "code",
   "execution_count": 34,
   "metadata": {},
   "outputs": [],
   "source": [
    "descriptor.keys_to_properties('species_neighbor')"
   ]
  },
  {
   "cell_type": "code",
   "execution_count": 35,
   "metadata": {},
   "outputs": [
    {
     "data": {
      "text/plain": [
       "Labels([(0, 1), (1, 1), (2, 1), (3, 1), (4, 1), (0, 8), (1, 8), (2, 8),\n",
       "        (3, 8), (4, 8)],\n",
       "       dtype=[('spherical_harmonics_l', '<i4'), ('species_center', '<i4')])"
      ]
     },
     "execution_count": 35,
     "metadata": {},
     "output_type": "execute_result"
    }
   ],
   "source": [
    "descriptor.keys"
   ]
  },
  {
   "cell_type": "code",
   "execution_count": 36,
   "metadata": {},
   "outputs": [
    {
     "data": {
      "text/plain": [
       "Labels([(1, 0), (1, 1), (1, 2), (1, 3), (1, 4), (1, 5), (8, 0), (8, 1),\n",
       "        (8, 2), (8, 3), (8, 4), (8, 5)],\n",
       "       dtype=[('species_neighbor', '<i4'), ('n', '<i4')])"
      ]
     },
     "execution_count": 36,
     "metadata": {},
     "output_type": "execute_result"
    }
   ],
   "source": [
    "descriptor.block(0).properties"
   ]
  },
  {
   "cell_type": "markdown",
   "metadata": {},
   "source": [
    "## Equivariance of the descriptors"
   ]
  },
  {
   "cell_type": "markdown",
   "metadata": {},
   "source": [
    "Let's now see how the density coefficients actually behave as equivariant descriptors. This is kind of obvious given that we build them by expanding the density on a basis of spherical harmonics! Here we compute descriptors for two of the rotated structures, and see how the same result can be achieved by applying the rotation to the base molecule using a Wigner-D matrix."
   ]
  },
  {
   "cell_type": "code",
   "execution_count": 37,
   "metadata": {},
   "outputs": [],
   "source": [
    "base_descriptor = calculator.compute([base])\n",
    "selected_descriptor = calculator.compute([selected])"
   ]
  },
  {
   "cell_type": "code",
   "execution_count": 38,
   "metadata": {},
   "outputs": [],
   "source": [
    "base_descriptor.keys_to_properties('species_neighbor')\n",
    "selected_descriptor.keys_to_properties('species_neighbor')"
   ]
  },
  {
   "cell_type": "code",
   "execution_count": 39,
   "metadata": {},
   "outputs": [],
   "source": [
    "base_block = base_descriptor.block(spherical_harmonics_l=2, species_center=8)\n",
    "selected_block = selected_descriptor.block(spherical_harmonics_l=2, species_center=8)"
   ]
  },
  {
   "cell_type": "code",
   "execution_count": 40,
   "metadata": {},
   "outputs": [
    {
     "data": {
      "text/plain": [
       "array([[[ 9.95415088e-05,  2.78895144e-03,  1.00108951e-03,\n",
       "         -6.57218153e-03, -9.25261589e-04, -4.76194145e-04,\n",
       "          0.00000000e+00,  0.00000000e+00,  0.00000000e+00,\n",
       "          0.00000000e+00,  0.00000000e+00,  0.00000000e+00],\n",
       "        [-1.72410951e-04, -4.83060559e-03, -1.73393790e-03,\n",
       "          1.13833523e-02,  1.60260008e-03,  8.24792453e-04,\n",
       "          0.00000000e+00,  0.00000000e+00,  0.00000000e+00,\n",
       "          0.00000000e+00,  0.00000000e+00,  0.00000000e+00],\n",
       "        [ 1.26352348e-03,  5.21001911e-03,  1.62190074e-02,\n",
       "         -1.24360366e-03,  1.25271290e-04, -3.95396764e-04,\n",
       "          0.00000000e+00,  0.00000000e+00,  0.00000000e+00,\n",
       "          0.00000000e+00,  0.00000000e+00,  0.00000000e+00],\n",
       "        [-2.51748210e-03, -4.48778373e-03, -3.30006672e-02,\n",
       "         -1.35622708e-02, -2.56641067e-03, -3.14811674e-04,\n",
       "          0.00000000e+00,  0.00000000e+00,  0.00000000e+00,\n",
       "          0.00000000e+00,  0.00000000e+00,  0.00000000e+00],\n",
       "        [-7.18451075e-04,  3.84197153e-03, -1.00137434e-02,\n",
       "         -1.78143461e-02, -2.74645955e-03, -1.04836049e-03,\n",
       "          0.00000000e+00,  0.00000000e+00,  0.00000000e+00,\n",
       "          0.00000000e+00,  0.00000000e+00,  0.00000000e+00]]])"
      ]
     },
     "execution_count": 40,
     "metadata": {},
     "output_type": "execute_result"
    }
   ],
   "source": [
    "selected_block.values"
   ]
  },
  {
   "cell_type": "code",
   "execution_count": 41,
   "metadata": {},
   "outputs": [],
   "source": [
    "wd = wigner_d_real(2, selected.info['alpha'], selected.info['beta'], selected.info['gamma'])"
   ]
  },
  {
   "cell_type": "code",
   "execution_count": 42,
   "metadata": {},
   "outputs": [
    {
     "data": {
      "text/plain": [
       "array([[ 9.95415088e-05,  2.78895144e-03,  1.00108951e-03,\n",
       "        -6.57218153e-03, -9.25261589e-04, -4.76194145e-04,\n",
       "         0.00000000e+00,  0.00000000e+00,  0.00000000e+00,\n",
       "         0.00000000e+00,  0.00000000e+00,  0.00000000e+00],\n",
       "       [-1.72410951e-04, -4.83060559e-03, -1.73393790e-03,\n",
       "         1.13833523e-02,  1.60260008e-03,  8.24792453e-04,\n",
       "         0.00000000e+00,  0.00000000e+00,  0.00000000e+00,\n",
       "         0.00000000e+00,  0.00000000e+00,  0.00000000e+00],\n",
       "       [ 1.26352348e-03,  5.21001911e-03,  1.62190074e-02,\n",
       "        -1.24360366e-03,  1.25271290e-04, -3.95396764e-04,\n",
       "         0.00000000e+00,  0.00000000e+00,  0.00000000e+00,\n",
       "         0.00000000e+00,  0.00000000e+00,  0.00000000e+00],\n",
       "       [-2.51748210e-03, -4.48778373e-03, -3.30006672e-02,\n",
       "        -1.35622708e-02, -2.56641067e-03, -3.14811674e-04,\n",
       "         0.00000000e+00,  0.00000000e+00,  0.00000000e+00,\n",
       "         0.00000000e+00,  0.00000000e+00,  0.00000000e+00],\n",
       "       [-7.18451075e-04,  3.84197153e-03, -1.00137434e-02,\n",
       "        -1.78143461e-02, -2.74645955e-03, -1.04836049e-03,\n",
       "         0.00000000e+00,  0.00000000e+00,  0.00000000e+00,\n",
       "         0.00000000e+00,  0.00000000e+00,  0.00000000e+00]])"
      ]
     },
     "execution_count": 42,
     "metadata": {},
     "output_type": "execute_result"
    }
   ],
   "source": [
    "wd@base_block.values[0]"
   ]
  },
  {
   "cell_type": "markdown",
   "metadata": {},
   "source": [
    "In light of this, we can see density coefficients as _symmetry adapted_ descriptors. To emphasize their equivariant behavior, and that they reflect the distribution of neighbors by summing over them one of a time, we indicate the coefficients as \n",
    "\n",
    "$$\n",
    "\\langle an|\\overline{\\rho_i^{\\otimes 1}; \\lambda \\mu }\\rangle \\equiv\n",
    "\\langle an\\lambda \\mu|\\rho_i\\rangle\n",
    "$$"
   ]
  },
  {
   "cell_type": "markdown",
   "metadata": {},
   "source": [
    "# Atom-centered density correlations"
   ]
  },
  {
   "cell_type": "markdown",
   "metadata": {},
   "source": [
    "The density expansion coefficients can be regarded as the simplest possible form of an equivariant descriptor built based on the neighbor density. The invariant part, $\\langle an|\\overline{\\rho_i^{\\otimes 1}; 00 }\\rangle$ corresponds to a discretization of the pair correlation function: using a real-space basis,\n",
    "\n",
    "$$\n",
    "    \\langle ax|\\overline{\\rho_i^{\\otimes 1}; 00 }\\rangle \\approx \\sum_{j\\in A_i} \\delta_{a a_j} \\langle x | r_{ji} \\rangle \n",
    "$$\n",
    "\n",
    "where $ \\langle x | r_{ji} \\rangle $ is a localized function centered on $r_{ji}$. "
   ]
  },
  {
   "cell_type": "markdown",
   "metadata": {},
   "source": [
    "In order to obtain a richer description of the atomic environment it is possible to combine several copies of $\\langle a\\mathbf{x} | \\rho_i \\rangle$, to build $\\nu$-neighbors atom-centered density correlations (ACDCs). \n",
    "The formalism we use was introduced by [Willatt et al.](https://doi.org/10.1063/1.5090481), and is explained in detail, discussing its relation with the leading frameworks for atomistic machine learning, in a [review by Musil et al.](https://doi.org/10.1021/acs.chemrev.1c00021)\n",
    "\n",
    "Essentially, the idea is that considering tensor products of the atom density provides simultaneous information on the mutual position of several neighbors\n",
    "\n",
    "$$\n",
    "\\langle \\mathbf{x} |  \\rho_i \\rangle \\langle \\mathbf{x}' |  \\rho_i \\rangle =\n",
    "\\sum_{jj'\\in A_i}\n",
    "\\langle \\mathbf{x} |\\mathbf{r}_{ji} \\rangle \\langle \\mathbf{x}' |\\mathbf{r}_{j'i} \\rangle. \n",
    "$$\n",
    "\n",
    "Much like for the case of [Cartesian tensors](#spherical-tensors), these tensor products can be re-cast in terms of irreducible representations of the O(3) (rotations + inversion) group. A (comparatively) simple and efficient way to obtain these equivariant ACDC features is to build them iteratively, as discussed e.g. by [Nigam et al. ](https://doi.org/10.1063/5.0021116), using an expression that corresponds to the combination of angular momenta in quantum mechanics using Clebsch-Gordan coefficients $\\langle k m_1\\  l m_2 | \\lambda \\mu \\rangle$.\n",
    "\n",
    "$$\n",
    "\\langle q k;  a n l|\\overline{\\rho_i^{\\otimes (\\nu+1)}; \\sigma (-1)^{l+k+\\lambda};  \\lambda \\mu } \\rangle = \n",
    "\\sum_{m_1 m_2} \n",
    "\\langle q |\\overline{\\rho_i^{\\otimes \\nu}; k m_1 } \\rangle\n",
    "\\langle a n|\\overline{\\rho_i^{\\otimes 1}; \\sigma l m_2 } \\rangle \n",
    "\\langle k m_1\\  l m_2 | \\lambda \\mu \\rangle.\n",
    "$$\n",
    "\n",
    "The additional index $\\sigma$ in the ket $|\\sigma; \\lambda \\mu>$ takes the values $\\pm 1$ and tracks the parity of the descriptors with respect to inversion (all the $\\nu=1$ equivariants have a parity $+1$, which means that they pick up a phase $(-1)^\\lambda$ under inversion)."
   ]
  },
  {
   "cell_type": "markdown",
   "metadata": {},
   "source": [
    "## Computing $\\nu=2$ equivariants ($\\lambda$-SOAP)"
   ]
  },
  {
   "cell_type": "markdown",
   "metadata": {},
   "source": [
    "This is a lot to take in, so let's see how this is realized in a practical case. First, we convert the descriptors in a standardized form (the combination routines use the metadata in TensorMap to generate the right combinations)."
   ]
  },
  {
   "cell_type": "code",
   "execution_count": 43,
   "metadata": {},
   "outputs": [],
   "source": [
    "from equistore import Labels, TensorBlock, TensorMap\n",
    "from utils.acdc_mini import *"
   ]
  },
  {
   "cell_type": "code",
   "execution_count": 44,
   "metadata": {},
   "outputs": [],
   "source": [
    "# precompute the C-G coefficients so they can be reused. we need to go up to l_max*2 \n",
    "cg = ClebschGordanReal(l_max=hypers[\"max_angular\"])"
   ]
  },
  {
   "cell_type": "code",
   "execution_count": 45,
   "metadata": {},
   "outputs": [],
   "source": [
    "# this enforces a consistent naming convention for the various components\n",
    "acdc_nu1 = acdc_standardize_keys(descriptor) "
   ]
  },
  {
   "cell_type": "code",
   "execution_count": 46,
   "metadata": {},
   "outputs": [],
   "source": [
    "# and this makes sure that all blocks have the same size, \n",
    "# by merging blocks associated with different central atoms\n",
    "acdc_nu1.keys_to_samples(\"species_center\")"
   ]
  },
  {
   "cell_type": "code",
   "execution_count": 47,
   "metadata": {},
   "outputs": [
    {
     "data": {
      "text/plain": [
       "Labels([(1, 1, 0), (1, 1, 1), (1, 1, 2), (1, 1, 3), (1, 1, 4)],\n",
       "       dtype=[('order_nu', '<i4'), ('inversion_sigma', '<i4'), ('spherical_harmonics_l', '<i4')])"
      ]
     },
     "execution_count": 47,
     "metadata": {},
     "output_type": "execute_result"
    }
   ],
   "source": [
    "acdc_nu1.keys"
   ]
  },
  {
   "cell_type": "code",
   "execution_count": 48,
   "metadata": {},
   "outputs": [
    {
     "data": {
      "text/plain": [
       "Labels([(1, 0), (1, 1), (1, 2), (1, 3), (1, 4), (1, 5), (8, 0), (8, 1),\n",
       "        (8, 2), (8, 3), (8, 4), (8, 5)],\n",
       "       dtype=[('species_neighbor_1', '<i4'), ('n_1', '<i4')])"
      ]
     },
     "execution_count": 48,
     "metadata": {},
     "output_type": "execute_result"
    }
   ],
   "source": [
    "acdc_nu1.block(spherical_harmonics_l=1).properties"
   ]
  },
  {
   "cell_type": "markdown",
   "metadata": {},
   "source": [
    "... then we call the C-G combination using a utility subroutine. The combinations generate more blocks (some with even and some with odd inversion parity, and potentially up to twice the maximum $l$ in the inputs), and for each block many more features (the full tensor product of species and radial functions, as well as angular momentum labels). This function computes ALL combinations (up to an equivariant cutoff `lcut`), which is very wasteful because many combinations are linearly dependent."
   ]
  },
  {
   "cell_type": "code",
   "execution_count": 49,
   "metadata": {},
   "outputs": [],
   "source": [
    "acdc_nu2 = cg_increment(acdc_nu1, acdc_nu1, clebsch_gordan=cg, lcut=hypers[\"max_angular\"])"
   ]
  },
  {
   "cell_type": "code",
   "execution_count": 50,
   "metadata": {},
   "outputs": [
    {
     "data": {
      "text/plain": [
       "Labels([(2,  1, 0), (2,  1, 1), (2,  1, 2), (2,  1, 3), (2,  1, 4),\n",
       "        (2, -1, 1), (2, -1, 2), (2, -1, 3), (2, -1, 4)],\n",
       "       dtype=[('order_nu', '<i4'), ('inversion_sigma', '<i4'), ('spherical_harmonics_l', '<i4')])"
      ]
     },
     "execution_count": 50,
     "metadata": {},
     "output_type": "execute_result"
    }
   ],
   "source": [
    "acdc_nu2.keys"
   ]
  },
  {
   "cell_type": "code",
   "execution_count": 51,
   "metadata": {},
   "outputs": [
    {
     "data": {
      "text/plain": [
       "('species_neighbor_1', 'n_1', 'l_1', 'species_neighbor_2', 'n_2', 'l_2')"
      ]
     },
     "execution_count": 51,
     "metadata": {},
     "output_type": "execute_result"
    }
   ],
   "source": [
    "acdc_nu2.block(0).properties.names"
   ]
  },
  {
   "cell_type": "markdown",
   "metadata": {},
   "source": [
    "## Equivariance of the higher-order descriptors"
   ]
  },
  {
   "cell_type": "markdown",
   "metadata": {},
   "source": [
    "Let's now see how the density coefficients actually behave as equivariant descriptors. This is kind of obvious given that we build them by expanding the density on a basis of spherical harmonics! Here we compute descriptors for two of the rotated structures, and see how the same result can be achieved by applying the rotation to the base molecule using a Wigner-D matrix."
   ]
  },
  {
   "cell_type": "code",
   "execution_count": 52,
   "metadata": {},
   "outputs": [],
   "source": [
    "test_descriptors = calculator.compute([base, selected])\n",
    "test_descriptors.keys_to_properties('species_neighbor')\n",
    "test_nu1 = acdc_standardize_keys(test_descriptors) \n",
    "test_nu1.keys_to_samples(\"species_center\")\n",
    "test_nu2 = cg_increment(test_nu1, test_nu1, clebsch_gordan=cg, lcut=hypers[\"max_angular\"])"
   ]
  },
  {
   "cell_type": "code",
   "execution_count": 53,
   "metadata": {},
   "outputs": [],
   "source": [
    "test_block = test_nu2.block(spherical_harmonics_l=3, inversion_sigma=1)"
   ]
  },
  {
   "cell_type": "code",
   "execution_count": 54,
   "metadata": {},
   "outputs": [],
   "source": [
    "# for simplicity, we are computing all descriptors in one go, \n",
    "# so we fetch the block corresponding to the base and the rotated O\n",
    "test_base = test_block.values[test_block.samples.position((0,0,8))]\n",
    "test_selected = test_block.values[test_block.samples.position((1,0,8))]"
   ]
  },
  {
   "cell_type": "markdown",
   "metadata": {},
   "source": [
    "Recall that `selected` is a rigidly-rotated copy of the `base` molecule, so the features should correspond after being rotated with an appropriate Wigner matrix..."
   ]
  },
  {
   "cell_type": "code",
   "execution_count": 55,
   "metadata": {},
   "outputs": [],
   "source": [
    "wd = wigner_d_real(3, selected.info['alpha'], selected.info['beta'], selected.info['gamma'])"
   ]
  },
  {
   "cell_type": "code",
   "execution_count": 56,
   "metadata": {},
   "outputs": [
    {
     "data": {
      "text/plain": [
       "array([[ 1.51850399e-06, -8.31240101e-06,  2.03405013e-05, ...,\n",
       "         0.00000000e+00,  0.00000000e+00,  0.00000000e+00],\n",
       "       [ 4.61787722e-06,  3.29106198e-06,  6.33462357e-05, ...,\n",
       "         0.00000000e+00,  0.00000000e+00,  0.00000000e+00],\n",
       "       [-2.19619256e-06, -8.84220998e-06, -3.05058651e-05, ...,\n",
       "         0.00000000e+00,  0.00000000e+00,  0.00000000e+00],\n",
       "       ...,\n",
       "       [-6.58900061e-06, -1.18799801e-05, -9.07598474e-05, ...,\n",
       "         0.00000000e+00,  0.00000000e+00,  0.00000000e+00],\n",
       "       [ 5.17109844e-06, -1.97344268e-06,  7.06401150e-05, ...,\n",
       "         0.00000000e+00,  0.00000000e+00,  0.00000000e+00],\n",
       "       [-2.19901405e-06,  4.55586135e-06, -2.98460195e-05, ...,\n",
       "         0.00000000e+00,  0.00000000e+00,  0.00000000e+00]])"
      ]
     },
     "execution_count": 56,
     "metadata": {},
     "output_type": "execute_result"
    }
   ],
   "source": [
    "test_selected"
   ]
  },
  {
   "cell_type": "code",
   "execution_count": 57,
   "metadata": {},
   "outputs": [
    {
     "data": {
      "text/plain": [
       "array([[ 1.51850399e-06, -8.31240101e-06,  2.03405013e-05, ...,\n",
       "         0.00000000e+00,  0.00000000e+00,  0.00000000e+00],\n",
       "       [ 4.61787722e-06,  3.29106198e-06,  6.33462357e-05, ...,\n",
       "         0.00000000e+00,  0.00000000e+00,  0.00000000e+00],\n",
       "       [-2.19619256e-06, -8.84220998e-06, -3.05058651e-05, ...,\n",
       "         0.00000000e+00,  0.00000000e+00,  0.00000000e+00],\n",
       "       ...,\n",
       "       [-6.58900061e-06, -1.18799801e-05, -9.07598474e-05, ...,\n",
       "         0.00000000e+00,  0.00000000e+00,  0.00000000e+00],\n",
       "       [ 5.17109844e-06, -1.97344268e-06,  7.06401150e-05, ...,\n",
       "         0.00000000e+00,  0.00000000e+00,  0.00000000e+00],\n",
       "       [-2.19901405e-06,  4.55586135e-06, -2.98460195e-05, ...,\n",
       "         0.00000000e+00,  0.00000000e+00,  0.00000000e+00]])"
      ]
     },
     "execution_count": 57,
     "metadata": {},
     "output_type": "execute_result"
    }
   ],
   "source": [
    "wd@test_base   # ... and they do match!"
   ]
  },
  {
   "cell_type": "markdown",
   "metadata": {},
   "source": [
    "# An equivariant ML model"
   ]
  },
  {
   "cell_type": "markdown",
   "metadata": {},
   "source": [
    "Now, let's see how we can use equivariant features to build an equivariant model that predicts the dipole of the water molecule. We will do so with linear regression, that reveals clearly the nature of the problem. \n",
    "It is interesting to note, that the algebraic structure of $O(3)$ means that in practice most equivariant models have a structure that is very close to that underlying the iterative construction of ACDCs. \n",
    "[Cormorant](https://proceedings.neurips.cc/paper/2019/file/03573b32b2746e6e8ca98b9123f2249b-Paper.pdf) and [Tensor Field Networks](http://arxiv.org/abs/1802.08219v3) are two examples of equivariant networks that effectively build linear combinations of $|\\overline{\\rho_i^{\\otimes \\nu}; \\sigma;  \\lambda \\mu }\\rangle$ features, and pretty much all other schemes can be regarded as injecting non-linearities in the form of multipliers that depend only on scalar descriptors. See [Nigam et al.](https://aip.scitation.org/doi/10.1063/5.0087042) for a formal discussion of the analogies and differences between ACDCs and alternative schemes."
   ]
  },
  {
   "cell_type": "markdown",
   "metadata": {},
   "source": [
    "A linear model for a tensorial property $y^\\mu_\\lambda$ (already expressed in its irreducible spherical form) can be readily built as \n",
    "\n",
    "$$\n",
    "\\tilde{y}^{\\sigma;\\lambda}_\\mu(A_i) \\approx \\sum_q w_q \\langle q|\\overline{\\rho_i^{\\otimes \\nu}; \\sigma;  \\lambda \\mu }\\rangle.\n",
    "$$\n",
    "\n",
    "It is essential that the weights depend on the feature weight, but not on the symmetry component $\\mu$: then,\n",
    "\n",
    "$$\n",
    "\\tilde{y}^{\\sigma;\\lambda}_\\mu(\\hat{R}A_i) \\approx \\sum_q w_q \\langle q|\\hat{R}\\overline{\\rho_i^{\\otimes \\nu}; \\sigma;  \\lambda \\mu }\\rangle = \\hat{R}y^{\\sigma;\\lambda}_\\mu(A_i),\n",
    "$$\n",
    "\n",
    "provided that $|\\overline{\\rho_i^{\\otimes \\nu}; \\sigma;  \\lambda \\mu }\\rangle$ is equivariant to $\\hat{R}$. "
   ]
  },
  {
   "cell_type": "markdown",
   "metadata": {},
   "source": [
    "By defining a $L^2$ loss in which one sums over the mean square error for all components $\\mu$ as well as the train set indices, \n",
    "\n",
    "$$\n",
    "\\ell = \\sum_{i\\mu} |\\tilde{y}^{\\sigma;\\lambda}_\\mu(A_i) - y^{\\sigma;\\lambda}_\\mu(A_i)|^2\n",
    "$$\n",
    "\n",
    "one sees that in order to build a linear regression scheme it is enough to treat the symmetry components as sample indices -- although one must pay attention to keep blocks associated with a given structure together when splitting the data set or performing cross-validation. This means one can use standard ridge regression from `sklearn`. Note it's important _not_ to fit an intercept, as that is incompatible with rotational symmetry: all $\\lambda>0$ tensor components must average to zero over rotations."
   ]
  },
  {
   "cell_type": "code",
   "execution_count": 58,
   "metadata": {},
   "outputs": [],
   "source": [
    "from sklearn.linear_model import Ridge"
   ]
  },
  {
   "cell_type": "code",
   "execution_count": 59,
   "metadata": {},
   "outputs": [],
   "source": [
    "ridge = Ridge(alpha = 1e-8, fit_intercept = False)"
   ]
  },
  {
   "cell_type": "code",
   "execution_count": 60,
   "metadata": {},
   "outputs": [
    {
     "data": {
      "text/plain": [
       "Ridge(alpha=1e-08, fit_intercept=False)"
      ]
     },
     "execution_count": 60,
     "metadata": {},
     "output_type": "execute_result"
    }
   ],
   "source": [
    "# uses only O as centers (simpler, there's just one sample per molecule)\n",
    "idx = np.where(acdc_nu1.block(inversion_sigma=1, spherical_harmonics_l=1).samples[\"species_center\"] == 8)[0]\n",
    "# try using acdc_nu1 as descriptors: performances are horrible because it does not hold info on the HOH angle!\n",
    "X = acdc_nu2.block(inversion_sigma=1, spherical_harmonics_l=1).values[idx]\n",
    "y = xyz_to_spherical(dipoles.values)\n",
    "ridge.fit(X[::2].reshape(-1,X.shape[-1]), y[::2].flatten())"
   ]
  },
  {
   "cell_type": "code",
   "execution_count": 61,
   "metadata": {},
   "outputs": [],
   "source": [
    "yp = ridge.predict(X.reshape(-1,X.shape[-1]) ).reshape(-1,3)"
   ]
  },
  {
   "cell_type": "code",
   "execution_count": 62,
   "metadata": {},
   "outputs": [
    {
     "data": {
      "image/png": "[encoded data removed]",
      "text/plain": [
       "<Figure size 432x288 with 1 Axes>"
      ]
     },
     "metadata": {
      "needs_background": "light"
     },
     "output_type": "display_data"
    }
   ],
   "source": [
    "plt.plot(y[1::2].flatten(),yp[1::2].flatten(),'r.', label=\"test\")\n",
    "plt.plot(y[::2].flatten(),yp[::2].flatten(),'b.', label=\"train\")\n",
    "plt.xlabel(r\"$y_\\mu$ / eV/Å\")\n",
    "plt.ylabel(r\"$\\tilde{y}_\\mu$ / eV/Å\")\n",
    "plt.legend();"
   ]
  },
  {
   "cell_type": "markdown",
   "metadata": {},
   "source": [
    "Even though all structures in the train set lie in the $xy$ plane, the model predicts perfectly well the dipoles of arbitrarily oriented molecules."
   ]
  },
  {
   "cell_type": "code",
   "execution_count": 63,
   "metadata": {},
   "outputs": [],
   "source": [
    "rotated_descriptors = calculator.compute(rotated_structures)\n",
    "rotated_descriptors.keys_to_properties('species_neighbor')\n",
    "rot_nu1 = acdc_standardize_keys(rotated_descriptors) \n",
    "rot_nu1.keys_to_samples(\"species_center\")\n",
    "rot_nu2 = cg_increment(rot_nu1, rot_nu1, clebsch_gordan=cg, lcut=hypers[\"max_angular\"])"
   ]
  },
  {
   "cell_type": "code",
   "execution_count": 64,
   "metadata": {},
   "outputs": [],
   "source": [
    "idx = np.where(rot_nu1.block(inversion_sigma=1, spherical_harmonics_l=1).samples[\"species_center\"] == 8)[0]\n",
    "X = rot_nu2.block(inversion_sigma=1, spherical_harmonics_l=1).values[idx]\n",
    "rot_yp = spherical_to_xyz(ridge.predict(X.reshape(-1,X.shape[-1]) ).reshape(-1,3))"
   ]
  },
  {
   "cell_type": "code",
   "execution_count": 65,
   "metadata": {},
   "outputs": [],
   "source": [
    "rot_y = np.asarray([frame.info['dipole'] for frame in rotated_structures])"
   ]
  },
  {
   "cell_type": "code",
   "execution_count": 66,
   "metadata": {},
   "outputs": [
    {
     "data": {
      "text/plain": [
       "Text(0, 0.5, '$\\\\tilde{y}_\\\\alpha$ / eV/Å')"
      ]
     },
     "execution_count": 66,
     "metadata": {},
     "output_type": "execute_result"
    },
    {
     "data": {
      "image/png": "[encoded data removed]",
      "text/plain": [
       "<Figure size 432x288 with 1 Axes>"
      ]
     },
     "metadata": {
      "needs_background": "light"
     },
     "output_type": "display_data"
    }
   ],
   "source": [
    "plt.plot(rot_y.flatten(), rot_yp.flatten(), 'b.')\n",
    "plt.xlabel(r\"$y_\\mu$ / eV/Å\")\n",
    "plt.ylabel(r\"$\\tilde{y}_\\mu$ / eV/Å\")\n",
    "plt.xlabel(r\"$y_\\alpha$ / eV/Å\")\n",
    "plt.ylabel(r\"$\\tilde{y}_\\alpha$ / eV/Å\")"
   ]
  },
  {
   "cell_type": "markdown",
   "metadata": {},
   "source": [
    "Let's look at how the predicted dipoles rotate with the molecule..."
   ]
  },
  {
   "cell_type": "code",
   "execution_count": 67,
   "metadata": {},
   "outputs": [],
   "source": [
    "rotated_wdipolep = []\n",
    "dipole_mol = ase.Atoms(\"FH\", positions=[[0,2,0],selected_dipole+[0,2,0]])\n",
    "for i,f in enumerate(rotated_structures):\n",
    "    # for visualization purpose we display the dipole as an HF molecule - the origin must also be rotated, which we had done manually above\n",
    "    rotated_wdipolep.append(f+ase.Atoms(\"FH\", \n",
    "        positions=[rotated_wdipole[i].positions[3],rotated_wdipole[i].positions[3]+rot_yp[i]*2])\n",
    "                           )"
   ]
  },
  {
   "cell_type": "code",
   "execution_count": 68,
   "metadata": {},
   "outputs": [
    {
     "name": "stderr",
     "output_type": "stream",
     "text": [
      "/home/michele/local/lib/python3.8/site-packages/chemiscope/structures.py:305: UserWarning: value '[-0.180684  -0.0523002  0.       ]' of type '<class 'numpy.ndarray'>' for the 'force' property from ASE is not convertible to float or string, this property will be ignored.\n",
      "  warnings.warn(\n",
      "/home/michele/local/lib/python3.8/site-packages/chemiscope/structures.py:305: UserWarning: value '[-0.0279015   0.40166012  0.        ]' of type '<class 'numpy.ndarray'>' for the 'dipole' property from ASE is not convertible to float or string, this property will be ignored.\n",
      "  warnings.warn(\n",
      "/home/michele/local/lib/python3.8/site-packages/chemiscope/structures.py:305: UserWarning: value '[[ 0.16288784 -0.01120692  0.        ]\n",
      " [-0.01120692  0.32344019  0.        ]\n",
      " [ 0.          0.          0.16210934]]' of type '<class 'numpy.ndarray'>' for the 'Y' property from ASE is not convertible to float or string, this property will be ignored.\n",
      "  warnings.warn(\n"
     ]
    },
    {
     "data": {
      "application/vnd.jupyter.widget-view+json": {
       "model_id": "b4ac2b90451d4ff89f684c3636de6b54",
       "version_major": 2,
       "version_minor": 0
      },
      "text/plain": [
       "ChemiscopeWidget(value=None, data='{\"meta\": {\"name\": \" \"}, \"settings\": {\"map\": {\"x\": {\"property\": \"alpha\"}, \"y…"
      ]
     },
     "metadata": {},
     "output_type": "display_data"
    }
   ],
   "source": [
    "cs = chemiscope.show(rotated_wdipolep, \n",
    "        settings={\n",
    "            'map' : {\n",
    "                'x' : {'property' : 'alpha'},\n",
    "                'y' : {'property' : 'beta'},\n",
    "                'z' : {'property' : 'gamma'},\n",
    "                'color' : {'property' : 'energy'} },\n",
    "            'structure': [{'axes': 'xyz','keepOrientation': True}]\n",
    "        })\n",
    "display(cs)"
   ]
  },
  {
   "cell_type": "code",
   "execution_count": null,
   "metadata": {},
   "outputs": [],
   "source": []
  }
 ],
 "metadata": {
  "kernelspec": {
   "display_name": "Python 3",
   "language": "python",
   "name": "python3"
  },
  "language_info": {
   "codemirror_mode": {
    "name": "ipython",
    "version": 3
   },
   "file_extension": ".py",
   "mimetype": "text/x-python",
   "name": "python",
   "nbconvert_exporter": "python",
   "pygments_lexer": "ipython3",
   "version": "3.8.10"
  },
  "toc": {
   "base_numbering": 1,
   "nav_menu": {},
   "number_sections": true,
   "sideBar": true,
   "skip_h1_title": false,
   "title_cell": "Table of Contents",
   "title_sidebar": "Contents",
   "toc_cell": false,
   "toc_position": {
    "height": "calc(100% - 180px)",
    "left": "10px",
    "top": "150px",
    "width": "397px"
   },
   "toc_section_display": true,
   "toc_window_display": true
  }
 },
 "nbformat": 4,
 "nbformat_minor": 4
}
