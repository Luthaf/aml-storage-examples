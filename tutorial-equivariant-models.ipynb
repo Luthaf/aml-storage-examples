{
 "cells": [
  {
   "cell_type": "markdown",
   "metadata": {},
   "source": [
    "<p style=\"font-size:32px; font-weight: bolder; text-align: center\">Equivariant ML models</p>\n",
    "<p style=\"font-size:16px; text-align: center\">A tutorial introduction</p>\n",
    "<p style=\"text-align: center\"><i> authored by: <a href=\"mailto:michele.ceriotti@gmail.com\"> Michele Ceriotti </a></i></p>"
   ]
  },
  {
   "cell_type": "markdown",
   "metadata": {},
   "source": [
    "_Equivariance_ indicates the property of a function for which the inputs and outputs are subject to the action of the same symmetries, and which commutes with the application of the symmetries, that is: $f(\\hat{S}A) = \\hat{S} f(A)$. _Invariance_ can be seen as a special case, in which  $f(\\hat{S}A) = f(A)$.\n",
    "\n",
    "This notebook provides a brief introduction to the concept of equivariance in the context of atomic-scale machine-learning models, focusing in particular on the case of 3D rotations and inversion - in technical terms the $O(3)$ group symmetries - and their combination with translations - the three-dimensional Euclidean group $E(3)$. "
   ]
  },
  {
   "cell_type": "markdown",
   "metadata": {},
   "source": [
    "# The tools of the trade"
   ]
  },
  {
   "cell_type": "markdown",
   "metadata": {},
   "source": [
    "We will use a number of packages, including both general-purpose ones and some that are designed specifically to the construction and manipulation of equivariant ML models. You should be able to fetch most of these from PIP, while others might require a custom installation."
   ]
  },
  {
   "cell_type": "markdown",
   "metadata": {},
   "source": [
    "Besides some time-tested classics..."
   ]
  },
  {
   "cell_type": "code",
   "execution_count": 1,
   "metadata": {},
   "outputs": [],
   "source": [
    "import numpy as np\n",
    "import matplotlib.pyplot as plt"
   ]
  },
  {
   "cell_type": "markdown",
   "metadata": {},
   "source": [
    "... we will use [ASE](https://wiki.fysik.dtu.dk/ase/) to load and manipulate atomic structures "
   ]
  },
  {
   "cell_type": "code",
   "execution_count": 2,
   "metadata": {},
   "outputs": [],
   "source": [
    "import ase.io"
   ]
  },
  {
   "cell_type": "markdown",
   "metadata": {},
   "source": [
    "... [chemiscope](https://chemiscope.org) to visualize them, [equistore](https://github.com/lab-cosmo/equistore) to hold equivariant quantities and [rascaline](https://github.com/Luthaf/rascaline) to compute atom-centered density correlations (ACDCs) - the main family of equivariant descriptors we will use."
   ]
  },
  {
   "cell_type": "code",
   "execution_count": 3,
   "metadata": {},
   "outputs": [],
   "source": [
    "import equistore\n",
    "import chemiscope\n",
    "from rascaline import SphericalExpansion"
   ]
  },
  {
   "cell_type": "markdown",
   "metadata": {},
   "source": [
    "## Water dataset"
   ]
  },
  {
   "cell_type": "markdown",
   "metadata": {},
   "source": [
    "We use as a demonstrative dataset a simple dataset that contains a water molecule, stretched and bent in different ways. For each configuration, the dataset holds energy, forces and dipole moments, computed using the high-accuracy [Partridge-Schwenke fits](10.1063/1.473987). "
   ]
  },
  {
   "cell_type": "code",
   "execution_count": 35,
   "metadata": {},
   "outputs": [],
   "source": [
    "frames = ase.io.read(\"data/chemrev_nuprime-theta-grid_computed.xyz\", \":\")"
   ]
  },
  {
   "cell_type": "code",
   "execution_count": 38,
   "metadata": {},
   "outputs": [
    {
     "name": "stderr",
     "output_type": "stream",
     "text": [
      "/home/michele/local/lib/python3.8/site-packages/chemiscope/structures.py:305: UserWarning: value '[ 0.439333 -0.486919  0.      ]' of type '<class 'numpy.ndarray'>' for the 'force' property from ASE is not convertible to float or string, this property will be ignored.\n",
      "  warnings.warn(\n",
      "/home/michele/local/lib/python3.8/site-packages/chemiscope/structures.py:305: UserWarning: value '[-0.00853353  0.49287236  0.        ]' of type '<class 'numpy.ndarray'>' for the 'dipole' property from ASE is not convertible to float or string, this property will be ignored.\n",
      "  warnings.warn(\n"
     ]
    },
    {
     "data": {
      "application/vnd.jupyter.widget-view+json": {
       "model_id": "9667bf159d3548c59bce84efb4193583",
       "version_major": 2,
       "version_minor": 0
      },
      "text/plain": [
       "ChemiscopeWidget(value=None, data='{\"meta\": {\"name\": \" \"}, \"settings\": {\"map\": {\"color\": {\"property\": \"energy\"…"
      ]
     },
     "metadata": {},
     "output_type": "display_data"
    }
   ],
   "source": [
    "cs = chemiscope.show(frames, \n",
    "        settings={\n",
    "            'map' : {'color' : {'property' : 'energy'} },\n",
    "            'structure': [{'axes': 'xyz','keepOrientation': True}]\n",
    "        })\n",
    "display(cs)"
   ]
  },
  {
   "cell_type": "markdown",
   "metadata": {},
   "source": [
    "Processes the properties of the structures (as stored in the `.extxyz` file) as `TensorBlock` objects. We will see later how these can be used. "
   ]
  },
  {
   "cell_type": "code",
   "execution_count": 6,
   "metadata": {},
   "outputs": [],
   "source": [
    "energy_values = []\n",
    "force_values = []\n",
    "dipole_values = []\n",
    "for f in frames:\n",
    "    energy_values.append(f.info['energy'])\n",
    "    dipole_values.append(f.info['dipole'])\n",
    "    force_values.append(f.arrays['force'])"
   ]
  },
  {
   "cell_type": "code",
   "execution_count": 7,
   "metadata": {},
   "outputs": [],
   "source": [
    "energies = equistore.TensorBlock(values=np.asarray(energy_values).reshape(-1,1,1), \n",
    "                                 samples=equistore.labels.Labels(names = [\"structure\"], values=np.arange(len(frames), dtype=np.int32).reshape(-1,1) ),\n",
    "                                 components=[equistore.labels.Labels.single()],\n",
    "                                 properties=equistore.labels.Labels.single(),\n",
    "                                )\n",
    "\n",
    "energies.add_gradient(\"positions\", data=np.asarray(force_values).reshape(-1,3,1,1),\n",
    "                      samples=equistore.labels.Labels(names=[\"sample\", \"atom\"], \n",
    "                                                      values=np.asarray(np.vstack([ [[i,0],[i,1],[i,2]] for i in range(len(frames))]),dtype=np.int32) ),\n",
    "                      components=[equistore.labels.Labels(names=[\"gradient_direction\"], values=np.asarray([[0,1,2]], dtype=np.int32).T),\n",
    "                                  equistore.labels.Labels.single()\n",
    "                                 ]\n",
    "                     )"
   ]
  },
  {
   "cell_type": "code",
   "execution_count": 8,
   "metadata": {},
   "outputs": [],
   "source": [
    "dipoles = equistore.TensorBlock(values=np.asarray(dipole_values).reshape(-1,3,1), \n",
    "                                 samples=equistore.labels.Labels(names = [\"structure\"], values=np.arange(len(frames), dtype=np.int32).reshape(-1,1) ),\n",
    "                                 components=[equistore.labels.Labels(names=[\"direction\"], values=np.asarray([[0,1,2]], dtype=np.int32).T) ],\n",
    "                                 properties=equistore.labels.Labels.single(),\n",
    "                                )"
   ]
  },
  {
   "cell_type": "markdown",
   "metadata": {},
   "source": [
    "# Rotations and vectors"
   ]
  },
  {
   "cell_type": "markdown",
   "metadata": {},
   "source": [
    "Let's now start looking into how a vector such as the dipole moment rotates. The key concept is that a vectorial property such as the atomic positions or the dipole moment transform, under the action of a rotation operation $\\hat{R}$ in a way consistent with the application of a rotation matrix $\\mathbf{R}$, i.e. if a structure $A$ has atomic positions $\\mathbf{r}_i$ and dipole moment $\\mathbf{y}_i$ (each of these being a 3-vector corresponding to the Cartesian coordinates $(x,y,z)$) then the rotated structure $\\hat{R}A$ has atomic coordinates $\\mathbf{R}\\mathbf{r}_i$ and dipole moment $\\mathbf{R}\\mathbf{y}$. \n",
    "\n",
    "\n",
    "<img src=\"figures/rotations.png\" width=\"400\"/>"
   ]
  },
  {
   "cell_type": "markdown",
   "metadata": {},
   "source": [
    "A rotation can be defined in terms of [Euler angles](https://en.wikipedia.org/wiki/Euler_angles), a set of three angles $(\\alpha, \\beta, \\gamma)$ that define the orientation of a rigid body relative to a reference frame.  This is a problem that is made quite tricky by the existence of dozen of alternative conventions. For those in the know, we use the $ZYZ$ intrinsic rotations definition, which is also the one commonly used to define quantities in angular momentum theory. We use a wrapper from some utilities that returns the rotation matrix in the \"correct\" format, and use to generate a set of water molecules in which the position of the atoms and the molecular dipoles have been rotated appropriately. "
   ]
  },
  {
   "cell_type": "code",
   "execution_count": 69,
   "metadata": {},
   "outputs": [],
   "source": [
    "from utils.rotations import rotation_matrix"
   ]
  },
  {
   "cell_type": "code",
   "execution_count": 72,
   "metadata": {},
   "outputs": [],
   "source": [
    "rotated_structures = []\n",
    "selected_frame = frames[47]\n",
    "selected_dipole = dipoles.values[94,:,0]\n",
    "# adds two fake atoms to show the magnitude and direction of the dipole moment\n",
    "dipole_mol = ase.Atoms(\"FH\", positions=[[0,2,0],selected_dipole+[0,2,0]])\n",
    "for alpha in np.linspace(0, 2*np.pi, 8):\n",
    "    for beta in np.linspace(0, np.pi, 4):\n",
    "        for gamma in np.linspace(0, 2*np.pi, 8):\n",
    "            rot_frame = selected_frame.copy() + dipole_mol\n",
    "            rot_frame.info['alpha'] = alpha\n",
    "            rot_frame.info['beta'] = beta\n",
    "            rot_frame.info['gamma'] = gamma\n",
    "            # rotates the frame\n",
    "            R = rotation_matrix(alpha, beta, gamma)\n",
    "            rot_frame.positions = rot_frame.positions@R.T\n",
    "            rot_frame.cell = rot_frame.cell@R.T\n",
    "            rot_frame.info['dipole'] = rot_frame.info['dipole']@R.T\n",
    "            rotated_structures.append(rot_frame)"
   ]
  },
  {
   "cell_type": "code",
   "execution_count": 73,
   "metadata": {},
   "outputs": [
    {
     "name": "stderr",
     "output_type": "stream",
     "text": [
      "/home/michele/local/lib/python3.8/site-packages/chemiscope/structures.py:305: UserWarning: value '[ 0.0797022  -0.00155446  0.        ]' of type '<class 'numpy.ndarray'>' for the 'force' property from ASE is not convertible to float or string, this property will be ignored.\n",
      "  warnings.warn(\n",
      "/home/michele/local/lib/python3.8/site-packages/chemiscope/structures.py:305: UserWarning: value '[0.0091859  0.42833807 0.        ]' of type '<class 'numpy.ndarray'>' for the 'dipole' property from ASE is not convertible to float or string, this property will be ignored.\n",
      "  warnings.warn(\n"
     ]
    },
    {
     "data": {
      "application/vnd.jupyter.widget-view+json": {
       "model_id": "199676a7061d4d4984438aa803d431fd",
       "version_major": 2,
       "version_minor": 0
      },
      "text/plain": [
       "ChemiscopeWidget(value=None, data='{\"meta\": {\"name\": \" \"}, \"settings\": {\"map\": {\"x\": {\"property\": \"alpha\"}, \"y…"
      ]
     },
     "metadata": {},
     "output_type": "display_data"
    }
   ],
   "source": [
    "cs = chemiscope.show(rotated_structures, \n",
    "        settings={\n",
    "            'map' : {\n",
    "                'x' : {'property' : 'alpha'},\n",
    "                'y' : {'property' : 'beta'},\n",
    "                'z' : {'property' : 'gamma'},\n",
    "                'color' : {'property' : 'energy'} },\n",
    "            'structure': [{'axes': 'xyz','keepOrientation': True}]\n",
    "        })\n",
    "display(cs)"
   ]
  },
  {
   "cell_type": "markdown",
   "metadata": {},
   "source": [
    "# Rotations and arbitrary tensors"
   ]
  },
  {
   "cell_type": "code",
   "execution_count": null,
   "metadata": {},
   "outputs": [],
   "source": []
  },
  {
   "cell_type": "markdown",
   "metadata": {},
   "source": [
    "# New heading"
   ]
  },
  {
   "cell_type": "code",
   "execution_count": null,
   "metadata": {},
   "outputs": [],
   "source": []
  },
  {
   "cell_type": "code",
   "execution_count": 13,
   "metadata": {},
   "outputs": [
    {
     "ename": "NameError",
     "evalue": "name 'a' is not defined",
     "output_type": "error",
     "traceback": [
      "\u001b[0;31m---------------------------------------------------------------------------\u001b[0m",
      "\u001b[0;31mNameError\u001b[0m                                 Traceback (most recent call last)",
      "\u001b[0;32m<ipython-input-13-3650ba3bbfe8>\u001b[0m in \u001b[0;36m<module>\u001b[0;34m\u001b[0m\n\u001b[0;32m----> 1\u001b[0;31m \u001b[0ma\u001b[0m\u001b[0;34m\u001b[0m\u001b[0;34m\u001b[0m\u001b[0m\n\u001b[0m\u001b[1;32m      2\u001b[0m \u001b[0mequistore\u001b[0m\u001b[0;34m.\u001b[0m\u001b[0mTensorMap\u001b[0m\u001b[0;34m(\u001b[0m\u001b[0;34m)\u001b[0m\u001b[0;34m\u001b[0m\u001b[0;34m\u001b[0m\u001b[0m\n",
      "\u001b[0;31mNameError\u001b[0m: name 'a' is not defined"
     ]
    }
   ],
   "source": [
    "a\n",
    "equistore.TensorMap()"
   ]
  },
  {
   "cell_type": "code",
   "execution_count": 56,
   "metadata": {},
   "outputs": [],
   "source": [
    "hypers = {\n",
    "    \"cutoff\": 3.5,\n",
    "    \"max_radial\": 6,\n",
    "    \"max_angular\": 6,\n",
    "    \"atomic_gaussian_width\": 0.3,\n",
    "    \"radial_basis\": {\"Gto\": {}},\n",
    "    \"cutoff_function\": {\"ShiftedCosine\": {\"width\": 0.5}},\n",
    "    \"center_atom_weight\": 1.0,\n",
    "    \"gradients\": True,\n",
    "}\n",
    "\n",
    "calculator = SphericalExpansion(**hypers)\n",
    "\n",
    "descriptor = calculator.compute(frames)"
   ]
  },
  {
   "cell_type": "code",
   "execution_count": 57,
   "metadata": {},
   "outputs": [],
   "source": [
    "frames[0].positions-=50\n",
    "frames[0].cell *= 0\n",
    "frames[0].pbc = False"
   ]
  },
  {
   "cell_type": "code",
   "execution_count": 58,
   "metadata": {},
   "outputs": [
    {
     "data": {
      "text/plain": [
       "[Labels([(0,), (1,), (2,)], dtype=[('gradient_direction', '<i4')]),\n",
       " Labels([(0,)], dtype=[('spherical_harmonics_m', '<i4')])]"
      ]
     },
     "execution_count": 58,
     "metadata": {},
     "output_type": "execute_result"
    }
   ],
   "source": [
    "descriptor.block(0).gradient(\"positions\").components"
   ]
  },
  {
   "cell_type": "code",
   "execution_count": null,
   "metadata": {},
   "outputs": [],
   "source": []
  },
  {
   "cell_type": "code",
   "execution_count": null,
   "metadata": {},
   "outputs": [],
   "source": []
  }
 ],
 "metadata": {
  "kernelspec": {
   "display_name": "Python 3",
   "language": "python",
   "name": "python3"
  },
  "language_info": {
   "codemirror_mode": {
    "name": "ipython",
    "version": 3
   },
   "file_extension": ".py",
   "mimetype": "text/x-python",
   "name": "python",
   "nbconvert_exporter": "python",
   "pygments_lexer": "ipython3",
   "version": "3.8.10"
  },
  "toc": {
   "base_numbering": 1,
   "nav_menu": {},
   "number_sections": true,
   "sideBar": true,
   "skip_h1_title": false,
   "title_cell": "Table of Contents",
   "title_sidebar": "Contents",
   "toc_cell": false,
   "toc_position": {},
   "toc_section_display": true,
   "toc_window_display": false
  }
 },
 "nbformat": 4,
 "nbformat_minor": 4
}
